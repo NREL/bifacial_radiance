{
 "cells": [
  {
   "cell_type": "markdown",
   "metadata": {},
   "source": [
    "# 2 - bifacial_radiance Basic AgriPV Example\n",
    "\n",
    "\n",
    "This journal shows how to model an AgriPV site, calculating the irradiance not only on the modules but also the irradiance received by the ground to evaluate available solar ersource for plants. \n",
    "\n",
    "We assume that `bifacia_radiance` and `radiance` are properly installed.\n",
    "\n",
    "These journal outlines 4 useful uses of bifacial_radiance and some tricks: \n",
    "\n",
    "* Creating the modules in the AgriPV site\n",
    "* Adding extra geometry for the pillars/posts supporting the AgriPV site\n",
    "* Hacking the sensors to sample the ground irradiance and create irradiance map\n",
    "* Adding object to simulate variations in ground albedo from different crops between rows.\n",
    "\n",
    "\n",
    "#### Steps:\n",
    "\n",
    "1. <a href='#step1'> Generate the geometry </a>\n",
    "2. <a href='#step2'> Analyse the Ground Irradiance </a>\n",
    "3. <a href='#step3'> Analyse and Map the Ground Irradiance </a>\n",
    "4. <a href='#step4'> Adding different Albedo Section </a>\n",
    "    \n",
    "#### Preview of what we will create: \n",
    "    \n",
    "![Another view](images/AgriPV_2.PNG)\n",
    "![AgriPV Image We will create](images/AgriPV_1.PNG)\n",
    "And this is how it will look like:\n",
    "\n",
    "![AgriPV modeled step 4](images/AgriPV_step4.PNG)\n",
    "\n"
   ]
  },
  {
   "cell_type": "markdown",
   "metadata": {},
   "source": [
    "## 0. Setup "
   ]
  },
  {
   "cell_type": "code",
   "execution_count": null,
   "metadata": {},
   "outputs": [],
   "source": [
    "%%bash\n",
    "wget https://github.com/LBNL-ETA/Radiance/releases/download/012cb178/Radiance_012cb178_Linux.zip -O radiance.zip\n",
    "unzip radiance.zip\n",
    "tar -xvf radiance-5.3.012cb17835-Linux.tar.gz;"
   ]
  },
  {
   "cell_type": "code",
   "execution_count": null,
   "metadata": {},
   "outputs": [],
   "source": [
    "!pip install git+https://github.com/NREL/bifacial_radiance.git@development"
   ]
  },
  {
   "cell_type": "code",
   "execution_count": null,
   "metadata": {},
   "outputs": [],
   "source": [
    "#!cp -r radiance-5.3.012cb17835-Linux/usr/local/radiance/bin/* /usr/local/bin\n",
    "#!cp -r radiance-5.3.012cb17835-Linux/usr/local/radiance/lib/* /usr/local/lib\n",
    "#!rm -r radiance*"
   ]
  },
  {
   "cell_type": "code",
   "execution_count": null,
   "metadata": {},
   "outputs": [],
   "source": [
    "import os\n",
    "os.environ['PATH'] += \":radiance-5.3.012cb17835-Linux/usr/local/radiance/bin\"\n",
    "os.environ['LIBRARYPATH'] += \":radiance-5.3.012cb17835-Linux/usr/local/radiance/lib\"\n",
    "os.environ['RAYPATH'] = \":radiance-5.3.012cb17835-Linux/usr/local/radiance/lib\""
   ]
  },
  {
   "cell_type": "markdown",
   "metadata": {},
   "source": [
    "## 1. Create bifacial_radiance object"
   ]
  },
  {
   "cell_type": "code",
   "execution_count": null,
   "metadata": {},
   "outputs": [],
   "source": [
    "import bifacial_radiance as br\n",
    "import numpy as np\n",
    "import pandas as pd"
   ]
  },
  {
   "cell_type": "code",
   "execution_count": null,
   "metadata": {},
   "outputs": [],
   "source": [
    "# This information helps with debugging and getting support :)\n",
    "import sys, platform\n",
    "print(\"Working on a \", platform.system(), platform.release())\n",
    "print(\"Python version \", sys.version)\n",
    "print(\"Pandas version \", pd.__version__)\n",
    "print(\"bifacial_radiance version \", br.__version__)"
   ]
  },
  {
   "cell_type": "code",
   "execution_count": null,
   "metadata": {},
   "outputs": [],
   "source": [
    "import os\n",
    "from pathlib import Path\n",
    "\n",
    "testfolder = 'TEMP'\n",
    "\n",
    "if not os.path.exists(testfolder):\n",
    "    os.makedirs(testfolder)\n",
    "    \n",
    "print (\"Your simulation will be stored in %s\" % testfolder)"
   ]
  },
  {
   "cell_type": "code",
   "execution_count": null,
   "metadata": {},
   "outputs": [],
   "source": [
    "simulationname = 'tutorial_1'\n",
    "\n",
    "# Location:\n",
    "lat = 25.2854 # ° N, \n",
    "lon = 51.5310 # ° E\n",
    "\n",
    "# Scene Parameters:\n",
    "azimuth_ang=90 # Facing south\n",
    "tilt = 30 # tilt.\n",
    "numpanels = 3\n",
    "\n",
    "# MakeModule Parameters\n",
    "moduletype='test-module'\n",
    "numpanels = 3  # AgriPV site has 3 modules along the y direction\n",
    "module_x = 2 # m\n",
    "module_y = 1 # m. slope we will measure x>y landscape.\n",
    "ygap = 0.03 # m\n",
    "xgap = 1.5 # m\n",
    "\n",
    "# SceneDict Parameters\n",
    "pitch = 7 # m\n",
    "albedo = 0.2  # 'grass'     # ground albedo\n",
    "clearance_height = 2.5 # m  \n",
    "nMods = 5 # six modules per row.\n",
    "nRows = 3  # 3 row\n"
   ]
  },
  {
   "cell_type": "code",
   "execution_count": null,
   "metadata": {},
   "outputs": [],
   "source": [
    "demo = br.RadianceObj(simulationname,path = testfolder)  \n",
    "demo.setGround(albedo) \n",
    "epwfile = demo.getEPW(lat, lon) # NJ lat/lon 40.0583° N, 74.4057\n"
   ]
  },
  {
   "cell_type": "code",
   "execution_count": null,
   "metadata": {},
   "outputs": [],
   "source": [
    "module=demo.makeModule(name=moduletype,x=module_x,y=module_y)"
   ]
  },
  {
   "cell_type": "code",
   "execution_count": null,
   "metadata": {},
   "outputs": [],
   "source": [
    "#Valid options: mm_dd, mm_dd_HH, mm_dd_HHMM, YYYY-mm-dd_HHMM\n",
    "metdata = demo.readWeatherFile(epwfile, coerce_year=2023, starttime='2023-12-04', endtime='2023-12-04')"
   ]
  },
  {
   "cell_type": "code",
   "execution_count": null,
   "metadata": {},
   "outputs": [],
   "source": [
    "demo.gendaylit(timeindex=7)  "
   ]
  },
  {
   "cell_type": "code",
   "execution_count": null,
   "metadata": {},
   "outputs": [],
   "source": [
    "sceneDict = {'tilt':tilt,'pitch': pitch,'clearance_height':clearance_height,'azimuth':azimuth_ang, \n",
    "             'nMods': nMods, 'nRows': nRows}  \n",
    "scene = demo.makeScene(module=moduletype, sceneDict=sceneDict) "
   ]
  },
  {
   "cell_type": "code",
   "execution_count": null,
   "metadata": {},
   "outputs": [],
   "source": [
    "octfile = demo.makeOct()"
   ]
  },
  {
   "cell_type": "code",
   "execution_count": null,
   "metadata": {},
   "outputs": [],
   "source": [
    "analysis = br.AnalysisObj(octfile, demo.name)  \n",
    "frontscan, backscan = analysis.moduleAnalysis(scene, sensorsy=sensorsy)"
   ]
  },
  {
   "cell_type": "code",
   "execution_count": null,
   "metadata": {},
   "outputs": [],
   "source": [
    "analysis.analysis(octfile, simulationname+\"_modulescan\", frontscan, backscan)  # compare the back vs front irradiance  "
   ]
  }
 ],
 "metadata": {
  "kernelspec": {
   "display_name": "Python 3 (ipykernel)",
   "language": "python",
   "name": "python3"
  },
  "language_info": {
   "codemirror_mode": {
    "name": "ipython",
    "version": 3
   },
   "file_extension": ".py",
   "mimetype": "text/x-python",
   "name": "python",
   "nbconvert_exporter": "python",
   "pygments_lexer": "ipython3",
   "version": "3.11.4"
  },
  "vscode": {
   "interpreter": {
    "hash": "14c04630f1cd445b2532d35c77825134bfcafda47af70d0b9c2b5023b1f357a5"
   }
  }
 },
 "nbformat": 4,
 "nbformat_minor": 2
}
