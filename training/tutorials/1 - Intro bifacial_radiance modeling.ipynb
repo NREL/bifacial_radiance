{
 "cells": [
  {
   "attachments": {},
   "cell_type": "markdown",
   "metadata": {},
   "source": [
    "# 1 - Intro bifacial_radiance modeling \n",
    "\n",
    "This journal shows how to model using our tracker-dictionary, which takes care of each timestamp that will be simulated. This method allows for multiple scene Objects, and multiple Analysis results. For examples of using this tracker-dictionary with Cumulative sky, please see the Jupyter tutorils.\n",
    "\n",
    "Note that this is called a 'tracker-dictionary', but fixed systems can also be simulated.\n"
   ]
  },
  {
   "cell_type": "markdown",
   "metadata": {},
   "source": [
    "## 0. Setup "
   ]
  },
  {
   "cell_type": "code",
   "execution_count": null,
   "metadata": {},
   "outputs": [],
   "source": [
    "!pip install pyradiance"
   ]
  },
  {
   "cell_type": "code",
   "execution_count": null,
   "metadata": {},
   "outputs": [],
   "source": [
    "!pip install git+https://github.com/NREL/bifacial_radiance.git@development"
   ]
  },
  {
   "cell_type": "code",
   "execution_count": null,
   "metadata": {},
   "outputs": [],
   "source": [
    "import bifacial_radiance as br\n",
    "import numpy as np\n",
    "import pandas as pd"
   ]
  },
  {
   "cell_type": "code",
   "execution_count": null,
   "metadata": {},
   "outputs": [],
   "source": [
    "# This information helps with debugging and getting support :)\n",
    "import sys, platform\n",
    "print(\"Working on a \", platform.system(), platform.release())\n",
    "print(\"Python version \", sys.version)\n",
    "print(\"Pandas version \", pd.__version__)\n",
    "print(\"bifacial_radiance version \", br.__version__)"
   ]
  },
  {
   "cell_type": "markdown",
   "metadata": {},
   "source": [
    "## 1. bifacial_radiance Simulation"
   ]
  },
  {
   "cell_type": "code",
   "execution_count": null,
   "metadata": {},
   "outputs": [],
   "source": [
    "import os\n",
    "from pathlib import Path\n",
    "\n",
    "testfolder = 'Demo1'\n",
    "if not os.path.exists(testfolder):\n",
    "    os.makedirs(testfolder)\n",
    "print (\"Your simulation will be stored in %s\" % testfolder)"
   ]
  },
  {
   "cell_type": "code",
   "execution_count": null,
   "metadata": {},
   "outputs": [],
   "source": [
    "demo = br.RadianceObj('Demo1',path = testfolder)  "
   ]
  },
  {
   "cell_type": "markdown",
   "metadata": {},
   "source": [
    "### Download and read the weather data"
   ]
  },
  {
   "cell_type": "code",
   "execution_count": null,
   "metadata": {},
   "outputs": [],
   "source": [
    "epwfile = demo.getEPW(40.7608, -111.8910) \n",
    "\n",
    "metdata = demo.readWeatherFile(epwfile, coerce_year=2024, starttime='2024-08-27_1300', endtime='2024-08-27_1430')\n"
   ]
  },
  {
   "cell_type": "code",
   "execution_count": null,
   "metadata": {},
   "outputs": [],
   "source": [
    "demo.metdata.datetime"
   ]
  },
  {
   "cell_type": "markdown",
   "metadata": {},
   "source": [
    "### Set the albedo\n",
    "\n",
    "You can pass a value for  fixed value, an existing material in ground.rad, or empty it will grab the albedo column from the weatherdata "
   ]
  },
  {
   "cell_type": "code",
   "execution_count": null,
   "metadata": {},
   "outputs": [],
   "source": [
    "demo.setGround(0.2) "
   ]
  },
  {
   "cell_type": "markdown",
   "metadata": {},
   "source": [
    "### Make the module"
   ]
  },
  {
   "cell_type": "markdown",
   "metadata": {},
   "source": [
    "![AgriPV modeled step 4](images/spacing_between_modules.PNG)"
   ]
  },
  {
   "cell_type": "code",
   "execution_count": null,
   "metadata": {},
   "outputs": [],
   "source": [
    "# MakeModule Parameters\n",
    "numpanels = 1  # AgriPV site has 3 modules along the y direction\n",
    "module_x = 1 # m\n",
    "module_y = 2 # m. slope we will measure. if x>y module is in landscape-orientation.\n",
    "xgap = 0.02 # m\n",
    "zgap = 0.1 # m\n",
    "\n",
    "#Add torquetube \n",
    "tubeParams = {'tubetype':'square',  # other options: 'square', 'hex', 'round'\n",
    "              'diameter':0.1,  #m\n",
    "              'material':'Metal_Grey', # other common option: 'black'\n",
    "              'axisofrotation':True,\n",
    "              'visible':True}\n",
    "\n",
    "PVmodule=demo.makeModule(name='PVModule1',x=module_x,y=module_y,numpanels=numpanels, \n",
    "                       xgap=xgap, tubeParams=tubeParams)\n",
    "\n",
    "#Alternative:\n",
    "#PVmodule.addTorquetube(diameter=0.1, material='Metal_Grey', tubetype='square') # Object-oriented addition of features to the PV module"
   ]
  },
  {
   "cell_type": "markdown",
   "metadata": {},
   "source": [
    "## Make the trackerdictionary"
   ]
  },
  {
   "cell_type": "code",
   "execution_count": null,
   "metadata": {},
   "outputs": [],
   "source": [
    "limit_angle = 50 # tracker rotation limit angle. Setting it ridiculously small so this runs faster.\n",
    "angledelta = 0.01 # sampling between the limit angles. \n",
    "backtrack = True\n",
    "gcr = 0.33   # Ground coverage ratio, GCR = collector-width/pitch\n",
    "cumulativesky = False \n",
    "trackerdict = demo.set1axis(metdata = metdata, limit_angle = limit_angle, backtrack = backtrack, \n",
    "                            gcr = gcr, cumulativesky = cumulativesky)"
   ]
  },
  {
   "cell_type": "markdown",
   "metadata": {},
   "source": [
    "## Make the Sky"
   ]
  },
  {
   "cell_type": "code",
   "execution_count": null,
   "metadata": {},
   "outputs": [],
   "source": [
    "demo.gendaylit1axis()"
   ]
  },
  {
   "cell_type": "markdown",
   "metadata": {},
   "source": [
    "### Make the Scene"
   ]
  },
  {
   "cell_type": "code",
   "execution_count": null,
   "metadata": {},
   "outputs": [],
   "source": [
    "sceneDict = {'pitch': 6,'hub_height':2.5, 'nMods': 3, 'nRows': 1}  \n",
    "scene = demo.makeScene1axis(module=PVmodule, sceneDict=sceneDict) "
   ]
  },
  {
   "cell_type": "markdown",
   "metadata": {},
   "source": [
    "### Put it all together"
   ]
  },
  {
   "cell_type": "code",
   "execution_count": null,
   "metadata": {},
   "outputs": [],
   "source": [
    "octfile = demo.makeOct1axis()"
   ]
  },
  {
   "cell_type": "markdown",
   "metadata": {},
   "source": [
    "If desired, you can view the Oct file at this point:\n",
    "\n",
    "***rvu -vf views\\front.vp -e .01 tutorial_1.oct***"
   ]
  },
  {
   "cell_type": "code",
   "execution_count": null,
   "metadata": {},
   "outputs": [],
   "source": [
    "## Comment the ! line below to run rvu from the Jupyter notebook instead of your terminal.\n",
    "## Simulation will stop until you close the rvu window\n",
    "\n",
    "#!rvu -vf views\\front.vp -e .01 1axis_2024-08-27_1400.oct"
   ]
  },
  {
   "cell_type": "markdown",
   "metadata": {},
   "source": [
    "### Analyze the Panel"
   ]
  },
  {
   "cell_type": "code",
   "execution_count": null,
   "metadata": {},
   "outputs": [],
   "source": [
    "analysis = br.AnalysisObj()  "
   ]
  },
  {
   "cell_type": "code",
   "execution_count": null,
   "metadata": {},
   "outputs": [],
   "source": [
    "trackerdict = demo.analysis1axis(trackerdict, modWanted=2, rowWanted = 2, sensorsy=1)"
   ]
  },
  {
   "cell_type": "code",
   "execution_count": null,
   "metadata": {},
   "outputs": [],
   "source": [
    "results = demo.calculateResults()"
   ]
  },
  {
   "cell_type": "code",
   "execution_count": null,
   "metadata": {},
   "outputs": [],
   "source": [
    "demo.CompiledResults"
   ]
  }
 ],
 "metadata": {
  "kernelspec": {
   "display_name": "Python 3 (ipykernel)",
   "language": "python",
   "name": "python3"
  },
  "language_info": {
   "codemirror_mode": {
    "name": "ipython",
    "version": 3
   },
   "file_extension": ".py",
   "mimetype": "text/x-python",
   "name": "python",
   "nbconvert_exporter": "python",
   "pygments_lexer": "ipython3",
   "version": "3.11.7"
  },
  "vscode": {
   "interpreter": {
    "hash": "14c04630f1cd445b2532d35c77825134bfcafda47af70d0b9c2b5023b1f357a5"
   }
  }
 },
 "nbformat": 4,
 "nbformat_minor": 4
}
