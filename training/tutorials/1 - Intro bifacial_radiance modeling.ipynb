{
 "cells": [
  {
   "attachments": {},
   "cell_type": "markdown",
   "metadata": {},
   "source": [
    "# 1 - Intro bifacial_radiance modeling \n",
    "\n",
    "This journal shows how to model an AgriPV site, calculating the irradiance not only on the modules but also the irradiance received by the ground to evaluate available solar ersource for plants. \n",
    "\n",
    "We assume that `bifacia_radiance` and `radiance` are properly installed.\n",
    "\n",
    "These journal outlines 4 useful uses of bifacial_radiance and some tricks: \n",
    "\n",
    "* Creating the modules in the AgriPV site\n",
    "* Adding extra geometry for the pillars/posts supporting the AgriPV site\n",
    "* Hacking the sensors to sample the ground irradiance and create irradiance map\n",
    "* Adding object to simulate variations in ground albedo from different crops between rows.\n",
    "\n",
    "\n",
    "<b> Steps: </b>\n",
    "\n",
    "1. <a href='#step1'> Generate the geometry </a>\n",
    "2. <a href='#step2'> Analyse the Ground Irradiance </a>\n",
    "3. <a href='#step3'> Analyse and Map the Ground Irradiance </a>\n",
    "4. <a href='#step4'> Adding different Albedo Section </a>\n",
    "    \n"
   ]
  },
  {
   "cell_type": "markdown",
   "metadata": {},
   "source": [
    "## 0. Setup "
   ]
  },
  {
   "cell_type": "code",
   "execution_count": null,
   "metadata": {},
   "outputs": [],
   "source": [
    "!pip install pyradiance"
   ]
  },
  {
   "cell_type": "code",
   "execution_count": null,
   "metadata": {},
   "outputs": [],
   "source": [
    "!pip install git+https://github.com/NREL/bifacial_radiance.git@development"
   ]
  },
  {
   "cell_type": "code",
   "execution_count": 1,
   "metadata": {},
   "outputs": [],
   "source": [
    "import bifacial_radiance as br\n",
    "import numpy as np\n",
    "import pandas as pd"
   ]
  },
  {
   "cell_type": "code",
   "execution_count": 2,
   "metadata": {},
   "outputs": [
    {
     "name": "stdout",
     "output_type": "stream",
     "text": [
      "Working on a  Windows 10\n",
      "Python version  3.11.7 | packaged by Anaconda, Inc. | (main, Dec 15 2023, 18:05:47) [MSC v.1916 64 bit (AMD64)]\n",
      "Pandas version  2.1.0\n",
      "bifacial_radiance version  0.4.2+323.gdc53a62.dirty\n"
     ]
    }
   ],
   "source": [
    "# This information helps with debugging and getting support :)\n",
    "import sys, platform\n",
    "print(\"Working on a \", platform.system(), platform.release())\n",
    "print(\"Python version \", sys.version)\n",
    "print(\"Pandas version \", pd.__version__)\n",
    "print(\"bifacial_radiance version \", br.__version__)"
   ]
  },
  {
   "cell_type": "markdown",
   "metadata": {},
   "source": [
    "## 1. Create bifacial_radiance object"
   ]
  },
  {
   "cell_type": "code",
   "execution_count": 3,
   "metadata": {},
   "outputs": [
    {
     "name": "stdout",
     "output_type": "stream",
     "text": [
      "Your simulation will be stored in Demo1\n"
     ]
    }
   ],
   "source": [
    "import os\n",
    "from pathlib import Path\n",
    "\n",
    "testfolder = 'Demo1'\n",
    "if not os.path.exists(testfolder):\n",
    "    os.makedirs(testfolder)\n",
    "print (\"Your simulation will be stored in %s\" % testfolder)"
   ]
  },
  {
   "cell_type": "code",
   "execution_count": 4,
   "metadata": {},
   "outputs": [
    {
     "name": "stdout",
     "output_type": "stream",
     "text": [
      "path = Demo1\n"
     ]
    }
   ],
   "source": [
    "demo = br.RadianceObj('Demo1',path = testfolder)  "
   ]
  },
  {
   "cell_type": "markdown",
   "metadata": {},
   "source": [
    "### Download and read the weather data"
   ]
  },
  {
   "cell_type": "code",
   "execution_count": 5,
   "metadata": {},
   "outputs": [
    {
     "name": "stdout",
     "output_type": "stream",
     "text": [
      "Getting weather file: USA_UT_Salt.Lake.City.725720_TMY2.epw\n",
      " ... OK!\n",
      "8760 line in WeatherFile. Assuming this is a standard hourly WeatherFile for the year for purposes of saving Gencumulativesky temporary weather files in EPW folder.\n",
      "Coercing year to 2024\n",
      "Filtering dates\n",
      "Saving file EPWs\\metdata_temp.csv, # points: 8760\n",
      "Calculating Sun position for Metdata that is right-labeled  with a delta of -30 mins. i.e. 12 is 11:30 sunpos\n"
     ]
    }
   ],
   "source": [
    "epwfile = demo.getEPW(40.7608, -111.8910) \n",
    "\n",
    "metdata = demo.readWeatherFile(epwfile, coerce_year=2024, starttime='2024-08-27_1300', endtime='2024-08-27_1430')\n"
   ]
  },
  {
   "cell_type": "code",
   "execution_count": 6,
   "metadata": {},
   "outputs": [
    {
     "data": {
      "text/plain": [
       "[Timestamp('2024-08-27 13:00:00-0700', tz='UTC-07:00'),\n",
       " Timestamp('2024-08-27 14:00:00-0700', tz='UTC-07:00')]"
      ]
     },
     "execution_count": 6,
     "metadata": {},
     "output_type": "execute_result"
    }
   ],
   "source": [
    "demo.metdata.datetime"
   ]
  },
  {
   "cell_type": "markdown",
   "metadata": {},
   "source": [
    "### Set the albedo\n",
    "\n",
    "You can pass a value for  fixed value, an existing material in ground.rad, or empty it will grab the albedo column from the weatherdata "
   ]
  },
  {
   "cell_type": "code",
   "execution_count": 14,
   "metadata": {},
   "outputs": [
    {
     "name": "stdout",
     "output_type": "stream",
     "text": [
      "Loading albedo, 1 value(s), 0.200 avg\n",
      "1 nonzero albedo values.\n"
     ]
    }
   ],
   "source": [
    "demo.setGround(0.2) "
   ]
  },
  {
   "cell_type": "markdown",
   "metadata": {},
   "source": [
    "### Make the module"
   ]
  },
  {
   "cell_type": "markdown",
   "metadata": {},
   "source": [
    "![AgriPV modeled step 4](images/spacing_between_modules.PNG)"
   ]
  },
  {
   "cell_type": "code",
   "execution_count": 8,
   "metadata": {},
   "outputs": [
    {
     "name": "stdout",
     "output_type": "stream",
     "text": [
      "\n",
      "Module Name: PVModule1\n",
      "Module PVModule1 updated in module.json\n",
      "Pre-existing .rad file objects\\PVModule1.rad will be overwritten\n",
      "\n",
      "Module PVModule1 updated in module.json\n",
      "Pre-existing .rad file objects\\PVModule1.rad will be overwritten\n",
      "\n"
     ]
    }
   ],
   "source": [
    "# MakeModule Parameters\n",
    "numpanels = 1  # AgriPV site has 3 modules along the y direction\n",
    "module_x = 1 # m\n",
    "module_y = 2 # m. slope we will measure. if x>y module is in landscape-orientation.\n",
    "xgap = 0.02 # m\n",
    "zgap = 0.1 # m\n",
    "\n",
    "#Add torquetube \n",
    "tubeParams = {'tubetype':'round',  # other options: 'square', 'hex', 'round'\n",
    "              'diameter':0.1,  #m\n",
    "              'material':'Metal_Grey', # other common option: 'black'\n",
    "              'axisofrotation':True,\n",
    "              'visible':True}\n",
    "\n",
    "PVmodule=demo.makeModule(name='PVModule1',x=module_x,y=module_y,numpanels=numpanels, \n",
    "                       xgap=xgap, zgap=zgap, tubeParams=tubeParams)\n",
    "\n",
    "#Alternative:\n",
    "PVmodule.addTorquetube(diameter=0.1, material='Metal_Grey', tubetype='round') # Object-oriented addition of features to the PV module"
   ]
  },
  {
   "cell_type": "markdown",
   "metadata": {},
   "source": [
    "## Make the trackerdictionary"
   ]
  },
  {
   "cell_type": "code",
   "execution_count": 9,
   "metadata": {},
   "outputs": [],
   "source": [
    "limit_angle = 50 # tracker rotation limit angle. Setting it ridiculously small so this runs faster.\n",
    "angledelta = 0.01 # sampling between the limit angles. \n",
    "backtrack = True\n",
    "gcr = 0.33   # Ground coverage ratio, GCR = collector-width/pitch\n",
    "cumulativesky = False \n",
    "trackerdict = demo.set1axis(metdata = metdata, limit_angle = limit_angle, backtrack = backtrack, \n",
    "                            gcr = gcr, cumulativesky = cumulativesky)"
   ]
  },
  {
   "cell_type": "markdown",
   "metadata": {},
   "source": [
    "## Make the Sky"
   ]
  },
  {
   "cell_type": "code",
   "execution_count": 10,
   "metadata": {},
   "outputs": [
    {
     "name": "stdout",
     "output_type": "stream",
     "text": [
      "Creating ~2 skyfiles. \n",
      "Created 2 skyfiles in /skies/\n"
     ]
    },
    {
     "data": {
      "text/plain": [
       "{'2024-08-27_1300': {'surf_azm': 270.0,\n",
       "  'surf_tilt': 0.24,\n",
       "  'theta': 0.24,\n",
       "  'dni': 753,\n",
       "  'ghi': 865,\n",
       "  'dhi': 215,\n",
       "  'temp_air': 28.9,\n",
       "  'wind_speed': 9.3,\n",
       "  'skyfile': 'skies\\\\sky2_40.77_-111.97_2024-08-27_1300.rad'},\n",
       " '2024-08-27_1400': {'surf_azm': 270.0,\n",
       "  'surf_tilt': 17.31,\n",
       "  'theta': 17.31,\n",
       "  'dni': 867,\n",
       "  'ghi': 872,\n",
       "  'dhi': 146,\n",
       "  'temp_air': 29.4,\n",
       "  'wind_speed': 7.7,\n",
       "  'skyfile': 'skies\\\\sky2_40.77_-111.97_2024-08-27_1400.rad'}}"
      ]
     },
     "execution_count": 10,
     "metadata": {},
     "output_type": "execute_result"
    }
   ],
   "source": [
    "demo.gendaylit1axis()"
   ]
  },
  {
   "cell_type": "markdown",
   "metadata": {},
   "source": [
    "### Make the Scene"
   ]
  },
  {
   "cell_type": "code",
   "execution_count": 11,
   "metadata": {},
   "outputs": [
    {
     "name": "stdout",
     "output_type": "stream",
     "text": [
      "\n",
      "Making ~2 .rad files for gendaylit 1-axis workflow (this takes a minute..)\n",
      "2 Radfiles created in /objects/\n"
     ]
    }
   ],
   "source": [
    "sceneDict = {'pitch': 6,'hub_height':2.5, 'nMods': 3, 'nRows': 1}  \n",
    "scene = demo.makeScene1axis(module=PVmodule, sceneDict=sceneDict) "
   ]
  },
  {
   "cell_type": "markdown",
   "metadata": {},
   "source": [
    "### Put it all together"
   ]
  },
  {
   "cell_type": "code",
   "execution_count": 15,
   "metadata": {},
   "outputs": [
    {
     "name": "stdout",
     "output_type": "stream",
     "text": [
      "\n",
      "Making 2 octfiles in root directory.\n",
      "Created 1axis_2024-08-27_1300.oct\n",
      "Created 1axis_2024-08-27_1400.oct\n"
     ]
    }
   ],
   "source": [
    "octfile = demo.makeOct1axis()"
   ]
  },
  {
   "cell_type": "markdown",
   "metadata": {},
   "source": [
    "If desired, you can view the Oct file at this point:\n",
    "\n",
    "***rvu -vf views\\front.vp -e .01 tutorial_1.oct***"
   ]
  },
  {
   "cell_type": "code",
   "execution_count": 17,
   "metadata": {},
   "outputs": [],
   "source": [
    "## Comment the ! line below to run rvu from the Jupyter notebook instead of your terminal.\n",
    "## Simulation will stop until you close the rvu window\n",
    "\n",
    "#!rvu -vf views\\front.vp -e .01 1axis_2024-08-27_1400.oct"
   ]
  },
  {
   "cell_type": "markdown",
   "metadata": {},
   "source": [
    "### Analyze the Panel"
   ]
  },
  {
   "cell_type": "code",
   "execution_count": 18,
   "metadata": {},
   "outputs": [],
   "source": [
    "analysis = br.AnalysisObj()  "
   ]
  },
  {
   "cell_type": "code",
   "execution_count": 19,
   "metadata": {},
   "outputs": [
    {
     "name": "stdout",
     "output_type": "stream",
     "text": [
      "Linescan in process: 1axis_2024-08-27_1300_Scene0_Row2_Module2_Front\n",
      "Linescan in process: 1axis_2024-08-27_1300_Scene0_Row2_Module2_Back\n",
      "Saved: results\\irr_1axis_2024-08-27_1300_Scene0_Row2_Module2.csv\n",
      "Index: 2024-08-27_1300. Wm2Front: 855.4167000000001. Wm2Back: 66.99051\n",
      "Linescan in process: 1axis_2024-08-27_1400_Scene0_Row2_Module2_Front\n",
      "Linescan in process: 1axis_2024-08-27_1400_Scene0_Row2_Module2_Back\n",
      "Saved: results\\irr_1axis_2024-08-27_1400_Scene0_Row2_Module2.csv\n",
      "Index: 2024-08-27_1400. Wm2Front: 861.7214. Wm2Back: 47.13737\n"
     ]
    }
   ],
   "source": [
    "trackerdict = demo.analysis1axis(trackerdict, modWanted=2, rowWanted = 2, sensorsy=1)"
   ]
  },
  {
   "cell_type": "code",
   "execution_count": 20,
   "metadata": {},
   "outputs": [
    {
     "name": "stdout",
     "output_type": "stream",
     "text": [
      "No CECModule data passed; using default for Prism Solar BHC72-400\n",
      "Bifaciality factor of module stored is  1\n"
     ]
    }
   ],
   "source": [
    "results = demo.calculateResults()"
   ]
  },
  {
   "cell_type": "code",
   "execution_count": 21,
   "metadata": {},
   "outputs": [
    {
     "data": {
      "text/html": [
       "<div>\n",
       "<style scoped>\n",
       "    .dataframe tbody tr th:only-of-type {\n",
       "        vertical-align: middle;\n",
       "    }\n",
       "\n",
       "    .dataframe tbody tr th {\n",
       "        vertical-align: top;\n",
       "    }\n",
       "\n",
       "    .dataframe thead th {\n",
       "        text-align: right;\n",
       "    }\n",
       "</style>\n",
       "<table border=\"1\" class=\"dataframe\">\n",
       "  <thead>\n",
       "    <tr style=\"text-align: right;\">\n",
       "      <th></th>\n",
       "      <th>timestamp</th>\n",
       "      <th>name</th>\n",
       "      <th>modNum</th>\n",
       "      <th>rowNum</th>\n",
       "      <th>sceneNum</th>\n",
       "      <th>x</th>\n",
       "      <th>y</th>\n",
       "      <th>z</th>\n",
       "      <th>mattype</th>\n",
       "      <th>rearMat</th>\n",
       "      <th>...</th>\n",
       "      <th>Pout_raw</th>\n",
       "      <th>Pout_Gfront</th>\n",
       "      <th>BGG</th>\n",
       "      <th>BGE</th>\n",
       "      <th>Mismatch</th>\n",
       "      <th>Pout</th>\n",
       "      <th>Wind Speed</th>\n",
       "      <th>DNI</th>\n",
       "      <th>DHI</th>\n",
       "      <th>GHI</th>\n",
       "    </tr>\n",
       "  </thead>\n",
       "  <tbody>\n",
       "    <tr>\n",
       "      <th>0</th>\n",
       "      <td>2024-08-27_1300</td>\n",
       "      <td>1axis_2024-08-27_1300_Scene0</td>\n",
       "      <td>2</td>\n",
       "      <td>2</td>\n",
       "      <td>0</td>\n",
       "      <td>[-6.000716]</td>\n",
       "      <td>[3.673502e-16]</td>\n",
       "      <td>[2.670998]</td>\n",
       "      <td>[groundplane]</td>\n",
       "      <td>[sky]</td>\n",
       "      <td>...</td>\n",
       "      <td>NaN</td>\n",
       "      <td>NaN</td>\n",
       "      <td>NaN</td>\n",
       "      <td>NaN</td>\n",
       "      <td>NaN</td>\n",
       "      <td>NaN</td>\n",
       "      <td>9.3</td>\n",
       "      <td>753</td>\n",
       "      <td>215</td>\n",
       "      <td>865</td>\n",
       "    </tr>\n",
       "    <tr>\n",
       "      <th>1</th>\n",
       "      <td>2024-08-27_1400</td>\n",
       "      <td>1axis_2024-08-27_1400_Scene0</td>\n",
       "      <td>2</td>\n",
       "      <td>2</td>\n",
       "      <td>0</td>\n",
       "      <td>[-6.05088]</td>\n",
       "      <td>[3.642786e-16]</td>\n",
       "      <td>[2.663255]</td>\n",
       "      <td>[groundplane]</td>\n",
       "      <td>[sky]</td>\n",
       "      <td>...</td>\n",
       "      <td>NaN</td>\n",
       "      <td>NaN</td>\n",
       "      <td>NaN</td>\n",
       "      <td>NaN</td>\n",
       "      <td>NaN</td>\n",
       "      <td>NaN</td>\n",
       "      <td>7.7</td>\n",
       "      <td>867</td>\n",
       "      <td>146</td>\n",
       "      <td>872</td>\n",
       "    </tr>\n",
       "  </tbody>\n",
       "</table>\n",
       "<p>2 rows × 29 columns</p>\n",
       "</div>"
      ],
      "text/plain": [
       "         timestamp                          name modNum rowNum sceneNum  \\\n",
       "0  2024-08-27_1300  1axis_2024-08-27_1300_Scene0      2      2        0   \n",
       "1  2024-08-27_1400  1axis_2024-08-27_1400_Scene0      2      2        0   \n",
       "\n",
       "             x               y           z        mattype rearMat  ...  \\\n",
       "0  [-6.000716]  [3.673502e-16]  [2.670998]  [groundplane]   [sky]  ...   \n",
       "1   [-6.05088]  [3.642786e-16]  [2.663255]  [groundplane]   [sky]  ...   \n",
       "\n",
       "  Pout_raw Pout_Gfront BGG BGE Mismatch Pout  Wind Speed  DNI  DHI  GHI  \n",
       "0      NaN         NaN NaN NaN      NaN  NaN         9.3  753  215  865  \n",
       "1      NaN         NaN NaN NaN      NaN  NaN         7.7  867  146  872  \n",
       "\n",
       "[2 rows x 29 columns]"
      ]
     },
     "execution_count": 21,
     "metadata": {},
     "output_type": "execute_result"
    }
   ],
   "source": [
    "demo.CompiledResults"
   ]
  }
 ],
 "metadata": {
  "kernelspec": {
   "display_name": "Python 3 (ipykernel)",
   "language": "python",
   "name": "python3"
  },
  "language_info": {
   "codemirror_mode": {
    "name": "ipython",
    "version": 3
   },
   "file_extension": ".py",
   "mimetype": "text/x-python",
   "name": "python",
   "nbconvert_exporter": "python",
   "pygments_lexer": "ipython3",
   "version": "3.11.7"
  },
  "vscode": {
   "interpreter": {
    "hash": "14c04630f1cd445b2532d35c77825134bfcafda47af70d0b9c2b5023b1f357a5"
   }
  }
 },
 "nbformat": 4,
 "nbformat_minor": 4
}
