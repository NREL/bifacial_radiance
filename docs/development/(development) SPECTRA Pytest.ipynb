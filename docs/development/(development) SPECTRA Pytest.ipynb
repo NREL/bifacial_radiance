{
 "cells": [
  {
   "cell_type": "code",
   "execution_count": null,
   "id": "a3fcc379",
   "metadata": {},
   "outputs": [],
   "source": [
    "testfolder = r'C:\\Users\\sayala\\Documents\\GitHub\\bifacial_radiance\\bifacial_radiance\\TEMP'\n",
    "weatherfile = r'C:\\Users\\sayala\\Documents\\GitHub\\bifacial_radiance\\tests\\USA_CO_Boulder.724699_TMY2.epw' \n",
    "spectrafolder = r'C:\\Users\\sayala\\Documents\\GitHub\\bifacial_radiance\\tests\\spectra'\n"
   ]
  },
  {
   "cell_type": "markdown",
   "id": "e712f94c",
   "metadata": {},
   "source": [
    "# 1 ) Generate Spectra for 1 timestamp\n"
   ]
  },
  {
   "cell_type": "code",
   "execution_count": 16,
   "id": "d51a8650",
   "metadata": {},
   "outputs": [],
   "source": [
    "idx = 4020"
   ]
  },
  {
   "cell_type": "code",
   "execution_count": 1,
   "id": "3904fb83",
   "metadata": {},
   "outputs": [],
   "source": [
    "import bifacial_radiance as br\n",
    "rad_obj = br.RadianceObj('TEMP', testfolder)\n",
    "metdata = rad_obj.readWeatherFile(weatherfile)\n",
    "br.spectral_utils.gen_spectra(idx, rad_obj.metdata, material='Grass', spectra_folder=spectrafolder)\n"
   ]
  },
  {
   "cell_type": "code",
   "execution_count": 3,
   "id": "35f7e376",
   "metadata": {},
   "outputs": [],
   "source": [
    "# Improvements: \n",
    "# Create new SPECTRA Folder on the Radiance Scene Folder to save spectras in automatically\n",
    "# Search for metdata internally if not passed\n",
    "# Start using timestamps instead of indexes\n",
    "# generate spectras and save values internally as part of the rad_obj ~ \n",
    "# generate spectras for all indexes in metdata automatically (might take a while for the year if readWeatherFile is not restricted)\n",
    "# pySMARTS: interactive folder selectro to choose where Smarts executable is at, in case it doesn't find it in the Environment Variables\n"
   ]
  },
  {
   "cell_type": "markdown",
   "id": "81338c9d",
   "metadata": {},
   "source": [
    "# 2) Call spectra for that timestamp"
   ]
  },
  {
   "cell_type": "code",
   "execution_count": 14,
   "id": "6ceedfc5",
   "metadata": {},
   "outputs": [],
   "source": [
    "wavelength = 700"
   ]
  },
  {
   "cell_type": "code",
   "execution_count": null,
   "id": "ec74423a",
   "metadata": {},
   "outputs": [],
   "source": [
    "# spectral_utils generates files with this suffix\n",
    "suffix = f'_{idx:04}.txt'\n",
    "\n",
    "# Load albedo\n",
    "alb_file = Path(spectra_folder, \"alb\"+suffix)\n",
    "spectral_alb = br.spectral_utils.spectral_property.load_file(alb_file)\n",
    "\n",
    "# Generate/Load dni and dhi\n",
    "dni_file = os.path.join(spectra_folder, \"dni\"+suffix)\n",
    "dhi_file = os.path.join(spectra_folder, \"dhi\"+suffix)\n",
    "ghi_file = os.path.join(spectra_folder, \"ghi\"+suffix)\n",
    "spectral_dni = br.spectral_utils.spectral_property.load_file(dni_file)\n",
    "spectral_dhi = br.spectral_utils.spectral_property.load_file(dhi_file)\n",
    "spectral_ghi = br.spectral_utils.spectral_property.load_file(ghi_file)\n",
    "\n",
    "alb = spectral_alb[wavelength]\n",
    "dni = spectral_dni[wavelength]\n",
    "dhi = spectral_dhi[wavelength]\n",
    "ghi = spectral_ghi[wavelength]\n",
    "\n",
    "rad_obj.setGround(alb) # this option is for spectral-albedo\n",
    "solpos = rad_obj.metdata.solpos.iloc[idx]\n",
    "zen = float(solpos.zenith)\n",
    "azm = float(solpos.azimuth) - 180\n",
    "rad_obj.gendaylit2manual(dni, dhi, 90 - zen, azm)\n",
    "\n",
    "sceneDict = {'tilt':tilt, 'pitch':0.0001, 'clearance_height':2.0,\n",
    "                     'azimuth':180, 'nMods':1, 'nRows':1}\n",
    "sceneObj = rad_obj.makeScene(moduletype=module_type,sceneDict=sceneDict) \n",
    "\n",
    "# Build oct file            \n",
    "octfile = rad_obj.makeOct(octname=f'Oct_{idx:04}')\n",
    "analysis = br.AnalysisObj(octfile, rad_obj.basename)  \n",
    "frontscan, backscan = analysis.moduleAnalysis(sceneObj, sensorsy=3)\n",
    "res_name = f'CenterRow_Center_{idx:04}'\n",
    "frontdict, backdict = analysis.analysis(octfile, res_name, frontscan, backscan)"
   ]
  }
 ],
 "metadata": {
  "kernelspec": {
   "display_name": "Python 3 (ipykernel)",
   "language": "python",
   "name": "python3"
  },
  "language_info": {
   "codemirror_mode": {
    "name": "ipython",
    "version": 3
   },
   "file_extension": ".py",
   "mimetype": "text/x-python",
   "name": "python",
   "nbconvert_exporter": "python",
   "pygments_lexer": "ipython3",
   "version": "3.8.8"
  }
 },
 "nbformat": 4,
 "nbformat_minor": 5
}
