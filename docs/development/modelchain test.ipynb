{
 "cells": [
  {
   "cell_type": "code",
   "execution_count": 1,
   "id": "c15c77ea",
   "metadata": {},
   "outputs": [],
   "source": [
    "import bifacial_radiance\n",
    "import os\n",
    "import pandas as pd"
   ]
  },
  {
   "cell_type": "code",
   "execution_count": 2,
   "id": "b96adf39",
   "metadata": {},
   "outputs": [],
   "source": [
    "inifile = r'C:\\Users\\sayala\\Documents\\GitHub\\bifacial_radiance\\tests\\ini_highAzimuth.ini'\n",
    "#inifile = r'C:\\Users\\sayala\\Documents\\GitHub\\bifacial_radiance\\tests\\ini_gencumsky.ini'\n",
    "#inifile = r'C:\\Users\\sayala\\Documents\\GitHub\\bifacial_radiance\\tests\\ini_1axis.ini'\n",
    "\n",
    "weatherfile = r'C:\\Users\\sayala\\Documents\\GitHub\\bifacial_radiance\\tests\\724666TYA.csv'\n",
    "testfolder = r'C:\\Users\\sayala\\Documents\\GitHub\\bifacial_radiance\\bifacial_radiance\\TEMP\\Modelchain'"
   ]
  },
  {
   "cell_type": "code",
   "execution_count": 3,
   "id": "32cfa50d",
   "metadata": {},
   "outputs": [
    {
     "name": "stdout",
     "output_type": "stream",
     "text": [
      "Loading times to restrict weather data to\n"
     ]
    }
   ],
   "source": [
    "(Params)= bifacial_radiance.load.readconfigurationinputfile(inifile=inifile)"
   ]
  },
  {
   "cell_type": "code",
   "execution_count": 4,
   "id": "96f8b309",
   "metadata": {},
   "outputs": [
    {
     "data": {
      "text/plain": [
       "({'weatherFile': '724666TYA.CSV',\n",
       "  'getEPW': False,\n",
       "  'simulationname': '_test_high_azimuth_angle_modelchain',\n",
       "  'moduletype': 'test-module',\n",
       "  'rewriteModule': True,\n",
       "  'cellLevelModule': False,\n",
       "  'axisofrotationTorqueTube': False,\n",
       "  'torqueTube': False,\n",
       "  'hpc': False,\n",
       "  'tracking': False,\n",
       "  'cumulativeSky': False,\n",
       "  'selectTimes': True,\n",
       "  'latitude': '37.5',\n",
       "  'longitude': '-77.6'},\n",
       " {'albedo': 'white_EPDM',\n",
       "  'nMods': 10,\n",
       "  'nRows': 3,\n",
       "  'gcrorpitch': 'pitch',\n",
       "  'pitch': 1.5,\n",
       "  'azimuth': 30.0,\n",
       "  'clearance_height': 0.2,\n",
       "  'tilt': 10.0},\n",
       " {'starttime': '06_17_13', 'endtime': '06_17_13'},\n",
       " {'bifi': 0.8,\n",
       "  'numpanels': 1,\n",
       "  'xgap': 0.0,\n",
       "  'ygap': 0.0,\n",
       "  'zgap': 0.0,\n",
       "  'x': 1.59,\n",
       "  'y': 0.95},\n",
       " None,\n",
       " None,\n",
       " {'sensorsy': (8, 9), 'modWanted': 5, 'rowWanted': 2},\n",
       " None,\n",
       " {'alpha_sc': 0.0039216,\n",
       "  'a_ref': 1.80227,\n",
       "  'I_L_ref': 10.5308,\n",
       "  'I_o_ref': 2.28e-11,\n",
       "  'R_sh_ref': 900.982,\n",
       "  'R_s': 0.285529,\n",
       "  'Adjust': 4.39011})"
      ]
     },
     "execution_count": 4,
     "metadata": {},
     "output_type": "execute_result"
    }
   ],
   "source": [
    "Params"
   ]
  },
  {
   "cell_type": "code",
   "execution_count": 5,
   "id": "eccc942e",
   "metadata": {},
   "outputs": [],
   "source": [
    "Params[0]['testfolder'] = testfolder\n",
    "Params[0]['weatherFile'] = weatherfile\n",
    "Params[2].update({'starttime': '06_17_13', 'endtime':'06_17_14'}); "
   ]
  },
  {
   "cell_type": "code",
   "execution_count": 6,
   "id": "5b04c1c7",
   "metadata": {},
   "outputs": [],
   "source": [
    "Params[6]['modWanted'] = [1, 3]"
   ]
  },
  {
   "cell_type": "code",
   "execution_count": 7,
   "id": "72cc6f26",
   "metadata": {},
   "outputs": [
    {
     "name": "stdout",
     "output_type": "stream",
     "text": [
      "\n",
      "New bifacial_radiance simulation starting. \n",
      "Version:  0.4.1+16.g0c78455.dirty\n",
      "path = C:\\Users\\sayala\\Documents\\GitHub\\bifacial_radiance\\bifacial_radiance\\TEMP\\Modelchain\n",
      "Loading times to restrict weather data to\n",
      "analysisParamsDict['modWanted'] set to middle module by default\n",
      "Reading weather file C:\\Users\\sayala\\Documents\\GitHub\\bifacial_radiance\\tests\\724666TYA.csv\n",
      "Warning: CSV file passed for input. Assuming it is TMY3style format\n",
      "8760 line in WeatherFile. Assuming this is a standard hourly WeatherFile for the year for purposes of saving Gencumulativesky temporary weather files in EPW folder.\n",
      "Coercing year to 2021\n",
      "Filtering dates\n",
      "Saving file EPWs\\metdata_temp.csv, # points: 8760\n",
      "Calculating Sun position for Metdata that is right-labeled  with a delta of -30 mins. i.e. 12 is 11:30 sunpos\n",
      "Loading albedo, 1 value(s), 0.800 avg\n",
      "1 nonzero albedo values.\n",
      "Available module names: ['PrismSolar-Bi60', 'basic-module', 'test-module']\n",
      "\n",
      "Module Name: test-module\n",
      "Module test-module updated in module.json\n",
      "Pre-existing .rad file objects\\test-module.rad will be overwritten\n",
      "\n",
      "\n",
      "Using Pre-determined Module Type: test-module \n",
      "Creating ~2 skyfiles. \n",
      "Created 2 skyfiles in /skies/\n",
      "\n",
      "Making ~2 .rad files for gendaylit 1-axis workflow (this takes a minute..)\n",
      "2 Radfiles created in /objects/\n",
      "\n",
      "Making 2 octfiles in root directory.\n",
      "Created 1axis_2021-06-17_1300.oct\n",
      "Created 1axis_2021-06-17_1400.oct\n",
      "Linescan in process: 1axis_2021-06-17_1300_Row2_Module5_Front\n",
      "Linescan in process: 1axis_2021-06-17_1300_Row2_Module5_Back\n",
      "Saved: results\\irr_1axis_2021-06-17_1300_Row2_Module5_Front.csv\n",
      "Saved: results\\irr_1axis_2021-06-17_1300_Row2_Module5_Back.csv\n",
      "Index: 2021-06-17_1300. Wm2Front: 897.6890375. Wm2Back: 188.0002166666667\n",
      "Linescan in process: 1axis_2021-06-17_1400_Row2_Module5_Front\n",
      "Linescan in process: 1axis_2021-06-17_1400_Row2_Module5_Back\n",
      "Saved: results\\irr_1axis_2021-06-17_1400_Row2_Module5_Front.csv\n",
      "Saved: results\\irr_1axis_2021-06-17_1400_Row2_Module5_Back.csv\n",
      "Index: 2021-06-17_1400. Wm2Front: 646.1976916666667. Wm2Back: 152.18251999999998\n",
      "\n",
      "--> Calculating Performance values\n",
      "Bifaciality factor of module stored is  0.8\n",
      "Exporting TrackerDict\n"
     ]
    }
   ],
   "source": [
    "demo2, analysis = bifacial_radiance.modelchain.runModelChain(*Params ) "
   ]
  },
  {
   "cell_type": "code",
   "execution_count": null,
   "id": "1d1adb8d",
   "metadata": {},
   "outputs": [],
   "source": [
    "analysis -- Wm2Back adn Wm2Front\n"
   ]
  },
  {
   "cell_type": "code",
   "execution_count": 13,
   "id": "86970d4e",
   "metadata": {},
   "outputs": [
    {
     "data": {
      "text/plain": [
       "{'metdata': <bifacial_radiance.main.MetObj at 0x190eee00f10>,\n",
       " 'data': {},\n",
       " 'path': 'C:\\\\Users\\\\sayala\\\\Documents\\\\GitHub\\\\bifacial_radiance\\\\bifacial_radiance\\\\TEMP\\\\Modelchain',\n",
       " 'name': '2021-06-17_1400',\n",
       " 'materialfiles': ['materials\\\\ground.rad'],\n",
       " 'skyfiles': ['skies\\\\sky2_39.742_-105.179_2021-06-17_1400.rad'],\n",
       " 'radfiles': [],\n",
       " 'octfile': '1axis_2021-06-17_1400.oct',\n",
       " 'Wm2Front': 0,\n",
       " 'Wm2Back': 0,\n",
       " 'backRatio': 0,\n",
       " 'nMods': 10,\n",
       " 'nRows': 3,\n",
       " 'hpc': False,\n",
       " 'nowstr': '2022-03-11_1138',\n",
       " 'basename': '_test_high_azimuth_angle_modelchain',\n",
       " 'gencumsky_metfile': 'EPWs\\\\metdata_temp.csv',\n",
       " 'ground': <bifacial_radiance.main.GroundObj at 0x190ec97ee50>,\n",
       " 'module': {'x': 1.59, 'y': 0.95, 'z': 0.02, 'modulematerial': 'black', 'scenex': 1.59, 'sceney': 0.95, 'scenez': 0.0, 'numpanels': 1, 'bifi': 0.8, 'text': '! genbox black test-module 1.59 0.95 0.02 | xform -t -0.795 -0.475 0 -a 1 -t 0 0.95 0', 'modulefile': 'objects\\\\test-module.rad', 'glass': False, 'offsetfromaxis': 0, 'xgap': 0.0, 'ygap': 0.0, 'zgap': 0.0},\n",
       " 'trackerdict': {'2021-06-17_1300': {'surf_azm': 30.0,\n",
       "   'surf_tilt': 10.0,\n",
       "   'theta': 10.0,\n",
       "   'ghi': 959,\n",
       "   'dhi': 172,\n",
       "   'temp_air': 28.9,\n",
       "   'wind_speed': 6.2,\n",
       "   'skyfile': 'skies\\\\sky2_39.742_-105.179_2021-06-17_1300.rad',\n",
       "   'clearance_height': 0.2,\n",
       "   'radfile': 'objects\\\\1axis2021-06-17_1300__C_0.20000_rtr_1.50000_tilt_10.00000_10modsx3rows_origin0,0.rad',\n",
       "   'scene': {'module': {'x': 1.59, 'y': 0.95, 'z': 0.02, 'modulematerial': 'black', 'scenex': 1.59, 'sceney': 0.95, 'scenez': 0.0, 'numpanels': 1, 'bifi': 0.8, 'text': '! genbox black test-module 1.59 0.95 0.02 | xform -t -0.795 -0.475 0 -a 1 -t 0 0.95 0', 'modulefile': 'objects\\\\test-module.rad', 'glass': False, 'offsetfromaxis': 0, 'xgap': 0.0, 'ygap': 0.0, 'zgap': 0.0}, 'modulefile': 'objects\\\\test-module.rad', 'hpc': False, 'gcr': 0.6333333333333333, 'text': '!xform -rx 10.0 -t 0 0 0.2824828843917919 -a 10 -t 1.59 0 0 -a 3 -t 0 1.5 0 -i 1 -t -6.36 -1.5 0 -rz 150.0 -t 0 0 0 objects\\\\test-module.rad', 'radfiles': 'objects\\\\1axis2021-06-17_1300__C_0.20000_rtr_1.50000_tilt_10.00000_10modsx3rows_origin0,0.rad', 'sceneDict': {'tilt': 10.0, 'pitch': 1.5, 'clearance_height': 0.2, 'azimuth': 30.0, 'nMods': 10, 'nRows': 3, 'modulez': 0.02, 'axis_tilt': 0, 'originx': 0, 'originy': 0}},\n",
       "   'octfile': '1axis_2021-06-17_1300.oct',\n",
       "   'Results': [{'rowWanted': 2,\n",
       "     'modWanted': 5,\n",
       "     'AnalysisObj': {'octfile': '1axis_2021-06-17_1300.oct', 'name': '1axis_2021-06-17_1300', 'hpc': False, 'modWanted': 5, 'rowWanted': 2, 'Wm2Front': [895.5053333333334, 895.7779, 896.0497333333333, 898.7332, 898.7845333333333, 898.8358666666667, 898.8872333333334, 898.9385000000001], 'Wm2Back': [146.7011, 111.57029999999999, 99.84521666666666, 109.47816666666667, 131.9399, 171.2386, 233.62636666666666, 308.50913333333335, 379.0931666666667], 'backRatio': 0.209426649303398, 'x': [0.1870266, 0.1402483, 0.09346991, 0.04669154, -8.682409e-05, -0.04686519, -0.09364356, -0.1404219, -0.1872003], 'y': [0.3239397, 0.2429171, 0.1618946, 0.08087213, -0.0001503837, -0.08117289, -0.1621954, -0.2432179, -0.3242404], 'z': [0.2155118, 0.2320083, 0.2485049, 0.2650015, 0.2814981, 0.2979947, 0.3144912, 0.3309878, 0.3474844], 'mattype': ['a4.1.a0.test-module.6457', 'a4.1.a0.test-module.6457', 'a4.1.a0.test-module.6457', 'a4.1.a0.test-module.6457', 'a4.1.a0.test-module.6457', 'a4.1.a0.test-module.6457', 'a4.1.a0.test-module.6457', 'a4.1.a0.test-module.6457'], 'rearMat': ['a4.1.a0.test-module.2310', 'a4.1.a0.test-module.2310', 'a4.1.a0.test-module.2310', 'a4.1.a0.test-module.2310', 'a4.1.a0.test-module.2310', 'a4.1.a0.test-module.2310', 'a4.1.a0.test-module.2310', 'a4.1.a0.test-module.2310', 'a4.1.a0.test-module.2310']},\n",
       "     'Wm2Front': [895.5053333333334,\n",
       "      895.7779,\n",
       "      896.0497333333333,\n",
       "      898.7332,\n",
       "      898.7845333333333,\n",
       "      898.8358666666667,\n",
       "      898.8872333333334,\n",
       "      898.9385000000001],\n",
       "     'Wm2Back': [146.7011,\n",
       "      111.57029999999999,\n",
       "      99.84521666666666,\n",
       "      109.47816666666667,\n",
       "      131.9399,\n",
       "      171.2386,\n",
       "      233.62636666666666,\n",
       "      308.50913333333335,\n",
       "      379.0931666666667],\n",
       "     'backRatio': 0.209426649303398}]},\n",
       "  '2021-06-17_1400': {'surf_azm': 30.0,\n",
       "   'surf_tilt': 10.0,\n",
       "   'theta': 10.0,\n",
       "   'ghi': 702,\n",
       "   'dhi': 306,\n",
       "   'temp_air': 27.8,\n",
       "   'wind_speed': 5.1,\n",
       "   'skyfile': 'skies\\\\sky2_39.742_-105.179_2021-06-17_1400.rad',\n",
       "   'clearance_height': 0.2,\n",
       "   'radfile': 'objects\\\\1axis2021-06-17_1400__C_0.20000_rtr_1.50000_tilt_10.00000_10modsx3rows_origin0,0.rad',\n",
       "   'scene': {'module': {'x': 1.59, 'y': 0.95, 'z': 0.02, 'modulematerial': 'black', 'scenex': 1.59, 'sceney': 0.95, 'scenez': 0.0, 'numpanels': 1, 'bifi': 0.8, 'text': '! genbox black test-module 1.59 0.95 0.02 | xform -t -0.795 -0.475 0 -a 1 -t 0 0.95 0', 'modulefile': 'objects\\\\test-module.rad', 'glass': False, 'offsetfromaxis': 0, 'xgap': 0.0, 'ygap': 0.0, 'zgap': 0.0}, 'modulefile': 'objects\\\\test-module.rad', 'hpc': False, 'gcr': 0.6333333333333333, 'text': '!xform -rx 10.0 -t 0 0 0.2824828843917919 -a 10 -t 1.59 0 0 -a 3 -t 0 1.5 0 -i 1 -t -6.36 -1.5 0 -rz 150.0 -t 0 0 0 objects\\\\test-module.rad', 'radfiles': 'objects\\\\1axis2021-06-17_1400__C_0.20000_rtr_1.50000_tilt_10.00000_10modsx3rows_origin0,0.rad', 'sceneDict': {'tilt': 10.0, 'pitch': 1.5, 'clearance_height': 0.2, 'azimuth': 30.0, 'nMods': 10, 'nRows': 3, 'modulez': 0.02, 'axis_tilt': 0, 'originx': 0, 'originy': 0}},\n",
       "   'octfile': '1axis_2021-06-17_1400.oct',\n",
       "   'Results': [{'rowWanted': 2,\n",
       "     'modWanted': 5,\n",
       "     'AnalysisObj': {'octfile': '1axis_2021-06-17_1400.oct', 'name': '1axis_2021-06-17_1400', 'hpc': False, 'modWanted': 5, 'rowWanted': 2, 'Wm2Front': [644.3194, 644.7297666666667, 645.1418333333332, 645.5538666666667, 645.9658666666666, 647.8394666666667, 647.9564333333333, 648.0749], 'Wm2Back': [117.00423333333333, 87.34127000000001, 87.59819333333333, 96.44088333333333, 114.32423333333334, 148.15723333333335, 192.7387, 242.80536666666663, 283.2325666666666], 'backRatio': 0.23550422178586114, 'x': [0.1870266, 0.1402483, 0.09346991, 0.04669154, -8.682409e-05, -0.04686519, -0.09364356, -0.1404219, -0.1872003], 'y': [0.3239397, 0.2429171, 0.1618946, 0.08087213, -0.0001503837, -0.08117289, -0.1621954, -0.2432179, -0.3242404], 'z': [0.2155118, 0.2320083, 0.2485049, 0.2650015, 0.2814981, 0.2979947, 0.3144912, 0.3309878, 0.3474844], 'mattype': ['a4.1.a0.test-module.6457', 'a4.1.a0.test-module.6457', 'a4.1.a0.test-module.6457', 'a4.1.a0.test-module.6457', 'a4.1.a0.test-module.6457', 'a4.1.a0.test-module.6457', 'a4.1.a0.test-module.6457', 'a4.1.a0.test-module.6457'], 'rearMat': ['a4.1.a0.test-module.2310', 'a4.1.a0.test-module.2310', 'a4.1.a0.test-module.2310', 'a4.1.a0.test-module.2310', 'a4.1.a0.test-module.2310', 'a4.1.a0.test-module.2310', 'a4.1.a0.test-module.2310', 'a4.1.a0.test-module.2310', 'a4.1.a0.test-module.2310']},\n",
       "     'Wm2Front': [644.3194,\n",
       "      644.7297666666667,\n",
       "      645.1418333333332,\n",
       "      645.5538666666667,\n",
       "      645.9658666666666,\n",
       "      647.8394666666667,\n",
       "      647.9564333333333,\n",
       "      648.0749],\n",
       "     'Wm2Back': [117.00423333333333,\n",
       "      87.34127000000001,\n",
       "      87.59819333333333,\n",
       "      96.44088333333333,\n",
       "      114.32423333333334,\n",
       "      148.15723333333335,\n",
       "      192.7387,\n",
       "      242.80536666666663,\n",
       "      283.2325666666666],\n",
       "     'backRatio': 0.23550422178586114}]}},\n",
       " 'cumulativesky': False,\n",
       " 'hub_height': 0.2}"
      ]
     },
     "execution_count": 13,
     "metadata": {},
     "output_type": "execute_result"
    }
   ],
   "source": [
    "demo2.__dict__"
   ]
  },
  {
   "cell_type": "code",
   "execution_count": null,
   "id": "39a94675",
   "metadata": {},
   "outputs": [],
   "source": [
    "demo2"
   ]
  },
  {
   "cell_type": "code",
   "execution_count": null,
   "id": "7537ae81",
   "metadata": {},
   "outputs": [],
   "source": [
    "demo2"
   ]
  },
  {
   "cell_type": "code",
   "execution_count": null,
   "id": "1f6ce352",
   "metadata": {},
   "outputs": [],
   "source": [
    "demo2.results"
   ]
  },
  {
   "cell_type": "code",
   "execution_count": null,
   "id": "dc349273",
   "metadata": {},
   "outputs": [],
   "source": [
    "trackerdict = demo2.trackerdict\n",
    "keys = list(demo2.trackerdict.keys())"
   ]
  },
  {
   "cell_type": "code",
   "execution_count": null,
   "id": "42c0c602",
   "metadata": {},
   "outputs": [],
   "source": [
    "frontirrad = trackerdict[keys[0]]['AnalysisObj'].Wm2Front"
   ]
  },
  {
   "cell_type": "code",
   "execution_count": null,
   "id": "57f60c2e",
   "metadata": {},
   "outputs": [],
   "source": [
    "type(frontirrad)"
   ]
  },
  {
   "cell_type": "code",
   "execution_count": null,
   "id": "ac9ed7a7",
   "metadata": {},
   "outputs": [],
   "source": [
    "#CEC Module\n",
    "url = 'https://raw.githubusercontent.com/NREL/SAM/patch/deploy/libraries/CEC%20Modules.csv'\n",
    "db = pd.read_csv(url, index_col=0) # Reading this might take 1 min or so, the database is big.\n",
    "modfilter2 = db.index.str.startswith('Pr') & db.index.str.endswith('BHC72-400')\n",
    "CECMod = db[modfilter2]\n",
    "print(len(CECMod), \" modules selected. Name of 1st entry: \", CECMod.index[0])"
   ]
  },
  {
   "cell_type": "code",
   "execution_count": null,
   "id": "d558d1f2",
   "metadata": {},
   "outputs": [],
   "source": [
    "type(CECMod)"
   ]
  },
  {
   "cell_type": "code",
   "execution_count": null,
   "id": "190604fb",
   "metadata": {},
   "outputs": [],
   "source": [
    "CECModParamsDict = Params[-1]"
   ]
  },
  {
   "cell_type": "code",
   "execution_count": null,
   "id": "f34740f5",
   "metadata": {},
   "outputs": [],
   "source": [
    "CECModParamsDict"
   ]
  },
  {
   "cell_type": "code",
   "execution_count": null,
   "id": "f3487e63",
   "metadata": {},
   "outputs": [],
   "source": [
    "pd.DataFrame(CECModParamsDict, index=[0])"
   ]
  },
  {
   "cell_type": "code",
   "execution_count": null,
   "id": "8a4f0ce6",
   "metadata": {},
   "outputs": [],
   "source": [
    "import numpy as np"
   ]
  },
  {
   "cell_type": "code",
   "execution_count": null,
   "id": "1c55c2fe",
   "metadata": {},
   "outputs": [],
   "source": [
    "demo2.trackerdict[keys[0]]['AnalysisObj'].Wm2Front[1] = np.nan\n",
    "demo2.trackerdict[keys[0]]['AnalysisObj'].Wm2Front[2] = np.nan\n",
    "demo2.trackerdict[keys[0]]['AnalysisObj'].Wm2Front[3] = np.nan\n",
    "demo2.trackerdict[keys[0]]['AnalysisObj'].Wm2Front[4] = np.nan\n",
    "demo2.trackerdict[keys[0]]['AnalysisObj'].Wm2Front[5] = np.nan\n",
    "demo2.trackerdict[keys[0]]['AnalysisObj'].Wm2Front[6] = np.nan\n",
    "demo2.trackerdict[keys[0]]['AnalysisObj'].Wm2Front[7] = np.nan"
   ]
  },
  {
   "cell_type": "code",
   "execution_count": null,
   "id": "1a8bcd40",
   "metadata": {},
   "outputs": [],
   "source": [
    "type(CECMod)"
   ]
  },
  {
   "cell_type": "code",
   "execution_count": null,
   "id": "5f28459e",
   "metadata": {},
   "outputs": [],
   "source": [
    "CECMod)"
   ]
  },
  {
   "cell_type": "code",
   "execution_count": null,
   "id": "3a34f3fa",
   "metadata": {},
   "outputs": [],
   "source": [
    "trackerdict = demo2.calculateResults(CECMod = CECMod)"
   ]
  },
  {
   "cell_type": "code",
   "execution_count": null,
   "id": "e3383267",
   "metadata": {},
   "outputs": [],
   "source": [
    "CECMod.Adjust"
   ]
  },
  {
   "cell_type": "code",
   "execution_count": null,
   "id": "93ccd8de",
   "metadata": {},
   "outputs": [],
   "source": [
    "            print(\"Error: Mising/wrong parameters for CECMod, setting dictionary to None.\",\n",
    "                  \"MAke sure to include alpha_sc, a_ref, I_L_ref, I_o_ref, \",\n",
    "                  \"R_sh_ref, R_s, and Adjust\"\n",
    "                  \"Performance calculations, if performed, will use default module\")"
   ]
  },
  {
   "cell_type": "code",
   "execution_count": null,
   "id": "18353047",
   "metadata": {},
   "outputs": [],
   "source": [
    "demo2.exportTrackerDict(savefile=os.path.join('results','Final_Results.csv'),reindex=False)\n"
   ]
  },
  {
   "cell_type": "code",
   "execution_count": null,
   "id": "6de88fd3",
   "metadata": {},
   "outputs": [],
   "source": [
    "pd.read_csv(os.path.join('results','Final_Results.csv'))"
   ]
  }
 ],
 "metadata": {
  "kernelspec": {
   "display_name": "Python 3 (ipykernel)",
   "language": "python",
   "name": "python3"
  },
  "language_info": {
   "codemirror_mode": {
    "name": "ipython",
    "version": 3
   },
   "file_extension": ".py",
   "mimetype": "text/x-python",
   "name": "python",
   "nbconvert_exporter": "python",
   "pygments_lexer": "ipython3",
   "version": "3.8.8"
  }
 },
 "nbformat": 4,
 "nbformat_minor": 5
}
