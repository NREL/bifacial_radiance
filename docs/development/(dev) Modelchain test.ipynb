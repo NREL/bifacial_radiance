{
 "cells": [
  {
   "cell_type": "code",
   "execution_count": 1,
   "id": "c15c77ea",
   "metadata": {},
   "outputs": [],
   "source": [
    "import bifacial_radiance\n",
    "import os\n",
    "import pandas as pd"
   ]
  },
  {
   "cell_type": "code",
   "execution_count": 2,
   "id": "b96adf39",
   "metadata": {},
   "outputs": [],
   "source": [
    "#inifile = r'C:\\Users\\sayala\\Documents\\GitHub\\bifacial_radiance\\tests\\simulationView.ini'\n",
    "#inifile = r'C:\\Users\\sayala\\Documents\\GitHub\\bifacial_radiance\\tests\\ini_highAzimuth.ini'\n",
    "inifile = r'C:\\Users\\sayala\\Documents\\GitHub\\bifacial_radiance\\tests\\simulation3.ini'\n",
    "#inifile = r'C:\\Users\\sayala\\Documents\\GitHub\\bifacial_radiance\\tests\\simulation_T01.ini'\n",
    "#inifile = r'C:\\Users\\sayala\\Documents\\GitHub\\bifacial_radiance\\tests\\simulation_D9.ini' # timestamp without year test\n",
    "#inifile = r'C:\\Users\\sayala\\Documents\\GitHub\\bifacial_radiance\\tests\\simulation_D2.ini' # Sub-hourly data PErformance Aggregation test"
   ]
  },
  {
   "cell_type": "code",
   "execution_count": 3,
   "id": "32cfa50d",
   "metadata": {
    "scrolled": true
   },
   "outputs": [
    {
     "name": "stdout",
     "output_type": "stream",
     "text": [
      "Loading times to restrict weather data to\n",
      "Error: Mising/wrong parameters for CECModParamsDict, setting dictionary to None. MAke sure to include alpha_sc, a_ref, I_L_ref, I_o_ref,  R_sh_ref, R_s, and Adjust.Performance calculations, if performed, will use default module\n",
      "Load Warning: Omega Parameters passed,  but some parameters are missing/not numbers.\n",
      "Load Warning: Fame Parameters passed,  but some parameters are missing/not numbers.\n",
      "Load Warning: Pile Parameters passed,  but some parameters are missing/not numbers.\n"
     ]
    }
   ],
   "source": [
    "(Params)= bifacial_radiance.load.readconfigurationinputfile(inifile=inifile)"
   ]
  },
  {
   "cell_type": "code",
   "execution_count": 4,
   "id": "72cc6f26",
   "metadata": {},
   "outputs": [
    {
     "name": "stdout",
     "output_type": "stream",
     "text": [
      "\n",
      "New bifacial_radiance simulation starting. \n",
      "Version:  0.4.1+119.g59c6985.dirty\n",
      "path = C:\\Users\\sayala\\Documents\\GitHub\\bifacial_radiance\\bifacial_radiance\\TEMP\\Modelchain\n",
      "Loading times to restrict weather data to\n",
      "Error: Mising/wrong parameters for CECModParamsDict, setting dictionary to None. MAke sure to include alpha_sc, a_ref, I_L_ref, I_o_ref,  R_sh_ref, R_s, and Adjust.Performance calculations, if performed, will use default module\n",
      "Load Warning: Omega Parameters passed,  but some parameters are missing/not numbers.\n",
      "Load Warning: Fame Parameters passed,  but some parameters are missing/not numbers.\n",
      "Load Warning: Pile Parameters passed,  but some parameters are missing/not numbers.\n",
      "Getting weather file: USA_VA_Richmond.724010_TMY2.epw\n",
      " ... OK!\n",
      "Reading weather file EPWs\\USA_VA_Richmond.724010_TMY2.epw\n",
      "8760 line in WeatherFile. Assuming this is a standard hourly WeatherFile for the year for purposes of saving Gencumulativesky temporary weather files in EPW folder.\n",
      "Coercing year to 2021\n",
      "Filtering dates\n",
      "Saving file EPWs\\metdata_temp.csv, # points: 8760\n",
      "Calculating Sun position for Metdata that is right-labeled  with a delta of -30 mins. i.e. 12 is 11:30 sunpos\n",
      "Loading albedo, 1 value(s), 0.620 avg\n",
      "1 nonzero albedo values.\n",
      "Available module names: ['PrismSolar-Bi60', 'SW325XL', 'basic-module', 'module', 'test-module']\n",
      "\n",
      "Module Name: test-module\n",
      "Module test-module updated in module.json\n",
      "Pre-existing .rad file objects\\test-module.rad will be overwritten\n",
      "\n",
      "\n",
      "Using Pre-determined Module Type: test-module \n",
      "Custom Object Found, will be added to all Scenes.\n",
      "Creating ~2 skyfiles. \n",
      "Created 2 skyfiles in /skies/\n",
      "\n",
      "Making ~2 .rad files for gendaylit 1-axis workflow (this takes a minute..)\n",
      "2 Radfiles created in /objects/\n",
      "\n",
      "Making 2 octfiles in root directory.\n",
      "Created 1axis_2021-06-17_1300.oct\n",
      "Created 1axis_2021-06-17_1400.oct\n",
      "Linescan in process: 1axis_2021-06-17_1300_Row1_Module2_Front\n",
      "Linescan in process: 1axis_2021-06-17_1300_Row1_Module2_Back\n",
      "Saved: results\\irr_1axis_2021-06-17_1300_Row1_Module2_Front.csv\n",
      "Saved: results\\irr_1axis_2021-06-17_1300_Row1_Module2_Back.csv\n",
      "Index: 2021-06-17_1300. Wm2Front: 0.9760085666666667. Wm2Back: 117.35349392592596\n",
      "Linescan in process: 1axis_2021-06-17_1300_Row1_Module3_Front\n",
      "Linescan in process: 1axis_2021-06-17_1300_Row1_Module3_Back\n",
      "Saved: results\\irr_1axis_2021-06-17_1300_Row1_Module3_Front.csv\n",
      "Saved: results\\irr_1axis_2021-06-17_1300_Row1_Module3_Back.csv\n",
      "Index: 2021-06-17_1300. Wm2Front: 1.375753666666667. Wm2Back: 129.64215362962963\n",
      "Linescan in process: 1axis_2021-06-17_1400_Row1_Module2_Front\n",
      "Linescan in process: 1axis_2021-06-17_1400_Row1_Module2_Back\n",
      "Saved: results\\irr_1axis_2021-06-17_1400_Row1_Module2_Front.csv\n",
      "Saved: results\\irr_1axis_2021-06-17_1400_Row1_Module2_Back.csv\n",
      "Index: 2021-06-17_1400. Wm2Front: 1.8818986666666666. Wm2Back: 114.8072425925926\n",
      "Linescan in process: 1axis_2021-06-17_1400_Row1_Module3_Front\n",
      "Linescan in process: 1axis_2021-06-17_1400_Row1_Module3_Back\n",
      "Saved: results\\irr_1axis_2021-06-17_1400_Row1_Module3_Front.csv\n",
      "Saved: results\\irr_1axis_2021-06-17_1400_Row1_Module3_Back.csv\n",
      "Index: 2021-06-17_1400. Wm2Front: 2.323185. Wm2Back: 129.51907599999998\n",
      "\n",
      "--> Calculating Performance values\n",
      "Bifaciality factor of module stored is  0.9\n",
      "No CECModule data passed; using default for Prism Solar BHC72-400\n",
      "Exporting TrackerDict\n",
      "2\n",
      "3\n",
      "\n",
      "Saving scene and module .hdr to images/\n"
     ]
    },
    {
     "name": "stderr",
     "output_type": "stream",
     "text": [
      "c:\\users\\sayala\\documents\\github\\bifacial_radiance\\bifacial_radiance\\mismatch.py:220: FutureWarning: outer method for ufunc <ufunc 'subtract'> is not implemented on pandas objects. Returning an ndarray, but in the future this will raise a 'NotImplementedError'. Consider explicitly converting the DataFrame to an array with '.to_numpy()' first.\n",
      "  return (np.abs(np.subtract.outer(data,data)).sum()/float(data.__len__())**2 / np.mean(data))*100\n",
      "C:\\Users\\sayala\\Anaconda3\\lib\\site-packages\\numpy\\core\\fromnumeric.py:3438: FutureWarning: In a future version, DataFrame.mean(axis=None) will return a scalar mean over the entire DataFrame. To retain the old behavior, use 'frame.mean(axis=0)' or just 'frame.mean()'\n",
      "  return mean(axis=axis, dtype=dtype, out=out, **kwargs)\n"
     ]
    },
    {
     "name": "stdout",
     "output_type": "stream",
     "text": [
      "Scene image saved: images/scene_2021-06-17_1300_side.hdr\n",
      "Module image saved: images/test-module_XYZ.hdr\n",
      "Finished! \n"
     ]
    }
   ],
   "source": [
    "demo2, analysis = bifacial_radiance.modelchain.runModelChain(*Params) "
   ]
  },
  {
   "cell_type": "code",
   "execution_count": 7,
   "id": "1f8c8b7f",
   "metadata": {},
   "outputs": [],
   "source": [
    "!rvu -vf views\\side.vp -e .01 1axis_2021-06-17_1300.oct"
   ]
  },
  {
   "cell_type": "code",
   "execution_count": null,
   "id": "2c63f4e4",
   "metadata": {
    "scrolled": true
   },
   "outputs": [],
   "source": [
    "!rvu -vf views\\side.vp -e .01 1axis_2021-05-01_0900.oct"
   ]
  },
  {
   "cell_type": "code",
   "execution_count": null,
   "id": "a61334d4",
   "metadata": {},
   "outputs": [],
   "source": [
    "data = demo2.CompiledResults"
   ]
  },
  {
   "cell_type": "code",
   "execution_count": null,
   "id": "568e0544",
   "metadata": {},
   "outputs": [],
   "source": [
    "customtext "
   ]
  },
  {
   "cell_type": "code",
   "execution_count": null,
   "id": "a4dac9b1",
   "metadata": {},
   "outputs": [],
   "source": [
    "df =data[data['module']==1].copy()"
   ]
  },
  {
   "cell_type": "code",
   "execution_count": null,
   "id": "e3c9d6f6",
   "metadata": {},
   "outputs": [],
   "source": [
    "df.set_index(df['timestamp'])"
   ]
  },
  {
   "cell_type": "code",
   "execution_count": null,
   "id": "34302bdf",
   "metadata": {},
   "outputs": [],
   "source": [
    "df['timestamp'] = pd.to_datetime(df['timestamp'], format=\"%Y-%m-%d_%H%M\")\n",
    "df = df.set_index('timestamp')"
   ]
  },
  {
   "cell_type": "code",
   "execution_count": null,
   "id": "9c72d168",
   "metadata": {},
   "outputs": [],
   "source": [
    "type(df.index)"
   ]
  },
  {
   "cell_type": "code",
   "execution_count": null,
   "id": "46877f3f",
   "metadata": {},
   "outputs": [],
   "source": [
    "df"
   ]
  },
  {
   "cell_type": "code",
   "execution_count": null,
   "id": "7875784a",
   "metadata": {},
   "outputs": [],
   "source": [
    "(df.index[1]-df.index[0]).total_seconds() / 60"
   ]
  },
  {
   "cell_type": "code",
   "execution_count": null,
   "id": "75a07aa9",
   "metadata": {},
   "outputs": [],
   "source": [
    "(df.index[1]-df.index[0]).dt.days"
   ]
  },
  {
   "cell_type": "code",
   "execution_count": null,
   "id": "b252d737",
   "metadata": {},
   "outputs": [],
   "source": [
    "if (df.index[1]-df.index[0]).total_seconds() / 60 == 15.0:\n",
    "    print(\"yes\")"
   ]
  },
  {
   "cell_type": "code",
   "execution_count": null,
   "id": "64278ef6",
   "metadata": {},
   "outputs": [],
   "source": [
    "import pandas as pd"
   ]
  },
  {
   "cell_type": "code",
   "execution_count": null,
   "id": "78f89c80",
   "metadata": {},
   "outputs": [],
   "source": [
    "df = pd.DataFrame()"
   ]
  },
  {
   "cell_type": "code",
   "execution_count": null,
   "id": "6fc3c797",
   "metadata": {},
   "outputs": [],
   "source": [
    "if df.empty is True:\n",
    "    print(\"Yes\")"
   ]
  }
 ],
 "metadata": {
  "kernelspec": {
   "display_name": "Python 3 (ipykernel)",
   "language": "python",
   "name": "python3"
  },
  "language_info": {
   "codemirror_mode": {
    "name": "ipython",
    "version": 3
   },
   "file_extension": ".py",
   "mimetype": "text/x-python",
   "name": "python",
   "nbconvert_exporter": "python",
   "pygments_lexer": "ipython3",
   "version": "3.8.8"
  }
 },
 "nbformat": 4,
 "nbformat_minor": 5
}
