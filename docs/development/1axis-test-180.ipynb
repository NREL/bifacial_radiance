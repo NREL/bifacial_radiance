{
 "cells": [
  {
   "cell_type": "code",
   "execution_count": 1,
   "metadata": {},
   "outputs": [
    {
     "name": "stdout",
     "output_type": "stream",
     "text": [
      "Your simulation will be stored in C:\\Users\\sayala\\Documents\\GitHub\\bifacial_radiance\\bifacial_radiance\\TEMP\\1axis\n"
     ]
    }
   ],
   "source": [
    "import os\n",
    "from pathlib import Path\n",
    "\n",
    "\n",
    "testfolder = str(Path().resolve().parent.parent / 'bifacial_radiance' / 'TEMP' / '1axis')\n",
    "\n",
    "if not os.path.exists(testfolder):\n",
    "    os.makedirs(testfolder)\n",
    "    \n",
    "print (\"Your simulation will be stored in %s\" % testfolder)"
   ]
  },
  {
   "cell_type": "code",
   "execution_count": 2,
   "metadata": {},
   "outputs": [],
   "source": [
    "import bifacial_radiance as br\n",
    "import numpy as np\n",
    "import pandas as pd\n",
    "import matplotlib.pyplot as plt"
   ]
  },
  {
   "cell_type": "code",
   "execution_count": 3,
   "metadata": {},
   "outputs": [
    {
     "name": "stdout",
     "output_type": "stream",
     "text": [
      "Working on a  Windows 10\n",
      "Python version  3.11.4 | packaged by Anaconda, Inc. | (main, Jul  5 2023, 13:38:37) [MSC v.1916 64 bit (AMD64)]\n",
      "Pandas version  2.1.0\n",
      "bifacial_radiance version  0.4.2+177.gd5001f6.dirty\n",
      "pyplot  3.7.2\n"
     ]
    }
   ],
   "source": [
    "# This information helps with debugging and getting support :)\n",
    "import sys, platform\n",
    "print(\"Working on a \", platform.system(), platform.release())\n",
    "print(\"Python version \", sys.version)\n",
    "print(\"Pandas version \", pd.__version__)\n",
    "print(\"bifacial_radiance version \", br.__version__)\n",
    "print(\"pyplot \", plt.matplotlib.__version__)"
   ]
  },
  {
   "cell_type": "code",
   "execution_count": 4,
   "metadata": {},
   "outputs": [],
   "source": [
    "simulationname = '1axis-groundscan'\n",
    "\n",
    "# Location\n",
    "lat = 39.7555\n",
    "lon = -105.2211\n",
    "\n",
    "# Scene Parameters\n",
    "azimuth_ang=90 # Facing south\n",
    "tilt=30\n",
    "\n",
    "# MakeModule Parameters\n",
    "moduletype='PVmod'\n",
    "numpanels=1\n",
    "module_x = 2 # m\n",
    "module_y = 1 # m. slope we will measure\n",
    "sensorsy=2\n",
    "sensorsground=5\n",
    "\n",
    "# SceneDict Parameters\n",
    "pitch = 6 # m\n",
    "albedo = 0.2\n",
    "clearance_height = 0.5 # m  \n",
    "nMods = 4 \n",
    "nRows = 3\n",
    "\n",
    "sceneDict = {'tilt':10,'pitch':3,'clearance_height':0.2,'azimuth':180, 'nMods': 20, 'nRows': 7} "
   ]
  },
  {
   "cell_type": "code",
   "execution_count": 5,
   "metadata": {
    "scrolled": true
   },
   "outputs": [
    {
     "name": "stdout",
     "output_type": "stream",
     "text": [
      "path = C:\\Users\\sayala\\Documents\\GitHub\\bifacial_radiance\\bifacial_radiance\\TEMP\\1axis\n",
      "Loading albedo, 1 value(s), 0.200 avg\n",
      "1 nonzero albedo values.\n",
      "Getting weather file: USA_CO_Golden-NREL.724666_TMY3.epw\n",
      " ... OK!\n"
     ]
    }
   ],
   "source": [
    "demo = br.RadianceObj(simulationname,path = testfolder)\n",
    "demo.setGround(albedo)\n",
    "epwfile = demo.getEPW(lat, lon)"
   ]
  },
  {
   "cell_type": "code",
   "execution_count": 6,
   "metadata": {},
   "outputs": [
    {
     "name": "stdout",
     "output_type": "stream",
     "text": [
      "\n",
      "Module Name: PVmod\n",
      "Module PVmod updated in module.json\n",
      "Pre-existing .rad file objects\\PVmod.rad will be overwritten\n",
      "\n"
     ]
    }
   ],
   "source": [
    "module=demo.makeModule(name=moduletype,x=module_x,y=module_y)"
   ]
  },
  {
   "cell_type": "code",
   "execution_count": 7,
   "metadata": {
    "scrolled": true
   },
   "outputs": [
    {
     "name": "stdout",
     "output_type": "stream",
     "text": [
      "8760 line in WeatherFile. Assuming this is a standard hourly WeatherFile for the year for purposes of saving Gencumulativesky temporary weather files in EPW folder.\n",
      "Coercing year to 2021\n",
      "Filtering dates\n",
      "Saving file EPWs\\metdata_temp.csv, # points: 8760\n",
      "Calculating Sun position for Metdata that is right-labeled  with a delta of -30 mins. i.e. 12 is 11:30 sunpos\n"
     ]
    }
   ],
   "source": [
    "metdata = demo.readWeatherFile(epwfile, coerce_year=2021, starttime='2021-06-01', endtime='2021-06-30_23')"
   ]
  },
  {
   "cell_type": "code",
   "execution_count": 8,
   "metadata": {},
   "outputs": [],
   "source": [
    "hub_height = 1.5\n",
    "pitch = 5.7\n",
    "sazm = 180 # axis angle, N-S = 180\n",
    "fixed_tilt_angle = None\n",
    "gcr = 2 / pitch\n",
    "cumulativesky = True\n",
    "\n",
    "trakerParams = {\n",
    "    'limit_angle': 50,\n",
    "    'angledelta': 30,\n",
    "    'backtrack': True,\n",
    "    'gcr': gcr,\n",
    "    'cumulativesky': cumulativesky,\n",
    "    'azimuth': sazm,  # axis angle, N-S = 180\n",
    "    'fixed_tilt_angle': fixed_tilt_angle\n",
    "}"
   ]
  },
  {
   "cell_type": "code",
   "execution_count": 9,
   "metadata": {},
   "outputs": [
    {
     "name": "stdout",
     "output_type": "stream",
     "text": [
      "Saving file EPWs\\1axis_-60.0.csv, # points: 90\n",
      "Saving file EPWs\\1axis_-30.0.csv, # points: 90\n",
      "Saving file EPWs\\1axis_-0.0.csv, # points: 90\n",
      "Saving file EPWs\\1axis_30.0.csv, # points: 90\n",
      "Saving file EPWs\\1axis_60.0.csv, # points: 90\n"
     ]
    }
   ],
   "source": [
    "trackerdict = demo.set1axis(**trakerParams)"
   ]
  },
  {
   "cell_type": "code",
   "execution_count": 10,
   "metadata": {
    "scrolled": true
   },
   "outputs": [
    {
     "name": "stdout",
     "output_type": "stream",
     "text": [
      "message: There were 90 sun up hours in this climate file\n",
      "Total Ibh/Lbh: 0.000000\n",
      "Created skyfile skies\\1axis_-60.0.rad\n",
      "message: There were 89 sun up hours in this climate file\n",
      "Total Ibh/Lbh: 0.000000\n",
      "Created skyfile skies\\1axis_-30.0.rad\n",
      "message: There were 84 sun up hours in this climate file\n",
      "Total Ibh/Lbh: 0.000000\n",
      "Created skyfile skies\\1axis_-0.0.rad\n",
      "message: There were 86 sun up hours in this climate file\n",
      "Total Ibh/Lbh: 0.000000\n",
      "Created skyfile skies\\1axis_30.0.rad\n",
      "message: There were 86 sun up hours in this climate file\n",
      "Total Ibh/Lbh: 0.000000\n",
      "Created skyfile skies\\1axis_60.0.rad\n"
     ]
    }
   ],
   "source": [
    "if cumulativesky:\n",
    "    demo.genCumSky1axis()\n",
    "else:\n",
    "    demo.gendaylit1axis()"
   ]
  },
  {
   "cell_type": "code",
   "execution_count": 11,
   "metadata": {},
   "outputs": [],
   "source": [
    "sceneDict = {\n",
    "    'pitch': pitch,\n",
    "    'hub_height': hub_height,\n",
    "    'nMods': 5,\n",
    "    'nRows': 2\n",
    "}"
   ]
  },
  {
   "cell_type": "code",
   "execution_count": 12,
   "metadata": {},
   "outputs": [
    {
     "name": "stdout",
     "output_type": "stream",
     "text": [
      "\n",
      "Making .rad files for cumulativesky 1-axis workflow\n",
      "5 Radfiles created in /objects/\n",
      "\n",
      "Making 5 octfiles in root directory.\n",
      "Created 1axis_-60.0.oct\n",
      "Created 1axis_-30.0.oct\n",
      "Created 1axis_-0.0.oct\n",
      "Created 1axis_30.0.oct\n",
      "Created 1axis_60.0.oct\n"
     ]
    }
   ],
   "source": [
    "trakerdict = demo.makeScene1axis(module=moduletype, sceneDict=sceneDict)\n",
    "trakerdict = demo.makeOct1axis()"
   ]
  },
  {
   "cell_type": "code",
   "execution_count": 13,
   "metadata": {},
   "outputs": [],
   "source": [
    "sensorsgroundvalues = np.array([2, 30, 100, 150])\n",
    "angles = np.array([-0.0, -30.0, -60.0, 30.0, 60.0])"
   ]
  },
  {
   "cell_type": "code",
   "execution_count": 15,
   "metadata": {},
   "outputs": [
    {
     "name": "stdout",
     "output_type": "stream",
     "text": [
      "Linescan in process: 1axis_-60.0_Row1_Module3_Front\n",
      "Linescan in process: 1axis_-60.0_Row1_Module3_Back\n",
      "Saved: results\\irr_1axis_-60.0_Row1_Module3.csv\n",
      "Index: -60.0. Wm2Front: 54915.925. Wm2Back: 5775.628500000001\n",
      "Linescan in process: 1axis_-30.0_Row1_Module3_Front\n",
      "Linescan in process: 1axis_-30.0_Row1_Module3_Back\n",
      "Saved: results\\irr_1axis_-30.0_Row1_Module3.csv\n",
      "Index: -30.0. Wm2Front: 49277.3025. Wm2Back: 6292.562499999999\n",
      "Linescan in process: 1axis_-0.0_Row1_Module3_Front\n",
      "Linescan in process: 1axis_-0.0_Row1_Module3_Back\n",
      "Saved: results\\irr_1axis_-0.0_Row1_Module3.csv\n",
      "Index: -0.0. Wm2Front: 42478.545. Wm2Back: 6379.288500000001\n",
      "Linescan in process: 1axis_30.0_Row1_Module3_Front\n",
      "Linescan in process: 1axis_30.0_Row1_Module3_Back\n",
      "Saved: results\\irr_1axis_30.0_Row1_Module3.csv\n",
      "Index: 30.0. Wm2Front: 42481.815. Wm2Back: 5922.213500000001\n",
      "Linescan in process: 1axis_60.0_Row1_Module3_Front\n",
      "Linescan in process: 1axis_60.0_Row1_Module3_Back\n",
      "Saved: results\\irr_1axis_60.0_Row1_Module3.csv\n",
      "Index: 60.0. Wm2Front: 39707.3. Wm2Back: 5650.172\n"
     ]
    }
   ],
   "source": [
    "trakerdict = demo.analysis1axis(sensorsy=4)"
   ]
  },
  {
   "cell_type": "code",
   "execution_count": null,
   "metadata": {
    "scrolled": false
   },
   "outputs": [],
   "source": [
    "resultsdict = {}\n",
    "\n",
    "for i, sensorsground in enumerate(sensorsgroundvalues):\n",
    "    print(\"Doing sensor\", i)\n",
    "    print(f\"sensorsground: {sensorsground}\")\n",
    "    trakerdict = demo.analysis1axisground(customname='1-axis_groundscan_' + str(sensorsground), \n",
    "                                          sensorsground=sensorsground)\n"
   ]
  },
  {
   "cell_type": "code",
   "execution_count": null,
   "metadata": {},
   "outputs": [],
   "source": [
    "\n",
    "for i, sensorsground in enumerate(sensorsgroundvalues): \n",
    "    for i, angle in enumerate(angles):\n",
    "        for i, x in enumerate(trakerdict[angle]['Results'][0]['AnalysisObj'].x):\n",
    "            if x >= 1 and x <= pitch-1:\n",
    "                if (sensorsground, angle) in resultsdict:\n",
    "                    resultsdict[(sensorsground, angle)] += trakerdict[angle]['Results'][0]['AnalysisObj'].Wm2Front\n",
    "                else:\n",
    "                    resultsdict[(sensorsground, angle)] = trakerdict[angle]['Results'][0]['AnalysisObj'].Wm2Front\n"
   ]
  },
  {
   "cell_type": "code",
   "execution_count": null,
   "metadata": {
    "scrolled": true
   },
   "outputs": [],
   "source": [
    "trakerdict"
   ]
  },
  {
   "cell_type": "code",
   "execution_count": null,
   "metadata": {},
   "outputs": [],
   "source": [
    "resulsbyangle = {}\n",
    "\n",
    "for i, angle in enumerate(angles):\n",
    "    results = []\n",
    "    for i, sensorsground in enumerate(sensorsgroundvalues):\n",
    "        if (sensorsground, angle) in resultsdict:\n",
    "            results.append(np.mean(resultsdict[(sensorsground, angle)]))\n",
    "        else:\n",
    "            results.append(0)\n",
    "    \n",
    "    resulsbyangle[angle] = results"
   ]
  },
  {
   "cell_type": "code",
   "execution_count": null,
   "metadata": {},
   "outputs": [],
   "source": [
    "resulsbyangle"
   ]
  },
  {
   "cell_type": "code",
   "execution_count": null,
   "metadata": {},
   "outputs": [],
   "source": [
    "for i, angle in enumerate(angles):\n",
    "    df = pd.DataFrame({\n",
    "        'groundscan': sensorsgroundvalues,\n",
    "        'average': resulsbyangle[angle]\n",
    "    })\n",
    "\n",
    "    df.plot(x='groundscan', y='average', marker='o', color='blue')\n",
    "    plt.xticks(np.arange(0, 501, 50))\n",
    "    plt.title(f'Irradiance at different groundscan for 1-axis {angle}')\n",
    "    plt.show()"
   ]
  },
  {
   "cell_type": "code",
   "execution_count": null,
   "metadata": {},
   "outputs": [],
   "source": [
    "# one graph for all angles\n",
    "resultsbysensor = {}\n",
    "\n",
    "for i, sensorsground in enumerate(sensorsgroundvalues):\n",
    "    resultsarr = []\n",
    "    for i, angle in enumerate(angles):\n",
    "        if (sensorsground, angle) in resultsdict:\n",
    "            resultsarr.append(np.mean(resultsdict[(sensorsground, angle)]))\n",
    "                          \n",
    "    resultsbysensor[sensorsground] = np.mean(resultsarr)"
   ]
  },
  {
   "cell_type": "code",
   "execution_count": null,
   "metadata": {},
   "outputs": [],
   "source": [
    "resultsbysensor"
   ]
  },
  {
   "cell_type": "code",
   "execution_count": null,
   "metadata": {},
   "outputs": [],
   "source": [
    "df1 = pd.DataFrame({\n",
    "    'groundscan': sensorsgroundvalues,\n",
    "    'average': resultsbysensor.values()\n",
    "})\n",
    "\n",
    "df1.plot(x='groundscan', y='average', marker='o', color='blue')\n",
    "plt.xticks(np.arange(0, 501, 50))\n",
    "plt.title('Cummulative irradiance at different groundscan for 1-axis')\n",
    "plt.show()"
   ]
  },
  {
   "cell_type": "code",
   "execution_count": null,
   "metadata": {},
   "outputs": [],
   "source": []
  }
 ],
 "metadata": {
  "kernelspec": {
   "display_name": "Python 3 (ipykernel)",
   "language": "python",
   "name": "python3"
  },
  "language_info": {
   "codemirror_mode": {
    "name": "ipython",
    "version": 3
   },
   "file_extension": ".py",
   "mimetype": "text/x-python",
   "name": "python",
   "nbconvert_exporter": "python",
   "pygments_lexer": "ipython3",
   "version": "3.11.4"
  }
 },
 "nbformat": 4,
 "nbformat_minor": 2
}
