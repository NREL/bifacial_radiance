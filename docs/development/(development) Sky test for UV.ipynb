{
 "cells": [
  {
   "cell_type": "markdown",
   "metadata": {},
   "source": [
    "# Test for UV Sky \n",
    "\n",
    "Not sure if a low low value of DNI/DHI will get captured in a gendaylit.\n",
    "Then try gencumsky\n",
    "Then try multiplying x 100 and dividing? "
   ]
  },
  {
   "cell_type": "markdown",
   "metadata": {},
   "source": [
    "<a id='step1'></a>"
   ]
  },
  {
   "cell_type": "code",
   "execution_count": 1,
   "metadata": {},
   "outputs": [
    {
     "name": "stdout",
     "output_type": "stream",
     "text": [
      "Your simulation will be stored in C:\\Users\\sayala\\Documents\\GitHub\\bifacial_radiance\\bifacial_radiance\\TEMP\n"
     ]
    }
   ],
   "source": [
    "import os\n",
    "from pathlib import Path\n",
    "\n",
    "testfolder = Path().resolve().parent.parent / 'bifacial_radiance' / 'TEMP'\n",
    "\n",
    "try:\n",
    "    from bifacial_radiance import *\n",
    "except ImportError:\n",
    "    raise RuntimeError('bifacial_radiance is required. download distribution')\n",
    "\n",
    "import numpy as np"
   ]
  },
  {
   "cell_type": "code",
   "execution_count": 56,
   "metadata": {},
   "outputs": [
    {
     "name": "stdout",
     "output_type": "stream",
     "text": [
      "path = C:\\Users\\sayala\\Documents\\GitHub\\bifacial_radiance\\bifacial_radiance\\TEMP\n",
      "Getting weather file: USA_VA_Richmond.Intl.AP.724010_TMY.epw\n",
      " ... OK!\n",
      "Saving file EPWs\\epw_temp.csv, # points: 8760\n",
      "\n",
      "Module Name: Prism_Solar_Bi60_landscape\n",
      "REWRITING pre-existing module file. \n",
      "Module Prism Solar Bi60 landscape successfully created\n"
     ]
    }
   ],
   "source": [
    "# Create a RadianceObj 'object' named bifacial_example. no whitespace allowed\n",
    "demo = RadianceObj('bifacial_example',str(testfolder))  \n",
    "demo.setGround(0.00001)\n",
    "epwfile = demo.getEPW(lat = 37.5, lon = -77.6)  # This location corresponds to Richmond, VA.\n",
    "metdata = demo.readWeatherFile(epwfile) \n",
    "demo.makeModule(name='Prism Solar Bi60 landscape',x=1.695, y=0.984)\n",
    "sceneDict = {'tilt':10,'pitch':3,'clearance_height':0.2,'azimuth':180, 'nMods': 20, 'nRows': 7} \n",
    "scene = demo.makeScene(module_type,sceneDict)\n",
    "\n",
    "dniall = [500, 50, 5, 0.5, 0.05, 0.005, 0.00005]\n",
    "\n",
    "for i in range (0, len(dniall)):\n",
    "    dni = dniall[i]\n",
    "    dhi = dni/5\n",
    "    demo.gendaylit2manual(dni = dni, dhi = dhi, sunalt = 67.167217, sunaz = 153.735606)\n",
    "    octfile = demo.makeOct(demo.getfilelist())  \n",
    "    analysis = AnalysisObj(octfile, demo.basename)\n",
    "    frontscan, backscan = analysis.moduleAnalysis(scene)\n",
    "    results = analysis.analysis(octfile, demo.basename+'_albedo_0.00001_'+str(dni), frontscan, backscan)  \n",
    "    \n",
    "    \n",
    "dni = 500\n",
    "dhi = dni/5\n",
    "demo.gendaylit2manual(dni = dni, dhi = dhi, sunalt = 67.167217, sunaz = 153.735606)\n",
    "octfile = demo.makeOct(demo.getfilelist())  \n",
    "analysis = AnalysisObj(octfile, demo.basename)\n",
    "frontscan, backscan = analysis.moduleAnalysis(scene)\n",
    "results = analysis.analysis(octfile, demo.basename+'_albedo_0.00001_1_'+str(dni), frontscan, backscan)  \n",
    "results = analysis.analysis(octfile, demo.basename+'_albedo_0.00001_2'+str(dni), frontscan, backscan)  \n",
    "results = analysis.analysis(octfile, demo.basename+'_albedo_0.00001_3'+str(dni), frontscan, backscan)  \n",
    "\n",
    "\n",
    "dni = 0.00005\n",
    "dhi = dni/5\n",
    "demo.gendaylit2manual(dni = dni, dhi = dhi, sunalt = 67.167217, sunaz = 153.735606)\n",
    "octfile = demo.makeOct(demo.getfilelist())  \n",
    "analysis = AnalysisObj(octfile, demo.basename)\n",
    "frontscan, backscan = analysis.moduleAnalysis(scene)\n",
    "results = analysis.analysis(octfile, demo.basename+'_albedo_0.00001_1_'+str(dni), frontscan, backscan)  \n",
    "results = analysis.analysis(octfile, demo.basename+'_albedo_0.00001_2_'+str(dni), frontscan, backscan)  \n",
    "results = analysis.analysis(octfile, demo.basename+'_albedo_0.00001_3_'+str(dni), frontscan, backscan)  "
   ]
  },
  {
   "cell_type": "code",
   "execution_count": 57,
   "metadata": {},
   "outputs": [
    {
     "name": "stdout",
     "output_type": "stream",
     "text": [
      "Sky generated with Gendaylit 2 MANUAL, with DNI: 500.0, DHI: 100.0\n",
      "Created bifacial_example.oct\n",
      "Linescan in process: bifacial_example_albedo_0.00001_500_Front\n",
      "Linescan in process: bifacial_example_albedo_0.00001_500_Back\n",
      "Saved: results\\irr_bifacial_example_albedo_0.00001_500.csv\n",
      "Sky generated with Gendaylit 2 MANUAL, with DNI: 50.0, DHI: 10.0\n",
      "Created bifacial_example.oct\n",
      "Linescan in process: bifacial_example_albedo_0.00001_50_Front\n",
      "Linescan in process: bifacial_example_albedo_0.00001_50_Back\n",
      "Saved: results\\irr_bifacial_example_albedo_0.00001_50.csv\n",
      "Sky generated with Gendaylit 2 MANUAL, with DNI: 5.0, DHI: 1.0\n",
      "Created bifacial_example.oct\n",
      "Linescan in process: bifacial_example_albedo_0.00001_5_Front\n",
      "Linescan in process: bifacial_example_albedo_0.00001_5_Back\n",
      "Saved: results\\irr_bifacial_example_albedo_0.00001_5.csv\n",
      "Sky generated with Gendaylit 2 MANUAL, with DNI: 0.5, DHI: 0.1\n",
      "Created bifacial_example.oct\n",
      "Linescan in process: bifacial_example_albedo_0.00001_0.5_Front\n",
      "Linescan in process: bifacial_example_albedo_0.00001_0.5_Back\n",
      "Saved: results\\irr_bifacial_example_albedo_0.00001_0.5.csv\n",
      "Sky generated with Gendaylit 2 MANUAL, with DNI: 0.1, DHI: 0.0\n",
      "Created bifacial_example.oct\n",
      "Linescan in process: bifacial_example_albedo_0.00001_0.05_Front\n",
      "Linescan in process: bifacial_example_albedo_0.00001_0.05_Back\n",
      "Saved: results\\irr_bifacial_example_albedo_0.00001_0.05.csv\n",
      "Sky generated with Gendaylit 2 MANUAL, with DNI: 0.0, DHI: 0.0\n",
      "Created bifacial_example.oct\n",
      "Linescan in process: bifacial_example_albedo_0.00001_0.005_Front\n",
      "Linescan in process: bifacial_example_albedo_0.00001_0.005_Back\n",
      "Saved: results\\irr_bifacial_example_albedo_0.00001_0.005.csv\n",
      "Sky generated with Gendaylit 2 MANUAL, with DNI: 0.0, DHI: 0.0\n",
      "Created bifacial_example.oct\n",
      "Linescan in process: bifacial_example_albedo_0.00001_5e-05_Front\n",
      "Linescan in process: bifacial_example_albedo_0.00001_5e-05_Back\n",
      "Saved: results\\irr_bifacial_example_albedo_0.00001_5e-05.csv\n"
     ]
    }
   ],
   "source": [
    "demo.setGround(0.62)\n",
    "demo.makeModule(name='Prism Solar Bi60 landscape',x=1.695, y=0.984)\n",
    "sceneDict = {'tilt':10,'pitch':3,'clearance_height':0.2,'azimuth':180, 'nMods': 20, 'nRows': 7} \n",
    "scene = demo.makeScene(module_type,sceneDict)\n",
    "\n",
    "\n",
    "dniall = [500, 50, 5, 0.5, 0.05, 0.005, 0.00005]\n",
    "\n",
    "for i in range (0, len(dniall)):\n",
    "    dni = dniall[i]\n",
    "    dhi = dni/5\n",
    "    demo.gendaylit2manual(dni = dni, dhi = dhi, sunalt = 67.167217, sunaz = 153.735606)\n",
    "    octfile = demo.makeOct(demo.getfilelist())  \n",
    "    analysis = AnalysisObj(octfile, demo.basename)\n",
    "    frontscan, backscan = analysis.moduleAnalysis(scene)\n",
    "    results = analysis.analysis(octfile, demo.basename+'_'+str(dni), frontscan, backscan)  \n",
    "    \n",
    "    \n",
    "dni = 500\n",
    "dhi = dni/5\n",
    "demo.gendaylit2manual(dni = dni, dhi = dhi, sunalt = 67.167217, sunaz = 153.735606)\n",
    "octfile = demo.makeOct(demo.getfilelist())  \n",
    "analysis = AnalysisObj(octfile, demo.basename)\n",
    "frontscan, backscan = analysis.moduleAnalysis(scene)\n",
    "results = analysis.analysis(octfile, demo.basename+'_1_'+str(dni), frontscan, backscan)  \n",
    "results = analysis.analysis(octfile, demo.basename+'_2_'+str(dni), frontscan, backscan)  \n",
    "results = analysis.analysis(octfile, demo.basename+'_3_'+str(dni), frontscan, backscan)  \n",
    "\n",
    "\n",
    "dni = 0.00005\n",
    "dhi = dni/5\n",
    "demo.gendaylit2manual(dni = dni, dhi = dhi, sunalt = 67.167217, sunaz = 153.735606)\n",
    "octfile = demo.makeOct(demo.getfilelist())  \n",
    "analysis = AnalysisObj(octfile, demo.basename)\n",
    "frontscan, backscan = analysis.moduleAnalysis(scene)\n",
    "results = analysis.analysis(octfile, demo.basename+'_1_'+str(dni), frontscan, backscan)  \n",
    "results = analysis.analysis(octfile, demo.basename+'_2_'+str(dni), frontscan, backscan)  \n",
    "results = analysis.analysis(octfile, demo.basename+'_3_'+str(dni), frontscan, backscan)  "
   ]
  },
  {
   "cell_type": "code",
   "execution_count": null,
   "metadata": {},
   "outputs": [],
   "source": [
    "load.read1Result('results\\irr_bifacial_example.csv')"
   ]
  }
 ],
 "metadata": {
  "anaconda-cloud": {},
  "kernelspec": {
   "display_name": "Python 3",
   "language": "python",
   "name": "python3"
  },
  "language_info": {
   "codemirror_mode": {
    "name": "ipython",
    "version": 3
   },
   "file_extension": ".py",
   "mimetype": "text/x-python",
   "name": "python",
   "nbconvert_exporter": "python",
   "pygments_lexer": "ipython3",
   "version": "3.7.3"
  }
 },
 "nbformat": 4,
 "nbformat_minor": 1
}
