{
 "cells": [
  {
   "cell_type": "code",
   "execution_count": 1,
   "id": "029cecad",
   "metadata": {},
   "outputs": [
    {
     "name": "stdout",
     "output_type": "stream",
     "text": [
      "path = C:\\Users\\sayala\\Documents\\GitHub\\bifacial_radiance\\bifacial_radiance\\TEMP\n",
      "Loading albedo, 1 value(s), 0.300 avg\n",
      "1 nonzero albedo values.\n",
      "Warning: CSV file passed for input. Assuming it is TMY3style format\n",
      "8760 line in WeatherFile. Assuming this is a standard hourly WeatherFile for the year for purposes of saving Gencumulativesky temporary weather files in EPW folder.\n",
      "Coercing year to 2001\n",
      "Saving file EPWs\\metdata_temp.csv, # points: 8760\n",
      "Calculating Sun position for Metdata that is right-labeled  with a delta of -30 mins. i.e. 12 is 11:30 sunpos\n",
      "Warning: tubeParams Dictionary Parameters passed, but axisofrotation is missing. \n",
      "Setting it to default value of True  to continue\n",
      "\n",
      "\n",
      "Module Name: TEST\n",
      "This is a Cell-Level detailed module with Packaging Factor of 0.57 %\n",
      "Module TEST updated in module.json\n",
      "Pre-existing .rad file objects\\TEST.rad will be overwritten\n",
      "Created demo.oct\n"
     ]
    }
   ],
   "source": [
    "import os\n",
    "from pathlib import Path\n",
    "\n",
    "testfolder = Path().resolve().parent.parent / 'bifacial_radiance' / 'TEMP'\n",
    "\n",
    "\n",
    "import pandas as pd\n",
    "import bifacial_radiance\n",
    "\n",
    "\n",
    "demo = bifacial_radiance.RadianceObj('demo',str(testfolder))  \n",
    "\n",
    "demo.setGround(0.3)  # This prints available materials.\n",
    "#epwfile = demo.getEPW(lat = 37.5, lon = -77.6)  # This location corresponds to Richmond, VA.\n",
    "epwfile = r'C:\\Users\\sayala\\Documents\\GitHub\\bifacial_radiance\\tests\\724666TYA.CSV'\n",
    "metdata = demo.readWeatherFile(epwfile, coerce_year=2001) \n",
    "timeindex = metdata.datetime.index(pd.to_datetime('2001-06-17 12:0:0 -7'))\n",
    "demo.gendaylit(timeindex)  # Noon, June 17th (timepoint # 4020)\n",
    "\n",
    "\n",
    "module_type='half_cell'\n",
    "x=1\n",
    "y=2\n",
    "xgap = 0.1\n",
    "ygap = 0.2\n",
    "numpanels =1\n",
    "\n",
    "cellLevelModuleParams = {'numcellsx': 1,\n",
    "'numcellsy' : 4,\n",
    "'xcell' : 0.1,      \n",
    "'ycell' : 0.1,      \n",
    "'xcellgap' : 0.05,  \n",
    "'ycellgap' : 0.05,   \n",
    "'centerJB' : 0.2}\n",
    "\n",
    "\n",
    "frameParams={'frame_material' : 'Metal_Grey',\n",
    "                'frame_thickness' : 0.002,  \n",
    "                'frame_z' : 0.024,\n",
    "                'frame_width' : 0.02,\n",
    "                'nSides_frame' : 4}\n",
    "    \n",
    "    \n",
    "omegaParams = { 'omega_material': 'Metal_Grey',\n",
    "               'x_omega1' : 0.05,\n",
    "               'mod_overlap' : 0.02,\n",
    "               'y_omega' : 1,\n",
    "               'omega_thickness' : 0.005,\n",
    "               'x_omega3' : 0.03,\n",
    "                'inverted' : True}\n",
    "omegaParams = None\n",
    "\n",
    "material = 'Metal_Grey'\n",
    "diameter = 0.05\n",
    "tubetype = 'Round'\n",
    "axisofrotationTorqueTube = False\n",
    "torquetube = True\n",
    "tubeParams = {'diameter': diameter, \n",
    "              'tubetype': tubetype, \n",
    "              'material': material}\n",
    "\n",
    "TEST = demo.makeModule(name='TEST', x=x, y=y, bifi=1, torquetube=torquetube, xgap=xgap, ygap=ygap, \n",
    "                numpanels=numpanels, axisofrotationTorqueTube=axisofrotationTorqueTube, \n",
    "                cellModule=cellLevelModuleParams, glass=True, tubeParams=tubeParams,\n",
    "                 omegaParams=omegaParams, frameParams=frameParams)\n",
    "\n",
    "sceneDict = {'tilt':0,'pitch':3,'hub_height':2.0,'azimuth':90, 'nMods': 1, 'nRows': 1} \n",
    "\n",
    "scene = demo.makeScene(TEST,sceneDict)\n",
    "\n",
    "octfile = demo.makeOct(demo.getfilelist())  \n",
    "\n",
    "!rvu -vf views\\front.vp -e .01 -vp -0.1 0 3.5 -vd 0.0 0.0101 -0.9999 demo.oct\n",
    "#!rvu -vf views\\front.vp -e .01 -vp -0.4 0 5 -vd 0.0 0.0101 -0.9999 demo.oct"
   ]
  },
  {
   "cell_type": "code",
   "execution_count": 2,
   "id": "c167cefd",
   "metadata": {},
   "outputs": [
    {
     "ename": "NameError",
     "evalue": "name 'a' is not defined",
     "output_type": "error",
     "traceback": [
      "\u001b[1;31m---------------------------------------------------------------------------\u001b[0m",
      "\u001b[1;31mNameError\u001b[0m                                 Traceback (most recent call last)",
      "\u001b[1;32m~\\AppData\\Local\\Temp\\1/ipykernel_8912/1189138062.py\u001b[0m in \u001b[0;36m<module>\u001b[1;34m\u001b[0m\n\u001b[1;32m----> 1\u001b[1;33m \u001b[0mprint\u001b[0m\u001b[1;33m(\u001b[0m\u001b[0ma\u001b[0m\u001b[1;33m)\u001b[0m\u001b[1;33m\u001b[0m\u001b[1;33m\u001b[0m\u001b[0m\n\u001b[0m",
      "\u001b[1;31mNameError\u001b[0m: name 'a' is not defined"
     ]
    }
   ],
   "source": [
    "print(a)"
   ]
  },
  {
   "cell_type": "code",
   "execution_count": null,
   "id": "79b1db99",
   "metadata": {},
   "outputs": [],
   "source": []
  },
  {
   "cell_type": "code",
   "execution_count": null,
   "id": "ebfb9270",
   "metadata": {},
   "outputs": [],
   "source": []
  },
  {
   "cell_type": "code",
   "execution_count": null,
   "id": "63744e00",
   "metadata": {},
   "outputs": [],
   "source": [
    "import os\n",
    "from pathlib import Path\n",
    "\n",
    "testfolder = Path().resolve().parent.parent / 'bifacial_radiance' / 'TEMP'\n"
   ]
  },
  {
   "cell_type": "code",
   "execution_count": null,
   "id": "de43d262",
   "metadata": {},
   "outputs": [],
   "source": [
    "import pandas as pd"
   ]
  },
  {
   "cell_type": "code",
   "execution_count": null,
   "id": "be230e60",
   "metadata": {},
   "outputs": [],
   "source": [
    "import bifacial_radiance\n"
   ]
  },
  {
   "cell_type": "code",
   "execution_count": null,
   "id": "c8490830",
   "metadata": {},
   "outputs": [],
   "source": [
    "demo = bifacial_radiance.RadianceObj('demo',str(testfolder))  \n"
   ]
  },
  {
   "cell_type": "code",
   "execution_count": null,
   "id": "9b41bc01",
   "metadata": {},
   "outputs": [],
   "source": [
    "demo.setGround(0.3)  # This prints available materials.\n",
    "#epwfile = demo.getEPW(lat = 37.5, lon = -77.6)  # This location corresponds to Richmond, VA.\n",
    "epwfile = r'C:\\Users\\sayala\\Documents\\GitHub\\bifacial_radiance\\tests\\724666TYA.CSV'\n",
    "metdata = demo.readWeatherFile(epwfile, coerce_year=2001) \n",
    "timeindex = metdata.datetime.index(pd.to_datetime('2001-06-17 12:0:0 -7'))\n",
    "demo.gendaylit(timeindex)  # Noon, June 17th (timepoint # 4020)"
   ]
  },
  {
   "cell_type": "markdown",
   "id": "da2f6793",
   "metadata": {},
   "source": [
    "# Issue 1: makeModule x value not being updated for cell level module"
   ]
  },
  {
   "cell_type": "code",
   "execution_count": null,
   "id": "3e7c9116",
   "metadata": {},
   "outputs": [],
   "source": []
  },
  {
   "cell_type": "code",
   "execution_count": null,
   "id": "d93e94a9",
   "metadata": {},
   "outputs": [],
   "source": [
    "!rvu -vf views\\front.vp -e .01 -vp -1.2 0.9 2.9 -vd -0.3991 -0.3823 -0.8334 demo.oct"
   ]
  },
  {
   "cell_type": "code",
   "execution_count": null,
   "id": "f72fd8c2",
   "metadata": {},
   "outputs": [],
   "source": []
  },
  {
   "cell_type": "code",
   "execution_count": null,
   "id": "ab4affb0",
   "metadata": {},
   "outputs": [],
   "source": []
  },
  {
   "cell_type": "code",
   "execution_count": null,
   "id": "49ca2119",
   "metadata": {},
   "outputs": [],
   "source": [
    "module_type='half_cell'\n",
    "x=2.3\n",
    "y=1\n",
    "xgap = 0.1\n",
    "ygap = 0.2\n",
    "numpanels =3\n",
    "\n",
    "frameParams={'frame_material' : 'Metal_Grey',\n",
    "                'frame_thickness' : 0.002,  \n",
    "                'frame_z' : 0.024,\n",
    "                'frame_width' : 0.02,\n",
    "                'nSides_frame' : 4}\n",
    "    \n",
    "    \n",
    "omegaParams = { 'omega_material': 'Metal_Grey',\n",
    "               'x_omega1' : 0.05,\n",
    "               'mod_overlap' : 0.02,\n",
    "               'y_omega' : 1,\n",
    "               'omega_thickness' : 0.005,\n",
    "               'x_omega3' : 0.03,\n",
    "                'inverted' : True}\n",
    "\n",
    "material = 'Metal_Grey'\n",
    "diameter = 0.05\n",
    "tubetype = 'Round'\n",
    "axisofrotationTorqueTube = True\n",
    "torquetube = True\n",
    "tubeParams = {'diameter': diameter, \n",
    "              'tubetype': tubetype, \n",
    "              'material': material}\n",
    "\n",
    "TEST = demo.makeModule(name='TEST', x=x, y=y, bifi=1, torquetube=torquetube, xgap=xgap, ygap=ygap, \n",
    "                numpanels=numpanels, axisofrotationTorqueTube=axisofrotationTorqueTube, \n",
    "                #cellModule=cellLevelModuleParams, \n",
    "                 glass=True, tubeParams=tubeParams,\n",
    "                 omegaParams=omegaParams, frameParams=frameParams \n",
    "                 )\n",
    "\n",
    "sceneDict = {'tilt':0,'pitch':3,'hub_height':2.0,'azimuth':180, 'nMods': 1, 'nRows': 1} \n",
    "scene = demo.makeScene(TEST,sceneDict)\n",
    "\n",
    "octfile = demo.makeOct(demo.getfilelist())  \n"
   ]
  },
  {
   "cell_type": "code",
   "execution_count": null,
   "id": "ff31fac3",
   "metadata": {},
   "outputs": [],
   "source": [
    "!rvu -vf views\\front.vp -e .01 -vp -2 -1 1.5 -vd 0.9159 0.2789 0.2886 demo.oct"
   ]
  },
  {
   "cell_type": "code",
   "execution_count": null,
   "id": "3b1393b0",
   "metadata": {},
   "outputs": [],
   "source": [
    "!rvu -vf views\\front.vp -e .01 -vp -2.5 -1 2 -vd 0.9850 0.1407 -0.0995 demo.oct"
   ]
  },
  {
   "cell_type": "markdown",
   "id": "ced07ca2",
   "metadata": {},
   "source": [
    "## ISSUE 2:           x > y makemodule and nframes = 2"
   ]
  },
  {
   "cell_type": "code",
   "execution_count": null,
   "id": "e6b76c99",
   "metadata": {},
   "outputs": [],
   "source": [
    "module_type='half_cell'\n",
    "x=2.3\n",
    "y=1\n",
    "xgap = 0.1\n",
    "ygap = 0.2\n",
    "numpanels =3\n",
    "\n",
    "frameParams={'frame_material' : 'Metal_Grey',\n",
    "                'frame_thickness' : 0.002,  \n",
    "                'frame_z' : 0.024,\n",
    "                'frame_width' : 0.02,\n",
    "                'nSides_frame' : 2}\n",
    "    \n",
    "    \n",
    "omegaParams = { 'omega_material': 'Metal_Grey',\n",
    "               'x_omega1' : 0.05,\n",
    "               'mod_overlap' : 0.02,\n",
    "               'y_omega' : 1,\n",
    "               'omega_thickness' : 0.005,\n",
    "               'x_omega3' : 0.03,\n",
    "                'inverted' : True}\n",
    "\n",
    "material = 'Metal_Grey'\n",
    "diameter = 0.05\n",
    "tubetype = 'Round'\n",
    "axisofrotationTorqueTube = False\n",
    "torquetube = True\n",
    "tubeParams = {'diameter': diameter, \n",
    "              'tubetype': tubetype, \n",
    "              'material': material}\n",
    "\n",
    "TEST = demo.makeModule(name='TEST', x=x, y=y, bifi=1, torquetube=torquetube, xgap=xgap, ygap=ygap, \n",
    "                numpanels=numpanels, axisofrotationTorqueTube=axisofrotationTorqueTube, \n",
    "                #cellModule=cellLevelModuleParams, \n",
    "                 glass=False, tubeParams=tubeParams,\n",
    "                 omegaParams=omegaParams, frameParams=frameParams)\n",
    "\n",
    "sceneDict = {'tilt':25,'pitch':3,'hub_height':2.0,'azimuth':180, 'nMods': 1, 'nRows': 1} \n",
    "scene = demo.makeScene(TEST,sceneDict)\n",
    "\n",
    "octfile = demo.makeOct(demo.getfilelist())  \n"
   ]
  },
  {
   "cell_type": "code",
   "execution_count": null,
   "id": "2523113a",
   "metadata": {},
   "outputs": [],
   "source": [
    "!rvu -vf views\\front.vp -e .01 demo.oct"
   ]
  },
  {
   "cell_type": "code",
   "execution_count": null,
   "id": "c815527b",
   "metadata": {},
   "outputs": [],
   "source": [
    "!rvu -vf views\\front.vp -e .01 -vp -3.5 -1 2 -vd 0.9850 0.1407 -0.0995 demo.oct"
   ]
  },
  {
   "cell_type": "markdown",
   "id": "3dd6b0d4",
   "metadata": {},
   "source": [
    "## ISSUE 3:         Glass offset and Cell thickness"
   ]
  },
  {
   "cell_type": "code",
   "execution_count": null,
   "id": "accfa9f2",
   "metadata": {},
   "outputs": [],
   "source": []
  }
 ],
 "metadata": {
  "kernelspec": {
   "display_name": "Python 3 (ipykernel)",
   "language": "python",
   "name": "python3"
  },
  "language_info": {
   "codemirror_mode": {
    "name": "ipython",
    "version": 3
   },
   "file_extension": ".py",
   "mimetype": "text/x-python",
   "name": "python",
   "nbconvert_exporter": "python",
   "pygments_lexer": "ipython3",
   "version": "3.8.8"
  }
 },
 "nbformat": 4,
 "nbformat_minor": 5
}
