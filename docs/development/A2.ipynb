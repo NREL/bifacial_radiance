{
 "cells": [
  {
   "cell_type": "markdown",
   "id": "3b77188b",
   "metadata": {},
   "source": [
    "# A2\n",
    "* GCR = 0.4\n",
    "* Albedo = 0.5\n",
    "* Hub Height = 1.5\n",
    "* Configuration = 1-Up portrait\n",
    "* Ground surface = Horizontal\n",
    "***\n",
    "* A GCR of 0.4 for the Trina Vertex module (length = 2.384m) corresponds to a rowto-row spacing or pitch of 5.96m\n",
    "* 1-up Portrait: 5 rows, each with 25 modules\n",
    "* Torque tube diameter = 15 cm. (round)\n",
    "* Maximum tracker rotation angle = 55 deg\n",
    "* Backtracking is enabled\n",
    "* Location: Albuquerque, New Mexico USA (35.05°, -106.54°)"
   ]
  },
  {
   "cell_type": "code",
   "execution_count": 1,
   "id": "14519d7e",
   "metadata": {},
   "outputs": [
    {
     "name": "stdout",
     "output_type": "stream",
     "text": [
      "Your simulation will be stored in Scenarios/A2-ex\n"
     ]
    }
   ],
   "source": [
    "import os\n",
    "from pathlib import Path\n",
    "\n",
    "testfolder = 'Scenarios/A2-ex'\n",
    "\n",
    "if not os.path.exists(testfolder):\n",
    "    os.makedirs(testfolder)\n",
    "    \n",
    "print (\"Your simulation will be stored in %s\" % testfolder)"
   ]
  },
  {
   "cell_type": "code",
   "execution_count": 2,
   "id": "aa782cd2",
   "metadata": {},
   "outputs": [],
   "source": [
    "import bifacial_radiance as br\n",
    "import bifacialvf as bf\n",
    "import numpy as np\n",
    "import pandas as pd\n",
    "import matplotlib.pyplot as plt\n",
    "import sys, platform\n",
    "import csv\n",
    "from pathlib import Path"
   ]
  },
  {
   "cell_type": "code",
   "execution_count": 3,
   "id": "2d3d89b5",
   "metadata": {},
   "outputs": [
    {
     "name": "stdout",
     "output_type": "stream",
     "text": [
      "Working on a  Darwin 23.3.0\n",
      "Python version  3.11.5 (main, Sep 11 2023, 08:19:27) [Clang 14.0.6 ]\n",
      "Pandas version  2.0.3\n",
      "bifacial_radiance version  0.4.2+252.gae41aa2.dirty\n",
      "pyplot  3.7.2\n",
      "bifacialvf version  0.1.8.1\n"
     ]
    }
   ],
   "source": [
    "print(\"Working on a \", platform.system(), platform.release())\n",
    "print(\"Python version \", sys.version)\n",
    "print(\"Pandas version \", pd.__version__)\n",
    "print(\"bifacial_radiance version \", br.__version__)\n",
    "print(\"pyplot \", plt.matplotlib.__version__)\n",
    "print(\"bifacialvf version \", bf.__version__)"
   ]
  },
  {
   "cell_type": "code",
   "execution_count": 4,
   "id": "8a48f304",
   "metadata": {},
   "outputs": [],
   "source": [
    "simulationname = 'A2-ex'\n",
    "\n",
    "# Location Albuquerque, New Mexico, USA\n",
    "lat = 35.05\n",
    "lon = -106.54\n",
    "\n",
    "# Scene Parameters\n",
    "azimuth=90\n",
    "tilt=30\n",
    "\n",
    "# MakeModule Parameters\n",
    "moduletype='PVmod'\n",
    "numpanels=1\n",
    "module_x = 1.303 # m\n",
    "module_y = 2.384 # m. slope we will measure\n",
    "sensorsy=2\n",
    "torquetube_diam = 0.15\n",
    "\n",
    "zgap = 0.02 # m\n",
    "xgap = 0.002 # m\n",
    "\n",
    "# SceneDict Parameters\n",
    "pitch = 5.96 # m\n",
    "albedo = 0.5\n",
    "hub_height = 1.5 # m  \n",
    "nMods = 25 \n",
    "nRows = 5\n",
    "\n",
    "sceneDict = {'tilt':tilt,'pitch':pitch,'albedo': albedo,'hub_height':hub_height,'azimuth':azimuth, 'nMods': nMods, 'nRows': nRows} "
   ]
  },
  {
   "cell_type": "code",
   "execution_count": 5,
   "id": "eb5df558",
   "metadata": {
    "scrolled": true
   },
   "outputs": [
    {
     "name": "stdout",
     "output_type": "stream",
     "text": [
      "path = Scenarios/A2-ex\n",
      "Loading albedo, 1 value(s), 0.500 avg\n",
      "1 nonzero albedo values.\n"
     ]
    }
   ],
   "source": [
    "demo = br.RadianceObj(simulationname,path = testfolder)\n",
    "demo.setGround(albedo)"
   ]
  },
  {
   "cell_type": "code",
   "execution_count": 6,
   "id": "4b7e271b",
   "metadata": {},
   "outputs": [],
   "source": [
    "cumulativesky = False\n",
    "trackerParams = {\n",
    "    'limit_angle': 55,\n",
    "    'backtrack': True,\n",
    "    'gcr': 0.4,\n",
    "    'azimuth': 180,  # axis angle, N-S = 180\n",
    "    'cumulativesky': cumulativesky\n",
    "}"
   ]
  },
  {
   "cell_type": "code",
   "execution_count": 7,
   "id": "e1e7d382",
   "metadata": {},
   "outputs": [
    {
     "name": "stdout",
     "output_type": "stream",
     "text": [
      "\n",
      "Module Name: PVmod\n",
      "Module PVmod updated in module.json\n",
      "Pre-existing .rad file objects/PVmod.rad will be overwritten\n",
      "\n"
     ]
    }
   ],
   "source": [
    "module=demo.makeModule(name=moduletype,x=module_x,y=module_y, xgap=xgap, zgap=zgap)"
   ]
  },
  {
   "cell_type": "code",
   "execution_count": 8,
   "id": "1b2d5c2b",
   "metadata": {},
   "outputs": [
    {
     "name": "stdout",
     "output_type": "stream",
     "text": [
      "Module PVmod updated in module.json\n",
      "Pre-existing .rad file objects/PVmod.rad will be overwritten\n",
      "\n"
     ]
    }
   ],
   "source": [
    "module.addTorquetube(diameter=torquetube_diam, tubetype='Round', material='Metal_Grey', \n",
    "                     axisofrotation=True, visible=True, recompile=True)"
   ]
  },
  {
   "cell_type": "code",
   "execution_count": 9,
   "id": "cde19e8f",
   "metadata": {},
   "outputs": [
    {
     "data": {
      "text/plain": [
       "'/Users/storopov/Documents/GitHub/bifacial_radiance/docs/development/Instructions/Phase2_meteo_hourly_psm3format.csv'"
      ]
     },
     "execution_count": 9,
     "metadata": {},
     "output_type": "execute_result"
    }
   ],
   "source": [
    "weatherfile = str(Path().resolve().parent.parent / 'Instructions' / 'Phase2_meteo_hourly_psm3format.csv')\n",
    "weatherfile"
   ]
  },
  {
   "cell_type": "code",
   "execution_count": 10,
   "id": "966c7daf",
   "metadata": {
    "scrolled": true
   },
   "outputs": [
    {
     "name": "stdout",
     "output_type": "stream",
     "text": [
      "COLUMN DATAS Index(['Year', 'Month', 'Day', 'Hour', 'Minute', 'GHI', 'DNI', 'DHI',\n",
      "       'temp_air', 'wind_speed', 'humidity', 'Unnamed: 11', 'Unnamed: 12',\n",
      "       'Unnamed: 13', 'Unnamed: 14', 'Unnamed: 15', 'Unnamed: 16',\n",
      "       'Unnamed: 17'],\n",
      "      dtype='object')\n",
      "8760 line in WeatherFile. Assuming this is a standard hourly WeatherFile for the year for purposes of saving Gencumulativesky temporary weather files in EPW folder.\n",
      "Coercing year to 2022\n",
      "Filtering dates\n",
      "Saving file EPWs/metdata_temp.csv, # points: 8760\n",
      "WARNING: TMY interval was unable to be defined, so setting it to 1h.\n",
      "Calculating Sun position for Metdata that is left-labeled  with a delta of +30 mins. i.e. 12 is 12:30 sunpos.\n"
     ]
    }
   ],
   "source": [
    "metdata = demo.readWeatherFile(weatherfile, source='sam', starttime='2022-12-01_0000', endtime='2022-12-01_0800')"
   ]
  },
  {
   "cell_type": "code",
   "execution_count": 11,
   "id": "4600d501",
   "metadata": {},
   "outputs": [],
   "source": [
    "trackerdict = demo.set1axis(**trackerParams)"
   ]
  },
  {
   "cell_type": "code",
   "execution_count": null,
   "id": "971b167e",
   "metadata": {},
   "outputs": [],
   "source": []
  },
  {
   "cell_type": "code",
   "execution_count": 12,
   "id": "c8e6c735",
   "metadata": {},
   "outputs": [
    {
     "name": "stdout",
     "output_type": "stream",
     "text": [
      "Creating ~1 skyfiles. \n",
      "Created 1 skyfiles in /skies/\n"
     ]
    },
    {
     "data": {
      "text/plain": [
       "{'2022-12-01_0730': {'surf_azm': 90.0,\n",
       "  'surf_tilt': 20.75,\n",
       "  'theta': -20.75,\n",
       "  'dni': 596,\n",
       "  'ghi': 107,\n",
       "  'dhi': 23,\n",
       "  'temp_air': 3.2,\n",
       "  'wind_speed': 0.9,\n",
       "  'skyfile': 'skies/sky2_35.05_-106.54_2022-12-01_0730.rad'}}"
      ]
     },
     "execution_count": 12,
     "metadata": {},
     "output_type": "execute_result"
    }
   ],
   "source": [
    "demo.gendaylit1axis()"
   ]
  },
  {
   "cell_type": "code",
   "execution_count": 13,
   "id": "6023d245",
   "metadata": {},
   "outputs": [
    {
     "name": "stdout",
     "output_type": "stream",
     "text": [
      "\n",
      "Making ~1 .rad files for gendaylit 1-axis workflow (this takes a minute..)\n",
      "1 Radfiles created in /objects/\n",
      "\n",
      "Making 1 octfiles in root directory.\n",
      "Created 1axis_2022-12-01_0730.oct\n"
     ]
    }
   ],
   "source": [
    "trackerdict = demo.makeScene1axis(module=moduletype, sceneDict=sceneDict)\n",
    "trackerdict = demo.makeOct1axis()"
   ]
  },
  {
   "cell_type": "code",
   "execution_count": 14,
   "id": "29d1f8d6",
   "metadata": {},
   "outputs": [
    {
     "name": "stdout",
     "output_type": "stream",
     "text": [
      "Linescan in process: 1axis_2022-12-01_0730_Row3_Module13_Front\n",
      "Linescan in process: 1axis_2022-12-01_0730_Row3_Module13_Back\n",
      "Saved: results/irr_1axis_2022-12-01_0730_Row3_Module13.csv\n",
      "Index: 2022-12-01_0730. Wm2Front: 294.60564999999997. Wm2Back: 6.395369166666667\n"
     ]
    }
   ],
   "source": [
    "trackerdict1 = demo.analysis1axis(sensorsy=2) # Middle Module"
   ]
  },
  {
   "cell_type": "code",
   "execution_count": 15,
   "id": "cb29892b",
   "metadata": {},
   "outputs": [
    {
     "name": "stdout",
     "output_type": "stream",
     "text": [
      "Linescan in process: 1axis_2022-12-01_0730_Row3_Module1_Front\n",
      "Linescan in process: 1axis_2022-12-01_0730_Row3_Module1_Back\n",
      "Saved: results/irr_1axis_2022-12-01_0730_Row3_Module1.csv\n",
      "Index: 2022-12-01_0730. Wm2Front: 297.07123333333334. Wm2Back: 58.37038833333334\n"
     ]
    }
   ],
   "source": [
    "trackerdict2 = demo.analysis1axis(sensorsy=2, modWanted = 1) # South Module"
   ]
  },
  {
   "cell_type": "code",
   "execution_count": 16,
   "id": "a38f84b4",
   "metadata": {},
   "outputs": [
    {
     "name": "stdout",
     "output_type": "stream",
     "text": [
      "Linescan in process: 1axis_2022-12-01_0730_Row3_Module25_Front\n",
      "Linescan in process: 1axis_2022-12-01_0730_Row3_Module25_Back\n",
      "Saved: results/irr_1axis_2022-12-01_0730_Row3_Module25.csv\n",
      "Index: 2022-12-01_0730. Wm2Front: 295.5602833333333. Wm2Back: 9.131971166666666\n"
     ]
    }
   ],
   "source": [
    "trackerdict3 = demo.analysis1axis(sensorsy=2, modWanted = 25) # North Module"
   ]
  },
  {
   "cell_type": "code",
   "execution_count": 17,
   "id": "8a168f86",
   "metadata": {},
   "outputs": [
    {
     "name": "stdout",
     "output_type": "stream",
     "text": [
      "Bifaciality factor of module stored is  1\n",
      "No CECModule data passed; using default for Prism Solar BHC72-400\n"
     ]
    },
    {
     "name": "stderr",
     "output_type": "stream",
     "text": [
      "/Users/storopov/Documents/GitHub/bifacial_radiance/bifacial_radiance/performance.py:64: FutureWarning: Calling float on a single element Series is deprecated and will raise a TypeError in the future. Use float(ser.iloc[0]) instead\n",
      "  alpha_sc=float(CECMod.alpha_sc),\n",
      "/Users/storopov/Documents/GitHub/bifacial_radiance/bifacial_radiance/performance.py:65: FutureWarning: Calling float on a single element Series is deprecated and will raise a TypeError in the future. Use float(ser.iloc[0]) instead\n",
      "  a_ref=float(CECMod.a_ref),\n",
      "/Users/storopov/Documents/GitHub/bifacial_radiance/bifacial_radiance/performance.py:66: FutureWarning: Calling float on a single element Series is deprecated and will raise a TypeError in the future. Use float(ser.iloc[0]) instead\n",
      "  I_L_ref=float(CECMod.I_L_ref),\n",
      "/Users/storopov/Documents/GitHub/bifacial_radiance/bifacial_radiance/performance.py:67: FutureWarning: Calling float on a single element Series is deprecated and will raise a TypeError in the future. Use float(ser.iloc[0]) instead\n",
      "  I_o_ref=float(CECMod.I_o_ref),\n",
      "/Users/storopov/Documents/GitHub/bifacial_radiance/bifacial_radiance/performance.py:68: FutureWarning: Calling float on a single element Series is deprecated and will raise a TypeError in the future. Use float(ser.iloc[0]) instead\n",
      "  R_sh_ref=float(CECMod.R_sh_ref),\n",
      "/Users/storopov/Documents/GitHub/bifacial_radiance/bifacial_radiance/performance.py:69: FutureWarning: Calling float on a single element Series is deprecated and will raise a TypeError in the future. Use float(ser.iloc[0]) instead\n",
      "  R_s=float(CECMod.R_s),\n",
      "/Users/storopov/Documents/GitHub/bifacial_radiance/bifacial_radiance/performance.py:70: FutureWarning: Calling float on a single element Series is deprecated and will raise a TypeError in the future. Use float(ser.iloc[0]) instead\n",
      "  Adjust=float(CECMod.Adjust)\n",
      "/Users/storopov/Documents/GitHub/bifacial_radiance/bifacial_radiance/performance.py:64: FutureWarning: Calling float on a single element Series is deprecated and will raise a TypeError in the future. Use float(ser.iloc[0]) instead\n",
      "  alpha_sc=float(CECMod.alpha_sc),\n",
      "/Users/storopov/Documents/GitHub/bifacial_radiance/bifacial_radiance/performance.py:65: FutureWarning: Calling float on a single element Series is deprecated and will raise a TypeError in the future. Use float(ser.iloc[0]) instead\n",
      "  a_ref=float(CECMod.a_ref),\n",
      "/Users/storopov/Documents/GitHub/bifacial_radiance/bifacial_radiance/performance.py:66: FutureWarning: Calling float on a single element Series is deprecated and will raise a TypeError in the future. Use float(ser.iloc[0]) instead\n",
      "  I_L_ref=float(CECMod.I_L_ref),\n",
      "/Users/storopov/Documents/GitHub/bifacial_radiance/bifacial_radiance/performance.py:67: FutureWarning: Calling float on a single element Series is deprecated and will raise a TypeError in the future. Use float(ser.iloc[0]) instead\n",
      "  I_o_ref=float(CECMod.I_o_ref),\n",
      "/Users/storopov/Documents/GitHub/bifacial_radiance/bifacial_radiance/performance.py:68: FutureWarning: Calling float on a single element Series is deprecated and will raise a TypeError in the future. Use float(ser.iloc[0]) instead\n",
      "  R_sh_ref=float(CECMod.R_sh_ref),\n",
      "/Users/storopov/Documents/GitHub/bifacial_radiance/bifacial_radiance/performance.py:69: FutureWarning: Calling float on a single element Series is deprecated and will raise a TypeError in the future. Use float(ser.iloc[0]) instead\n",
      "  R_s=float(CECMod.R_s),\n",
      "/Users/storopov/Documents/GitHub/bifacial_radiance/bifacial_radiance/performance.py:70: FutureWarning: Calling float on a single element Series is deprecated and will raise a TypeError in the future. Use float(ser.iloc[0]) instead\n",
      "  Adjust=float(CECMod.Adjust)\n"
     ]
    },
    {
     "data": {
      "text/plain": [
       "{'2022-12-01_0730': {'surf_azm': 90.0,\n",
       "  'surf_tilt': 20.75,\n",
       "  'theta': -20.75,\n",
       "  'dni': 596,\n",
       "  'ghi': 107,\n",
       "  'dhi': 23,\n",
       "  'temp_air': 3.2,\n",
       "  'wind_speed': 0.9,\n",
       "  'skyfile': 'skies/sky2_35.05_-106.54_2022-12-01_0730.rad',\n",
       "  'radfile': 'objects/1axis2022-12-01_0730__C_1.11134_rtr_5.96000_tilt_20.75000_25modsx5rows_origin0,0.rad',\n",
       "  'scene': {'module': {'x': 1.303, 'y': 2.384, 'z': 0.02, 'modulematerial': 'black', 'scenex': 1.305, 'sceney': 2.384, 'scenez': 0.095, 'numpanels': 1, 'bifi': 1, 'text': '! genbox black PVmod 1.303 2.384 0.02 | xform -t -0.6515 -1.192 0.095 -a 1 -t 0 2.384 0\\r\\n! genrev Metal_Grey tube1 t*1.305 0.075 32 | xform -ry 90 -t -0.6525 0 0', 'modulefile': 'objects/PVmod.rad', 'glass': False, 'offsetfromaxis': 0.095, 'xgap': 0.002, 'ygap': 0.0, 'zgap': 0.02}, 'modulefile': 'objects/PVmod.rad', 'hpc': False, 'name': 'Scene0', 'gcr': 0.39999999999999997, 'text': '!xform -rx 20.75 -t 0 0 1.5 -a 25 -t 1.305 0 0 -a 5 -t 0 5.96 0 -i 1 -t -15.66 -11.92 0 -rz 90.0 -t 0 0 0 objects/PVmod.rad', 'radfiles': 'objects/1axis2022-12-01_0730__C_1.11134_rtr_5.96000_tilt_20.75000_25modsx5rows_origin0,0.rad', 'sceneDict': {'tilt': 20.75, 'pitch': 5.96, 'clearance_height': 1.1113427313165058, 'azimuth': 90.0, 'nMods': 25, 'nRows': 5, 'modulez': 0.02, 'axis_tilt': 0, 'originx': 0, 'originy': 0}},\n",
       "  'octfile': '1axis_2022-12-01_0730.oct',\n",
       "  'Results': [{'rowWanted': 3,\n",
       "    'modWanted': 13,\n",
       "    'AnalysisObj': {'octfile': '1axis_2022-12-01_0730.oct', 'name': '1axis_2022-12-01_0730', 'hpc': False, 'modWanted': 13, 'rowWanted': 3, 'x': [0.4126582, -0.3304626], 'y': [2.526802e-17, -2.0235e-17], 'z': [1.467704, 1.749247], 'rearZ': [1.447131, 1.728674], 'mattype': ['a12.2.a0.PVmod.6457', 'a12.2.a0.PVmod.6457'], 'rearMat': ['a12.2.a0.PVmod.2310', 'a12.2.a0.PVmod.2310'], 'Wm2Front': [293.4560666666667, 295.7552333333333], 'Wm2Back': [5.767591666666667, 7.023146666666666], 'Back/FrontRatio': [0.01965395392307245, 0.02374640286533268], 'backRatio': [0.01965395392307245, 0.02374640286533268], 'rearX': [0.4048637, -0.338257], 'rearY': [2.479075e-17, -2.071227e-17]},\n",
       "    'Wm2Front': [293.4560666666667, 295.7552333333333],\n",
       "    'Wm2Back': [5.767591666666667, 7.023146666666666],\n",
       "    'backRatio': [0.01965395392307245, 0.02374640286533268]},\n",
       "   {'rowWanted': 3,\n",
       "    'modWanted': 1,\n",
       "    'AnalysisObj': {'octfile': '1axis_2022-12-01_0730.oct', 'name': '1axis_2022-12-01_0730', 'hpc': False, 'modWanted': 1, 'rowWanted': 3, 'x': [0.4126582, -0.3304626], 'y': [-15.66, -15.66], 'z': [1.467704, 1.749247], 'rearZ': [1.447131, 1.728674], 'mattype': ['a0.2.a0.PVmod.6457', 'a0.2.a0.PVmod.6457'], 'rearMat': ['a0.2.a0.PVmod.2310', 'a0.2.a0.PVmod.2310'], 'Wm2Front': [296.90439999999995, 297.23806666666667], 'Wm2Back': [59.11784, 57.62293666666667], 'Back/FrontRatio': [0.1991133876312119, 0.19386057597632975], 'backRatio': [0.1991133876312119, 0.19386057597632975], 'rearX': [0.4048637, -0.338257], 'rearY': [-15.66, -15.66]},\n",
       "    'Wm2Front': [296.90439999999995, 297.23806666666667],\n",
       "    'Wm2Back': [59.11784, 57.62293666666667],\n",
       "    'backRatio': [0.1991133876312119, 0.19386057597632975]},\n",
       "   {'rowWanted': 3,\n",
       "    'modWanted': 25,\n",
       "    'AnalysisObj': {'octfile': '1axis_2022-12-01_0730.oct', 'name': '1axis_2022-12-01_0730', 'hpc': False, 'modWanted': 25, 'rowWanted': 3, 'x': [0.4126582, -0.3304626], 'y': [15.66, 15.66], 'z': [1.467704, 1.749247], 'rearZ': [1.447131, 1.728674], 'mattype': ['a24.2.a0.PVmod.6457', 'a24.2.a0.PVmod.6457'], 'rearMat': ['a24.2.a0.PVmod.2310', 'a24.2.a0.PVmod.2310'], 'Wm2Front': [294.6144, 296.5061666666666], 'Wm2Back': [8.186235666666667, 10.077706666666666], 'Back/FrontRatio': [0.02778617705207083, 0.033988071114638606], 'backRatio': [0.02778617705207083, 0.033988071114638606], 'rearX': [0.4048637, -0.338257], 'rearY': [15.66, 15.66]},\n",
       "    'Wm2Front': [294.6144, 296.5061666666666],\n",
       "    'Wm2Back': [8.186235666666667, 10.077706666666666],\n",
       "    'backRatio': [0.02778617705207083, 0.033988071114638606]}],\n",
       "  'POA_eff': 301.00101916666665,\n",
       "  'Gfront_mean': 294.60564999999997,\n",
       "  'Grear_mean': 6.395369166666667,\n",
       "  'Pout_raw': 125.7911185036769,\n",
       "  'Pout_Gfront': 123.14766794648318,\n",
       "  'Mismatch': 0.00011291994421683644,\n",
       "  'Pout': 125.79097646041605,\n",
       "  'Module_temp': 12.104380047985446}}"
      ]
     },
     "execution_count": 17,
     "metadata": {},
     "output_type": "execute_result"
    }
   ],
   "source": [
    "demo.calculateResults()"
   ]
  },
  {
   "cell_type": "code",
   "execution_count": 18,
   "id": "694c80c7",
   "metadata": {},
   "outputs": [
    {
     "data": {
      "text/html": [
       "<div>\n",
       "<style scoped>\n",
       "    .dataframe tbody tr th:only-of-type {\n",
       "        vertical-align: middle;\n",
       "    }\n",
       "\n",
       "    .dataframe tbody tr th {\n",
       "        vertical-align: top;\n",
       "    }\n",
       "\n",
       "    .dataframe thead th {\n",
       "        text-align: right;\n",
       "    }\n",
       "</style>\n",
       "<table border=\"1\" class=\"dataframe\">\n",
       "  <thead>\n",
       "    <tr style=\"text-align: right;\">\n",
       "      <th></th>\n",
       "      <th>module</th>\n",
       "      <th>row</th>\n",
       "      <th>POA_eff</th>\n",
       "      <th>Grear_mean</th>\n",
       "      <th>Gfront_mean</th>\n",
       "      <th>Module_temp</th>\n",
       "      <th>Pout_raw</th>\n",
       "      <th>Pout_Gfront</th>\n",
       "      <th>BGG</th>\n",
       "      <th>BGE</th>\n",
       "      <th>Mismatch</th>\n",
       "      <th>Pout</th>\n",
       "      <th>Wind Speed</th>\n",
       "      <th>DNI</th>\n",
       "      <th>DHI</th>\n",
       "      <th>GHI</th>\n",
       "    </tr>\n",
       "    <tr>\n",
       "      <th>timestamp</th>\n",
       "      <th></th>\n",
       "      <th></th>\n",
       "      <th></th>\n",
       "      <th></th>\n",
       "      <th></th>\n",
       "      <th></th>\n",
       "      <th></th>\n",
       "      <th></th>\n",
       "      <th></th>\n",
       "      <th></th>\n",
       "      <th></th>\n",
       "      <th></th>\n",
       "      <th></th>\n",
       "      <th></th>\n",
       "      <th></th>\n",
       "      <th></th>\n",
       "    </tr>\n",
       "  </thead>\n",
       "  <tbody>\n",
       "    <tr>\n",
       "      <th>2022-12-01_0730</th>\n",
       "      <td>13</td>\n",
       "      <td>3</td>\n",
       "      <td>301.001019</td>\n",
       "      <td>6.395369</td>\n",
       "      <td>294.605650</td>\n",
       "      <td>12.104380</td>\n",
       "      <td>125.791119</td>\n",
       "      <td>123.147668</td>\n",
       "      <td>2.170824</td>\n",
       "      <td>2.146570</td>\n",
       "      <td>0.000113</td>\n",
       "      <td>125.790976</td>\n",
       "      <td>0.9</td>\n",
       "      <td>596</td>\n",
       "      <td>23</td>\n",
       "      <td>107</td>\n",
       "    </tr>\n",
       "    <tr>\n",
       "      <th>2022-12-01_0730</th>\n",
       "      <td>1</td>\n",
       "      <td>3</td>\n",
       "      <td>355.441622</td>\n",
       "      <td>58.370388</td>\n",
       "      <td>297.071233</td>\n",
       "      <td>13.714872</td>\n",
       "      <td>148.146910</td>\n",
       "      <td>124.167201</td>\n",
       "      <td>19.648617</td>\n",
       "      <td>19.312434</td>\n",
       "      <td>0.000114</td>\n",
       "      <td>148.146742</td>\n",
       "      <td>0.9</td>\n",
       "      <td>596</td>\n",
       "      <td>23</td>\n",
       "      <td>107</td>\n",
       "    </tr>\n",
       "    <tr>\n",
       "      <th>2022-12-01_0730</th>\n",
       "      <td>25</td>\n",
       "      <td>3</td>\n",
       "      <td>304.692254</td>\n",
       "      <td>9.131971</td>\n",
       "      <td>295.560283</td>\n",
       "      <td>12.213576</td>\n",
       "      <td>127.315250</td>\n",
       "      <td>123.542476</td>\n",
       "      <td>3.089715</td>\n",
       "      <td>3.053827</td>\n",
       "      <td>0.000168</td>\n",
       "      <td>127.315036</td>\n",
       "      <td>0.9</td>\n",
       "      <td>596</td>\n",
       "      <td>23</td>\n",
       "      <td>107</td>\n",
       "    </tr>\n",
       "  </tbody>\n",
       "</table>\n",
       "</div>"
      ],
      "text/plain": [
       "                 module  row     POA_eff  Grear_mean  Gfront_mean  \\\n",
       "timestamp                                                           \n",
       "2022-12-01_0730      13    3  301.001019    6.395369   294.605650   \n",
       "2022-12-01_0730       1    3  355.441622   58.370388   297.071233   \n",
       "2022-12-01_0730      25    3  304.692254    9.131971   295.560283   \n",
       "\n",
       "                 Module_temp    Pout_raw  Pout_Gfront        BGG        BGE  \\\n",
       "timestamp                                                                     \n",
       "2022-12-01_0730    12.104380  125.791119   123.147668   2.170824   2.146570   \n",
       "2022-12-01_0730    13.714872  148.146910   124.167201  19.648617  19.312434   \n",
       "2022-12-01_0730    12.213576  127.315250   123.542476   3.089715   3.053827   \n",
       "\n",
       "                 Mismatch        Pout  Wind Speed  DNI  DHI  GHI  \n",
       "timestamp                                                         \n",
       "2022-12-01_0730  0.000113  125.790976         0.9  596   23  107  \n",
       "2022-12-01_0730  0.000114  148.146742         0.9  596   23  107  \n",
       "2022-12-01_0730  0.000168  127.315036         0.9  596   23  107  "
      ]
     },
     "execution_count": 18,
     "metadata": {},
     "output_type": "execute_result"
    }
   ],
   "source": [
    "demo.CompiledResults.set_index('timestamp', inplace=True)\n",
    "demo.CompiledResults\n",
    "# Grear_mean and Gfront_mean values to be recorded in the excel"
   ]
  },
  {
   "cell_type": "code",
   "execution_count": 19,
   "id": "13860929",
   "metadata": {},
   "outputs": [],
   "source": [
    "demo.exportScenarioData(trackerdict1, savefile = Path().resolve().parent.parent / 'Results' / 'A2-ex.csv')"
   ]
  },
  {
   "cell_type": "code",
   "execution_count": 20,
   "id": "658fda71",
   "metadata": {},
   "outputs": [],
   "source": [
    "# demo.exportTrackerDict(trackerdict, savefile = Path().resolve().parent.parent / 'Results' / 'A2-Dec-27-M2.csv')"
   ]
  },
  {
   "cell_type": "code",
   "execution_count": 21,
   "id": "669cc0b8",
   "metadata": {},
   "outputs": [],
   "source": [
    "# trackerdict"
   ]
  },
  {
   "cell_type": "code",
   "execution_count": 22,
   "id": "268ff6b6",
   "metadata": {},
   "outputs": [],
   "source": [
    "# demo.CompiledResults.to_csv(Path().resolve().parent.parent / 'Results' / 'A2-ex.csv')"
   ]
  },
  {
   "cell_type": "code",
   "execution_count": 23,
   "id": "4dda82b5",
   "metadata": {},
   "outputs": [],
   "source": [
    "# demo.CompiledResults"
   ]
  },
  {
   "cell_type": "code",
   "execution_count": null,
   "id": "e9d2a9f7",
   "metadata": {},
   "outputs": [],
   "source": []
  }
 ],
 "metadata": {
  "kernelspec": {
   "display_name": "Python 3 (ipykernel)",
   "language": "python",
   "name": "python3"
  },
  "language_info": {
   "codemirror_mode": {
    "name": "ipython",
    "version": 3
   },
   "file_extension": ".py",
   "mimetype": "text/x-python",
   "name": "python",
   "nbconvert_exporter": "python",
   "pygments_lexer": "ipython3",
   "version": "3.11.5"
  }
 },
 "nbformat": 4,
 "nbformat_minor": 5
}
