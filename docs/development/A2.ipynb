{
 "cells": [
  {
   "cell_type": "markdown",
   "id": "3b77188b",
   "metadata": {},
   "source": [
    "# A2\n",
    "* GCR = 0.4\n",
    "* Albedo = 0.5\n",
    "* Hub Height = 1.5\n",
    "* Configuration = 1-Up portrait\n",
    "* Ground surface = Horizontal\n",
    "***\n",
    "* A GCR of 0.4 for the Trina Vertex module (length = 2.384m) corresponds to a rowto-row spacing or pitch of 5.96m\n",
    "* 1-up Portrait: 5 rows, each with 25 modules\n",
    "* Torque tube diameter = 15 cm. (round)\n",
    "* Maximum tracker rotation angle = 55 deg\n",
    "* Backtracking is enabled\n",
    "* Location: Albuquerque, New Mexico USA (35.05°, -106.54°)"
   ]
  },
  {
   "cell_type": "code",
   "execution_count": 1,
   "id": "14519d7e",
   "metadata": {},
   "outputs": [
    {
     "name": "stdout",
     "output_type": "stream",
     "text": [
      "Your simulation will be stored in Scenarios/A2-1\n"
     ]
    }
   ],
   "source": [
    "import os\n",
    "from pathlib import Path\n",
    "\n",
    "testfolder = 'Scenarios/A2-1'\n",
    "\n",
    "if not os.path.exists(testfolder):\n",
    "    os.makedirs(testfolder)\n",
    "    \n",
    "print (\"Your simulation will be stored in %s\" % testfolder)"
   ]
  },
  {
   "cell_type": "code",
   "execution_count": 2,
   "id": "aa782cd2",
   "metadata": {},
   "outputs": [],
   "source": [
    "import bifacial_radiance as br\n",
    "import bifacialvf as bf\n",
    "import numpy as np\n",
    "import pandas as pd\n",
    "import matplotlib.pyplot as plt\n",
    "import sys, platform\n",
    "import csv\n",
    "from pathlib import Path"
   ]
  },
  {
   "cell_type": "code",
   "execution_count": 3,
   "id": "2d3d89b5",
   "metadata": {},
   "outputs": [
    {
     "name": "stdout",
     "output_type": "stream",
     "text": [
      "Working on a  Darwin 23.3.0\n",
      "Python version  3.11.5 (main, Sep 11 2023, 08:19:27) [Clang 14.0.6 ]\n",
      "Pandas version  2.0.3\n",
      "bifacial_radiance version  0.4.2+247.g47d2881.dirty\n",
      "pyplot  3.7.2\n",
      "bifacialvf version  0.1.8.1\n"
     ]
    }
   ],
   "source": [
    "print(\"Working on a \", platform.system(), platform.release())\n",
    "print(\"Python version \", sys.version)\n",
    "print(\"Pandas version \", pd.__version__)\n",
    "print(\"bifacial_radiance version \", br.__version__)\n",
    "print(\"pyplot \", plt.matplotlib.__version__)\n",
    "print(\"bifacialvf version \", bf.__version__)"
   ]
  },
  {
   "cell_type": "code",
   "execution_count": 4,
   "id": "8a48f304",
   "metadata": {},
   "outputs": [],
   "source": [
    "simulationname = 'A2-1'\n",
    "\n",
    "# Location Albuquerque, New Mexico, USA\n",
    "lat = 35.05\n",
    "lon = -106.54\n",
    "\n",
    "# Scene Parameters\n",
    "azimuth=90\n",
    "tilt=30\n",
    "\n",
    "# MakeModule Parameters\n",
    "moduletype='PVmod'\n",
    "numpanels=1\n",
    "module_x = 1.303 # m\n",
    "module_y = 2.384 # m. slope we will measure\n",
    "sensorsy=2\n",
    "torquetube_diam = 0.15\n",
    "\n",
    "zgap = 0.02 # m\n",
    "xgap = 0.002 # m\n",
    "\n",
    "# SceneDict Parameters\n",
    "pitch = 5.96 # m\n",
    "albedo = 0.5\n",
    "hub_height = 1.5 # m  \n",
    "nMods = 25 \n",
    "nRows = 5\n",
    "\n",
    "sceneDict = {'tilt':tilt,'pitch':pitch,'albedo': albedo,'hub_height':hub_height,'azimuth':azimuth, 'nMods': nMods, 'nRows': nRows} "
   ]
  },
  {
   "cell_type": "code",
   "execution_count": 5,
   "id": "eb5df558",
   "metadata": {
    "scrolled": true
   },
   "outputs": [
    {
     "name": "stdout",
     "output_type": "stream",
     "text": [
      "path = Scenarios/A2-1\n",
      "Loading albedo, 1 value(s), 0.500 avg\n",
      "1 nonzero albedo values.\n"
     ]
    }
   ],
   "source": [
    "demo = br.RadianceObj(simulationname,path = testfolder)\n",
    "demo.setGround(albedo)"
   ]
  },
  {
   "cell_type": "code",
   "execution_count": 6,
   "id": "4b7e271b",
   "metadata": {},
   "outputs": [],
   "source": [
    "cumulativesky = False\n",
    "trackerParams = {\n",
    "    'limit_angle': 55,\n",
    "    'backtrack': True,\n",
    "    'gcr': 0.4,\n",
    "    'azimuth': 180,  # axis angle, N-S = 180\n",
    "    'cumulativesky': cumulativesky\n",
    "}"
   ]
  },
  {
   "cell_type": "code",
   "execution_count": 7,
   "id": "e1e7d382",
   "metadata": {},
   "outputs": [
    {
     "name": "stdout",
     "output_type": "stream",
     "text": [
      "\n",
      "Module Name: PVmod\n",
      "Module PVmod updated in module.json\n",
      "Pre-existing .rad file objects/PVmod.rad will be overwritten\n",
      "\n"
     ]
    }
   ],
   "source": [
    "module=demo.makeModule(name=moduletype,x=module_x,y=module_y, xgap=xgap, zgap=zgap)"
   ]
  },
  {
   "cell_type": "code",
   "execution_count": 8,
   "id": "1b2d5c2b",
   "metadata": {},
   "outputs": [
    {
     "name": "stdout",
     "output_type": "stream",
     "text": [
      "Module PVmod updated in module.json\n",
      "Pre-existing .rad file objects/PVmod.rad will be overwritten\n",
      "\n"
     ]
    }
   ],
   "source": [
    "module.addTorquetube(diameter=torquetube_diam, tubetype='Round', material='Metal_Grey', \n",
    "                     axisofrotation=True, visible=True, recompile=True)"
   ]
  },
  {
   "cell_type": "code",
   "execution_count": 9,
   "id": "cde19e8f",
   "metadata": {},
   "outputs": [
    {
     "data": {
      "text/plain": [
       "'/Users/storopov/Documents/GitHub/bifacial_radiance/docs/development/Instructions/Phase2_meteo_hourly_psm3format.csv'"
      ]
     },
     "execution_count": 9,
     "metadata": {},
     "output_type": "execute_result"
    }
   ],
   "source": [
    "weatherfile = str(Path().resolve().parent.parent / 'Instructions' / 'Phase2_meteo_hourly_psm3format.csv')\n",
    "weatherfile"
   ]
  },
  {
   "cell_type": "code",
   "execution_count": 10,
   "id": "966c7daf",
   "metadata": {
    "scrolled": true
   },
   "outputs": [
    {
     "name": "stdout",
     "output_type": "stream",
     "text": [
      "COLUMN DATAS Index(['Year', 'Month', 'Day', 'Hour', 'Minute', 'GHI', 'DNI', 'DHI',\n",
      "       'temp_air', 'wind_speed', 'humidity', 'Unnamed: 11', 'Unnamed: 12',\n",
      "       'Unnamed: 13', 'Unnamed: 14', 'Unnamed: 15', 'Unnamed: 16',\n",
      "       'Unnamed: 17'],\n",
      "      dtype='object')\n",
      "8760 line in WeatherFile. Assuming this is a standard hourly WeatherFile for the year for purposes of saving Gencumulativesky temporary weather files in EPW folder.\n",
      "Coercing year to 2022\n",
      "Filtering dates\n",
      "Saving file EPWs/metdata_temp.csv, # points: 8760\n",
      "Calculating Sun position for Metdata that is left-labeled  with a delta of +30 mins. i.e. 12 is 12:30 sunpos.\n"
     ]
    }
   ],
   "source": [
    "metdata = demo.readWeatherFile(weatherfile, source='sam', starttime='2022-12-27_0000', endtime='2022-12-28_0000')"
   ]
  },
  {
   "cell_type": "code",
   "execution_count": 11,
   "id": "556da4dc",
   "metadata": {},
   "outputs": [],
   "source": [
    "trackerdict = demo.set1axis(**trackerParams)"
   ]
  },
  {
   "cell_type": "code",
   "execution_count": 12,
   "id": "e814024e",
   "metadata": {},
   "outputs": [
    {
     "name": "stdout",
     "output_type": "stream",
     "text": [
      "Creating ~8 skyfiles. \n",
      "Created 8 skyfiles in /skies/\n"
     ]
    },
    {
     "data": {
      "text/plain": [
       "{'2022-12-27_0830': {'surf_azm': 90.0,\n",
       "  'surf_tilt': 55.0,\n",
       "  'theta': -55.0,\n",
       "  'dni': 720,\n",
       "  'ghi': 202,\n",
       "  'dhi': 34,\n",
       "  'temp_air': 5.3,\n",
       "  'wind_speed': 1.3,\n",
       "  'skyfile': 'skies/sky2_35.05_-106.54_2022-12-27_0830.rad'},\n",
       " '2022-12-27_0930': {'surf_azm': 90.0,\n",
       "  'surf_tilt': 49.63,\n",
       "  'theta': -49.63,\n",
       "  'dni': 879,\n",
       "  'ghi': 367,\n",
       "  'dhi': 49,\n",
       "  'temp_air': 7.2,\n",
       "  'wind_speed': 2.0,\n",
       "  'skyfile': 'skies/sky2_35.05_-106.54_2022-12-27_0930.rad'},\n",
       " '2022-12-27_1030': {'surf_azm': 90.0,\n",
       "  'surf_tilt': 28.36,\n",
       "  'theta': -28.36,\n",
       "  'dni': 787,\n",
       "  'ghi': 474,\n",
       "  'dhi': 105,\n",
       "  'temp_air': 8.3,\n",
       "  'wind_speed': 4.0,\n",
       "  'skyfile': 'skies/sky2_35.05_-106.54_2022-12-27_1030.rad'},\n",
       " '2022-12-27_1130': {'surf_azm': 90.0,\n",
       "  'surf_tilt': 3.2,\n",
       "  'theta': -3.2,\n",
       "  'dni': 734,\n",
       "  'ghi': 537,\n",
       "  'dhi': 147,\n",
       "  'temp_air': 9.6,\n",
       "  'wind_speed': 4.0,\n",
       "  'skyfile': 'skies/sky2_35.05_-106.54_2022-12-27_1130.rad'},\n",
       " '2022-12-27_1230': {'surf_azm': 270.0,\n",
       "  'surf_tilt': 22.5,\n",
       "  'theta': 22.5,\n",
       "  'dni': 410,\n",
       "  'ghi': 471,\n",
       "  'dhi': 244,\n",
       "  'temp_air': 10.4,\n",
       "  'wind_speed': 3.6,\n",
       "  'skyfile': 'skies/sky2_35.05_-106.54_2022-12-27_1230.rad'},\n",
       " '2022-12-27_1330': {'surf_azm': 270.0,\n",
       "  'surf_tilt': 44.85,\n",
       "  'theta': 44.85,\n",
       "  'dni': 157,\n",
       "  'ghi': 349,\n",
       "  'dhi': 267,\n",
       "  'temp_air': 11.3,\n",
       "  'wind_speed': 2.0,\n",
       "  'skyfile': 'skies/sky2_35.05_-106.54_2022-12-27_1330.rad'},\n",
       " '2022-12-27_1430': {'surf_azm': 270.0,\n",
       "  'surf_tilt': 55.0,\n",
       "  'theta': 55.0,\n",
       "  'dni': 513,\n",
       "  'ghi': 314,\n",
       "  'dhi': 115,\n",
       "  'temp_air': 12.3,\n",
       "  'wind_speed': 1.4,\n",
       "  'skyfile': 'skies/sky2_35.05_-106.54_2022-12-27_1430.rad'},\n",
       " '2022-12-27_1530': {'surf_azm': 270.0,\n",
       "  'surf_tilt': 19.82,\n",
       "  'theta': 19.82,\n",
       "  'dni': 151,\n",
       "  'ghi': 164,\n",
       "  'dhi': 118,\n",
       "  'temp_air': 12.8,\n",
       "  'wind_speed': 2.7,\n",
       "  'skyfile': 'skies/sky2_35.05_-106.54_2022-12-27_1530.rad'}}"
      ]
     },
     "execution_count": 12,
     "metadata": {},
     "output_type": "execute_result"
    }
   ],
   "source": [
    "demo.gendaylit1axis()"
   ]
  },
  {
   "cell_type": "code",
   "execution_count": 13,
   "id": "6023d245",
   "metadata": {},
   "outputs": [
    {
     "name": "stdout",
     "output_type": "stream",
     "text": [
      "\n",
      "Making ~8 .rad files for gendaylit 1-axis workflow (this takes a minute..)\n",
      "8 Radfiles created in /objects/\n",
      "\n",
      "Making 8 octfiles in root directory.\n",
      "Created 1axis_2022-12-27_0830.oct\n",
      "Created 1axis_2022-12-27_0930.oct\n",
      "Created 1axis_2022-12-27_1030.oct\n",
      "Created 1axis_2022-12-27_1130.oct\n",
      "Created 1axis_2022-12-27_1230.oct\n",
      "Created 1axis_2022-12-27_1330.oct\n",
      "Created 1axis_2022-12-27_1430.oct\n",
      "Created 1axis_2022-12-27_1530.oct\n"
     ]
    }
   ],
   "source": [
    "trackerdict = demo.makeScene1axis(module=moduletype, sceneDict=sceneDict)\n",
    "trackerdict = demo.makeOct1axis()"
   ]
  },
  {
   "cell_type": "code",
   "execution_count": 14,
   "id": "29d1f8d6",
   "metadata": {},
   "outputs": [
    {
     "name": "stdout",
     "output_type": "stream",
     "text": [
      "Linescan in process: 1axis_2022-12-27_0830_Row3_Module13_Front\n",
      "Linescan in process: 1axis_2022-12-27_0830_Row3_Module13_Back\n",
      "Saved: results/irr_1axis_2022-12-27_0830_Row3_Module13.csv\n",
      "Index: 2022-12-27_0830. Wm2Front: 550.4648833333333. Wm2Back: 13.156466666666667\n",
      "Linescan in process: 1axis_2022-12-27_0930_Row3_Module13_Front\n",
      "Linescan in process: 1axis_2022-12-27_0930_Row3_Module13_Back\n",
      "Saved: results/irr_1axis_2022-12-27_0930_Row3_Module13.csv\n",
      "Index: 2022-12-27_0930. Wm2Front: 617.4012666666667. Wm2Back: 51.33484\n",
      "Linescan in process: 1axis_2022-12-27_1030_Row3_Module13_Front\n",
      "Linescan in process: 1axis_2022-12-27_1030_Row3_Module13_Back\n",
      "Saved: results/irr_1axis_2022-12-27_1030_Row3_Module13.csv\n",
      "Index: 2022-12-27_1030. Wm2Front: 552.7368166666668. Wm2Back: 86.03749666666667\n",
      "Linescan in process: 1axis_2022-12-27_1130_Row3_Module13_Front\n",
      "Linescan in process: 1axis_2022-12-27_1130_Row3_Module13_Back\n",
      "Saved: results/irr_1axis_2022-12-27_1130_Row3_Module13.csv\n",
      "Index: 2022-12-27_1130. Wm2Front: 531.0954999999999. Wm2Back: 110.10528333333335\n",
      "Linescan in process: 1axis_2022-12-27_1230_Row3_Module13_Front\n",
      "Linescan in process: 1axis_2022-12-27_1230_Row3_Module13_Back\n",
      "Saved: results/irr_1axis_2022-12-27_1230_Row3_Module13.csv\n",
      "Index: 2022-12-27_1230. Wm2Front: 470.7148666666667. Wm2Back: 94.76903000000001\n",
      "Linescan in process: 1axis_2022-12-27_1330_Row3_Module13_Front\n",
      "Linescan in process: 1axis_2022-12-27_1330_Row3_Module13_Back\n",
      "Saved: results/irr_1axis_2022-12-27_1330_Row3_Module13.csv\n",
      "Index: 2022-12-27_1330. Wm2Front: 366.48046666666664. Wm2Back: 73.64515833333334\n",
      "Linescan in process: 1axis_2022-12-27_1430_Row3_Module13_Front\n",
      "Linescan in process: 1axis_2022-12-27_1430_Row3_Module13_Back\n",
      "Saved: results/irr_1axis_2022-12-27_1430_Row3_Module13.csv\n",
      "Index: 2022-12-27_1430. Wm2Front: 486.1650333333333. Wm2Back: 45.923698333333334\n",
      "Linescan in process: 1axis_2022-12-27_1530_Row3_Module13_Front\n",
      "Linescan in process: 1axis_2022-12-27_1530_Row3_Module13_Back\n",
      "Saved: results/irr_1axis_2022-12-27_1530_Row3_Module13.csv\n",
      "Index: 2022-12-27_1530. Wm2Front: 199.02075. Wm2Back: 28.228208333333335\n"
     ]
    }
   ],
   "source": [
    "trackerdict = demo.analysis1axis(sensorsy=2) # Middle Module"
   ]
  },
  {
   "cell_type": "code",
   "execution_count": 15,
   "id": "cb29892b",
   "metadata": {},
   "outputs": [],
   "source": [
    "# trackerdict = demo.analysis1axis(sensorsy=2, modWanted = 1) # South Module"
   ]
  },
  {
   "cell_type": "code",
   "execution_count": 16,
   "id": "a38f84b4",
   "metadata": {},
   "outputs": [],
   "source": [
    "# trackerdict = demo.analysis1axis(sensorsy=2, modWanted = 25) # North Module"
   ]
  },
  {
   "cell_type": "code",
   "execution_count": 17,
   "id": "8a168f86",
   "metadata": {},
   "outputs": [
    {
     "name": "stdout",
     "output_type": "stream",
     "text": [
      "Bifaciality factor of module stored is  1\n",
      "No CECModule data passed; using default for Prism Solar BHC72-400\n"
     ]
    },
    {
     "name": "stderr",
     "output_type": "stream",
     "text": [
      "/Users/storopov/Documents/GitHub/bifacial_radiance/bifacial_radiance/performance.py:64: FutureWarning: Calling float on a single element Series is deprecated and will raise a TypeError in the future. Use float(ser.iloc[0]) instead\n",
      "  alpha_sc=float(CECMod.alpha_sc),\n",
      "/Users/storopov/Documents/GitHub/bifacial_radiance/bifacial_radiance/performance.py:65: FutureWarning: Calling float on a single element Series is deprecated and will raise a TypeError in the future. Use float(ser.iloc[0]) instead\n",
      "  a_ref=float(CECMod.a_ref),\n",
      "/Users/storopov/Documents/GitHub/bifacial_radiance/bifacial_radiance/performance.py:66: FutureWarning: Calling float on a single element Series is deprecated and will raise a TypeError in the future. Use float(ser.iloc[0]) instead\n",
      "  I_L_ref=float(CECMod.I_L_ref),\n",
      "/Users/storopov/Documents/GitHub/bifacial_radiance/bifacial_radiance/performance.py:67: FutureWarning: Calling float on a single element Series is deprecated and will raise a TypeError in the future. Use float(ser.iloc[0]) instead\n",
      "  I_o_ref=float(CECMod.I_o_ref),\n",
      "/Users/storopov/Documents/GitHub/bifacial_radiance/bifacial_radiance/performance.py:68: FutureWarning: Calling float on a single element Series is deprecated and will raise a TypeError in the future. Use float(ser.iloc[0]) instead\n",
      "  R_sh_ref=float(CECMod.R_sh_ref),\n",
      "/Users/storopov/Documents/GitHub/bifacial_radiance/bifacial_radiance/performance.py:69: FutureWarning: Calling float on a single element Series is deprecated and will raise a TypeError in the future. Use float(ser.iloc[0]) instead\n",
      "  R_s=float(CECMod.R_s),\n",
      "/Users/storopov/Documents/GitHub/bifacial_radiance/bifacial_radiance/performance.py:70: FutureWarning: Calling float on a single element Series is deprecated and will raise a TypeError in the future. Use float(ser.iloc[0]) instead\n",
      "  Adjust=float(CECMod.Adjust)\n",
      "/Users/storopov/Documents/GitHub/bifacial_radiance/bifacial_radiance/performance.py:64: FutureWarning: Calling float on a single element Series is deprecated and will raise a TypeError in the future. Use float(ser.iloc[0]) instead\n",
      "  alpha_sc=float(CECMod.alpha_sc),\n",
      "/Users/storopov/Documents/GitHub/bifacial_radiance/bifacial_radiance/performance.py:65: FutureWarning: Calling float on a single element Series is deprecated and will raise a TypeError in the future. Use float(ser.iloc[0]) instead\n",
      "  a_ref=float(CECMod.a_ref),\n",
      "/Users/storopov/Documents/GitHub/bifacial_radiance/bifacial_radiance/performance.py:66: FutureWarning: Calling float on a single element Series is deprecated and will raise a TypeError in the future. Use float(ser.iloc[0]) instead\n",
      "  I_L_ref=float(CECMod.I_L_ref),\n",
      "/Users/storopov/Documents/GitHub/bifacial_radiance/bifacial_radiance/performance.py:67: FutureWarning: Calling float on a single element Series is deprecated and will raise a TypeError in the future. Use float(ser.iloc[0]) instead\n",
      "  I_o_ref=float(CECMod.I_o_ref),\n",
      "/Users/storopov/Documents/GitHub/bifacial_radiance/bifacial_radiance/performance.py:68: FutureWarning: Calling float on a single element Series is deprecated and will raise a TypeError in the future. Use float(ser.iloc[0]) instead\n",
      "  R_sh_ref=float(CECMod.R_sh_ref),\n",
      "/Users/storopov/Documents/GitHub/bifacial_radiance/bifacial_radiance/performance.py:69: FutureWarning: Calling float on a single element Series is deprecated and will raise a TypeError in the future. Use float(ser.iloc[0]) instead\n",
      "  R_s=float(CECMod.R_s),\n",
      "/Users/storopov/Documents/GitHub/bifacial_radiance/bifacial_radiance/performance.py:70: FutureWarning: Calling float on a single element Series is deprecated and will raise a TypeError in the future. Use float(ser.iloc[0]) instead\n",
      "  Adjust=float(CECMod.Adjust)\n"
     ]
    },
    {
     "data": {
      "text/plain": [
       "{'2022-12-27_0830': {'surf_azm': 90.0,\n",
       "  'surf_tilt': 55.0,\n",
       "  'theta': -55.0,\n",
       "  'dni': 720,\n",
       "  'ghi': 202,\n",
       "  'dhi': 34,\n",
       "  'temp_air': 5.3,\n",
       "  'wind_speed': 1.3,\n",
       "  'skyfile': 'skies/sky2_35.05_-106.54_2022-12-27_0830.rad',\n",
       "  'radfile': 'objects/1axis2022-12-27_0830__C_0.60139_rtr_5.96000_tilt_55.00000_25modsx5rows_origin0,0.rad',\n",
       "  'scene': {'module': {'x': 1.303, 'y': 2.384, 'z': 0.02, 'modulematerial': 'black', 'scenex': 1.305, 'sceney': 2.384, 'scenez': 0.095, 'numpanels': 1, 'bifi': 1, 'text': '! genbox black PVmod 1.303 2.384 0.02 | xform -t -0.6515 -1.192 0.095 -a 1 -t 0 2.384 0\\r\\n! genrev Metal_Grey tube1 t*1.305 0.075 32 | xform -ry 90 -t -0.6525 0 0', 'modulefile': 'objects/PVmod.rad', 'glass': False, 'offsetfromaxis': 0.095, 'xgap': 0.002, 'ygap': 0.0, 'zgap': 0.02}, 'modulefile': 'objects/PVmod.rad', 'hpc': False, 'name': 'Scene0', 'gcr': 0.39999999999999997, 'text': '!xform -rx 55.0 -t 0 0 1.5 -a 25 -t 1.305 0 0 -a 5 -t 0 5.96 0 -i 1 -t -15.66 -11.92 0 -rz 90.0 -t 0 0 0 objects/PVmod.rad', 'radfiles': 'objects/1axis2022-12-27_0830__C_0.60139_rtr_5.96000_tilt_55.00000_25modsx5rows_origin0,0.rad', 'sceneDict': {'tilt': 55.0, 'pitch': 5.96, 'clearance_height': 0.6013902074149761, 'azimuth': 90.0, 'nMods': 25, 'nRows': 5, 'modulez': 0.02, 'axis_tilt': 0, 'originx': 0, 'originy': 0}},\n",
       "  'octfile': '1axis_2022-12-27_0830.oct',\n",
       "  'Results': [{'rowWanted': 3,\n",
       "    'modWanted': 13,\n",
       "    'AnalysisObj': {'octfile': '1axis_2022-12-27_0830.oct', 'name': '1axis_2022-12-27_0830', 'hpc': False, 'modWanted': 13, 'rowWanted': 3, 'x': [0.3229227, -0.1328794], 'y': [1.977331e-17, -8.136517e-18], 'z': [1.241058, 1.892011], 'rearZ': [1.22844, 1.879393], 'mattype': ['a12.2.a0.PVmod.6457', 'a12.2.a0.PVmod.6457'], 'rearMat': ['a12.2.a0.PVmod.2310', 'a12.2.a0.PVmod.2310'], 'Wm2Front': [546.8474666666667, 554.0823], 'Wm2Back': [11.428986666666667, 14.883946666666667], 'Back/FrontRatio': [0.020899732491401944, 0.02686229068204486], 'backRatio': [0.020899732491401944, 0.02686229068204486], 'rearX': [0.3049013, -0.1509007], 'rearY': [1.866982e-17, -9.240006e-18]},\n",
       "    'Wm2Front': [546.8474666666667, 554.0823],\n",
       "    'Wm2Back': [11.428986666666667, 14.883946666666667],\n",
       "    'backRatio': [0.020899732491401944, 0.02686229068204486]}],\n",
       "  'POA_eff': 563.62135,\n",
       "  'Gfront_mean': 550.4648833333333,\n",
       "  'Grear_mean': 13.156466666666667,\n",
       "  'Pout_raw': 229.5553326050444,\n",
       "  'Pout_Gfront': 224.48172719038539,\n",
       "  'Mismatch': 0.00016614693061295583,\n",
       "  'Pout': 229.55495120590524,\n",
       "  'Module_temp': 21.530561456525227},\n",
       " '2022-12-27_0930': {'surf_azm': 90.0,\n",
       "  'surf_tilt': 49.63,\n",
       "  'theta': -49.63,\n",
       "  'dni': 879,\n",
       "  'ghi': 367,\n",
       "  'dhi': 49,\n",
       "  'temp_air': 7.2,\n",
       "  'wind_speed': 2.0,\n",
       "  'skyfile': 'skies/sky2_35.05_-106.54_2022-12-27_0930.rad',\n",
       "  'radfile': 'objects/1axis2022-12-27_0930__C_0.66422_rtr_5.96000_tilt_49.63000_25modsx5rows_origin0,0.rad',\n",
       "  'scene': {'module': {'x': 1.303, 'y': 2.384, 'z': 0.02, 'modulematerial': 'black', 'scenex': 1.305, 'sceney': 2.384, 'scenez': 0.095, 'numpanels': 1, 'bifi': 1, 'text': '! genbox black PVmod 1.303 2.384 0.02 | xform -t -0.6515 -1.192 0.095 -a 1 -t 0 2.384 0\\r\\n! genrev Metal_Grey tube1 t*1.305 0.075 32 | xform -ry 90 -t -0.6525 0 0', 'modulefile': 'objects/PVmod.rad', 'glass': False, 'offsetfromaxis': 0.095, 'xgap': 0.002, 'ygap': 0.0, 'zgap': 0.02}, 'modulefile': 'objects/PVmod.rad', 'hpc': False, 'name': 'Scene0', 'gcr': 0.39999999999999997, 'text': '!xform -rx 49.63 -t 0 0 1.5000000000000002 -a 25 -t 1.305 0 0 -a 5 -t 0 5.96 0 -i 1 -t -15.66 -11.92 0 -rz 90.0 -t 0 0 0 objects/PVmod.rad', 'radfiles': 'objects/1axis2022-12-27_0930__C_0.66422_rtr_5.96000_tilt_49.63000_25modsx5rows_origin0,0.rad', 'sceneDict': {'tilt': 49.63, 'pitch': 5.96, 'clearance_height': 0.6642203189641238, 'azimuth': 90.0, 'nMods': 25, 'nRows': 5, 'modulez': 0.02, 'axis_tilt': 0, 'originx': 0, 'originy': 0}},\n",
       "  'octfile': '1axis_2022-12-27_0930.oct',\n",
       "  'Results': [{'rowWanted': 3,\n",
       "    'modWanted': 13,\n",
       "    'AnalysisObj': {'octfile': '1axis_2022-12-27_0930.oct', 'name': '1axis_2022-12-27_0930', 'hpc': False, 'modWanted': 13, 'rowWanted': 3, 'x': [0.345739, -0.1689834], 'y': [2.117041e-17, -1.034725e-17], 'z': [1.272416, 1.877855], 'rearZ': [1.258166, 1.863605], 'mattype': ['a12.2.a0.PVmod.6457', 'a12.2.a0.PVmod.6457'], 'rearMat': ['a12.2.a0.PVmod.2310', 'a12.2.a0.PVmod.2310'], 'Wm2Front': [614.9146666666667, 619.8878666666667], 'Wm2Back': [61.16498000000001, 41.50469999999999], 'Back/FrontRatio': [0.0994688919401956, 0.06695506603172847], 'backRatio': [0.0994688919401956, 0.06695506603172847], 'rearX': [0.3289777, -0.1857447], 'rearY': [2.014407e-17, -1.137358e-17]},\n",
       "    'Wm2Front': [614.9146666666667, 619.8878666666667],\n",
       "    'Wm2Back': [61.16498000000001, 41.50469999999999],\n",
       "    'backRatio': [0.0994688919401956, 0.06695506603172847]}],\n",
       "  'POA_eff': 668.7361066666667,\n",
       "  'Gfront_mean': 617.4012666666667,\n",
       "  'Grear_mean': 51.33484,\n",
       "  'Pout_raw': 268.41257457642854,\n",
       "  'Pout_Gfront': 249.1121626538259,\n",
       "  'Mismatch': 0.0008084706088194141,\n",
       "  'Pout': 268.41040453965275,\n",
       "  'Module_temp': 25.575211933527736},\n",
       " '2022-12-27_1030': {'surf_azm': 90.0,\n",
       "  'surf_tilt': 28.36,\n",
       "  'theta': -28.36,\n",
       "  'dni': 787,\n",
       "  'ghi': 474,\n",
       "  'dhi': 105,\n",
       "  'temp_air': 8.3,\n",
       "  'wind_speed': 4.0,\n",
       "  'skyfile': 'skies/sky2_35.05_-106.54_2022-12-27_1030.rad',\n",
       "  'radfile': 'objects/1axis2022-12-27_1030__C_0.97891_rtr_5.96000_tilt_28.36000_25modsx5rows_origin0,0.rad',\n",
       "  'scene': {'module': {'x': 1.303, 'y': 2.384, 'z': 0.02, 'modulematerial': 'black', 'scenex': 1.305, 'sceney': 2.384, 'scenez': 0.095, 'numpanels': 1, 'bifi': 1, 'text': '! genbox black PVmod 1.303 2.384 0.02 | xform -t -0.6515 -1.192 0.095 -a 1 -t 0 2.384 0\\r\\n! genrev Metal_Grey tube1 t*1.305 0.075 32 | xform -ry 90 -t -0.6525 0 0', 'modulefile': 'objects/PVmod.rad', 'glass': False, 'offsetfromaxis': 0.095, 'xgap': 0.002, 'ygap': 0.0, 'zgap': 0.02}, 'modulefile': 'objects/PVmod.rad', 'hpc': False, 'name': 'Scene0', 'gcr': 0.39999999999999997, 'text': '!xform -rx 28.36 -t 0 0 1.5 -a 25 -t 1.305 0 0 -a 5 -t 0 5.96 0 -i 1 -t -15.66 -11.92 0 -rz 90.0 -t 0 0 0 objects/PVmod.rad', 'radfiles': 'objects/1axis2022-12-27_1030__C_0.97891_rtr_5.96000_tilt_28.36000_25modsx5rows_origin0,0.rad', 'sceneDict': {'tilt': 28.36, 'pitch': 5.96, 'clearance_height': 0.9789140490229127, 'azimuth': 90.0, 'nMods': 25, 'nRows': 5, 'modulez': 0.02, 'axis_tilt': 0, 'originx': 0, 'originy': 0}},\n",
       "  'octfile': '1axis_2022-12-27_1030.oct',\n",
       "  'Results': [{'rowWanted': 3,\n",
       "    'modWanted': 13,\n",
       "    'AnalysisObj': {'octfile': '1axis_2022-12-27_1030.oct', 'name': '1axis_2022-12-27_1030', 'hpc': False, 'modWanted': 13, 'rowWanted': 3, 'x': [0.4047467, -0.2945444], 'y': [2.478359e-17, -1.803564e-17], 'z': [1.41334, 1.790815], 'rearZ': [1.393981, 1.771455], 'mattype': ['a12.2.a0.PVmod.6457', 'a12.2.a0.PVmod.6457'], 'rearMat': ['a12.2.a0.PVmod.2310', 'a12.2.a0.PVmod.2310'], 'Wm2Front': [551.567, 553.9066333333334], 'Wm2Back': [92.13267333333333, 79.94232], 'Back/FrontRatio': [0.1670377420976803, 0.14432427933682562], 'backRatio': [0.1670377420976803, 0.14432427933682562], 'rearX': [0.3942965, -0.3049946], 'rearY': [2.41437e-17, -1.867553e-17]},\n",
       "    'Wm2Front': [551.567, 553.9066333333334],\n",
       "    'Wm2Back': [92.13267333333333, 79.94232],\n",
       "    'backRatio': [0.1670377420976803, 0.14432427933682562]}],\n",
       "  'POA_eff': 638.7743133333333,\n",
       "  'Gfront_mean': 552.7368166666668,\n",
       "  'Grear_mean': 86.03749666666667,\n",
       "  'Pout_raw': 258.1957732180631,\n",
       "  'Pout_Gfront': 225.04364873359384,\n",
       "  'Mismatch': 0.0005214587060205054,\n",
       "  'Pout': 258.19442683372506,\n",
       "  'Module_temp': 23.674019868637785},\n",
       " '2022-12-27_1130': {'surf_azm': 90.0,\n",
       "  'surf_tilt': 3.2,\n",
       "  'theta': -3.2,\n",
       "  'dni': 734,\n",
       "  'ghi': 537,\n",
       "  'dhi': 147,\n",
       "  'temp_air': 9.6,\n",
       "  'wind_speed': 4.0,\n",
       "  'skyfile': 'skies/sky2_35.05_-106.54_2022-12-27_1130.rad',\n",
       "  'radfile': 'objects/1axis2022-12-27_1130__C_1.43876_rtr_5.96000_tilt_3.20000_25modsx5rows_origin0,0.rad',\n",
       "  'scene': {'module': {'x': 1.303, 'y': 2.384, 'z': 0.02, 'modulematerial': 'black', 'scenex': 1.305, 'sceney': 2.384, 'scenez': 0.095, 'numpanels': 1, 'bifi': 1, 'text': '! genbox black PVmod 1.303 2.384 0.02 | xform -t -0.6515 -1.192 0.095 -a 1 -t 0 2.384 0\\r\\n! genrev Metal_Grey tube1 t*1.305 0.075 32 | xform -ry 90 -t -0.6525 0 0', 'modulefile': 'objects/PVmod.rad', 'glass': False, 'offsetfromaxis': 0.095, 'xgap': 0.002, 'ygap': 0.0, 'zgap': 0.02}, 'modulefile': 'objects/PVmod.rad', 'hpc': False, 'name': 'Scene0', 'gcr': 0.39999999999999997, 'text': '!xform -rx 3.2 -t 0 0 1.5 -a 25 -t 1.305 0 0 -a 5 -t 0 5.96 0 -i 1 -t -15.66 -11.92 0 -rz 90.0 -t 0 0 0 objects/PVmod.rad', 'radfiles': 'objects/1axis2022-12-27_1130__C_1.43876_rtr_5.96000_tilt_3.20000_25modsx5rows_origin0,0.rad', 'sceneDict': {'tilt': 3.2, 'pitch': 5.96, 'clearance_height': 1.4387638090224992, 'azimuth': 90.0, 'nMods': 25, 'nRows': 5, 'modulez': 0.02, 'axis_tilt': 0, 'originx': 0, 'originy': 0}},\n",
       "  'octfile': '1axis_2022-12-27_1130.oct',\n",
       "  'Results': [{'rowWanted': 3,\n",
       "    'modWanted': 13,\n",
       "    'AnalysisObj': {'octfile': '1axis_2022-12-27_1130.oct', 'name': '1axis_2022-12-27_1130', 'hpc': False, 'modWanted': 13, 'rowWanted': 3, 'x': [0.4031891, -0.3902385], 'y': [2.468821e-17, -2.389522e-17], 'z': [1.593639, 1.637999], 'rearZ': [1.571674, 1.616033], 'mattype': ['a12.2.a0.PVmod.6457', 'a12.2.a0.PVmod.6457'], 'rearMat': ['a12.2.a0.PVmod.2310', 'a12.2.a0.PVmod.2310'], 'Wm2Front': [531.0953, 531.0957], 'Wm2Back': [110.95323333333333, 109.25733333333335], 'Back/FrontRatio': [0.2089135874856092, 0.20572022634170645], 'backRatio': [0.2089135874856092, 0.20572022634170645], 'rearX': [0.401961, -0.3914666], 'rearY': [2.461301e-17, -2.397041e-17]},\n",
       "    'Wm2Front': [531.0953, 531.0957],\n",
       "    'Wm2Back': [110.95323333333333, 109.25733333333335],\n",
       "    'backRatio': [0.2089135874856092, 0.20572022634170645]}],\n",
       "  'POA_eff': 641.2007833333332,\n",
       "  'Gfront_mean': 531.0954999999999,\n",
       "  'Grear_mean': 110.10528333333335,\n",
       "  'Pout_raw': 257.89336804142744,\n",
       "  'Pout_Gfront': 215.571902209459,\n",
       "  'Mismatch': 7.15307184820366e-05,\n",
       "  'Pout': 257.89318356844836,\n",
       "  'Module_temp': 25.032420147440458},\n",
       " '2022-12-27_1230': {'surf_azm': 90.0,\n",
       "  'surf_tilt': -22.5,\n",
       "  'theta': 22.5,\n",
       "  'dni': 410,\n",
       "  'ghi': 471,\n",
       "  'dhi': 244,\n",
       "  'temp_air': 10.4,\n",
       "  'wind_speed': 3.6,\n",
       "  'skyfile': 'skies/sky2_35.05_-106.54_2022-12-27_1230.rad',\n",
       "  'radfile': 'objects/1axis2022-12-27_1230__C_1.08020_rtr_5.96000_tilt_-22.50000_25modsx5rows_origin0,0.rad',\n",
       "  'scene': {'module': {'x': 1.303, 'y': 2.384, 'z': 0.02, 'modulematerial': 'black', 'scenex': 1.305, 'sceney': 2.384, 'scenez': 0.095, 'numpanels': 1, 'bifi': 1, 'text': '! genbox black PVmod 1.303 2.384 0.02 | xform -t -0.6515 -1.192 0.095 -a 1 -t 0 2.384 0\\r\\n! genrev Metal_Grey tube1 t*1.305 0.075 32 | xform -ry 90 -t -0.6525 0 0', 'modulefile': 'objects/PVmod.rad', 'glass': False, 'offsetfromaxis': 0.095, 'xgap': 0.002, 'ygap': 0.0, 'zgap': 0.02}, 'modulefile': 'objects/PVmod.rad', 'hpc': False, 'name': 'Scene0', 'gcr': 0.39999999999999997, 'text': '!xform -rx -22.5 -t 0 0 1.5000000000000002 -a 25 -t 1.305 0 0 -a 5 -t 0 5.96 0 -i 1 -t -15.66 -11.92 0 -rz 90.0 -t 0 0 0 objects/PVmod.rad', 'radfiles': 'objects/1axis2022-12-27_1230__C_1.08020_rtr_5.96000_tilt_-22.50000_25modsx5rows_origin0,0.rad', 'sceneDict': {'tilt': -22.5, 'pitch': 5.96, 'clearance_height': 1.0801962746954967, 'azimuth': 90.0, 'nMods': 25, 'nRows': 5, 'modulez': 0.02, 'axis_tilt': 0, 'originx': 0, 'originy': 0}},\n",
       "  'octfile': '1axis_2022-12-27_1230.oct',\n",
       "  'Results': [{'rowWanted': 3,\n",
       "    'modWanted': 13,\n",
       "    'AnalysisObj': {'octfile': '1axis_2022-12-27_1230.oct', 'name': '1axis_2022-12-27_1230', 'hpc': False, 'modWanted': 13, 'rowWanted': 3, 'x': [0.3226969, -0.4114794], 'y': [1.975948e-17, -2.519585e-17], 'z': [1.759223, 1.455117], 'rearZ': [1.738898, 1.434792], 'mattype': ['a12.2.a0.PVmod.6457', 'a12.2.a0.PVmod.6457'], 'rearMat': ['a12.2.a0.PVmod.2310', 'a12.2.a0.PVmod.2310'], 'Wm2Front': [472.5606666666667, 468.86906666666664], 'Wm2Back': [92.34965, 97.18841000000002], 'Back/FrontRatio': [0.19542348970328388, 0.20728218094821158], 'backRatio': [0.19542348970328388, 0.20728218094821158], 'rearX': [0.3311159, -0.4030604], 'rearY': [2.0275e-17, -2.468033e-17]},\n",
       "    'Wm2Front': [472.5606666666667, 468.86906666666664],\n",
       "    'Wm2Back': [92.34965, 97.18841000000002],\n",
       "    'backRatio': [0.19542348970328388, 0.20728218094821158]}],\n",
       "  'POA_eff': 565.4838966666666,\n",
       "  'Gfront_mean': 470.7148666666667,\n",
       "  'Grear_mean': 94.76903000000001,\n",
       "  'Pout_raw': 227.94077302761198,\n",
       "  'Pout_Gfront': 191.1116565477139,\n",
       "  'Mismatch': 0.0002322796420652879,\n",
       "  'Pout': 227.94024356760028,\n",
       "  'Module_temp': 24.37288973150234},\n",
       " '2022-12-27_1330': {'surf_azm': 90.0,\n",
       "  'surf_tilt': -44.85,\n",
       "  'theta': 44.85,\n",
       "  'dni': 157,\n",
       "  'ghi': 349,\n",
       "  'dhi': 267,\n",
       "  'temp_air': 11.3,\n",
       "  'wind_speed': 2.0,\n",
       "  'skyfile': 'skies/sky2_35.05_-106.54_2022-12-27_1330.rad',\n",
       "  'radfile': 'objects/1axis2022-12-27_1330__C_0.72634_rtr_5.96000_tilt_-44.85000_25modsx5rows_origin0,0.rad',\n",
       "  'scene': {'module': {'x': 1.303, 'y': 2.384, 'z': 0.02, 'modulematerial': 'black', 'scenex': 1.305, 'sceney': 2.384, 'scenez': 0.095, 'numpanels': 1, 'bifi': 1, 'text': '! genbox black PVmod 1.303 2.384 0.02 | xform -t -0.6515 -1.192 0.095 -a 1 -t 0 2.384 0\\r\\n! genrev Metal_Grey tube1 t*1.305 0.075 32 | xform -ry 90 -t -0.6525 0 0', 'modulefile': 'objects/PVmod.rad', 'glass': False, 'offsetfromaxis': 0.095, 'xgap': 0.002, 'ygap': 0.0, 'zgap': 0.02}, 'modulefile': 'objects/PVmod.rad', 'hpc': False, 'name': 'Scene0', 'gcr': 0.39999999999999997, 'text': '!xform -rx -44.85 -t 0 0 1.5000000000000002 -a 25 -t 1.305 0 0 -a 5 -t 0 5.96 0 -i 1 -t -15.66 -11.92 0 -rz 90.0 -t 0 0 0 objects/PVmod.rad', 'radfiles': 'objects/1axis2022-12-27_1330__C_0.72634_rtr_5.96000_tilt_-44.85000_25modsx5rows_origin0,0.rad', 'sceneDict': {'tilt': -44.85, 'pitch': 5.96, 'clearance_height': 0.7263372847288054, 'azimuth': 90.0, 'nMods': 25, 'nRows': 5, 'modulez': 0.02, 'axis_tilt': 0, 'originx': 0, 'originy': 0}},\n",
       "  'octfile': '1axis_2022-12-27_1330.oct',\n",
       "  'Results': [{'rowWanted': 3,\n",
       "    'modWanted': 13,\n",
       "    'AnalysisObj': {'octfile': '1axis_2022-12-27_1330.oct', 'name': '1axis_2022-12-27_1330', 'hpc': False, 'modWanted': 13, 'rowWanted': 3, 'x': [0.1998823, -0.363501], 'y': [1.223926e-17, -2.225802e-17], 'z': [1.862459, 1.302018], 'rearZ': [1.846862, 1.286421], 'mattype': ['a12.2.a0.PVmod.6457', 'a12.2.a0.PVmod.6457'], 'rearMat': ['a12.2.a0.PVmod.2310', 'a12.2.a0.PVmod.2310'], 'Wm2Front': [373.11566666666664, 359.84526666666665], 'Wm2Back': [75.96453333333334, 71.32578333333333], 'Back/FrontRatio': [0.20359458614374418, 0.19821181971412238], 'backRatio': [0.20359458614374418, 0.19821181971412238], 'rearX': [0.2153979, -0.3479855], 'rearY': [1.318932e-17, -2.130796e-17]},\n",
       "    'Wm2Front': [373.11566666666664, 359.84526666666665],\n",
       "    'Wm2Back': [75.96453333333334, 71.32578333333333],\n",
       "    'backRatio': [0.20359458614374418, 0.19821181971412238]}],\n",
       "  'POA_eff': 440.125625,\n",
       "  'Gfront_mean': 366.48046666666664,\n",
       "  'Grear_mean': 73.64515833333334,\n",
       "  'Pout_raw': 177.6564926107646,\n",
       "  'Pout_Gfront': 148.6185908853512,\n",
       "  'Mismatch': 0.00028645773586387466,\n",
       "  'Pout': 177.65598369999825,\n",
       "  'Module_temp': 23.393562103388177},\n",
       " '2022-12-27_1430': {'surf_azm': 90.0,\n",
       "  'surf_tilt': -55.0,\n",
       "  'theta': 55.0,\n",
       "  'dni': 513,\n",
       "  'ghi': 314,\n",
       "  'dhi': 115,\n",
       "  'temp_air': 12.3,\n",
       "  'wind_speed': 1.4,\n",
       "  'skyfile': 'skies/sky2_35.05_-106.54_2022-12-27_1430.rad',\n",
       "  'radfile': 'objects/1axis2022-12-27_1430__C_0.60139_rtr_5.96000_tilt_-55.00000_25modsx5rows_origin0,0.rad',\n",
       "  'scene': {'module': {'x': 1.303, 'y': 2.384, 'z': 0.02, 'modulematerial': 'black', 'scenex': 1.305, 'sceney': 2.384, 'scenez': 0.095, 'numpanels': 1, 'bifi': 1, 'text': '! genbox black PVmod 1.303 2.384 0.02 | xform -t -0.6515 -1.192 0.095 -a 1 -t 0 2.384 0\\r\\n! genrev Metal_Grey tube1 t*1.305 0.075 32 | xform -ry 90 -t -0.6525 0 0', 'modulefile': 'objects/PVmod.rad', 'glass': False, 'offsetfromaxis': 0.095, 'xgap': 0.002, 'ygap': 0.0, 'zgap': 0.02}, 'modulefile': 'objects/PVmod.rad', 'hpc': False, 'name': 'Scene0', 'gcr': 0.39999999999999997, 'text': '!xform -rx -55.0 -t 0 0 1.5 -a 25 -t 1.305 0 0 -a 5 -t 0 5.96 0 -i 1 -t -15.66 -11.92 0 -rz 90.0 -t 0 0 0 objects/PVmod.rad', 'radfiles': 'objects/1axis2022-12-27_1430__C_0.60139_rtr_5.96000_tilt_-55.00000_25modsx5rows_origin0,0.rad', 'sceneDict': {'tilt': -55.0, 'pitch': 5.96, 'clearance_height': 0.6013902074149761, 'azimuth': 90.0, 'nMods': 25, 'nRows': 5, 'modulez': 0.02, 'axis_tilt': 0, 'originx': 0, 'originy': 0}},\n",
       "  'octfile': '1axis_2022-12-27_1430.oct',\n",
       "  'Results': [{'rowWanted': 3,\n",
       "    'modWanted': 13,\n",
       "    'AnalysisObj': {'octfile': '1axis_2022-12-27_1430.oct', 'name': '1axis_2022-12-27_1430', 'hpc': False, 'modWanted': 13, 'rowWanted': 3, 'x': [0.1328794, -0.3229227], 'y': [8.136517e-18, -1.977331e-17], 'z': [1.892011, 1.241058], 'rearZ': [1.879393, 1.22844], 'mattype': ['a12.2.a0.PVmod.6457', 'a12.2.a0.PVmod.6457'], 'rearMat': ['a12.2.a0.PVmod.2310', 'a12.2.a0.PVmod.2310'], 'Wm2Front': [494.6566, 477.6734666666666], 'Wm2Back': [43.87462333333334, 47.97277333333333], 'Back/FrontRatio': [0.08869695590107853, 0.10042984643516638], 'backRatio': [0.08869695590107853, 0.10042984643516638], 'rearX': [0.1509007, -0.3049013], 'rearY': [9.240006e-18, -1.866982e-17]},\n",
       "    'Wm2Front': [494.6566, 477.6734666666666],\n",
       "    'Wm2Back': [43.87462333333334, 47.97277333333333],\n",
       "    'backRatio': [0.08869695590107853, 0.10042984643516638]}],\n",
       "  'POA_eff': 532.0887316666667,\n",
       "  'Gfront_mean': 486.1650333333333,\n",
       "  'Grear_mean': 45.923698333333334,\n",
       "  'Pout_raw': 211.92182114600357,\n",
       "  'Pout_Gfront': 194.42750614633547,\n",
       "  'Mismatch': 0.00020896258630167993,\n",
       "  'Pout': 211.92137830868515,\n",
       "  'Module_temp': 27.51995721872676},\n",
       " '2022-12-27_1530': {'surf_azm': 90.0,\n",
       "  'surf_tilt': -19.82,\n",
       "  'theta': 19.82,\n",
       "  'dni': 151,\n",
       "  'ghi': 164,\n",
       "  'dhi': 118,\n",
       "  'temp_air': 12.8,\n",
       "  'wind_speed': 2.7,\n",
       "  'skyfile': 'skies/sky2_35.05_-106.54_2022-12-27_1530.rad',\n",
       "  'radfile': 'objects/1axis2022-12-27_1530__C_1.12804_rtr_5.96000_tilt_-19.82000_25modsx5rows_origin0,0.rad',\n",
       "  'scene': {'module': {'x': 1.303, 'y': 2.384, 'z': 0.02, 'modulematerial': 'black', 'scenex': 1.305, 'sceney': 2.384, 'scenez': 0.095, 'numpanels': 1, 'bifi': 1, 'text': '! genbox black PVmod 1.303 2.384 0.02 | xform -t -0.6515 -1.192 0.095 -a 1 -t 0 2.384 0\\r\\n! genrev Metal_Grey tube1 t*1.305 0.075 32 | xform -ry 90 -t -0.6525 0 0', 'modulefile': 'objects/PVmod.rad', 'glass': False, 'offsetfromaxis': 0.095, 'xgap': 0.002, 'ygap': 0.0, 'zgap': 0.02}, 'modulefile': 'objects/PVmod.rad', 'hpc': False, 'name': 'Scene0', 'gcr': 0.39999999999999997, 'text': '!xform -rx -19.82 -t 0 0 1.5 -a 25 -t 1.305 0 0 -a 5 -t 0 5.96 0 -i 1 -t -15.66 -11.92 0 -rz 90.0 -t 0 0 0 objects/PVmod.rad', 'radfiles': 'objects/1axis2022-12-27_1530__C_1.12804_rtr_5.96000_tilt_-19.82000_25modsx5rows_origin0,0.rad', 'sceneDict': {'tilt': -19.82, 'pitch': 5.96, 'clearance_height': 1.1280442371448485, 'azimuth': 90.0, 'nMods': 25, 'nRows': 5, 'modulez': 0.02, 'axis_tilt': 0, 'originx': 0, 'originy': 0}},\n",
       "  'octfile': '1axis_2022-12-27_1530.oct',\n",
       "  'Results': [{'rowWanted': 3,\n",
       "    'modWanted': 13,\n",
       "    'AnalysisObj': {'octfile': '1axis_2022-12-27_1530.oct', 'name': '1axis_2022-12-27_1530', 'hpc': False, 'modWanted': 13, 'rowWanted': 3, 'x': [0.3344646, -0.413128], 'y': [2.048005e-17, -2.529679e-17], 'z': [1.743851, 1.474406], 'rearZ': [1.723154, 1.453709], 'mattype': ['a12.2.a0.PVmod.6457', 'a12.2.a0.PVmod.6457'], 'rearMat': ['a12.2.a0.PVmod.2310', 'a12.2.a0.PVmod.2310'], 'Wm2Front': [201.01516666666666, 197.02633333333333], 'Wm2Back': [28.211796666666668, 28.24462], 'Back/FrontRatio': [0.14034590915987688, 0.14335381554505128], 'backRatio': [0.14034590915987688, 0.14335381554505128], 'rearX': [0.3419241, -0.4056685], 'rearY': [2.093681e-17, -2.484003e-17]},\n",
       "    'Wm2Front': [201.01516666666666, 197.02633333333333],\n",
       "    'Wm2Back': [28.211796666666668, 28.24462],\n",
       "    'backRatio': [0.14034590915987688, 0.14335381554505128]}],\n",
       "  'POA_eff': 227.24895833333332,\n",
       "  'Gfront_mean': 199.02075,\n",
       "  'Grear_mean': 28.228208333333335,\n",
       "  'Pout_raw': 92.04235836855226,\n",
       "  'Pout_Gfront': 80.53204272879007,\n",
       "  'Mismatch': 3.900174514752637e-06,\n",
       "  'Pout': 92.04235477873965,\n",
       "  'Module_temp': 18.759741128180757}}"
      ]
     },
     "execution_count": 17,
     "metadata": {},
     "output_type": "execute_result"
    }
   ],
   "source": [
    "demo.calculateResults()"
   ]
  },
  {
   "cell_type": "code",
   "execution_count": 18,
   "id": "694c80c7",
   "metadata": {},
   "outputs": [],
   "source": [
    "# demo.CompiledResults.set_index('timestamp', inplace=True)\n",
    "# demo.CompiledResults\n",
    "# Grear_mean and Gfront_mean values to be recorded in the excel"
   ]
  },
  {
   "cell_type": "code",
   "execution_count": 19,
   "id": "13860929",
   "metadata": {},
   "outputs": [],
   "source": [
    "demo.exportScenarioData(trackerdict, savefile = Path().resolve().parent.parent / 'Results' / 'A2-Dec-27-M.csv')"
   ]
  },
  {
   "cell_type": "code",
   "execution_count": null,
   "id": "658fda71",
   "metadata": {},
   "outputs": [],
   "source": []
  }
 ],
 "metadata": {
  "kernelspec": {
   "display_name": "Python 3 (ipykernel)",
   "language": "python",
   "name": "python3"
  },
  "language_info": {
   "codemirror_mode": {
    "name": "ipython",
    "version": 3
   },
   "file_extension": ".py",
   "mimetype": "text/x-python",
   "name": "python",
   "nbconvert_exporter": "python",
   "pygments_lexer": "ipython3",
   "version": "3.11.5"
  }
 },
 "nbformat": 4,
 "nbformat_minor": 5
}
