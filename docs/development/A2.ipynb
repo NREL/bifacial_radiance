{
 "cells": [
  {
   "cell_type": "markdown",
   "id": "3b77188b",
   "metadata": {},
   "source": [
    "# A2\n",
    "* GCR = 0.4\n",
    "* Albedo = 0.5\n",
    "* Hub Height = 1.5\n",
    "* Configuration = 1-Up portrait\n",
    "* Ground surface = Horizontal\n",
    "***\n",
    "* A GCR of 0.4 for the Trina Vertex module (length = 2.384m) corresponds to a rowto-row spacing or pitch of 5.96m\n",
    "* 1-up Portrait: 5 rows, each with 25 modules\n",
    "* Torque tube diameter = 15 cm. (round)\n",
    "* Maximum tracker rotation angle = 55 deg\n",
    "* Backtracking is enabled\n",
    "* Location: Albuquerque, New Mexico USA (35.05°, -106.54°)"
   ]
  },
  {
   "cell_type": "code",
   "execution_count": 1,
   "id": "14519d7e",
   "metadata": {},
   "outputs": [
    {
     "name": "stdout",
     "output_type": "stream",
     "text": [
      "Your simulation will be stored in Scenarios/A2-1\n"
     ]
    }
   ],
   "source": [
    "import os\n",
    "from pathlib import Path\n",
    "\n",
    "testfolder = 'Scenarios/A2-1'\n",
    "\n",
    "if not os.path.exists(testfolder):\n",
    "    os.makedirs(testfolder)\n",
    "    \n",
    "print (\"Your simulation will be stored in %s\" % testfolder)"
   ]
  },
  {
   "cell_type": "code",
   "execution_count": 2,
   "id": "aa782cd2",
   "metadata": {},
   "outputs": [],
   "source": [
    "import bifacial_radiance as br\n",
    "import bifacialvf as bf\n",
    "import numpy as np\n",
    "import pandas as pd\n",
    "import matplotlib.pyplot as plt\n",
    "import sys, platform\n",
    "import csv\n",
    "from pathlib import Path"
   ]
  },
  {
   "cell_type": "code",
   "execution_count": 3,
   "id": "2d3d89b5",
   "metadata": {},
   "outputs": [
    {
     "name": "stdout",
     "output_type": "stream",
     "text": [
      "Working on a  Darwin 23.3.0\n",
      "Python version  3.11.5 (main, Sep 11 2023, 08:19:27) [Clang 14.0.6 ]\n",
      "Pandas version  2.0.3\n",
      "bifacial_radiance version  0.4.2+246.gf6f42f5.dirty\n",
      "pyplot  3.7.2\n",
      "bifacialvf version  0.1.8.1\n"
     ]
    }
   ],
   "source": [
    "print(\"Working on a \", platform.system(), platform.release())\n",
    "print(\"Python version \", sys.version)\n",
    "print(\"Pandas version \", pd.__version__)\n",
    "print(\"bifacial_radiance version \", br.__version__)\n",
    "print(\"pyplot \", plt.matplotlib.__version__)\n",
    "print(\"bifacialvf version \", bf.__version__)"
   ]
  },
  {
   "cell_type": "code",
   "execution_count": 4,
   "id": "8a48f304",
   "metadata": {},
   "outputs": [],
   "source": [
    "simulationname = 'A2-1'\n",
    "\n",
    "# Location Albuquerque, New Mexico, USA\n",
    "lat = 35.05\n",
    "lon = -106.54\n",
    "\n",
    "# Scene Parameters\n",
    "azimuth=90\n",
    "tilt=30\n",
    "\n",
    "# MakeModule Parameters\n",
    "moduletype='PVmod'\n",
    "numpanels=1\n",
    "module_x = 1.303 # m\n",
    "module_y = 2.384 # m. slope we will measure\n",
    "sensorsy=2\n",
    "torquetube_diam = 0.15\n",
    "\n",
    "zgap = 0.02 # m\n",
    "xgap = 0.002 # m\n",
    "\n",
    "# SceneDict Parameters\n",
    "pitch = 5.96 # m\n",
    "albedo = 0.5\n",
    "hub_height = 1.5 # m  \n",
    "nMods = 25 \n",
    "nRows = 5\n",
    "\n",
    "sceneDict = {'tilt':tilt,'pitch':pitch,'albedo': albedo,'hub_height':hub_height,'azimuth':azimuth, 'nMods': nMods, 'nRows': nRows} "
   ]
  },
  {
   "cell_type": "code",
   "execution_count": 5,
   "id": "eb5df558",
   "metadata": {
    "scrolled": true
   },
   "outputs": [
    {
     "name": "stdout",
     "output_type": "stream",
     "text": [
      "path = Scenarios/A2-1\n",
      "Loading albedo, 1 value(s), 0.500 avg\n",
      "1 nonzero albedo values.\n"
     ]
    }
   ],
   "source": [
    "demo = br.RadianceObj(simulationname,path = testfolder)\n",
    "demo.setGround(albedo)"
   ]
  },
  {
   "cell_type": "code",
   "execution_count": 6,
   "id": "4b7e271b",
   "metadata": {},
   "outputs": [],
   "source": [
    "cumulativesky = False\n",
    "trackerParams = {\n",
    "    'limit_angle': 55,\n",
    "    'backtrack': True,\n",
    "    'gcr': 0.4,\n",
    "    'azimuth': 180,  # axis angle, N-S = 180\n",
    "    'cumulativesky': cumulativesky\n",
    "}"
   ]
  },
  {
   "cell_type": "code",
   "execution_count": 7,
   "id": "e1e7d382",
   "metadata": {},
   "outputs": [
    {
     "name": "stdout",
     "output_type": "stream",
     "text": [
      "\n",
      "Module Name: PVmod\n",
      "Module PVmod updated in module.json\n",
      "Pre-existing .rad file objects/PVmod.rad will be overwritten\n",
      "\n"
     ]
    }
   ],
   "source": [
    "module=demo.makeModule(name=moduletype,x=module_x,y=module_y, xgap=xgap, zgap=zgap)"
   ]
  },
  {
   "cell_type": "code",
   "execution_count": 8,
   "id": "1b2d5c2b",
   "metadata": {},
   "outputs": [
    {
     "name": "stdout",
     "output_type": "stream",
     "text": [
      "Module PVmod updated in module.json\n",
      "Pre-existing .rad file objects/PVmod.rad will be overwritten\n",
      "\n"
     ]
    }
   ],
   "source": [
    "module.addTorquetube(diameter=torquetube_diam, tubetype='Round', material='Metal_Grey', \n",
    "                     axisofrotation=True, visible=True, recompile=True)"
   ]
  },
  {
   "cell_type": "code",
   "execution_count": 9,
   "id": "cde19e8f",
   "metadata": {},
   "outputs": [
    {
     "data": {
      "text/plain": [
       "'/Users/storopov/Documents/GitHub/bifacial_radiance/docs/development/Instructions/Phase2_meteo_hourly_psm3format.csv'"
      ]
     },
     "execution_count": 9,
     "metadata": {},
     "output_type": "execute_result"
    }
   ],
   "source": [
    "weatherfile = str(Path().resolve().parent.parent / 'Instructions' / 'Phase2_meteo_hourly_psm3format.csv')\n",
    "weatherfile"
   ]
  },
  {
   "cell_type": "code",
   "execution_count": 10,
   "id": "966c7daf",
   "metadata": {
    "scrolled": true
   },
   "outputs": [
    {
     "name": "stdout",
     "output_type": "stream",
     "text": [
      "COLUMN DATAS Index(['Year', 'Month', 'Day', 'Hour', 'Minute', 'GHI', 'DNI', 'DHI',\n",
      "       'temp_air', 'wind_speed', 'humidity', 'Unnamed: 11', 'Unnamed: 12',\n",
      "       'Unnamed: 13', 'Unnamed: 14', 'Unnamed: 15', 'Unnamed: 16',\n",
      "       'Unnamed: 17'],\n",
      "      dtype='object')\n",
      "8760 line in WeatherFile. Assuming this is a standard hourly WeatherFile for the year for purposes of saving Gencumulativesky temporary weather files in EPW folder.\n",
      "Coercing year to 2022\n",
      "Filtering dates\n",
      "Saving file EPWs/metdata_temp.csv, # points: 8760\n",
      "Calculating Sun position for Metdata that is left-labeled  with a delta of +30 mins. i.e. 12 is 12:30 sunpos.\n"
     ]
    }
   ],
   "source": [
    "metdata = demo.readWeatherFile(weatherfile, source='sam', starttime='2022-03-22_0000', endtime='2022-03-24_0000')"
   ]
  },
  {
   "cell_type": "code",
   "execution_count": 11,
   "id": "556da4dc",
   "metadata": {},
   "outputs": [],
   "source": [
    "trackerdict = demo.set1axis(**trackerParams)"
   ]
  },
  {
   "cell_type": "code",
   "execution_count": 12,
   "id": "e814024e",
   "metadata": {},
   "outputs": [
    {
     "name": "stdout",
     "output_type": "stream",
     "text": [
      "Creating ~22 skyfiles. \n",
      "Created 22 skyfiles in /skies/\n"
     ]
    },
    {
     "data": {
      "text/plain": [
       "{'2022-03-22_0730': {'surf_azm': 90.0,\n",
       "  'surf_tilt': 53.28,\n",
       "  'theta': -53.28,\n",
       "  'dni': 0,\n",
       "  'ghi': 65,\n",
       "  'dhi': 62,\n",
       "  'temp_air': 2.4,\n",
       "  'wind_speed': 1.1,\n",
       "  'skyfile': 'skies/sky2_35.05_-106.54_2022-03-22_0730.rad'},\n",
       " '2022-03-22_0830': {'surf_azm': 90.0,\n",
       "  'surf_tilt': 53.44,\n",
       "  'theta': -53.44,\n",
       "  'dni': 2,\n",
       "  'ghi': 182,\n",
       "  'dhi': 180,\n",
       "  'temp_air': 3.0,\n",
       "  'wind_speed': 1.1,\n",
       "  'skyfile': 'skies/sky2_35.05_-106.54_2022-03-22_0830.rad'},\n",
       " '2022-03-22_0930': {'surf_azm': 90.0,\n",
       "  'surf_tilt': 38.35,\n",
       "  'theta': -38.35,\n",
       "  'dni': 3,\n",
       "  'ghi': 279,\n",
       "  'dhi': 276,\n",
       "  'temp_air': 3.9,\n",
       "  'wind_speed': 2.0,\n",
       "  'skyfile': 'skies/sky2_35.05_-106.54_2022-03-22_0930.rad'},\n",
       " '2022-03-22_1030': {'surf_azm': 90.0,\n",
       "  'surf_tilt': 21.72,\n",
       "  'theta': -21.72,\n",
       "  'dni': 172,\n",
       "  'ghi': 504,\n",
       "  'dhi': 361,\n",
       "  'temp_air': 5.0,\n",
       "  'wind_speed': 3.1,\n",
       "  'skyfile': 'skies/sky2_35.05_-106.54_2022-03-22_1030.rad'},\n",
       " '2022-03-22_1130': {'surf_azm': 90.0,\n",
       "  'surf_tilt': 3.91,\n",
       "  'theta': -3.91,\n",
       "  'dni': 13,\n",
       "  'ghi': 291,\n",
       "  'dhi': 277,\n",
       "  'temp_air': 5.8,\n",
       "  'wind_speed': 4.0,\n",
       "  'skyfile': 'skies/sky2_35.05_-106.54_2022-03-22_1130.rad'},\n",
       " '2022-03-22_1230': {'surf_azm': 270.0,\n",
       "  'surf_tilt': 14.13,\n",
       "  'theta': 14.13,\n",
       "  'dni': 4,\n",
       "  'ghi': 220,\n",
       "  'dhi': 214,\n",
       "  'temp_air': 5.9,\n",
       "  'wind_speed': 4.1,\n",
       "  'skyfile': 'skies/sky2_35.05_-106.54_2022-03-22_1230.rad'},\n",
       " '2022-03-22_1330': {'surf_azm': 270.0,\n",
       "  'surf_tilt': 31.34,\n",
       "  'theta': 31.34,\n",
       "  'dni': 96,\n",
       "  'ghi': 383,\n",
       "  'dhi': 310,\n",
       "  'temp_air': 5.9,\n",
       "  'wind_speed': 4.5,\n",
       "  'skyfile': 'skies/sky2_35.05_-106.54_2022-03-22_1330.rad'},\n",
       " '2022-03-22_1430': {'surf_azm': 270.0,\n",
       "  'surf_tilt': 47.08,\n",
       "  'theta': 47.08,\n",
       "  'dni': 40,\n",
       "  'ghi': 292,\n",
       "  'dhi': 266,\n",
       "  'temp_air': 3.7,\n",
       "  'wind_speed': 3.2,\n",
       "  'skyfile': 'skies/sky2_35.05_-106.54_2022-03-22_1430.rad'},\n",
       " '2022-03-22_1530': {'surf_azm': 270.0,\n",
       "  'surf_tilt': 55.0,\n",
       "  'theta': 55.0,\n",
       "  'dni': 699,\n",
       "  'ghi': 541,\n",
       "  'dhi': 169,\n",
       "  'temp_air': 6.3,\n",
       "  'wind_speed': 3.6,\n",
       "  'skyfile': 'skies/sky2_35.05_-106.54_2022-03-22_1530.rad'},\n",
       " '2022-03-22_1630': {'surf_azm': 270.0,\n",
       "  'surf_tilt': 26.64,\n",
       "  'theta': 26.64,\n",
       "  'dni': 87,\n",
       "  'ghi': 233,\n",
       "  'dhi': 193,\n",
       "  'temp_air': 6.0,\n",
       "  'wind_speed': 4.4,\n",
       "  'skyfile': 'skies/sky2_35.05_-106.54_2022-03-22_1630.rad'},\n",
       " '2022-03-22_1730': {'surf_azm': 270.0,\n",
       "  'surf_tilt': 4.78,\n",
       "  'theta': 4.78,\n",
       "  'dni': 22,\n",
       "  'ghi': 94,\n",
       "  'dhi': 88,\n",
       "  'temp_air': 6.6,\n",
       "  'wind_speed': 4.2,\n",
       "  'skyfile': 'skies/sky2_35.05_-106.54_2022-03-22_1730.rad'},\n",
       " '2022-03-23_0730': {'surf_azm': 90.0,\n",
       "  'surf_tilt': 55.0,\n",
       "  'theta': -55.0,\n",
       "  'dni': 0,\n",
       "  'ghi': 85,\n",
       "  'dhi': 80,\n",
       "  'temp_air': 0.8,\n",
       "  'wind_speed': 1.2,\n",
       "  'skyfile': 'skies/sky2_35.05_-106.54_2022-03-23_0730.rad'},\n",
       " '2022-03-23_0830': {'surf_azm': 90.0,\n",
       "  'surf_tilt': 53.18,\n",
       "  'theta': -53.18,\n",
       "  'dni': 0,\n",
       "  'ghi': 153,\n",
       "  'dhi': 151,\n",
       "  'temp_air': 1.0,\n",
       "  'wind_speed': 1.3,\n",
       "  'skyfile': 'skies/sky2_35.05_-106.54_2022-03-23_0830.rad'},\n",
       " '2022-03-23_0930': {'surf_azm': 90.0,\n",
       "  'surf_tilt': 38.11,\n",
       "  'theta': -38.11,\n",
       "  'dni': 135,\n",
       "  'ghi': 432,\n",
       "  'dhi': 337,\n",
       "  'temp_air': 1.5,\n",
       "  'wind_speed': 1.9,\n",
       "  'skyfile': 'skies/sky2_35.05_-106.54_2022-03-23_0930.rad'},\n",
       " '2022-03-23_1030': {'surf_azm': 90.0,\n",
       "  'surf_tilt': 21.53,\n",
       "  'theta': -21.53,\n",
       "  'dni': 360,\n",
       "  'ghi': 569,\n",
       "  'dhi': 284,\n",
       "  'temp_air': 2.4,\n",
       "  'wind_speed': 2.1,\n",
       "  'skyfile': 'skies/sky2_35.05_-106.54_2022-03-23_1030.rad'},\n",
       " '2022-03-23_1130': {'surf_azm': 90.0,\n",
       "  'surf_tilt': 3.8,\n",
       "  'theta': -3.8,\n",
       "  'dni': 942,\n",
       "  'ghi': 932,\n",
       "  'dhi': 151,\n",
       "  'temp_air': 4.1,\n",
       "  'wind_speed': 2.1,\n",
       "  'skyfile': 'skies/sky2_35.05_-106.54_2022-03-23_1130.rad'},\n",
       " '2022-03-23_1230': {'surf_azm': 270.0,\n",
       "  'surf_tilt': 14.16,\n",
       "  'theta': 14.16,\n",
       "  'dni': 1023,\n",
       "  'ghi': 941,\n",
       "  'dhi': 85,\n",
       "  'temp_air': 5.9,\n",
       "  'wind_speed': 2.1,\n",
       "  'skyfile': 'skies/sky2_35.05_-106.54_2022-03-23_1230.rad'},\n",
       " '2022-03-23_1330': {'surf_azm': 270.0,\n",
       "  'surf_tilt': 31.29,\n",
       "  'theta': 31.29,\n",
       "  'dni': 1026,\n",
       "  'ghi': 882,\n",
       "  'dhi': 70,\n",
       "  'temp_air': 7.3,\n",
       "  'wind_speed': 2.4,\n",
       "  'skyfile': 'skies/sky2_35.05_-106.54_2022-03-23_1330.rad'},\n",
       " '2022-03-23_1430': {'surf_azm': 270.0,\n",
       "  'surf_tilt': 46.98,\n",
       "  'theta': 46.98,\n",
       "  'dni': 1000,\n",
       "  'ghi': 761,\n",
       "  'dhi': 63,\n",
       "  'temp_air': 9.7,\n",
       "  'wind_speed': 2.2,\n",
       "  'skyfile': 'skies/sky2_35.05_-106.54_2022-03-23_1430.rad'},\n",
       " '2022-03-23_1530': {'surf_azm': 270.0,\n",
       "  'surf_tilt': 55.0,\n",
       "  'theta': 55.0,\n",
       "  'dni': 928,\n",
       "  'ghi': 581,\n",
       "  'dhi': 63,\n",
       "  'temp_air': 10.6,\n",
       "  'wind_speed': 2.3,\n",
       "  'skyfile': 'skies/sky2_35.05_-106.54_2022-03-23_1530.rad'},\n",
       " '2022-03-23_1630': {'surf_azm': 270.0,\n",
       "  'surf_tilt': 27.0,\n",
       "  'theta': 27.0,\n",
       "  'dni': 838,\n",
       "  'ghi': 367,\n",
       "  'dhi': 47,\n",
       "  'temp_air': 11.4,\n",
       "  'wind_speed': 2.6,\n",
       "  'skyfile': 'skies/sky2_35.05_-106.54_2022-03-23_1630.rad'},\n",
       " '2022-03-23_1730': {'surf_azm': 270.0,\n",
       "  'surf_tilt': 5.03,\n",
       "  'theta': 5.03,\n",
       "  'dni': 633,\n",
       "  'ghi': 177,\n",
       "  'dhi': 34,\n",
       "  'temp_air': 12.1,\n",
       "  'wind_speed': 3.7,\n",
       "  'skyfile': 'skies/sky2_35.05_-106.54_2022-03-23_1730.rad'}}"
      ]
     },
     "execution_count": 12,
     "metadata": {},
     "output_type": "execute_result"
    }
   ],
   "source": [
    "demo.gendaylit1axis()"
   ]
  },
  {
   "cell_type": "code",
   "execution_count": 13,
   "id": "6023d245",
   "metadata": {},
   "outputs": [
    {
     "name": "stdout",
     "output_type": "stream",
     "text": [
      "\n",
      "Making ~22 .rad files for gendaylit 1-axis workflow (this takes a minute..)\n",
      "22 Radfiles created in /objects/\n",
      "\n",
      "Making 22 octfiles in root directory.\n",
      "Created 1axis_2022-03-22_0730.oct\n",
      "Created 1axis_2022-03-22_0830.oct\n",
      "Created 1axis_2022-03-22_0930.oct\n",
      "Created 1axis_2022-03-22_1030.oct\n",
      "Created 1axis_2022-03-22_1130.oct\n",
      "Created 1axis_2022-03-22_1230.oct\n",
      "Created 1axis_2022-03-22_1330.oct\n",
      "Created 1axis_2022-03-22_1430.oct\n",
      "Created 1axis_2022-03-22_1530.oct\n",
      "Created 1axis_2022-03-22_1630.oct\n",
      "Created 1axis_2022-03-22_1730.oct\n",
      "Created 1axis_2022-03-23_0730.oct\n",
      "Created 1axis_2022-03-23_0830.oct\n",
      "Created 1axis_2022-03-23_0930.oct\n",
      "Created 1axis_2022-03-23_1030.oct\n",
      "Created 1axis_2022-03-23_1130.oct\n",
      "Created 1axis_2022-03-23_1230.oct\n",
      "Created 1axis_2022-03-23_1330.oct\n",
      "Created 1axis_2022-03-23_1430.oct\n",
      "Created 1axis_2022-03-23_1530.oct\n",
      "Created 1axis_2022-03-23_1630.oct\n",
      "Created 1axis_2022-03-23_1730.oct\n"
     ]
    }
   ],
   "source": [
    "trackerdict = demo.makeScene1axis(module=moduletype, sceneDict=sceneDict)\n",
    "trackerdict = demo.makeOct1axis()"
   ]
  },
  {
   "cell_type": "code",
   "execution_count": 14,
   "id": "29d1f8d6",
   "metadata": {},
   "outputs": [
    {
     "name": "stdout",
     "output_type": "stream",
     "text": [
      "Linescan in process: 1axis_2022-03-22_0730_Row3_Module13_Front\n",
      "Linescan in process: 1axis_2022-03-22_0730_Row3_Module13_Back\n",
      "Saved: results/irr_1axis_2022-03-22_0730_Row3_Module13.csv\n",
      "Index: 2022-03-22_0730. Wm2Front: 48.008313333333334. Wm2Back: 19.060126666666665\n",
      "Linescan in process: 1axis_2022-03-22_0830_Row3_Module13_Front\n",
      "Linescan in process: 1axis_2022-03-22_0830_Row3_Module13_Back\n",
      "Saved: results/irr_1axis_2022-03-22_0830_Row3_Module13.csv\n",
      "Index: 2022-03-22_0830. Wm2Front: 149.15366666666665. Wm2Back: 52.74833833333333\n",
      "Linescan in process: 1axis_2022-03-22_0930_Row3_Module13_Front\n",
      "Linescan in process: 1axis_2022-03-22_0930_Row3_Module13_Back\n",
      "Saved: results/irr_1axis_2022-03-22_0930_Row3_Module13.csv\n",
      "Index: 2022-03-22_0930. Wm2Front: 253.59483333333333. Wm2Back: 70.46593833333333\n",
      "Linescan in process: 1axis_2022-03-22_1030_Row3_Module13_Front\n",
      "Linescan in process: 1axis_2022-03-22_1030_Row3_Module13_Back\n",
      "Saved: results/irr_1axis_2022-03-22_1030_Row3_Module13.csv\n",
      "Index: 2022-03-22_1030. Wm2Front: 514.1130666666667. Wm2Back: 106.8268\n",
      "Linescan in process: 1axis_2022-03-22_1130_Row3_Module13_Front\n",
      "Linescan in process: 1axis_2022-03-22_1130_Row3_Module13_Back\n",
      "Saved: results/irr_1axis_2022-03-22_1130_Row3_Module13.csv\n",
      "Index: 2022-03-22_1130. Wm2Front: 286.27689999999996. Wm2Back: 71.42226333333335\n",
      "Linescan in process: 1axis_2022-03-22_1230_Row3_Module13_Front\n",
      "Linescan in process: 1axis_2022-03-22_1230_Row3_Module13_Back\n",
      "Saved: results/irr_1axis_2022-03-22_1230_Row3_Module13.csv\n",
      "Index: 2022-03-22_1230. Wm2Front: 213.46885. Wm2Back: 54.87927500000001\n",
      "Linescan in process: 1axis_2022-03-22_1330_Row3_Module13_Front\n",
      "Linescan in process: 1axis_2022-03-22_1330_Row3_Module13_Back\n",
      "Saved: results/irr_1axis_2022-03-22_1330_Row3_Module13.csv\n",
      "Index: 2022-03-22_1330. Wm2Front: 406.8703. Wm2Back: 80.31351666666667\n",
      "Linescan in process: 1axis_2022-03-22_1430_Row3_Module13_Front\n",
      "Linescan in process: 1axis_2022-03-22_1430_Row3_Module13_Back\n",
      "Saved: results/irr_1axis_2022-03-22_1430_Row3_Module13.csv\n",
      "Index: 2022-03-22_1430. Wm2Front: 325.81848333333335. Wm2Back: 63.84293166666667\n",
      "Linescan in process: 1axis_2022-03-22_1530_Row3_Module13_Front\n",
      "Linescan in process: 1axis_2022-03-22_1530_Row3_Module13_Back\n",
      "Saved: results/irr_1axis_2022-03-22_1530_Row3_Module13.csv\n",
      "Index: 2022-03-22_1530. Wm2Front: 867.8341166666668. Wm2Back: 71.93326333333333\n",
      "Linescan in process: 1axis_2022-03-22_1630_Row3_Module13_Front\n",
      "Linescan in process: 1axis_2022-03-22_1630_Row3_Module13_Back\n",
      "Saved: results/irr_1axis_2022-03-22_1630_Row3_Module13.csv\n",
      "Index: 2022-03-22_1630. Wm2Front: 285.7652833333333. Wm2Back: 43.977648333333335\n",
      "Linescan in process: 1axis_2022-03-22_1730_Row3_Module13_Front\n",
      "Linescan in process: 1axis_2022-03-22_1730_Row3_Module13_Back\n",
      "Saved: results/irr_1axis_2022-03-22_1730_Row3_Module13.csv\n",
      "Index: 2022-03-22_1730. Wm2Front: 93.96687333333333. Wm2Back: 23.646095\n",
      "Linescan in process: 1axis_2022-03-23_0730_Row3_Module13_Front\n",
      "Linescan in process: 1axis_2022-03-23_0730_Row3_Module13_Back\n",
      "Saved: results/irr_1axis_2022-03-23_0730_Row3_Module13.csv\n",
      "Index: 2022-03-23_0730. Wm2Front: 62.17359333333333. Wm2Back: 24.602593333333335\n",
      "Linescan in process: 1axis_2022-03-23_0830_Row3_Module13_Front\n",
      "Linescan in process: 1axis_2022-03-23_0830_Row3_Module13_Back\n",
      "Saved: results/irr_1axis_2022-03-23_0830_Row3_Module13.csv\n",
      "Index: 2022-03-23_0830. Wm2Front: 120.53925. Wm2Back: 44.920406666666665\n",
      "Linescan in process: 1axis_2022-03-23_0930_Row3_Module13_Front\n",
      "Linescan in process: 1axis_2022-03-23_0930_Row3_Module13_Back\n",
      "Saved: results/irr_1axis_2022-03-23_0930_Row3_Module13.csv\n",
      "Index: 2022-03-23_0930. Wm2Front: 478.7220666666666. Wm2Back: 87.38780500000001\n",
      "Linescan in process: 1axis_2022-03-23_1030_Row3_Module13_Front\n",
      "Linescan in process: 1axis_2022-03-23_1030_Row3_Module13_Back\n",
      "Saved: results/irr_1axis_2022-03-23_1030_Row3_Module13.csv\n",
      "Index: 2022-03-23_1030. Wm2Front: 599.4883. Wm2Back: 115.22149999999999\n",
      "Linescan in process: 1axis_2022-03-23_1130_Row3_Module13_Front\n",
      "Linescan in process: 1axis_2022-03-23_1130_Row3_Module13_Back\n",
      "Saved: results/irr_1axis_2022-03-23_1130_Row3_Module13.csv\n",
      "Index: 2022-03-23_1130. Wm2Front: 933.6078166666667. Wm2Back: 185.69301666666667\n",
      "Linescan in process: 1axis_2022-03-23_1230_Row3_Module13_Front\n",
      "Linescan in process: 1axis_2022-03-23_1230_Row3_Module13_Back\n",
      "Saved: results/irr_1axis_2022-03-23_1230_Row3_Module13.csv\n",
      "Index: 2022-03-23_1230. Wm2Front: 947.4317333333333. Wm2Back: 169.5336\n",
      "Linescan in process: 1axis_2022-03-23_1330_Row3_Module13_Front\n",
      "Linescan in process: 1axis_2022-03-23_1330_Row3_Module13_Back\n",
      "Saved: results/irr_1axis_2022-03-23_1330_Row3_Module13.csv\n",
      "Index: 2022-03-23_1330. Wm2Front: 977.6378. Wm2Back: 129.07238333333333\n",
      "Linescan in process: 1axis_2022-03-23_1430_Row3_Module13_Front\n",
      "Linescan in process: 1axis_2022-03-23_1430_Row3_Module13_Back\n",
      "Saved: results/irr_1axis_2022-03-23_1430_Row3_Module13.csv\n",
      "Index: 2022-03-23_1430. Wm2Front: 995.5396666666666. Wm2Back: 83.29937000000001\n",
      "Linescan in process: 1axis_2022-03-23_1530_Row3_Module13_Front\n",
      "Linescan in process: 1axis_2022-03-23_1530_Row3_Module13_Back\n",
      "Saved: results/irr_1axis_2022-03-23_1530_Row3_Module13.csv\n",
      "Index: 2022-03-23_1530. Wm2Front: 959.6277666666667. Wm2Back: 60.04718166666667\n",
      "Linescan in process: 1axis_2022-03-23_1630_Row3_Module13_Front\n",
      "Linescan in process: 1axis_2022-03-23_1630_Row3_Module13_Back\n",
      "Saved: results/irr_1axis_2022-03-23_1630_Row3_Module13.csv\n",
      "Index: 2022-03-23_1630. Wm2Front: 620.5562. Wm2Back: 12.289045000000002\n",
      "Linescan in process: 1axis_2022-03-23_1730_Row3_Module13_Front\n",
      "Linescan in process: 1axis_2022-03-23_1730_Row3_Module13_Back\n",
      "Saved: results/irr_1axis_2022-03-23_1730_Row3_Module13.csv\n",
      "Index: 2022-03-23_1730. Wm2Front: 127.48673333333333. Wm2Back: 27.207941666666663\n"
     ]
    }
   ],
   "source": [
    "trackerdict = demo.analysis1axis(sensorsy=2) # Middle Module"
   ]
  },
  {
   "cell_type": "code",
   "execution_count": null,
   "id": "5e5d1d68",
   "metadata": {},
   "outputs": [],
   "source": [
    "demo.exportScenarioData(trackerdict, savefile = Path().resolve().parent.parent / 'Results' / 'A2-Mar-22-M.csv')"
   ]
  },
  {
   "cell_type": "code",
   "execution_count": 15,
   "id": "cb29892b",
   "metadata": {},
   "outputs": [
    {
     "name": "stdout",
     "output_type": "stream",
     "text": [
      "Linescan in process: 1axis_2022-03-22_0730_Row3_Module1_Front\n",
      "Linescan in process: 1axis_2022-03-22_0730_Row3_Module1_Back\n",
      "Saved: results/irr_1axis_2022-03-22_0730_Row3_Module1.csv\n",
      "Index: 2022-03-22_0730. Wm2Front: 50.637908333333336. Wm2Back: 24.34565166666667\n",
      "Linescan in process: 1axis_2022-03-22_0830_Row3_Module1_Front\n",
      "Linescan in process: 1axis_2022-03-22_0830_Row3_Module1_Back\n",
      "Saved: results/irr_1axis_2022-03-22_0830_Row3_Module1.csv\n",
      "Index: 2022-03-22_0830. Wm2Front: 157.92764999999997. Wm2Back: 69.43793666666667\n",
      "Linescan in process: 1axis_2022-03-22_0930_Row3_Module1_Front\n",
      "Linescan in process: 1axis_2022-03-22_0930_Row3_Module1_Back\n",
      "Saved: results/irr_1axis_2022-03-22_0930_Row3_Module1.csv\n",
      "Index: 2022-03-22_0930. Wm2Front: 261.4893333333333. Wm2Back: 97.139195\n",
      "Linescan in process: 1axis_2022-03-22_1030_Row3_Module1_Front\n",
      "Linescan in process: 1axis_2022-03-22_1030_Row3_Module1_Back\n",
      "Saved: results/irr_1axis_2022-03-22_1030_Row3_Module1.csv\n",
      "Index: 2022-03-22_1030. Wm2Front: 517.2032833333333. Wm2Back: 177.59516666666667\n",
      "Linescan in process: 1axis_2022-03-22_1130_Row3_Module1_Front\n",
      "Linescan in process: 1axis_2022-03-22_1130_Row3_Module1_Back\n",
      "Saved: results/irr_1axis_2022-03-22_1130_Row3_Module1.csv\n",
      "Index: 2022-03-22_1130. Wm2Front: 286.41846666666663. Wm2Back: 98.368875\n",
      "Linescan in process: 1axis_2022-03-22_1230_Row3_Module1_Front\n",
      "Linescan in process: 1axis_2022-03-22_1230_Row3_Module1_Back\n",
      "Saved: results/irr_1axis_2022-03-22_1230_Row3_Module1.csv\n",
      "Index: 2022-03-22_1230. Wm2Front: 213.87849999999997. Wm2Back: 74.05059833333334\n",
      "Linescan in process: 1axis_2022-03-22_1330_Row3_Module1_Front\n",
      "Linescan in process: 1axis_2022-03-22_1330_Row3_Module1_Back\n",
      "Saved: results/irr_1axis_2022-03-22_1330_Row3_Module1.csv\n",
      "Index: 2022-03-22_1330. Wm2Front: 415.8069333333333. Wm2Back: 132.06181666666666\n",
      "Linescan in process: 1axis_2022-03-22_1430_Row3_Module1_Front\n",
      "Linescan in process: 1axis_2022-03-22_1430_Row3_Module1_Back\n",
      "Saved: results/irr_1axis_2022-03-22_1430_Row3_Module1.csv\n",
      "Index: 2022-03-22_1430. Wm2Front: 343.32674999999995. Wm2Back: 100.39034166666666\n",
      "Linescan in process: 1axis_2022-03-22_1530_Row3_Module1_Front\n",
      "Linescan in process: 1axis_2022-03-22_1530_Row3_Module1_Back\n",
      "Saved: results/irr_1axis_2022-03-22_1530_Row3_Module1.csv\n",
      "Index: 2022-03-22_1530. Wm2Front: 905.9343. Wm2Back: 141.49036666666666\n",
      "Linescan in process: 1axis_2022-03-22_1630_Row3_Module1_Front\n",
      "Linescan in process: 1axis_2022-03-22_1630_Row3_Module1_Back\n",
      "Saved: results/irr_1axis_2022-03-22_1630_Row3_Module1.csv\n",
      "Index: 2022-03-22_1630. Wm2Front: 292.2986666666667. Wm2Back: 71.39112166666666\n",
      "Linescan in process: 1axis_2022-03-22_1730_Row3_Module1_Front\n",
      "Linescan in process: 1axis_2022-03-22_1730_Row3_Module1_Back\n",
      "Saved: results/irr_1axis_2022-03-22_1730_Row3_Module1.csv\n",
      "Index: 2022-03-22_1730. Wm2Front: 93.68059833333334. Wm2Back: 30.933279999999996\n",
      "Linescan in process: 1axis_2022-03-23_0730_Row3_Module1_Front\n",
      "Linescan in process: 1axis_2022-03-23_0730_Row3_Module1_Back\n",
      "Saved: results/irr_1axis_2022-03-23_0730_Row3_Module1.csv\n",
      "Index: 2022-03-23_0730. Wm2Front: 65.87669833333334. Wm2Back: 31.6682\n",
      "Linescan in process: 1axis_2022-03-23_0830_Row3_Module1_Front\n",
      "Linescan in process: 1axis_2022-03-23_0830_Row3_Module1_Back\n",
      "Saved: results/irr_1axis_2022-03-23_0830_Row3_Module1.csv\n",
      "Index: 2022-03-23_0830. Wm2Front: 127.36224999999999. Wm2Back: 58.182235\n",
      "Linescan in process: 1axis_2022-03-23_0930_Row3_Module1_Front\n",
      "Linescan in process: 1axis_2022-03-23_0930_Row3_Module1_Back\n",
      "Saved: results/irr_1axis_2022-03-23_0930_Row3_Module1.csv\n",
      "Index: 2022-03-23_0930. Wm2Front: 492.8769166666666. Wm2Back: 145.81963333333334\n",
      "Linescan in process: 1axis_2022-03-23_1030_Row3_Module1_Front\n",
      "Linescan in process: 1axis_2022-03-23_1030_Row3_Module1_Back\n",
      "Saved: results/irr_1axis_2022-03-23_1030_Row3_Module1.csv\n",
      "Index: 2022-03-23_1030. Wm2Front: 603.8096166666667. Wm2Back: 204.73845\n",
      "Linescan in process: 1axis_2022-03-23_1130_Row3_Module1_Front\n",
      "Linescan in process: 1axis_2022-03-23_1130_Row3_Module1_Back\n",
      "Saved: results/irr_1axis_2022-03-23_1130_Row3_Module1.csv\n",
      "Index: 2022-03-23_1130. Wm2Front: 933.47885. Wm2Back: 354.8752166666667\n",
      "Linescan in process: 1axis_2022-03-23_1230_Row3_Module1_Front\n",
      "Linescan in process: 1axis_2022-03-23_1230_Row3_Module1_Back\n",
      "Saved: results/irr_1axis_2022-03-23_1230_Row3_Module1.csv\n",
      "Index: 2022-03-23_1230. Wm2Front: 948.5855166666668. Wm2Back: 340.55948333333333\n",
      "Linescan in process: 1axis_2022-03-23_1330_Row3_Module1_Front\n",
      "Linescan in process: 1axis_2022-03-23_1330_Row3_Module1_Back\n",
      "Saved: results/irr_1axis_2022-03-23_1330_Row3_Module1.csv\n",
      "Index: 2022-03-23_1330. Wm2Front: 990.4796166666666. Wm2Back: 280.5475333333334\n",
      "Linescan in process: 1axis_2022-03-23_1430_Row3_Module1_Front\n",
      "Linescan in process: 1axis_2022-03-23_1430_Row3_Module1_Back\n"
     ]
    },
    {
     "ename": "KeyboardInterrupt",
     "evalue": "",
     "output_type": "error",
     "traceback": [
      "\u001b[0;31m---------------------------------------------------------------------------\u001b[0m",
      "\u001b[0;31mKeyboardInterrupt\u001b[0m                         Traceback (most recent call last)",
      "Cell \u001b[0;32mIn[15], line 1\u001b[0m\n\u001b[0;32m----> 1\u001b[0m trackerdict \u001b[38;5;241m=\u001b[39m demo\u001b[38;5;241m.\u001b[39manalysis1axis(sensorsy\u001b[38;5;241m=\u001b[39m\u001b[38;5;241m2\u001b[39m, modWanted \u001b[38;5;241m=\u001b[39m \u001b[38;5;241m1\u001b[39m)\n",
      "File \u001b[0;32m~/Documents/GitHub/bifacial_radiance/bifacial_radiance/main.py:2884\u001b[0m, in \u001b[0;36mRadianceObj.analysis1axis\u001b[0;34m(self, trackerdict, singleindex, accuracy, customname, modWanted, rowWanted, sensorsy, sensorsx, modscanfront, modscanback, relative, debug)\u001b[0m\n\u001b[1;32m   2877\u001b[0m     name \u001b[38;5;241m=\u001b[39m \u001b[38;5;124m'\u001b[39m\u001b[38;5;124m1axis_\u001b[39m\u001b[38;5;132;01m%s\u001b[39;00m\u001b[38;5;132;01m%s\u001b[39;00m\u001b[38;5;124m'\u001b[39m\u001b[38;5;241m%\u001b[39m(index,customname,)\n\u001b[1;32m   2878\u001b[0m     frontscanind, backscanind \u001b[38;5;241m=\u001b[39m analysis\u001b[38;5;241m.\u001b[39mmoduleAnalysis(scene\u001b[38;5;241m=\u001b[39mscene, modWanted\u001b[38;5;241m=\u001b[39mm, \n\u001b[1;32m   2879\u001b[0m                                     rowWanted\u001b[38;5;241m=\u001b[39mr, \n\u001b[1;32m   2880\u001b[0m                                     sensorsy\u001b[38;5;241m=\u001b[39msensorsy, \n\u001b[1;32m   2881\u001b[0m                                     sensorsx\u001b[38;5;241m=\u001b[39msensorsx, \n\u001b[1;32m   2882\u001b[0m                                     modscanfront\u001b[38;5;241m=\u001b[39mmodscanfront, modscanback\u001b[38;5;241m=\u001b[39mmodscanback,\n\u001b[1;32m   2883\u001b[0m                                     relative\u001b[38;5;241m=\u001b[39mrelative, debug\u001b[38;5;241m=\u001b[39mdebug)\n\u001b[0;32m-> 2884\u001b[0m     analysis\u001b[38;5;241m.\u001b[39manalysis(octfile\u001b[38;5;241m=\u001b[39moctfile,name\u001b[38;5;241m=\u001b[39mname,frontscan\u001b[38;5;241m=\u001b[39mfrontscanind,backscan\u001b[38;5;241m=\u001b[39mbackscanind,accuracy\u001b[38;5;241m=\u001b[39maccuracy)                \n\u001b[1;32m   2885\u001b[0m     Results[\u001b[38;5;124m'\u001b[39m\u001b[38;5;124mAnalysisObj\u001b[39m\u001b[38;5;124m'\u001b[39m]\u001b[38;5;241m=\u001b[39manalysis\n\u001b[1;32m   2886\u001b[0m \u001b[38;5;28;01mexcept\u001b[39;00m \u001b[38;5;167;01mException\u001b[39;00m \u001b[38;5;28;01mas\u001b[39;00m e: \u001b[38;5;66;03m# problem with file. TODO: only catch specific error types here.\u001b[39;00m\n",
      "File \u001b[0;32m~/Documents/GitHub/bifacial_radiance/bifacial_radiance/main.py:5153\u001b[0m, in \u001b[0;36mAnalysisObj.analysis\u001b[0;34m(self, octfile, name, frontscan, backscan, plotflag, accuracy, RGB)\u001b[0m\n\u001b[1;32m   5151\u001b[0m \u001b[38;5;66;03m#bottom view.\u001b[39;00m\n\u001b[1;32m   5152\u001b[0m linepts \u001b[38;5;241m=\u001b[39m \u001b[38;5;28mself\u001b[39m\u001b[38;5;241m.\u001b[39m_linePtsMakeDict(backscan)\n\u001b[0;32m-> 5153\u001b[0m backDict \u001b[38;5;241m=\u001b[39m \u001b[38;5;28mself\u001b[39m\u001b[38;5;241m.\u001b[39m_irrPlot(octfile, linepts, name\u001b[38;5;241m+\u001b[39m\u001b[38;5;124m'\u001b[39m\u001b[38;5;124m_Back\u001b[39m\u001b[38;5;124m'\u001b[39m,\n\u001b[1;32m   5154\u001b[0m                            plotflag\u001b[38;5;241m=\u001b[39mplotflag, accuracy\u001b[38;5;241m=\u001b[39maccuracy)\n\u001b[1;32m   5155\u001b[0m \u001b[38;5;66;03m# don't save if _irrPlot returns an empty file.\u001b[39;00m\n\u001b[1;32m   5156\u001b[0m \u001b[38;5;28;01mif\u001b[39;00m frontDict \u001b[38;5;129;01mis\u001b[39;00m \u001b[38;5;129;01mnot\u001b[39;00m \u001b[38;5;28;01mNone\u001b[39;00m:\n",
      "File \u001b[0;32m~/Documents/GitHub/bifacial_radiance/bifacial_radiance/main.py:4446\u001b[0m, in \u001b[0;36mAnalysisObj._irrPlot\u001b[0;34m(self, octfile, linepts, mytitle, plotflag, accuracy)\u001b[0m\n\u001b[1;32m   4441\u001b[0m     \u001b[38;5;28mprint\u001b[39m(\u001b[38;5;124m'\u001b[39m\u001b[38;5;124m_irrPlot accuracy options: \u001b[39m\u001b[38;5;124m\"\u001b[39m\u001b[38;5;124mlow\u001b[39m\u001b[38;5;124m\"\u001b[39m\u001b[38;5;124m or \u001b[39m\u001b[38;5;124m\"\u001b[39m\u001b[38;5;124mhigh\u001b[39m\u001b[38;5;124m\"\u001b[39m\u001b[38;5;124m'\u001b[39m)\n\u001b[1;32m   4442\u001b[0m     \u001b[38;5;28;01mreturn\u001b[39;00m({})\n\u001b[0;32m-> 4446\u001b[0m temp_out,err \u001b[38;5;241m=\u001b[39m _popen(cmd,linepts\u001b[38;5;241m.\u001b[39mencode())\n\u001b[1;32m   4447\u001b[0m \u001b[38;5;28;01mif\u001b[39;00m err \u001b[38;5;129;01mis\u001b[39;00m \u001b[38;5;129;01mnot\u001b[39;00m \u001b[38;5;28;01mNone\u001b[39;00m:\n\u001b[1;32m   4448\u001b[0m     \u001b[38;5;28;01mif\u001b[39;00m err[\u001b[38;5;241m0\u001b[39m:\u001b[38;5;241m5\u001b[39m] \u001b[38;5;241m==\u001b[39m \u001b[38;5;124m'\u001b[39m\u001b[38;5;124merror\u001b[39m\u001b[38;5;124m'\u001b[39m:\n",
      "File \u001b[0;32m~/Documents/GitHub/bifacial_radiance/bifacial_radiance/main.py:103\u001b[0m, in \u001b[0;36m_popen\u001b[0;34m(cmd, data_in, data_out)\u001b[0m\n\u001b[1;32m    100\u001b[0m     shell\u001b[38;5;241m=\u001b[39m\u001b[38;5;28;01mFalse\u001b[39;00m\n\u001b[1;32m    102\u001b[0m p \u001b[38;5;241m=\u001b[39m Popen(cmd, bufsize\u001b[38;5;241m=\u001b[39m\u001b[38;5;241m-\u001b[39m\u001b[38;5;241m1\u001b[39m, stdin\u001b[38;5;241m=\u001b[39mPIPE, stdout\u001b[38;5;241m=\u001b[39mdata_out, stderr\u001b[38;5;241m=\u001b[39mPIPE, shell\u001b[38;5;241m=\u001b[39mshell) \u001b[38;5;66;03m#shell=True required for Linux? quick fix, but may be security concern\u001b[39;00m\n\u001b[0;32m--> 103\u001b[0m data, err \u001b[38;5;241m=\u001b[39m p\u001b[38;5;241m.\u001b[39mcommunicate(data_in)\n\u001b[1;32m    105\u001b[0m \u001b[38;5;28;01mif\u001b[39;00m err:\n\u001b[1;32m    106\u001b[0m     \u001b[38;5;28;01mif\u001b[39;00m data:\n",
      "File \u001b[0;32m~/anaconda3/lib/python3.11/subprocess.py:1209\u001b[0m, in \u001b[0;36mPopen.communicate\u001b[0;34m(self, input, timeout)\u001b[0m\n\u001b[1;32m   1206\u001b[0m     endtime \u001b[38;5;241m=\u001b[39m \u001b[38;5;28;01mNone\u001b[39;00m\n\u001b[1;32m   1208\u001b[0m \u001b[38;5;28;01mtry\u001b[39;00m:\n\u001b[0;32m-> 1209\u001b[0m     stdout, stderr \u001b[38;5;241m=\u001b[39m \u001b[38;5;28mself\u001b[39m\u001b[38;5;241m.\u001b[39m_communicate(\u001b[38;5;28minput\u001b[39m, endtime, timeout)\n\u001b[1;32m   1210\u001b[0m \u001b[38;5;28;01mexcept\u001b[39;00m \u001b[38;5;167;01mKeyboardInterrupt\u001b[39;00m:\n\u001b[1;32m   1211\u001b[0m     \u001b[38;5;66;03m# https://bugs.python.org/issue25942\u001b[39;00m\n\u001b[1;32m   1212\u001b[0m     \u001b[38;5;66;03m# See the detailed comment in .wait().\u001b[39;00m\n\u001b[1;32m   1213\u001b[0m     \u001b[38;5;28;01mif\u001b[39;00m timeout \u001b[38;5;129;01mis\u001b[39;00m \u001b[38;5;129;01mnot\u001b[39;00m \u001b[38;5;28;01mNone\u001b[39;00m:\n",
      "File \u001b[0;32m~/anaconda3/lib/python3.11/subprocess.py:2128\u001b[0m, in \u001b[0;36mPopen._communicate\u001b[0;34m(self, input, endtime, orig_timeout)\u001b[0m\n\u001b[1;32m   2126\u001b[0m             key\u001b[38;5;241m.\u001b[39mfileobj\u001b[38;5;241m.\u001b[39mclose()\n\u001b[1;32m   2127\u001b[0m \u001b[38;5;28;01melif\u001b[39;00m key\u001b[38;5;241m.\u001b[39mfileobj \u001b[38;5;129;01min\u001b[39;00m (\u001b[38;5;28mself\u001b[39m\u001b[38;5;241m.\u001b[39mstdout, \u001b[38;5;28mself\u001b[39m\u001b[38;5;241m.\u001b[39mstderr):\n\u001b[0;32m-> 2128\u001b[0m     data \u001b[38;5;241m=\u001b[39m os\u001b[38;5;241m.\u001b[39mread(key\u001b[38;5;241m.\u001b[39mfd, \u001b[38;5;241m32768\u001b[39m)\n\u001b[1;32m   2129\u001b[0m     \u001b[38;5;28;01mif\u001b[39;00m \u001b[38;5;129;01mnot\u001b[39;00m data:\n\u001b[1;32m   2130\u001b[0m         selector\u001b[38;5;241m.\u001b[39munregister(key\u001b[38;5;241m.\u001b[39mfileobj)\n",
      "\u001b[0;31mKeyboardInterrupt\u001b[0m: "
     ]
    }
   ],
   "source": [
    "trackerdict = demo.analysis1axis(sensorsy=2, modWanted = 1) # South Module"
   ]
  },
  {
   "cell_type": "code",
   "execution_count": null,
   "id": "14a5020d",
   "metadata": {},
   "outputs": [],
   "source": [
    "demo.exportScenarioData(trackerdict, savefile = Path().resolve().parent.parent / 'Results' / 'A2-Mar-22-S.csv')"
   ]
  },
  {
   "cell_type": "code",
   "execution_count": null,
   "id": "a38f84b4",
   "metadata": {},
   "outputs": [],
   "source": [
    "trackerdict = demo.analysis1axis(sensorsy=2, modWanted = 25) # North Module"
   ]
  },
  {
   "cell_type": "code",
   "execution_count": null,
   "id": "fb413449",
   "metadata": {},
   "outputs": [],
   "source": []
  },
  {
   "cell_type": "code",
   "execution_count": null,
   "id": "8a168f86",
   "metadata": {},
   "outputs": [],
   "source": [
    "demo.calculateResults()"
   ]
  },
  {
   "cell_type": "code",
   "execution_count": null,
   "id": "694c80c7",
   "metadata": {},
   "outputs": [],
   "source": [
    "demo.CompiledResults.set_index('timestamp', inplace=True)\n",
    "demo.CompiledResults\n",
    "# Grear_mean and Gfront_mean values to be recorded in the excel"
   ]
  },
  {
   "cell_type": "code",
   "execution_count": null,
   "id": "13860929",
   "metadata": {},
   "outputs": [],
   "source": [
    "demo.exportScenarioData(trackerdict, savefile = Path().resolve().parent.parent / 'Results' / 'A2-Mar-22-N.csv')"
   ]
  }
 ],
 "metadata": {
  "kernelspec": {
   "display_name": "Python 3 (ipykernel)",
   "language": "python",
   "name": "python3"
  },
  "language_info": {
   "codemirror_mode": {
    "name": "ipython",
    "version": 3
   },
   "file_extension": ".py",
   "mimetype": "text/x-python",
   "name": "python",
   "nbconvert_exporter": "python",
   "pygments_lexer": "ipython3",
   "version": "3.11.5"
  }
 },
 "nbformat": 4,
 "nbformat_minor": 5
}
