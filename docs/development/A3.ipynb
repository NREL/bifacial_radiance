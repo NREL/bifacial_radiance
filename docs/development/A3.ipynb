{
 "cells": [
  {
   "cell_type": "markdown",
   "id": "6137b70f",
   "metadata": {},
   "source": [
    "# A3\n",
    "* GCR = 0.4\n",
    "* Albedo = 0.2\n",
    "* Hub Height = 3.5\n",
    "* Configuration = 1-Up portrait\n",
    "* Ground surface = Horizontal\n",
    "***\n",
    "* A GCR of 0.4 for the Trina Vertex module (length = 2.384m) corresponds to a rowto-row spacing or pitch of 5.96m\n",
    "* 1-up Portrait: 5 rows, each with 25 modules\n",
    "* Torque tube diameter = 15 cm. (round)\n",
    "* Maximum tracker rotation angle = 55 deg\n",
    "* Backtracking is enabled\n",
    "* Location: Albuquerque, New Mexico USA (35.05°, -106.54°)"
   ]
  },
  {
   "cell_type": "code",
   "execution_count": 1,
   "id": "760e9b21",
   "metadata": {},
   "outputs": [
    {
     "name": "stdout",
     "output_type": "stream",
     "text": [
      "Your simulation will be stored in Scenarios/A3\n"
     ]
    }
   ],
   "source": [
    "import os\n",
    "from pathlib import Path\n",
    "\n",
    "testfolder = 'Scenarios/A3'\n",
    "\n",
    "if not os.path.exists(testfolder):\n",
    "    os.makedirs(testfolder)\n",
    "    \n",
    "print (\"Your simulation will be stored in %s\" % testfolder)"
   ]
  },
  {
   "cell_type": "code",
   "execution_count": 2,
   "id": "aa782cd2",
   "metadata": {},
   "outputs": [],
   "source": [
    "import bifacial_radiance as br\n",
    "import bifacialvf as bf\n",
    "import numpy as np\n",
    "import pandas as pd\n",
    "import matplotlib.pyplot as plt\n",
    "import sys, platform\n",
    "import csv\n",
    "from pathlib import Path"
   ]
  },
  {
   "cell_type": "code",
   "execution_count": 3,
   "id": "2d3d89b5",
   "metadata": {},
   "outputs": [
    {
     "name": "stdout",
     "output_type": "stream",
     "text": [
      "Working on a  Darwin 23.3.0\n",
      "Python version  3.11.5 (main, Sep 11 2023, 08:19:27) [Clang 14.0.6 ]\n",
      "Pandas version  2.0.3\n",
      "bifacial_radiance version  0.4.2+244.g943b3f4.dirty\n",
      "pyplot  3.7.2\n",
      "bifacialvf version  0.1.8.1\n"
     ]
    }
   ],
   "source": [
    "print(\"Working on a \", platform.system(), platform.release())\n",
    "print(\"Python version \", sys.version)\n",
    "print(\"Pandas version \", pd.__version__)\n",
    "print(\"bifacial_radiance version \", br.__version__)\n",
    "print(\"pyplot \", plt.matplotlib.__version__)\n",
    "print(\"bifacialvf version \", bf.__version__)"
   ]
  },
  {
   "cell_type": "code",
   "execution_count": 4,
   "id": "8a48f304",
   "metadata": {},
   "outputs": [],
   "source": [
    "simulationname = 'A3'\n",
    "\n",
    "# Location Albuquerque, New Mexico, USA\n",
    "lat = 35.05\n",
    "lon = -106.54\n",
    "\n",
    "# Scene Parameters\n",
    "azimuth=90\n",
    "tilt=30\n",
    "\n",
    "# MakeModule Parameters\n",
    "moduletype='PVmod'\n",
    "numpanels=1\n",
    "module_x = 1.303 # m\n",
    "module_y = 2.384 # m. slope we will measure\n",
    "sensorsy=2\n",
    "torquetube_diam = 0.15\n",
    "\n",
    "zgap = 0.02 # m\n",
    "xgap = 0.002 # m\n",
    "\n",
    "# SceneDict Parameters\n",
    "pitch = 5.96 # m\n",
    "albedo = 0.2\n",
    "hub_height = 3.5 # m  \n",
    "nMods = 25 \n",
    "nRows = 5\n",
    "\n",
    "sceneDict = {'tilt':tilt,'pitch':pitch,'albedo': albedo,'hub_height':hub_height,'azimuth':azimuth, 'nMods': nMods, 'nRows': nRows} "
   ]
  },
  {
   "cell_type": "code",
   "execution_count": 5,
   "id": "eb5df558",
   "metadata": {
    "scrolled": true
   },
   "outputs": [
    {
     "name": "stdout",
     "output_type": "stream",
     "text": [
      "path = Scenarios/A3\n",
      "Making path: images\n",
      "Making path: objects\n",
      "Making path: results\n",
      "Making path: skies\n",
      "Making path: EPWs\n",
      "Making path: materials\n",
      "Loading albedo, 1 value(s), 0.200 avg\n",
      "1 nonzero albedo values.\n"
     ]
    }
   ],
   "source": [
    "demo = br.RadianceObj(simulationname,path = testfolder)\n",
    "demo.setGround(albedo)"
   ]
  },
  {
   "cell_type": "code",
   "execution_count": 6,
   "id": "4b7e271b",
   "metadata": {},
   "outputs": [],
   "source": [
    "cumulativesky = False\n",
    "trackerParams = {\n",
    "    'limit_angle': 55,\n",
    "    'backtrack': True,\n",
    "    'gcr': 0.4,\n",
    "    'azimuth': 180,  # axis angle, N-S = 180\n",
    "    'cumulativesky': cumulativesky\n",
    "}"
   ]
  },
  {
   "cell_type": "code",
   "execution_count": 7,
   "id": "e1e7d382",
   "metadata": {
    "scrolled": true
   },
   "outputs": [
    {
     "name": "stdout",
     "output_type": "stream",
     "text": [
      "\n",
      "Module Name: PVmod\n",
      "Module PVmod updated in module.json\n"
     ]
    }
   ],
   "source": [
    "module=demo.makeModule(name=moduletype,x=module_x,y=module_y, xgap=xgap, zgap=zgap)"
   ]
  },
  {
   "cell_type": "code",
   "execution_count": 8,
   "id": "7352e18f",
   "metadata": {},
   "outputs": [
    {
     "name": "stdout",
     "output_type": "stream",
     "text": [
      "Module PVmod updated in module.json\n",
      "Pre-existing .rad file objects/PVmod.rad will be overwritten\n",
      "\n"
     ]
    }
   ],
   "source": [
    "module.addTorquetube(diameter=torquetube_diam, tubetype='Round', material='Metal_Grey', \n",
    "                     axisofrotation=True, visible=True, recompile=True)"
   ]
  },
  {
   "cell_type": "code",
   "execution_count": 9,
   "id": "7f694ea6",
   "metadata": {},
   "outputs": [
    {
     "data": {
      "text/plain": [
       "'/Users/storopov/Documents/GitHub/bifacial_radiance/docs/development/Instructions/Phase2_meteo_hourly_psm3format.csv'"
      ]
     },
     "execution_count": 9,
     "metadata": {},
     "output_type": "execute_result"
    }
   ],
   "source": [
    "weatherfile = str(Path().resolve().parent.parent / 'Instructions' / 'Phase2_meteo_hourly_psm3format.csv')\n",
    "weatherfile"
   ]
  },
  {
   "cell_type": "code",
   "execution_count": 10,
   "id": "966c7daf",
   "metadata": {
    "scrolled": true
   },
   "outputs": [
    {
     "name": "stdout",
     "output_type": "stream",
     "text": [
      "COLUMN DATAS Index(['Year', 'Month', 'Day', 'Hour', 'Minute', 'GHI', 'DNI', 'DHI',\n",
      "       'temp_air', 'wind_speed', 'humidity', 'Unnamed: 11', 'Unnamed: 12',\n",
      "       'Unnamed: 13', 'Unnamed: 14', 'Unnamed: 15', 'Unnamed: 16',\n",
      "       'Unnamed: 17'],\n",
      "      dtype='object')\n",
      "8760 line in WeatherFile. Assuming this is a standard hourly WeatherFile for the year for purposes of saving Gencumulativesky temporary weather files in EPW folder.\n",
      "Coercing year to 2022\n",
      "Filtering dates\n",
      "Saving file EPWs/metdata_temp.csv, # points: 8760\n",
      "Calculating Sun position for Metdata that is left-labeled  with a delta of +30 mins. i.e. 12 is 12:30 sunpos.\n"
     ]
    }
   ],
   "source": [
    "metdata = demo.readWeatherFile(weatherfile, source='sam', starttime='2022-01-01_1000', endtime='2022-01-01_1200')"
   ]
  },
  {
   "cell_type": "code",
   "execution_count": 11,
   "id": "556da4dc",
   "metadata": {},
   "outputs": [],
   "source": [
    "trackerdict = demo.set1axis(**trackerParams)"
   ]
  },
  {
   "cell_type": "code",
   "execution_count": 12,
   "id": "e814024e",
   "metadata": {},
   "outputs": [
    {
     "name": "stdout",
     "output_type": "stream",
     "text": [
      "Creating ~2 skyfiles. \n",
      "Created 2 skyfiles in /skies/\n"
     ]
    },
    {
     "data": {
      "text/plain": [
       "{'2022-01-01_1030': {'surf_azm': 90.0,\n",
       "  'surf_tilt': 29.16,\n",
       "  'theta': -29.16,\n",
       "  'dni': 5,\n",
       "  'ghi': 112,\n",
       "  'dhi': 108,\n",
       "  'temp_air': 3.9,\n",
       "  'wind_speed': 4.7,\n",
       "  'skyfile': 'skies/sky2_35.05_-106.54_2022-01-01_1030.rad'},\n",
       " '2022-01-01_1130': {'surf_azm': 90.0,\n",
       "  'surf_tilt': 4.27,\n",
       "  'theta': -4.27,\n",
       "  'dni': 60,\n",
       "  'ghi': 265,\n",
       "  'dhi': 232,\n",
       "  'temp_air': 3.3,\n",
       "  'wind_speed': 5.5,\n",
       "  'skyfile': 'skies/sky2_35.05_-106.54_2022-01-01_1130.rad'}}"
      ]
     },
     "execution_count": 12,
     "metadata": {},
     "output_type": "execute_result"
    }
   ],
   "source": [
    "demo.gendaylit1axis()"
   ]
  },
  {
   "cell_type": "code",
   "execution_count": 13,
   "id": "6023d245",
   "metadata": {},
   "outputs": [
    {
     "name": "stdout",
     "output_type": "stream",
     "text": [
      "\n",
      "Making ~2 .rad files for gendaylit 1-axis workflow (this takes a minute..)\n",
      "2 Radfiles created in /objects/\n",
      "\n",
      "Making 2 octfiles in root directory.\n",
      "Created 1axis_2022-01-01_1030.oct\n",
      "Created 1axis_2022-01-01_1130.oct\n"
     ]
    }
   ],
   "source": [
    "trackerdict = demo.makeScene1axis(module=moduletype, sceneDict=sceneDict)\n",
    "trackerdict = demo.makeOct1axis()"
   ]
  },
  {
   "cell_type": "code",
   "execution_count": 14,
   "id": "29d1f8d6",
   "metadata": {
    "scrolled": false
   },
   "outputs": [
    {
     "name": "stdout",
     "output_type": "stream",
     "text": [
      "Linescan in process: 1axis_2022-01-01_1030_Row3_Module13_Front\n",
      "Linescan in process: 1axis_2022-01-01_1030_Row3_Module13_Back\n",
      "Saved: results/irr_1axis_2022-01-01_1030_Row3_Module13.csv\n",
      "Index: 2022-01-01_1030. Wm2Front: 101.09661666666666. Wm2Back: 15.091095\n",
      "Linescan in process: 1axis_2022-01-01_1130_Row3_Module13_Front\n",
      "Linescan in process: 1axis_2022-01-01_1130_Row3_Module13_Back\n",
      "Saved: results/irr_1axis_2022-01-01_1130_Row3_Module13.csv\n",
      "Index: 2022-01-01_1130. Wm2Front: 262.27655000000004. Wm2Back: 31.97971666666667\n"
     ]
    }
   ],
   "source": [
    "trackerdict = demo.analysis1axis(sensorsy=2) # Middle Module"
   ]
  },
  {
   "cell_type": "code",
   "execution_count": 15,
   "id": "af67102e",
   "metadata": {},
   "outputs": [
    {
     "name": "stdout",
     "output_type": "stream",
     "text": [
      "Linescan in process: 1axis_2022-01-01_1030_Row3_Module1_Front\n",
      "Linescan in process: 1axis_2022-01-01_1030_Row3_Module1_Back\n",
      "Saved: results/irr_1axis_2022-01-01_1030_Row3_Module1.csv\n",
      "Index: 2022-01-01_1030. Wm2Front: 102.33131666666665. Wm2Back: 19.091588333333334\n",
      "Linescan in process: 1axis_2022-01-01_1130_Row3_Module1_Front\n",
      "Linescan in process: 1axis_2022-01-01_1130_Row3_Module1_Back\n",
      "Saved: results/irr_1axis_2022-01-01_1130_Row3_Module1.csv\n",
      "Index: 2022-01-01_1130. Wm2Front: 262.29324999999994. Wm2Back: 44.42074166666667\n"
     ]
    }
   ],
   "source": [
    "trackerdict = demo.analysis1axis(sensorsy=2, modWanted = 1) # South Module"
   ]
  },
  {
   "cell_type": "code",
   "execution_count": 16,
   "id": "f26db05c",
   "metadata": {},
   "outputs": [
    {
     "name": "stdout",
     "output_type": "stream",
     "text": [
      "Linescan in process: 1axis_2022-01-01_1030_Row3_Module25_Front\n",
      "Linescan in process: 1axis_2022-01-01_1030_Row3_Module25_Back\n",
      "Saved: results/irr_1axis_2022-01-01_1030_Row3_Module25.csv\n",
      "Index: 2022-01-01_1030. Wm2Front: 102.14753333333334. Wm2Back: 18.76386833333333\n",
      "Linescan in process: 1axis_2022-01-01_1130_Row3_Module25_Front\n",
      "Linescan in process: 1axis_2022-01-01_1130_Row3_Module25_Back\n",
      "Saved: results/irr_1axis_2022-01-01_1130_Row3_Module25.csv\n",
      "Index: 2022-01-01_1130. Wm2Front: 261.693. Wm2Back: 36.787621666666666\n"
     ]
    }
   ],
   "source": [
    "trackerdict = demo.analysis1axis(sensorsy=2, modWanted = 25) # North Module"
   ]
  },
  {
   "cell_type": "code",
   "execution_count": 17,
   "id": "32b1dae4",
   "metadata": {},
   "outputs": [
    {
     "name": "stdout",
     "output_type": "stream",
     "text": [
      "Bifaciality factor of module stored is  1\n",
      "No CECModule data passed; using default for Prism Solar BHC72-400\n"
     ]
    },
    {
     "name": "stderr",
     "output_type": "stream",
     "text": [
      "/Users/storopov/Documents/GitHub/bifacial_radiance/bifacial_radiance/performance.py:64: FutureWarning: Calling float on a single element Series is deprecated and will raise a TypeError in the future. Use float(ser.iloc[0]) instead\n",
      "  alpha_sc=float(CECMod.alpha_sc),\n",
      "/Users/storopov/Documents/GitHub/bifacial_radiance/bifacial_radiance/performance.py:65: FutureWarning: Calling float on a single element Series is deprecated and will raise a TypeError in the future. Use float(ser.iloc[0]) instead\n",
      "  a_ref=float(CECMod.a_ref),\n",
      "/Users/storopov/Documents/GitHub/bifacial_radiance/bifacial_radiance/performance.py:66: FutureWarning: Calling float on a single element Series is deprecated and will raise a TypeError in the future. Use float(ser.iloc[0]) instead\n",
      "  I_L_ref=float(CECMod.I_L_ref),\n",
      "/Users/storopov/Documents/GitHub/bifacial_radiance/bifacial_radiance/performance.py:67: FutureWarning: Calling float on a single element Series is deprecated and will raise a TypeError in the future. Use float(ser.iloc[0]) instead\n",
      "  I_o_ref=float(CECMod.I_o_ref),\n",
      "/Users/storopov/Documents/GitHub/bifacial_radiance/bifacial_radiance/performance.py:68: FutureWarning: Calling float on a single element Series is deprecated and will raise a TypeError in the future. Use float(ser.iloc[0]) instead\n",
      "  R_sh_ref=float(CECMod.R_sh_ref),\n",
      "/Users/storopov/Documents/GitHub/bifacial_radiance/bifacial_radiance/performance.py:69: FutureWarning: Calling float on a single element Series is deprecated and will raise a TypeError in the future. Use float(ser.iloc[0]) instead\n",
      "  R_s=float(CECMod.R_s),\n",
      "/Users/storopov/Documents/GitHub/bifacial_radiance/bifacial_radiance/performance.py:70: FutureWarning: Calling float on a single element Series is deprecated and will raise a TypeError in the future. Use float(ser.iloc[0]) instead\n",
      "  Adjust=float(CECMod.Adjust)\n",
      "/Users/storopov/Documents/GitHub/bifacial_radiance/bifacial_radiance/performance.py:64: FutureWarning: Calling float on a single element Series is deprecated and will raise a TypeError in the future. Use float(ser.iloc[0]) instead\n",
      "  alpha_sc=float(CECMod.alpha_sc),\n",
      "/Users/storopov/Documents/GitHub/bifacial_radiance/bifacial_radiance/performance.py:65: FutureWarning: Calling float on a single element Series is deprecated and will raise a TypeError in the future. Use float(ser.iloc[0]) instead\n",
      "  a_ref=float(CECMod.a_ref),\n",
      "/Users/storopov/Documents/GitHub/bifacial_radiance/bifacial_radiance/performance.py:66: FutureWarning: Calling float on a single element Series is deprecated and will raise a TypeError in the future. Use float(ser.iloc[0]) instead\n",
      "  I_L_ref=float(CECMod.I_L_ref),\n",
      "/Users/storopov/Documents/GitHub/bifacial_radiance/bifacial_radiance/performance.py:67: FutureWarning: Calling float on a single element Series is deprecated and will raise a TypeError in the future. Use float(ser.iloc[0]) instead\n",
      "  I_o_ref=float(CECMod.I_o_ref),\n",
      "/Users/storopov/Documents/GitHub/bifacial_radiance/bifacial_radiance/performance.py:68: FutureWarning: Calling float on a single element Series is deprecated and will raise a TypeError in the future. Use float(ser.iloc[0]) instead\n",
      "  R_sh_ref=float(CECMod.R_sh_ref),\n",
      "/Users/storopov/Documents/GitHub/bifacial_radiance/bifacial_radiance/performance.py:69: FutureWarning: Calling float on a single element Series is deprecated and will raise a TypeError in the future. Use float(ser.iloc[0]) instead\n",
      "  R_s=float(CECMod.R_s),\n",
      "/Users/storopov/Documents/GitHub/bifacial_radiance/bifacial_radiance/performance.py:70: FutureWarning: Calling float on a single element Series is deprecated and will raise a TypeError in the future. Use float(ser.iloc[0]) instead\n",
      "  Adjust=float(CECMod.Adjust)\n"
     ]
    },
    {
     "data": {
      "text/plain": [
       "{'2022-01-01_1030': {'surf_azm': 90.0,\n",
       "  'surf_tilt': 29.16,\n",
       "  'theta': -29.16,\n",
       "  'dni': 5,\n",
       "  'ghi': 112,\n",
       "  'dhi': 108,\n",
       "  'temp_air': 3.9,\n",
       "  'wind_speed': 4.7,\n",
       "  'skyfile': 'skies/sky2_35.05_-106.54_2022-01-01_1030.rad',\n",
       "  'radfile': 'objects/1axis2022-01-01_1030__C_2.96549_rtr_5.96000_tilt_29.16000_25modsx5rows_origin0,0.rad',\n",
       "  'scene': {'module': {'x': 1.303, 'y': 2.384, 'z': 0.02, 'modulematerial': 'black', 'scenex': 1.305, 'sceney': 2.384, 'scenez': 0.095, 'numpanels': 1, 'bifi': 1, 'text': '! genbox black PVmod 1.303 2.384 0.02 | xform -t -0.6515 -1.192 0.095 -a 1 -t 0 2.384 0\\r\\n! genrev Metal_Grey tube1 t*1.305 0.075 32 | xform -ry 90 -t -0.6525 0 0', 'modulefile': 'objects/PVmod.rad', 'glass': False, 'offsetfromaxis': 0.095, 'xgap': 0.002, 'ygap': 0.0, 'zgap': 0.02}, 'modulefile': 'objects/PVmod.rad', 'hpc': False, 'name': 'Scene0', 'gcr': 0.39999999999999997, 'text': '!xform -rx 29.16 -t 0 0 3.5 -a 25 -t 1.305 0 0 -a 5 -t 0 5.96 0 -i 1 -t -15.66 -11.92 0 -rz 90.0 -t 0 0 0 objects/PVmod.rad', 'radfiles': 'objects/1axis2022-01-01_1030__C_2.96549_rtr_5.96000_tilt_29.16000_25modsx5rows_origin0,0.rad', 'sceneDict': {'tilt': 29.16, 'pitch': 5.96, 'clearance_height': 2.9654866120793106, 'azimuth': 90.0, 'nMods': 25, 'nRows': 5, 'modulez': 0.02, 'axis_tilt': 0, 'originx': 0, 'originy': 0}},\n",
       "  'octfile': '1axis_2022-01-01_1030.oct',\n",
       "  'Results': [{'rowWanted': 3,\n",
       "    'modWanted': 13,\n",
       "    'AnalysisObj': {'octfile': '1axis_2022-01-01_1030.oct', 'name': '1axis_2022-01-01_1030', 'hpc': False, 'modWanted': 13, 'rowWanted': 3, 'x': [0.4034973, -0.2904553], 'y': [2.470708e-17, -1.778526e-17], 'z': [3.407698, 3.794899], 'rearZ': [3.388486, 3.775687], 'mattype': ['a12.2.a0.PVmod.6457', 'a12.2.a0.PVmod.6457'], 'rearMat': ['a12.2.a0.PVmod.2310', 'a12.2.a0.PVmod.2310'], 'Wm2Front': [100.1794, 102.01383333333332], 'Wm2Back': [13.66174, 16.52045], 'Back/FrontRatio': [0.1363713860196206, 0.16194164574106054], 'backRatio': [0.1363713860196206, 0.16194164574106054], 'rearX': [0.3927778, -0.3011748], 'rearY': [2.40507e-17, -1.844164e-17]},\n",
       "    'Wm2Front': [100.1794, 102.01383333333332],\n",
       "    'Wm2Back': [13.66174, 16.52045],\n",
       "    'backRatio': [0.1363713860196206, 0.16194164574106054]},\n",
       "   {'rowWanted': 3,\n",
       "    'modWanted': 1,\n",
       "    'AnalysisObj': {'octfile': '1axis_2022-01-01_1030.oct', 'name': '1axis_2022-01-01_1030', 'hpc': False, 'modWanted': 1, 'rowWanted': 3, 'x': [0.4034973, -0.2904553], 'y': [-15.66, -15.66], 'z': [3.407698, 3.794899], 'rearZ': [3.388486, 3.775687], 'mattype': ['a0.2.a0.PVmod.6457', 'a0.2.a0.PVmod.6457'], 'rearMat': ['a0.2.a0.PVmod.2310', 'a0.2.a0.PVmod.2310'], 'Wm2Front': [101.7471, 102.91553333333331], 'Wm2Back': [17.62812666666667, 20.555049999999998], 'Back/FrontRatio': [0.17325263731378443, 0.1997254409398425], 'backRatio': [0.17325263731378443, 0.1997254409398425], 'rearX': [0.3927778, -0.3011748], 'rearY': [-15.66, -15.66]},\n",
       "    'Wm2Front': [101.7471, 102.91553333333331],\n",
       "    'Wm2Back': [17.62812666666667, 20.555049999999998],\n",
       "    'backRatio': [0.17325263731378443, 0.1997254409398425]},\n",
       "   {'rowWanted': 3,\n",
       "    'modWanted': 25,\n",
       "    'AnalysisObj': {'octfile': '1axis_2022-01-01_1030.oct', 'name': '1axis_2022-01-01_1030', 'hpc': False, 'modWanted': 25, 'rowWanted': 3, 'x': [0.4034973, -0.2904553], 'y': [15.66, 15.66], 'z': [3.407698, 3.794899], 'rearZ': [3.388486, 3.775687], 'mattype': ['a24.2.a0.PVmod.6457', 'a24.2.a0.PVmod.6457'], 'rearMat': ['a24.2.a0.PVmod.2310', 'a24.2.a0.PVmod.2310'], 'Wm2Front': [101.5709, 102.72416666666668], 'Wm2Back': [17.34732, 20.180416666666662], 'Back/FrontRatio': [0.1707885743990218, 0.19645056144956358], 'backRatio': [0.1707885743990218, 0.19645056144956358], 'rearX': [0.3927778, -0.3011748], 'rearY': [15.66, 15.66]},\n",
       "    'Wm2Front': [101.5709, 102.72416666666668],\n",
       "    'Wm2Back': [17.34732, 20.180416666666662],\n",
       "    'backRatio': [0.1707885743990218, 0.19645056144956358]}],\n",
       "  'POA_eff': 116.18771166666666,\n",
       "  'Gfront_mean': 101.09661666666666,\n",
       "  'Grear_mean': 15.091095,\n",
       "  'Pout_raw': 48.273920737777296,\n",
       "  'Pout_Gfront': 41.86556104215658,\n",
       "  'Mismatch': 0.0006746056644893825,\n",
       "  'Pout': 48.27359507917353},\n",
       " '2022-01-01_1130': {'surf_azm': 90.0,\n",
       "  'surf_tilt': 4.27,\n",
       "  'theta': -4.27,\n",
       "  'dni': 60,\n",
       "  'ghi': 265,\n",
       "  'dhi': 232,\n",
       "  'temp_air': 3.3,\n",
       "  'wind_speed': 5.5,\n",
       "  'skyfile': 'skies/sky2_35.05_-106.54_2022-01-01_1130.rad',\n",
       "  'radfile': 'objects/1axis2022-01-01_1130__C_3.41832_rtr_5.96000_tilt_4.27000_25modsx5rows_origin0,0.rad',\n",
       "  'scene': {'module': {'x': 1.303, 'y': 2.384, 'z': 0.02, 'modulematerial': 'black', 'scenex': 1.305, 'sceney': 2.384, 'scenez': 0.095, 'numpanels': 1, 'bifi': 1, 'text': '! genbox black PVmod 1.303 2.384 0.02 | xform -t -0.6515 -1.192 0.095 -a 1 -t 0 2.384 0\\r\\n! genrev Metal_Grey tube1 t*1.305 0.075 32 | xform -ry 90 -t -0.6525 0 0', 'modulefile': 'objects/PVmod.rad', 'glass': False, 'offsetfromaxis': 0.095, 'xgap': 0.002, 'ygap': 0.0, 'zgap': 0.02}, 'modulefile': 'objects/PVmod.rad', 'hpc': False, 'name': 'Scene0', 'gcr': 0.39999999999999997, 'text': '!xform -rx 4.27 -t 0 0 3.5 -a 25 -t 1.305 0 0 -a 5 -t 0 5.96 0 -i 1 -t -15.66 -11.92 0 -rz 90.0 -t 0 0 0 objects/PVmod.rad', 'radfiles': 'objects/1axis2022-01-01_1130__C_3.41832_rtr_5.96000_tilt_4.27000_25modsx5rows_origin0,0.rad', 'sceneDict': {'tilt': 4.27, 'pitch': 5.96, 'clearance_height': 3.418321118951937, 'azimuth': 90.0, 'nMods': 25, 'nRows': 5, 'modulez': 0.02, 'axis_tilt': 0, 'originx': 0, 'originy': 0}},\n",
       "  'octfile': '1axis_2022-01-01_1130.oct',\n",
       "  'Results': [{'rowWanted': 3,\n",
       "    'modWanted': 13,\n",
       "    'AnalysisObj': {'octfile': '1axis_2022-01-01_1130.oct', 'name': '1axis_2022-01-01_1130', 'hpc': False, 'modWanted': 13, 'rowWanted': 3, 'x': [0.4048674, -0.3875935], 'y': [2.479098e-17, -2.373326e-17], 'z': [3.586094, 3.645262], 'rearZ': [3.564155, 3.623323], 'mattype': ['a12.2.a0.PVmod.6457', 'a12.2.a0.PVmod.6457'], 'rearMat': ['a12.2.a0.PVmod.2310', 'a12.2.a0.PVmod.2310'], 'Wm2Front': [262.2137, 262.3394], 'Wm2Back': [31.768283333333333, 32.19115], 'Back/FrontRatio': [0.12115370851951981, 0.12270755857656694], 'backRatio': [0.12115370851951981, 0.12270755857656694], 'rearX': [0.4032294, -0.3892315], 'rearY': [2.469068e-17, -2.383356e-17]},\n",
       "    'Wm2Front': [262.2137, 262.3394],\n",
       "    'Wm2Back': [31.768283333333333, 32.19115],\n",
       "    'backRatio': [0.12115370851951981, 0.12270755857656694]},\n",
       "   {'rowWanted': 3,\n",
       "    'modWanted': 1,\n",
       "    'AnalysisObj': {'octfile': '1axis_2022-01-01_1130.oct', 'name': '1axis_2022-01-01_1130', 'hpc': False, 'modWanted': 1, 'rowWanted': 3, 'x': [0.4048674, -0.3875935], 'y': [-15.66, -15.66], 'z': [3.586094, 3.645262], 'rearZ': [3.564155, 3.623323], 'mattype': ['a0.2.a0.PVmod.6457', 'a0.2.a0.PVmod.6457'], 'rearMat': ['a0.2.a0.PVmod.2310', 'a0.2.a0.PVmod.2310'], 'Wm2Front': [262.2805333333333, 262.3059666666666], 'Wm2Back': [44.13476, 44.706723333333336], 'Back/FrontRatio': [0.16827246447392538, 0.17043666015224662], 'backRatio': [0.16827246447392538, 0.17043666015224662], 'rearX': [0.4032294, -0.3892315], 'rearY': [-15.66, -15.66]},\n",
       "    'Wm2Front': [262.2805333333333, 262.3059666666666],\n",
       "    'Wm2Back': [44.13476, 44.706723333333336],\n",
       "    'backRatio': [0.16827246447392538, 0.17043666015224662]},\n",
       "   {'rowWanted': 3,\n",
       "    'modWanted': 25,\n",
       "    'AnalysisObj': {'octfile': '1axis_2022-01-01_1130.oct', 'name': '1axis_2022-01-01_1130', 'hpc': False, 'modWanted': 25, 'rowWanted': 3, 'x': [0.4048674, -0.3875935], 'y': [15.66, 15.66], 'z': [3.586094, 3.645262], 'rearZ': [3.564155, 3.623323], 'mattype': ['a24.2.a0.PVmod.6457', 'a24.2.a0.PVmod.6457'], 'rearMat': ['a24.2.a0.PVmod.2310', 'a24.2.a0.PVmod.2310'], 'Wm2Front': [261.6593, 261.7267], 'Wm2Back': [36.59664, 36.97860333333333], 'Back/FrontRatio': [0.13986317374091525, 0.14128654832229579], 'backRatio': [0.13986317374091525, 0.14128654832229579], 'rearX': [0.4032294, -0.3892315], 'rearY': [15.66, 15.66]},\n",
       "    'Wm2Front': [261.6593, 261.7267],\n",
       "    'Wm2Back': [36.59664, 36.97860333333333],\n",
       "    'backRatio': [0.13986317374091525, 0.14128654832229579]}],\n",
       "  'POA_eff': 121.42290499999999,\n",
       "  'Gfront_mean': 102.33131666666665,\n",
       "  'Grear_mean': 19.091588333333334,\n",
       "  'Pout_raw': 50.49825495407698,\n",
       "  'Pout_Gfront': 42.389598074936735,\n",
       "  'Mismatch': 0.0006607184138646109,\n",
       "  'Pout': 50.49792130280781}}"
      ]
     },
     "execution_count": 17,
     "metadata": {},
     "output_type": "execute_result"
    }
   ],
   "source": [
    "demo.calculateResults()"
   ]
  },
  {
   "cell_type": "code",
   "execution_count": 18,
   "id": "f7bab0b0",
   "metadata": {},
   "outputs": [
    {
     "data": {
      "text/html": [
       "<div>\n",
       "<style scoped>\n",
       "    .dataframe tbody tr th:only-of-type {\n",
       "        vertical-align: middle;\n",
       "    }\n",
       "\n",
       "    .dataframe tbody tr th {\n",
       "        vertical-align: top;\n",
       "    }\n",
       "\n",
       "    .dataframe thead th {\n",
       "        text-align: right;\n",
       "    }\n",
       "</style>\n",
       "<table border=\"1\" class=\"dataframe\">\n",
       "  <thead>\n",
       "    <tr style=\"text-align: right;\">\n",
       "      <th></th>\n",
       "      <th>module</th>\n",
       "      <th>row</th>\n",
       "      <th>POA_eff</th>\n",
       "      <th>Grear_mean</th>\n",
       "      <th>Gfront_mean</th>\n",
       "      <th>Pout_raw</th>\n",
       "      <th>Pout_Gfront</th>\n",
       "      <th>BGG</th>\n",
       "      <th>BGE</th>\n",
       "      <th>Mismatch</th>\n",
       "      <th>Pout</th>\n",
       "      <th>Wind Speed</th>\n",
       "      <th>DNI</th>\n",
       "      <th>DHI</th>\n",
       "      <th>GHI</th>\n",
       "    </tr>\n",
       "    <tr>\n",
       "      <th>timestamp</th>\n",
       "      <th></th>\n",
       "      <th></th>\n",
       "      <th></th>\n",
       "      <th></th>\n",
       "      <th></th>\n",
       "      <th></th>\n",
       "      <th></th>\n",
       "      <th></th>\n",
       "      <th></th>\n",
       "      <th></th>\n",
       "      <th></th>\n",
       "      <th></th>\n",
       "      <th></th>\n",
       "      <th></th>\n",
       "      <th></th>\n",
       "    </tr>\n",
       "  </thead>\n",
       "  <tbody>\n",
       "    <tr>\n",
       "      <th>2022-01-01_1030</th>\n",
       "      <td>13</td>\n",
       "      <td>3</td>\n",
       "      <td>116.187712</td>\n",
       "      <td>15.091095</td>\n",
       "      <td>101.096617</td>\n",
       "      <td>48.273921</td>\n",
       "      <td>41.865561</td>\n",
       "      <td>14.927399</td>\n",
       "      <td>15.306996</td>\n",
       "      <td>0.000675</td>\n",
       "      <td>48.273595</td>\n",
       "      <td>4.7</td>\n",
       "      <td>5</td>\n",
       "      <td>108</td>\n",
       "      <td>112</td>\n",
       "    </tr>\n",
       "    <tr>\n",
       "      <th>2022-01-01_1030</th>\n",
       "      <td>1</td>\n",
       "      <td>3</td>\n",
       "      <td>121.422905</td>\n",
       "      <td>19.091588</td>\n",
       "      <td>102.331317</td>\n",
       "      <td>50.498255</td>\n",
       "      <td>42.389598</td>\n",
       "      <td>18.656643</td>\n",
       "      <td>19.128884</td>\n",
       "      <td>0.000661</td>\n",
       "      <td>50.497921</td>\n",
       "      <td>4.7</td>\n",
       "      <td>5</td>\n",
       "      <td>108</td>\n",
       "      <td>112</td>\n",
       "    </tr>\n",
       "    <tr>\n",
       "      <th>2022-01-01_1030</th>\n",
       "      <td>25</td>\n",
       "      <td>3</td>\n",
       "      <td>120.911402</td>\n",
       "      <td>18.763868</td>\n",
       "      <td>102.147533</td>\n",
       "      <td>50.280909</td>\n",
       "      <td>42.311592</td>\n",
       "      <td>18.369380</td>\n",
       "      <td>18.834830</td>\n",
       "      <td>0.000642</td>\n",
       "      <td>50.280586</td>\n",
       "      <td>4.7</td>\n",
       "      <td>5</td>\n",
       "      <td>108</td>\n",
       "      <td>112</td>\n",
       "    </tr>\n",
       "    <tr>\n",
       "      <th>2022-01-01_1130</th>\n",
       "      <td>13</td>\n",
       "      <td>3</td>\n",
       "      <td>294.256267</td>\n",
       "      <td>31.979717</td>\n",
       "      <td>262.276550</td>\n",
       "      <td>123.970739</td>\n",
       "      <td>110.500321</td>\n",
       "      <td>12.193128</td>\n",
       "      <td>12.190389</td>\n",
       "      <td>0.000039</td>\n",
       "      <td>123.970691</td>\n",
       "      <td>5.5</td>\n",
       "      <td>60</td>\n",
       "      <td>232</td>\n",
       "      <td>265</td>\n",
       "    </tr>\n",
       "    <tr>\n",
       "      <th>2022-01-01_1130</th>\n",
       "      <td>1</td>\n",
       "      <td>3</td>\n",
       "      <td>306.713992</td>\n",
       "      <td>44.420742</td>\n",
       "      <td>262.293250</td>\n",
       "      <td>129.201196</td>\n",
       "      <td>110.507370</td>\n",
       "      <td>16.935526</td>\n",
       "      <td>16.916361</td>\n",
       "      <td>0.000050</td>\n",
       "      <td>129.201130</td>\n",
       "      <td>5.5</td>\n",
       "      <td>60</td>\n",
       "      <td>232</td>\n",
       "      <td>265</td>\n",
       "    </tr>\n",
       "    <tr>\n",
       "      <th>2022-01-01_1130</th>\n",
       "      <td>25</td>\n",
       "      <td>3</td>\n",
       "      <td>298.480622</td>\n",
       "      <td>36.787622</td>\n",
       "      <td>261.693000</td>\n",
       "      <td>125.745467</td>\n",
       "      <td>110.253966</td>\n",
       "      <td>14.057549</td>\n",
       "      <td>14.050743</td>\n",
       "      <td>0.000035</td>\n",
       "      <td>125.745424</td>\n",
       "      <td>5.5</td>\n",
       "      <td>60</td>\n",
       "      <td>232</td>\n",
       "      <td>265</td>\n",
       "    </tr>\n",
       "  </tbody>\n",
       "</table>\n",
       "</div>"
      ],
      "text/plain": [
       "                 module  row     POA_eff  Grear_mean  Gfront_mean    Pout_raw  \\\n",
       "timestamp                                                                       \n",
       "2022-01-01_1030      13    3  116.187712   15.091095   101.096617   48.273921   \n",
       "2022-01-01_1030       1    3  121.422905   19.091588   102.331317   50.498255   \n",
       "2022-01-01_1030      25    3  120.911402   18.763868   102.147533   50.280909   \n",
       "2022-01-01_1130      13    3  294.256267   31.979717   262.276550  123.970739   \n",
       "2022-01-01_1130       1    3  306.713992   44.420742   262.293250  129.201196   \n",
       "2022-01-01_1130      25    3  298.480622   36.787622   261.693000  125.745467   \n",
       "\n",
       "                 Pout_Gfront        BGG        BGE  Mismatch        Pout  \\\n",
       "timestamp                                                                  \n",
       "2022-01-01_1030    41.865561  14.927399  15.306996  0.000675   48.273595   \n",
       "2022-01-01_1030    42.389598  18.656643  19.128884  0.000661   50.497921   \n",
       "2022-01-01_1030    42.311592  18.369380  18.834830  0.000642   50.280586   \n",
       "2022-01-01_1130   110.500321  12.193128  12.190389  0.000039  123.970691   \n",
       "2022-01-01_1130   110.507370  16.935526  16.916361  0.000050  129.201130   \n",
       "2022-01-01_1130   110.253966  14.057549  14.050743  0.000035  125.745424   \n",
       "\n",
       "                 Wind Speed  DNI  DHI  GHI  \n",
       "timestamp                                   \n",
       "2022-01-01_1030         4.7    5  108  112  \n",
       "2022-01-01_1030         4.7    5  108  112  \n",
       "2022-01-01_1030         4.7    5  108  112  \n",
       "2022-01-01_1130         5.5   60  232  265  \n",
       "2022-01-01_1130         5.5   60  232  265  \n",
       "2022-01-01_1130         5.5   60  232  265  "
      ]
     },
     "execution_count": 18,
     "metadata": {},
     "output_type": "execute_result"
    }
   ],
   "source": [
    "demo.CompiledResults.set_index('timestamp', inplace=True)\n",
    "demo.CompiledResults\n",
    "# Grear_mean and Gfront_mean values to be recorded in the excel"
   ]
  },
  {
   "cell_type": "code",
   "execution_count": null,
   "id": "9c538741",
   "metadata": {},
   "outputs": [],
   "source": []
  }
 ],
 "metadata": {
  "kernelspec": {
   "display_name": "Python 3 (ipykernel)",
   "language": "python",
   "name": "python3"
  },
  "language_info": {
   "codemirror_mode": {
    "name": "ipython",
    "version": 3
   },
   "file_extension": ".py",
   "mimetype": "text/x-python",
   "name": "python",
   "nbconvert_exporter": "python",
   "pygments_lexer": "ipython3",
   "version": "3.11.5"
  }
 },
 "nbformat": 4,
 "nbformat_minor": 5
}
