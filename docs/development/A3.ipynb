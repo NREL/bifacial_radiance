{
 "cells": [
  {
   "cell_type": "markdown",
   "id": "6137b70f",
   "metadata": {},
   "source": [
    "# A3\n",
    "* GCR = 0.4\n",
    "* Albedo = 0.2\n",
    "* Hub Height = 3.5\n",
    "* Configuration = 1-Up portrait\n",
    "* Ground surface = Horizontal\n",
    "***\n",
    "* A GCR of 0.4 for the Trina Vertex module (length = 2.384m) corresponds to a rowto-row spacing or pitch of 5.96m\n",
    "* 1-up Portrait: 5 rows, each with 25 modules\n",
    "* Torque tube diameter = 15 cm. (round)\n",
    "* Maximum tracker rotation angle = 55 deg\n",
    "* Backtracking is enabled\n",
    "* Location: Albuquerque, New Mexico USA (35.05°, -106.54°)"
   ]
  },
  {
   "cell_type": "code",
   "execution_count": 1,
   "id": "760e9b21",
   "metadata": {},
   "outputs": [
    {
     "name": "stdout",
     "output_type": "stream",
     "text": [
      "Your simulation will be stored in Scenarios/A3-1\n"
     ]
    }
   ],
   "source": [
    "import os\n",
    "from pathlib import Path\n",
    "\n",
    "testfolder = 'Scenarios/A3-1'\n",
    "\n",
    "if not os.path.exists(testfolder):\n",
    "    os.makedirs(testfolder)\n",
    "    \n",
    "print (\"Your simulation will be stored in %s\" % testfolder)"
   ]
  },
  {
   "cell_type": "code",
   "execution_count": 2,
   "id": "aa782cd2",
   "metadata": {},
   "outputs": [],
   "source": [
    "import bifacial_radiance as br\n",
    "import bifacialvf as bf\n",
    "import numpy as np\n",
    "import pandas as pd\n",
    "import matplotlib.pyplot as plt\n",
    "import sys, platform\n",
    "import csv\n",
    "from pathlib import Path"
   ]
  },
  {
   "cell_type": "code",
   "execution_count": 3,
   "id": "2d3d89b5",
   "metadata": {},
   "outputs": [
    {
     "name": "stdout",
     "output_type": "stream",
     "text": [
      "Working on a  Darwin 23.3.0\n",
      "Python version  3.11.5 (main, Sep 11 2023, 08:19:27) [Clang 14.0.6 ]\n",
      "Pandas version  2.0.3\n",
      "bifacial_radiance version  0.4.2+247.g47d2881.dirty\n",
      "pyplot  3.7.2\n",
      "bifacialvf version  0.1.8.1\n"
     ]
    }
   ],
   "source": [
    "print(\"Working on a \", platform.system(), platform.release())\n",
    "print(\"Python version \", sys.version)\n",
    "print(\"Pandas version \", pd.__version__)\n",
    "print(\"bifacial_radiance version \", br.__version__)\n",
    "print(\"pyplot \", plt.matplotlib.__version__)\n",
    "print(\"bifacialvf version \", bf.__version__)"
   ]
  },
  {
   "cell_type": "code",
   "execution_count": 4,
   "id": "8a48f304",
   "metadata": {},
   "outputs": [],
   "source": [
    "simulationname = 'A3-1'\n",
    "\n",
    "# Location Albuquerque, New Mexico, USA\n",
    "lat = 35.05\n",
    "lon = -106.54\n",
    "\n",
    "# Scene Parameters\n",
    "azimuth=90\n",
    "tilt=30\n",
    "\n",
    "# MakeModule Parameters\n",
    "moduletype='PVmod'\n",
    "numpanels=1\n",
    "module_x = 1.303 # m\n",
    "module_y = 2.384 # m. slope we will measure\n",
    "sensorsy=2\n",
    "torquetube_diam = 0.15\n",
    "\n",
    "zgap = 0.02 # m\n",
    "xgap = 0.002 # m\n",
    "\n",
    "# SceneDict Parameters\n",
    "pitch = 5.96 # m\n",
    "albedo = 0.2\n",
    "hub_height = 3.5 # m  \n",
    "nMods = 25 \n",
    "nRows = 5\n",
    "\n",
    "sceneDict = {'tilt':tilt,'pitch':pitch,'albedo': albedo,'hub_height':hub_height,'azimuth':azimuth, 'nMods': nMods, 'nRows': nRows} "
   ]
  },
  {
   "cell_type": "code",
   "execution_count": 5,
   "id": "eb5df558",
   "metadata": {
    "scrolled": true
   },
   "outputs": [
    {
     "name": "stdout",
     "output_type": "stream",
     "text": [
      "path = Scenarios/A3-1\n",
      "Loading albedo, 1 value(s), 0.200 avg\n",
      "1 nonzero albedo values.\n"
     ]
    }
   ],
   "source": [
    "demo = br.RadianceObj(simulationname,path = testfolder)\n",
    "demo.setGround(albedo)"
   ]
  },
  {
   "cell_type": "code",
   "execution_count": 6,
   "id": "4b7e271b",
   "metadata": {},
   "outputs": [],
   "source": [
    "cumulativesky = False\n",
    "trackerParams = {\n",
    "    'limit_angle': 55,\n",
    "    'backtrack': True,\n",
    "    'gcr': 0.4,\n",
    "    'azimuth': 180,  # axis angle, N-S = 180\n",
    "    'cumulativesky': cumulativesky\n",
    "}"
   ]
  },
  {
   "cell_type": "code",
   "execution_count": 7,
   "id": "e1e7d382",
   "metadata": {
    "scrolled": true
   },
   "outputs": [
    {
     "name": "stdout",
     "output_type": "stream",
     "text": [
      "\n",
      "Module Name: PVmod\n",
      "Module PVmod updated in module.json\n",
      "Pre-existing .rad file objects/PVmod.rad will be overwritten\n",
      "\n"
     ]
    }
   ],
   "source": [
    "module=demo.makeModule(name=moduletype,x=module_x,y=module_y, xgap=xgap, zgap=zgap)"
   ]
  },
  {
   "cell_type": "code",
   "execution_count": 8,
   "id": "7352e18f",
   "metadata": {},
   "outputs": [
    {
     "name": "stdout",
     "output_type": "stream",
     "text": [
      "Module PVmod updated in module.json\n",
      "Pre-existing .rad file objects/PVmod.rad will be overwritten\n",
      "\n"
     ]
    }
   ],
   "source": [
    "module.addTorquetube(diameter=torquetube_diam, tubetype='Round', material='Metal_Grey', \n",
    "                     axisofrotation=True, visible=True, recompile=True)"
   ]
  },
  {
   "cell_type": "code",
   "execution_count": 9,
   "id": "7f694ea6",
   "metadata": {
    "scrolled": true
   },
   "outputs": [
    {
     "data": {
      "text/plain": [
       "'/Users/storopov/Documents/GitHub/bifacial_radiance/docs/development/Instructions/Phase2_meteo_hourly_psm3format.csv'"
      ]
     },
     "execution_count": 9,
     "metadata": {},
     "output_type": "execute_result"
    }
   ],
   "source": [
    "weatherfile = str(Path().resolve().parent.parent / 'Instructions' / 'Phase2_meteo_hourly_psm3format.csv')\n",
    "weatherfile"
   ]
  },
  {
   "cell_type": "code",
   "execution_count": 10,
   "id": "966c7daf",
   "metadata": {
    "scrolled": true
   },
   "outputs": [
    {
     "name": "stdout",
     "output_type": "stream",
     "text": [
      "COLUMN DATAS Index(['Year', 'Month', 'Day', 'Hour', 'Minute', 'GHI', 'DNI', 'DHI',\n",
      "       'temp_air', 'wind_speed', 'humidity', 'Unnamed: 11', 'Unnamed: 12',\n",
      "       'Unnamed: 13', 'Unnamed: 14', 'Unnamed: 15', 'Unnamed: 16',\n",
      "       'Unnamed: 17'],\n",
      "      dtype='object')\n",
      "8760 line in WeatherFile. Assuming this is a standard hourly WeatherFile for the year for purposes of saving Gencumulativesky temporary weather files in EPW folder.\n",
      "Coercing year to 2022\n",
      "Filtering dates\n",
      "Saving file EPWs/metdata_temp.csv, # points: 8760\n",
      "Calculating Sun position for Metdata that is left-labeled  with a delta of +30 mins. i.e. 12 is 12:30 sunpos.\n"
     ]
    }
   ],
   "source": [
    "metdata = demo.readWeatherFile(weatherfile, source='sam', starttime='2022-12-27_0000', endtime='2022-12-28_0000')"
   ]
  },
  {
   "cell_type": "code",
   "execution_count": 11,
   "id": "556da4dc",
   "metadata": {},
   "outputs": [],
   "source": [
    "trackerdict = demo.set1axis(**trackerParams)"
   ]
  },
  {
   "cell_type": "code",
   "execution_count": 12,
   "id": "e814024e",
   "metadata": {},
   "outputs": [
    {
     "name": "stdout",
     "output_type": "stream",
     "text": [
      "Creating ~8 skyfiles. \n",
      "Created 8 skyfiles in /skies/\n"
     ]
    },
    {
     "data": {
      "text/plain": [
       "{'2022-12-27_0830': {'surf_azm': 90.0,\n",
       "  'surf_tilt': 55.0,\n",
       "  'theta': -55.0,\n",
       "  'dni': 720,\n",
       "  'ghi': 202,\n",
       "  'dhi': 34,\n",
       "  'temp_air': 5.3,\n",
       "  'wind_speed': 1.3,\n",
       "  'skyfile': 'skies/sky2_35.05_-106.54_2022-12-27_0830.rad'},\n",
       " '2022-12-27_0930': {'surf_azm': 90.0,\n",
       "  'surf_tilt': 49.63,\n",
       "  'theta': -49.63,\n",
       "  'dni': 879,\n",
       "  'ghi': 367,\n",
       "  'dhi': 49,\n",
       "  'temp_air': 7.2,\n",
       "  'wind_speed': 2.0,\n",
       "  'skyfile': 'skies/sky2_35.05_-106.54_2022-12-27_0930.rad'},\n",
       " '2022-12-27_1030': {'surf_azm': 90.0,\n",
       "  'surf_tilt': 28.36,\n",
       "  'theta': -28.36,\n",
       "  'dni': 787,\n",
       "  'ghi': 474,\n",
       "  'dhi': 105,\n",
       "  'temp_air': 8.3,\n",
       "  'wind_speed': 4.0,\n",
       "  'skyfile': 'skies/sky2_35.05_-106.54_2022-12-27_1030.rad'},\n",
       " '2022-12-27_1130': {'surf_azm': 90.0,\n",
       "  'surf_tilt': 3.2,\n",
       "  'theta': -3.2,\n",
       "  'dni': 734,\n",
       "  'ghi': 537,\n",
       "  'dhi': 147,\n",
       "  'temp_air': 9.6,\n",
       "  'wind_speed': 4.0,\n",
       "  'skyfile': 'skies/sky2_35.05_-106.54_2022-12-27_1130.rad'},\n",
       " '2022-12-27_1230': {'surf_azm': 270.0,\n",
       "  'surf_tilt': 22.5,\n",
       "  'theta': 22.5,\n",
       "  'dni': 410,\n",
       "  'ghi': 471,\n",
       "  'dhi': 244,\n",
       "  'temp_air': 10.4,\n",
       "  'wind_speed': 3.6,\n",
       "  'skyfile': 'skies/sky2_35.05_-106.54_2022-12-27_1230.rad'},\n",
       " '2022-12-27_1330': {'surf_azm': 270.0,\n",
       "  'surf_tilt': 44.85,\n",
       "  'theta': 44.85,\n",
       "  'dni': 157,\n",
       "  'ghi': 349,\n",
       "  'dhi': 267,\n",
       "  'temp_air': 11.3,\n",
       "  'wind_speed': 2.0,\n",
       "  'skyfile': 'skies/sky2_35.05_-106.54_2022-12-27_1330.rad'},\n",
       " '2022-12-27_1430': {'surf_azm': 270.0,\n",
       "  'surf_tilt': 55.0,\n",
       "  'theta': 55.0,\n",
       "  'dni': 513,\n",
       "  'ghi': 314,\n",
       "  'dhi': 115,\n",
       "  'temp_air': 12.3,\n",
       "  'wind_speed': 1.4,\n",
       "  'skyfile': 'skies/sky2_35.05_-106.54_2022-12-27_1430.rad'},\n",
       " '2022-12-27_1530': {'surf_azm': 270.0,\n",
       "  'surf_tilt': 19.82,\n",
       "  'theta': 19.82,\n",
       "  'dni': 151,\n",
       "  'ghi': 164,\n",
       "  'dhi': 118,\n",
       "  'temp_air': 12.8,\n",
       "  'wind_speed': 2.7,\n",
       "  'skyfile': 'skies/sky2_35.05_-106.54_2022-12-27_1530.rad'}}"
      ]
     },
     "execution_count": 12,
     "metadata": {},
     "output_type": "execute_result"
    }
   ],
   "source": [
    "demo.gendaylit1axis()"
   ]
  },
  {
   "cell_type": "code",
   "execution_count": 13,
   "id": "6023d245",
   "metadata": {},
   "outputs": [
    {
     "name": "stdout",
     "output_type": "stream",
     "text": [
      "\n",
      "Making ~8 .rad files for gendaylit 1-axis workflow (this takes a minute..)\n",
      "8 Radfiles created in /objects/\n",
      "\n",
      "Making 8 octfiles in root directory.\n",
      "Created 1axis_2022-12-27_0830.oct\n",
      "Created 1axis_2022-12-27_0930.oct\n",
      "Created 1axis_2022-12-27_1030.oct\n",
      "Created 1axis_2022-12-27_1130.oct\n",
      "Created 1axis_2022-12-27_1230.oct\n",
      "Created 1axis_2022-12-27_1330.oct\n",
      "Created 1axis_2022-12-27_1430.oct\n",
      "Created 1axis_2022-12-27_1530.oct\n"
     ]
    }
   ],
   "source": [
    "trackerdict = demo.makeScene1axis(module=moduletype, sceneDict=sceneDict)\n",
    "trackerdict = demo.makeOct1axis()"
   ]
  },
  {
   "cell_type": "code",
   "execution_count": 14,
   "id": "29d1f8d6",
   "metadata": {
    "scrolled": false
   },
   "outputs": [
    {
     "name": "stdout",
     "output_type": "stream",
     "text": [
      "Linescan in process: 1axis_2022-12-27_0830_Row3_Module13_Front\n",
      "Linescan in process: 1axis_2022-12-27_0830_Row3_Module13_Back\n",
      "Saved: results/irr_1axis_2022-12-27_0830_Row3_Module13.csv\n",
      "Index: 2022-12-27_0830. Wm2Front: 553.4882333333333. Wm2Back: 12.054860000000001\n",
      "Linescan in process: 1axis_2022-12-27_0930_Row3_Module13_Front\n",
      "Linescan in process: 1axis_2022-12-27_0930_Row3_Module13_Back\n",
      "Saved: results/irr_1axis_2022-12-27_0930_Row3_Module13.csv\n",
      "Index: 2022-12-27_0930. Wm2Front: 615.6352666666667. Wm2Back: 37.37623\n",
      "Linescan in process: 1axis_2022-12-27_1030_Row3_Module13_Front\n",
      "Linescan in process: 1axis_2022-12-27_1030_Row3_Module13_Back\n",
      "Saved: results/irr_1axis_2022-12-27_1030_Row3_Module13.csv\n",
      "Index: 2022-12-27_1030. Wm2Front: 550.1909166666667. Wm2Back: 56.277905000000004\n",
      "Linescan in process: 1axis_2022-12-27_1130_Row3_Module13_Front\n",
      "Linescan in process: 1axis_2022-12-27_1130_Row3_Module13_Back\n",
      "Saved: results/irr_1axis_2022-12-27_1130_Row3_Module13.csv\n",
      "Index: 2022-12-27_1130. Wm2Front: 530.80495. Wm2Back: 61.546616666666665\n",
      "Linescan in process: 1axis_2022-12-27_1230_Row3_Module13_Front\n",
      "Linescan in process: 1axis_2022-12-27_1230_Row3_Module13_Back\n",
      "Saved: results/irr_1axis_2022-12-27_1230_Row3_Module13.csv\n",
      "Index: 2022-12-27_1230. Wm2Front: 469.0835333333334. Wm2Back: 54.779455\n",
      "Linescan in process: 1axis_2022-12-27_1330_Row3_Module13_Front\n",
      "Linescan in process: 1axis_2022-12-27_1330_Row3_Module13_Back\n",
      "Saved: results/irr_1axis_2022-12-27_1330_Row3_Module13.csv\n",
      "Index: 2022-12-27_1330. Wm2Front: 361.56705. Wm2Back: 47.92015833333333\n",
      "Linescan in process: 1axis_2022-12-27_1430_Row3_Module13_Front\n",
      "Linescan in process: 1axis_2022-12-27_1430_Row3_Module13_Back\n",
      "Saved: results/irr_1axis_2022-12-27_1430_Row3_Module13.csv\n",
      "Index: 2022-12-27_1430. Wm2Front: 485.3112. Wm2Back: 27.376469999999998\n",
      "Linescan in process: 1axis_2022-12-27_1530_Row3_Module13_Front\n",
      "Linescan in process: 1axis_2022-12-27_1530_Row3_Module13_Back\n",
      "Saved: results/irr_1axis_2022-12-27_1530_Row3_Module13.csv\n",
      "Index: 2022-12-27_1530. Wm2Front: 197.93733333333336. Wm2Back: 17.416655000000002\n"
     ]
    }
   ],
   "source": [
    "trackerdict = demo.analysis1axis(sensorsy=2) # Middle Module"
   ]
  },
  {
   "cell_type": "code",
   "execution_count": 15,
   "id": "af67102e",
   "metadata": {},
   "outputs": [],
   "source": [
    "# trackerdict = demo.analysis1axis(sensorsy=2, modWanted = 1) # South Module"
   ]
  },
  {
   "cell_type": "code",
   "execution_count": 16,
   "id": "f26db05c",
   "metadata": {},
   "outputs": [],
   "source": [
    "# trackerdict = demo.analysis1axis(sensorsy=2, modWanted = 25) # North Module"
   ]
  },
  {
   "cell_type": "code",
   "execution_count": 17,
   "id": "32b1dae4",
   "metadata": {},
   "outputs": [
    {
     "name": "stdout",
     "output_type": "stream",
     "text": [
      "Bifaciality factor of module stored is  1\n",
      "No CECModule data passed; using default for Prism Solar BHC72-400\n"
     ]
    },
    {
     "name": "stderr",
     "output_type": "stream",
     "text": [
      "/Users/storopov/Documents/GitHub/bifacial_radiance/bifacial_radiance/performance.py:64: FutureWarning: Calling float on a single element Series is deprecated and will raise a TypeError in the future. Use float(ser.iloc[0]) instead\n",
      "  alpha_sc=float(CECMod.alpha_sc),\n",
      "/Users/storopov/Documents/GitHub/bifacial_radiance/bifacial_radiance/performance.py:65: FutureWarning: Calling float on a single element Series is deprecated and will raise a TypeError in the future. Use float(ser.iloc[0]) instead\n",
      "  a_ref=float(CECMod.a_ref),\n",
      "/Users/storopov/Documents/GitHub/bifacial_radiance/bifacial_radiance/performance.py:66: FutureWarning: Calling float on a single element Series is deprecated and will raise a TypeError in the future. Use float(ser.iloc[0]) instead\n",
      "  I_L_ref=float(CECMod.I_L_ref),\n",
      "/Users/storopov/Documents/GitHub/bifacial_radiance/bifacial_radiance/performance.py:67: FutureWarning: Calling float on a single element Series is deprecated and will raise a TypeError in the future. Use float(ser.iloc[0]) instead\n",
      "  I_o_ref=float(CECMod.I_o_ref),\n",
      "/Users/storopov/Documents/GitHub/bifacial_radiance/bifacial_radiance/performance.py:68: FutureWarning: Calling float on a single element Series is deprecated and will raise a TypeError in the future. Use float(ser.iloc[0]) instead\n",
      "  R_sh_ref=float(CECMod.R_sh_ref),\n",
      "/Users/storopov/Documents/GitHub/bifacial_radiance/bifacial_radiance/performance.py:69: FutureWarning: Calling float on a single element Series is deprecated and will raise a TypeError in the future. Use float(ser.iloc[0]) instead\n",
      "  R_s=float(CECMod.R_s),\n",
      "/Users/storopov/Documents/GitHub/bifacial_radiance/bifacial_radiance/performance.py:70: FutureWarning: Calling float on a single element Series is deprecated and will raise a TypeError in the future. Use float(ser.iloc[0]) instead\n",
      "  Adjust=float(CECMod.Adjust)\n",
      "/Users/storopov/Documents/GitHub/bifacial_radiance/bifacial_radiance/performance.py:64: FutureWarning: Calling float on a single element Series is deprecated and will raise a TypeError in the future. Use float(ser.iloc[0]) instead\n",
      "  alpha_sc=float(CECMod.alpha_sc),\n",
      "/Users/storopov/Documents/GitHub/bifacial_radiance/bifacial_radiance/performance.py:65: FutureWarning: Calling float on a single element Series is deprecated and will raise a TypeError in the future. Use float(ser.iloc[0]) instead\n",
      "  a_ref=float(CECMod.a_ref),\n",
      "/Users/storopov/Documents/GitHub/bifacial_radiance/bifacial_radiance/performance.py:66: FutureWarning: Calling float on a single element Series is deprecated and will raise a TypeError in the future. Use float(ser.iloc[0]) instead\n",
      "  I_L_ref=float(CECMod.I_L_ref),\n",
      "/Users/storopov/Documents/GitHub/bifacial_radiance/bifacial_radiance/performance.py:67: FutureWarning: Calling float on a single element Series is deprecated and will raise a TypeError in the future. Use float(ser.iloc[0]) instead\n",
      "  I_o_ref=float(CECMod.I_o_ref),\n",
      "/Users/storopov/Documents/GitHub/bifacial_radiance/bifacial_radiance/performance.py:68: FutureWarning: Calling float on a single element Series is deprecated and will raise a TypeError in the future. Use float(ser.iloc[0]) instead\n",
      "  R_sh_ref=float(CECMod.R_sh_ref),\n",
      "/Users/storopov/Documents/GitHub/bifacial_radiance/bifacial_radiance/performance.py:69: FutureWarning: Calling float on a single element Series is deprecated and will raise a TypeError in the future. Use float(ser.iloc[0]) instead\n",
      "  R_s=float(CECMod.R_s),\n",
      "/Users/storopov/Documents/GitHub/bifacial_radiance/bifacial_radiance/performance.py:70: FutureWarning: Calling float on a single element Series is deprecated and will raise a TypeError in the future. Use float(ser.iloc[0]) instead\n",
      "  Adjust=float(CECMod.Adjust)\n"
     ]
    },
    {
     "data": {
      "text/plain": [
       "{'2022-12-27_0830': {'surf_azm': 90.0,\n",
       "  'surf_tilt': 55.0,\n",
       "  'theta': -55.0,\n",
       "  'dni': 720,\n",
       "  'ghi': 202,\n",
       "  'dhi': 34,\n",
       "  'temp_air': 5.3,\n",
       "  'wind_speed': 1.3,\n",
       "  'skyfile': 'skies/sky2_35.05_-106.54_2022-12-27_0830.rad',\n",
       "  'radfile': 'objects/1axis2022-12-27_0830__C_2.60139_rtr_5.96000_tilt_55.00000_25modsx5rows_origin0,0.rad',\n",
       "  'scene': {'module': {'x': 1.303, 'y': 2.384, 'z': 0.02, 'modulematerial': 'black', 'scenex': 1.305, 'sceney': 2.384, 'scenez': 0.095, 'numpanels': 1, 'bifi': 1, 'text': '! genbox black PVmod 1.303 2.384 0.02 | xform -t -0.6515 -1.192 0.095 -a 1 -t 0 2.384 0\\r\\n! genrev Metal_Grey tube1 t*1.305 0.075 32 | xform -ry 90 -t -0.6525 0 0', 'modulefile': 'objects/PVmod.rad', 'glass': False, 'offsetfromaxis': 0.095, 'xgap': 0.002, 'ygap': 0.0, 'zgap': 0.02}, 'modulefile': 'objects/PVmod.rad', 'hpc': False, 'name': 'Scene0', 'gcr': 0.39999999999999997, 'text': '!xform -rx 55.0 -t 0 0 3.5 -a 25 -t 1.305 0 0 -a 5 -t 0 5.96 0 -i 1 -t -15.66 -11.92 0 -rz 90.0 -t 0 0 0 objects/PVmod.rad', 'radfiles': 'objects/1axis2022-12-27_0830__C_2.60139_rtr_5.96000_tilt_55.00000_25modsx5rows_origin0,0.rad', 'sceneDict': {'tilt': 55.0, 'pitch': 5.96, 'clearance_height': 2.601390207414976, 'azimuth': 90.0, 'nMods': 25, 'nRows': 5, 'modulez': 0.02, 'axis_tilt': 0, 'originx': 0, 'originy': 0}},\n",
       "  'octfile': '1axis_2022-12-27_0830.oct',\n",
       "  'Results': [{'rowWanted': 3,\n",
       "    'modWanted': 13,\n",
       "    'AnalysisObj': {'octfile': '1axis_2022-12-27_0830.oct', 'name': '1axis_2022-12-27_0830', 'hpc': False, 'modWanted': 13, 'rowWanted': 3, 'x': [0.3229227, -0.1328794], 'y': [1.977331e-17, -8.136517e-18], 'z': [3.241058, 3.892011], 'rearZ': [3.22844, 3.879393], 'mattype': ['a12.2.a0.PVmod.6457', 'a12.2.a0.PVmod.6457'], 'rearMat': ['a12.2.a0.PVmod.2310', 'a12.2.a0.PVmod.2310'], 'Wm2Front': [550.1277, 556.8487666666666], 'Wm2Back': [10.613033333333334, 13.496686666666667], 'Back/FrontRatio': [0.019291909935499337, 0.024237572635539703], 'backRatio': [0.019291909935499337, 0.024237572635539703], 'rearX': [0.3049013, -0.1509007], 'rearY': [1.866982e-17, -9.240006e-18]},\n",
       "    'Wm2Front': [550.1277, 556.8487666666666],\n",
       "    'Wm2Back': [10.613033333333334, 13.496686666666667],\n",
       "    'backRatio': [0.019291909935499337, 0.024237572635539703]}],\n",
       "  'POA_eff': 565.5430933333332,\n",
       "  'Gfront_mean': 553.4882333333333,\n",
       "  'Grear_mean': 12.054860000000001,\n",
       "  'Pout_raw': 230.29486706435375,\n",
       "  'Pout_Gfront': 225.64928430539223,\n",
       "  'Mismatch': 0.00013811255098080644,\n",
       "  'Pout': 230.29454899823807,\n",
       "  'Module_temp': 21.585901754183105},\n",
       " '2022-12-27_0930': {'surf_azm': 90.0,\n",
       "  'surf_tilt': 49.63,\n",
       "  'theta': -49.63,\n",
       "  'dni': 879,\n",
       "  'ghi': 367,\n",
       "  'dhi': 49,\n",
       "  'temp_air': 7.2,\n",
       "  'wind_speed': 2.0,\n",
       "  'skyfile': 'skies/sky2_35.05_-106.54_2022-12-27_0930.rad',\n",
       "  'radfile': 'objects/1axis2022-12-27_0930__C_2.66422_rtr_5.96000_tilt_49.63000_25modsx5rows_origin0,0.rad',\n",
       "  'scene': {'module': {'x': 1.303, 'y': 2.384, 'z': 0.02, 'modulematerial': 'black', 'scenex': 1.305, 'sceney': 2.384, 'scenez': 0.095, 'numpanels': 1, 'bifi': 1, 'text': '! genbox black PVmod 1.303 2.384 0.02 | xform -t -0.6515 -1.192 0.095 -a 1 -t 0 2.384 0\\r\\n! genrev Metal_Grey tube1 t*1.305 0.075 32 | xform -ry 90 -t -0.6525 0 0', 'modulefile': 'objects/PVmod.rad', 'glass': False, 'offsetfromaxis': 0.095, 'xgap': 0.002, 'ygap': 0.0, 'zgap': 0.02}, 'modulefile': 'objects/PVmod.rad', 'hpc': False, 'name': 'Scene0', 'gcr': 0.39999999999999997, 'text': '!xform -rx 49.63 -t 0 0 3.5 -a 25 -t 1.305 0 0 -a 5 -t 0 5.96 0 -i 1 -t -15.66 -11.92 0 -rz 90.0 -t 0 0 0 objects/PVmod.rad', 'radfiles': 'objects/1axis2022-12-27_0930__C_2.66422_rtr_5.96000_tilt_49.63000_25modsx5rows_origin0,0.rad', 'sceneDict': {'tilt': 49.63, 'pitch': 5.96, 'clearance_height': 2.664220318964124, 'azimuth': 90.0, 'nMods': 25, 'nRows': 5, 'modulez': 0.02, 'axis_tilt': 0, 'originx': 0, 'originy': 0}},\n",
       "  'octfile': '1axis_2022-12-27_0930.oct',\n",
       "  'Results': [{'rowWanted': 3,\n",
       "    'modWanted': 13,\n",
       "    'AnalysisObj': {'octfile': '1axis_2022-12-27_0930.oct', 'name': '1axis_2022-12-27_0930', 'hpc': False, 'modWanted': 13, 'rowWanted': 3, 'x': [0.345739, -0.1689834], 'y': [2.117041e-17, -1.034725e-17], 'z': [3.272416, 3.877855], 'rearZ': [3.258166, 3.863605], 'mattype': ['a12.2.a0.PVmod.6457', 'a12.2.a0.PVmod.6457'], 'rearMat': ['a12.2.a0.PVmod.2310', 'a12.2.a0.PVmod.2310'], 'Wm2Front': [613.0142, 618.2563333333334], 'Wm2Back': [37.41779666666667, 37.33466333333333], 'Back/FrontRatio': [0.061038937805566115, 0.06038693165521153], 'backRatio': [0.061038937805566115, 0.06038693165521153], 'rearX': [0.3289777, -0.1857447], 'rearY': [2.014407e-17, -1.137358e-17]},\n",
       "    'Wm2Front': [613.0142, 618.2563333333334],\n",
       "    'Wm2Back': [37.41779666666667, 37.33466333333333],\n",
       "    'backRatio': [0.061038937805566115, 0.06038693165521153]}],\n",
       "  'POA_eff': 653.0114966666666,\n",
       "  'Gfront_mean': 615.6352666666667,\n",
       "  'Grear_mean': 37.37623,\n",
       "  'Pout_raw': 262.5306518654714,\n",
       "  'Pout_Gfront': 248.4431831780084,\n",
       "  'Mismatch': 3.437581009002725e-06,\n",
       "  'Pout': 262.53064284076754,\n",
       "  'Module_temp': 25.143138596315072},\n",
       " '2022-12-27_1030': {'surf_azm': 90.0,\n",
       "  'surf_tilt': 28.36,\n",
       "  'theta': -28.36,\n",
       "  'dni': 787,\n",
       "  'ghi': 474,\n",
       "  'dhi': 105,\n",
       "  'temp_air': 8.3,\n",
       "  'wind_speed': 4.0,\n",
       "  'skyfile': 'skies/sky2_35.05_-106.54_2022-12-27_1030.rad',\n",
       "  'radfile': 'objects/1axis2022-12-27_1030__C_2.97891_rtr_5.96000_tilt_28.36000_25modsx5rows_origin0,0.rad',\n",
       "  'scene': {'module': {'x': 1.303, 'y': 2.384, 'z': 0.02, 'modulematerial': 'black', 'scenex': 1.305, 'sceney': 2.384, 'scenez': 0.095, 'numpanels': 1, 'bifi': 1, 'text': '! genbox black PVmod 1.303 2.384 0.02 | xform -t -0.6515 -1.192 0.095 -a 1 -t 0 2.384 0\\r\\n! genrev Metal_Grey tube1 t*1.305 0.075 32 | xform -ry 90 -t -0.6525 0 0', 'modulefile': 'objects/PVmod.rad', 'glass': False, 'offsetfromaxis': 0.095, 'xgap': 0.002, 'ygap': 0.0, 'zgap': 0.02}, 'modulefile': 'objects/PVmod.rad', 'hpc': False, 'name': 'Scene0', 'gcr': 0.39999999999999997, 'text': '!xform -rx 28.36 -t 0 0 3.5 -a 25 -t 1.305 0 0 -a 5 -t 0 5.96 0 -i 1 -t -15.66 -11.92 0 -rz 90.0 -t 0 0 0 objects/PVmod.rad', 'radfiles': 'objects/1axis2022-12-27_1030__C_2.97891_rtr_5.96000_tilt_28.36000_25modsx5rows_origin0,0.rad', 'sceneDict': {'tilt': 28.36, 'pitch': 5.96, 'clearance_height': 2.9789140490229125, 'azimuth': 90.0, 'nMods': 25, 'nRows': 5, 'modulez': 0.02, 'axis_tilt': 0, 'originx': 0, 'originy': 0}},\n",
       "  'octfile': '1axis_2022-12-27_1030.oct',\n",
       "  'Results': [{'rowWanted': 3,\n",
       "    'modWanted': 13,\n",
       "    'AnalysisObj': {'octfile': '1axis_2022-12-27_1030.oct', 'name': '1axis_2022-12-27_1030', 'hpc': False, 'modWanted': 13, 'rowWanted': 3, 'x': [0.4047467, -0.2945444], 'y': [2.478359e-17, -1.803564e-17], 'z': [3.41334, 3.790815], 'rearZ': [3.393981, 3.771455], 'mattype': ['a12.2.a0.PVmod.6457', 'a12.2.a0.PVmod.6457'], 'rearMat': ['a12.2.a0.PVmod.2310', 'a12.2.a0.PVmod.2310'], 'Wm2Front': [548.7814999999999, 551.6003333333334], 'Wm2Back': [56.049933333333335, 56.505876666666666], 'Back/FrontRatio': [0.10213505957885564, 0.10243970282885465], 'backRatio': [0.10213505957885564, 0.10243970282885465], 'rearX': [0.3942965, -0.3049946], 'rearY': [2.41437e-17, -1.867553e-17]},\n",
       "    'Wm2Front': [548.7814999999999, 551.6003333333334],\n",
       "    'Wm2Back': [56.049933333333335, 56.505876666666666],\n",
       "    'backRatio': [0.10213505957885564, 0.10243970282885465]}],\n",
       "  'POA_eff': 606.4688216666666,\n",
       "  'Gfront_mean': 550.1909166666667,\n",
       "  'Grear_mean': 56.277905000000004,\n",
       "  'Pout_raw': 245.83095015425795,\n",
       "  'Pout_Gfront': 224.05194620062707,\n",
       "  'Mismatch': 2.0308211717220293e-05,\n",
       "  'Pout': 245.83090023038812,\n",
       "  'Module_temp': 22.89649131061283},\n",
       " '2022-12-27_1130': {'surf_azm': 90.0,\n",
       "  'surf_tilt': 3.2,\n",
       "  'theta': -3.2,\n",
       "  'dni': 734,\n",
       "  'ghi': 537,\n",
       "  'dhi': 147,\n",
       "  'temp_air': 9.6,\n",
       "  'wind_speed': 4.0,\n",
       "  'skyfile': 'skies/sky2_35.05_-106.54_2022-12-27_1130.rad',\n",
       "  'radfile': 'objects/1axis2022-12-27_1130__C_3.43876_rtr_5.96000_tilt_3.20000_25modsx5rows_origin0,0.rad',\n",
       "  'scene': {'module': {'x': 1.303, 'y': 2.384, 'z': 0.02, 'modulematerial': 'black', 'scenex': 1.305, 'sceney': 2.384, 'scenez': 0.095, 'numpanels': 1, 'bifi': 1, 'text': '! genbox black PVmod 1.303 2.384 0.02 | xform -t -0.6515 -1.192 0.095 -a 1 -t 0 2.384 0\\r\\n! genrev Metal_Grey tube1 t*1.305 0.075 32 | xform -ry 90 -t -0.6525 0 0', 'modulefile': 'objects/PVmod.rad', 'glass': False, 'offsetfromaxis': 0.095, 'xgap': 0.002, 'ygap': 0.0, 'zgap': 0.02}, 'modulefile': 'objects/PVmod.rad', 'hpc': False, 'name': 'Scene0', 'gcr': 0.39999999999999997, 'text': '!xform -rx 3.2 -t 0 0 3.5 -a 25 -t 1.305 0 0 -a 5 -t 0 5.96 0 -i 1 -t -15.66 -11.92 0 -rz 90.0 -t 0 0 0 objects/PVmod.rad', 'radfiles': 'objects/1axis2022-12-27_1130__C_3.43876_rtr_5.96000_tilt_3.20000_25modsx5rows_origin0,0.rad', 'sceneDict': {'tilt': 3.2, 'pitch': 5.96, 'clearance_height': 3.438763809022499, 'azimuth': 90.0, 'nMods': 25, 'nRows': 5, 'modulez': 0.02, 'axis_tilt': 0, 'originx': 0, 'originy': 0}},\n",
       "  'octfile': '1axis_2022-12-27_1130.oct',\n",
       "  'Results': [{'rowWanted': 3,\n",
       "    'modWanted': 13,\n",
       "    'AnalysisObj': {'octfile': '1axis_2022-12-27_1130.oct', 'name': '1axis_2022-12-27_1130', 'hpc': False, 'modWanted': 13, 'rowWanted': 3, 'x': [0.4031891, -0.3902385], 'y': [2.468821e-17, -2.389522e-17], 'z': [3.593639, 3.637999], 'rearZ': [3.571674, 3.616033], 'mattype': ['a12.2.a0.PVmod.6457', 'a12.2.a0.PVmod.6457'], 'rearMat': ['a12.2.a0.PVmod.2310', 'a12.2.a0.PVmod.2310'], 'Wm2Front': [530.808, 530.8019], 'Wm2Back': [61.66809666666666, 61.425136666666674], 'Back/FrontRatio': [0.11617756418347591, 0.11572117760974304], 'backRatio': [0.11617756418347591, 0.11572117760974304], 'rearX': [0.401961, -0.3914666], 'rearY': [2.461301e-17, -2.397041e-17]},\n",
       "    'Wm2Front': [530.808, 530.8019],\n",
       "    'Wm2Back': [61.66809666666666, 61.425136666666674],\n",
       "    'backRatio': [0.11617756418347591, 0.11572117760974304]}],\n",
       "  'POA_eff': 592.3515666666667,\n",
       "  'Gfront_mean': 530.80495,\n",
       "  'Grear_mean': 61.546616666666665,\n",
       "  'Pout_raw': 239.25958159394077,\n",
       "  'Pout_Gfront': 215.4587107964374,\n",
       "  'Mismatch': 1.1077229248356222e-05,\n",
       "  'Pout': 239.25955509060842,\n",
       "  'Module_temp': 23.856717224006182},\n",
       " '2022-12-27_1230': {'surf_azm': 90.0,\n",
       "  'surf_tilt': -22.5,\n",
       "  'theta': 22.5,\n",
       "  'dni': 410,\n",
       "  'ghi': 471,\n",
       "  'dhi': 244,\n",
       "  'temp_air': 10.4,\n",
       "  'wind_speed': 3.6,\n",
       "  'skyfile': 'skies/sky2_35.05_-106.54_2022-12-27_1230.rad',\n",
       "  'radfile': 'objects/1axis2022-12-27_1230__C_3.08020_rtr_5.96000_tilt_-22.50000_25modsx5rows_origin0,0.rad',\n",
       "  'scene': {'module': {'x': 1.303, 'y': 2.384, 'z': 0.02, 'modulematerial': 'black', 'scenex': 1.305, 'sceney': 2.384, 'scenez': 0.095, 'numpanels': 1, 'bifi': 1, 'text': '! genbox black PVmod 1.303 2.384 0.02 | xform -t -0.6515 -1.192 0.095 -a 1 -t 0 2.384 0\\r\\n! genrev Metal_Grey tube1 t*1.305 0.075 32 | xform -ry 90 -t -0.6525 0 0', 'modulefile': 'objects/PVmod.rad', 'glass': False, 'offsetfromaxis': 0.095, 'xgap': 0.002, 'ygap': 0.0, 'zgap': 0.02}, 'modulefile': 'objects/PVmod.rad', 'hpc': False, 'name': 'Scene0', 'gcr': 0.39999999999999997, 'text': '!xform -rx -22.5 -t 0 0 3.5 -a 25 -t 1.305 0 0 -a 5 -t 0 5.96 0 -i 1 -t -15.66 -11.92 0 -rz 90.0 -t 0 0 0 objects/PVmod.rad', 'radfiles': 'objects/1axis2022-12-27_1230__C_3.08020_rtr_5.96000_tilt_-22.50000_25modsx5rows_origin0,0.rad', 'sceneDict': {'tilt': -22.5, 'pitch': 5.96, 'clearance_height': 3.0801962746954965, 'azimuth': 90.0, 'nMods': 25, 'nRows': 5, 'modulez': 0.02, 'axis_tilt': 0, 'originx': 0, 'originy': 0}},\n",
       "  'octfile': '1axis_2022-12-27_1230.oct',\n",
       "  'Results': [{'rowWanted': 3,\n",
       "    'modWanted': 13,\n",
       "    'AnalysisObj': {'octfile': '1axis_2022-12-27_1230.oct', 'name': '1axis_2022-12-27_1230', 'hpc': False, 'modWanted': 13, 'rowWanted': 3, 'x': [0.3226969, -0.4114794], 'y': [1.975948e-17, -2.519585e-17], 'z': [3.759223, 3.455117], 'rearZ': [3.738898, 3.434792], 'mattype': ['a12.2.a0.PVmod.6457', 'a12.2.a0.PVmod.6457'], 'rearMat': ['a12.2.a0.PVmod.2310', 'a12.2.a0.PVmod.2310'], 'Wm2Front': [469.64433333333335, 468.5227333333334], 'Wm2Back': [55.61595333333333, 53.94295666666667], 'Back/FrontRatio': [0.11842117739911535, 0.11513388293670217], 'backRatio': [0.11842117739911535, 0.11513388293670217], 'rearX': [0.3311159, -0.4030604], 'rearY': [2.0275e-17, -2.468033e-17]},\n",
       "    'Wm2Front': [469.64433333333335, 468.5227333333334],\n",
       "    'Wm2Back': [55.61595333333333, 53.94295666666667],\n",
       "    'backRatio': [0.11842117739911535, 0.11513388293670217]}],\n",
       "  'POA_eff': 523.8629883333334,\n",
       "  'Gfront_mean': 469.0835333333334,\n",
       "  'Grear_mean': 54.779455,\n",
       "  'Pout_raw': 211.86947054178452,\n",
       "  'Pout_Gfront': 190.47042607901642,\n",
       "  'Mismatch': 8.639995446090659e-05,\n",
       "  'Pout': 211.86928748665846,\n",
       "  'Module_temp': 23.344453084420515},\n",
       " '2022-12-27_1330': {'surf_azm': 90.0,\n",
       "  'surf_tilt': -44.85,\n",
       "  'theta': 44.85,\n",
       "  'dni': 157,\n",
       "  'ghi': 349,\n",
       "  'dhi': 267,\n",
       "  'temp_air': 11.3,\n",
       "  'wind_speed': 2.0,\n",
       "  'skyfile': 'skies/sky2_35.05_-106.54_2022-12-27_1330.rad',\n",
       "  'radfile': 'objects/1axis2022-12-27_1330__C_2.72634_rtr_5.96000_tilt_-44.85000_25modsx5rows_origin0,0.rad',\n",
       "  'scene': {'module': {'x': 1.303, 'y': 2.384, 'z': 0.02, 'modulematerial': 'black', 'scenex': 1.305, 'sceney': 2.384, 'scenez': 0.095, 'numpanels': 1, 'bifi': 1, 'text': '! genbox black PVmod 1.303 2.384 0.02 | xform -t -0.6515 -1.192 0.095 -a 1 -t 0 2.384 0\\r\\n! genrev Metal_Grey tube1 t*1.305 0.075 32 | xform -ry 90 -t -0.6525 0 0', 'modulefile': 'objects/PVmod.rad', 'glass': False, 'offsetfromaxis': 0.095, 'xgap': 0.002, 'ygap': 0.0, 'zgap': 0.02}, 'modulefile': 'objects/PVmod.rad', 'hpc': False, 'name': 'Scene0', 'gcr': 0.39999999999999997, 'text': '!xform -rx -44.85 -t 0 0 3.5 -a 25 -t 1.305 0 0 -a 5 -t 0 5.96 0 -i 1 -t -15.66 -11.92 0 -rz 90.0 -t 0 0 0 objects/PVmod.rad', 'radfiles': 'objects/1axis2022-12-27_1330__C_2.72634_rtr_5.96000_tilt_-44.85000_25modsx5rows_origin0,0.rad', 'sceneDict': {'tilt': -44.85, 'pitch': 5.96, 'clearance_height': 2.7263372847288054, 'azimuth': 90.0, 'nMods': 25, 'nRows': 5, 'modulez': 0.02, 'axis_tilt': 0, 'originx': 0, 'originy': 0}},\n",
       "  'octfile': '1axis_2022-12-27_1330.oct',\n",
       "  'Results': [{'rowWanted': 3,\n",
       "    'modWanted': 13,\n",
       "    'AnalysisObj': {'octfile': '1axis_2022-12-27_1330.oct', 'name': '1axis_2022-12-27_1330', 'hpc': False, 'modWanted': 13, 'rowWanted': 3, 'x': [0.1998823, -0.363501], 'y': [1.223926e-17, -2.225802e-17], 'z': [3.862459, 3.302018], 'rearZ': [3.846862, 3.286421], 'mattype': ['a12.2.a0.PVmod.6457', 'a12.2.a0.PVmod.6457'], 'rearMat': ['a12.2.a0.PVmod.2310', 'a12.2.a0.PVmod.2310'], 'Wm2Front': [368.68969999999996, 354.44440000000003], 'Wm2Back': [52.205796666666664, 43.63452], 'Back/FrontRatio': [0.14159781265615506, 0.12310646435247855], 'backRatio': [0.14159781265615506, 0.12310646435247855], 'rearX': [0.2153979, -0.3479855], 'rearY': [1.318932e-17, -2.130796e-17]},\n",
       "    'Wm2Front': [368.68969999999996, 354.44440000000003],\n",
       "    'Wm2Back': [52.205796666666664, 43.63452],\n",
       "    'backRatio': [0.14159781265615506, 0.12310646435247855]}],\n",
       "  'POA_eff': 409.48720833333334,\n",
       "  'Gfront_mean': 361.56705,\n",
       "  'Grear_mean': 47.92015833333333,\n",
       "  'Pout_raw': 165.6369066756042,\n",
       "  'Pout_Gfront': 146.66371354145872,\n",
       "  'Mismatch': 0.0005726051110028097,\n",
       "  'Pout': 165.63595823021086,\n",
       "  'Module_temp': 22.551694296423253},\n",
       " '2022-12-27_1430': {'surf_azm': 90.0,\n",
       "  'surf_tilt': -55.0,\n",
       "  'theta': 55.0,\n",
       "  'dni': 513,\n",
       "  'ghi': 314,\n",
       "  'dhi': 115,\n",
       "  'temp_air': 12.3,\n",
       "  'wind_speed': 1.4,\n",
       "  'skyfile': 'skies/sky2_35.05_-106.54_2022-12-27_1430.rad',\n",
       "  'radfile': 'objects/1axis2022-12-27_1430__C_2.60139_rtr_5.96000_tilt_-55.00000_25modsx5rows_origin0,0.rad',\n",
       "  'scene': {'module': {'x': 1.303, 'y': 2.384, 'z': 0.02, 'modulematerial': 'black', 'scenex': 1.305, 'sceney': 2.384, 'scenez': 0.095, 'numpanels': 1, 'bifi': 1, 'text': '! genbox black PVmod 1.303 2.384 0.02 | xform -t -0.6515 -1.192 0.095 -a 1 -t 0 2.384 0\\r\\n! genrev Metal_Grey tube1 t*1.305 0.075 32 | xform -ry 90 -t -0.6525 0 0', 'modulefile': 'objects/PVmod.rad', 'glass': False, 'offsetfromaxis': 0.095, 'xgap': 0.002, 'ygap': 0.0, 'zgap': 0.02}, 'modulefile': 'objects/PVmod.rad', 'hpc': False, 'name': 'Scene0', 'gcr': 0.39999999999999997, 'text': '!xform -rx -55.0 -t 0 0 3.5 -a 25 -t 1.305 0 0 -a 5 -t 0 5.96 0 -i 1 -t -15.66 -11.92 0 -rz 90.0 -t 0 0 0 objects/PVmod.rad', 'radfiles': 'objects/1axis2022-12-27_1430__C_2.60139_rtr_5.96000_tilt_-55.00000_25modsx5rows_origin0,0.rad', 'sceneDict': {'tilt': -55.0, 'pitch': 5.96, 'clearance_height': 2.601390207414976, 'azimuth': 90.0, 'nMods': 25, 'nRows': 5, 'modulez': 0.02, 'axis_tilt': 0, 'originx': 0, 'originy': 0}},\n",
       "  'octfile': '1axis_2022-12-27_1430.oct',\n",
       "  'Results': [{'rowWanted': 3,\n",
       "    'modWanted': 13,\n",
       "    'AnalysisObj': {'octfile': '1axis_2022-12-27_1430.oct', 'name': '1axis_2022-12-27_1430', 'hpc': False, 'modWanted': 13, 'rowWanted': 3, 'x': [0.1328794, -0.3229227], 'y': [8.136517e-18, -1.977331e-17], 'z': [3.892011, 3.241058], 'rearZ': [3.879393, 3.22844], 'mattype': ['a12.2.a0.PVmod.6457', 'a12.2.a0.PVmod.6457'], 'rearMat': ['a12.2.a0.PVmod.2310', 'a12.2.a0.PVmod.2310'], 'Wm2Front': [492.7758666666666, 477.84653333333335], 'Wm2Back': [29.685383333333334, 25.067556666666665], 'Back/FrontRatio': [0.060241024571905645, 0.052459320009046115], 'backRatio': [0.060241024571905645, 0.052459320009046115], 'rearX': [0.1509007, -0.3049013], 'rearY': [9.240006e-18, -1.866982e-17]},\n",
       "    'Wm2Front': [492.7758666666666, 477.84653333333335],\n",
       "    'Wm2Back': [29.685383333333334, 25.067556666666665],\n",
       "    'backRatio': [0.060241024571905645, 0.052459320009046115]}],\n",
       "  'POA_eff': 512.68767,\n",
       "  'Gfront_mean': 485.3112,\n",
       "  'Grear_mean': 27.376469999999998,\n",
       "  'Pout_raw': 204.55784057611933,\n",
       "  'Pout_Gfront': 194.10018171620257,\n",
       "  'Mismatch': 0.00024457074319180936,\n",
       "  'Pout': 204.5573402874884,\n",
       "  'Module_temp': 26.965005927727553},\n",
       " '2022-12-27_1530': {'surf_azm': 90.0,\n",
       "  'surf_tilt': -19.82,\n",
       "  'theta': 19.82,\n",
       "  'dni': 151,\n",
       "  'ghi': 164,\n",
       "  'dhi': 118,\n",
       "  'temp_air': 12.8,\n",
       "  'wind_speed': 2.7,\n",
       "  'skyfile': 'skies/sky2_35.05_-106.54_2022-12-27_1530.rad',\n",
       "  'radfile': 'objects/1axis2022-12-27_1530__C_3.12804_rtr_5.96000_tilt_-19.82000_25modsx5rows_origin0,0.rad',\n",
       "  'scene': {'module': {'x': 1.303, 'y': 2.384, 'z': 0.02, 'modulematerial': 'black', 'scenex': 1.305, 'sceney': 2.384, 'scenez': 0.095, 'numpanels': 1, 'bifi': 1, 'text': '! genbox black PVmod 1.303 2.384 0.02 | xform -t -0.6515 -1.192 0.095 -a 1 -t 0 2.384 0\\r\\n! genrev Metal_Grey tube1 t*1.305 0.075 32 | xform -ry 90 -t -0.6525 0 0', 'modulefile': 'objects/PVmod.rad', 'glass': False, 'offsetfromaxis': 0.095, 'xgap': 0.002, 'ygap': 0.0, 'zgap': 0.02}, 'modulefile': 'objects/PVmod.rad', 'hpc': False, 'name': 'Scene0', 'gcr': 0.39999999999999997, 'text': '!xform -rx -19.82 -t 0 0 3.5 -a 25 -t 1.305 0 0 -a 5 -t 0 5.96 0 -i 1 -t -15.66 -11.92 0 -rz 90.0 -t 0 0 0 objects/PVmod.rad', 'radfiles': 'objects/1axis2022-12-27_1530__C_3.12804_rtr_5.96000_tilt_-19.82000_25modsx5rows_origin0,0.rad', 'sceneDict': {'tilt': -19.82, 'pitch': 5.96, 'clearance_height': 3.1280442371448487, 'azimuth': 90.0, 'nMods': 25, 'nRows': 5, 'modulez': 0.02, 'axis_tilt': 0, 'originx': 0, 'originy': 0}},\n",
       "  'octfile': '1axis_2022-12-27_1530.oct',\n",
       "  'Results': [{'rowWanted': 3,\n",
       "    'modWanted': 13,\n",
       "    'AnalysisObj': {'octfile': '1axis_2022-12-27_1530.oct', 'name': '1axis_2022-12-27_1530', 'hpc': False, 'modWanted': 13, 'rowWanted': 3, 'x': [0.3344646, -0.413128], 'y': [2.048005e-17, -2.529679e-17], 'z': [3.743851, 3.474406], 'rearZ': [3.723154, 3.453709], 'mattype': ['a12.2.a0.PVmod.6457', 'a12.2.a0.PVmod.6457'], 'rearMat': ['a12.2.a0.PVmod.2310', 'a12.2.a0.PVmod.2310'], 'Wm2Front': [199.58996666666667, 196.28470000000002], 'Wm2Back': [17.69062666666667, 17.142683333333334], 'Back/FrontRatio': [0.08863440546491, 0.08733536540529102], 'backRatio': [0.08863440546491, 0.08733536540529102], 'rearX': [0.3419241, -0.4056685], 'rearY': [2.093681e-17, -2.484003e-17]},\n",
       "    'Wm2Front': [199.58996666666667, 196.28470000000002],\n",
       "    'Wm2Back': [17.69062666666667, 17.142683333333334],\n",
       "    'backRatio': [0.08863440546491, 0.08733536540529102]}],\n",
       "  'POA_eff': 215.35398833333335,\n",
       "  'Gfront_mean': 197.93733333333336,\n",
       "  'Grear_mean': 17.416655000000002,\n",
       "  'Pout_raw': 87.19716458784484,\n",
       "  'Pout_Gfront': 80.089472211139,\n",
       "  'Mismatch': 6.880843558493892e-05,\n",
       "  'Pout': 87.19710458884002,\n",
       "  'Module_temp': 18.44778835863938}}"
      ]
     },
     "execution_count": 17,
     "metadata": {},
     "output_type": "execute_result"
    }
   ],
   "source": [
    "demo.calculateResults()"
   ]
  },
  {
   "cell_type": "code",
   "execution_count": 18,
   "id": "f7bab0b0",
   "metadata": {},
   "outputs": [],
   "source": [
    "# demo.CompiledResults.set_index('timestamp', inplace=True)\n",
    "# demo.CompiledResults\n",
    "# Grear_mean and Gfront_mean values to be recorded in the excel"
   ]
  },
  {
   "cell_type": "code",
   "execution_count": 19,
   "id": "9c538741",
   "metadata": {},
   "outputs": [],
   "source": [
    "demo.exportScenarioData(trackerdict, savefile = Path().resolve().parent.parent / 'Results' / 'A3-Dec-27-M.csv')"
   ]
  },
  {
   "cell_type": "code",
   "execution_count": null,
   "id": "717b39ff",
   "metadata": {},
   "outputs": [],
   "source": []
  }
 ],
 "metadata": {
  "kernelspec": {
   "display_name": "Python 3 (ipykernel)",
   "language": "python",
   "name": "python3"
  },
  "language_info": {
   "codemirror_mode": {
    "name": "ipython",
    "version": 3
   },
   "file_extension": ".py",
   "mimetype": "text/x-python",
   "name": "python",
   "nbconvert_exporter": "python",
   "pygments_lexer": "ipython3",
   "version": "3.11.5"
  }
 },
 "nbformat": 4,
 "nbformat_minor": 5
}
