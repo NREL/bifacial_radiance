{
 "cells": [
  {
   "cell_type": "markdown",
   "id": "6137b70f",
   "metadata": {},
   "source": [
    "# A3\n",
    "* GCR = 0.4\n",
    "* Albedo = 0.2\n",
    "* Hub Height = 3.5\n",
    "* Configuration = 1-Up portrait\n",
    "* Ground surface = Horizontal\n",
    "***\n",
    "* A GCR of 0.4 for the Trina Vertex module (length = 2.384m) corresponds to a rowto-row spacing or pitch of 5.96m\n",
    "* 1-up Portrait: 5 rows, each with 25 modules\n",
    "* Torque tube diameter = 15 cm. (round)\n",
    "* Maximum tracker rotation angle = 55 deg\n",
    "* Backtracking is enabled\n",
    "* Location: Albuquerque, New Mexico USA (35.05°, -106.54°)"
   ]
  },
  {
   "cell_type": "code",
   "execution_count": 1,
   "id": "760e9b21",
   "metadata": {},
   "outputs": [
    {
     "name": "stdout",
     "output_type": "stream",
     "text": [
      "Your simulation will be stored in Scenarios/A3-1\n"
     ]
    }
   ],
   "source": [
    "import os\n",
    "from pathlib import Path\n",
    "\n",
    "testfolder = 'Scenarios/A3-1'\n",
    "\n",
    "if not os.path.exists(testfolder):\n",
    "    os.makedirs(testfolder)\n",
    "    \n",
    "print (\"Your simulation will be stored in %s\" % testfolder)"
   ]
  },
  {
   "cell_type": "code",
   "execution_count": 2,
   "id": "aa782cd2",
   "metadata": {},
   "outputs": [],
   "source": [
    "import bifacial_radiance as br\n",
    "import bifacialvf as bf\n",
    "import numpy as np\n",
    "import pandas as pd\n",
    "import matplotlib.pyplot as plt\n",
    "import sys, platform\n",
    "import csv\n",
    "from pathlib import Path"
   ]
  },
  {
   "cell_type": "code",
   "execution_count": 3,
   "id": "2d3d89b5",
   "metadata": {},
   "outputs": [
    {
     "name": "stdout",
     "output_type": "stream",
     "text": [
      "Working on a  Darwin 23.3.0\n",
      "Python version  3.11.5 (main, Sep 11 2023, 08:19:27) [Clang 14.0.6 ]\n",
      "Pandas version  2.0.3\n",
      "bifacial_radiance version  0.4.2+246.gf6f42f5.dirty\n",
      "pyplot  3.7.2\n",
      "bifacialvf version  0.1.8.1\n"
     ]
    }
   ],
   "source": [
    "print(\"Working on a \", platform.system(), platform.release())\n",
    "print(\"Python version \", sys.version)\n",
    "print(\"Pandas version \", pd.__version__)\n",
    "print(\"bifacial_radiance version \", br.__version__)\n",
    "print(\"pyplot \", plt.matplotlib.__version__)\n",
    "print(\"bifacialvf version \", bf.__version__)"
   ]
  },
  {
   "cell_type": "code",
   "execution_count": 4,
   "id": "8a48f304",
   "metadata": {},
   "outputs": [],
   "source": [
    "simulationname = 'A3-1'\n",
    "\n",
    "# Location Albuquerque, New Mexico, USA\n",
    "lat = 35.05\n",
    "lon = -106.54\n",
    "\n",
    "# Scene Parameters\n",
    "azimuth=90\n",
    "tilt=30\n",
    "\n",
    "# MakeModule Parameters\n",
    "moduletype='PVmod'\n",
    "numpanels=1\n",
    "module_x = 1.303 # m\n",
    "module_y = 2.384 # m. slope we will measure\n",
    "sensorsy=2\n",
    "torquetube_diam = 0.15\n",
    "\n",
    "zgap = 0.02 # m\n",
    "xgap = 0.002 # m\n",
    "\n",
    "# SceneDict Parameters\n",
    "pitch = 5.96 # m\n",
    "albedo = 0.2\n",
    "hub_height = 3.5 # m  \n",
    "nMods = 25 \n",
    "nRows = 5\n",
    "\n",
    "sceneDict = {'tilt':tilt,'pitch':pitch,'albedo': albedo,'hub_height':hub_height,'azimuth':azimuth, 'nMods': nMods, 'nRows': nRows} "
   ]
  },
  {
   "cell_type": "code",
   "execution_count": 5,
   "id": "eb5df558",
   "metadata": {
    "scrolled": true
   },
   "outputs": [
    {
     "name": "stdout",
     "output_type": "stream",
     "text": [
      "path = Scenarios/A3-1\n",
      "Loading albedo, 1 value(s), 0.200 avg\n",
      "1 nonzero albedo values.\n"
     ]
    }
   ],
   "source": [
    "demo = br.RadianceObj(simulationname,path = testfolder)\n",
    "demo.setGround(albedo)"
   ]
  },
  {
   "cell_type": "code",
   "execution_count": 6,
   "id": "4b7e271b",
   "metadata": {},
   "outputs": [],
   "source": [
    "cumulativesky = False\n",
    "trackerParams = {\n",
    "    'limit_angle': 55,\n",
    "    'backtrack': True,\n",
    "    'gcr': 0.4,\n",
    "    'azimuth': 180,  # axis angle, N-S = 180\n",
    "    'cumulativesky': cumulativesky\n",
    "}"
   ]
  },
  {
   "cell_type": "code",
   "execution_count": 7,
   "id": "e1e7d382",
   "metadata": {
    "scrolled": true
   },
   "outputs": [
    {
     "name": "stdout",
     "output_type": "stream",
     "text": [
      "\n",
      "Module Name: PVmod\n",
      "Module PVmod updated in module.json\n",
      "Pre-existing .rad file objects/PVmod.rad will be overwritten\n",
      "\n"
     ]
    }
   ],
   "source": [
    "module=demo.makeModule(name=moduletype,x=module_x,y=module_y, xgap=xgap, zgap=zgap)"
   ]
  },
  {
   "cell_type": "code",
   "execution_count": 8,
   "id": "7352e18f",
   "metadata": {},
   "outputs": [
    {
     "name": "stdout",
     "output_type": "stream",
     "text": [
      "Module PVmod updated in module.json\n",
      "Pre-existing .rad file objects/PVmod.rad will be overwritten\n",
      "\n"
     ]
    }
   ],
   "source": [
    "module.addTorquetube(diameter=torquetube_diam, tubetype='Round', material='Metal_Grey', \n",
    "                     axisofrotation=True, visible=True, recompile=True)"
   ]
  },
  {
   "cell_type": "code",
   "execution_count": 9,
   "id": "7f694ea6",
   "metadata": {
    "scrolled": true
   },
   "outputs": [
    {
     "data": {
      "text/plain": [
       "'/Users/storopov/Documents/GitHub/bifacial_radiance/docs/development/Instructions/Phase2_meteo_hourly_psm3format.csv'"
      ]
     },
     "execution_count": 9,
     "metadata": {},
     "output_type": "execute_result"
    }
   ],
   "source": [
    "weatherfile = str(Path().resolve().parent.parent / 'Instructions' / 'Phase2_meteo_hourly_psm3format.csv')\n",
    "weatherfile"
   ]
  },
  {
   "cell_type": "code",
   "execution_count": 10,
   "id": "966c7daf",
   "metadata": {
    "scrolled": true
   },
   "outputs": [
    {
     "name": "stdout",
     "output_type": "stream",
     "text": [
      "COLUMN DATAS Index(['Year', 'Month', 'Day', 'Hour', 'Minute', 'GHI', 'DNI', 'DHI',\n",
      "       'temp_air', 'wind_speed', 'humidity', 'Unnamed: 11', 'Unnamed: 12',\n",
      "       'Unnamed: 13', 'Unnamed: 14', 'Unnamed: 15', 'Unnamed: 16',\n",
      "       'Unnamed: 17'],\n",
      "      dtype='object')\n",
      "8760 line in WeatherFile. Assuming this is a standard hourly WeatherFile for the year for purposes of saving Gencumulativesky temporary weather files in EPW folder.\n",
      "Coercing year to 2022\n",
      "Filtering dates\n",
      "Saving file EPWs/metdata_temp.csv, # points: 8760\n",
      "Calculating Sun position for Metdata that is left-labeled  with a delta of +30 mins. i.e. 12 is 12:30 sunpos.\n"
     ]
    }
   ],
   "source": [
    "metdata = demo.readWeatherFile(weatherfile, source='sam', starttime='2022-03-22_0000', endtime='2022-03-23_0000')"
   ]
  },
  {
   "cell_type": "code",
   "execution_count": 11,
   "id": "556da4dc",
   "metadata": {},
   "outputs": [],
   "source": [
    "trackerdict = demo.set1axis(**trackerParams)"
   ]
  },
  {
   "cell_type": "code",
   "execution_count": 12,
   "id": "e814024e",
   "metadata": {},
   "outputs": [
    {
     "name": "stdout",
     "output_type": "stream",
     "text": [
      "Creating ~11 skyfiles. \n",
      "Created 11 skyfiles in /skies/\n"
     ]
    },
    {
     "data": {
      "text/plain": [
       "{'2022-03-22_0730': {'surf_azm': 90.0,\n",
       "  'surf_tilt': 53.28,\n",
       "  'theta': -53.28,\n",
       "  'dni': 0,\n",
       "  'ghi': 65,\n",
       "  'dhi': 62,\n",
       "  'temp_air': 2.4,\n",
       "  'wind_speed': 1.1,\n",
       "  'skyfile': 'skies/sky2_35.05_-106.54_2022-03-22_0730.rad'},\n",
       " '2022-03-22_0830': {'surf_azm': 90.0,\n",
       "  'surf_tilt': 53.44,\n",
       "  'theta': -53.44,\n",
       "  'dni': 2,\n",
       "  'ghi': 182,\n",
       "  'dhi': 180,\n",
       "  'temp_air': 3.0,\n",
       "  'wind_speed': 1.1,\n",
       "  'skyfile': 'skies/sky2_35.05_-106.54_2022-03-22_0830.rad'},\n",
       " '2022-03-22_0930': {'surf_azm': 90.0,\n",
       "  'surf_tilt': 38.35,\n",
       "  'theta': -38.35,\n",
       "  'dni': 3,\n",
       "  'ghi': 279,\n",
       "  'dhi': 276,\n",
       "  'temp_air': 3.9,\n",
       "  'wind_speed': 2.0,\n",
       "  'skyfile': 'skies/sky2_35.05_-106.54_2022-03-22_0930.rad'},\n",
       " '2022-03-22_1030': {'surf_azm': 90.0,\n",
       "  'surf_tilt': 21.72,\n",
       "  'theta': -21.72,\n",
       "  'dni': 172,\n",
       "  'ghi': 504,\n",
       "  'dhi': 361,\n",
       "  'temp_air': 5.0,\n",
       "  'wind_speed': 3.1,\n",
       "  'skyfile': 'skies/sky2_35.05_-106.54_2022-03-22_1030.rad'},\n",
       " '2022-03-22_1130': {'surf_azm': 90.0,\n",
       "  'surf_tilt': 3.91,\n",
       "  'theta': -3.91,\n",
       "  'dni': 13,\n",
       "  'ghi': 291,\n",
       "  'dhi': 277,\n",
       "  'temp_air': 5.8,\n",
       "  'wind_speed': 4.0,\n",
       "  'skyfile': 'skies/sky2_35.05_-106.54_2022-03-22_1130.rad'},\n",
       " '2022-03-22_1230': {'surf_azm': 270.0,\n",
       "  'surf_tilt': 14.13,\n",
       "  'theta': 14.13,\n",
       "  'dni': 4,\n",
       "  'ghi': 220,\n",
       "  'dhi': 214,\n",
       "  'temp_air': 5.9,\n",
       "  'wind_speed': 4.1,\n",
       "  'skyfile': 'skies/sky2_35.05_-106.54_2022-03-22_1230.rad'},\n",
       " '2022-03-22_1330': {'surf_azm': 270.0,\n",
       "  'surf_tilt': 31.34,\n",
       "  'theta': 31.34,\n",
       "  'dni': 96,\n",
       "  'ghi': 383,\n",
       "  'dhi': 310,\n",
       "  'temp_air': 5.9,\n",
       "  'wind_speed': 4.5,\n",
       "  'skyfile': 'skies/sky2_35.05_-106.54_2022-03-22_1330.rad'},\n",
       " '2022-03-22_1430': {'surf_azm': 270.0,\n",
       "  'surf_tilt': 47.08,\n",
       "  'theta': 47.08,\n",
       "  'dni': 40,\n",
       "  'ghi': 292,\n",
       "  'dhi': 266,\n",
       "  'temp_air': 3.7,\n",
       "  'wind_speed': 3.2,\n",
       "  'skyfile': 'skies/sky2_35.05_-106.54_2022-03-22_1430.rad'},\n",
       " '2022-03-22_1530': {'surf_azm': 270.0,\n",
       "  'surf_tilt': 55.0,\n",
       "  'theta': 55.0,\n",
       "  'dni': 699,\n",
       "  'ghi': 541,\n",
       "  'dhi': 169,\n",
       "  'temp_air': 6.3,\n",
       "  'wind_speed': 3.6,\n",
       "  'skyfile': 'skies/sky2_35.05_-106.54_2022-03-22_1530.rad'},\n",
       " '2022-03-22_1630': {'surf_azm': 270.0,\n",
       "  'surf_tilt': 26.64,\n",
       "  'theta': 26.64,\n",
       "  'dni': 87,\n",
       "  'ghi': 233,\n",
       "  'dhi': 193,\n",
       "  'temp_air': 6.0,\n",
       "  'wind_speed': 4.4,\n",
       "  'skyfile': 'skies/sky2_35.05_-106.54_2022-03-22_1630.rad'},\n",
       " '2022-03-22_1730': {'surf_azm': 270.0,\n",
       "  'surf_tilt': 4.78,\n",
       "  'theta': 4.78,\n",
       "  'dni': 22,\n",
       "  'ghi': 94,\n",
       "  'dhi': 88,\n",
       "  'temp_air': 6.6,\n",
       "  'wind_speed': 4.2,\n",
       "  'skyfile': 'skies/sky2_35.05_-106.54_2022-03-22_1730.rad'}}"
      ]
     },
     "execution_count": 12,
     "metadata": {},
     "output_type": "execute_result"
    }
   ],
   "source": [
    "demo.gendaylit1axis()"
   ]
  },
  {
   "cell_type": "code",
   "execution_count": 13,
   "id": "6023d245",
   "metadata": {},
   "outputs": [
    {
     "name": "stdout",
     "output_type": "stream",
     "text": [
      "\n",
      "Making ~11 .rad files for gendaylit 1-axis workflow (this takes a minute..)\n",
      "11 Radfiles created in /objects/\n",
      "\n",
      "Making 11 octfiles in root directory.\n",
      "Created 1axis_2022-03-22_0730.oct\n",
      "Created 1axis_2022-03-22_0830.oct\n",
      "Created 1axis_2022-03-22_0930.oct\n",
      "Created 1axis_2022-03-22_1030.oct\n",
      "Created 1axis_2022-03-22_1130.oct\n",
      "Created 1axis_2022-03-22_1230.oct\n",
      "Created 1axis_2022-03-22_1330.oct\n",
      "Created 1axis_2022-03-22_1430.oct\n",
      "Created 1axis_2022-03-22_1530.oct\n",
      "Created 1axis_2022-03-22_1630.oct\n",
      "Created 1axis_2022-03-22_1730.oct\n"
     ]
    }
   ],
   "source": [
    "trackerdict = demo.makeScene1axis(module=moduletype, sceneDict=sceneDict)\n",
    "trackerdict = demo.makeOct1axis()"
   ]
  },
  {
   "cell_type": "code",
   "execution_count": 14,
   "id": "29d1f8d6",
   "metadata": {
    "scrolled": false
   },
   "outputs": [
    {
     "name": "stdout",
     "output_type": "stream",
     "text": [
      "Linescan in process: 1axis_2022-03-22_0730_Row3_Module13_Front\n",
      "Linescan in process: 1axis_2022-03-22_0730_Row3_Module13_Back\n",
      "Saved: results/irr_1axis_2022-03-22_0730_Row3_Module13.csv\n",
      "Index: 2022-03-22_0730. Wm2Front: 46.071178333333336. Wm2Back: 12.507541666666665\n",
      "Linescan in process: 1axis_2022-03-22_0830_Row3_Module13_Front\n",
      "Linescan in process: 1axis_2022-03-22_0830_Row3_Module13_Back\n",
      "Saved: results/irr_1axis_2022-03-22_0830_Row3_Module13.csv\n",
      "Index: 2022-03-22_0830. Wm2Front: 143.6915666666667. Wm2Back: 34.45149333333333\n",
      "Linescan in process: 1axis_2022-03-22_0930_Row3_Module13_Front\n",
      "Linescan in process: 1axis_2022-03-22_0930_Row3_Module13_Back\n",
      "Saved: results/irr_1axis_2022-03-22_0930_Row3_Module13.csv\n",
      "Index: 2022-03-22_0930. Wm2Front: 249.34648333333334. Wm2Back: 40.23852666666667\n",
      "Linescan in process: 1axis_2022-03-22_1030_Row3_Module13_Front\n",
      "Linescan in process: 1axis_2022-03-22_1030_Row3_Module13_Back\n",
      "Saved: results/irr_1axis_2022-03-22_1030_Row3_Module13.csv\n",
      "Index: 2022-03-22_1030. Wm2Front: 511.73546666666664. Wm2Back: 60.175875000000005\n",
      "Linescan in process: 1axis_2022-03-22_1130_Row3_Module13_Front\n",
      "Linescan in process: 1axis_2022-03-22_1130_Row3_Module13_Back\n",
      "Saved: results/irr_1axis_2022-03-22_1130_Row3_Module13.csv\n",
      "Index: 2022-03-22_1130. Wm2Front: 286.1376333333333. Wm2Back: 34.700559999999996\n",
      "Linescan in process: 1axis_2022-03-22_1230_Row3_Module13_Front\n",
      "Linescan in process: 1axis_2022-03-22_1230_Row3_Module13_Back\n",
      "Saved: results/irr_1axis_2022-03-22_1230_Row3_Module13.csv\n",
      "Index: 2022-03-22_1230. Wm2Front: 212.24785. Wm2Back: 27.10546166666667\n",
      "Linescan in process: 1axis_2022-03-22_1330_Row3_Module13_Front\n",
      "Linescan in process: 1axis_2022-03-22_1330_Row3_Module13_Back\n",
      "Saved: results/irr_1axis_2022-03-22_1330_Row3_Module13.csv\n",
      "Index: 2022-03-22_1330. Wm2Front: 403.97925000000004. Wm2Back: 46.740395\n",
      "Linescan in process: 1axis_2022-03-22_1430_Row3_Module13_Front\n",
      "Linescan in process: 1axis_2022-03-22_1430_Row3_Module13_Back\n",
      "Saved: results/irr_1axis_2022-03-22_1430_Row3_Module13.csv\n",
      "Index: 2022-03-22_1430. Wm2Front: 321.22545. Wm2Back: 42.602266666666665\n",
      "Linescan in process: 1axis_2022-03-22_1530_Row3_Module13_Front\n",
      "Linescan in process: 1axis_2022-03-22_1530_Row3_Module13_Back\n",
      "Saved: results/irr_1axis_2022-03-22_1530_Row3_Module13.csv\n",
      "Index: 2022-03-22_1530. Wm2Front: 867.6431166666666. Wm2Back: 38.77928833333333\n",
      "Linescan in process: 1axis_2022-03-22_1630_Row3_Module13_Front\n",
      "Linescan in process: 1axis_2022-03-22_1630_Row3_Module13_Back\n",
      "Saved: results/irr_1axis_2022-03-22_1630_Row3_Module13.csv\n",
      "Index: 2022-03-22_1630. Wm2Front: 284.7143. Wm2Back: 23.483948333333334\n",
      "Linescan in process: 1axis_2022-03-22_1730_Row3_Module13_Front\n",
      "Linescan in process: 1axis_2022-03-22_1730_Row3_Module13_Back\n",
      "Saved: results/irr_1axis_2022-03-22_1730_Row3_Module13.csv\n",
      "Index: 2022-03-22_1730. Wm2Front: 93.62144666666666. Wm2Back: 11.016888333333334\n"
     ]
    }
   ],
   "source": [
    "trackerdict = demo.analysis1axis(sensorsy=2) # Middle Module"
   ]
  },
  {
   "cell_type": "code",
   "execution_count": null,
   "id": "b3e059d8",
   "metadata": {},
   "outputs": [],
   "source": [
    "demo.exportScenarioData(trackerdict, savefile = Path().resolve().parent.parent / 'Results' / 'A3-Mar-22-M.csv')"
   ]
  },
  {
   "cell_type": "code",
   "execution_count": 15,
   "id": "af67102e",
   "metadata": {},
   "outputs": [
    {
     "name": "stdout",
     "output_type": "stream",
     "text": [
      "Linescan in process: 1axis_2022-03-22_0730_Row3_Module1_Front\n",
      "Linescan in process: 1axis_2022-03-22_0730_Row3_Module1_Back\n",
      "Saved: results/irr_1axis_2022-03-22_0730_Row3_Module1.csv\n",
      "Index: 2022-03-22_0730. Wm2Front: 47.98189833333333. Wm2Back: 14.998038333333334\n",
      "Linescan in process: 1axis_2022-03-22_0830_Row3_Module1_Front\n",
      "Linescan in process: 1axis_2022-03-22_0830_Row3_Module1_Back\n",
      "Saved: results/irr_1axis_2022-03-22_0830_Row3_Module1.csv\n",
      "Index: 2022-03-22_0830. Wm2Front: 149.76136666666667. Wm2Back: 41.77771333333334\n",
      "Linescan in process: 1axis_2022-03-22_0930_Row3_Module1_Front\n",
      "Linescan in process: 1axis_2022-03-22_0930_Row3_Module1_Back\n",
      "Saved: results/irr_1axis_2022-03-22_0930_Row3_Module1.csv\n",
      "Index: 2022-03-22_0930. Wm2Front: 254.9287333333333. Wm2Back: 50.883354999999995\n",
      "Linescan in process: 1axis_2022-03-22_1030_Row3_Module1_Front\n",
      "Linescan in process: 1axis_2022-03-22_1030_Row3_Module1_Back\n",
      "Saved: results/irr_1axis_2022-03-22_1030_Row3_Module1.csv\n",
      "Index: 2022-03-22_1030. Wm2Front: 514.2005166666667. Wm2Back: 82.93023166666666\n",
      "Linescan in process: 1axis_2022-03-22_1130_Row3_Module1_Front\n",
      "Linescan in process: 1axis_2022-03-22_1130_Row3_Module1_Back\n",
      "Saved: results/irr_1axis_2022-03-22_1130_Row3_Module1.csv\n",
      "Index: 2022-03-22_1130. Wm2Front: 286.0421. Wm2Back: 44.551381666666664\n",
      "Linescan in process: 1axis_2022-03-22_1230_Row3_Module1_Front\n",
      "Linescan in process: 1axis_2022-03-22_1230_Row3_Module1_Back\n",
      "Saved: results/irr_1axis_2022-03-22_1230_Row3_Module1.csv\n",
      "Index: 2022-03-22_1230. Wm2Front: 212.9524. Wm2Back: 34.050034999999994\n",
      "Linescan in process: 1axis_2022-03-22_1330_Row3_Module1_Front\n",
      "Linescan in process: 1axis_2022-03-22_1330_Row3_Module1_Back\n",
      "Saved: results/irr_1axis_2022-03-22_1330_Row3_Module1.csv\n",
      "Index: 2022-03-22_1330. Wm2Front: 410.09933333333333. Wm2Back: 64.70553166666667\n",
      "Linescan in process: 1axis_2022-03-22_1430_Row3_Module1_Front\n",
      "Linescan in process: 1axis_2022-03-22_1430_Row3_Module1_Back\n",
      "Saved: results/irr_1axis_2022-03-22_1430_Row3_Module1.csv\n",
      "Index: 2022-03-22_1430. Wm2Front: 334.5879666666667. Wm2Back: 56.39494333333333\n",
      "Linescan in process: 1axis_2022-03-22_1530_Row3_Module1_Front\n",
      "Linescan in process: 1axis_2022-03-22_1530_Row3_Module1_Back\n",
      "Saved: results/irr_1axis_2022-03-22_1530_Row3_Module1.csv\n",
      "Index: 2022-03-22_1530. Wm2Front: 889.99825. Wm2Back: 76.21313500000001\n",
      "Linescan in process: 1axis_2022-03-22_1630_Row3_Module1_Front\n",
      "Linescan in process: 1axis_2022-03-22_1630_Row3_Module1_Back\n",
      "Saved: results/irr_1axis_2022-03-22_1630_Row3_Module1.csv\n",
      "Index: 2022-03-22_1630. Wm2Front: 290.56568333333337. Wm2Back: 34.30546833333333\n",
      "Linescan in process: 1axis_2022-03-22_1730_Row3_Module1_Front\n",
      "Linescan in process: 1axis_2022-03-22_1730_Row3_Module1_Back\n",
      "Saved: results/irr_1axis_2022-03-22_1730_Row3_Module1.csv\n",
      "Index: 2022-03-22_1730. Wm2Front: 93.95906500000001. Wm2Back: 13.747416666666666\n"
     ]
    }
   ],
   "source": [
    "trackerdict = demo.analysis1axis(sensorsy=2, modWanted = 1) # South Module"
   ]
  },
  {
   "cell_type": "code",
   "execution_count": null,
   "id": "d08a61be",
   "metadata": {},
   "outputs": [],
   "source": [
    "demo.exportScenarioData(trackerdict, savefile = Path().resolve().parent.parent / 'Results' / 'A3-Mar-22-S.csv')"
   ]
  },
  {
   "cell_type": "code",
   "execution_count": 16,
   "id": "f26db05c",
   "metadata": {},
   "outputs": [
    {
     "name": "stdout",
     "output_type": "stream",
     "text": [
      "Linescan in process: 1axis_2022-03-22_0730_Row3_Module25_Front\n",
      "Linescan in process: 1axis_2022-03-22_0730_Row3_Module25_Back\n",
      "Saved: results/irr_1axis_2022-03-22_0730_Row3_Module25.csv\n",
      "Index: 2022-03-22_0730. Wm2Front: 47.929700000000004. Wm2Back: 14.958321666666665\n",
      "Linescan in process: 1axis_2022-03-22_0830_Row3_Module25_Front\n",
      "Linescan in process: 1axis_2022-03-22_0830_Row3_Module25_Back\n",
      "Saved: results/irr_1axis_2022-03-22_0830_Row3_Module25.csv\n",
      "Index: 2022-03-22_0830. Wm2Front: 149.25025. Wm2Back: 41.09414833333334\n",
      "Linescan in process: 1axis_2022-03-22_0930_Row3_Module25_Front\n",
      "Linescan in process: 1axis_2022-03-22_0930_Row3_Module25_Back\n",
      "Saved: results/irr_1axis_2022-03-22_0930_Row3_Module25.csv\n",
      "Index: 2022-03-22_0930. Wm2Front: 253.8906. Wm2Back: 49.84613666666667\n",
      "Linescan in process: 1axis_2022-03-22_1030_Row3_Module25_Front\n",
      "Linescan in process: 1axis_2022-03-22_1030_Row3_Module25_Back\n",
      "Saved: results/irr_1axis_2022-03-22_1030_Row3_Module25.csv\n",
      "Index: 2022-03-22_1030. Wm2Front: 512.7948833333334. Wm2Back: 70.30330833333332\n",
      "Linescan in process: 1axis_2022-03-22_1130_Row3_Module25_Front\n",
      "Linescan in process: 1axis_2022-03-22_1130_Row3_Module25_Back\n",
      "Saved: results/irr_1axis_2022-03-22_1130_Row3_Module25.csv\n",
      "Index: 2022-03-22_1130. Wm2Front: 285.91229999999996. Wm2Back: 43.2287\n",
      "Linescan in process: 1axis_2022-03-22_1230_Row3_Module25_Front\n",
      "Linescan in process: 1axis_2022-03-22_1230_Row3_Module25_Back\n",
      "Saved: results/irr_1axis_2022-03-22_1230_Row3_Module25.csv\n",
      "Index: 2022-03-22_1230. Wm2Front: 212.58383333333333. Wm2Back: 33.68291333333333\n",
      "Linescan in process: 1axis_2022-03-22_1330_Row3_Module25_Front\n",
      "Linescan in process: 1axis_2022-03-22_1330_Row3_Module25_Back\n",
      "Unexpected exception formatting exception. Falling back to standard exception\n"
     ]
    },
    {
     "name": "stderr",
     "output_type": "stream",
     "text": [
      "Traceback (most recent call last):\n",
      "  File \"/Users/storopov/anaconda3/lib/python3.11/site-packages/IPython/core/interactiveshell.py\", line 3526, in run_code\n",
      "    exec(code_obj, self.user_global_ns, self.user_ns)\n",
      "  File \"/var/folders/nl/yn7kzq_959v4881bh526ml9mpgtmyb/T/ipykernel_99268/984878894.py\", line 1, in <module>\n",
      "    trackerdict = demo.analysis1axis(sensorsy=2, modWanted = 25) # North Module\n",
      "                  ^^^^^^^^^^^^^^^^^^^^^^^^^^^^^^^^^^^^^^^^^^^^^^\n",
      "  File \"/Users/storopov/Documents/GitHub/bifacial_radiance/bifacial_radiance/main.py\", line 2884, in analysis1axis\n",
      "    analysis.analysis(octfile=octfile,name=name,frontscan=frontscanind,backscan=backscanind,accuracy=accuracy)\n",
      "  File \"/Users/storopov/Documents/GitHub/bifacial_radiance/bifacial_radiance/main.py\", line 5153, in analysis\n",
      "    backDict = self._irrPlot(octfile, linepts, name+'_Back',\n",
      "               ^^^^^^^^^^^^^^^^^^^^^^^^^^^^^^^^^^^^^^^^^^^^^\n",
      "  File \"/Users/storopov/Documents/GitHub/bifacial_radiance/bifacial_radiance/main.py\", line 4446, in _irrPlot\n",
      "    temp_out,err = _popen(cmd,linepts.encode())\n",
      "                   ^^^^^^^^^^^^^^^^^^^^^^^^^^^^\n",
      "  File \"/Users/storopov/Documents/GitHub/bifacial_radiance/bifacial_radiance/main.py\", line 103, in _popen\n",
      "    data, err = p.communicate(data_in)\n",
      "                ^^^^^^^^^^^^^^^^^^^^^^\n",
      "  File \"/Users/storopov/anaconda3/lib/python3.11/subprocess.py\", line 1209, in communicate\n",
      "    stdout, stderr = self._communicate(input, endtime, timeout)\n",
      "                     ^^^^^^^^^^^^^^^^^^^^^^^^^^^^^^^^^^^^^^^^^^\n",
      "  File \"/Users/storopov/anaconda3/lib/python3.11/subprocess.py\", line 2108, in _communicate\n",
      "    ready = selector.select(timeout)\n",
      "            ^^^^^^^^^^^^^^^^^^^^^^^^\n",
      "  File \"/Users/storopov/anaconda3/lib/python3.11/selectors.py\", line -1, in select\n",
      "KeyboardInterrupt\n",
      "\n",
      "During handling of the above exception, another exception occurred:\n",
      "\n",
      "Traceback (most recent call last):\n",
      "  File \"/Users/storopov/anaconda3/lib/python3.11/site-packages/IPython/core/interactiveshell.py\", line 2120, in showtraceback\n",
      "    stb = self.InteractiveTB.structured_traceback(\n",
      "          ^^^^^^^^^^^^^^^^^^^^^^^^^^^^^^^^^^^^^^^^\n",
      "  File \"/Users/storopov/anaconda3/lib/python3.11/site-packages/IPython/core/ultratb.py\", line 1435, in structured_traceback\n",
      "    return FormattedTB.structured_traceback(\n",
      "           ^^^^^^^^^^^^^^^^^^^^^^^^^^^^^^^^^\n",
      "  File \"/Users/storopov/anaconda3/lib/python3.11/site-packages/IPython/core/ultratb.py\", line 1326, in structured_traceback\n",
      "    return VerboseTB.structured_traceback(\n",
      "           ^^^^^^^^^^^^^^^^^^^^^^^^^^^^^^^\n",
      "  File \"/Users/storopov/anaconda3/lib/python3.11/site-packages/IPython/core/ultratb.py\", line 1173, in structured_traceback\n",
      "    formatted_exception = self.format_exception_as_a_whole(etype, evalue, etb, number_of_lines_of_context,\n",
      "                          ^^^^^^^^^^^^^^^^^^^^^^^^^^^^^^^^^^^^^^^^^^^^^^^^^^^^^^^^^^^^^^^^^^^^^^^^^^^^^^^^\n",
      "  File \"/Users/storopov/anaconda3/lib/python3.11/site-packages/IPython/core/ultratb.py\", line 1088, in format_exception_as_a_whole\n",
      "    frames.append(self.format_record(record))\n",
      "                  ^^^^^^^^^^^^^^^^^^^^^^^^^^\n",
      "  File \"/Users/storopov/anaconda3/lib/python3.11/site-packages/IPython/core/ultratb.py\", line 970, in format_record\n",
      "    frame_info.lines, Colors, self.has_colors, lvals\n",
      "    ^^^^^^^^^^^^^^^^\n",
      "  File \"/Users/storopov/anaconda3/lib/python3.11/site-packages/IPython/core/ultratb.py\", line 792, in lines\n",
      "    return self._sd.lines\n",
      "           ^^^^^^^^^^^^^^\n",
      "  File \"/Users/storopov/anaconda3/lib/python3.11/site-packages/stack_data/utils.py\", line 145, in cached_property_wrapper\n",
      "    value = obj.__dict__[self.func.__name__] = self.func(obj)\n",
      "                                               ^^^^^^^^^^^^^^\n",
      "  File \"/Users/storopov/anaconda3/lib/python3.11/site-packages/stack_data/core.py\", line 698, in lines\n",
      "    pieces = self.included_pieces\n",
      "             ^^^^^^^^^^^^^^^^^^^^\n",
      "  File \"/Users/storopov/anaconda3/lib/python3.11/site-packages/stack_data/utils.py\", line 145, in cached_property_wrapper\n",
      "    value = obj.__dict__[self.func.__name__] = self.func(obj)\n",
      "                                               ^^^^^^^^^^^^^^\n",
      "  File \"/Users/storopov/anaconda3/lib/python3.11/site-packages/stack_data/core.py\", line 649, in included_pieces\n",
      "    pos = scope_pieces.index(self.executing_piece)\n",
      "                             ^^^^^^^^^^^^^^^^^^^^\n",
      "  File \"/Users/storopov/anaconda3/lib/python3.11/site-packages/stack_data/utils.py\", line 145, in cached_property_wrapper\n",
      "    value = obj.__dict__[self.func.__name__] = self.func(obj)\n",
      "                                               ^^^^^^^^^^^^^^\n",
      "  File \"/Users/storopov/anaconda3/lib/python3.11/site-packages/stack_data/core.py\", line 628, in executing_piece\n",
      "    return only(\n",
      "           ^^^^^\n",
      "  File \"/Users/storopov/anaconda3/lib/python3.11/site-packages/executing/executing.py\", line 164, in only\n",
      "    raise NotOneValueFound('Expected one value, found 0')\n",
      "executing.executing.NotOneValueFound: Expected one value, found 0\n"
     ]
    }
   ],
   "source": [
    "trackerdict = demo.analysis1axis(sensorsy=2, modWanted = 25) # North Module"
   ]
  },
  {
   "cell_type": "code",
   "execution_count": null,
   "id": "32b1dae4",
   "metadata": {},
   "outputs": [],
   "source": [
    "demo.calculateResults()"
   ]
  },
  {
   "cell_type": "code",
   "execution_count": null,
   "id": "f7bab0b0",
   "metadata": {},
   "outputs": [],
   "source": [
    "demo.CompiledResults.set_index('timestamp', inplace=True)\n",
    "demo.CompiledResults\n",
    "# Grear_mean and Gfront_mean values to be recorded in the excel"
   ]
  },
  {
   "cell_type": "code",
   "execution_count": null,
   "id": "9c538741",
   "metadata": {},
   "outputs": [],
   "source": [
    "demo.exportScenarioData(trackerdict, savefile = Path().resolve().parent.parent / 'Results' / 'A3-Mar-22-N.csv')"
   ]
  }
 ],
 "metadata": {
  "kernelspec": {
   "display_name": "Python 3 (ipykernel)",
   "language": "python",
   "name": "python3"
  },
  "language_info": {
   "codemirror_mode": {
    "name": "ipython",
    "version": 3
   },
   "file_extension": ".py",
   "mimetype": "text/x-python",
   "name": "python",
   "nbconvert_exporter": "python",
   "pygments_lexer": "ipython3",
   "version": "3.11.5"
  }
 },
 "nbformat": 4,
 "nbformat_minor": 5
}
