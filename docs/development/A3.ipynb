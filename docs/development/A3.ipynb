{
 "cells": [
  {
   "cell_type": "markdown",
   "id": "6137b70f",
   "metadata": {},
   "source": [
    "# A3\n",
    "* GCR = 0.4\n",
    "* Albedo = 0.2\n",
    "* Hub Height = 3.5\n",
    "* Configuration = 1-Up portrait\n",
    "* Ground surface = Horizontal\n",
    "***\n",
    "* A GCR of 0.4 for the Trina Vertex module (length = 2.384m) corresponds to a rowto-row spacing or pitch of 5.96m\n",
    "* 1-up Portrait: 5 rows, each with 25 modules\n",
    "* Torque tube diameter = 15 cm. (round)\n",
    "* Maximum tracker rotation angle = 55 deg\n",
    "* Backtracking is enabled\n",
    "* Location: Albuquerque, New Mexico USA (35.05°, -106.54°)"
   ]
  },
  {
   "cell_type": "code",
   "execution_count": 1,
   "id": "760e9b21",
   "metadata": {},
   "outputs": [
    {
     "name": "stdout",
     "output_type": "stream",
     "text": [
      "Your simulation will be stored in Scenarios/A3\n"
     ]
    }
   ],
   "source": [
    "import os\n",
    "from pathlib import Path\n",
    "\n",
    "testfolder = 'Scenarios/A3'\n",
    "\n",
    "if not os.path.exists(testfolder):\n",
    "    os.makedirs(testfolder)\n",
    "    \n",
    "print (\"Your simulation will be stored in %s\" % testfolder)"
   ]
  },
  {
   "cell_type": "code",
   "execution_count": 2,
   "id": "aa782cd2",
   "metadata": {},
   "outputs": [],
   "source": [
    "import bifacial_radiance as br\n",
    "import bifacialvf as bf\n",
    "import numpy as np\n",
    "import pandas as pd\n",
    "import matplotlib.pyplot as plt\n",
    "import sys, platform\n",
    "import csv"
   ]
  },
  {
   "cell_type": "code",
   "execution_count": 3,
   "id": "2d3d89b5",
   "metadata": {},
   "outputs": [
    {
     "name": "stdout",
     "output_type": "stream",
     "text": [
      "Working on a  Darwin 23.3.0\n",
      "Python version  3.11.5 (main, Sep 11 2023, 08:19:27) [Clang 14.0.6 ]\n",
      "Pandas version  2.0.3\n",
      "bifacial_radiance version  0.4.2+237.g204310a.dirty\n",
      "pyplot  3.7.2\n",
      "bifacialvf version  0.1.8.1\n"
     ]
    }
   ],
   "source": [
    "print(\"Working on a \", platform.system(), platform.release())\n",
    "print(\"Python version \", sys.version)\n",
    "print(\"Pandas version \", pd.__version__)\n",
    "print(\"bifacial_radiance version \", br.__version__)\n",
    "print(\"pyplot \", plt.matplotlib.__version__)\n",
    "print(\"bifacialvf version \", bf.__version__)"
   ]
  },
  {
   "cell_type": "code",
   "execution_count": 4,
   "id": "8a48f304",
   "metadata": {},
   "outputs": [],
   "source": [
    "simulationname = 'A3'\n",
    "\n",
    "# Location Albuquerque, New Mexico, USA\n",
    "lat = 35.05\n",
    "lon = -106.54\n",
    "\n",
    "# Scene Parameters\n",
    "azimuth=90\n",
    "tilt=30\n",
    "\n",
    "# MakeModule Parameters\n",
    "moduletype='PVmod'\n",
    "numpanels=1\n",
    "module_x = 1 # m\n",
    "module_y = 2 # m. slope we will measure\n",
    "sensorsy=2\n",
    "torquetube = 0.15\n",
    "\n",
    "# SceneDict Parameters\n",
    "pitch = 5.96 # m\n",
    "albedo = 0.2\n",
    "hub_height = 3.5 # m  \n",
    "nMods = 25 \n",
    "nRows = 5\n",
    "\n",
    "sceneDict = {'tilt':tilt,'pitch':pitch,'albedo': albedo,'hub_height':hub_height,'azimuth':azimuth, 'nMods': nMods, 'nRows': nRows} "
   ]
  },
  {
   "cell_type": "code",
   "execution_count": 5,
   "id": "eb5df558",
   "metadata": {
    "scrolled": true
   },
   "outputs": [
    {
     "name": "stdout",
     "output_type": "stream",
     "text": [
      "path = Scenarios/A3\n",
      "Loading albedo, 1 value(s), 0.200 avg\n",
      "1 nonzero albedo values.\n"
     ]
    }
   ],
   "source": [
    "demo = br.RadianceObj(simulationname,path = testfolder)\n",
    "demo.setGround(albedo)"
   ]
  },
  {
   "cell_type": "code",
   "execution_count": 6,
   "id": "e1e7d382",
   "metadata": {},
   "outputs": [
    {
     "name": "stdout",
     "output_type": "stream",
     "text": [
      "\n",
      "Module Name: PVmod\n",
      "Module PVmod updated in module.json\n",
      "Pre-existing .rad file objects/PVmod.rad will be overwritten\n",
      "\n"
     ]
    }
   ],
   "source": [
    "module=demo.makeModule(name=moduletype,x=module_x,y=module_y)"
   ]
  },
  {
   "cell_type": "code",
   "execution_count": 7,
   "id": "4b7e271b",
   "metadata": {},
   "outputs": [],
   "source": [
    "cumulativesky = False\n",
    "trackerParams = {\n",
    "    'limit_angle': 55,\n",
    "    'backtrack': True,\n",
    "    'gcr': 0.4,\n",
    "    'azimuth': 180,  # axis angle, N-S = 180\n",
    "    'cumulativesky': cumulativesky\n",
    "}"
   ]
  },
  {
   "cell_type": "code",
   "execution_count": 8,
   "id": "966c7daf",
   "metadata": {
    "scrolled": true
   },
   "outputs": [
    {
     "name": "stdout",
     "output_type": "stream",
     "text": [
      "COLUMN DATAS Index(['Year', 'Month', 'Day', 'Hour', 'Minute', 'GHI', 'DNI', 'DHI',\n",
      "       'temp_air', 'wind_speed', 'humidity', 'Unnamed: 11', 'Unnamed: 12',\n",
      "       'Unnamed: 13', 'Unnamed: 14', 'Unnamed: 15', 'Unnamed: 16',\n",
      "       'Unnamed: 17'],\n",
      "      dtype='object')\n",
      "8760 line in WeatherFile. Assuming this is a standard hourly WeatherFile for the year for purposes of saving Gencumulativesky temporary weather files in EPW folder.\n",
      "Coercing year to 2022\n",
      "Filtering dates\n",
      "Saving file EPWs/metdata_temp.csv, # points: 8760\n",
      "Calculating Sun position for Metdata that is left-labeled  with a delta of +30 mins. i.e. 12 is 12:30 sunpos.\n"
     ]
    }
   ],
   "source": [
    "file = 'Phase2_meteo_hourly_psm3format.csv'\n",
    "directory = os.path.expanduser('~/Documents/IEA-Bifacial-Tracking-Modeling')\n",
    "weatherfile = os.path.join(directory, file)\n",
    "\n",
    "metdata = demo.readWeatherFile(weatherfile, source='sam', starttime='2022-01-01_1000', endtime='2022-01-01_1200')"
   ]
  },
  {
   "cell_type": "code",
   "execution_count": 9,
   "id": "556da4dc",
   "metadata": {},
   "outputs": [],
   "source": [
    "trackerdict = demo.set1axis(**trackerParams)"
   ]
  },
  {
   "cell_type": "code",
   "execution_count": 10,
   "id": "e814024e",
   "metadata": {},
   "outputs": [
    {
     "name": "stdout",
     "output_type": "stream",
     "text": [
      "Creating ~2 skyfiles. \n",
      "Created 2 skyfiles in /skies/\n"
     ]
    }
   ],
   "source": [
    "if cumulativesky:\n",
    "    demo.genCumSky1axis()\n",
    "else:\n",
    "    demo.gendaylit1axis()"
   ]
  },
  {
   "cell_type": "code",
   "execution_count": 11,
   "id": "6023d245",
   "metadata": {},
   "outputs": [
    {
     "name": "stdout",
     "output_type": "stream",
     "text": [
      "\n",
      "Making ~2 .rad files for gendaylit 1-axis workflow (this takes a minute..)\n",
      "2 Radfiles created in /objects/\n",
      "\n",
      "Making 2 octfiles in root directory.\n",
      "Created 1axis_2022-01-01_1030.oct\n",
      "Created 1axis_2022-01-01_1130.oct\n"
     ]
    }
   ],
   "source": [
    "trackerdict = demo.makeScene1axis(module=moduletype, sceneDict=sceneDict)\n",
    "trackerdict = demo.makeOct1axis()"
   ]
  },
  {
   "cell_type": "code",
   "execution_count": 12,
   "id": "29d1f8d6",
   "metadata": {},
   "outputs": [
    {
     "name": "stdout",
     "output_type": "stream",
     "text": [
      "Linescan in process: 1axis_2022-01-01_1030_Row3_Module13_Front\n",
      "Linescan in process: 1axis_2022-01-01_1030_Row3_Module13_Back\n",
      "Saved: results/irr_1axis_2022-01-01_1030_Row3_Module13.csv\n",
      "Index: 2022-01-01_1030. Wm2Front: 101.58905. Wm2Back: 18.268410000000003\n",
      "Linescan in process: 1axis_2022-01-01_1130_Row3_Module13_Front\n",
      "Linescan in process: 1axis_2022-01-01_1130_Row3_Module13_Back\n",
      "Saved: results/irr_1axis_2022-01-01_1130_Row3_Module13.csv\n",
      "Index: 2022-01-01_1130. Wm2Front: 262.3367. Wm2Back: 36.81952\n"
     ]
    }
   ],
   "source": [
    "trakerdict = demo.analysis1axis(sensorsy=2)"
   ]
  },
  {
   "cell_type": "code",
   "execution_count": 13,
   "id": "c3354a51",
   "metadata": {},
   "outputs": [
    {
     "data": {
      "text/plain": [
       "{'2022-01-01_1030': {'surf_azm': 90.0,\n",
       "  'surf_tilt': 29.16,\n",
       "  'theta': -29.16,\n",
       "  'dni': 5,\n",
       "  'ghi': 112,\n",
       "  'dhi': 108,\n",
       "  'temp_air': 3.9,\n",
       "  'wind_speed': 4.7,\n",
       "  'skyfile': 'skies/sky2_35.05_-106.54_2022-01-01_1030.rad',\n",
       "  'radfile': 'objects/1axis2022-01-01_1030__C_3.01275_rtr_5.96000_tilt_29.16000_25modsx5rows_origin0,0.rad',\n",
       "  'scene': {'module': {'x': 1, 'y': 2, 'z': 0.02, 'modulematerial': 'black', 'scenex': 1.01, 'sceney': 2.0, 'scenez': 0.1, 'numpanels': 1, 'bifi': 1, 'text': '! genbox black PVmod 1 2 0.02 | xform -t -0.5 -1.0 0 -a 1 -t 0 2.0 0', 'modulefile': 'objects/PVmod.rad', 'glass': False, 'offsetfromaxis': 0, 'xgap': 0.01, 'ygap': 0.0, 'zgap': 0.1}, 'modulefile': 'objects/PVmod.rad', 'hpc': False, 'name': 'Scene0', 'gcr': 0.33557046979865773, 'text': '!xform -rx 29.16 -t 0 0 3.5 -a 25 -t 1.01 0 0 -a 5 -t 0 5.96 0 -i 1 -t -12.120000000000001 -11.92 0 -rz 90.0 -t 0 0 0 objects/PVmod.rad', 'radfiles': 'objects/1axis2022-01-01_1030__C_3.01275_rtr_5.96000_tilt_29.16000_25modsx5rows_origin0,0.rad', 'sceneDict': {'tilt': 29.16, 'pitch': 5.96, 'clearance_height': 3.0127498742746677, 'azimuth': 90.0, 'nMods': 25, 'nRows': 5, 'modulez': 0.02, 'axis_tilt': 0, 'originx': 0, 'originy': 0}},\n",
       "  'octfile': '1axis_2022-01-01_1030.oct',\n",
       "  'Results': [{'rowWanted': 3,\n",
       "    'modWanted': 13,\n",
       "    'AnalysisObj': {'octfile': '1axis_2022-01-01_1030.oct', 'name': '1axis_2022-01-01_1030', 'hpc': False, 'modWanted': 13, 'rowWanted': 3, 'x': [0.3013197, -0.2808552], 'y': [1.845051e-17, -1.719742e-17], 'z': [3.355922, 3.680755], 'rearZ': [3.33671, 3.661543], 'mattype': ['a12.2.a0.PVmod.6457', 'a12.2.a0.PVmod.6457'], 'rearMat': ['a12.2.a0.PVmod.2310', 'a12.2.a0.PVmod.2310'], 'Wm2Front': [100.9602, 102.2179], 'Wm2Back': [18.17048, 18.36634], 'Back/FrontRatio': [0.17997488143960255, 0.17967655687940293], 'backRatio': [0.17997488143960255, 0.17967655687940293], 'rearX': [0.2906002, -0.2915747], 'rearY': [1.779413e-17, -1.78538e-17]},\n",
       "    'Wm2Front': [100.9602, 102.2179],\n",
       "    'Wm2Back': [18.17048, 18.36634],\n",
       "    'backRatio': [0.17997488143960255, 0.17967655687940293]}]},\n",
       " '2022-01-01_1130': {'surf_azm': 90.0,\n",
       "  'surf_tilt': 4.27,\n",
       "  'theta': -4.27,\n",
       "  'dni': 60,\n",
       "  'ghi': 265,\n",
       "  'dhi': 232,\n",
       "  'temp_air': 3.3,\n",
       "  'wind_speed': 5.5,\n",
       "  'skyfile': 'skies/sky2_35.05_-106.54_2022-01-01_1130.rad',\n",
       "  'radfile': 'objects/1axis2022-01-01_1130__C_3.42554_rtr_5.96000_tilt_4.27000_25modsx5rows_origin0,0.rad',\n",
       "  'scene': {'module': {'x': 1, 'y': 2, 'z': 0.02, 'modulematerial': 'black', 'scenex': 1.01, 'sceney': 2.0, 'scenez': 0.1, 'numpanels': 1, 'bifi': 1, 'text': '! genbox black PVmod 1 2 0.02 | xform -t -0.5 -1.0 0 -a 1 -t 0 2.0 0', 'modulefile': 'objects/PVmod.rad', 'glass': False, 'offsetfromaxis': 0, 'xgap': 0.01, 'ygap': 0.0, 'zgap': 0.1}, 'modulefile': 'objects/PVmod.rad', 'hpc': False, 'name': 'Scene0', 'gcr': 0.33557046979865773, 'text': '!xform -rx 4.27 -t 0 0 3.5 -a 25 -t 1.01 0 0 -a 5 -t 0 5.96 0 -i 1 -t -12.120000000000001 -11.92 0 -rz 90.0 -t 0 0 0 objects/PVmod.rad', 'radfiles': 'objects/1axis2022-01-01_1130__C_3.42554_rtr_5.96000_tilt_4.27000_25modsx5rows_origin0,0.rad', 'sceneDict': {'tilt': 4.27, 'pitch': 5.96, 'clearance_height': 3.4255434083426954, 'azimuth': 90.0, 'nMods': 25, 'nRows': 5, 'modulez': 0.02, 'axis_tilt': 0, 'originx': 0, 'originy': 0}},\n",
       "  'octfile': '1axis_2022-01-01_1130.oct',\n",
       "  'Results': [{'rowWanted': 3,\n",
       "    'modWanted': 13,\n",
       "    'AnalysisObj': {'octfile': '1axis_2022-01-01_1130.oct', 'name': '1axis_2022-01-01_1130', 'hpc': False, 'modWanted': 13, 'rowWanted': 3, 'x': [0.3339717, -0.3308445], 'y': [2.044987e-17, -2.025838e-17], 'z': [3.496123, 3.545761], 'rearZ': [3.474184, 3.523822], 'mattype': ['a12.2.a0.PVmod.6457', 'a12.2.a0.PVmod.6457'], 'rearMat': ['a12.2.a0.PVmod.2310', 'a12.2.a0.PVmod.2310'], 'Wm2Front': [262.3444, 262.329], 'Wm2Back': [36.83233, 36.80671], 'Back/FrontRatio': [0.14039632484503253, 0.1403069035184691], 'backRatio': [0.14039632484503253, 0.1403069035184691], 'rearX': [0.3323336, -0.3324825], 'rearY': [2.034957e-17, -2.035868e-17]},\n",
       "    'Wm2Front': [262.3444, 262.329],\n",
       "    'Wm2Back': [36.83233, 36.80671],\n",
       "    'backRatio': [0.14039632484503253, 0.1403069035184691]}]}}"
      ]
     },
     "execution_count": 13,
     "metadata": {},
     "output_type": "execute_result"
    }
   ],
   "source": [
    "trakerdict"
   ]
  },
  {
   "cell_type": "code",
   "execution_count": 14,
   "id": "3fe20635",
   "metadata": {},
   "outputs": [
    {
     "data": {
      "text/plain": [
       "{'metdata': {'latitude': 35.05, 'longitude': -106.54, 'elevation': 1600.0, 'timezone': -7.0, 'city': 'Albuquerque', 'datetime': [Timestamp('2022-01-01 10:30:00-0700', tz='Etc/GMT+7'), Timestamp('2022-01-01 11:30:00-0700', tz='Etc/GMT+7')], 'ghi': array([112, 265]), 'dhi': array([108, 232]), 'dni': array([ 5, 60]), 'albedo': None, 'dewpoint': None, 'pressure': None, 'temp_air': array([3.9, 3.3]), 'wind_speed': array([4.7, 5.5]), 'meastracker_angle': None, 'solpos':                            apparent_zenith     zenith  apparent_elevation  \\\n",
       "corrected_timestamp                                                         \n",
       "2022-01-01 11:00:00-07:00        60.301624  60.325832           29.698376   \n",
       "2022-01-01 12:00:00-07:00        58.030863  58.053009           31.969137   \n",
       "\n",
       "                           elevation     azimuth  equation_of_time  \n",
       "corrected_timestamp                                                 \n",
       "2022-01-01 11:00:00-07:00  29.674168  161.465455         -3.652581  \n",
       "2022-01-01 12:00:00-07:00  31.946991  177.331461         -3.672198  , 'sunrisesetdata':                                                       sunrise  \\\n",
       "2022-01-01 10:30:00-07:00 2022-01-01 07:14:19.189582336-07:00   \n",
       "2022-01-01 11:30:00-07:00 2022-01-01 07:14:19.189582336-07:00   \n",
       "\n",
       "                                                       sunset  \\\n",
       "2022-01-01 10:30:00-07:00 2022-01-01 17:04:43.101813248-07:00   \n",
       "2022-01-01 11:30:00-07:00 2022-01-01 17:04:43.101813248-07:00   \n",
       "\n",
       "                                                      transit  minutedelta  \\\n",
       "2022-01-01 10:30:00-07:00 2022-01-01 12:09:50.325132032-07:00           30   \n",
       "2022-01-01 11:30:00-07:00 2022-01-01 12:09:50.325132032-07:00           30   \n",
       "\n",
       "                                corrected_timestamp  \n",
       "2022-01-01 10:30:00-07:00 2022-01-01 11:00:00-07:00  \n",
       "2022-01-01 11:30:00-07:00 2022-01-01 12:00:00-07:00  , 'label': 'left', 'columns': ['albedo', 'city', 'datetime', 'dewpoint', 'dhi', 'dni', 'elevation', 'ghi', 'label', 'latitude', 'longitude', 'meastracker_angle', 'pressure', 'solpos', 'sunrisesetdata', 'temp_air', 'timezone', 'wind_speed'], 'cumulativesky': False, 'tracker_theta': [-29.16, -4.27], 'surface_tilt': [29.16, 4.27], 'surface_azimuth': [90.0, 90.0]}, 'data': {}, 'path': '/Users/storopov/Documents/IEA-Bifacial-Tracking-Modeling/Scenarios/A3', 'name': '2022-01-01_1130', 'materialfiles': ['materials/ground.rad'], 'skyfiles': ['skies/sky2_35.05_-106.54_2022-01-01_1130.rad'], 'radfiles': [], 'octfile': '1axis_2022-01-01_1130.oct', 'Wm2Front': 0, 'Wm2Back': 0, 'backRatio': 0, 'hpc': False, 'CompiledResults': None, 'nowstr': '2024-02-21_23411', 'basename': 'A3', 'columns': ['CompiledResults', 'Wm2Back', 'Wm2Front', 'backRatio', 'basename', 'data', 'hpc', 'materialfiles', 'metdata', 'name', 'nowstr', 'octfile', 'path', 'radfiles', 'skyfiles'], 'methods': ['NSRDBWeatherData', 'addMaterial', 'addPiles', 'analysis1axis', 'appendtoScene', 'calculateResults', 'exportTrackerDict', 'genCumSky', 'genCumSky1axis', 'gendaylit', 'gendaylit1axis', 'gendaylit2manual', 'generate_spectra', 'generate_spectral_tmys', 'getEPW', 'getSingleTimestampTrackerAngle', 'getfilelist', 'loadtrackerdict', 'makeCustomObject', 'makeModule', 'makeOct', 'makeOct1axis', 'makeScene', 'makeScene1axis', 'printModules', 'readSAM', 'readWeatherFile', 'returnMaterialFiles', 'returnOctFiles', 'save', 'set1axis', 'setGround'], 'ground': {'normval': array([0.20068]), 'ReflAvg': array([0.2]), 'Rrefl': array([0.2]), 'Grefl': array([0.2]), 'Brefl': array([0.2]), 'ground_type': 'custom', 'material_file': 'ground.rad', 'columns': ['Brefl', 'Grefl', 'ReflAvg', 'Rrefl', 'ground_type', 'material_file', 'normval'], 'methods': ['printGroundMaterials']}, 'module': {'x': 1, 'y': 2, 'z': 0.02, 'modulematerial': 'black', 'scenex': 1.01, 'sceney': 2.0, 'scenez': 0.1, 'numpanels': 1, 'bifi': 1, 'text': '! genbox black PVmod 1 2 0.02 | xform -t -0.5 -1.0 0 -a 1 -t 0 2.0 0', 'modulefile': 'objects/PVmod.rad', 'glass': False, 'offsetfromaxis': 0, 'xgap': 0.01, 'ygap': 0.0, 'zgap': 0.1}, 'gencumsky_metfile': 'EPWs/metdata_temp.csv', 'trackerdict': {'2022-01-01_1030': {'surf_azm': 90.0, 'surf_tilt': 29.16, 'theta': -29.16, 'dni': 5, 'ghi': 112, 'dhi': 108, 'temp_air': 3.9, 'wind_speed': 4.7, 'skyfile': 'skies/sky2_35.05_-106.54_2022-01-01_1030.rad', 'radfile': 'objects/1axis2022-01-01_1030__C_3.01275_rtr_5.96000_tilt_29.16000_25modsx5rows_origin0,0.rad', 'scene': {'module': {'x': 1, 'y': 2, 'z': 0.02, 'modulematerial': 'black', 'scenex': 1.01, 'sceney': 2.0, 'scenez': 0.1, 'numpanels': 1, 'bifi': 1, 'text': '! genbox black PVmod 1 2 0.02 | xform -t -0.5 -1.0 0 -a 1 -t 0 2.0 0', 'modulefile': 'objects/PVmod.rad', 'glass': False, 'offsetfromaxis': 0, 'xgap': 0.01, 'ygap': 0.0, 'zgap': 0.1}, 'modulefile': 'objects/PVmod.rad', 'hpc': False, 'name': 'Scene0', 'gcr': 0.33557046979865773, 'text': '!xform -rx 29.16 -t 0 0 3.5 -a 25 -t 1.01 0 0 -a 5 -t 0 5.96 0 -i 1 -t -12.120000000000001 -11.92 0 -rz 90.0 -t 0 0 0 objects/PVmod.rad', 'radfiles': 'objects/1axis2022-01-01_1030__C_3.01275_rtr_5.96000_tilt_29.16000_25modsx5rows_origin0,0.rad', 'sceneDict': {'tilt': 29.16, 'pitch': 5.96, 'clearance_height': 3.0127498742746677, 'azimuth': 90.0, 'nMods': 25, 'nRows': 5, 'modulez': 0.02, 'axis_tilt': 0, 'originx': 0, 'originy': 0}}, 'octfile': '1axis_2022-01-01_1030.oct', 'Results': [{'rowWanted': 3, 'modWanted': 13, 'AnalysisObj': {'octfile': '1axis_2022-01-01_1030.oct', 'name': '1axis_2022-01-01_1030', 'hpc': False, 'modWanted': 13, 'rowWanted': 3, 'x': [0.3013197, -0.2808552], 'y': [1.845051e-17, -1.719742e-17], 'z': [3.355922, 3.680755], 'rearZ': [3.33671, 3.661543], 'mattype': ['a12.2.a0.PVmod.6457', 'a12.2.a0.PVmod.6457'], 'rearMat': ['a12.2.a0.PVmod.2310', 'a12.2.a0.PVmod.2310'], 'Wm2Front': [100.9602, 102.2179], 'Wm2Back': [18.17048, 18.36634], 'Back/FrontRatio': [0.17997488143960255, 0.17967655687940293], 'backRatio': [0.17997488143960255, 0.17967655687940293], 'rearX': [0.2906002, -0.2915747], 'rearY': [1.779413e-17, -1.78538e-17]}, 'Wm2Front': [100.9602, 102.2179], 'Wm2Back': [18.17048, 18.36634], 'backRatio': [0.17997488143960255, 0.17967655687940293]}]}, '2022-01-01_1130': {'surf_azm': 90.0, 'surf_tilt': 4.27, 'theta': -4.27, 'dni': 60, 'ghi': 265, 'dhi': 232, 'temp_air': 3.3, 'wind_speed': 5.5, 'skyfile': 'skies/sky2_35.05_-106.54_2022-01-01_1130.rad', 'radfile': 'objects/1axis2022-01-01_1130__C_3.42554_rtr_5.96000_tilt_4.27000_25modsx5rows_origin0,0.rad', 'scene': {'module': {'x': 1, 'y': 2, 'z': 0.02, 'modulematerial': 'black', 'scenex': 1.01, 'sceney': 2.0, 'scenez': 0.1, 'numpanels': 1, 'bifi': 1, 'text': '! genbox black PVmod 1 2 0.02 | xform -t -0.5 -1.0 0 -a 1 -t 0 2.0 0', 'modulefile': 'objects/PVmod.rad', 'glass': False, 'offsetfromaxis': 0, 'xgap': 0.01, 'ygap': 0.0, 'zgap': 0.1}, 'modulefile': 'objects/PVmod.rad', 'hpc': False, 'name': 'Scene0', 'gcr': 0.33557046979865773, 'text': '!xform -rx 4.27 -t 0 0 3.5 -a 25 -t 1.01 0 0 -a 5 -t 0 5.96 0 -i 1 -t -12.120000000000001 -11.92 0 -rz 90.0 -t 0 0 0 objects/PVmod.rad', 'radfiles': 'objects/1axis2022-01-01_1130__C_3.42554_rtr_5.96000_tilt_4.27000_25modsx5rows_origin0,0.rad', 'sceneDict': {'tilt': 4.27, 'pitch': 5.96, 'clearance_height': 3.4255434083426954, 'azimuth': 90.0, 'nMods': 25, 'nRows': 5, 'modulez': 0.02, 'axis_tilt': 0, 'originx': 0, 'originy': 0}}, 'octfile': '1axis_2022-01-01_1130.oct', 'Results': [{'rowWanted': 3, 'modWanted': 13, 'AnalysisObj': {'octfile': '1axis_2022-01-01_1130.oct', 'name': '1axis_2022-01-01_1130', 'hpc': False, 'modWanted': 13, 'rowWanted': 3, 'x': [0.3339717, -0.3308445], 'y': [2.044987e-17, -2.025838e-17], 'z': [3.496123, 3.545761], 'rearZ': [3.474184, 3.523822], 'mattype': ['a12.2.a0.PVmod.6457', 'a12.2.a0.PVmod.6457'], 'rearMat': ['a12.2.a0.PVmod.2310', 'a12.2.a0.PVmod.2310'], 'Wm2Front': [262.3444, 262.329], 'Wm2Back': [36.83233, 36.80671], 'Back/FrontRatio': [0.14039632484503253, 0.1403069035184691], 'backRatio': [0.14039632484503253, 0.1403069035184691], 'rearX': [0.3323336, -0.3324825], 'rearY': [2.034957e-17, -2.035868e-17]}, 'Wm2Front': [262.3444, 262.329], 'Wm2Back': [36.83233, 36.80671], 'backRatio': [0.14039632484503253, 0.1403069035184691]}]}}, 'cumulativesky': False, 'hub_height': 3.5}"
      ]
     },
     "execution_count": 14,
     "metadata": {},
     "output_type": "execute_result"
    }
   ],
   "source": [
    "demo"
   ]
  },
  {
   "cell_type": "code",
   "execution_count": 15,
   "id": "32b1dae4",
   "metadata": {},
   "outputs": [
    {
     "name": "stdout",
     "output_type": "stream",
     "text": [
      "Bifaciality factor of module stored is  1\n",
      "No CECModule data passed; using default for Prism Solar BHC72-400\n"
     ]
    },
    {
     "name": "stderr",
     "output_type": "stream",
     "text": [
      "/Users/storopov/Documents/GitHub/bifacial_radiance/bifacial_radiance/performance.py:64: FutureWarning: Calling float on a single element Series is deprecated and will raise a TypeError in the future. Use float(ser.iloc[0]) instead\n",
      "  alpha_sc=float(CECMod.alpha_sc),\n",
      "/Users/storopov/Documents/GitHub/bifacial_radiance/bifacial_radiance/performance.py:65: FutureWarning: Calling float on a single element Series is deprecated and will raise a TypeError in the future. Use float(ser.iloc[0]) instead\n",
      "  a_ref=float(CECMod.a_ref),\n",
      "/Users/storopov/Documents/GitHub/bifacial_radiance/bifacial_radiance/performance.py:66: FutureWarning: Calling float on a single element Series is deprecated and will raise a TypeError in the future. Use float(ser.iloc[0]) instead\n",
      "  I_L_ref=float(CECMod.I_L_ref),\n",
      "/Users/storopov/Documents/GitHub/bifacial_radiance/bifacial_radiance/performance.py:67: FutureWarning: Calling float on a single element Series is deprecated and will raise a TypeError in the future. Use float(ser.iloc[0]) instead\n",
      "  I_o_ref=float(CECMod.I_o_ref),\n",
      "/Users/storopov/Documents/GitHub/bifacial_radiance/bifacial_radiance/performance.py:68: FutureWarning: Calling float on a single element Series is deprecated and will raise a TypeError in the future. Use float(ser.iloc[0]) instead\n",
      "  R_sh_ref=float(CECMod.R_sh_ref),\n",
      "/Users/storopov/Documents/GitHub/bifacial_radiance/bifacial_radiance/performance.py:69: FutureWarning: Calling float on a single element Series is deprecated and will raise a TypeError in the future. Use float(ser.iloc[0]) instead\n",
      "  R_s=float(CECMod.R_s),\n",
      "/Users/storopov/Documents/GitHub/bifacial_radiance/bifacial_radiance/performance.py:70: FutureWarning: Calling float on a single element Series is deprecated and will raise a TypeError in the future. Use float(ser.iloc[0]) instead\n",
      "  Adjust=float(CECMod.Adjust)\n",
      "/Users/storopov/Documents/GitHub/bifacial_radiance/bifacial_radiance/performance.py:64: FutureWarning: Calling float on a single element Series is deprecated and will raise a TypeError in the future. Use float(ser.iloc[0]) instead\n",
      "  alpha_sc=float(CECMod.alpha_sc),\n",
      "/Users/storopov/Documents/GitHub/bifacial_radiance/bifacial_radiance/performance.py:65: FutureWarning: Calling float on a single element Series is deprecated and will raise a TypeError in the future. Use float(ser.iloc[0]) instead\n",
      "  a_ref=float(CECMod.a_ref),\n",
      "/Users/storopov/Documents/GitHub/bifacial_radiance/bifacial_radiance/performance.py:66: FutureWarning: Calling float on a single element Series is deprecated and will raise a TypeError in the future. Use float(ser.iloc[0]) instead\n",
      "  I_L_ref=float(CECMod.I_L_ref),\n",
      "/Users/storopov/Documents/GitHub/bifacial_radiance/bifacial_radiance/performance.py:67: FutureWarning: Calling float on a single element Series is deprecated and will raise a TypeError in the future. Use float(ser.iloc[0]) instead\n",
      "  I_o_ref=float(CECMod.I_o_ref),\n",
      "/Users/storopov/Documents/GitHub/bifacial_radiance/bifacial_radiance/performance.py:68: FutureWarning: Calling float on a single element Series is deprecated and will raise a TypeError in the future. Use float(ser.iloc[0]) instead\n",
      "  R_sh_ref=float(CECMod.R_sh_ref),\n",
      "/Users/storopov/Documents/GitHub/bifacial_radiance/bifacial_radiance/performance.py:69: FutureWarning: Calling float on a single element Series is deprecated and will raise a TypeError in the future. Use float(ser.iloc[0]) instead\n",
      "  R_s=float(CECMod.R_s),\n",
      "/Users/storopov/Documents/GitHub/bifacial_radiance/bifacial_radiance/performance.py:70: FutureWarning: Calling float on a single element Series is deprecated and will raise a TypeError in the future. Use float(ser.iloc[0]) instead\n",
      "  Adjust=float(CECMod.Adjust)\n"
     ]
    },
    {
     "data": {
      "text/plain": [
       "{'2022-01-01_1030': {'surf_azm': 90.0,\n",
       "  'surf_tilt': 29.16,\n",
       "  'theta': -29.16,\n",
       "  'dni': 5,\n",
       "  'ghi': 112,\n",
       "  'dhi': 108,\n",
       "  'temp_air': 3.9,\n",
       "  'wind_speed': 4.7,\n",
       "  'skyfile': 'skies/sky2_35.05_-106.54_2022-01-01_1030.rad',\n",
       "  'radfile': 'objects/1axis2022-01-01_1030__C_3.01275_rtr_5.96000_tilt_29.16000_25modsx5rows_origin0,0.rad',\n",
       "  'scene': {'module': {'x': 1, 'y': 2, 'z': 0.02, 'modulematerial': 'black', 'scenex': 1.01, 'sceney': 2.0, 'scenez': 0.1, 'numpanels': 1, 'bifi': 1, 'text': '! genbox black PVmod 1 2 0.02 | xform -t -0.5 -1.0 0 -a 1 -t 0 2.0 0', 'modulefile': 'objects/PVmod.rad', 'glass': False, 'offsetfromaxis': 0, 'xgap': 0.01, 'ygap': 0.0, 'zgap': 0.1}, 'modulefile': 'objects/PVmod.rad', 'hpc': False, 'name': 'Scene0', 'gcr': 0.33557046979865773, 'text': '!xform -rx 29.16 -t 0 0 3.5 -a 25 -t 1.01 0 0 -a 5 -t 0 5.96 0 -i 1 -t -12.120000000000001 -11.92 0 -rz 90.0 -t 0 0 0 objects/PVmod.rad', 'radfiles': 'objects/1axis2022-01-01_1030__C_3.01275_rtr_5.96000_tilt_29.16000_25modsx5rows_origin0,0.rad', 'sceneDict': {'tilt': 29.16, 'pitch': 5.96, 'clearance_height': 3.0127498742746677, 'azimuth': 90.0, 'nMods': 25, 'nRows': 5, 'modulez': 0.02, 'axis_tilt': 0, 'originx': 0, 'originy': 0}},\n",
       "  'octfile': '1axis_2022-01-01_1030.oct',\n",
       "  'Results': [{'rowWanted': 3,\n",
       "    'modWanted': 13,\n",
       "    'AnalysisObj': {'octfile': '1axis_2022-01-01_1030.oct', 'name': '1axis_2022-01-01_1030', 'hpc': False, 'modWanted': 13, 'rowWanted': 3, 'x': [0.3013197, -0.2808552], 'y': [1.845051e-17, -1.719742e-17], 'z': [3.355922, 3.680755], 'rearZ': [3.33671, 3.661543], 'mattype': ['a12.2.a0.PVmod.6457', 'a12.2.a0.PVmod.6457'], 'rearMat': ['a12.2.a0.PVmod.2310', 'a12.2.a0.PVmod.2310'], 'Wm2Front': [100.9602, 102.2179], 'Wm2Back': [18.17048, 18.36634], 'Back/FrontRatio': [0.17997488143960255, 0.17967655687940293], 'backRatio': [0.17997488143960255, 0.17967655687940293], 'rearX': [0.2906002, -0.2915747], 'rearY': [1.779413e-17, -1.78538e-17]},\n",
       "    'Wm2Front': [100.9602, 102.2179],\n",
       "    'Wm2Back': [18.17048, 18.36634],\n",
       "    'backRatio': [0.17997488143960255, 0.17967655687940293]}],\n",
       "  'POA_eff': 119.85746,\n",
       "  'Gfront_mean': 101.58905,\n",
       "  'Grear_mean': 18.268410000000003,\n",
       "  'Pout_raw': 49.833082909641725,\n",
       "  'Pout_Gfront': 42.07455471782296,\n",
       "  'Mismatch': 4.416630352192942e-05,\n",
       "  'Pout': 49.83306090021107},\n",
       " '2022-01-01_1130': {'surf_azm': 90.0,\n",
       "  'surf_tilt': 4.27,\n",
       "  'theta': -4.27,\n",
       "  'dni': 60,\n",
       "  'ghi': 265,\n",
       "  'dhi': 232,\n",
       "  'temp_air': 3.3,\n",
       "  'wind_speed': 5.5,\n",
       "  'skyfile': 'skies/sky2_35.05_-106.54_2022-01-01_1130.rad',\n",
       "  'radfile': 'objects/1axis2022-01-01_1130__C_3.42554_rtr_5.96000_tilt_4.27000_25modsx5rows_origin0,0.rad',\n",
       "  'scene': {'module': {'x': 1, 'y': 2, 'z': 0.02, 'modulematerial': 'black', 'scenex': 1.01, 'sceney': 2.0, 'scenez': 0.1, 'numpanels': 1, 'bifi': 1, 'text': '! genbox black PVmod 1 2 0.02 | xform -t -0.5 -1.0 0 -a 1 -t 0 2.0 0', 'modulefile': 'objects/PVmod.rad', 'glass': False, 'offsetfromaxis': 0, 'xgap': 0.01, 'ygap': 0.0, 'zgap': 0.1}, 'modulefile': 'objects/PVmod.rad', 'hpc': False, 'name': 'Scene0', 'gcr': 0.33557046979865773, 'text': '!xform -rx 4.27 -t 0 0 3.5 -a 25 -t 1.01 0 0 -a 5 -t 0 5.96 0 -i 1 -t -12.120000000000001 -11.92 0 -rz 90.0 -t 0 0 0 objects/PVmod.rad', 'radfiles': 'objects/1axis2022-01-01_1130__C_3.42554_rtr_5.96000_tilt_4.27000_25modsx5rows_origin0,0.rad', 'sceneDict': {'tilt': 4.27, 'pitch': 5.96, 'clearance_height': 3.4255434083426954, 'azimuth': 90.0, 'nMods': 25, 'nRows': 5, 'modulez': 0.02, 'axis_tilt': 0, 'originx': 0, 'originy': 0}},\n",
       "  'octfile': '1axis_2022-01-01_1130.oct',\n",
       "  'Results': [{'rowWanted': 3,\n",
       "    'modWanted': 13,\n",
       "    'AnalysisObj': {'octfile': '1axis_2022-01-01_1130.oct', 'name': '1axis_2022-01-01_1130', 'hpc': False, 'modWanted': 13, 'rowWanted': 3, 'x': [0.3339717, -0.3308445], 'y': [2.044987e-17, -2.025838e-17], 'z': [3.496123, 3.545761], 'rearZ': [3.474184, 3.523822], 'mattype': ['a12.2.a0.PVmod.6457', 'a12.2.a0.PVmod.6457'], 'rearMat': ['a12.2.a0.PVmod.2310', 'a12.2.a0.PVmod.2310'], 'Wm2Front': [262.3444, 262.329], 'Wm2Back': [36.83233, 36.80671], 'Back/FrontRatio': [0.14039632484503253, 0.1403069035184691], 'backRatio': [0.14039632484503253, 0.1403069035184691], 'rearX': [0.3323336, -0.3324825], 'rearY': [2.034957e-17, -2.035868e-17]},\n",
       "    'Wm2Front': [262.3444, 262.329],\n",
       "    'Wm2Back': [36.83233, 36.80671],\n",
       "    'backRatio': [0.14039632484503253, 0.1403069035184691]}],\n",
       "  'POA_eff': 299.15622,\n",
       "  'Gfront_mean': 262.3367,\n",
       "  'Grear_mean': 36.81952,\n",
       "  'Pout_raw': 126.02919376539657,\n",
       "  'Pout_Gfront': 110.52571266857576,\n",
       "  'Mismatch': 2.3124282691703638e-06,\n",
       "  'Pout': 126.02919085106187}}"
      ]
     },
     "execution_count": 15,
     "metadata": {},
     "output_type": "execute_result"
    }
   ],
   "source": [
    "demo.calculateResults()"
   ]
  },
  {
   "cell_type": "code",
   "execution_count": 16,
   "id": "f7bab0b0",
   "metadata": {},
   "outputs": [
    {
     "data": {
      "text/html": [
       "<div>\n",
       "<style scoped>\n",
       "    .dataframe tbody tr th:only-of-type {\n",
       "        vertical-align: middle;\n",
       "    }\n",
       "\n",
       "    .dataframe tbody tr th {\n",
       "        vertical-align: top;\n",
       "    }\n",
       "\n",
       "    .dataframe thead th {\n",
       "        text-align: right;\n",
       "    }\n",
       "</style>\n",
       "<table border=\"1\" class=\"dataframe\">\n",
       "  <thead>\n",
       "    <tr style=\"text-align: right;\">\n",
       "      <th></th>\n",
       "      <th>timestamp</th>\n",
       "      <th>module</th>\n",
       "      <th>row</th>\n",
       "      <th>POA_eff</th>\n",
       "      <th>Grear_mean</th>\n",
       "      <th>Gfront_mean</th>\n",
       "      <th>Pout_raw</th>\n",
       "      <th>Pout_Gfront</th>\n",
       "      <th>BGG</th>\n",
       "      <th>BGE</th>\n",
       "      <th>Mismatch</th>\n",
       "      <th>Pout</th>\n",
       "      <th>Wind Speed</th>\n",
       "      <th>DNI</th>\n",
       "      <th>DHI</th>\n",
       "      <th>GHI</th>\n",
       "    </tr>\n",
       "  </thead>\n",
       "  <tbody>\n",
       "    <tr>\n",
       "      <th>0</th>\n",
       "      <td>2022-01-01_1030</td>\n",
       "      <td>13</td>\n",
       "      <td>3</td>\n",
       "      <td>119.85746</td>\n",
       "      <td>18.26841</td>\n",
       "      <td>101.58905</td>\n",
       "      <td>49.833083</td>\n",
       "      <td>42.074555</td>\n",
       "      <td>17.982657</td>\n",
       "      <td>18.439953</td>\n",
       "      <td>0.000044</td>\n",
       "      <td>49.833061</td>\n",
       "      <td>4.7</td>\n",
       "      <td>5</td>\n",
       "      <td>108</td>\n",
       "      <td>112</td>\n",
       "    </tr>\n",
       "    <tr>\n",
       "      <th>1</th>\n",
       "      <td>2022-01-01_1130</td>\n",
       "      <td>13</td>\n",
       "      <td>3</td>\n",
       "      <td>299.15622</td>\n",
       "      <td>36.81952</td>\n",
       "      <td>262.33670</td>\n",
       "      <td>126.029194</td>\n",
       "      <td>110.525713</td>\n",
       "      <td>14.035215</td>\n",
       "      <td>14.027036</td>\n",
       "      <td>0.000002</td>\n",
       "      <td>126.029191</td>\n",
       "      <td>5.5</td>\n",
       "      <td>60</td>\n",
       "      <td>232</td>\n",
       "      <td>265</td>\n",
       "    </tr>\n",
       "  </tbody>\n",
       "</table>\n",
       "</div>"
      ],
      "text/plain": [
       "         timestamp  module  row    POA_eff  Grear_mean  Gfront_mean  \\\n",
       "0  2022-01-01_1030      13    3  119.85746    18.26841    101.58905   \n",
       "1  2022-01-01_1130      13    3  299.15622    36.81952    262.33670   \n",
       "\n",
       "     Pout_raw  Pout_Gfront        BGG        BGE  Mismatch        Pout  \\\n",
       "0   49.833083    42.074555  17.982657  18.439953  0.000044   49.833061   \n",
       "1  126.029194   110.525713  14.035215  14.027036  0.000002  126.029191   \n",
       "\n",
       "   Wind Speed  DNI  DHI  GHI  \n",
       "0         4.7    5  108  112  \n",
       "1         5.5   60  232  265  "
      ]
     },
     "execution_count": 16,
     "metadata": {},
     "output_type": "execute_result"
    }
   ],
   "source": [
    "demo.CompiledResults\n",
    "# Grear_mean and Gfront_mean values to be recorded in the excel"
   ]
  },
  {
   "cell_type": "code",
   "execution_count": null,
   "id": "9c538741",
   "metadata": {},
   "outputs": [],
   "source": []
  }
 ],
 "metadata": {
  "kernelspec": {
   "display_name": "Python 3 (ipykernel)",
   "language": "python",
   "name": "python3"
  },
  "language_info": {
   "codemirror_mode": {
    "name": "ipython",
    "version": 3
   },
   "file_extension": ".py",
   "mimetype": "text/x-python",
   "name": "python",
   "nbconvert_exporter": "python",
   "pygments_lexer": "ipython3",
   "version": "3.11.5"
  }
 },
 "nbformat": 4,
 "nbformat_minor": 5
}
