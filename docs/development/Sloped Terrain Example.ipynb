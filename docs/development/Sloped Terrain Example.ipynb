{
 "cells": [
  {
   "cell_type": "code",
   "execution_count": 17,
   "id": "cb2ae537",
   "metadata": {},
   "outputs": [],
   "source": [
    "import os\n",
    "import numpy as np\n",
    "import pandas as pd\n",
    "from pathlib import Path\n",
    "import bifacial_radiance"
   ]
  },
  {
   "cell_type": "code",
   "execution_count": 18,
   "id": "ea26c4c8",
   "metadata": {},
   "outputs": [
    {
     "data": {
      "text/plain": [
       "'0.4.2+252.gae41aa2.dirty'"
      ]
     },
     "execution_count": 18,
     "metadata": {},
     "output_type": "execute_result"
    }
   ],
   "source": [
    "bifacial_radiance.__version__"
   ]
  },
  {
   "cell_type": "code",
   "execution_count": 19,
   "id": "0e34a391",
   "metadata": {},
   "outputs": [
    {
     "name": "stdout",
     "output_type": "stream",
     "text": [
      "path = /Users/storopov/Documents/GitHub/bifacial_radiance/bifacial_radiance/Tutorial_01\n",
      "Loading albedo, 1 value(s), 0.620 avg\n",
      "1 nonzero albedo values.\n",
      "Getting weather file: USA_VA_Richmond.724010_TMY2.epw\n",
      " ... OK!\n",
      "COLUMN DATAS Index(['year', 'month', 'day', 'hour', 'minute', 'data_source_unct', 'DryBulb',\n",
      "       'temp_dew', 'relative_humidity', 'atmospheric_pressure', 'etr', 'etrn',\n",
      "       'ghi_infrared', 'GHI', 'DNI', 'DHI', 'global_hor_illum',\n",
      "       'direct_normal_illum', 'diffuse_horizontal_illum', 'zenith_luminance',\n",
      "       'wind_direction', 'Wspd', 'total_sky_cover', 'opaque_sky_cover',\n",
      "       'visibility', 'ceiling_height', 'present_weather_observation',\n",
      "       'present_weather_codes', 'precipitable_water', 'aerosol_optical_depth',\n",
      "       'snow_depth', 'days_since_last_snowfall', 'Alb',\n",
      "       'liquid_precipitation_depth', 'liquid_precipitation_quantity'],\n",
      "      dtype='object')\n",
      "                           year  month  day  hour  minute  \\\n",
      "1965-01-01 01:00:00-05:00  1965      1    1     1      60   \n",
      "1965-01-01 02:00:00-05:00  1965      1    1     2      60   \n",
      "1965-01-01 03:00:00-05:00  1965      1    1     3      60   \n",
      "1965-01-01 04:00:00-05:00  1965      1    1     4      60   \n",
      "1965-01-01 05:00:00-05:00  1965      1    1     5      60   \n",
      "...                         ...    ...  ...   ...     ...   \n",
      "1970-12-31 20:00:00-05:00  1970     12   31    20      60   \n",
      "1970-12-31 21:00:00-05:00  1970     12   31    21      60   \n",
      "1970-12-31 22:00:00-05:00  1970     12   31    22      60   \n",
      "1970-12-31 23:00:00-05:00  1970     12   31    23      60   \n",
      "1971-01-01 00:00:00-05:00  1970     12   31    24      60   \n",
      "\n",
      "                                                       data_source_unct  \\\n",
      "1965-01-01 01:00:00-05:00  A7A7A7A7*0?0?0?0?0?0?0?0A7A7A7A7A7A7E7F8A7E7   \n",
      "1965-01-01 02:00:00-05:00  B8E7B8B8*0?0?0?0?0?0?0?0B8B8B8B8*0*0E7F8A7E7   \n",
      "1965-01-01 03:00:00-05:00  B8E7B8B8*0?0?0?0?0?0?0?0B8B8B8B8*0*0E7F8A7E7   \n",
      "1965-01-01 04:00:00-05:00  A7A7A7A7*0?0?0?0?0?0?0?0B8A7A7A7A7A7E7F8A7E7   \n",
      "1965-01-01 05:00:00-05:00  B8E7B8B8*0?0?0?0?0?0?0?0B8B8B8B8*0*0E7F8A7E7   \n",
      "...                                                                 ...   \n",
      "1970-12-31 20:00:00-05:00  B8E7B8B8*0?0?0?0?0?0?0?0B8B8B8B8*0*0E7F8A7E7   \n",
      "1970-12-31 21:00:00-05:00  B8E7B8B8*0?0?0?0?0?0?0?0B8B8B8B8*0*0E7F8A7E7   \n",
      "1970-12-31 22:00:00-05:00  A7A7A7A7*0?0?0?0?0?0?0?0A7A7A7A7A7A7E7F8A7E7   \n",
      "1970-12-31 23:00:00-05:00  B8E7B8B8*0?0?0?0?0?0?0?0B8B8B8B8*0*0E7F8A7E7   \n",
      "1971-01-01 00:00:00-05:00  B8E7B8B8*0?0?0?0?0?0?0?0B8B8B8B8*0*0E7F8A7E7   \n",
      "\n",
      "                           DryBulb  temp_dew  relative_humidity  \\\n",
      "1965-01-01 01:00:00-05:00     -1.1      -5.6                 72   \n",
      "1965-01-01 02:00:00-05:00     -1.3      -5.2                 72   \n",
      "1965-01-01 03:00:00-05:00     -1.5      -5.4                 72   \n",
      "1965-01-01 04:00:00-05:00     -1.7      -6.1                 72   \n",
      "1965-01-01 05:00:00-05:00     -1.3      -5.2                 72   \n",
      "...                            ...       ...                ...   \n",
      "1970-12-31 20:00:00-05:00     -0.7      -1.7                 92   \n",
      "1970-12-31 21:00:00-05:00     -0.4      -1.4                 92   \n",
      "1970-12-31 22:00:00-05:00      0.0      -1.1                 92   \n",
      "1970-12-31 23:00:00-05:00     -0.6      -1.5                 93   \n",
      "1971-01-01 00:00:00-05:00     -1.1      -1.7                 95   \n",
      "\n",
      "                           atmospheric_pressure  ...  ceiling_height  \\\n",
      "1965-01-01 01:00:00-05:00                102600  ...           77777   \n",
      "1965-01-01 02:00:00-05:00                102600  ...           77777   \n",
      "1965-01-01 03:00:00-05:00                102600  ...           77777   \n",
      "1965-01-01 04:00:00-05:00                102700  ...           77777   \n",
      "1965-01-01 05:00:00-05:00                102700  ...           77777   \n",
      "...                                         ...  ...             ...   \n",
      "1970-12-31 20:00:00-05:00                 99500  ...             152   \n",
      "1970-12-31 21:00:00-05:00                 99300  ...             152   \n",
      "1970-12-31 22:00:00-05:00                 99000  ...             152   \n",
      "1970-12-31 23:00:00-05:00                 99000  ...             152   \n",
      "1971-01-01 00:00:00-05:00                 98900  ...             152   \n",
      "\n",
      "                           present_weather_observation  present_weather_codes  \\\n",
      "1965-01-01 01:00:00-05:00                            0              999999999   \n",
      "1965-01-01 02:00:00-05:00                            0              999999999   \n",
      "1965-01-01 03:00:00-05:00                            0              999999999   \n",
      "1965-01-01 04:00:00-05:00                            0              999999999   \n",
      "1965-01-01 05:00:00-05:00                            0              999999999   \n",
      "...                                                ...                    ...   \n",
      "1970-12-31 20:00:00-05:00                            0              999999999   \n",
      "1970-12-31 21:00:00-05:00                            0              999999999   \n",
      "1970-12-31 22:00:00-05:00                            0              969999099   \n",
      "1970-12-31 23:00:00-05:00                            0              999999999   \n",
      "1971-01-01 00:00:00-05:00                            0              999999999   \n",
      "\n",
      "                           precipitable_water  aerosol_optical_depth  \\\n",
      "1965-01-01 01:00:00-05:00                   8                  0.056   \n",
      "1965-01-01 02:00:00-05:00                   8                  0.056   \n",
      "1965-01-01 03:00:00-05:00                   8                  0.056   \n",
      "1965-01-01 04:00:00-05:00                   8                  0.056   \n",
      "1965-01-01 05:00:00-05:00                   8                  0.056   \n",
      "...                                       ...                    ...   \n",
      "1970-12-31 20:00:00-05:00                  10                  0.056   \n",
      "1970-12-31 21:00:00-05:00                  10                  0.056   \n",
      "1970-12-31 22:00:00-05:00                  10                  0.056   \n",
      "1970-12-31 23:00:00-05:00                  10                  0.056   \n",
      "1971-01-01 00:00:00-05:00                  10                  0.056   \n",
      "\n",
      "                           snow_depth  days_since_last_snowfall  Alb  \\\n",
      "1965-01-01 01:00:00-05:00           0                         0  0.0   \n",
      "1965-01-01 02:00:00-05:00           0                         0  0.0   \n",
      "1965-01-01 03:00:00-05:00           0                         0  0.0   \n",
      "1965-01-01 04:00:00-05:00           0                         0  0.0   \n",
      "1965-01-01 05:00:00-05:00           0                         0  0.0   \n",
      "...                               ...                       ...  ...   \n",
      "1970-12-31 20:00:00-05:00           0                         0  0.0   \n",
      "1970-12-31 21:00:00-05:00           0                         0  0.0   \n",
      "1970-12-31 22:00:00-05:00           0                         0  0.0   \n",
      "1970-12-31 23:00:00-05:00           0                         0  0.0   \n",
      "1971-01-01 00:00:00-05:00           0                         0  0.0   \n",
      "\n",
      "                           liquid_precipitation_depth  \\\n",
      "1965-01-01 01:00:00-05:00                         0.0   \n",
      "1965-01-01 02:00:00-05:00                         0.0   \n",
      "1965-01-01 03:00:00-05:00                         0.0   \n",
      "1965-01-01 04:00:00-05:00                         0.0   \n",
      "1965-01-01 05:00:00-05:00                         0.0   \n",
      "...                                               ...   \n",
      "1970-12-31 20:00:00-05:00                         0.0   \n",
      "1970-12-31 21:00:00-05:00                         0.0   \n",
      "1970-12-31 22:00:00-05:00                         0.0   \n",
      "1970-12-31 23:00:00-05:00                         0.0   \n",
      "1971-01-01 00:00:00-05:00                         0.0   \n",
      "\n",
      "                           liquid_precipitation_quantity  \n",
      "1965-01-01 01:00:00-05:00                            0.0  \n",
      "1965-01-01 02:00:00-05:00                            0.0  \n",
      "1965-01-01 03:00:00-05:00                            0.0  \n",
      "1965-01-01 04:00:00-05:00                            0.0  \n",
      "1965-01-01 05:00:00-05:00                            0.0  \n",
      "...                                                  ...  \n",
      "1970-12-31 20:00:00-05:00                            0.0  \n",
      "1970-12-31 21:00:00-05:00                            0.0  \n",
      "1970-12-31 22:00:00-05:00                            0.0  \n",
      "1970-12-31 23:00:00-05:00                            0.0  \n",
      "1971-01-01 00:00:00-05:00                            0.0  \n",
      "\n",
      "[8760 rows x 35 columns]\n",
      "8760 line in WeatherFile. Assuming this is a standard hourly WeatherFile for the year for purposes of saving Gencumulativesky temporary weather files in EPW folder.\n",
      "Coercing year to 2001\n"
     ]
    },
    {
     "name": "stdout",
     "output_type": "stream",
     "text": [
      "Saving file EPWs/metdata_temp.csv, # points: 8760\n",
      "Calculating Sun position for Metdata that is right-labeled  with a delta of -30 mins. i.e. 12 is 11:30 sunpos\n"
     ]
    },
    {
     "data": {
      "text/plain": [
       "'skies/sky2_37.5_-77.33_2001-06-17_1300.rad'"
      ]
     },
     "execution_count": 19,
     "metadata": {},
     "output_type": "execute_result"
    }
   ],
   "source": [
    "testfolder = testfolder = str(Path().resolve().parent.parent / 'bifacial_radiance' / 'Tutorial_01')\n",
    "if not os.path.exists(testfolder):\n",
    "    os.makedirs(testfolder)\n",
    "\n",
    "demo = bifacial_radiance.RadianceObj(\"tutorial_19\", path = testfolder)  # Create a RadianceObj 'object'\n",
    "demo.setGround(0.62)\n",
    "epwfile = demo.getEPW(lat = 37.5, lon = -77.6)    \n",
    "metdata = demo.readWeatherFile(epwfile, coerce_year=2001) \n",
    "timestamp = metdata.datetime.index(pd.to_datetime('2001-06-17 13:0:0 -5'))\n",
    "demo.gendaylit(timestamp) "
   ]
  },
  {
   "cell_type": "markdown",
   "id": "ca33a43f",
   "metadata": {},
   "source": [
    "Define your shed characteristics. In this case it is a 4-up landscape setup:"
   ]
  },
  {
   "cell_type": "code",
   "execution_count": 20,
   "id": "9fe660ed",
   "metadata": {},
   "outputs": [
    {
     "name": "stdout",
     "output_type": "stream",
     "text": [
      "\n",
      "Module Name: sloped-ground\n",
      "Module sloped-ground updated in module.json\n",
      "Pre-existing .rad file objects/sloped-ground.rad will be overwritten\n",
      "\n"
     ]
    }
   ],
   "source": [
    "x= 30 # m\n",
    "y= 30 # m\n",
    "materialground = 'litesoil'\n",
    "myground = demo.makeModule(name='sloped-ground',y=y,x=x)\n"
   ]
  },
  {
   "cell_type": "code",
   "execution_count": 21,
   "id": "0858659b",
   "metadata": {},
   "outputs": [
    {
     "name": "stdout",
     "output_type": "stream",
     "text": [
      "\n",
      "Module Name: Pvmodule\n",
      "Module Pvmodule updated in module.json\n",
      "Pre-existing .rad file objects/Pvmodule.rad will be overwritten\n",
      "\n"
     ]
    }
   ],
   "source": [
    "# For sanity check, we are creating the same module but with different names for each orientation.\n",
    "numpanels=1\n",
    "ygap = 0.02 # m Spacing between modules on each shed.\n",
    "y=1   # m. module size, one side\n",
    "x=2 # m. module size, other side. for landscape, x > y\n",
    "mymoduleEast = demo.makeModule(name='Pvmodule',y=y,x=x, numpanels=numpanels, ygap=ygap)\n"
   ]
  },
  {
   "cell_type": "code",
   "execution_count": 22,
   "id": "46d3c94e",
   "metadata": {},
   "outputs": [],
   "source": [
    "sceneDict = {'tilt':5.71,'pitch':0.000001,'clearance_height':0,'azimuth':90, 'nMods': 1, 'nRows': 1} \n",
    "sceneObj0 = demo.makeScene(mymoduleEast, sceneDict)  \n",
    "\n"
   ]
  },
  {
   "cell_type": "code",
   "execution_count": 23,
   "id": "1b71a505",
   "metadata": {},
   "outputs": [],
   "source": [
    "theta = 5.71\n",
    "                                                          \n",
    "sceneDict3 = {'tilt':45,'pitch':0.0000001,'clearance_height':15*np.sin(np.radians(theta))+1.5,'azimuth':90, 'nMods': 25, 'nRows': 1, \n",
    "    'originx': 0, 'originy': 0, 'appendRadfile':True }\n",
    "sceneObj3 = demo.makeScene(mymoduleEast, sceneDict3)\n",
    "\n",
    "sceneDict2 = {'tilt': 45,'pitch':0.0000001,'clearance_height':(15+5.96)* np.sin(np.radians(theta))+1.5,'azimuth':90, 'nMods': 25, 'nRows': 1, \n",
    "              'originx': (15.0+5.96)*np.cos(np.radians(theta)), 'originy': 0, 'appendRadfile':True} \n",
    "sceneObj2 = demo.makeScene(mymoduleEast, sceneDict2)\n",
    "\n",
    "sceneDict4 = {'tilt':45,'pitch':0.0000001,'clearance_height':(15+5.96+5.96)* np.sin(np.radians(theta))+1.5,'azimuth':90, 'nMods': 25, 'nRows': 1, \n",
    "    'originx': (15.0+5.96+5.96)*np.cos(np.radians(theta)), 'originy': 0, 'appendRadfile':True }\n",
    "sceneObj4 = demo.makeScene(mymoduleEast, sceneDict4)\n",
    "\n",
    "sceneDict5 = {'tilt':45,'pitch':0.0000001,'clearance_height':(15+5.96+5.96+5.96)* np.sin(np.radians(theta))+1.5,'azimuth':90, 'nMods': 25, 'nRows': 1, \n",
    "    'originx': (15.0+5.96+5.96+5.96)*np.cos(np.radians(theta)), 'originy': 0, 'appendRadfile':True }\n",
    "sceneObj5 = demo.makeScene(mymoduleEast, sceneDict5)\n"
   ]
  },
  {
   "cell_type": "code",
   "execution_count": 24,
   "id": "faf5fd8d",
   "metadata": {},
   "outputs": [
    {
     "name": "stdout",
     "output_type": "stream",
     "text": [
      "Created tutorial_19.oct\n"
     ]
    }
   ],
   "source": [
    "octfile = demo.makeOct(demo.getfilelist()) "
   ]
  },
  {
   "cell_type": "code",
   "execution_count": 25,
   "id": "9a25e974",
   "metadata": {},
   "outputs": [
    {
     "name": "stdout",
     "output_type": "stream",
     "text": [
      "rvu: system - cannot open view file \"viewsfront.vp\": No such file or directory\r\n"
     ]
    }
   ],
   "source": [
    "#!rvu -vf views\\front.vp -e .01 -pe 0.3 -vp 1 -45 40 -vd 0 0.7 -0.7 MultipleObj.oct"
   ]
  },
  {
   "cell_type": "code",
   "execution_count": null,
   "id": "317090f7",
   "metadata": {},
   "outputs": [],
   "source": []
  }
 ],
 "metadata": {
  "kernelspec": {
   "display_name": "Python 3 (ipykernel)",
   "language": "python",
   "name": "python3"
  },
  "language_info": {
   "codemirror_mode": {
    "name": "ipython",
    "version": 3
   },
   "file_extension": ".py",
   "mimetype": "text/x-python",
   "name": "python",
   "nbconvert_exporter": "python",
   "pygments_lexer": "ipython3",
   "version": "3.11.5"
  }
 },
 "nbformat": 4,
 "nbformat_minor": 5
}
