{
 "cells": [
  {
   "cell_type": "code",
   "execution_count": 1,
   "id": "cb2ae537",
   "metadata": {},
   "outputs": [],
   "source": [
    "import os\n",
    "import numpy as np\n",
    "import pandas as pd\n",
    "from pathlib import Path\n",
    "import bifacial_radiance"
   ]
  },
  {
   "cell_type": "code",
   "execution_count": 2,
   "id": "ea26c4c8",
   "metadata": {},
   "outputs": [
    {
     "data": {
      "text/plain": [
       "'0.4.2+239.g1e65c8a.dirty'"
      ]
     },
     "execution_count": 2,
     "metadata": {},
     "output_type": "execute_result"
    }
   ],
   "source": [
    "bifacial_radiance.__version__"
   ]
  },
  {
   "cell_type": "code",
   "execution_count": 3,
   "id": "0e34a391",
   "metadata": {},
   "outputs": [
    {
     "name": "stdout",
     "output_type": "stream",
     "text": [
      "path = C:\\Users\\sayala\\Documents\\GitHub\\bifacial_radiance\\bifacial_radiance\\Tutorial_01\n",
      "Making path: images\n",
      "Making path: objects\n",
      "Making path: results\n",
      "Making path: skies\n",
      "Making path: EPWs\n",
      "Making path: materials\n",
      "Loading albedo, 1 value(s), 0.620 avg\n",
      "1 nonzero albedo values.\n",
      "Getting weather file: USA_VA_Richmond.724010_TMY2.epw\n",
      " ... OK!\n",
      "8760 line in WeatherFile. Assuming this is a standard hourly WeatherFile for the year for purposes of saving Gencumulativesky temporary weather files in EPW folder.\n",
      "Coercing year to 2001\n",
      "Saving file EPWs\\metdata_temp.csv, # points: 8760\n",
      "Calculating Sun position for Metdata that is right-labeled  with a delta of -30 mins. i.e. 12 is 11:30 sunpos\n"
     ]
    },
    {
     "data": {
      "text/plain": [
       "'skies\\\\sky2_37.5_-77.33_2001-06-17_1300.rad'"
      ]
     },
     "execution_count": 3,
     "metadata": {},
     "output_type": "execute_result"
    }
   ],
   "source": [
    "testfolder = testfolder = str(Path().resolve().parent.parent / 'bifacial_radiance' / 'Tutorial_01')\n",
    "if not os.path.exists(testfolder):\n",
    "    os.makedirs(testfolder)\n",
    "\n",
    "demo = bifacial_radiance.RadianceObj(\"tutorial_19\", path = testfolder)  # Create a RadianceObj 'object'\n",
    "demo.setGround(0.62)\n",
    "epwfile = demo.getEPW(lat = 37.5, lon = -77.6)    \n",
    "metdata = demo.readWeatherFile(epwfile, coerce_year=2001) \n",
    "timestamp = metdata.datetime.index(pd.to_datetime('2001-06-17 13:0:0 -5'))\n",
    "demo.gendaylit(timestamp) "
   ]
  },
  {
   "cell_type": "markdown",
   "id": "ca33a43f",
   "metadata": {},
   "source": [
    "Define your shed characteristics. In this case it is a 4-up landscape setup:"
   ]
  },
  {
   "cell_type": "code",
   "execution_count": 5,
   "id": "9fe660ed",
   "metadata": {},
   "outputs": [
    {
     "ename": "NameError",
     "evalue": "name 'numpanels' is not defined",
     "output_type": "error",
     "traceback": [
      "\u001b[1;31m---------------------------------------------------------------------------\u001b[0m",
      "\u001b[1;31mNameError\u001b[0m                                 Traceback (most recent call last)",
      "Cell \u001b[1;32mIn[5], line 5\u001b[0m\n\u001b[0;32m      3\u001b[0m y\u001b[38;5;241m=\u001b[39m \u001b[38;5;241m30\u001b[39m \u001b[38;5;66;03m# m\u001b[39;00m\n\u001b[0;32m      4\u001b[0m materialground \u001b[38;5;241m=\u001b[39m \u001b[38;5;124m'\u001b[39m\u001b[38;5;124mlitesoil\u001b[39m\u001b[38;5;124m'\u001b[39m\n\u001b[1;32m----> 5\u001b[0m myground \u001b[38;5;241m=\u001b[39m demo\u001b[38;5;241m.\u001b[39mmakeModule(name\u001b[38;5;241m=\u001b[39m\u001b[38;5;124m'\u001b[39m\u001b[38;5;124msloped-ground\u001b[39m\u001b[38;5;124m'\u001b[39m,y\u001b[38;5;241m=\u001b[39my,x\u001b[38;5;241m=\u001b[39mx, numpanels\u001b[38;5;241m=\u001b[39mnumpanels)\n",
      "\u001b[1;31mNameError\u001b[0m: name 'numpanels' is not defined"
     ]
    }
   ],
   "source": [
    "x= 30 # m\n",
    "y= 30 # m\n",
    "materialground = 'litesoil'\n",
    "myground = demo.makeModule(name='sloped-ground',y=y,x=x)\n"
   ]
  },
  {
   "cell_type": "code",
   "execution_count": 6,
   "id": "0858659b",
   "metadata": {},
   "outputs": [
    {
     "name": "stdout",
     "output_type": "stream",
     "text": [
      "\n",
      "Module Name: Pvmodule\n",
      "Module Pvmodule updated in module.json\n"
     ]
    }
   ],
   "source": [
    "# For sanity check, we are creating the same module but with different names for each orientation.\n",
    "numpanels=1\n",
    "ygap = 0.02 # m Spacing between modules on each shed.\n",
    "y=1   # m. module size, one side\n",
    "x=2 # m. module size, other side. for landscape, x > y\n",
    "mymoduleEast = demo.makeModule(name='Pvmodule',y=y,x=x, numpanels=numpanels, ygap=ygap)\n"
   ]
  },
  {
   "cell_type": "code",
   "execution_count": 7,
   "id": "46d3c94e",
   "metadata": {},
   "outputs": [],
   "source": [
    "sceneDict = {'tilt':5.71,'pitch':0.000001,'clearance_height':0,'azimuth':90, 'nMods': 1, 'nRows': 1} \n",
    "sceneObj0 = demo.makeScene(mymoduleEast, sceneDict)  \n",
    "\n"
   ]
  },
  {
   "cell_type": "code",
   "execution_count": null,
   "id": "1b71a505",
   "metadata": {},
   "outputs": [],
   "source": [
    "sceneDict2 = {'tilt': 45,'pitch':0.0000001,'clearance_height':(15+5.96)*np.sin(np.radians(theta))+1.5,'azimuth':90, 'nMods': 25, 'nRows': 1, \n",
    "              'originx': (15.0+5.96)*np.cos(np.radians(theta)), 'originy': 0, 'appendRadfile':True} \n",
    "sceneObj2 = demo.makeScene(mymoduleWest, sceneDict3)\n",
    "                                                          \n",
    "sceneDict3 = {'tilt':45,'pitch':0.0000001,'clearance_height':15*sin(np.radians(theta)+1.5t,'azimuth':90, 'nMods': 25, 'nRows': 1, \n",
    "    'originx': 0, 'originy': 0, 'appendRadfile':True} \n",
    "\n",
    "sceneObj2 = demo.makeScene(mymoduleWest, sceneDict3)\n"
   ]
  },
  {
   "cell_type": "code",
   "execution_count": null,
   "id": "faf5fd8d",
   "metadata": {},
   "outputs": [],
   "source": [
    "octfile = demo.makeOct(demo.getfilelist()) "
   ]
  },
  {
   "cell_type": "code",
   "execution_count": null,
   "id": "9a25e974",
   "metadata": {},
   "outputs": [],
   "source": [
    "#!rvu -vf views\\front.vp -e .01 -pe 0.3 -vp 1 -45 40 -vd 0 0.7 -0.7 MultipleObj.oct"
   ]
  }
 ],
 "metadata": {
  "kernelspec": {
   "display_name": "Python 3 (ipykernel)",
   "language": "python",
   "name": "python3"
  },
  "language_info": {
   "codemirror_mode": {
    "name": "ipython",
    "version": 3
   },
   "file_extension": ".py",
   "mimetype": "text/x-python",
   "name": "python",
   "nbconvert_exporter": "python",
   "pygments_lexer": "ipython3",
   "version": "3.11.4"
  }
 },
 "nbformat": 4,
 "nbformat_minor": 5
}
