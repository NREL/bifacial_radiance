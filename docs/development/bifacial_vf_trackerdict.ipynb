{
 "cells": [
  {
   "cell_type": "code",
   "execution_count": 1,
   "metadata": {},
   "outputs": [
    {
     "name": "stdout",
     "output_type": "stream",
     "text": [
      "Your simulation will be stored in Simulations/1axis\n"
     ]
    }
   ],
   "source": [
    "import os\n",
    "from pathlib import Path\n",
    "\n",
    "testfolder = 'Simulations/1axis'\n",
    "\n",
    "if not os.path.exists(testfolder):\n",
    "    os.makedirs(testfolder)\n",
    "    \n",
    "print (\"Your simulation will be stored in %s\" % testfolder)"
   ]
  },
  {
   "cell_type": "code",
   "execution_count": 2,
   "metadata": {},
   "outputs": [],
   "source": [
    "import bifacial_radiance as br\n",
    "import bifacialvf as bf\n",
    "import numpy as np\n",
    "import pandas as pd\n",
    "import matplotlib.pyplot as plt"
   ]
  },
  {
   "cell_type": "code",
   "execution_count": 3,
   "metadata": {},
   "outputs": [
    {
     "name": "stdout",
     "output_type": "stream",
     "text": [
      "Working on a  Darwin 21.6.0\n",
      "Python version  3.11.5 (main, Sep 11 2023, 08:19:27) [Clang 14.0.6 ]\n",
      "Pandas version  2.0.3\n",
      "bifacial_radiance version  0.4.2+243.gfdab617.dirty\n",
      "pyplot  3.7.2\n",
      "bifacialvf version  0.1.8.1\n"
     ]
    }
   ],
   "source": [
    "# This information helps with debugging and getting support :)\n",
    "import sys, platform\n",
    "print(\"Working on a \", platform.system(), platform.release())\n",
    "print(\"Python version \", sys.version)\n",
    "print(\"Pandas version \", pd.__version__)\n",
    "print(\"bifacial_radiance version \", br.__version__)\n",
    "print(\"pyplot \", plt.matplotlib.__version__)\n",
    "print(\"bifacialvf version \", bf.__version__)"
   ]
  },
  {
   "cell_type": "code",
   "execution_count": 4,
   "metadata": {},
   "outputs": [],
   "source": [
    "simulationname = 'bifacialvf_1axis'\n",
    "\n",
    "# Location\n",
    "lat = 39.7555\n",
    "lon = -105.2211\n",
    "\n",
    "# Scene Parameters\n",
    "azimuth_ang=90 # Facing south\n",
    "tilt=30\n",
    "\n",
    "# MakeModule Parameters\n",
    "moduletype='PVmod'\n",
    "numpanels=1\n",
    "module_x = 2 # m\n",
    "module_y = 1 # m. slope we will measure\n",
    "sensorsy=2\n",
    "sensorsground=5\n",
    "\n",
    "# SceneDict Parameters\n",
    "pitch = 6 # m\n",
    "albedo = 0.2\n",
    "clearance_height = 0.5 # m  \n",
    "nMods = 4 \n",
    "nRows = 3\n",
    "\n",
    "sceneDict = {'tilt':10,'pitch':3,'clearance_height':0.2,'azimuth':180, 'nMods': 20, 'nRows': 7} "
   ]
  },
  {
   "cell_type": "code",
   "execution_count": 5,
   "metadata": {
    "scrolled": true
   },
   "outputs": [
    {
     "name": "stdout",
     "output_type": "stream",
     "text": [
      "path = Simulations/1axis\n",
      "Loading albedo, 1 value(s), 0.200 avg\n",
      "1 nonzero albedo values.\n",
      "Getting weather file: USA_CO_Golden-NREL.724666_TMY3.epw\n",
      " ... OK!\n"
     ]
    }
   ],
   "source": [
    "demo = br.RadianceObj(simulationname,path = testfolder)\n",
    "demo.setGround(albedo)\n",
    "epwfile = demo.getEPW(lat, lon)"
   ]
  },
  {
   "cell_type": "code",
   "execution_count": 6,
   "metadata": {},
   "outputs": [
    {
     "name": "stdout",
     "output_type": "stream",
     "text": [
      "\n",
      "Module Name: PVmod\n",
      "Module PVmod updated in module.json\n",
      "Pre-existing .rad file objects/PVmod.rad will be overwritten\n",
      "\n"
     ]
    }
   ],
   "source": [
    "module=demo.makeModule(name=moduletype,x=module_x,y=module_y)"
   ]
  },
  {
   "cell_type": "code",
   "execution_count": 7,
   "metadata": {},
   "outputs": [],
   "source": [
    "hub_height = 1.5\n",
    "pitch = 5.7\n",
    "sazm = 180 # axis angle, N-S = 180\n",
    "fixed_tilt_angle = None\n",
    "gcr = 2 / pitch\n",
    "cumulativesky = False\n",
    "tracking = True\n",
    "\n",
    "trackerParams = {\n",
    "    'limit_angle': 50,\n",
    "    'angledelta': 30,\n",
    "    'backtrack': True,\n",
    "    'gcr': gcr,\n",
    "    'cumulativesky': cumulativesky,\n",
    "    'azimuth': sazm,  # axis angle, N-S = 180\n",
    "    'fixed_tilt_angle': fixed_tilt_angle\n",
    "}"
   ]
  },
  {
   "cell_type": "code",
   "execution_count": 8,
   "metadata": {
    "scrolled": true
   },
   "outputs": [
    {
     "name": "stdout",
     "output_type": "stream",
     "text": [
      "8760 line in WeatherFile. Assuming this is a standard hourly WeatherFile for the year for purposes of saving Gencumulativesky temporary weather files in EPW folder.\n",
      "Coercing year to 2021\n",
      "Filtering dates\n",
      "Saving file EPWs/metdata_temp.csv, # points: 8760\n",
      "Calculating Sun position for Metdata that is right-labeled  with a delta of -30 mins. i.e. 12 is 11:30 sunpos\n"
     ]
    }
   ],
   "source": [
    "metdata = demo.readWeatherFile(epwfile, coerce_year=2021, starttime='2021-06-01_1100', endtime='2021-06-01_1300')"
   ]
  },
  {
   "cell_type": "code",
   "execution_count": 9,
   "metadata": {
    "scrolled": true
   },
   "outputs": [],
   "source": [
    "trackerdict = demo.set1axis(**trackerParams)"
   ]
  },
  {
   "cell_type": "code",
   "execution_count": 10,
   "metadata": {},
   "outputs": [
    {
     "data": {
      "text/plain": [
       "{'2021-06-01_1100': {'surf_azm': 90.0,\n",
       "  'surf_tilt': 21.2,\n",
       "  'theta': -21.2,\n",
       "  'dni': 0,\n",
       "  'ghi': 181,\n",
       "  'dhi': 181,\n",
       "  'temp_air': 12.2,\n",
       "  'wind_speed': 5.1},\n",
       " '2021-06-01_1200': {'surf_azm': 90.0,\n",
       "  'surf_tilt': 6.94,\n",
       "  'theta': -6.94,\n",
       "  'dni': 0,\n",
       "  'ghi': 229,\n",
       "  'dhi': 229,\n",
       "  'temp_air': 13.9,\n",
       "  'wind_speed': 4.1},\n",
       " '2021-06-01_1300': {'surf_azm': 270.0,\n",
       "  'surf_tilt': 7.6,\n",
       "  'theta': 7.6,\n",
       "  'dni': 585,\n",
       "  'ghi': 884,\n",
       "  'dhi': 331,\n",
       "  'temp_air': 17.8,\n",
       "  'wind_speed': 3.6}}"
      ]
     },
     "execution_count": 10,
     "metadata": {},
     "output_type": "execute_result"
    }
   ],
   "source": [
    "trackerdict"
   ]
  },
  {
   "cell_type": "code",
   "execution_count": 12,
   "metadata": {},
   "outputs": [],
   "source": [
    "sceneDict = {\n",
    "    'pitch': pitch,\n",
    "    'hub_height': hub_height,\n",
    "    'nMods': 5,\n",
    "    'nRows': 2\n",
    "}"
   ]
  },
  {
   "cell_type": "code",
   "execution_count": 13,
   "metadata": {},
   "outputs": [
    {
     "name": "stdout",
     "output_type": "stream",
     "text": [
      "\n",
      "Making ~3 .rad files for gendaylit 1-axis workflow (this takes a minute..)\n",
      "3 Radfiles created in /objects/\n",
      "\n",
      "Making 3 octfiles in root directory.\n",
      "Trackerdict key error: 'skyfile'\n",
      "Trackerdict key error: 'skyfile'\n",
      "Trackerdict key error: 'skyfile'\n"
     ]
    }
   ],
   "source": [
    "trackerdict = demo.makeScene1axis(module=moduletype, sceneDict=sceneDict)\n",
    "trackerdict = demo.makeOct1axis()"
   ]
  },
  {
   "cell_type": "code",
   "execution_count": 14,
   "metadata": {},
   "outputs": [
    {
     "data": {
      "text/plain": [
       "dict_keys(['2021-06-01_1100', '2021-06-01_1200', '2021-06-01_1300'])"
      ]
     },
     "execution_count": 14,
     "metadata": {},
     "output_type": "execute_result"
    }
   ],
   "source": [
    "trackerdict.keys()"
   ]
  },
  {
   "cell_type": "code",
   "execution_count": 15,
   "metadata": {
    "scrolled": true
   },
   "outputs": [
    {
     "data": {
      "text/plain": [
       "{'2021-06-01_1100': {'surf_azm': 90.0,\n",
       "  'surf_tilt': 21.2,\n",
       "  'theta': -21.2,\n",
       "  'dni': 0,\n",
       "  'ghi': 181,\n",
       "  'dhi': 181,\n",
       "  'temp_air': 12.2,\n",
       "  'wind_speed': 5.1,\n",
       "  'radfile': 'objects/1axis2021-06-01_1100__C_1.31919_rtr_5.70000_tilt_21.20000_5modsx2rows_origin0,0.rad',\n",
       "  'scene': {'module': {'x': 2, 'y': 1, 'z': 0.02, 'modulematerial': 'black', 'scenex': 2.01, 'sceney': 1.0, 'scenez': 0.1, 'numpanels': 1, 'bifi': 1, 'text': '! genbox black PVmod 2 1 0.02 | xform -t -1.0 -0.5 0 -a 1 -t 0 1.0 0', 'modulefile': 'objects/PVmod.rad', 'glass': False, 'offsetfromaxis': 0, 'xgap': 0.01, 'ygap': 0.0, 'zgap': 0.1}, 'modulefile': 'objects/PVmod.rad', 'hpc': False, 'name': 'Scene0', 'gcr': 0.17543859649122806, 'text': '!xform -rx 21.2 -t 0 0 1.5 -a 5 -t 2.01 0 0 -a 2 -t 0 5.7 0 -i 1 -t -4.02 -0.0 0 -rz 90.0 -t 0 0 0 objects/PVmod.rad', 'radfiles': 'objects/1axis2021-06-01_1100__C_1.31919_rtr_5.70000_tilt_21.20000_5modsx2rows_origin0,0.rad', 'sceneDict': {'tilt': 21.2, 'pitch': 5.7, 'clearance_height': 1.319187714958954, 'azimuth': 90.0, 'nMods': 5, 'nRows': 2, 'modulez': 0.02, 'axis_tilt': 0, 'originx': 0, 'originy': 0}}},\n",
       " '2021-06-01_1200': {'surf_azm': 90.0,\n",
       "  'surf_tilt': 6.94,\n",
       "  'theta': -6.94,\n",
       "  'dni': 0,\n",
       "  'ghi': 229,\n",
       "  'dhi': 229,\n",
       "  'temp_air': 13.9,\n",
       "  'wind_speed': 4.1,\n",
       "  'radfile': 'objects/1axis2021-06-01_1200__C_1.43959_rtr_5.70000_tilt_6.94000_5modsx2rows_origin0,0.rad',\n",
       "  'scene': {'module': {'x': 2, 'y': 1, 'z': 0.02, 'modulematerial': 'black', 'scenex': 2.01, 'sceney': 1.0, 'scenez': 0.1, 'numpanels': 1, 'bifi': 1, 'text': '! genbox black PVmod 2 1 0.02 | xform -t -1.0 -0.5 0 -a 1 -t 0 1.0 0', 'modulefile': 'objects/PVmod.rad', 'glass': False, 'offsetfromaxis': 0, 'xgap': 0.01, 'ygap': 0.0, 'zgap': 0.1}, 'modulefile': 'objects/PVmod.rad', 'hpc': False, 'name': 'Scene0', 'gcr': 0.17543859649122806, 'text': '!xform -rx 6.94 -t 0 0 1.5 -a 5 -t 2.01 0 0 -a 2 -t 0 5.7 0 -i 1 -t -4.02 -0.0 0 -rz 90.0 -t 0 0 0 objects/PVmod.rad', 'radfiles': 'objects/1axis2021-06-01_1200__C_1.43959_rtr_5.70000_tilt_6.94000_5modsx2rows_origin0,0.rad', 'sceneDict': {'tilt': 6.94, 'pitch': 5.7, 'clearance_height': 1.4395850575633349, 'azimuth': 90.0, 'nMods': 5, 'nRows': 2, 'modulez': 0.02, 'axis_tilt': 0, 'originx': 0, 'originy': 0}}},\n",
       " '2021-06-01_1300': {'surf_azm': 90.0,\n",
       "  'surf_tilt': -7.6,\n",
       "  'theta': 7.6,\n",
       "  'dni': 585,\n",
       "  'ghi': 884,\n",
       "  'dhi': 331,\n",
       "  'temp_air': 17.8,\n",
       "  'wind_speed': 3.6,\n",
       "  'radfile': 'objects/1axis2021-06-01_1300__C_1.43387_rtr_5.70000_tilt_-7.60000_5modsx2rows_origin0,0.rad',\n",
       "  'scene': {'module': {'x': 2, 'y': 1, 'z': 0.02, 'modulematerial': 'black', 'scenex': 2.01, 'sceney': 1.0, 'scenez': 0.1, 'numpanels': 1, 'bifi': 1, 'text': '! genbox black PVmod 2 1 0.02 | xform -t -1.0 -0.5 0 -a 1 -t 0 1.0 0', 'modulefile': 'objects/PVmod.rad', 'glass': False, 'offsetfromaxis': 0, 'xgap': 0.01, 'ygap': 0.0, 'zgap': 0.1}, 'modulefile': 'objects/PVmod.rad', 'hpc': False, 'name': 'Scene0', 'gcr': 0.17543859649122806, 'text': '!xform -rx -7.6 -t 0 0 1.5 -a 5 -t 2.01 0 0 -a 2 -t 0 5.7 0 -i 1 -t -4.02 -0.0 0 -rz 90.0 -t 0 0 0 objects/PVmod.rad', 'radfiles': 'objects/1axis2021-06-01_1300__C_1.43387_rtr_5.70000_tilt_-7.60000_5modsx2rows_origin0,0.rad', 'sceneDict': {'tilt': -7.6, 'pitch': 5.7, 'clearance_height': 1.4338718048714387, 'azimuth': 90.0, 'nMods': 5, 'nRows': 2, 'modulez': 0.02, 'axis_tilt': 0, 'originx': 0, 'originy': 0}}}}"
      ]
     },
     "execution_count": 15,
     "metadata": {},
     "output_type": "execute_result"
    }
   ],
   "source": [
    "trackerdict"
   ]
  },
  {
   "cell_type": "code",
   "execution_count": 16,
   "metadata": {
    "scrolled": true
   },
   "outputs": [
    {
     "name": "stdout",
     "output_type": "stream",
     "text": [
      "Warning: clearance_height passed and is being used as  hub_height for the tracking routine\n",
      "Calculating Sun position with a delta of -30 mins. i.e. 12 is 11:30 sunpos\n",
      "Albedo value passed, but also present in TMY3 file.  Using albedo value passed. To use the ones in TMY3 file re-run simulation with albedo=None\n",
      "\n",
      " \n",
      "********* \n",
      "Running Simulation for TMY3: \n",
      "Location:   Denver Centennial  Golden   Nr\n",
      "Lat:  39.74  Long:  -105.18  Tz  -7.0\n",
      "Parameters: tilt:  0   Sazm:  90.0     Hub_Height :  1.5   Pitch:  5.7   Row type:  interior   Albedo:  0.15\n",
      "Saving into bifacialvf_1axis\n",
      " \n",
      " \n",
      "Distance between rows for no shading on Dec 21 at 9 am solar time =  0.0\n",
      "Actual distance between rows =  4.7\n",
      " \n",
      " ***** IMPORTANT --> THIS SIMULATION Has Tracking Activated\n",
      "Backtracking Option is set to:  True\n"
     ]
    },
    {
     "name": "stderr",
     "output_type": "stream",
     "text": [
      "100%|████████████████████████████████████████████| 3/3 [00:00<00:00, 155.03it/s]"
     ]
    },
    {
     "name": "stdout",
     "output_type": "stream",
     "text": [
      "Finished\n"
     ]
    },
    {
     "name": "stderr",
     "output_type": "stream",
     "text": [
      "\n"
     ]
    }
   ],
   "source": [
    "trackerdict = demo.runViewFactor(sensorsy=4, tracking=True, backtrack=trackerParams['backtrack'], limit_angle=trackerParams['limit_angle'])"
   ]
  },
  {
   "cell_type": "code",
   "execution_count": null,
   "metadata": {},
   "outputs": [],
   "source": []
  }
 ],
 "metadata": {
  "kernelspec": {
   "display_name": "Python 3 (ipykernel)",
   "language": "python",
   "name": "python3"
  },
  "language_info": {
   "codemirror_mode": {
    "name": "ipython",
    "version": 3
   },
   "file_extension": ".py",
   "mimetype": "text/x-python",
   "name": "python",
   "nbconvert_exporter": "python",
   "pygments_lexer": "ipython3",
   "version": "3.11.5"
  }
 },
 "nbformat": 4,
 "nbformat_minor": 2
}
