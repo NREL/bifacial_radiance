{
 "cells": [
  {
   "cell_type": "markdown",
   "id": "3330d345",
   "metadata": {},
   "source": [
    "# Ref-B\n",
    "* GCR = 0.4\n",
    "* Albedo = 0.2\n",
    "* Hub Height = 3.5\n",
    "* Configuration = 1-Up portrait\n",
    "* Ground surface = Horizontal\n",
    "***\n",
    "* For a 2-Up portrait system with a GCR of 0.4 the pitch is 2*5.96m = 11.92m\n",
    "* 2-up Portrait: 5 rows, each with 25 x 2 = 50 modules (Figure 4)\n",
    "* Torque tube diameter = 15 cm. (round)\n",
    "* Maximum tracker rotation angle = 55 deg\n",
    "* Backtracking is enabled\n",
    "* Location: Albuquerque, New Mexico USA (35.05°, -106.54°)"
   ]
  },
  {
   "cell_type": "code",
   "execution_count": 1,
   "id": "760e9b21",
   "metadata": {},
   "outputs": [
    {
     "name": "stdout",
     "output_type": "stream",
     "text": [
      "Your simulation will be stored in Scenarios/Ref-B\n"
     ]
    }
   ],
   "source": [
    "import os\n",
    "from pathlib import Path\n",
    "\n",
    "testfolder = 'Scenarios/Ref-B'\n",
    "\n",
    "if not os.path.exists(testfolder):\n",
    "    os.makedirs(testfolder)\n",
    "    \n",
    "print (\"Your simulation will be stored in %s\" % testfolder)"
   ]
  },
  {
   "cell_type": "code",
   "execution_count": 2,
   "id": "aa782cd2",
   "metadata": {},
   "outputs": [],
   "source": [
    "import bifacial_radiance as br\n",
    "import bifacialvf as bf\n",
    "import numpy as np\n",
    "import pandas as pd\n",
    "import matplotlib.pyplot as plt\n",
    "import sys, platform\n",
    "import csv"
   ]
  },
  {
   "cell_type": "code",
   "execution_count": 3,
   "id": "2d3d89b5",
   "metadata": {},
   "outputs": [
    {
     "name": "stdout",
     "output_type": "stream",
     "text": [
      "Working on a  Darwin 23.3.0\n",
      "Python version  3.11.5 (main, Sep 11 2023, 08:19:27) [Clang 14.0.6 ]\n",
      "Pandas version  2.0.3\n",
      "bifacial_radiance version  0.4.2+237.g204310a.dirty\n",
      "pyplot  3.7.2\n",
      "bifacialvf version  0.1.8.1\n"
     ]
    }
   ],
   "source": [
    "print(\"Working on a \", platform.system(), platform.release())\n",
    "print(\"Python version \", sys.version)\n",
    "print(\"Pandas version \", pd.__version__)\n",
    "print(\"bifacial_radiance version \", br.__version__)\n",
    "print(\"pyplot \", plt.matplotlib.__version__)\n",
    "print(\"bifacialvf version \", bf.__version__)"
   ]
  },
  {
   "cell_type": "code",
   "execution_count": 4,
   "id": "8a48f304",
   "metadata": {},
   "outputs": [],
   "source": [
    "simulationname = 'Ref-B'\n",
    "\n",
    "# Location Albuquerque, New Mexico, USA\n",
    "lat = 35.05\n",
    "lon = -106.54\n",
    "\n",
    "# Scene Parameters\n",
    "azimuth=90\n",
    "tilt=30\n",
    "\n",
    "# MakeModule Parameters\n",
    "moduletype='PVmod'\n",
    "numpanels=1\n",
    "module_x = 1 # m\n",
    "module_y = 2 # m. slope we will measure\n",
    "sensorsy=2\n",
    "torquetube = 0.15\n",
    "\n",
    "# SceneDict Parameters\n",
    "pitch = 11.92 # m\n",
    "albedo = 0.2\n",
    "hub_height = 3.5 # m  \n",
    "nMods = 50 \n",
    "nRows = 5\n",
    "\n",
    "sceneDict = {'tilt':tilt,'pitch':pitch,'albedo': albedo,'hub_height':hub_height,'azimuth':azimuth, 'nMods': nMods, 'nRows': nRows} "
   ]
  },
  {
   "cell_type": "code",
   "execution_count": 5,
   "id": "eb5df558",
   "metadata": {
    "scrolled": true
   },
   "outputs": [
    {
     "name": "stdout",
     "output_type": "stream",
     "text": [
      "path = Scenarios/Ref-B\n",
      "Loading albedo, 1 value(s), 0.200 avg\n",
      "1 nonzero albedo values.\n"
     ]
    }
   ],
   "source": [
    "demo = br.RadianceObj(simulationname,path = testfolder)\n",
    "demo.setGround(albedo)"
   ]
  },
  {
   "cell_type": "code",
   "execution_count": 6,
   "id": "e1e7d382",
   "metadata": {},
   "outputs": [
    {
     "name": "stdout",
     "output_type": "stream",
     "text": [
      "\n",
      "Module Name: PVmod\n",
      "Module PVmod updated in module.json\n",
      "Pre-existing .rad file objects/PVmod.rad will be overwritten\n",
      "\n"
     ]
    }
   ],
   "source": [
    "module=demo.makeModule(name=moduletype,x=module_x,y=module_y)"
   ]
  },
  {
   "cell_type": "code",
   "execution_count": 7,
   "id": "4b7e271b",
   "metadata": {},
   "outputs": [],
   "source": [
    "cumulativesky = False\n",
    "trackerParams = {\n",
    "    'limit_angle': 55,\n",
    "    'backtrack': True,\n",
    "    'gcr': 0.4,\n",
    "    'azimuth': 180,  # axis angle, N-S = 180\n",
    "    'cumulativesky': cumulativesky\n",
    "}"
   ]
  },
  {
   "cell_type": "code",
   "execution_count": 8,
   "id": "966c7daf",
   "metadata": {
    "scrolled": true
   },
   "outputs": [
    {
     "name": "stdout",
     "output_type": "stream",
     "text": [
      "COLUMN DATAS Index(['Year', 'Month', 'Day', 'Hour', 'Minute', 'GHI', 'DNI', 'DHI',\n",
      "       'temp_air', 'wind_speed', 'humidity', 'Unnamed: 11', 'Unnamed: 12',\n",
      "       'Unnamed: 13', 'Unnamed: 14', 'Unnamed: 15', 'Unnamed: 16',\n",
      "       'Unnamed: 17'],\n",
      "      dtype='object')\n",
      "8760 line in WeatherFile. Assuming this is a standard hourly WeatherFile for the year for purposes of saving Gencumulativesky temporary weather files in EPW folder.\n",
      "Coercing year to 2022\n",
      "Filtering dates\n",
      "Saving file EPWs/metdata_temp.csv, # points: 8760\n",
      "Calculating Sun position for Metdata that is left-labeled  with a delta of +30 mins. i.e. 12 is 12:30 sunpos.\n"
     ]
    }
   ],
   "source": [
    "file = 'Phase2_meteo_hourly_psm3format.csv'\n",
    "directory = os.path.expanduser('~/Documents/IEA-Bifacial-Tracking-Modeling')\n",
    "weatherfile = os.path.join(directory, file)\n",
    "\n",
    "metdata = demo.readWeatherFile(weatherfile, source='sam', starttime='2022-01-01_1000', endtime='2022-01-01_1200')"
   ]
  },
  {
   "cell_type": "code",
   "execution_count": 9,
   "id": "556da4dc",
   "metadata": {},
   "outputs": [],
   "source": [
    "trackerdict = demo.set1axis(**trackerParams)"
   ]
  },
  {
   "cell_type": "code",
   "execution_count": 10,
   "id": "e814024e",
   "metadata": {},
   "outputs": [
    {
     "name": "stdout",
     "output_type": "stream",
     "text": [
      "Creating ~2 skyfiles. \n",
      "Created 2 skyfiles in /skies/\n"
     ]
    }
   ],
   "source": [
    "if cumulativesky:\n",
    "    demo.genCumSky1axis()\n",
    "else:\n",
    "    demo.gendaylit1axis()"
   ]
  },
  {
   "cell_type": "code",
   "execution_count": 11,
   "id": "6023d245",
   "metadata": {},
   "outputs": [
    {
     "name": "stdout",
     "output_type": "stream",
     "text": [
      "\n",
      "Making ~2 .rad files for gendaylit 1-axis workflow (this takes a minute..)\n",
      "2 Radfiles created in /objects/\n",
      "\n",
      "Making 2 octfiles in root directory.\n",
      "Created 1axis_2022-01-01_1030.oct\n",
      "Created 1axis_2022-01-01_1130.oct\n"
     ]
    }
   ],
   "source": [
    "trackerdict = demo.makeScene1axis(module=moduletype, sceneDict=sceneDict)\n",
    "trackerdict = demo.makeOct1axis()"
   ]
  },
  {
   "cell_type": "code",
   "execution_count": null,
   "id": "29d1f8d6",
   "metadata": {},
   "outputs": [
    {
     "name": "stdout",
     "output_type": "stream",
     "text": [
      "Linescan in process: 1axis_2022-01-01_1030_Row3_Module25_Front\n",
      "Linescan in process: 1axis_2022-01-01_1030_Row3_Module25_Back\n",
      "Saved: results/irr_1axis_2022-01-01_1030_Row3_Module25.csv\n",
      "Index: 2022-01-01_1030. Wm2Front: 102.7064. Wm2Back: 20.857999999999997\n",
      "Linescan in process: 1axis_2022-01-01_1130_Row3_Module25_Front\n"
     ]
    }
   ],
   "source": [
    "trakerdict = demo.analysis1axis(sensorsy=2)"
   ]
  },
  {
   "cell_type": "code",
   "execution_count": null,
   "id": "c3354a51",
   "metadata": {},
   "outputs": [],
   "source": [
    "trakerdict"
   ]
  },
  {
   "cell_type": "code",
   "execution_count": null,
   "id": "3fe20635",
   "metadata": {},
   "outputs": [],
   "source": [
    "demo"
   ]
  },
  {
   "cell_type": "code",
   "execution_count": null,
   "id": "32b1dae4",
   "metadata": {},
   "outputs": [],
   "source": [
    "demo.calculateResults()"
   ]
  },
  {
   "cell_type": "code",
   "execution_count": null,
   "id": "f7bab0b0",
   "metadata": {},
   "outputs": [],
   "source": [
    "demo.CompiledResults\n",
    "# Grear_mean and Gfront_mean values to be recorded in the excel"
   ]
  },
  {
   "cell_type": "code",
   "execution_count": null,
   "id": "9c538741",
   "metadata": {},
   "outputs": [],
   "source": []
  }
 ],
 "metadata": {
  "kernelspec": {
   "display_name": "Python 3 (ipykernel)",
   "language": "python",
   "name": "python3"
  },
  "language_info": {
   "codemirror_mode": {
    "name": "ipython",
    "version": 3
   },
   "file_extension": ".py",
   "mimetype": "text/x-python",
   "name": "python",
   "nbconvert_exporter": "python",
   "pygments_lexer": "ipython3",
   "version": "3.11.5"
  }
 },
 "nbformat": 4,
 "nbformat_minor": 5
}
