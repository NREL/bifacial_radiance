{
 "cells": [
  {
   "cell_type": "markdown",
   "id": "3330d345",
   "metadata": {},
   "source": [
    "# Ref-B\n",
    "* GCR = 0.4\n",
    "* Albedo = 0.2\n",
    "* Hub Height = 3.5\n",
    "* Configuration = 1-Up portrait\n",
    "* Ground surface = Horizontal\n",
    "***\n",
    "* For a 2-Up portrait system with a GCR of 0.4 the pitch is 2*5.96m = 11.92m\n",
    "* 2-up Portrait: 5 rows, each with 25 x 2 = 50 modules (Figure 4)\n",
    "* Torque tube diameter = 15 cm. (round)\n",
    "* Maximum tracker rotation angle = 55 deg\n",
    "* Backtracking is enabled\n",
    "* Location: Albuquerque, New Mexico USA (35.05°, -106.54°)"
   ]
  },
  {
   "cell_type": "code",
   "execution_count": 1,
   "id": "760e9b21",
   "metadata": {},
   "outputs": [
    {
     "name": "stdout",
     "output_type": "stream",
     "text": [
      "Your simulation will be stored in Scenarios/Ref-B-2\n"
     ]
    }
   ],
   "source": [
    "import os\n",
    "from pathlib import Path\n",
    "\n",
    "testfolder = 'Scenarios/Ref-B-2'\n",
    "\n",
    "if not os.path.exists(testfolder):\n",
    "    os.makedirs(testfolder)\n",
    "    \n",
    "print (\"Your simulation will be stored in %s\" % testfolder)"
   ]
  },
  {
   "cell_type": "code",
   "execution_count": 2,
   "id": "aa782cd2",
   "metadata": {},
   "outputs": [],
   "source": [
    "import bifacial_radiance as br\n",
    "import bifacialvf as bf\n",
    "import numpy as np\n",
    "import pandas as pd\n",
    "import matplotlib.pyplot as plt\n",
    "import sys, platform\n",
    "import csv\n",
    "from pathlib import Path"
   ]
  },
  {
   "cell_type": "code",
   "execution_count": 3,
   "id": "2d3d89b5",
   "metadata": {},
   "outputs": [
    {
     "name": "stdout",
     "output_type": "stream",
     "text": [
      "Working on a  Darwin 23.3.0\n",
      "Python version  3.11.5 (main, Sep 11 2023, 08:19:27) [Clang 14.0.6 ]\n",
      "Pandas version  2.0.3\n",
      "bifacial_radiance version  0.4.2+247.g47d2881.dirty\n",
      "pyplot  3.7.2\n",
      "bifacialvf version  0.1.8.1\n"
     ]
    }
   ],
   "source": [
    "print(\"Working on a \", platform.system(), platform.release())\n",
    "print(\"Python version \", sys.version)\n",
    "print(\"Pandas version \", pd.__version__)\n",
    "print(\"bifacial_radiance version \", br.__version__)\n",
    "print(\"pyplot \", plt.matplotlib.__version__)\n",
    "print(\"bifacialvf version \", bf.__version__)"
   ]
  },
  {
   "cell_type": "code",
   "execution_count": 4,
   "id": "8a48f304",
   "metadata": {},
   "outputs": [],
   "source": [
    "simulationname = 'Ref-B-2'\n",
    "\n",
    "# Location Albuquerque, New Mexico, USA\n",
    "lat = 35.05\n",
    "lon = -106.54\n",
    "\n",
    "# Scene Parameters\n",
    "azimuth=90\n",
    "tilt=30\n",
    "\n",
    "# MakeModule Parameters\n",
    "moduletype='PVmod'\n",
    "numpanels=1\n",
    "module_x = 1.303 # m\n",
    "module_y = 2.384 # m. slope we will measure\n",
    "sensorsy=2\n",
    "torquetube_diam = 0.15\n",
    "\n",
    "zgap = 0.02 # m\n",
    "xgap = 0.002 # m\n",
    "\n",
    "# SceneDict Parameters\n",
    "pitch = 11.92 # m\n",
    "albedo = 0.2\n",
    "hub_height = 3.5 # m  \n",
    "nMods = 50 \n",
    "nRows = 5\n",
    "\n",
    "sceneDict = {'tilt':tilt,'pitch':pitch,'albedo': albedo,'hub_height':hub_height,'azimuth':azimuth, 'nMods': nMods, 'nRows': nRows} "
   ]
  },
  {
   "cell_type": "code",
   "execution_count": 5,
   "id": "eb5df558",
   "metadata": {
    "scrolled": true
   },
   "outputs": [
    {
     "name": "stdout",
     "output_type": "stream",
     "text": [
      "path = Scenarios/Ref-B-2\n",
      "Loading albedo, 1 value(s), 0.200 avg\n",
      "1 nonzero albedo values.\n"
     ]
    }
   ],
   "source": [
    "demo = br.RadianceObj(simulationname,path = testfolder)\n",
    "demo.setGround(albedo)"
   ]
  },
  {
   "cell_type": "code",
   "execution_count": 6,
   "id": "4b7e271b",
   "metadata": {},
   "outputs": [],
   "source": [
    "cumulativesky = False\n",
    "trackerParams = {\n",
    "    'limit_angle': 55,\n",
    "    'backtrack': True,\n",
    "    'gcr': 0.4,\n",
    "    'azimuth': 180,  # axis angle, N-S = 180\n",
    "    'cumulativesky': cumulativesky\n",
    "}"
   ]
  },
  {
   "cell_type": "code",
   "execution_count": 7,
   "id": "e1e7d382",
   "metadata": {
    "scrolled": true
   },
   "outputs": [
    {
     "name": "stdout",
     "output_type": "stream",
     "text": [
      "\n",
      "Module Name: PVmod\n",
      "Module PVmod updated in module.json\n",
      "Pre-existing .rad file objects/PVmod.rad will be overwritten\n",
      "\n"
     ]
    }
   ],
   "source": [
    "module=demo.makeModule(name=moduletype,x=module_x,y=module_y, xgap=xgap, zgap=zgap)"
   ]
  },
  {
   "cell_type": "code",
   "execution_count": 8,
   "id": "f11ce3f5",
   "metadata": {},
   "outputs": [
    {
     "name": "stdout",
     "output_type": "stream",
     "text": [
      "Module PVmod updated in module.json\n",
      "Pre-existing .rad file objects/PVmod.rad will be overwritten\n",
      "\n"
     ]
    }
   ],
   "source": [
    "module.addTorquetube(diameter=torquetube_diam, tubetype='Round', material='Metal_Grey', \n",
    "                     axisofrotation=True, visible=True, recompile=True)"
   ]
  },
  {
   "cell_type": "code",
   "execution_count": 9,
   "id": "c8a318c8",
   "metadata": {},
   "outputs": [
    {
     "data": {
      "text/plain": [
       "'/Users/storopov/Documents/GitHub/bifacial_radiance/docs/development/Instructions/Phase2_meteo_hourly_psm3format.csv'"
      ]
     },
     "execution_count": 9,
     "metadata": {},
     "output_type": "execute_result"
    }
   ],
   "source": [
    "weatherfile = str(Path().resolve().parent.parent / 'Instructions' / 'Phase2_meteo_hourly_psm3format.csv')\n",
    "weatherfile"
   ]
  },
  {
   "cell_type": "code",
   "execution_count": 10,
   "id": "966c7daf",
   "metadata": {
    "scrolled": true
   },
   "outputs": [
    {
     "name": "stdout",
     "output_type": "stream",
     "text": [
      "COLUMN DATAS Index(['Year', 'Month', 'Day', 'Hour', 'Minute', 'GHI', 'DNI', 'DHI',\n",
      "       'temp_air', 'wind_speed', 'humidity', 'Unnamed: 11', 'Unnamed: 12',\n",
      "       'Unnamed: 13', 'Unnamed: 14', 'Unnamed: 15', 'Unnamed: 16',\n",
      "       'Unnamed: 17'],\n",
      "      dtype='object')\n",
      "8760 line in WeatherFile. Assuming this is a standard hourly WeatherFile for the year for purposes of saving Gencumulativesky temporary weather files in EPW folder.\n",
      "Coercing year to 2022\n",
      "Filtering dates\n",
      "Saving file EPWs/metdata_temp.csv, # points: 8760\n",
      "Calculating Sun position for Metdata that is left-labeled  with a delta of +30 mins. i.e. 12 is 12:30 sunpos.\n"
     ]
    }
   ],
   "source": [
    "metdata = demo.readWeatherFile(weatherfile, source='sam', starttime='2022-12-27_0000', endtime='2022-12-28_0000')"
   ]
  },
  {
   "cell_type": "code",
   "execution_count": 11,
   "id": "556da4dc",
   "metadata": {},
   "outputs": [],
   "source": [
    "trackerdict = demo.set1axis(**trackerParams)"
   ]
  },
  {
   "cell_type": "code",
   "execution_count": 12,
   "id": "e814024e",
   "metadata": {},
   "outputs": [
    {
     "name": "stdout",
     "output_type": "stream",
     "text": [
      "Creating ~8 skyfiles. \n",
      "Created 8 skyfiles in /skies/\n"
     ]
    },
    {
     "data": {
      "text/plain": [
       "{'2022-12-27_0830': {'surf_azm': 90.0,\n",
       "  'surf_tilt': 55.0,\n",
       "  'theta': -55.0,\n",
       "  'dni': 720,\n",
       "  'ghi': 202,\n",
       "  'dhi': 34,\n",
       "  'temp_air': 5.3,\n",
       "  'wind_speed': 1.3,\n",
       "  'skyfile': 'skies/sky2_35.05_-106.54_2022-12-27_0830.rad'},\n",
       " '2022-12-27_0930': {'surf_azm': 90.0,\n",
       "  'surf_tilt': 49.63,\n",
       "  'theta': -49.63,\n",
       "  'dni': 879,\n",
       "  'ghi': 367,\n",
       "  'dhi': 49,\n",
       "  'temp_air': 7.2,\n",
       "  'wind_speed': 2.0,\n",
       "  'skyfile': 'skies/sky2_35.05_-106.54_2022-12-27_0930.rad'},\n",
       " '2022-12-27_1030': {'surf_azm': 90.0,\n",
       "  'surf_tilt': 28.36,\n",
       "  'theta': -28.36,\n",
       "  'dni': 787,\n",
       "  'ghi': 474,\n",
       "  'dhi': 105,\n",
       "  'temp_air': 8.3,\n",
       "  'wind_speed': 4.0,\n",
       "  'skyfile': 'skies/sky2_35.05_-106.54_2022-12-27_1030.rad'},\n",
       " '2022-12-27_1130': {'surf_azm': 90.0,\n",
       "  'surf_tilt': 3.2,\n",
       "  'theta': -3.2,\n",
       "  'dni': 734,\n",
       "  'ghi': 537,\n",
       "  'dhi': 147,\n",
       "  'temp_air': 9.6,\n",
       "  'wind_speed': 4.0,\n",
       "  'skyfile': 'skies/sky2_35.05_-106.54_2022-12-27_1130.rad'},\n",
       " '2022-12-27_1230': {'surf_azm': 270.0,\n",
       "  'surf_tilt': 22.5,\n",
       "  'theta': 22.5,\n",
       "  'dni': 410,\n",
       "  'ghi': 471,\n",
       "  'dhi': 244,\n",
       "  'temp_air': 10.4,\n",
       "  'wind_speed': 3.6,\n",
       "  'skyfile': 'skies/sky2_35.05_-106.54_2022-12-27_1230.rad'},\n",
       " '2022-12-27_1330': {'surf_azm': 270.0,\n",
       "  'surf_tilt': 44.85,\n",
       "  'theta': 44.85,\n",
       "  'dni': 157,\n",
       "  'ghi': 349,\n",
       "  'dhi': 267,\n",
       "  'temp_air': 11.3,\n",
       "  'wind_speed': 2.0,\n",
       "  'skyfile': 'skies/sky2_35.05_-106.54_2022-12-27_1330.rad'},\n",
       " '2022-12-27_1430': {'surf_azm': 270.0,\n",
       "  'surf_tilt': 55.0,\n",
       "  'theta': 55.0,\n",
       "  'dni': 513,\n",
       "  'ghi': 314,\n",
       "  'dhi': 115,\n",
       "  'temp_air': 12.3,\n",
       "  'wind_speed': 1.4,\n",
       "  'skyfile': 'skies/sky2_35.05_-106.54_2022-12-27_1430.rad'},\n",
       " '2022-12-27_1530': {'surf_azm': 270.0,\n",
       "  'surf_tilt': 19.82,\n",
       "  'theta': 19.82,\n",
       "  'dni': 151,\n",
       "  'ghi': 164,\n",
       "  'dhi': 118,\n",
       "  'temp_air': 12.8,\n",
       "  'wind_speed': 2.7,\n",
       "  'skyfile': 'skies/sky2_35.05_-106.54_2022-12-27_1530.rad'}}"
      ]
     },
     "execution_count": 12,
     "metadata": {},
     "output_type": "execute_result"
    }
   ],
   "source": [
    "demo.gendaylit1axis()"
   ]
  },
  {
   "cell_type": "code",
   "execution_count": 13,
   "id": "6023d245",
   "metadata": {},
   "outputs": [
    {
     "name": "stdout",
     "output_type": "stream",
     "text": [
      "\n",
      "Making ~8 .rad files for gendaylit 1-axis workflow (this takes a minute..)\n",
      "8 Radfiles created in /objects/\n",
      "\n",
      "Making 8 octfiles in root directory.\n",
      "Created 1axis_2022-12-27_0830.oct\n",
      "Created 1axis_2022-12-27_0930.oct\n",
      "Created 1axis_2022-12-27_1030.oct\n",
      "Created 1axis_2022-12-27_1130.oct\n",
      "Created 1axis_2022-12-27_1230.oct\n",
      "Created 1axis_2022-12-27_1330.oct\n",
      "Created 1axis_2022-12-27_1430.oct\n",
      "Created 1axis_2022-12-27_1530.oct\n"
     ]
    }
   ],
   "source": [
    "trackerdict = demo.makeScene1axis(module=moduletype, sceneDict=sceneDict)\n",
    "trackerdict = demo.makeOct1axis()"
   ]
  },
  {
   "cell_type": "code",
   "execution_count": 14,
   "id": "29d1f8d6",
   "metadata": {},
   "outputs": [],
   "source": [
    "#trackerdict = demo.analysis1axis(sensorsy=2, modWanted=13) # Middle Module"
   ]
  },
  {
   "cell_type": "code",
   "execution_count": 15,
   "id": "fa0ad981",
   "metadata": {},
   "outputs": [],
   "source": [
    "# trackerdict = demo.analysis1axis(sensorsy=2, modWanted = 1) # South Module"
   ]
  },
  {
   "cell_type": "code",
   "execution_count": 16,
   "id": "fea18091",
   "metadata": {},
   "outputs": [
    {
     "name": "stdout",
     "output_type": "stream",
     "text": [
      "Linescan in process: 1axis_2022-12-27_0830_Row3_Module25_Front\n",
      "Linescan in process: 1axis_2022-12-27_0830_Row3_Module25_Back\n",
      "Saved: results/irr_1axis_2022-12-27_0830_Row3_Module25.csv\n",
      "Index: 2022-12-27_0830. Wm2Front: 558.4800833333334. Wm2Back: 34.61458833333334\n",
      "Linescan in process: 1axis_2022-12-27_0930_Row3_Module25_Front\n",
      "Linescan in process: 1axis_2022-12-27_0930_Row3_Module25_Back\n",
      "Saved: results/irr_1axis_2022-12-27_0930_Row3_Module25.csv\n",
      "Index: 2022-12-27_0930. Wm2Front: 621.7642166666667. Wm2Back: 53.68253\n",
      "Linescan in process: 1axis_2022-12-27_1030_Row3_Module25_Front\n",
      "Linescan in process: 1axis_2022-12-27_1030_Row3_Module25_Back\n",
      "Saved: results/irr_1axis_2022-12-27_1030_Row3_Module25.csv\n",
      "Index: 2022-12-27_1030. Wm2Front: 553.9990666666667. Wm2Back: 66.10967666666667\n",
      "Linescan in process: 1axis_2022-12-27_1130_Row3_Module25_Front\n",
      "Linescan in process: 1axis_2022-12-27_1130_Row3_Module25_Back\n",
      "Saved: results/irr_1axis_2022-12-27_1130_Row3_Module25.csv\n",
      "Index: 2022-12-27_1130. Wm2Front: 531.0970500000001. Wm2Back: 72.63000499999998\n",
      "Linescan in process: 1axis_2022-12-27_1230_Row3_Module25_Front\n",
      "Linescan in process: 1axis_2022-12-27_1230_Row3_Module25_Back\n",
      "Saved: results/irr_1axis_2022-12-27_1230_Row3_Module25.csv\n",
      "Index: 2022-12-27_1230. Wm2Front: 471.04846666666674. Wm2Back: 64.70750833333334\n",
      "Linescan in process: 1axis_2022-12-27_1330_Row3_Module25_Front\n",
      "Linescan in process: 1axis_2022-12-27_1330_Row3_Module25_Back\n",
      "Saved: results/irr_1axis_2022-12-27_1330_Row3_Module25.csv\n",
      "Index: 2022-12-27_1330. Wm2Front: 373.34298333333334. Wm2Back: 59.09148833333333\n",
      "Linescan in process: 1axis_2022-12-27_1430_Row3_Module25_Front\n",
      "Linescan in process: 1axis_2022-12-27_1430_Row3_Module25_Back\n",
      "Saved: results/irr_1axis_2022-12-27_1430_Row3_Module25.csv\n",
      "Index: 2022-12-27_1430. Wm2Front: 497.8526166666667. Wm2Back: 46.986648333333335\n",
      "Linescan in process: 1axis_2022-12-27_1530_Row3_Module25_Front\n",
      "Linescan in process: 1axis_2022-12-27_1530_Row3_Module25_Back\n",
      "Saved: results/irr_1axis_2022-12-27_1530_Row3_Module25.csv\n",
      "Index: 2022-12-27_1530. Wm2Front: 201.3955666666667. Wm2Back: 21.168111666666668\n"
     ]
    }
   ],
   "source": [
    "trackerdict = demo.analysis1axis(sensorsy=2, modWanted = 25) # North Module"
   ]
  },
  {
   "cell_type": "code",
   "execution_count": 17,
   "id": "32b1dae4",
   "metadata": {},
   "outputs": [
    {
     "name": "stdout",
     "output_type": "stream",
     "text": [
      "Bifaciality factor of module stored is  1\n",
      "No CECModule data passed; using default for Prism Solar BHC72-400\n"
     ]
    },
    {
     "name": "stderr",
     "output_type": "stream",
     "text": [
      "/Users/storopov/Documents/GitHub/bifacial_radiance/bifacial_radiance/performance.py:64: FutureWarning: Calling float on a single element Series is deprecated and will raise a TypeError in the future. Use float(ser.iloc[0]) instead\n",
      "  alpha_sc=float(CECMod.alpha_sc),\n",
      "/Users/storopov/Documents/GitHub/bifacial_radiance/bifacial_radiance/performance.py:65: FutureWarning: Calling float on a single element Series is deprecated and will raise a TypeError in the future. Use float(ser.iloc[0]) instead\n",
      "  a_ref=float(CECMod.a_ref),\n",
      "/Users/storopov/Documents/GitHub/bifacial_radiance/bifacial_radiance/performance.py:66: FutureWarning: Calling float on a single element Series is deprecated and will raise a TypeError in the future. Use float(ser.iloc[0]) instead\n",
      "  I_L_ref=float(CECMod.I_L_ref),\n",
      "/Users/storopov/Documents/GitHub/bifacial_radiance/bifacial_radiance/performance.py:67: FutureWarning: Calling float on a single element Series is deprecated and will raise a TypeError in the future. Use float(ser.iloc[0]) instead\n",
      "  I_o_ref=float(CECMod.I_o_ref),\n",
      "/Users/storopov/Documents/GitHub/bifacial_radiance/bifacial_radiance/performance.py:68: FutureWarning: Calling float on a single element Series is deprecated and will raise a TypeError in the future. Use float(ser.iloc[0]) instead\n",
      "  R_sh_ref=float(CECMod.R_sh_ref),\n",
      "/Users/storopov/Documents/GitHub/bifacial_radiance/bifacial_radiance/performance.py:69: FutureWarning: Calling float on a single element Series is deprecated and will raise a TypeError in the future. Use float(ser.iloc[0]) instead\n",
      "  R_s=float(CECMod.R_s),\n",
      "/Users/storopov/Documents/GitHub/bifacial_radiance/bifacial_radiance/performance.py:70: FutureWarning: Calling float on a single element Series is deprecated and will raise a TypeError in the future. Use float(ser.iloc[0]) instead\n",
      "  Adjust=float(CECMod.Adjust)\n",
      "/Users/storopov/Documents/GitHub/bifacial_radiance/bifacial_radiance/performance.py:64: FutureWarning: Calling float on a single element Series is deprecated and will raise a TypeError in the future. Use float(ser.iloc[0]) instead\n",
      "  alpha_sc=float(CECMod.alpha_sc),\n",
      "/Users/storopov/Documents/GitHub/bifacial_radiance/bifacial_radiance/performance.py:65: FutureWarning: Calling float on a single element Series is deprecated and will raise a TypeError in the future. Use float(ser.iloc[0]) instead\n",
      "  a_ref=float(CECMod.a_ref),\n",
      "/Users/storopov/Documents/GitHub/bifacial_radiance/bifacial_radiance/performance.py:66: FutureWarning: Calling float on a single element Series is deprecated and will raise a TypeError in the future. Use float(ser.iloc[0]) instead\n",
      "  I_L_ref=float(CECMod.I_L_ref),\n",
      "/Users/storopov/Documents/GitHub/bifacial_radiance/bifacial_radiance/performance.py:67: FutureWarning: Calling float on a single element Series is deprecated and will raise a TypeError in the future. Use float(ser.iloc[0]) instead\n",
      "  I_o_ref=float(CECMod.I_o_ref),\n",
      "/Users/storopov/Documents/GitHub/bifacial_radiance/bifacial_radiance/performance.py:68: FutureWarning: Calling float on a single element Series is deprecated and will raise a TypeError in the future. Use float(ser.iloc[0]) instead\n",
      "  R_sh_ref=float(CECMod.R_sh_ref),\n",
      "/Users/storopov/Documents/GitHub/bifacial_radiance/bifacial_radiance/performance.py:69: FutureWarning: Calling float on a single element Series is deprecated and will raise a TypeError in the future. Use float(ser.iloc[0]) instead\n",
      "  R_s=float(CECMod.R_s),\n",
      "/Users/storopov/Documents/GitHub/bifacial_radiance/bifacial_radiance/performance.py:70: FutureWarning: Calling float on a single element Series is deprecated and will raise a TypeError in the future. Use float(ser.iloc[0]) instead\n",
      "  Adjust=float(CECMod.Adjust)\n"
     ]
    },
    {
     "data": {
      "text/plain": [
       "{'2022-12-27_0830': {'surf_azm': 90.0,\n",
       "  'surf_tilt': 55.0,\n",
       "  'theta': -55.0,\n",
       "  'dni': 720,\n",
       "  'ghi': 202,\n",
       "  'dhi': 34,\n",
       "  'temp_air': 5.3,\n",
       "  'wind_speed': 1.3,\n",
       "  'skyfile': 'skies/sky2_35.05_-106.54_2022-12-27_0830.rad',\n",
       "  'radfile': 'objects/1axis2022-12-27_0830__C_2.60139_rtr_11.92000_tilt_55.00000_50modsx5rows_origin0,0.rad',\n",
       "  'scene': {'module': {'x': 1.303, 'y': 2.384, 'z': 0.02, 'modulematerial': 'black', 'scenex': 1.305, 'sceney': 2.384, 'scenez': 0.095, 'numpanels': 1, 'bifi': 1, 'text': '! genbox black PVmod 1.303 2.384 0.02 | xform -t -0.6515 -1.192 0.095 -a 1 -t 0 2.384 0\\r\\n! genrev Metal_Grey tube1 t*1.305 0.075 32 | xform -ry 90 -t -0.6525 0 0', 'modulefile': 'objects/PVmod.rad', 'glass': False, 'offsetfromaxis': 0.095, 'xgap': 0.002, 'ygap': 0.0, 'zgap': 0.02}, 'modulefile': 'objects/PVmod.rad', 'hpc': False, 'name': 'Scene0', 'gcr': 0.19999999999999998, 'text': '!xform -rx 55.0 -t 0 0 3.5 -a 50 -t 1.305 0 0 -a 5 -t 0 11.92 0 -i 1 -t -31.32 -23.84 0 -rz 90.0 -t 0 0 0 objects/PVmod.rad', 'radfiles': 'objects/1axis2022-12-27_0830__C_2.60139_rtr_11.92000_tilt_55.00000_50modsx5rows_origin0,0.rad', 'sceneDict': {'tilt': 55.0, 'pitch': 11.92, 'clearance_height': 2.601390207414976, 'azimuth': 90.0, 'nMods': 50, 'nRows': 5, 'modulez': 0.02, 'axis_tilt': 0, 'originx': 0, 'originy': 0}},\n",
       "  'octfile': '1axis_2022-12-27_0830.oct',\n",
       "  'Results': [{'rowWanted': 3,\n",
       "    'modWanted': 25,\n",
       "    'AnalysisObj': {'octfile': '1axis_2022-12-27_0830.oct', 'name': '1axis_2022-12-27_0830', 'hpc': False, 'modWanted': 25, 'rowWanted': 3, 'x': [0.3229227, -0.1328794], 'y': [1.977331e-17, -8.136517e-18], 'z': [3.241058, 3.892011], 'rearZ': [3.22844, 3.879393], 'mattype': ['a24.2.a0.PVmod.6457', 'a24.2.a0.PVmod.6457'], 'rearMat': ['a24.2.a0.PVmod.2310', 'a24.2.a0.PVmod.2310'], 'Wm2Front': [557.4816666666667, 559.4785], 'Wm2Back': [34.11029333333334, 35.118883333333336], 'Back/FrontRatio': [0.06118628501454157, 0.06277063472983967], 'backRatio': [0.06118628501454157, 0.06277063472983967], 'rearX': [0.3049013, -0.1509007], 'rearY': [1.866982e-17, -9.240006e-18]},\n",
       "    'Wm2Front': [557.4816666666667, 559.4785],\n",
       "    'Wm2Back': [34.11029333333334, 35.118883333333336],\n",
       "    'backRatio': [0.06118628501454157, 0.06277063472983967]}],\n",
       "  'POA_eff': 593.0946716666667,\n",
       "  'Gfront_mean': 558.4800833333334,\n",
       "  'Grear_mean': 34.61458833333334,\n",
       "  'Pout_raw': 240.8534412260515,\n",
       "  'Pout_Gfront': 227.57489006247525,\n",
       "  'Mismatch': 4.596414209434467e-05,\n",
       "  'Pout': 240.85333051983355,\n",
       "  'Module_temp': 22.379302475010018},\n",
       " '2022-12-27_0930': {'surf_azm': 90.0,\n",
       "  'surf_tilt': 49.63,\n",
       "  'theta': -49.63,\n",
       "  'dni': 879,\n",
       "  'ghi': 367,\n",
       "  'dhi': 49,\n",
       "  'temp_air': 7.2,\n",
       "  'wind_speed': 2.0,\n",
       "  'skyfile': 'skies/sky2_35.05_-106.54_2022-12-27_0930.rad',\n",
       "  'radfile': 'objects/1axis2022-12-27_0930__C_2.66422_rtr_11.92000_tilt_49.63000_50modsx5rows_origin0,0.rad',\n",
       "  'scene': {'module': {'x': 1.303, 'y': 2.384, 'z': 0.02, 'modulematerial': 'black', 'scenex': 1.305, 'sceney': 2.384, 'scenez': 0.095, 'numpanels': 1, 'bifi': 1, 'text': '! genbox black PVmod 1.303 2.384 0.02 | xform -t -0.6515 -1.192 0.095 -a 1 -t 0 2.384 0\\r\\n! genrev Metal_Grey tube1 t*1.305 0.075 32 | xform -ry 90 -t -0.6525 0 0', 'modulefile': 'objects/PVmod.rad', 'glass': False, 'offsetfromaxis': 0.095, 'xgap': 0.002, 'ygap': 0.0, 'zgap': 0.02}, 'modulefile': 'objects/PVmod.rad', 'hpc': False, 'name': 'Scene0', 'gcr': 0.19999999999999998, 'text': '!xform -rx 49.63 -t 0 0 3.5 -a 50 -t 1.305 0 0 -a 5 -t 0 11.92 0 -i 1 -t -31.32 -23.84 0 -rz 90.0 -t 0 0 0 objects/PVmod.rad', 'radfiles': 'objects/1axis2022-12-27_0930__C_2.66422_rtr_11.92000_tilt_49.63000_50modsx5rows_origin0,0.rad', 'sceneDict': {'tilt': 49.63, 'pitch': 11.92, 'clearance_height': 2.664220318964124, 'azimuth': 90.0, 'nMods': 50, 'nRows': 5, 'modulez': 0.02, 'axis_tilt': 0, 'originx': 0, 'originy': 0}},\n",
       "  'octfile': '1axis_2022-12-27_0930.oct',\n",
       "  'Results': [{'rowWanted': 3,\n",
       "    'modWanted': 25,\n",
       "    'AnalysisObj': {'octfile': '1axis_2022-12-27_0930.oct', 'name': '1axis_2022-12-27_0930', 'hpc': False, 'modWanted': 25, 'rowWanted': 3, 'x': [0.345739, -0.1689834], 'y': [2.117041e-17, -1.034725e-17], 'z': [3.272416, 3.877855], 'rearZ': [3.258166, 3.863605], 'mattype': ['a24.2.a0.PVmod.6457', 'a24.2.a0.PVmod.6457'], 'rearMat': ['a24.2.a0.PVmod.2310', 'a24.2.a0.PVmod.2310'], 'Wm2Front': [620.5637666666667, 622.9646666666666], 'Wm2Back': [56.15871333333333, 51.20634666666666], 'Back/FrontRatio': [0.09049613569746655, 0.08219770270913807], 'backRatio': [0.09049613569746655, 0.08219770270913807], 'rearX': [0.3289777, -0.1857447], 'rearY': [2.014407e-17, -1.137358e-17]},\n",
       "    'Wm2Front': [620.5637666666667, 622.9646666666666],\n",
       "    'Wm2Back': [56.15871333333333, 51.20634666666666],\n",
       "    'backRatio': [0.09049613569746655, 0.08219770270913807]}],\n",
       "  'POA_eff': 675.4467466666667,\n",
       "  'Gfront_mean': 621.7642166666667,\n",
       "  'Grear_mean': 53.68253,\n",
       "  'Pout_raw': 270.9146075668995,\n",
       "  'Pout_Gfront': 250.7634724034085,\n",
       "  'Mismatch': 0.00019887753156988948,\n",
       "  'Pout': 270.91406877861533,\n",
       "  'Module_temp': 25.75960370029542},\n",
       " '2022-12-27_1030': {'surf_azm': 90.0,\n",
       "  'surf_tilt': 28.36,\n",
       "  'theta': -28.36,\n",
       "  'dni': 787,\n",
       "  'ghi': 474,\n",
       "  'dhi': 105,\n",
       "  'temp_air': 8.3,\n",
       "  'wind_speed': 4.0,\n",
       "  'skyfile': 'skies/sky2_35.05_-106.54_2022-12-27_1030.rad',\n",
       "  'radfile': 'objects/1axis2022-12-27_1030__C_2.97891_rtr_11.92000_tilt_28.36000_50modsx5rows_origin0,0.rad',\n",
       "  'scene': {'module': {'x': 1.303, 'y': 2.384, 'z': 0.02, 'modulematerial': 'black', 'scenex': 1.305, 'sceney': 2.384, 'scenez': 0.095, 'numpanels': 1, 'bifi': 1, 'text': '! genbox black PVmod 1.303 2.384 0.02 | xform -t -0.6515 -1.192 0.095 -a 1 -t 0 2.384 0\\r\\n! genrev Metal_Grey tube1 t*1.305 0.075 32 | xform -ry 90 -t -0.6525 0 0', 'modulefile': 'objects/PVmod.rad', 'glass': False, 'offsetfromaxis': 0.095, 'xgap': 0.002, 'ygap': 0.0, 'zgap': 0.02}, 'modulefile': 'objects/PVmod.rad', 'hpc': False, 'name': 'Scene0', 'gcr': 0.19999999999999998, 'text': '!xform -rx 28.36 -t 0 0 3.5 -a 50 -t 1.305 0 0 -a 5 -t 0 11.92 0 -i 1 -t -31.32 -23.84 0 -rz 90.0 -t 0 0 0 objects/PVmod.rad', 'radfiles': 'objects/1axis2022-12-27_1030__C_2.97891_rtr_11.92000_tilt_28.36000_50modsx5rows_origin0,0.rad', 'sceneDict': {'tilt': 28.36, 'pitch': 11.92, 'clearance_height': 2.9789140490229125, 'azimuth': 90.0, 'nMods': 50, 'nRows': 5, 'modulez': 0.02, 'axis_tilt': 0, 'originx': 0, 'originy': 0}},\n",
       "  'octfile': '1axis_2022-12-27_1030.oct',\n",
       "  'Results': [{'rowWanted': 3,\n",
       "    'modWanted': 25,\n",
       "    'AnalysisObj': {'octfile': '1axis_2022-12-27_1030.oct', 'name': '1axis_2022-12-27_1030', 'hpc': False, 'modWanted': 25, 'rowWanted': 3, 'x': [0.4047467, -0.2945444], 'y': [2.478359e-17, -1.803564e-17], 'z': [3.41334, 3.790815], 'rearZ': [3.393981, 3.771455], 'mattype': ['a24.2.a0.PVmod.6457', 'a24.2.a0.PVmod.6457'], 'rearMat': ['a24.2.a0.PVmod.2310', 'a24.2.a0.PVmod.2310'], 'Wm2Front': [553.7782666666667, 554.2198666666667], 'Wm2Back': [66.55136666666667, 65.66798666666666], 'Back/FrontRatio': [0.12017670337724212, 0.11848703398993879], 'backRatio': [0.12017670337724212, 0.11848703398993879], 'rearX': [0.3942965, -0.3049946], 'rearY': [2.41437e-17, -1.867553e-17]},\n",
       "    'Wm2Front': [553.7782666666667, 554.2198666666667],\n",
       "    'Wm2Back': [66.55136666666667, 65.66798666666666],\n",
       "    'backRatio': [0.12017670337724212, 0.11848703398993879]}],\n",
       "  'POA_eff': 620.1087433333335,\n",
       "  'Gfront_mean': 553.9990666666667,\n",
       "  'Grear_mean': 66.10967666666667,\n",
       "  'Pout_raw': 251.06390972997883,\n",
       "  'Pout_Gfront': 225.53510696594293,\n",
       "  'Mismatch': 3.849752721330676e-05,\n",
       "  'Pout': 251.06381307658188,\n",
       "  'Module_temp': 23.224776938780494},\n",
       " '2022-12-27_1130': {'surf_azm': 90.0,\n",
       "  'surf_tilt': 3.2,\n",
       "  'theta': -3.2,\n",
       "  'dni': 734,\n",
       "  'ghi': 537,\n",
       "  'dhi': 147,\n",
       "  'temp_air': 9.6,\n",
       "  'wind_speed': 4.0,\n",
       "  'skyfile': 'skies/sky2_35.05_-106.54_2022-12-27_1130.rad',\n",
       "  'radfile': 'objects/1axis2022-12-27_1130__C_3.43876_rtr_11.92000_tilt_3.20000_50modsx5rows_origin0,0.rad',\n",
       "  'scene': {'module': {'x': 1.303, 'y': 2.384, 'z': 0.02, 'modulematerial': 'black', 'scenex': 1.305, 'sceney': 2.384, 'scenez': 0.095, 'numpanels': 1, 'bifi': 1, 'text': '! genbox black PVmod 1.303 2.384 0.02 | xform -t -0.6515 -1.192 0.095 -a 1 -t 0 2.384 0\\r\\n! genrev Metal_Grey tube1 t*1.305 0.075 32 | xform -ry 90 -t -0.6525 0 0', 'modulefile': 'objects/PVmod.rad', 'glass': False, 'offsetfromaxis': 0.095, 'xgap': 0.002, 'ygap': 0.0, 'zgap': 0.02}, 'modulefile': 'objects/PVmod.rad', 'hpc': False, 'name': 'Scene0', 'gcr': 0.19999999999999998, 'text': '!xform -rx 3.2 -t 0 0 3.5 -a 50 -t 1.305 0 0 -a 5 -t 0 11.92 0 -i 1 -t -31.32 -23.84 0 -rz 90.0 -t 0 0 0 objects/PVmod.rad', 'radfiles': 'objects/1axis2022-12-27_1130__C_3.43876_rtr_11.92000_tilt_3.20000_50modsx5rows_origin0,0.rad', 'sceneDict': {'tilt': 3.2, 'pitch': 11.92, 'clearance_height': 3.438763809022499, 'azimuth': 90.0, 'nMods': 50, 'nRows': 5, 'modulez': 0.02, 'axis_tilt': 0, 'originx': 0, 'originy': 0}},\n",
       "  'octfile': '1axis_2022-12-27_1130.oct',\n",
       "  'Results': [{'rowWanted': 3,\n",
       "    'modWanted': 25,\n",
       "    'AnalysisObj': {'octfile': '1axis_2022-12-27_1130.oct', 'name': '1axis_2022-12-27_1130', 'hpc': False, 'modWanted': 25, 'rowWanted': 3, 'x': [0.4031891, -0.3902385], 'y': [2.468821e-17, -2.389522e-17], 'z': [3.593639, 3.637999], 'rearZ': [3.571674, 3.616033], 'mattype': ['a24.2.a0.PVmod.6457', 'a24.2.a0.PVmod.6457'], 'rearMat': ['a24.2.a0.PVmod.2310', 'a24.2.a0.PVmod.2310'], 'Wm2Front': [531.0974, 531.0967], 'Wm2Back': [72.89732, 72.36268999999999], 'Back/FrontRatio': [0.13725765319571664, 0.13625118316272125], 'backRatio': [0.13725765319571664, 0.13625118316272125], 'rearX': [0.401961, -0.3914666], 'rearY': [2.461301e-17, -2.397041e-17]},\n",
       "    'Wm2Front': [531.0974, 531.0967],\n",
       "    'Wm2Back': [72.89732, 72.36268999999999],\n",
       "    'backRatio': [0.13725765319571664, 0.13625118316272125]}],\n",
       "  'POA_eff': 603.7270550000001,\n",
       "  'Gfront_mean': 531.0970500000001,\n",
       "  'Grear_mean': 72.63000499999998,\n",
       "  'Pout_raw': 243.61935525666473,\n",
       "  'Pout_Gfront': 215.5725060319064,\n",
       "  'Mismatch': 2.3923159282158112e-05,\n",
       "  'Pout': 243.61929697521833,\n",
       "  'Module_temp': 24.13050247178721},\n",
       " '2022-12-27_1230': {'surf_azm': 90.0,\n",
       "  'surf_tilt': -22.5,\n",
       "  'theta': 22.5,\n",
       "  'dni': 410,\n",
       "  'ghi': 471,\n",
       "  'dhi': 244,\n",
       "  'temp_air': 10.4,\n",
       "  'wind_speed': 3.6,\n",
       "  'skyfile': 'skies/sky2_35.05_-106.54_2022-12-27_1230.rad',\n",
       "  'radfile': 'objects/1axis2022-12-27_1230__C_3.08020_rtr_11.92000_tilt_-22.50000_50modsx5rows_origin0,0.rad',\n",
       "  'scene': {'module': {'x': 1.303, 'y': 2.384, 'z': 0.02, 'modulematerial': 'black', 'scenex': 1.305, 'sceney': 2.384, 'scenez': 0.095, 'numpanels': 1, 'bifi': 1, 'text': '! genbox black PVmod 1.303 2.384 0.02 | xform -t -0.6515 -1.192 0.095 -a 1 -t 0 2.384 0\\r\\n! genrev Metal_Grey tube1 t*1.305 0.075 32 | xform -ry 90 -t -0.6525 0 0', 'modulefile': 'objects/PVmod.rad', 'glass': False, 'offsetfromaxis': 0.095, 'xgap': 0.002, 'ygap': 0.0, 'zgap': 0.02}, 'modulefile': 'objects/PVmod.rad', 'hpc': False, 'name': 'Scene0', 'gcr': 0.19999999999999998, 'text': '!xform -rx -22.5 -t 0 0 3.5 -a 50 -t 1.305 0 0 -a 5 -t 0 11.92 0 -i 1 -t -31.32 -23.84 0 -rz 90.0 -t 0 0 0 objects/PVmod.rad', 'radfiles': 'objects/1axis2022-12-27_1230__C_3.08020_rtr_11.92000_tilt_-22.50000_50modsx5rows_origin0,0.rad', 'sceneDict': {'tilt': -22.5, 'pitch': 11.92, 'clearance_height': 3.0801962746954965, 'azimuth': 90.0, 'nMods': 50, 'nRows': 5, 'modulez': 0.02, 'axis_tilt': 0, 'originx': 0, 'originy': 0}},\n",
       "  'octfile': '1axis_2022-12-27_1230.oct',\n",
       "  'Results': [{'rowWanted': 3,\n",
       "    'modWanted': 25,\n",
       "    'AnalysisObj': {'octfile': '1axis_2022-12-27_1230.oct', 'name': '1axis_2022-12-27_1230', 'hpc': False, 'modWanted': 25, 'rowWanted': 3, 'x': [0.3226969, -0.4114794], 'y': [1.975948e-17, -2.519585e-17], 'z': [3.759223, 3.455117], 'rearZ': [3.738898, 3.434792], 'mattype': ['a24.2.a0.PVmod.6457', 'a24.2.a0.PVmod.6457'], 'rearMat': ['a24.2.a0.PVmod.2310', 'a24.2.a0.PVmod.2310'], 'Wm2Front': [471.32586666666674, 470.7710666666667], 'Wm2Back': [65.35099666666667, 64.06402], 'Back/FrontRatio': [0.13865323894825715, 0.1360828828558364], 'backRatio': [0.13865323894825715, 0.1360828828558364], 'rearX': [0.3311159, -0.4030604], 'rearY': [2.0275e-17, -2.468033e-17]},\n",
       "    'Wm2Front': [471.32586666666674, 470.7710666666667],\n",
       "    'Wm2Back': [65.35099666666667, 64.06402],\n",
       "    'backRatio': [0.13865323894825715, 0.1360828828558364]}],\n",
       "  'POA_eff': 535.755975,\n",
       "  'Gfront_mean': 471.04846666666674,\n",
       "  'Grear_mean': 64.70750833333334,\n",
       "  'Pout_raw': 216.4785219234948,\n",
       "  'Pout_Gfront': 191.24275557133984,\n",
       "  'Mismatch': 6.495667381739597e-05,\n",
       "  'Pout': 216.47838130624743,\n",
       "  'Module_temp': 23.63832421364476},\n",
       " '2022-12-27_1330': {'surf_azm': 90.0,\n",
       "  'surf_tilt': -44.85,\n",
       "  'theta': 44.85,\n",
       "  'dni': 157,\n",
       "  'ghi': 349,\n",
       "  'dhi': 267,\n",
       "  'temp_air': 11.3,\n",
       "  'wind_speed': 2.0,\n",
       "  'skyfile': 'skies/sky2_35.05_-106.54_2022-12-27_1330.rad',\n",
       "  'radfile': 'objects/1axis2022-12-27_1330__C_2.72634_rtr_11.92000_tilt_-44.85000_50modsx5rows_origin0,0.rad',\n",
       "  'scene': {'module': {'x': 1.303, 'y': 2.384, 'z': 0.02, 'modulematerial': 'black', 'scenex': 1.305, 'sceney': 2.384, 'scenez': 0.095, 'numpanels': 1, 'bifi': 1, 'text': '! genbox black PVmod 1.303 2.384 0.02 | xform -t -0.6515 -1.192 0.095 -a 1 -t 0 2.384 0\\r\\n! genrev Metal_Grey tube1 t*1.305 0.075 32 | xform -ry 90 -t -0.6525 0 0', 'modulefile': 'objects/PVmod.rad', 'glass': False, 'offsetfromaxis': 0.095, 'xgap': 0.002, 'ygap': 0.0, 'zgap': 0.02}, 'modulefile': 'objects/PVmod.rad', 'hpc': False, 'name': 'Scene0', 'gcr': 0.19999999999999998, 'text': '!xform -rx -44.85 -t 0 0 3.5 -a 50 -t 1.305 0 0 -a 5 -t 0 11.92 0 -i 1 -t -31.32 -23.84 0 -rz 90.0 -t 0 0 0 objects/PVmod.rad', 'radfiles': 'objects/1axis2022-12-27_1330__C_2.72634_rtr_11.92000_tilt_-44.85000_50modsx5rows_origin0,0.rad', 'sceneDict': {'tilt': -44.85, 'pitch': 11.92, 'clearance_height': 2.7263372847288054, 'azimuth': 90.0, 'nMods': 50, 'nRows': 5, 'modulez': 0.02, 'axis_tilt': 0, 'originx': 0, 'originy': 0}},\n",
       "  'octfile': '1axis_2022-12-27_1330.oct',\n",
       "  'Results': [{'rowWanted': 3,\n",
       "    'modWanted': 25,\n",
       "    'AnalysisObj': {'octfile': '1axis_2022-12-27_1330.oct', 'name': '1axis_2022-12-27_1330', 'hpc': False, 'modWanted': 25, 'rowWanted': 3, 'x': [0.1998823, -0.363501], 'y': [1.223926e-17, -2.225802e-17], 'z': [3.862459, 3.302018], 'rearZ': [3.846862, 3.286421], 'mattype': ['a24.2.a0.PVmod.6457', 'a24.2.a0.PVmod.6457'], 'rearMat': ['a24.2.a0.PVmod.2310', 'a24.2.a0.PVmod.2310'], 'Wm2Front': [375.98883333333333, 370.69713333333334], 'Wm2Back': [62.29225333333333, 55.890723333333334], 'Back/FrontRatio': [0.16567536622222498, 0.1507715262301474], 'backRatio': [0.16567536622222498, 0.1507715262301474], 'rearX': [0.2153979, -0.3479855], 'rearY': [1.318932e-17, -2.130796e-17]},\n",
       "    'Wm2Front': [375.98883333333333, 370.69713333333334],\n",
       "    'Wm2Back': [62.29225333333333, 55.890723333333334],\n",
       "    'backRatio': [0.16567536622222498, 0.1507715262301474]}],\n",
       "  'POA_eff': 432.4344716666667,\n",
       "  'Gfront_mean': 373.34298333333334,\n",
       "  'Grear_mean': 59.09148833333333,\n",
       "  'Pout_raw': 174.64757175077338,\n",
       "  'Pout_Gfront': 151.3453726491084,\n",
       "  'Mismatch': 0.0004034190699890588,\n",
       "  'Pout': 174.64686718916366,\n",
       "  'Module_temp': 23.18222825868566},\n",
       " '2022-12-27_1430': {'surf_azm': 90.0,\n",
       "  'surf_tilt': -55.0,\n",
       "  'theta': 55.0,\n",
       "  'dni': 513,\n",
       "  'ghi': 314,\n",
       "  'dhi': 115,\n",
       "  'temp_air': 12.3,\n",
       "  'wind_speed': 1.4,\n",
       "  'skyfile': 'skies/sky2_35.05_-106.54_2022-12-27_1430.rad',\n",
       "  'radfile': 'objects/1axis2022-12-27_1430__C_2.60139_rtr_11.92000_tilt_-55.00000_50modsx5rows_origin0,0.rad',\n",
       "  'scene': {'module': {'x': 1.303, 'y': 2.384, 'z': 0.02, 'modulematerial': 'black', 'scenex': 1.305, 'sceney': 2.384, 'scenez': 0.095, 'numpanels': 1, 'bifi': 1, 'text': '! genbox black PVmod 1.303 2.384 0.02 | xform -t -0.6515 -1.192 0.095 -a 1 -t 0 2.384 0\\r\\n! genrev Metal_Grey tube1 t*1.305 0.075 32 | xform -ry 90 -t -0.6525 0 0', 'modulefile': 'objects/PVmod.rad', 'glass': False, 'offsetfromaxis': 0.095, 'xgap': 0.002, 'ygap': 0.0, 'zgap': 0.02}, 'modulefile': 'objects/PVmod.rad', 'hpc': False, 'name': 'Scene0', 'gcr': 0.19999999999999998, 'text': '!xform -rx -55.0 -t 0 0 3.5 -a 50 -t 1.305 0 0 -a 5 -t 0 11.92 0 -i 1 -t -31.32 -23.84 0 -rz 90.0 -t 0 0 0 objects/PVmod.rad', 'radfiles': 'objects/1axis2022-12-27_1430__C_2.60139_rtr_11.92000_tilt_-55.00000_50modsx5rows_origin0,0.rad', 'sceneDict': {'tilt': -55.0, 'pitch': 11.92, 'clearance_height': 2.601390207414976, 'azimuth': 90.0, 'nMods': 50, 'nRows': 5, 'modulez': 0.02, 'axis_tilt': 0, 'originx': 0, 'originy': 0}},\n",
       "  'octfile': '1axis_2022-12-27_1430.oct',\n",
       "  'Results': [{'rowWanted': 3,\n",
       "    'modWanted': 25,\n",
       "    'AnalysisObj': {'octfile': '1axis_2022-12-27_1430.oct', 'name': '1axis_2022-12-27_1430', 'hpc': False, 'modWanted': 25, 'rowWanted': 3, 'x': [0.1328794, -0.3229227], 'y': [8.136517e-18, -1.977331e-17], 'z': [3.892011, 3.241058], 'rearZ': [3.879393, 3.22844], 'mattype': ['a24.2.a0.PVmod.6457', 'a24.2.a0.PVmod.6457'], 'rearMat': ['a24.2.a0.PVmod.2310', 'a24.2.a0.PVmod.2310'], 'Wm2Front': [500.59156666666667, 495.11366666666663], 'Wm2Back': [47.16007333333334, 46.81322333333333], 'Back/FrontRatio': [0.09420849703654544, 0.09455026579701403], 'backRatio': [0.09420849703654544, 0.09455026579701403], 'rearX': [0.1509007, -0.3049013], 'rearY': [9.240006e-18, -1.866982e-17]},\n",
       "    'Wm2Front': [500.59156666666667, 495.11366666666663],\n",
       "    'Wm2Back': [47.16007333333334, 46.81322333333333],\n",
       "    'backRatio': [0.09420849703654544, 0.09455026579701403]}],\n",
       "  'POA_eff': 544.8392650000001,\n",
       "  'Gfront_mean': 497.8526166666667,\n",
       "  'Grear_mean': 46.986648333333335,\n",
       "  'Pout_raw': 216.73996462690332,\n",
       "  'Pout_Gfront': 198.90052660821277,\n",
       "  'Mismatch': 1.7195353454725185e-05,\n",
       "  'Pout': 216.73992735770034,\n",
       "  'Module_temp': 27.884675658152112},\n",
       " '2022-12-27_1530': {'surf_azm': 90.0,\n",
       "  'surf_tilt': -19.82,\n",
       "  'theta': 19.82,\n",
       "  'dni': 151,\n",
       "  'ghi': 164,\n",
       "  'dhi': 118,\n",
       "  'temp_air': 12.8,\n",
       "  'wind_speed': 2.7,\n",
       "  'skyfile': 'skies/sky2_35.05_-106.54_2022-12-27_1530.rad',\n",
       "  'radfile': 'objects/1axis2022-12-27_1530__C_3.12804_rtr_11.92000_tilt_-19.82000_50modsx5rows_origin0,0.rad',\n",
       "  'scene': {'module': {'x': 1.303, 'y': 2.384, 'z': 0.02, 'modulematerial': 'black', 'scenex': 1.305, 'sceney': 2.384, 'scenez': 0.095, 'numpanels': 1, 'bifi': 1, 'text': '! genbox black PVmod 1.303 2.384 0.02 | xform -t -0.6515 -1.192 0.095 -a 1 -t 0 2.384 0\\r\\n! genrev Metal_Grey tube1 t*1.305 0.075 32 | xform -ry 90 -t -0.6525 0 0', 'modulefile': 'objects/PVmod.rad', 'glass': False, 'offsetfromaxis': 0.095, 'xgap': 0.002, 'ygap': 0.0, 'zgap': 0.02}, 'modulefile': 'objects/PVmod.rad', 'hpc': False, 'name': 'Scene0', 'gcr': 0.19999999999999998, 'text': '!xform -rx -19.82 -t 0 0 3.5 -a 50 -t 1.305 0 0 -a 5 -t 0 11.92 0 -i 1 -t -31.32 -23.84 0 -rz 90.0 -t 0 0 0 objects/PVmod.rad', 'radfiles': 'objects/1axis2022-12-27_1530__C_3.12804_rtr_11.92000_tilt_-19.82000_50modsx5rows_origin0,0.rad', 'sceneDict': {'tilt': -19.82, 'pitch': 11.92, 'clearance_height': 3.1280442371448487, 'azimuth': 90.0, 'nMods': 50, 'nRows': 5, 'modulez': 0.02, 'axis_tilt': 0, 'originx': 0, 'originy': 0}},\n",
       "  'octfile': '1axis_2022-12-27_1530.oct',\n",
       "  'Results': [{'rowWanted': 3,\n",
       "    'modWanted': 25,\n",
       "    'AnalysisObj': {'octfile': '1axis_2022-12-27_1530.oct', 'name': '1axis_2022-12-27_1530', 'hpc': False, 'modWanted': 25, 'rowWanted': 3, 'x': [0.3344646, -0.413128], 'y': [2.048005e-17, -2.529679e-17], 'z': [3.743851, 3.474406], 'rearZ': [3.723154, 3.453709], 'mattype': ['a24.2.a0.PVmod.6457', 'a24.2.a0.PVmod.6457'], 'rearMat': ['a24.2.a0.PVmod.2310', 'a24.2.a0.PVmod.2310'], 'Wm2Front': [201.45936666666668, 201.33176666666668], 'Wm2Back': [21.68048, 20.655743333333334], 'Back/FrontRatio': [0.10761660151186063, 0.10259504041650447], 'backRatio': [0.10761660151186063, 0.10259504041650447], 'rearX': [0.3419241, -0.4056685], 'rearY': [2.093681e-17, -2.484003e-17]},\n",
       "    'Wm2Front': [201.45936666666668, 201.33176666666668],\n",
       "    'Wm2Back': [21.68048, 20.655743333333334],\n",
       "    'backRatio': [0.10761660151186063, 0.10259504041650447]}],\n",
       "  'POA_eff': 222.56367833333337,\n",
       "  'Gfront_mean': 201.3955666666667,\n",
       "  'Grear_mean': 21.168111666666668,\n",
       "  'Pout_raw': 90.13482969434627,\n",
       "  'Pout_Gfront': 81.5019516652007,\n",
       "  'Mismatch': 0.0001246748727560511,\n",
       "  'Pout': 90.13471731886203,\n",
       "  'Module_temp': 18.636866831559846}}"
      ]
     },
     "execution_count": 17,
     "metadata": {},
     "output_type": "execute_result"
    }
   ],
   "source": [
    "demo.calculateResults()"
   ]
  },
  {
   "cell_type": "code",
   "execution_count": 18,
   "id": "f7bab0b0",
   "metadata": {},
   "outputs": [],
   "source": [
    "# demo.CompiledResults.set_index('timestamp', inplace=True)\n",
    "# demo.CompiledResults\n",
    "# Grear_mean and Gfront_mean values to be recorded in the excel"
   ]
  },
  {
   "cell_type": "code",
   "execution_count": 19,
   "id": "9c538741",
   "metadata": {},
   "outputs": [],
   "source": [
    "demo.exportScenarioData(trackerdict, savefile = Path().resolve().parent.parent / 'Results' / 'Ref-B-Dec-27-N.csv')"
   ]
  },
  {
   "cell_type": "code",
   "execution_count": null,
   "id": "b611a18e",
   "metadata": {},
   "outputs": [],
   "source": []
  }
 ],
 "metadata": {
  "kernelspec": {
   "display_name": "Python 3 (ipykernel)",
   "language": "python",
   "name": "python3"
  },
  "language_info": {
   "codemirror_mode": {
    "name": "ipython",
    "version": 3
   },
   "file_extension": ".py",
   "mimetype": "text/x-python",
   "name": "python",
   "nbconvert_exporter": "python",
   "pygments_lexer": "ipython3",
   "version": "3.11.5"
  }
 },
 "nbformat": 4,
 "nbformat_minor": 5
}
