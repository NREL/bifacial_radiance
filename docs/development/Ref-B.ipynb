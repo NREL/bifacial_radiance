{
 "cells": [
  {
   "cell_type": "markdown",
   "id": "3330d345",
   "metadata": {},
   "source": [
    "# Ref-B\n",
    "* GCR = 0.4\n",
    "* Albedo = 0.2\n",
    "* Hub Height = 3.5\n",
    "* Configuration = 1-Up portrait\n",
    "* Ground surface = Horizontal\n",
    "***\n",
    "* For a 2-Up portrait system with a GCR of 0.4 the pitch is 2*5.96m = 11.92m\n",
    "* 2-up Portrait: 5 rows, each with 25 x 2 = 50 modules (Figure 4)\n",
    "* Torque tube diameter = 15 cm. (round)\n",
    "* Maximum tracker rotation angle = 55 deg\n",
    "* Backtracking is enabled\n",
    "* Location: Albuquerque, New Mexico USA (35.05°, -106.54°)"
   ]
  },
  {
   "cell_type": "code",
   "execution_count": 1,
   "id": "760e9b21",
   "metadata": {},
   "outputs": [
    {
     "name": "stdout",
     "output_type": "stream",
     "text": [
      "Your simulation will be stored in Scenarios/Ref-B\n"
     ]
    }
   ],
   "source": [
    "import os\n",
    "from pathlib import Path\n",
    "\n",
    "testfolder = 'Scenarios/Ref-B'\n",
    "\n",
    "if not os.path.exists(testfolder):\n",
    "    os.makedirs(testfolder)\n",
    "    \n",
    "print (\"Your simulation will be stored in %s\" % testfolder)"
   ]
  },
  {
   "cell_type": "code",
   "execution_count": 2,
   "id": "aa782cd2",
   "metadata": {},
   "outputs": [],
   "source": [
    "import bifacial_radiance as br\n",
    "import bifacialvf as bf\n",
    "import numpy as np\n",
    "import pandas as pd\n",
    "import matplotlib.pyplot as plt\n",
    "import sys, platform\n",
    "import csv\n",
    "from pathlib import Path"
   ]
  },
  {
   "cell_type": "code",
   "execution_count": 3,
   "id": "2d3d89b5",
   "metadata": {},
   "outputs": [
    {
     "name": "stdout",
     "output_type": "stream",
     "text": [
      "Working on a  Darwin 23.3.0\n",
      "Python version  3.11.5 (main, Sep 11 2023, 08:19:27) [Clang 14.0.6 ]\n",
      "Pandas version  2.0.3\n",
      "bifacial_radiance version  0.4.2+244.g943b3f4.dirty\n",
      "pyplot  3.7.2\n",
      "bifacialvf version  0.1.8.1\n"
     ]
    }
   ],
   "source": [
    "print(\"Working on a \", platform.system(), platform.release())\n",
    "print(\"Python version \", sys.version)\n",
    "print(\"Pandas version \", pd.__version__)\n",
    "print(\"bifacial_radiance version \", br.__version__)\n",
    "print(\"pyplot \", plt.matplotlib.__version__)\n",
    "print(\"bifacialvf version \", bf.__version__)"
   ]
  },
  {
   "cell_type": "code",
   "execution_count": 4,
   "id": "8a48f304",
   "metadata": {},
   "outputs": [],
   "source": [
    "simulationname = 'Ref-B'\n",
    "\n",
    "# Location Albuquerque, New Mexico, USA\n",
    "lat = 35.05\n",
    "lon = -106.54\n",
    "\n",
    "# Scene Parameters\n",
    "azimuth=90\n",
    "tilt=30\n",
    "\n",
    "# MakeModule Parameters\n",
    "moduletype='PVmod'\n",
    "numpanels=1\n",
    "module_x = 1.303 # m\n",
    "module_y = 2.384 # m. slope we will measure\n",
    "sensorsy=2\n",
    "torquetube_diam = 0.15\n",
    "\n",
    "zgap = 0.02 # m\n",
    "xgap = 0.002 # m\n",
    "\n",
    "# SceneDict Parameters\n",
    "pitch = 11.92 # m\n",
    "albedo = 0.2\n",
    "hub_height = 3.5 # m  \n",
    "nMods = 50 \n",
    "nRows = 5\n",
    "\n",
    "sceneDict = {'tilt':tilt,'pitch':pitch,'albedo': albedo,'hub_height':hub_height,'azimuth':azimuth, 'nMods': nMods, 'nRows': nRows} "
   ]
  },
  {
   "cell_type": "code",
   "execution_count": 5,
   "id": "eb5df558",
   "metadata": {
    "scrolled": true
   },
   "outputs": [
    {
     "name": "stdout",
     "output_type": "stream",
     "text": [
      "path = Scenarios/Ref-B\n",
      "Making path: images\n",
      "Making path: objects\n",
      "Making path: results\n",
      "Making path: skies\n",
      "Making path: EPWs\n",
      "Making path: materials\n",
      "Loading albedo, 1 value(s), 0.200 avg\n",
      "1 nonzero albedo values.\n"
     ]
    }
   ],
   "source": [
    "demo = br.RadianceObj(simulationname,path = testfolder)\n",
    "demo.setGround(albedo)"
   ]
  },
  {
   "cell_type": "code",
   "execution_count": 6,
   "id": "4b7e271b",
   "metadata": {},
   "outputs": [],
   "source": [
    "cumulativesky = False\n",
    "trackerParams = {\n",
    "    'limit_angle': 55,\n",
    "    'backtrack': True,\n",
    "    'gcr': 0.4,\n",
    "    'azimuth': 180,  # axis angle, N-S = 180\n",
    "    'cumulativesky': cumulativesky\n",
    "}"
   ]
  },
  {
   "cell_type": "code",
   "execution_count": 7,
   "id": "e1e7d382",
   "metadata": {
    "scrolled": true
   },
   "outputs": [
    {
     "name": "stdout",
     "output_type": "stream",
     "text": [
      "\n",
      "Module Name: PVmod\n",
      "Module PVmod updated in module.json\n"
     ]
    }
   ],
   "source": [
    "module=demo.makeModule(name=moduletype,x=module_x,y=module_y, xgap=xgap, zgap=zgap)"
   ]
  },
  {
   "cell_type": "code",
   "execution_count": 8,
   "id": "f11ce3f5",
   "metadata": {},
   "outputs": [
    {
     "name": "stdout",
     "output_type": "stream",
     "text": [
      "Module PVmod updated in module.json\n",
      "Pre-existing .rad file objects/PVmod.rad will be overwritten\n",
      "\n"
     ]
    }
   ],
   "source": [
    "module.addTorquetube(diameter=torquetube_diam, tubetype='Round', material='Metal_Grey', \n",
    "                     axisofrotation=True, visible=True, recompile=True)"
   ]
  },
  {
   "cell_type": "code",
   "execution_count": 9,
   "id": "c8a318c8",
   "metadata": {},
   "outputs": [
    {
     "data": {
      "text/plain": [
       "'/Users/storopov/Documents/GitHub/bifacial_radiance/docs/development/Instructions/Phase2_meteo_hourly_psm3format.csv'"
      ]
     },
     "execution_count": 9,
     "metadata": {},
     "output_type": "execute_result"
    }
   ],
   "source": [
    "weatherfile = str(Path().resolve().parent.parent / 'Instructions' / 'Phase2_meteo_hourly_psm3format.csv')\n",
    "weatherfile"
   ]
  },
  {
   "cell_type": "code",
   "execution_count": 10,
   "id": "966c7daf",
   "metadata": {
    "scrolled": true
   },
   "outputs": [
    {
     "name": "stdout",
     "output_type": "stream",
     "text": [
      "COLUMN DATAS Index(['Year', 'Month', 'Day', 'Hour', 'Minute', 'GHI', 'DNI', 'DHI',\n",
      "       'temp_air', 'wind_speed', 'humidity', 'Unnamed: 11', 'Unnamed: 12',\n",
      "       'Unnamed: 13', 'Unnamed: 14', 'Unnamed: 15', 'Unnamed: 16',\n",
      "       'Unnamed: 17'],\n",
      "      dtype='object')\n",
      "8760 line in WeatherFile. Assuming this is a standard hourly WeatherFile for the year for purposes of saving Gencumulativesky temporary weather files in EPW folder.\n",
      "Coercing year to 2022\n",
      "Filtering dates\n",
      "Saving file EPWs/metdata_temp.csv, # points: 8760\n",
      "Calculating Sun position for Metdata that is left-labeled  with a delta of +30 mins. i.e. 12 is 12:30 sunpos.\n"
     ]
    }
   ],
   "source": [
    "metdata = demo.readWeatherFile(weatherfile, source='sam', starttime='2022-01-01_1000', endtime='2022-01-01_1200')"
   ]
  },
  {
   "cell_type": "code",
   "execution_count": 11,
   "id": "556da4dc",
   "metadata": {},
   "outputs": [],
   "source": [
    "trackerdict = demo.set1axis(**trackerParams)"
   ]
  },
  {
   "cell_type": "code",
   "execution_count": 12,
   "id": "e814024e",
   "metadata": {},
   "outputs": [
    {
     "name": "stdout",
     "output_type": "stream",
     "text": [
      "Creating ~2 skyfiles. \n",
      "Created 2 skyfiles in /skies/\n"
     ]
    },
    {
     "data": {
      "text/plain": [
       "{'2022-01-01_1030': {'surf_azm': 90.0,\n",
       "  'surf_tilt': 29.16,\n",
       "  'theta': -29.16,\n",
       "  'dni': 5,\n",
       "  'ghi': 112,\n",
       "  'dhi': 108,\n",
       "  'temp_air': 3.9,\n",
       "  'wind_speed': 4.7,\n",
       "  'skyfile': 'skies/sky2_35.05_-106.54_2022-01-01_1030.rad'},\n",
       " '2022-01-01_1130': {'surf_azm': 90.0,\n",
       "  'surf_tilt': 4.27,\n",
       "  'theta': -4.27,\n",
       "  'dni': 60,\n",
       "  'ghi': 265,\n",
       "  'dhi': 232,\n",
       "  'temp_air': 3.3,\n",
       "  'wind_speed': 5.5,\n",
       "  'skyfile': 'skies/sky2_35.05_-106.54_2022-01-01_1130.rad'}}"
      ]
     },
     "execution_count": 12,
     "metadata": {},
     "output_type": "execute_result"
    }
   ],
   "source": [
    "demo.gendaylit1axis()"
   ]
  },
  {
   "cell_type": "code",
   "execution_count": 13,
   "id": "6023d245",
   "metadata": {},
   "outputs": [
    {
     "name": "stdout",
     "output_type": "stream",
     "text": [
      "\n",
      "Making ~2 .rad files for gendaylit 1-axis workflow (this takes a minute..)\n",
      "2 Radfiles created in /objects/\n",
      "\n",
      "Making 2 octfiles in root directory.\n",
      "Created 1axis_2022-01-01_1030.oct\n",
      "Created 1axis_2022-01-01_1130.oct\n"
     ]
    }
   ],
   "source": [
    "trackerdict = demo.makeScene1axis(module=moduletype, sceneDict=sceneDict)\n",
    "trackerdict = demo.makeOct1axis()"
   ]
  },
  {
   "cell_type": "code",
   "execution_count": 14,
   "id": "29d1f8d6",
   "metadata": {},
   "outputs": [
    {
     "name": "stdout",
     "output_type": "stream",
     "text": [
      "Linescan in process: 1axis_2022-01-01_1030_Row3_Module25_Front\n",
      "Linescan in process: 1axis_2022-01-01_1030_Row3_Module25_Back\n",
      "Saved: results/irr_1axis_2022-01-01_1030_Row3_Module25.csv\n",
      "Index: 2022-01-01_1030. Wm2Front: 102.45618333333333. Wm2Back: 18.142093333333335\n",
      "Linescan in process: 1axis_2022-01-01_1130_Row3_Module25_Front\n",
      "Linescan in process: 1axis_2022-01-01_1130_Row3_Module25_Back\n",
      "Saved: results/irr_1axis_2022-01-01_1130_Row3_Module25.csv\n",
      "Index: 2022-01-01_1130. Wm2Front: 261.76075000000003. Wm2Back: 38.653863333333334\n"
     ]
    }
   ],
   "source": [
    "trackerdict = demo.analysis1axis(sensorsy=2) # Middle Module"
   ]
  },
  {
   "cell_type": "code",
   "execution_count": 15,
   "id": "fa0ad981",
   "metadata": {},
   "outputs": [
    {
     "name": "stdout",
     "output_type": "stream",
     "text": [
      "Linescan in process: 1axis_2022-01-01_1030_Row3_Module1_Front\n",
      "Linescan in process: 1axis_2022-01-01_1030_Row3_Module1_Back\n",
      "Saved: results/irr_1axis_2022-01-01_1030_Row3_Module1.csv\n",
      "Index: 2022-01-01_1030. Wm2Front: 103.21848333333332. Wm2Back: 21.059755\n",
      "Linescan in process: 1axis_2022-01-01_1130_Row3_Module1_Front\n",
      "Linescan in process: 1axis_2022-01-01_1130_Row3_Module1_Back\n",
      "Saved: results/irr_1axis_2022-01-01_1130_Row3_Module1.csv\n",
      "Index: 2022-01-01_1130. Wm2Front: 262.8026. Wm2Back: 47.249195\n"
     ]
    }
   ],
   "source": [
    "trackerdict = demo.analysis1axis(sensorsy=2, modWanted = 1) # South Module"
   ]
  },
  {
   "cell_type": "code",
   "execution_count": 16,
   "id": "fea18091",
   "metadata": {},
   "outputs": [
    {
     "name": "stdout",
     "output_type": "stream",
     "text": [
      "Linescan in process: 1axis_2022-01-01_1030_Row3_Module25_Front\n",
      "Linescan in process: 1axis_2022-01-01_1030_Row3_Module25_Back\n",
      "Saved: results/irr_1axis_2022-01-01_1030_Row3_Module25.csv\n",
      "Index: 2022-01-01_1030. Wm2Front: 102.51921666666667. Wm2Back: 18.216128333333334\n",
      "Linescan in process: 1axis_2022-01-01_1130_Row3_Module25_Front\n",
      "Linescan in process: 1axis_2022-01-01_1130_Row3_Module25_Back\n",
      "Saved: results/irr_1axis_2022-01-01_1130_Row3_Module25.csv\n",
      "Index: 2022-01-01_1130. Wm2Front: 261.96005. Wm2Back: 38.706585000000004\n"
     ]
    }
   ],
   "source": [
    "trackerdict = demo.analysis1axis(sensorsy=2, modWanted = 25) # North Module"
   ]
  },
  {
   "cell_type": "code",
   "execution_count": 17,
   "id": "32b1dae4",
   "metadata": {},
   "outputs": [
    {
     "name": "stdout",
     "output_type": "stream",
     "text": [
      "Bifaciality factor of module stored is  1\n",
      "No CECModule data passed; using default for Prism Solar BHC72-400\n"
     ]
    },
    {
     "name": "stderr",
     "output_type": "stream",
     "text": [
      "/Users/storopov/Documents/GitHub/bifacial_radiance/bifacial_radiance/performance.py:64: FutureWarning: Calling float on a single element Series is deprecated and will raise a TypeError in the future. Use float(ser.iloc[0]) instead\n",
      "  alpha_sc=float(CECMod.alpha_sc),\n",
      "/Users/storopov/Documents/GitHub/bifacial_radiance/bifacial_radiance/performance.py:65: FutureWarning: Calling float on a single element Series is deprecated and will raise a TypeError in the future. Use float(ser.iloc[0]) instead\n",
      "  a_ref=float(CECMod.a_ref),\n",
      "/Users/storopov/Documents/GitHub/bifacial_radiance/bifacial_radiance/performance.py:66: FutureWarning: Calling float on a single element Series is deprecated and will raise a TypeError in the future. Use float(ser.iloc[0]) instead\n",
      "  I_L_ref=float(CECMod.I_L_ref),\n",
      "/Users/storopov/Documents/GitHub/bifacial_radiance/bifacial_radiance/performance.py:67: FutureWarning: Calling float on a single element Series is deprecated and will raise a TypeError in the future. Use float(ser.iloc[0]) instead\n",
      "  I_o_ref=float(CECMod.I_o_ref),\n",
      "/Users/storopov/Documents/GitHub/bifacial_radiance/bifacial_radiance/performance.py:68: FutureWarning: Calling float on a single element Series is deprecated and will raise a TypeError in the future. Use float(ser.iloc[0]) instead\n",
      "  R_sh_ref=float(CECMod.R_sh_ref),\n",
      "/Users/storopov/Documents/GitHub/bifacial_radiance/bifacial_radiance/performance.py:69: FutureWarning: Calling float on a single element Series is deprecated and will raise a TypeError in the future. Use float(ser.iloc[0]) instead\n",
      "  R_s=float(CECMod.R_s),\n",
      "/Users/storopov/Documents/GitHub/bifacial_radiance/bifacial_radiance/performance.py:70: FutureWarning: Calling float on a single element Series is deprecated and will raise a TypeError in the future. Use float(ser.iloc[0]) instead\n",
      "  Adjust=float(CECMod.Adjust)\n",
      "/Users/storopov/Documents/GitHub/bifacial_radiance/bifacial_radiance/performance.py:64: FutureWarning: Calling float on a single element Series is deprecated and will raise a TypeError in the future. Use float(ser.iloc[0]) instead\n",
      "  alpha_sc=float(CECMod.alpha_sc),\n",
      "/Users/storopov/Documents/GitHub/bifacial_radiance/bifacial_radiance/performance.py:65: FutureWarning: Calling float on a single element Series is deprecated and will raise a TypeError in the future. Use float(ser.iloc[0]) instead\n",
      "  a_ref=float(CECMod.a_ref),\n",
      "/Users/storopov/Documents/GitHub/bifacial_radiance/bifacial_radiance/performance.py:66: FutureWarning: Calling float on a single element Series is deprecated and will raise a TypeError in the future. Use float(ser.iloc[0]) instead\n",
      "  I_L_ref=float(CECMod.I_L_ref),\n",
      "/Users/storopov/Documents/GitHub/bifacial_radiance/bifacial_radiance/performance.py:67: FutureWarning: Calling float on a single element Series is deprecated and will raise a TypeError in the future. Use float(ser.iloc[0]) instead\n",
      "  I_o_ref=float(CECMod.I_o_ref),\n",
      "/Users/storopov/Documents/GitHub/bifacial_radiance/bifacial_radiance/performance.py:68: FutureWarning: Calling float on a single element Series is deprecated and will raise a TypeError in the future. Use float(ser.iloc[0]) instead\n",
      "  R_sh_ref=float(CECMod.R_sh_ref),\n",
      "/Users/storopov/Documents/GitHub/bifacial_radiance/bifacial_radiance/performance.py:69: FutureWarning: Calling float on a single element Series is deprecated and will raise a TypeError in the future. Use float(ser.iloc[0]) instead\n",
      "  R_s=float(CECMod.R_s),\n",
      "/Users/storopov/Documents/GitHub/bifacial_radiance/bifacial_radiance/performance.py:70: FutureWarning: Calling float on a single element Series is deprecated and will raise a TypeError in the future. Use float(ser.iloc[0]) instead\n",
      "  Adjust=float(CECMod.Adjust)\n"
     ]
    },
    {
     "data": {
      "text/plain": [
       "{'2022-01-01_1030': {'surf_azm': 90.0,\n",
       "  'surf_tilt': 29.16,\n",
       "  'theta': -29.16,\n",
       "  'dni': 5,\n",
       "  'ghi': 112,\n",
       "  'dhi': 108,\n",
       "  'temp_air': 3.9,\n",
       "  'wind_speed': 4.7,\n",
       "  'skyfile': 'skies/sky2_35.05_-106.54_2022-01-01_1030.rad',\n",
       "  'radfile': 'objects/1axis2022-01-01_1030__C_2.96549_rtr_11.92000_tilt_29.16000_50modsx5rows_origin0,0.rad',\n",
       "  'scene': {'module': {'x': 1.303, 'y': 2.384, 'z': 0.02, 'modulematerial': 'black', 'scenex': 1.305, 'sceney': 2.384, 'scenez': 0.095, 'numpanels': 1, 'bifi': 1, 'text': '! genbox black PVmod 1.303 2.384 0.02 | xform -t -0.6515 -1.192 0.095 -a 1 -t 0 2.384 0\\r\\n! genrev Metal_Grey tube1 t*1.305 0.075 32 | xform -ry 90 -t -0.6525 0 0', 'modulefile': 'objects/PVmod.rad', 'glass': False, 'offsetfromaxis': 0.095, 'xgap': 0.002, 'ygap': 0.0, 'zgap': 0.02}, 'modulefile': 'objects/PVmod.rad', 'hpc': False, 'name': 'Scene0', 'gcr': 0.19999999999999998, 'text': '!xform -rx 29.16 -t 0 0 3.5 -a 50 -t 1.305 0 0 -a 5 -t 0 11.92 0 -i 1 -t -31.32 -23.84 0 -rz 90.0 -t 0 0 0 objects/PVmod.rad', 'radfiles': 'objects/1axis2022-01-01_1030__C_2.96549_rtr_11.92000_tilt_29.16000_50modsx5rows_origin0,0.rad', 'sceneDict': {'tilt': 29.16, 'pitch': 11.92, 'clearance_height': 2.9654866120793106, 'azimuth': 90.0, 'nMods': 50, 'nRows': 5, 'modulez': 0.02, 'axis_tilt': 0, 'originx': 0, 'originy': 0}},\n",
       "  'octfile': '1axis_2022-01-01_1030.oct',\n",
       "  'Results': [{'rowWanted': 3,\n",
       "    'modWanted': 25,\n",
       "    'AnalysisObj': {'octfile': '1axis_2022-01-01_1030.oct', 'name': '1axis_2022-01-01_1030', 'hpc': False, 'modWanted': 25, 'rowWanted': 3, 'x': [0.4034973, -0.2904553], 'y': [2.470708e-17, -1.778526e-17], 'z': [3.407698, 3.794899], 'rearZ': [3.388486, 3.775687], 'mattype': ['a24.2.a0.PVmod.6457', 'a24.2.a0.PVmod.6457'], 'rearMat': ['a24.2.a0.PVmod.2310', 'a24.2.a0.PVmod.2310'], 'Wm2Front': [102.30946666666667, 102.60289999999999], 'Wm2Back': [16.56748, 19.716706666666667], 'Back/FrontRatio': [0.16193338315988523, 0.19216332582549658], 'backRatio': [0.16193338315988523, 0.19216332582549658], 'rearX': [0.3927778, -0.3011748], 'rearY': [2.40507e-17, -1.844164e-17]},\n",
       "    'Wm2Front': [102.30946666666667, 102.60289999999999],\n",
       "    'Wm2Back': [16.56748, 19.716706666666667],\n",
       "    'backRatio': [0.16193338315988523, 0.19216332582549658]},\n",
       "   {'rowWanted': 3,\n",
       "    'modWanted': 1,\n",
       "    'AnalysisObj': {'octfile': '1axis_2022-01-01_1030.oct', 'name': '1axis_2022-01-01_1030', 'hpc': False, 'modWanted': 1, 'rowWanted': 3, 'x': [0.4034973, -0.2904553], 'y': [-31.32, -31.32], 'z': [3.407698, 3.794899], 'rearZ': [3.388486, 3.775687], 'mattype': ['a0.2.a0.PVmod.6457', 'a0.2.a0.PVmod.6457'], 'rearMat': ['a0.2.a0.PVmod.2310', 'a0.2.a0.PVmod.2310'], 'Wm2Front': [103.10866666666665, 103.3283], 'Wm2Back': [19.547996666666666, 22.571513333333332], 'Back/FrontRatio': [0.18958452004176785, 0.21844252630505898], 'backRatio': [0.18958452004176785, 0.21844252630505898], 'rearX': [0.3927778, -0.3011748], 'rearY': [-31.32, -31.32]},\n",
       "    'Wm2Front': [103.10866666666665, 103.3283],\n",
       "    'Wm2Back': [19.547996666666666, 22.571513333333332],\n",
       "    'backRatio': [0.18958452004176785, 0.21844252630505898]},\n",
       "   {'rowWanted': 3,\n",
       "    'modWanted': 25,\n",
       "    'AnalysisObj': {'octfile': '1axis_2022-01-01_1030.oct', 'name': '1axis_2022-01-01_1030', 'hpc': False, 'modWanted': 25, 'rowWanted': 3, 'x': [0.4034973, -0.2904553], 'y': [2.470708e-17, -1.778526e-17], 'z': [3.407698, 3.794899], 'rearZ': [3.388486, 3.775687], 'mattype': ['a24.2.a0.PVmod.6457', 'a24.2.a0.PVmod.6457'], 'rearMat': ['a24.2.a0.PVmod.2310', 'a24.2.a0.PVmod.2310'], 'Wm2Front': [102.23113333333333, 102.8073], 'Wm2Back': [16.462086666666668, 19.97017], 'Back/FrontRatio': [0.1610265396007257, 0.19424667074545537], 'backRatio': [0.1610265396007257, 0.19424667074545537], 'rearX': [0.3927778, -0.3011748], 'rearY': [2.40507e-17, -1.844164e-17]},\n",
       "    'Wm2Front': [102.23113333333333, 102.8073],\n",
       "    'Wm2Back': [16.462086666666668, 19.97017],\n",
       "    'backRatio': [0.1610265396007257, 0.19424667074545537]}],\n",
       "  'POA_eff': 120.59827666666666,\n",
       "  'Gfront_mean': 102.45618333333333,\n",
       "  'Grear_mean': 18.142093333333335,\n",
       "  'Pout_raw': 50.14785857140914,\n",
       "  'Pout_Gfront': 42.44259783363041,\n",
       "  'Mismatch': 0.0007166532533811113,\n",
       "  'Pout': 50.14749918514919},\n",
       " '2022-01-01_1130': {'surf_azm': 90.0,\n",
       "  'surf_tilt': 4.27,\n",
       "  'theta': -4.27,\n",
       "  'dni': 60,\n",
       "  'ghi': 265,\n",
       "  'dhi': 232,\n",
       "  'temp_air': 3.3,\n",
       "  'wind_speed': 5.5,\n",
       "  'skyfile': 'skies/sky2_35.05_-106.54_2022-01-01_1130.rad',\n",
       "  'radfile': 'objects/1axis2022-01-01_1130__C_3.41832_rtr_11.92000_tilt_4.27000_50modsx5rows_origin0,0.rad',\n",
       "  'scene': {'module': {'x': 1.303, 'y': 2.384, 'z': 0.02, 'modulematerial': 'black', 'scenex': 1.305, 'sceney': 2.384, 'scenez': 0.095, 'numpanels': 1, 'bifi': 1, 'text': '! genbox black PVmod 1.303 2.384 0.02 | xform -t -0.6515 -1.192 0.095 -a 1 -t 0 2.384 0\\r\\n! genrev Metal_Grey tube1 t*1.305 0.075 32 | xform -ry 90 -t -0.6525 0 0', 'modulefile': 'objects/PVmod.rad', 'glass': False, 'offsetfromaxis': 0.095, 'xgap': 0.002, 'ygap': 0.0, 'zgap': 0.02}, 'modulefile': 'objects/PVmod.rad', 'hpc': False, 'name': 'Scene0', 'gcr': 0.19999999999999998, 'text': '!xform -rx 4.27 -t 0 0 3.5 -a 50 -t 1.305 0 0 -a 5 -t 0 11.92 0 -i 1 -t -31.32 -23.84 0 -rz 90.0 -t 0 0 0 objects/PVmod.rad', 'radfiles': 'objects/1axis2022-01-01_1130__C_3.41832_rtr_11.92000_tilt_4.27000_50modsx5rows_origin0,0.rad', 'sceneDict': {'tilt': 4.27, 'pitch': 11.92, 'clearance_height': 3.418321118951937, 'azimuth': 90.0, 'nMods': 50, 'nRows': 5, 'modulez': 0.02, 'axis_tilt': 0, 'originx': 0, 'originy': 0}},\n",
       "  'octfile': '1axis_2022-01-01_1130.oct',\n",
       "  'Results': [{'rowWanted': 3,\n",
       "    'modWanted': 25,\n",
       "    'AnalysisObj': {'octfile': '1axis_2022-01-01_1130.oct', 'name': '1axis_2022-01-01_1130', 'hpc': False, 'modWanted': 25, 'rowWanted': 3, 'x': [0.4048674, -0.3875935], 'y': [2.479098e-17, -2.373326e-17], 'z': [3.586094, 3.645262], 'rearZ': [3.564155, 3.623323], 'mattype': ['a24.2.a0.PVmod.6457', 'a24.2.a0.PVmod.6457'], 'rearMat': ['a24.2.a0.PVmod.2310', 'a24.2.a0.PVmod.2310'], 'Wm2Front': [261.7616, 261.7599], 'Wm2Back': [38.57428666666667, 38.73344], 'Back/FrontRatio': [0.1473636289778092, 0.14797259636561458], 'backRatio': [0.1473636289778092, 0.14797259636561458], 'rearX': [0.4032294, -0.3892315], 'rearY': [2.469068e-17, -2.383356e-17]},\n",
       "    'Wm2Front': [261.7616, 261.7599],\n",
       "    'Wm2Back': [38.57428666666667, 38.73344],\n",
       "    'backRatio': [0.1473636289778092, 0.14797259636561458]},\n",
       "   {'rowWanted': 3,\n",
       "    'modWanted': 1,\n",
       "    'AnalysisObj': {'octfile': '1axis_2022-01-01_1130.oct', 'name': '1axis_2022-01-01_1130', 'hpc': False, 'modWanted': 1, 'rowWanted': 3, 'x': [0.4048674, -0.3875935], 'y': [-31.32, -31.32], 'z': [3.586094, 3.645262], 'rearZ': [3.564155, 3.623323], 'mattype': ['a0.2.a0.PVmod.6457', 'a0.2.a0.PVmod.6457'], 'rearMat': ['a0.2.a0.PVmod.2310', 'a0.2.a0.PVmod.2310'], 'Wm2Front': [262.8051, 262.8001], 'Wm2Back': [47.07480666666666, 47.42358333333333], 'Back/FrontRatio': [0.17912372150671796, 0.1804542801888323], 'backRatio': [0.17912372150671796, 0.1804542801888323], 'rearX': [0.4032294, -0.3892315], 'rearY': [-31.32, -31.32]},\n",
       "    'Wm2Front': [262.8051, 262.8001],\n",
       "    'Wm2Back': [47.07480666666666, 47.42358333333333],\n",
       "    'backRatio': [0.17912372150671796, 0.1804542801888323]},\n",
       "   {'rowWanted': 3,\n",
       "    'modWanted': 25,\n",
       "    'AnalysisObj': {'octfile': '1axis_2022-01-01_1130.oct', 'name': '1axis_2022-01-01_1130', 'hpc': False, 'modWanted': 25, 'rowWanted': 3, 'x': [0.4048674, -0.3875935], 'y': [2.479098e-17, -2.373326e-17], 'z': [3.586094, 3.645262], 'rearZ': [3.564155, 3.623323], 'mattype': ['a24.2.a0.PVmod.6457', 'a24.2.a0.PVmod.6457'], 'rearMat': ['a24.2.a0.PVmod.2310', 'a24.2.a0.PVmod.2310'], 'Wm2Front': [261.9297, 261.9904], 'Wm2Back': [38.691726666666675, 38.72144333333333], 'Back/FrontRatio': [0.14771741787681503, 0.14779661978726527], 'backRatio': [0.14771741787681503, 0.14779661978726527], 'rearX': [0.4032294, -0.3892315], 'rearY': [2.469068e-17, -2.383356e-17]},\n",
       "    'Wm2Front': [261.9297, 261.9904],\n",
       "    'Wm2Back': [38.691726666666675, 38.72144333333333],\n",
       "    'backRatio': [0.14771741787681503, 0.14779661978726527]}],\n",
       "  'POA_eff': 124.27823833333332,\n",
       "  'Gfront_mean': 103.21848333333332,\n",
       "  'Grear_mean': 21.059755,\n",
       "  'Pout_raw': 51.711590351236005,\n",
       "  'Pout_Gfront': 42.76616936555301,\n",
       "  'Mismatch': 0.0006669344234563045,\n",
       "  'Pout': 51.71124546883904}}"
      ]
     },
     "execution_count": 17,
     "metadata": {},
     "output_type": "execute_result"
    }
   ],
   "source": [
    "demo.calculateResults()"
   ]
  },
  {
   "cell_type": "code",
   "execution_count": 18,
   "id": "f7bab0b0",
   "metadata": {},
   "outputs": [
    {
     "data": {
      "text/html": [
       "<div>\n",
       "<style scoped>\n",
       "    .dataframe tbody tr th:only-of-type {\n",
       "        vertical-align: middle;\n",
       "    }\n",
       "\n",
       "    .dataframe tbody tr th {\n",
       "        vertical-align: top;\n",
       "    }\n",
       "\n",
       "    .dataframe thead th {\n",
       "        text-align: right;\n",
       "    }\n",
       "</style>\n",
       "<table border=\"1\" class=\"dataframe\">\n",
       "  <thead>\n",
       "    <tr style=\"text-align: right;\">\n",
       "      <th></th>\n",
       "      <th>module</th>\n",
       "      <th>row</th>\n",
       "      <th>POA_eff</th>\n",
       "      <th>Grear_mean</th>\n",
       "      <th>Gfront_mean</th>\n",
       "      <th>Pout_raw</th>\n",
       "      <th>Pout_Gfront</th>\n",
       "      <th>BGG</th>\n",
       "      <th>BGE</th>\n",
       "      <th>Mismatch</th>\n",
       "      <th>Pout</th>\n",
       "      <th>Wind Speed</th>\n",
       "      <th>DNI</th>\n",
       "      <th>DHI</th>\n",
       "      <th>GHI</th>\n",
       "    </tr>\n",
       "    <tr>\n",
       "      <th>timestamp</th>\n",
       "      <th></th>\n",
       "      <th></th>\n",
       "      <th></th>\n",
       "      <th></th>\n",
       "      <th></th>\n",
       "      <th></th>\n",
       "      <th></th>\n",
       "      <th></th>\n",
       "      <th></th>\n",
       "      <th></th>\n",
       "      <th></th>\n",
       "      <th></th>\n",
       "      <th></th>\n",
       "      <th></th>\n",
       "      <th></th>\n",
       "    </tr>\n",
       "  </thead>\n",
       "  <tbody>\n",
       "    <tr>\n",
       "      <th>2022-01-01_1030</th>\n",
       "      <td>25</td>\n",
       "      <td>3</td>\n",
       "      <td>120.598277</td>\n",
       "      <td>18.142093</td>\n",
       "      <td>102.456183</td>\n",
       "      <td>50.147859</td>\n",
       "      <td>42.442598</td>\n",
       "      <td>17.707173</td>\n",
       "      <td>18.154546</td>\n",
       "      <td>0.000717</td>\n",
       "      <td>50.147499</td>\n",
       "      <td>4.7</td>\n",
       "      <td>5</td>\n",
       "      <td>108</td>\n",
       "      <td>112</td>\n",
       "    </tr>\n",
       "    <tr>\n",
       "      <th>2022-01-01_1030</th>\n",
       "      <td>1</td>\n",
       "      <td>3</td>\n",
       "      <td>124.278238</td>\n",
       "      <td>21.059755</td>\n",
       "      <td>103.218483</td>\n",
       "      <td>51.711590</td>\n",
       "      <td>42.766169</td>\n",
       "      <td>20.403085</td>\n",
       "      <td>20.917050</td>\n",
       "      <td>0.000667</td>\n",
       "      <td>51.711245</td>\n",
       "      <td>4.7</td>\n",
       "      <td>5</td>\n",
       "      <td>108</td>\n",
       "      <td>112</td>\n",
       "    </tr>\n",
       "    <tr>\n",
       "      <th>2022-01-01_1030</th>\n",
       "      <td>25</td>\n",
       "      <td>3</td>\n",
       "      <td>120.735345</td>\n",
       "      <td>18.216128</td>\n",
       "      <td>102.519217</td>\n",
       "      <td>50.206100</td>\n",
       "      <td>42.469353</td>\n",
       "      <td>17.768501</td>\n",
       "      <td>18.217249</td>\n",
       "      <td>0.000799</td>\n",
       "      <td>50.205699</td>\n",
       "      <td>4.7</td>\n",
       "      <td>5</td>\n",
       "      <td>108</td>\n",
       "      <td>112</td>\n",
       "    </tr>\n",
       "    <tr>\n",
       "      <th>2022-01-01_1130</th>\n",
       "      <td>25</td>\n",
       "      <td>3</td>\n",
       "      <td>300.414613</td>\n",
       "      <td>38.653863</td>\n",
       "      <td>261.760750</td>\n",
       "      <td>126.557596</td>\n",
       "      <td>110.282569</td>\n",
       "      <td>14.766868</td>\n",
       "      <td>14.757570</td>\n",
       "      <td>0.000014</td>\n",
       "      <td>126.557578</td>\n",
       "      <td>5.5</td>\n",
       "      <td>60</td>\n",
       "      <td>232</td>\n",
       "      <td>265</td>\n",
       "    </tr>\n",
       "    <tr>\n",
       "      <th>2022-01-01_1130</th>\n",
       "      <td>1</td>\n",
       "      <td>3</td>\n",
       "      <td>310.051795</td>\n",
       "      <td>47.249195</td>\n",
       "      <td>262.802600</td>\n",
       "      <td>130.600901</td>\n",
       "      <td>110.722384</td>\n",
       "      <td>17.978968</td>\n",
       "      <td>17.953476</td>\n",
       "      <td>0.000030</td>\n",
       "      <td>130.600861</td>\n",
       "      <td>5.5</td>\n",
       "      <td>60</td>\n",
       "      <td>232</td>\n",
       "      <td>265</td>\n",
       "    </tr>\n",
       "    <tr>\n",
       "      <th>2022-01-01_1130</th>\n",
       "      <td>25</td>\n",
       "      <td>3</td>\n",
       "      <td>300.666635</td>\n",
       "      <td>38.706585</td>\n",
       "      <td>261.960050</td>\n",
       "      <td>126.663408</td>\n",
       "      <td>110.366708</td>\n",
       "      <td>14.775759</td>\n",
       "      <td>14.765957</td>\n",
       "      <td>0.000003</td>\n",
       "      <td>126.663405</td>\n",
       "      <td>5.5</td>\n",
       "      <td>60</td>\n",
       "      <td>232</td>\n",
       "      <td>265</td>\n",
       "    </tr>\n",
       "  </tbody>\n",
       "</table>\n",
       "</div>"
      ],
      "text/plain": [
       "                 module  row     POA_eff  Grear_mean  Gfront_mean    Pout_raw  \\\n",
       "timestamp                                                                       \n",
       "2022-01-01_1030      25    3  120.598277   18.142093   102.456183   50.147859   \n",
       "2022-01-01_1030       1    3  124.278238   21.059755   103.218483   51.711590   \n",
       "2022-01-01_1030      25    3  120.735345   18.216128   102.519217   50.206100   \n",
       "2022-01-01_1130      25    3  300.414613   38.653863   261.760750  126.557596   \n",
       "2022-01-01_1130       1    3  310.051795   47.249195   262.802600  130.600901   \n",
       "2022-01-01_1130      25    3  300.666635   38.706585   261.960050  126.663408   \n",
       "\n",
       "                 Pout_Gfront        BGG        BGE  Mismatch        Pout  \\\n",
       "timestamp                                                                  \n",
       "2022-01-01_1030    42.442598  17.707173  18.154546  0.000717   50.147499   \n",
       "2022-01-01_1030    42.766169  20.403085  20.917050  0.000667   51.711245   \n",
       "2022-01-01_1030    42.469353  17.768501  18.217249  0.000799   50.205699   \n",
       "2022-01-01_1130   110.282569  14.766868  14.757570  0.000014  126.557578   \n",
       "2022-01-01_1130   110.722384  17.978968  17.953476  0.000030  130.600861   \n",
       "2022-01-01_1130   110.366708  14.775759  14.765957  0.000003  126.663405   \n",
       "\n",
       "                 Wind Speed  DNI  DHI  GHI  \n",
       "timestamp                                   \n",
       "2022-01-01_1030         4.7    5  108  112  \n",
       "2022-01-01_1030         4.7    5  108  112  \n",
       "2022-01-01_1030         4.7    5  108  112  \n",
       "2022-01-01_1130         5.5   60  232  265  \n",
       "2022-01-01_1130         5.5   60  232  265  \n",
       "2022-01-01_1130         5.5   60  232  265  "
      ]
     },
     "execution_count": 18,
     "metadata": {},
     "output_type": "execute_result"
    }
   ],
   "source": [
    "demo.CompiledResults.set_index('timestamp', inplace=True)\n",
    "demo.CompiledResults\n",
    "# Grear_mean and Gfront_mean values to be recorded in the excel"
   ]
  },
  {
   "cell_type": "code",
   "execution_count": null,
   "id": "9c538741",
   "metadata": {},
   "outputs": [],
   "source": []
  }
 ],
 "metadata": {
  "kernelspec": {
   "display_name": "Python 3 (ipykernel)",
   "language": "python",
   "name": "python3"
  },
  "language_info": {
   "codemirror_mode": {
    "name": "ipython",
    "version": 3
   },
   "file_extension": ".py",
   "mimetype": "text/x-python",
   "name": "python",
   "nbconvert_exporter": "python",
   "pygments_lexer": "ipython3",
   "version": "3.11.5"
  }
 },
 "nbformat": 4,
 "nbformat_minor": 5
}
