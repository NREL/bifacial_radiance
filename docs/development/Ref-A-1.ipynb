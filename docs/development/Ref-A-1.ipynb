{
 "cells": [
  {
   "cell_type": "markdown",
   "id": "4c701d13",
   "metadata": {},
   "source": [
    "# Ref-A\n",
    "* GCR = 0.4\n",
    "* Albedo = 0.2\n",
    "* Hub Height = 1.5\n",
    "* Configuration = 1-Up portrait\n",
    "* Ground surface = Horizontal\n",
    "***\n",
    "* A GCR of 0.4 for the Trina Vertex module (length = 2.384m) corresponds to a rowto-row spacing or pitch of 5.96m\n",
    "* 1-up Portrait: 5 rows, each with 25 modules\n",
    "* Torque tube diameter = 15 cm. (round)\n",
    "* Maximum tracker rotation angle = 55 deg\n",
    "* Backtracking is enabled\n",
    "* Location: Albuquerque, New Mexico USA (35.05°, -106.54°)"
   ]
  },
  {
   "cell_type": "code",
   "execution_count": 1,
   "id": "760e9b21",
   "metadata": {},
   "outputs": [
    {
     "name": "stdout",
     "output_type": "stream",
     "text": [
      "Your simulation will be stored in Scenarios/Ref-A-1\n"
     ]
    }
   ],
   "source": [
    "import os\n",
    "from pathlib import Path\n",
    "\n",
    "testfolder = 'Scenarios/Ref-A-1'\n",
    "\n",
    "if not os.path.exists(testfolder):\n",
    "    os.makedirs(testfolder)\n",
    "    \n",
    "print (\"Your simulation will be stored in %s\" % testfolder)"
   ]
  },
  {
   "cell_type": "code",
   "execution_count": 2,
   "id": "aa782cd2",
   "metadata": {},
   "outputs": [],
   "source": [
    "import bifacial_radiance as br\n",
    "import bifacialvf as bf\n",
    "import numpy as np\n",
    "import pandas as pd\n",
    "import matplotlib.pyplot as plt\n",
    "import sys, platform\n",
    "import csv\n",
    "from pathlib import Path"
   ]
  },
  {
   "cell_type": "code",
   "execution_count": 3,
   "id": "2d3d89b5",
   "metadata": {},
   "outputs": [
    {
     "name": "stdout",
     "output_type": "stream",
     "text": [
      "Working on a  Darwin 23.3.0\n",
      "Python version  3.11.5 (main, Sep 11 2023, 08:19:27) [Clang 14.0.6 ]\n",
      "Pandas version  2.0.3\n",
      "bifacial_radiance version  0.4.2+245.gd0d9c92.dirty\n",
      "pyplot  3.7.2\n",
      "bifacialvf version  0.1.8.1\n"
     ]
    }
   ],
   "source": [
    "print(\"Working on a \", platform.system(), platform.release())\n",
    "print(\"Python version \", sys.version)\n",
    "print(\"Pandas version \", pd.__version__)\n",
    "print(\"bifacial_radiance version \", br.__version__)\n",
    "print(\"pyplot \", plt.matplotlib.__version__)\n",
    "print(\"bifacialvf version \", bf.__version__)"
   ]
  },
  {
   "cell_type": "code",
   "execution_count": 4,
   "id": "8a48f304",
   "metadata": {},
   "outputs": [],
   "source": [
    "simulationname = 'Ref-A-1'\n",
    "\n",
    "# Location Albuquerque, New Mexico, USA\n",
    "lat = 35.05\n",
    "lon = -106.54\n",
    "\n",
    "# Scene Parameters\n",
    "azimuth=90\n",
    "tilt=30\n",
    "\n",
    "# MakeModule Parameters\n",
    "moduletype='PVmod'\n",
    "numpanels=1\n",
    "module_x = 1.303 # m\n",
    "module_y = 2.384 # m. slope we will measure\n",
    "sensorsy=2\n",
    "torquetube_diam = 0.15\n",
    "\n",
    "zgap = 0.02 # m\n",
    "xgap = 0.002 # m\n",
    "\n",
    "# SceneDict Parameters\n",
    "pitch = 5.96 # m\n",
    "albedo = 0.2\n",
    "hub_height = 1.5 # m  \n",
    "nMods = 25 \n",
    "nRows = 5\n",
    "\n",
    "sceneDict = {'tilt':tilt,'pitch':pitch,'albedo': albedo,'hub_height':hub_height,'azimuth':azimuth, 'nMods': nMods, 'nRows': nRows} "
   ]
  },
  {
   "cell_type": "code",
   "execution_count": 5,
   "id": "eb5df558",
   "metadata": {
    "scrolled": true
   },
   "outputs": [
    {
     "name": "stdout",
     "output_type": "stream",
     "text": [
      "path = Scenarios/Ref-A-1\n",
      "Making path: images\n",
      "Making path: objects\n",
      "Making path: results\n",
      "Making path: skies\n",
      "Making path: EPWs\n",
      "Making path: materials\n",
      "Loading albedo, 1 value(s), 0.200 avg\n",
      "1 nonzero albedo values.\n"
     ]
    }
   ],
   "source": [
    "demo = br.RadianceObj(simulationname,path = testfolder)\n",
    "demo.setGround(albedo)"
   ]
  },
  {
   "cell_type": "code",
   "execution_count": 6,
   "id": "4b7e271b",
   "metadata": {},
   "outputs": [],
   "source": [
    "cumulativesky = False\n",
    "trackerParams = {\n",
    "    'limit_angle': 55,\n",
    "    'backtrack': True,\n",
    "    'gcr': 0.4,\n",
    "    'azimuth': 180,  # axis angle, N-S = 180\n",
    "    'cumulativesky': cumulativesky\n",
    "}"
   ]
  },
  {
   "cell_type": "code",
   "execution_count": 7,
   "id": "e1e7d382",
   "metadata": {
    "scrolled": true
   },
   "outputs": [
    {
     "name": "stdout",
     "output_type": "stream",
     "text": [
      "\n",
      "Module Name: PVmod\n",
      "Module PVmod updated in module.json\n"
     ]
    }
   ],
   "source": [
    "module=demo.makeModule(name=moduletype,x=module_x,y=module_y, xgap=xgap, zgap=zgap)"
   ]
  },
  {
   "cell_type": "code",
   "execution_count": 8,
   "id": "a575f485",
   "metadata": {},
   "outputs": [
    {
     "name": "stdout",
     "output_type": "stream",
     "text": [
      "Module PVmod updated in module.json\n",
      "Pre-existing .rad file objects/PVmod.rad will be overwritten\n",
      "\n"
     ]
    }
   ],
   "source": [
    "module.addTorquetube(diameter=torquetube_diam, tubetype='Round', material='Metal_Grey', \n",
    "                     axisofrotation=True, visible=True, recompile=True)"
   ]
  },
  {
   "cell_type": "code",
   "execution_count": 9,
   "id": "6a4d2091",
   "metadata": {},
   "outputs": [
    {
     "data": {
      "text/plain": [
       "'/Users/storopov/Documents/GitHub/bifacial_radiance/docs/development/Instructions/Phase2_meteo_hourly_psm3format.csv'"
      ]
     },
     "execution_count": 9,
     "metadata": {},
     "output_type": "execute_result"
    }
   ],
   "source": [
    "weatherfile = str(Path().resolve().parent.parent / 'Instructions' / 'Phase2_meteo_hourly_psm3format.csv')\n",
    "weatherfile"
   ]
  },
  {
   "cell_type": "code",
   "execution_count": 10,
   "id": "966c7daf",
   "metadata": {
    "scrolled": true
   },
   "outputs": [
    {
     "name": "stdout",
     "output_type": "stream",
     "text": [
      "COLUMN DATAS Index(['Year', 'Month', 'Day', 'Hour', 'Minute', 'GHI', 'DNI', 'DHI',\n",
      "       'temp_air', 'wind_speed', 'humidity', 'Unnamed: 11', 'Unnamed: 12',\n",
      "       'Unnamed: 13', 'Unnamed: 14', 'Unnamed: 15', 'Unnamed: 16',\n",
      "       'Unnamed: 17'],\n",
      "      dtype='object')\n",
      "8760 line in WeatherFile. Assuming this is a standard hourly WeatherFile for the year for purposes of saving Gencumulativesky temporary weather files in EPW folder.\n",
      "Coercing year to 2022\n",
      "Filtering dates\n",
      "Saving file EPWs/metdata_temp.csv, # points: 8760\n",
      "WARNING: TMY interval was unable to be defined, so setting it to 1h.\n",
      "Calculating Sun position for Metdata that is left-labeled  with a delta of +30 mins. i.e. 12 is 12:30 sunpos.\n"
     ]
    }
   ],
   "source": [
    "metdata = demo.readWeatherFile(weatherfile, source='sam', starttime='2022-01-22_1700', endtime='2022-01-22_1800')"
   ]
  },
  {
   "cell_type": "code",
   "execution_count": 11,
   "id": "556da4dc",
   "metadata": {},
   "outputs": [],
   "source": [
    "trackerdict = demo.set1axis(**trackerParams)"
   ]
  },
  {
   "cell_type": "code",
   "execution_count": 12,
   "id": "e814024e",
   "metadata": {},
   "outputs": [
    {
     "name": "stdout",
     "output_type": "stream",
     "text": [
      "Creating ~0 skyfiles. \n",
      "Created 0 skyfiles in /skies/\n"
     ]
    },
    {
     "data": {
      "text/plain": [
       "{}"
      ]
     },
     "execution_count": 12,
     "metadata": {},
     "output_type": "execute_result"
    }
   ],
   "source": [
    "demo.gendaylit1axis()"
   ]
  },
  {
   "cell_type": "code",
   "execution_count": 13,
   "id": "6023d245",
   "metadata": {},
   "outputs": [
    {
     "name": "stdout",
     "output_type": "stream",
     "text": [
      "\n",
      "Making ~0 .rad files for gendaylit 1-axis workflow (this takes a minute..)\n",
      "0 Radfiles created in /objects/\n",
      "\n",
      "Making 0 octfiles in root directory.\n"
     ]
    }
   ],
   "source": [
    "trackerdict = demo.makeScene1axis(module=moduletype, sceneDict=sceneDict)\n",
    "trackerdict = demo.makeOct1axis()"
   ]
  },
  {
   "cell_type": "code",
   "execution_count": 14,
   "id": "29d1f8d6",
   "metadata": {
    "scrolled": true
   },
   "outputs": [],
   "source": [
    "#trackerdict = demo.analysis1axis(sensorsy=2) # Middle Module"
   ]
  },
  {
   "cell_type": "code",
   "execution_count": 15,
   "id": "63dd2714",
   "metadata": {},
   "outputs": [
    {
     "ename": "IndexError",
     "evalue": "list index out of range",
     "output_type": "error",
     "traceback": [
      "\u001b[0;31m---------------------------------------------------------------------------\u001b[0m",
      "\u001b[0;31mIndexError\u001b[0m                                Traceback (most recent call last)",
      "Cell \u001b[0;32mIn[15], line 1\u001b[0m\n\u001b[0;32m----> 1\u001b[0m trackerdict \u001b[38;5;241m=\u001b[39m demo\u001b[38;5;241m.\u001b[39manalysis1axis(sensorsy\u001b[38;5;241m=\u001b[39m\u001b[38;5;241m2\u001b[39m, modWanted \u001b[38;5;241m=\u001b[39m \u001b[38;5;241m1\u001b[39m)\n",
      "File \u001b[0;32m~/Documents/GitHub/bifacial_radiance/bifacial_radiance/main.py:2853\u001b[0m, in \u001b[0;36mRadianceObj.analysis1axis\u001b[0;34m(self, trackerdict, singleindex, accuracy, customname, modWanted, rowWanted, sensorsy, sensorsx, modscanfront, modscanback, relative, debug)\u001b[0m\n\u001b[1;32m   2851\u001b[0m     modWanted \u001b[38;5;241m=\u001b[39m \u001b[38;5;28mround\u001b[39m(trackerdict[trackerkeys[\u001b[38;5;241m0\u001b[39m]][\u001b[38;5;124m'\u001b[39m\u001b[38;5;124mscene\u001b[39m\u001b[38;5;124m'\u001b[39m]\u001b[38;5;241m.\u001b[39msceneDict[\u001b[38;5;124m'\u001b[39m\u001b[38;5;124mnMods\u001b[39m\u001b[38;5;124m'\u001b[39m] \u001b[38;5;241m/\u001b[39m \u001b[38;5;241m1.99\u001b[39m)\n\u001b[1;32m   2852\u001b[0m \u001b[38;5;28;01mif\u001b[39;00m rowWanted \u001b[38;5;241m==\u001b[39m \u001b[38;5;28;01mNone\u001b[39;00m:\n\u001b[0;32m-> 2853\u001b[0m     rowWanted \u001b[38;5;241m=\u001b[39m \u001b[38;5;28mround\u001b[39m(trackerdict[trackerkeys[\u001b[38;5;241m0\u001b[39m]][\u001b[38;5;124m'\u001b[39m\u001b[38;5;124mscene\u001b[39m\u001b[38;5;124m'\u001b[39m]\u001b[38;5;241m.\u001b[39msceneDict[\u001b[38;5;124m'\u001b[39m\u001b[38;5;124mnRows\u001b[39m\u001b[38;5;124m'\u001b[39m] \u001b[38;5;241m/\u001b[39m \u001b[38;5;241m1.99\u001b[39m)\n\u001b[1;32m   2856\u001b[0m \u001b[38;5;66;03m#frontWm2 = 0 # container for tracking front irradiance across module chord. Dynamically size based on first analysis run\u001b[39;00m\n\u001b[1;32m   2857\u001b[0m \u001b[38;5;66;03m#backWm2 = 0 # container for tracking rear irradiance across module chord.\u001b[39;00m\n\u001b[1;32m   2859\u001b[0m \u001b[38;5;28;01mfor\u001b[39;00m index \u001b[38;5;129;01min\u001b[39;00m trackerkeys:   \u001b[38;5;66;03m# either full list of trackerdict keys, or single index\u001b[39;00m\n",
      "\u001b[0;31mIndexError\u001b[0m: list index out of range"
     ]
    }
   ],
   "source": [
    "trackerdict = demo.analysis1axis(sensorsy=2, modWanted = 1) # South Module"
   ]
  },
  {
   "cell_type": "code",
   "execution_count": null,
   "id": "61c744a6",
   "metadata": {},
   "outputs": [],
   "source": [
    "#trackerdict = demo.analysis1axis(sensorsy=2, modWanted = 25) # North Module"
   ]
  },
  {
   "cell_type": "code",
   "execution_count": null,
   "id": "48334036",
   "metadata": {},
   "outputs": [],
   "source": [
    "demo.calculateResults()"
   ]
  },
  {
   "cell_type": "code",
   "execution_count": null,
   "id": "ac1dd19f",
   "metadata": {},
   "outputs": [],
   "source": [
    "demo.CompiledResults.set_index('timestamp', inplace=True)\n",
    "dataframe = demo.CompiledResults\n",
    "# Grear_mean and Gfront_mean values to be recorded in the excel"
   ]
  },
  {
   "cell_type": "code",
   "execution_count": null,
   "id": "c36d2359",
   "metadata": {
    "scrolled": true
   },
   "outputs": [],
   "source": [
    "dataframe"
   ]
  },
  {
   "cell_type": "code",
   "execution_count": null,
   "id": "eac4b714",
   "metadata": {},
   "outputs": [],
   "source": [
    "# dataframe.to_csv(Path().resolve().parent.parent / 'Results' / 'Ref-A.csv', index=True)"
   ]
  },
  {
   "cell_type": "code",
   "execution_count": null,
   "id": "3e6ea7f1",
   "metadata": {},
   "outputs": [],
   "source": [
    "demo.exportScenarioData(trackerdict, savefile = Path().resolve().parent.parent / 'Results' / 'Ref-A.csv')"
   ]
  }
 ],
 "metadata": {
  "kernelspec": {
   "display_name": "Python 3 (ipykernel)",
   "language": "python",
   "name": "python3"
  },
  "language_info": {
   "codemirror_mode": {
    "name": "ipython",
    "version": 3
   },
   "file_extension": ".py",
   "mimetype": "text/x-python",
   "name": "python",
   "nbconvert_exporter": "python",
   "pygments_lexer": "ipython3",
   "version": "3.11.5"
  }
 },
 "nbformat": 4,
 "nbformat_minor": 5
}
