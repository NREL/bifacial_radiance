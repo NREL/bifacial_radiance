{
 "cells": [
  {
   "cell_type": "code",
   "execution_count": 1,
   "id": "367c063f",
   "metadata": {},
   "outputs": [
    {
     "name": "stdout",
     "output_type": "stream",
     "text": [
      "Your simulation will be stored in C:\\Users\\sayala\\Documents\\GitHub\\bifacial_radiance\\bifacial_radiance\\TEMP\\test\n"
     ]
    }
   ],
   "source": [
    "import os\n",
    "from pathlib import Path\n",
    "from bifacial_radiance import *\n",
    "import numpy as np\n",
    "import pandas as pd\n",
    "\n",
    "\n",
    "testfolder = Path().resolve().parent.parent / 'bifacial_radiance' / 'TEMP' / 'test'\n",
    "if not os.path.exists(testfolder):\n",
    "    os.makedirs(testfolder)  \n",
    "print (\"Your simulation will be stored in %s\" % testfolder)"
   ]
  },
  {
   "cell_type": "code",
   "execution_count": 2,
   "id": "158f3689",
   "metadata": {},
   "outputs": [
    {
     "name": "stdout",
     "output_type": "stream",
     "text": [
      "path = C:\\Users\\sayala\\Documents\\GitHub\\bifacial_radiance\\bifacial_radiance\\TEMP\\test\n",
      "Loading albedo, 1 value(s), 0.250 avg\n",
      "1 nonzero albedo values.\n",
      "8760 line in WeatherFile. Assuming this is a standard hourly WeatherFile for the year for purposes of saving Gencumulativesky temporary weather files in EPW folder.\n",
      "Coercing year to 2021\n",
      "Saving file EPWs\\metdata_temp.csv, # points: 8760\n",
      "Calculating Sun position for Metdata that is right-labeled  with a delta of -30 mins. i.e. 12 is 11:30 sunpos\n",
      "\n",
      "Module Name: test\n",
      "Module test updated in module.json\n",
      "Pre-existing .rad file objects\\test.rad will be overwritten\n",
      "\n",
      "{'x': 1.695, 'y': 0.984, 'z': 0.02, 'modulematerial': 'black', 'scenex': 1.705, 'sceney': 0.984, 'scenez': 0.1, 'numpanels': 1, 'bifi': 1, 'text': '! genbox black test 1.695 0.984 0.02 | xform -t -0.8475 -0.492 0 -a 1 -t 0 0.984 0', 'modulefile': 'objects\\\\test.rad', 'glass': False, 'offsetfromaxis': 0, 'xgap': 0.01, 'ygap': 0.0, 'zgap': 0.1}\n"
     ]
    }
   ],
   "source": [
    "demo = RadianceObj('test', path = str(testfolder))  \n",
    "demo.setGround(0.25)\n",
    "#epwfile = demo.getEPW(lat = 37.5, lon = -77.6)  # This location corresponds to Richmond, VA.\n",
    "epwfile = r'EPWs\\USA_VA_Richmond.724010_TMY2.epw'\n",
    "metdata = demo.readWeatherFile(weatherFile = epwfile, coerce_year=2021) \n"
   ]
  },
  {
   "cell_type": "code",
   "execution_count": 3,
   "id": "1104abc7",
   "metadata": {},
   "outputs": [
    {
     "name": "stdout",
     "output_type": "stream",
     "text": [
      "8760 line in WeatherFile. Assuming this is a standard hourly WeatherFile for the year for purposes of saving Gencumulativesky temporary weather files in EPW folder.\n",
      "Coercing year to 2021\n",
      "Saving file EPWs\\metdata_temp.csv, # points: 8760\n",
      "Calculating Sun position for Metdata that is right-labeled  with a delta of -30 mins. i.e. 12 is 11:30 sunpos\n"
     ]
    },
    {
     "data": {
      "text/plain": [
       "'skies\\\\sky2_37.5_-77.33_2021-06-17_1400.rad'"
      ]
     },
     "execution_count": 3,
     "metadata": {},
     "output_type": "execute_result"
    }
   ],
   "source": [
    "metdata = demo.readWeatherFile(weatherFile = epwfile, coerce_year=2021) \n",
    "timeindex = metdata.datetime.index(pd.to_datetime('2021-06-17 12:0:0 -7'))\n",
    "demo.gendaylit(timeindex)  # Noon, June 17th (timepoint # 4020)"
   ]
  },
  {
   "cell_type": "code",
   "execution_count": 168,
   "id": "23116255",
   "metadata": {},
   "outputs": [],
   "source": [
    "sceneDict = {'tilt':10,'pitch':3,'hub_height':1.5,'azimuth':90, 'nMods': 2, 'nRows': 1} \n",
    " "
   ]
  },
  {
   "cell_type": "code",
   "execution_count": 111,
   "id": "7d41c1e2",
   "metadata": {},
   "outputs": [],
   "source": [
    "doubleDrad = r'C:\\Users\\sayala\\Documents\\Soltec\\ENVIOS\\Envios_Juntos\\DobleD_Soltec.rad'\n",
    "testfile = r'C:\\Users\\sayala\\Documents\\GitHub\\bifacial_radiance\\tests\\customTT.rad'"
   ]
  },
  {
   "cell_type": "code",
   "execution_count": 112,
   "id": "15c27c6b",
   "metadata": {},
   "outputs": [],
   "source": [
    "module_type = 'test' \n"
   ]
  },
  {
   "cell_type": "code",
   "execution_count": 21,
   "id": "2841c525",
   "metadata": {},
   "outputs": [],
   "source": [
    "textfile = ''\n",
    "\n",
    "with open(doubleDrad, 'r') as file:\n",
    "    for line in file:\n",
    "        textfile = textfile + '\\r' + str(line)"
   ]
  },
  {
   "cell_type": "code",
   "execution_count": 163,
   "id": "3b3d6da5",
   "metadata": {},
   "outputs": [],
   "source": [
    "zgap = 0.1\n",
    "diamDD = 0.1\n",
    "offsetfromaxis = -1*np.round(zgap + diamDD*0.5,3) \n",
    "\n",
    "text2 = '\\n !xform -rx 0 '+ doubleDrad + ' | xform -t -0.5 0 {}'.format(offsetfromaxis)\n",
    "#!xform -t -2 0 -2\n",
    "\n",
    "# "
   ]
  },
  {
   "cell_type": "code",
   "execution_count": 173,
   "id": "2808ee71",
   "metadata": {},
   "outputs": [
    {
     "name": "stdout",
     "output_type": "stream",
     "text": [
      "\n",
      "Module Name: test\n",
      "Module test updated in module.json\n",
      "Pre-existing .rad file objects\\test.rad will be overwritten\n",
      "\n"
     ]
    }
   ],
   "source": [
    "module = demo.makeModule(name=module_type,x=1, y=2, numpanels=2, ygap=0.15, customtext = text2, xgap=0.5)\n",
    "#module = demo.makeModule(name=module_type,x=1, y=2, numpanels=2, ygap=0.15, customtext = textfile)\n"
   ]
  },
  {
   "cell_type": "code",
   "execution_count": 174,
   "id": "31b30d91",
   "metadata": {},
   "outputs": [
    {
     "name": "stdout",
     "output_type": "stream",
     "text": [
      "Created test.oct\n"
     ]
    }
   ],
   "source": [
    "scene = demo.makeScene(module,sceneDict)\n",
    "octfile = demo.makeOct(demo.getfilelist())  "
   ]
  },
  {
   "cell_type": "code",
   "execution_count": 175,
   "id": "03960ad3",
   "metadata": {},
   "outputs": [],
   "source": [
    "!rvu -vf views\\front.vp -e .01 test.oct"
   ]
  },
  {
   "cell_type": "code",
   "execution_count": 171,
   "id": "cdeb66f3",
   "metadata": {},
   "outputs": [],
   "source": [
    "!rvu -vf views\\front.vp -e .01 -vp 1.5 -5 2.5 -vd 0 1 0 test.oct"
   ]
  },
  {
   "cell_type": "code",
   "execution_count": null,
   "id": "8f27b27a",
   "metadata": {},
   "outputs": [],
   "source": []
  }
 ],
 "metadata": {
  "kernelspec": {
   "display_name": "Python 3 (ipykernel)",
   "language": "python",
   "name": "python3"
  },
  "language_info": {
   "codemirror_mode": {
    "name": "ipython",
    "version": 3
   },
   "file_extension": ".py",
   "mimetype": "text/x-python",
   "name": "python",
   "nbconvert_exporter": "python",
   "pygments_lexer": "ipython3",
   "version": "3.8.8"
  }
 },
 "nbformat": 4,
 "nbformat_minor": 5
}
