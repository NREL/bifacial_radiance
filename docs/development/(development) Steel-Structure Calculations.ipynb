{
 "cells": [
  {
   "cell_type": "markdown",
   "metadata": {},
   "source": [
    "# Steel Structure Calculations\n",
    "\n",
    "\n",
    "Calculate amount of steel needed for torquetube and posts, for various types of racking. \n"
   ]
  },
  {
   "cell_type": "code",
   "execution_count": 1,
   "metadata": {},
   "outputs": [
    {
     "data": {
      "text/plain": [
       "3.141592653589793"
      ]
     },
     "execution_count": 1,
     "metadata": {},
     "output_type": "execute_result"
    }
   ],
   "source": [
    "import numpy as np\n",
    "np.pi"
   ]
  },
  {
   "cell_type": "code",
   "execution_count": 2,
   "metadata": {},
   "outputs": [],
   "source": [
    "# Constants\n",
    "density_steel = 7850 # kg/m³\n",
    "cost_per_kg_steel = 2314 # US$/ton, Global Composite Steel Price and Index \n",
    "                        # April-2020 Stainless Steel https://worldsteelprices.com/"
   ]
  },
  {
   "cell_type": "code",
   "execution_count": 3,
   "metadata": {},
   "outputs": [],
   "source": [
    "perlin_table = {'perlin1' : {'b' : 2,\n",
    "                             'b_units': 'in',\n",
    "                             'h' : 4,\n",
    "                             'h_units': 'in',\n",
    "                             'l' : 6,\n",
    "                             'l_units': 'm',\n",
    "                             't' : 0.8,\n",
    "                            't_units': 'mm'},\n",
    "    \n",
    "                'perlin2' : {'b' : 2,\n",
    "                             'b_units': 'in',\n",
    "                             'h' : 3,\n",
    "                             'h_units': 'in',\n",
    "                             'l' : 6,\n",
    "                             'l_units': 'm',\n",
    "                             't' : 1.1,\n",
    "                             't_units': 'mm'},\n",
    "                            \n",
    "                'perlin3' : {'b' : 2,\n",
    "                             'b_units': 'in',\n",
    "                             'h' : 6,\n",
    "                             'h_units': 'in',\n",
    "                             'l' : 6,\n",
    "                             'l_units': 'm',\n",
    "                             't' : 1.15,\n",
    "                             't_units': 'mm'},\n",
    "                            \n",
    "                'perlin4' : {'b' : 2,\n",
    "                             'b_units': 'in',\n",
    "                             'h' : 7,\n",
    "                             'h_units': 'in',\n",
    "                             'l' : 7,\n",
    "                             'l_units': 'm',\n",
    "                             't' : 1.15,\n",
    "                             't_units': 'mm'},\n",
    "                            \n",
    "                'perlin5' : {'b' : 2,\n",
    "                             'b_units': 'in',\n",
    "                             'h' : 7,\n",
    "                             'h_units': 'in',\n",
    "                             'l' : 6,\n",
    "                             'l_units': 'm',\n",
    "                             't' : 1.30,\n",
    "                             't_units': 'mm'},\n",
    "                            \n",
    "                'perlin6' : {'b' : 2,\n",
    "                             'b_units': 'in',\n",
    "                             'h' : 7,\n",
    "                             'h_units': 'in',\n",
    "                             'l' : 6,\n",
    "                             'l_units': 'm',\n",
    "                             't' : 1.35, \n",
    "                             't_units': 'mm'},\n",
    "                            \n",
    "                'perlin7' : {'b' : 2,\n",
    "                             'b_units': 'in',\n",
    "                             'h' : 6,\n",
    "                             'h_units': 'in',\n",
    "                             'l' : 6,\n",
    "                             'l_units': 'm',\n",
    "                             't' : 1.5, \n",
    "                             't_units': 'mm'},\n",
    "                            \n",
    "                'perlin8' : {'b' : 2,\n",
    "                             'b_units': 'in',\n",
    "                             'h' : 6,\n",
    "                             'h_units': 'in',\n",
    "                             'l' : 6,\n",
    "                             'l_units': 'm',\n",
    "                             't' : 1.8, \n",
    "                             't_units': 'mm'},\n",
    "                            \n",
    "                'perlin9' : {'b' : 2,\n",
    "                             'b_units': 'in',\n",
    "                             'h' : 6,\n",
    "                             'h_units': 'in',\n",
    "                             'l' : 7,\n",
    "                             'l_units': 'm',\n",
    "                             't' : 1.8,\n",
    "                             't_units': 'mm'}}        \n",
    "\n",
    "\n",
    "tube_table = {'tube1' : {'name': 'Smooth-Bore Seamless Steel Tubing',\n",
    "                         'code': '9220K521',\n",
    "                         'seller': 'McMaster',\n",
    "                         'cost': 36.04,\n",
    "                         'date': '10/18/20',\n",
    "                         'url': 'https://www.mcmaster.com/steel-tubing/smooth-bore-seamless-steel-tubing/',\n",
    "                         'OD': 1, \n",
    "                         'OD_units': 'in',\n",
    "                         'ID': 0.834,\n",
    "                         'ID_units': 'in',\n",
    "                         'l': 6,\n",
    "                         'l_units': 'ft',\n",
    "                         'profile': 'round'},\n",
    "              'tube2' : {'name': 'Low-Carbon Steel Rectangular Tubes',\n",
    "                         'code': '6527K644',\n",
    "                         'seller': 'McMaster',\n",
    "                         'cost': 182.5,\n",
    "                         'date': '10/18/20',\n",
    "                         'url': r'https://www.mcmaster.com/steel-tubing/smooth-bore-seamless-steel-tubing/',\n",
    "                         'OD': 6, \n",
    "                         'OD_units': 'in' ,\n",
    "                         'ID': 5.5,\n",
    "                         'ID_units': 'in',\n",
    "                         'l': 6,\n",
    "                         'l_units': 'ft',\n",
    "                         'profile': 'rectangular'}}"
   ]
  },
  {
   "cell_type": "markdown",
   "metadata": {},
   "source": [
    "### PARAMETERS"
   ]
  },
  {
   "cell_type": "code",
   "execution_count": 4,
   "metadata": {},
   "outputs": [],
   "source": [
    "# PARAMETERS\n",
    "\n",
    "# From bifacial_radiance\n",
    "numpanels = 2  # 1 UP, 2 UP, 3 UP.\n",
    "x = 0.95   #   moduleDict['x']\n",
    "y = 1.95   #   moduleDict['y']\n",
    "xgap = 0.1 #   moduleDict['xgap'].   Leaving 10 centimeters between modules on x direction\n",
    "numMods = 20     \n",
    "numRows = 7\n",
    "hub_height = 2.3\n",
    "\n",
    "## New Parameters\n",
    "\n",
    "# TorqueTube\n",
    "tubetype = 'perlin4'  # other options examples: 'tube2'. If custom, add to the dictionaries above.\n",
    "numtorquetubes = 1\n",
    "\n",
    "#POSTS:\n",
    "postsseparation = 5 # every 5 modules\n",
    "diameterPosts = 0.20 #m.  \n",
    "thickness = 0.005 #m \n",
    "\n",
    "# Others:\n",
    "weightpermodule = 60 # kg"
   ]
  },
  {
   "cell_type": "markdown",
   "metadata": {},
   "source": [
    "## Calculations\n",
    "\n",
    "(This to become a function in bifacial_radiance once we define if this parameters / process is enough for initial optimization)"
   ]
  },
  {
   "cell_type": "code",
   "execution_count": 5,
   "metadata": {},
   "outputs": [
    {
     "name": "stdout",
     "output_type": "stream",
     "text": [
      "This project needs 2304.629740229238 Kg of Steel\n",
      "Which would cost $5332.91 at $2314 USD/tonne\n"
     ]
    }
   ],
   "source": [
    "# Mass per M2 TorqueTube\n",
    "if 'perlin' in tubetype:\n",
    "    perlsizes = perlin_table[tubetype]\n",
    "    b = perlsizes['b']\n",
    "    h = perlsizes['h']\n",
    "    l = perlsizes['l']\n",
    "    t = perlsizes['t']\n",
    "    torquetubeweightperm2 = (b*2+h) * 0.0254 * t/1000 * 1 * density_steel \n",
    "\n",
    "if 'tube' in tubetype:\n",
    "    tube_size = tube_table[tubetype]\n",
    "    OD = tube_size['OD']\n",
    "    ID = tube_size['OD']\n",
    "    torquetubeweightperm2 = (np.pi * (OD * 0.0254/2)**2 - np.pi * (ID * 0.0254/2)**2) * 1 * density_steel\n",
    "\n",
    "# Mass per M2 Posts\n",
    "postweightperm2 = (np.pi * (diameterPosts/2)**2 - np.pi * ((diameterPosts-thickness*2)/2)**2) * 1 * density_steel\n",
    "\n",
    "## \n",
    "\n",
    "# Meters of Torquetube and Post needed\n",
    "torquetubelength = x*numMods+(numMods-1)*xgap            # moduleDict['scenex'] can be used instead of x and xgap-1.\n",
    "torquetube_needed = torquetubelength*numtorquetubes*numRows\n",
    "\n",
    "# Meters of Posts needed\n",
    "numposts_perRow = np.floor(numMods / postsseparation)+1\n",
    "posts_needed = numposts_perRow*hub_height*numRows\n",
    "\n",
    "## \n",
    "\n",
    "# Mass of Material Needed:\n",
    "mass_steel = torquetube_needed*torquetubeweightperm2 + posts_needed*postweightperm2\n",
    "cost = mass_steel/1000 * cost_per_kg_steel\n",
    "\n",
    "print('This project needs {} Kg of Steel'.format(mass_steel))\n",
    "print( 'Which would cost ${} at ${} USD/tonne'.format(round(cost,2), cost_per_kg_steel))"
   ]
  },
  {
   "cell_type": "markdown",
   "metadata": {},
   "source": [
    "### BEAM STRESS AND DEFLECTION CALCULATIONS\n",
    "\n",
    "\n",
    "To be added. And torsion for wind to calculate needed ballasting ~~"
   ]
  },
  {
   "cell_type": "code",
   "execution_count": null,
   "metadata": {},
   "outputs": [],
   "source": []
  }
 ],
 "metadata": {
  "kernelspec": {
   "display_name": "Python 3",
   "language": "python",
   "name": "python3"
  },
  "language_info": {
   "codemirror_mode": {
    "name": "ipython",
    "version": 3
   },
   "file_extension": ".py",
   "mimetype": "text/x-python",
   "name": "python",
   "nbconvert_exporter": "python",
   "pygments_lexer": "ipython3",
   "version": "3.8.3"
  }
 },
 "nbformat": 4,
 "nbformat_minor": 4
}
