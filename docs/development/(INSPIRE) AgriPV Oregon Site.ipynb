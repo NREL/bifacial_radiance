{
 "cells": [
  {
   "cell_type": "markdown",
   "metadata": {},
   "source": [
    "# Oregon Site\n",
    "\n",
    "Lat: 44.57615187732146\n",
    "Long:  -123.23914850912513\n",
    "Tilt: 25 degrees\n",
    "Fixed-Racking, S-facing\n",
    "Clearance_Height = 34.667 inches\n",
    "B: 81.667 inches\n",
    "Collector Width: 132.5 inches\n",
    "Pitch: 245 inches\n",
    "Hub_height: 58.167 inches\n",
    "\n"
   ]
  },
  {
   "cell_type": "markdown",
   "metadata": {},
   "source": [
    "<a id='step1'></a>"
   ]
  },
  {
   "cell_type": "code",
   "execution_count": 1,
   "metadata": {},
   "outputs": [
    {
     "name": "stdout",
     "output_type": "stream",
     "text": [
      "Your simulation will be stored in C:\\Users\\sayala\\Documents\\GitHub\\bifacial_radiance\\bifacial_radiance\\TEMP\\AgriPV_Oregon_A\n"
     ]
    }
   ],
   "source": [
    "import os\n",
    "from pathlib import Path\n",
    "\n",
    "testfolder = str(Path().resolve().parent.parent / 'bifacial_radiance' / 'TEMP' / 'AgriPV_Oregon_A')\n",
    "if not os.path.exists(testfolder):\n",
    "    os.makedirs(testfolder)\n",
    "    \n",
    "print (\"Your simulation will be stored in %s\" % testfolder)"
   ]
  },
  {
   "cell_type": "code",
   "execution_count": 2,
   "metadata": {},
   "outputs": [],
   "source": [
    "from bifacial_radiance import *   \n",
    "import numpy as np\n",
    "import datetime"
   ]
  },
  {
   "cell_type": "code",
   "execution_count": 3,
   "metadata": {},
   "outputs": [
    {
     "name": "stdout",
     "output_type": "stream",
     "text": [
      "Panel length [1.68275 1.68275 1.9812 ]\n"
     ]
    }
   ],
   "source": [
    "lat = 44.57615187732146\n",
    "lon = -123.23914850912513\n",
    "tilt = 25 # degrees\n",
    "sazm = 180 # degrees (south)\n",
    "numpanels = 2\n",
    "albedo = 0.2  #'grass'     # ground albedo\n",
    "\n",
    "# Three sites differences:\n",
    "cws = [3.3655, 3.3655, 3.9624] # m\n",
    "clearance_heights = [0.8805418, 0.9482582, 0.6985] # m\n",
    "pitchs = [6.223, 8.4201, 6.8453]  # m \n",
    "\n",
    "ys = np.divide(cws,numpanels)\n",
    "print(\"Panel length\" , ys)\n",
    "x = 1\n"
   ]
  },
  {
   "cell_type": "code",
   "execution_count": 5,
   "metadata": {},
   "outputs": [
    {
     "name": "stdout",
     "output_type": "stream",
     "text": [
      "path = C:\\Users\\sayala\\Documents\\GitHub\\bifacial_radiance\\bifacial_radiance\\TEMP\\AgriPV_Oregon_A\n",
      "Loading albedo, 1 value(s), 0.200 avg\n",
      "1 nonzero albedo values.\n",
      "Getting weather file: USA_OR_Corvallis.Muni.AP.726945_TMY3.epw\n",
      " ... OK!\n"
     ]
    }
   ],
   "source": [
    "demo = RadianceObj('Oregon', path=testfolder)  # Create a RadianceObj 'object'\n",
    "demo.setGround(albedo) # input albedo number or material name like 'concrete'.  To see options, run this without any input.\n",
    "epwfile = demo.getEPW(lat, lon) # NJ lat/lon 40.0583° N, 74.4057\n",
    "metdata = demo.readWeatherFile(epwfile, starttime=startdt, endtime=enddt, coerce_year=2021) # read in the EPW weather data from above\n",
    "startdt =datetime.datetime(2021,5,1,0)\n",
    "enddt = datetime.datetime(2021,9,30,23)\n",
    "metdata = demo.readWeatherFile(epwfile, starttime=startdt, endtime=enddt, coerce_year=2021) # read in the EPW weather data from above\n",
    "demo.genCumSky()"
   ]
  },
  {
   "cell_type": "markdown",
   "metadata": {},
   "source": [
    "## 1. Loop over the different heights"
   ]
  },
  {
   "cell_type": "code",
   "execution_count": 14,
   "metadata": {},
   "outputs": [
    {
     "name": "stdout",
     "output_type": "stream",
     "text": [
      "\n",
      "Module Name: PV-module\n",
      "Module PV-module updated in module.json\n",
      "Pre-existing .rad file objects\\PV-module.rad will be overwritten\n",
      "\n",
      "Created Oregon.oct\n",
      "Linescan in process: Site_0_Module__Row4_Module10_Front\n",
      "Linescan in process: Site_0_Module__Row4_Module10_Back\n",
      "Saved: results\\irr_Site_0_Module__Row4_Module10_Front.csv\n",
      "Saved: results\\irr_Site_0_Module__Row4_Module10_Back.csv\n",
      "Linescan in process: Site_0_Ground__Row4_Module10_Front\n",
      "Linescan in process: Site_0_Ground__Row4_Module10_Back\n",
      "Saved: results\\irr_Site_0_Ground__Row4_Module10_Front.csv\n",
      "Saved: results\\irr_Site_0_Ground__Row4_Module10_Back.csv\n",
      "\n",
      "Module Name: PV-module\n",
      "Module PV-module updated in module.json\n",
      "Pre-existing .rad file objects\\PV-module.rad will be overwritten\n",
      "\n",
      "Created Oregon.oct\n",
      "Linescan in process: Site_1_Module__Row4_Module10_Front\n",
      "Linescan in process: Site_1_Module__Row4_Module10_Back\n",
      "Saved: results\\irr_Site_1_Module__Row4_Module10_Front.csv\n",
      "Saved: results\\irr_Site_1_Module__Row4_Module10_Back.csv\n",
      "Linescan in process: Site_1_Ground__Row4_Module10_Front\n",
      "Linescan in process: Site_1_Ground__Row4_Module10_Back\n",
      "Saved: results\\irr_Site_1_Ground__Row4_Module10_Front.csv\n",
      "Saved: results\\irr_Site_1_Ground__Row4_Module10_Back.csv\n",
      "\n",
      "Module Name: PV-module\n",
      "Module PV-module updated in module.json\n",
      "Pre-existing .rad file objects\\PV-module.rad will be overwritten\n",
      "\n",
      "Created Oregon.oct\n",
      "Linescan in process: Site_2_Module__Row4_Module10_Front\n",
      "Linescan in process: Site_2_Module__Row4_Module10_Back\n",
      "Saved: results\\irr_Site_2_Module__Row4_Module10_Front.csv\n",
      "Saved: results\\irr_Site_2_Module__Row4_Module10_Back.csv\n",
      "Linescan in process: Site_2_Ground__Row4_Module10_Front\n",
      "Linescan in process: Site_2_Ground__Row4_Module10_Back\n",
      "Saved: results\\irr_Site_2_Ground__Row4_Module10_Front.csv\n",
      "Saved: results\\irr_Site_2_Ground__Row4_Module10_Back.csv\n"
     ]
    }
   ],
   "source": [
    "for ii in range(0,3):\n",
    "    y= ys[ii]\n",
    "    ch = clearance_heights[ii]\n",
    "    pitch = pitchs[ii]\n",
    "    \n",
    "    moduletype='PV-module'\n",
    "    module = demo.makeModule(name=moduletype, x=x, y=y, numpanels=numpanels)\n",
    "    sceneDict = {'tilt':tilt, 'pitch':pitch, 'clearance_height':ch, 'azimuth':sazm, 'nMods':20, 'nRows':7}  \n",
    "    #starttime = '01_13_11';  endtime = '01_13_12'\n",
    "    scene = demo.makeScene(module=moduletype, sceneDict=sceneDict) #makeScene creates a .rad file with 20 modules per row, 7 rows.\n",
    "    octfile = demo.makeOct()  # makeOct combines all of the ground, sky and object fil|es into a .oct file.\n",
    "    # Sensor calculation\n",
    "    spacingbetweensamples = 0.05  # one sensor every 5 cm\n",
    "    sensorsy = round(pitch/spacingbetweensamples) -1 # one sensor every 5 cm\n",
    "\n",
    "    analysis = AnalysisObj(octfile, demo.name)  # return an analysis object including the scan dimensions for back irradiance\n",
    "    frontscan, backscan = analysis.moduleAnalysis(scene, sensorsy=[1, 9])\n",
    "    groundscan = frontscan.copy()\n",
    "    groundscan['zstart'] = 0.05  # setting it 5 cm from the ground.\n",
    "    groundscan['zinc'] = 0   # no tilt necessary. \n",
    "    groundscan['yinc'] = spacingbetweensamples   # increasing spacing so it covers all distance between rows\n",
    "    groundscan['Ny'] = sensorsy   # increasing spacing so it covers all distance between rows\n",
    "\n",
    "    analysis.analysis(octfile, 'Site_'+str(ii)+'_Module_', frontscan, backscan)  # compare the back vs front irradiance  \n",
    "    analysis.analysis(octfile, 'Site_'+str(ii)+'_Ground_', frontscan, groundscan)  # compare the back vs front irradiance  "
   ]
  },
  {
   "cell_type": "markdown",
   "metadata": {},
   "source": [
    "## 2. Plot Bifacial Gain Results"
   ]
  },
  {
   "cell_type": "markdown",
   "metadata": {},
   "source": [
    "## 3. Plot Heatmaps of the Ground Irradiance"
   ]
  },
  {
   "cell_type": "markdown",
   "metadata": {},
   "source": [
    "#### First, here is a complicated way to find the maximum of all arrays so all heatmaps are referenced to that value"
   ]
  },
  {
   "cell_type": "code",
   "execution_count": 12,
   "metadata": {},
   "outputs": [],
   "source": [
    "import pandas as pd\n",
    "import seaborn as sns\n",
    "import matplotlib.pyplot as plt\n",
    "import matplotlib"
   ]
  },
  {
   "cell_type": "code",
   "execution_count": 46,
   "metadata": {},
   "outputs": [],
   "source": [
    "font = {'family' : 'normal',\n",
    "        'weight' : 'bold',\n",
    "        'size'   : 22}\n",
    "matplotlib.rc('font', **font)\n",
    "\n",
    "sns.set(rc={'figure.figsize':(5,5)})"
   ]
  },
  {
   "cell_type": "code",
   "execution_count": 33,
   "metadata": {},
   "outputs": [],
   "source": [
    "results_BGG=[]\n",
    "results_G=[]\n",
    "results_coords= []\n",
    "for ii in range(0, 3):\n",
    "    filepvf= os.path.join(testfolder,'results',f'irr_Site_'+str(ii)+'_Module__Row4_Module10_Front.csv')\n",
    "    filepvb= os.path.join(testfolder,'results',f'irr_Site_'+str(ii)+'_Module__Row4_Module10_Back.csv')\n",
    "    fileground= os.path.join(testfolder,'results',f'irr_Site_'+str(ii)+'_Ground__Row4_Module10_Back.csv')\n",
    "    resultsDF = load.read1Result(filepvf)\n",
    "    resultsDB = load.read1Result(filepvb)\n",
    "    resultsG = load.read1Result(fileground)\n",
    "    #resultsDF = load.cleanResult(resultsDF).dropna()\n",
    "    results_BGG.append(np.round(resultsDB['Wm2Back'].mean()*100/resultsDF['Wm2Front'].mean(),1))\n",
    "    results_G.append(resultsG['Wm2Back'])\n",
    "    results_coords.append(resultsG['y'])\n",
    "    \n"
   ]
  },
  {
   "cell_type": "code",
   "execution_count": 27,
   "metadata": {},
   "outputs": [],
   "source": [
    "GHI_season = demo.metdata.ghi.sum()"
   ]
  },
  {
   "cell_type": "code",
   "execution_count": 28,
   "metadata": {},
   "outputs": [
    {
     "name": "stdout",
     "output_type": "stream",
     "text": [
      "Bifacial Gain Results for EAch site [7.0, 8.3, 6.1]\n"
     ]
    }
   ],
   "source": [
    "print(\"Bifacial Gain Results for Each site\", results_BGG)"
   ]
  },
  {
   "cell_type": "code",
   "execution_count": 48,
   "metadata": {},
   "outputs": [
    {
     "data": {
      "text/plain": [
       "Text(0.5, 0, 'Pitch [m]')"
      ]
     },
     "execution_count": 48,
     "metadata": {},
     "output_type": "execute_result"
    },
    {
     "data": {
      "image/png": "[encoded data removed]",
      "text/plain": [
       "<Figure size 504x504 with 1 Axes>"
      ]
     },
     "metadata": {},
     "output_type": "display_data"
    }
   ],
   "source": [
    "plt.figure(figsize=(7,7))\n",
    "plt.plot(results_coords[0],results_G[0]/GHI_season, label='Site 1')\n",
    "plt.plot(results_coords[1],results_G[1]/GHI_season, label='Site 2')\n",
    "plt.plot(results_coords[2],results_G[2]/GHI_season, label='Site 3')\n",
    "plt.legend()\n",
    "plt.ylabel(\"Irradiance Factor on Ground\")\n",
    "plt.xlabel(\"Pitch [m]\")"
   ]
  },
  {
   "cell_type": "code",
   "execution_count": null,
   "metadata": {},
   "outputs": [],
   "source": [
    "plt.figure(figsize=(14,10))\n",
    "plt.plot(hub_heights, results_BGG, '.-')\n",
    "plt.ylabel('Bifacial Gain in Irradiance (BG$_G$) [%]')\n",
    "plt.xlabel('Hub height [m]')"
   ]
  },
  {
   "cell_type": "code",
   "execution_count": null,
   "metadata": {},
   "outputs": [],
   "source": [
    "maxmax = 0\n",
    "for hh in range (0, len(hub_heights)):\n",
    "    for cc in range (0, len(crops)):\n",
    "        filestarter = \"irr_height_\"+ str(int(hub_heights[hh]*100))+'cm_'+crops[cc]\n",
    "\n",
    "        filelist = sorted(os.listdir(os.path.join(testfolder, 'results')))\n",
    "        prefixed = [filename for filename in filelist if filename.startswith(filestarter)]\n",
    "        arrayWm2Front = []\n",
    "        arrayWm2Back = []\n",
    "        arrayMatFront = []\n",
    "        arrayMatBack = []\n",
    "        filenamed = []\n",
    "        faillist = []\n",
    "\n",
    "        print('{} files in the directory'.format(filelist.__len__()))\n",
    "        print('{} groundscan files in the directory'.format(prefixed.__len__()))\n",
    "        i = 0  # counter to track # files loaded.\n",
    "\n",
    "        for i in range (0, len(prefixed)-1):\n",
    "            ind = prefixed[i].split('_')\n",
    "            #print(\" Working on \", filelist[i], locs[ii], Scenario[jj])\n",
    "            try:\n",
    "                resultsDF = load.read1Result(os.path.join(testfolder, 'results', prefixed[i]))\n",
    "                arrayWm2Front.append(list(resultsDF['Wm2Front']))\n",
    "                arrayWm2Back.append(list(resultsDF['Wm2Back']))\n",
    "                arrayMatFront.append(list(resultsDF['mattype']))\n",
    "                arrayMatBack.append(list(resultsDF['rearMat']))\n",
    "                filenamed.append(prefixed[i])\n",
    "            except:\n",
    "                print(\" FAILED \", i, prefixed[i])\n",
    "                faillist.append(prefixed[i])\n",
    "\n",
    "        resultsdf = pd.DataFrame(list(zip(arrayWm2Front, arrayWm2Back, \n",
    "                                          arrayMatFront, arrayMatBack)),\n",
    "                                 columns = ['br_Wm2Front', 'br_Wm2Back', \n",
    "                                            'br_MatFront', 'br_MatBack'])\n",
    "        resultsdf['filename'] = filenamed\n",
    "        \n",
    "        df3 = pd.DataFrame(resultsdf['br_Wm2Front'].to_list())\n",
    "        reversed_df = df3.T.iloc[::-1]\n",
    "        \n",
    "        if df3.max().max() > maxmax:\n",
    "            maxmax = df3.max().max()\n",
    "\n",
    "\n",
    "print(\"MAX Found\", maxmax)"
   ]
  },
  {
   "cell_type": "markdown",
   "metadata": {},
   "source": [
    "Now let's print Results Table and Ground Irradiance Heatmaps:"
   ]
  },
  {
   "cell_type": "code",
   "execution_count": null,
   "metadata": {},
   "outputs": [],
   "source": [
    "for hh in range (0, len(hub_heights)):\n",
    "    for cc in range (0, len(crops)):\n",
    "        filestarter = \"irr_height_\"+ str(int(hub_heights[hh]*100))+'cm_'+crops[cc]\n",
    "\n",
    "        filelist = sorted(os.listdir(os.path.join(testfolder, 'results')))\n",
    "        prefixed = [filename for filename in filelist if filename.startswith(filestarter)]\n",
    "        arrayWm2Front = []\n",
    "        arrayWm2Back = []\n",
    "        arrayMatFront = []\n",
    "        arrayMatBack = []\n",
    "        filenamed = []\n",
    "        faillist = []\n",
    "\n",
    "        i = 0  # counter to track # files loaded.\n",
    "\n",
    "        for i in range (0, len(prefixed)-1):\n",
    "            ind = prefixed[i].split('_')\n",
    "            #print(\" Working on \", filelist[i], locs[ii], Scenario[jj])\n",
    "            try:\n",
    "                resultsDF = load.read1Result(os.path.join(testfolder, 'results', prefixed[i]))\n",
    "                arrayWm2Front.append(list(resultsDF['Wm2Front']))\n",
    "                arrayWm2Back.append(list(resultsDF['Wm2Back']))\n",
    "                arrayMatFront.append(list(resultsDF['mattype']))\n",
    "                arrayMatBack.append(list(resultsDF['rearMat']))\n",
    "                filenamed.append(prefixed[i])\n",
    "            except:\n",
    "                print(\" FAILED \", i, prefixed[i])\n",
    "                faillist.append(prefixed[i])\n",
    "\n",
    "        resultsdf = pd.DataFrame(list(zip(arrayWm2Front, arrayWm2Back, \n",
    "                                          arrayMatFront, arrayMatBack)),\n",
    "                                 columns = ['br_Wm2Front', 'br_Wm2Back', \n",
    "                                            'br_MatFront', 'br_MatBack'])\n",
    "        resultsdf['filename'] = filenamed\n",
    "        \n",
    "        df3 = pd.DataFrame(resultsdf['br_Wm2Front'].to_list())\n",
    "        reversed_df = df3.T.iloc[::-1]\n",
    "            \n",
    "        plt.figure()\n",
    "        ax = sns.heatmap(reversed_df/maxmax, vmin=0, vmax=1)\n",
    "        ax.set_yticks([])\n",
    "        ax.set_xticks([])\n",
    "        ax.set_ylabel('')  \n",
    "        ax.set_xlabel('')\n",
    "        mytitle = 'Crop: '+crops[cc]+', Hub Height '+str(hub_heights[hh])\n",
    "        ax.set_title(mytitle)\n",
    "        \n",
    "        print(mytitle, \"MAX irradiance\", round(df3.max().max()/1000,1), \" kW/m2; Min irradiance\", round(df3.min().min()/1000,1), \"kW/m2\")\n",
    "\n",
    "print(\"\")"
   ]
  }
 ],
 "metadata": {
  "kernelspec": {
   "display_name": "Python 3 (ipykernel)",
   "language": "python",
   "name": "python3"
  },
  "language_info": {
   "codemirror_mode": {
    "name": "ipython",
    "version": 3
   },
   "file_extension": ".py",
   "mimetype": "text/x-python",
   "name": "python",
   "nbconvert_exporter": "python",
   "pygments_lexer": "ipython3",
   "version": "3.8.8"
  }
 },
 "nbformat": 4,
 "nbformat_minor": 2
}
