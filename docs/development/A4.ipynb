{
 "cells": [
  {
   "cell_type": "markdown",
   "id": "4c701d13",
   "metadata": {},
   "source": [
    "# A4\n",
    "* GCR = 0.4\n",
    "* Albedo = 0.2\n",
    "* Hub Height = 1.5\n",
    "* Configuration = 1-Up portrait\n",
    "* Ground surface = 10% grade* down to the East (10% grade = slope angle of 5.71 deg from horizontal (atan(0.1))\n",
    ")\n",
    "***\n",
    "* A GCR of 0.4 for the Trina Vertex module (length = 2.384m) corresponds to a rowto-row spacing or pitch of 5.96m\n",
    "* 1-up Portrait: 5 rows, each with 25 modules\n",
    "* Torque tube diameter = 15 cm. (round)\n",
    "* Maximum tracker rotation angle = 55 deg\n",
    "* Backtracking is enabled\n",
    "* Location: Albuquerque, New Mexico USA (35.05°, -106.54°)"
   ]
  },
  {
   "cell_type": "code",
   "execution_count": 1,
   "id": "760e9b21",
   "metadata": {},
   "outputs": [
    {
     "name": "stdout",
     "output_type": "stream",
     "text": [
      "Your simulation will be stored in Scenarios/A4\n"
     ]
    }
   ],
   "source": [
    "import os\n",
    "from pathlib import Path\n",
    "\n",
    "testfolder = 'Scenarios/A4'\n",
    "\n",
    "if not os.path.exists(testfolder):\n",
    "    os.makedirs(testfolder)\n",
    "    \n",
    "print (\"Your simulation will be stored in %s\" % testfolder)"
   ]
  },
  {
   "cell_type": "code",
   "execution_count": 2,
   "id": "aa782cd2",
   "metadata": {},
   "outputs": [],
   "source": [
    "import bifacial_radiance as br\n",
    "import bifacialvf as bf\n",
    "import numpy as np\n",
    "import pandas as pd\n",
    "import matplotlib.pyplot as plt\n",
    "import sys, platform\n",
    "import csv\n",
    "from pathlib import Path"
   ]
  },
  {
   "cell_type": "code",
   "execution_count": 3,
   "id": "2d3d89b5",
   "metadata": {},
   "outputs": [
    {
     "name": "stdout",
     "output_type": "stream",
     "text": [
      "Working on a  Darwin 23.3.0\n",
      "Python version  3.11.5 (main, Sep 11 2023, 08:19:27) [Clang 14.0.6 ]\n",
      "Pandas version  2.0.3\n",
      "bifacial_radiance version  0.4.2+256.g4b04221.dirty\n",
      "pyplot  3.7.2\n",
      "bifacialvf version  0.1.8.1\n"
     ]
    }
   ],
   "source": [
    "print(\"Working on a \", platform.system(), platform.release())\n",
    "print(\"Python version \", sys.version)\n",
    "print(\"Pandas version \", pd.__version__)\n",
    "print(\"bifacial_radiance version \", br.__version__)\n",
    "print(\"pyplot \", plt.matplotlib.__version__)\n",
    "print(\"bifacialvf version \", bf.__version__)"
   ]
  },
  {
   "cell_type": "code",
   "execution_count": 4,
   "id": "8a48f304",
   "metadata": {},
   "outputs": [],
   "source": [
    "simulationname = 'A4'\n",
    "\n",
    "# Location Albuquerque, New Mexico, USA\n",
    "lat = 35.05\n",
    "lon = -106.54\n",
    "\n",
    "# Scene Parameters\n",
    "azimuth=90\n",
    "tilt=30\n",
    "\n",
    "# MakeModule Parameters\n",
    "moduletype='PVmod'\n",
    "numpanels=1\n",
    "module_x = 1.303 # m\n",
    "module_y = 2.384 # m. slope we will measure\n",
    "sensorsy=2\n",
    "torquetube_diam = 0.15\n",
    "\n",
    "zgap = 0.02 # m\n",
    "xgap = 0.002 # m\n",
    "\n",
    "# SceneDict Parameters\n",
    "pitch = 5.96 # m\n",
    "albedo = 0.2\n",
    "hub_height = 1.5 # m  \n",
    "nMods = 25 \n",
    "nRows = 5\n",
    "theta = 5.71\n",
    "\n",
    "# sceneDict = {'tilt':tilt,'pitch':pitch,'albedo': albedo,'hub_height':hub_height,'azimuth':azimuth, 'nMods': nMods, 'nRows': nRows} "
   ]
  },
  {
   "cell_type": "code",
   "execution_count": 5,
   "id": "eb5df558",
   "metadata": {
    "scrolled": true
   },
   "outputs": [
    {
     "name": "stdout",
     "output_type": "stream",
     "text": [
      "path = Scenarios/A4\n",
      "Loading albedo, 1 value(s), 0.200 avg\n",
      "1 nonzero albedo values.\n"
     ]
    }
   ],
   "source": [
    "demo = br.RadianceObj(simulationname,path = testfolder)\n",
    "demo.setGround(albedo)"
   ]
  },
  {
   "cell_type": "code",
   "execution_count": 6,
   "id": "4b7e271b",
   "metadata": {},
   "outputs": [],
   "source": [
    "cumulativesky = False\n",
    "trackerParams = {\n",
    "    'limit_angle': 55,\n",
    "    'backtrack': True,\n",
    "    'gcr': 0.4,\n",
    "    'azimuth': 180,  # axis angle, N-S = 180\n",
    "    'cumulativesky': cumulativesky\n",
    "}"
   ]
  },
  {
   "cell_type": "code",
   "execution_count": 7,
   "id": "e1e7d382",
   "metadata": {
    "scrolled": true
   },
   "outputs": [
    {
     "name": "stdout",
     "output_type": "stream",
     "text": [
      "\n",
      "Module Name: PVmod\n",
      "Module PVmod updated in module.json\n",
      "Pre-existing .rad file objects/PVmod.rad will be overwritten\n",
      "\n"
     ]
    }
   ],
   "source": [
    "module=demo.makeModule(name=moduletype,x=module_x,y=module_y, xgap=xgap, zgap=zgap)"
   ]
  },
  {
   "cell_type": "code",
   "execution_count": 8,
   "id": "a575f485",
   "metadata": {},
   "outputs": [
    {
     "name": "stdout",
     "output_type": "stream",
     "text": [
      "Module PVmod updated in module.json\n",
      "Pre-existing .rad file objects/PVmod.rad will be overwritten\n",
      "\n"
     ]
    }
   ],
   "source": [
    "module.addTorquetube(diameter=torquetube_diam, tubetype='Round', material='Metal_Grey', \n",
    "                     axisofrotation=True, visible=True, recompile=True)"
   ]
  },
  {
   "cell_type": "code",
   "execution_count": 9,
   "id": "01f7cc46",
   "metadata": {},
   "outputs": [],
   "source": [
    "sceneDict = {'tilt':theta,'pitch':0.000001,'clearance_height':0,'azimuth':90, 'nMods': 1, 'nRows': 1} \n",
    "sceneObj0 = demo.makeScene(module, sceneDict)  \n",
    "                                                          \n",
    "sceneDict2 = {'tilt':theta,'pitch':0.0000001,'clearance_height':15*np.sin(np.radians(theta))+hub_height,'azimuth':90, 'nMods': nMods, 'nRows': 1, \n",
    "    'originx': 0, 'originy': 0, 'appendRadfile':True }\n",
    "# sceneObj2 = demo.makeScene(module, sceneDict2)\n",
    "\n",
    "sceneDict3 = {'tilt': theta,'pitch':0.0000001,'clearance_height':(15+pitch)* np.sin(np.radians(theta))+hub_height,'azimuth':90, 'nMods': nMods, 'nRows': 1, \n",
    "              'originx': (15.0+pitch)*np.cos(np.radians(theta)), 'originy': 0, 'appendRadfile':True} \n",
    "# sceneObj3 = demo.makeScene(module, sceneDict3)\n",
    "\n",
    "sceneDict4 = {'tilt':theta,'pitch':0.0000001,'clearance_height':(15+2*pitch)* np.sin(np.radians(theta))+hub_height,'azimuth':90, 'nMods': nMods, 'nRows': 1, \n",
    "    'originx': (15.0+2*pitch)*np.cos(np.radians(theta)), 'originy': 0, 'appendRadfile':True }\n",
    "# sceneObj4 = demo.makeScene(module, sceneDict4)\n",
    "\n",
    "sceneDict5 = {'tilt':theta,'pitch':0.0000001,'clearance_height':(15+3*pitch)* np.sin(np.radians(theta))+hub_height,'azimuth':90, 'nMods': nMods, 'nRows': 1, \n",
    "    'originx': (15.0+3*pitch)*np.cos(np.radians(theta)), 'originy': 0, 'appendRadfile':True }\n",
    "# sceneObj5 = demo.makeScene(module, sceneDict5)\n"
   ]
  },
  {
   "cell_type": "code",
   "execution_count": 10,
   "id": "6a4d2091",
   "metadata": {},
   "outputs": [
    {
     "data": {
      "text/plain": [
       "'/Users/storopov/Documents/GitHub/bifacial_radiance/docs/development/Instructions/Phase2_meteo_hourly_psm3format.csv'"
      ]
     },
     "execution_count": 10,
     "metadata": {},
     "output_type": "execute_result"
    }
   ],
   "source": [
    "weatherfile = str(Path().resolve().parent.parent / 'Instructions' / 'Phase2_meteo_hourly_psm3format.csv')\n",
    "weatherfile"
   ]
  },
  {
   "cell_type": "code",
   "execution_count": 11,
   "id": "966c7daf",
   "metadata": {
    "scrolled": true
   },
   "outputs": [
    {
     "name": "stdout",
     "output_type": "stream",
     "text": [
      "COLUMN DATAS Index(['Year', 'Month', 'Day', 'Hour', 'Minute', 'GHI', 'DNI', 'DHI',\n",
      "       'temp_air', 'wind_speed', 'humidity', 'Unnamed: 11', 'Unnamed: 12',\n",
      "       'Unnamed: 13', 'Unnamed: 14', 'Unnamed: 15', 'Unnamed: 16',\n",
      "       'Unnamed: 17'],\n",
      "      dtype='object')\n",
      "8760 line in WeatherFile. Assuming this is a standard hourly WeatherFile for the year for purposes of saving Gencumulativesky temporary weather files in EPW folder.\n",
      "Coercing year to 2022\n",
      "Filtering dates\n",
      "Saving file EPWs/metdata_temp.csv, # points: 8760\n",
      "Calculating Sun position for Metdata that is left-labeled  with a delta of +30 mins. i.e. 12 is 12:30 sunpos.\n"
     ]
    }
   ],
   "source": [
    "metdata = demo.readWeatherFile(weatherfile, source='sam', starttime='2022-01-01_0000', endtime='2022-01-01_1200')"
   ]
  },
  {
   "cell_type": "code",
   "execution_count": 12,
   "id": "556da4dc",
   "metadata": {},
   "outputs": [],
   "source": [
    "trackerdict = demo.set1axis(**trackerParams)"
   ]
  },
  {
   "cell_type": "code",
   "execution_count": 13,
   "id": "e814024e",
   "metadata": {},
   "outputs": [
    {
     "name": "stdout",
     "output_type": "stream",
     "text": [
      "Creating ~4 skyfiles. \n",
      "Created 4 skyfiles in /skies/\n"
     ]
    },
    {
     "data": {
      "text/plain": [
       "{'2022-01-01_0830': {'surf_azm': 90.0,\n",
       "  'surf_tilt': 53.19,\n",
       "  'theta': -53.19,\n",
       "  'dni': 0,\n",
       "  'ghi': 78,\n",
       "  'dhi': 76,\n",
       "  'temp_air': 3.7,\n",
       "  'wind_speed': 5.2,\n",
       "  'skyfile': 'skies/sky2_35.05_-106.54_2022-01-01_0830.rad'},\n",
       " '2022-01-01_0930': {'surf_azm': 90.0,\n",
       "  'surf_tilt': 50.17,\n",
       "  'theta': -50.17,\n",
       "  'dni': 0,\n",
       "  'ghi': 85,\n",
       "  'dhi': 82,\n",
       "  'temp_air': 3.3,\n",
       "  'wind_speed': 5.0,\n",
       "  'skyfile': 'skies/sky2_35.05_-106.54_2022-01-01_0930.rad'},\n",
       " '2022-01-01_1030': {'surf_azm': 90.0,\n",
       "  'surf_tilt': 29.16,\n",
       "  'theta': -29.16,\n",
       "  'dni': 5,\n",
       "  'ghi': 112,\n",
       "  'dhi': 108,\n",
       "  'temp_air': 3.9,\n",
       "  'wind_speed': 4.7,\n",
       "  'skyfile': 'skies/sky2_35.05_-106.54_2022-01-01_1030.rad'},\n",
       " '2022-01-01_1130': {'surf_azm': 90.0,\n",
       "  'surf_tilt': 4.27,\n",
       "  'theta': -4.27,\n",
       "  'dni': 60,\n",
       "  'ghi': 265,\n",
       "  'dhi': 232,\n",
       "  'temp_air': 3.3,\n",
       "  'wind_speed': 5.5,\n",
       "  'skyfile': 'skies/sky2_35.05_-106.54_2022-01-01_1130.rad'}}"
      ]
     },
     "execution_count": 13,
     "metadata": {},
     "output_type": "execute_result"
    }
   ],
   "source": [
    "demo.gendaylit1axis()"
   ]
  },
  {
   "cell_type": "code",
   "execution_count": 15,
   "id": "6023d245",
   "metadata": {},
   "outputs": [
    {
     "name": "stdout",
     "output_type": "stream",
     "text": [
      "\n",
      "Making ~4 .rad files for gendaylit 1-axis workflow (this takes a minute..)\n",
      "4 Radfiles created in /objects/\n",
      "\n",
      "Making 4 octfiles in root directory.\n",
      "Created 1axis_2022-01-01_0830.oct\n",
      "Created 1axis_2022-01-01_0930.oct\n",
      "Created 1axis_2022-01-01_1030.oct\n",
      "Created 1axis_2022-01-01_1130.oct\n"
     ]
    }
   ],
   "source": [
    "trackerdict = demo.makeScene1axis(module=moduletype, sceneDict=sceneDict2)\n",
    "trackerdict = demo.makeOct1axis()"
   ]
  },
  {
   "cell_type": "code",
   "execution_count": 16,
   "id": "29d1f8d6",
   "metadata": {
    "scrolled": true
   },
   "outputs": [],
   "source": [
    "#trackerdict = demo.analysis1axis(sensorsy=2) # Middle Module"
   ]
  },
  {
   "cell_type": "code",
   "execution_count": 17,
   "id": "63dd2714",
   "metadata": {},
   "outputs": [
    {
     "name": "stdout",
     "output_type": "stream",
     "text": [
      "Linescan in process: 1axis_2022-01-01_0830_Row1_Module1_Front\n",
      "Linescan in process: 1axis_2022-01-01_0830_Row1_Module1_Back\n",
      "Saved: results/irr_1axis_2022-01-01_0830_Row1_Module1.csv\n",
      "Index: 2022-01-01_0830. Wm2Front: 64.40521000000001. Wm2Back: 21.33835\n",
      "Linescan in process: 1axis_2022-01-01_0930_Row1_Module1_Front\n",
      "Linescan in process: 1axis_2022-01-01_0930_Row1_Module1_Back\n",
      "Saved: results/irr_1axis_2022-01-01_0930_Row1_Module1.csv\n",
      "Index: 2022-01-01_0930. Wm2Front: 68.342865. Wm2Back: 22.21496833333333\n",
      "Linescan in process: 1axis_2022-01-01_1030_Row1_Module1_Front\n",
      "Linescan in process: 1axis_2022-01-01_1030_Row1_Module1_Back\n",
      "Saved: results/irr_1axis_2022-01-01_1030_Row1_Module1.csv\n",
      "Index: 2022-01-01_1030. Wm2Front: 104.11269999999999. Wm2Back: 22.022599999999997\n",
      "Linescan in process: 1axis_2022-01-01_1130_Row1_Module1_Front\n",
      "Linescan in process: 1axis_2022-01-01_1130_Row1_Module1_Back\n",
      "Saved: results/irr_1axis_2022-01-01_1130_Row1_Module1.csv\n",
      "Index: 2022-01-01_1130. Wm2Front: 262.42025. Wm2Back: 47.29234\n"
     ]
    }
   ],
   "source": [
    "trackerdict = demo.analysis1axis(sensorsy=2, modWanted = 1) # South Module"
   ]
  },
  {
   "cell_type": "code",
   "execution_count": 18,
   "id": "61c744a6",
   "metadata": {},
   "outputs": [],
   "source": [
    "#trackerdict = demo.analysis1axis(sensorsy=2, modWanted = 25) # North Module"
   ]
  },
  {
   "cell_type": "code",
   "execution_count": 19,
   "id": "48334036",
   "metadata": {},
   "outputs": [
    {
     "name": "stdout",
     "output_type": "stream",
     "text": [
      "Bifaciality factor of module stored is  1\n",
      "No CECModule data passed; using default for Prism Solar BHC72-400\n"
     ]
    },
    {
     "name": "stderr",
     "output_type": "stream",
     "text": [
      "/Users/storopov/Documents/GitHub/bifacial_radiance/bifacial_radiance/performance.py:64: FutureWarning: Calling float on a single element Series is deprecated and will raise a TypeError in the future. Use float(ser.iloc[0]) instead\n",
      "  alpha_sc=float(CECMod.alpha_sc),\n",
      "/Users/storopov/Documents/GitHub/bifacial_radiance/bifacial_radiance/performance.py:65: FutureWarning: Calling float on a single element Series is deprecated and will raise a TypeError in the future. Use float(ser.iloc[0]) instead\n",
      "  a_ref=float(CECMod.a_ref),\n",
      "/Users/storopov/Documents/GitHub/bifacial_radiance/bifacial_radiance/performance.py:66: FutureWarning: Calling float on a single element Series is deprecated and will raise a TypeError in the future. Use float(ser.iloc[0]) instead\n",
      "  I_L_ref=float(CECMod.I_L_ref),\n",
      "/Users/storopov/Documents/GitHub/bifacial_radiance/bifacial_radiance/performance.py:67: FutureWarning: Calling float on a single element Series is deprecated and will raise a TypeError in the future. Use float(ser.iloc[0]) instead\n",
      "  I_o_ref=float(CECMod.I_o_ref),\n",
      "/Users/storopov/Documents/GitHub/bifacial_radiance/bifacial_radiance/performance.py:68: FutureWarning: Calling float on a single element Series is deprecated and will raise a TypeError in the future. Use float(ser.iloc[0]) instead\n",
      "  R_sh_ref=float(CECMod.R_sh_ref),\n",
      "/Users/storopov/Documents/GitHub/bifacial_radiance/bifacial_radiance/performance.py:69: FutureWarning: Calling float on a single element Series is deprecated and will raise a TypeError in the future. Use float(ser.iloc[0]) instead\n",
      "  R_s=float(CECMod.R_s),\n",
      "/Users/storopov/Documents/GitHub/bifacial_radiance/bifacial_radiance/performance.py:70: FutureWarning: Calling float on a single element Series is deprecated and will raise a TypeError in the future. Use float(ser.iloc[0]) instead\n",
      "  Adjust=float(CECMod.Adjust)\n",
      "/Users/storopov/Documents/GitHub/bifacial_radiance/bifacial_radiance/performance.py:64: FutureWarning: Calling float on a single element Series is deprecated and will raise a TypeError in the future. Use float(ser.iloc[0]) instead\n",
      "  alpha_sc=float(CECMod.alpha_sc),\n",
      "/Users/storopov/Documents/GitHub/bifacial_radiance/bifacial_radiance/performance.py:65: FutureWarning: Calling float on a single element Series is deprecated and will raise a TypeError in the future. Use float(ser.iloc[0]) instead\n",
      "  a_ref=float(CECMod.a_ref),\n",
      "/Users/storopov/Documents/GitHub/bifacial_radiance/bifacial_radiance/performance.py:66: FutureWarning: Calling float on a single element Series is deprecated and will raise a TypeError in the future. Use float(ser.iloc[0]) instead\n",
      "  I_L_ref=float(CECMod.I_L_ref),\n",
      "/Users/storopov/Documents/GitHub/bifacial_radiance/bifacial_radiance/performance.py:67: FutureWarning: Calling float on a single element Series is deprecated and will raise a TypeError in the future. Use float(ser.iloc[0]) instead\n",
      "  I_o_ref=float(CECMod.I_o_ref),\n",
      "/Users/storopov/Documents/GitHub/bifacial_radiance/bifacial_radiance/performance.py:68: FutureWarning: Calling float on a single element Series is deprecated and will raise a TypeError in the future. Use float(ser.iloc[0]) instead\n",
      "  R_sh_ref=float(CECMod.R_sh_ref),\n",
      "/Users/storopov/Documents/GitHub/bifacial_radiance/bifacial_radiance/performance.py:69: FutureWarning: Calling float on a single element Series is deprecated and will raise a TypeError in the future. Use float(ser.iloc[0]) instead\n",
      "  R_s=float(CECMod.R_s),\n",
      "/Users/storopov/Documents/GitHub/bifacial_radiance/bifacial_radiance/performance.py:70: FutureWarning: Calling float on a single element Series is deprecated and will raise a TypeError in the future. Use float(ser.iloc[0]) instead\n",
      "  Adjust=float(CECMod.Adjust)\n"
     ]
    },
    {
     "data": {
      "text/plain": [
       "{'2022-01-01_0830': {'surf_azm': 90.0,\n",
       "  'surf_tilt': 53.19,\n",
       "  'theta': -53.19,\n",
       "  'dni': 0,\n",
       "  'ghi': 78,\n",
       "  'dhi': 76,\n",
       "  'temp_air': 3.7,\n",
       "  'wind_speed': 5.2,\n",
       "  'skyfile': 'skies/sky2_35.05_-106.54_2022-01-01_0830.rad',\n",
       "  'radfile': 'objects/1axis2022-01-01_0830__C_3.06846_rtr_0.00000_tilt_53.19000_25modsx1rows_origin0,0.rad',\n",
       "  'scene': {'module': {'x': 1.303, 'y': 2.384, 'z': 0.02, 'modulematerial': 'black', 'scenex': 1.305, 'sceney': 2.384, 'scenez': 0.095, 'numpanels': 1, 'bifi': 1, 'text': '! genbox black PVmod 1.303 2.384 0.02 | xform -t -0.6515 -1.192 0.095 -a 1 -t 0 2.384 0\\r\\n! genrev Metal_Grey tube1 t*1.305 0.075 32 | xform -ry 90 -t -0.6525 0 0', 'modulefile': 'objects/PVmod.rad', 'glass': False, 'offsetfromaxis': 0.095, 'xgap': 0.002, 'ygap': 0.0, 'zgap': 0.02}, 'modulefile': 'objects/PVmod.rad', 'hpc': False, 'name': 'Scene0', 'gcr': 23840000.0, 'text': '!xform -rx 53.19 -t 0 0 3.946748429660604 -a 25 -t 1.305 0 0 -a 1 -t 0 1e-07 0 -i 1 -t -15.66 -0.0 0 -rz 90.0 -t 0 0 0 objects/PVmod.rad', 'radfiles': 'objects/1axis2022-01-01_0830__C_3.06846_rtr_0.00000_tilt_53.19000_25modsx1rows_origin0,0.rad', 'sceneDict': {'tilt': 53.19, 'pitch': 1e-07, 'clearance_height': 3.068460819735074, 'azimuth': 90.0, 'nMods': 25, 'nRows': 1, 'modulez': 0.02, 'axis_tilt': 0, 'originx': 0, 'originy': 0}},\n",
       "  'octfile': '1axis_2022-01-01_0830.oct',\n",
       "  'Results': [{'rowWanted': 1,\n",
       "    'modWanted': 1,\n",
       "    'AnalysisObj': {'octfile': '1axis_2022-01-01_0830.oct', 'name': '1axis_2022-01-01_0830', 'hpc': False, 'modWanted': 1, 'rowWanted': 1, 'x': [0.3309403, -0.1451949], 'y': [-15.66, -15.66], 'z': [3.698136, 4.334367], 'rearZ': [3.684954, 4.321186], 'mattype': ['a0.0.a0.PVmod.6457', 'a0.0.a0.PVmod.6457'], 'rearMat': ['a0.0.a0.PVmod.2310', 'a0.0.a0.PVmod.2310'], 'Wm2Front': [64.32111, 64.48931], 'Wm2Back': [19.94157, 22.73513], 'Back/FrontRatio': [0.3100266766746302, 0.35253559798363504], 'backRatio': [0.3100266766746302, 0.35253559798363504], 'rearX': [0.3133265, -0.1628086], 'rearY': [-15.66, -15.66]},\n",
       "    'Wm2Front': [64.32111, 64.48931],\n",
       "    'Wm2Back': [19.94157, 22.73513],\n",
       "    'backRatio': [0.3100266766746302, 0.35253559798363504]}],\n",
       "  'POA_eff': 85.74356,\n",
       "  'Gfront_mean': 64.40521000000001,\n",
       "  'Grear_mean': 21.33835,\n",
       "  'Pout_raw': 35.39106128099287,\n",
       "  'Pout_Gfront': 26.362372199041374,\n",
       "  'Mismatch': 0.0008977161716236994,\n",
       "  'Pout': 35.39074356971244,\n",
       "  'Module_temp': 5.608197356959995},\n",
       " '2022-01-01_0930': {'surf_azm': 90.0,\n",
       "  'surf_tilt': 50.17,\n",
       "  'theta': -50.17,\n",
       "  'dni': 0,\n",
       "  'ghi': 85,\n",
       "  'dhi': 82,\n",
       "  'temp_air': 3.3,\n",
       "  'wind_speed': 5.0,\n",
       "  'skyfile': 'skies/sky2_35.05_-106.54_2022-01-01_0930.rad',\n",
       "  'radfile': 'objects/1axis2022-01-01_0930__C_3.06536_rtr_0.00000_tilt_50.17000_25modsx1rows_origin0,0.rad',\n",
       "  'scene': {'module': {'x': 1.303, 'y': 2.384, 'z': 0.02, 'modulematerial': 'black', 'scenex': 1.305, 'sceney': 2.384, 'scenez': 0.095, 'numpanels': 1, 'bifi': 1, 'text': '! genbox black PVmod 1.303 2.384 0.02 | xform -t -0.6515 -1.192 0.095 -a 1 -t 0 2.384 0\\r\\n! genrev Metal_Grey tube1 t*1.305 0.075 32 | xform -ry 90 -t -0.6525 0 0', 'modulefile': 'objects/PVmod.rad', 'glass': False, 'offsetfromaxis': 0.095, 'xgap': 0.002, 'ygap': 0.0, 'zgap': 0.02}, 'modulefile': 'objects/PVmod.rad', 'hpc': False, 'name': 'Scene0', 'gcr': 23840000.0, 'text': '!xform -rx 50.17 -t 0 0 3.907795595946926 -a 25 -t 1.305 0 0 -a 1 -t 0 1e-07 0 -i 1 -t -15.66 -0.0 0 -rz 90.0 -t 0 0 0 objects/PVmod.rad', 'radfiles': 'objects/1axis2022-01-01_0930__C_3.06536_rtr_0.00000_tilt_50.17000_25modsx1rows_origin0,0.rad', 'sceneDict': {'tilt': 50.17, 'pitch': 1e-07, 'clearance_height': 3.065356357316618, 'azimuth': 90.0, 'nMods': 25, 'nRows': 1, 'modulez': 0.02, 'axis_tilt': 0, 'originx': 0, 'originy': 0}},\n",
       "  'octfile': '1axis_2022-01-01_0930.oct',\n",
       "  'Results': [{'rowWanted': 1,\n",
       "    'modWanted': 1,\n",
       "    'AnalysisObj': {'octfile': '1axis_2022-01-01_0930.oct', 'name': '1axis_2022-01-01_0930', 'hpc': False, 'modWanted': 1, 'rowWanted': 1, 'x': [0.3435787, -0.1654147], 'y': [-15.66, -15.66], 'z': [3.676964, 4.287226], 'rearZ': [3.662872, 4.273135], 'mattype': ['a0.0.a0.PVmod.6457', 'a0.0.a0.PVmod.6457'], 'rearMat': ['a0.0.a0.PVmod.2310', 'a0.0.a0.PVmod.2310'], 'Wm2Front': [68.2552, 68.43053], 'Wm2Back': [20.61489, 23.815046666666664], 'Back/FrontRatio': [0.30202223387765503, 0.34801277520269763], 'backRatio': [0.30202223387765503, 0.34801277520269763], 'rearX': [0.3266839, -0.1823096], 'rearY': [-15.66, -15.66]},\n",
       "    'Wm2Front': [68.2552, 68.43053],\n",
       "    'Wm2Back': [20.61489, 23.815046666666664],\n",
       "    'backRatio': [0.30202223387765503, 0.34801277520269763]}],\n",
       "  'POA_eff': 90.55783333333333,\n",
       "  'Gfront_mean': 68.342865,\n",
       "  'Grear_mean': 22.21496833333333,\n",
       "  'Pout_raw': 37.48670518818472,\n",
       "  'Pout_Gfront': 28.0661588587032,\n",
       "  'Mismatch': 0.0009753626213773065,\n",
       "  'Pout': 37.48633955687433,\n",
       "  'Module_temp': 5.3416896820809034},\n",
       " '2022-01-01_1030': {'surf_azm': 90.0,\n",
       "  'surf_tilt': 29.16,\n",
       "  'theta': -29.16,\n",
       "  'dni': 5,\n",
       "  'ghi': 112,\n",
       "  'dhi': 108,\n",
       "  'temp_air': 3.9,\n",
       "  'wind_speed': 4.7,\n",
       "  'skyfile': 'skies/sky2_35.05_-106.54_2022-01-01_1030.rad',\n",
       "  'radfile': 'objects/1axis2022-01-01_1030__C_3.03869_rtr_0.00000_tilt_29.16000_25modsx1rows_origin0,0.rad',\n",
       "  'scene': {'module': {'x': 1.303, 'y': 2.384, 'z': 0.02, 'modulematerial': 'black', 'scenex': 1.305, 'sceney': 2.384, 'scenez': 0.095, 'numpanels': 1, 'bifi': 1, 'text': '! genbox black PVmod 1.303 2.384 0.02 | xform -t -0.6515 -1.192 0.095 -a 1 -t 0 2.384 0\\r\\n! genrev Metal_Grey tube1 t*1.305 0.075 32 | xform -ry 90 -t -0.6525 0 0', 'modulefile': 'objects/PVmod.rad', 'glass': False, 'offsetfromaxis': 0.095, 'xgap': 0.002, 'ygap': 0.0, 'zgap': 0.02}, 'modulefile': 'objects/PVmod.rad', 'hpc': False, 'name': 'Scene0', 'gcr': 23840000.0, 'text': '!xform -rx 29.16 -t 0 0 3.573203422705481 -a 25 -t 1.305 0 0 -a 1 -t 0 1e-07 0 -i 1 -t -15.66 -0.0 0 -rz 90.0 -t 0 0 0 objects/PVmod.rad', 'radfiles': 'objects/1axis2022-01-01_1030__C_3.03869_rtr_0.00000_tilt_29.16000_25modsx1rows_origin0,0.rad', 'sceneDict': {'tilt': 29.16, 'pitch': 1e-07, 'clearance_height': 3.038690034784792, 'azimuth': 90.0, 'nMods': 25, 'nRows': 1, 'modulez': 0.02, 'axis_tilt': 0, 'originx': 0, 'originy': 0}},\n",
       "  'octfile': '1axis_2022-01-01_1030.oct',\n",
       "  'Results': [{'rowWanted': 1,\n",
       "    'modWanted': 1,\n",
       "    'AnalysisObj': {'octfile': '1axis_2022-01-01_1030.oct', 'name': '1axis_2022-01-01_1030', 'hpc': False, 'modWanted': 1, 'rowWanted': 1, 'x': [0.4034973, -0.2904553], 'y': [-15.66, -15.66], 'z': [3.480901, 3.868103], 'rearZ': [3.461689, 3.848891], 'mattype': ['a0.0.a0.PVmod.6457', 'a0.0.a0.PVmod.6457'], 'rearMat': ['a0.0.a0.PVmod.2310', 'a0.0.a0.PVmod.2310'], 'Wm2Front': [104.06419999999999, 104.1612], 'Wm2Back': [20.393396666666664, 23.651803333333334], 'Back/FrontRatio': [0.1959674960185217, 0.22706704863504548], 'backRatio': [0.1959674960185217, 0.22706704863504548], 'rearX': [0.3927778, -0.3011748], 'rearY': [-15.66, -15.66]},\n",
       "    'Wm2Front': [104.06419999999999, 104.1612],\n",
       "    'Wm2Back': [20.393396666666664, 23.651803333333334],\n",
       "    'backRatio': [0.1959674960185217, 0.22706704863504548]}],\n",
       "  'POA_eff': 126.13529999999999,\n",
       "  'Gfront_mean': 104.11269999999999,\n",
       "  'Grear_mean': 22.022599999999997,\n",
       "  'Pout_raw': 52.500767734159794,\n",
       "  'Pout_Gfront': 43.14576230763645,\n",
       "  'Mismatch': 0.0007088255602726198,\n",
       "  'Pout': 52.500395595298755,\n",
       "  'Module_temp': 6.799908869873845},\n",
       " '2022-01-01_1130': {'surf_azm': 90.0,\n",
       "  'surf_tilt': 4.27,\n",
       "  'theta': -4.27,\n",
       "  'dni': 60,\n",
       "  'ghi': 265,\n",
       "  'dhi': 232,\n",
       "  'temp_air': 3.3,\n",
       "  'wind_speed': 5.5,\n",
       "  'skyfile': 'skies/sky2_35.05_-106.54_2022-01-01_1130.rad',\n",
       "  'radfile': 'objects/1axis2022-01-01_1130__C_2.99947_rtr_0.00000_tilt_4.27000_25modsx1rows_origin0,0.rad',\n",
       "  'scene': {'module': {'x': 1.303, 'y': 2.384, 'z': 0.02, 'modulematerial': 'black', 'scenex': 1.305, 'sceney': 2.384, 'scenez': 0.095, 'numpanels': 1, 'bifi': 1, 'text': '! genbox black PVmod 1.303 2.384 0.02 | xform -t -0.6515 -1.192 0.095 -a 1 -t 0 2.384 0\\r\\n! genrev Metal_Grey tube1 t*1.305 0.075 32 | xform -ry 90 -t -0.6525 0 0', 'modulefile': 'objects/PVmod.rad', 'glass': False, 'offsetfromaxis': 0.095, 'xgap': 0.002, 'ygap': 0.0, 'zgap': 0.02}, 'modulefile': 'objects/PVmod.rad', 'hpc': False, 'name': 'Scene0', 'gcr': 23840000.0, 'text': '!xform -rx 4.27 -t 0 0 3.081153530096392 -a 25 -t 1.305 0 0 -a 1 -t 0 1e-07 0 -i 1 -t -15.66 -0.0 0 -rz 90.0 -t 0 0 0 objects/PVmod.rad', 'radfiles': 'objects/1axis2022-01-01_1130__C_2.99947_rtr_0.00000_tilt_4.27000_25modsx1rows_origin0,0.rad', 'sceneDict': {'tilt': 4.27, 'pitch': 1e-07, 'clearance_height': 2.999474649048329, 'azimuth': 90.0, 'nMods': 25, 'nRows': 1, 'modulez': 0.02, 'axis_tilt': 0, 'originx': 0, 'originy': 0}},\n",
       "  'octfile': '1axis_2022-01-01_1130.oct',\n",
       "  'Results': [{'rowWanted': 1,\n",
       "    'modWanted': 1,\n",
       "    'AnalysisObj': {'octfile': '1axis_2022-01-01_1130.oct', 'name': '1axis_2022-01-01_1130', 'hpc': False, 'modWanted': 1, 'rowWanted': 1, 'x': [0.4048674, -0.3875935], 'y': [-15.66, -15.66], 'z': [3.167247, 3.226416], 'rearZ': [3.145309, 3.204477], 'mattype': ['a0.0.a0.PVmod.6457', 'a0.0.a0.PVmod.6457'], 'rearMat': ['a0.0.a0.PVmod.2310', 'a0.0.a0.PVmod.2310'], 'Wm2Front': [262.4207, 262.4198], 'Wm2Back': [47.14703666666667, 47.437643333333334], 'Back/FrontRatio': [0.1796613491440177, 0.18076937244811897], 'backRatio': [0.1796613491440177, 0.18076937244811897], 'rearX': [0.4032294, -0.3892315], 'rearY': [-15.66, -15.66]},\n",
       "    'Wm2Front': [262.4207, 262.4198],\n",
       "    'Wm2Back': [47.14703666666667, 47.437643333333334],\n",
       "    'backRatio': [0.1796613491440177, 0.18076937244811897]}],\n",
       "  'POA_eff': 309.71259,\n",
       "  'Gfront_mean': 262.42025,\n",
       "  'Grear_mean': 47.29234,\n",
       "  'Pout_raw': 130.45868845230243,\n",
       "  'Pout_Gfront': 110.56098274020239,\n",
       "  'Mismatch': 2.534935873718405e-05,\n",
       "  'Pout': 130.4586553818615,\n",
       "  'Module_temp': 10.059882530307716}}"
      ]
     },
     "execution_count": 19,
     "metadata": {},
     "output_type": "execute_result"
    }
   ],
   "source": [
    "demo.calculateResults()"
   ]
  },
  {
   "cell_type": "code",
   "execution_count": 20,
   "id": "ac1dd19f",
   "metadata": {},
   "outputs": [],
   "source": [
    "demo.CompiledResults.set_index('timestamp', inplace=True)\n",
    "dataframe = demo.CompiledResults\n",
    "# Grear_mean and Gfront_mean values to be recorded in the excel"
   ]
  },
  {
   "cell_type": "code",
   "execution_count": 21,
   "id": "c36d2359",
   "metadata": {
    "scrolled": true
   },
   "outputs": [
    {
     "data": {
      "text/html": [
       "<div>\n",
       "<style scoped>\n",
       "    .dataframe tbody tr th:only-of-type {\n",
       "        vertical-align: middle;\n",
       "    }\n",
       "\n",
       "    .dataframe tbody tr th {\n",
       "        vertical-align: top;\n",
       "    }\n",
       "\n",
       "    .dataframe thead th {\n",
       "        text-align: right;\n",
       "    }\n",
       "</style>\n",
       "<table border=\"1\" class=\"dataframe\">\n",
       "  <thead>\n",
       "    <tr style=\"text-align: right;\">\n",
       "      <th></th>\n",
       "      <th>module</th>\n",
       "      <th>row</th>\n",
       "      <th>POA_eff</th>\n",
       "      <th>Grear_mean</th>\n",
       "      <th>Gfront_mean</th>\n",
       "      <th>Module_temp</th>\n",
       "      <th>Pout_raw</th>\n",
       "      <th>Pout_Gfront</th>\n",
       "      <th>BGG</th>\n",
       "      <th>BGE</th>\n",
       "      <th>Mismatch</th>\n",
       "      <th>Pout</th>\n",
       "      <th>Wind Speed</th>\n",
       "      <th>DNI</th>\n",
       "      <th>DHI</th>\n",
       "      <th>GHI</th>\n",
       "    </tr>\n",
       "    <tr>\n",
       "      <th>timestamp</th>\n",
       "      <th></th>\n",
       "      <th></th>\n",
       "      <th></th>\n",
       "      <th></th>\n",
       "      <th></th>\n",
       "      <th></th>\n",
       "      <th></th>\n",
       "      <th></th>\n",
       "      <th></th>\n",
       "      <th></th>\n",
       "      <th></th>\n",
       "      <th></th>\n",
       "      <th></th>\n",
       "      <th></th>\n",
       "      <th></th>\n",
       "      <th></th>\n",
       "    </tr>\n",
       "  </thead>\n",
       "  <tbody>\n",
       "    <tr>\n",
       "      <th>2022-01-01_0830</th>\n",
       "      <td>1</td>\n",
       "      <td>1</td>\n",
       "      <td>85.743560</td>\n",
       "      <td>21.338350</td>\n",
       "      <td>64.405210</td>\n",
       "      <td>5.608197</td>\n",
       "      <td>35.391061</td>\n",
       "      <td>26.362372</td>\n",
       "      <td>33.131403</td>\n",
       "      <td>34.248394</td>\n",
       "      <td>0.000898</td>\n",
       "      <td>35.390744</td>\n",
       "      <td>5.2</td>\n",
       "      <td>0</td>\n",
       "      <td>76</td>\n",
       "      <td>78</td>\n",
       "    </tr>\n",
       "    <tr>\n",
       "      <th>2022-01-01_0930</th>\n",
       "      <td>1</td>\n",
       "      <td>1</td>\n",
       "      <td>90.557833</td>\n",
       "      <td>22.214968</td>\n",
       "      <td>68.342865</td>\n",
       "      <td>5.341690</td>\n",
       "      <td>37.486705</td>\n",
       "      <td>28.066159</td>\n",
       "      <td>32.505176</td>\n",
       "      <td>33.565499</td>\n",
       "      <td>0.000975</td>\n",
       "      <td>37.486340</td>\n",
       "      <td>5.0</td>\n",
       "      <td>0</td>\n",
       "      <td>82</td>\n",
       "      <td>85</td>\n",
       "    </tr>\n",
       "    <tr>\n",
       "      <th>2022-01-01_1030</th>\n",
       "      <td>1</td>\n",
       "      <td>1</td>\n",
       "      <td>126.135300</td>\n",
       "      <td>22.022600</td>\n",
       "      <td>104.112700</td>\n",
       "      <td>6.799909</td>\n",
       "      <td>52.500768</td>\n",
       "      <td>43.145762</td>\n",
       "      <td>21.152655</td>\n",
       "      <td>21.682327</td>\n",
       "      <td>0.000709</td>\n",
       "      <td>52.500396</td>\n",
       "      <td>4.7</td>\n",
       "      <td>5</td>\n",
       "      <td>108</td>\n",
       "      <td>112</td>\n",
       "    </tr>\n",
       "    <tr>\n",
       "      <th>2022-01-01_1130</th>\n",
       "      <td>1</td>\n",
       "      <td>1</td>\n",
       "      <td>309.712590</td>\n",
       "      <td>47.292340</td>\n",
       "      <td>262.420250</td>\n",
       "      <td>10.059883</td>\n",
       "      <td>130.458688</td>\n",
       "      <td>110.560983</td>\n",
       "      <td>18.021605</td>\n",
       "      <td>17.997041</td>\n",
       "      <td>0.000025</td>\n",
       "      <td>130.458655</td>\n",
       "      <td>5.5</td>\n",
       "      <td>60</td>\n",
       "      <td>232</td>\n",
       "      <td>265</td>\n",
       "    </tr>\n",
       "  </tbody>\n",
       "</table>\n",
       "</div>"
      ],
      "text/plain": [
       "                 module  row     POA_eff  Grear_mean  Gfront_mean  \\\n",
       "timestamp                                                           \n",
       "2022-01-01_0830       1    1   85.743560   21.338350    64.405210   \n",
       "2022-01-01_0930       1    1   90.557833   22.214968    68.342865   \n",
       "2022-01-01_1030       1    1  126.135300   22.022600   104.112700   \n",
       "2022-01-01_1130       1    1  309.712590   47.292340   262.420250   \n",
       "\n",
       "                 Module_temp    Pout_raw  Pout_Gfront        BGG        BGE  \\\n",
       "timestamp                                                                     \n",
       "2022-01-01_0830     5.608197   35.391061    26.362372  33.131403  34.248394   \n",
       "2022-01-01_0930     5.341690   37.486705    28.066159  32.505176  33.565499   \n",
       "2022-01-01_1030     6.799909   52.500768    43.145762  21.152655  21.682327   \n",
       "2022-01-01_1130    10.059883  130.458688   110.560983  18.021605  17.997041   \n",
       "\n",
       "                 Mismatch        Pout  Wind Speed  DNI  DHI  GHI  \n",
       "timestamp                                                         \n",
       "2022-01-01_0830  0.000898   35.390744         5.2    0   76   78  \n",
       "2022-01-01_0930  0.000975   37.486340         5.0    0   82   85  \n",
       "2022-01-01_1030  0.000709   52.500396         4.7    5  108  112  \n",
       "2022-01-01_1130  0.000025  130.458655         5.5   60  232  265  "
      ]
     },
     "execution_count": 21,
     "metadata": {},
     "output_type": "execute_result"
    }
   ],
   "source": [
    "dataframe"
   ]
  },
  {
   "cell_type": "code",
   "execution_count": null,
   "id": "eac4b714",
   "metadata": {},
   "outputs": [],
   "source": [
    "# dataframe.to_csv(Path().resolve().parent.parent / 'Results' / 'Ref-A.csv', index=True)"
   ]
  },
  {
   "cell_type": "code",
   "execution_count": null,
   "id": "3e6ea7f1",
   "metadata": {},
   "outputs": [],
   "source": [
    "# demo.exportScenarioData(trackerdict, savefile = Path().resolve().parent.parent / 'Results' / 'A4.csv')"
   ]
  },
  {
   "cell_type": "code",
   "execution_count": null,
   "id": "312a660a",
   "metadata": {},
   "outputs": [],
   "source": [
    "# demo.CompiledResults.to_csv(Path().resolve().parent.parent / 'Results' / 'A4-1.csv')"
   ]
  }
 ],
 "metadata": {
  "kernelspec": {
   "display_name": "Python 3 (ipykernel)",
   "language": "python",
   "name": "python3"
  },
  "language_info": {
   "codemirror_mode": {
    "name": "ipython",
    "version": 3
   },
   "file_extension": ".py",
   "mimetype": "text/x-python",
   "name": "python",
   "nbconvert_exporter": "python",
   "pygments_lexer": "ipython3",
   "version": "3.11.5"
  }
 },
 "nbformat": 4,
 "nbformat_minor": 5
}
