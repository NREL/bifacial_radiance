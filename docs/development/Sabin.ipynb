{
 "cells": [
  {
   "attachments": {
    "image.png": {
     "image/png": "[encoded data removed]"
    }
   },
   "cell_type": "markdown",
   "id": "82696ae0",
   "metadata": {},
   "source": [
    "# Example of adding multiple scene objects of different number of modules per row\n",
    "\n",
    "![image.png](attachment:image.png)"
   ]
  },
  {
   "cell_type": "code",
   "execution_count": 1,
   "id": "c0bd2839",
   "metadata": {},
   "outputs": [
    {
     "name": "stdout",
     "output_type": "stream",
     "text": [
      "Your simulation will be stored in C:\\Users\\sayala\\Documents\\GitHub\\bifacial_radiance\\bifacial_radiance\\TEMP\\Sabin\n"
     ]
    }
   ],
   "source": [
    "import os\n",
    "import numpy as np\n",
    "import pandas as pd\n",
    "from pathlib import Path\n",
    "\n",
    "testfolder = str(Path().resolve().parent.parent / 'bifacial_radiance' / 'TEMP' / 'Sabin')\n",
    "if not os.path.exists(testfolder):\n",
    "    os.makedirs(testfolder)\n",
    "    \n",
    "print (\"Your simulation will be stored in %s\" % testfolder)\n",
    "    \n",
    "from bifacial_radiance import RadianceObj, AnalysisObj    "
   ]
  },
  {
   "cell_type": "code",
   "execution_count": 3,
   "id": "6dcea2e4",
   "metadata": {},
   "outputs": [
    {
     "name": "stdout",
     "output_type": "stream",
     "text": [
      "path = C:\\Users\\sayala\\Documents\\GitHub\\bifacial_radiance\\bifacial_radiance\\TEMP\\Sabin\n",
      "Loading albedo, 1 value(s), 0.200 avg\n",
      "1 nonzero albedo values.\n",
      "Getting weather file: USA_NJ_McGuire.AFB.724096_TMY3.epw\n",
      " ... OK!\n",
      "8760 line in WeatherFile. Assuming this is a standard hourly WeatherFile for the year for purposes of saving Gencumulativesky temporary weather files in EPW folder.\n",
      "Coercing year to 2021\n",
      "Saving file EPWs\\metdata_temp.csv, # points: 8760\n",
      "Calculating Sun position for Metdata that is right-labeled  with a delta of -30 mins. i.e. 12 is 11:30 sunpos\n",
      "\n",
      "Module Name: test-module\n",
      "Module test-module updated in module.json\n",
      "Pre-existing .rad file objects\\test-module.rad will be overwritten\n",
      "\n"
     ]
    }
   ],
   "source": [
    "# Import the lib\n",
    "\n",
    "import bifacial_radiance\n",
    "import os\n",
    "from pathlib import Path\n",
    "import numpy as np\n",
    "import pandas as pd\n",
    "\n",
    "# inputs\n",
    "name='Testrun_UD_2'\n",
    "\n",
    "# Location \n",
    "\n",
    "la = 40.0583  # NJ\n",
    "lo = -74.4057  # NJ\n",
    "\n",
    "# MakeModule Parameters\n",
    "\n",
    "moduletype='test-module'\n",
    "numpanels = 1 # [ numbers of panels per unit ]\n",
    "x = 0.95 # lenght of one panel \n",
    "y = 1.95 # width of one panel\n",
    "\n",
    "# SceneDict Parameters\n",
    "pitch = 3 # m\n",
    "albedo = 0.2\n",
    "\n",
    "yrs = 2021 # The year needed\n",
    "hrs = 2990 # particular hours of the year\n",
    "\n",
    "hub_height = 4.3 # m\n",
    "nMods = 6 # six modules per row.  # This Changes based on optimization\n",
    "nRows = 4  # 3 row lenght of the list     # This Changes based on optimization\n",
    "\n",
    "azimuth_ang=180 # Facing south\n",
    "tilt =35 # tilt.\n",
    "\n",
    "\n",
    "# Project Intro\n",
    "# demo = Project\n",
    "\n",
    "\n",
    "Project = RadianceObj(name, testfolder)\n",
    "Project.setGround(albedo)\n",
    "epwfile = Project.getEPW(la,lo) # NJ lat/lon 40.0583° N, 74.4057\n",
    "metdata = Project.readWeatherFile(epwfile,coerce_year=yrs )\n",
    "Project.gendaylit(hrs)\n",
    "\n",
    "# Making module with all the variables\n",
    "\n",
    "module=Project.makeModule(name=moduletype,x=x,y=y,numpanels=numpanels)\n",
    "\n"
   ]
  },
  {
   "cell_type": "code",
   "execution_count": 4,
   "id": "f8149c5d",
   "metadata": {},
   "outputs": [],
   "source": [
    "# create a scene with all the variables\n",
    "\n",
    "sceneDict = {'tilt':tilt,'pitch':pitch,'hub_height':hub_height,'azimuth':azimuth_ang, 'nMods': nMods, 'nRows': nRows,\n",
    "            'appendRadfile':True} # 'originx': 0, 'originy': }\n",
    "scene = Project.makeScene(module=moduletype, sceneDict=sceneDict)\n"
   ]
  },
  {
   "cell_type": "code",
   "execution_count": 6,
   "id": "b4090657",
   "metadata": {},
   "outputs": [
    {
     "name": "stdout",
     "output_type": "stream",
     "text": [
      "Created Testrun_UD_2.oct\n"
     ]
    }
   ],
   "source": [
    "octfile = Project.makeOct(Project.getfilelist())"
   ]
  },
  {
   "cell_type": "code",
   "execution_count": 8,
   "id": "e4d47989",
   "metadata": {},
   "outputs": [],
   "source": [
    "sceneDict = {'tilt':tilt,'pitch':pitch,'hub_height':hub_height+ 0.3,'azimuth':azimuth_ang, 'nMods': 1, 'nRows': 1,\n",
    "            'appendRadfile':True} # 'originx': 0, 'originy': }\n",
    "scene = Project.makeScene(module=moduletype, sceneDict=sceneDict)\n"
   ]
  },
  {
   "cell_type": "code",
   "execution_count": 9,
   "id": "ce6eaf3a",
   "metadata": {},
   "outputs": [
    {
     "name": "stdout",
     "output_type": "stream",
     "text": [
      "Created Testrun_UD_2.oct\n"
     ]
    }
   ],
   "source": [
    "octfile = Project.makeOct(Project.getfilelist())"
   ]
  },
  {
   "cell_type": "code",
   "execution_count": 10,
   "id": "d4729e85",
   "metadata": {},
   "outputs": [],
   "source": [
    "!rvu -vf views\\front.vp -e .01 -pe 0.3 -vp 1 -7.5 12 Testrun_UD_2.oct"
   ]
  },
  {
   "cell_type": "code",
   "execution_count": 5,
   "id": "13330e5b",
   "metadata": {},
   "outputs": [],
   "source": [
    "#!rvu -vf views\\front.vp -e .01 -pe 0.3 -vp 1 -7.5 12 Testrun_UD_2.oct"
   ]
  },
  {
   "cell_type": "code",
   "execution_count": null,
   "id": "d5860c29",
   "metadata": {},
   "outputs": [],
   "source": [
    "#First row: Azimuth 180 facing south\n",
    "originxfirst = 0\n",
    "originyfirst = -(np.floor(nRows/2.0)+1)*pitch\n",
    "\n",
    "#First row: Azimuth 180 facing south\n",
    "originxlast = 0\n",
    "originylast = (np.floor(nRows/2.0)+1)*pitch\n"
   ]
  },
  {
   "cell_type": "code",
   "execution_count": null,
   "id": "2baa6c1d",
   "metadata": {},
   "outputs": [],
   "source": [
    "# Check if center array number is even, the distance will have to be different for first vs last \n",
    "# row based on the rounding (one rounds up one rounds down)\n",
    "if nRows%2 == 0: # if even\n",
    "    distancelast = (nRows/2.0)+1)*pitch\n",
    "    distancefirst = (nRows/2.0)*pitch\n",
    "    \n",
    "    originxlast = np.round(np.sin(np.radians(azimuth_ang)),3)*distancelast  # should be 0 for 180\n",
    "    originylast = np.round(np.cos(np.radians(azimuth_ang)),3)*distancelast  # should be 6 for 180\n",
    "\n",
    "    originxfirst = np.round(np.sin(np.radians(azimuth_ang)),3)*distancefirst # should be 0 for 180\n",
    "    originyfirst = -1*np.round(np.cos(np.radians(azimuth_ang)),3)*distancefirst # should be -6 for 180\n",
    "    \n",
    "else: # if odd\n",
    "\n",
    "    distance = (np.floor(nRows/2.0)+1)*pitch\n",
    "\n",
    "    originxlast = np.round(np.sin(np.radians(azimuth_ang)),3)*distance  # should be 0 for 180\n",
    "    originylast = np.round(np.cos(np.radians(azimuth_ang)),3)*distance  # should be 6 for 180\n",
    "\n",
    "    originxfirst = np.round(np.sin(np.radians(azimuth_ang)),3)*distance # should be 0 for 180\n",
    "    originyfirst = -1*np.round(np.cos(np.radians(azimuth_ang)),3)*distance # should be -6 for 180"
   ]
  },
  {
   "cell_type": "code",
   "execution_count": null,
   "id": "4d39999f",
   "metadata": {},
   "outputs": [],
   "source": [
    "nModsFirstRow = 4\n",
    "nModsLastRow = 3"
   ]
  },
  {
   "cell_type": "code",
   "execution_count": null,
   "id": "e5b1026e",
   "metadata": {},
   "outputs": [],
   "source": [
    "# create a scene with all the variables\n",
    "sceneDictFirst = {'tilt':tilt,'pitch':0.000001,'hub_height':hub_height,'azimuth':azimuth_ang, 'nMods': nModsFirstRow, \n",
    "                  'nRows': 1,  'originx': originxfirst, 'originy': originyfirst, 'appendRadfile':True}\n",
    "sceneFirst = Project.makeScene(module=moduletype, sceneDict=sceneDictFirst)\n",
    "#octfile = Project.makeOct(Project.getfilelist())"
   ]
  },
  {
   "cell_type": "code",
   "execution_count": null,
   "id": "5b08c31e",
   "metadata": {},
   "outputs": [],
   "source": [
    "# create a scene with all the variables\n",
    "sceneDictLast = {'tilt':tilt,'pitch':0.000001,'hub_height':hub_height,'azimuth':azimuth_ang, 'nMods': nModsLastRow, \n",
    "                  'nRows': 1, 'originx': originxlast, 'originy': originylast, 'appendRadfile':True }\n",
    "sceneLast = Project.makeScene(module=moduletype, sceneDict=sceneDictLast)\n",
    "octfile = Project.makeOct(Project.getfilelist())"
   ]
  },
  {
   "cell_type": "code",
   "execution_count": null,
   "id": "df9921fc",
   "metadata": {},
   "outputs": [],
   "source": [
    "#!rvu -vf views\\front.vp -e .01 -pe 0.3 -vp 1 -15.5 25 Testrun_UD_2.oct"
   ]
  },
  {
   "cell_type": "code",
   "execution_count": null,
   "id": "92ceec4e",
   "metadata": {},
   "outputs": [],
   "source": [
    "# Add scene objects in a loop example\n",
    "# To do analysis on each object you add htis way, call it like sceneDictLast[0] in the analysis.moduleAnalysis function\n",
    "# i.e. frontscan, backscan = analysis.moduleAnalysis(sceneDictLast[0], sensorsy=3, sensorsx=3, modWanted=1, rowWanted=1)\n",
    "\n",
    "sceneArray = []\n",
    "for rowobject in range(0, 4):\n",
    "    # Right now I am not changing any parameters so it is just re-appending the same object multiple times.\n",
    "    sceneDictLast = {'tilt':tilt,'pitch':0.000001,'hub_height':hub_height,'azimuth':azimuth_ang, 'nMods': nModsLastRow, \n",
    "                      'nRows': 1, 'originx': originxlast, 'originy': originylast, 'appendRadfile':True }\n",
    "    sceneArray.append(Project.makeScene(module=moduletype, sceneDict=sceneDictLast))\n",
    "octfile = Project.makeOct(Project.getfilelist())"
   ]
  },
  {
   "cell_type": "code",
   "execution_count": null,
   "id": "d77fc6c3",
   "metadata": {},
   "outputs": [],
   "source": [
    "analysis = AnalysisObj(octfile)\n",
    "frontscan, backscan = analysis.moduleAnalysis(scene, sensorsy=3, sensorsx=3, modWanted=1, rowWanted=1)\n",
    "analysis.analysis(octfile, \"Main\", frontscan, backscan) "
   ]
  },
  {
   "cell_type": "code",
   "execution_count": null,
   "id": "593d6f51",
   "metadata": {},
   "outputs": [],
   "source": [
    "analysis = AnalysisObj(octfile)\n",
    "frontscan, backscan = analysis.moduleAnalysis(sceneFirst, sensorsy=3, sensorsx=3, modWanted=1, rowWanted=1)\n",
    "analysis.analysis(octfile, \"First\", frontscan, backscan) \n"
   ]
  },
  {
   "cell_type": "code",
   "execution_count": null,
   "id": "9aa10f1d",
   "metadata": {},
   "outputs": [],
   "source": [
    "sceneobjectslist = [sceneFirst, scene, sceneLast]\n",
    "modulesperscene = [4, 6, 3]\n",
    "rowsperscene = [1, 4, 1]\n",
    "resultsname = ['First', 'Main', 'Last']\n",
    "\n",
    "for ii in range(0, len(sceneobjectlist)):\n",
    "    sceneobject = sceneobjectlist[ii]\n",
    "    for rowWanted in range(0, rowsperscene[ii]):\n",
    "        for modWanted in range(0, modulesperscene[ii]):\n",
    "            frontscan, backscan = analysis.moduleAnalysis(sceneobject, sensorsy=9, sensorsx=1, modWanted=modWnated, rowWanted=rowWanted)\n",
    "            analysis.analysis(octfile, resultsname+'_', frontscan, backscan) \n"
   ]
  },
  {
   "cell_type": "code",
   "execution_count": null,
   "id": "07a78597",
   "metadata": {},
   "outputs": [],
   "source": [
    "# P = n E A "
   ]
  },
  {
   "cell_type": "code",
   "execution_count": null,
   "id": "05671793",
   "metadata": {},
   "outputs": [],
   "source": [
    "calculatePerformance()"
   ]
  }
 ],
 "metadata": {
  "kernelspec": {
   "display_name": "Python 3 (ipykernel)",
   "language": "python",
   "name": "python3"
  },
  "language_info": {
   "codemirror_mode": {
    "name": "ipython",
    "version": 3
   },
   "file_extension": ".py",
   "mimetype": "text/x-python",
   "name": "python",
   "nbconvert_exporter": "python",
   "pygments_lexer": "ipython3",
   "version": "3.9.13"
  }
 },
 "nbformat": 4,
 "nbformat_minor": 5
}
