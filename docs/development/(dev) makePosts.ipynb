{
 "cells": [
  {
   "cell_type": "code",
   "execution_count": 1,
   "id": "f6836108",
   "metadata": {},
   "outputs": [],
   "source": [
    "import bifacial_radiance   \n",
    "import numpy as np\n",
    "import pandas as pd\n",
    "from pathlib import Path\n",
    "import os"
   ]
  },
  {
   "cell_type": "code",
   "execution_count": 2,
   "id": "ce939a90",
   "metadata": {},
   "outputs": [],
   "source": [
    "testfolder = str(Path().resolve().parent.parent / 'bifacial_radiance' / 'TEMP' / 'TestPosts')\n",
    "if not os.path.exists(testfolder):\n",
    "    os.makedirs(testfolder)              \n"
   ]
  },
  {
   "cell_type": "code",
   "execution_count": 3,
   "id": "f0e57d06",
   "metadata": {
    "scrolled": true
   },
   "outputs": [
    {
     "name": "stdout",
     "output_type": "stream",
     "text": [
      "path = C:\\Users\\sayala\\Documents\\GitHub\\bifacial_radiance\\bifacial_radiance\\TEMP\\TestPosts\n",
      "Loading albedo, 1 value(s), 0.200 avg\n",
      "1 nonzero albedo values.\n",
      "8760 line in WeatherFile. Assuming this is a standard hourly WeatherFile for the year for purposes of saving Gencumulativesky temporary weather files in EPW folder.\n",
      "Coercing year to 2021\n",
      "Saving file EPWs\\metdata_temp.csv, # points: 8760\n",
      "Calculating Sun position for Metdata that is right-labeled  with a delta of -30 mins. i.e. 12 is 11:30 sunpos\n"
     ]
    },
    {
     "data": {
      "text/plain": [
       "'skies\\\\sky2_40.02_-74.6_2021-06-17_1300.rad'"
      ]
     },
     "execution_count": 3,
     "metadata": {},
     "output_type": "execute_result"
    }
   ],
   "source": [
    "demo = bifacial_radiance.RadianceObj('test',path = testfolder)\n",
    "demo.setGround(0.2)\n",
    "#epwfile = demo.getEPW(40.0583,-74.4057) # NJ lat/lon 40.0583° N, 74.4057\n",
    "epwfile = r'EPWs\\USA_NJ_McGuire.AFB.724096_TMY3.epw'\n",
    "metdata = demo.readWeatherFile(epwfile, coerce_year=2021) \n",
    "timestamp = metdata.datetime.index(pd.to_datetime('2021-06-17 13:0:0 -5'))\n",
    "demo.gendaylit(timestamp)  # Use this to simulate only one hour at a time. \n",
    "\n"
   ]
  },
  {
   "cell_type": "code",
   "execution_count": 4,
   "id": "53f0cf94",
   "metadata": {},
   "outputs": [
    {
     "name": "stdout",
     "output_type": "stream",
     "text": [
      "\n",
      "Module Name: test_module\n",
      "Module test_module updated in module.json\n",
      "Pre-existing .rad file objects\\test_module.rad will be overwritten\n",
      "\n",
      "Module test_module updated in module.json\n",
      "Pre-existing .rad file objects\\test_module.rad will be overwritten\n",
      "\n"
     ]
    }
   ],
   "source": [
    "mymodule=demo.makeModule(name='test_module',x=1,y=2, xgap=0.2, zgap=0.2)\n",
    "mymodule.addTorquetube(axisofrotation=True, visible=False)"
   ]
  },
  {
   "cell_type": "code",
   "execution_count": 15,
   "id": "55039f10",
   "metadata": {},
   "outputs": [],
   "source": [
    "sceneDict = {'tilt':30,'pitch': 6,'hub_height':1.3,'azimuth':180, \n",
    "             'nMods': 13, 'nRows': 2}  \n",
    "\n",
    "scene = demo.makeScene(module=mymodule, sceneDict=sceneDict) "
   ]
  },
  {
   "cell_type": "code",
   "execution_count": 16,
   "id": "96c15932",
   "metadata": {},
   "outputs": [
    {
     "data": {
      "text/plain": [
       "{'metdata': <bifacial_radiance.main.MetObj at 0x1b5249ddd00>,\n",
       " 'data': {},\n",
       " 'path': 'C:\\\\Users\\\\sayala\\\\Documents\\\\GitHub\\\\bifacial_radiance\\\\bifacial_radiance\\\\TEMP\\\\TestPosts',\n",
       " 'name': 'test',\n",
       " 'materialfiles': ['materials\\\\ground.rad'],\n",
       " 'skyfiles': ['skies\\\\sky2_40.02_-74.6_2021-06-17_1300.rad'],\n",
       " 'radfiles': ['objects\\\\test_module_C_0.92500_rtr_6.00000_tilt_30.00000_13modsx2rows_origin0,0.rad'],\n",
       " 'octfile': 'test.oct',\n",
       " 'Wm2Front': 0,\n",
       " 'Wm2Back': 0,\n",
       " 'backRatio': 0,\n",
       " 'nMods': 13,\n",
       " 'nRows': 2,\n",
       " 'hpc': False,\n",
       " 'nowstr': '2022-03-05_124559',\n",
       " 'basename': 'test',\n",
       " 'ground': <bifacial_radiance.main.GroundObj at 0x1b5277032e0>,\n",
       " 'gencumsky_metfile': 'EPWs\\\\metdata_temp.csv',\n",
       " 'module': {'x': 1, 'y': 2, 'z': 0.02, 'modulematerial': 'black', 'scenex': 1.2, 'sceney': 2.0, 'scenez': 0.25, 'numpanels': 1, 'bifi': 1, 'text': '! genbox black test_module 1 2 0.02 | xform -t -0.5 -1.0 0.25 -a 1 -t 0 2.0 0', 'modulefile': 'objects\\\\test_module.rad', 'glass': False, 'offsetfromaxis': 0.25, 'xgap': 0.2, 'ygap': 0.0, 'zgap': 0.2},\n",
       " 'scene': {'module': {'x': 1, 'y': 2, 'z': 0.02, 'modulematerial': 'black', 'scenex': 1.2, 'sceney': 2.0, 'scenez': 0.25, 'numpanels': 1, 'bifi': 1, 'text': '! genbox black test_module 1 2 0.02 | xform -t -0.5 -1.0 0.25 -a 1 -t 0 2.0 0', 'modulefile': 'objects\\\\test_module.rad', 'glass': False, 'offsetfromaxis': 0.25, 'xgap': 0.2, 'ygap': 0.0, 'zgap': 0.2}, 'modulefile': 'objects\\\\test_module.rad', 'hpc': False, 'gcr': 0.3333333333333333, 'text': '!xform -rx 30 -t 0 0 1.3 -a 13 -t 1.2 0 0 -a 2 -t 0 6 0 -i 1 -t -7.199999999999999 -0.0 0 -rz 0 -t 0 0 0 objects\\\\test_module.rad', 'radfiles': 'objects\\\\test_module_C_0.92500_rtr_6.00000_tilt_30.00000_13modsx2rows_origin0,0.rad', 'sceneDict': {'tilt': 30, 'pitch': 6, 'hub_height': 1.3, 'azimuth': 180, 'nMods': 13, 'nRows': 2, 'axis_tilt': 0, 'originx': 0, 'originy': 0}},\n",
       " 'sceneRAD': 'objects\\\\test_module_C_0.92500_rtr_6.00000_tilt_30.00000_13modsx2rows_origin0,0.rad'}"
      ]
     },
     "execution_count": 16,
     "metadata": {},
     "output_type": "execute_result"
    }
   ],
   "source": [
    "demo.__dict__"
   ]
  },
  {
   "cell_type": "code",
   "execution_count": 17,
   "id": "ed4003a6",
   "metadata": {},
   "outputs": [
    {
     "name": "stdout",
     "output_type": "stream",
     "text": [
      "Postheight! 1.3\n",
      "Posts Radfile Appended\n",
      "Posts Created and Appended Successfully.\n"
     ]
    }
   ],
   "source": [
    "demo.addPosts()"
   ]
  },
  {
   "cell_type": "code",
   "execution_count": 18,
   "id": "72ade163",
   "metadata": {},
   "outputs": [
    {
     "name": "stdout",
     "output_type": "stream",
     "text": [
      "Created test.oct\n"
     ]
    }
   ],
   "source": [
    "octfile = demo.makeOct(demo.getfilelist())"
   ]
  },
  {
   "cell_type": "code",
   "execution_count": 19,
   "id": "6c466f11",
   "metadata": {},
   "outputs": [],
   "source": [
    "!rvu -vf views\\front.vp -e .01 -vp 0.1 -5.4 0.6 -vd 0.0 0.9901 0.1400 test.oct\n"
   ]
  },
  {
   "cell_type": "code",
   "execution_count": null,
   "id": "47154dd2",
   "metadata": {},
   "outputs": [],
   "source": []
  }
 ],
 "metadata": {
  "kernelspec": {
   "display_name": "Python 3 (ipykernel)",
   "language": "python",
   "name": "python3"
  },
  "language_info": {
   "codemirror_mode": {
    "name": "ipython",
    "version": 3
   },
   "file_extension": ".py",
   "mimetype": "text/x-python",
   "name": "python",
   "nbconvert_exporter": "python",
   "pygments_lexer": "ipython3",
   "version": "3.8.8"
  }
 },
 "nbformat": 4,
 "nbformat_minor": 5
}
