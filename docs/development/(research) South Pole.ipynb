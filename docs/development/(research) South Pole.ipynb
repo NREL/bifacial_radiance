{
 "cells": [
  {
   "cell_type": "code",
   "execution_count": 1,
   "id": "ea7d39f1",
   "metadata": {},
   "outputs": [
    {
     "data": {
      "text/plain": [
       "'0.4.1+107.g29a47a1.dirty'"
      ]
     },
     "execution_count": 1,
     "metadata": {},
     "output_type": "execute_result"
    }
   ],
   "source": [
    "import os\n",
    "import numpy as np\n",
    "import pandas as pd\n",
    "from pathlib import Path\n",
    "import bifacial_radiance\n",
    "bifacial_radiance.__version__"
   ]
  },
  {
   "cell_type": "code",
   "execution_count": 100,
   "id": "ebd97979",
   "metadata": {},
   "outputs": [
    {
     "name": "stdout",
     "output_type": "stream",
     "text": [
      "path = C:\\Users\\sayala\\Documents\\GitHub\\bifacial_radiance\\bifacial_radiance\\SouthPole\n",
      "Loading albedo, 1 value(s), 0.620 avg\n",
      "1 nonzero albedo values.\n"
     ]
    }
   ],
   "source": [
    "testfolder = testfolder = str(Path().resolve().parent.parent / 'bifacial_radiance' / 'SouthPole')\n",
    "if not os.path.exists(testfolder):\n",
    "    os.makedirs(testfolder)\n"
   ]
  },
  {
   "cell_type": "code",
   "execution_count": 43,
   "id": "9f14ba0a",
   "metadata": {},
   "outputs": [],
   "source": [
    "def saveSAM_SRRLWeatherFile(srrl15, savefile='Bifacial_SAMfileAll2019_15.csv', includeminute = True):\n",
    "    \"\"\"\n",
    "    Saves a dataframe with weather data from SRRL on SAM-friendly format.\n",
    "\n",
    "    INPUT:\n",
    "    data\n",
    "    savefile\n",
    "    includeminute  -- especially for hourly data, if SAM input does not have Minutes, it assuems it's TMY3 format and \n",
    "                      calculates the sun position 30 minutes prior to the hour (i.e. 12 timestamp means sun position at 11:30)\n",
    "                      If minutes are included, it will calculate the sun position at the time of the timestamp (12:00 at 12:00)\n",
    "                      Include minutes if resolution of data is not hourly duh. (but it will calculate at the timestamp)\n",
    "                      \n",
    "    Headers expected by SAM:\n",
    "    ************************* \n",
    "    # Source\tLocation ID\tCity\tState\tCountry\tLatitude\tLongitude\tTime Zone\tElevation\t\t\n",
    "\n",
    "    Column names\n",
    "    *************\n",
    "    # Year\tMonth\tDay\tHour\tMinute\tWspd\tTdry\tDHI\tDNI\tGHI\tAlbedo\n",
    "\n",
    "    OR\n",
    "    # Year\tMonth\tDay\tHour\tWspd\tTdry\tDHI\tDNI\tGHI\tAlbedo\n",
    "\n",
    "    \"\"\"\n",
    "\n",
    "    import pandas as pd\n",
    "\n",
    "    header = \"Source,Location ID,City,State,Country,Latitude,Longitude,Time Zone,Elevation,,,,,,,,,,\\n\" + \\\n",
    "            \"Measured,724666,DENVER/CENTENNIAL [GOLDEN - NREL],CO,USA,39.742,-105.179,-7,1829,,,,,,,,,,\\n\"\n",
    "\n",
    "    if includeminute:\n",
    "        savedata = pd.DataFrame({'Year':srrl15.index.year, 'Month':srrl15.index.month, 'Day':srrl15.index.day,\n",
    "                                 'Hour':srrl15.index.hour, 'Minute':srrl15.index.minute,\n",
    "                                 'Wspd':srrl15['Avg Wind Speed @ 6ft [m/s]'],\n",
    "                                 'Tdry':srrl15['Tower Dry Bulb Temp [deg C]'],\n",
    "                                 'DHI':srrl15['Diffuse 8-48 (vent) [W/m^2]'],\n",
    "                                 'DNI':srrl15['Direct CHP1-1 [W/m^2]'],\n",
    "                                 'GHI':srrl15['Global CMP22 (vent/cor) [W/m^2]'],\n",
    "                                 'Albedo':srrl15['Albedo (CMP11)']\n",
    "                                 })\n",
    "    else:\n",
    "         savedata = pd.DataFrame({'Year':srrl15.index.year, 'Month':srrl15.index.month, 'Day':srrl15.index.day,\n",
    "                                 'Hour':srrl15.index.hour,\n",
    "                                 'Wspd':srrl15['Avg Wind Speed @ 6ft [m/s]'],\n",
    "                                 'Tdry':srrl15['Tower Dry Bulb Temp [deg C]'],\n",
    "                                 'DHI':srrl15['Diffuse 8-48 (vent) [W/m^2]'],\n",
    "                                 'DNI':srrl15['Direct CHP1-1 [W/m^2]'],\n",
    "                                 'GHI':srrl15['Global CMP22 (vent/cor) [W/m^2]'],\n",
    "                                 'Albedo':srrl15['Albedo (CMP11)']\n",
    "                                 })\n",
    "    with open(savefile, 'w', newline='') as ict:\n",
    "        # Write the header lines, including the index variable for\n",
    "        # the last one if you're letting Pandas produce that for you.\n",
    "        # (see above).\n",
    "        for line in header:\n",
    "            ict.write(line)\n",
    "\n",
    "        savedata.to_csv(ict, index=False)\n",
    "\n",
    "      \n",
    "\n",
    "def new_save_TMY3(srrl15, savefile='Bifacial_TMYfileAll2019_15.csv', includeTrackerData=False):\n",
    "    \"\"\"\n",
    "    NEW Routine to save TMY3 , assuming the columns Date and Time already exist and are in the right\n",
    "    1-24 hour format. (this can be done previous to submitting to this function by\n",
    "    reading a real CSV and joining those columns)\n",
    "    \n",
    "    Saves a dataframe with weathe data from SRRL in TMY3 data format.\n",
    "    \n",
    "    if includeTrackerData is True, it will also save the tracker data column.\n",
    "    \n",
    "\n",
    "    Headers expected by TMY3:\n",
    "    ************************* \n",
    "    # Location ID\tCity\tState\tTime Zone\tLatitude\tLongitude\tElevation\n",
    "\n",
    "    Column names\n",
    "    *************\n",
    "    # Date (MM/DD/YYYY)\t\tTime (HH:MM)\tGHI (W/m^2))\tDNI (W/m^2))\tDHI (W/m^2)\t\tWspd (m/s)\t\n",
    "    Dry-bulb (C)\tAlb (unitless)\t\n",
    "\n",
    "    \"\"\"\n",
    "\n",
    "    import pandas as pd\n",
    "\n",
    "    header = \"724666, ANTARCTICA, SP, -0, -89.99,50.0, 2.3\\n\"\n",
    "\n",
    "    savedata = pd.DataFrame({'Date (MM/DD/YYYY)':srrl15['Date (MM/DD/YYYY)'],\n",
    "                             'Time (HH:MM)':srrl15['Time (HH:MM)'],\n",
    "                             'Wspd (m/s)':srrl15['windspeed'],\n",
    "                             'Dry-bulb (C)':srrl15['Tamb'],\n",
    "                             'DHI (W/m^2)':srrl15['DHI'],\n",
    "                             'DNI (W/m^2)':srrl15['DNI'],\n",
    "                             'GHI (W/m^2)':srrl15['GHI'],\n",
    "                             'Alb (unitless)':srrl15['albedo']})\n",
    "\n",
    "    if includeTrackerData:\n",
    "        savedata['Tracker Angle (degrees)'] = srrl15['Tracker Angle (degrees)']\n",
    "\n",
    "    with open(savefile, 'w', newline='') as ict:\n",
    "        # Write the header lines, including the index variable for\n",
    "        # the last one if you're letting Pandas produce that for you.\n",
    "        # (see above).\n",
    "        for line in header:\n",
    "            ict.write(line)\n",
    "\n",
    "        savedata.to_csv(ict, index=False)"
   ]
  },
  {
   "cell_type": "code",
   "execution_count": 12,
   "id": "f7edb187",
   "metadata": {},
   "outputs": [
    {
     "data": {
      "text/html": [
       "<div>\n",
       "<style scoped>\n",
       "    .dataframe tbody tr th:only-of-type {\n",
       "        vertical-align: middle;\n",
       "    }\n",
       "\n",
       "    .dataframe tbody tr th {\n",
       "        vertical-align: top;\n",
       "    }\n",
       "\n",
       "    .dataframe thead th {\n",
       "        text-align: right;\n",
       "    }\n",
       "</style>\n",
       "<table border=\"1\" class=\"dataframe\">\n",
       "  <thead>\n",
       "    <tr style=\"text-align: right;\">\n",
       "      <th></th>\n",
       "      <th>index</th>\n",
       "      <th>Date (MM/DD/YYYY)</th>\n",
       "      <th>Time (HH:MM)</th>\n",
       "      <th>ETR (W/m^2)</th>\n",
       "      <th>ETRN (W/m^2)</th>\n",
       "      <th>GHI (W/m^2)</th>\n",
       "      <th>GHI source</th>\n",
       "      <th>GHI uncert (%)</th>\n",
       "      <th>DNI (W/m^2)</th>\n",
       "      <th>DNI source</th>\n",
       "      <th>...</th>\n",
       "      <th>Alb (unitless)</th>\n",
       "      <th>Alb source</th>\n",
       "      <th>Alb uncert (code)</th>\n",
       "      <th>Lprecip depth (mm)</th>\n",
       "      <th>Lprecip quantity (hr)</th>\n",
       "      <th>Lprecip source</th>\n",
       "      <th>Lprecip uncert (code)</th>\n",
       "      <th>PresWth (METAR code)</th>\n",
       "      <th>PresWth source</th>\n",
       "      <th>PresWth uncert (code)</th>\n",
       "    </tr>\n",
       "  </thead>\n",
       "  <tbody>\n",
       "    <tr>\n",
       "      <th>0</th>\n",
       "      <td>0</td>\n",
       "      <td>01/01/1987</td>\n",
       "      <td>01:00</td>\n",
       "      <td>0</td>\n",
       "      <td>0</td>\n",
       "      <td>0</td>\n",
       "      <td>1</td>\n",
       "      <td>0</td>\n",
       "      <td>0</td>\n",
       "      <td>1</td>\n",
       "      <td>...</td>\n",
       "      <td>0.0</td>\n",
       "      <td>?</td>\n",
       "      <td>0</td>\n",
       "      <td>0</td>\n",
       "      <td>1</td>\n",
       "      <td>D</td>\n",
       "      <td>9</td>\n",
       "      <td>0</td>\n",
       "      <td>C</td>\n",
       "      <td>8</td>\n",
       "    </tr>\n",
       "    <tr>\n",
       "      <th>1</th>\n",
       "      <td>1</td>\n",
       "      <td>01/01/1987</td>\n",
       "      <td>02:00</td>\n",
       "      <td>0</td>\n",
       "      <td>0</td>\n",
       "      <td>0</td>\n",
       "      <td>1</td>\n",
       "      <td>0</td>\n",
       "      <td>0</td>\n",
       "      <td>1</td>\n",
       "      <td>...</td>\n",
       "      <td>0.0</td>\n",
       "      <td>?</td>\n",
       "      <td>0</td>\n",
       "      <td>0</td>\n",
       "      <td>1</td>\n",
       "      <td>D</td>\n",
       "      <td>9</td>\n",
       "      <td>0</td>\n",
       "      <td>C</td>\n",
       "      <td>8</td>\n",
       "    </tr>\n",
       "  </tbody>\n",
       "</table>\n",
       "<p>2 rows × 72 columns</p>\n",
       "</div>"
      ],
      "text/plain": [
       "   index Date (MM/DD/YYYY) Time (HH:MM)  ETR (W/m^2)  ETRN (W/m^2)  \\\n",
       "0      0        01/01/1987        01:00            0             0   \n",
       "1      1        01/01/1987        02:00            0             0   \n",
       "\n",
       "   GHI (W/m^2)  GHI source  GHI uncert (%)  DNI (W/m^2)  DNI source  ...  \\\n",
       "0            0           1               0            0           1  ...   \n",
       "1            0           1               0            0           1  ...   \n",
       "\n",
       "   Alb (unitless)  Alb source  Alb uncert (code)  Lprecip depth (mm)  \\\n",
       "0             0.0           ?                  0                   0   \n",
       "1             0.0           ?                  0                   0   \n",
       "\n",
       "   Lprecip quantity (hr)  Lprecip source  Lprecip uncert (code)  \\\n",
       "0                      1               D                      9   \n",
       "1                      1               D                      9   \n",
       "\n",
       "   PresWth (METAR code)  PresWth source  PresWth uncert (code)  \n",
       "0                     0               C                      8  \n",
       "1                     0               C                      8  \n",
       "\n",
       "[2 rows x 72 columns]"
      ]
     },
     "execution_count": 12,
     "metadata": {},
     "output_type": "execute_result"
    }
   ],
   "source": [
    "real_tmy=r'C:\\Users\\sayala\\Documents\\Github\\bifacialvf\\bifacialvf\\data\\724010TYA.CSV'\n",
    "real_tmy = pd.read_csv(real_tmy, skiprows = [0])\n",
    "real_tmy = real_tmy.reset_index()\n",
    "real_tmy.head(2)"
   ]
  },
  {
   "cell_type": "code",
   "execution_count": 16,
   "id": "9811b97a",
   "metadata": {},
   "outputs": [
    {
     "data": {
      "text/html": [
       "<div>\n",
       "<style scoped>\n",
       "    .dataframe tbody tr th:only-of-type {\n",
       "        vertical-align: middle;\n",
       "    }\n",
       "\n",
       "    .dataframe tbody tr th {\n",
       "        vertical-align: top;\n",
       "    }\n",
       "\n",
       "    .dataframe thead th {\n",
       "        text-align: right;\n",
       "    }\n",
       "</style>\n",
       "<table border=\"1\" class=\"dataframe\">\n",
       "  <thead>\n",
       "    <tr style=\"text-align: right;\">\n",
       "      <th></th>\n",
       "      <th>datetime</th>\n",
       "      <th>DNI</th>\n",
       "      <th>DHI</th>\n",
       "      <th>GHI</th>\n",
       "      <th>windir</th>\n",
       "      <th>windspeed</th>\n",
       "      <th>rel_hum</th>\n",
       "      <th>albedo</th>\n",
       "    </tr>\n",
       "  </thead>\n",
       "  <tbody>\n",
       "    <tr>\n",
       "      <th>0</th>\n",
       "      <td>2021-01-01 00:00:00</td>\n",
       "      <td>1046.269492</td>\n",
       "      <td>74.516949</td>\n",
       "      <td>466.494915</td>\n",
       "      <td>74.247458</td>\n",
       "      <td>2.508475</td>\n",
       "      <td>65.571186</td>\n",
       "      <td>0.837950</td>\n",
       "    </tr>\n",
       "    <tr>\n",
       "      <th>1</th>\n",
       "      <td>2021-01-01 01:00:00</td>\n",
       "      <td>1042.085000</td>\n",
       "      <td>74.356667</td>\n",
       "      <td>467.708333</td>\n",
       "      <td>74.088333</td>\n",
       "      <td>2.711667</td>\n",
       "      <td>65.161667</td>\n",
       "      <td>0.845178</td>\n",
       "    </tr>\n",
       "  </tbody>\n",
       "</table>\n",
       "</div>"
      ],
      "text/plain": [
       "             datetime          DNI        DHI         GHI     windir  \\\n",
       "0 2021-01-01 00:00:00  1046.269492  74.516949  466.494915  74.247458   \n",
       "1 2021-01-01 01:00:00  1042.085000  74.356667  467.708333  74.088333   \n",
       "\n",
       "   windspeed    rel_hum    albedo  \n",
       "0   2.508475  65.571186  0.837950  \n",
       "1   2.711667  65.161667  0.845178  "
      ]
     },
     "execution_count": 16,
     "metadata": {},
     "output_type": "execute_result"
    }
   ],
   "source": [
    "rawfile = r'C:\\Users\\sayala\\Desktop\\SOUTHPOLE\\South_Pole.xlsx'\n",
    "data = pd.read_excel(rawfile)\n",
    "data.head(2)"
   ]
  },
  {
   "cell_type": "code",
   "execution_count": 33,
   "id": "626f0311",
   "metadata": {},
   "outputs": [
    {
     "data": {
      "text/html": [
       "<div>\n",
       "<style scoped>\n",
       "    .dataframe tbody tr th:only-of-type {\n",
       "        vertical-align: middle;\n",
       "    }\n",
       "\n",
       "    .dataframe tbody tr th {\n",
       "        vertical-align: top;\n",
       "    }\n",
       "\n",
       "    .dataframe thead th {\n",
       "        text-align: right;\n",
       "    }\n",
       "</style>\n",
       "<table border=\"1\" class=\"dataframe\">\n",
       "  <thead>\n",
       "    <tr style=\"text-align: right;\">\n",
       "      <th></th>\n",
       "      <th>datetime</th>\n",
       "      <th>DNI</th>\n",
       "      <th>DHI</th>\n",
       "      <th>GHI</th>\n",
       "      <th>windir</th>\n",
       "      <th>windspeed</th>\n",
       "      <th>rel_hum</th>\n",
       "      <th>albedo</th>\n",
       "      <th>Date (MM/DD/YYYY)</th>\n",
       "      <th>Time (HH:MM)</th>\n",
       "      <th>Tamb</th>\n",
       "    </tr>\n",
       "  </thead>\n",
       "  <tbody>\n",
       "    <tr>\n",
       "      <th>0</th>\n",
       "      <td>2021-01-01 00:00:00</td>\n",
       "      <td>1046.269492</td>\n",
       "      <td>74.516949</td>\n",
       "      <td>466.494915</td>\n",
       "      <td>74.247458</td>\n",
       "      <td>2.508475</td>\n",
       "      <td>65.571186</td>\n",
       "      <td>0.837950</td>\n",
       "      <td>01/01/2021</td>\n",
       "      <td>01:00</td>\n",
       "      <td>0</td>\n",
       "    </tr>\n",
       "    <tr>\n",
       "      <th>1</th>\n",
       "      <td>2021-01-01 01:00:00</td>\n",
       "      <td>1042.085000</td>\n",
       "      <td>74.356667</td>\n",
       "      <td>467.708333</td>\n",
       "      <td>74.088333</td>\n",
       "      <td>2.711667</td>\n",
       "      <td>65.161667</td>\n",
       "      <td>0.845178</td>\n",
       "      <td>01/01/2021</td>\n",
       "      <td>02:00</td>\n",
       "      <td>0</td>\n",
       "    </tr>\n",
       "  </tbody>\n",
       "</table>\n",
       "</div>"
      ],
      "text/plain": [
       "             datetime          DNI        DHI         GHI     windir  \\\n",
       "0 2021-01-01 00:00:00  1046.269492  74.516949  466.494915  74.247458   \n",
       "1 2021-01-01 01:00:00  1042.085000  74.356667  467.708333  74.088333   \n",
       "\n",
       "   windspeed    rel_hum    albedo Date (MM/DD/YYYY) Time (HH:MM)  Tamb  \n",
       "0   2.508475  65.571186  0.837950        01/01/2021        01:00     0  \n",
       "1   2.711667  65.161667  0.845178        01/01/2021        02:00     0  "
      ]
     },
     "execution_count": 33,
     "metadata": {},
     "output_type": "execute_result"
    }
   ],
   "source": [
    "data['Date (MM/DD/YYYY)'] = real_tmy['Date (MM/DD/YYYY)']\n",
    "data['Time (HH:MM)'] = real_tmy['Time (HH:MM)']\n",
    "data['Date (MM/DD/YYYY)']=data['Date (MM/DD/YYYY)'].map(lambda x: str(x)[:-4])+'2021'\n",
    "data['Tamb'] = 0\n",
    "data.head(2)"
   ]
  },
  {
   "cell_type": "code",
   "execution_count": 44,
   "id": "78999019",
   "metadata": {},
   "outputs": [],
   "source": [
    "new_save_TMY3(data, savefile=r'C:\\Users\\sayala\\Desktop\\SOUTHPOLE\\SoutPole_TMY3.csv')"
   ]
  },
  {
   "cell_type": "code",
   "execution_count": 102,
   "id": "b450fff3",
   "metadata": {},
   "outputs": [
    {
     "name": "stdout",
     "output_type": "stream",
     "text": [
      "Warning: CSV file passed for input. Assuming it is TMY3style format\n",
      "8760 line in WeatherFile. Assuming this is a standard hourly WeatherFile for the year for purposes of saving Gencumulativesky temporary weather files in EPW folder.\n",
      "Coercing year to 2021\n",
      "Saving file EPWs\\metdata_temp.csv, # points: 8760\n",
      "Calculating Sun position for Metdata that is right-labeled  with a delta of -30 mins. i.e. 12 is 11:30 sunpos\n"
     ]
    },
    {
     "name": "stderr",
     "output_type": "stream",
     "text": [
      "C:\\Users\\sayala\\Anaconda3\\lib\\site-packages\\pvlib\\spa.py:1206: RuntimeWarning: invalid value encountered in remainder\n",
      "  H0 = np.degrees(np.arccos(cos_arg)) % 180\n",
      "C:\\Users\\sayala\\Anaconda3\\lib\\site-packages\\pvlib\\spa.py:1217: RuntimeWarning: invalid value encountered in remainder\n",
      "  m[1] = m[1] % 1\n",
      "C:\\Users\\sayala\\Anaconda3\\lib\\site-packages\\pvlib\\spa.py:1218: RuntimeWarning: invalid value encountered in remainder\n",
      "  m[2] = m[2] % 1\n",
      "C:\\Users\\sayala\\Anaconda3\\lib\\site-packages\\pvlib\\spa.py:1235: RuntimeWarning: invalid value encountered in remainder\n",
      "  Hp = (vs + lon - alpha_prime) % 360\n"
     ]
    }
   ],
   "source": []
  },
  {
   "cell_type": "code",
   "execution_count": 103,
   "id": "2c48bfed",
   "metadata": {},
   "outputs": [
    {
     "data": {
      "text/plain": [
       "[<matplotlib.lines.Line2D at 0x1bf514602b0>]"
      ]
     },
     "execution_count": 103,
     "metadata": {},
     "output_type": "execute_result"
    },
    {
     "data": {
      "image/png": "[encoded data removed]",
      "text/plain": [
       "<Figure size 432x288 with 1 Axes>"
      ]
     },
     "metadata": {
      "needs_background": "light"
     },
     "output_type": "display_data"
    },
    {
     "data": {
      "image/png": "[encoded data removed]",
      "text/plain": [
       "<Figure size 432x288 with 1 Axes>"
      ]
     },
     "metadata": {
      "needs_background": "light"
     },
     "output_type": "display_data"
    }
   ],
   "source": [
    "import matplotlib.pyplot as plt\n",
    "\n",
    "plt.plot(metdata.solpos.elevation)\n",
    "plt.title('Elevation')\n",
    "plt.figure()\n",
    "plt.plot(metdata.solpos.azimuth)\n",
    "plt.plot('Azimuth')\n",
    "#apparent_zenith\tzenith\tapparent_elevation\televation\tazimuth\n"
   ]
  },
  {
   "cell_type": "markdown",
   "id": "2d39d699",
   "metadata": {},
   "source": [
    "# Round Setup"
   ]
  },
  {
   "cell_type": "code",
   "execution_count": 109,
   "id": "d6ca5437",
   "metadata": {},
   "outputs": [
    {
     "name": "stdout",
     "output_type": "stream",
     "text": [
      "path = C:\\Users\\sayala\\Documents\\GitHub\\bifacial_radiance\\bifacial_radiance\\SouthPole\n",
      "Loading albedo, 1 value(s), 0.620 avg\n",
      "1 nonzero albedo values.\n",
      "Warning: CSV file passed for input. Assuming it is TMY3style format\n",
      "8760 line in WeatherFile. Assuming this is a standard hourly WeatherFile for the year for purposes of saving Gencumulativesky temporary weather files in EPW folder.\n",
      "Coercing year to 2021\n",
      "Saving file EPWs\\metdata_temp.csv, # points: 8760\n",
      "Calculating Sun position for Metdata that is right-labeled  with a delta of -30 mins. i.e. 12 is 11:30 sunpos\n",
      "\n",
      "Module Name: module\n",
      "Module module updated in module.json\n",
      "Pre-existing .rad file objects\\module.rad will be overwritten\n",
      "\n"
     ]
    },
    {
     "name": "stderr",
     "output_type": "stream",
     "text": [
      "C:\\Users\\sayala\\Anaconda3\\lib\\site-packages\\pvlib\\spa.py:1206: RuntimeWarning: invalid value encountered in remainder\n",
      "  H0 = np.degrees(np.arccos(cos_arg)) % 180\n",
      "C:\\Users\\sayala\\Anaconda3\\lib\\site-packages\\pvlib\\spa.py:1217: RuntimeWarning: invalid value encountered in remainder\n",
      "  m[1] = m[1] % 1\n",
      "C:\\Users\\sayala\\Anaconda3\\lib\\site-packages\\pvlib\\spa.py:1218: RuntimeWarning: invalid value encountered in remainder\n",
      "  m[2] = m[2] % 1\n",
      "C:\\Users\\sayala\\Anaconda3\\lib\\site-packages\\pvlib\\spa.py:1235: RuntimeWarning: invalid value encountered in remainder\n",
      "  Hp = (vs + lon - alpha_prime) % 360\n"
     ]
    }
   ],
   "source": [
    "\n",
    "demo = bifacial_radiance.RadianceObj(\"SouthPole\", path = testfolder)  # Create a RadianceObj 'object'\n",
    "demo.setGround(0.62)\n",
    "metdata = demo.readWeatherFile(r'C:\\Users\\sayala\\Desktop\\SOUTHPOLE\\SoutPole_TMY3.csv', coerce_year=2021) \n",
    "timestamp = metdata.datetime.index(pd.to_datetime('2021-12-24 13:0:0 -0'))\n",
    "demo.gendaylit(timestamp) \n",
    "\n",
    "# For sanity check, we are creating the same module but with different names for each orientation.\n",
    "numpanels=1 \n",
    "ygap = 0.01 # m Spacing between modules on each shed.\n",
    "y=2   # m. module size, one side\n",
    "x=1   # m. module size, other side. for landscape, x > y\n",
    "mymodule = demo.makeModule(name='module',y=y,x=x, numpanels=numpanels, ygap=ygap)"
   ]
  },
  {
   "cell_type": "code",
   "execution_count": 106,
   "id": "5de8118d",
   "metadata": {},
   "outputs": [],
   "source": [
    "Rays = 15\n",
    "pitch = 5\n",
    "innerR = 5\n",
    "nMods = 1\n",
    "nRows = 10\n",
    "clearance_height = 0.5\n",
    "\n",
    "sceneObjDict = {}\n",
    "for rr in range(0, Rays):\n",
    "    ray_azm = 0 + 360*rr/Rays\n",
    "    centerpitch = innerR + pitch*(nRows-1)/2         # This might be off by half a pitch, check for even and odd nMods  \n",
    "    azm = ray_azm - 90  # Radiance and Pvlib use N = 0, so converting\n",
    "    centerpitch_x = centerpitch*np.cos(np.radians(azm))\n",
    "    centerpitch_y = centerpitch*np.sin(np.radians(azm))*-1\n",
    "    sceneDict = {'tilt':90,'pitch':pitch,'clearance_height':clearance_height,'azimuth':ray_azm, 'nMods': 1, 'nRows': nRows, \n",
    "             'appendRadfile':True, 'originx': centerpitch_x, 'originy': centerpitch_y} \n",
    "    sceneObjDict['sceneObj'+str(rr)] = demo.makeScene(mymodule, sceneDict)  "
   ]
  },
  {
   "cell_type": "code",
   "execution_count": 107,
   "id": "0a7bc62e",
   "metadata": {},
   "outputs": [
    {
     "name": "stdout",
     "output_type": "stream",
     "text": [
      "Created SouthPole.oct\n"
     ]
    }
   ],
   "source": [
    "octfile = demo.makeOct(demo.getfilelist()) "
   ]
  },
  {
   "cell_type": "code",
   "execution_count": 108,
   "id": "204de0c2",
   "metadata": {},
   "outputs": [],
   "source": [
    "!rvu -vf views\\front.vp -e .01 -pe 0.3 -vp 0 -27.5 40 -vd 0 0.7071 -0.7071 SouthPole.oct"
   ]
  },
  {
   "cell_type": "markdown",
   "id": "30520694",
   "metadata": {},
   "source": [
    "# Square setup"
   ]
  },
  {
   "cell_type": "code",
   "execution_count": 162,
   "id": "a3648948",
   "metadata": {},
   "outputs": [
    {
     "name": "stdout",
     "output_type": "stream",
     "text": [
      "path = C:\\Users\\sayala\\Documents\\GitHub\\bifacial_radiance\\bifacial_radiance\\SouthPole\n",
      "Loading albedo, 1 value(s), 0.700 avg\n",
      "1 nonzero albedo values.\n",
      "Warning: CSV file passed for input. Assuming it is TMY3style format\n",
      "8760 line in WeatherFile. Assuming this is a standard hourly WeatherFile for the year for purposes of saving Gencumulativesky temporary weather files in EPW folder.\n",
      "Coercing year to 2021\n",
      "Saving file EPWs\\metdata_temp.csv, # points: 8760\n",
      "Calculating Sun position for Metdata that is right-labeled  with a delta of -30 mins. i.e. 12 is 11:30 sunpos\n",
      "\n",
      "Module Name: module\n",
      "Module module updated in module.json\n",
      "Pre-existing .rad file objects\\module.rad will be overwritten\n",
      "\n"
     ]
    },
    {
     "name": "stderr",
     "output_type": "stream",
     "text": [
      "C:\\Users\\sayala\\Anaconda3\\lib\\site-packages\\pvlib\\spa.py:1206: RuntimeWarning: invalid value encountered in remainder\n",
      "  H0 = np.degrees(np.arccos(cos_arg)) % 180\n",
      "C:\\Users\\sayala\\Anaconda3\\lib\\site-packages\\pvlib\\spa.py:1217: RuntimeWarning: invalid value encountered in remainder\n",
      "  m[1] = m[1] % 1\n",
      "C:\\Users\\sayala\\Anaconda3\\lib\\site-packages\\pvlib\\spa.py:1218: RuntimeWarning: invalid value encountered in remainder\n",
      "  m[2] = m[2] % 1\n",
      "C:\\Users\\sayala\\Anaconda3\\lib\\site-packages\\pvlib\\spa.py:1235: RuntimeWarning: invalid value encountered in remainder\n",
      "  Hp = (vs + lon - alpha_prime) % 360\n"
     ]
    }
   ],
   "source": [
    "\n",
    "demo = bifacial_radiance.RadianceObj(\"SouthPole\", path = testfolder)  # Create a RadianceObj 'object'\n",
    "demo.setGround(0.7)\n",
    "metdata = demo.readWeatherFile(r'C:\\Users\\sayala\\Desktop\\SOUTHPOLE\\SoutPole_TMY3.csv', coerce_year=2021) \n",
    "timestamp = metdata.datetime.index(pd.to_datetime('2021-12-24 13:0:0 -0'))\n",
    "demo.gendaylit(timestamp) \n",
    "\n",
    "# For sanity check, we are creating the same module but with different names for each orientation.\n",
    "numpanels=1 \n",
    "ygap = 0.01 # m Spacing between modules on each shed.\n",
    "y=2   # m. module size, one side\n",
    "x=1   # m. module size, other side. for landscape, x > y\n",
    "xgap = 2\n",
    "mymodule = demo.makeModule(name='module',y=y,x=x, numpanels=numpanels, xgap=xgap, ygap=ygap)"
   ]
  },
  {
   "cell_type": "code",
   "execution_count": 163,
   "id": "bbb4598e",
   "metadata": {},
   "outputs": [
    {
     "name": "stdout",
     "output_type": "stream",
     "text": [
      "System Size  912.0 kW\n",
      "Mega Array Side:  240 m\n"
     ]
    }
   ],
   "source": [
    "nPanels = 2400\n",
    "print(\"System Size \", nPanels*.380, \"kW\")\n",
    "nMods = 20 # 7         20\n",
    "nRows = 30 # 11        30\n",
    "pitch = 4\n",
    "xgap = 3\n",
    "z = 0\n",
    "x = 1\n",
    "CO = 47          # Center Offset space\n",
    "goal = 240                   \n",
    "print(\"Mega Array Side: \", nMods*z + (nRows-1)*pitch + nMods*x + (nMods-1) * xgap+ CO,  \"m\")"
   ]
  },
  {
   "cell_type": "code",
   "execution_count": 164,
   "id": "e92a3f08",
   "metadata": {},
   "outputs": [],
   "source": [
    "Rays = 4\n",
    "clearance_height = 0.5\n",
    "\n",
    "sceneObjDict = {}\n",
    "for rr in range(0, Rays):\n",
    "    ray_azm = 45 + 360*rr/Rays\n",
    "    sazm = ray_azm - 45\n",
    "    centerpitch = innerR + pitch*(nRows-1)/2         # This might be off by half a pitch, check for even and odd nMods  \n",
    "    azm = ray_azm - 90  # Radiance and Pvlib use N = 0, so converting\n",
    "    centerpitch_x = centerpitch*np.cos(np.radians(azm))\n",
    "    centerpitch_y = centerpitch*np.sin(np.radians(azm))*-1\n",
    "    sceneDict = {'tilt':90,'pitch':pitch,'clearance_height':clearance_height,'azimuth':sazm, 'nMods': nMods, 'nRows': nRows, \n",
    "             'appendRadfile':True, 'originx': centerpitch_x, 'originy': centerpitch_y} \n",
    "    sceneObjDict['sceneObj'+str(rr)] = demo.makeScene(mymodule, sceneDict)  "
   ]
  },
  {
   "cell_type": "code",
   "execution_count": 165,
   "id": "c549b0a9",
   "metadata": {},
   "outputs": [
    {
     "name": "stdout",
     "output_type": "stream",
     "text": [
      "Created SouthPole.oct\n"
     ]
    }
   ],
   "source": [
    "octfile = demo.makeOct(demo.getfilelist()) "
   ]
  },
  {
   "cell_type": "code",
   "execution_count": 166,
   "id": "bc0bf2df",
   "metadata": {},
   "outputs": [],
   "source": [
    "!rvu -vf views\\front.vp -e .01 -pe 0.3 -vp 5 -50 50 -vd 0 0.7071 -0.7071 SouthPole.oct"
   ]
  },
  {
   "cell_type": "code",
   "execution_count": 131,
   "id": "fbf0a698",
   "metadata": {},
   "outputs": [
    {
     "name": "stdout",
     "output_type": "stream",
     "text": [
      "Loaded  EPWs\\metdata_temp.csv\n",
      "message: There were 4112 sun up hours in this climate file\n",
      "Total Ibh/Lbh: 0.000000\n",
      "Created SouthPole.oct\n"
     ]
    }
   ],
   "source": [
    "demo.genCumSky()\n",
    "octfile = demo.makeOct(demo.getfilelist()) "
   ]
  },
  {
   "cell_type": "code",
   "execution_count": 132,
   "id": "59dad687",
   "metadata": {},
   "outputs": [],
   "source": [
    "analysis = bifacial_radiance.AnalysisObj(octfile, demo.basename)  \n"
   ]
  },
  {
   "cell_type": "code",
   "execution_count": 133,
   "id": "474fedb5",
   "metadata": {},
   "outputs": [
    {
     "name": "stdout",
     "output_type": "stream",
     "text": [
      "Generating visible render of scene\n",
      "Generating scene in WM-2. This may take some time.\n",
      "Saving scene in false color\n"
     ]
    }
   ],
   "source": [
    "# Make a color render and falsecolor image of the scene.\n",
    "analysis.makeImage('side.vp')\n",
    "analysis.makeFalseColor('side.vp')"
   ]
  },
  {
   "cell_type": "markdown",
   "id": "bf1d8ccf",
   "metadata": {},
   "source": [
    "### Analysis"
   ]
  },
  {
   "cell_type": "code",
   "execution_count": null,
   "id": "8e46fbef",
   "metadata": {},
   "outputs": [],
   "source": [
    "demo.gendaylit(timestamp) \n",
    "demo.makeOct()"
   ]
  },
  {
   "cell_type": "code",
   "execution_count": null,
   "id": "7f3b2738",
   "metadata": {},
   "outputs": [],
   "source": []
  },
  {
   "cell_type": "markdown",
   "id": "cf829ebb",
   "metadata": {},
   "source": [
    "for obj in sceneObjDict:\n",
    "    for mm in range(1, nMods+1):\n",
    "        for rr in range(1, nRows+1):\n",
    "            frontscan, backscan = analysis.moduleAnalysis(sceneObjDict[obj], sensorsy=4, sensorsx = 4, modWanted = mm, rowWanted = rr)\n",
    "            frontdict, backdict = analysis.analysis(octfile, obj, frontscan, backscan)  # compare the back vs front irradiance  "
   ]
  },
  {
   "cell_type": "code",
   "execution_count": null,
   "id": "afbec48b",
   "metadata": {},
   "outputs": [],
   "source": [
    "bifaciality = 0.7\n",
    "\n",
    "filetitle = 'irr_sceneObj0_Mod_1_Row_3_Row3_Module1.csv'\n",
    "for obj in sceneObjDict:\n",
    "    for mm in range(1, nMods+1):\n",
    "        for rr in range(1, nRows+1):\n",
    "            filetitle = 'results\\irr_'+obj+'_Row'+rr+'_Module'+mm+'.csv'\n",
    "            data=load.read1Result(filetitle)\n",
    "            Gpoa = data['Wm2Front'].mean() + data['Wm2Back'].mean()*bifaciality\n"
   ]
  },
  {
   "cell_type": "code",
   "execution_count": null,
   "id": "39a20e04",
   "metadata": {},
   "outputs": [],
   "source": [
    "sensorsy=4  # 1 per module. consider increasing the number but be careful with sensors in the space between modules.\n",
    "analysis = bifacial_radiance.AnalysisObj(octfile, demo.basename)  \n",
    "frontscan, backscan = analysis.moduleAnalysis(sceneObj1, sensorsy=sensorsy)\n",
    "frontdict, backdict = analysis.analysis(octfile, \"EastFacingShed\", frontscan, backscan)  # compare the back vs front irradiance  \n",
    "\n",
    "frontscan, backscan = analysis.moduleAnalysis(sceneObj2, sensorsy=sensorsy )\n",
    "frontdict2, backdict2 = analysis.analysis(octfile, \"WestFacingShed\", frontscan, backscan)  # compare the back vs front irradiance  \n"
   ]
  }
 ],
 "metadata": {
  "kernelspec": {
   "display_name": "Python 3 (ipykernel)",
   "language": "python",
   "name": "python3"
  },
  "language_info": {
   "codemirror_mode": {
    "name": "ipython",
    "version": 3
   },
   "file_extension": ".py",
   "mimetype": "text/x-python",
   "name": "python",
   "nbconvert_exporter": "python",
   "pygments_lexer": "ipython3",
   "version": "3.8.8"
  }
 },
 "nbformat": 4,
 "nbformat_minor": 5
}
