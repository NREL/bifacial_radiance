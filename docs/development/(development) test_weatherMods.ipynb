{
 "cells": [
  {
   "cell_type": "markdown",
   "metadata": {},
   "source": [
    "# Testing Various Weather Files plus Sky generation options"
   ]
  },
  {
   "cell_type": "code",
   "execution_count": 1,
   "metadata": {},
   "outputs": [],
   "source": [
    "import bifacial_radiance as br\n",
    "import datetime as dt\n",
    "import pandas as pd\n",
    "import numpy as np\n",
    "import os\n",
    "import pvlib\n",
    "from pathlib import Path"
   ]
  },
  {
   "cell_type": "code",
   "execution_count": 2,
   "metadata": {},
   "outputs": [
    {
     "name": "stdout",
     "output_type": "stream",
     "text": [
      "C:\\Users\\sayala\\Documents\\GitHub\\bifacial_radiance\\bifacial_radiance\\TEMP\\WeatherTests\n"
     ]
    }
   ],
   "source": [
    "testfolder = str(Path().resolve().parent.parent / 'bifacial_radiance' / 'TEMP' / 'WeatherTests')\n",
    "if not os.path.exists(testfolder):\n",
    "    os.makedirs(testfolder)\n",
    "print(testfolder)"
   ]
  },
  {
   "cell_type": "markdown",
   "metadata": {},
   "source": [
    "# Weather File tests:\n",
    "* A. EPW\n",
    "* B. TMY3\n",
    "* C. TMY3 15 mins\n",
    "* D. TMY3 two years\n"
   ]
  },
  {
   "cell_type": "code",
   "execution_count": null,
   "metadata": {},
   "outputs": [],
   "source": [
    "_saveTempTMY"
   ]
  },
  {
   "cell_type": "code",
   "execution_count": 3,
   "metadata": {},
   "outputs": [],
   "source": [
    "TMY3file = '../../../tests/724666TYA.CSV'\n",
    "EPWfile = '../../../tests/USA_CO_Boulder.724699_TMY2.epw'\n",
    "TMY3file = '../../../tests/USA_CO_Boulder.724699_TMY2.epw'\n",
    "\n",
    "Customfile = '../../../tests/Custom_WeatherFile_2years_15mins_BESTFieldData.csv'"
   ]
  },
  {
   "cell_type": "markdown",
   "metadata": {},
   "source": [
    "## 1. TMY\tunrestricted time\tgendaylit"
   ]
  },
  {
   "cell_type": "code",
   "execution_count": null,
   "metadata": {},
   "outputs": [],
   "source": []
  },
  {
   "cell_type": "code",
   "execution_count": 4,
   "metadata": {},
   "outputs": [
    {
     "ename": "NameError",
     "evalue": "name 'metdata' is not defined",
     "output_type": "error",
     "traceback": [
      "\u001b[1;31m---------------------------------------------------------------------------\u001b[0m",
      "\u001b[1;31mNameError\u001b[0m                                 Traceback (most recent call last)",
      "\u001b[1;32m<ipython-input-4-230485643c75>\u001b[0m in \u001b[0;36m<module>\u001b[1;34m\u001b[0m\n\u001b[1;32m----> 1\u001b[1;33m \u001b[0mmetdata\u001b[0m\u001b[1;33m\u001b[0m\u001b[1;33m\u001b[0m\u001b[0m\n\u001b[0m",
      "\u001b[1;31mNameError\u001b[0m: name 'metdata' is not defined"
     ]
    }
   ],
   "source": []
  },
  {
   "cell_type": "code",
   "execution_count": null,
   "metadata": {},
   "outputs": [],
   "source": []
  },
  {
   "cell_type": "code",
   "execution_count": 7,
   "metadata": {},
   "outputs": [
    {
     "name": "stdout",
     "output_type": "stream",
     "text": [
      "path = C:\\Users\\sayala\\Documents\\GitHub\\bifacial_radiance\\bifacial_radiance\\TEMP\\WeatherTests\n",
      "Weather File detected with sequential years.\n",
      "start: 1970-01-01 01:00:00\n",
      "end: 1985-12-31 23:00:00\n",
      "\n",
      "Saving file EPWs\\metdata_temp.csv, # points: 8760\n",
      "Calculating Sun position for Metdata that is right-labeled  with a delta of -30 mins. i.e. 12 is 11:30 sunpos\n",
      "Loading albedo, 1 value(s), 0.200 avg\n",
      "1 nonzero albedo values.\n",
      "\n",
      "Module Name: test\n",
      "Pre-existing .rad file objects\\test.rad will be overwritten\n",
      "Module test updated in module.json\n",
      "Created testA.oct\n",
      "Linescan in process: testA_Front\n",
      "Linescan in process: testA_Back\n",
      "Saved: results\\irr_testA.csv\n"
     ]
    },
    {
     "data": {
      "text/plain": [
       "({'Wm2': [575.9847],\n",
       "  'x': [4.465811e-19],\n",
       "  'y': [-0.003646612],\n",
       "  'z': [1.107505],\n",
       "  'r': [575.9847],\n",
       "  'g': [575.9847],\n",
       "  'b': [575.9847],\n",
       "  'mattype': ['a0.0.a0.test.6457'],\n",
       "  'title': 'testA_Front'},\n",
       " {'Wm2': [84.42897],\n",
       "  'x': [-2.126577e-20],\n",
       "  'y': [0.0001736482],\n",
       "  'z': [1.085839],\n",
       "  'r': [84.42897],\n",
       "  'g': [84.42897],\n",
       "  'b': [84.42897],\n",
       "  'mattype': ['a0.0.a0.test.2310'],\n",
       "  'title': 'testA_Back'})"
      ]
     },
     "execution_count": 7,
     "metadata": {},
     "output_type": "execute_result"
    }
   ],
   "source": [
    "sim = 'testA'\n",
    "demo = br.RadianceObj(sim, testfolder)\n",
    "metdata = demo.readWeatherFile(TMY3file)\n",
    "\n",
    "demo.setGround(0.2)\n",
    "demo.gendaylit(4020)\n",
    "\n",
    "moduleDict=demo.makeModule(name='test',x=2,y=1)\n",
    "\n",
    "sceneDict = {'tilt':10,'pitch':0.001,'clearance_height':1,'azimuth':180, 'nMods': 1, 'nRows': 1} \n",
    "scene = demo.makeScene(moduletype='test',sceneDict=sceneDict, radname = sim)\n",
    "octfile = demo.makeOct(octname = demo.basename)  \n",
    "analysis = br.AnalysisObj(octfile=octfile, name=sim)\n",
    "frontscan, backscan = analysis.moduleAnalysis(scene=scene, sensorsy_back=1)\n",
    "analysis.analysis(octfile, name=sim, frontscan=frontscan, backscan=backscan)\n",
    "\n"
   ]
  },
  {
   "cell_type": "code",
   "execution_count": null,
   "metadata": {},
   "outputs": [],
   "source": [
    "print(\"\\nMETDATA\")\n",
    "print('start:', metdata.datetime[0])\n",
    "print('index 1:', metdata.datetime[1])\n",
    "print('end:', metdata.datetime[-1])\n",
    "print('idx 20:', metdata.datetime[20])\n",
    "print('Length:', len(metdata.datetime),'n')"
   ]
  },
  {
   "cell_type": "markdown",
   "metadata": {},
   "source": [
    "## 2\tTMY\tgendaylit\tstartime/endtime\n"
   ]
  },
  {
   "cell_type": "code",
   "execution_count": 8,
   "metadata": {},
   "outputs": [
    {
     "name": "stdout",
     "output_type": "stream",
     "text": [
      "path = C:\\Users\\sayala\\Documents\\GitHub\\bifacial_radiance\\bifacial_radiance\\TEMP\\WeatherTests\n",
      "start: 2001-02-01 10:00:00\n",
      "end: 2001-02-28 23:00:00\n",
      "\n",
      "Saving file EPWs\\metdata_temp.csv, # points: 8760\n",
      "Calculating Sun position for Metdata that is right-labeled  with a delta of -30 mins. i.e. 12 is 11:30 sunpos\n",
      "Loading albedo, 1 value(s), 0.200 avg\n",
      "1 nonzero albedo values.\n",
      "Created testB.oct\n",
      "Linescan in process: testB_Front\n",
      "Linescan in process: testB_Back\n",
      "Saved: results\\irr_testB.csv\n"
     ]
    },
    {
     "data": {
      "text/plain": [
       "({'Wm2': [64.28831],\n",
       "  'x': [4.465811e-19],\n",
       "  'y': [-0.003646612],\n",
       "  'z': [1.107505],\n",
       "  'r': [64.28831],\n",
       "  'g': [64.28831],\n",
       "  'b': [64.28831],\n",
       "  'mattype': ['a0.0.a0.test.6457'],\n",
       "  'title': 'testB_Front'},\n",
       " {'Wm2': [7.175781],\n",
       "  'x': [-2.126577e-20],\n",
       "  'y': [0.0001736482],\n",
       "  'z': [1.085839],\n",
       "  'r': [7.175781],\n",
       "  'g': [7.175781],\n",
       "  'b': [7.175781],\n",
       "  'mattype': ['a0.0.a0.test.2310'],\n",
       "  'title': 'testB_Back'})"
      ]
     },
     "execution_count": 8,
     "metadata": {},
     "output_type": "execute_result"
    }
   ],
   "source": [
    "sim = 'testB'\n",
    "demo = br.RadianceObj(sim, testfolder)\n",
    "metdata = demo.readWeatherFile(TMY3file, starttime='01_02_01_10', endtime='01_02_28_23', coerce_year=2001) \n",
    "\n",
    "\n",
    "\n",
    "demo.setGround(0.2)\n",
    "demo.gendaylit(20)\n",
    "scene = demo.makeScene(moduletype='test',sceneDict=sceneDict, radname = sim)\n",
    "octfile = demo.makeOct(octname = demo.basename)  \n",
    "analysis = br.AnalysisObj(octfile=octfile, name=sim)\n",
    "frontscan, backscan = analysis.moduleAnalysis(scene=scene, sensorsy_back=1)\n",
    "analysis.analysis(octfile, name=sim, frontscan=frontscan, backscan=backscan)\n"
   ]
  },
  {
   "cell_type": "code",
   "execution_count": null,
   "metadata": {},
   "outputs": [],
   "source": []
  },
  {
   "cell_type": "markdown",
   "metadata": {},
   "source": [
    "## 3\tTMY\tgendaylit\tdaydate\n"
   ]
  },
  {
   "cell_type": "code",
   "execution_count": 9,
   "metadata": {},
   "outputs": [
    {
     "name": "stdout",
     "output_type": "stream",
     "text": [
      "path = C:\\Users\\sayala\\Documents\\GitHub\\bifacial_radiance\\bifacial_radiance\\TEMP\\WeatherTests\n",
      "start: 2021-11-06 01:00:00\n",
      "end: 2021-11-06 23:00:00\n",
      "\n",
      "Saving file EPWs\\metdata_temp_21_11_06.csv, # points: 8760\n",
      "Calculating Sun position for Metdata that is right-labeled  with a delta of -30 mins. i.e. 12 is 11:30 sunpos\n",
      "Loading albedo, 1 value(s), 0.200 avg\n",
      "1 nonzero albedo values.\n",
      "Created test03.oct\n",
      "Linescan in process: test03_Front\n",
      "Linescan in process: test03_Back\n",
      "Saved: results\\irr_test03.csv\n"
     ]
    },
    {
     "data": {
      "text/plain": [
       "({'Wm2': [741.3334],\n",
       "  'x': [4.465811e-19],\n",
       "  'y': [-0.003646612],\n",
       "  'z': [1.107505],\n",
       "  'r': [741.3334],\n",
       "  'g': [741.3334],\n",
       "  'b': [741.3334],\n",
       "  'mattype': ['a0.0.a0.test.6457'],\n",
       "  'title': 'test03_Front'},\n",
       " {'Wm2': [110.7283],\n",
       "  'x': [-2.126577e-20],\n",
       "  'y': [0.0001736482],\n",
       "  'z': [1.085839],\n",
       "  'r': [110.7283],\n",
       "  'g': [110.7283],\n",
       "  'b': [110.7283],\n",
       "  'mattype': ['a0.0.a0.test.2310'],\n",
       "  'title': 'test03_Back'})"
      ]
     },
     "execution_count": 9,
     "metadata": {},
     "output_type": "execute_result"
    }
   ],
   "source": [
    "sim = 'test03'\n",
    "demo = br.RadianceObj(sim, testfolder)\n",
    "metdata = demo.readWeatherFile(TMY3file, daydate='21_11_06', coerce_year=2021)\n",
    "\n",
    "demo.setGround(0.2)\n",
    "demo.gendaylit(5)\n",
    "scene = demo.makeScene(moduletype='test',sceneDict=sceneDict, radname = sim)\n",
    "octfile = demo.makeOct(octname = demo.basename)  \n",
    "analysis = br.AnalysisObj(octfile=octfile, name=sim)\n",
    "frontscan, backscan = analysis.moduleAnalysis(scene=scene, sensorsy_back=1)\n",
    "analysis.analysis(octfile, name=sim, frontscan=frontscan, backscan=backscan)\n"
   ]
  },
  {
   "cell_type": "markdown",
   "metadata": {},
   "source": [
    "## 4. TMY\tgencumsky\tunrestricted time\n"
   ]
  },
  {
   "cell_type": "code",
   "execution_count": 10,
   "metadata": {},
   "outputs": [
    {
     "name": "stdout",
     "output_type": "stream",
     "text": [
      "path = C:\\Users\\sayala\\Documents\\GitHub\\bifacial_radiance\\bifacial_radiance\\TEMP\\WeatherTests\n",
      "start: 2021-01-01 01:00:00\n",
      "end: 2021-12-31 23:00:00\n",
      "\n",
      "Saving file EPWs\\metdata_temp.csv, # points: 8760\n",
      "Calculating Sun position for Metdata that is right-labeled  with a delta of -30 mins. i.e. 12 is 11:30 sunpos\n",
      "Loading albedo, 1 value(s), 0.200 avg\n",
      "1 nonzero albedo values.\n",
      "message: There were 4698 sun up hours in this climate file\n",
      "Total Ibh/Lbh: 0.000000\n",
      "Created testB.oct\n",
      "Linescan in process: testB_Front\n",
      "Linescan in process: testB_Back\n",
      "Saved: results\\irr_testB.csv\n"
     ]
    }
   ],
   "source": [
    "sim = 'testB'\n",
    "demo = br.RadianceObj(sim, testfolder)\n",
    "metdata = demo.readWeatherFile(TMY3file, coerce_year=2021) # It internally coerces to 2001.\n",
    "\n",
    "demo.setGround(0.2)\n",
    "demo.genCumSky()\n",
    "scene = demo.makeScene(moduletype='test',sceneDict=sceneDict, radname = sim)\n",
    "octfile = demo.makeOct(octname = demo.basename)  \n",
    "analysis = br.AnalysisObj(octfile=octfile, name=sim)\n",
    "frontscan, backscan = analysis.moduleAnalysis(scene=scene, sensorsy_back=1)\n",
    "foo4 = analysis.analysis(octfile, name=sim, frontscan=frontscan, backscan=backscan)\n"
   ]
  },
  {
   "cell_type": "markdown",
   "metadata": {},
   "source": [
    "## 5. TMY\tgencumsky\tstartime/endtime"
   ]
  },
  {
   "cell_type": "code",
   "execution_count": 11,
   "metadata": {},
   "outputs": [
    {
     "name": "stdout",
     "output_type": "stream",
     "text": [
      "path = C:\\Users\\sayala\\Documents\\GitHub\\bifacial_radiance\\bifacial_radiance\\TEMP\\WeatherTests\n",
      "start: 2021-02-01 01:00:00\n",
      "end: 2021-02-28 23:00:00\n",
      "\n",
      "Saving file EPWs\\metdata_temp.csv, # points: 8760\n",
      "Calculating Sun position for Metdata that is right-labeled  with a delta of -30 mins. i.e. 12 is 11:30 sunpos\n",
      "Loading albedo, 1 value(s), 0.200 avg\n",
      "1 nonzero albedo values.\n",
      "message: There were 313 sun up hours in this climate file\n",
      "Total Ibh/Lbh: 0.000000\n",
      "Created testB.oct\n",
      "Linescan in process: testB_Front\n",
      "Linescan in process: testB_Back\n",
      "Saved: results\\irr_testB.csv\n"
     ]
    }
   ],
   "source": [
    "sim = 'testB'\n",
    "demo = br.RadianceObj(sim, testfolder)\n",
    "metdata = demo.readWeatherFile(TMY3file, starttime='21_02_01', endtime='21_02_28', coerce_year=2021) # It internally coerces to 2001.\n",
    "\n",
    "demo.setGround(0.2)\n",
    "demo.genCumSky()\n",
    "scene = demo.makeScene(moduletype='test',sceneDict=sceneDict, radname = sim)\n",
    "octfile = demo.makeOct(octname = demo.basename)  \n",
    "analysis = br.AnalysisObj(octfile=octfile, name=sim)\n",
    "frontscan, backscan = analysis.moduleAnalysis(scene=scene, sensorsy_back=1)\n",
    "foo5 = analysis.analysis(octfile, name=sim, frontscan=frontscan, backscan=backscan)\n"
   ]
  },
  {
   "cell_type": "markdown",
   "metadata": {},
   "source": [
    "# 6\tTMY\tgencumsky\tdaydate\n"
   ]
  },
  {
   "cell_type": "code",
   "execution_count": 12,
   "metadata": {},
   "outputs": [
    {
     "name": "stdout",
     "output_type": "stream",
     "text": [
      "path = C:\\Users\\sayala\\Documents\\GitHub\\bifacial_radiance\\bifacial_radiance\\TEMP\\WeatherTests\n",
      "start: 2021-02-03 01:00:00\n",
      "end: 2021-02-03 23:00:00\n",
      "\n",
      "Saving file EPWs\\metdata_temp_21_02_03.csv, # points: 8760\n",
      "Calculating Sun position for Metdata that is right-labeled  with a delta of -30 mins. i.e. 12 is 11:30 sunpos\n",
      "Loading albedo, 1 value(s), 0.200 avg\n",
      "1 nonzero albedo values.\n",
      "message: There were 10 sun up hours in this climate file\n",
      "Total Ibh/Lbh: 0.000000\n",
      "Created testB.oct\n",
      "Linescan in process: testB_Front\n",
      "Linescan in process: testB_Back\n",
      "Saved: results\\irr_testB.csv\n"
     ]
    }
   ],
   "source": [
    "sim = 'testB'\n",
    "demo = br.RadianceObj(sim, testfolder)\n",
    "metdata = demo.readWeatherFile(TMY3file, daydate='21_02_03', coerce_year=2021) # It internally coerces to 2001.\n",
    "\n",
    "demo.setGround(0.2)\n",
    "demo.genCumSky()\n",
    "scene = demo.makeScene(moduletype='test',sceneDict=sceneDict, radname = sim)\n",
    "octfile = demo.makeOct(octname = demo.basename)  \n",
    "analysis = br.AnalysisObj(octfile=octfile, name=sim)\n",
    "frontscan, backscan = analysis.moduleAnalysis(scene=scene, sensorsy_back=1)\n",
    "foo6 = analysis.analysis(octfile, name=sim, frontscan=frontscan, backscan=backscan)\n"
   ]
  },
  {
   "cell_type": "code",
   "execution_count": 13,
   "metadata": {},
   "outputs": [
    {
     "name": "stdout",
     "output_type": "stream",
     "text": [
      "Full year [1826879.0]\n",
      "0.05546590660903103\n",
      "0.0024067784456441835\n"
     ]
    }
   ],
   "source": [
    "print(\"Full year\", foo4[0]['Wm2'])\n",
    "print( foo5[0]['Wm2'][0]/foo4[0]['Wm2'][0]) # 1 month       # 5\tTMY\tgencumsky\tstartime/endtime\n",
    "print( foo6[0]['Wm2'][0]/foo4[0]['Wm2'][0]) # 1 day        # 6\tTMY\tgencumsky\tdaydate\n"
   ]
  },
  {
   "cell_type": "markdown",
   "metadata": {},
   "source": [
    "# EPW File Input to Gencumsky does not work"
   ]
  },
  {
   "cell_type": "code",
   "execution_count": null,
   "metadata": {},
   "outputs": [],
   "source": [
    "sim = 'testB'\n",
    "demo = br.RadianceObj(sim, testfolder)\n",
    "metdata = demo.readWeatherFile(TMY3file, coerce_year=2021) # It internally coerces to 2001.\n",
    "\n",
    "print(\"\\nMETDATA\")\n",
    "print('start:', metdata.datetime[0])\n",
    "print('index 1:', metdata.datetime[1])\n",
    "print('end:', metdata.datetime[-1])\n",
    "print('idx 20:', metdata.datetime[20])\n",
    "print('Length:', len(metdata.datetime),'\\n')\n",
    "\n",
    "demo.setGround(0.2)\n",
    "demo.genCumSky(epwfile=EPWfile)\n",
    "scene = demo.makeScene(moduletype='test',sceneDict=sceneDict, radname = sim)\n",
    "octfile = demo.makeOct(octname = demo.basename)  \n",
    "analysis = br.AnalysisObj(octfile=octfile, name=sim)\n",
    "frontscan, backscan = analysis.moduleAnalysis(scene=scene, sensorsy_back=1)\n",
    "foo5 = analysis.analysis(octfile, name=sim, frontscan=frontscan, backscan=backscan)\n",
    "\n"
   ]
  },
  {
   "cell_type": "code",
   "execution_count": null,
   "metadata": {},
   "outputs": [],
   "source": [
    "# 2 EPW\n"
   ]
  },
  {
   "cell_type": "code",
   "execution_count": null,
   "metadata": {},
   "outputs": [],
   "source": []
  },
  {
   "cell_type": "code",
   "execution_count": null,
   "metadata": {},
   "outputs": [],
   "source": []
  },
  {
   "cell_type": "code",
   "execution_count": null,
   "metadata": {},
   "outputs": [],
   "source": [
    "import datetime"
   ]
  },
  {
   "cell_type": "code",
   "execution_count": null,
   "metadata": {},
   "outputs": [],
   "source": [
    "sim = 'testB'\n",
    "demo = br.RadianceObj(sim, testfolder)\n",
    "metdata = demo.readWeatherFile(TMY3file, starttime='21_02_01', endtime='21_02_28', coerce_year=2021) # It internally coerces to 2001.\n",
    "\n",
    "print(\"\\nMETDATA\")\n",
    "print('start:', metdata.datetime[0])\n",
    "print('index 1:', metdata.datetime[1])\n",
    "print('end:', metdata.datetime[-1])\n",
    "print('idx 20:', metdata.datetime[20])\n",
    "print('Length:', len(metdata.datetime),'\\n')\n",
    "\n",
    "demo.setGround(0.2)\n",
    "startdt = datetime.datetime(2021,2,1,1)\n",
    "enddt = datetime.datetime(2021,2,2,23)\n",
    "\n",
    "demo.genCumSky(startdt=startdt, enddt=enddt)\n",
    "scene = demo.makeScene(moduletype='test',sceneDict=sceneDict, radname = sim)\n",
    "octfile = demo.makeOct(octname = demo.basename)  \n",
    "analysis = br.AnalysisObj(octfile=octfile, name=sim)\n",
    "frontscan, backscan = analysis.moduleAnalysis(scene=scene, sensorsy_back=1)\n",
    "analysis.analysis(octfile, name=sim, frontscan=frontscan, backscan=backscan)\n",
    "\n"
   ]
  },
  {
   "cell_type": "code",
   "execution_count": null,
   "metadata": {},
   "outputs": [],
   "source": []
  },
  {
   "cell_type": "markdown",
   "metadata": {},
   "source": [
    "## C. Read Weather - Sub-Hourly\n",
    "\n",
    "- no start/stop restrictions\n",
    "- delta = 15 min\n",
    "- label = None"
   ]
  },
  {
   "cell_type": "code",
   "execution_count": null,
   "metadata": {},
   "outputs": [],
   "source": [
    "test.readWeatherFile(ALT)\n",
    "for i in test.metdata.datetime[:5]: print(i)\n",
    "print(f'{len(test.metdata.datetime)} MetData points')"
   ]
  },
  {
   "cell_type": "markdown",
   "metadata": {},
   "source": [
    "## D. Read Weather - Sub-Hourly\n",
    "\n",
    "- w/ start/stop restrictions"
   ]
  },
  {
   "cell_type": "code",
   "execution_count": null,
   "metadata": {},
   "outputs": [],
   "source": [
    "test.readWeatherFile(ALT, starttime='20_03_01', endtime='20_03_31')\n",
    "for i in test.metdata.datetime[:5]: print(i)\n",
    "print(f'{len(test.metdata.datetime)} MetData points')"
   ]
  },
  {
   "cell_type": "code",
   "execution_count": null,
   "metadata": {},
   "outputs": [],
   "source": [
    "delta1 = dt.timedelta(hours=1)\n",
    "delta2 = dt.timedelta(minutes=15)\n",
    "if delta1 > delta2: print(\"OK!\")\n",
    "\n",
    "dt1 = dt.datetime(2001,11,1,10)\n",
    "dt2 = dt1 + delta1\n",
    "dt3 = dt1 + delta2\n",
    "\n",
    "if (dt2 - dt1) == delta1: print('OK 2')\n",
    "if (dt3 - dt1) == delta2: print('OK 3')\n",
    "\n",
    "longTime = 8760 * delta1\n",
    "dt4 = dt1+longTime\n",
    "print(dt4.year)"
   ]
  },
  {
   "cell_type": "code",
   "execution_count": null,
   "metadata": {},
   "outputs": [],
   "source": [
    "yearTest = str(dt4.year)[-2:]\n",
    "print(yearTest)"
   ]
  },
  {
   "cell_type": "code",
   "execution_count": null,
   "metadata": {},
   "outputs": [],
   "source": []
  }
 ],
 "metadata": {
  "interpreter": {
   "hash": "38b803f8cb8cb1972b2d79f4214e8335121bba067692a0909a0a113aea9f8bc1"
  },
  "kernelspec": {
   "display_name": "Python 3",
   "language": "python",
   "name": "python3"
  },
  "language_info": {
   "codemirror_mode": {
    "name": "ipython",
    "version": 3
   },
   "file_extension": ".py",
   "mimetype": "text/x-python",
   "name": "python",
   "nbconvert_exporter": "python",
   "pygments_lexer": "ipython3",
   "version": "3.7.10"
  }
 },
 "nbformat": 4,
 "nbformat_minor": 2
}
