{
 "cells": [
  {
   "cell_type": "markdown",
   "metadata": {},
   "source": [
    "# 10 - Advanced topics: High Performance Computing Examplel\n",
    "\n",
    "    \n",
    "###    STILL UNDER CONSTRUCTION\n",
    "    \n",
    "This allocates the day_dates generated to the different codes in as many nodes are available. \n",
    "Works inside and outside of slurm for testing (but set FullYear to False so it only does two days)\n",
    "Full year takes 1 min in 11 Nodes.\n",
    "\n",
    "    Variables stored in input_bf.py. First configure this on top:\n",
    "    \n",
    "    .. code-block :: python\n",
    "    \n",
    "        if __name__ == \"__main__\": #in case this is run as a script not a module.\n",
    "            from readepw import readepw  \n",
    "            from load import loadTrackerDict\n",
    "            from input_bf import *\n",
    "\n",
    "        else: # module imported or loaded normally\n",
    "            from bifacial_radiance.readepw import readepw # epw file reader from pvlib development forums  #module load format\n",
    "            from bifacial_radiance.load import loadTrackerDict\n",
    "            from bifacial_radiance.input_bf import *\n",
    "                \n",
    "    Procedure for a Full Year Run (~1 min in 11 nodes of 36 cores each > 365 days):\n",
    "\n",
    "    .. code-block :: python\n",
    "\n",
    "        Connect to Eagle\n",
    "        - $ cd bifacial_radiance/bifacial_radiance\n",
    "        - $ srun -A pvsoiling -t 5 -N 11 --pty bash                  \n",
    "        - $ module load conda\n",
    "        - $ . activate py3\n",
    "        - $ srun bifacial_radiance2.py\n",
    "    \n",
    "    Procedure for testing before joining SLURM:\n",
    "    \n",
    "    .. code-block :: python\n",
    "\n",
    "        change fullYear to False.\n",
    "        - $ cd bifacial_radiance/bifacial_radiance\n",
    "        - $ module load conda\n",
    "        - $ . activate py3\n",
    "        - $ nano bifacial_radiance.py    \n",
    "        - $ python bifacial_radiance2.py       \n",
    "    \n",
    "    .. warning::\n",
    "        Do not load conda twice nor activate .py3 twice.\n",
    "        (following above) Either activate conda or .py3 in the login node\n",
    "        or on the slurm"
   ]
  },
  {
   "cell_type": "code",
   "execution_count": 9,
   "metadata": {},
   "outputs": [],
   "source": [
    "import bifacial_radiance\n",
    "import multiprocessing as mp\n",
    "import datetime\n",
    "import os\n",
    "from pathlib import Path"
   ]
  },
  {
   "cell_type": "markdown",
   "metadata": {},
   "source": [
    "### INPUT FILE:\n",
    "To pytest the HPC routine and or try it here in the Jupyter Tutorial, we had to add this next cell with all input variables. \n",
    "\n",
    "The way it usually works for us on HPC: We generate automatically input files (.py extension, ie. inputvariablefile.py) \n",
    "with all the variables for the multiple permutations of simulations we run,  and then import them at the beginning of our HPC main.py (same as any other main.py, it just has \"import inputvariablefile.py) \n"
   ]
  },
  {
   "cell_type": "code",
   "execution_count": 10,
   "metadata": {},
   "outputs": [],
   "source": [
    "testfolder = str(Path().resolve().parent.parent / 'bifacial_radiance' / 'TEMP' )\n",
    "epwfile = str(Path().resolve().parent.parent / 'tests' / 'USA_CO_Boulder.724699_TMY2.epw')\n",
    "simulationname='PVMC_0'\n",
    "moduletype = 'PVPMC_0'\n",
    "numpanels = 1\n",
    "torqueTubeVisible = False\n",
    "tubetype='Round'\n",
    "pitch = 8 # gcr - 0.25\n",
    "hub_height = 2.0\n",
    "limit_angle = 60 \n",
    "diameter = 0.1\n",
    "xgap=0.01 \n",
    "ygap=0.0\n",
    "zgap = 0.05\n",
    "sensorsy=100\n",
    "x= 1\n",
    "y = 2\n",
    "nMods=20\n",
    "nRows=7\n",
    "torqueTubeMaterial='Metal_Grey'\n",
    "backtrack = True\n",
    "cumulativesky = False\n",
    "rewriteModule=True\n",
    "cellLevelModule = False\n",
    "hpc=True       \n",
    "axisofrotationTorqueTube=True\n",
    "gcr = 0.25\n",
    "albedo = 0.28\n",
    "modWanted = 10\n",
    "rowWanted = 4\n",
    "axis_azimuth=180\n",
    "angledelta=0.01\n",
    "roundTrackerAngle= True\n",
    "bifi=0.9\n"
   ]
  },
  {
   "cell_type": "markdown",
   "metadata": {},
   "source": [
    "## Run FIRST, before entering Slurm mode \n",
    "\n",
    "Multiple Nodes get confused when trying to write the JSON at the same time,\n",
    "so make sure moduletype is created before running slurm job for it to work.\n",
    "2 DO: Fix at some point of course.\n"
   ]
  },
  {
   "cell_type": "code",
   "execution_count": 11,
   "metadata": {},
   "outputs": [
    {
     "name": "stdout",
     "output_type": "stream",
     "text": [
      "path = C:\\Users\\cdeline\\Documents\\Python Scripts\\Bifacial_Radiance\\bifacial_radiance\\TEMP\n",
      "Loading albedo, 1 value(s), 0.280 avg\n",
      "1 nonzero albedo values.\n",
      "\n",
      "Module Name: PVPMC_0\n",
      "Module PVPMC_0 updated in module.json\n",
      "Pre-existing .rad file objects\\PVPMC_0.rad will be overwritten\n",
      "Module PVPMC_0 updated in module.json\n",
      "Pre-existing .rad file objects\\PVPMC_0.rad will be overwritten\n"
     ]
    }
   ],
   "source": [
    "demo = bifacial_radiance.RadianceObj(simulationname,path=testfolder)\n",
    "demo.setGround(albedo)\n",
    "mymodule=demo.makeModule(name=moduletype,x=x,y=y,bifi=bifi,\n",
    "                           zgap = zgap, numpanels = numpanels, ygap = ygap,\n",
    "                           rewriteModulefile = True, xgap=xgap)\n",
    "mymodule.addTorquetube(visible=torqueTubeVisible, diameter=diameter, tubetype=tubetype, \n",
    "                      material=torqueTubeMaterial, axisofrotation=axisofrotationTorqueTube)\n",
    "sceneDict = {'pitch': pitch, 'hub_height':hub_height, 'nMods':nMods, 'nRows':nRows}\n"
   ]
  },
  {
   "cell_type": "markdown",
   "metadata": {},
   "source": [
    "## Run on HPC Slurm Mode now: (or your computer with multiple cores. It'll be okay).\n",
    "\n",
    "Tested on a DELL Laptop, Core i7vPro 8th Gen."
   ]
  },
  {
   "cell_type": "code",
   "execution_count": 12,
   "metadata": {},
   "outputs": [
    {
     "name": "stdout",
     "output_type": "stream",
     "text": [
      "path = C:\\Users\\cdeline\\Documents\\Python Scripts\\Bifacial_Radiance\\bifacial_radiance\\TEMP\n",
      "Loading albedo, 1 value(s), 0.280 avg\n",
      "1 nonzero albedo values.\n",
      "Seems you are testing outside of slurm or on a reg. computer. It's okay, go on\n",
      "Assigning 0\n"
     ]
    },
    {
     "ename": "AttributeError",
     "evalue": "module 'bifacial_radiance.main' has no attribute 'runJob'",
     "output_type": "error",
     "traceback": [
      "\u001b[1;31m---------------------------------------------------------------------------\u001b[0m",
      "\u001b[1;31mAttributeError\u001b[0m                            Traceback (most recent call last)",
      "\u001b[1;32m<ipython-input-12-c39349ae5f84>\u001b[0m in \u001b[0;36m<module>\u001b[1;34m\u001b[0m\n\u001b[0;32m     48\u001b[0m     \u001b[1;32mif\u001b[0m \u001b[0mday_index\u001b[0m\u001b[1;33m+\u001b[0m\u001b[0mjob\u001b[0m\u001b[1;33m>=\u001b[0m\u001b[1;36m1\u001b[0m\u001b[1;33m:\u001b[0m \u001b[1;31m# Short version, running 1 days only.For the year do: len(daylist): # this makes sure no days above 356 are attempted:\u001b[0m\u001b[1;33m\u001b[0m\u001b[1;33m\u001b[0m\u001b[0m\n\u001b[0;32m     49\u001b[0m         \u001b[1;32mbreak\u001b[0m\u001b[1;33m\u001b[0m\u001b[1;33m\u001b[0m\u001b[0m\n\u001b[1;32m---> 50\u001b[1;33m     \u001b[0mpool\u001b[0m\u001b[1;33m.\u001b[0m\u001b[0mapply_async\u001b[0m\u001b[1;33m(\u001b[0m\u001b[0mbifacial_radiance\u001b[0m\u001b[1;33m.\u001b[0m\u001b[0mmain\u001b[0m\u001b[1;33m.\u001b[0m\u001b[0mrunJob\u001b[0m\u001b[1;33m,\u001b[0m \u001b[1;33m(\u001b[0m\u001b[0mdaylist\u001b[0m\u001b[1;33m[\u001b[0m\u001b[0mday_index\u001b[0m\u001b[1;33m+\u001b[0m\u001b[0mjob\u001b[0m\u001b[1;33m]\u001b[0m\u001b[1;33m,\u001b[0m\u001b[1;33m)\u001b[0m\u001b[1;33m)\u001b[0m  \u001b[1;31m# on the hpc we run this from inside of main.py script,\u001b[0m\u001b[1;33m\u001b[0m\u001b[1;33m\u001b[0m\u001b[0m\n\u001b[0m\u001b[0;32m     51\u001b[0m                                                               \u001b[1;31m#so we just do \"runJob\" instead of \"main.runJob\"\u001b[0m\u001b[1;33m\u001b[0m\u001b[1;33m\u001b[0m\u001b[1;33m\u001b[0m\u001b[0m\n\u001b[0;32m     52\u001b[0m \u001b[1;33m\u001b[0m\u001b[0m\n",
      "\u001b[1;31mAttributeError\u001b[0m: module 'bifacial_radiance.main' has no attribute 'runJob'"
     ]
    }
   ],
   "source": [
    "daylist = []\n",
    "\n",
    "fullYear = True # running faster testing on HPC ~ only 2 days.\n",
    "\n",
    "if fullYear:\n",
    "    start = datetime.datetime.strptime(\"01-01-2014\", \"%d-%m-%Y\")\n",
    "    end = datetime.datetime.strptime(\"31-12-2014\", \"%d-%m-%Y\") # 2014 not a leap year.\n",
    "    daylist.append('12_31')     # loop doesn't add last day. Adding it at the beginning because why not.\n",
    "    daylimit = 365\n",
    "else:\n",
    "    start = datetime.datetime.strptime(\"14-02-2014\", \"%d-%m-%Y\")\n",
    "    end = datetime.datetime.strptime(\"26-02-2014\", \"%d-%m-%Y\") # 2014 not a leap year.\n",
    "    daylimit = 1\n",
    "date_generated = [start + datetime.timedelta(days=x) for x in range(0, (end-start).days)]\n",
    "for date in date_generated:\n",
    "    daylist.append(date.strftime(\"%m_%d\"))\n",
    "\n",
    "demo = RadianceObj(simulationname,path=testfolder)\n",
    "demo.setGround(albedo)\n",
    "#   HPC IMPORTANT NOTE:\n",
    "#   Multiple Nodes get confused when trying to write the JSON at the same time,\n",
    "#    so make sure moduletype is created before running slurm job for it to work.\n",
    "#   2 DO: Fix at some point of course.\n",
    "#    mymodule=demo.makeModule(name=moduletype,x=x,y=y,bifi=bifi,\n",
    "#                           torquetube=torqueTube, zgap = zgap, numpanels = numpanels, ygap = ygap,\n",
    "#                           rewriteModulefile = True, xgap=xgap,\n",
    "#                           tubeParams=tubeParams, cellModule={'numcellsx':numcellsx,'numcellsy': numcellsy) \n",
    "#                           \n",
    "sceneDict = {'pitch': pitch, 'hub_height':hub_height, 'nMods':nMods, 'nRows':nRows}\n",
    "\n",
    "cores = mp.cpu_count()\n",
    "pool = mp.Pool(processes=cores)\n",
    "res = None\n",
    "\n",
    "try:\n",
    "    nodeID = int(os.environ['SLURM_NODEID'])\n",
    "except KeyError: # in case testing for hpc not on slurm yet.\n",
    "    nodeID = 0 \n",
    "    print(\"Seems you are testing outside of slurm or on a reg. computer. It's okay, go on\") \n",
    "\n",
    "    \n",
    "hpccores = 36 # this is valid for Eagle. Find out how many cores are in each node of your HPC to make this work.\n",
    "\n",
    "day_index = (hpccores * (nodeID))\n",
    "\n",
    "for job in range(cores):\n",
    "    print (\"Assigning\", day_index+job)\n",
    "    if day_index+job>=1: # Short version, running 1 days only.For the year do: len(daylist): # this makes sure no days above 356 are attempted:\n",
    "        break\n",
    "    pool.apply_async(bifacial_radiance.main.runJob, (daylist[day_index+job],))  # on the hpc we run this from inside of main.py script, \n",
    "                                                              #so we just do \"runJob\" instead of \"main.runJob\"\n",
    "    \n",
    "pool.close()\n",
    "pool.join()\n",
    "pool.terminate()"
   ]
  },
  {
   "cell_type": "markdown",
   "metadata": {},
   "source": [
    "### We are still debugging this part, it's not really going into the runJob function for some reason in this tutorial, but this works for a charm for NREL and SNL......"
   ]
  }
 ],
 "metadata": {
  "kernelspec": {
   "display_name": "Python 3",
   "language": "python",
   "name": "python3"
  },
  "language_info": {
   "codemirror_mode": {
    "name": "ipython",
    "version": 3
   },
   "file_extension": ".py",
   "mimetype": "text/x-python",
   "name": "python",
   "nbconvert_exporter": "python",
   "pygments_lexer": "ipython3",
   "version": "3.8.8"
  }
 },
 "nbformat": 4,
 "nbformat_minor": 2
}
