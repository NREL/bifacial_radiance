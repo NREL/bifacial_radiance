{
 "cells": [
  {
   "cell_type": "code",
   "execution_count": 1,
   "id": "760e9b21",
   "metadata": {},
   "outputs": [
    {
     "name": "stdout",
     "output_type": "stream",
     "text": [
      "Your simulation will be stored in Scenarios/Ref-A\n"
     ]
    }
   ],
   "source": [
    "import os\n",
    "from pathlib import Path\n",
    "\n",
    "testfolder = 'Scenarios/Ref-A'\n",
    "\n",
    "if not os.path.exists(testfolder):\n",
    "    os.makedirs(testfolder)\n",
    "    \n",
    "print (\"Your simulation will be stored in %s\" % testfolder)"
   ]
  },
  {
   "cell_type": "code",
   "execution_count": 2,
   "id": "aa782cd2",
   "metadata": {},
   "outputs": [],
   "source": [
    "import bifacial_radiance as br\n",
    "import bifacialvf as bf\n",
    "import numpy as np\n",
    "import pandas as pd\n",
    "import matplotlib.pyplot as plt\n",
    "import sys, platform\n",
    "import csv"
   ]
  },
  {
   "cell_type": "code",
   "execution_count": 3,
   "id": "2d3d89b5",
   "metadata": {},
   "outputs": [
    {
     "name": "stdout",
     "output_type": "stream",
     "text": [
      "Working on a  Darwin 23.3.0\n",
      "Python version  3.11.5 (main, Sep 11 2023, 08:19:27) [Clang 14.0.6 ]\n",
      "Pandas version  2.0.3\n",
      "bifacial_radiance version  0.4.2+236.g6801d3d.dirty\n",
      "pyplot  3.7.2\n",
      "bifacialvf version  0.1.8.1\n"
     ]
    }
   ],
   "source": [
    "print(\"Working on a \", platform.system(), platform.release())\n",
    "print(\"Python version \", sys.version)\n",
    "print(\"Pandas version \", pd.__version__)\n",
    "print(\"bifacial_radiance version \", br.__version__)\n",
    "print(\"pyplot \", plt.matplotlib.__version__)\n",
    "print(\"bifacialvf version \", bf.__version__)"
   ]
  },
  {
   "cell_type": "code",
   "execution_count": 4,
   "id": "8a48f304",
   "metadata": {},
   "outputs": [],
   "source": [
    "simulationname = 'Ref-A'\n",
    "\n",
    "# Location Albuquerque, New Mexico, USA\n",
    "lat = 35.05\n",
    "lon = -106.54\n",
    "\n",
    "# Scene Parameters\n",
    "azimuth=90\n",
    "tilt=30\n",
    "\n",
    "# MakeModule Parameters\n",
    "moduletype='PVmod'\n",
    "numpanels=1\n",
    "module_x = 2 # m\n",
    "module_y = 1 # m. slope we will measure\n",
    "sensorsy=2\n",
    "torquetube = 0.15\n",
    "\n",
    "# SceneDict Parameters\n",
    "pitch = 5.96 # m\n",
    "albedo = 0.5\n",
    "hub_height = 1.5 # m  \n",
    "nMods = 25 \n",
    "nRows = 5\n",
    "\n",
    "sceneDict = {'tilt':tilt,'pitch':pitch,'albedo': albedo,'hub_height':hub_height,'azimuth':azimuth, 'nMods': nMods, 'nRows': nRows} "
   ]
  },
  {
   "cell_type": "code",
   "execution_count": 5,
   "id": "eb5df558",
   "metadata": {
    "scrolled": true
   },
   "outputs": [
    {
     "name": "stdout",
     "output_type": "stream",
     "text": [
      "path = Scenarios/Ref-A\n",
      "Making path: images\n",
      "Making path: objects\n",
      "Making path: results\n",
      "Making path: skies\n",
      "Making path: EPWs\n",
      "Making path: materials\n",
      "Loading albedo, 1 value(s), 0.500 avg\n",
      "1 nonzero albedo values.\n"
     ]
    }
   ],
   "source": [
    "demo = br.RadianceObj(simulationname,path = testfolder)\n",
    "demo.setGround(albedo)"
   ]
  },
  {
   "cell_type": "code",
   "execution_count": 6,
   "id": "504fcf8f",
   "metadata": {},
   "outputs": [
    {
     "name": "stdout",
     "output_type": "stream",
     "text": [
      "\n",
      "Module Name: PVmod\n",
      "Module PVmod updated in module.json\n"
     ]
    }
   ],
   "source": [
    "module=demo.makeModule(name=moduletype,x=module_x,y=module_y)"
   ]
  },
  {
   "cell_type": "code",
   "execution_count": 7,
   "id": "2d1fa8cb",
   "metadata": {},
   "outputs": [],
   "source": [
    "cumulativesky = True\n",
    "trackerParams = {\n",
    "    'limit_angle': 55,\n",
    "    'backtrack': True,\n",
    "    'gcr': 0.4,\n",
    "    'azimuth': 180,  # axis angle, N-S = 180\n",
    "    'cumulativesky': cumulativesky\n",
    "}"
   ]
  },
  {
   "cell_type": "code",
   "execution_count": 8,
   "id": "966c7daf",
   "metadata": {
    "scrolled": true
   },
   "outputs": [
    {
     "name": "stdout",
     "output_type": "stream",
     "text": [
      "COLUMN DATAS Index(['Year', 'Month', 'Day', 'Hour', 'Minute', 'GHI', 'DNI', 'DHI',\n",
      "       'temp_air', 'wind_speed', 'humidity', 'Unnamed: 11', 'Unnamed: 12',\n",
      "       'Unnamed: 13', 'Unnamed: 14', 'Unnamed: 15', 'Unnamed: 16',\n",
      "       'Unnamed: 17'],\n",
      "      dtype='object')\n",
      "8760 line in WeatherFile. Assuming this is a standard hourly WeatherFile for the year for purposes of saving Gencumulativesky temporary weather files in EPW folder.\n",
      "Coercing year to 2022\n",
      "Filtering dates\n",
      "Saving file EPWs/metdata_temp.csv, # points: 8760\n",
      "Calculating Sun position for Metdata that is left-labeled  with a delta of +30 mins. i.e. 12 is 12:30 sunpos.\n"
     ]
    }
   ],
   "source": [
    "file = 'Phase2_meteo_hourly_psm3format.csv'\n",
    "directory = os.path.expanduser('~/Documents/IEA-Bifacial-Tracking-Modeling')\n",
    "weatherfile = os.path.join(directory, file)\n",
    "\n",
    "metdata = demo.readWeatherFile(weatherfile, source='sam', starttime='2022-01-01_1000', endtime='2022-01-01_1200')"
   ]
  },
  {
   "cell_type": "code",
   "execution_count": 9,
   "id": "b8585f57",
   "metadata": {},
   "outputs": [
    {
     "data": {
      "text/plain": [
       "{'latitude': 35.05, 'longitude': -106.54, 'elevation': 1600.0, 'timezone': -7.0, 'city': 'Albuquerque', 'datetime': [Timestamp('2022-01-01 10:30:00-0700', tz='Etc/GMT+7'), Timestamp('2022-01-01 11:30:00-0700', tz='Etc/GMT+7')], 'ghi': array([112, 265]), 'dhi': array([108, 232]), 'dni': array([ 5, 60]), 'albedo': None, 'dewpoint': None, 'pressure': None, 'temp_air': array([3.9, 3.3]), 'wind_speed': array([4.7, 5.5]), 'meastracker_angle': None, 'solpos':                            apparent_zenith     zenith  apparent_elevation  \\\n",
       "corrected_timestamp                                                         \n",
       "2022-01-01 11:00:00-07:00        60.301624  60.325832           29.698376   \n",
       "2022-01-01 12:00:00-07:00        58.030863  58.053009           31.969137   \n",
       "\n",
       "                           elevation     azimuth  equation_of_time  \n",
       "corrected_timestamp                                                 \n",
       "2022-01-01 11:00:00-07:00  29.674168  161.465455         -3.652581  \n",
       "2022-01-01 12:00:00-07:00  31.946991  177.331461         -3.672198  , 'sunrisesetdata':                                                       sunrise  \\\n",
       "2022-01-01 10:30:00-07:00 2022-01-01 07:14:19.189582336-07:00   \n",
       "2022-01-01 11:30:00-07:00 2022-01-01 07:14:19.189582336-07:00   \n",
       "\n",
       "                                                       sunset  \\\n",
       "2022-01-01 10:30:00-07:00 2022-01-01 17:04:43.101813248-07:00   \n",
       "2022-01-01 11:30:00-07:00 2022-01-01 17:04:43.101813248-07:00   \n",
       "\n",
       "                                                      transit  minutedelta  \\\n",
       "2022-01-01 10:30:00-07:00 2022-01-01 12:09:50.325132032-07:00           30   \n",
       "2022-01-01 11:30:00-07:00 2022-01-01 12:09:50.325132032-07:00           30   \n",
       "\n",
       "                                corrected_timestamp  \n",
       "2022-01-01 10:30:00-07:00 2022-01-01 11:00:00-07:00  \n",
       "2022-01-01 11:30:00-07:00 2022-01-01 12:00:00-07:00  , 'label': 'left', 'columns': ['albedo', 'city', 'datetime', 'dewpoint', 'dhi', 'dni', 'elevation', 'ghi', 'label', 'latitude', 'longitude', 'meastracker_angle', 'pressure', 'solpos', 'sunrisesetdata', 'temp_air', 'timezone', 'wind_speed']}"
      ]
     },
     "execution_count": 9,
     "metadata": {},
     "output_type": "execute_result"
    }
   ],
   "source": [
    "metdata"
   ]
  },
  {
   "cell_type": "code",
   "execution_count": 10,
   "id": "f8013459",
   "metadata": {},
   "outputs": [
    {
     "name": "stdout",
     "output_type": "stream",
     "text": [
      "Saving file EPWs/1axis_-30.0.csv, # points: 1\n",
      "Saving file EPWs/1axis_-5.0.csv, # points: 1\n"
     ]
    }
   ],
   "source": [
    "trackerdict = demo.set1axis(**trackerParams)"
   ]
  },
  {
   "cell_type": "code",
   "execution_count": 11,
   "id": "d3a98acf",
   "metadata": {},
   "outputs": [
    {
     "name": "stdout",
     "output_type": "stream",
     "text": [
      "message: There were 0 sun up hours in this climate file\n",
      "Total Ibh/Lbh: 0.000000\n",
      "Created skyfile skies/1axis_-30.0.rad\n",
      "message: There were 0 sun up hours in this climate file\n",
      "Total Ibh/Lbh: 0.000000\n",
      "Created skyfile skies/1axis_-5.0.rad\n"
     ]
    }
   ],
   "source": [
    "if cumulativesky:\n",
    "    demo.genCumSky1axis()\n",
    "else:\n",
    "    demo.gendaylit1axis()"
   ]
  },
  {
   "cell_type": "code",
   "execution_count": 12,
   "id": "02c6661c",
   "metadata": {},
   "outputs": [
    {
     "name": "stdout",
     "output_type": "stream",
     "text": [
      "\n",
      "Making .rad files for cumulativesky 1-axis workflow\n",
      "2 Radfiles created in /objects/\n",
      "\n",
      "Making 2 octfiles in root directory.\n",
      "Created 1axis_-30.0.oct\n",
      "Created 1axis_-5.0.oct\n"
     ]
    }
   ],
   "source": [
    "trackerdict = demo.makeScene1axis(module=moduletype, sceneDict=sceneDict)\n",
    "trackerdict = demo.makeOct1axis()"
   ]
  },
  {
   "cell_type": "code",
   "execution_count": 13,
   "id": "44329257",
   "metadata": {},
   "outputs": [
    {
     "name": "stdout",
     "output_type": "stream",
     "text": [
      "Linescan in process: 1axis_-30.0_Row3_Module13_Front\n",
      "Linescan in process: 1axis_-30.0_Row3_Module13_Back\n",
      "Saved: results/irr_1axis_-30.0_Row3_Module13.csv\n",
      "Index: -30.0. Wm2Front: 0.0. Wm2Back: 0.0\n",
      "Linescan in process: 1axis_-5.0_Row3_Module13_Front\n",
      "Linescan in process: 1axis_-5.0_Row3_Module13_Back\n",
      "Saved: results/irr_1axis_-5.0_Row3_Module13.csv\n",
      "Index: -5.0. Wm2Front: 0.0. Wm2Back: 0.0\n"
     ]
    }
   ],
   "source": [
    "trakerdict = demo.analysis1axis(sensorsy=2)"
   ]
  },
  {
   "cell_type": "code",
   "execution_count": 14,
   "id": "f775105e",
   "metadata": {},
   "outputs": [
    {
     "data": {
      "text/plain": [
       "{-30.0: {'csvfile': 'EPWs/1axis_-30.0.csv',\n",
       "  'surf_azm': 90.0,\n",
       "  'surf_tilt': 30.0,\n",
       "  'datetime': Index(['2022-01-01 10:30:00'], dtype='object'),\n",
       "  'count': 1,\n",
       "  'skyfile': 'skies/1axis_-30.0.rad',\n",
       "  'radfile': 'objects/1axis-30.0__C_1.25000_rtr_5.96000_tilt_30.00000_25modsx5rows_origin0,0.rad',\n",
       "  'scene': {'module': {'x': 2, 'y': 1, 'z': 0.02, 'modulematerial': 'black', 'scenex': 2.01, 'sceney': 1.0, 'scenez': 0.1, 'numpanels': 1, 'bifi': 1, 'text': '! genbox black PVmod 2 1 0.02 | xform -t -1.0 -0.5 0 -a 1 -t 0 1.0 0', 'modulefile': 'objects/PVmod.rad', 'glass': False, 'offsetfromaxis': 0, 'xgap': 0.01, 'ygap': 0.0, 'zgap': 0.1}, 'modulefile': 'objects/PVmod.rad', 'hpc': False, 'name': 'Scene0', 'gcr': 0.16778523489932887, 'text': '!xform -rx 30.0 -t 0 0 1.5 -a 25 -t 2.01 0 0 -a 5 -t 0 5.96 0 -i 1 -t -24.119999999999997 -11.92 0 -rz 90.0 -t 0 0 0 objects/PVmod.rad', 'radfiles': 'objects/1axis-30.0__C_1.25000_rtr_5.96000_tilt_30.00000_25modsx5rows_origin0,0.rad', 'sceneDict': {'tilt': 30.0, 'pitch': 5.96, 'clearance_height': 1.25, 'azimuth': 90.0, 'nMods': 25, 'nRows': 5, 'modulez': 0.02, 'axis_tilt': 0, 'originx': 0, 'originy': 0}},\n",
       "  'octfile': '1axis_-30.0.oct',\n",
       "  'Results': [{'rowWanted': 3,\n",
       "    'modWanted': 13,\n",
       "    'AnalysisObj': {'octfile': '1axis_-30.0.oct', 'name': '1axis_-30.0', 'hpc': False, 'modWanted': 13, 'rowWanted': 3, 'x': [0.1548376, -0.1338376], 'y': [9.481067e-18, -8.195187e-18], 'z': [1.434853, 1.60152], 'rearZ': [1.415801, 1.582467], 'mattype': ['a12.2.a0.PVmod.6457', 'a12.2.a0.PVmod.6457'], 'rearMat': ['a12.2.a0.PVmod.2310', 'a12.2.a0.PVmod.2310'], 'Wm2Front': [0.0, 0.0], 'Wm2Back': [0.0, 0.0], 'Back/FrontRatio': [0.0, 0.0], 'backRatio': [0.0, 0.0], 'rearX': [0.1438376, -0.1448376], 'rearY': [8.807511e-18, -8.868743e-18]},\n",
       "    'Wm2Front': [0.0, 0.0],\n",
       "    'Wm2Back': [0.0, 0.0],\n",
       "    'backRatio': [0.0, 0.0]}]},\n",
       " -5.0: {'csvfile': 'EPWs/1axis_-5.0.csv',\n",
       "  'surf_azm': 90.0,\n",
       "  'surf_tilt': 5.0,\n",
       "  'datetime': Index(['2022-01-01 11:30:00'], dtype='object'),\n",
       "  'count': 1,\n",
       "  'skyfile': 'skies/1axis_-5.0.rad',\n",
       "  'radfile': 'objects/1axis-5.0__C_1.45642_rtr_5.96000_tilt_5.00000_25modsx5rows_origin0,0.rad',\n",
       "  'scene': {'module': {'x': 2, 'y': 1, 'z': 0.02, 'modulematerial': 'black', 'scenex': 2.01, 'sceney': 1.0, 'scenez': 0.1, 'numpanels': 1, 'bifi': 1, 'text': '! genbox black PVmod 2 1 0.02 | xform -t -1.0 -0.5 0 -a 1 -t 0 1.0 0', 'modulefile': 'objects/PVmod.rad', 'glass': False, 'offsetfromaxis': 0, 'xgap': 0.01, 'ygap': 0.0, 'zgap': 0.1}, 'modulefile': 'objects/PVmod.rad', 'hpc': False, 'name': 'Scene0', 'gcr': 0.16778523489932887, 'text': '!xform -rx 5.0 -t 0 0 1.5 -a 25 -t 2.01 0 0 -a 5 -t 0 5.96 0 -i 1 -t -24.119999999999997 -11.92 0 -rz 90.0 -t 0 0 0 objects/PVmod.rad', 'radfiles': 'objects/1axis-5.0__C_1.45642_rtr_5.96000_tilt_5.00000_25modsx5rows_origin0,0.rad', 'sceneDict': {'tilt': 5.0, 'pitch': 5.96, 'clearance_height': 1.456422128626171, 'azimuth': 90.0, 'nMods': 25, 'nRows': 5, 'modulez': 0.02, 'axis_tilt': 0, 'originx': 0, 'originy': 0}},\n",
       "  'octfile': '1axis_-5.0.oct',\n",
       "  'Results': [{'rowWanted': 3,\n",
       "    'modWanted': 13,\n",
       "    'AnalysisObj': {'octfile': '1axis_-5.0.oct', 'name': '1axis_-5.0', 'hpc': False, 'modWanted': 13, 'rowWanted': 3, 'x': [0.1678627, -0.1642022], 'y': [1.027863e-17, -1.005448e-17], 'z': [1.506394, 1.535446], 'rearZ': [1.484478, 1.51353], 'mattype': ['a12.2.a0.PVmod.6457', 'a12.2.a0.PVmod.6457'], 'rearMat': ['a12.2.a0.PVmod.2310', 'a12.2.a0.PVmod.2310'], 'Wm2Front': [0.0, 0.0], 'Wm2Back': [0.0, 0.0], 'Back/FrontRatio': [0.0, 0.0], 'backRatio': [0.0, 0.0], 'rearX': [0.1659453, -0.1661196], 'rearY': [1.016122e-17, -1.017189e-17]},\n",
       "    'Wm2Front': [0.0, 0.0],\n",
       "    'Wm2Back': [0.0, 0.0],\n",
       "    'backRatio': [0.0, 0.0]}]}}"
      ]
     },
     "execution_count": 14,
     "metadata": {},
     "output_type": "execute_result"
    }
   ],
   "source": [
    "trakerdict"
   ]
  },
  {
   "cell_type": "code",
   "execution_count": null,
   "id": "c4407ed9",
   "metadata": {},
   "outputs": [],
   "source": []
  }
 ],
 "metadata": {
  "kernelspec": {
   "display_name": "Python 3 (ipykernel)",
   "language": "python",
   "name": "python3"
  },
  "language_info": {
   "codemirror_mode": {
    "name": "ipython",
    "version": 3
   },
   "file_extension": ".py",
   "mimetype": "text/x-python",
   "name": "python",
   "nbconvert_exporter": "python",
   "pygments_lexer": "ipython3",
   "version": "3.11.5"
  }
 },
 "nbformat": 4,
 "nbformat_minor": 5
}
