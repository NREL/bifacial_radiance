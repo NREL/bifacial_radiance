{
 "cells": [
  {
   "cell_type": "markdown",
   "id": "a4b1ad54",
   "metadata": {},
   "source": [
    "# A1\n",
    "* GCR = 0.25\n",
    "* Albedo = 0.2\n",
    "* Hub Height = 1.5\n",
    "* Configuration = 1-Up portrait\n",
    "* Ground surface = Horizontal\n",
    "***\n",
    "* For a GCR of 0.25 the pitch is 9.536m\n",
    "* 1-up Portrait: 5 rows, each with 25 modules\n",
    "* Torque tube diameter = 15 cm. (round)\n",
    "* Maximum tracker rotation angle = 55 deg\n",
    "* Backtracking is enabled\n",
    "* Location: Albuquerque, New Mexico USA (35.05°, -106.54°)"
   ]
  },
  {
   "cell_type": "code",
   "execution_count": 1,
   "id": "760e9b21",
   "metadata": {},
   "outputs": [
    {
     "name": "stdout",
     "output_type": "stream",
     "text": [
      "Your simulation will be stored in Scenarios/A1\n"
     ]
    }
   ],
   "source": [
    "import os\n",
    "from pathlib import Path\n",
    "\n",
    "testfolder = 'Scenarios/A1'\n",
    "\n",
    "if not os.path.exists(testfolder):\n",
    "    os.makedirs(testfolder)\n",
    "    \n",
    "print (\"Your simulation will be stored in %s\" % testfolder)"
   ]
  },
  {
   "cell_type": "code",
   "execution_count": 2,
   "id": "aa782cd2",
   "metadata": {},
   "outputs": [],
   "source": [
    "import bifacial_radiance as br\n",
    "import bifacialvf as bf\n",
    "import numpy as np\n",
    "import pandas as pd\n",
    "import matplotlib.pyplot as plt\n",
    "import sys, platform\n",
    "import csv"
   ]
  },
  {
   "cell_type": "code",
   "execution_count": 3,
   "id": "2d3d89b5",
   "metadata": {},
   "outputs": [
    {
     "name": "stdout",
     "output_type": "stream",
     "text": [
      "Working on a  Windows 10\n",
      "Python version  3.11.4 | packaged by Anaconda, Inc. | (main, Jul  5 2023, 13:38:37) [MSC v.1916 64 bit (AMD64)]\n",
      "Pandas version  2.1.0\n",
      "bifacial_radiance version  0.4.2+238.g3f0d94f.dirty\n",
      "pyplot  3.7.2\n",
      "bifacialvf version  0.1.8.1\n"
     ]
    }
   ],
   "source": [
    "print(\"Working on a \", platform.system(), platform.release())\n",
    "print(\"Python version \", sys.version)\n",
    "print(\"Pandas version \", pd.__version__)\n",
    "print(\"bifacial_radiance version \", br.__version__)\n",
    "print(\"pyplot \", plt.matplotlib.__version__)\n",
    "print(\"bifacialvf version \", bf.__version__)"
   ]
  },
  {
   "cell_type": "code",
   "execution_count": 11,
   "id": "8a48f304",
   "metadata": {},
   "outputs": [],
   "source": [
    "simulationname = 'A1'\n",
    "\n",
    "# Location Albuquerque, New Mexico, USA\n",
    "lat = 35.05\n",
    "lon = -106.54\n",
    "\n",
    "# Scene Parameters\n",
    "azimuth=90\n",
    "tilt=30\n",
    "\n",
    "# MakeModule Parameters\n",
    "moduletype='PVmod'\n",
    "numpanels=1\n",
    "module_x = 1.303 # m\n",
    "module_y = 2.384 # m. slope we will measure\n",
    "sensorsy=2\n",
    "torquetube_diam = 0.15\n",
    "\n",
    "zgap = 0.02 # m\n",
    "xgap = 0.002 # m\n",
    "\n",
    "# SceneDict Parameters\n",
    "pitch = 9.536 # m\n",
    "albedo = 0.2\n",
    "hub_height = 1.5 # m  \n",
    "nMods = 25 \n",
    "nRows = 5\n",
    "\n",
    "sceneDict = {'pitch':pitch,'albedo': albedo,'hub_height':hub_height,'azimuth':azimuth, 'nMods': nMods, 'nRows': nRows} "
   ]
  },
  {
   "cell_type": "code",
   "execution_count": 6,
   "id": "eb5df558",
   "metadata": {
    "scrolled": true
   },
   "outputs": [
    {
     "name": "stdout",
     "output_type": "stream",
     "text": [
      "path = Scenarios/A1\n",
      "Making path: images\n",
      "Making path: objects\n",
      "Making path: results\n",
      "Making path: skies\n",
      "Making path: EPWs\n",
      "Making path: materials\n",
      "Loading albedo, 1 value(s), 0.200 avg\n",
      "1 nonzero albedo values.\n"
     ]
    }
   ],
   "source": [
    "demo = br.RadianceObj(simulationname,path = testfolder)\n",
    "demo.setGround(albedo)"
   ]
  },
  {
   "cell_type": "code",
   "execution_count": 7,
   "id": "4b7e271b",
   "metadata": {},
   "outputs": [],
   "source": [
    "cumulativesky = False\n",
    "trackerParams = {\n",
    "    'limit_angle': 55,\n",
    "    'backtrack': True,\n",
    "    'gcr': 0.25,\n",
    "    'azimuth': 180,  # axis angle, N-S = 180\n",
    "    'cumulativesky': cumulativesky\n",
    "}"
   ]
  },
  {
   "cell_type": "code",
   "execution_count": 8,
   "id": "e1e7d382",
   "metadata": {},
   "outputs": [
    {
     "name": "stdout",
     "output_type": "stream",
     "text": [
      "\n",
      "Module Name: PVmod\n",
      "Module PVmod updated in module.json\n"
     ]
    }
   ],
   "source": [
    "module=demo.makeModule(name=moduletype,x=module_x,y=module_y, xgap=xgap, zgap=zgap)"
   ]
  },
  {
   "cell_type": "code",
   "execution_count": 12,
   "id": "144f773b",
   "metadata": {},
   "outputs": [
    {
     "name": "stdout",
     "output_type": "stream",
     "text": [
      "Module PVmod updated in module.json\n",
      "Pre-existing .rad file objects\\PVmod.rad will be overwritten\n",
      "\n"
     ]
    }
   ],
   "source": [
    "module.addTorquetube(diameter=torquetube_diam, tubetype='Round', material='Metal_Grey', \n",
    "                     axisofrotation=True, visible=True, recompile=True)"
   ]
  },
  {
   "cell_type": "code",
   "execution_count": 13,
   "id": "966c7daf",
   "metadata": {
    "scrolled": true
   },
   "outputs": [
    {
     "ename": "FileNotFoundError",
     "evalue": "[Errno 2] No such file or directory: 'C:\\\\Users\\\\sayala/Documents/IEA-Bifacial-Tracking-Modeling\\\\Phase2_meteo_hourly_psm3format.csv'",
     "output_type": "error",
     "traceback": [
      "\u001b[1;31m---------------------------------------------------------------------------\u001b[0m",
      "\u001b[1;31mFileNotFoundError\u001b[0m                         Traceback (most recent call last)",
      "Cell \u001b[1;32mIn[13], line 5\u001b[0m\n\u001b[0;32m      2\u001b[0m directory \u001b[38;5;241m=\u001b[39m os\u001b[38;5;241m.\u001b[39mpath\u001b[38;5;241m.\u001b[39mexpanduser(\u001b[38;5;124m'\u001b[39m\u001b[38;5;124m~/Documents/IEA-Bifacial-Tracking-Modeling\u001b[39m\u001b[38;5;124m'\u001b[39m)\n\u001b[0;32m      3\u001b[0m weatherfile \u001b[38;5;241m=\u001b[39m os\u001b[38;5;241m.\u001b[39mpath\u001b[38;5;241m.\u001b[39mjoin(directory, file)\n\u001b[1;32m----> 5\u001b[0m metdata \u001b[38;5;241m=\u001b[39m demo\u001b[38;5;241m.\u001b[39mreadWeatherFile(weatherfile, source\u001b[38;5;241m=\u001b[39m\u001b[38;5;124m'\u001b[39m\u001b[38;5;124msam\u001b[39m\u001b[38;5;124m'\u001b[39m, starttime\u001b[38;5;241m=\u001b[39m\u001b[38;5;124m'\u001b[39m\u001b[38;5;124m2022-01-01_1000\u001b[39m\u001b[38;5;124m'\u001b[39m, endtime\u001b[38;5;241m=\u001b[39m\u001b[38;5;124m'\u001b[39m\u001b[38;5;124m2022-01-01_1200\u001b[39m\u001b[38;5;124m'\u001b[39m)\n",
      "File \u001b[1;32mc:\\users\\sayala\\documents\\github\\bifacial_radiance\\bifacial_radiance\\main.py:947\u001b[0m, in \u001b[0;36mRadianceObj.readWeatherFile\u001b[1;34m(self, weatherFile, starttime, endtime, label, source, coerce_year, tz_convert_val)\u001b[0m\n\u001b[0;32m    945\u001b[0m     \u001b[38;5;28;01mif\u001b[39;00m label \u001b[38;5;129;01mis\u001b[39;00m \u001b[38;5;28;01mNone\u001b[39;00m:\n\u001b[0;32m    946\u001b[0m         label \u001b[38;5;241m=\u001b[39m \u001b[38;5;124m'\u001b[39m\u001b[38;5;124mleft\u001b[39m\u001b[38;5;124m'\u001b[39m\n\u001b[1;32m--> 947\u001b[0m     metdata, metadata \u001b[38;5;241m=\u001b[39m \u001b[38;5;28mself\u001b[39m\u001b[38;5;241m.\u001b[39mreadSAM(weatherFile)\n\u001b[0;32m    949\u001b[0m metdata, metadata \u001b[38;5;241m=\u001b[39m _tz_convert(metdata, metadata, tz_convert_val)\n\u001b[0;32m    950\u001b[0m tzinfo \u001b[38;5;241m=\u001b[39m metdata\u001b[38;5;241m.\u001b[39mindex\u001b[38;5;241m.\u001b[39mtzinfo\n",
      "File \u001b[1;32mc:\\users\\sayala\\documents\\github\\bifacial_radiance\\bifacial_radiance\\main.py:1358\u001b[0m, in \u001b[0;36mRadianceObj.readSAM\u001b[1;34m(self, SAMfile)\u001b[0m\n\u001b[0;32m   1337\u001b[0m \u001b[38;5;250m\u001b[39m\u001b[38;5;124;03m'''\u001b[39;00m\n\u001b[0;32m   1338\u001b[0m \u001b[38;5;124;03muse pvlib to read in a tmy3 file.\u001b[39;00m\n\u001b[0;32m   1339\u001b[0m \u001b[38;5;124;03mNote: pvlib 0.7 does not currently support sub-hourly files. Until\u001b[39;00m\n\u001b[1;32m   (...)\u001b[0m\n\u001b[0;32m   1350\u001b[0m \u001b[38;5;124;03mmetdata - MetObj collected from SAM file\u001b[39;00m\n\u001b[0;32m   1351\u001b[0m \u001b[38;5;124;03m'''\u001b[39;00m\n\u001b[0;32m   1353\u001b[0m \u001b[38;5;66;03m# Will only work with latest PVLIB Release once htey accept my push..\u001b[39;00m\n\u001b[0;32m   1354\u001b[0m \u001b[38;5;66;03m# Note Oct. 10\u001b[39;00m\n\u001b[0;32m   1355\u001b[0m \u001b[38;5;66;03m# import pvlib\u001b[39;00m\n\u001b[0;32m   1356\u001b[0m \u001b[38;5;66;03m#(tmydata, metadata) = pvlib.iotools.tmy.read_psm3(filename=SAMfile,\u001b[39;00m\n\u001b[0;32m   1357\u001b[0m \u001b[38;5;66;03m#                                                  map_variables=True)\u001b[39;00m\n\u001b[1;32m-> 1358\u001b[0m \u001b[38;5;28;01mwith\u001b[39;00m \u001b[38;5;28mopen\u001b[39m(SAMfile) \u001b[38;5;28;01mas\u001b[39;00m myfile:\n\u001b[0;32m   1359\u001b[0m     head \u001b[38;5;241m=\u001b[39m \u001b[38;5;28mnext\u001b[39m(myfile)\u001b[38;5;66;03m#\u001b[39;00m\n\u001b[0;32m   1360\u001b[0m     meta \u001b[38;5;241m=\u001b[39m \u001b[38;5;28mnext\u001b[39m(myfile)\n",
      "\u001b[1;31mFileNotFoundError\u001b[0m: [Errno 2] No such file or directory: 'C:\\\\Users\\\\sayala/Documents/IEA-Bifacial-Tracking-Modeling\\\\Phase2_meteo_hourly_psm3format.csv'"
     ]
    }
   ],
   "source": [
    "file = 'Phase2_meteo_hourly_psm3format.csv'\n",
    "directory = os.path.expanduser('Documents/IEA-Bifacial-Tracking-Modeling')\n",
    "weatherfile = os.path.join(directory, file)\n",
    "\n",
    "metdata = demo.readWeatherFile(weatherfile, source='sam', starttime='2022-01-01_1000', endtime='2022-01-01_1200')"
   ]
  },
  {
   "cell_type": "code",
   "execution_count": null,
   "id": "556da4dc",
   "metadata": {},
   "outputs": [],
   "source": [
    "trackerdict = demo.set1axis(**trackerParams)"
   ]
  },
  {
   "cell_type": "code",
   "execution_count": null,
   "id": "e814024e",
   "metadata": {},
   "outputs": [],
   "source": [
    "if cumulativesky:\n",
    "    demo.genCumSky1axis()\n",
    "else:\n",
    "    demo.gendaylit1axis()"
   ]
  },
  {
   "cell_type": "code",
   "execution_count": null,
   "id": "6023d245",
   "metadata": {},
   "outputs": [],
   "source": [
    "trackerdict = demo.makeScene1axis(module=module, sceneDict=sceneDict)\n",
    "trackerdict = demo.makeOct1axis()"
   ]
  },
  {
   "cell_type": "code",
   "execution_count": null,
   "id": "29d1f8d6",
   "metadata": {},
   "outputs": [],
   "source": [
    "trakerdict = demo.analysis1axis(sensorsy=2)"
   ]
  },
  {
   "cell_type": "code",
   "execution_count": null,
   "id": "27e49b2c",
   "metadata": {},
   "outputs": [],
   "source": [
    "trakerdict = demo.analysis1axis(sensorsy=2, modWanted = 1)"
   ]
  },
  {
   "cell_type": "code",
   "execution_count": null,
   "id": "4c43ff0a",
   "metadata": {},
   "outputs": [],
   "source": [
    "trakerdict = demo.analysis1axis(sensorsy=2, modWanted = 25)"
   ]
  },
  {
   "cell_type": "code",
   "execution_count": null,
   "id": "c3354a51",
   "metadata": {},
   "outputs": [],
   "source": [
    "trakerdict"
   ]
  },
  {
   "cell_type": "code",
   "execution_count": null,
   "id": "3fe20635",
   "metadata": {},
   "outputs": [],
   "source": [
    "demo"
   ]
  },
  {
   "cell_type": "code",
   "execution_count": null,
   "id": "8a168f86",
   "metadata": {},
   "outputs": [],
   "source": [
    "demo.calculateResults()"
   ]
  },
  {
   "cell_type": "code",
   "execution_count": null,
   "id": "694c80c7",
   "metadata": {},
   "outputs": [],
   "source": [
    "demo.CompiledResults\n",
    "# Grear_mean and Gfront_mean values to be recorded in the excel"
   ]
  },
  {
   "cell_type": "code",
   "execution_count": null,
   "id": "13860929",
   "metadata": {},
   "outputs": [],
   "source": []
  }
 ],
 "metadata": {
  "kernelspec": {
   "display_name": "Python 3 (ipykernel)",
   "language": "python",
   "name": "python3"
  },
  "language_info": {
   "codemirror_mode": {
    "name": "ipython",
    "version": 3
   },
   "file_extension": ".py",
   "mimetype": "text/x-python",
   "name": "python",
   "nbconvert_exporter": "python",
   "pygments_lexer": "ipython3",
   "version": "3.11.4"
  }
 },
 "nbformat": 4,
 "nbformat_minor": 5
}
