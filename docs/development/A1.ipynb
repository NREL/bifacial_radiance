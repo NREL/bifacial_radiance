{
 "cells": [
  {
   "cell_type": "markdown",
   "id": "a4b1ad54",
   "metadata": {},
   "source": [
    "# A1\n",
    "* GCR = 0.25\n",
    "* Albedo = 0.2\n",
    "* Hub Height = 1.5\n",
    "* Configuration = 1-Up portrait\n",
    "* Ground surface = Horizontal\n",
    "***\n",
    "* For a GCR of 0.25 the pitch is 9.536m\n",
    "* 1-up Portrait: 5 rows, each with 25 modules\n",
    "* Torque tube diameter = 15 cm. (round)\n",
    "* Maximum tracker rotation angle = 55 deg\n",
    "* Backtracking is enabled\n",
    "* Location: Albuquerque, New Mexico USA (35.05°, -106.54°)"
   ]
  },
  {
   "cell_type": "code",
   "execution_count": 1,
   "id": "760e9b21",
   "metadata": {},
   "outputs": [
    {
     "name": "stdout",
     "output_type": "stream",
     "text": [
      "Your simulation will be stored in Scenarios/A1\n"
     ]
    }
   ],
   "source": [
    "import os\n",
    "from pathlib import Path\n",
    "\n",
    "testfolder = 'Scenarios/A1'\n",
    "\n",
    "if not os.path.exists(testfolder):\n",
    "    os.makedirs(testfolder)\n",
    "    \n",
    "print (\"Your simulation will be stored in %s\" % testfolder)"
   ]
  },
  {
   "cell_type": "code",
   "execution_count": 22,
   "id": "aa782cd2",
   "metadata": {},
   "outputs": [],
   "source": [
    "import bifacial_radiance as br\n",
    "import bifacialvf as bf\n",
    "import numpy as np\n",
    "import pandas as pd\n",
    "import matplotlib.pyplot as plt\n",
    "import sys, platform\n",
    "import csv\n",
    "from pathlib import Path"
   ]
  },
  {
   "cell_type": "code",
   "execution_count": 3,
   "id": "2d3d89b5",
   "metadata": {},
   "outputs": [
    {
     "name": "stdout",
     "output_type": "stream",
     "text": [
      "Working on a  Windows 10\n",
      "Python version  3.11.4 | packaged by Anaconda, Inc. | (main, Jul  5 2023, 13:38:37) [MSC v.1916 64 bit (AMD64)]\n",
      "Pandas version  2.1.0\n",
      "bifacial_radiance version  0.4.2+238.g3f0d94f.dirty\n",
      "pyplot  3.7.2\n",
      "bifacialvf version  0.1.8.1\n"
     ]
    }
   ],
   "source": [
    "print(\"Working on a \", platform.system(), platform.release())\n",
    "print(\"Python version \", sys.version)\n",
    "print(\"Pandas version \", pd.__version__)\n",
    "print(\"bifacial_radiance version \", br.__version__)\n",
    "print(\"pyplot \", plt.matplotlib.__version__)\n",
    "print(\"bifacialvf version \", bf.__version__)"
   ]
  },
  {
   "cell_type": "code",
   "execution_count": 11,
   "id": "8a48f304",
   "metadata": {},
   "outputs": [],
   "source": [
    "simulationname = 'A1'\n",
    "\n",
    "# Location Albuquerque, New Mexico, USA\n",
    "lat = 35.05\n",
    "lon = -106.54\n",
    "\n",
    "# Scene Parameters\n",
    "azimuth=90\n",
    "tilt=30\n",
    "\n",
    "# MakeModule Parameters\n",
    "moduletype='PVmod'\n",
    "numpanels=1\n",
    "module_x = 1.303 # m\n",
    "module_y = 2.384 # m. slope we will measure\n",
    "sensorsy=2\n",
    "torquetube_diam = 0.15\n",
    "\n",
    "zgap = 0.02 # m\n",
    "xgap = 0.002 # m\n",
    "\n",
    "# SceneDict Parameters\n",
    "pitch = 9.536 # m\n",
    "albedo = 0.2\n",
    "hub_height = 1.5 # m  \n",
    "nMods = 25 \n",
    "nRows = 5\n",
    "\n",
    "sceneDict = {'pitch':pitch,'albedo': albedo,'hub_height':hub_height,'azimuth':azimuth, 'nMods': nMods, 'nRows': nRows} "
   ]
  },
  {
   "cell_type": "code",
   "execution_count": 6,
   "id": "eb5df558",
   "metadata": {
    "scrolled": true
   },
   "outputs": [
    {
     "name": "stdout",
     "output_type": "stream",
     "text": [
      "path = Scenarios/A1\n",
      "Making path: images\n",
      "Making path: objects\n",
      "Making path: results\n",
      "Making path: skies\n",
      "Making path: EPWs\n",
      "Making path: materials\n",
      "Loading albedo, 1 value(s), 0.200 avg\n",
      "1 nonzero albedo values.\n"
     ]
    }
   ],
   "source": [
    "demo = br.RadianceObj(simulationname,path = testfolder)\n",
    "demo.setGround(albedo)"
   ]
  },
  {
   "cell_type": "code",
   "execution_count": 7,
   "id": "4b7e271b",
   "metadata": {},
   "outputs": [],
   "source": [
    "cumulativesky = False\n",
    "trackerParams = {\n",
    "    'limit_angle': 55,\n",
    "    'backtrack': True,\n",
    "    'gcr': 0.25,\n",
    "    'azimuth': 180,  # axis angle, N-S = 180\n",
    "    'cumulativesky': cumulativesky\n",
    "}"
   ]
  },
  {
   "cell_type": "code",
   "execution_count": 8,
   "id": "e1e7d382",
   "metadata": {},
   "outputs": [
    {
     "name": "stdout",
     "output_type": "stream",
     "text": [
      "\n",
      "Module Name: PVmod\n",
      "Module PVmod updated in module.json\n"
     ]
    }
   ],
   "source": [
    "module=demo.makeModule(name=moduletype,x=module_x,y=module_y, xgap=xgap, zgap=zgap)"
   ]
  },
  {
   "cell_type": "code",
   "execution_count": 12,
   "id": "8467bfbc",
   "metadata": {},
   "outputs": [
    {
     "name": "stdout",
     "output_type": "stream",
     "text": [
      "Module PVmod updated in module.json\n",
      "Pre-existing .rad file objects\\PVmod.rad will be overwritten\n",
      "\n"
     ]
    }
   ],
   "source": [
    "module.addTorquetube(diameter=torquetube_diam, tubetype='Round', material='Metal_Grey', \n",
    "                     axisofrotation=True, visible=True, recompile=True)"
   ]
  },
  {
   "cell_type": "code",
   "execution_count": 32,
   "id": "966c7daf",
   "metadata": {
    "scrolled": true
   },
   "outputs": [
    {
     "data": {
      "text/plain": [
       "'C:\\\\Users\\\\sayala\\\\Documents\\\\GitHub\\\\bifacial_radiance\\\\docs\\\\development\\\\Instructions\\\\Phase2_meteo_hourly_psm3format.csv'"
      ]
     },
     "execution_count": 32,
     "metadata": {},
     "output_type": "execute_result"
    }
   ],
   "source": [
    "weatherfile = str(Path().resolve().parent.parent / 'Instructions' / 'Phase2_meteo_hourly_psm3format.csv')\n",
    "weatherfile"
   ]
  },
  {
   "cell_type": "code",
   "execution_count": 33,
   "id": "9fa86a6e",
   "metadata": {},
   "outputs": [
    {
     "name": "stdout",
     "output_type": "stream",
     "text": [
      "COLUMN DATAS Index(['Year', 'Month', 'Day', 'Hour', 'Minute', 'GHI', 'DNI', 'DHI',\n",
      "       'temp_air', 'wind_speed', 'humidity', 'Unnamed: 11', 'Unnamed: 12',\n",
      "       'Unnamed: 13', 'Unnamed: 14', 'Unnamed: 15', 'Unnamed: 16',\n",
      "       'Unnamed: 17'],\n",
      "      dtype='object')\n",
      "8760 line in WeatherFile. Assuming this is a standard hourly WeatherFile for the year for purposes of saving Gencumulativesky temporary weather files in EPW folder.\n",
      "Coercing year to 2022\n",
      "Filtering dates\n",
      "Saving file EPWs\\metdata_temp.csv, # points: 8760\n",
      "Calculating Sun position for Metdata that is left-labeled  with a delta of +30 mins. i.e. 12 is 12:30 sunpos.\n"
     ]
    }
   ],
   "source": [
    "metdata = demo.readWeatherFile(weatherfile, source='sam', starttime='2022-01-01_1000', endtime='2022-01-01_1200')"
   ]
  },
  {
   "cell_type": "code",
   "execution_count": 34,
   "id": "556da4dc",
   "metadata": {},
   "outputs": [],
   "source": [
    "trackerdict = demo.set1axis(**trackerParams)"
   ]
  },
  {
   "cell_type": "code",
   "execution_count": 35,
   "id": "e814024e",
   "metadata": {},
   "outputs": [
    {
     "name": "stdout",
     "output_type": "stream",
     "text": [
      "Creating ~2 skyfiles. \n",
      "Created 2 skyfiles in /skies/\n"
     ]
    },
    {
     "data": {
      "text/plain": [
       "{'2022-01-01_1030': {'surf_azm': 90.0,\n",
       "  'surf_tilt': 29.16,\n",
       "  'theta': -29.16,\n",
       "  'dni': 5,\n",
       "  'ghi': 112,\n",
       "  'dhi': 108,\n",
       "  'temp_air': 3.9,\n",
       "  'wind_speed': 4.7,\n",
       "  'skyfile': 'skies\\\\sky2_35.05_-106.54_2022-01-01_1030.rad'},\n",
       " '2022-01-01_1130': {'surf_azm': 90.0,\n",
       "  'surf_tilt': 4.27,\n",
       "  'theta': -4.27,\n",
       "  'dni': 60,\n",
       "  'ghi': 265,\n",
       "  'dhi': 232,\n",
       "  'temp_air': 3.3,\n",
       "  'wind_speed': 5.5,\n",
       "  'skyfile': 'skies\\\\sky2_35.05_-106.54_2022-01-01_1130.rad'}}"
      ]
     },
     "execution_count": 35,
     "metadata": {},
     "output_type": "execute_result"
    }
   ],
   "source": [
    "demo.gendaylit1axis()"
   ]
  },
  {
   "cell_type": "code",
   "execution_count": 36,
   "id": "6023d245",
   "metadata": {},
   "outputs": [
    {
     "name": "stdout",
     "output_type": "stream",
     "text": [
      "\n",
      "Making ~2 .rad files for gendaylit 1-axis workflow (this takes a minute..)\n",
      "2 Radfiles created in /objects/\n",
      "\n",
      "Making 2 octfiles in root directory.\n",
      "Created 1axis_2022-01-01_1030.oct\n",
      "Created 1axis_2022-01-01_1130.oct\n"
     ]
    }
   ],
   "source": [
    "trackerdict = demo.makeScene1axis(module=module, sceneDict=sceneDict)\n",
    "trackerdict = demo.makeOct1axis()"
   ]
  },
  {
   "cell_type": "code",
   "execution_count": 37,
   "id": "29d1f8d6",
   "metadata": {},
   "outputs": [
    {
     "name": "stdout",
     "output_type": "stream",
     "text": [
      "Linescan in process: 1axis_2022-01-01_1030_Row3_Module13_Front\n",
      "Linescan in process: 1axis_2022-01-01_1030_Row3_Module13_Back\n",
      "Saved: results\\irr_1axis_2022-01-01_1030_Row3_Module13.csv\n",
      "Index: 2022-01-01_1030. Wm2Front: 101.55509999999998. Wm2Back: 13.994150000000001\n",
      "Linescan in process: 1axis_2022-01-01_1130_Row3_Module13_Front\n",
      "Linescan in process: 1axis_2022-01-01_1130_Row3_Module13_Back\n",
      "Saved: results\\irr_1axis_2022-01-01_1130_Row3_Module13.csv\n",
      "Index: 2022-01-01_1130. Wm2Front: 260.5147666666667. Wm2Back: 27.731835\n"
     ]
    }
   ],
   "source": [
    "trakerdict = demo.analysis1axis(sensorsy=2)"
   ]
  },
  {
   "cell_type": "code",
   "execution_count": 38,
   "id": "4770f299",
   "metadata": {},
   "outputs": [
    {
     "name": "stdout",
     "output_type": "stream",
     "text": [
      "Linescan in process: 1axis_2022-01-01_1030_Row3_Module1_Front\n",
      "Linescan in process: 1axis_2022-01-01_1030_Row3_Module1_Back\n",
      "Saved: results\\irr_1axis_2022-01-01_1030_Row3_Module1.csv\n",
      "Index: 2022-01-01_1030. Wm2Front: 102.25083333333333. Wm2Back: 17.829269999999998\n",
      "Linescan in process: 1axis_2022-01-01_1130_Row3_Module1_Front\n",
      "Linescan in process: 1axis_2022-01-01_1130_Row3_Module1_Back\n",
      "Saved: results\\irr_1axis_2022-01-01_1130_Row3_Module1.csv\n",
      "Index: 2022-01-01_1130. Wm2Front: 261.0045. Wm2Back: 41.920135\n"
     ]
    }
   ],
   "source": [
    "trakerdict = demo.analysis1axis(sensorsy=2, modWanted = 1)"
   ]
  },
  {
   "cell_type": "code",
   "execution_count": null,
   "id": "f4ed6808",
   "metadata": {},
   "outputs": [],
   "source": [
    "trakerdict = demo.analysis1axis(sensorsy=2, modWanted = 25)"
   ]
  },
  {
   "cell_type": "code",
   "execution_count": 39,
   "id": "8a168f86",
   "metadata": {},
   "outputs": [
    {
     "name": "stdout",
     "output_type": "stream",
     "text": [
      "Bifaciality factor of module stored is  1\n",
      "No CECModule data passed; using default for Prism Solar BHC72-400\n"
     ]
    },
    {
     "name": "stderr",
     "output_type": "stream",
     "text": [
      "c:\\users\\sayala\\documents\\github\\bifacial_radiance\\bifacial_radiance\\performance.py:64: FutureWarning: Calling float on a single element Series is deprecated and will raise a TypeError in the future. Use float(ser.iloc[0]) instead\n",
      "  alpha_sc=float(CECMod.alpha_sc),\n",
      "c:\\users\\sayala\\documents\\github\\bifacial_radiance\\bifacial_radiance\\performance.py:65: FutureWarning: Calling float on a single element Series is deprecated and will raise a TypeError in the future. Use float(ser.iloc[0]) instead\n",
      "  a_ref=float(CECMod.a_ref),\n",
      "c:\\users\\sayala\\documents\\github\\bifacial_radiance\\bifacial_radiance\\performance.py:66: FutureWarning: Calling float on a single element Series is deprecated and will raise a TypeError in the future. Use float(ser.iloc[0]) instead\n",
      "  I_L_ref=float(CECMod.I_L_ref),\n",
      "c:\\users\\sayala\\documents\\github\\bifacial_radiance\\bifacial_radiance\\performance.py:67: FutureWarning: Calling float on a single element Series is deprecated and will raise a TypeError in the future. Use float(ser.iloc[0]) instead\n",
      "  I_o_ref=float(CECMod.I_o_ref),\n",
      "c:\\users\\sayala\\documents\\github\\bifacial_radiance\\bifacial_radiance\\performance.py:68: FutureWarning: Calling float on a single element Series is deprecated and will raise a TypeError in the future. Use float(ser.iloc[0]) instead\n",
      "  R_sh_ref=float(CECMod.R_sh_ref),\n",
      "c:\\users\\sayala\\documents\\github\\bifacial_radiance\\bifacial_radiance\\performance.py:69: FutureWarning: Calling float on a single element Series is deprecated and will raise a TypeError in the future. Use float(ser.iloc[0]) instead\n",
      "  R_s=float(CECMod.R_s),\n",
      "c:\\users\\sayala\\documents\\github\\bifacial_radiance\\bifacial_radiance\\performance.py:70: FutureWarning: Calling float on a single element Series is deprecated and will raise a TypeError in the future. Use float(ser.iloc[0]) instead\n",
      "  Adjust=float(CECMod.Adjust)\n",
      "c:\\users\\sayala\\documents\\github\\bifacial_radiance\\bifacial_radiance\\performance.py:64: FutureWarning: Calling float on a single element Series is deprecated and will raise a TypeError in the future. Use float(ser.iloc[0]) instead\n",
      "  alpha_sc=float(CECMod.alpha_sc),\n",
      "c:\\users\\sayala\\documents\\github\\bifacial_radiance\\bifacial_radiance\\performance.py:65: FutureWarning: Calling float on a single element Series is deprecated and will raise a TypeError in the future. Use float(ser.iloc[0]) instead\n",
      "  a_ref=float(CECMod.a_ref),\n",
      "c:\\users\\sayala\\documents\\github\\bifacial_radiance\\bifacial_radiance\\performance.py:66: FutureWarning: Calling float on a single element Series is deprecated and will raise a TypeError in the future. Use float(ser.iloc[0]) instead\n",
      "  I_L_ref=float(CECMod.I_L_ref),\n",
      "c:\\users\\sayala\\documents\\github\\bifacial_radiance\\bifacial_radiance\\performance.py:67: FutureWarning: Calling float on a single element Series is deprecated and will raise a TypeError in the future. Use float(ser.iloc[0]) instead\n",
      "  I_o_ref=float(CECMod.I_o_ref),\n",
      "c:\\users\\sayala\\documents\\github\\bifacial_radiance\\bifacial_radiance\\performance.py:68: FutureWarning: Calling float on a single element Series is deprecated and will raise a TypeError in the future. Use float(ser.iloc[0]) instead\n",
      "  R_sh_ref=float(CECMod.R_sh_ref),\n",
      "c:\\users\\sayala\\documents\\github\\bifacial_radiance\\bifacial_radiance\\performance.py:69: FutureWarning: Calling float on a single element Series is deprecated and will raise a TypeError in the future. Use float(ser.iloc[0]) instead\n",
      "  R_s=float(CECMod.R_s),\n",
      "c:\\users\\sayala\\documents\\github\\bifacial_radiance\\bifacial_radiance\\performance.py:70: FutureWarning: Calling float on a single element Series is deprecated and will raise a TypeError in the future. Use float(ser.iloc[0]) instead\n",
      "  Adjust=float(CECMod.Adjust)\n"
     ]
    },
    {
     "data": {
      "text/plain": [
       "{'2022-01-01_1030': {'surf_azm': 90.0,\n",
       "  'surf_tilt': 29.16,\n",
       "  'theta': -29.16,\n",
       "  'dni': 5,\n",
       "  'ghi': 112,\n",
       "  'dhi': 108,\n",
       "  'temp_air': 3.9,\n",
       "  'wind_speed': 4.7,\n",
       "  'skyfile': 'skies\\\\sky2_35.05_-106.54_2022-01-01_1030.rad',\n",
       "  'radfile': 'objects\\\\1axis2022-01-01_1030__C_0.96549_rtr_9.53600_tilt_29.16000_25modsx5rows_origin0,0.rad',\n",
       "  'scene': {'module': {'x': 1.303, 'y': 2.384, 'z': 0.02, 'modulematerial': 'black', 'scenex': 1.305, 'sceney': 2.384, 'scenez': 0.095, 'numpanels': 1, 'bifi': 1, 'text': '! genbox black PVmod 1.303 2.384 0.02 | xform -t -0.6515 -1.192 0.095 -a 1 -t 0 2.384 0\\r\\n! genrev Metal_Grey tube1 t*1.305 0.075 32 | xform -ry 90 -t -0.6525 0 0', 'modulefile': 'objects\\\\PVmod.rad', 'glass': False, 'offsetfromaxis': 0.095, 'xgap': 0.002, 'ygap': 0.0, 'zgap': 0.02}, 'modulefile': 'objects\\\\PVmod.rad', 'hpc': False, 'name': 'Scene0', 'gcr': 0.25, 'text': '!xform -rx 29.16 -t 0 0 1.5 -a 25 -t 1.305 0 0 -a 5 -t 0 9.536 0 -i 1 -t -15.66 -19.072 0 -rz 90.0 -t 0 0 0 objects\\\\PVmod.rad', 'radfiles': 'objects\\\\1axis2022-01-01_1030__C_0.96549_rtr_9.53600_tilt_29.16000_25modsx5rows_origin0,0.rad', 'sceneDict': {'tilt': 29.16, 'pitch': 9.536, 'clearance_height': 0.9654866120793105, 'azimuth': 90.0, 'nMods': 25, 'nRows': 5, 'modulez': 0.02, 'axis_tilt': 0, 'originx': 0, 'originy': 0}},\n",
       "  'octfile': '1axis_2022-01-01_1030.oct',\n",
       "  'Results': [{'rowWanted': 3,\n",
       "    'modWanted': 13,\n",
       "    'AnalysisObj': {'octfile': '1axis_2022-01-01_1030.oct', 'name': '1axis_2022-01-01_1030', 'hpc': False, 'modWanted': 13, 'rowWanted': 3, 'x': [0.4034973, -0.2904553], 'y': [2.470708e-17, -1.778526e-17], 'z': [1.407698, 1.794899], 'rearZ': [1.388486, 1.775687], 'mattype': ['a12.2.a0.PVmod.6457', 'a12.2.a0.PVmod.6457'], 'rearMat': ['a12.2.a0.PVmod.2310', 'a12.2.a0.PVmod.2310'], 'Wm2Front': [101.2267, 101.88349999999998], 'Wm2Back': [11.796806666666667, 16.191493333333334], 'Back/FrontRatio': [0.1165373377708539, 0.15892008434387306], 'backRatio': [0.1165373377708539, 0.15892008434387306], 'rearX': [0.3927778, -0.3011748], 'rearY': [2.40507e-17, -1.844164e-17]},\n",
       "    'Wm2Front': [101.2267, 101.88349999999998],\n",
       "    'Wm2Back': [11.796806666666667, 16.191493333333334],\n",
       "    'backRatio': [0.1165373377708539, 0.15892008434387306]},\n",
       "   {'rowWanted': 3,\n",
       "    'modWanted': 1,\n",
       "    'AnalysisObj': {'octfile': '1axis_2022-01-01_1030.oct', 'name': '1axis_2022-01-01_1030', 'hpc': False, 'modWanted': 1, 'rowWanted': 3, 'x': [0.4034973, -0.2904553], 'y': [-15.66, -15.66], 'z': [1.407698, 1.794899], 'rearZ': [1.388486, 1.775687], 'mattype': ['a0.2.a0.PVmod.6457', 'a0.2.a0.PVmod.6457'], 'rearMat': ['a0.2.a0.PVmod.2310', 'a0.2.a0.PVmod.2310'], 'Wm2Front': [101.9751, 102.52656666666667], 'Wm2Back': [15.871743333333333, 19.786796666666664], 'Back/FrontRatio': [0.155641795806403, 0.19299001536822452], 'backRatio': [0.155641795806403, 0.19299001536822452], 'rearX': [0.3927778, -0.3011748], 'rearY': [-15.66, -15.66]},\n",
       "    'Wm2Front': [101.9751, 102.52656666666667],\n",
       "    'Wm2Back': [15.871743333333333, 19.786796666666664],\n",
       "    'backRatio': [0.155641795806403, 0.19299001536822452]}],\n",
       "  'POA_eff': 115.54924999999999,\n",
       "  'Gfront_mean': 101.55509999999998,\n",
       "  'Grear_mean': 13.994150000000001,\n",
       "  'Pout_raw': 48.00268250818979,\n",
       "  'Pout_Gfront': 42.06014568813312,\n",
       "  'Mismatch': 0.0010514821543695684,\n",
       "  'Pout': 48.0021777685496},\n",
       " '2022-01-01_1130': {'surf_azm': 90.0,\n",
       "  'surf_tilt': 4.27,\n",
       "  'theta': -4.27,\n",
       "  'dni': 60,\n",
       "  'ghi': 265,\n",
       "  'dhi': 232,\n",
       "  'temp_air': 3.3,\n",
       "  'wind_speed': 5.5,\n",
       "  'skyfile': 'skies\\\\sky2_35.05_-106.54_2022-01-01_1130.rad',\n",
       "  'radfile': 'objects\\\\1axis2022-01-01_1130__C_1.41832_rtr_9.53600_tilt_4.27000_25modsx5rows_origin0,0.rad',\n",
       "  'scene': {'module': {'x': 1.303, 'y': 2.384, 'z': 0.02, 'modulematerial': 'black', 'scenex': 1.305, 'sceney': 2.384, 'scenez': 0.095, 'numpanels': 1, 'bifi': 1, 'text': '! genbox black PVmod 1.303 2.384 0.02 | xform -t -0.6515 -1.192 0.095 -a 1 -t 0 2.384 0\\r\\n! genrev Metal_Grey tube1 t*1.305 0.075 32 | xform -ry 90 -t -0.6525 0 0', 'modulefile': 'objects\\\\PVmod.rad', 'glass': False, 'offsetfromaxis': 0.095, 'xgap': 0.002, 'ygap': 0.0, 'zgap': 0.02}, 'modulefile': 'objects\\\\PVmod.rad', 'hpc': False, 'name': 'Scene0', 'gcr': 0.25, 'text': '!xform -rx 4.27 -t 0 0 1.5 -a 25 -t 1.305 0 0 -a 5 -t 0 9.536 0 -i 1 -t -15.66 -19.072 0 -rz 90.0 -t 0 0 0 objects\\\\PVmod.rad', 'radfiles': 'objects\\\\1axis2022-01-01_1130__C_1.41832_rtr_9.53600_tilt_4.27000_25modsx5rows_origin0,0.rad', 'sceneDict': {'tilt': 4.27, 'pitch': 9.536, 'clearance_height': 1.4183211189519367, 'azimuth': 90.0, 'nMods': 25, 'nRows': 5, 'modulez': 0.02, 'axis_tilt': 0, 'originx': 0, 'originy': 0}},\n",
       "  'octfile': '1axis_2022-01-01_1130.oct',\n",
       "  'Results': [{'rowWanted': 3,\n",
       "    'modWanted': 13,\n",
       "    'AnalysisObj': {'octfile': '1axis_2022-01-01_1130.oct', 'name': '1axis_2022-01-01_1130', 'hpc': False, 'modWanted': 13, 'rowWanted': 3, 'x': [0.4048674, -0.3875935], 'y': [2.479098e-17, -2.373326e-17], 'z': [1.586094, 1.645262], 'rearZ': [1.564155, 1.623323], 'mattype': ['a12.2.a0.PVmod.6457', 'a12.2.a0.PVmod.6457'], 'rearMat': ['a12.2.a0.PVmod.2310', 'a12.2.a0.PVmod.2310'], 'Wm2Front': [260.5051, 260.5244333333333], 'Wm2Back': [27.569796666666665, 27.893873333333335], 'Back/FrontRatio': [0.10583167406316653, 0.10706775525307001], 'backRatio': [0.10583167406316653, 0.10706775525307001], 'rearX': [0.4032294, -0.3892315], 'rearY': [2.469068e-17, -2.383356e-17]},\n",
       "    'Wm2Front': [260.5051, 260.5244333333333],\n",
       "    'Wm2Back': [27.569796666666665, 27.893873333333335],\n",
       "    'backRatio': [0.10583167406316653, 0.10706775525307001]},\n",
       "   {'rowWanted': 3,\n",
       "    'modWanted': 1,\n",
       "    'AnalysisObj': {'octfile': '1axis_2022-01-01_1130.oct', 'name': '1axis_2022-01-01_1130', 'hpc': False, 'modWanted': 1, 'rowWanted': 3, 'x': [0.4048674, -0.3875935], 'y': [-15.66, -15.66], 'z': [1.586094, 1.645262], 'rearZ': [1.564155, 1.623323], 'mattype': ['a0.2.a0.PVmod.6457', 'a0.2.a0.PVmod.6457'], 'rearMat': ['a0.2.a0.PVmod.2310', 'a0.2.a0.PVmod.2310'], 'Wm2Front': [261.0027, 261.0063], 'Wm2Back': [41.768750000000004, 42.07152], 'Back/FrontRatio': [0.16003125626188444, 0.16118905486551527], 'backRatio': [0.16003125626188444, 0.16118905486551527], 'rearX': [0.4032294, -0.3892315], 'rearY': [-15.66, -15.66]},\n",
       "    'Wm2Front': [261.0027, 261.0063],\n",
       "    'Wm2Back': [41.768750000000004, 42.07152],\n",
       "    'backRatio': [0.16003125626188444, 0.16118905486551527]}],\n",
       "  'POA_eff': 120.08010333333333,\n",
       "  'Gfront_mean': 102.25083333333333,\n",
       "  'Grear_mean': 17.829269999999998,\n",
       "  'Pout_raw': 49.927684042029234,\n",
       "  'Pout_Gfront': 42.35543717223354,\n",
       "  'Mismatch': 0.0008983703755013308,\n",
       "  'Pout': 49.92723550650663}}"
      ]
     },
     "execution_count": 39,
     "metadata": {},
     "output_type": "execute_result"
    }
   ],
   "source": [
    "demo.calculateResults()"
   ]
  },
  {
   "cell_type": "code",
   "execution_count": 40,
   "id": "694c80c7",
   "metadata": {},
   "outputs": [
    {
     "data": {
      "text/html": [
       "<div>\n",
       "<style scoped>\n",
       "    .dataframe tbody tr th:only-of-type {\n",
       "        vertical-align: middle;\n",
       "    }\n",
       "\n",
       "    .dataframe tbody tr th {\n",
       "        vertical-align: top;\n",
       "    }\n",
       "\n",
       "    .dataframe thead th {\n",
       "        text-align: right;\n",
       "    }\n",
       "</style>\n",
       "<table border=\"1\" class=\"dataframe\">\n",
       "  <thead>\n",
       "    <tr style=\"text-align: right;\">\n",
       "      <th></th>\n",
       "      <th>timestamp</th>\n",
       "      <th>module</th>\n",
       "      <th>row</th>\n",
       "      <th>POA_eff</th>\n",
       "      <th>Grear_mean</th>\n",
       "      <th>Gfront_mean</th>\n",
       "      <th>Pout_raw</th>\n",
       "      <th>Pout_Gfront</th>\n",
       "      <th>BGG</th>\n",
       "      <th>BGE</th>\n",
       "      <th>Mismatch</th>\n",
       "      <th>Pout</th>\n",
       "      <th>Wind Speed</th>\n",
       "      <th>DNI</th>\n",
       "      <th>DHI</th>\n",
       "      <th>GHI</th>\n",
       "    </tr>\n",
       "  </thead>\n",
       "  <tbody>\n",
       "    <tr>\n",
       "      <th>0</th>\n",
       "      <td>2022-01-01_1030</td>\n",
       "      <td>13</td>\n",
       "      <td>3</td>\n",
       "      <td>115.549250</td>\n",
       "      <td>13.994150</td>\n",
       "      <td>101.555100</td>\n",
       "      <td>48.002683</td>\n",
       "      <td>42.060146</td>\n",
       "      <td>13.779859</td>\n",
       "      <td>14.128664</td>\n",
       "      <td>0.001051</td>\n",
       "      <td>48.002178</td>\n",
       "      <td>4.7</td>\n",
       "      <td>5</td>\n",
       "      <td>108</td>\n",
       "      <td>112</td>\n",
       "    </tr>\n",
       "    <tr>\n",
       "      <th>1</th>\n",
       "      <td>2022-01-01_1030</td>\n",
       "      <td>1</td>\n",
       "      <td>3</td>\n",
       "      <td>120.080103</td>\n",
       "      <td>17.829270</td>\n",
       "      <td>102.250833</td>\n",
       "      <td>49.927684</td>\n",
       "      <td>42.355437</td>\n",
       "      <td>17.436797</td>\n",
       "      <td>17.877863</td>\n",
       "      <td>0.000898</td>\n",
       "      <td>49.927236</td>\n",
       "      <td>4.7</td>\n",
       "      <td>5</td>\n",
       "      <td>108</td>\n",
       "      <td>112</td>\n",
       "    </tr>\n",
       "    <tr>\n",
       "      <th>2</th>\n",
       "      <td>2022-01-01_1130</td>\n",
       "      <td>13</td>\n",
       "      <td>3</td>\n",
       "      <td>288.246602</td>\n",
       "      <td>27.731835</td>\n",
       "      <td>260.514767</td>\n",
       "      <td>121.444050</td>\n",
       "      <td>109.756499</td>\n",
       "      <td>10.645015</td>\n",
       "      <td>10.648619</td>\n",
       "      <td>0.000030</td>\n",
       "      <td>121.444013</td>\n",
       "      <td>5.5</td>\n",
       "      <td>60</td>\n",
       "      <td>232</td>\n",
       "      <td>265</td>\n",
       "    </tr>\n",
       "    <tr>\n",
       "      <th>3</th>\n",
       "      <td>2022-01-01_1130</td>\n",
       "      <td>1</td>\n",
       "      <td>3</td>\n",
       "      <td>302.924635</td>\n",
       "      <td>41.920135</td>\n",
       "      <td>261.004500</td>\n",
       "      <td>127.611258</td>\n",
       "      <td>109.963281</td>\n",
       "      <td>16.061077</td>\n",
       "      <td>16.048973</td>\n",
       "      <td>0.000027</td>\n",
       "      <td>127.611223</td>\n",
       "      <td>5.5</td>\n",
       "      <td>60</td>\n",
       "      <td>232</td>\n",
       "      <td>265</td>\n",
       "    </tr>\n",
       "  </tbody>\n",
       "</table>\n",
       "</div>"
      ],
      "text/plain": [
       "         timestamp  module  row     POA_eff  Grear_mean  Gfront_mean  \\\n",
       "0  2022-01-01_1030      13    3  115.549250   13.994150   101.555100   \n",
       "1  2022-01-01_1030       1    3  120.080103   17.829270   102.250833   \n",
       "2  2022-01-01_1130      13    3  288.246602   27.731835   260.514767   \n",
       "3  2022-01-01_1130       1    3  302.924635   41.920135   261.004500   \n",
       "\n",
       "     Pout_raw  Pout_Gfront        BGG        BGE  Mismatch        Pout  \\\n",
       "0   48.002683    42.060146  13.779859  14.128664  0.001051   48.002178   \n",
       "1   49.927684    42.355437  17.436797  17.877863  0.000898   49.927236   \n",
       "2  121.444050   109.756499  10.645015  10.648619  0.000030  121.444013   \n",
       "3  127.611258   109.963281  16.061077  16.048973  0.000027  127.611223   \n",
       "\n",
       "   Wind Speed  DNI  DHI  GHI  \n",
       "0         4.7    5  108  112  \n",
       "1         4.7    5  108  112  \n",
       "2         5.5   60  232  265  \n",
       "3         5.5   60  232  265  "
      ]
     },
     "execution_count": 40,
     "metadata": {},
     "output_type": "execute_result"
    }
   ],
   "source": [
    "demo.CompiledResults\n",
    "# Grear_mean and Gfront_mean values to be recorded in the excel"
   ]
  },
  {
   "cell_type": "code",
   "execution_count": null,
   "id": "13860929",
   "metadata": {},
   "outputs": [],
   "source": []
  }
 ],
 "metadata": {
  "kernelspec": {
   "display_name": "Python 3 (ipykernel)",
   "language": "python",
   "name": "python3"
  },
  "language_info": {
   "codemirror_mode": {
    "name": "ipython",
    "version": 3
   },
   "file_extension": ".py",
   "mimetype": "text/x-python",
   "name": "python",
   "nbconvert_exporter": "python",
   "pygments_lexer": "ipython3",
   "version": "3.11.4"
  }
 },
 "nbformat": 4,
 "nbformat_minor": 5
}
