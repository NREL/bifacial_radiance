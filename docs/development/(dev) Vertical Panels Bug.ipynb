{
 "cells": [
  {
   "cell_type": "code",
   "execution_count": 1,
   "id": "7e37c49e",
   "metadata": {},
   "outputs": [
    {
     "name": "stdout",
     "output_type": "stream",
     "text": [
      "Your simulation will be stored in C:\\Users\\sayala\\Documents\\GitHub\\bifacial_radiance\\bifacial_radiance\\TEMP\\Vertical\n"
     ]
    }
   ],
   "source": [
    "import os\n",
    "from pathlib import Path\n",
    "\n",
    "testfolder = str(Path().resolve().parent.parent / 'bifacial_radiance' / 'TEMP' / 'Vertical')\n",
    "if not os.path.exists(testfolder):\n",
    "    os.makedirs(testfolder)\n",
    "    \n",
    "print (\"Your simulation will be stored in %s\" % testfolder)"
   ]
  },
  {
   "cell_type": "code",
   "execution_count": 2,
   "id": "dd13eb7d",
   "metadata": {},
   "outputs": [],
   "source": [
    "from bifacial_radiance import *   \n",
    "import numpy as np\n",
    "import datetime"
   ]
  },
  {
   "cell_type": "code",
   "execution_count": 3,
   "id": "a6c3fbca",
   "metadata": {},
   "outputs": [],
   "source": [
    "lat = 44.57615187732146\n",
    "lon = -123.23914850912513\n",
    "tilt = 90 # degrees\n",
    "sazm = 90 # degrees\n",
    "numpanels = 1\n",
    "albedo = 0.7  #'grass'     # ground albedo\n",
    "\n",
    "# Three sites differences:\n",
    "ch = 0.25\n",
    "pitch = 5\n",
    "\n",
    "y = 2\n",
    "x = 1\n",
    "\n",
    "demo = RadianceObj('Oregon', path=testfolder)  # Create a RadianceObj 'object'\n",
    "demo.setGround(albedo) # input albedo number or material name like 'concrete'.  To see options, run this without any input.\n",
    "epwfile = demo.getEPW(lat, lon) # NJ lat/lon 40.0583° N, 74.4057\n",
    "startdt = datetime.datetime(2021,5,1,11)\n",
    "#enddt = datetime.datetime(2021,9,30,23)\n",
    "metdata = demo.readWeatherFile(epwfile, starttime=startdt, endtime=startdt, coerce_year=2021) # read in the EPW weather data from above\n",
    "demo.genCumSky()\n",
    "module = demo.makeModule(name='test-mod', x=x, y=y)\n",
    "sceneDict = {'tilt':tilt, 'pitch':pitch, 'clearance_height':ch, 'azimuth':sazm, 'nMods':1, 'nRows':1}  \n",
    "scene = demo.makeScene(module=module, sceneDict=sceneDict) #makeScene creates a .rad file with 20 modules per row, 7 rows.\n",
    "octfile = demo.makeOct()  # makeOct combines all of the ground, sky and object fil|es into a .oct file.\n",
    "analysis = AnalysisObj(octfile, demo.name)  # return an analysis object including the scan dimensions for back irradiance\n",
    "frontscan, backscan = analysis.moduleAnalysis(scene, sensorsy=[1, 1])\n",
    "analysis.analysis(octfile, name='Test', frontscan=frontscan, backscan=backscan)  # compare the back vs front irradiance  \n"
   ]
  },
  {
   "cell_type": "code",
   "execution_count": 9,
   "id": "a06e2f75",
   "metadata": {},
   "outputs": [
    {
     "name": "stdout",
     "output_type": "stream",
     "text": [
      "Created Oregon.oct\n",
      "Linescan in process: Test_180_Row1_Module1_Front\n",
      "Linescan in process: Test_180_Row1_Module1_Back\n",
      "Saved: results\\irr_Test_180_Row1_Module1.csv\n"
     ]
    },
    {
     "data": {
      "text/plain": [
       "({'Wm2': [255.087],\n",
       "  'x': [2.571758e-18],\n",
       "  'y': [-0.021],\n",
       "  'z': [1.25],\n",
       "  'r': [255.087],\n",
       "  'g': [255.087],\n",
       "  'b': [255.087],\n",
       "  'mattype': ['a0.0.a0.test-mod.6457'],\n",
       "  'title': 'Test_180_Row1_Module1_Front'},\n",
       " {'Wm2': [220.3515],\n",
       "  'x': [-1.224647e-19],\n",
       "  'y': [0.001],\n",
       "  'z': [1.25],\n",
       "  'r': [220.3515],\n",
       "  'g': [220.3515],\n",
       "  'b': [220.3515],\n",
       "  'mattype': ['a0.0.a0.test-mod.2310'],\n",
       "  'title': 'Test_180_Row1_Module1_Back'})"
      ]
     },
     "execution_count": 9,
     "metadata": {},
     "output_type": "execute_result"
    }
   ],
   "source": [
    "sazm=180\n",
    "sceneDict = {'tilt':tilt, 'pitch':pitch, 'clearance_height':ch, 'azimuth':sazm, 'nMods':1, 'nRows':1}  \n",
    "scene = demo.makeScene(module=module, sceneDict=sceneDict) #makeScene creates a .rad file with 20 modules per row, 7 rows.\n",
    "octfile = demo.makeOct()  # makeOct combines all of the ground, sky and object fil|es into a .oct file.\n",
    "analysis = AnalysisObj(octfile, demo.name)  # return an analysis object including the scan dimensions for back irradiance\n",
    "frontscan, backscan = analysis.moduleAnalysis(scene, sensorsy=[1, 1])\n",
    "analysis.analysis(octfile, name='Test_180', frontscan=frontscan, backscan=backscan)  # compare the back vs front irradiance  \n"
   ]
  },
  {
   "cell_type": "markdown",
   "id": "4381b746",
   "metadata": {},
   "source": [
    "# Trackerdict"
   ]
  },
  {
   "cell_type": "code",
   "execution_count": 30,
   "id": "a537c45c",
   "metadata": {},
   "outputs": [],
   "source": [
    "sazm = 180"
   ]
  },
  {
   "cell_type": "code",
   "execution_count": 31,
   "id": "d4b7d223",
   "metadata": {},
   "outputs": [
    {
     "data": {
      "text/plain": [
       "{'2021-05-01_1100': {'surf_azm': 180,\n",
       "  'surf_tilt': 90,\n",
       "  'theta': 90,\n",
       "  'dni': 18,\n",
       "  'ghi': 320,\n",
       "  'dhi': 306,\n",
       "  'temp_air': 13.0,\n",
       "  'wind_speed': 1.5}}"
      ]
     },
     "execution_count": 31,
     "metadata": {},
     "output_type": "execute_result"
    }
   ],
   "source": [
    "demo.set1axis(limit_angle = 60, backtrack = False, gcr=0.3, cumulativesky = False,\n",
    "             fixed_tilt_angle=90, azimuth=sazm)\n"
   ]
  },
  {
   "cell_type": "code",
   "execution_count": 32,
   "id": "42f4aeba",
   "metadata": {},
   "outputs": [
    {
     "name": "stdout",
     "output_type": "stream",
     "text": [
      "Creating ~1 skyfiles. \n",
      "Created 1 skyfiles in /skies/\n"
     ]
    },
    {
     "data": {
      "text/plain": [
       "{'2021-05-01_1100': {'surf_azm': 180,\n",
       "  'surf_tilt': 90,\n",
       "  'theta': 90,\n",
       "  'dni': 18,\n",
       "  'ghi': 320,\n",
       "  'dhi': 306,\n",
       "  'temp_air': 13.0,\n",
       "  'wind_speed': 1.5,\n",
       "  'skyfile': 'skies\\\\sky2_44.48_-123.28_2021-05-01_1100.rad'}}"
      ]
     },
     "execution_count": 32,
     "metadata": {},
     "output_type": "execute_result"
    }
   ],
   "source": [
    "demo.gendaylit1axis()"
   ]
  },
  {
   "cell_type": "code",
   "execution_count": 37,
   "id": "e23703e8",
   "metadata": {},
   "outputs": [],
   "source": [
    "sceneDict = {'tilt':tilt, 'pitch':pitch, 'clearance_height':ch, 'azimuth':sazm, 'nMods':10, 'nRows':10}  \n"
   ]
  },
  {
   "cell_type": "code",
   "execution_count": 38,
   "id": "4fb11e43",
   "metadata": {},
   "outputs": [
    {
     "name": "stdout",
     "output_type": "stream",
     "text": [
      "\n",
      "Making ~1 .rad files for gendaylit 1-axis workflow (this takes a minute..)\n",
      "1 Radfiles created in /objects/\n"
     ]
    },
    {
     "data": {
      "text/plain": [
       "{'2021-05-01_1100': {'surf_azm': 0,\n",
       "  'surf_tilt': -90,\n",
       "  'theta': 90,\n",
       "  'dni': 18,\n",
       "  'ghi': 320,\n",
       "  'dhi': 306,\n",
       "  'temp_air': 13.0,\n",
       "  'wind_speed': 1.5,\n",
       "  'skyfile': 'skies\\\\sky2_44.48_-123.28_2021-05-01_1100.rad',\n",
       "  'radfile': 'objects\\\\1axis2021-05-01_1100__C_0.25000_rtr_5.00000_tilt_-90.00000_10modsx10rows_origin0,0.rad',\n",
       "  'scene': {'module': {'x': 1, 'y': 2, 'z': 0.02, 'modulematerial': 'black', 'scenex': 1.01, 'sceney': 2.0, 'scenez': 0.1, 'numpanels': 1, 'bifi': 1, 'text': '! genbox black test-mod 1 2 0.02 | xform -t -0.5 -1.0 0 -a 1 -t 0 2.0 0', 'modulefile': 'objects\\\\test-mod.rad', 'glass': False, 'offsetfromaxis': 0, 'xgap': 0.01, 'ygap': 0.0, 'zgap': 0.1}, 'modulefile': 'objects\\\\test-mod.rad', 'hpc': False, 'name': 'Scene0', 'gcr': 0.4, 'text': '!xform -rx -90 -t 0 0 1.25 -a 10 -t 1.01 0 0 -a 10 -t 0 5 0 -i 1 -t -4.04 -20.0 0 -rz 180 -t 0 0 0 objects\\\\test-mod.rad', 'radfiles': 'objects\\\\1axis2021-05-01_1100__C_0.25000_rtr_5.00000_tilt_-90.00000_10modsx10rows_origin0,0.rad', 'sceneDict': {'tilt': -90, 'pitch': 5, 'clearance_height': 0.25, 'azimuth': 0, 'nMods': 10, 'nRows': 10, 'modulez': 0.02, 'axis_tilt': 0, 'originx': 0, 'originy': 0}},\n",
       "  'octfile': '1axis_2021-05-01_1100.oct',\n",
       "  'Results': [{'rowWanted': 1,\n",
       "    'modWanted': 1,\n",
       "    'AnalysisObj': {'octfile': '1axis_2021-05-01_1100.oct', 'name': '1axis_2021-05-01_1100Test-1axis-90', 'hpc': False, 'modWanted': 1, 'rowWanted': 1, 'x': [0.0, 0.0, 0.0, 0.0, 0.0, 0.0, 0.0, 0.0, 0.0], 'y': [-0.021, -0.021, -0.021, -0.021, -0.021, -0.021, -0.021, -0.021, -0.021], 'z': [2.05, 1.85, 1.65, 1.45, 1.25, 1.05, 0.85, 0.65, 0.45], 'rearZ': [2.05, 1.85, 1.65, 1.45, 1.25, 1.05, 0.85, 0.65, 0.45], 'mattype': ['a0.0.a0.test-mod.6457', 'a0.0.a0.test-mod.6457', 'a0.0.a0.test-mod.6457', 'a0.0.a0.test-mod.6457', 'a0.0.a0.test-mod.6457', 'a0.0.a0.test-mod.6457', 'a0.0.a0.test-mod.6457', 'a0.0.a0.test-mod.6457', 'a0.0.a0.test-mod.6457'], 'rearMat': ['a0.0.a0.test-mod.2310', 'a0.0.a0.test-mod.2310', 'a0.0.a0.test-mod.2310', 'a0.0.a0.test-mod.2310', 'a0.0.a0.test-mod.2310', 'a0.0.a0.test-mod.2310', 'a0.0.a0.test-mod.2310', 'a0.0.a0.test-mod.2310', 'a0.0.a0.test-mod.2310'], 'Wm2Front': [257.0849, 256.4845, 255.8867, 256.0132, 255.0787, 254.4475, 252.78, 251.6632, 248.5486], 'Wm2Back': [226.9037, 226.3021, 225.88199999999998, 225.0376, 224.49, 223.09260000000003, 221.8661, 219.3918, 216.2479], 'Back/FrontRatio': [0.8825987734060873, 0.882319273409218, 0.8827387951824178, 0.8790043677264778, 0.8800778736998671, 0.8767691693997018, 0.8777008556814, 0.8717640411309991, 0.8700392195360603], 'backRatio': [0.8825987734060873, 0.882319273409218, 0.8827387951824178, 0.8790043677264778, 0.8800778736998671, 0.8767691693997018, 0.8777008556814, 0.8717640411309991, 0.8700392195360603], 'rearX': [0.0, 0.0, 0.0, 0.0, 0.0, 0.0, 0.0, 0.0, 0.0], 'rearY': [0.001, 0.001, 0.001, 0.001, 0.001, 0.001, 0.001, 0.001, 0.001]},\n",
       "    'Wm2Front': [257.0849,\n",
       "     256.4845,\n",
       "     255.8867,\n",
       "     256.0132,\n",
       "     255.0787,\n",
       "     254.4475,\n",
       "     252.78,\n",
       "     251.6632,\n",
       "     248.5486],\n",
       "    'Wm2Back': [226.9037,\n",
       "     226.3021,\n",
       "     225.88199999999998,\n",
       "     225.0376,\n",
       "     224.49,\n",
       "     223.09260000000003,\n",
       "     221.8661,\n",
       "     219.3918,\n",
       "     216.2479],\n",
       "    'backRatio': [0.8825987734060873,\n",
       "     0.882319273409218,\n",
       "     0.8827387951824178,\n",
       "     0.8790043677264778,\n",
       "     0.8800778736998671,\n",
       "     0.8767691693997018,\n",
       "     0.8777008556814,\n",
       "     0.8717640411309991,\n",
       "     0.8700392195360603]}]}}"
      ]
     },
     "execution_count": 38,
     "metadata": {},
     "output_type": "execute_result"
    }
   ],
   "source": [
    "demo.makeScene1axis(module=module,sceneDict=sceneDict) #makeScene creates a .rad file with 20 modules per row, 7 rows.\n"
   ]
  },
  {
   "cell_type": "code",
   "execution_count": 39,
   "id": "604aa12d",
   "metadata": {},
   "outputs": [
    {
     "name": "stdout",
     "output_type": "stream",
     "text": [
      "\n",
      "Making 1 octfiles in root directory.\n",
      "Created 1axis_2021-05-01_1100.oct\n"
     ]
    },
    {
     "data": {
      "text/plain": [
       "{'2021-05-01_1100': {'surf_azm': 0,\n",
       "  'surf_tilt': -90,\n",
       "  'theta': 90,\n",
       "  'dni': 18,\n",
       "  'ghi': 320,\n",
       "  'dhi': 306,\n",
       "  'temp_air': 13.0,\n",
       "  'wind_speed': 1.5,\n",
       "  'skyfile': 'skies\\\\sky2_44.48_-123.28_2021-05-01_1100.rad',\n",
       "  'radfile': 'objects\\\\1axis2021-05-01_1100__C_0.25000_rtr_5.00000_tilt_-90.00000_10modsx10rows_origin0,0.rad',\n",
       "  'scene': {'module': {'x': 1, 'y': 2, 'z': 0.02, 'modulematerial': 'black', 'scenex': 1.01, 'sceney': 2.0, 'scenez': 0.1, 'numpanels': 1, 'bifi': 1, 'text': '! genbox black test-mod 1 2 0.02 | xform -t -0.5 -1.0 0 -a 1 -t 0 2.0 0', 'modulefile': 'objects\\\\test-mod.rad', 'glass': False, 'offsetfromaxis': 0, 'xgap': 0.01, 'ygap': 0.0, 'zgap': 0.1}, 'modulefile': 'objects\\\\test-mod.rad', 'hpc': False, 'name': 'Scene0', 'gcr': 0.4, 'text': '!xform -rx -90 -t 0 0 1.25 -a 10 -t 1.01 0 0 -a 10 -t 0 5 0 -i 1 -t -4.04 -20.0 0 -rz 180 -t 0 0 0 objects\\\\test-mod.rad', 'radfiles': 'objects\\\\1axis2021-05-01_1100__C_0.25000_rtr_5.00000_tilt_-90.00000_10modsx10rows_origin0,0.rad', 'sceneDict': {'tilt': -90, 'pitch': 5, 'clearance_height': 0.25, 'azimuth': 0, 'nMods': 10, 'nRows': 10, 'modulez': 0.02, 'axis_tilt': 0, 'originx': 0, 'originy': 0}},\n",
       "  'octfile': '1axis_2021-05-01_1100.oct',\n",
       "  'Results': [{'rowWanted': 1,\n",
       "    'modWanted': 1,\n",
       "    'AnalysisObj': {'octfile': '1axis_2021-05-01_1100.oct', 'name': '1axis_2021-05-01_1100Test-1axis-90', 'hpc': False, 'modWanted': 1, 'rowWanted': 1, 'x': [0.0, 0.0, 0.0, 0.0, 0.0, 0.0, 0.0, 0.0, 0.0], 'y': [-0.021, -0.021, -0.021, -0.021, -0.021, -0.021, -0.021, -0.021, -0.021], 'z': [2.05, 1.85, 1.65, 1.45, 1.25, 1.05, 0.85, 0.65, 0.45], 'rearZ': [2.05, 1.85, 1.65, 1.45, 1.25, 1.05, 0.85, 0.65, 0.45], 'mattype': ['a0.0.a0.test-mod.6457', 'a0.0.a0.test-mod.6457', 'a0.0.a0.test-mod.6457', 'a0.0.a0.test-mod.6457', 'a0.0.a0.test-mod.6457', 'a0.0.a0.test-mod.6457', 'a0.0.a0.test-mod.6457', 'a0.0.a0.test-mod.6457', 'a0.0.a0.test-mod.6457'], 'rearMat': ['a0.0.a0.test-mod.2310', 'a0.0.a0.test-mod.2310', 'a0.0.a0.test-mod.2310', 'a0.0.a0.test-mod.2310', 'a0.0.a0.test-mod.2310', 'a0.0.a0.test-mod.2310', 'a0.0.a0.test-mod.2310', 'a0.0.a0.test-mod.2310', 'a0.0.a0.test-mod.2310'], 'Wm2Front': [257.0849, 256.4845, 255.8867, 256.0132, 255.0787, 254.4475, 252.78, 251.6632, 248.5486], 'Wm2Back': [226.9037, 226.3021, 225.88199999999998, 225.0376, 224.49, 223.09260000000003, 221.8661, 219.3918, 216.2479], 'Back/FrontRatio': [0.8825987734060873, 0.882319273409218, 0.8827387951824178, 0.8790043677264778, 0.8800778736998671, 0.8767691693997018, 0.8777008556814, 0.8717640411309991, 0.8700392195360603], 'backRatio': [0.8825987734060873, 0.882319273409218, 0.8827387951824178, 0.8790043677264778, 0.8800778736998671, 0.8767691693997018, 0.8777008556814, 0.8717640411309991, 0.8700392195360603], 'rearX': [0.0, 0.0, 0.0, 0.0, 0.0, 0.0, 0.0, 0.0, 0.0], 'rearY': [0.001, 0.001, 0.001, 0.001, 0.001, 0.001, 0.001, 0.001, 0.001]},\n",
       "    'Wm2Front': [257.0849,\n",
       "     256.4845,\n",
       "     255.8867,\n",
       "     256.0132,\n",
       "     255.0787,\n",
       "     254.4475,\n",
       "     252.78,\n",
       "     251.6632,\n",
       "     248.5486],\n",
       "    'Wm2Back': [226.9037,\n",
       "     226.3021,\n",
       "     225.88199999999998,\n",
       "     225.0376,\n",
       "     224.49,\n",
       "     223.09260000000003,\n",
       "     221.8661,\n",
       "     219.3918,\n",
       "     216.2479],\n",
       "    'backRatio': [0.8825987734060873,\n",
       "     0.882319273409218,\n",
       "     0.8827387951824178,\n",
       "     0.8790043677264778,\n",
       "     0.8800778736998671,\n",
       "     0.8767691693997018,\n",
       "     0.8777008556814,\n",
       "     0.8717640411309991,\n",
       "     0.8700392195360603]}]}}"
      ]
     },
     "execution_count": 39,
     "metadata": {},
     "output_type": "execute_result"
    }
   ],
   "source": [
    "demo.makeOct1axis()\n"
   ]
  },
  {
   "cell_type": "code",
   "execution_count": 40,
   "id": "1670082a",
   "metadata": {},
   "outputs": [
    {
     "name": "stdout",
     "output_type": "stream",
     "text": [
      "Linescan in process: 1axis_2021-05-01_1100Test-1axis-90_Row5_Module5_Front\n",
      "Linescan in process: 1axis_2021-05-01_1100Test-1axis-90_Row5_Module5_Back\n",
      "Saved: results\\irr_1axis_2021-05-01_1100Test-1axis-90_Row5_Module5.csv\n",
      "Index: 2021-05-01_1100. Wm2Front: 201.685. Wm2Back: 170.9667\n"
     ]
    },
    {
     "data": {
      "text/plain": [
       "{'2021-05-01_1100': {'surf_azm': 0,\n",
       "  'surf_tilt': -90,\n",
       "  'theta': 90,\n",
       "  'dni': 18,\n",
       "  'ghi': 320,\n",
       "  'dhi': 306,\n",
       "  'temp_air': 13.0,\n",
       "  'wind_speed': 1.5,\n",
       "  'skyfile': 'skies\\\\sky2_44.48_-123.28_2021-05-01_1100.rad',\n",
       "  'radfile': 'objects\\\\1axis2021-05-01_1100__C_0.25000_rtr_5.00000_tilt_-90.00000_10modsx10rows_origin0,0.rad',\n",
       "  'scene': {'module': {'x': 1, 'y': 2, 'z': 0.02, 'modulematerial': 'black', 'scenex': 1.01, 'sceney': 2.0, 'scenez': 0.1, 'numpanels': 1, 'bifi': 1, 'text': '! genbox black test-mod 1 2 0.02 | xform -t -0.5 -1.0 0 -a 1 -t 0 2.0 0', 'modulefile': 'objects\\\\test-mod.rad', 'glass': False, 'offsetfromaxis': 0, 'xgap': 0.01, 'ygap': 0.0, 'zgap': 0.1}, 'modulefile': 'objects\\\\test-mod.rad', 'hpc': False, 'name': 'Scene0', 'gcr': 0.4, 'text': '!xform -rx -90 -t 0 0 1.25 -a 10 -t 1.01 0 0 -a 10 -t 0 5 0 -i 1 -t -4.04 -20.0 0 -rz 180 -t 0 0 0 objects\\\\test-mod.rad', 'radfiles': 'objects\\\\1axis2021-05-01_1100__C_0.25000_rtr_5.00000_tilt_-90.00000_10modsx10rows_origin0,0.rad', 'sceneDict': {'tilt': -90, 'pitch': 5, 'clearance_height': 0.25, 'azimuth': 0, 'nMods': 10, 'nRows': 10, 'modulez': 0.02, 'axis_tilt': 0, 'originx': 0, 'originy': 0}},\n",
       "  'octfile': '1axis_2021-05-01_1100.oct',\n",
       "  'Results': [{'rowWanted': 5,\n",
       "    'modWanted': 5,\n",
       "    'AnalysisObj': {'octfile': '1axis_2021-05-01_1100.oct', 'name': '1axis_2021-05-01_1100Test-1axis-90', 'hpc': False, 'modWanted': 5, 'rowWanted': 5, 'x': [0.0, 0.0, 0.0, 0.0, 0.0, 0.0, 0.0, 0.0, 0.0], 'y': [-0.021, -0.021, -0.021, -0.021, -0.021, -0.021, -0.021, -0.021, -0.021], 'z': [2.05, 1.85, 1.65, 1.45, 1.25, 1.05, 0.85, 0.65, 0.45], 'rearZ': [2.05, 1.85, 1.65, 1.45, 1.25, 1.05, 0.85, 0.65, 0.45], 'mattype': ['a4.4.a0.test-mod.6457', 'a4.4.a0.test-mod.6457', 'a4.4.a0.test-mod.6457', 'a4.4.a0.test-mod.6457', 'a4.4.a0.test-mod.6457', 'a4.4.a0.test-mod.6457', 'a4.4.a0.test-mod.6457', 'a4.4.a0.test-mod.6457', 'a4.4.a0.test-mod.6457'], 'rearMat': ['a4.4.a0.test-mod.2310', 'a4.4.a0.test-mod.2310', 'a4.4.a0.test-mod.2310', 'a4.4.a0.test-mod.2310', 'a4.4.a0.test-mod.2310', 'a4.4.a0.test-mod.2310', 'a4.4.a0.test-mod.2310', 'a4.4.a0.test-mod.2310', 'a4.4.a0.test-mod.2310'], 'Wm2Front': [207.7664, 206.6951, 205.62890000000002, 204.56270000000004, 201.7193, 199.97799999999998, 198.4573, 195.8581, 194.4992], 'Wm2Back': [177.4249, 176.1907, 174.9542, 172.8208, 171.4995, 170.0022, 167.8323, 165.7738, 162.2019], 'Back/FrontRatio': [0.8539592833139367, 0.8524142448744799, 0.8508208193458245, 0.8448263303802188, 0.8501846368461677, 0.8501002605273553, 0.8456804275759694, 0.8463931469102022, 0.833942073067277], 'backRatio': [0.8539592833139367, 0.8524142448744799, 0.8508208193458245, 0.8448263303802188, 0.8501846368461677, 0.8501002605273553, 0.8456804275759694, 0.8463931469102022, 0.833942073067277], 'rearX': [0.0, 0.0, 0.0, 0.0, 0.0, 0.0, 0.0, 0.0, 0.0], 'rearY': [0.001, 0.001, 0.001, 0.001, 0.001, 0.001, 0.001, 0.001, 0.001]},\n",
       "    'Wm2Front': [207.7664,\n",
       "     206.6951,\n",
       "     205.62890000000002,\n",
       "     204.56270000000004,\n",
       "     201.7193,\n",
       "     199.97799999999998,\n",
       "     198.4573,\n",
       "     195.8581,\n",
       "     194.4992],\n",
       "    'Wm2Back': [177.4249,\n",
       "     176.1907,\n",
       "     174.9542,\n",
       "     172.8208,\n",
       "     171.4995,\n",
       "     170.0022,\n",
       "     167.8323,\n",
       "     165.7738,\n",
       "     162.2019],\n",
       "    'backRatio': [0.8539592833139367,\n",
       "     0.8524142448744799,\n",
       "     0.8508208193458245,\n",
       "     0.8448263303802188,\n",
       "     0.8501846368461677,\n",
       "     0.8501002605273553,\n",
       "     0.8456804275759694,\n",
       "     0.8463931469102022,\n",
       "     0.833942073067277]}]}}"
      ]
     },
     "execution_count": 40,
     "metadata": {},
     "output_type": "execute_result"
    }
   ],
   "source": [
    "demo.analysis1axis(customname='Test-1axis-90')"
   ]
  },
  {
   "cell_type": "markdown",
   "id": "e38e1a8c",
   "metadata": {},
   "source": [
    "## 1. Loop over the different heights"
   ]
  },
  {
   "cell_type": "code",
   "execution_count": null,
   "id": "03692e8b",
   "metadata": {},
   "outputs": [],
   "source": [
    "for ii in range(0,3):\n",
    "    y= ys[ii]\n",
    "    ch = clearance_heights[ii]\n",
    "    pitch = pitchs[ii]\n",
    "    \n",
    "    moduletype='PV-module'\n",
    "    sceneDict = {'tilt':tilt, 'pitch':pitch, 'clearance_height':ch, 'azimuth':sazm, 'nMods':20, 'nRows':7}  \n",
    "    #starttime = '01_13_11';  endtime = '01_13_12'\n",
    "    scene = demo.makeScene(module=moduletype, sceneDict=sceneDict) #makeScene creates a .rad file with 20 modules per row, 7 rows.\n",
    "    octfile = demo.makeOct()  # makeOct combines all of the ground, sky and object fil|es into a .oct file.\n",
    "    # Sensor calculation\n",
    "    spacingbetweensamples = 0.05  # one sensor every 5 cm\n",
    "    sensorsy = round(pitch/spacingbetweensamples) -1 # one sensor every 5 cm\n",
    "\n",
    "    analysis = AnalysisObj(octfile, demo.name)  # return an analysis object including the scan dimensions for back irradiance\n",
    "    frontscan, backscan = analysis.moduleAnalysis(scene, sensorsy=[1, 9])\n",
    "    groundscan = frontscan.copy()\n",
    "    groundscan['zstart'] = 0.05  # setting it 5 cm from the ground.\n",
    "    groundscan['zinc'] = 0   # no tilt necessary. \n",
    "    groundscan['yinc'] = spacingbetweensamples   # increasing spacing so it covers all distance between rows\n",
    "    groundscan['Ny'] = sensorsy   # increasing spacing so it covers all distance between rows\n",
    "\n",
    "    analysis.analysis(octfile, 'Site_'+str(ii)+'_Module_', frontscan, backscan)  # compare the back vs front irradiance  \n",
    "    analysis.analysis(octfile, 'Site_'+str(ii)+'_Ground_', frontscan, groundscan)  # compare the back vs front irradiance  "
   ]
  },
  {
   "cell_type": "code",
   "execution_count": null,
   "id": "da3df9f1",
   "metadata": {},
   "outputs": [],
   "source": []
  }
 ],
 "metadata": {
  "kernelspec": {
   "display_name": "Python 3 (ipykernel)",
   "language": "python",
   "name": "python3"
  },
  "language_info": {
   "codemirror_mode": {
    "name": "ipython",
    "version": 3
   },
   "file_extension": ".py",
   "mimetype": "text/x-python",
   "name": "python",
   "nbconvert_exporter": "python",
   "pygments_lexer": "ipython3",
   "version": "3.8.8"
  }
 },
 "nbformat": 4,
 "nbformat_minor": 5
}
