{
 "cells": [
  {
   "cell_type": "code",
   "execution_count": 1,
   "id": "5e8ab57e",
   "metadata": {},
   "outputs": [
    {
     "name": "stdout",
     "output_type": "stream",
     "text": [
      "Your simulation will be stored in Simulations/bifacial_vf\n"
     ]
    }
   ],
   "source": [
    "import os\n",
    "from pathlib import Path\n",
    "\n",
    "testfolder = 'Simulations/bifacial_vf'\n",
    "\n",
    "if not os.path.exists(testfolder):\n",
    "    os.makedirs(testfolder)\n",
    "    \n",
    "print (\"Your simulation will be stored in %s\" % testfolder)"
   ]
  },
  {
   "cell_type": "code",
   "execution_count": 2,
   "id": "ea7bf497",
   "metadata": {},
   "outputs": [],
   "source": [
    "import bifacial_radiance as br\n",
    "import bifacialvf as bf\n",
    "import numpy as np\n",
    "import pandas as pd\n",
    "import matplotlib.pyplot as plt"
   ]
  },
  {
   "cell_type": "code",
   "execution_count": 3,
   "id": "6cd9aac2",
   "metadata": {},
   "outputs": [
    {
     "name": "stdout",
     "output_type": "stream",
     "text": [
      "Working on a  Darwin 21.6.0\n",
      "Python version  3.11.5 (main, Sep 11 2023, 08:19:27) [Clang 14.0.6 ]\n",
      "Pandas version  2.0.3\n",
      "bifacial_radiance version  0.4.2+242.g2007945.dirty\n",
      "pyplot  3.7.2\n",
      "bifacialvf version  0.1.8.1\n"
     ]
    }
   ],
   "source": [
    "# This information helps with debugging and getting support :)\n",
    "import sys, platform\n",
    "print(\"Working on a \", platform.system(), platform.release())\n",
    "print(\"Python version \", sys.version)\n",
    "print(\"Pandas version \", pd.__version__)\n",
    "print(\"bifacial_radiance version \", br.__version__)\n",
    "print(\"pyplot \", plt.matplotlib.__version__)\n",
    "print(\"bifacialvf version \", bf.__version__)"
   ]
  },
  {
   "cell_type": "code",
   "execution_count": 4,
   "id": "1a4ddbc7",
   "metadata": {},
   "outputs": [],
   "source": [
    "simulationname = 'bifacialvf_fixedtilt'\n",
    "\n",
    "# Location:\n",
    "lat = 39.7555\n",
    "lon = -105.2211\n",
    "\n",
    "# Scene Parameters:\n",
    "azimuth_ang=90\n",
    "tilt=10\n",
    "\n",
    "# MakeModule Parameters\n",
    "moduletype='PVmod'\n",
    "numpanels=1\n",
    "module_x = 2 # m\n",
    "module_y = 1 # m. slope we will measure\n",
    "sensorsy=2\n",
    "sensorsground=5\n",
    "fixed_tilt_angle = None\n",
    "\n",
    "# SceneDict Parameters\n",
    "pitch = 5.7\n",
    "albedo = 0.2\n",
    "azimuth = 180\n",
    "clearance_height = 0.2\n",
    "nMods = 20 \n",
    "nRows = 3\n",
    "fixed_tilt_angle = 10\n",
    "\n",
    "sceneDict = {'tilt':tilt,'pitch':pitch,'clearance_height':clearance_height,'azimuth':azimuth, 'nMods': nMods, 'nRows': nRows, 'fixed_tilt_angle': fixed_tilt_angle} "
   ]
  },
  {
   "cell_type": "code",
   "execution_count": 5,
   "id": "a3668517",
   "metadata": {},
   "outputs": [
    {
     "name": "stdout",
     "output_type": "stream",
     "text": [
      "path = Simulations/bifacial_vf\n",
      "Loading albedo, 1 value(s), 0.200 avg\n",
      "1 nonzero albedo values.\n",
      "Getting weather file: USA_CO_Golden-NREL.724666_TMY3.epw\n",
      " ... OK!\n"
     ]
    }
   ],
   "source": [
    "demo = br.RadianceObj(simulationname,path = testfolder)\n",
    "demo.setGround(albedo)\n",
    "epwfile = demo.getEPW(lat, lon)"
   ]
  },
  {
   "cell_type": "code",
   "execution_count": 6,
   "id": "85fb6790",
   "metadata": {},
   "outputs": [
    {
     "name": "stdout",
     "output_type": "stream",
     "text": [
      "\n",
      "Module Name: PVmod\n",
      "Module PVmod updated in module.json\n",
      "Pre-existing .rad file objects/PVmod.rad will be overwritten\n",
      "\n"
     ]
    }
   ],
   "source": [
    "module=demo.makeModule(name=moduletype,x=module_x,y=module_y)"
   ]
  },
  {
   "cell_type": "code",
   "execution_count": 7,
   "id": "612cd6a4",
   "metadata": {
    "scrolled": true
   },
   "outputs": [
    {
     "name": "stdout",
     "output_type": "stream",
     "text": [
      "8760 line in WeatherFile. Assuming this is a standard hourly WeatherFile for the year for purposes of saving Gencumulativesky temporary weather files in EPW folder.\n",
      "Coercing year to 2021\n",
      "Filtering dates\n",
      "Saving file EPWs/metdata_temp.csv, # points: 8760\n",
      "Calculating Sun position for Metdata that is right-labeled  with a delta of -30 mins. i.e. 12 is 11:30 sunpos\n"
     ]
    }
   ],
   "source": [
    "#Valid options: mm_dd, mm_dd_HH, mm_dd_HHMM, YYYY-mm-dd_HHMM\n",
    "metdata = demo.readWeatherFile(epwfile, coerce_year=2021, starttime='2021-06-21_12', endtime='2021-06-21_13')"
   ]
  },
  {
   "cell_type": "code",
   "execution_count": 8,
   "id": "6b32020d",
   "metadata": {},
   "outputs": [
    {
     "data": {
      "text/plain": [
       "{'latitude': 39.74, 'longitude': -105.18, 'elevation': 1829.0, 'timezone': -7.0, 'city': 'Denver Centennial  Golden   Nr', 'datetime': [Timestamp('2021-06-21 12:00:00-0700', tz='UTC-07:00'), Timestamp('2021-06-21 13:00:00-0700', tz='UTC-07:00')], 'ghi': array([961, 520]), 'dhi': array([158, 313]), 'dni': array([843, 217]), 'albedo': array([0.15, 0.15]), 'dewpoint': array([14.4, 13.3]), 'pressure': array([83500, 83500]), 'temp_air': array([26.1, 22.8]), 'wind_speed': array([ 7.7, 10.3]), 'meastracker_angle': None, 'solpos':                            apparent_zenith     zenith  apparent_elevation  \\\n",
       "corrected_timestamp                                                         \n",
       "2021-06-21 11:30:00-07:00        17.699322  17.703619           72.300678   \n",
       "2021-06-21 12:30:00-07:00        17.295897  17.300089           72.704103   \n",
       "\n",
       "                           elevation     azimuth  equation_of_time  \n",
       "corrected_timestamp                                                 \n",
       "2021-06-21 11:30:00-07:00  72.296381  154.648377         -1.909200  \n",
       "2021-06-21 12:30:00-07:00  72.699911  201.558385         -1.918194  , 'sunrisesetdata':                                                       sunrise  \\\n",
       "2021-06-21 12:00:00-07:00 2021-06-21 04:32:58.820602112-07:00   \n",
       "2021-06-21 13:00:00-07:00 2021-06-21 04:32:58.820602112-07:00   \n",
       "\n",
       "                                                       sunset  \\\n",
       "2021-06-21 12:00:00-07:00 2021-06-21 19:32:04.802181888-07:00   \n",
       "2021-06-21 13:00:00-07:00 2021-06-21 19:32:04.802181888-07:00   \n",
       "\n",
       "                                                      transit  minutedelta  \\\n",
       "2021-06-21 12:00:00-07:00 2021-06-21 12:02:38.244584704-07:00           30   \n",
       "2021-06-21 13:00:00-07:00 2021-06-21 12:02:38.244584704-07:00           30   \n",
       "\n",
       "                                corrected_timestamp  \n",
       "2021-06-21 12:00:00-07:00 2021-06-21 11:30:00-07:00  \n",
       "2021-06-21 13:00:00-07:00 2021-06-21 12:30:00-07:00  , 'label': 'right', 'columns': ['albedo', 'city', 'datetime', 'dewpoint', 'dhi', 'dni', 'elevation', 'ghi', 'label', 'latitude', 'longitude', 'meastracker_angle', 'pressure', 'solpos', 'sunrisesetdata', 'temp_air', 'timezone', 'wind_speed']}"
      ]
     },
     "execution_count": 8,
     "metadata": {},
     "output_type": "execute_result"
    }
   ],
   "source": [
    "metdata"
   ]
  },
  {
   "cell_type": "code",
   "execution_count": 9,
   "id": "314937d1",
   "metadata": {
    "scrolled": true
   },
   "outputs": [],
   "source": [
    "scene = demo.makeScene(module,sceneDict)"
   ]
  },
  {
   "cell_type": "code",
   "execution_count": 10,
   "id": "94810a8f",
   "metadata": {},
   "outputs": [
    {
     "data": {
      "text/plain": [
       "'skies/sky2_39.74_-105.18_2021-06-21_1200.rad'"
      ]
     },
     "execution_count": 10,
     "metadata": {},
     "output_type": "execute_result"
    }
   ],
   "source": [
    "demo.gendaylit(timeindex=0)  "
   ]
  },
  {
   "cell_type": "code",
   "execution_count": 11,
   "id": "e6d55790",
   "metadata": {},
   "outputs": [
    {
     "name": "stdout",
     "output_type": "stream",
     "text": [
      "Created bifacialvf_fixedtilt.oct\n"
     ]
    }
   ],
   "source": [
    "octfile = demo.makeOct()"
   ]
  },
  {
   "cell_type": "code",
   "execution_count": 12,
   "id": "3f17ccfd",
   "metadata": {
    "scrolled": true
   },
   "outputs": [
    {
     "name": "stdout",
     "output_type": "stream",
     "text": [
      "Calculating Sun position with a delta of -30 mins. i.e. 12 is 11:30 sunpos\n",
      "Albedo value passed, but also present in TMY3 file.  Using albedo value passed. To use the ones in TMY3 file re-run simulation with albedo=None\n",
      "\n",
      " \n",
      "********* \n",
      "Running Simulation for TMY3: \n",
      "Location:   Denver Centennial  Golden   Nr\n",
      "Lat:  39.74  Long:  -105.18  Tz  -7.0\n",
      "Parameters: tilt:  10   Sazm:  180     Clearance_Height :  0.2   Pitch:  5.7   Row type:  interior   Albedo:  0.15\n",
      "Saving into bifacialvf_fixedtilt\n",
      " \n",
      " \n",
      "Distance between rows for no shading on Dec 21 at 9 am solar time =  0.4841993245570035\n",
      "Actual distance between rows =  4.715192246987792\n",
      " \n"
     ]
    },
    {
     "name": "stderr",
     "output_type": "stream",
     "text": [
      "100%|████████████████████████████████████████████| 2/2 [00:00<00:00, 255.19it/s]"
     ]
    },
    {
     "name": "stdout",
     "output_type": "stream",
     "text": [
      "Finished\n"
     ]
    },
    {
     "name": "stderr",
     "output_type": "stream",
     "text": [
      "\n"
     ]
    }
   ],
   "source": [
    "vf = demo.runViewFactor(sensorsy=4)"
   ]
  }
 ],
 "metadata": {
  "kernelspec": {
   "display_name": "Python 3 (ipykernel)",
   "language": "python",
   "name": "python3"
  },
  "language_info": {
   "codemirror_mode": {
    "name": "ipython",
    "version": 3
   },
   "file_extension": ".py",
   "mimetype": "text/x-python",
   "name": "python",
   "nbconvert_exporter": "python",
   "pygments_lexer": "ipython3",
   "version": "3.11.5"
  }
 },
 "nbformat": 4,
 "nbformat_minor": 5
}
