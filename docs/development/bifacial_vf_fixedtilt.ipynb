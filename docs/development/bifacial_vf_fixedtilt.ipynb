{
 "cells": [
  {
   "cell_type": "code",
   "execution_count": 1,
   "id": "5e8ab57e",
   "metadata": {},
   "outputs": [
    {
     "name": "stdout",
     "output_type": "stream",
     "text": [
      "Your simulation will be stored in Simulations/bifacial_vf\n"
     ]
    }
   ],
   "source": [
    "import os\n",
    "from pathlib import Path\n",
    "\n",
    "testfolder = 'Simulations/bifacial_vf'\n",
    "\n",
    "if not os.path.exists(testfolder):\n",
    "    os.makedirs(testfolder)\n",
    "    \n",
    "print (\"Your simulation will be stored in %s\" % testfolder)"
   ]
  },
  {
   "cell_type": "code",
   "execution_count": 2,
   "id": "ea7bf497",
   "metadata": {},
   "outputs": [],
   "source": [
    "import bifacial_radiance as br\n",
    "import bifacialvf as bf\n",
    "import numpy as np\n",
    "import pandas as pd\n",
    "import matplotlib.pyplot as plt"
   ]
  },
  {
   "cell_type": "code",
   "execution_count": 3,
   "id": "6cd9aac2",
   "metadata": {},
   "outputs": [
    {
     "name": "stdout",
     "output_type": "stream",
     "text": [
      "Working on a  Darwin 21.6.0\n",
      "Python version  3.11.5 (main, Sep 11 2023, 08:19:27) [Clang 14.0.6 ]\n",
      "Pandas version  2.0.3\n",
      "bifacial_radiance version  0.4.2+241.gef55bdd.dirty\n",
      "pyplot  3.7.2\n",
      "bifacialvf version  0.1.8.1\n"
     ]
    }
   ],
   "source": [
    "# This information helps with debugging and getting support :)\n",
    "import sys, platform\n",
    "print(\"Working on a \", platform.system(), platform.release())\n",
    "print(\"Python version \", sys.version)\n",
    "print(\"Pandas version \", pd.__version__)\n",
    "print(\"bifacial_radiance version \", br.__version__)\n",
    "print(\"pyplot \", plt.matplotlib.__version__)\n",
    "print(\"bifacialvf version \", bf.__version__)"
   ]
  },
  {
   "cell_type": "code",
   "execution_count": 4,
   "id": "1a4ddbc7",
   "metadata": {},
   "outputs": [],
   "source": [
    "simulationname = 'bifacialvf_fixedtilt'\n",
    "\n",
    "# Location:\n",
    "lat = 39.7555\n",
    "lon = -105.2211\n",
    "\n",
    "# Scene Parameters:\n",
    "azimuth_ang=90\n",
    "tilt=10\n",
    "\n",
    "# MakeModule Parameters\n",
    "moduletype='PVmod'\n",
    "numpanels=1\n",
    "module_x = 2 # m\n",
    "module_y = 1 # m. slope we will measure\n",
    "sensorsy=2\n",
    "sensorsground=5\n",
    "fixed_tilt_angle = None\n",
    "\n",
    "# SceneDict Parameters\n",
    "pitch = 5.7\n",
    "albedo = 0.2\n",
    "azimuth = 180\n",
    "clearance_height = 0.2\n",
    "nMods = 20 \n",
    "nRows = 3\n",
    "fixed_tilt_angle = 10\n",
    "\n",
    "sceneDict = {'tilt':tilt,'pitch':pitch,'clearance_height':clearance_height,'azimuth':azimuth, 'nMods': nMods, 'nRows': nRows, 'fixed_tilt_angle': fixed_tilt_angle} "
   ]
  },
  {
   "cell_type": "code",
   "execution_count": 5,
   "id": "a3668517",
   "metadata": {},
   "outputs": [
    {
     "name": "stdout",
     "output_type": "stream",
     "text": [
      "path = Simulations/bifacial_vf\n",
      "Making path: images\n",
      "Making path: objects\n",
      "Making path: results\n",
      "Making path: skies\n",
      "Making path: EPWs\n",
      "Making path: materials\n",
      "Loading albedo, 1 value(s), 0.200 avg\n",
      "1 nonzero albedo values.\n",
      "Getting weather file: USA_CO_Golden-NREL.724666_TMY3.epw\n",
      " ... OK!\n"
     ]
    }
   ],
   "source": [
    "demo = br.RadianceObj(simulationname,path = testfolder)\n",
    "demo.setGround(albedo)\n",
    "epwfile = demo.getEPW(lat, lon)"
   ]
  },
  {
   "cell_type": "code",
   "execution_count": 6,
   "id": "85fb6790",
   "metadata": {},
   "outputs": [
    {
     "name": "stdout",
     "output_type": "stream",
     "text": [
      "\n",
      "Module Name: PVmod\n",
      "Module PVmod updated in module.json\n"
     ]
    }
   ],
   "source": [
    "module=demo.makeModule(name=moduletype,x=module_x,y=module_y)"
   ]
  },
  {
   "cell_type": "code",
   "execution_count": 7,
   "id": "612cd6a4",
   "metadata": {
    "scrolled": true
   },
   "outputs": [
    {
     "name": "stdout",
     "output_type": "stream",
     "text": [
      "8760 line in WeatherFile. Assuming this is a standard hourly WeatherFile for the year for purposes of saving Gencumulativesky temporary weather files in EPW folder.\n",
      "Coercing year to 2021\n",
      "Filtering dates\n",
      "Saving file EPWs/metdata_temp.csv, # points: 8760\n",
      "Calculating Sun position for Metdata that is right-labeled  with a delta of -30 mins. i.e. 12 is 11:30 sunpos\n"
     ]
    }
   ],
   "source": [
    "#Valid options: mm_dd, mm_dd_HH, mm_dd_HHMM, YYYY-mm-dd_HHMM\n",
    "metdata = demo.readWeatherFile(epwfile, coerce_year=2021, starttime='2021-06-21_12', endtime='2021-06-21_13')"
   ]
  },
  {
   "cell_type": "code",
   "execution_count": 8,
   "id": "6b32020d",
   "metadata": {},
   "outputs": [
    {
     "data": {
      "text/plain": [
       "{'latitude': 39.74, 'longitude': -105.18, 'elevation': 1829.0, 'timezone': -7.0, 'city': 'Denver Centennial  Golden   Nr', 'datetime': [Timestamp('2021-06-21 12:00:00-0700', tz='UTC-07:00'), Timestamp('2021-06-21 13:00:00-0700', tz='UTC-07:00')], 'ghi': array([961, 520]), 'dhi': array([158, 313]), 'dni': array([843, 217]), 'albedo': array([0.15, 0.15]), 'dewpoint': array([14.4, 13.3]), 'pressure': array([83500, 83500]), 'temp_air': array([26.1, 22.8]), 'wind_speed': array([ 7.7, 10.3]), 'meastracker_angle': None, 'solpos':                            apparent_zenith     zenith  apparent_elevation  \\\n",
       "corrected_timestamp                                                         \n",
       "2021-06-21 11:30:00-07:00        17.699322  17.703619           72.300678   \n",
       "2021-06-21 12:30:00-07:00        17.295897  17.300089           72.704103   \n",
       "\n",
       "                           elevation     azimuth  equation_of_time  \n",
       "corrected_timestamp                                                 \n",
       "2021-06-21 11:30:00-07:00  72.296381  154.648377         -1.909200  \n",
       "2021-06-21 12:30:00-07:00  72.699911  201.558385         -1.918194  , 'sunrisesetdata':                                                       sunrise  \\\n",
       "2021-06-21 12:00:00-07:00 2021-06-21 04:32:58.820602112-07:00   \n",
       "2021-06-21 13:00:00-07:00 2021-06-21 04:32:58.820602112-07:00   \n",
       "\n",
       "                                                       sunset  \\\n",
       "2021-06-21 12:00:00-07:00 2021-06-21 19:32:04.802181888-07:00   \n",
       "2021-06-21 13:00:00-07:00 2021-06-21 19:32:04.802181888-07:00   \n",
       "\n",
       "                                                      transit  minutedelta  \\\n",
       "2021-06-21 12:00:00-07:00 2021-06-21 12:02:38.244584704-07:00           30   \n",
       "2021-06-21 13:00:00-07:00 2021-06-21 12:02:38.244584704-07:00           30   \n",
       "\n",
       "                                corrected_timestamp  \n",
       "2021-06-21 12:00:00-07:00 2021-06-21 11:30:00-07:00  \n",
       "2021-06-21 13:00:00-07:00 2021-06-21 12:30:00-07:00  , 'label': 'right', 'columns': ['albedo', 'city', 'datetime', 'dewpoint', 'dhi', 'dni', 'elevation', 'ghi', 'label', 'latitude', 'longitude', 'meastracker_angle', 'pressure', 'solpos', 'sunrisesetdata', 'temp_air', 'timezone', 'wind_speed']}"
      ]
     },
     "execution_count": 8,
     "metadata": {},
     "output_type": "execute_result"
    }
   ],
   "source": [
    "metdata"
   ]
  },
  {
   "cell_type": "code",
   "execution_count": 9,
   "id": "314937d1",
   "metadata": {
    "scrolled": true
   },
   "outputs": [],
   "source": [
    "scene = demo.makeScene(module,sceneDict)"
   ]
  },
  {
   "cell_type": "code",
   "execution_count": 10,
   "id": "94810a8f",
   "metadata": {},
   "outputs": [
    {
     "data": {
      "text/plain": [
       "'skies/sky2_39.74_-105.18_2021-06-21_1200.rad'"
      ]
     },
     "execution_count": 10,
     "metadata": {},
     "output_type": "execute_result"
    }
   ],
   "source": [
    "demo.gendaylit(timeindex=0)  "
   ]
  },
  {
   "cell_type": "code",
   "execution_count": 11,
   "id": "e6d55790",
   "metadata": {},
   "outputs": [
    {
     "name": "stdout",
     "output_type": "stream",
     "text": [
      "Created bifacialvf_fixedtilt.oct\n"
     ]
    }
   ],
   "source": [
    "octfile = demo.makeOct()"
   ]
  },
  {
   "cell_type": "code",
   "execution_count": 23,
   "id": "3f17ccfd",
   "metadata": {
    "scrolled": true
   },
   "outputs": [
    {
     "ename": "AttributeError",
     "evalue": "'int' object has no attribute 'total_seconds'",
     "output_type": "error",
     "traceback": [
      "\u001b[0;31m---------------------------------------------------------------------------\u001b[0m",
      "\u001b[0;31mAttributeError\u001b[0m                            Traceback (most recent call last)",
      "Cell \u001b[0;32mIn[23], line 1\u001b[0m\n\u001b[0;32m----> 1\u001b[0m vf \u001b[38;5;241m=\u001b[39m demo\u001b[38;5;241m.\u001b[39mrunViewFactor(sensorsy\u001b[38;5;241m=\u001b[39m\u001b[38;5;241m4\u001b[39m)\n",
      "File \u001b[0;32m~/Documents/GitHub/bifacial_radiance/bifacial_radiance/main.py:3260\u001b[0m, in \u001b[0;36mRadianceObj.runViewFactor\u001b[0;34m(self, sensorsy, tracking, backtrack, transFactor, limit_angle)\u001b[0m\n\u001b[1;32m   3257\u001b[0m \u001b[38;5;28;01mif\u001b[39;00m transFactor \u001b[38;5;129;01mis\u001b[39;00m \u001b[38;5;28;01mNone\u001b[39;00m:\n\u001b[1;32m   3258\u001b[0m     transFactor \u001b[38;5;241m=\u001b[39m \u001b[38;5;241m1\u001b[39m \u001b[38;5;241m-\u001b[39m (\u001b[38;5;28mself\u001b[39m\u001b[38;5;241m.\u001b[39mmodule\u001b[38;5;241m.\u001b[39mx \u001b[38;5;241m*\u001b[39m \u001b[38;5;28mself\u001b[39m\u001b[38;5;241m.\u001b[39mmodule\u001b[38;5;241m.\u001b[39my \u001b[38;5;241m-\u001b[39m \u001b[38;5;28mself\u001b[39m\u001b[38;5;241m.\u001b[39mmodule\u001b[38;5;241m.\u001b[39mygap)\u001b[38;5;241m/\u001b[39m(\u001b[38;5;28mself\u001b[39m\u001b[38;5;241m.\u001b[39mmodule\u001b[38;5;241m.\u001b[39mscenex \u001b[38;5;241m*\u001b[39m \u001b[38;5;28mself\u001b[39m\u001b[38;5;241m.\u001b[39mmodule\u001b[38;5;241m.\u001b[39msceney)\n\u001b[0;32m-> 3260\u001b[0m bifacialvf\u001b[38;5;241m.\u001b[39msimulate(myTMY3, meta, writefiletitle\u001b[38;5;241m=\u001b[39mwritefiletitle, \n\u001b[1;32m   3261\u001b[0m     tilt\u001b[38;5;241m=\u001b[39mtilt_norm, sazm\u001b[38;5;241m=\u001b[39msazm_norm, pitch\u001b[38;5;241m=\u001b[39mpitch_norm, clearance_height\u001b[38;5;241m=\u001b[39mheight_norm, \n\u001b[1;32m   3262\u001b[0m     rowType\u001b[38;5;241m=\u001b[39mrowType, transFactor\u001b[38;5;241m=\u001b[39mtransFactor, sensorsy\u001b[38;5;241m=\u001b[39msensorsy, \n\u001b[1;32m   3263\u001b[0m     PVfrontSurface\u001b[38;5;241m=\u001b[39mPVfrontSurface, PVbackSurface\u001b[38;5;241m=\u001b[39mPVbackSurface, \n\u001b[1;32m   3264\u001b[0m     albedo\u001b[38;5;241m=\u001b[39malbedo_norm, tracking\u001b[38;5;241m=\u001b[39mtracking, backtrack\u001b[38;5;241m=\u001b[39mbacktrack, \n\u001b[1;32m   3265\u001b[0m     limit_angle\u001b[38;5;241m=\u001b[39mlimit_angle, deltastyle\u001b[38;5;241m=\u001b[39mdeltastyle)\n\u001b[1;32m   3267\u001b[0m \u001b[38;5;28;01mreturn\u001b[39;00m\n",
      "File \u001b[0;32m~/Documents/GitHub/bifacialvf/bifacialvf/bifacialvf.py:309\u001b[0m, in \u001b[0;36msimulate\u001b[0;34m(myTMY3, meta, writefiletitle, tilt, sazm, clearance_height, hub_height, pitch, rowType, transFactor, sensorsy, PVfrontSurface, PVbackSurface, albedo, tracking, backtrack, limit_angle, calculatePVMismatch, cellsnum, portraitorlandscape, bififactor, calculateBilInterpol, BilInterpolParams, deltastyle, agriPV)\u001b[0m\n\u001b[1;32m    306\u001b[0m     name \u001b[38;5;241m=\u001b[39m meta[\u001b[38;5;124m'\u001b[39m\u001b[38;5;124mcity\u001b[39m\u001b[38;5;124m'\u001b[39m] \u001b[38;5;66;03m#EPW\u001b[39;00m\n\u001b[1;32m    308\u001b[0m \u001b[38;5;66;03m## infer the data frequency in minutes\u001b[39;00m\n\u001b[0;32m--> 309\u001b[0m dataInterval \u001b[38;5;241m=\u001b[39m (myTMY3\u001b[38;5;241m.\u001b[39mindex[\u001b[38;5;241m1\u001b[39m]\u001b[38;5;241m-\u001b[39mmyTMY3\u001b[38;5;241m.\u001b[39mindex[\u001b[38;5;241m0\u001b[39m])\u001b[38;5;241m.\u001b[39mtotal_seconds()\u001b[38;5;241m/\u001b[39m\u001b[38;5;241m60\u001b[39m\n\u001b[1;32m    311\u001b[0m \u001b[38;5;28;01mif\u001b[39;00m \u001b[38;5;129;01mnot\u001b[39;00m ((\u001b[38;5;124m'\u001b[39m\u001b[38;5;124mazimuth\u001b[39m\u001b[38;5;124m'\u001b[39m \u001b[38;5;129;01min\u001b[39;00m myTMY3) \u001b[38;5;129;01mand\u001b[39;00m (\u001b[38;5;124m'\u001b[39m\u001b[38;5;124mzenith\u001b[39m\u001b[38;5;124m'\u001b[39m \u001b[38;5;129;01min\u001b[39;00m myTMY3) \u001b[38;5;129;01mand\u001b[39;00m (\u001b[38;5;124m'\u001b[39m\u001b[38;5;124melevation\u001b[39m\u001b[38;5;124m'\u001b[39m \u001b[38;5;129;01min\u001b[39;00m myTMY3)):\n\u001b[1;32m    312\u001b[0m     solpos, sunup \u001b[38;5;241m=\u001b[39m sunrisecorrectedsunposition(myTMY3, meta, deltastyle \u001b[38;5;241m=\u001b[39m deltastyle)\n",
      "\u001b[0;31mAttributeError\u001b[0m: 'int' object has no attribute 'total_seconds'"
     ]
    }
   ],
   "source": [
    "vf = demo.runViewFactor(sensorsy=4)"
   ]
  },
  {
   "cell_type": "code",
   "execution_count": null,
   "id": "677789f7",
   "metadata": {},
   "outputs": [],
   "source": []
  },
  {
   "cell_type": "code",
   "execution_count": null,
   "id": "c9ccba37",
   "metadata": {},
   "outputs": [],
   "source": []
  }
 ],
 "metadata": {
  "kernelspec": {
   "display_name": "Python 3 (ipykernel)",
   "language": "python",
   "name": "python3"
  },
  "language_info": {
   "codemirror_mode": {
    "name": "ipython",
    "version": 3
   },
   "file_extension": ".py",
   "mimetype": "text/x-python",
   "name": "python",
   "nbconvert_exporter": "python",
   "pygments_lexer": "ipython3",
   "version": "3.11.5"
  }
 },
 "nbformat": 4,
 "nbformat_minor": 5
}
