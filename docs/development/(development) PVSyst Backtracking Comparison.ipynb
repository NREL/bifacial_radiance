{
 "cells": [
  {
   "cell_type": "markdown",
   "metadata": {},
   "source": [
    "# PVSyst Backtracking Algorithm Comparison with bifacial_radiance \n",
    "#### (bifacial_radiance uses pvlib but modifies for sunrise/sunset hours)"
   ]
  },
  {
   "cell_type": "markdown",
   "metadata": {},
   "source": [
    "Sanity check for what PVSyst is doing with the \"Rotation Limits\" and \"Backtracking limit angle\". It seems to me it's the \n",
    "same as ignoring the \"backtracking limit angle\" altogether with the Lorenzo backtracking algorithm.\n",
    "\n",
    "PVSyst:\n",
    "<ul>\n",
    "    <li>VC0: tracking limit to 69.5 and backtracking limit angle to 69.4. Description on Journal 10. imported as df1.\n",
    "    <li>VC1: tracking limit to 60, and backtracking limit angle to 69.4. Description on Journal 10. imported as df2.\n",
    "</ul>\n",
    "PVlib:\n",
    "<ul>\n",
    "    <li>trackign1: limitangle = 60</li>\n",
    "    <li>tracking2: limitangle = 69.4</li>\n",
    "    <li>tracking3: limitangle = 69.4, set rotation limit to 60 as per https://forum.pvsyst.com/viewtopic.php?t=3605</li>\n",
    "    </ul>\n"
   ]
  },
  {
   "cell_type": "code",
   "execution_count": 1,
   "metadata": {},
   "outputs": [],
   "source": [
    "import matplotlib.pyplot as plt\n",
    "import pvlib\n",
    "import pandas as pd\n",
    "import numpy as np\n",
    "\n",
    "plt.rcParams['figure.figsize'] = (10, 4)\n"
   ]
  },
  {
   "cell_type": "markdown",
   "metadata": {},
   "source": [
    "## Site parameters (Site 3, Journal 10)"
   ]
  },
  {
   "cell_type": "code",
   "execution_count": 2,
   "metadata": {},
   "outputs": [],
   "source": [
    "# Axapusco, Mexico\n",
    "lat = 19.76\n",
    "lng = -98.68\n",
    "elev = 2385 #  https://es.wikipedia.org/wiki/Municipio_de_Axapusco\n",
    "gcr = 0.35\n",
    "axis_tilt = 0\n",
    "axis_azimuth = 180\n",
    "limit_angle = 60\n",
    "limit_angle2 =69.4\n",
    "backtrack = True\n",
    "tz = 'America/Mexico_City'"
   ]
  },
  {
   "cell_type": "code",
   "execution_count": 3,
   "metadata": {},
   "outputs": [],
   "source": [
    "def definePVsystOutputDecoder():\n",
    "    \n",
    "    PVsystOutputDecoder = {'NormFac' : 'Normalised performance index (ref. to STC)',\n",
    "    'Yr' : 'Reference Incident Energy in coll. Plane',\n",
    "    'Ya' : 'Normalized Array Production',\n",
    "    'Yf' : 'Normalized System Production',\n",
    "    'Lc' : 'Normalized Array Losses',\n",
    "    'Ls' : 'Normalized System Losses',\n",
    "    'Lcr' : 'Array Loss / Incident Energy Ratio',\n",
    "    'Lsr' : 'System Loss / Incident Enregy Ratio',\n",
    "    'PR' : 'Performance Ratio',\n",
    "    'Effic' : 'Efficiencies',\n",
    "    'EffArrR' : 'Effic. Eout array / rough area',\n",
    "    'EffArrC' : 'Effic. Eout arra / cells area',\n",
    "    'EffSysR' : 'Effic. Eout system / rough area',\n",
    "    'EffSysC' : 'Effic Eout system / cells area',\n",
    "    'EffInvB' : 'Inverter effic., threshold loss included',\n",
    "    'EffInvR' : 'Inverter efficiency (operating)',\n",
    "    'System' : 'System Operating Conditions',\n",
    "    'Syst_ON' : 'System operating duration',\n",
    "    'EOutInv' : 'Available Energy at Inverter Output',\n",
    "    'E_Grid' : 'Energy injected into grid',\n",
    "    'Invert' : 'Inverter Losses',\n",
    "    'InvLoss' : 'Global inverter losses',\n",
    "    'IL_Oper' : 'Inverter Loss during operation(efficiency)',\n",
    "    'IL_Pmin' : 'Inverter Loss due to power threshold',\n",
    "    'IL_Vmin' : 'Inverter Loss due to voltage threshold',\n",
    "    'IL_Pmax' : 'Inverter Loss over nominal inv. Power',\n",
    "    'IL_Vmax' : 'Inverter Loss over nominal inv. Voltage',\n",
    "    'IL_Imax' : 'Inverter Loss due to max. input current',\n",
    "    'Array' : 'PV array (field behaviour)',\n",
    "    'EArrRef' : 'Array refernece energy for PR',\n",
    "    'EArrNom' : 'Array nominal energy (at STC effic.)',\n",
    "    'GIncLss' : 'PV loss due to irradiance level',\n",
    "    'TempLss' : 'PV loss due to temperature',\n",
    "    'OP_Pmin' : 'No Description',\n",
    "    'OP_Pmax' : 'No Description',\n",
    "    'OP_Oper' : 'No Description',\n",
    "    'ModQual' : 'Module quality loss',\n",
    "    'LIDLoss' : 'LID - Light induced degradation',\n",
    "    'MisLoss' : 'Module array mismatch loss',\n",
    "    'MismBak' : 'Mismatch for back irradiance',\n",
    "    'OhmLoss' : 'Ohmic wiring loss',\n",
    "    'EArrMPP' : 'Array virtual energy at MPP',\n",
    "    'EArray' : 'Effective energy at the output of the array',\n",
    "    'TExtON' : 'Average Ambient Temperature during running',\n",
    "    'TArray' : 'Average Module Temperature during running',\n",
    "    'TArrWtd' : 'Module Temper., weighted by GlobInc',\n",
    "    'DTArr' : 'Temper. Difference modules-ambient during running',\n",
    "    'DTArrGl' : 'DTArr weighted by \"effective\" incident Global',\n",
    "    'IArray' : 'Array Current',\n",
    "    'UArray' : 'Array Voltage',\n",
    "    'ArrayON' : 'Duration of the PV production of the array',\n",
    "    'IncFact' : 'Incident energy factors',\n",
    "    'FTransp' : 'Transpostiion factor GlobInc / GlobHor',\n",
    "    'FShdGl' : 'Near Shading Factor on global',\n",
    "    'FShdBm' : 'Near Shading Factor on beam',\n",
    "    'FShdDif' : 'Near Shading Factor on sky diffuse',\n",
    "    'FShdAlb' : 'Near Shading Factor on albedo',\n",
    "    'FIAMGl' : 'IAM factor on global',\n",
    "    'FIAMBm' : 'IAM factor on beam',\n",
    "    'FIAMDif' : 'IAM facotr on sky diffuse',\n",
    "    'FIAMAlb' : 'IAM factor on albedo',\n",
    "    'FSlgGl' : 'Soiling loss factor',\n",
    "    'FSlgBm' : 'Soiling factor on beam',\n",
    "    'FSlgDif' : 'Soiling loss factor on diffuse',\n",
    "    'FSlgAlb' : 'Soiling loss factor on albedo',\n",
    "    'FIAMShd' : 'Combined IAM and shading factors on global',\n",
    "    'FEffDif' : 'IAM and shading factors on diffuse',\n",
    "    'FEffAlb' : 'IAM and shading factors on albedo',\n",
    "    'Angles' : 'Solar geometry',\n",
    "    'HSol' : 'Sun height',\n",
    "    'AzSol' : 'Sun azimuth',\n",
    "    'AngInc' : 'Incidence angle',\n",
    "    'AngProf' : 'Profile angle',\n",
    "    'PhiAng' : 'Tracking: phi angle',\n",
    "    'Transpo' : 'Transposition Variables',\n",
    "    'BeamTrp' : 'Beam, Transposed',\n",
    "    'DifITrp' : 'Diffuse Isotropic, Transposed',\n",
    "    'CircTrp' : 'Circumsolar, Transposed',\n",
    "    'HBndTrp' : 'Horizon Band, Transposed',\n",
    "    'AlbTrp' : 'Albedo, Transposed',\n",
    "    'GlobTrp' : 'Global, Tranpsosed',\n",
    "    'MetData' : 'Meteorological Data',\n",
    "    'GlobHor' : 'Horizontal global irradiation',\n",
    "    'DiffHor' : 'Horizontal diffuse irradiation',\n",
    "    'BeamHor' : 'Horizontal beam irradiation',\n",
    "    'T_Amb' : 'T amb.',\n",
    "    'WindVel' : 'Wind velocity',\n",
    "    'IncColl' : 'Incident irradiance in collector plane',\n",
    "    'GincThr' : 'Global incident below threshold',\n",
    "    'GlobInc' : 'Global incident in coll. Plane',\n",
    "    'BeamInc' : 'Beam incident in coll. Plane',\n",
    "    'DifSInc' : 'Sky Diffuse incident in coll. Plane',\n",
    "    'Alb_Inc' : 'Albedo incident in coll. Plane',\n",
    "    'Bm_Gl' : 'Incident Beam / Global ratio',\n",
    "    'DifA_Gl' : 'Incident Diffuse / Global ratio',\n",
    "    'DifS_Gl' : 'Incident Sky Diffuse / Global ratio',\n",
    "    'Alb_Gl' : 'Incident Albedo / Global ratio',\n",
    "    'GlobShd' : 'Global corrected for shading',\n",
    "    'ShdLoss' : 'Near shadings loss',\n",
    "    'ShdBLss' : 'Near shadings beam loss',\n",
    "    'ShdDLss' : 'Near shadings diffuse loss',\n",
    "    'ShdALss' : 'Near shadings albedo loss',\n",
    "    'GlobIAM' : 'Global corrected for incidente (IAM)',\n",
    "    'IAMLoss' : 'Incidence (IAM) loss',\n",
    "    'IAMBLss' : 'Incidence beam loss',\n",
    "    'IAMDLss' : 'Incidence diffuse loss',\n",
    "    'IAMALss' : 'Incidence albedo loss',\n",
    "    'GlobSlg' : 'Global corrected for soiling',\n",
    "    'SlgLoss' : 'Soiling loss',\n",
    "    'SlgBLss' : 'Soiling beam loss',\n",
    "    'SlgDLss' : 'Soiling diffuse loss',\n",
    "    'SlgALss' : 'Soiling albedo loss',\n",
    "    'GlobEff' : 'Effective Global, corr. For IAM and shadings',\n",
    "    'BeamEff' : '\"Effective\" Beam, corr. For IAM and shadings',\n",
    "    'DiffEff' : 'Effective Diffuse, corr. For IAM shadings',\n",
    "    'Alb_Eff' : '\"Effective\" Albedo, corr. For IAM and shadings',\n",
    "    'GlobGnd' : 'Global incident on ground',\n",
    "    'ReflLss' : 'Ground reflection loss (albedo)',\n",
    "    'BkVFLss' : 'View Factor for rear side',\n",
    "    'DifSBak' : 'Sky diffuse on the rear side',\n",
    "    'BackShd' : 'Shadings loss on rear side',\n",
    "    'GlobBak' : 'Global Irradiance on rear side',\n",
    "    'ReflFrt' : 'Ground reflection on front side',\n",
    "    'ReflBck' : 'Ground reflection on back side',\n",
    "    'BmIncBk' : 'Beamincident on the rear side',\n",
    "    'BmSFBak' : 'Beam shading factor on the rear side',\n",
    "    'BIAMFBk' : 'Beam IAM factor on the rear side',\n",
    "    'BeamBak' : 'Beam effective on the rear side'}\n",
    "\n",
    "    return PVsystOutputDecoder\n",
    "\n",
    "def readPVSystOutputFile(filename):\n",
    "    '''\n",
    "    Reads a PVSYSt hourly output file, puts it in dataframe format and returns a \n",
    "    column header decoder to understand all the variables that name the columns.\n",
    "    Also returns any metadata included in the file.\n",
    "    \n",
    "    Input\n",
    "    -----\n",
    "    filename       PVsyst hourly simulation output file(.csv)\n",
    "    \n",
    "    Returns\n",
    "    -------\n",
    "    df             Dataframe with the hourly simulation results. Columns are named for each variable.\n",
    "    columnheaders  Decoder for the column header names, which are variables. This ties the available columns with the description of that variable.\n",
    "    metdata        metdata included in the pvsyst file.\n",
    "    \n",
    "    '''\n",
    "    \n",
    "    import pandas as pd\n",
    "    import csv\n",
    "    \n",
    "    f = open(filename)\n",
    "    \n",
    "    # Save metdata from file\n",
    "    metdata=[]\n",
    "    for i in range(10):  # skip the first 13 lines that are useless for the columns definition\n",
    "        metdata.append(f.readline())  # use the resulting string for metadata extraction\n",
    "      \n",
    "    headers = f.readline().split(\";\")\n",
    "    headers[-1] = headers[-1].strip()\n",
    "\n",
    "    units = f.readline().split(\";\")\n",
    "    units[-1] = units[-1].strip()\n",
    "\n",
    "    PVsystOutputDecoder = definePVsystOutputDecoder()\n",
    "    \n",
    "    # Creating a dictionary for headers, units and their definition\n",
    "    columnheaders = {}    \n",
    "    for i in range (1, len(headers)):\n",
    "        columnheaders[headers[i]] = {'Definition' : PVsystOutputDecoder[headers[i]],\n",
    "                     'Units': units[i]}\n",
    "    \n",
    "    df = pd.read_csv(f, sep=\";\", names=headers)   \n",
    "    df.index = pd.to_datetime(df['date'], dayfirst=True)\n",
    "    \n",
    "    return df, columnheaders, metdata"
   ]
  },
  {
   "cell_type": "code",
   "execution_count": 4,
   "metadata": {},
   "outputs": [],
   "source": [
    "df1 = r'C:\\Users\\sayala\\Desktop\\Costal\\PVSyst\\UserHourly\\Costal3_VC0_HourlyRes_0.CSV'  #  Orientation > Tracker Limit 69.4\n",
    "df2 = r'C:\\Users\\sayala\\PVsyst680_Data\\UserHourly\\Costal3_VC1_HourlyRes_0.CSV'  # Orientation > Tracker limit 60 \n",
    "\n",
    "df1,columnheaders1,pvsyst_metdata1 = readPVSystOutputFile(df1)\n",
    "df2,columnheaders2,pvsyst_metdata2 = readPVSystOutputFile(df2)\n",
    "\n",
    "#df1 = df1.tz_localize('Etc/GMT-6')\n",
    "#df2 = df2.tz_localize('Etc/GMT-6')\n",
    "df1 = df1.tz_localize(tz)\n",
    "df2 = df2.tz_localize(tz)"
   ]
  },
  {
   "cell_type": "markdown",
   "metadata": {},
   "source": [
    "## SIMPLIFIED Sun Position\n",
    "\n",
    "Not really using this one, because it's not the one bifacial_radiance is using"
   ]
  },
  {
   "cell_type": "code",
   "execution_count": 5,
   "metadata": {},
   "outputs": [
    {
     "name": "stderr",
     "output_type": "stream",
     "text": [
      "C:\\ProgramData\\Anaconda3\\lib\\site-packages\\pvlib\\tracking.py:568: RuntimeWarning: invalid value encountered in remainder\n",
      "  surface_azimuth = surface_azimuth % 360\n"
     ]
    }
   ],
   "source": [
    "tz = 'America/Mexico_City'\n",
    "times = pd.date_range('1990-01-01 00:00:00', '1991-01-01', closed='left', freq='H', tz=tz)\n",
    "\n",
    "solpos = pvlib.solarposition.get_solarposition(times, lat, lng)\n",
    "\n",
    "# remove nighttime\n",
    "solpos = solpos.loc[solpos['apparent_elevation'] > 0, :]\n",
    "\n",
    "trackingdata = pvlib.tracking.singleaxis(solpos['zenith'],\n",
    "                                         solpos['azimuth'],\n",
    "                                         axis_tilt,\n",
    "                                         axis_azimuth,\n",
    "                                         limit_angle,\n",
    "                                         backtrack,\n",
    "                                         gcr)"
   ]
  },
  {
   "cell_type": "markdown",
   "metadata": {},
   "source": [
    "## IMPROVED SUNRISE/SUNSET Sun Position"
   ]
  },
  {
   "cell_type": "code",
   "execution_count": 12,
   "metadata": {},
   "outputs": [
    {
     "name": "stdout",
     "output_type": "stream",
     "text": [
      "Calculating Sun position with a delta of +30 mins. i.e. 12 is 12:30 sunpos\n",
      "This is what SAM and PVSyst do since May 2019.\n"
     ]
    },
    {
     "name": "stderr",
     "output_type": "stream",
     "text": [
      "C:\\ProgramData\\Anaconda3\\lib\\site-packages\\pvlib\\tracking.py:449: RuntimeWarning: invalid value encountered in arccos\n",
      "  wc = np.degrees(np.arccos(temp))\n",
      "C:\\ProgramData\\Anaconda3\\lib\\site-packages\\pvlib\\tracking.py:473: RuntimeWarning: invalid value encountered in arccos\n",
      "  aoi = np.degrees(np.arccos(np.abs(np.sum(sun_vec*panel_norm, axis=0))))\n",
      "C:\\ProgramData\\Anaconda3\\lib\\site-packages\\pvlib\\tracking.py:568: RuntimeWarning: invalid value encountered in remainder\n",
      "  surface_azimuth = surface_azimuth % 360\n",
      "C:\\ProgramData\\Anaconda3\\lib\\site-packages\\pvlib\\tracking.py:572: RuntimeWarning: invalid value encountered in arccos\n",
      "  surface_tilt = 90 - np.degrees(np.arccos(dotproduct))\n"
     ]
    }
   ],
   "source": [
    "times = pd.date_range('1990-01-01 00:00:00', '1991-01-01', closed='left', freq='H', tz=tz)\n",
    "\n",
    "interval = times[1]-times[0]\n",
    "\n",
    "print(\"Calculating Sun position with a delta of +30 mins. i.e. 12 is 12:30 sunpos\")\n",
    "print(\"This is what SAM and PVSyst do since May 2019.\")\n",
    "\n",
    "sunup= pvlib.irradiance.solarposition.sun_rise_set_transit_spa(times, lat, lng) \n",
    "\n",
    "sunup['minutedelta']= int(interval.seconds/2/60) # default sun angle 30 minutes after timestamp\n",
    "# vector update of minutedelta at sunrise\n",
    "sunrisemask = sunup.index.hour==sunup['sunrise'].dt.hour\n",
    "sunup['minutedelta'].mask(sunrisemask,np.floor((60-(sunup['sunrise'].dt.minute))/2+(sunup['sunrise'].dt.minute)),inplace=True)\n",
    "# vector update of minutedelta at sunset\n",
    "sunsetmask = sunup.index.hour==sunup['sunset'].dt.hour\n",
    "sunup['minutedelta'].mask(sunsetmask,np.floor((sunup['sunset'].dt.minute)/2),inplace=True)\n",
    "# save corrected timestamp\n",
    "sunup['corrected_timestamp'] = sunup.index+pd.to_timedelta(sunup['minutedelta'], unit='m')\n",
    "\n",
    "solpos = pvlib.irradiance.solarposition.get_solarposition(sunup['corrected_timestamp'],lat,lng,elev)   \n",
    "solpos['Sun position time'] = solpos.index\n",
    "solpos.index = times\n",
    "\n",
    "trackingdata = pvlib.tracking.singleaxis(solpos['zenith'],\n",
    "                                         solpos['azimuth'],\n",
    "                                         axis_tilt,\n",
    "                                         axis_azimuth,\n",
    "                                         limit_angle,\n",
    "                                         backtrack,\n",
    "                                         gcr)\n",
    "\n",
    "trackingdata2 = pvlib.tracking.singleaxis(solpos['zenith'],\n",
    "                                         solpos['azimuth'],\n",
    "                                         axis_tilt,\n",
    "                                         axis_azimuth,\n",
    "                                         limit_angle2,\n",
    "                                         backtrack,\n",
    "                                         gcr)"
   ]
  },
  {
   "cell_type": "markdown",
   "metadata": {},
   "source": [
    "## Applying The Rotation Limitation to the Backtracking Limit Angle"
   ]
  },
  {
   "cell_type": "code",
   "execution_count": 7,
   "metadata": {},
   "outputs": [],
   "source": [
    "tracking3 = trackingdata2.copy() \n",
    "tracking3[tracking3 > 60] = 60\n",
    "tracking3[tracking3 < -60] = -60"
   ]
  },
  {
   "cell_type": "code",
   "execution_count": 11,
   "metadata": {},
   "outputs": [
    {
     "data": {
      "text/plain": [
       "<matplotlib.legend.Legend at 0x2406cbcf438>"
      ]
     },
     "execution_count": 11,
     "metadata": {},
     "output_type": "execute_result"
    },
    {
     "data": {
      "image/png": "[encoded data removed]",
      "text/plain": [
       "<Figure size 720x288 with 1 Axes>"
      ]
     },
     "metadata": {
      "needs_background": "light"
     },
     "output_type": "display_data"
    }
   ],
   "source": [
    "t1S = '1990-06-06 3:0:0'\n",
    "t2S = '1990-06-06 21:0:0'\n",
    "\n",
    "x=[1,2,3,4,5,6,7,8,9,10,11,12,13,14,15,16,17,18,19,20,21,22,23]\n",
    "\n",
    "foo1 = df1[(df1.index>t1S) & (df1.index<t2S)]\n",
    "foo2 = df2[(df2.index>t1S) & (df2.index<t2S)]\n",
    "foo3 = trackingdata[(trackingdata.index>t1S) & (trackingdata.index<t2S)]\n",
    "foo4 = trackingdata2[(trackingdata2.index>t1S) & (trackingdata2.index<t2S)]\n",
    "foo5 = tracking3[(tracking3.index>t1S) & (tracking3.index<t2S)]\n",
    "\n",
    "plt.plot(foo2['PhiAng'], 'b*', label='PVSyst, Tracker Limit 60')\n",
    "plt.plot(foo3['tracker_theta'], label='PVLib Lorenzo Backtracking algorithm, limit 60')\n",
    "plt.plot(foo1['PhiAng'], 'r.', label='PVSyst, Tracker Limit 69.4')\n",
    "plt.plot(foo4['tracker_theta'], label='PVLib Lorenzo Backtracking algorithm, limit 69.4')\n",
    "plt.plot(foo5['tracker_theta'], label='PVLib Lorenzo Backtracking algorithm, limit 69.4 rotation lim. 60')\n",
    "plt.legend()"
   ]
  }
 ],
 "metadata": {
  "kernelspec": {
   "display_name": "Python 3",
   "language": "python",
   "name": "python3"
  },
  "language_info": {
   "codemirror_mode": {
    "name": "ipython",
    "version": 3
   },
   "file_extension": ".py",
   "mimetype": "text/x-python",
   "name": "python",
   "nbconvert_exporter": "python",
   "pygments_lexer": "ipython3",
   "version": "3.7.3"
  }
 },
 "nbformat": 4,
 "nbformat_minor": 2
}
