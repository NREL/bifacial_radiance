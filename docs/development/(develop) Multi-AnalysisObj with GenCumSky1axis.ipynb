{
 "cells": [
  {
   "cell_type": "code",
   "execution_count": 1,
   "metadata": {},
   "outputs": [
    {
     "name": "stdout",
     "output_type": "stream",
     "text": [
      "Your simulation will be stored in C:\\Users\\sayala\\Documents\\GitHub\\bifacial_radiance\\bifacial_radiance\\TEMP\\Tutorial_02\n"
     ]
    }
   ],
   "source": [
    "import os\n",
    "from pathlib import Path\n",
    "from bifacial_radiance import *\n",
    "import numpy as np\n",
    "\n",
    "testfolder = Path().resolve().parent.parent / 'bifacial_radiance' / 'TEMP' / 'Tutorial_02'\n",
    "if not os.path.exists(testfolder):\n",
    "    os.makedirs(testfolder)  \n",
    "print (\"Your simulation will be stored in %s\" % testfolder)"
   ]
  },
  {
   "cell_type": "code",
   "execution_count": 2,
   "metadata": {
    "scrolled": true
   },
   "outputs": [
    {
     "name": "stdout",
     "output_type": "stream",
     "text": [
      "path = C:\\Users\\sayala\\Documents\\GitHub\\bifacial_radiance\\bifacial_radiance\\TEMP\\Tutorial_02\n",
      "Loading albedo, 1 value(s), 0.250 avg\n",
      "1 nonzero albedo values.\n",
      "8760 line in WeatherFile. Assuming this is a standard hourly WeatherFile for the year for purposes of saving Gencumulativesky temporary weather files in EPW folder.\n",
      "Coercing year to 2021\n",
      "Saving file EPWs\\metdata_temp.csv, # points: 8760\n",
      "Calculating Sun position for Metdata that is right-labeled  with a delta of -30 mins. i.e. 12 is 11:30 sunpos\n",
      "Saving file EPWs\\1axis_-5.0.csv, # points: 2214\n",
      "Saving file EPWs\\1axis_0.0.csv, # points: 57\n",
      "Saving file EPWs\\1axis_5.0.csv, # points: 2096\n",
      "message: There were 2174 sun up hours in this climate file\n",
      "Total Ibh/Lbh: 0.000000\n",
      "Created skyfile skies\\1axis_-5.0.rad\n",
      "message: There were 50 sun up hours in this climate file\n",
      "Total Ibh/Lbh: 0.000000\n",
      "Created skyfile skies\\1axis_0.0.rad\n",
      "message: There were 2065 sun up hours in this climate file\n",
      "Total Ibh/Lbh: 0.000000\n",
      "Created skyfile skies\\1axis_5.0.rad\n",
      "\n",
      "Module Name: test-module\n",
      "Module test-module updated in module.json\n",
      "Pre-existing .rad file objects\\test-module.rad will be overwritten\n",
      "\n",
      "\n",
      "Making .rad files for cumulativesky 1-axis workflow\n",
      "3 Radfiles created in /objects/\n",
      "\n",
      "Making 3 octfiles in root directory.\n",
      "Created 1axis_-5.0.oct\n",
      "Created 1axis_0.0.oct\n",
      "Created 1axis_5.0.oct\n",
      "Linescan in process: 1axis_-5.0_MyCustomName_Row2_Module1_Front\n",
      "Linescan in process: 1axis_-5.0_MyCustomName_Row2_Module1_Back\n",
      "Saved: results\\irr_1axis_-5.0_MyCustomName_Row2_Module1.csv\n",
      "Index: -5.0. Wm2Front: 755796.5222222223. Wm2Back: 159893.16666666666\n",
      "Linescan in process: 1axis_-5.0_MyCustomName_Row2_Module4_Front\n",
      "Linescan in process: 1axis_-5.0_MyCustomName_Row2_Module4_Back\n",
      "Saved: results\\irr_1axis_-5.0_MyCustomName_Row2_Module4.csv\n",
      "Index: -5.0. Wm2Front: 752132.0555555556. Wm2Back: 143038.05555555556\n",
      "Linescan in process: 1axis_0.0_MyCustomName_Row2_Module1_Front\n",
      "Linescan in process: 1axis_0.0_MyCustomName_Row2_Module1_Back\n",
      "Saved: results\\irr_1axis_0.0_MyCustomName_Row2_Module1.csv\n",
      "Index: 0.0. Wm2Front: 1230.7138888888887. Wm2Back: 281.56683333333336\n",
      "Linescan in process: 1axis_0.0_MyCustomName_Row2_Module4_Front\n",
      "Linescan in process: 1axis_0.0_MyCustomName_Row2_Module4_Back\n",
      "Saved: results\\irr_1axis_0.0_MyCustomName_Row2_Module4.csv\n",
      "Index: 0.0. Wm2Front: 1260.0502222222224. Wm2Back: 243.4861666666667\n",
      "Linescan in process: 1axis_5.0_MyCustomName_Row2_Module1_Front\n",
      "Linescan in process: 1axis_5.0_MyCustomName_Row2_Module1_Back\n",
      "Saved: results\\irr_1axis_5.0_MyCustomName_Row2_Module1.csv\n",
      "Index: 5.0. Wm2Front: 849577.1111111111. Wm2Back: 178235.71111111113\n",
      "Linescan in process: 1axis_5.0_MyCustomName_Row2_Module4_Front\n",
      "Linescan in process: 1axis_5.0_MyCustomName_Row2_Module4_Back\n",
      "Saved: results\\irr_1axis_5.0_MyCustomName_Row2_Module4.csv\n",
      "Index: 5.0. Wm2Front: 845418.5222222223. Wm2Back: 164148.86666666667\n"
     ]
    }
   ],
   "source": [
    "demo = RadianceObj('tutorial_2', path = str(testfolder))  \n",
    "demo.setGround(0.25)\n",
    "#epwfile = demo.getEPW(lat = 37.5, lon = -77.6)  # This location corresponds to Richmond, VA.\n",
    "epwfile = r'EPWs\\USA_VA_Richmond.724010_TMY2.epw'\n",
    "metdata = demo.readWeatherFile(weatherFile = epwfile) \n",
    "\n",
    "limit_angle = 5 # tracker rotation limit angle. Setting it ridiculously small so this runs faster.\n",
    "angledelta = 5 # sampling between the limit angles. \n",
    "backtrack = True\n",
    "gcr = 0.33\n",
    "cumulativesky = True # This is important for this example!\n",
    "trackerdict = demo.set1axis(metdata = metdata, limit_angle = limit_angle, backtrack = backtrack, \n",
    "                            gcr = gcr, cumulativesky = cumulativesky)\n",
    "trackerdict = demo.genCumSky1axis()\n",
    "module = demo.makeModule(name='test-module', x=1, y=2)\n",
    "sceneDict = {'gcr': gcr,'hub_height':2.3, 'nMods': 5, 'nRows': 2}  \n",
    "trackerdict = demo.makeScene1axis(trackerdict = trackerdict, module = module, sceneDict = sceneDict) \n",
    "trackerdict = demo.makeOct1axis(trackerdict = trackerdict)\n",
    "trackerdict = demo.analysis1axis(trackerdict, modWanted=[1,4], rowWanted = 2, customname='_MyCustomName')"
   ]
  },
  {
   "cell_type": "code",
   "execution_count": 3,
   "metadata": {
    "scrolled": true
   },
   "outputs": [
    {
     "name": "stdout",
     "output_type": "stream",
     "text": [
      "Bifaciality factor of module stored is  1\n"
     ]
    }
   ],
   "source": [
    "trackerdict= demo.calculateResults()"
   ]
  },
  {
   "cell_type": "code",
   "execution_count": 4,
   "metadata": {
    "scrolled": true
   },
   "outputs": [
    {
     "data": {
      "text/html": [
       "<div>\n",
       "<style scoped>\n",
       "    .dataframe tbody tr th:only-of-type {\n",
       "        vertical-align: middle;\n",
       "    }\n",
       "\n",
       "    .dataframe tbody tr th {\n",
       "        vertical-align: top;\n",
       "    }\n",
       "\n",
       "    .dataframe thead th {\n",
       "        text-align: right;\n",
       "    }\n",
       "</style>\n",
       "<table border=\"1\" class=\"dataframe\">\n",
       "  <thead>\n",
       "    <tr style=\"text-align: right;\">\n",
       "      <th></th>\n",
       "      <th>row</th>\n",
       "      <th>module</th>\n",
       "      <th>BGG</th>\n",
       "      <th>Gfront_mean</th>\n",
       "      <th>Grear_mean</th>\n",
       "      <th>POA_eff</th>\n",
       "      <th>Wm2Back</th>\n",
       "    </tr>\n",
       "  </thead>\n",
       "  <tbody>\n",
       "    <tr>\n",
       "      <th>0</th>\n",
       "      <td>2</td>\n",
       "      <td>1</td>\n",
       "      <td>21.063708</td>\n",
       "      <td>1.606604e+06</td>\n",
       "      <td>338410.444611</td>\n",
       "      <td>[1943770.7070222222, 1943636.5326222226, 19435...</td>\n",
       "      <td>[337166.3598, 337032.1854, 336940.0101, 337298...</td>\n",
       "    </tr>\n",
       "    <tr>\n",
       "      <th>1</th>\n",
       "      <td>2</td>\n",
       "      <td>4</td>\n",
       "      <td>19.228694</td>\n",
       "      <td>1.598811e+06</td>\n",
       "      <td>307430.408389</td>\n",
       "      <td>[1903944.4531, 1903650.9507000002, 1903711.037...</td>\n",
       "      <td>[305133.8251, 304840.32269999996, 304900.4098,...</td>\n",
       "    </tr>\n",
       "  </tbody>\n",
       "</table>\n",
       "</div>"
      ],
      "text/plain": [
       "   row  module        BGG   Gfront_mean     Grear_mean  \\\n",
       "0    2       1  21.063708  1.606604e+06  338410.444611   \n",
       "1    2       4  19.228694  1.598811e+06  307430.408389   \n",
       "\n",
       "                                             POA_eff  \\\n",
       "0  [1943770.7070222222, 1943636.5326222226, 19435...   \n",
       "1  [1903944.4531, 1903650.9507000002, 1903711.037...   \n",
       "\n",
       "                                             Wm2Back  \n",
       "0  [337166.3598, 337032.1854, 336940.0101, 337298...  \n",
       "1  [305133.8251, 304840.32269999996, 304900.4098,...  "
      ]
     },
     "execution_count": 4,
     "metadata": {},
     "output_type": "execute_result"
    }
   ],
   "source": [
    "demo.CompiledResults"
   ]
  },
  {
   "cell_type": "code",
   "execution_count": null,
   "metadata": {},
   "outputs": [],
   "source": [
    "import pandas as pd\n",
    "\n",
    "keys = list(trackerdict.keys())\n",
    "\n",
    "temp_air = []\n",
    "wind_speed = []\n",
    "Wm2Front = []\n",
    "Wm2Back = []\n",
    "rearMat = []\n",
    "frontMat = []\n",
    "rowWanted = []\n",
    "modWanted = []\n",
    "keys_all = []\n",
    "\n",
    "for key in keys:\n",
    "    for row_mod in trackerdict[key]['Results']: # loop over multiple row & module in trackerDict['Results']\n",
    "        keys_all.append(key)               \n",
    "        Wm2Front.append(row_mod['AnalysisObj'].Wm2Front)\n",
    "        Wm2Back.append(row_mod['AnalysisObj'].Wm2Back)\n",
    "        frontMat.append(row_mod['AnalysisObj'].mattype)\n",
    "        rearMat.append(row_mod['AnalysisObj'].rearMat)\n",
    "        rowWanted.append(row_mod['AnalysisObj'].rowWanted)\n",
    "        modWanted.append(row_mod['AnalysisObj'].modWanted)     \n",
    "        if demo.cumulativesky is False:\n",
    "            temp_air.append(trackerdict[key]['temp_air'])\n",
    "            wind_speed.append(trackerdict[key]['wind_speed'])\n",
    "\n",
    "# trackerdict[key]['effective_irradiance'] = eff_irrad\n",
    "\n",
    "data= pd.DataFrame(zip(keys_all, rowWanted, modWanted, \n",
    "                       Wm2Front, Wm2Back, frontMat, rearMat), \n",
    "                                 columns=('timestamp', 'row','module',\n",
    "                                          'Wm2Front', 'Wm2Back', 'mattype',\n",
    "                                          'rearMat'))"
   ]
  },
  {
   "cell_type": "code",
   "execution_count": null,
   "metadata": {},
   "outputs": [],
   "source": [
    "data"
   ]
  },
  {
   "cell_type": "code",
   "execution_count": null,
   "metadata": {},
   "outputs": [],
   "source": [
    "demo"
   ]
  },
  {
   "cell_type": "code",
   "execution_count": null,
   "metadata": {},
   "outputs": [],
   "source": [
    "1.609801e+06+336657.59390000004"
   ]
  },
  {
   "cell_type": "markdown",
   "metadata": {},
   "source": [
    "# results = performance.calculateResultsGencumsky1axis(results=data)\n"
   ]
  },
  {
   "cell_type": "code",
   "execution_count": null,
   "metadata": {},
   "outputs": [],
   "source": [
    "csvfile = None\n",
    "dfst=pd.DataFrame()\n",
    "results = data.copy()\n",
    "\n",
    "if csvfile is not None:\n",
    "    data = pd.read_csv(csvfile)\n",
    "    Wm2Front = data['Wm2Front'].str.strip('[]').str.split(',', expand=True).astype(float)\n",
    "    Wm2Back = data['Wm2Back'].str.strip('[]').str.split(',', expand=True).astype(float)\n",
    "    mattype = data['mattype'].str.strip('[]').str.split(',', expand=True)\n",
    "    rearMat = data['rearMat'].str.strip('[]').str.split(',', expand=True)\n",
    "\n",
    "    if 'timestamp' in data:\n",
    "        dfst['timestamp'] = data['timestamp']\n",
    "    if 'ModNumber' in data:\n",
    "        dfst['ModNumber'] = data['ModNumber']\n",
    "    if 'Row' in data:\n",
    "        dfst['rowNum'] = data['Row']\n",
    "else:\n",
    "    if results is not None:\n",
    "        Wm2Front = pd.DataFrame.from_dict(dict(zip(results.index,results['Wm2Front']))).T\n",
    "        Wm2Back = pd.DataFrame.from_dict(dict(zip(results.index,results['Wm2Back']))).T\n",
    "        mattype = pd.DataFrame.from_dict(dict(zip(results.index,results['mattype']))).T\n",
    "        rearMat = pd.DataFrame.from_dict(dict(zip(results.index,results['rearMat']))).T\n",
    "\n",
    "        if 'timestamp' in results:\n",
    "            dfst['timestamp'] = results['timestamp']\n",
    "        if 'ModNumber' in results:\n",
    "            dfst['ModNumber'] = results['ModNumber']\n",
    "        if 'Row' in results:\n",
    "            dfst['rowNum'] = results['Row']\n",
    "\n",
    "    else:\n",
    "        print(\"Data or file not passed. Ending calculateResults\")\n"
   ]
  },
  {
   "cell_type": "code",
   "execution_count": null,
   "metadata": {},
   "outputs": [],
   "source": [
    "filledFront,filledBack = performance._cleanDataFrameResults(mattype, rearMat, Wm2Front, Wm2Back, fillcleanedSensors=True)\n"
   ]
  },
  {
   "cell_type": "code",
   "execution_count": null,
   "metadata": {},
   "outputs": [],
   "source": [
    "filledFront"
   ]
  },
  {
   "cell_type": "code",
   "execution_count": null,
   "metadata": {},
   "outputs": [],
   "source": [
    "demo.CompiledResults"
   ]
  },
  {
   "cell_type": "code",
   "execution_count": null,
   "metadata": {},
   "outputs": [],
   "source": [
    "filledBack"
   ]
  },
  {
   "cell_type": "code",
   "execution_count": null,
   "metadata": {},
   "outputs": [],
   "source": [
    "dfst"
   ]
  },
  {
   "cell_type": "code",
   "execution_count": null,
   "metadata": {},
   "outputs": [],
   "source": [
    "dfst['Wm2Back'].iloc[0]"
   ]
  },
  {
   "cell_type": "code",
   "execution_count": null,
   "metadata": {},
   "outputs": [],
   "source": [
    "dfst['POA_eff'].iloc[0]"
   ]
  },
  {
   "cell_type": "code",
   "execution_count": null,
   "metadata": {},
   "outputs": [],
   "source": [
    "bifacialityfactor=1"
   ]
  },
  {
   "cell_type": "code",
   "execution_count": null,
   "metadata": {},
   "outputs": [],
   "source": [
    "filledBack[mask].apply(lambda x: x*bifacialityfactor + filledFront[mask]).sum(axis=0)"
   ]
  },
  {
   "cell_type": "code",
   "execution_count": null,
   "metadata": {},
   "outputs": [],
   "source": [
    "cumFront=[]\n",
    "cumBack=[]\n",
    "cumRow=[]\n",
    "cumMod=[]\n",
    "Grear_mean=[]\n",
    "#    Gfront_mean=[]\n",
    "POA_eff=[]   \n",
    "\n",
    "for rownum in results['row'].unique():\n",
    "    for modnum in results['module'].unique():\n",
    "        mask = (results['row']==rownum) & (results['module']==modnum)\n",
    "        cumBack.append(list(filledBack[mask].sum(axis=0)))\n",
    "        cumFront.append(filledFront[mask].sum(axis=0))\n",
    "        cumRow.append(rownum)\n",
    "        cumMod.append(modnum)\n",
    "\n",
    "        # Maybe this would be faster by first doing the DF with the above,\n",
    "        # exploding the column and calculating. \n",
    "        POA_eff.append(list((filledBack[mask].apply(lambda x: x*bifacialityfactor + filledFront[mask])).sum(axis=0)))\n",
    "        Grear_mean.append(filledBack[mask].sum(axis=0).mean())\n",
    "#           Gfront_mean.append(filledFront[mask].sum(axis=0).mean())\n",
    "\n",
    "dfst= pd.DataFrame(zip(cumRow, cumMod, cumFront, \n",
    "                       cumBack, Grear_mean,POA_eff),\n",
    "                                 columns=('row','module',\n",
    "                                          'Gfront_mean', 'Wm2Back',\n",
    "                                          'Grear_mean',\n",
    "                                          'POA_eff'))\n",
    "\n",
    "dfst['BGG'] = dfst['Grear_mean']*100*bifacialityfactor/dfst['Gfront_mean']\n",
    "\n",
    "# Reordering columns    \n",
    "cols = ['row', 'module', 'BGG', 'Gfront_mean', 'Grear_mean', 'POA_eff', 'Wm2Back']\n",
    "dfst = dfst[cols]"
   ]
  },
  {
   "cell_type": "code",
   "execution_count": null,
   "metadata": {},
   "outputs": [],
   "source": [
    "filledFront"
   ]
  },
  {
   "cell_type": "code",
   "execution_count": null,
   "metadata": {},
   "outputs": [],
   "source": [
    "filledBack"
   ]
  },
  {
   "cell_type": "code",
   "execution_count": null,
   "metadata": {},
   "outputs": [],
   "source": [
    "dfst.iloc[0]['POA_eff']"
   ]
  },
  {
   "cell_type": "code",
   "execution_count": null,
   "metadata": {},
   "outputs": [],
   "source": []
  },
  {
   "cell_type": "code",
   "execution_count": null,
   "metadata": {},
   "outputs": [],
   "source": [
    "data"
   ]
  },
  {
   "cell_type": "code",
   "execution_count": null,
   "metadata": {},
   "outputs": [],
   "source": [
    "filledBack"
   ]
  },
  {
   "cell_type": "code",
   "execution_count": null,
   "metadata": {},
   "outputs": [],
   "source": [
    "bifacialityfactor=1"
   ]
  },
  {
   "cell_type": "code",
   "execution_count": null,
   "metadata": {},
   "outputs": [],
   "source": [
    "filledBack[mask].sum(axis=0).mean()"
   ]
  },
  {
   "cell_type": "code",
   "execution_count": null,
   "metadata": {},
   "outputs": [],
   "source": [
    "cumFront=[]\n",
    "cumBack=[]\n",
    "cumRow=[]\n",
    "cumMod=[]\n",
    "Grear_mean=[]\n",
    "Gfront_mean=[]\n",
    "POA_eff=[]\n",
    "BGG = []\n",
    "\n",
    "\n",
    "for rownum in results['row'].unique():\n",
    "    for modnum in results['module'].unique():\n",
    "        mask = (results['row']==rownum) & (results['module']==modnum)\n",
    "        cumBack.append(filledBack[mask].sum(axis=0))\n",
    "        cumFront.append(filledFront[mask].sum(axis=0))\n",
    "        cumRow.append(rownum)\n",
    "        cumMod.append(modnum)\n",
    "\n",
    "        # Maybe this would be faster by first doing the DF with the above,\n",
    "        # exploding the column and calculating. \n",
    "        POA_eff.append((filledBack[mask].apply(lambda x: x*bifacialityfactor + filledFront[mask])).mean(axis=1))\n",
    "        Grear_mean.append(filledBack[mask].sum(axis=0).mean())\n",
    "        Gfront_mean.append(filledFront[mask].sum(axis=0).mean())"
   ]
  },
  {
   "cell_type": "code",
   "execution_count": null,
   "metadata": {},
   "outputs": [],
   "source": []
  },
  {
   "cell_type": "code",
   "execution_count": null,
   "metadata": {},
   "outputs": [],
   "source": [
    "dfst['BGG'] = dfst['Grear_mean']*100/dfst['Gfront_mean']\n",
    "dfst"
   ]
  },
  {
   "cell_type": "code",
   "execution_count": null,
   "metadata": {},
   "outputs": [],
   "source": [
    "list(dfst['POA_eff'].iloc[0])"
   ]
  },
  {
   "cell_type": "code",
   "execution_count": null,
   "metadata": {},
   "outputs": [],
   "source": [
    "cumFront=[]\n",
    "cumBack=[]\n",
    "cumRow=[]\n",
    "cumMod=[]\n",
    "Grear_mean=[]\n",
    "Gfront_mean=[]\n",
    "POA_eff=[]\n",
    "BGG = []\n",
    "\n",
    "\n",
    "for rownum in results['row'].unique():\n",
    "    for modnum in results['module'].unique():\n",
    "        mask = (results['row']==rownum) & (results['module']==modnum)\n",
    "        cumBack.append(list(filledBack[mask].sum(axis=0)))\n",
    "        cumFront.append(filledFront[mask].sum(axis=0))\n",
    "        cumRow.append(rownum)\n",
    "        cumMod.append(modnum)\n",
    "\n",
    "        # Maybe this would be faster by first doing the DF with the above,\n",
    "        # exploding the column and calculating. \n",
    "        POA_eff.append(list((filledBack[mask].apply(lambda x: x*bifacialityfactor + filledFront[mask])).mean(axis=0)))\n",
    "        Grear_mean.append(filledBack[mask].sum(axis=0).mean())\n",
    "        Gfront_mean.append(filledFront[mask].sum(axis=0).mean())"
   ]
  },
  {
   "cell_type": "code",
   "execution_count": null,
   "metadata": {},
   "outputs": [],
   "source": [
    "dfst= pd.DataFrame(zip(cumRow, cumMod, cumFront, \n",
    "                       cumBack, Gfront_mean,Grear_mean,POA_eff),\n",
    "                                 columns=('row','module',\n",
    "                                          'Wm2Front', 'Wm2Back',\n",
    "                                          'Gfront_mean', 'Grear_mean',\n",
    "                                          'POA_eff'))\n",
    "dfst"
   ]
  },
  {
   "cell_type": "code",
   "execution_count": null,
   "metadata": {},
   "outputs": [],
   "source": [
    "dfst['BGG'] = dfst['Grear_mean']*100/dfst['Gfront_mean']"
   ]
  },
  {
   "cell_type": "code",
   "execution_count": null,
   "metadata": {},
   "outputs": [],
   "source": [
    "dfst"
   ]
  },
  {
   "cell_type": "code",
   "execution_count": null,
   "metadata": {},
   "outputs": [],
   "source": [
    "dfst.POA_eff.iloc[0]"
   ]
  },
  {
   "cell_type": "code",
   "execution_count": null,
   "metadata": {},
   "outputs": [],
   "source": [
    "data['module'].unique()"
   ]
  },
  {
   "cell_type": "code",
   "execution_count": null,
   "metadata": {},
   "outputs": [],
   "source": [
    "trackerdict = demo.trackerdict\n",
    "\n",
    "temp_air = []\n",
    "wind_speed = []\n",
    "Wm2Front = []\n",
    "Wm2Back = []\n",
    "rearMat = []\n",
    "frontMat = []\n",
    "rowWanted = []\n",
    "modWanted = []\n",
    "keys_all = []\n",
    "\n",
    "for key in keys:\n",
    "        for row_mod in trackerdict[key]['Results']: # loop over multiple row & module in trackerDict['Results']\n",
    "            keys_all.append(key)               \n",
    "            Wm2Front.append(row_mod['AnalysisObj'].Wm2Front)\n",
    "            Wm2Back.append(row_mod['AnalysisObj'].Wm2Back)\n",
    "            frontMat.append(row_mod['AnalysisObj'].mattype)\n",
    "            rearMat.append(row_mod['AnalysisObj'].rearMat)\n",
    "            rowWanted.append(row_mod['AnalysisObj'].rowWanted)\n",
    "            modWanted.append(row_mod['AnalysisObj'].modWanted)     \n",
    "            if demo.cumulativesky is False:\n",
    "                temp_air.append(trackerdict[key]['temp_air'])\n",
    "                wind_speed.append(trackerdict[key]['wind_speed'])"
   ]
  },
  {
   "cell_type": "code",
   "execution_count": null,
   "metadata": {},
   "outputs": [],
   "source": [
    "import pandas as pd"
   ]
  },
  {
   "cell_type": "code",
   "execution_count": null,
   "metadata": {},
   "outputs": [],
   "source": [
    "\n",
    "data= pd.DataFrame(zip(keys_all, Wm2Front, Wm2Back, frontMat, rearMat,  \n",
    "                                     wind_speed, temp_air, rowWanted, modWanted), \n",
    "                                 columns=('timestamp', 'Wm2Front', \n",
    "                                          'Wm2Back', 'mattype',\n",
    "                                          'rearMat','rowWanted','modWanted'))\n",
    "\n",
    "if demo.cumulativesky is False:\n",
    "    data['temp_air'] = temp_air\n",
    "    data['wind_speed'] = wind_speed"
   ]
  },
  {
   "cell_type": "code",
   "execution_count": null,
   "metadata": {},
   "outputs": [],
   "source": [
    "data= pd.DataFrame(zip(keys_all, Wm2Front, Wm2Back, frontMat, rearMat,  \n",
    "                                     rowWanted, modWanted), \n",
    "                                 columns=('timestamp', 'Wm2Front', \n",
    "                                          'Wm2Back', 'mattype',\n",
    "                                          'rearMat','rowWanted','modWanted'))\n"
   ]
  },
  {
   "cell_type": "code",
   "execution_count": null,
   "metadata": {},
   "outputs": [],
   "source": [
    "data"
   ]
  },
  {
   "cell_type": "code",
   "execution_count": null,
   "metadata": {},
   "outputs": [],
   "source": [
    "keys=list(trackerdict.keys())\n",
    "print(keys)"
   ]
  },
  {
   "cell_type": "code",
   "execution_count": null,
   "metadata": {
    "scrolled": false
   },
   "outputs": [],
   "source": [
    "trackerdict[keys[0]]['Results']"
   ]
  },
  {
   "cell_type": "code",
   "execution_count": null,
   "metadata": {},
   "outputs": [],
   "source": [
    "trackerdict[-5.0].keys()"
   ]
  },
  {
   "cell_type": "code",
   "execution_count": null,
   "metadata": {},
   "outputs": [],
   "source": [
    "demo.cumulativesky"
   ]
  },
  {
   "cell_type": "code",
   "execution_count": null,
   "metadata": {},
   "outputs": [],
   "source": [
    "demo.calculateResults()"
   ]
  },
  {
   "cell_type": "code",
   "execution_count": null,
   "metadata": {},
   "outputs": [],
   "source": [
    "results = load.read1Result('cumulative_results__Row_2_Module_09.csv')\n",
    "results"
   ]
  },
  {
   "cell_type": "code",
   "execution_count": null,
   "metadata": {},
   "outputs": [],
   "source": [
    "results_clean = load.cleanResult(results)\n",
    "results_clean\n"
   ]
  }
 ],
 "metadata": {
  "anaconda-cloud": {},
  "kernelspec": {
   "display_name": "Python 3 (ipykernel)",
   "language": "python",
   "name": "python3"
  },
  "language_info": {
   "codemirror_mode": {
    "name": "ipython",
    "version": 3
   },
   "file_extension": ".py",
   "mimetype": "text/x-python",
   "name": "python",
   "nbconvert_exporter": "python",
   "pygments_lexer": "ipython3",
   "version": "3.8.8"
  }
 },
 "nbformat": 4,
 "nbformat_minor": 1
}
