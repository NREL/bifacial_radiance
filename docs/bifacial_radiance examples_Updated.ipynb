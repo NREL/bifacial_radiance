{
 "cells": [
  {
   "cell_type": "markdown",
   "metadata": {},
   "source": [
    "## bifacial_radiance examples\n",
    "what to do with the new bifacial_radiance python module\n",
    "\n",
    "\n",
    "#### Prerequisites (Step 0):\n",
    "This software requires the previous installation of RADIANCE from https://github.com/NREL/Radiance/releases.\n",
    "\n",
    "Make sure you add radiance to the system PATH so Python can interact with the radiance program\n",
    "\n",
    "If you are on a PC you should also copy the Jaloxa radwinexe-5.0.a.8-win64.zip executables into `program files/radiance/bin`: http://www.jaloxa.eu/resources/radiance/radwinexe.shtml\n",
    "\n",
    "#### STEP 1: Install and import bifacial_radiance\n",
    "\n",
    " - clone the bifacial_radiance repo to your local directory\n",
    " - navigate to the \\bifacial_radiance directory which contains setup\n",
    " - run `pip install -e .  `  ( the period . is required, the -e flag is optional and installs in development mode where changes to the bifacial_radiance.py files are immediately incorporated into the module if you re-start the python kernel)\n",
    "\n",
    "#### STEP 2: Move gencumulativesky.exe\n",
    "Copy gencumulativesky.exe from the repo's `/bifacial_radiance/data/` directory and copy into your Radiance install directory.\n",
    "This is typically found in `/program files/radiance/bin/`.  \n",
    "\n",
    "#### STEP 3: Create a local Radiance directory for storing the scene files created\n",
    "Keep scene geometry files separate from the bifacial_radiance directory.  Create a local directory somewhere that will be referenced in the next step.\n",
    "\n",
    "#### STEP 4: Reboot the computer\n",
    "This makes sure the PATH is updated"
   ]
  },
  {
   "cell_type": "code",
   "execution_count": 1,
   "metadata": {},
   "outputs": [],
   "source": [
    "testfolder = r'C:\\Users\\sayala\\Documents\\RadianceScenes\\Demo'   #point to an empty directory or existing Radiance directory"
   ]
  },
  {
   "cell_type": "code",
   "execution_count": 2,
   "metadata": {},
   "outputs": [],
   "source": [
    "try:\n",
    "    from bifacial_radiance import *\n",
    "except ImportError:\n",
    "    raise RuntimeError('bifacial_radiance is required. download distribution')\n",
    "\n",
    "import numpy as np"
   ]
  },
  {
   "cell_type": "code",
   "execution_count": 3,
   "metadata": {
    "scrolled": true
   },
   "outputs": [
    {
     "name": "stdout",
     "output_type": "stream",
     "text": [
      "path = C:\\Users\\sayala\\Documents\\RadianceScenes\\Demo\n"
     ]
    }
   ],
   "source": [
    "# Simple example system using Radiance.  We'll simulate a 1-up landscape system over a white rooftop\n",
    "demo = RadianceObj('bifacial_example',testfolder)  # Create a RadianceObj 'object' named bifacial_example. no whitespace allowed"
   ]
  },
  {
   "cell_type": "code",
   "execution_count": 4,
   "metadata": {},
   "outputs": [
    {
     "name": "stdout",
     "output_type": "stream",
     "text": [
      "Getting weather file: USA_VA_Richmond.Intl.AP.724010_TMY.epw  ... OK!\n",
      "message: There were 4255 sun up hours in this climate file\n",
      "Total Ibh/Lbh: 0.000000\n"
     ]
    }
   ],
   "source": [
    "demo.setGround(0.62) # input albedo number or material name like 'concrete'.  To see options, run this without any input.\n",
    "\n",
    "# pull in meteorological data using pyEPW for any global lat/lon\n",
    "epwfile = demo.getEPW(lat = 37.5, lon = -77.6) \n",
    "\n",
    "# read in the weather data pulled in above. \n",
    "# If you want a different location, replace this filename with the new EPW file name in `epwfile`.    \n",
    "metdata = demo.readEPW('EPWs\\\\USA_VA_Richmond.Intl.AP.724010_TMY.epw') \n",
    "\n",
    "# Solar resource definition.  Either choose a single time point, or use cumulativesky for the entire year. \n",
    "fullYear = True\n",
    "if fullYear:\n",
    "    demo.genCumSky(demo.epwfile) # entire year.\n",
    "else:\n",
    "    demo.gendaylit(metdata,4020)  # Noon, June 17th (timepoint # 4020)\n"
   ]
  },
  {
   "cell_type": "code",
   "execution_count": 5,
   "metadata": {},
   "outputs": [
    {
     "name": "stdout",
     "output_type": "stream",
     "text": [
      "('\\nModule Name:', 'Prism_Solar_Bi60_landscape')\n",
      "REWRITING pre-existing module file. \n",
      "Module Prism Solar Bi60 landscape successfully created\n",
      "Available module names: ['mini_panel', 'Prism Solar Bi60', 'monopanel', 'simple_panel', 'Silvana', 'test', 'Prism Solar Bi60 landscape']\n"
     ]
    }
   ],
   "source": [
    "# create a custom PV module type. Prism Solar Bi60 in landscape. y = .984 x = 1.695. Bifaciality = 0.90\n",
    "# Note: modules are currently 100% opaque.  For drawing each cell, makeModule needs more inputs with cellLevelModule = True.\n",
    "demo.makeModule(name='Prism Solar Bi60 landscape',x=1.695, y=0.984, bifi = 0.90)\n",
    "\n",
    "# print available module types in data/module.json\n",
    "demo.printModules()\n"
   ]
  },
  {
   "cell_type": "code",
   "execution_count": 6,
   "metadata": {},
   "outputs": [
    {
     "name": "stdout",
     "output_type": "stream",
     "text": [
      "Created bifacial_example.oct\n",
      "Linescan in process: bifacial_example_Front\n",
      "Linescan in process: bifacial_example_Back\n",
      "Saved: results\\irr_bifacial_example.csv\n",
      "Annual bifacial ratio: 0.123 \n"
     ]
    }
   ],
   "source": [
    "# create a scene using panels in landscape at 10 deg tilt, 1.5m pitch. 0.2 m ground clearance\n",
    "# Scenedict also specifieds now the number of modules per row and rows, in this case: 20 modules per row, 7 rows.\n",
    "sceneDict = {'tilt':10,'pitch':1.5,'clearance_height':0.2,'azimuth':180, 'nMods': 20, 'nRows': 7} \n",
    "module_type = 'Prism Solar Bi60 landscape' \n",
    "scene = demo.makeScene(module_type,sceneDict) #makeScene creates a .rad file with the parameters specified in sceneDict. \n",
    "octfile = demo.makeOct(demo.getfilelist())  # makeOct combines all of the ground, sky and object files into a .oct file.\n",
    "analysis = AnalysisObj(octfile, demo.basename)  # return an analysis object including the scan dimensions for back irradiance\n",
    "frontscan, backscan = analysis.moduleAnalysis(scene)\n",
    "analysis.analysis(octfile, demo.basename, frontscan, backscan)  # compare the back vs front irradiance  \n",
    "# the frontscan and backscan include a linescan along a chord of the module, both on the front and back.  \n",
    "# Return the minimum of the irradiance values, and the average of the irradiance values along a chord of the module.\n",
    "print('Annual bifacial ratio: %0.3f ' %( np.mean(analysis.Wm2Back) / np.mean(analysis.Wm2Front)) )\n"
   ]
  },
  {
   "cell_type": "code",
   "execution_count": 7,
   "metadata": {},
   "outputs": [
    {
     "name": "stdout",
     "output_type": "stream",
     "text": [
      "generating visible render of scene\n",
      "generating scene in WM-2. This may take some time.\n",
      "saving scene in false color\n"
     ]
    }
   ],
   "source": [
    "# Make a color render and falsecolor image of the scene.  \n",
    "# Files are saved as .hdr (high definition render) files.  Try LuminanceHDR viewer (free) to view them\n",
    "analysis.makeImage('side.vp')\n",
    "analysis.makeFalseColor('side.vp')\n",
    "# Note - if you want to have an interactive image viewer, use the `rvu` viewer - manual page here: http://radsite.lbl.gov/radiance/rvu.1.html"
   ]
  }
 ],
 "metadata": {
  "anaconda-cloud": {},
  "kernelspec": {
   "display_name": "Python 2",
   "language": "python",
   "name": "python2"
  },
  "language_info": {
   "codemirror_mode": {
    "name": "ipython",
    "version": 2
   },
   "file_extension": ".py",
   "mimetype": "text/x-python",
   "name": "python",
   "nbconvert_exporter": "python",
   "pygments_lexer": "ipython2",
   "version": "2.7.15"
  }
 },
 "nbformat": 4,
 "nbformat_minor": 1
}
