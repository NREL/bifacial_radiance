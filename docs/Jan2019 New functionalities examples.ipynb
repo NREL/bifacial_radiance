{
 "cells": [
  {
   "cell_type": "markdown",
   "metadata": {},
   "source": [
    "# Jan 2019 New functionalities examples\n",
    "\n",
    "Example demonstrating how to use the torque_tube functionality.\n",
    "\n",
    "#### Prerequisites (Step 0):\n",
    "We assume all instalation is working at this point, reffer to the other journals for this! \n",
    "\n",
    "# Torque Tube Example (Hex!)"
   ]
  },
  {
   "cell_type": "code",
   "execution_count": 3,
   "metadata": {},
   "outputs": [
    {
     "name": "stdout",
     "output_type": "stream",
     "text": [
      " Successful import of bifacial_radiance version . \n"
     ]
    }
   ],
   "source": [
    "import sys\n",
    "\n",
    "sys.path.insert(0, '../bifacial_radiance')\n",
    "\n",
    "try:\n",
    "    from bifacial_radiance import *\n",
    "    import pkg_resources\n",
    "    version = pkg_resources.get_distribution(\"bifacial_radiance\").version\n",
    "    print \" Successful import of bifacial_radiance version {}\".format(version)\n",
    "except ImportError:\n",
    "    raise RuntimeError('bifacial_radiance is required. download distribution')\n",
    "    # Simple example system using Radiance."
   ]
  },
  {
   "cell_type": "code",
   "execution_count": null,
   "metadata": {},
   "outputs": [],
   "source": [
    "# The below routine creates a HEXAGONAL torque tube, for a 2-UP configuration of a specific module size. Parameters for the module, the torque tube, and the scene are below.\n",
    "# This is being run with gendaylit, for one specific timestamp\n",
    "\n",
    "timestamp = 4020 # Noon, June 17th. \n",
    "simulationname = 'Torque_tube_hex_test'\n",
    "\n",
    "# MakeModule Parameters\n",
    "module_type='my_custom_panel'\n",
    "module_length = 1.996  # 2-up portrait Longi with 15cm additional gap\n",
    "module_width = 0.991\n",
    "orientation='portrait' \n",
    "tilt = 10\n",
    "\n",
    "# TorqueTube Parameters\n",
    "torqueTube = True\n",
    "numpanels = 2\n",
    "gap = 0.15\n",
    "tubetype = 'Hex'\n",
    "disttopanel = 0.175\n",
    "diameter = 0.15\n",
    "torqueTubeMaterial = 'Metal_Grey'       # IT's NOT GRAY, IT's GREY\n",
    "\n",
    "# SceneDict Parameters\n",
    "gcr = 0.33   # ground cover ratio,  = module_height / pitch\n",
    "albedo = 0.28  #'concrete'     # ground albedo\n",
    "clearance_height = 2.35   \n",
    "azimuth_ang=90\n",
    "sensorsy = 200 # Notice we will be doing 200 sensors! It takes more time but gives better resolution.\n",
    "psx = 0.05"
   ]
  },
  {
   "cell_type": "code",
   "execution_count": null,
   "metadata": {},
   "outputs": [],
   "source": [
    "# MODIFY THE TEST FOLDER TO YOUR LIKING. I utmostly dislike the interactive directory.\n",
    "testfolder = r'C:\\Users\\sayala\\Documents\\RadianceScenes\\Octtest'"
   ]
  },
  {
   "cell_type": "code",
   "execution_count": null,
   "metadata": {},
   "outputs": [],
   "source": [
    "# Now let's run the example\n",
    "\n",
    "demo = RadianceObj('Torque_tube_hex_test',path = testfolder)  # Create a RadianceObj 'object'\n",
    "demo.setGround(0.62) # input albedo number or material name like 'concrete'.  To see options, run this without any input.\n",
    "epwfile = demo.getEPW(37.5,-77.6) # pull TMY data for any global lat/lon\n",
    "metdata = demo.readEPW(epwfile) # read in the EPW weather data from above\n",
    "demo.gendaylit(metdata,4020)  # Noon, June 17th\n",
    "\n",
    "#We have a 2-up configuration in portrait. This section helps sort what is the COLLECTOR WIDTH to use.\n",
    "if orientation == 'portrait':\n",
    "                slope=module_length\n",
    "elif orientation == 'landscape':  \n",
    "                slope=module_width\n",
    "collectorwidth = slope*numpanels+gap*(numpanels-1) # If it's 1UP, the gap value will not matter. This is a safety.\n",
    "\n",
    "# Making module with all the variables\n",
    "demo.makeModule(name=module_type,x=module_width,y=module_length,bifi=1,orientation='portrait', \n",
    "           torquetube=torqueTube, diameter = diameter, tubetype = tubetype, material = torqueTubeMaterial, tubeZgap = disttopanel, numpanels = numpanels, panelgap = gap, rewriteModulefile = True, psx=psx)\n",
    "# create a scene with all the variables\n",
    "sceneDict = {'tilt':tilt,'pitch': np.round(collectorwidth / gcr,3),'height':clearance_height,'orientation':orientation,'azimuth':azimuth_ang, 'module_type':module_type}  \n",
    "\n",
    "scene = demo.makeScene(moduletype=module_type, sceneDict=sceneDict, nMods = 20, nRows = 7, sensorsy = sensorsy, psx = psx) #makeScene creates a .rad file with 20 modules per row, 7 rows.\n",
    "octfile = demo.makeOct(demo.getfilelist())  # makeOct combines all of the ground, sky and object files into a .oct file.\n"
   ]
  },
  {
   "cell_type": "markdown",
   "metadata": {},
   "source": [
    "At this point you should be able to go into a command window (cmd.exe) and check the geometry. Example:\n",
    "    \n",
    "   ## rvu -vf views\\front.vp -e .01 Torque_tube_hex_test.oct\n",
    "   \n",
    "   And then proceed happily with your analysis:"
   ]
  },
  {
   "cell_type": "code",
   "execution_count": null,
   "metadata": {},
   "outputs": [],
   "source": [
    "analysis = AnalysisObj(octfile, demo.name)  # return an analysis object including the scan dimensions for back irradiance\n",
    "analysis.analysis(octfile, demo.name, scene.frontscan, scene.backscan)  # compare the back vs front irradiance  \n",
    "print('Annual bifacial ratio average:  %0.3f' %( sum(analysis.Wm2Back) / sum(analysis.Wm2Front) ) )\n"
   ]
  },
  {
   "cell_type": "markdown",
   "metadata": {},
   "source": [
    "And then you dance-dance-dance. Except that, at the current stage of the software, if you open the results you will notice that now some of the sensors are measuring the irradinace at the torque tube and must die... in a future version.\n",
    "\n",
    "(or increase the number of sensors by a lot and take them down in a separate routine in matlab all pretily and interpolate to have a consistent number of sensors with data while single axis tracking)."
   ]
  },
  {
   "cell_type": "markdown",
   "metadata": {},
   "source": [
    "# Single-axis-tracking by HOUR example\n",
    "\n",
    "Think of this as a fixed-tilt where the clearance height and the tracker tilt is changing. So the angles have to be re-calculated for every timestamp."
   ]
  },
  {
   "cell_type": "code",
   "execution_count": null,
   "metadata": {},
   "outputs": [],
   "source": [
    "#Some variables again. Assuming bifacial_radiance was imported.\n",
    "\n",
    "timeindex = 4020 # Noon, June 17th. \n",
    "simulationname = '1axisTrack'+str(timeindex)\n",
    "\n",
    "# MakeModule Parameters\n",
    "module_type='my_little_pony_panel'\n",
    "module_length = 1.996  # 2-up portrait Longi with 15cm additional gap\n",
    "module_width = 0.991\n",
    "orientation='portrait' \n",
    "tilt = 10\n",
    "\n",
    "# Tracking Angle Calculation Parameters\n",
    "hub_height = 2.35   \n",
    "axis_azimuth = 180.0\n",
    "roundTrackerAngleBool = True \n",
    "angledelta = 5\n",
    "limit_angle = 45\n",
    "backtrack = True\n",
    "    \n",
    "# SceneDict Parameters\n",
    "gcr = 0.33   # ground cover ratio,  = module_height / pitch\n",
    "albedo = 0.28  #'concrete'     # ground albedo"
   ]
  },
  {
   "cell_type": "code",
   "execution_count": null,
   "metadata": {},
   "outputs": [],
   "source": [
    "#separate folder for this example\n",
    "testfolder = r'C:\\Users\\sayala\\Documents\\RadianceScenes\\asdf2'"
   ]
  },
  {
   "cell_type": "code",
   "execution_count": null,
   "metadata": {},
   "outputs": [],
   "source": [
    "# Running the simulation\n",
    "demo2 = RadianceObj(simulationname, path = testfolder)  # Create a RadianceObj 'object' named 'demo'\n",
    "demo2.setGround(albedo) # input albedo number or material name like 'concrete'.  To see options, run this without any input.\n",
    "epwfile = demo2.getEPW(37.5,-77.6) # pull TMY data for any global lat/lon\n",
    "metdata = demo2.readEPW(epwfile) # read in the weather data\n",
    "demo2.gendaylit(metdata, 4020)  # Noon, June 17th\n",
    "\n",
    "demo2.makeModule(name=module_type,x=module_width,y=module_length)    \n",
    "tracker_theta, tracker_height, azimuth_ang = demo2._getTrackingGeometryTimeIndex(metdata, timeindex=timeindex, angledelta = angledelta, roundTrackerAngleBool = roundTrackerAngleBool, axis_azimuth = axis_azimuth, limit_angle = limit_angle, backtrack = backtrack, gcr = gcr, hubheight = hub_height, module_height = module_height )\n",
    "sceneDict = {'tilt':tracker_theta,'pitch': module_height / gcr,'height':tracker_height,'orientation':orientation,'azimuth':azimuth_ang, 'module_type':module_type}  \n",
    "scene = demo2.makeScene(module_type, sceneDict) #makeScene creates a .rad file with 20 modules per row, 7 rows.\n",
    "octfile = demo2.makeOct(demo2.getfilelist())  # makeOct combines all of the ground, sky and object files into a .oct file."
   ]
  },
  {
   "cell_type": "markdown",
   "metadata": {},
   "source": [
    "At this point you should be able to go into a command window (cmd.exe) and check the geometry. Example:\n",
    "    \n",
    "   ## rvu -vf views\\front.vp -e .01 Torque_tube_hex_test.oct\n",
    "   \n",
    "   And then proceed happily with your analysis:"
   ]
  },
  {
   "cell_type": "code",
   "execution_count": null,
   "metadata": {},
   "outputs": [],
   "source": [
    "analysis = AnalysisObj(octfile, demo2.basename)  # return an analysis object including the scan dimensions for back irradiance\n",
    "frontDict, backDict = analysis.analysis(octfile, demo2.basename, scene.frontscan, scene.backscan)  # compare the back vs front irradiance  \n",
    "print('Annual bifacial ratio: %0.3f - %0.3f' %(min(analysis.backRatio), np.mean(analysis.backRatio)) )"
   ]
  },
  {
   "cell_type": "markdown",
   "metadata": {},
   "source": [
    "After you set up your system parameters, you can just change the timestamp and evaluate any day. You could also use gendaylit2manual to pass specific DNI/DHI if you so wanted.\n",
    "\n",
    "Enjoy!"
   ]
  },
  {
   "cell_type": "markdown",
   "metadata": {},
   "source": [
    "# Add Custom Elements to your Scene\n",
    "This shows how to add a custom element, in this case a Cube, that will be placed in the center of your scene to mark the 0,0 location. A tracking-example with torque tube is used."
   ]
  },
  {
   "cell_type": "code",
   "execution_count": 18,
   "metadata": {},
   "outputs": [
    {
     "name": "stdout",
     "output_type": "stream",
     "text": [
      "path = C:\\Users\\sayala\\Documents\\RadianceScenes\\demo\n",
      "Getting weather file: USA_VA_Richmond.Intl.AP.724010_TMY.epw  ... OK!\n"
     ]
    },
    {
     "data": {
      "text/plain": [
       "'skies\\\\sky2_1axisTrack4020.rad'"
      ]
     },
     "execution_count": 18,
     "metadata": {},
     "output_type": "execute_result"
    }
   ],
   "source": [
    "#First all the Variables:\n",
    "testfolder = r'C:\\Users\\sayala\\Documents\\RadianceScenes\\demo'\n",
    "\n",
    "#Some variables again. Assuming bifacial_radiance was imported.\n",
    "\n",
    "timeindex = 4020 # Noon, June 17th. \n",
    "simulationname = '1axisTrack'+str(timeindex)\n",
    "\n",
    "# MakeModule Parameters\n",
    "module_type='my_little_pony_panel'\n",
    "module_length = 1.996  # 2-up portrait Longi with 15cm additional gap\n",
    "module_width = 0.991\n",
    "orientation='portrait' \n",
    "tilt = 10\n",
    "\n",
    "# Tracking Angle Calculation Parameters\n",
    "hub_height = 0.5   \n",
    "axis_azimuth = 180.0\n",
    "roundTrackerAngleBool = True \n",
    "angledelta = 5\n",
    "limit_angle = 45\n",
    "backtrack = True\n",
    "    \n",
    "# SceneDict Parameters\n",
    "gcr = 0.33   # ground cover ratio,  = module_height / pitch\n",
    "albedo = 0.28  #'concrete'     # ground albedo\n",
    "\n",
    "# Running the simulation\n",
    "demo2 = RadianceObj(simulationname, path = testfolder)  # Create a RadianceObj 'object' named 'demo'\n",
    "demo2.setGround(albedo) # input albedo number or material name like 'concrete'.  To see options, run this without any input.\n",
    "epwfile = demo2.getEPW(37.5,-77.6) # pull TMY data for any global lat/lon\n",
    "metdata = demo2.readEPW(epwfile) # read in the weather data\n",
    "demo2.gendaylit(metdata, 4020)  # Noon, June 17th"
   ]
  },
  {
   "cell_type": "markdown",
   "metadata": {},
   "source": [
    "We are going to create a \"Mycube.rad\" file in the objects folder, right after we make the Module. \n",
    "This is a prism (so we use 'genbox'), that is black from the ground.rad list of materials ('black')\n",
    "We are naming it 'cuteBox'\n",
    "Its sides are going to be 0.5x0.5x0.5 m \n",
    "and We are going to leave its bottom surface coincident with the plane z=0, but going to center on X and Y.\n",
    "The command for this description is :\n",
    ">'! genbox black PVmodule 0.5 0.5 0.5 | xform -t -0.25 -0.25 0'\n"
   ]
  },
  {
   "cell_type": "code",
   "execution_count": 19,
   "metadata": {},
   "outputs": [
    {
     "name": "stdout",
     "output_type": "stream",
     "text": [
      "('\\nModule Name:', 'my_little_pony_panel')\n",
      "REWRITING pre-existing module file. \n",
      "Module my_little_pony_panel successfully created\n",
      "('\\nCustom Object Name', 'objects\\\\Mycube.rad')\n"
     ]
    }
   ],
   "source": [
    "demo2.makeModule(name=module_type,x=module_width,y=module_length)   \n",
    "name='Mycube'\n",
    "text='! genbox black cuteBox 0.5 0.5 0.5 | xform -t -0.25 -0.25 0'\n",
    "customObject = demo2.makeCustomObject(name,text)\n"
   ]
  },
  {
   "cell_type": "markdown",
   "metadata": {},
   "source": [
    "We are saving the filename and address into customObject so we can call it when making the Scene and add it to it.\n",
    "\n",
    "At this point, you can go to the objects folder and check that the object was created properly.\n",
    "### objects\\\\Mycube.rad\n",
    "\n",
    "Let's create teh SCene now:"
   ]
  },
  {
   "cell_type": "code",
   "execution_count": 20,
   "metadata": {},
   "outputs": [
    {
     "name": "stdout",
     "output_type": "stream",
     "text": [
      "For this timestamp, panels are facing West\n",
      "Tracker theta has been calculated to 4.722 and rounded to nearest tracking angle 5.0\n",
      "Module clearance height has been calculated to 0.413, for this tracker theta.\n"
     ]
    }
   ],
   "source": [
    "tracker_theta, tracker_height, azimuth_ang = demo2._getTrackingGeometryTimeIndex(metdata, timeindex=timeindex, angledelta = angledelta, roundTrackerAngleBool = roundTrackerAngleBool, axis_azimuth = axis_azimuth, limit_angle = limit_angle, backtrack = backtrack, gcr = gcr, hubheight = hub_height, module_height = module_length )\n",
    "sceneDict = {'tilt':tracker_theta,'pitch': module_length / gcr,'height':tracker_height,'orientation':orientation,'azimuth':azimuth_ang, 'module_type':module_type}  \n",
    "scene = demo2.makeScene(module_type, sceneDict) #makeScene creates a .rad file with 20 modules per row, 7 rows."
   ]
  },
  {
   "cell_type": "markdown",
   "metadata": {},
   "source": [
    "Now let's add the customObject to the Scene. We are not going to translate it or anything because we want it at the center, but you can pass translation, rotation, and any other XFORM command from Radiance.\n",
    "\n",
    "I am passing a rotation 0 because xform has to have something (I think) otherwise it gets confused."
   ]
  },
  {
   "cell_type": "code",
   "execution_count": 21,
   "metadata": {},
   "outputs": [
    {
     "name": "stdout",
     "output_type": "stream",
     "text": [
      "Created 1axisTrack4020.oct\n"
     ]
    }
   ],
   "source": [
    "demo2.appendtoScene(scene.radfile, customObject, '!xform -rz 0')\n",
    "\n",
    "octfile = demo2.makeOct(demo2.getfilelist())  # makeOct combines all of the ground, sky and object files into a .oct file."
   ]
  },
  {
   "cell_type": "markdown",
   "metadata": {},
   "source": [
    "At this point you should be able to go into a command window (cmd.exe) and check the geometry. Example:\n",
    "    \n",
    "   #### rvu -vf views\\front.vp -e .01 Torque_tube_hex_test.oct\n",
    "   \n",
    "And then proceed happily with your analysis. If any of the sensors hits the Box object we just created, the list of materials should say something with \"cuteBox\" on it. (That's why I set the clearance so low for this example, so the module and the cuteBox intercept)."
   ]
  },
  {
   "cell_type": "code",
   "execution_count": 22,
   "metadata": {},
   "outputs": [
    {
     "name": "stdout",
     "output_type": "stream",
     "text": [
      "Linescan in process: 1axisTrack4020_Front\n",
      "Linescan in process: 1axisTrack4020_Back\n",
      "Saved: results\\irr_1axisTrack4020.csv\n",
      "Annual bifacial ratio: 0.000 - 0.045\n"
     ]
    }
   ],
   "source": [
    "analysis = AnalysisObj(octfile, demo2.basename)  # return an analysis object including the scan dimensions for back irradiance\n",
    "frontDict, backDict = analysis.analysis(octfile, demo2.basename, scene.frontscan, scene.backscan)  # compare the back vs front irradiance  \n",
    "print('Annual bifacial ratio: %0.3f - %0.3f' %(min(analysis.backRatio), np.mean(analysis.backRatio)) )"
   ]
  },
  {
   "cell_type": "markdown",
   "metadata": {},
   "source": [
    "# Read and clean RESULTS!\n",
    "When using a gap between modules (or a torque tube for 1-up), some of the materials might end up being \"sky\", \"ground\", torquetube, or even inner sides of the modules themselves if the resolution is very high.\n",
    "\n",
    "The following is an example on how to use the read1Result and cleanResult functions of this last update."
   ]
  },
  {
   "cell_type": "code",
   "execution_count": 2,
   "metadata": {},
   "outputs": [
    {
     "name": "stdout",
     "output_type": "stream",
     "text": [
      "Front type materials index and occurrences: \n",
      "0  -->  98  ::  a10.3.a0.PVmodule.6457\n",
      "1  -->  1  ::  a10.3.a1.PVmodule.3267\n",
      "2  -->  101  ::  a10.3.a1.PVmodule.6457\n",
      "Panel a0 Front material 0\n",
      "Panel a1 Front material 2\n",
      "Rear type materials index and occurrences: \n",
      "0  -->  100  ::  a10.3.a0.PVmodule.2310\n",
      "1  -->  100  ::  a10.3.a1.PVmodule.2310\n",
      "Panel a0 Rear material 0\n",
      "Panel a1 Rear material 1\n"
     ]
    }
   ],
   "source": [
    "resultFile='C:\\Users\\sayala\\Documents\\RadianceScenes\\Plot5\\\\results\\irr_PRISM_2UP_'+str(4240)+'_tubeZgap_0.15_GAP_0.csv'\n",
    "test = read1Result(resultFile)\n",
    "nmodules = 2 # 2-up configuration. \n",
    "sensorsy = 200 # this was the original resolution. Since we are removing some sensors \n",
    "               # that end up in the gap, the routine will interpolate to get this same number of sensors.\n",
    "               # it will interpolate to 100 sensors per panel for the 2-up configuration for this example.\n",
    "sazm = 270 # for the timestamp analyzed, the panels were facing West. This is important because the sensors and modules must be switched so it matches when the geometry is rotated...\n",
    "Front4240, Back4240 = cleanResult(test, sensorsy, nmodules, sazm)"
   ]
  },
  {
   "cell_type": "code",
   "execution_count": 3,
   "metadata": {},
   "outputs": [
    {
     "data": {
      "text/plain": [
       "array([705.75506667, 705.62093535, 705.48677138, 705.35260707,\n",
       "       705.21847475, 705.08434343, 704.95021212, 704.81608081,\n",
       "       704.68194949, 704.54781818, 704.41368687, 704.27955556,\n",
       "       704.14542424, 704.01129293, 703.877133  , 703.74299697,\n",
       "       703.60886566, 703.47473434, 703.34060303, 703.20647172,\n",
       "       703.0723404 , 702.93820909, 702.80405185, 702.66991313,\n",
       "       702.53578182, 702.40165051, 702.26751919, 702.13338788,\n",
       "       701.99923266, 701.86509192, 701.73093737, 701.59679596,\n",
       "       701.46266465, 701.32853333, 701.19407374, 701.57879562,\n",
       "       701.73718182, 701.61652525, 701.49589764, 701.37527475,\n",
       "       701.25459933, 701.13395623, 701.01333434, 700.8926798 ,\n",
       "       700.77201111, 700.65134242, 700.53067374, 700.41002256,\n",
       "       700.2893697 , 700.16873468, 700.04811549, 699.92746364,\n",
       "       699.80679495, 699.68615724, 699.56552424, 699.44487037,\n",
       "       699.32419125, 699.20351313, 699.08288283, 698.96221414,\n",
       "       698.84157172, 698.72095623, 698.60014613, 698.28896364,\n",
       "       697.82760471, 697.68520269, 697.5428    , 697.40036431,\n",
       "       697.25796128, 697.11558081, 696.97319057, 696.8307771 ,\n",
       "       696.68835455, 696.54592559, 696.40354512, 696.26115657,\n",
       "       696.11875084, 695.97636296, 695.83394242, 695.69151616,\n",
       "       695.54914949, 695.40671515, 695.26432896, 695.1219101 ,\n",
       "       694.97947879, 694.83711717, 694.69468384, 694.55232424,\n",
       "       694.40988148, 694.26747138, 694.12508788, 693.98265286,\n",
       "       693.77442997, 692.7691404 , 692.60756263, 692.44610741,\n",
       "       692.28458687, 692.12300505, 691.96155152, 691.8       ,\n",
       "       691.3105    , 691.15059697, 690.9907899 , 690.83089091,\n",
       "       690.67101852, 690.51114815, 690.35127778, 690.19137879,\n",
       "       690.03153165, 689.87166667, 689.7117697 , 689.55191852,\n",
       "       689.3920303 , 689.23215185, 689.07230539, 688.91242121,\n",
       "       688.75254074, 688.59269226, 688.43281212, 688.27278586,\n",
       "       688.83850606, 689.16664949, 689.00005556, 688.83345421,\n",
       "       688.66685758, 688.50024242, 688.33362626, 688.16704545,\n",
       "       688.00044714, 687.83384882, 687.66723737, 687.50061886,\n",
       "       687.33400875, 687.16738889, 687.00079057, 686.83418249,\n",
       "       686.66756061, 686.50096229, 686.33436397, 686.16775859,\n",
       "       686.00113401, 685.83452997, 685.66790909, 685.50133906,\n",
       "       685.33473704, 685.16810909, 685.00151077, 684.83491246,\n",
       "       684.66831313, 684.50168283, 684.33511717, 684.16842222,\n",
       "       682.81403434, 682.64534141, 682.54314848, 682.44095556,\n",
       "       682.33876263, 682.2365697 , 682.13440438, 682.03219024,\n",
       "       681.93001717, 681.82780572, 681.72560505, 681.62343636,\n",
       "       681.52125253, 681.41908249, 681.3169    , 681.21472862,\n",
       "       681.1125266 , 681.01032121, 680.90812828, 680.80593535,\n",
       "       680.70376061, 680.60158283, 680.49940673, 680.39719798,\n",
       "       680.29453704, 681.23636296, 682.44704444, 682.36154074,\n",
       "       682.27602424, 682.1905    , 682.1049963 , 682.01948182,\n",
       "       681.93395556, 681.84845185, 681.7629569 , 681.6774697 ,\n",
       "       681.59194074, 681.50644377, 681.42096061, 681.33542963,\n",
       "       681.24992593, 681.16442222, 681.07891515, 680.99338418,\n",
       "       680.90790909, 680.82237542, 680.73689562, 680.651     ])"
      ]
     },
     "execution_count": 3,
     "metadata": {},
     "output_type": "execute_result"
    }
   ],
   "source": [
    "Front4240\n"
   ]
  },
  {
   "cell_type": "code",
   "execution_count": null,
   "metadata": {},
   "outputs": [],
   "source": []
  }
 ],
 "metadata": {
  "kernelspec": {
   "display_name": "Python 2",
   "language": "python",
   "name": "python2"
  },
  "language_info": {
   "codemirror_mode": {
    "name": "ipython",
    "version": 2
   },
   "file_extension": ".py",
   "mimetype": "text/x-python",
   "name": "python",
   "nbconvert_exporter": "python",
   "pygments_lexer": "ipython2",
   "version": "2.7.14"
  }
 },
 "nbformat": 4,
 "nbformat_minor": 2
}
