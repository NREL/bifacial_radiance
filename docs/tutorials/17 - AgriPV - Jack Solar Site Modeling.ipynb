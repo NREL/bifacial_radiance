{
 "cells": [
  {
   "cell_type": "markdown",
   "id": "4997ec7a",
   "metadata": {},
   "source": [
    "## 17 - AgriPV - Jack Solar Site Modeling"
   ]
  },
  {
   "cell_type": "markdown",
   "id": "393445a3",
   "metadata": {},
   "source": [
    "Modeling Jack Solar AgriPV site in Longmonth CO, for crop season May September. The site has two configurations:\n",
    "\n",
    "\n",
    "<b> Configuration A: </b>\n",
    "* Under 6 ft panels : 1.8288m\n",
    "* Hub height: 6 ft   : 1.8288m \n",
    "\n",
    "    \n",
    "Configuration B:\n",
    "* 8 ft panels : 2.4384m\n",
    "* Hub height 8 ft : 2.4384m\n",
    "\n",
    "Other general parameters:\n",
    "* Module Size: 3ft x 6ft (portrait mode)\n",
    "* Row-to-row spacing: 17 ft --> 5.1816\n",
    "* Torquetube: square, diam 15 cm, zgap = 0\n",
    "* Albedo = green grass\n",
    " \n",
    "\n",
    "### Steps in this Journal:\n",
    "<ol>\n",
    "    <li> <a href='#step1'> Load Bifacial Radiance and other essential packages</a> </li>\n",
    "    <li> <a href='#step2'> Define all the system variables </a> </li>\n",
    "    <li> <a href='#step3'> Build Scene for a pretty Image </a> </li>\n",
    "</ol>\n",
    "\n",
    "#### More details\n",
    "There are three methods to perform the following analyzis: \n",
    "    <ul><li>A. Hourly with Fixed tilt, getTrackerAngle to update tilt of tracker </li>\n",
    "        <li>B. Hourly with gendaylit1axis using the tracking dictionary </li>\n",
    "        <li>C. Cumulatively with gencumsky1axis </li>\n",
    "    </ul>\n",
    "\n",
    "    \n",
    "The analysis itself is performed with the HPC with method A, and results are compared to GHI (equations below). The code below shows how to build the geometry and view it for accuracy, as well as evaluate monthly GHI, as well as how to model it with `gencumsky1axis` which is more suited for non-hpc environments. \n",
    "\n",
    "\n",
    "\n",
    "![AgriPV Jack Solar Study](../images_wiki/AdvancedJournals/AgriPV_JackSolar.PNG)\n"
   ]
  },
  {
   "cell_type": "markdown",
   "id": "e588c612",
   "metadata": {},
   "source": [
    "<a id='step1'></a>"
   ]
  },
  {
   "cell_type": "markdown",
   "id": "2b900d27",
   "metadata": {},
   "source": [
    "## 1. Load Bifacial Radiance and other essential packages"
   ]
  },
  {
   "cell_type": "code",
   "execution_count": 1,
   "id": "c3575599",
   "metadata": {},
   "outputs": [],
   "source": [
    "import bifacial_radiance\n",
    "import numpy as np\n",
    "import os # this operative system to do the relative-path testfolder for this example.\n",
    "import pprint    # We will be pretty-printing the trackerdictionary throughout to show its structure.\n",
    "from pathlib import Path\n",
    "import pandas as pd"
   ]
  },
  {
   "cell_type": "markdown",
   "id": "fb7ae004",
   "metadata": {},
   "source": [
    "<a id='step2'></a>"
   ]
  },
  {
   "cell_type": "markdown",
   "id": "149f51b2",
   "metadata": {},
   "source": [
    "## 2. Define all the system variables"
   ]
  },
  {
   "cell_type": "code",
   "execution_count": 2,
   "id": "b6f8ac23",
   "metadata": {},
   "outputs": [],
   "source": [
    "testfolder = str(Path().resolve().parent.parent / 'bifacial_radiance' / 'TEMP')\n",
    "\n",
    "timestamp = 4020 # Noon, June 17th.\n",
    "simulationName = 'AgriPV_JS'    # Optionally adding a simulation name when defning RadianceObj\n",
    "\n",
    "#Location\n",
    "lat = 40.1217  # Given for the project site at Colorado\n",
    "lon = -105.1310  # Given for the project site at Colorado\n",
    "\n",
    "# MakeModule Parameters\n",
    "moduletype='PrismSolar'\n",
    "numpanels = 1  # This site have 1 module in Y-direction\n",
    "x = 1  \n",
    "y = 2\n",
    "#xgap = 0.15 # Leaving 15 centimeters between modules on x direction\n",
    "#ygap = 0.10 # Leaving 10 centimeters between modules on y direction\n",
    "zgap = 0 # no gap to torquetube.\n",
    "sensorsy = 6  # this will give 6 sensors per module in y-direction\n",
    "sensorsx = 3   # this will give 3 sensors per module in x-direction\n",
    "\n",
    "torquetube = True\n",
    "axisofrotationTorqueTube = True \n",
    "diameter = 0.15  # 15 cm diameter for the torquetube\n",
    "tubetype = 'square'    # Put the right keyword upon reading the document\n",
    "material = 'black'   # Torque tube of this material (0% reflectivity)\n",
    "\n",
    "# Scene variables\n",
    "nMods = 20\n",
    "nRows = 7\n",
    "hub_height = 1.8 # meters\n",
    "pitch = 5.1816 # meters      # Pitch is the known parameter \n",
    "albedo = 0.2  #'Grass'     # ground albedo\n",
    "gcr = y/pitch\n",
    "\n",
    "\n",
    "cumulativesky = False\n",
    "limit_angle = 60 # tracker rotation limit angle\n",
    "angledelta = 0.01 # we will be doing hourly simulation, we want the angle to be as close to real tracking as possible.\n",
    "backtrack = True "
   ]
  },
  {
   "cell_type": "code",
   "execution_count": 3,
   "id": "95bd8cae",
   "metadata": {},
   "outputs": [],
   "source": [
    "test_folder_fmt = 'Hour_{}' "
   ]
  },
  {
   "cell_type": "markdown",
   "id": "eb8cef29",
   "metadata": {},
   "source": [
    "<a id='step3'></a>"
   ]
  },
  {
   "cell_type": "markdown",
   "id": "c15854db",
   "metadata": {},
   "source": [
    "# 3. Build Scene for a pretty Image"
   ]
  },
  {
   "cell_type": "code",
   "execution_count": 4,
   "id": "9b8ec54c",
   "metadata": {},
   "outputs": [
    {
     "name": "stdout",
     "output_type": "stream",
     "text": [
      "path = C:\\Users\\sayala\\Documents\\GitHub\\bifacial_radiance\\bifacial_radiance\\TEMP\\Hour_0272\n",
      "Loading albedo, 1 value(s), 0.200 avg\n",
      "1 nonzero albedo values.\n",
      "Getting weather file: USA_CO_Boulder-Broomfield-Jefferson.County.AP.724699_TMY3.epw\n",
      " ... OK!\n",
      "start: 2021-01-01 01:00:00\n",
      "end: 2021-12-31 23:00:00\n",
      "\n",
      "Saving file EPWs\\epw_temp.csv, # points: 8760\n",
      "Calculating Sun position for center labeled data, at exact timestamp in input Weather File\n",
      "Created AgriPV_JS.oct\n"
     ]
    }
   ],
   "source": [
    "#for idx in range(270, 283):\n",
    "for idx in range(272, 273):\n",
    "\n",
    "    test_folderinner = os.path.join(testfolder, test_folder_fmt.format(f'{idx:04}'))\n",
    "    if not os.path.exists(test_folderinner):\n",
    "        os.makedirs(test_folderinner)\n",
    "\n",
    "    rad_obj = bifacial_radiance.RadianceObj(simulationName,path = test_folderinner)  # Create a RadianceObj 'object'\n",
    "    rad_obj.setGround(albedo) \n",
    "    epwfile = rad_obj.getEPW(lat,lon)    \n",
    "    metdata = rad_obj.readWeatherFile(epwfile, label='center', coerce_year=2021)\n",
    "    solpos = rad_obj.metdata.solpos.iloc[idx]\n",
    "    zen = float(solpos.zenith)\n",
    "    azm = float(solpos.azimuth) - 180\n",
    "    dni = rad_obj.metdata.dni[idx]\n",
    "    dhi = rad_obj.metdata.dhi[idx]\n",
    "    rad_obj.gendaylit(idx)\n",
    "  # rad_obj.gendaylit2manual(dni, dhi, 90 - zen, azm)\n",
    "    #print(rad_obj.metdata.datetime[idx])\n",
    "    tilt = round(rad_obj.getSingleTimestampTrackerAngle(rad_obj.metdata, idx, gcr, limit_angle=65),1)\n",
    "    sceneDict = {'pitch': pitch, 'tilt': tilt, 'azimuth': 90, 'hub_height':hub_height, 'nMods':nMods, 'nRows': nRows}  \n",
    "    scene = rad_obj.makeScene(moduletype=moduletype,sceneDict=sceneDict)\n",
    "    octfile = rad_obj.makeOct()  "
   ]
  },
  {
   "cell_type": "markdown",
   "id": "c9ea4ec1",
   "metadata": {},
   "source": [
    "#### The scene generated can be viewed by navigating on the terminal to the testfolder and typing\n",
    "\n",
    "> rvu -vf views\\front.vp -e .0265652 -vp 2 -21 2.5 -vd 0 1 0 AgriPV_JS.oct\n",
    "\n",
    "\n"
   ]
  },
  {
   "cell_type": "markdown",
   "id": "b34795bc",
   "metadata": {},
   "source": [
    "<a id='step4'></a>"
   ]
  },
  {
   "cell_type": "markdown",
   "id": "d47847e9",
   "metadata": {},
   "source": [
    "# GHI Calculations \n",
    "\n",
    "Note: Crop season in weather file is index 2881 to 6552"
   ]
  },
  {
   "cell_type": "markdown",
   "id": "115de65f",
   "metadata": {},
   "source": [
    "### From Weather File"
   ]
  },
  {
   "cell_type": "code",
   "execution_count": 5,
   "id": "fe74ab01",
   "metadata": {},
   "outputs": [
    {
     "name": "stdout",
     "output_type": "stream",
     "text": [
      " GHI Boulder Monthly May to September Wh/m2: [197035, 206508, 201174, 177165, 146539]\n"
     ]
    }
   ],
   "source": [
    "# BOULDER\n",
    "# Simple method where I know the index where the month starts and collect the monthly values this way.\n",
    "\n",
    "starts = [2881, 3626, 4346, 5090, 5835]\n",
    "ends = [3621, 4341, 5085, 5829, 6550]\n",
    "\n",
    "ghi_Boulder = []\n",
    "for ii in range(0, len(starts)):\n",
    "    start = starts[ii]\n",
    "    end = ends[ii]\n",
    "    ghi_Boulder.append(metdata.ghi[start:end].sum())\n",
    "print(\" GHI Boulder Monthly May to September Wh/m2:\", ghi_Boulder)\n"
   ]
  },
  {
   "cell_type": "markdown",
   "id": "e8347875",
   "metadata": {},
   "source": [
    "### With raytrace"
   ]
  },
  {
   "cell_type": "code",
   "execution_count": 6,
   "id": "db6fe1f4",
   "metadata": {},
   "outputs": [],
   "source": [
    "# Not working for monthly purposes with Gencumsky on development branch up to 09/Sept/21. Maybe will get updated later.\n",
    "'''\n",
    "import datetime\n",
    "startdt = datetime.datetime(2021,5,1,1)\n",
    "enddt = datetime.datetime(2021,5,31,23)\n",
    "simulationName = 'EMPTYFIELD'\n",
    "rad_obj = bifacial_radiance.RadianceObj(simulationName, path=testfolder)  # Create a RadianceObj 'object'\n",
    "rad_obj.setGround(albedo) \n",
    "metdata = rad_obj.readWeatherFile(epwfile, label='center', coerce_year=2021)\n",
    "rad_obj.genCumSky(startdt=startdt, enddt=enddt)\n",
    "#print(rad_obj.metdata.datetime[idx])\n",
    "sceneDict = {'pitch': pitch, 'tilt': 0, 'azimuth': 90, 'hub_height':-0.2, 'nMods':1, 'nRows': 1}  \n",
    "scene = rad_obj.makeScene(moduletype=moduletype,sceneDict=sceneDict)\n",
    "octfile = rad_obj.makeOct()  \n",
    "analysis = bifacial_radiance.AnalysisObj()\n",
    "frontscan, backscan = analysis.moduleAnalysis(scene, sensorsy=1)\n",
    "frontscan['zstart'] = 0.5\n",
    "frontdict, backdict = analysis.analysis(octfile = octfile, name='FIELDTotal', frontscan=frontscan, backscan=backscan)\n",
    "resname = os.path.join(testfolder, 'results')\n",
    "resname = os.path.join(resname, 'irr_FIELDTotal.csv')\n",
    "data = pd.read_csv(resname)\n",
    "print(\"FIELD TOTAL Season:\", data['Wm2Front'])\n",
    "''';"
   ]
  },
  {
   "cell_type": "markdown",
   "id": "20124dbc",
   "metadata": {},
   "source": [
    "# Next: Raytrace Every hour of the Month on the HPC -- Check HPC Scripts for Jack Solar"
   ]
  },
  {
   "cell_type": "code",
   "execution_count": null,
   "id": "99318319",
   "metadata": {},
   "outputs": [],
   "source": []
  }
 ],
 "metadata": {
  "kernelspec": {
   "display_name": "Python 3",
   "language": "python",
   "name": "python3"
  },
  "language_info": {
   "codemirror_mode": {
    "name": "ipython",
    "version": 3
   },
   "file_extension": ".py",
   "mimetype": "text/x-python",
   "name": "python",
   "nbconvert_exporter": "python",
   "pygments_lexer": "ipython3",
   "version": "3.7.10"
  }
 },
 "nbformat": 4,
 "nbformat_minor": 5
}
