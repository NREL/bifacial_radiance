{
 "cells": [
  {
   "cell_type": "markdown",
   "id": "407ac0a2",
   "metadata": {},
   "source": [
    "# 20 - Example Simulation - I Beams\n",
    "\n",
    "This Journal shows how to model a site including I beams. While the I Beams can be added to the module unit, doing it for the whole row reduces the amount of geometries in the scene and makes raytracing faster.\n",
    "\n",
    "This particular geometry corresponds to the fixed tilt array in Bethesda, Maryland, studied for degradation in <i> Andrew Fairbrother, Matthew Boyd , Yadong Lyu , Julien Avenet , Peter Illich , Yu Wang , Michael Kempe , Brian Dougherty , Laura Bruckman , Xiaohong Gu, Differential degradation patterns of photovoltaic backsheets at the array level, Solar Energy 63 (2018) 62-69. </i>\n",
    "\n",
    "It is a 5 row, 5-up landscape site (except for the last row which is 4-up, but we are not modeling that here). There are 48 5-up collectors or 'columns' (as bifacial_radiacne and the journal calls them, respectively).  Tilt is 20 degrees, ground clearance is 0.9m.\n",
    "\n"
   ]
  },
  {
   "cell_type": "markdown",
   "id": "a997324f",
   "metadata": {},
   "source": [
    "![NIST Maryland Array Photo and Raytrace](../images_wiki/AdvancedJournals/NIST_Maryland_I_BeamsExample.PNG)"
   ]
  },
  {
   "cell_type": "code",
   "execution_count": 1,
   "id": "6faba04b",
   "metadata": {},
   "outputs": [
    {
     "name": "stdout",
     "output_type": "stream",
     "text": [
      "Your simulation will be stored in C:\\Users\\sayala\\Documents\\GitHub\\bifacial_radiance\\bifacial_radiance\\TEMP\\I_beams\n"
     ]
    }
   ],
   "source": [
    "import os\n",
    "from pathlib import Path\n",
    "\n",
    "testfolder = Path().resolve().parent.parent / 'bifacial_radiance' / 'TEMP' / 'I_beams'\n",
    "\n",
    "if not os.path.exists(testfolder): os.mkdir(testfolder)\n",
    "\n",
    "# Another option using relative address; for some operative systems you might need '/' instead of '\\'\n",
    "# testfolder = os.path.abspath(r'..\\..\\bifacial_radiance\\TEMP')  \n",
    "\n",
    "print (\"Your simulation will be stored in %s\" % testfolder)\n"
   ]
  },
  {
   "cell_type": "code",
   "execution_count": 2,
   "id": "23b31bea",
   "metadata": {},
   "outputs": [
    {
     "data": {
      "text/plain": [
       "'0.3.4+378.g39e69c1.dirty'"
      ]
     },
     "execution_count": 2,
     "metadata": {},
     "output_type": "execute_result"
    }
   ],
   "source": [
    "import bifacial_radiance as br\n",
    "import numpy as np\n",
    "\n",
    "br.__version__"
   ]
  },
  {
   "cell_type": "code",
   "execution_count": 4,
   "id": "f05cf088",
   "metadata": {},
   "outputs": [
    {
     "name": "stdout",
     "output_type": "stream",
     "text": [
      "path = C:\\Users\\sayala\\Documents\\GitHub\\bifacial_radiance\\bifacial_radiance\\TEMP\\I_beams\n",
      "Getting weather file: USA_VA_Richmond.724010_TMY2.epw\n",
      " ... OK!\n",
      "8760 line in WeatherFile. Assuming this is a standard hourly WeatherFile for the year for purposes of saving Gencumulativesky temporary weather files in EPW folder.\n",
      "Coercing year to 2021\n",
      "Saving file EPWs\\metdata_temp.csv, # points: 8760\n",
      "Calculating Sun position for Metdata that is right-labeled  with a delta of -30 mins. i.e. 12 is 11:30 sunpos\n",
      "Loading albedo, 1 value(s), 0.140 avg\n",
      "1 nonzero albedo values.\n"
     ]
    },
    {
     "data": {
      "text/plain": [
       "'skies\\\\sky2_37.5_-77.33_2021-07-29_1200.rad'"
      ]
     },
     "execution_count": 4,
     "metadata": {},
     "output_type": "execute_result"
    }
   ],
   "source": [
    "radObj = br.RadianceObj('IBeam', path=str(testfolder))\n",
    "epwfile = radObj.getEPW(lat = 37.5, lon = -77.6)  # This location corresponds to Richmond, VA.\n",
    "radObj.readWeatherFile(epwfile)\n",
    "radObj.setGround(0.14)\n",
    "radObj.gendaylit(2819)"
   ]
  },
  {
   "cell_type": "code",
   "execution_count": 5,
   "id": "14b7bb99",
   "metadata": {},
   "outputs": [
    {
     "name": "stdout",
     "output_type": "stream",
     "text": [
      "Setting default torquetube values\n",
      "\n",
      "Module Name: Sharp_NU-U235F2\n",
      "Module Sharp_NU-U235F2 updated in module.json\n",
      "Pre-existing .rad file objects\\Sharp_NU-U235F2.rad will be overwritten\n"
     ]
    }
   ],
   "source": [
    "moduletype='Sharp_NU-U235F2'\n",
    "x=1.64\n",
    "y=0.994\n",
    "xgap = 0.046\n",
    "zgap = 0\n",
    "ygap = 0\n",
    "numpanels=5\n",
    "\n",
    "NIST_Collector = radObj.makeModule(name=moduletype,x=x, y=y, numpanels=numpanels, \n",
    "                                   xgap=xgap, ygap = ygap, zgap=zgap)"
   ]
  },
  {
   "cell_type": "code",
   "execution_count": 8,
   "id": "522c9c35",
   "metadata": {},
   "outputs": [],
   "source": [
    "sceneDict = {'tilt':20, 'pitch':9.4488, 'clearance_height':0.9,\n",
    "                         'azimuth':180, 'nMods':48, 'nRows':5}\n",
    "\n",
    "sceneObj = radObj.makeScene(NIST_Collector, sceneDict=sceneDict)"
   ]
  },
  {
   "cell_type": "markdown",
   "id": "e1170fa3",
   "metadata": {},
   "source": [
    "# Adding the I-Beams\n",
    "\n",
    "HEre is where the magic happens. We will calculate the row length (number of modules times the collector x value plus the xgaps between), and we will also calculate the spacing between the beams accross the collector width so that the beas are placed at the start of the colectro and then between each module, just like in the image (5 modules = 6 Beams then)"
   ]
  },
  {
   "cell_type": "code",
   "execution_count": 9,
   "id": "dacfbe8e",
   "metadata": {},
   "outputs": [
    {
     "name": "stdout",
     "output_type": "stream",
     "text": [
      "Beam Length: 81.0 meters\n",
      "Vertical Distribution: [ 2.485  1.491  0.497 -0.497 -1.491 -2.485]\n"
     ]
    }
   ],
   "source": [
    "beam_count = 6\n",
    "beam_mat = 'Metal_Grey'\n",
    "beam_len = sceneDict['nMods']*NIST_Collector.x + (sceneDict['nMods']-1)*NIST_Collector.xgap\n",
    "beam_len = round(beam_len,0)\n",
    "beam_ydist = np.linspace(NIST_Collector.sceney/2,0-NIST_Collector.sceney/2,6)\n",
    "\n",
    "# by photograph approximation\n",
    "beam_cap = {'len':beam_len, 'height':0.02, 'width':0.12}\n",
    "beam_ctr = {'len':beam_len, 'height':0.30, 'width':0.02}\n",
    "\n",
    "print(f'Beam Length: {beam_len} meters')\n",
    "print(f'Vertical Distribution: {beam_ydist}')"
   ]
  },
  {
   "cell_type": "markdown",
   "id": "a5c631dd",
   "metadata": {},
   "source": [
    "We will use makeCustomObject like in previous journal examples and appendtoScene the IBeams.\n",
    "\n",
    "Note that the IBeams geometry is being generated:\n",
    "<ol>\n",
    "    <li> Generate the geometry (genbox)</li>\n",
    "    <li> Translate the beam so that the center of the world (0,0,0) is positioned at the beam's center</li>\n",
    "    <li> Tilt by the angle of the array,</li>\n",
    "    <li> Then move to the correct clearance height and position accross the collector width calculated above.</li>\n",
    "    </ol>"
   ]
  },
  {
   "cell_type": "code",
   "execution_count": 10,
   "id": "9281aac8",
   "metadata": {},
   "outputs": [
    {
     "name": "stdout",
     "output_type": "stream",
     "text": [
      "\n",
      "Custom Object Name objects\\BEAM_r0_c0.rad\n",
      "\n",
      "Custom Object Name objects\\BEAM_r0_c1.rad\n",
      "\n",
      "Custom Object Name objects\\BEAM_r0_c2.rad\n",
      "\n",
      "Custom Object Name objects\\BEAM_r0_c3.rad\n",
      "\n",
      "Custom Object Name objects\\BEAM_r0_c4.rad\n",
      "\n",
      "Custom Object Name objects\\BEAM_r0_c5.rad\n",
      "\n",
      "Custom Object Name objects\\BEAM_r1_c0.rad\n",
      "\n",
      "Custom Object Name objects\\BEAM_r1_c1.rad\n",
      "\n",
      "Custom Object Name objects\\BEAM_r1_c2.rad\n",
      "\n",
      "Custom Object Name objects\\BEAM_r1_c3.rad\n",
      "\n",
      "Custom Object Name objects\\BEAM_r1_c4.rad\n",
      "\n",
      "Custom Object Name objects\\BEAM_r1_c5.rad\n",
      "\n",
      "Custom Object Name objects\\BEAM_r2_c0.rad\n",
      "\n",
      "Custom Object Name objects\\BEAM_r2_c1.rad\n",
      "\n",
      "Custom Object Name objects\\BEAM_r2_c2.rad\n",
      "\n",
      "Custom Object Name objects\\BEAM_r2_c3.rad\n",
      "\n",
      "Custom Object Name objects\\BEAM_r2_c4.rad\n",
      "\n",
      "Custom Object Name objects\\BEAM_r2_c5.rad\n",
      "\n",
      "Custom Object Name objects\\BEAM_r3_c0.rad\n",
      "\n",
      "Custom Object Name objects\\BEAM_r3_c1.rad\n",
      "\n",
      "Custom Object Name objects\\BEAM_r3_c2.rad\n",
      "\n",
      "Custom Object Name objects\\BEAM_r3_c3.rad\n",
      "\n",
      "Custom Object Name objects\\BEAM_r3_c4.rad\n",
      "\n",
      "Custom Object Name objects\\BEAM_r3_c5.rad\n",
      "\n",
      "Custom Object Name objects\\BEAM_r4_c0.rad\n",
      "\n",
      "Custom Object Name objects\\BEAM_r4_c1.rad\n",
      "\n",
      "Custom Object Name objects\\BEAM_r4_c2.rad\n",
      "\n",
      "Custom Object Name objects\\BEAM_r4_c3.rad\n",
      "\n",
      "Custom Object Name objects\\BEAM_r4_c4.rad\n",
      "\n",
      "Custom Object Name objects\\BEAM_r4_c5.rad\n"
     ]
    }
   ],
   "source": [
    "rows = sceneDict['nRows']\n",
    "offsetMultiplier = np.linspace(-(rows//2),(rows//2),rows)\n",
    "for row in range(0,sceneDict['nRows']):\n",
    "    offset = offsetMultiplier[row]*sceneDict['pitch']\n",
    "    customObjects = []\n",
    "    for pos in beam_ydist:\n",
    "        count = list(beam_ydist).index(pos)\n",
    "        name = f'BEAM_r{row}_c{count}'\n",
    "        ydisp = pos * np.cos(sceneDict['tilt']*np.pi/180.0) + offset\n",
    "        zdisp = np.sin(sceneDict['tilt']*np.pi/180.0) * (pos-beam_ydist[-1]) + sceneDict['clearance_height'] - .05\n",
    "        text = '! genbox {} beamTop{} {} {} {} | xform -t {} {} 0 | xform -rx {} | xform -t 0 {} {}'.format(\n",
    "                                                beam_mat, count,\n",
    "                                                beam_cap['len'], beam_cap['width'], beam_cap['height'],\n",
    "                                                -beam_cap['len']/2+.8, -beam_cap['width']/2,\n",
    "                                                sceneDict['tilt'],\n",
    "                                                ydisp, zdisp)\n",
    "\n",
    "        text+= '\\r\\n! genbox {} beamBot{} {} {} {} | xform -t {} {} 0 | xform -rx {} | xform -t 0 {} {}'.format(\n",
    "                                                beam_mat, count,\n",
    "                                                beam_cap['len'], beam_cap['width'], beam_cap['height'],\n",
    "                                                -beam_cap['len']/2+.8, -beam_cap['width']/2,\n",
    "                                                sceneDict['tilt'],\n",
    "                                                ydisp + beam_ctr['height']*np.cos(np.pi/2 - np.pi*sceneDict['tilt']/180.0), zdisp - beam_ctr['height'])\n",
    "\n",
    "        text+= '\\r\\n! genbox {} beamCtr{} {} {} {} | xform -t {} {} {} | xform -rx {} | xform -t 0 {} {}'.format(\n",
    "                                                beam_mat, count,\n",
    "                                                beam_ctr['len'], beam_ctr['width'], beam_ctr['height'],\n",
    "                                                -beam_ctr['len']/2+.8, -beam_ctr['width']/2, beam_cap['height'],\n",
    "                                                sceneDict['tilt'],\n",
    "                                                ydisp + beam_ctr['height']*np.cos(np.pi/2 - np.pi*sceneDict['tilt']/180.0), zdisp - beam_ctr['height'])\n",
    "        customObj = radObj.makeCustomObject(name,text)\n",
    "        customObjects.append(customObj)\n",
    "        radObj.appendtoScene(radfile=sceneObj.radfiles, customObject=customObj, text=\"!xform -rz 0\")"
   ]
  },
  {
   "cell_type": "code",
   "execution_count": 11,
   "id": "086d0310",
   "metadata": {},
   "outputs": [
    {
     "name": "stdout",
     "output_type": "stream",
     "text": [
      "Created IBeam.oct\n"
     ]
    },
    {
     "data": {
      "text/plain": [
       "'IBeam.oct'"
      ]
     },
     "execution_count": 11,
     "metadata": {},
     "output_type": "execute_result"
    }
   ],
   "source": [
    "radObj.makeOct()"
   ]
  },
  {
   "cell_type": "markdown",
   "id": "5186e3a6",
   "metadata": {},
   "source": [
    "## View your geometry\n",
    "\n",
    "You can view your geometry by uncommenting the line below (or copy-pasting it into a terminal after you navigate to the folder that contains your simulation)"
   ]
  },
  {
   "cell_type": "code",
   "execution_count": 13,
   "id": "ed9aeca7",
   "metadata": {},
   "outputs": [],
   "source": [
    "#!rvu -vf views\\front.vp -e .01 -vp -49 -10 0.9 -vd 0.6879 0.7119 -0.1411 IBeam.oct"
   ]
  }
 ],
 "metadata": {
  "kernelspec": {
   "display_name": "Python 3 (ipykernel)",
   "language": "python",
   "name": "python3"
  },
  "language_info": {
   "codemirror_mode": {
    "name": "ipython",
    "version": 3
   },
   "file_extension": ".py",
   "mimetype": "text/x-python",
   "name": "python",
   "nbconvert_exporter": "python",
   "pygments_lexer": "ipython3",
   "version": "3.8.8"
  }
 },
 "nbformat": 4,
 "nbformat_minor": 5
}
