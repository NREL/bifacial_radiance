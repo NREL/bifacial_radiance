{
 "cells": [
  {
   "cell_type": "markdown",
   "metadata": {},
   "source": [
    "# 2 - Single Axis Tracking Yearly Simulation\n",
    "\n",
    "Method <b> Gencumsky </b> has been modified to divide the yearly-cumulative sky into various skies, each one representing the cumulative irradiance for the hours at which the tracker is at a certain angle. For faster running, for a tracker that moves between 45 and -45 degrees limit angle, if only positions every 5 degrees are considered (45, 40, 35 .... -4-, -45), then only 18 skies (and 18 simulations) will be run for the whole year.\n",
    "\n",
    "![Example of the hemisphere cumulative sky](../images_wiki/Journal2Pics/tracking_cumulativesky.PNG)\n",
    "\n",
    "\n",
    "This procedure was presented in:\n",
    "\n",
    "Ayala Pelaez S, Deline C, Greenberg P, Stein JS, Kostuk RK. Model and validation of single-axis tracking with bifacial PV. IEEE J Photovoltaics. 2019;9(3):715–21. https://ieeexplore.ieee.org/document/8644027 and https://www.nrel.gov/docs/fy19osti/72039.pdf (pre-print, conference version)\n",
    "\n",
    "\n",
    "***Steps:***\n",
    "<ol>\n",
    "    <li> <a href='#step1'> Create a folder for your simulation, and load bifacial_radiance </a></li> \n",
    "    <li> <a href='#step2'> Create a Radiance Object, set Albedo and Download Weather Files </a></li>    \n",
    "    <ul> (VERY SIMILAR TO FIXED TILT EXAMPLE UNTIL HERE) </ul> \n",
    "    <li> <a href='#step3'> Set Tracking Angles </a></li> \n",
    "    <li> <a href='#step4'> Generate the Sky </a></li> \n",
    "    <li> <a href='#step5'> Define a Module type </a></li> \n",
    "    <li> <a href='#step6'> Create the scene </a></li> \n",
    "    <li> <a href='#step7'> Combine Ground, Sky and Scene Objects </a></li> \n",
    "    <li> <a href='#step8'> Analyze and get results </a></li> \n",
    "    <li> <a href='#step9'> Clean Results </a></li>   \n",
    "   \n",
    "</ol>\n",
    "\n",
    "And finally:  <ul> <a href='#condensed'> Condensed instructions </a></ul>   "
   ]
  },
  {
   "cell_type": "markdown",
   "metadata": {},
   "source": [
    "<a id='step1'></a>"
   ]
  },
  {
   "cell_type": "markdown",
   "metadata": {},
   "source": [
    "\n",
    "## 1. Create a folder for your simulation, and load bifacial_radiance \n",
    "\n",
    "First let's set the folder where the simulation will be saved. By default, this is the TEMP folder in the bifacial_radiance distribution.\n",
    "\n",
    "The lines below find the location of the folder relative to this Jupyter Journal. You can alternatively point to an empty directory (it will open a load GUI Visual Interface) or specify any other directory in your computer, for example:\n",
    "\n",
    "***testfolder = r'C:\\Users\\sayala\\Documents\\RadianceScenes\\Tutorials\\Journal2'***\n",
    "\n"
   ]
  },
  {
   "cell_type": "code",
   "execution_count": 1,
   "metadata": {},
   "outputs": [
    {
     "name": "stdout",
     "output_type": "stream",
     "text": [
      "Your simulation will be stored in C:\\Users\\sayala\\Documents\\GitHub\\bifacial_radiance\\bifacial_radiance\\TEMP\\Tutorial_02\n"
     ]
    }
   ],
   "source": [
    "import os\n",
    "from pathlib import Path\n",
    "\n",
    "testfolder = Path().resolve().parent.parent / 'bifacial_radiance' / 'TEMP' / 'Tutorial_02'\n",
    "\n",
    "# Another option using relative address; for some operative systems you might need '/' instead of '\\'\n",
    "# testfolder = os.path.abspath(r'..\\..\\bifacial_radiance\\TEMP')  \n",
    "\n",
    "print (\"Your simulation will be stored in %s\" % testfolder)\n",
    "\n",
    "if not os.path.exists(testfolder):\n",
    "    os.makedirs(testfolder)"
   ]
  },
  {
   "cell_type": "markdown",
   "metadata": {},
   "source": [
    "This will load bifacial_radiance and other libraries from python that will be useful for this Jupyter Journal:"
   ]
  },
  {
   "cell_type": "code",
   "execution_count": 2,
   "metadata": {},
   "outputs": [],
   "source": [
    "from bifacial_radiance import *\n",
    "import numpy as np"
   ]
  },
  {
   "cell_type": "markdown",
   "metadata": {},
   "source": [
    "<a id='step2'></a>"
   ]
  },
  {
   "cell_type": "markdown",
   "metadata": {},
   "source": [
    "## 2. Create a Radiance Object, Set Albedo, and Download and Load Weather File\n",
    "\n",
    "These are all repeated steps from Tutorial 1, so condensing:"
   ]
  },
  {
   "cell_type": "code",
   "execution_count": 3,
   "metadata": {},
   "outputs": [
    {
     "name": "stdout",
     "output_type": "stream",
     "text": [
      "path = C:\\Users\\sayala\\Documents\\GitHub\\bifacial_radiance\\bifacial_radiance\\TEMP\\Tutorial_02\n",
      "Making path: images\n",
      "Making path: objects\n",
      "Making path: results\n",
      "Making path: skies\n",
      "Making path: EPWs\n",
      "Making path: materials\n",
      "Loading albedo, 1 value(s), 0.250 avg\n",
      "1 nonzero albedo values.\n",
      "Getting weather file: USA_VA_Richmond.724010_TMY2.epw\n",
      " ... OK!\n",
      "8760 line in WeatherFile. Assuming this is a standard hourly WeatherFile for the year for purposes of saving Gencumulativesky temporary weather files in EPW folder.\n",
      "Coercing year to 2021\n",
      "Saving file EPWs\\metdata_temp.csv, # points: 8760\n",
      "Calculating Sun position for Metdata that is right-labeled  with a delta of -30 mins. i.e. 12 is 11:30 sunpos\n"
     ]
    }
   ],
   "source": [
    "# Create a RadianceObj 'object' named bifacial_example. no whitespace allowed\n",
    "demo = RadianceObj('tutorial_2', path = str(testfolder))  \n",
    "\n",
    "albedo = 0.25\n",
    "demo.setGround(albedo)\n",
    "\n",
    "# Pull in meteorological data using pyEPW for any global lat/lon\n",
    "epwfile = demo.getEPW(lat = 37.5, lon = -77.6)  # This location corresponds to Richmond, VA.\n",
    "# Read in the weather data pulled in above. \n",
    "metdata = demo.readWeatherFile(weatherFile = epwfile) "
   ]
  },
  {
   "cell_type": "markdown",
   "metadata": {},
   "source": [
    "<a id='step3'></a>"
   ]
  },
  {
   "cell_type": "markdown",
   "metadata": {},
   "source": [
    "# TRACKING Workflow"
   ]
  },
  {
   "cell_type": "markdown",
   "metadata": {},
   "source": [
    "Until now, all the steps looked the same from Tutorial 1. The following section follows similar steps, but the functions are specific for working with single axis tracking.\n",
    "\n",
    "## 3. Set Tracking Angles\n",
    "\n",
    "This function will read the weather file, and based on the sun position it will calculate the angle the tracker should be at for each hour. It will create metdata files for each of the tracker angles considered."
   ]
  },
  {
   "cell_type": "code",
   "execution_count": 4,
   "metadata": {},
   "outputs": [
    {
     "name": "stdout",
     "output_type": "stream",
     "text": [
      "Saving file EPWs\\1axis_-5.0.csv, # points: 2214\n",
      "Saving file EPWs\\1axis_0.0.csv, # points: 57\n",
      "Saving file EPWs\\1axis_5.0.csv, # points: 2096\n"
     ]
    }
   ],
   "source": [
    "limit_angle = 5 # tracker rotation limit angle. Setting it ridiculously small so this runs faster.\n",
    "angledelta = 5 # sampling between the limit angles. \n",
    "backtrack = True\n",
    "gcr = 0.33\n",
    "cumulativesky = True # This is important for this example!\n",
    "trackerdict = demo.set1axis(metdata = metdata, limit_angle = limit_angle, backtrack = backtrack, \n",
    "                            gcr = gcr, cumulativesky = cumulativesky)"
   ]
  },
  {
   "cell_type": "markdown",
   "metadata": {},
   "source": [
    "Setting backtrack to True is important in this step, so the trackers correct for self-shading when following the sun at high zenith angles. "
   ]
  },
  {
   "cell_type": "markdown",
   "metadata": {},
   "source": [
    "<a id='step4'></a>"
   ]
  },
  {
   "cell_type": "markdown",
   "metadata": {},
   "source": [
    "## 4. Generate the Sky\n",
    "\n",
    "This will create the skies for each sub-metdata file created by set1axis.\n"
   ]
  },
  {
   "cell_type": "code",
   "execution_count": 5,
   "metadata": {},
   "outputs": [
    {
     "name": "stdout",
     "output_type": "stream",
     "text": [
      "message: There were 2174 sun up hours in this climate file\n",
      "Total Ibh/Lbh: 0.000000\n",
      "Created skyfile skies\\1axis_-5.0.rad\n",
      "message: There were 50 sun up hours in this climate file\n",
      "Total Ibh/Lbh: 0.000000\n",
      "Created skyfile skies\\1axis_0.0.rad\n",
      "message: There were 2065 sun up hours in this climate file\n",
      "Total Ibh/Lbh: 0.000000\n",
      "Created skyfile skies\\1axis_5.0.rad\n"
     ]
    }
   ],
   "source": [
    "trackerdict = demo.genCumSky1axis()"
   ]
  },
  {
   "cell_type": "markdown",
   "metadata": {},
   "source": [
    "This is how one of the cumulative sky .cal files associated with each .rad file generated look like: \n",
    "\n",
    "![Example of the gencumsky1axis](../images_wiki/Journal2Pics/gencumsky1axis_example_file_structure_and_contents.PNG)\n",
    "\n",
    "\n",
    "Each of the values corresponds to the cumulative rradiance of one of those patches, for when the tracker is at that specific angle through the year."
   ]
  },
  {
   "cell_type": "markdown",
   "metadata": {},
   "source": [
    "<a id='step5'></a>"
   ]
  },
  {
   "cell_type": "markdown",
   "metadata": {},
   "source": [
    "## 5. Define the Module type\n",
    "\n",
    "Let's make a more interesting module in this example. Let's do 2-up configuration in portrait, with the modules rotating around a 10 centimeter round torque tube. Let's add a gap between the two modules in 2-UP of 10 centimeters, as well as gap between the torque tube and the modules of 5 centimeters. Along the row, the modules are separated only 2 centimeters for this example. The torquetube is painted Metal_Grey in this example (it's one of the materials available in Ground.rad, and it is 40% reflective).\n",
    "\n",
    "Note that starting with bifacial_radiance version 0.4.0, the module object has a new geometry generation function `addTorquetube`.  The old way of passing a properly formatted dictionary as a keyword argument will still work too.\n"
   ]
  },
  {
   "cell_type": "code",
   "execution_count": 6,
   "metadata": {},
   "outputs": [
    {
     "name": "stdout",
     "output_type": "stream",
     "text": [
      "\n",
      "Module Name: test-module\n",
      "Module test-module updated in module.json\n",
      "Module test-module updated in module.json\n",
      "Pre-existing .rad file objects\\test-module.rad will be overwritten\n",
      "\n",
      "\n",
      "{'x': 0.984, 'y': 1.7, 'z': 0.02, 'modulematerial': 'black', 'scenex': 1.004, 'sceney': 3.5, 'scenez': 0.1, 'numpanels': 2, 'bifi': 1, 'text': '! genbox black test-module 0.984 1.7 0.02 | xform -t -0.492 -1.75 0.1 -a 2 -t 0 1.8 0\\r\\n! genrev Metal_Grey tube1 t*1.004 0.05 32 | xform -ry 90 -t -0.502 0 0', 'modulefile': 'objects\\\\test-module.rad', 'glass': False, 'offsetfromaxis': 0.1, 'xgap': 0.02, 'ygap': 0.1, 'zgap': 0.05}\n",
      "\n",
      "{'diameter': 0.1, 'tubetype': 'round', 'material': 'Metal_Grey', 'visible': True}\n"
     ]
    }
   ],
   "source": [
    "x = 0.984  # meters\n",
    "y = 1.7    # meters\n",
    "moduletype = 'test-module'\n",
    "numpanels = 2\n",
    "zgap = 0.05\n",
    "ygap = 0.10\n",
    "xgap = 0.02\n",
    "\n",
    "module = demo.makeModule(name=moduletype, x=x, y=y,xgap=xgap, ygap=ygap, zgap=zgap, \n",
    "                numpanels=numpanels)\n",
    "\n",
    "module.addTorquetube(diameter=0.1, material='Metal_Grey', tubetype='round') # New torquetube generation function\n",
    "print()\n",
    "print(module)\n",
    "print()\n",
    "print(module.torquetube)"
   ]
  },
  {
   "cell_type": "markdown",
   "metadata": {},
   "source": [
    "<a id='step6'></a>"
   ]
  },
  {
   "cell_type": "markdown",
   "metadata": {},
   "source": [
    "## 6. Make the Scene\n",
    "\n",
    "The scene Dictionary specifies the information of the scene. For tracking, different input parameters are expected in the dictionary, such as number of rows, number of modules per row, row azimuth, hub_height (distance between the axis of rotation of the modules and the ground). "
   ]
  },
  {
   "cell_type": "code",
   "execution_count": 7,
   "metadata": {
    "scrolled": true
   },
   "outputs": [],
   "source": [
    "hub_height = 2.3\n",
    "sceneDict = {'gcr': gcr,'hub_height':hub_height, 'nMods': 20, 'nRows': 7}  \n"
   ]
  },
  {
   "cell_type": "markdown",
   "metadata": {},
   "source": [
    "To make the scene we have to create a Scene Object through the method makeScene1axis. This method will create a .rad file in the objects folder, with the parameters specified in sceneDict and the module created above."
   ]
  },
  {
   "cell_type": "code",
   "execution_count": 8,
   "metadata": {},
   "outputs": [
    {
     "name": "stdout",
     "output_type": "stream",
     "text": [
      "\n",
      "Making .rad files for cumulativesky 1-axis workflow\n",
      "3 Radfiles created in /objects/\n"
     ]
    }
   ],
   "source": [
    "trackerdict = demo.makeScene1axis(trackerdict = trackerdict, module = module, sceneDict = sceneDict) "
   ]
  },
  {
   "cell_type": "markdown",
   "metadata": {},
   "source": [
    "<a id='step7'></a>"
   ]
  },
  {
   "cell_type": "markdown",
   "metadata": {},
   "source": [
    "## 7. Combine Ground, Sky and Scene Objects\n",
    "\n",
    "makeOct1axis joins the sky.rad file, ground.rad file, and the geometry.rad files created in makeScene."
   ]
  },
  {
   "cell_type": "code",
   "execution_count": 9,
   "metadata": {},
   "outputs": [
    {
     "name": "stdout",
     "output_type": "stream",
     "text": [
      "\n",
      "Making 3 octfiles in root directory.\n",
      "Created 1axis_-5.0.oct\n",
      "Created 1axis_0.0.oct\n",
      "Created 1axis_5.0.oct\n"
     ]
    }
   ],
   "source": [
    "trackerdict = demo.makeOct1axis(trackerdict = trackerdict)"
   ]
  },
  {
   "cell_type": "markdown",
   "metadata": {},
   "source": [
    "<a id='step8'></a>"
   ]
  },
  {
   "cell_type": "markdown",
   "metadata": {},
   "source": [
    "## 8. Analyze and get results\n",
    "\n",
    "We can choose to analyze any module in the Scene we have created. The default, if no modWanted or rowWanted is passed, is to sample the center module of the center row. \n",
    "\n",
    "For this example we will sample row 2, module 9."
   ]
  },
  {
   "cell_type": "code",
   "execution_count": 10,
   "metadata": {},
   "outputs": [
    {
     "name": "stdout",
     "output_type": "stream",
     "text": [
      "Linescan in process: 1axis_-5.0_Row_2_Module_09_Front\n",
      "Linescan in process: 1axis_-5.0_Row_2_Module_09_Back\n",
      "Saved: results\\irr_1axis_-5.0_Row_2_Module_09.csv\n",
      "Index: -5.0. Wm2Front: 754267.5185185184. Wm2Back: 104589.73592592594\n",
      "Linescan in process: 1axis_0.0_Row_2_Module_09_Front\n",
      "Linescan in process: 1axis_0.0_Row_2_Module_09_Back\n",
      "Saved: results\\irr_1axis_0.0_Row_2_Module_09.csv\n",
      "Index: 0.0. Wm2Front: 1204.7218888888888. Wm2Back: 170.25936296296294\n",
      "Linescan in process: 1axis_5.0_Row_2_Module_09_Front\n",
      "Linescan in process: 1axis_5.0_Row_2_Module_09_Back\n",
      "Saved: results\\irr_1axis_5.0_Row_2_Module_09.csv\n",
      "Index: 5.0. Wm2Front: 840359.3999999999. Wm2Back: 116222.5111111111\n",
      "Saving a cumulative-results file in the main simulation folder.This adds up by sensor location the irradiance over all hours or configurations considered.\n",
      "Warning: This file saving routine does not clean results, so if your setup has ygaps, or 2+modules or torque tubes, doing a deeper cleaning and working with the individual results files in the results folder is highly suggested.\n",
      "\n",
      "Saving Cumulative results\n",
      "Saved: cumulative_results__Row_2_Module_09.csv\n"
     ]
    }
   ],
   "source": [
    "modWanted = 9\n",
    "rowWanted = 2\n",
    "customname = '_Row_2_Module_09' # This is useful if we want to do various analysis.\n",
    "trackerdict = demo.analysis1axis(trackerdict, modWanted=9, rowWanted = 2, customname=customname)"
   ]
  },
  {
   "cell_type": "markdown",
   "metadata": {},
   "source": [
    "Let's look at the results with more detail. The analysis1axis routine created individual result .csv files for each angle, as well as one cumulative result .csv where the irradiance is added by sensor.\n"
   ]
  },
  {
   "cell_type": "code",
   "execution_count": 11,
   "metadata": {},
   "outputs": [
    {
     "data": {
      "text/html": [
       "<div>\n",
       "<style scoped>\n",
       "    .dataframe tbody tr th:only-of-type {\n",
       "        vertical-align: middle;\n",
       "    }\n",
       "\n",
       "    .dataframe tbody tr th {\n",
       "        vertical-align: top;\n",
       "    }\n",
       "\n",
       "    .dataframe thead th {\n",
       "        text-align: right;\n",
       "    }\n",
       "</style>\n",
       "<table border=\"1\" class=\"dataframe\">\n",
       "  <thead>\n",
       "    <tr style=\"text-align: right;\">\n",
       "      <th></th>\n",
       "      <th>x</th>\n",
       "      <th>y</th>\n",
       "      <th>z</th>\n",
       "      <th>rearZ</th>\n",
       "      <th>mattype</th>\n",
       "      <th>rearMat</th>\n",
       "      <th>Wm2Front</th>\n",
       "      <th>Wm2Back</th>\n",
       "      <th>Back/FrontRatio</th>\n",
       "    </tr>\n",
       "  </thead>\n",
       "  <tbody>\n",
       "    <tr>\n",
       "      <th>0</th>\n",
       "      <td>22.61734</td>\n",
       "      <td>-1.004</td>\n",
       "      <td>2.298522</td>\n",
       "      <td>2.276605</td>\n",
       "      <td>a8.1.a0.test-module.6457</td>\n",
       "      <td>a8.1.a0.test-module.2310</td>\n",
       "      <td>1.592952e+06</td>\n",
       "      <td>231445.315867</td>\n",
       "      <td>0.145293</td>\n",
       "    </tr>\n",
       "    <tr>\n",
       "      <th>1</th>\n",
       "      <td>22.26867</td>\n",
       "      <td>-1.004</td>\n",
       "      <td>2.329026</td>\n",
       "      <td>2.307110</td>\n",
       "      <td>a8.1.a0.test-module.6457</td>\n",
       "      <td>a8.1.a0.test-module.2310</td>\n",
       "      <td>1.592998e+06</td>\n",
       "      <td>225728.468267</td>\n",
       "      <td>0.141700</td>\n",
       "    </tr>\n",
       "    <tr>\n",
       "      <th>2</th>\n",
       "      <td>21.92000</td>\n",
       "      <td>-1.004</td>\n",
       "      <td>2.359531</td>\n",
       "      <td>2.337614</td>\n",
       "      <td>a8.1.a0.test-module.6457</td>\n",
       "      <td>a8.1.a0.test-module.2310</td>\n",
       "      <td>1.592993e+06</td>\n",
       "      <td>219336.440267</td>\n",
       "      <td>0.137688</td>\n",
       "    </tr>\n",
       "    <tr>\n",
       "      <th>3</th>\n",
       "      <td>21.57134</td>\n",
       "      <td>-1.004</td>\n",
       "      <td>2.390035</td>\n",
       "      <td>2.368119</td>\n",
       "      <td>a8.1.a0.test-module.6457</td>\n",
       "      <td>a8.1.a0.test-module.2310</td>\n",
       "      <td>1.592988e+06</td>\n",
       "      <td>213224.725067</td>\n",
       "      <td>0.133852</td>\n",
       "    </tr>\n",
       "    <tr>\n",
       "      <th>4</th>\n",
       "      <td>21.22267</td>\n",
       "      <td>-1.004</td>\n",
       "      <td>2.420540</td>\n",
       "      <td>2.398623</td>\n",
       "      <td>a8.1.tube1.16</td>\n",
       "      <td>sky</td>\n",
       "      <td>1.592575e+06</td>\n",
       "      <td>196471.474700</td>\n",
       "      <td>0.123367</td>\n",
       "    </tr>\n",
       "    <tr>\n",
       "      <th>5</th>\n",
       "      <td>20.87400</td>\n",
       "      <td>-1.004</td>\n",
       "      <td>2.451044</td>\n",
       "      <td>2.429128</td>\n",
       "      <td>a8.1.a1.test-module.6457</td>\n",
       "      <td>a8.1.a1.test-module.2310</td>\n",
       "      <td>1.599510e+06</td>\n",
       "      <td>214677.671867</td>\n",
       "      <td>0.134215</td>\n",
       "    </tr>\n",
       "    <tr>\n",
       "      <th>6</th>\n",
       "      <td>20.52533</td>\n",
       "      <td>-1.004</td>\n",
       "      <td>2.481549</td>\n",
       "      <td>2.459632</td>\n",
       "      <td>a8.1.a1.test-module.6457</td>\n",
       "      <td>a8.1.a1.test-module.2310</td>\n",
       "      <td>1.599511e+06</td>\n",
       "      <td>222697.557000</td>\n",
       "      <td>0.139229</td>\n",
       "    </tr>\n",
       "    <tr>\n",
       "      <th>7</th>\n",
       "      <td>20.17666</td>\n",
       "      <td>-1.004</td>\n",
       "      <td>2.512053</td>\n",
       "      <td>2.490137</td>\n",
       "      <td>a8.1.a1.test-module.6457</td>\n",
       "      <td>a8.1.a1.test-module.2310</td>\n",
       "      <td>1.599490e+06</td>\n",
       "      <td>229091.227367</td>\n",
       "      <td>0.143228</td>\n",
       "    </tr>\n",
       "    <tr>\n",
       "      <th>8</th>\n",
       "      <td>19.82799</td>\n",
       "      <td>-1.004</td>\n",
       "      <td>2.542558</td>\n",
       "      <td>2.520641</td>\n",
       "      <td>a8.1.a1.test-module.6457</td>\n",
       "      <td>a8.1.a1.test-module.2310</td>\n",
       "      <td>1.599468e+06</td>\n",
       "      <td>236169.677200</td>\n",
       "      <td>0.147655</td>\n",
       "    </tr>\n",
       "  </tbody>\n",
       "</table>\n",
       "</div>"
      ],
      "text/plain": [
       "          x      y         z     rearZ                   mattype  \\\n",
       "0  22.61734 -1.004  2.298522  2.276605  a8.1.a0.test-module.6457   \n",
       "1  22.26867 -1.004  2.329026  2.307110  a8.1.a0.test-module.6457   \n",
       "2  21.92000 -1.004  2.359531  2.337614  a8.1.a0.test-module.6457   \n",
       "3  21.57134 -1.004  2.390035  2.368119  a8.1.a0.test-module.6457   \n",
       "4  21.22267 -1.004  2.420540  2.398623             a8.1.tube1.16   \n",
       "5  20.87400 -1.004  2.451044  2.429128  a8.1.a1.test-module.6457   \n",
       "6  20.52533 -1.004  2.481549  2.459632  a8.1.a1.test-module.6457   \n",
       "7  20.17666 -1.004  2.512053  2.490137  a8.1.a1.test-module.6457   \n",
       "8  19.82799 -1.004  2.542558  2.520641  a8.1.a1.test-module.6457   \n",
       "\n",
       "                    rearMat      Wm2Front        Wm2Back  Back/FrontRatio  \n",
       "0  a8.1.a0.test-module.2310  1.592952e+06  231445.315867         0.145293  \n",
       "1  a8.1.a0.test-module.2310  1.592998e+06  225728.468267         0.141700  \n",
       "2  a8.1.a0.test-module.2310  1.592993e+06  219336.440267         0.137688  \n",
       "3  a8.1.a0.test-module.2310  1.592988e+06  213224.725067         0.133852  \n",
       "4                       sky  1.592575e+06  196471.474700         0.123367  \n",
       "5  a8.1.a1.test-module.2310  1.599510e+06  214677.671867         0.134215  \n",
       "6  a8.1.a1.test-module.2310  1.599511e+06  222697.557000         0.139229  \n",
       "7  a8.1.a1.test-module.2310  1.599490e+06  229091.227367         0.143228  \n",
       "8  a8.1.a1.test-module.2310  1.599468e+06  236169.677200         0.147655  "
      ]
     },
     "execution_count": 11,
     "metadata": {},
     "output_type": "execute_result"
    }
   ],
   "source": [
    "results = load.read1Result('cumulative_results__Row_2_Module_09.csv')\n",
    "results"
   ]
  },
  {
   "cell_type": "markdown",
   "metadata": {},
   "source": [
    "There are various things to notice:\n",
    "\n",
    "I. The materials column has a specific format that will tell you if you are sampling the correct module:\n",
    "\n",
    "                                a{ModWanted}.{rowWanted}.a{numPanel}.{moduletype}.material_key\n",
    "\n",
    "* Since for this journal numPanels = 2, numPanel can either be 0 or 1, for the East-most and West-most module in the collector width.\n",
    "* numPanel, ModWanted and RowWanted are indexed starting at 0 in the results.\n",
    "* material_key is from the surface generated inside radiance. Usually it is 6457 for top surface of hte module and .2310 for the bottom one. \n",
    "\n",
    "II. Sensors sample always in the same direction. For this N-S aligned tracker, that is East-most to West. For this 2-up portrait tracker which is 3.5 meters, 20x7 rows and we are sampling module 9 on row 2, the East to West sampling goes from 22.6 m to 19.81 m = 2.79m. It is not exatly 3.5 because the sensors are spaced evenly through the collector width (CW): \n",
    "\n",
    "\n",
    "![Sensors spaced along collector width](../images_wiki/Journal2Pics/spaced_sensors.PNG)\n",
    "\n",
    "III. When there is a ygap in the collector width (2-UP or more configuration), some of the sensors might end up sampling the torque tube, or the sky. You can ses that in the materials columns. This also happens if the number of sensors is quite high, the edges of the module might be sampled instead of the sensors. For this reason, before calculating bifacial gain these results must be cleaned. For more advanced simulations, make sure you clean each result csv file individually.  We provide some options on load.py but some are very use-specific, so you might have to develop your own cleaning tool (or let us know on issues!)\n",
    "\n",
    "<div class=\"alert alert-warning\">\n",
    "Important: If you have torquetubes and y-gap values, make sure you clean your results.\n",
    "</div>\n"
   ]
  },
  {
   "cell_type": "markdown",
   "metadata": {},
   "source": [
    "<a id='step9'></a>"
   ]
  },
  {
   "cell_type": "markdown",
   "metadata": {},
   "source": [
    "## 9. Clean Results\n",
    "\n",
    "We have two options for cleaning results. The simples on is <b>load.cleanResults</b>, but there is also a deepClean for specific purposes.\n",
    "\n",
    "cleanResults will find materials that should not have values and set them to NaN."
   ]
  },
  {
   "cell_type": "code",
   "execution_count": 12,
   "metadata": {},
   "outputs": [
    {
     "data": {
      "text/html": [
       "<div>\n",
       "<style scoped>\n",
       "    .dataframe tbody tr th:only-of-type {\n",
       "        vertical-align: middle;\n",
       "    }\n",
       "\n",
       "    .dataframe tbody tr th {\n",
       "        vertical-align: top;\n",
       "    }\n",
       "\n",
       "    .dataframe thead th {\n",
       "        text-align: right;\n",
       "    }\n",
       "</style>\n",
       "<table border=\"1\" class=\"dataframe\">\n",
       "  <thead>\n",
       "    <tr style=\"text-align: right;\">\n",
       "      <th></th>\n",
       "      <th>x</th>\n",
       "      <th>y</th>\n",
       "      <th>z</th>\n",
       "      <th>rearZ</th>\n",
       "      <th>mattype</th>\n",
       "      <th>rearMat</th>\n",
       "      <th>Wm2Front</th>\n",
       "      <th>Wm2Back</th>\n",
       "      <th>Back/FrontRatio</th>\n",
       "    </tr>\n",
       "  </thead>\n",
       "  <tbody>\n",
       "    <tr>\n",
       "      <th>0</th>\n",
       "      <td>22.61734</td>\n",
       "      <td>-1.004</td>\n",
       "      <td>2.298522</td>\n",
       "      <td>2.276605</td>\n",
       "      <td>a8.1.a0.test-module.6457</td>\n",
       "      <td>a8.1.a0.test-module.2310</td>\n",
       "      <td>1.592952e+06</td>\n",
       "      <td>231445.315867</td>\n",
       "      <td>0.145293</td>\n",
       "    </tr>\n",
       "    <tr>\n",
       "      <th>1</th>\n",
       "      <td>22.26867</td>\n",
       "      <td>-1.004</td>\n",
       "      <td>2.329026</td>\n",
       "      <td>2.307110</td>\n",
       "      <td>a8.1.a0.test-module.6457</td>\n",
       "      <td>a8.1.a0.test-module.2310</td>\n",
       "      <td>1.592998e+06</td>\n",
       "      <td>225728.468267</td>\n",
       "      <td>0.141700</td>\n",
       "    </tr>\n",
       "    <tr>\n",
       "      <th>2</th>\n",
       "      <td>21.92000</td>\n",
       "      <td>-1.004</td>\n",
       "      <td>2.359531</td>\n",
       "      <td>2.337614</td>\n",
       "      <td>a8.1.a0.test-module.6457</td>\n",
       "      <td>a8.1.a0.test-module.2310</td>\n",
       "      <td>1.592993e+06</td>\n",
       "      <td>219336.440267</td>\n",
       "      <td>0.137688</td>\n",
       "    </tr>\n",
       "    <tr>\n",
       "      <th>3</th>\n",
       "      <td>21.57134</td>\n",
       "      <td>-1.004</td>\n",
       "      <td>2.390035</td>\n",
       "      <td>2.368119</td>\n",
       "      <td>a8.1.a0.test-module.6457</td>\n",
       "      <td>a8.1.a0.test-module.2310</td>\n",
       "      <td>1.592988e+06</td>\n",
       "      <td>213224.725067</td>\n",
       "      <td>0.133852</td>\n",
       "    </tr>\n",
       "    <tr>\n",
       "      <th>4</th>\n",
       "      <td>21.22267</td>\n",
       "      <td>-1.004</td>\n",
       "      <td>2.420540</td>\n",
       "      <td>2.398623</td>\n",
       "      <td>a8.1.tube1.16</td>\n",
       "      <td>sky</td>\n",
       "      <td>NaN</td>\n",
       "      <td>NaN</td>\n",
       "      <td>0.123367</td>\n",
       "    </tr>\n",
       "    <tr>\n",
       "      <th>5</th>\n",
       "      <td>20.87400</td>\n",
       "      <td>-1.004</td>\n",
       "      <td>2.451044</td>\n",
       "      <td>2.429128</td>\n",
       "      <td>a8.1.a1.test-module.6457</td>\n",
       "      <td>a8.1.a1.test-module.2310</td>\n",
       "      <td>1.599510e+06</td>\n",
       "      <td>214677.671867</td>\n",
       "      <td>0.134215</td>\n",
       "    </tr>\n",
       "    <tr>\n",
       "      <th>6</th>\n",
       "      <td>20.52533</td>\n",
       "      <td>-1.004</td>\n",
       "      <td>2.481549</td>\n",
       "      <td>2.459632</td>\n",
       "      <td>a8.1.a1.test-module.6457</td>\n",
       "      <td>a8.1.a1.test-module.2310</td>\n",
       "      <td>1.599511e+06</td>\n",
       "      <td>222697.557000</td>\n",
       "      <td>0.139229</td>\n",
       "    </tr>\n",
       "    <tr>\n",
       "      <th>7</th>\n",
       "      <td>20.17666</td>\n",
       "      <td>-1.004</td>\n",
       "      <td>2.512053</td>\n",
       "      <td>2.490137</td>\n",
       "      <td>a8.1.a1.test-module.6457</td>\n",
       "      <td>a8.1.a1.test-module.2310</td>\n",
       "      <td>1.599490e+06</td>\n",
       "      <td>229091.227367</td>\n",
       "      <td>0.143228</td>\n",
       "    </tr>\n",
       "    <tr>\n",
       "      <th>8</th>\n",
       "      <td>19.82799</td>\n",
       "      <td>-1.004</td>\n",
       "      <td>2.542558</td>\n",
       "      <td>2.520641</td>\n",
       "      <td>a8.1.a1.test-module.6457</td>\n",
       "      <td>a8.1.a1.test-module.2310</td>\n",
       "      <td>1.599468e+06</td>\n",
       "      <td>236169.677200</td>\n",
       "      <td>0.147655</td>\n",
       "    </tr>\n",
       "  </tbody>\n",
       "</table>\n",
       "</div>"
      ],
      "text/plain": [
       "          x      y         z     rearZ                   mattype  \\\n",
       "0  22.61734 -1.004  2.298522  2.276605  a8.1.a0.test-module.6457   \n",
       "1  22.26867 -1.004  2.329026  2.307110  a8.1.a0.test-module.6457   \n",
       "2  21.92000 -1.004  2.359531  2.337614  a8.1.a0.test-module.6457   \n",
       "3  21.57134 -1.004  2.390035  2.368119  a8.1.a0.test-module.6457   \n",
       "4  21.22267 -1.004  2.420540  2.398623             a8.1.tube1.16   \n",
       "5  20.87400 -1.004  2.451044  2.429128  a8.1.a1.test-module.6457   \n",
       "6  20.52533 -1.004  2.481549  2.459632  a8.1.a1.test-module.6457   \n",
       "7  20.17666 -1.004  2.512053  2.490137  a8.1.a1.test-module.6457   \n",
       "8  19.82799 -1.004  2.542558  2.520641  a8.1.a1.test-module.6457   \n",
       "\n",
       "                    rearMat      Wm2Front        Wm2Back  Back/FrontRatio  \n",
       "0  a8.1.a0.test-module.2310  1.592952e+06  231445.315867         0.145293  \n",
       "1  a8.1.a0.test-module.2310  1.592998e+06  225728.468267         0.141700  \n",
       "2  a8.1.a0.test-module.2310  1.592993e+06  219336.440267         0.137688  \n",
       "3  a8.1.a0.test-module.2310  1.592988e+06  213224.725067         0.133852  \n",
       "4                       sky           NaN            NaN         0.123367  \n",
       "5  a8.1.a1.test-module.2310  1.599510e+06  214677.671867         0.134215  \n",
       "6  a8.1.a1.test-module.2310  1.599511e+06  222697.557000         0.139229  \n",
       "7  a8.1.a1.test-module.2310  1.599490e+06  229091.227367         0.143228  \n",
       "8  a8.1.a1.test-module.2310  1.599468e+06  236169.677200         0.147655  "
      ]
     },
     "execution_count": 12,
     "metadata": {},
     "output_type": "execute_result"
    }
   ],
   "source": [
    "results_clean = load.cleanResult(results)\n",
    "results_clean\n"
   ]
  },
  {
   "cell_type": "markdown",
   "metadata": {},
   "source": [
    "These are the total irradiance values over all the hours of the year that the module at each sampling point will receive. Dividing the back irradiance average by the front irradiance average will give us the bifacial gain for the year:\n",
    "\n",
    "![Bifacial Gain in Irradiance Formula](../images_wiki/Journal1Pics/BGG_Formula.PNG)\n",
    "\n",
    "Assuming that our module from Prism Solar has a bifaciality factor (rear to front performance) of 90%, our <u> bifacial gain </u> is of:"
   ]
  },
  {
   "cell_type": "code",
   "execution_count": 13,
   "metadata": {},
   "outputs": [
    {
     "name": "stdout",
     "output_type": "stream",
     "text": [
      "Annual bifacial ratio: 0.126 \n"
     ]
    }
   ],
   "source": [
    "bifacialityfactor = 0.9\n",
    "print('Annual bifacial ratio: %0.3f ' %( np.nanmean(results_clean.Wm2Back) * bifacialityfactor / np.nanmean(results_clean.Wm2Front)) )"
   ]
  },
  {
   "cell_type": "markdown",
   "metadata": {},
   "source": [
    "<a id='condensed'></a>"
   ]
  },
  {
   "cell_type": "markdown",
   "metadata": {},
   "source": [
    "## CONDENSED VERSION\n",
    "Everything we've done so far in super short condensed version:"
   ]
  },
  {
   "cell_type": "code",
   "execution_count": 14,
   "metadata": {
    "scrolled": true
   },
   "outputs": [
    {
     "name": "stdout",
     "output_type": "stream",
     "text": [
      "path = C:\\Users\\sayala\\Documents\\GitHub\\bifacial_radiance\\bifacial_radiance\\TEMP\\Tutorial_02\n",
      "Loading albedo, 1 value(s), 0.250 avg\n",
      "1 nonzero albedo values.\n",
      "Getting weather file: USA_VA_Richmond.724010_TMY2.epw\n",
      " ... OK!\n",
      "8760 line in WeatherFile. Assuming this is a standard hourly WeatherFile for the year for purposes of saving Gencumulativesky temporary weather files in EPW folder.\n",
      "Coercing year to 2021\n",
      "Saving file EPWs\\metdata_temp.csv, # points: 8760\n",
      "Calculating Sun position for Metdata that is right-labeled  with a delta of -30 mins. i.e. 12 is 11:30 sunpos\n",
      "Saving file EPWs\\1axis_-5.0.csv, # points: 2214\n",
      "Saving file EPWs\\1axis_0.0.csv, # points: 57\n",
      "Saving file EPWs\\1axis_5.0.csv, # points: 2096\n",
      "message: There were 2174 sun up hours in this climate file\n",
      "Total Ibh/Lbh: 0.000000\n",
      "Created skyfile skies\\1axis_-5.0.rad\n",
      "message: There were 50 sun up hours in this climate file\n",
      "Total Ibh/Lbh: 0.000000\n",
      "Created skyfile skies\\1axis_0.0.rad\n",
      "message: There were 2065 sun up hours in this climate file\n",
      "Total Ibh/Lbh: 0.000000\n",
      "Created skyfile skies\\1axis_5.0.rad\n",
      "\n",
      "Making .rad files for cumulativesky 1-axis workflow\n",
      "3 Radfiles created in /objects/\n",
      "\n",
      "Making 3 octfiles in root directory.\n",
      "Created 1axis_-5.0.oct\n",
      "Created 1axis_0.0.oct\n",
      "Created 1axis_5.0.oct\n",
      "Linescan in process: 1axis_-5.0_Front\n",
      "Linescan in process: 1axis_-5.0_Back\n",
      "Saved: results\\irr_1axis_-5.0.csv\n",
      "Index: -5.0. Wm2Front: 723757.5777777777. Wm2Back: 104764.75222222222\n",
      "Linescan in process: 1axis_0.0_Front\n",
      "Linescan in process: 1axis_0.0_Back\n",
      "Saved: results\\irr_1axis_0.0.csv\n",
      "Index: 0.0. Wm2Front: 1180.487. Wm2Back: 167.55038148148145\n",
      "Linescan in process: 1axis_5.0_Front\n",
      "Linescan in process: 1axis_5.0_Back\n",
      "Saved: results\\irr_1axis_5.0.csv\n",
      "Index: 5.0. Wm2Front: 845301.237037037. Wm2Back: 116417.85555555555\n",
      "Saving a cumulative-results file in the main simulation folder.This adds up by sensor location the irradiance over all hours or configurations considered.\n",
      "Warning: This file saving routine does not clean results, so if your setup has ygaps, or 2+modules or torque tubes, doing a deeper cleaning and working with the individual results files in the results folder is highly suggested.\n",
      "\n",
      "Saving Cumulative results\n",
      "Saved: cumulative_results_.csv\n"
     ]
    },
    {
     "data": {
      "text/plain": [
       "{-5.0: {'csvfile': 'EPWs\\\\1axis_-5.0.csv',\n",
       "  'surf_azm': 90.0,\n",
       "  'surf_tilt': 5.0,\n",
       "  'datetime': Index(['2021-01-01 08:00:00', '2021-01-01 09:00:00', '2021-01-01 10:00:00',\n",
       "         '2021-01-01 11:00:00', '2021-01-01 12:00:00', '2021-01-02 08:00:00',\n",
       "         '2021-01-02 09:00:00', '2021-01-02 10:00:00', '2021-01-02 11:00:00',\n",
       "         '2021-01-02 12:00:00',\n",
       "         ...\n",
       "         '2021-12-30 08:00:00', '2021-12-30 09:00:00', '2021-12-30 10:00:00',\n",
       "         '2021-12-30 11:00:00', '2021-12-30 12:00:00', '2021-12-31 08:00:00',\n",
       "         '2021-12-31 09:00:00', '2021-12-31 10:00:00', '2021-12-31 11:00:00',\n",
       "         '2021-12-31 12:00:00'],\n",
       "        dtype='object', length=2214),\n",
       "  'count': 2214,\n",
       "  'skyfile': 'skies\\\\1axis_-5.0.rad',\n",
       "  'clearance_height': 2.156193024466364,\n",
       "  'radfile': 'objects\\\\1axis-5.0__C_2.15619_rtr_10.60600_tilt_5.00000_20modsx7rows_origin0,0.rad',\n",
       "  'scene': {'module': {'x': 0.984, 'y': 1.7, 'z': 0.02, 'modulematerial': 'black', 'scenex': 1.004, 'sceney': 3.5, 'scenez': 0.1, 'numpanels': 2, 'bifi': 1, 'text': '! genbox black test-module 0.984 1.7 0.02 | xform -t -0.492 -1.75 0.1 -a 2 -t 0 1.8 0\\r\\n! genrev Metal_Grey tube1 t*1.004 0.05 32 | xform -ry 90 -t -0.502 0 0', 'modulefile': 'objects\\\\test-module.rad', 'glass': False, 'offsetfromaxis': 0.1, 'xgap': 0.02, 'ygap': 0.1, 'zgap': 0.05}, 'modulefile': 'objects\\\\test-module.rad', 'gcr': 0.3300018857250613, 'text': '!xform -rx 5.0 -t 0 0 2.3 -a 20 -t 1.004 0 0 -a 7 -t 0 10.606 0 -i 1 -t -9.036 -31.817999999999998 0 -rz 90.0 -t 0 0 0 objects\\\\test-module.rad', 'radfiles': 'objects\\\\1axis-5.0__C_2.15619_rtr_10.60600_tilt_5.00000_20modsx7rows_origin0,0.rad', 'sceneDict': {'tilt': 5.0, 'gcr': 0.33, 'clearance_height': 2.156193024466364, 'azimuth': 90.0, 'nMods': 20, 'nRows': 7, 'modulez': 0.02, 'axis_tilt': 0, 'originx': 0, 'originy': 0}},\n",
       "  'octfile': '1axis_-5.0.oct',\n",
       "  'AnalysisObj': {'octfile': '1axis_-5.0.oct', 'name': '1axis_-5.0', 'x': [22.61734, 22.26867, 21.92, 21.57134, 21.22267, 20.874, 20.52533, 20.17666, 19.82799], 'y': [-1.004, -1.004, -1.004, -1.004, -1.004, -1.004, -1.004, -1.004, -1.004], 'z': [2.298522, 2.329026, 2.359531, 2.390035, 2.42054, 2.451044, 2.481549, 2.512053, 2.542558], 'rearZ': [2.276605, 2.30711, 2.337614, 2.368119, 2.398623, 2.429128, 2.459632, 2.490137, 2.520641], 'mattype': ['a8.1.a0.test-module.6457', 'a8.1.a0.test-module.6457', 'a8.1.a0.test-module.6457', 'a8.1.a0.test-module.6457', 'a8.1.tube1.16', 'a8.1.a1.test-module.6457', 'a8.1.a1.test-module.6457', 'a8.1.a1.test-module.6457', 'a8.1.a1.test-module.6457'], 'rearMat': ['a8.1.a0.test-module.2310', 'a8.1.a0.test-module.2310', 'a8.1.a0.test-module.2310', 'a8.1.a0.test-module.2310', 'sky', 'a8.1.a1.test-module.2310', 'a8.1.a1.test-module.2310', 'a8.1.a1.test-module.2310', 'a8.1.a1.test-module.2310'], 'Wm2Front': [759067.4, 759053.1, 759017.5666666668, 758981.9666666667, 467843.0, 752599.8000000002, 752519.8333333334, 752418.4333333332, 752317.1], 'Wm2Back': [121806.59999999999, 116581.09999999999, 109869.73333333334, 104100.16666666667, 96092.40999999999, 96893.88666666666, 98651.47333333333, 98558.60000000002, 100328.8], 'Back/FrontRatio': [0.16046875394666038, 0.15358754196038782, 0.14475255648046367, 0.13715762837778758, 0.20539456568679113, 0.12874556509039872, 0.1310948480457394, 0.13098908200903675, 0.13335972273744712], 'backRatio': [0.16046875394666038, 0.15358754196038782, 0.14475255648046367, 0.13715762837778758, 0.20539456568679113, 0.12874556509039872, 0.1310948480457394, 0.13098908200903675, 0.13335972273744712], 'rearX': [22.61542, 22.26675, 21.91809, 21.56942, 21.22075, 20.87208, 20.52341, 20.17475, 19.82608], 'rearY': [-1.004, -1.004, -1.004, -1.004, -1.004, -1.004, -1.004, -1.004, -1.004]},\n",
       "  'Wm2Front': [759067.4,\n",
       "   759053.1,\n",
       "   759017.5666666668,\n",
       "   758981.9666666667,\n",
       "   467843.0,\n",
       "   752599.8000000002,\n",
       "   752519.8333333334,\n",
       "   752418.4333333332,\n",
       "   752317.1],\n",
       "  'Wm2Back': [121806.59999999999,\n",
       "   116581.09999999999,\n",
       "   109869.73333333334,\n",
       "   104100.16666666667,\n",
       "   96092.40999999999,\n",
       "   96893.88666666666,\n",
       "   98651.47333333333,\n",
       "   98558.60000000002,\n",
       "   100328.8],\n",
       "  'backRatio': [0.16046875394666038,\n",
       "   0.15358754196038782,\n",
       "   0.14475255648046367,\n",
       "   0.13715762837778758,\n",
       "   0.20539456568679113,\n",
       "   0.12874556509039872,\n",
       "   0.1310948480457394,\n",
       "   0.13098908200903675,\n",
       "   0.13335972273744712]},\n",
       " 5.0: {'csvfile': 'EPWs\\\\1axis_5.0.csv',\n",
       "  'surf_azm': 90.0,\n",
       "  'surf_tilt': -5.0,\n",
       "  'datetime': Index(['2021-01-01 13:00:00', '2021-01-01 14:00:00', '2021-01-01 15:00:00',\n",
       "         '2021-01-01 16:00:00', '2021-01-01 17:00:00', '2021-01-02 13:00:00',\n",
       "         '2021-01-02 14:00:00', '2021-01-02 15:00:00', '2021-01-02 16:00:00',\n",
       "         '2021-01-02 17:00:00',\n",
       "         ...\n",
       "         '2021-12-30 13:00:00', '2021-12-30 14:00:00', '2021-12-30 15:00:00',\n",
       "         '2021-12-30 16:00:00', '2021-12-30 17:00:00', '2021-12-31 13:00:00',\n",
       "         '2021-12-31 14:00:00', '2021-12-31 15:00:00', '2021-12-31 16:00:00',\n",
       "         '2021-12-31 17:00:00'],\n",
       "        dtype='object', length=2096),\n",
       "  'count': 2096,\n",
       "  'skyfile': 'skies\\\\1axis_5.0.rad',\n",
       "  'clearance_height': 2.156193024466364,\n",
       "  'radfile': 'objects\\\\1axis5.0__C_2.15619_rtr_10.60600_tilt_-5.00000_20modsx7rows_origin0,0.rad',\n",
       "  'scene': {'module': {'x': 0.984, 'y': 1.7, 'z': 0.02, 'modulematerial': 'black', 'scenex': 1.004, 'sceney': 3.5, 'scenez': 0.1, 'numpanels': 2, 'bifi': 1, 'text': '! genbox black test-module 0.984 1.7 0.02 | xform -t -0.492 -1.75 0.1 -a 2 -t 0 1.8 0\\r\\n! genrev Metal_Grey tube1 t*1.004 0.05 32 | xform -ry 90 -t -0.502 0 0', 'modulefile': 'objects\\\\test-module.rad', 'glass': False, 'offsetfromaxis': 0.1, 'xgap': 0.02, 'ygap': 0.1, 'zgap': 0.05}, 'modulefile': 'objects\\\\test-module.rad', 'gcr': 0.3300018857250613, 'text': '!xform -rx -5.0 -t 0 0 2.3 -a 20 -t 1.004 0 0 -a 7 -t 0 10.606 0 -i 1 -t -9.036 -31.817999999999998 0 -rz 90.0 -t 0 0 0 objects\\\\test-module.rad', 'radfiles': 'objects\\\\1axis5.0__C_2.15619_rtr_10.60600_tilt_-5.00000_20modsx7rows_origin0,0.rad', 'sceneDict': {'tilt': -5.0, 'gcr': 0.33, 'clearance_height': 2.156193024466364, 'azimuth': 90.0, 'nMods': 20, 'nRows': 7, 'modulez': 0.02, 'axis_tilt': 0, 'originx': 0, 'originy': 0}},\n",
       "  'octfile': '1axis_5.0.oct',\n",
       "  'AnalysisObj': {'octfile': '1axis_5.0.oct', 'name': '1axis_5.0', 'x': [22.59625, 22.24758, 21.89891, 21.55024, 21.20158, 20.85291, 20.50424, 20.15557, 19.8069], 'y': [-1.004, -1.004, -1.004, -1.004, -1.004, -1.004, -1.004, -1.004, -1.004], 'z': [2.542558, 2.512053, 2.481549, 2.451044, 2.42054, 2.390035, 2.359531, 2.329026, 2.298522], 'rearZ': [2.520641, 2.490137, 2.459632, 2.429128, 2.398623, 2.368119, 2.337614, 2.30711, 2.276605], 'mattype': ['a8.1.a0.test-module.6457', 'a8.1.a0.test-module.6457', 'a8.1.a0.test-module.6457', 'a8.1.a0.test-module.6457', 'a8.1.tube1.16', 'a8.1.a1.test-module.6457', 'a8.1.a1.test-module.6457', 'a8.1.a1.test-module.6457', 'a8.1.a1.test-module.6457'], 'rearMat': ['a8.1.a0.test-module.2310', 'a8.1.a0.test-module.2310', 'a8.1.a0.test-module.2310', 'a8.1.a0.test-module.2310', 'sky', 'a8.1.a1.test-module.2310', 'a8.1.a1.test-module.2310', 'a8.1.a1.test-module.2310', 'a8.1.a1.test-module.2310'], 'Wm2Front': [849427.5, 849453.8000000002, 849452.0, 849450.4, 848071.3000000002, 840212.8000000002, 840393.7333333334, 840547.8000000002, 840701.8000000002], 'Wm2Back': [109670.16666666667, 110017.06666666667, 109952.66666666667, 110019.7, 100248.5, 116695.56666666667, 124545.43333333333, 129950.33333333333, 136661.26666666663], 'Back/FrontRatio': [0.1291106851821444, 0.12951506784377392, 0.12943952870465564, 0.12951868628289692, 0.11820763169534489, 0.13888810849796449, 0.14819890754198994, 0.15460195503305266, 0.16255617212204188], 'backRatio': [0.1291106851821444, 0.12951506784377392, 0.12943952870465564, 0.12951868628289692, 0.11820763169534489, 0.13888810849796449, 0.14819890754198994, 0.15460195503305266, 0.16255617212204188], 'rearX': [22.59817, 22.2495, 21.90083, 21.55216, 21.20349, 20.85482, 20.50616, 20.15749, 19.80882], 'rearY': [-1.004, -1.004, -1.004, -1.004, -1.004, -1.004, -1.004, -1.004, -1.004]},\n",
       "  'Wm2Front': [849427.5,\n",
       "   849453.8000000002,\n",
       "   849452.0,\n",
       "   849450.4,\n",
       "   848071.3000000002,\n",
       "   840212.8000000002,\n",
       "   840393.7333333334,\n",
       "   840547.8000000002,\n",
       "   840701.8000000002],\n",
       "  'Wm2Back': [109670.16666666667,\n",
       "   110017.06666666667,\n",
       "   109952.66666666667,\n",
       "   110019.7,\n",
       "   100248.5,\n",
       "   116695.56666666667,\n",
       "   124545.43333333333,\n",
       "   129950.33333333333,\n",
       "   136661.26666666663],\n",
       "  'backRatio': [0.1291106851821444,\n",
       "   0.12951506784377392,\n",
       "   0.12943952870465564,\n",
       "   0.12951868628289692,\n",
       "   0.11820763169534489,\n",
       "   0.13888810849796449,\n",
       "   0.14819890754198994,\n",
       "   0.15460195503305266,\n",
       "   0.16255617212204188]},\n",
       " 0.0: {'csvfile': 'EPWs\\\\1axis_0.0.csv',\n",
       "  'surf_azm': 90.0,\n",
       "  'surf_tilt': 0.0,\n",
       "  'datetime': Index(['2021-02-13 13:00:00', '2021-02-14 13:00:00', '2021-02-23 07:00:00',\n",
       "         '2021-02-24 07:00:00', '2021-02-25 07:00:00', '2021-02-26 07:00:00',\n",
       "         '2021-02-27 07:00:00', '2021-02-28 07:00:00', '2021-03-01 07:00:00',\n",
       "         '2021-03-02 07:00:00', '2021-04-04 06:00:00', '2021-04-06 06:00:00',\n",
       "         '2021-04-07 06:00:00', '2021-04-08 06:00:00', '2021-04-09 06:00:00',\n",
       "         '2021-04-10 06:00:00', '2021-04-11 06:00:00', '2021-06-02 05:00:00',\n",
       "         '2021-06-03 05:00:00', '2021-06-04 05:00:00', '2021-06-07 05:00:00',\n",
       "         '2021-06-08 05:00:00', '2021-06-10 05:00:00', '2021-06-11 05:00:00',\n",
       "         '2021-06-12 05:00:00', '2021-06-13 05:00:00', '2021-06-14 05:00:00',\n",
       "         '2021-06-16 05:00:00', '2021-06-17 05:00:00', '2021-06-21 05:00:00',\n",
       "         '2021-06-23 05:00:00', '2021-06-24 05:00:00', '2021-06-25 05:00:00',\n",
       "         '2021-06-26 05:00:00', '2021-09-01 06:00:00', '2021-09-02 06:00:00',\n",
       "         '2021-09-03 06:00:00', '2021-09-04 06:00:00', '2021-09-05 06:00:00',\n",
       "         '2021-09-06 06:00:00', '2021-09-07 06:00:00', '2021-09-08 06:00:00',\n",
       "         '2021-09-09 06:00:00', '2021-09-10 06:00:00', '2021-09-11 06:00:00',\n",
       "         '2021-09-12 06:00:00', '2021-09-13 06:00:00', '2021-11-05 07:00:00',\n",
       "         '2021-11-06 07:00:00', '2021-11-07 07:00:00', '2021-11-08 07:00:00',\n",
       "         '2021-11-09 07:00:00', '2021-11-10 07:00:00', '2021-11-11 07:00:00',\n",
       "         '2021-11-12 07:00:00', '2021-11-13 07:00:00', '2021-11-17 07:00:00'],\n",
       "        dtype='object'),\n",
       "  'count': 57,\n",
       "  'skyfile': 'skies\\\\1axis_0.0.rad',\n",
       "  'clearance_height': 2.3,\n",
       "  'radfile': 'objects\\\\1axis0.0__C_2.30000_rtr_10.60600_tilt_0.00000_20modsx7rows_origin0,0.rad',\n",
       "  'scene': {'module': {'x': 0.984, 'y': 1.7, 'z': 0.02, 'modulematerial': 'black', 'scenex': 1.004, 'sceney': 3.5, 'scenez': 0.1, 'numpanels': 2, 'bifi': 1, 'text': '! genbox black test-module 0.984 1.7 0.02 | xform -t -0.492 -1.75 0.1 -a 2 -t 0 1.8 0\\r\\n! genrev Metal_Grey tube1 t*1.004 0.05 32 | xform -ry 90 -t -0.502 0 0', 'modulefile': 'objects\\\\test-module.rad', 'glass': False, 'offsetfromaxis': 0.1, 'xgap': 0.02, 'ygap': 0.1, 'zgap': 0.05}, 'modulefile': 'objects\\\\test-module.rad', 'gcr': 0.3300018857250613, 'text': '!xform -rx 0.0 -t 0 0 2.3 -a 20 -t 1.004 0 0 -a 7 -t 0 10.606 0 -i 1 -t -9.036 -31.817999999999998 0 -rz 90.0 -t 0 0 0 objects\\\\test-module.rad', 'radfiles': 'objects\\\\1axis0.0__C_2.30000_rtr_10.60600_tilt_0.00000_20modsx7rows_origin0,0.rad', 'sceneDict': {'tilt': 0.0, 'gcr': 0.33, 'clearance_height': 2.3, 'azimuth': 90.0, 'nMods': 20, 'nRows': 7, 'modulez': 0.02, 'axis_tilt': 0, 'originx': 0, 'originy': 0}},\n",
       "  'octfile': '1axis_0.0.oct',\n",
       "  'AnalysisObj': {'octfile': '1axis_0.0.oct', 'name': '1axis_0.0', 'x': [22.61212, 22.26212, 21.91212, 21.56212, 21.21212, 20.86212, 20.51212, 20.16212, 19.81212], 'y': [-1.004, -1.004, -1.004, -1.004, -1.004, -1.004, -1.004, -1.004, -1.004], 'z': [2.421, 2.421, 2.421, 2.421, 2.421, 2.421, 2.421, 2.421, 2.421], 'rearZ': [2.399, 2.399, 2.399, 2.399, 2.399, 2.399, 2.399, 2.399, 2.399], 'mattype': ['a8.1.a0.test-module.6457', 'a8.1.a0.test-module.6457', 'a8.1.a0.test-module.6457', 'a8.1.a0.test-module.6457', 'a8.1.tube1.16', 'a8.1.a1.test-module.6457', 'a8.1.a1.test-module.6457', 'a8.1.a1.test-module.6457', 'a8.1.a1.test-module.6457'], 'rearMat': ['a8.1.a0.test-module.2310', 'a8.1.a0.test-module.2310', 'a8.1.a0.test-module.2310', 'a8.1.a0.test-module.2310', 'sky', 'a8.1.a1.test-module.2310', 'a8.1.a1.test-module.2310', 'a8.1.a1.test-module.2310', 'a8.1.a1.test-module.2310'], 'Wm2Front': [1180.271, 1180.321, 1180.348, 1180.375, 1181.19, 1180.429, 1180.456, 1180.483, 1180.51], 'Wm2Back': [167.7771, 162.71396666666666, 158.69793333333334, 156.27776666666668, 130.5647, 165.0594, 178.02259999999998, 187.86603333333335, 200.97393333333332], 'Back/FrontRatio': [0.14215121599089023, 0.1378555738744738, 0.13445000871211257, 0.13239659792021075, 0.11053648393866868, 0.13982989249680203, 0.1508082039413549, 0.15914322712830783, 0.17024316870688483], 'backRatio': [0.14215121599089023, 0.1378555738744738, 0.13445000871211257, 0.13239659792021075, 0.11053648393866868, 0.13982989249680203, 0.1508082039413549, 0.15914322712830783, 0.17024316870688483], 'rearX': [22.61212, 22.26212, 21.91212, 21.56212, 21.21212, 20.86212, 20.51212, 20.16212, 19.81212], 'rearY': [-1.004, -1.004, -1.004, -1.004, -1.004, -1.004, -1.004, -1.004, -1.004]},\n",
       "  'Wm2Front': [1180.271,\n",
       "   1180.321,\n",
       "   1180.348,\n",
       "   1180.375,\n",
       "   1181.19,\n",
       "   1180.429,\n",
       "   1180.456,\n",
       "   1180.483,\n",
       "   1180.51],\n",
       "  'Wm2Back': [167.7771,\n",
       "   162.71396666666666,\n",
       "   158.69793333333334,\n",
       "   156.27776666666668,\n",
       "   130.5647,\n",
       "   165.0594,\n",
       "   178.02259999999998,\n",
       "   187.86603333333335,\n",
       "   200.97393333333332],\n",
       "  'backRatio': [0.14215121599089023,\n",
       "   0.1378555738744738,\n",
       "   0.13445000871211257,\n",
       "   0.13239659792021075,\n",
       "   0.11053648393866868,\n",
       "   0.13982989249680203,\n",
       "   0.1508082039413549,\n",
       "   0.15914322712830783,\n",
       "   0.17024316870688483]}}"
      ]
     },
     "execution_count": 14,
     "metadata": {},
     "output_type": "execute_result"
    }
   ],
   "source": [
    "albedo = 0.25\n",
    "lat = 37.5\n",
    "lon = -77.6\n",
    "nMods = 20\n",
    "nRows = 7\n",
    "hub_height = 2.3\n",
    "gcr = 0.33\n",
    "moduletype = 'test-module'  # this must already exist since we are not calling makeModule in this CONDENSED example.\n",
    "#testfolder = r'C:\\Users\\sayala\\Documents\\RadianceScenes\\Tutorials\\Journal2'\n",
    "limit_angle = 5\n",
    "angeldelta = 5\n",
    "backtrack = True\n",
    "gcr = gcr\n",
    "modWanted = 9\n",
    "rowWanted = 2\n",
    "cumulativesky = True\n",
    "\n",
    "import bifacial_radiance\n",
    "demo = RadianceObj('test') \n",
    "demo.setGround(albedo)\n",
    "epwfile = demo.getEPW(lat, lon) \n",
    "metdata = demo.readWeatherFile(epwfile)\n",
    "demo.set1axis(limit_angle=limit_angle, backtrack=backtrack, gcr=gcr, cumulativesky=cumulativesky)\n",
    "demo.genCumSky1axis()\n",
    "sceneDict = {'gcr': gcr,'hub_height':hub_height, 'nMods': nMods, 'nRows': nRows}  # orientation deprecated on v.0.2.4.\n",
    "demo.makeScene1axis(module=moduletype, sceneDict=sceneDict)\n",
    "demo.makeOct1axis()\n",
    "demo.analysis1axis(modWanted=modWanted, rowWanted=rowWanted);\n"
   ]
  }
 ],
 "metadata": {
  "anaconda-cloud": {},
  "kernelspec": {
   "display_name": "Python 3 (ipykernel)",
   "language": "python",
   "name": "python3"
  },
  "language_info": {
   "codemirror_mode": {
    "name": "ipython",
    "version": 3
   },
   "file_extension": ".py",
   "mimetype": "text/x-python",
   "name": "python",
   "nbconvert_exporter": "python",
   "pygments_lexer": "ipython3",
   "version": "3.9.13"
  }
 },
 "nbformat": 4,
 "nbformat_minor": 1
}
