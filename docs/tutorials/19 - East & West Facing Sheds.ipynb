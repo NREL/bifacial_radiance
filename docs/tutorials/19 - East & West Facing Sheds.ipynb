{
 "cells": [
  {
   "cell_type": "markdown",
   "id": "2960c9a2",
   "metadata": {},
   "source": [
    "# 19 - East & West Facing Sheds\n",
    "\n",
    "This simulates a particular case where you have alternating rows facing east and west, in \"E-W sheds\". \n",
    "\n",
    "![East West Sheds Example](../images_wiki/AdvancedJournals/EW_sheds.PNG)\n",
    "\n",
    "\n",
    "To simulate this, we will use the bases learned in Journal 7 of using multipe scene objects. One scene object will be all the \"East facing modules\", while the West facing modules will be the second scene object. We have to know some geometry to offset the modules, and that is calculated below:\n",
    "\n",
    "![East West Sheds Example](../images_wiki/AdvancedJournals/EW_sheds_Geometry.PNG)\n"
   ]
  },
  {
   "cell_type": "code",
   "execution_count": 1,
   "id": "cb2ae537",
   "metadata": {},
   "outputs": [],
   "source": [
    "import os\n",
    "import numpy as np\n",
    "import pandas as pd\n",
    "from pathlib import Path\n",
    "import bifacial_radiance"
   ]
  },
  {
   "cell_type": "code",
   "execution_count": 2,
   "id": "ea26c4c8",
   "metadata": {},
   "outputs": [
    {
     "data": {
      "text/plain": [
       "'0.3.4+406.g49eb243.dirty'"
      ]
     },
     "execution_count": 2,
     "metadata": {},
     "output_type": "execute_result"
    }
   ],
   "source": [
    "bifacial_radiance.__version__"
   ]
  },
  {
   "cell_type": "code",
   "execution_count": 3,
   "id": "0e34a391",
   "metadata": {},
   "outputs": [
    {
     "name": "stdout",
     "output_type": "stream",
     "text": [
      "path = C:\\Users\\sayala\\Documents\\GitHub\\bifacial_radiance\\bifacial_radiance\\Tutorial_01\n",
      "Making path: images\n",
      "Making path: objects\n",
      "Making path: results\n",
      "Making path: skies\n",
      "Making path: EPWs\n",
      "Making path: materials\n",
      "Loading albedo, 1 value(s), 0.620 avg\n",
      "1 nonzero albedo values.\n",
      "Getting weather file: USA_VA_Richmond.724010_TMY2.epw\n",
      " ... OK!\n",
      "8760 line in WeatherFile. Assuming this is a standard hourly WeatherFile for the year for purposes of saving Gencumulativesky temporary weather files in EPW folder.\n",
      "Coercing year to 2001\n",
      "Saving file EPWs\\metdata_temp.csv, # points: 8760\n",
      "Calculating Sun position for Metdata that is right-labeled  with a delta of -30 mins. i.e. 12 is 11:30 sunpos\n"
     ]
    },
    {
     "data": {
      "text/plain": [
       "'skies\\\\sky2_37.5_-77.33_2001-06-17_1300.rad'"
      ]
     },
     "execution_count": 3,
     "metadata": {},
     "output_type": "execute_result"
    }
   ],
   "source": [
    "testfolder = testfolder = str(Path().resolve().parent.parent / 'bifacial_radiance' / 'Tutorial_01')\n",
    "if not os.path.exists(testfolder):\n",
    "    os.makedirs(testfolder)\n",
    "\n",
    "demo = bifacial_radiance.RadianceObj(\"tutorial_19\", path = testfolder)  # Create a RadianceObj 'object'\n",
    "demo.setGround(0.62)\n",
    "epwfile = demo.getEPW(lat = 37.5, lon = -77.6)    \n",
    "metdata = demo.readWeatherFile(epwfile, coerce_year=2001) \n",
    "timestamp = metdata.datetime.index(pd.to_datetime('2001-06-17 13:0:0 -5'))\n",
    "demo.gendaylit(timestamp) "
   ]
  },
  {
   "cell_type": "markdown",
   "id": "ca33a43f",
   "metadata": {},
   "source": [
    "Define your shed characteristics. In this case it is a 4-up landscape setup:"
   ]
  },
  {
   "cell_type": "code",
   "execution_count": 4,
   "id": "0858659b",
   "metadata": {},
   "outputs": [
    {
     "name": "stdout",
     "output_type": "stream",
     "text": [
      "\n",
      "Module Name: test-module_East\n",
      "Module test-module_East updated in module.json\n",
      "\n",
      "Module Name: test-module_West\n",
      "Module test-module_West updated in module.json\n"
     ]
    }
   ],
   "source": [
    "# For sanity check, we are creating the same module but with different names for each orientation.\n",
    "numpanels=4 \n",
    "ygap = 0.02 # m Spacing between modules on each shed.\n",
    "y=1   # m. module size, one side\n",
    "x=1.7 # m. module size, other side. for landscape, x > y\n",
    "mymoduleEast = demo.makeModule(name='test-module_East',y=y,x=x, numpanels=numpanels, ygap=ygap)\n",
    "mymoduleWest = demo.makeModule(name='test-module_West',y=y,x=x, numpanels=numpanels, ygap=ygap)\n"
   ]
  },
  {
   "cell_type": "markdown",
   "id": "f9405751",
   "metadata": {},
   "source": [
    "Calculate the spacings so we can offset the West Facing modules properly:\n",
    "\n",
    "![East West Sheds Example](../images_wiki/AdvancedJournals/EW_sheds_Offset.PNG)\n",
    "\n"
   ]
  },
  {
   "cell_type": "code",
   "execution_count": 5,
   "id": "ac548a9f",
   "metadata": {},
   "outputs": [],
   "source": [
    "tilt = 30\n",
    "gap_between_EW_sheds = 1 # m\n",
    "gap_between_shed_rows = 2 #m\n",
    "CW = mymoduleEast.sceney\n",
    "ground_underneat_shed = CW * np.cos(np.radians(tilt))\n",
    "pitch = ground_underneat_shed*2 + gap_between_EW_sheds + gap_between_shed_rows\n",
    "offset_westshed = -(ground_underneat_shed+gap_between_EW_sheds)\n"
   ]
  },
  {
   "cell_type": "markdown",
   "id": "1821b1a9",
   "metadata": {},
   "source": [
    "Define the other characteristics of our array:"
   ]
  },
  {
   "cell_type": "code",
   "execution_count": 6,
   "id": "0b90cc46",
   "metadata": {},
   "outputs": [],
   "source": [
    "clearance_height = 1.2 # m\n",
    "nMods = 21\n",
    "nRows = 7"
   ]
  },
  {
   "cell_type": "markdown",
   "id": "8ceebbb4",
   "metadata": {},
   "source": [
    "Create the Scene Objects and the Scene:"
   ]
  },
  {
   "cell_type": "code",
   "execution_count": 7,
   "id": "baefeae4",
   "metadata": {},
   "outputs": [],
   "source": [
    "sceneDict = {'tilt':tilt,'pitch':pitch,'clearance_height':clearance_height,'azimuth':90, 'nMods': nMods, 'nRows': nRows, \n",
    "             'appendRadfile':True} \n",
    "sceneObj1 = demo.makeScene(mymoduleEast, sceneDict)  \n",
    "\n",
    "sceneDict2 = {'tilt':tilt,'pitch':pitch,'clearance_height':clearance_height,'azimuth':270, 'nMods': nMods, 'nRows': nRows, \n",
    "              'originx': offset_westshed, 'originy': 0, \n",
    "              'appendRadfile':True} \n",
    "\n",
    "sceneObj2 = demo.makeScene(mymoduleWest, sceneDict2)  \n"
   ]
  },
  {
   "cell_type": "markdown",
   "id": "7702b9c4",
   "metadata": {},
   "source": [
    "Finally get all the files together by creating the Octfile:"
   ]
  },
  {
   "cell_type": "code",
   "execution_count": 8,
   "id": "fddd36ef",
   "metadata": {},
   "outputs": [
    {
     "name": "stdout",
     "output_type": "stream",
     "text": [
      "Created tutorial_19.oct\n"
     ]
    }
   ],
   "source": [
    "octfile = demo.makeOct(demo.getfilelist()) "
   ]
  },
  {
   "cell_type": "markdown",
   "id": "f5c173d4",
   "metadata": {},
   "source": [
    "#### View the Geometry\n",
    "\n",
    "You can check the geometry on rvu with the following commands. You can run it in jupyter/Python if you comment the line, but the program will not continue processing until you close the rvu window. ( if running rvu directly on the console, navigate to the folder where you have the simulation, and don't use the exclamation point at the beginning)\n",
    "\n",
    "Top view:"
   ]
  },
  {
   "cell_type": "code",
   "execution_count": 9,
   "id": "30db75b0",
   "metadata": {},
   "outputs": [],
   "source": [
    "#!rvu -vf views\\front.vp -e .01 -pe 0.3 -vp 1 -45 40 -vd 0 0.7 -0.7 MultipleObj.oct"
   ]
  },
  {
   "cell_type": "markdown",
   "id": "be907507",
   "metadata": {},
   "source": [
    "another view, close up:"
   ]
  },
  {
   "cell_type": "code",
   "execution_count": 10,
   "id": "e8f92da0",
   "metadata": {},
   "outputs": [],
   "source": [
    "# !rvu -vf views\\front.vp -e .01 -pe 0.3 -vp -4 -29 3.5 -vd 0 1 0 MultipleObj.oct"
   ]
  },
  {
   "cell_type": "markdown",
   "id": "0bed7ff3",
   "metadata": {},
   "source": [
    "#### Analysis:\n",
    "\n",
    "We have to analyze the East and the West shed independently. "
   ]
  },
  {
   "cell_type": "code",
   "execution_count": 11,
   "id": "b07a3e03",
   "metadata": {},
   "outputs": [
    {
     "name": "stdout",
     "output_type": "stream",
     "text": [
      "Linescan in process: EastFacingShed_Front\n",
      "Linescan in process: EastFacingShed_Back\n",
      "Saved: results\\irr_EastFacingShed.csv\n",
      "Linescan in process: WestFacingShed_Front\n",
      "Linescan in process: WestFacingShed_Back\n",
      "Saved: results\\irr_WestFacingShed.csv\n"
     ]
    }
   ],
   "source": [
    "sensorsy=4  # 1 per module. consider increasing the number but be careful with sensors in the space between modules.\n",
    "analysis = bifacial_radiance.AnalysisObj(octfile, demo.basename)  \n",
    "frontscan, backscan = analysis.moduleAnalysis(sceneObj1, sensorsy=sensorsy)\n",
    "frontdict, backdict = analysis.analysis(octfile, \"EastFacingShed\", frontscan, backscan)  # compare the back vs front irradiance  \n",
    "\n",
    "frontscan, backscan = analysis.moduleAnalysis(sceneObj2, sensorsy=sensorsy )\n",
    "frontdict2, backdict2 = analysis.analysis(octfile, \"WestFacingShed\", frontscan, backscan)  # compare the back vs front irradiance  \n"
   ]
  }
 ],
 "metadata": {
  "kernelspec": {
   "display_name": "Python 3 (ipykernel)",
   "language": "python",
   "name": "python3"
  },
  "language_info": {
   "codemirror_mode": {
    "name": "ipython",
    "version": 3
   },
   "file_extension": ".py",
   "mimetype": "text/x-python",
   "name": "python",
   "nbconvert_exporter": "python",
   "pygments_lexer": "ipython3",
   "version": "3.9.13"
  }
 },
 "nbformat": 4,
 "nbformat_minor": 5
}
