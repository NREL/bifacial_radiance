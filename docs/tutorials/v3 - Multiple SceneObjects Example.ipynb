{
 "cells": [
  {
   "attachments": {},
   "cell_type": "markdown",
   "metadata": {},
   "source": [
    "## Multiple SceneObjects\n",
    "\n",
    "This journal shows how to:\n",
    "\n",
    "1) Create multiple scene objects in the same scene.\n",
    "\n",
    "2) Analyze multiple scene objects in the same scene\n",
    "\n",
    "3) Add a marker to find the origin (0,0) on a scene (for sanity-checks/visualization).\n",
    "\n",
    "A scene Object is defined as an array of modules, with whatever parameters you want to give it. In this case, we are modeling one array of 2 rows of 5 modules in landscape, and one array of 1 row of 5 modules in 2-UP, portrait configuration, as the image below:\n",
    "\n",
    "![multiple Scene Objects Example](../images_wiki/Journal_example_multiple_objects.PNG)\n"
   ]
  },
  {
   "cell_type": "code",
   "execution_count": 1,
   "metadata": {},
   "outputs": [
    {
     "name": "stdout",
     "output_type": "stream",
     "text": [
      "Your simulation will be stored in C:\\Users\\sayala\\Documents\\GitHub\\bifacial_radiance\\bifacial_radiance\\TEMP\n"
     ]
    }
   ],
   "source": [
    "import os\n",
    "testfolder = os.path.abspath(r'..\\bifacial_radiance\\TEMP')  \n",
    "\n",
    "# You can alternatively point to an empty directory (it will open a load GUI Visual Interface)\n",
    "# or specify any other directory in your computer. I.E.:\n",
    "# testfolder = r'C:\\Users\\sayala\\Documents\\RadianceScenes\\Demo'\n",
    "\n",
    "print (\"Your simulation will be stored in %s\" % testfolder)"
   ]
  },
  {
   "cell_type": "code",
   "execution_count": 2,
   "metadata": {},
   "outputs": [],
   "source": [
    "try:\n",
    "    from bifacial_radiance import RadianceObj, AnalysisObj\n",
    "except ImportError:\n",
    "    raise RuntimeError('bifacial_radiance is required. download distribution')\n",
    "    # Simple example system using Radiance.\n",
    "import numpy as np\n",
    "\n",
    "\n"
   ]
  },
  {
   "cell_type": "code",
   "execution_count": 3,
   "metadata": {},
   "outputs": [
    {
     "name": "stdout",
     "output_type": "stream",
     "text": [
      "path = C:\\Users\\sayala\\Documents\\GitHub\\bifacial_radiance\\bifacial_radiance\\TEMP\n",
      "Getting weather file: USA_VA_Richmond.Intl.AP.724010_TMY.epw\n",
      " ... OK!\n"
     ]
    },
    {
     "name": "stderr",
     "output_type": "stream",
     "text": [
      "c:\\users\\sayala\\documents\\github\\bifacial_radiance\\bifacial_radiance\\main.py:2447: pvlibDeprecationWarning: The get_sun_rise_set_transit function was deprecated in pvlib 0.6.1 and will be removed in 0.7. Use sun_rise_set_transit_spa instead.\n",
      "  sunup= pvlib.irradiance.solarposition.get_sun_rise_set_transit(datetimetz, lat, lon) #only for pvlib <0.6.1\n"
     ]
    },
    {
     "name": "stdout",
     "output_type": "stream",
     "text": [
      "\n",
      "Module Name: Prism_Solar_Bi60_landscape\n",
      "REWRITING pre-existing module file. \n",
      "Module Prism Solar Bi60 landscape successfully created\n"
     ]
    }
   ],
   "source": [
    "# GEnerating Standard FIXED SETUP\n",
    "demo = RadianceObj(\"MultipleObj\", path = testfolder)  # Create a RadianceObj 'object'\n",
    "demo.setGround(0.62)\n",
    "epwfile = demo.getEPW(lat = 37.5, lon = -77.6)    \n",
    "metdata = demo.readEPW('EPWs\\\\USA_VA_Richmond.Intl.AP.724010_TMY.epw') \n",
    "#metdata = demo.readEPW('EPWs\\\\USA_VA_Richmond.Intl.AP.724010_TMY.epw') # read in the weather data directly\n",
    "fullYear = True\n",
    "#demo.genCumSky(demo.epwfile) # entire year.\n",
    "demo.gendaylit(metdata,4020)  # Noon, June 17th \n",
    "module_type = 'Prism Solar Bi60 landscape' \n",
    "demo.makeModule(name=module_type,y=1,x=1.7,bifi = 0.90)\n",
    "sceneDict = {'tilt':10,'pitch':1.5,'clearance_height':0.2,'azimuth':180, 'nMods': 5, 'nRows': 2, 'appendRadfile':True} \n",
    "sceneObj1 = demo.makeScene(module_type,sceneDict)  \n"
   ]
  },
  {
   "cell_type": "code",
   "execution_count": 4,
   "metadata": {},
   "outputs": [
    {
     "name": "stdout",
     "output_type": "stream",
     "text": [
      "SceneObj1 modulefile: objects\\Prism_Solar_Bi60_landscape.rad\n",
      "SceneObj1 SceneFile: objects\\Prism_Solar_Bi60_landscape_0.2_1.5_10_5x2.rad\n",
      "SceneObj1 GCR: 0.67\n",
      "FileLists: \n",
      " ['materials\\\\ground.rad', 'skies\\\\sky2_37.5_-77.33_06_17_13.rad', 'objects\\\\Prism_Solar_Bi60_landscape_0.2_1.5_10_5x2.rad']\n"
     ]
    }
   ],
   "source": [
    "# Checking values after Scene\n",
    "print (\"SceneObj1 modulefile: %s\" % sceneObj1.modulefile)\n",
    "print (\"SceneObj1 SceneFile: %s\" %sceneObj1.radfiles)\n",
    "print (\"SceneObj1 GCR: %s\" % round(sceneObj1.gcr,2))\n",
    "print (\"FileLists: \\n %s\" % demo.getfilelist())"
   ]
  },
  {
   "cell_type": "markdown",
   "metadata": {},
   "source": [
    "Creating a different Scene. Same Module, different values.\n",
    "Notice we are passing a originx and originy to displace the center of this new sceneObj to that location.\n"
   ]
  },
  {
   "cell_type": "code",
   "execution_count": 5,
   "metadata": {},
   "outputs": [
    {
     "name": "stdout",
     "output_type": "stream",
     "text": [
      "\n",
      "Module Name: Module2\n",
      "REWRITING pre-existing module file. \n",
      "Module Module2 successfully created\n"
     ]
    }
   ],
   "source": [
    "sceneDict2 = {'tilt':30,'pitch':5,'clearance_height':1,'azimuth':180, 'nMods': 5, 'nRows': 1, 'originx': 0, 'originy': 3.5, 'appendRadfile':True} \n",
    "module_type2='Module2'\n",
    "demo.makeModule(name=module_type2,x=1,y=1.6, numpanels=2, ygap=0.15)\n",
    "sceneObj2 = demo.makeScene(module_type2,sceneDict2)  \n"
   ]
  },
  {
   "cell_type": "code",
   "execution_count": 6,
   "metadata": {},
   "outputs": [
    {
     "name": "stdout",
     "output_type": "stream",
     "text": [
      "SceneObj1 modulefile: objects\\Prism_Solar_Bi60_landscape.rad\n",
      "SceneObj1 SceneFile: objects\\Prism_Solar_Bi60_landscape_0.2_1.5_10_5x2.rad\n",
      "SceneObj1 GCR: 0.67\n",
      "\n",
      "SceneObj2 modulefile: objects\\Module2.rad\n",
      "SceneObj2 SceneFile: objects\\Module2_1.0_5_30_5x1.rad\n",
      "SceneObj2 GCR: 0.67\n",
      "NEW FileLists: \n",
      " ['materials\\\\ground.rad', 'skies\\\\sky2_37.5_-77.33_06_17_13.rad', 'objects\\\\Prism_Solar_Bi60_landscape_0.2_1.5_10_5x2.rad', 'objects\\\\Module2_1.0_5_30_5x1.rad']\n"
     ]
    }
   ],
   "source": [
    "# Checking values for both scenes after creating new SceneObj\n",
    "print (\"SceneObj1 modulefile: %s\" % sceneObj1.modulefile)\n",
    "print (\"SceneObj1 SceneFile: %s\" %sceneObj1.radfiles)\n",
    "print (\"SceneObj1 GCR: %s\" % round(sceneObj1.gcr,2))\n",
    "\n",
    "print (\"\\nSceneObj2 modulefile: %s\" % sceneObj2.modulefile)\n",
    "print (\"SceneObj2 SceneFile: %s\" %sceneObj2.radfiles)\n",
    "print (\"SceneObj2 GCR: %s\" % round(sceneObj2.gcr,2))\n",
    "\n",
    "#getfilelist should have info for the rad file created by BOTH scene objects.\n",
    "print (\"NEW FileLists: \\n %s\" % demo.getfilelist())"
   ]
  },
  {
   "cell_type": "markdown",
   "metadata": {},
   "source": [
    "#### Optional: Add a Marker at the Origin (coordinates 0,0) for help with visualization\n",
    "I usually use this to create \"markers\" for the geometry to orient myself when doing sanity-checks (for example, marke where 0,0 is, or where 5,0 coordinate is). That is what I am doing here, for the image I'm attaching."
   ]
  },
  {
   "cell_type": "code",
   "execution_count": 7,
   "metadata": {
    "scrolled": true
   },
   "outputs": [
    {
     "name": "stdout",
     "output_type": "stream",
     "text": [
      "\n",
      "Custom Object Name objects\\Post1.rad\n",
      "\n",
      "!xform -rz 0 objects\\Post1.rad\n"
     ]
    }
   ],
   "source": [
    "# NOTE: offsetting translation by 0.1 so the center of the marker is at the desired coordinate.\n",
    "name='Post1'\n",
    "text='! genbox black originMarker 0.2 0.2 1 | xform -t -0.1 -0.1 0'\n",
    "customObject = demo.makeCustomObject(name,text)\n",
    "demo.appendtoScene(sceneObj1.radfiles, customObject, '!xform -rz 0')"
   ]
  },
  {
   "cell_type": "markdown",
   "metadata": {},
   "source": [
    "### Combine all scene Objects into one OCT file \n",
    "Run makeOCT to make the scene with both scene objects AND the marker in it, the ground and the skies."
   ]
  },
  {
   "cell_type": "code",
   "execution_count": 8,
   "metadata": {},
   "outputs": [
    {
     "name": "stdout",
     "output_type": "stream",
     "text": [
      "Created MultipleObj.oct\n"
     ]
    }
   ],
   "source": [
    "octfile = demo.makeOct(demo.getfilelist()) "
   ]
  },
  {
   "cell_type": "markdown",
   "metadata": {},
   "source": [
    "At this point you should be able to go into a command window (cmd.exe) and check the geometry. Example:\n",
    "\n",
    "##### rvu -vf views\\front.vp -e .01 -pe 0.3 -vp 1 -7.5 12 MultipleObj.oct\n",
    "\n",
    "And then proceed happily with your analysis. \n",
    "\n",
    "### Analysis for Each sceneObject:\n",
    "sceneDict is saved for each scene. When calling the Analysis, you should reference the scene object you want.\n"
   ]
  },
  {
   "cell_type": "code",
   "execution_count": 9,
   "metadata": {},
   "outputs": [
    {
     "data": {
      "text/plain": [
       "{'tilt': 10,\n",
       " 'pitch': 1.5,\n",
       " 'clearance_height': 0.2,\n",
       " 'azimuth': 180,\n",
       " 'nMods': 5,\n",
       " 'nRows': 2,\n",
       " 'appendRadfile': True,\n",
       " 'axis_tilt': 0,\n",
       " 'originx': 0,\n",
       " 'originy': 0}"
      ]
     },
     "execution_count": 9,
     "metadata": {},
     "output_type": "execute_result"
    }
   ],
   "source": [
    "sceneObj1.sceneDict"
   ]
  },
  {
   "cell_type": "code",
   "execution_count": 10,
   "metadata": {},
   "outputs": [
    {
     "data": {
      "text/plain": [
       "{'tilt': 30,\n",
       " 'pitch': 5,\n",
       " 'clearance_height': 1,\n",
       " 'azimuth': 180,\n",
       " 'nMods': 5,\n",
       " 'nRows': 1,\n",
       " 'originx': 0,\n",
       " 'originy': 3.5,\n",
       " 'appendRadfile': True,\n",
       " 'axis_tilt': 0}"
      ]
     },
     "execution_count": 10,
     "metadata": {},
     "output_type": "execute_result"
    }
   ],
   "source": [
    "sceneObj2.sceneDict"
   ]
  },
  {
   "cell_type": "code",
   "execution_count": 11,
   "metadata": {},
   "outputs": [
    {
     "name": "stdout",
     "output_type": "stream",
     "text": [
      "Linescan in process: FirstObj_Front\n",
      "Linescan in process: FirstObj_Back\n",
      "Saved: results\\irr_FirstObj.csv\n",
      "Annual bifacial ratio First Set of Panels: 0.163 \n"
     ]
    }
   ],
   "source": [
    "analysis = AnalysisObj(octfile, demo.basename)  \n",
    "frontscan, backscan = analysis.moduleAnalysis(sceneObj1)\n",
    "frontdict, backdict = analysis.analysis(octfile, \"FirstObj\", frontscan, backscan)  # compare the back vs front irradiance  \n",
    "print('Annual bifacial ratio First Set of Panels: %0.3f ' %( np.mean(analysis.Wm2Back) / np.mean(analysis.Wm2Front)) )"
   ]
  },
  {
   "cell_type": "code",
   "execution_count": 12,
   "metadata": {},
   "outputs": [
    {
     "name": "stdout",
     "output_type": "stream",
     "text": [
      "[4.824167e-17, 3.618125e-17, 2.412083e-17, 1.206042e-17, -1.232595e-32, -1.206042e-17, -2.412083e-17, -3.618125e-17, -4.824167e-17]\n",
      "\n",
      "[-0.3939231, -0.2954423, -0.1969616, -0.09848078, 0.0, 0.09848078, 0.1969616, 0.2954423, 0.3939231]\n",
      "\n",
      "['a2.0.a0.Prism_Solar_Bi60_landscape.6457', 'a2.0.a0.Prism_Solar_Bi60_landscape.6457', 'a2.0.a0.Prism_Solar_Bi60_landscape.6457', 'a2.0.a0.Prism_Solar_Bi60_landscape.6457', 'a2.0.a0.Prism_Solar_Bi60_landscape.6457', 'a2.0.a0.Prism_Solar_Bi60_landscape.6457', 'a2.0.a0.Prism_Solar_Bi60_landscape.6457', 'a2.0.a0.Prism_Solar_Bi60_landscape.6457', 'a2.0.a0.Prism_Solar_Bi60_landscape.6457']\n"
     ]
    }
   ],
   "source": [
    "# Sanity check for first object. Since we didn't pass any desired module, it should grab the center module of the center row (rounding down)\n",
    "# for 2 rows, that is row 1, module 5 ~ indexed at 0, a4.0.a0.PVmodule.....\"\"\n",
    "print (frontdict['x'])\n",
    "print (\"\")\n",
    "print (frontdict['y'])\n",
    "print (\"\")\n",
    "print (frontdict['mattype'])"
   ]
  },
  {
   "cell_type": "code",
   "execution_count": 13,
   "metadata": {},
   "outputs": [
    {
     "name": "stdout",
     "output_type": "stream",
     "text": [
      "Linescan in process: SecondObj_Front\n",
      "Linescan in process: SecondObj_Back\n",
      "Saved: results\\irr_SecondObj.csv\n",
      "Annual bifacial ratio Second Set of Panels: 0.330 \n"
     ]
    }
   ],
   "source": [
    "analysis = AnalysisObj(octfile, demo.basename)  \n",
    "# Remember we can specify which module/row we want. We only have one row in this Object though.\n",
    "modWanted = 2\n",
    "rowWanted = 1\n",
    "sensorsy=4\n",
    "frontscan, backscan = analysis.moduleAnalysis(sceneObj2, modWanted = modWanted, rowWanted = rowWanted, sensorsy=sensorsy)\n",
    "frontdict2, backdict2 = analysis.analysis(octfile, \"SecondObj\", frontscan, backscan)  # compare the back vs front irradiance  \n",
    "print('Annual bifacial ratio Second Set of Panels: %0.3f ' %( np.mean(analysis.Wm2Back) / np.mean(analysis.Wm2Front)) )"
   ]
  },
  {
   "cell_type": "markdown",
   "metadata": {},
   "source": [
    "Sanity check for first object. Since we didn't pass any desired module, it should grab the center module of the center row (rounding down). For 1 rows, that is row 0, module 3 ~ indexed at 0, a2.0.a0.PVmodule... and a2.0.a1.PVmodule since it is a 2-UP system.\n"
   ]
  },
  {
   "cell_type": "code",
   "execution_count": 14,
   "metadata": {},
   "outputs": [
    {
     "name": "stdout",
     "output_type": "stream",
     "text": [
      "[-1.01, -1.01, -1.01, -1.01]\n",
      "\n",
      "[2.629644, 3.209881, 3.790119, 4.370356]\n",
      "\n",
      "['a1.0.a0.Module2.6457', 'a1.0.a0.Module2.6457', 'a1.0.a1.Module2.6457', 'a1.0.a1.Module2.6457']\n"
     ]
    }
   ],
   "source": [
    "print (frontdict2['x'])\n",
    "print (\"\")\n",
    "print (frontdict2['y'])\n",
    "print (\"\")\n",
    "print (frontdict2['mattype'])"
   ]
  }
 ],
 "metadata": {
  "anaconda-cloud": {},
  "kernelspec": {
   "display_name": "Python 3",
   "language": "python",
   "name": "python3"
  },
  "language_info": {
   "codemirror_mode": {
    "name": "ipython",
    "version": 3
   },
   "file_extension": ".py",
   "mimetype": "text/x-python",
   "name": "python",
   "nbconvert_exporter": "python",
   "pygments_lexer": "ipython3",
   "version": "3.7.3"
  }
 },
 "nbformat": 4,
 "nbformat_minor": 1
}
