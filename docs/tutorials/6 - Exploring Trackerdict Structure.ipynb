{
 "cells": [
  {
   "cell_type": "markdown",
   "metadata": {},
   "source": [
    "# NOTE: this notebook is not updated for v0.5.0"
   ]
  },
  {
   "cell_type": "code",
   "execution_count": 1,
   "metadata": {},
   "outputs": [
    {
     "name": "stdout",
     "output_type": "stream",
     "text": [
      "Working on a  Windows 10\n",
      "Python version  3.9.13 (main, Aug 25 2022, 23:51:50) [MSC v.1916 64 bit (AMD64)]\n",
      "Pandas version  1.5.3\n",
      "bifacial_radiance version  0.4.4.dev25+g9486645.d20240925\n"
     ]
    }
   ],
   "source": [
    "# This information helps with debugging and getting support :)\n",
    "import sys, platform\n",
    "import pandas as pd\n",
    "import bifacial_radiance as br\n",
    "print(\"Working on a \", platform.system(), platform.release())\n",
    "print(\"Python version \", sys.version)\n",
    "print(\"Pandas version \", pd.__version__)\n",
    "print(\"bifacial_radiance version \", br.__version__)"
   ]
  },
  {
   "cell_type": "markdown",
   "metadata": {},
   "source": [
    "# 6 - Exploring Trackerdict Structure\n",
    "\n",
    "Tutorial 6 gives a good, detailed introduction to the trackerdict structure step by step.\n",
    "Here is a condensed summary of functions you can use to explore the tracker dictionary.\n",
    "\n",
    "\n",
    "**Steps:**\n",
    "\n",
    "1. <a href='#step1'> Create a short Simulation + tracker dictionary beginning to end for 1 day </a>\n",
    "2. <a href='#step2'> Explore the tracker dictionary </a>\n",
    "3. <a href='#step3'> Explore Save Options </a>"
   ]
  },
  {
   "cell_type": "markdown",
   "metadata": {},
   "source": [
    "<a id='step 1'></a>"
   ]
  },
  {
   "cell_type": "markdown",
   "metadata": {},
   "source": [
    "## 1. Create a short Simulation + tracker dictionary beginning to end for 1 day"
   ]
  },
  {
   "cell_type": "code",
   "execution_count": 2,
   "metadata": {},
   "outputs": [
    {
     "name": "stdout",
     "output_type": "stream",
     "text": [
      "path = C:\\Users\\cdeline\\Documents\\Python Scripts\\Bifacial_Radiance\\bifacial_radiance\\Tutorial_06\n",
      "Making path: images\n",
      "Making path: objects\n",
      "Making path: results\n",
      "Making path: skies\n",
      "Making path: EPWs\n",
      "Making path: materials\n",
      "Loading albedo, 1 value(s), 0.213 avg\n",
      "1 nonzero albedo values.\n",
      "Getting weather file: USA_VA_Richmond.724010_TMY2.epw\n",
      " ... OK!\n",
      "8760 line in WeatherFile. Assuming this is a standard hourly WeatherFile for the year for purposes of saving Gencumulativesky temporary weather files in EPW folder.\n",
      "Coercing year to 2021\n",
      "Filtering dates\n",
      "Saving file EPWs\\metdata_temp.csv, # points: 8760\n",
      "Calculating Sun position for Metdata that is right-labeled  with a delta of -30 mins. i.e. 12 is 11:30 sunpos\n",
      "\n",
      "Module Name: test-module\n",
      "Module was shifted by 0.078 in X to avoid sensors on air\n",
      "This is a Cell-Level detailed module with Packaging Factor of 0.81 \n",
      "Module test-module updated in module.json\n",
      "Creating ~4 skyfiles. \n",
      "Created 4 skyfiles in /skies/\n",
      "\n",
      "Making ~4 .rad files for gendaylit 1-axis workflow (this takes a minute..)\n",
      "4 Radfiles created in /objects/\n",
      "\n",
      "Making 4 octfiles in root directory.\n",
      "Created 1axis_2021-11-06_1100.oct\n",
      "Created 1axis_2021-11-06_1200.oct\n",
      "Created 1axis_2021-11-06_1300.oct\n",
      "Created 1axis_2021-11-06_1400.oct\n",
      "Linescan in process: 1axis_2021-11-06_1100_Scene0_Row1_Module2_Front\n",
      "Linescan in process: 1axis_2021-11-06_1100_Scene0_Row1_Module2_Back\n",
      "Saved: results\\irr_1axis_2021-11-06_1100_Scene0_Row1_Module2.csv\n",
      "Index: 2021-11-06_1100. Wm2Front: 329.0674444444445. Wm2Back: 59.21953222222222\n",
      "Linescan in process: 1axis_2021-11-06_1200_Scene0_Row1_Module2_Front\n",
      "Linescan in process: 1axis_2021-11-06_1200_Scene0_Row1_Module2_Back\n",
      "Saved: results\\irr_1axis_2021-11-06_1200_Scene0_Row1_Module2.csv\n",
      "Index: 2021-11-06_1200. Wm2Front: 196.89229629629628. Wm2Back: 38.39207666666667\n",
      "Linescan in process: 1axis_2021-11-06_1300_Scene0_Row1_Module2_Front\n",
      "Linescan in process: 1axis_2021-11-06_1300_Scene0_Row1_Module2_Back\n",
      "Saved: results\\irr_1axis_2021-11-06_1300_Scene0_Row1_Module2.csv\n",
      "Index: 2021-11-06_1300. Wm2Front: 245.63258518518518. Wm2Back: 49.120745925925924\n",
      "Linescan in process: 1axis_2021-11-06_1400_Scene0_Row1_Module2_Front\n",
      "Linescan in process: 1axis_2021-11-06_1400_Scene0_Row1_Module2_Back\n",
      "Saved: results\\irr_1axis_2021-11-06_1400_Scene0_Row1_Module2.csv\n",
      "Index: 2021-11-06_1400. Wm2Front: 123.35420370370372. Wm2Back: 32.15155\n"
     ]
    },
    {
     "data": {
      "text/plain": [
       "{'2021-11-06_1100': {'surf_azm': 90.0,\n",
       "  'surf_tilt': 32.06,\n",
       "  'theta': -32.06,\n",
       "  'dni': 203,\n",
       "  'ghi': 303,\n",
       "  'dhi': 191,\n",
       "  'temp_air': 19.4,\n",
       "  'wind_speed': 7.2,\n",
       "  'skyfile': 'skies\\\\sky2_37.5_-77.33_2021-11-06_1100.rad',\n",
       "  'scenes': [<class 'bifacial_radiance.main.SceneObj'> : {'gcr': 0.4284, 'hpc': False, 'module': <class 'bifacial_radiance.module.ModuleObj'> : {'x': 1.036, 'y': 2.092, 'z': 0.02, 'modulematerial': 'black', 'scenex': 1.046, 'sceney': 4.284, 'scenez': 0.1, 'numpanels': 2, 'bifi': 1, 'text': '! genbox black cellPVmodule 0.156 0.156 0.02 | xform -t -0.44 -2.142 0 -a 6 -t 0.176 0 0 -a 12 -t 0 0.176 0 -a 2 -t 0 2.192 0\\r\\n! genbox black octtube1a 1.046 0.04142135623730951 0.1 | xform -t -0.523 -0.020711 -0.15000000000000002\\r\\n! genbox black octtube1b 1.046 0.04142135623730951 0.1 | xform -t -0.445 -0.020711 -0.05 -rx 45 -t 0 0 -0.1\\r\\n! genbox black octtube1c 1.046 0.04142135623730951 0.1 | xform -t -0.445 -0.020710678118654756 -0.05 -rx 90 -t 0 0 -0.1\\r\\n! genbox black octtube1d 1.046 0.04142135623730951 0.1 | xform -t -0.445 -0.020710678118654756 -0.05 -rx 135 -t 0 0 -0.1 ', 'modulefile': 'objects\\\\test-module.rad', 'glass': False, 'glassEdge': 0.01, 'offsetfromaxis': 0, 'xgap': 0.01, 'ygap': 0.1, 'zgap': 0.05}, 'modulefile': 'objects\\\\test-module.rad', 'name': 'Scene0', 'radfiles': 'objects\\\\1axis2021-11-06_1100__C_1.16_rtr_10.00_tilt_32_3modsx1rows_origin0,0.rad', 'sceneDict': {'pitch': 10, 'nMods': 3, 'nRows': 1, 'tilt': 32.06, 'azimuth': 90.0, 'modulez': 0.02, 'axis_tilt': 0, 'originx': 0, 'originy': 0, 'hub_height': 2.3}, 'text': '!xform -rx 32.06 -t 0 0 2.3 -a 3 -t 1.046 0 0 -a 1 -t 0 10 0 -i 1 -t -1.046 -0.0 0 -rz 90.0 -t 0 0 0 \"objects\\\\test-module.rad\"'}],\n",
       "  'octfile': '1axis_2021-11-06_1100.oct',\n",
       "  'AnalysisObj': [<class 'bifacial_radiance.main.AnalysisObj'> : {'Back/FrontRatio': [0.18, 0.179, 0.179, 0.17, 0.154, 0.182, 0.188, 0.191, 0.193], 'Wm2Back': [60.606, 60.066, 60.103, 56.921, 41.987, 61.046, 63.192, 64.153, 64.902], 'Wm2Front': [335.989, 336.465, 335.28, 335.573, 273.326, 336.152, 336.364, 336.576, 335.882], 'backRatio': [0.18, 0.179, 0.179, 0.17, 0.154, 0.182, 0.188, 0.191, 0.193], 'hpc': False, 'mattype': array(['a1.0.a2.2.0.cellPVmodule.6457', 'a1.0.a2.4.0.cellPVmodule.6457',\n",
       "          'a1.0.a2.7.0.cellPVmodule.6457', 'a1.0.a2.9.0.cellPVmodule.6457',\n",
       "          'a1.0.octtube1a.6457', 'a1.0.a2.2.1.cellPVmodule.6457',\n",
       "          'a1.0.a2.4.1.cellPVmodule.6457', 'a1.0.a2.7.1.cellPVmodule.6457',\n",
       "          'a1.0.a2.9.1.cellPVmodule.6457'], dtype=object), 'modWanted': 2, 'name': '1axis_2021-11-06_1100_Scene0', 'octfile': '1axis_2021-11-06_1100.oct', 'power_data': None, 'rearMat': array(['a1.0.a2.2.0.cellPVmodule.2310', 'a1.0.a2.4.0.cellPVmodule.2310',\n",
       "          'a1.0.a2.7.0.cellPVmodule.2310', 'a1.0.a2.9.0.cellPVmodule.2310',\n",
       "          'sky', 'a1.0.a2.2.1.cellPVmodule.2310',\n",
       "          'a1.0.a2.4.1.cellPVmodule.2310', 'a1.0.a2.7.1.cellPVmodule.2310',\n",
       "          'a1.0.a2.9.1.cellPVmodule.2310'], dtype=object), 'rearX': [1.452, 1.089, 0.726, 0.363, 0.0, -0.363, -0.726, -1.089, -1.452], 'rearY': [0.0, 0.0, 0.0, 0.0, 0.0, 0.0, 0.0, 0.0, 0.0], 'rearZ': [1.39, 1.617, 1.844, 2.072, 2.299, 2.527, 2.754, 2.982, 3.209], 'rowWanted': 1, 'sceneNum': 0, 'x': [1.464, 1.101, 0.738, 0.375, 0.012, -0.351, -0.714, -1.077, -1.44], 'y': [0.0, 0.0, 0.0, 0.0, 0.0, 0.0, 0.0, 0.0, 0.0], 'z': [1.408, 1.636, 1.863, 2.09, 2.318, 2.545, 2.773, 3.0, 3.228]}]},\n",
       " '2021-11-06_1200': {'surf_azm': 90.0,\n",
       "  'surf_tilt': 9.27,\n",
       "  'theta': -9.27,\n",
       "  'dni': 5,\n",
       "  'ghi': 200,\n",
       "  'dhi': 197,\n",
       "  'temp_air': 20.0,\n",
       "  'wind_speed': 5.2,\n",
       "  'skyfile': 'skies\\\\sky2_37.5_-77.33_2021-11-06_1200.rad',\n",
       "  'scenes': [<class 'bifacial_radiance.main.SceneObj'> : {'gcr': 0.4284, 'hpc': False, 'module': <class 'bifacial_radiance.module.ModuleObj'> : {'x': 1.036, 'y': 2.092, 'z': 0.02, 'modulematerial': 'black', 'scenex': 1.046, 'sceney': 4.284, 'scenez': 0.1, 'numpanels': 2, 'bifi': 1, 'text': '! genbox black cellPVmodule 0.156 0.156 0.02 | xform -t -0.44 -2.142 0 -a 6 -t 0.176 0 0 -a 12 -t 0 0.176 0 -a 2 -t 0 2.192 0\\r\\n! genbox black octtube1a 1.046 0.04142135623730951 0.1 | xform -t -0.523 -0.020711 -0.15000000000000002\\r\\n! genbox black octtube1b 1.046 0.04142135623730951 0.1 | xform -t -0.445 -0.020711 -0.05 -rx 45 -t 0 0 -0.1\\r\\n! genbox black octtube1c 1.046 0.04142135623730951 0.1 | xform -t -0.445 -0.020710678118654756 -0.05 -rx 90 -t 0 0 -0.1\\r\\n! genbox black octtube1d 1.046 0.04142135623730951 0.1 | xform -t -0.445 -0.020710678118654756 -0.05 -rx 135 -t 0 0 -0.1 ', 'modulefile': 'objects\\\\test-module.rad', 'glass': False, 'glassEdge': 0.01, 'offsetfromaxis': 0, 'xgap': 0.01, 'ygap': 0.1, 'zgap': 0.05}, 'modulefile': 'objects\\\\test-module.rad', 'name': 'Scene0', 'radfiles': 'objects\\\\1axis2021-11-06_1200__C_1.95_rtr_10.00_tilt_9_3modsx1rows_origin0,0.rad', 'sceneDict': {'pitch': 10, 'nMods': 3, 'nRows': 1, 'tilt': 9.27, 'azimuth': 90.0, 'modulez': 0.02, 'axis_tilt': 0, 'originx': 0, 'originy': 0, 'hub_height': 2.3}, 'text': '!xform -rx 9.27 -t 0 0 2.3 -a 3 -t 1.046 0 0 -a 1 -t 0 10 0 -i 1 -t -1.046 -0.0 0 -rz 90.0 -t 0 0 0 \"objects\\\\test-module.rad\"'}],\n",
       "  'octfile': '1axis_2021-11-06_1200.oct',\n",
       "  'AnalysisObj': [<class 'bifacial_radiance.main.AnalysisObj'> : {'Back/FrontRatio': [0.177, 0.174, 0.171, 0.166, 0.349, 0.17, 0.179, 0.182, 0.186], 'Wm2Back': [34.939, 34.266, 33.695, 32.767, 68.729, 33.499, 35.173, 35.8, 36.66], 'Wm2Front': [196.884, 196.886, 196.888, 196.89, 196.892, 196.894, 196.896, 196.898, 196.901], 'backRatio': [0.177, 0.174, 0.171, 0.166, 0.349, 0.17, 0.179, 0.182, 0.186], 'hpc': False, 'mattype': array(['a1.0.a2.2.0.cellPVmodule.6457', 'a1.0.a2.4.0.cellPVmodule.6457',\n",
       "          'a1.0.a2.7.0.cellPVmodule.6457', 'a1.0.a2.9.0.cellPVmodule.6457',\n",
       "          'a1.0.octtube1a.6457', 'a1.0.a2.2.1.cellPVmodule.6457',\n",
       "          'a1.0.a2.4.1.cellPVmodule.6457', 'a1.0.a2.7.1.cellPVmodule.6457',\n",
       "          'a1.0.a2.9.1.cellPVmodule.6457'], dtype=object), 'modWanted': 2, 'name': '1axis_2021-11-06_1200_Scene0', 'octfile': '1axis_2021-11-06_1200.oct', 'power_data': None, 'rearMat': array(['a1.0.a2.2.0.cellPVmodule.2310', 'a1.0.a2.4.0.cellPVmodule.2310',\n",
       "          'a1.0.a2.7.0.cellPVmodule.2310', 'a1.0.a2.9.0.cellPVmodule.2310',\n",
       "          'sky', 'a1.0.a2.2.1.cellPVmodule.2310',\n",
       "          'a1.0.a2.4.1.cellPVmodule.2310', 'a1.0.a2.7.1.cellPVmodule.2310',\n",
       "          'a1.0.a2.9.1.cellPVmodule.2310'], dtype=object), 'rearX': [1.691, 1.269, 0.846, 0.423, 0.0, -0.423, -0.846, -1.269, -1.691], 'rearY': [0.0, 0.0, 0.0, 0.0, 0.0, 0.0, 0.0, 0.0, 0.0], 'rearZ': [2.023, 2.092, 2.161, 2.231, 2.3, 2.369, 2.438, 2.507, 2.576], 'rowWanted': 1, 'sceneNum': 0, 'x': [1.694, 1.271, 0.849, 0.426, 0.003, -0.42, -0.843, -1.266, -1.688], 'y': [0.0, 0.0, 0.0, 0.0, 0.0, 0.0, 0.0, 0.0, 0.0], 'z': [2.045, 2.114, 2.183, 2.252, 2.321, 2.39, 2.459, 2.528, 2.597]}]},\n",
       " '2021-11-06_1300': {'surf_azm': 90.0,\n",
       "  'surf_tilt': -14.87,\n",
       "  'theta': 14.87,\n",
       "  'dni': 3,\n",
       "  'ghi': 250,\n",
       "  'dhi': 249,\n",
       "  'temp_air': 20.0,\n",
       "  'wind_speed': 7.2,\n",
       "  'skyfile': 'skies\\\\sky2_37.5_-77.33_2021-11-06_1300.rad',\n",
       "  'scenes': [<class 'bifacial_radiance.main.SceneObj'> : {'gcr': 0.4284, 'hpc': False, 'module': <class 'bifacial_radiance.module.ModuleObj'> : {'x': 1.036, 'y': 2.092, 'z': 0.02, 'modulematerial': 'black', 'scenex': 1.046, 'sceney': 4.284, 'scenez': 0.1, 'numpanels': 2, 'bifi': 1, 'text': '! genbox black cellPVmodule 0.156 0.156 0.02 | xform -t -0.44 -2.142 0 -a 6 -t 0.176 0 0 -a 12 -t 0 0.176 0 -a 2 -t 0 2.192 0\\r\\n! genbox black octtube1a 1.046 0.04142135623730951 0.1 | xform -t -0.523 -0.020711 -0.15000000000000002\\r\\n! genbox black octtube1b 1.046 0.04142135623730951 0.1 | xform -t -0.445 -0.020711 -0.05 -rx 45 -t 0 0 -0.1\\r\\n! genbox black octtube1c 1.046 0.04142135623730951 0.1 | xform -t -0.445 -0.020710678118654756 -0.05 -rx 90 -t 0 0 -0.1\\r\\n! genbox black octtube1d 1.046 0.04142135623730951 0.1 | xform -t -0.445 -0.020710678118654756 -0.05 -rx 135 -t 0 0 -0.1 ', 'modulefile': 'objects\\\\test-module.rad', 'glass': False, 'glassEdge': 0.01, 'offsetfromaxis': 0, 'xgap': 0.01, 'ygap': 0.1, 'zgap': 0.05}, 'modulefile': 'objects\\\\test-module.rad', 'name': 'Scene0', 'radfiles': 'objects\\\\1axis2021-11-06_1300__C_1.75_rtr_10.00_tilt_-15_3modsx1rows_origin0,0.rad', 'sceneDict': {'pitch': 10, 'nMods': 3, 'nRows': 1, 'tilt': -14.87, 'azimuth': 90.0, 'modulez': 0.02, 'axis_tilt': 0, 'originx': 0, 'originy': 0, 'hub_height': 2.3}, 'text': '!xform -rx -14.87 -t 0 0 2.3 -a 3 -t 1.046 0 0 -a 1 -t 0 10 0 -i 1 -t -1.046 -0.0 0 -rz 90.0 -t 0 0 0 \"objects\\\\test-module.rad\"'}],\n",
       "  'octfile': '1axis_2021-11-06_1300.oct',\n",
       "  'AnalysisObj': [<class 'bifacial_radiance.main.AnalysisObj'> : {'Back/FrontRatio': [0.195, 0.19, 0.185, 0.181, 0.349, 0.168, 0.174, 0.178, 0.18], 'Wm2Back': [47.781, 46.791, 45.494, 44.494, 85.648, 41.309, 42.755, 43.616, 44.199], 'Wm2Front': [245.63, 245.625, 245.62, 245.615, 245.61, 245.604, 245.599, 245.705, 245.685], 'backRatio': [0.195, 0.19, 0.185, 0.181, 0.349, 0.168, 0.174, 0.178, 0.18], 'hpc': False, 'mattype': array(['a1.0.a2.2.0.cellPVmodule.6457', 'a1.0.a2.4.0.cellPVmodule.6457',\n",
       "          'a1.0.a2.7.0.cellPVmodule.6457', 'a1.0.a2.9.0.cellPVmodule.6457',\n",
       "          'a1.0.octtube1a.6457', 'a1.0.a2.2.1.cellPVmodule.6457',\n",
       "          'a1.0.a2.4.1.cellPVmodule.6457', 'a1.0.a2.7.1.cellPVmodule.6457',\n",
       "          'a1.0.a2.9.1.cellPVmodule.6457'], dtype=object), 'modWanted': 2, 'name': '1axis_2021-11-06_1300_Scene0', 'octfile': '1axis_2021-11-06_1300.oct', 'power_data': None, 'rearMat': array(['a1.0.a2.2.0.cellPVmodule.2310', 'a1.0.a2.4.0.cellPVmodule.2310',\n",
       "          'a1.0.a2.7.0.cellPVmodule.2310', 'a1.0.a2.9.0.cellPVmodule.2310',\n",
       "          'sky', 'a1.0.a2.2.1.cellPVmodule.2310',\n",
       "          'a1.0.a2.4.1.cellPVmodule.2310', 'a1.0.a2.7.1.cellPVmodule.2310',\n",
       "          'a1.0.a2.9.1.cellPVmodule.2310'], dtype=object), 'rearX': [1.656, 1.242, 0.828, 0.414, 0.0, -0.414, -0.828, -1.242, -1.656], 'rearY': [0.0, 0.0, 0.0, 0.0, 0.0, 0.0, 0.0, 0.0, 0.0], 'rearZ': [2.738, 2.628, 2.518, 2.409, 2.299, 2.189, 2.079, 1.969, 1.859], 'rowWanted': 1, 'sceneNum': 0, 'x': [1.65, 1.236, 0.822, 0.408, -0.006, -0.42, -0.834, -1.248, -1.662], 'y': [0.0, 0.0, 0.0, 0.0, 0.0, 0.0, 0.0, 0.0, 0.0], 'z': [2.76, 2.65, 2.54, 2.43, 2.32, 2.21, 2.1, 1.99, 1.88]}]},\n",
       " '2021-11-06_1400': {'surf_azm': 90.0,\n",
       "  'surf_tilt': -36.95,\n",
       "  'theta': 36.95,\n",
       "  'dni': 2,\n",
       "  'ghi': 136,\n",
       "  'dhi': 135,\n",
       "  'temp_air': 17.2,\n",
       "  'wind_speed': 6.7,\n",
       "  'skyfile': 'skies\\\\sky2_37.5_-77.33_2021-11-06_1400.rad',\n",
       "  'scenes': [<class 'bifacial_radiance.main.SceneObj'> : {'gcr': 0.4284, 'hpc': False, 'module': <class 'bifacial_radiance.module.ModuleObj'> : {'x': 1.036, 'y': 2.092, 'z': 0.02, 'modulematerial': 'black', 'scenex': 1.046, 'sceney': 4.284, 'scenez': 0.1, 'numpanels': 2, 'bifi': 1, 'text': '! genbox black cellPVmodule 0.156 0.156 0.02 | xform -t -0.44 -2.142 0 -a 6 -t 0.176 0 0 -a 12 -t 0 0.176 0 -a 2 -t 0 2.192 0\\r\\n! genbox black octtube1a 1.046 0.04142135623730951 0.1 | xform -t -0.523 -0.020711 -0.15000000000000002\\r\\n! genbox black octtube1b 1.046 0.04142135623730951 0.1 | xform -t -0.445 -0.020711 -0.05 -rx 45 -t 0 0 -0.1\\r\\n! genbox black octtube1c 1.046 0.04142135623730951 0.1 | xform -t -0.445 -0.020710678118654756 -0.05 -rx 90 -t 0 0 -0.1\\r\\n! genbox black octtube1d 1.046 0.04142135623730951 0.1 | xform -t -0.445 -0.020710678118654756 -0.05 -rx 135 -t 0 0 -0.1 ', 'modulefile': 'objects\\\\test-module.rad', 'glass': False, 'glassEdge': 0.01, 'offsetfromaxis': 0, 'xgap': 0.01, 'ygap': 0.1, 'zgap': 0.05}, 'modulefile': 'objects\\\\test-module.rad', 'name': 'Scene0', 'radfiles': 'objects\\\\1axis2021-11-06_1400__C_1.01_rtr_10.00_tilt_-37_3modsx1rows_origin0,0.rad', 'sceneDict': {'pitch': 10, 'nMods': 3, 'nRows': 1, 'tilt': -36.95, 'azimuth': 90.0, 'modulez': 0.02, 'axis_tilt': 0, 'originx': 0, 'originy': 0, 'hub_height': 2.3}, 'text': '!xform -rx -36.95 -t 0 0 2.3 -a 3 -t 1.046 0 0 -a 1 -t 0 10 0 -i 1 -t -1.046 -0.0 0 -rz 90.0 -t 0 0 0 \"objects\\\\test-module.rad\"'}],\n",
       "  'octfile': '1axis_2021-11-06_1400.oct',\n",
       "  'AnalysisObj': [<class 'bifacial_radiance.main.AnalysisObj'> : {'Back/FrontRatio': [0.268, 0.264, 0.259, 0.252, 0.376, 0.221, 0.238, 0.235, 0.233], 'Wm2Back': [33.164, 32.641, 32.0, 31.054, 46.393, 27.204, 29.343, 28.89, 28.676], 'Wm2Front': [123.607, 123.505, 123.401, 123.446, 123.315, 123.183, 123.335, 123.14, 123.257], 'backRatio': [0.268, 0.264, 0.259, 0.252, 0.376, 0.221, 0.238, 0.235, 0.233], 'hpc': False, 'mattype': array(['a1.0.a2.2.0.cellPVmodule.6457', 'a1.0.a2.4.0.cellPVmodule.6457',\n",
       "          'a1.0.a2.7.0.cellPVmodule.6457', 'a1.0.a2.9.0.cellPVmodule.6457',\n",
       "          'a1.0.octtube1a.6457', 'a1.0.a2.2.1.cellPVmodule.6457',\n",
       "          'a1.0.a2.4.1.cellPVmodule.6457', 'a1.0.a2.7.1.cellPVmodule.6457',\n",
       "          'a1.0.a2.9.1.cellPVmodule.6457'], dtype=object), 'modWanted': 2, 'name': '1axis_2021-11-06_1400_Scene0', 'octfile': '1axis_2021-11-06_1400.oct', 'power_data': None, 'rearMat': array(['a1.0.a2.2.0.cellPVmodule.2310', 'a1.0.a2.4.0.cellPVmodule.2310',\n",
       "          'a1.0.a2.7.0.cellPVmodule.2310', 'a1.0.a2.9.0.cellPVmodule.2310',\n",
       "          'sky', 'a1.0.a2.2.1.cellPVmodule.2310',\n",
       "          'a1.0.a2.4.1.cellPVmodule.2310', 'a1.0.a2.7.1.cellPVmodule.2310',\n",
       "          'a1.0.a2.9.1.cellPVmodule.2310'], dtype=object), 'rearX': [1.37, 1.028, 0.686, 0.343, 0.001, -0.341, -0.684, -1.026, -1.368], 'rearY': [0.0, 0.0, 0.0, 0.0, 0.0, 0.0, 0.0, 0.0, 0.0], 'rearZ': [3.33, 3.073, 2.815, 2.557, 2.3, 2.042, 1.785, 1.527, 1.27], 'rowWanted': 1, 'sceneNum': 0, 'x': [1.356, 1.014, 0.672, 0.33, -0.013, -0.355, -0.697, -1.04, -1.382], 'y': [0.0, 0.0, 0.0, 0.0, 0.0, 0.0, 0.0, 0.0, 0.0], 'z': [3.348, 3.09, 2.833, 2.575, 2.317, 2.06, 1.802, 1.545, 1.287]}]}}"
      ]
     },
     "execution_count": 2,
     "metadata": {},
     "output_type": "execute_result"
    }
   ],
   "source": [
    "import bifacial_radiance\n",
    "from pathlib import Path\n",
    "import os\n",
    "\n",
    "testfolder = str(Path().resolve().parent.parent / 'bifacial_radiance' / 'TEMP' / 'Tutorial_06')\n",
    "if not os.path.exists(testfolder):\n",
    "    os.makedirs(testfolder)              \n",
    "\n",
    "simulationName = 'tutorial_6'\n",
    "moduletype = 'test-module'   \n",
    "albedo = \"litesoil\"      # this is one of the options on ground.rad\n",
    "lat = 37.5   \n",
    "lon = -77.6\n",
    "\n",
    "# Scene variables\n",
    "nMods = 3\n",
    "nRows = 1\n",
    "hub_height = 2.3 # meters\n",
    "pitch = 10 # meters      # We will be using pitch instead of GCR for this example.\n",
    "\n",
    "# Traking parameters\n",
    "cumulativesky = False\n",
    "limit_angle = 45 # tracker rotation limit angle\n",
    "angledelta = 0.01 # we will be doing hourly simulation, we want the angle to be as close to real tracking as possible.\n",
    "backtrack = True \n",
    "\n",
    "#makeModule parameters\n",
    "# x and y will be defined by the cell-level module parameters\n",
    "xgap = 0.01\n",
    "ygap = 0.10\n",
    "zgap = 0.05\n",
    "numpanels = 2\n",
    "torquetube = True\n",
    "axisofrotationTorqueTube = False\n",
    "diameter = 0.1\n",
    "tubetype = 'Oct'    # This will make an octagonal torque tube.\n",
    "material = 'black'   # Torque tube will be made of this material (0% reflectivity)\n",
    "\n",
    "tubeParams = {'diameter':diameter,\n",
    "              'tubetype':tubetype,\n",
    "              'material':material,\n",
    "              'axisofrotation':axisofrotationTorqueTube,\n",
    "              'visible':torquetube}\n",
    "\n",
    "# Simulation range between two hours\n",
    "startdate = '11_06_11'       # Options: mm_dd, mm_dd_HH, mm_dd_HHMM, YYYY-mm-dd_HHMM\n",
    "enddate = '11_06_14'\n",
    "\n",
    "# Cell Parameters\n",
    "numcellsx = 6\n",
    "numcellsy = 12\n",
    "xcell = 0.156\n",
    "ycell = 0.156\n",
    "xcellgap = 0.02\n",
    "ycellgap = 0.02\n",
    "\n",
    "demo = bifacial_radiance.RadianceObj(simulationName, path=testfolder)  \n",
    "demo.setGround(albedo) \n",
    "epwfile = demo.getEPW(lat,lon) \n",
    "metdata = demo.readWeatherFile(epwfile, starttime=startdate, endtime=enddate)  \n",
    "cellLevelModuleParams = {'numcellsx': numcellsx, 'numcellsy':numcellsy, \n",
    "                         'xcell': xcell, 'ycell': ycell, 'xcellgap': xcellgap, 'ycellgap': ycellgap}\n",
    "mymodule = demo.makeModule(name=moduletype, xgap=xgap, ygap=ygap, zgap=zgap, \n",
    "                           numpanels=numpanels, cellModule=cellLevelModuleParams, tubeParams=tubeParams)\n",
    "\n",
    "sceneDict = {'pitch':pitch,'hub_height':hub_height, 'nMods': nMods, 'nRows': nRows}  \n",
    "demo.set1axis(limit_angle=limit_angle, backtrack=backtrack, gcr=mymodule.sceney / pitch, cumulativesky=cumulativesky)\n",
    "demo.gendaylit1axis()\n",
    "demo.makeScene1axis(module=mymodule, sceneDict=sceneDict)\n",
    "demo.makeOct1axis()\n",
    "demo.analysis1axis()"
   ]
  },
  {
   "cell_type": "markdown",
   "metadata": {},
   "source": [
    "<a id='step2'></a>"
   ]
  },
  {
   "cell_type": "markdown",
   "metadata": {},
   "source": [
    "## 2. Explore the tracker dictionary\n",
    "\n",
    "You can use any of the below options to explore the tracking dictionary. Copy it into an empty cell to see their contents."
   ]
  },
  {
   "cell_type": "code",
   "execution_count": 2,
   "metadata": {},
   "outputs": [
    {
     "name": "stdout",
     "output_type": "stream",
     "text": [
      "{'metdata': <bifacial_radiance.main.MetObj object at 0x000001B686A32050>, 'data': {}, 'path': 'C:\\\\Users\\\\mprillim\\\\sam_dev\\\\bifacial_radiance\\\\bifacial_radiance\\\\Tutorial_06', 'name': '2021-11-06_1400', 'materialfiles': ['materials\\\\ground.rad'], 'skyfiles': ['skies\\\\sky2_37.5_-77.33_2021-11-06_1400.rad'], 'radfiles': [], 'octfile': '1axis_2021-11-06_1400.oct', 'Wm2Front': array([906.884     , 907.19613333, 906.44273333, 906.9406    ,\n",
      "       843.25653333, 906.5462    , 907.19923333, 907.21246667,\n",
      "       907.78613333]), 'Wm2Back': array([176.82297333, 174.31323   , 171.50522   , 166.06708667,\n",
      "       244.43363   , 163.82718667, 170.50578667, 172.06862   ,\n",
      "       174.59592333]), 'backRatio': 0.19928946612004073, 'hpc': False, 'nowstr': '2024-04-05_15734', 'basename': 'tutorial_6', 'ground': <bifacial_radiance.main.GroundObj object at 0x000001B686AB8250>, 'epwfile': 'EPWs\\\\USA_VA_Richmond.724010_TMY2.epw', 'gencumsky_metfile': 'EPWs\\\\metdata_temp.csv', 'module': {'x': 1.036, 'y': 2.092, 'z': 0.02, 'modulematerial': 'black', 'scenex': 1.046, 'sceney': 4.284, 'scenez': 0.1, 'numpanels': 2, 'bifi': 1, 'text': '! genbox black cellPVmodule 0.156 0.156 0.02 | xform -t -0.44 -2.142 0 -a 6 -t 0.176 0 0 -a 12 -t 0 0.176 0 -a 2 -t 0 2.192 0\\r\\n! genbox black octtube1a 1.046 0.04142135623730951 0.1 | xform -t -0.523 -0.020710678118654756 -0.15000000000000002\\r\\n! genbox black octtube1b 1.046 0.04142135623730951 0.1 | xform -t -0.445 -0.020710678118654756 -0.05 -rx 45 -t 0 0 -0.1\\r\\n! genbox black octtube1c 1.046 0.04142135623730951 0.1 | xform -t -0.445 -0.020710678118654756 -0.05 -rx 90 -t 0 0 -0.1\\r\\n! genbox black octtube1d 1.046 0.04142135623730951 0.1 | xform -t -0.445 -0.020710678118654756 -0.05 -rx 135 -t 0 0 -0.1 ', 'modulefile': 'objects\\\\test-module.rad', 'glass': False, 'offsetfromaxis': 0, 'xgap': 0.01, 'ygap': 0.1, 'zgap': 0.05}, 'trackerdict': {'2021-11-06_1100': {'surf_azm': 90.0, 'surf_tilt': 32.06, 'theta': -32.06, 'ghi': 303, 'dhi': 191, 'temp_air': 19.4, 'wind_speed': 7.2, 'skyfile': 'skies\\\\sky2_37.5_-77.33_2021-11-06_1100.rad', 'radfile': 'objects\\\\1axis2021-11-06_1100__C_1.16301_rtr_10.00000_tilt_32.06000_3modsx1rows_origin0,0.rad', 'scene': {'module': {'x': 1.036, 'y': 2.092, 'z': 0.02, 'modulematerial': 'black', 'scenex': 1.046, 'sceney': 4.284, 'scenez': 0.1, 'numpanels': 2, 'bifi': 1, 'text': '! genbox black cellPVmodule 0.156 0.156 0.02 | xform -t -0.44 -2.142 0 -a 6 -t 0.176 0 0 -a 12 -t 0 0.176 0 -a 2 -t 0 2.192 0\\r\\n! genbox black octtube1a 1.046 0.04142135623730951 0.1 | xform -t -0.523 -0.020710678118654756 -0.15000000000000002\\r\\n! genbox black octtube1b 1.046 0.04142135623730951 0.1 | xform -t -0.445 -0.020710678118654756 -0.05 -rx 45 -t 0 0 -0.1\\r\\n! genbox black octtube1c 1.046 0.04142135623730951 0.1 | xform -t -0.445 -0.020710678118654756 -0.05 -rx 90 -t 0 0 -0.1\\r\\n! genbox black octtube1d 1.046 0.04142135623730951 0.1 | xform -t -0.445 -0.020710678118654756 -0.05 -rx 135 -t 0 0 -0.1 ', 'modulefile': 'objects\\\\test-module.rad', 'glass': False, 'offsetfromaxis': 0, 'xgap': 0.01, 'ygap': 0.1, 'zgap': 0.05}, 'modulefile': 'objects\\\\test-module.rad', 'hpc': False, 'name': 'Scene0', 'gcr': 0.4284, 'text': '!xform -rx 32.06 -t 0 0 2.3 -a 3 -t 1.046 0 0 -a 1 -t 0 10 0 -i 1 -t -1.046 -0.0 0 -rz 90.0 -t 0 0 0 objects\\\\test-module.rad', 'radfiles': 'objects\\\\1axis2021-11-06_1100__C_1.16301_rtr_10.00000_tilt_32.06000_3modsx1rows_origin0,0.rad', 'sceneDict': {'tilt': 0, 'pitch': 10, 'clearance_height': 2.3, 'azimuth': 90.0, 'nMods': 3, 'nRows': 1, 'modulez': 0.02, 'axis_tilt': 0, 'originx': 0, 'originy': 0}}, 'octfile': '1axis_2021-11-06_1100.oct', 'AnalysisObj': {'octfile': '1axis_2021-11-06_1100.oct', 'name': '1axis_2021-11-06_1100', 'hpc': False, 'x': [1.46341, 1.100345, 0.7372787, 0.3742128, 0.01114695, -0.3519189, -0.7149848, -1.078051, -1.441117], 'y': [8.960805e-17, 6.737667e-17, 4.51453e-17, 2.291393e-17, 6.825537e-19, -2.154882e-17, -4.378019e-17, -6.601157e-17, -8.824294e-17], 'z': [1.408206, 1.635604, 1.863002, 2.0904, 2.317797, 2.545195, 2.772593, 2.999991, 3.227388], 'rearZ': [1.389562, 1.616959, 1.844357, 2.071755, 2.299153, 2.52655, 2.753948, 2.981346, 3.208743], 'mattype': ['a1.0.a2.2.0.cellPVmodule.6457', 'a1.0.a2.4.0.cellPVmodule.6457', 'a1.0.a2.7.0.cellPVmodule.6457', 'a1.0.a2.9.0.cellPVmodule.6457', 'a1.0.octtube1a.6457', 'a1.0.a2.2.1.cellPVmodule.6457', 'a1.0.a2.4.1.cellPVmodule.6457', 'a1.0.a2.7.1.cellPVmodule.6457', 'a1.0.a2.9.1.cellPVmodule.6457'], 'rearMat': ['a1.0.a2.2.0.cellPVmodule.2310', 'a1.0.a2.4.0.cellPVmodule.2310', 'a1.0.a2.7.0.cellPVmodule.2310', 'a1.0.a2.9.0.cellPVmodule.2310', 'sky', 'a1.0.a2.2.1.cellPVmodule.2310', 'a1.0.a2.4.1.cellPVmodule.2310', 'a1.0.a2.7.1.cellPVmodule.2310', 'a1.0.a2.9.1.cellPVmodule.2310'], 'Wm2Front': [337.20706666666666, 337.6397, 337.00833333333327, 337.3246666666667, 273.78326666666663, 337.2169666666666, 337.4324666666667, 337.6477666666667, 338.40573333333333], 'Wm2Back': [60.91701333333333, 60.583059999999996, 60.04819333333334, 57.43180999999999, 42.28062, 61.19686333333333, 63.16713000000001, 64.29886, 65.27587], 'Back/FrontRatio': [0.1806511153054662, 0.17943056035602342, 0.17817961520353548, 0.17025627064646723, 0.15443042259063344, 0.18147569045105252, 0.18719877024646045, 0.190431200548341, 0.19289175885192197], 'backRatio': [0.1806511153054662, 0.17943056035602342, 0.17817961520353548, 0.17025627064646723, 0.15443042259063344, 0.18147569045105252, 0.18719877024646045, 0.190431200548341, 0.19289175885192197], 'rearX': [1.451733, 1.088667, 0.7256009, 0.3625351, -0.000530807, -0.3635967, -0.7266626, -1.089728, -1.452794], 'rearY': [8.889299e-17, 6.666162e-17, 4.443024e-17, 2.219887e-17, -3.250256e-20, -2.226388e-17, -4.449525e-17, -6.672662e-17, -8.895799e-17]}, 'Wm2Front': [337.20706666666666, 337.6397, 337.00833333333327, 337.3246666666667, 273.78326666666663, 337.2169666666666, 337.4324666666667, 337.6477666666667, 338.40573333333333], 'Wm2Back': [60.91701333333333, 60.583059999999996, 60.04819333333334, 57.43180999999999, 42.28062, 61.19686333333333, 63.16713000000001, 64.29886, 65.27587], 'backRatio': [0.1806511153054662, 0.17943056035602342, 0.17817961520353548, 0.17025627064646723, 0.15443042259063344, 0.18147569045105252, 0.18719877024646045, 0.190431200548341, 0.19289175885192197]}, '2021-11-06_1200': {'surf_azm': 90.0, 'surf_tilt': 9.27, 'theta': -9.27, 'ghi': 200, 'dhi': 197, 'temp_air': 20.0, 'wind_speed': 5.2, 'skyfile': 'skies\\\\sky2_37.5_-77.33_2021-11-06_1200.rad', 'radfile': 'objects\\\\1axis2021-11-06_1200__C_1.95495_rtr_10.00000_tilt_9.27000_3modsx1rows_origin0,0.rad', 'scene': {'module': {'x': 1.036, 'y': 2.092, 'z': 0.02, 'modulematerial': 'black', 'scenex': 1.046, 'sceney': 4.284, 'scenez': 0.1, 'numpanels': 2, 'bifi': 1, 'text': '! genbox black cellPVmodule 0.156 0.156 0.02 | xform -t -0.44 -2.142 0 -a 6 -t 0.176 0 0 -a 12 -t 0 0.176 0 -a 2 -t 0 2.192 0\\r\\n! genbox black octtube1a 1.046 0.04142135623730951 0.1 | xform -t -0.523 -0.020710678118654756 -0.15000000000000002\\r\\n! genbox black octtube1b 1.046 0.04142135623730951 0.1 | xform -t -0.445 -0.020710678118654756 -0.05 -rx 45 -t 0 0 -0.1\\r\\n! genbox black octtube1c 1.046 0.04142135623730951 0.1 | xform -t -0.445 -0.020710678118654756 -0.05 -rx 90 -t 0 0 -0.1\\r\\n! genbox black octtube1d 1.046 0.04142135623730951 0.1 | xform -t -0.445 -0.020710678118654756 -0.05 -rx 135 -t 0 0 -0.1 ', 'modulefile': 'objects\\\\test-module.rad', 'glass': False, 'offsetfromaxis': 0, 'xgap': 0.01, 'ygap': 0.1, 'zgap': 0.05}, 'modulefile': 'objects\\\\test-module.rad', 'hpc': False, 'name': 'Scene0', 'gcr': 0.4284, 'text': '!xform -rx 9.27 -t 0 0 2.3 -a 3 -t 1.046 0 0 -a 1 -t 0 10 0 -i 1 -t -1.046 -0.0 0 -rz 90.0 -t 0 0 0 objects\\\\test-module.rad', 'radfiles': 'objects\\\\1axis2021-11-06_1200__C_1.95495_rtr_10.00000_tilt_9.27000_3modsx1rows_origin0,0.rad', 'sceneDict': {'tilt': 9.27, 'pitch': 10, 'clearance_height': 1.954951469221026, 'azimuth': 90.0, 'nMods': 3, 'nRows': 1, 'modulez': 0.02, 'axis_tilt': 0, 'originx': 0, 'originy': 0}}, 'octfile': '1axis_2021-11-06_1200.oct', 'AnalysisObj': {'octfile': '1axis_2021-11-06_1200.oct', 'name': '1axis_2021-11-06_1200', 'hpc': False, 'x': [1.694604, 1.271798, 0.8489932, 0.426188, 0.003382829, -0.4194224, -0.8422275, -1.265033, -1.687838], 'y': [1.037645e-16, 7.787519e-17, 5.198584e-17, 2.609649e-17, 2.071385e-19, -2.568221e-17, -5.157156e-17, -7.746091e-17, -1.033503e-16], 'z': [2.044687, 2.113697, 2.182706, 2.251716, 2.320726, 2.389735, 2.458745, 2.527755, 2.596765], 'rearZ': [2.022974, 2.091984, 2.160994, 2.230003, 2.299013, 2.368023, 2.437032, 2.506042, 2.575052], 'mattype': ['a1.0.a2.2.0.cellPVmodule.6457', 'a1.0.a2.4.0.cellPVmodule.6457', 'a1.0.a2.7.0.cellPVmodule.6457', 'a1.0.a2.9.0.cellPVmodule.6457', 'a1.0.octtube1a.6457', 'a1.0.a2.2.1.cellPVmodule.6457', 'a1.0.a2.4.1.cellPVmodule.6457', 'a1.0.a2.7.1.cellPVmodule.6457', 'a1.0.a2.9.1.cellPVmodule.6457'], 'rearMat': ['a1.0.a2.2.0.cellPVmodule.2310', 'a1.0.a2.4.0.cellPVmodule.2310', 'a1.0.a2.7.0.cellPVmodule.2310', 'a1.0.a2.9.0.cellPVmodule.2310', 'sky', 'a1.0.a2.2.1.cellPVmodule.2310', 'a1.0.a2.4.1.cellPVmodule.2310', 'a1.0.a2.7.1.cellPVmodule.2310', 'a1.0.a2.9.1.cellPVmodule.2310'], 'Wm2Front': [198.11946666666665, 198.12856666666667, 198.1377666666667, 198.14700000000002, 198.15623333333335, 198.16546666666667, 198.17466666666667, 198.1839, 198.06496666666666], 'Wm2Back': [34.83488666666667, 34.24818666666667, 33.691833333333335, 32.87728, 69.20081, 33.90951666666666, 35.152636666666666, 35.88444, 36.67103], 'Back/FrontRatio': [0.17582679494327863, 0.172857525723487, 0.17004160215660302, 0.16592284554979103, 0.3492217207311971, 0.17111632072294772, 0.1773811954713579, 0.18106545957840378, 0.18514553821210072], 'backRatio': [0.17582679494327863, 0.172857525723487, 0.17004160215660302, 0.16592284554979103, 0.3492217207311971, 0.17111632072294772, 0.1773811954713579, 0.18106545957840378, 0.18514553821210072], 'rearX': [1.69106, 1.268254, 0.8454493, 0.4226441, -0.0001610871, -0.4229663, -0.8457714, -1.268577, -1.691382], 'rearY': [1.035475e-16, 7.765819e-17, 5.176884e-17, 2.587949e-17, -9.863739e-21, -2.589921e-17, -5.178856e-17, -7.767792e-17, -1.035673e-16]}, 'Wm2Front': [198.11946666666665, 198.12856666666667, 198.1377666666667, 198.14700000000002, 198.15623333333335, 198.16546666666667, 198.17466666666667, 198.1839, 198.06496666666666], 'Wm2Back': [34.83488666666667, 34.24818666666667, 33.691833333333335, 32.87728, 69.20081, 33.90951666666666, 35.152636666666666, 35.88444, 36.67103], 'backRatio': [0.17582679494327863, 0.172857525723487, 0.17004160215660302, 0.16592284554979103, 0.3492217207311971, 0.17111632072294772, 0.1773811954713579, 0.18106545957840378, 0.18514553821210072]}, '2021-11-06_1300': {'surf_azm': 90.0, 'surf_tilt': -14.87, 'theta': 14.87, 'ghi': 250, 'dhi': 249, 'temp_air': 20.0, 'wind_speed': 7.2, 'skyfile': 'skies\\\\sky2_37.5_-77.33_2021-11-06_1300.rad', 'radfile': 'objects\\\\1axis2021-11-06_1300__C_1.75031_rtr_10.00000_tilt_-14.87000_3modsx1rows_origin0,0.rad', 'scene': {'module': {'x': 1.036, 'y': 2.092, 'z': 0.02, 'modulematerial': 'black', 'scenex': 1.046, 'sceney': 4.284, 'scenez': 0.1, 'numpanels': 2, 'bifi': 1, 'text': '! genbox black cellPVmodule 0.156 0.156 0.02 | xform -t -0.44 -2.142 0 -a 6 -t 0.176 0 0 -a 12 -t 0 0.176 0 -a 2 -t 0 2.192 0\\r\\n! genbox black octtube1a 1.046 0.04142135623730951 0.1 | xform -t -0.523 -0.020710678118654756 -0.15000000000000002\\r\\n! genbox black octtube1b 1.046 0.04142135623730951 0.1 | xform -t -0.445 -0.020710678118654756 -0.05 -rx 45 -t 0 0 -0.1\\r\\n! genbox black octtube1c 1.046 0.04142135623730951 0.1 | xform -t -0.445 -0.020710678118654756 -0.05 -rx 90 -t 0 0 -0.1\\r\\n! genbox black octtube1d 1.046 0.04142135623730951 0.1 | xform -t -0.445 -0.020710678118654756 -0.05 -rx 135 -t 0 0 -0.1 ', 'modulefile': 'objects\\\\test-module.rad', 'glass': False, 'offsetfromaxis': 0, 'xgap': 0.01, 'ygap': 0.1, 'zgap': 0.05}, 'modulefile': 'objects\\\\test-module.rad', 'hpc': False, 'name': 'Scene0', 'gcr': 0.4284, 'text': '!xform -rx -14.87 -t 0 0 2.3 -a 3 -t 1.046 0 0 -a 1 -t 0 10 0 -i 1 -t -1.046 -0.0 0 -rz 90.0 -t 0 0 0 objects\\\\test-module.rad', 'radfiles': 'objects\\\\1axis2021-11-06_1300__C_1.75031_rtr_10.00000_tilt_-14.87000_3modsx1rows_origin0,0.rad', 'sceneDict': {'tilt': -14.87, 'pitch': 10, 'clearance_height': 1.7503054702295644, 'azimuth': 90.0, 'nMods': 3, 'nRows': 1, 'modulez': 0.02, 'axis_tilt': 0, 'originx': 0, 'originy': 0}}, 'octfile': '1axis_2021-11-06_1300.oct', 'AnalysisObj': {'octfile': '1axis_2021-11-06_1300.oct', 'name': '1axis_2021-11-06_1300', 'hpc': False, 'x': [1.650823, 1.23677, 0.8227171, 0.408664, -0.005389162, -0.4194423, -0.8334954, -1.247549, -1.661602], 'y': [1.010838e-16, 7.573034e-17, 5.037689e-17, 2.502345e-17, -3.29991e-19, -2.568343e-17, -5.103688e-17, -7.639032e-17, -1.017438e-16], 'z': [2.760052, 2.650113, 2.540175, 2.430236, 2.320297, 2.210358, 2.100419, 1.99048, 1.880541], 'rearZ': [2.738789, 2.62885, 2.518911, 2.408972, 2.299033, 2.189095, 2.079156, 1.969217, 1.859278], 'mattype': ['a1.0.a2.2.0.cellPVmodule.6457', 'a1.0.a2.4.0.cellPVmodule.6457', 'a1.0.a2.7.0.cellPVmodule.6457', 'a1.0.a2.9.0.cellPVmodule.6457', 'a1.0.octtube1a.6457', 'a1.0.a2.2.1.cellPVmodule.6457', 'a1.0.a2.4.1.cellPVmodule.6457', 'a1.0.a2.7.1.cellPVmodule.6457', 'a1.0.a2.9.1.cellPVmodule.6457'], 'rearMat': ['a1.0.a2.2.0.cellPVmodule.2310', 'a1.0.a2.4.0.cellPVmodule.2310', 'a1.0.a2.7.0.cellPVmodule.2310', 'a1.0.a2.9.0.cellPVmodule.2310', 'sky', 'a1.0.a2.2.1.cellPVmodule.2310', 'a1.0.a2.4.1.cellPVmodule.2310', 'a1.0.a2.7.1.cellPVmodule.2310', 'a1.0.a2.9.1.cellPVmodule.2310'], 'Wm2Front': [247.13283333333334, 247.1093, 247.0856, 247.06193333333331, 247.03823333333335, 247.01456666666664, 247.29599999999996, 247.27796666666666, 247.25986666666665], 'Wm2Back': [47.766070000000006, 46.72716333333333, 45.55165333333334, 44.57091333333333, 86.23722, 41.25900666666667, 42.92781666666667, 43.42467, 44.033973333333336], 'Back/FrontRatio': [0.19328017275389922, 0.189094357189212, 0.18435501291180234, 0.18040307678691314, 0.3490830943586963, 0.16702998609939163, 0.1735881012170252, 0.17561004312403442, 0.17808711069793226], 'backRatio': [0.19328017275389922, 0.189094357189212, 0.18435501291180234, 0.18040307678691314, 0.3490830943586963, 0.16702998609939163, 0.1735881012170252, 0.17561004312403442, 0.17808711069793226], 'rearX': [1.656469, 1.242416, 0.8283629, 0.4143098, 0.0002566268, -0.4137965, -0.8278496, -1.241903, -1.655956], 'rearY': [1.014295e-16, 7.607604e-17, 5.07226e-17, 2.536916e-17, 1.571386e-20, -2.533773e-17, -5.069117e-17, -7.604461e-17, -1.013981e-16]}, 'Wm2Front': [247.13283333333334, 247.1093, 247.0856, 247.06193333333331, 247.03823333333335, 247.01456666666664, 247.29599999999996, 247.27796666666666, 247.25986666666665], 'Wm2Back': [47.766070000000006, 46.72716333333333, 45.55165333333334, 44.57091333333333, 86.23722, 41.25900666666667, 42.92781666666667, 43.42467, 44.033973333333336], 'backRatio': [0.19328017275389922, 0.189094357189212, 0.18435501291180234, 0.18040307678691314, 0.3490830943586963, 0.16702998609939163, 0.1735881012170252, 0.17561004312403442, 0.17808711069793226]}, '2021-11-06_1400': {'surf_azm': 90.0, 'surf_tilt': -36.95, 'theta': 36.95, 'ghi': 136, 'dhi': 135, 'temp_air': 17.2, 'wind_speed': 6.7, 'skyfile': 'skies\\\\sky2_37.5_-77.33_2021-11-06_1400.rad', 'radfile': 'objects\\\\1axis2021-11-06_1400__C_1.01241_rtr_10.00000_tilt_-36.95000_3modsx1rows_origin0,0.rad', 'scene': {'module': {'x': 1.036, 'y': 2.092, 'z': 0.02, 'modulematerial': 'black', 'scenex': 1.046, 'sceney': 4.284, 'scenez': 0.1, 'numpanels': 2, 'bifi': 1, 'text': '! genbox black cellPVmodule 0.156 0.156 0.02 | xform -t -0.44 -2.142 0 -a 6 -t 0.176 0 0 -a 12 -t 0 0.176 0 -a 2 -t 0 2.192 0\\r\\n! genbox black octtube1a 1.046 0.04142135623730951 0.1 | xform -t -0.523 -0.020710678118654756 -0.15000000000000002\\r\\n! genbox black octtube1b 1.046 0.04142135623730951 0.1 | xform -t -0.445 -0.020710678118654756 -0.05 -rx 45 -t 0 0 -0.1\\r\\n! genbox black octtube1c 1.046 0.04142135623730951 0.1 | xform -t -0.445 -0.020710678118654756 -0.05 -rx 90 -t 0 0 -0.1\\r\\n! genbox black octtube1d 1.046 0.04142135623730951 0.1 | xform -t -0.445 -0.020710678118654756 -0.05 -rx 135 -t 0 0 -0.1 ', 'modulefile': 'objects\\\\test-module.rad', 'glass': False, 'offsetfromaxis': 0, 'xgap': 0.01, 'ygap': 0.1, 'zgap': 0.05}, 'modulefile': 'objects\\\\test-module.rad', 'hpc': False, 'name': 'Scene0', 'gcr': 0.4284, 'text': '!xform -rx -36.95 -t 0 0 2.3 -a 3 -t 1.046 0 0 -a 1 -t 0 10 0 -i 1 -t -1.046 -0.0 0 -rz 90.0 -t 0 0 0 objects\\\\test-module.rad', 'radfiles': 'objects\\\\1axis2021-11-06_1400__C_1.01241_rtr_10.00000_tilt_-36.95000_3modsx1rows_origin0,0.rad', 'sceneDict': {'tilt': -36.95, 'pitch': 10, 'clearance_height': 1.012405558600545, 'azimuth': 90.0, 'nMods': 3, 'nRows': 1, 'modulez': 0.02, 'axis_tilt': 0, 'originx': 0, 'originy': 0}}, 'octfile': '1axis_2021-11-06_1400.oct', 'AnalysisObj': {'octfile': '1axis_2021-11-06_1400.oct', 'name': '1axis_2021-11-06_1400', 'hpc': False, 'x': [1.356818, 1.014457, 0.6720971, 0.3297368, -0.01262347, -0.3549838, -0.6973441, -1.039704, -1.382065], 'y': [8.308113e-17, 6.21176e-17, 4.115408e-17, 2.019056e-17, -7.729649e-19, -2.173649e-17, -4.270001e-17, -6.366353e-17, -8.462706e-17], 'z': [3.346858, 3.089339, 2.83182, 2.574301, 2.316782, 2.059263, 1.801745, 1.544226, 1.286707], 'rearZ': [3.329276, 3.071758, 2.814239, 2.55672, 2.299201, 2.041682, 1.784163, 1.526644, 1.269125], 'mattype': ['a1.0.a2.2.0.cellPVmodule.6457', 'a1.0.a2.4.0.cellPVmodule.6457', 'a1.0.a2.7.0.cellPVmodule.6457', 'a1.0.a2.9.0.cellPVmodule.6457', 'a1.0.octtube1a.6457', 'a1.0.a2.2.1.cellPVmodule.6457', 'a1.0.a2.4.1.cellPVmodule.6457', 'a1.0.a2.7.1.cellPVmodule.6457', 'a1.0.a2.9.1.cellPVmodule.6457'], 'rearMat': ['a1.0.a2.2.0.cellPVmodule.2310', 'a1.0.a2.4.0.cellPVmodule.2310', 'a1.0.a2.7.0.cellPVmodule.2310', 'a1.0.a2.9.0.cellPVmodule.2310', 'sky', 'a1.0.a2.2.1.cellPVmodule.2310', 'a1.0.a2.4.1.cellPVmodule.2310', 'a1.0.a2.7.1.cellPVmodule.2310', 'a1.0.a2.9.1.cellPVmodule.2310'], 'Wm2Front': [124.42463333333335, 124.31856666666665, 124.21103333333333, 124.407, 124.27879999999999, 124.1492, 124.29609999999998, 124.10283333333332, 124.05556666666666], 'Wm2Back': [33.30500333333334, 32.75482, 32.21354, 31.187083333333334, 46.71498, 27.4618, 29.25820333333333, 28.460649999999998, 28.61505], 'Back/FrontRatio': [0.2676699522526039, 0.2634727652150225, 0.2593431500598037, 0.25068390564379567, 0.37588554213959147, 0.2211981938007349, 0.2353892675962137, 0.2293293384706086, 0.23066130853747632], 'backRatio': [0.2676699522526039, 0.2634727652150225, 0.2593431500598037, 0.25068390564379567, 0.37588554213959147, 0.2211981938007349, 0.2353892675962137, 0.2293293384706086, 0.23066130853747632], 'rearX': [1.370042, 1.027682, 0.6853217, 0.3429614, 0.0006011179, -0.3417592, -0.6841195, -1.02648, -1.36884], 'rearY': [8.38909e-17, 6.292738e-17, 4.196385e-17, 2.100033e-17, 3.680785e-20, -2.092672e-17, -4.189024e-17, -6.285376e-17, -8.381728e-17]}, 'Wm2Front': [124.42463333333335, 124.31856666666665, 124.21103333333333, 124.407, 124.27879999999999, 124.1492, 124.29609999999998, 124.10283333333332, 124.05556666666666], 'Wm2Back': [33.30500333333334, 32.75482, 32.21354, 31.187083333333334, 46.71498, 27.4618, 29.25820333333333, 28.460649999999998, 28.61505], 'backRatio': [0.2676699522526039, 0.2634727652150225, 0.2593431500598037, 0.25068390564379567, 0.37588554213959147, 0.2211981938007349, 0.2353892675962137, 0.2293293384706086, 0.23066130853747632]}}, 'cumulativesky': False, 'hub_height': 2.3}\n"
     ]
    },
    {
     "data": {
      "text/plain": [
       "1.046"
      ]
     },
     "execution_count": 2,
     "metadata": {},
     "output_type": "execute_result"
    }
   ],
   "source": [
    "print(demo)   # Shows all keys for top-level RadianceObj\n",
    "\n",
    "trackerkeys = sorted(demo.trackerdict.keys()) # get the trackerdict keys to see a specific hour.\n",
    "\n",
    "demo.trackerdict[trackerkeys[0]] # This prints all trackerdict content\n",
    "demo.trackerdict[trackerkeys[0]]['scene']  # This shows the Scene Object contents\n",
    "demo.trackerdict[trackerkeys[0]]['scene'].module.scenex  # This shows the Module Object in the Scene's contents\n",
    "demo.trackerdict[trackerkeys[0]]['scene'].sceneDict # Printing the scene dictionary saved in the Scene Object\n",
    "demo.trackerdict[trackerkeys[0]]['scene'].sceneDict['tilt'] # Addressing one of the variables in the scene dictionary\n",
    "\n",
    "\n",
    "# Looking at the AnalysisObj results indivudally\n",
    "demo.trackerdict[trackerkeys[0]]['AnalysisObj']  # This shows the Analysis Object contents\n",
    "demo.trackerdict[trackerkeys[0]]['AnalysisObj'].mattype # Addressing one of the variables in the Analysis Object\n",
    "\n",
    "# Looking at the Analysis results Accumulated for the day:\n",
    "demo.Wm2Back  # this value is the addition of every individual irradiance result for each hour simulated.\n",
    "\n",
    "#  Access module values\n",
    "demo.trackerdict[trackerkeys[0]]['scene'].module.scenex\n",
    "\n",
    "# A pretty DataFrame of all results:\n",
    "demo.trackerdict[trackerkeys[0]]['scene'].results\n"
   ]
  },
  {
   "cell_type": "markdown",
   "metadata": {},
   "source": [
    "<a id='step3'></a>"
   ]
  },
  {
   "cell_type": "markdown",
   "metadata": {},
   "source": [
    "## 3. Explore Save Options\n",
    "\n",
    "The following lines offer ways to save your trackerdict or your demo object."
   ]
  },
  {
   "cell_type": "code",
   "execution_count": 3,
   "metadata": {},
   "outputs": [
    {
     "name": "stdout",
     "output_type": "stream",
     "text": [
      "Exporting TrackerDict\n",
      "Saved to file results\\demopickle.pickle\n"
     ]
    }
   ],
   "source": [
    "demo.exportTrackerDict(trackerdict = demo.trackerdict, savefile = 'results\\\\test_reindexTrue.csv', reindex = False)\n",
    "demo.save(savefile = 'results\\\\demopickle.pickle')\n"
   ]
  }
 ],
 "metadata": {
  "kernelspec": {
   "display_name": "Python 3 (ipykernel)",
   "language": "python",
   "name": "python3"
  },
  "language_info": {
   "codemirror_mode": {
    "name": "ipython",
    "version": 3
   },
   "file_extension": ".py",
   "mimetype": "text/x-python",
   "name": "python",
   "nbconvert_exporter": "python",
   "pygments_lexer": "ipython3",
   "version": "3.9.13"
  }
 },
 "nbformat": 4,
 "nbformat_minor": 4
}
