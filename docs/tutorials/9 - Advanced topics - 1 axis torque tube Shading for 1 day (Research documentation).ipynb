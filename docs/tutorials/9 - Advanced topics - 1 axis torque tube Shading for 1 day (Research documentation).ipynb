{
 "cells": [
  {
   "cell_type": "markdown",
   "metadata": {},
   "source": [
    "# 9 - Advanced topics - 1 axis torque tube Shading for 1 day (Research Documentation)\n",
    "## Recreating JPV 2019 / PVSC 2018 Fig. 13\n",
    "\n",
    "\n",
    "Calculating and plotting shading from torque tube on 1-axis tracking for 1 day, which is figure 13 in: \n",
    "\n",
    "            Ayala Pelaez S, Deline C, Greenberg P, Stein JS, Kostuk RK. Model and validation of single-axis tracking with bifacial PV. IEEE J Photovoltaics. 2019;9(3):715–21. https://ieeexplore.ieee.org/document/8644027 and https://www.nrel.gov/docs/fy19osti/72039.pdf (pre-print, conference version)\n",
    "\n",
    "\n",
    "This is what we will re-create:\n",
    "![Ayala JPV-2](../images_wiki/JPV_Ayala_Fig13.png)\n",
    "\n",
    "Use bifacial_radiance minimum v. 0.3.1 or higher. Many things have been updated since this paper, simplifying the generation of this plot:\n",
    "\n",
    "<ul>\n",
    "    <li> Sensor position is now always generated E to W on N-S tracking systems, so same sensor positions can just be added for this calculation at the end without needing to flip the sensors. </li>\n",
    "    <li> Torquetubes get automatically generated in makeModule. Following PVSC 2018 paper, rotation is around the modules and not around the torque tube axis (which is a new feature) </li>\n",
    "    <li> Simulating only 1 day on single-axis tracking easier with cumulativesky = False and gendaylit1axis(startdate='06/24', enddate='06/24' </li> \n",
    "    <li> Sensors get generated very close to surface, so all results are from the module surface and not the torquetube for this 1-UP case. </li>\n",
    "</ul>\n",
    "\n",
    "## Steps:\n",
    "\n",
    "<ol>\n",
    "    <li> <a href='#step1'> Running the simulations for all the cases: </li>\n",
    "    <ol type='A'> \n",
    "        <li> <a href='#step1a'>Baseline Case: No Torque Tube </a></li>\n",
    "        <li> <a href='#step1b'> Zgap = 0.1 </a></li>\n",
    "        <li> <a href='#step1c'> Zgap = 0.2 </a></li>\n",
    "        <li> <a href='#step1d'> Zgap = 0.3 </a></li>\n",
    "    </ol>\n",
    "    <li> <a href='#step2'> Read-back the values and tabulate average values for unshaded, 10cm gap and 30cm gap </a></li>\n",
    "    <li> <a href='#step3'> Plot spatial loss values for 10cm and 30cm data </a></li>\n",
    "</ol>\n",
    "\n"
   ]
  },
  {
   "cell_type": "markdown",
   "metadata": {},
   "source": [
    "<a id='step1'></a>"
   ]
  },
  {
   "cell_type": "markdown",
   "metadata": {},
   "source": [
    "### 1. Running the simulations for all the cases"
   ]
  },
  {
   "cell_type": "code",
   "execution_count": 1,
   "metadata": {},
   "outputs": [
    {
     "name": "stdout",
     "output_type": "stream",
     "text": [
      "Your simulation will be stored in F:\\Documents\\Python Scripts\\bifacial_radiance\\TEMP\n"
     ]
    }
   ],
   "source": [
    "import os\n",
    "testfolder = os.path.abspath(r'..\\bifacial_radiance\\TEMP')  \n",
    "\n",
    "# You can alternatively point to an empty directory (it will open a load GUI Visual Interface)\n",
    "# or specify any other directory in your computer. I.E.:\n",
    "# testfolder = r'C:\\Users\\sayala\\Documents\\RadianceScenes\\Demo'\n",
    "\n",
    "print (\"Your simulation will be stored in %s\" % testfolder)"
   ]
  },
  {
   "cell_type": "code",
   "execution_count": 2,
   "metadata": {},
   "outputs": [],
   "source": [
    "# VARIABLES of the simulation: \n",
    "lat = 35.1 # ABQ\n",
    "lon = -106.7 # ABQ\n",
    "x=1\n",
    "y = 2 \n",
    "numpanels=1\n",
    "limit_angle = 45 # tracker rotation limit angle\n",
    "albedo = 'concrete'     # ground albedo\n",
    "hub_height = y*0.75   # H = 0.75 \n",
    "gcr = 0.35  \n",
    "pitch = y/gcr\n",
    "#pitch = 1.0/gcr # Check from 1Axis_Shading_PVSC2018 file\n",
    "cumulativesky = False # needed for set1axis and makeScene1axis so simulation is done hourly not with gencumsky.\n",
    "limit_angle = 45 # tracker rotation limit angle\n",
    "nMods=10\n",
    "nRows=3\n",
    "sensorsy = 200\n",
    "module_type='2m_panel'\n",
    "datewanted='06/24' # sunny day 6/24/1972 (index 4180 - 4195)\n",
    "\n",
    "## Torque tube info\n",
    "torquetube = False # redefined on each simulation below, since we need to compare with and without torque tube.\n",
    "tubetype='round'\n",
    "material = 'Metal_Grey'\n",
    "diameter = 0.1\n",
    "axisofrotationTorqueTube = False   # Original PVSC version rotated around the modules like most other software.\n",
    "# Variables that will get defined on each iteration below:\n",
    "zgap = 0 # 0.2, 0.3 values tested. Re-defined on each simulation.\n",
    "torquetube = False # baseline is no torque tube. "
   ]
  },
  {
   "cell_type": "code",
   "execution_count": 3,
   "metadata": {},
   "outputs": [
    {
     "name": "stdout",
     "output_type": "stream",
     "text": [
      "0.3.2\n",
      "path = F:\\Documents\\Python Scripts\\bifacial_radiance\\TEMP\n",
      "Getting weather file: USA_NM_Albuquerque.723650_TMY2.epw\n",
      " ... OK!\n"
     ]
    },
    {
     "name": "stderr",
     "output_type": "stream",
     "text": [
      "C:\\Users\\cdeline\\anaconda3\\envs\\py27\\lib\\site-packages\\bifacial_radiance\\main.py:2465: pvlibDeprecationWarning: The get_sun_rise_set_transit function was deprecated in pvlib 0.6.1 and will be removed in 0.7. Use sun_rise_set_transit_spa instead.\n",
      "  sunup= pvlib.irradiance.solarposition.get_sun_rise_set_transit(datetimetz, lat, lon) #only for pvlib <0.6.1\n"
     ]
    },
    {
     "name": "stdout",
     "output_type": "stream",
     "text": [
      "Creating ~4000 skyfiles.  Takes 1-2 minutes\n",
      "Created 14 skyfiles in /skies/\n"
     ]
    },
    {
     "name": "stderr",
     "output_type": "stream",
     "text": [
      "C:\\Users\\cdeline\\anaconda3\\envs\\py27\\lib\\site-packages\\pvlib\\tracking.py:431: RuntimeWarning: invalid value encountered in less\n",
      "  tracker_theta = np.where(wid < 0, wid + wc, wid - wc)\n",
      "C:\\Users\\cdeline\\anaconda3\\envs\\py27\\lib\\site-packages\\pvlib\\tracking.py:435: RuntimeWarning: invalid value encountered in greater\n",
      "  tracker_theta[tracker_theta > max_angle] = max_angle\n",
      "C:\\Users\\cdeline\\anaconda3\\envs\\py27\\lib\\site-packages\\pvlib\\tracking.py:436: RuntimeWarning: invalid value encountered in less\n",
      "  tracker_theta[tracker_theta < -max_angle] = -max_angle\n",
      "C:\\Users\\cdeline\\anaconda3\\envs\\py27\\lib\\site-packages\\pvlib\\tracking.py:543: RuntimeWarning: invalid value encountered in less\n",
      "  surface_azimuth[surface_azimuth < 0] += 360\n",
      "C:\\Users\\cdeline\\anaconda3\\envs\\py27\\lib\\site-packages\\pvlib\\tracking.py:544: RuntimeWarning: invalid value encountered in greater_equal\n",
      "  surface_azimuth[surface_azimuth >= 360] -= 360\n",
      "C:\\Users\\cdeline\\anaconda3\\envs\\py27\\lib\\site-packages\\pandas\\core\\series.py:1999: RuntimeWarning: invalid value encountered in rint\n",
      "  result = com.values_from_object(self).round(decimals)\n"
     ]
    }
   ],
   "source": [
    "# Simulation Start.\n",
    "\n",
    "try:\n",
    "    import bifacial_radiance\n",
    "except ImportError:\n",
    "    raise RuntimeError('bifacial_radiance is required. download distribution')\n",
    "import numpy as np\n",
    "\n",
    "print(bifacial_radiance.__version__)\n",
    "\n",
    "demo = bifacial_radiance.RadianceObj(path = testfolder)  \n",
    "demo.setGround(albedo)\n",
    "epwfile = demo.getEPW(lat, lon) \n",
    "metdata = demo.readEPW(epwfile) \n",
    "trackerdict = demo.set1axis(metdata, limit_angle = limit_angle, backtrack = True, gcr = gcr, cumulativesky = False)\n",
    "trackerdict = demo.gendaylit1axis(startdate=datewanted, enddate=datewanted) \n",
    "sceneDict = {'pitch':pitch,'hub_height':hub_height, 'nMods': nMods, 'nRows': nRows}  "
   ]
  },
  {
   "cell_type": "markdown",
   "metadata": {},
   "source": [
    "<a id='step1a'></a>"
   ]
  },
  {
   "cell_type": "markdown",
   "metadata": {},
   "source": [
    "### A. Baseline Case: No Torque Tube\n",
    "\n",
    "When torquetube is False, zgap is the distance from axis of torque tube to module surface, but since we are rotating from the module's axis, this Zgap doesn't matter for this baseline case."
   ]
  },
  {
   "cell_type": "code",
   "execution_count": 6,
   "metadata": {},
   "outputs": [
    {
     "name": "stdout",
     "output_type": "stream",
     "text": [
      "('\\nModule Name:', '2m_panel')\n",
      "REWRITING pre-existing module file. \n",
      "Module 2m_panel successfully created\n",
      "\n",
      "Making ~4000 .rad files for gendaylit 1-axis workflow (this takes a minute..)\n",
      "14 Radfiles created in /objects/\n",
      "\n",
      "Making 14 octfiles for 1-axis tracking in root directory.\n",
      "Created 1axis_06_24_06.oct\n",
      "Created 1axis_06_24_07.oct\n",
      "Created 1axis_06_24_08.oct\n",
      "Created 1axis_06_24_09.oct\n",
      "Created 1axis_06_24_19.oct\n",
      "Created 1axis_06_24_18.oct\n",
      "Created 1axis_06_24_11.oct\n",
      "Created 1axis_06_24_10.oct\n",
      "Created 1axis_06_24_13.oct\n",
      "Created 1axis_06_24_12.oct\n",
      "Created 1axis_06_24_15.oct\n",
      "Created 1axis_06_24_14.oct\n",
      "Created 1axis_06_24_17.oct\n",
      "Created 1axis_06_24_16.oct\n",
      "Linescan in process: 1axis_06_24_06_NoTT_Front\n",
      "Linescan in process: 1axis_06_24_06_NoTT_Back\n",
      "Saved: results\\irr_1axis_06_24_06_NoTT.csv\n",
      "Index: 06_24_06. Wm2Front: 161.420425167. Wm2Back: 17.1202325333\n",
      "Linescan in process: 1axis_06_24_07_NoTT_Front\n",
      "Linescan in process: 1axis_06_24_07_NoTT_Back\n",
      "Saved: results\\irr_1axis_06_24_07_NoTT.csv\n",
      "Index: 06_24_07. Wm2Front: 709.602221167. Wm2Back: 15.7013397667\n",
      "Linescan in process: 1axis_06_24_08_NoTT_Front\n",
      "Linescan in process: 1axis_06_24_08_NoTT_Back\n",
      "Saved: results\\irr_1axis_06_24_08_NoTT.csv\n",
      "Index: 06_24_08. Wm2Front: 915.88824355. Wm2Back: 69.6114017\n",
      "Linescan in process: 1axis_06_24_09_NoTT_Front\n",
      "Linescan in process: 1axis_06_24_09_NoTT_Back\n",
      "Saved: results\\irr_1axis_06_24_09_NoTT.csv\n",
      "Index: 06_24_09. Wm2Front: 1029.27485377. Wm2Back: 84.6579091833\n",
      "Linescan in process: 1axis_06_24_10_NoTT_Front\n",
      "Linescan in process: 1axis_06_24_10_NoTT_Back\n",
      "Saved: results\\irr_1axis_06_24_10_NoTT.csv\n",
      "Index: 06_24_10. Wm2Front: 1072.49606678. Wm2Back: 107.5137435\n",
      "Linescan in process: 1axis_06_24_11_NoTT_Front\n",
      "Linescan in process: 1axis_06_24_11_NoTT_Back\n",
      "Saved: results\\irr_1axis_06_24_11_NoTT.csv\n",
      "Index: 06_24_11. Wm2Front: 1083.79217833. Wm2Back: 133.168364833\n",
      "Linescan in process: 1axis_06_24_12_NoTT_Front\n",
      "Linescan in process: 1axis_06_24_12_NoTT_Back\n",
      "Saved: results\\irr_1axis_06_24_12_NoTT.csv\n",
      "Index: 06_24_12. Wm2Front: 1085.31024. Wm2Back: 150.868799167\n",
      "Linescan in process: 1axis_06_24_13_NoTT_Front\n",
      "Linescan in process: 1axis_06_24_13_NoTT_Back\n",
      "Saved: results\\irr_1axis_06_24_13_NoTT.csv\n",
      "Index: 06_24_13. Wm2Front: 1083.48679167. Wm2Back: 152.514981333\n",
      "Linescan in process: 1axis_06_24_14_NoTT_Front\n",
      "Linescan in process: 1axis_06_24_14_NoTT_Back\n",
      "Saved: results\\irr_1axis_06_24_14_NoTT.csv\n",
      "Index: 06_24_14. Wm2Front: 1090.24465. Wm2Back: 139.7909667\n",
      "Linescan in process: 1axis_06_24_15_NoTT_Front\n",
      "Linescan in process: 1axis_06_24_15_NoTT_Back\n",
      "Saved: results\\irr_1axis_06_24_15_NoTT.csv\n",
      "Index: 06_24_15. Wm2Front: 1084.79985515. Wm2Back: 115.557837667\n",
      "Linescan in process: 1axis_06_24_16_NoTT_Front\n",
      "Linescan in process: 1axis_06_24_16_NoTT_Back\n",
      "Saved: results\\irr_1axis_06_24_16_NoTT.csv\n",
      "Index: 06_24_16. Wm2Front: 1053.66710257. Wm2Back: 88.5369673\n",
      "Linescan in process: 1axis_06_24_17_NoTT_Front\n",
      "Linescan in process: 1axis_06_24_17_NoTT_Back\n",
      "Saved: results\\irr_1axis_06_24_17_NoTT.csv\n",
      "Index: 06_24_17. Wm2Front: 964.345925617. Wm2Back: 74.4237025333\n",
      "Linescan in process: 1axis_06_24_18_NoTT_Front\n",
      "Linescan in process: 1axis_06_24_18_NoTT_Back\n",
      "Saved: results\\irr_1axis_06_24_18_NoTT.csv\n",
      "Index: 06_24_18. Wm2Front: 787.42443225. Wm2Back: 29.1930746167\n",
      "Linescan in process: 1axis_06_24_19_NoTT_Front\n",
      "Linescan in process: 1axis_06_24_19_NoTT_Back\n",
      "Saved: results\\irr_1axis_06_24_19_NoTT.csv\n",
      "Index: 06_24_19. Wm2Front: 308.701412667. Wm2Back: 18.0430466333\n"
     ]
    }
   ],
   "source": [
    "#CASE 0 No torque tube\n",
    "# When torquetube is False, zgap is the distance from axis of torque tube to module surface, but since we are rotating from the module's axis, this Zgap doesn't matter.\n",
    "# zgap = 0.1 + diameter/2.0  \n",
    "torquetube = False \n",
    "customname = '_NoTT'\n",
    "demo.makeModule(name=module_type,x=x,y=y, numpanels=numpanels, torquetube=torquetube, axisofrotationTorqueTube=axisofrotationTorqueTube)\n",
    "trackerdict = demo.makeScene1axis(trackerdict,module_type,sceneDict, cumulativesky = cumulativesky) \n",
    "trackerdict = demo.makeOct1axis(trackerdict)\n",
    "trackerdict = demo.analysis1axis(trackerdict, sensorsy = sensorsy, customname = customname)\n"
   ]
  },
  {
   "cell_type": "markdown",
   "metadata": {},
   "source": [
    "<a id='step1b'></a>"
   ]
  },
  {
   "cell_type": "markdown",
   "metadata": {},
   "source": [
    "### B. ZGAP = 0.1"
   ]
  },
  {
   "cell_type": "code",
   "execution_count": 7,
   "metadata": {},
   "outputs": [
    {
     "name": "stdout",
     "output_type": "stream",
     "text": [
      "('\\nModule Name:', '2m_panel')\n",
      "REWRITING pre-existing module file. \n",
      "Module 2m_panel successfully created\n",
      "\n",
      "Making ~4000 .rad files for gendaylit 1-axis workflow (this takes a minute..)\n",
      "14 Radfiles created in /objects/\n",
      "\n",
      "Making 14 octfiles for 1-axis tracking in root directory.\n",
      "Created 1axis_06_24_06.oct\n",
      "Created 1axis_06_24_07.oct\n",
      "Created 1axis_06_24_08.oct\n",
      "Created 1axis_06_24_09.oct\n",
      "Created 1axis_06_24_19.oct\n",
      "Created 1axis_06_24_18.oct\n",
      "Created 1axis_06_24_11.oct\n",
      "Created 1axis_06_24_10.oct\n",
      "Created 1axis_06_24_13.oct\n",
      "Created 1axis_06_24_12.oct\n",
      "Created 1axis_06_24_15.oct\n",
      "Created 1axis_06_24_14.oct\n",
      "Created 1axis_06_24_17.oct\n",
      "Created 1axis_06_24_16.oct\n",
      "Linescan in process: 1axis_06_24_06_zgap0.1_Front\n",
      "Linescan in process: 1axis_06_24_06_zgap0.1_Back\n",
      "Saved: results\\irr_1axis_06_24_06_zgap0.1.csv\n",
      "Index: 06_24_06. Wm2Front: 161.539838667. Wm2Back: 16.3351245717\n",
      "Linescan in process: 1axis_06_24_07_zgap0.1_Front\n",
      "Linescan in process: 1axis_06_24_07_zgap0.1_Back\n",
      "Saved: results\\irr_1axis_06_24_07_zgap0.1.csv\n",
      "Index: 06_24_07. Wm2Front: 709.727649117. Wm2Back: 14.8131407383\n",
      "Linescan in process: 1axis_06_24_08_zgap0.1_Front\n",
      "Linescan in process: 1axis_06_24_08_zgap0.1_Back\n",
      "Saved: results\\irr_1axis_06_24_08_zgap0.1.csv\n",
      "Index: 06_24_08. Wm2Front: 916.1876703. Wm2Back: 66.1856585667\n",
      "Linescan in process: 1axis_06_24_09_zgap0.1_Front\n",
      "Linescan in process: 1axis_06_24_09_zgap0.1_Back\n",
      "Saved: results\\irr_1axis_06_24_09_zgap0.1.csv\n",
      "Index: 06_24_09. Wm2Front: 1029.22358065. Wm2Back: 80.27420805\n",
      "Linescan in process: 1axis_06_24_10_zgap0.1_Front\n",
      "Linescan in process: 1axis_06_24_10_zgap0.1_Back\n",
      "Saved: results\\irr_1axis_06_24_10_zgap0.1.csv\n",
      "Index: 06_24_10. Wm2Front: 1073.16896435. Wm2Back: 102.447089133\n",
      "Linescan in process: 1axis_06_24_11_zgap0.1_Front\n",
      "Linescan in process: 1axis_06_24_11_zgap0.1_Back\n",
      "Saved: results\\irr_1axis_06_24_11_zgap0.1.csv\n",
      "Index: 06_24_11. Wm2Front: 1084.01090167. Wm2Back: 126.65973125\n",
      "Linescan in process: 1axis_06_24_12_zgap0.1_Front\n",
      "Linescan in process: 1axis_06_24_12_zgap0.1_Back\n",
      "Saved: results\\irr_1axis_06_24_12_zgap0.1.csv\n",
      "Index: 06_24_12. Wm2Front: 1085.21908167. Wm2Back: 142.255893283\n",
      "Linescan in process: 1axis_06_24_13_zgap0.1_Front\n",
      "Linescan in process: 1axis_06_24_13_zgap0.1_Back\n",
      "Saved: results\\irr_1axis_06_24_13_zgap0.1.csv\n",
      "Index: 06_24_13. Wm2Front: 1083.64125333. Wm2Back: 145.492577083\n",
      "Linescan in process: 1axis_06_24_14_zgap0.1_Front\n",
      "Linescan in process: 1axis_06_24_14_zgap0.1_Back\n",
      "Saved: results\\irr_1axis_06_24_14_zgap0.1.csv\n",
      "Index: 06_24_14. Wm2Front: 1090.04228833. Wm2Back: 133.830940017\n",
      "Linescan in process: 1axis_06_24_15_zgap0.1_Front\n",
      "Linescan in process: 1axis_06_24_15_zgap0.1_Back\n",
      "Saved: results\\irr_1axis_06_24_15_zgap0.1.csv\n",
      "Index: 06_24_15. Wm2Front: 1084.30238268. Wm2Back: 110.2235721\n",
      "Linescan in process: 1axis_06_24_16_zgap0.1_Front\n",
      "Linescan in process: 1axis_06_24_16_zgap0.1_Back\n",
      "Saved: results\\irr_1axis_06_24_16_zgap0.1.csv\n",
      "Index: 06_24_16. Wm2Front: 1053.77910728. Wm2Back: 85.2022533667\n",
      "Linescan in process: 1axis_06_24_17_zgap0.1_Front\n",
      "Linescan in process: 1axis_06_24_17_zgap0.1_Back\n",
      "Saved: results\\irr_1axis_06_24_17_zgap0.1.csv\n",
      "Index: 06_24_17. Wm2Front: 964.657343267. Wm2Back: 70.6240591833\n",
      "Linescan in process: 1axis_06_24_18_zgap0.1_Front\n",
      "Linescan in process: 1axis_06_24_18_zgap0.1_Back\n",
      "Saved: results\\irr_1axis_06_24_18_zgap0.1.csv\n",
      "Index: 06_24_18. Wm2Front: 787.585597117. Wm2Back: 27.74708595\n",
      "Linescan in process: 1axis_06_24_19_zgap0.1_Front\n",
      "Linescan in process: 1axis_06_24_19_zgap0.1_Back\n",
      "Saved: results\\irr_1axis_06_24_19_zgap0.1.csv\n",
      "Index: 06_24_19. Wm2Front: 308.723043167. Wm2Back: 17.05199522\n"
     ]
    }
   ],
   "source": [
    "#ZGAP 0.1 \n",
    "zgap = 0.1\n",
    "torquetube = True\n",
    "customname = '_zgap0.1'\n",
    "demo.makeModule(name=module_type,x=x,y=y, numpanels=numpanels,tubetype=tubetype, zgap=zgap, torquetube=torquetube, diameter=diameter, material=material, axisofrotationTorqueTube=axisofrotationTorqueTube)\n",
    "trackerdict = demo.makeScene1axis(trackerdict,module_type,sceneDict, cumulativesky = cumulativesky) \n",
    "trackerdict = demo.makeOct1axis(trackerdict)\n",
    "trackerdict = demo.analysis1axis(trackerdict, sensorsy = sensorsy, customname = customname)"
   ]
  },
  {
   "cell_type": "markdown",
   "metadata": {},
   "source": [
    "<a id='step1c'></a>"
   ]
  },
  {
   "cell_type": "markdown",
   "metadata": {},
   "source": [
    "### C. ZGAP = 0.2"
   ]
  },
  {
   "cell_type": "code",
   "execution_count": 8,
   "metadata": {},
   "outputs": [
    {
     "name": "stdout",
     "output_type": "stream",
     "text": [
      "('\\nModule Name:', '2m_panel')\n",
      "REWRITING pre-existing module file. \n",
      "Module 2m_panel successfully created\n",
      "\n",
      "Making ~4000 .rad files for gendaylit 1-axis workflow (this takes a minute..)\n",
      "14 Radfiles created in /objects/\n",
      "\n",
      "Making 14 octfiles for 1-axis tracking in root directory.\n",
      "Created 1axis_06_24_06.oct\n",
      "Created 1axis_06_24_07.oct\n",
      "Created 1axis_06_24_08.oct\n",
      "Created 1axis_06_24_09.oct\n",
      "Created 1axis_06_24_19.oct\n",
      "Created 1axis_06_24_18.oct\n",
      "Created 1axis_06_24_11.oct\n",
      "Created 1axis_06_24_10.oct\n",
      "Created 1axis_06_24_13.oct\n",
      "Created 1axis_06_24_12.oct\n",
      "Created 1axis_06_24_15.oct\n",
      "Created 1axis_06_24_14.oct\n",
      "Created 1axis_06_24_17.oct\n",
      "Created 1axis_06_24_16.oct\n",
      "Linescan in process: 1axis_06_24_06_zgap0.2_Front\n",
      "Linescan in process: 1axis_06_24_06_zgap0.2_Back\n",
      "Saved: results\\irr_1axis_06_24_06_zgap0.2.csv\n",
      "Index: 06_24_06. Wm2Front: 161.427369333. Wm2Back: 16.4130201667\n",
      "Linescan in process: 1axis_06_24_07_zgap0.2_Front\n",
      "Linescan in process: 1axis_06_24_07_zgap0.2_Back\n",
      "Saved: results\\irr_1axis_06_24_07_zgap0.2.csv\n",
      "Index: 06_24_07. Wm2Front: 709.626210467. Wm2Back: 15.09115024\n",
      "Linescan in process: 1axis_06_24_08_zgap0.2_Front\n",
      "Linescan in process: 1axis_06_24_08_zgap0.2_Back\n",
      "Saved: results\\irr_1axis_06_24_08_zgap0.2.csv\n",
      "Index: 06_24_08. Wm2Front: 916.151318617. Wm2Back: 66.8851610667\n",
      "Linescan in process: 1axis_06_24_09_zgap0.2_Front\n",
      "Linescan in process: 1axis_06_24_09_zgap0.2_Back\n",
      "Saved: results\\irr_1axis_06_24_09_zgap0.2.csv\n",
      "Index: 06_24_09. Wm2Front: 1029.24920978. Wm2Back: 81.52676585\n",
      "Linescan in process: 1axis_06_24_10_zgap0.2_Front\n",
      "Linescan in process: 1axis_06_24_10_zgap0.2_Back\n",
      "Saved: results\\irr_1axis_06_24_10_zgap0.2.csv\n",
      "Index: 06_24_10. Wm2Front: 1073.18811838. Wm2Back: 103.177670733\n",
      "Linescan in process: 1axis_06_24_11_zgap0.2_Front\n",
      "Linescan in process: 1axis_06_24_11_zgap0.2_Back\n",
      "Saved: results\\irr_1axis_06_24_11_zgap0.2.csv\n",
      "Index: 06_24_11. Wm2Front: 1083.66462. Wm2Back: 127.524964733\n",
      "Linescan in process: 1axis_06_24_12_zgap0.2_Front\n",
      "Linescan in process: 1axis_06_24_12_zgap0.2_Back\n",
      "Saved: results\\irr_1axis_06_24_12_zgap0.2.csv\n",
      "Index: 06_24_12. Wm2Front: 1085.64442833. Wm2Back: 145.115639617\n",
      "Linescan in process: 1axis_06_24_13_zgap0.2_Front\n",
      "Linescan in process: 1axis_06_24_13_zgap0.2_Back\n",
      "Saved: results\\irr_1axis_06_24_13_zgap0.2.csv\n",
      "Index: 06_24_13. Wm2Front: 1083.53121333. Wm2Back: 146.434190817\n",
      "Linescan in process: 1axis_06_24_14_zgap0.2_Front\n",
      "Linescan in process: 1axis_06_24_14_zgap0.2_Back\n",
      "Saved: results\\irr_1axis_06_24_14_zgap0.2.csv\n",
      "Index: 06_24_14. Wm2Front: 1090.01627667. Wm2Back: 134.783261883\n",
      "Linescan in process: 1axis_06_24_15_zgap0.2_Front\n",
      "Linescan in process: 1axis_06_24_15_zgap0.2_Back\n",
      "Saved: results\\irr_1axis_06_24_15_zgap0.2.csv\n",
      "Index: 06_24_15. Wm2Front: 1084.93202833. Wm2Back: 112.328697217\n",
      "Linescan in process: 1axis_06_24_16_zgap0.2_Front\n",
      "Linescan in process: 1axis_06_24_16_zgap0.2_Back\n",
      "Saved: results\\irr_1axis_06_24_16_zgap0.2.csv\n",
      "Index: 06_24_16. Wm2Front: 1053.98065525. Wm2Back: 85.8667412333\n",
      "Linescan in process: 1axis_06_24_17_zgap0.2_Front\n",
      "Linescan in process: 1axis_06_24_17_zgap0.2_Back\n",
      "Saved: results\\irr_1axis_06_24_17_zgap0.2.csv\n",
      "Index: 06_24_17. Wm2Front: 964.83240965. Wm2Back: 72.2948218167\n",
      "Linescan in process: 1axis_06_24_18_zgap0.2_Front\n",
      "Linescan in process: 1axis_06_24_18_zgap0.2_Back\n",
      "Saved: results\\irr_1axis_06_24_18_zgap0.2.csv\n",
      "Index: 06_24_18. Wm2Front: 787.528989467. Wm2Back: 27.6617148833\n",
      "Linescan in process: 1axis_06_24_19_zgap0.2_Front\n",
      "Linescan in process: 1axis_06_24_19_zgap0.2_Back\n",
      "Saved: results\\irr_1axis_06_24_19_zgap0.2.csv\n",
      "Index: 06_24_19. Wm2Front: 308.728144833. Wm2Back: 17.272205\n"
     ]
    }
   ],
   "source": [
    "#ZGAP 0.2\n",
    "zgap = 0.2\n",
    "torquetube = True\n",
    "customname = '_zgap0.2'\n",
    "demo.makeModule(name=module_type,x=x,y=y, numpanels=numpanels,tubetype=tubetype, zgap=zgap, torquetube=torquetube, diameter=diameter, material=material, axisofrotationTorqueTube=axisofrotationTorqueTube)\n",
    "trackerdict = demo.makeScene1axis(trackerdict,module_type,sceneDict, cumulativesky = cumulativesky) \n",
    "trackerdict = demo.makeOct1axis(trackerdict)\n",
    "trackerdict = demo.analysis1axis(trackerdict, sensorsy = sensorsy, customname = customname)"
   ]
  },
  {
   "cell_type": "markdown",
   "metadata": {},
   "source": [
    "<a id='step1d'></a>"
   ]
  },
  {
   "cell_type": "markdown",
   "metadata": {},
   "source": [
    "### D. ZGAP = 0.3"
   ]
  },
  {
   "cell_type": "code",
   "execution_count": 9,
   "metadata": {},
   "outputs": [
    {
     "name": "stdout",
     "output_type": "stream",
     "text": [
      "('\\nModule Name:', '2m_panel')\n",
      "REWRITING pre-existing module file. \n",
      "Module 2m_panel successfully created\n",
      "\n",
      "Making ~4000 .rad files for gendaylit 1-axis workflow (this takes a minute..)\n",
      "14 Radfiles created in /objects/\n",
      "\n",
      "Making 14 octfiles for 1-axis tracking in root directory.\n",
      "Created 1axis_06_24_06.oct\n",
      "Created 1axis_06_24_07.oct\n",
      "Created 1axis_06_24_08.oct\n",
      "Created 1axis_06_24_09.oct\n",
      "Created 1axis_06_24_19.oct\n",
      "Created 1axis_06_24_18.oct\n",
      "Created 1axis_06_24_11.oct\n",
      "Created 1axis_06_24_10.oct\n",
      "Created 1axis_06_24_13.oct\n",
      "Created 1axis_06_24_12.oct\n",
      "Created 1axis_06_24_15.oct\n",
      "Created 1axis_06_24_14.oct\n",
      "Created 1axis_06_24_17.oct\n",
      "Created 1axis_06_24_16.oct\n",
      "Linescan in process: 1axis_06_24_06_zgap0.3_Front\n",
      "Linescan in process: 1axis_06_24_06_zgap0.3_Back\n",
      "Saved: results\\irr_1axis_06_24_06_zgap0.3.csv\n",
      "Index: 06_24_06. Wm2Front: 161.425258833. Wm2Back: 16.48608815\n",
      "Linescan in process: 1axis_06_24_07_zgap0.3_Front\n",
      "Linescan in process: 1axis_06_24_07_zgap0.3_Back\n",
      "Saved: results\\irr_1axis_06_24_07_zgap0.3.csv\n",
      "Index: 06_24_07. Wm2Front: 709.733419233. Wm2Back: 15.200422965\n",
      "Linescan in process: 1axis_06_24_08_zgap0.3_Front\n",
      "Linescan in process: 1axis_06_24_08_zgap0.3_Back\n",
      "Saved: results\\irr_1axis_06_24_08_zgap0.3.csv\n",
      "Index: 06_24_08. Wm2Front: 916.305202467. Wm2Back: 66.5236612833\n",
      "Linescan in process: 1axis_06_24_09_zgap0.3_Front\n",
      "Linescan in process: 1axis_06_24_09_zgap0.3_Back\n",
      "Saved: results\\irr_1axis_06_24_09_zgap0.3.csv\n",
      "Index: 06_24_09. Wm2Front: 1029.36178673. Wm2Back: 82.2897241333\n",
      "Linescan in process: 1axis_06_24_10_zgap0.3_Front\n",
      "Linescan in process: 1axis_06_24_10_zgap0.3_Back\n",
      "Saved: results\\irr_1axis_06_24_10_zgap0.3.csv\n",
      "Index: 06_24_10. Wm2Front: 1072.78537597. Wm2Back: 104.666836617\n",
      "Linescan in process: 1axis_06_24_11_zgap0.3_Front\n",
      "Linescan in process: 1axis_06_24_11_zgap0.3_Back\n",
      "Saved: results\\irr_1axis_06_24_11_zgap0.3.csv\n",
      "Index: 06_24_11. Wm2Front: 1083.289255. Wm2Back: 129.644350433\n",
      "Linescan in process: 1axis_06_24_12_zgap0.3_Front\n",
      "Linescan in process: 1axis_06_24_12_zgap0.3_Back\n",
      "Saved: results\\irr_1axis_06_24_12_zgap0.3.csv\n",
      "Index: 06_24_12. Wm2Front: 1085.42463667. Wm2Back: 146.597674667\n",
      "Linescan in process: 1axis_06_24_13_zgap0.3_Front\n",
      "Linescan in process: 1axis_06_24_13_zgap0.3_Back\n",
      "Saved: results\\irr_1axis_06_24_13_zgap0.3.csv\n",
      "Index: 06_24_13. Wm2Front: 1083.53411333. Wm2Back: 146.490793283\n",
      "Linescan in process: 1axis_06_24_14_zgap0.3_Front\n",
      "Linescan in process: 1axis_06_24_14_zgap0.3_Back\n",
      "Saved: results\\irr_1axis_06_24_14_zgap0.3.csv\n",
      "Index: 06_24_14. Wm2Front: 1089.69777167. Wm2Back: 135.612068717\n",
      "Linescan in process: 1axis_06_24_15_zgap0.3_Front\n",
      "Linescan in process: 1axis_06_24_15_zgap0.3_Back\n",
      "Saved: results\\irr_1axis_06_24_15_zgap0.3.csv\n",
      "Index: 06_24_15. Wm2Front: 1085.01026138. Wm2Back: 112.461951867\n",
      "Linescan in process: 1axis_06_24_16_zgap0.3_Front\n",
      "Linescan in process: 1axis_06_24_16_zgap0.3_Back\n",
      "Saved: results\\irr_1axis_06_24_16_zgap0.3.csv\n",
      "Index: 06_24_16. Wm2Front: 1053.6527237. Wm2Back: 86.6029814333\n",
      "Linescan in process: 1axis_06_24_17_zgap0.3_Front\n",
      "Linescan in process: 1axis_06_24_17_zgap0.3_Back\n",
      "Saved: results\\irr_1axis_06_24_17_zgap0.3.csv\n",
      "Index: 06_24_17. Wm2Front: 964.7943688. Wm2Back: 72.28008065\n",
      "Linescan in process: 1axis_06_24_18_zgap0.3_Front\n",
      "Linescan in process: 1axis_06_24_18_zgap0.3_Back\n",
      "Saved: results\\irr_1axis_06_24_18_zgap0.3.csv\n",
      "Index: 06_24_18. Wm2Front: 787.441863467. Wm2Back: 27.8219388167\n",
      "Linescan in process: 1axis_06_24_19_zgap0.3_Front\n",
      "Linescan in process: 1axis_06_24_19_zgap0.3_Back\n",
      "Saved: results\\irr_1axis_06_24_19_zgap0.3.csv\n",
      "Index: 06_24_19. Wm2Front: 308.707182667. Wm2Back: 17.5099916\n"
     ]
    }
   ],
   "source": [
    "#ZGAP 0.3\n",
    "zgap = 0.3\n",
    "torquetube = True\n",
    "customname = '_zgap0.3'\n",
    "demo.makeModule(name=module_type,x=x,y=y, numpanels=numpanels,tubetype=tubetype, zgap=zgap, torquetube=torquetube, diameter=diameter, material=material, axisofrotationTorqueTube=axisofrotationTorqueTube)\n",
    "trackerdict = demo.makeScene1axis(trackerdict,module_type,sceneDict, cumulativesky = cumulativesky) \n",
    "trackerdict = demo.makeOct1axis(trackerdict)\n",
    "trackerdict = demo.analysis1axis(trackerdict, sensorsy = sensorsy, customname = customname)"
   ]
  },
  {
   "cell_type": "markdown",
   "metadata": {},
   "source": [
    "<a id='step2'></a>"
   ]
  },
  {
   "cell_type": "markdown",
   "metadata": {},
   "source": [
    "### 2. Read-back the values and tabulate average values for unshaded, 10cm gap and 30cm gap\n"
   ]
  },
  {
   "cell_type": "code",
   "execution_count": 7,
   "metadata": {},
   "outputs": [
    {
     "name": "stdout",
     "output_type": "stream",
     "text": [
      "F:\\Documents\\Python Scripts\\bifacial_radiance_PVSC2018_rerun\\results\n"
     ]
    }
   ],
   "source": [
    "import glob\n",
    "import pandas as pd\n",
    "\n",
    "resultsfolder = os.path.join(testfolder, 'results')\n",
    "print (resultsfolder)\n",
    "filenames = glob.glob(os.path.join(resultsfolder,'*.csv'))\n",
    "noTTlist = [k for k in filenames if 'NoTT' in k]\n",
    "zgap10cmlist = [k for k in filenames if 'zgap0.1' in k]\n",
    "zgap20cmlist = [k for k in filenames if 'zgap0.2' in k]\n",
    "zgap30cmlist = [k for k in filenames if 'zgap0.3' in k]\n",
    "\n",
    "# sum across all hours for each case\n",
    "unsh_front = np.array([pd.read_csv(f, engine='python')['Wm2Front'] for f in noTTlist]).sum(axis = 0)\n",
    "cm10_front = np.array([pd.read_csv(f, engine='python')['Wm2Front'] for f in zgap10cmlist]).sum(axis = 0)\n",
    "cm20_front = np.array([pd.read_csv(f, engine='python')['Wm2Front'] for f in zgap20cmlist]).sum(axis = 0)\n",
    "cm30_front = np.array([pd.read_csv(f, engine='python')['Wm2Front'] for f in zgap30cmlist]).sum(axis = 0)\n",
    "unsh_back = np.array([pd.read_csv(f, engine='python')['Wm2Back'] for f in noTTlist]).sum(axis = 0)\n",
    "cm10_back = np.array([pd.read_csv(f, engine='python')['Wm2Back'] for f in zgap10cmlist]).sum(axis = 0)\n",
    "cm20_back = np.array([pd.read_csv(f, engine='python')['Wm2Back'] for f in zgap20cmlist]).sum(axis = 0)\n",
    "cm30_back = np.array([pd.read_csv(f, engine='python')['Wm2Back'] for f in zgap30cmlist]).sum(axis = 0)"
   ]
  },
  {
   "cell_type": "markdown",
   "metadata": {},
   "source": [
    "<a id='step3'></a>"
   ]
  },
  {
   "cell_type": "markdown",
   "metadata": {},
   "source": [
    "### 3. plot spatial loss values for 10cm and 30cm data"
   ]
  },
  {
   "cell_type": "code",
   "execution_count": 5,
   "metadata": {},
   "outputs": [
    {
     "data": {
      "image/png": "[encoded data removed]",
      "text/plain": [
       "<Figure size 288x180 with 1 Axes>"
      ]
     },
     "metadata": {
      "needs_background": "light"
     },
     "output_type": "display_data"
    }
   ],
   "source": [
    "import matplotlib.pyplot as plt\n",
    "plt.rcParams['font.family'] = 'sans-serif'\n",
    "plt.rcParams['font.sans-serif'] = ['Helvetica']\n",
    "plt.rcParams['axes.linewidth'] = 0.2 #set the value globally\n",
    "\n",
    "fig = plt.figure()\n",
    "fig.set_size_inches(4, 2.5)\n",
    "ax = fig.add_axes((0.15,0.15,0.78,0.75))\n",
    "#plt.rc('font', family='sans-serif')\n",
    "plt.rc('xtick',labelsize=8)\n",
    "plt.rc('ytick',labelsize=8)\n",
    "plt.rc('axes',labelsize=8)\n",
    "plt.plot(np.linspace(-1,1,unsh_back.__len__()),(cm30_back - unsh_back)/unsh_back*100, label = '30cm gap',color = 'black')  #steelblue\n",
    "plt.plot(np.linspace(-1,1,unsh_back.__len__()),(cm20_back - unsh_back)/unsh_back*100, label = '20cm gap',color = 'steelblue', linestyle = '--')  #steelblue\n",
    "plt.plot(np.linspace(-1,1,unsh_back.__len__()),(cm10_back - unsh_back)/unsh_back*100, label = '10cm gap',color = 'darkorange')  #steelblue\n",
    "#plt.ylabel('$G_{rear}$ vs unshaded [Wm-2]')#(r'$BG_E$ [%]')\n",
    "plt.ylabel('$G_{rear}$ / $G_{rear,tubeless}$ -1 [%]')\n",
    "plt.xlabel('Module X position [m]')\n",
    "plt.legend(fontsize = 8,frameon = False,loc='best')\n",
    "#plt.ylim([0, 15])\n",
    "plt.title('Torque tube shading loss',fontsize=9)\n",
    "#plt.annotate('South',xy=(-10,9.5),fontsize = 8); plt.annotate('North',xy=(8,9.5),fontsize = 8)\n",
    "plt.show()"
   ]
  }
 ],
 "metadata": {
  "anaconda-cloud": {},
  "kernelspec": {
   "display_name": "Python 3",
   "language": "python",
   "name": "python3"
  },
  "language_info": {
   "codemirror_mode": {
    "name": "ipython",
    "version": 3
   },
   "file_extension": ".py",
   "mimetype": "text/x-python",
   "name": "python",
   "nbconvert_exporter": "python",
   "pygments_lexer": "ipython3",
   "version": "3.7.3"
  }
 },
 "nbformat": 4,
 "nbformat_minor": 1
}
