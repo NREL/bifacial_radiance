{
 "cells": [
  {
   "cell_type": "markdown",
   "metadata": {},
   "source": [
    "# 1 - Introductory Example: Fixed-Tilt simple setup\n",
    "\n",
    "This jupyter journal will walk us through the creation of the most basic fixed-tilt simulation possible with bifacial_radiance.\n",
    "We will simulate a 1-up landscape system over a white rooftop.\n",
    "\n",
    "Steps include:\n",
    "\n",
    "<ol>\n",
    "    <li> <a href='#step1'> Create a folder for your simulation, and Load bifacial_radiance </a></li> \n",
    "    <li> <a href='#step2'> Create a Radiance Object </a></li> \n",
    "    <li> <a href='#step3'> Set the Albedo </a></li> \n",
    "    <li> <a href='#step4'> Download Weather Files </a></li> \n",
    "    <li> <a href='#step5'> Generate the Sky </a></li> \n",
    "    <li> <a href='#step6'> Define a Module type </a></li> \n",
    "    <li> <a href='#step7'> Create the scene </a></li> \n",
    "    <li> <a href='#step8'> Combine Ground, Sky and Scene Objects </a></li> \n",
    "    <li> <a href='#step9'> Analyze and get results </a></li> \n",
    "    <li> <a href='#step10'> Visualize scene options </a></li>   \n",
    "</ol>\n"
   ]
  },
  {
   "cell_type": "markdown",
   "metadata": {},
   "source": [
    "<a id='step1'></a>"
   ]
  },
  {
   "cell_type": "markdown",
   "metadata": {},
   "source": [
    "\n",
    "## 1. Create a folder for your simulation, and load bifacial_radiance \n",
    "\n",
    "First let's set the folder where the simulation will be saved. By default, this is the TEMP folder in the bifacial_radiance distribution.\n",
    "\n",
    "The lines below find the location of the folder relative to this Jupyter Journa. You can alternatively point to an empty directory (it will open a load GUI Visual Interface) or specify any other directory in your computer, for example:\n",
    "\n",
    "#### testfolder = r'C:\\Users\\sayala\\Documents\\RadianceScenes\\Tutorials\\Journal1'\n",
    "\n"
   ]
  },
  {
   "cell_type": "code",
   "execution_count": 1,
   "metadata": {},
   "outputs": [
    {
     "name": "stdout",
     "output_type": "stream",
     "text": [
      "Your simulation will be stored in C:\\Users\\sayala\\Documents\\GitHub\\bifacial_radiance\\bifacial_radiance\\TEMP\n"
     ]
    }
   ],
   "source": [
    "import os\n",
    "from pathlib import Path\n",
    "\n",
    "testfolder = Path().resolve().parent.parent / 'bifacial_radiance' / 'TEMP'\n",
    "\n",
    "# Another option using relative address; for some operative systems you might need '/' instead of '\\'\n",
    "# testfolder = os.path.abspath(r'..\\..\\bifacial_radiance\\TEMP')  \n",
    "\n",
    "print (\"Your simulation will be stored in %s\" % testfolder)\n"
   ]
  },
  {
   "cell_type": "markdown",
   "metadata": {},
   "source": [
    "This will load bifacial_radiance and other libraries from python that will be useful for this Jupyter Journal:"
   ]
  },
  {
   "cell_type": "code",
   "execution_count": 2,
   "metadata": {},
   "outputs": [],
   "source": [
    "try:\n",
    "    from bifacial_radiance import *\n",
    "except ImportError:\n",
    "    raise RuntimeError('bifacial_radiance is required. download distribution')\n",
    "\n",
    "import numpy as np"
   ]
  },
  {
   "cell_type": "markdown",
   "metadata": {},
   "source": [
    "<a id='step2'></a>"
   ]
  },
  {
   "cell_type": "markdown",
   "metadata": {},
   "source": [
    "## 2. Create a Radiance Object"
   ]
  },
  {
   "cell_type": "code",
   "execution_count": 3,
   "metadata": {},
   "outputs": [
    {
     "name": "stdout",
     "output_type": "stream",
     "text": [
      "path = C:\\Users\\sayala\\Documents\\GitHub\\bifacial_radiance\\bifacial_radiance\\TEMP\n"
     ]
    }
   ],
   "source": [
    "# Create a RadianceObj 'object' named bifacial_example. no whitespace allowed\n",
    "demo = RadianceObj('bifacial_example',str(testfolder))  "
   ]
  },
  {
   "cell_type": "markdown",
   "metadata": {},
   "source": [
    "This will create all the folder structure of the bifacial_radiance Scene in the designated testfolder in your computer, and it should look like this:\n",
    "\n",
    "\n",
    "![Folder Structure](../images_wiki/Journal1Pics/folderStructure.png)"
   ]
  },
  {
   "cell_type": "markdown",
   "metadata": {},
   "source": [
    "<a id='step3'></a>"
   ]
  },
  {
   "cell_type": "markdown",
   "metadata": {},
   "source": [
    "## 3. Set the Albedo"
   ]
  },
  {
   "cell_type": "markdown",
   "metadata": {},
   "source": [
    "To see more options of ground materials available (located on ground.rad), run this function without any input. "
   ]
  },
  {
   "cell_type": "code",
   "execution_count": 4,
   "metadata": {},
   "outputs": [
    {
     "name": "stdout",
     "output_type": "stream",
     "text": [
      "Input albedo 0-1, albedo by wavelength [R, G, B], or ground material names:['black', 'litesoil', 'concrete', 'white_EPDM', 'beigeroof', 'beigeroof_lite', 'beigeroof_heavy', 'asphalt', 'greyroof', 'Metal_Aluminum_Anodized', 'Color_I11', 'M_0010_Snow', 'Metal_Grey']\n"
     ]
    }
   ],
   "source": [
    "# Input albedo number or material name like 'concrete'.  \n",
    "demo.setGround()  # This prints available materials."
   ]
  },
  {
   "cell_type": "markdown",
   "metadata": {},
   "source": [
    "If a number between 0 and 1 is passed, it assumes it's an albedo value. For this example, we want a high-reflectivity rooftop albedo surface, so we will set the albedo to 0.62"
   ]
  },
  {
   "cell_type": "code",
   "execution_count": 5,
   "metadata": {},
   "outputs": [],
   "source": [
    "albedo = 0.62\n",
    "demo.setGround(albedo)"
   ]
  },
  {
   "cell_type": "markdown",
   "metadata": {},
   "source": [
    "<a id='step4'></a>"
   ]
  },
  {
   "cell_type": "markdown",
   "metadata": {},
   "source": [
    "## 4. Download and Load Weather Files\n",
    "\n",
    "There are various options provided in bifacial_radiance to load weatherfiles. getEPW is useful because you just set the latitude and longitude of the location and it donwloads the meteorologicla data for any location. "
   ]
  },
  {
   "cell_type": "code",
   "execution_count": 6,
   "metadata": {},
   "outputs": [
    {
     "name": "stdout",
     "output_type": "stream",
     "text": [
      "Getting weather file: USA_VA_Richmond.Intl.AP.724010_TMY.epw\n",
      " ... OK!\n"
     ]
    }
   ],
   "source": [
    "# Pull in meteorological data using pyEPW for any global lat/lon\n",
    "epwfile = demo.getEPW(lat = 37.5, lon = -77.6)  # This location corresponds to Richmond, VA."
   ]
  },
  {
   "cell_type": "markdown",
   "metadata": {},
   "source": [
    "The downloaded EPW will be in the EPWs folder.\n",
    "\n",
    "To load the data, use readWeatherFile. This reads EPWs, TMY meterological data, or even your own data as long as it follows TMY data format (With any time resoultion)."
   ]
  },
  {
   "cell_type": "code",
   "execution_count": 7,
   "metadata": {},
   "outputs": [
    {
     "name": "stdout",
     "output_type": "stream",
     "text": [
      "Saving file EPWs\\epw_temp.csv, # points: 8760\n"
     ]
    }
   ],
   "source": [
    "# Read in the weather data pulled in above. \n",
    "metdata = demo.readWeatherFile(epwfile) "
   ]
  },
  {
   "cell_type": "markdown",
   "metadata": {},
   "source": [
    "<a id='step5'></a>"
   ]
  },
  {
   "cell_type": "markdown",
   "metadata": {},
   "source": [
    "## 5. Generate the Sky.\n",
    "\n",
    "Sky definitions can either be for a single time point with gendaylit function,\n",
    "or using gencumulativesky to generate a cumulativesky for the entire year.\n"
   ]
  },
  {
   "cell_type": "code",
   "execution_count": 8,
   "metadata": {},
   "outputs": [
    {
     "name": "stdout",
     "output_type": "stream",
     "text": [
      "message: There were 4255 sun up hours in this climate file\r\n",
      "Total Ibh/Lbh: 0.000000\n"
     ]
    }
   ],
   "source": [
    "fullYear = True\n",
    "if fullYear:\n",
    "    demo.genCumSky(demo.epwfile) # entire year.\n",
    "else:\n",
    "    demo.gendaylit(4020)  # Noon, June 17th (timepoint # 4020)"
   ]
  },
  {
   "cell_type": "markdown",
   "metadata": {},
   "source": [
    "The method gencumSky calculates the hourly radiance of the sky hemisphere by dividing it into 145 patches. Then it adds those hourly values to generate one single <b> cumulative sky</b>. Here is a visualization of this patched hemisphere for Richmond, VA, US. Can you deduce from the radiance values of each patch which way is North?\n",
    "\n",
    "![Example of the hemisphere cumulative sky](../images_wiki/Journal1Pics/cumulativesky.png)\n",
    "\n",
    "Answer: Since Richmond is in the Northern Hemisphere, the modules face the south, which is where most of the radiation from the sun is coming. The north in this picture is the darker blue areas."
   ]
  },
  {
   "cell_type": "markdown",
   "metadata": {},
   "source": [
    "<a id='step6'></a>"
   ]
  },
  {
   "cell_type": "markdown",
   "metadata": {},
   "source": [
    "## 6. DEFINE a Module type\n",
    "\n",
    "You can create a custom PV module type. In this case we are defining a module named \"Prism Solar Bi60\", in landscape. The x value defines the size of the module along the row, so for landscape modules x > y. This module measures y = 0.984 x = 1.695. \n",
    "\n",
    "\n",
    "<div class=\"alert alert-success\">\n",
    "Modules in this example are 100% opaque. For drawing each cell, makeModule needs more inputs with cellLevelModule = True. You can also specify a lot more variables in makeModule like multiple modules, torque tubes, spacing between modules, etc. Reffer to the <a href=\"https://bifacial-radiance.readthedocs.io/en/latest/generated/bifacial_radiance.RadianceObj.makeModule.html#bifacial_radiance.RadianceObj.makeModule\"> Module Documentation </a> and read the following jupyter journals to explore all your options.\n",
    "</div>\n"
   ]
  },
  {
   "cell_type": "code",
   "execution_count": 9,
   "metadata": {},
   "outputs": [
    {
     "name": "stdout",
     "output_type": "stream",
     "text": [
      "\n",
      "Module Name: Prism_Solar_Bi60_landscape\n",
      "REWRITING pre-existing module file. \n",
      "Module Prism Solar Bi60 landscape successfully created\n"
     ]
    },
    {
     "data": {
      "text/plain": [
       "{'x': 1.695,\n",
       " 'y': 0.984,\n",
       " 'z': 0.02,\n",
       " 'scenex': 1.705,\n",
       " 'sceney': 0.984,\n",
       " 'scenez': 0.15,\n",
       " 'numpanels': 1,\n",
       " 'bifi': 1,\n",
       " 'text': '! genbox black Prism_Solar_Bi60_landscape 1.695 0.984 0.02 | xform -t -0.8475 -0.492 0 -a 1 -t 0 0.984 0',\n",
       " 'modulefile': 'objects\\\\Prism_Solar_Bi60_landscape.rad',\n",
       " 'offsetfromaxis': 0,\n",
       " 'xgap': 0.01,\n",
       " 'ygap': 0.0,\n",
       " 'zgap': 0.1,\n",
       " 'cellModule': None,\n",
       " 'torquetube': {'bool': False,\n",
       "  'diameter': 0.1,\n",
       "  'tubetype': 'Round',\n",
       "  'material': 'Metal_Grey'}}"
      ]
     },
     "execution_count": 9,
     "metadata": {},
     "output_type": "execute_result"
    }
   ],
   "source": [
    "module_type = 'Prism Solar Bi60 landscape' \n",
    "demo.makeModule(name=module_type,x=1.695, y=0.984)\n"
   ]
  },
  {
   "cell_type": "markdown",
   "metadata": {},
   "source": [
    "In case you want to use a pre-defined module or a module you've created previously, they are stored in a JSON format in data/module.json, and the options available can be called with printModules:"
   ]
  },
  {
   "cell_type": "code",
   "execution_count": 10,
   "metadata": {},
   "outputs": [
    {
     "name": "stdout",
     "output_type": "stream",
     "text": [
      "Available module names: ['Prism Solar Bi60', '2upTracker', 'test', 'Prism Solar Bi60 landscape', 'cellModule', 'Custom Tracker Module', 'PrismSolar', 'Taskar', 'Task13', 'square', 'round', 'hex', 'oct', 'Stock_Panel']\n"
     ]
    }
   ],
   "source": [
    "availableModules = demo.printModules()\n"
   ]
  },
  {
   "cell_type": "markdown",
   "metadata": {},
   "source": [
    "<a id='step7'></a>"
   ]
  },
  {
   "cell_type": "markdown",
   "metadata": {},
   "source": [
    "## 7. Make the Scene\n",
    "\n",
    " The sceneDicitonary specifies the information of the scene, such as number of rows, number of modules per row, azimuth, tilt, clearance_height (distance between the ground and lowest point of the module) and any other parameter. \n",
    " \n",
    " Azimuth gets measured from N = 0, so for South facing modules azimuth should equal 180 degrees\n"
   ]
  },
  {
   "cell_type": "code",
   "execution_count": 11,
   "metadata": {},
   "outputs": [],
   "source": [
    "sceneDict = {'tilt':10,'pitch':3,'clearance_height':0.2,'azimuth':180, 'nMods': 20, 'nRows': 7} \n"
   ]
  },
  {
   "cell_type": "markdown",
   "metadata": {},
   "source": [
    "To make the scene we have to create a Scene Object through the method makeScene. This method will create a .rad file in the objects folder, with the parameters specified in sceneDict and the module created above."
   ]
  },
  {
   "cell_type": "code",
   "execution_count": 12,
   "metadata": {},
   "outputs": [],
   "source": [
    "scene = demo.makeScene(module_type,sceneDict)"
   ]
  },
  {
   "cell_type": "markdown",
   "metadata": {},
   "source": [
    "<a id='step8'></a>"
   ]
  },
  {
   "cell_type": "markdown",
   "metadata": {},
   "source": [
    "## 8. COMBINE the Ground, Sky, and the Scene Objects\n",
    "\n",
    "Radiance requires an \"Oct\" file that combines the ground, sky and the scene object into it. \n",
    "The method makeOct does this for us."
   ]
  },
  {
   "cell_type": "code",
   "execution_count": 13,
   "metadata": {},
   "outputs": [
    {
     "name": "stdout",
     "output_type": "stream",
     "text": [
      "Created bifacial_example.oct\n"
     ]
    }
   ],
   "source": [
    "octfile = demo.makeOct(demo.getfilelist())  "
   ]
  },
  {
   "cell_type": "markdown",
   "metadata": {},
   "source": [
    "To see what files got merged into the octfile, you can use the helper method getfilelist. This is useful for advanced simulations too, specially when you want to have different Scene objects in the same simulation, or if you want to add other custom elements to your scene (like a building, for example)"
   ]
  },
  {
   "cell_type": "code",
   "execution_count": 14,
   "metadata": {},
   "outputs": [
    {
     "data": {
      "text/plain": [
       "['materials\\\\ground.rad',\n",
       " 'skies\\\\cumulative.rad',\n",
       " 'objects\\\\Prism_Solar_Bi60_landscape_0.2_3_10_20x7_origin0,0.rad']"
      ]
     },
     "execution_count": 14,
     "metadata": {},
     "output_type": "execute_result"
    }
   ],
   "source": [
    "demo.getfilelist()"
   ]
  },
  {
   "cell_type": "markdown",
   "metadata": {},
   "source": [
    "<a id='step9'></a>"
   ]
  },
  {
   "cell_type": "markdown",
   "metadata": {},
   "source": [
    "## 9. ANALYZE and get Results\n",
    "\n",
    "Once the octfile tying the scene, ground and sky has been created, we create an Analysis Object. We first have to create an Analysis object, and then we have to specify where the sensors will be located with moduleAnalysis. \n"
   ]
  },
  {
   "cell_type": "markdown",
   "metadata": {},
   "source": [
    "First let's create the Analysis Object"
   ]
  },
  {
   "cell_type": "code",
   "execution_count": 15,
   "metadata": {},
   "outputs": [],
   "source": [
    "analysis = AnalysisObj(octfile, demo.basename)"
   ]
  },
  {
   "cell_type": "markdown",
   "metadata": {},
   "source": [
    "Then let's specify the sensor location. If no parameters are passed to moduleAnalysis, it will scan the center module of the center row:"
   ]
  },
  {
   "cell_type": "code",
   "execution_count": 16,
   "metadata": {},
   "outputs": [],
   "source": [
    "\n",
    "frontscan, backscan = analysis.moduleAnalysis(scene)\n"
   ]
  },
  {
   "cell_type": "markdown",
   "metadata": {},
   "source": [
    "The frontscan and backscan include a linescan along a chord of the module, both on the front and back. \n",
    "\n",
    "![Simple example for south facing module](../images_wiki/Journal1Pics/frontscan_backscan.png)\n",
    "Analysis saves the measured irradiances in the front and in the back on the results folder.  Prints out the ratio of the average of the rear and front irradiance values along a chord of the module."
   ]
  },
  {
   "cell_type": "code",
   "execution_count": 17,
   "metadata": {},
   "outputs": [
    {
     "name": "stdout",
     "output_type": "stream",
     "text": [
      "Linescan in process: bifacial_example_Front\n",
      "Linescan in process: bifacial_example_Back\n",
      "Saved: results\\irr_bifacial_example.csv\n"
     ]
    }
   ],
   "source": [
    "results = analysis.analysis(octfile, demo.basename, frontscan, backscan)  \n"
   ]
  },
  {
   "cell_type": "markdown",
   "metadata": {},
   "source": [
    "The results are also automatically saved in the results folder. Some of our input/output functions can be used to read the results and work with them, for example:"
   ]
  },
  {
   "cell_type": "code",
   "execution_count": 18,
   "metadata": {},
   "outputs": [
    {
     "data": {
      "text/html": [
       "<div>\n",
       "<style scoped>\n",
       "    .dataframe tbody tr th:only-of-type {\n",
       "        vertical-align: middle;\n",
       "    }\n",
       "\n",
       "    .dataframe tbody tr th {\n",
       "        vertical-align: top;\n",
       "    }\n",
       "\n",
       "    .dataframe thead th {\n",
       "        text-align: right;\n",
       "    }\n",
       "</style>\n",
       "<table border=\"1\" class=\"dataframe\">\n",
       "  <thead>\n",
       "    <tr style=\"text-align: right;\">\n",
       "      <th></th>\n",
       "      <th>x</th>\n",
       "      <th>y</th>\n",
       "      <th>z</th>\n",
       "      <th>rearZ</th>\n",
       "      <th>mattype</th>\n",
       "      <th>rearMat</th>\n",
       "      <th>Wm2Front</th>\n",
       "      <th>Wm2Back</th>\n",
       "      <th>Back/FrontRatio</th>\n",
       "    </tr>\n",
       "  </thead>\n",
       "  <tbody>\n",
       "    <tr>\n",
       "      <th>0</th>\n",
       "      <td>4.791638e-17</td>\n",
       "      <td>-0.391267</td>\n",
       "      <td>0.237768</td>\n",
       "      <td>0.216102</td>\n",
       "      <td>a9.3.a0.Prism_Solar_Bi60_landscape.6457</td>\n",
       "      <td>a9.3.a0.Prism_Solar_Bi60_landscape.2310</td>\n",
       "      <td>1518193.0</td>\n",
       "      <td>369505.0</td>\n",
       "      <td>0.243385</td>\n",
       "    </tr>\n",
       "    <tr>\n",
       "      <th>1</th>\n",
       "      <td>3.604893e-17</td>\n",
       "      <td>-0.294362</td>\n",
       "      <td>0.254855</td>\n",
       "      <td>0.233189</td>\n",
       "      <td>a9.3.a0.Prism_Solar_Bi60_landscape.6457</td>\n",
       "      <td>a9.3.a0.Prism_Solar_Bi60_landscape.2310</td>\n",
       "      <td>1518383.0</td>\n",
       "      <td>307981.9</td>\n",
       "      <td>0.202835</td>\n",
       "    </tr>\n",
       "    <tr>\n",
       "      <th>2</th>\n",
       "      <td>2.418148e-17</td>\n",
       "      <td>-0.197457</td>\n",
       "      <td>0.271942</td>\n",
       "      <td>0.250276</td>\n",
       "      <td>a9.3.a0.Prism_Solar_Bi60_landscape.6457</td>\n",
       "      <td>a9.3.a0.Prism_Solar_Bi60_landscape.2310</td>\n",
       "      <td>1518554.0</td>\n",
       "      <td>239488.1</td>\n",
       "      <td>0.157708</td>\n",
       "    </tr>\n",
       "    <tr>\n",
       "      <th>3</th>\n",
       "      <td>1.231403e-17</td>\n",
       "      <td>-0.100552</td>\n",
       "      <td>0.289029</td>\n",
       "      <td>0.267363</td>\n",
       "      <td>a9.3.a0.Prism_Solar_Bi60_landscape.6457</td>\n",
       "      <td>a9.3.a0.Prism_Solar_Bi60_landscape.2310</td>\n",
       "      <td>1518725.0</td>\n",
       "      <td>199386.5</td>\n",
       "      <td>0.131285</td>\n",
       "    </tr>\n",
       "    <tr>\n",
       "      <th>4</th>\n",
       "      <td>4.465811e-19</td>\n",
       "      <td>-0.003647</td>\n",
       "      <td>0.306116</td>\n",
       "      <td>0.284450</td>\n",
       "      <td>a9.3.a0.Prism_Solar_Bi60_landscape.6457</td>\n",
       "      <td>a9.3.a0.Prism_Solar_Bi60_landscape.2310</td>\n",
       "      <td>1518896.0</td>\n",
       "      <td>184967.1</td>\n",
       "      <td>0.121777</td>\n",
       "    </tr>\n",
       "    <tr>\n",
       "      <th>5</th>\n",
       "      <td>-1.142087e-17</td>\n",
       "      <td>0.093258</td>\n",
       "      <td>0.323203</td>\n",
       "      <td>0.301537</td>\n",
       "      <td>a9.3.a0.Prism_Solar_Bi60_landscape.6457</td>\n",
       "      <td>a9.3.a0.Prism_Solar_Bi60_landscape.2310</td>\n",
       "      <td>1519066.0</td>\n",
       "      <td>191999.1</td>\n",
       "      <td>0.126393</td>\n",
       "    </tr>\n",
       "    <tr>\n",
       "      <th>6</th>\n",
       "      <td>-2.328832e-17</td>\n",
       "      <td>0.190164</td>\n",
       "      <td>0.340290</td>\n",
       "      <td>0.318624</td>\n",
       "      <td>a9.3.a0.Prism_Solar_Bi60_landscape.6457</td>\n",
       "      <td>a9.3.a0.Prism_Solar_Bi60_landscape.2310</td>\n",
       "      <td>1519237.0</td>\n",
       "      <td>215212.1</td>\n",
       "      <td>0.141658</td>\n",
       "    </tr>\n",
       "    <tr>\n",
       "      <th>7</th>\n",
       "      <td>-3.515577e-17</td>\n",
       "      <td>0.287069</td>\n",
       "      <td>0.357377</td>\n",
       "      <td>0.335711</td>\n",
       "      <td>a9.3.a0.Prism_Solar_Bi60_landscape.6457</td>\n",
       "      <td>a9.3.a0.Prism_Solar_Bi60_landscape.2310</td>\n",
       "      <td>1515019.0</td>\n",
       "      <td>258336.9</td>\n",
       "      <td>0.170517</td>\n",
       "    </tr>\n",
       "    <tr>\n",
       "      <th>8</th>\n",
       "      <td>-4.702322e-17</td>\n",
       "      <td>0.383974</td>\n",
       "      <td>0.374464</td>\n",
       "      <td>0.352798</td>\n",
       "      <td>a9.3.a0.Prism_Solar_Bi60_landscape.6457</td>\n",
       "      <td>a9.3.a0.Prism_Solar_Bi60_landscape.2310</td>\n",
       "      <td>1514893.0</td>\n",
       "      <td>311205.9</td>\n",
       "      <td>0.205431</td>\n",
       "    </tr>\n",
       "  </tbody>\n",
       "</table>\n",
       "</div>"
      ],
      "text/plain": [
       "              x         y         z     rearZ  \\\n",
       "0  4.791638e-17 -0.391267  0.237768  0.216102   \n",
       "1  3.604893e-17 -0.294362  0.254855  0.233189   \n",
       "2  2.418148e-17 -0.197457  0.271942  0.250276   \n",
       "3  1.231403e-17 -0.100552  0.289029  0.267363   \n",
       "4  4.465811e-19 -0.003647  0.306116  0.284450   \n",
       "5 -1.142087e-17  0.093258  0.323203  0.301537   \n",
       "6 -2.328832e-17  0.190164  0.340290  0.318624   \n",
       "7 -3.515577e-17  0.287069  0.357377  0.335711   \n",
       "8 -4.702322e-17  0.383974  0.374464  0.352798   \n",
       "\n",
       "                                   mattype  \\\n",
       "0  a9.3.a0.Prism_Solar_Bi60_landscape.6457   \n",
       "1  a9.3.a0.Prism_Solar_Bi60_landscape.6457   \n",
       "2  a9.3.a0.Prism_Solar_Bi60_landscape.6457   \n",
       "3  a9.3.a0.Prism_Solar_Bi60_landscape.6457   \n",
       "4  a9.3.a0.Prism_Solar_Bi60_landscape.6457   \n",
       "5  a9.3.a0.Prism_Solar_Bi60_landscape.6457   \n",
       "6  a9.3.a0.Prism_Solar_Bi60_landscape.6457   \n",
       "7  a9.3.a0.Prism_Solar_Bi60_landscape.6457   \n",
       "8  a9.3.a0.Prism_Solar_Bi60_landscape.6457   \n",
       "\n",
       "                                   rearMat   Wm2Front   Wm2Back  \\\n",
       "0  a9.3.a0.Prism_Solar_Bi60_landscape.2310  1518193.0  369505.0   \n",
       "1  a9.3.a0.Prism_Solar_Bi60_landscape.2310  1518383.0  307981.9   \n",
       "2  a9.3.a0.Prism_Solar_Bi60_landscape.2310  1518554.0  239488.1   \n",
       "3  a9.3.a0.Prism_Solar_Bi60_landscape.2310  1518725.0  199386.5   \n",
       "4  a9.3.a0.Prism_Solar_Bi60_landscape.2310  1518896.0  184967.1   \n",
       "5  a9.3.a0.Prism_Solar_Bi60_landscape.2310  1519066.0  191999.1   \n",
       "6  a9.3.a0.Prism_Solar_Bi60_landscape.2310  1519237.0  215212.1   \n",
       "7  a9.3.a0.Prism_Solar_Bi60_landscape.2310  1515019.0  258336.9   \n",
       "8  a9.3.a0.Prism_Solar_Bi60_landscape.2310  1514893.0  311205.9   \n",
       "\n",
       "   Back/FrontRatio  \n",
       "0         0.243385  \n",
       "1         0.202835  \n",
       "2         0.157708  \n",
       "3         0.131285  \n",
       "4         0.121777  \n",
       "5         0.126393  \n",
       "6         0.141658  \n",
       "7         0.170517  \n",
       "8         0.205431  "
      ]
     },
     "execution_count": 18,
     "metadata": {},
     "output_type": "execute_result"
    }
   ],
   "source": [
    "load.read1Result('results\\irr_bifacial_example.csv')"
   ]
  },
  {
   "cell_type": "markdown",
   "metadata": {},
   "source": [
    "As can be seen in the results for the *Wm2Front* and *WM2Back*, the irradiance values are quite high. This is because a cumulative sky simulation was performed on <b> step 5 </b>, so this is the total irradiance over all the hours of the year that the module at each sampling point will receive. Dividing the back irradiance average by the front irradiance average will give us the bifacial gain for the year:\n",
    "\n",
    "![Bifacial Gain in Irradiance Formula](../images_wiki/Journal1Pics/BGG_Formula.png)\n",
    "\n",
    "Assuming that our module from Prism Solar has a bifaciality factor (rear to front performance) of 90%, our <u> bifacial gain </u> is of:"
   ]
  },
  {
   "cell_type": "code",
   "execution_count": 19,
   "metadata": {},
   "outputs": [
    {
     "name": "stdout",
     "output_type": "stream",
     "text": [
      "Annual bifacial ratio: 0.15 \n"
     ]
    }
   ],
   "source": [
    "bifacialityfactor = 0.9\n",
    "print('Annual bifacial ratio: %0.2f ' %( np.mean(analysis.Wm2Back) * bifacialityfactor / np.mean(analysis.Wm2Front)) )\n"
   ]
  },
  {
   "cell_type": "markdown",
   "metadata": {},
   "source": [
    "<a id='step10'></a>"
   ]
  },
  {
   "cell_type": "markdown",
   "metadata": {},
   "source": [
    "## 10. View / Render the Scene\n",
    "\n",
    "If you used gencumsky or gendaylit, you can view the <b> Scene </b> by navigating on a command line to the folder and typing:\n",
    "\n",
    "##### objview materials\\ground.rad objects\\Prism_Solar_Bi60_landscape_0.2_3_10_20x7_origin0,0.rad     \n",
    "\n",
    "This <b> objview </b> has 3 different light sources of its own, so the shading is not representative.\n",
    "\n",
    "ONLY If you used <b> gendaylit </b>, you can view the scene correctly illuminated with the sky you generated after generating the oct file, with \n",
    "\n",
    "##### rvu -vf views\\front.vp -e .01 bifacial_example.oct\n",
    "\n",
    "The <b> rvu </b> manual can be found here: manual page here: http://radsite.lbl.gov/radiance/rvu.1.html\n",
    "\n",
    "Or you can also use the code below from bifacial_radiance to generate an HDR rendered image of the scene. You can choose from front view or side view in the views folder:"
   ]
  },
  {
   "cell_type": "code",
   "execution_count": 20,
   "metadata": {},
   "outputs": [
    {
     "name": "stdout",
     "output_type": "stream",
     "text": [
      "Generating visible render of scene\n",
      "Generating scene in WM-2. This may take some time.\n",
      "Saving scene in false color\n"
     ]
    }
   ],
   "source": [
    "# Make a color render and falsecolor image of the scene.\n",
    "analysis.makeImage('side.vp')\n",
    "analysis.makeFalseColor('side.vp')"
   ]
  },
  {
   "cell_type": "markdown",
   "metadata": {},
   "source": [
    "This is how the False Color image stored in images folder should look like:\n",
    "\n",
    "![OpenHDR image example of False color](../images_wiki/Journal1Pics/openhdr_FalseColorExample.png)"
   ]
  },
  {
   "cell_type": "markdown",
   "metadata": {},
   "source": [
    "Files are saved as .hdr (high definition render) files.  Try LuminanceHDR viewer (free) to view them, or https://viewer.openhdr.org/ \n",
    "\n"
   ]
  }
 ],
 "metadata": {
  "anaconda-cloud": {},
  "kernelspec": {
   "display_name": "Python 3",
   "language": "python",
   "name": "python3"
  },
  "language_info": {
   "codemirror_mode": {
    "name": "ipython",
    "version": 3
   },
   "file_extension": ".py",
   "mimetype": "text/x-python",
   "name": "python",
   "nbconvert_exporter": "python",
   "pygments_lexer": "ipython3",
   "version": "3.7.4"
  }
 },
 "nbformat": 4,
 "nbformat_minor": 1
}
