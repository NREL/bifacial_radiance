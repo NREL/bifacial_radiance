{
 "cells": [
  {
   "cell_type": "code",
   "execution_count": null,
   "metadata": {},
   "outputs": [],
   "source": [
    "# This information helps with debugging and getting support :)\n",
    "import sys, platform\n",
    "import pandas as pd\n",
    "import bifacial_radiance as br\n",
    "print(\"Working on a \", platform.system(), platform.release())\n",
    "print(\"Python version \", sys.version)\n",
    "print(\"Pandas version \", pd.__version__)\n",
    "print(\"bifacial_radiance version \", br.__version__)"
   ]
  },
  {
   "cell_type": "markdown",
   "metadata": {},
   "source": [
    "# 11 - AgriPV Systems\n",
    "\n",
    "This journal shows how to model an AgriPV site, calculating the irradiance not only on the modules but also the irradiance received by the ground to evaluate available solar ersource for plants. \n",
    "\n",
    "We assume that bifacia_radiacne is already installed in your computer. This works for bifacial_radiance v.3 release.\n",
    "\n",
    "These journal outlines 4 useful uses of bifacial_radiance and some tricks: \n",
    "\n",
    "* Creating the modules in the AgriPV site\n",
    "* Adding extra geometry for the pillars/posts supporting the AgriPV site\n",
    "* Hacking the sensors to sample the ground irradiance and create irradiance map\n",
    "* Adding object to simulate variations in ground albedo from different crops between rows.\n",
    "\n",
    "\n",
    "#### Steps:\n",
    "\n",
    "1. <a href='#step1'> Generate the geometry </a>\n",
    "2. <a href='#step2'> Analyse the Ground Irradiance </a>\n",
    "3. <a href='#step3'> Analyse and MAP the Ground Irradiance </a>\n",
    "4. <a href='#step4'> Adding different Albedo Section </a>\n",
    "    \n",
    "#### Preview of what we will create: \n",
    "    \n",
    "![Another view](../images_wiki/AdvancedJournals/AgriPV_2.PNG)\n",
    "![AgriPV Image We will create](../images_wiki/AdvancedJournals/AgriPV_1.PNG)\n",
    "And this is how it will look like:\n",
    "\n",
    "![AgriPV modeled step 4](../images_wiki/AdvancedJournals/AgriPV_step4.PNG)\n",
    "\n",
    "\n"
   ]
  },
  {
   "cell_type": "markdown",
   "metadata": {},
   "source": [
    "<a id='step1'></a>"
   ]
  },
  {
   "cell_type": "markdown",
   "metadata": {},
   "source": [
    "## 1. Generate the geometry \n",
    "\n",
    "This section goes from setting up variables to making the OCT axis. We are also adding some custom elements for the torquetubes and posts.\n",
    "\n",
    "We've done this before a couple times, no new stuff here. \n",
    "\n",
    "The magic is that, for doing the carport we see in the figure, we are going to do a 4-up configuration of modules (**numpanels**), and we are going to repeat that 3-UP 6 times (**nMods**)"
   ]
  },
  {
   "cell_type": "code",
   "execution_count": 1,
   "metadata": {},
   "outputs": [
    {
     "name": "stdout",
     "output_type": "stream",
     "text": [
      "Your simulation will be stored in C:\\Users\\mprillim\\sam_dev\\bifacial_radiance\\bifacial_radiance\\TEMP\\Tutorial_11\n"
     ]
    }
   ],
   "source": [
    "import os\n",
    "from pathlib import Path\n",
    "\n",
    "testfolder = str(Path().resolve().parent.parent / 'bifacial_radiance' / 'TEMP' /  'Tutorial_11')\n",
    "\n",
    "if not os.path.exists(testfolder):\n",
    "    os.makedirs(testfolder)\n",
    "    \n",
    "print (\"Your simulation will be stored in %s\" % testfolder)"
   ]
  },
  {
   "cell_type": "code",
   "execution_count": 2,
   "metadata": {},
   "outputs": [],
   "source": [
    "from bifacial_radiance import *   \n",
    "import numpy as np\n",
    "import pandas as pd"
   ]
  },
  {
   "cell_type": "code",
   "execution_count": 3,
   "metadata": {},
   "outputs": [
    {
     "name": "stdout",
     "output_type": "stream",
     "text": [
      "path = C:\\Users\\mprillim\\sam_dev\\bifacial_radiance\\bifacial_radiance\\TEMP\\Tutorial_11\n",
      "Loading albedo, 1 value(s), 0.200 avg\n",
      "1 nonzero albedo values.\n",
      "Getting weather file: USA_NJ_McGuire.AFB.724096_TMY3.epw\n",
      " ... OK!\n",
      "8760 line in WeatherFile. Assuming this is a standard hourly WeatherFile for the year for purposes of saving Gencumulativesky temporary weather files in EPW folder.\n",
      "Coercing year to 2001\n",
      "Saving file EPWs\\metdata_temp.csv, # points: 8760\n",
      "Calculating Sun position for Metdata that is right-labeled  with a delta of -30 mins. i.e. 12 is 11:30 sunpos\n",
      "\n",
      "Module Name: test-module\n",
      "Module was shifted by 0.078 in X to avoid sensors on air\n",
      "This is a Cell-Level detailed module with Packaging Factor of 0.81 %\n",
      "Module test-module updated in module.json\n",
      "Pre-existing .rad file objects\\test-module.rad will be overwritten\n",
      "\n",
      "Created tutorial_11.oct\n"
     ]
    }
   ],
   "source": [
    "simulationname = 'tutorial_11'\n",
    "\n",
    "#Location:\n",
    "lat = 40.0583  # NJ\n",
    "lon = -74.4057  # NJ\n",
    "\n",
    "# MakeModule Parameters\n",
    "moduletype='test-module'\n",
    "numpanels = 3  # AgriPV site has 3 modules along the y direction (N-S since we are facing it to the south) .\n",
    "x = 0.95  \n",
    "y = 1.95\n",
    "xgap = 2.0# Leaving 15 centimeters between modules on x direction\n",
    "ygap = 0.10 # Leaving 10 centimeters between modules on y direction\n",
    "zgap = 0 # no gap to torquetube.\n",
    "sensorsy = 6*numpanels  # this will give 6 sensors per module, 1 per cell\n",
    "\n",
    "# Other default values:\n",
    "\n",
    "# TorqueTube Parameters\n",
    "axisofrotationTorqueTube=False  # this is False by default if there is no torquetbue parameters\n",
    "torqueTube = False\n",
    "cellLevelModule = True\n",
    "\n",
    "numcellsx = 12\n",
    "numcellsy = 6\n",
    "xcell = 0.156\n",
    "ycell = 0.156\n",
    "xcellgap = 0.02\n",
    "ycellgap = 0.02\n",
    "\n",
    "cellLevelModuleParams = {'numcellsx': numcellsx, 'numcellsy':numcellsy, \n",
    "                         'xcell': xcell, 'ycell': ycell, 'xcellgap': xcellgap, 'ycellgap': ycellgap}\n",
    "\n",
    "# SceneDict Parameters\n",
    "pitch = 15 # m\n",
    "albedo = 0.2  #'grass'     # ground albedo\n",
    "hub_height = 4.3 # m  \n",
    "nMods = 6 # six modules per row.\n",
    "nRows = 3  # 3 row\n",
    "\n",
    "azimuth_ang=180 # Facing south\n",
    "tilt =35 # tilt. \n",
    "\n",
    "# Now let's run the example\n",
    "\n",
    "demo = RadianceObj(simulationname,path = testfolder)  \n",
    "demo.setGround(albedo) \n",
    "epwfile = demo.getEPW(lat, lon) # NJ lat/lon 40.0583° N, 74.4057\n",
    "metdata = demo.readWeatherFile(epwfile, coerce_year=2001) \n",
    "timestamp = metdata.datetime.index(pd.to_datetime('2001-06-17 13:0:0 -5'))  # Make this timezone aware, use -5 for EST.\n",
    "demo.gendaylit(timestamp)  \n",
    "\n",
    "\n",
    "# Making module with all the variables\n",
    "module=demo.makeModule(name=moduletype,x=x,y=y,numpanels=numpanels, \n",
    "                           xgap=xgap, ygap=ygap, cellModule=cellLevelModuleParams)\n",
    "# create a scene with all the variables\n",
    "sceneDict = {'tilt':tilt,'pitch': 15,'hub_height':hub_height,'azimuth':azimuth_ang, 'nMods': nMods, 'nRows': nRows}  \n",
    "scene = demo.makeScene(module=moduletype, sceneDict=sceneDict) \n",
    "octfile = demo.makeOct(demo.getfilelist())\n"
   ]
  },
  {
   "cell_type": "markdown",
   "metadata": {},
   "source": [
    "If desired, you can view the Oct file at this point:\n",
    "\n",
    "***rvu -vf views\\front.vp -e .01 tutorial_11.oct***"
   ]
  },
  {
   "cell_type": "code",
   "execution_count": 4,
   "metadata": {},
   "outputs": [],
   "source": [
    "\n",
    "## Comment the ! line below to run rvu from the Jupyter notebook instead of your terminal.\n",
    "## Simulation will stop until you close the rvu window\n",
    "\n",
    "#!rvu -vf views\\front.vp -e .01 tutorial_11.oct\n"
   ]
  },
  {
   "cell_type": "markdown",
   "metadata": {},
   "source": [
    "\n",
    "And adjust the view parameters, you should see this image.\n",
    "\n",
    "![AgriPV modeled step 1](../images_wiki/AdvancedJournals/AgriPV_step1.PNG)\n"
   ]
  },
  {
   "cell_type": "markdown",
   "metadata": {},
   "source": [
    "### Adding the structure\n",
    "\n",
    "We will add on the torquetube and pillars.\n",
    "\n",
    "Positions of the piles could be done more programatically, but they are kinda estimated at the moment. "
   ]
  },
  {
   "cell_type": "code",
   "execution_count": 5,
   "metadata": {},
   "outputs": [
    {
     "name": "stdout",
     "output_type": "stream",
     "text": [
      "\n",
      "Custom Object Name objects\\Post1.rad\n",
      "\n",
      "Custom Object Name objects\\Post2.rad\n",
      "\n",
      "Custom Object Name objects\\Post3.rad\n"
     ]
    }
   ],
   "source": [
    "torquetubelength = module.scenex*(nMods) \n",
    "\n",
    "name='Post1'\n",
    "text='! genbox Metal_Aluminum_Anodized torquetube_row1 {} 0.2 0.3 | xform -t {} -0.1 -0.3 | xform -t 0 0 4.2'.format(\n",
    "                                                    torquetubelength, (-torquetubelength+module.sceney)/2.0)\n",
    "customObject = demo.makeCustomObject(name,text)\n",
    "demo.appendtoScene(radfile=scene.radfiles, customObject=customObject, text=\"!xform -rz 0\")\n",
    "\n",
    "name='Post2'\n",
    "text='! genbox Metal_Aluminum_Anodized torquetube_row2 {} 0.2 0.3 | xform -t {} -0.1 -0.3 | xform -t 0 15 4.2'.format(\n",
    "                                            torquetubelength, (-torquetubelength+module.sceney)/2.0)\n",
    "customObject = demo.makeCustomObject(name,text)\n",
    "demo.appendtoScene(radfile=scene.radfiles, customObject=customObject, text=\"!xform -rz 0\")\n",
    "\n",
    "name='Post3'\n",
    "text='! genbox Metal_Aluminum_Anodized torquetube_row2 {} 0.2 0.3 | xform -t {} -0.1 -0.3 | xform -t 0 -15 4.2'.format(\n",
    "                                              torquetubelength, (-torquetubelength+module.sceney)/2.0)\n",
    "customObject = demo.makeCustomObject(name,text)\n",
    "demo.appendtoScene(radfile=scene.radfiles, customObject=customObject, text=\"!xform -rz 0\")\n"
   ]
  },
  {
   "cell_type": "code",
   "execution_count": 6,
   "metadata": {},
   "outputs": [
    {
     "name": "stdout",
     "output_type": "stream",
     "text": [
      "\n",
      "Custom Object Name objects\\Pile.rad\n",
      "Created tutorial_11.oct\n"
     ]
    }
   ],
   "source": [
    "name='Pile'\n",
    "pile1x = (torquetubelength+module.sceney)/2.0\n",
    "pilesep = pile1x*2.0/7.0\n",
    "\n",
    "text= '! genrev Metal_Grey tube1row1 t*4.2 0.15 32 | xform -t {} 0 0'.format(pile1x)\n",
    "text += '\\r\\n! genrev Metal_Grey tube1row2 t*4.2 0.15 32 | xform -t {} 15 0'.format(pile1x)\n",
    "text += '\\r\\n! genrev Metal_Grey tube1row3 t*4.2 0.15 32 | xform -t {} -15 0'.format(pile1x)\n",
    "\n",
    "for i in range (1, 7):\n",
    "    text += '\\r\\n! genrev Metal_Grey tube{}row1 t*4.2 0.15 32 | xform -t {} 0 0'.format(i+1, pile1x-pilesep*i)\n",
    "    text += '\\r\\n! genrev Metal_Grey tube{}row2 t*4.2 0.15 32 | xform -t {} 15 0'.format(i+1, pile1x-pilesep*i)\n",
    "    text += '\\r\\n! genrev Metal_Grey tube{}row3 t*4.2 0.15 32 | xform -t {} -15 0'.format(i+1, pile1x-pilesep*i)\n",
    "\n",
    "customObject = demo.makeCustomObject(name,text)\n",
    "demo.appendtoScene(radfile=scene.radfiles, customObject=customObject, text=\"!xform -rz 0\")\n",
    "\n",
    "octfile = demo.makeOct()  # makeOct combines all of the ground, sky and object files we just added into a .oct file."
   ]
  },
  {
   "cell_type": "markdown",
   "metadata": {},
   "source": [
    "### View the geometry with the posts on :\n",
    "\n",
    "***rvu -vf views\\front.vp -e .01 -pe 0.4 -vp 12 -10 3.5 -vd -0.0995 0.9950 0.0 tutorial_11.oct***\n",
    "\n"
   ]
  },
  {
   "cell_type": "code",
   "execution_count": 7,
   "metadata": {},
   "outputs": [],
   "source": [
    "\n",
    "## Comment the ! line below to run rvu from the Jupyter notebook instead of your terminal.\n",
    "## Simulation will stop until you close the rvu window\n",
    "\n",
    "#!rvu -vf views\\front.vp -e .01 tutorial_11.oct\n"
   ]
  },
  {
   "cell_type": "markdown",
   "metadata": {},
   "source": [
    "\n",
    "![AgriPV modeled step 2](../images_wiki/AdvancedJournals/AgriPV_step2.PNG)"
   ]
  },
  {
   "cell_type": "markdown",
   "metadata": {},
   "source": [
    "<a id='step2'></a>"
   ]
  },
  {
   "cell_type": "markdown",
   "metadata": {},
   "source": [
    "## 2. Analyse  the Ground Irradiance\n",
    "\n",
    "Now let's do some analysis along the ground, starting from the edge of the modules. We wil select to start in the center of the array.\n",
    "\n",
    "We are also increasign the number of points sampled accross the collector width, with the  variable **sensorsy** passed to **moduleanalysis**. We are also increasing the step between sampling points, to be able to sample in between the rows."
   ]
  },
  {
   "cell_type": "code",
   "execution_count": 8,
   "metadata": {},
   "outputs": [],
   "source": [
    "analysis = AnalysisObj(octfile, demo.name)  \n",
    "sensorsy = 20\n",
    "frontscan, backscan = analysis.moduleAnalysis(scene, sensorsy=sensorsy)\n"
   ]
  },
  {
   "cell_type": "code",
   "execution_count": 9,
   "metadata": {},
   "outputs": [],
   "source": [
    "groundscan = frontscan"
   ]
  },
  {
   "cell_type": "code",
   "execution_count": 10,
   "metadata": {},
   "outputs": [
    {
     "data": {
      "text/plain": [
       "{'xstart': 1.5159739062663865e-16,\n",
       " 'ystart': -1.237886635821746,\n",
       " 'zstart': 0.05,\n",
       " 'xinc': -1.5802346387185998e-17,\n",
       " 'yinc': 0.7894736842105263,\n",
       " 'zinc': 0,\n",
       " 'sx_xinc': 0.0,\n",
       " 'sx_yinc': 0.0,\n",
       " 'sx_zinc': 0.0,\n",
       " 'Nx': 1,\n",
       " 'Ny': 20,\n",
       " 'Nz': 1,\n",
       " 'orient': '-0.000 0.574 -0.819'}"
      ]
     },
     "execution_count": 10,
     "metadata": {},
     "output_type": "execute_result"
    }
   ],
   "source": [
    "groundscan['zstart'] = 0.05  # setting it 5 cm from the ground.\n",
    "groundscan['zinc'] = 0   # no tilt necessary. \n",
    "groundscan['yinc'] = pitch/(sensorsy-1)   # increasing spacing so it covers all distance between rows\n",
    "groundscan"
   ]
  },
  {
   "cell_type": "code",
   "execution_count": 11,
   "metadata": {},
   "outputs": [
    {
     "name": "stdout",
     "output_type": "stream",
     "text": [
      "Linescan in process: tutorial_11_groundscan_Front\n",
      "Linescan in process: tutorial_11_groundscan_Back\n",
      "Saved: results\\irr_tutorial_11_groundscan.csv\n"
     ]
    },
    {
     "data": {
      "text/plain": [
       "({'Wm2': [707.7193666666666,\n",
       "   679.3139666666666,\n",
       "   320.71520000000004,\n",
       "   321.5017,\n",
       "   326.947,\n",
       "   355.2678,\n",
       "   703.1252000000001,\n",
       "   717.6289666666667,\n",
       "   730.9323333333333,\n",
       "   738.5453666666667,\n",
       "   744.1402333333334,\n",
       "   748.625,\n",
       "   750.1326666666668,\n",
       "   753.2622333333334,\n",
       "   754.2802333333333,\n",
       "   753.4847333333332,\n",
       "   749.6281333333333,\n",
       "   744.2707333333334,\n",
       "   730.8705333333334,\n",
       "   709.3668333333334],\n",
       "  'x': [1.515974e-16,\n",
       "   1.35795e-16,\n",
       "   1.199927e-16,\n",
       "   1.041904e-16,\n",
       "   8.838801e-17,\n",
       "   7.258566e-17,\n",
       "   5.678331e-17,\n",
       "   4.098097e-17,\n",
       "   2.517862e-17,\n",
       "   9.376273e-18,\n",
       "   -6.426073e-18,\n",
       "   -2.222842e-17,\n",
       "   -3.803077e-17,\n",
       "   -5.383311e-17,\n",
       "   -6.963546e-17,\n",
       "   -8.543781e-17,\n",
       "   -1.012402e-16,\n",
       "   -1.170425e-16,\n",
       "   -1.328448e-16,\n",
       "   -1.486472e-16],\n",
       "  'y': [-1.237887,\n",
       "   -0.448413,\n",
       "   0.3410607,\n",
       "   1.130534,\n",
       "   1.920008,\n",
       "   2.709482,\n",
       "   3.498955,\n",
       "   4.288429,\n",
       "   5.077903,\n",
       "   5.867377,\n",
       "   6.65685,\n",
       "   7.446324,\n",
       "   8.235798,\n",
       "   9.025271,\n",
       "   9.814745,\n",
       "   10.60422,\n",
       "   11.39369,\n",
       "   12.18317,\n",
       "   12.97264,\n",
       "   13.76211],\n",
       "  'z': [0.05,\n",
       "   0.05,\n",
       "   0.05,\n",
       "   0.05,\n",
       "   0.05,\n",
       "   0.05,\n",
       "   0.05,\n",
       "   0.05,\n",
       "   0.05,\n",
       "   0.05,\n",
       "   0.05,\n",
       "   0.05,\n",
       "   0.05,\n",
       "   0.05,\n",
       "   0.05,\n",
       "   0.05,\n",
       "   0.05,\n",
       "   0.05,\n",
       "   0.05,\n",
       "   0.05],\n",
       "  'r': [707.5753,\n",
       "   679.1962,\n",
       "   320.6044,\n",
       "   321.3819,\n",
       "   326.8311,\n",
       "   355.1729,\n",
       "   703.0397,\n",
       "   717.5341,\n",
       "   730.8545,\n",
       "   738.4874,\n",
       "   744.0706,\n",
       "   748.5612,\n",
       "   750.0686,\n",
       "   753.1605,\n",
       "   754.1783,\n",
       "   753.3657,\n",
       "   749.512,\n",
       "   744.1373,\n",
       "   730.7393,\n",
       "   709.2124],\n",
       "  'g': [707.7124,\n",
       "   679.3104,\n",
       "   320.7099,\n",
       "   321.4949,\n",
       "   326.9389,\n",
       "   355.2608,\n",
       "   703.1177,\n",
       "   717.6204,\n",
       "   730.9257,\n",
       "   738.5405,\n",
       "   744.1342,\n",
       "   748.6193,\n",
       "   750.127,\n",
       "   753.2527,\n",
       "   754.2706,\n",
       "   753.4746,\n",
       "   749.619,\n",
       "   744.2607,\n",
       "   730.8623,\n",
       "   709.3582],\n",
       "  'b': [707.8704,\n",
       "   679.4353,\n",
       "   320.8313,\n",
       "   321.6283,\n",
       "   327.071,\n",
       "   355.3697,\n",
       "   703.2182,\n",
       "   717.7324,\n",
       "   731.0168,\n",
       "   738.6082,\n",
       "   744.2159,\n",
       "   748.6945,\n",
       "   750.2024,\n",
       "   753.3735,\n",
       "   754.3918,\n",
       "   753.6139,\n",
       "   749.7534,\n",
       "   744.4142,\n",
       "   731.01,\n",
       "   709.5299],\n",
       "  'mattype': ['groundplane',\n",
       "   'groundplane',\n",
       "   'groundplane',\n",
       "   'groundplane',\n",
       "   'groundplane',\n",
       "   'groundplane',\n",
       "   'groundplane',\n",
       "   'groundplane',\n",
       "   'groundplane',\n",
       "   'groundplane',\n",
       "   'groundplane',\n",
       "   'groundplane',\n",
       "   'groundplane',\n",
       "   'groundplane',\n",
       "   'groundplane',\n",
       "   'groundplane',\n",
       "   'groundplane',\n",
       "   'groundplane',\n",
       "   'groundplane',\n",
       "   'groundplane'],\n",
       "  'title': 'tutorial_11_groundscan_Front'},\n",
       " {'Wm2': [258.8127,\n",
       "   131.0589,\n",
       "   130.75906666666668,\n",
       "   130.4594,\n",
       "   125.61353333333334,\n",
       "   124.4103,\n",
       "   258.8127,\n",
       "   100.8693,\n",
       "   87.56585,\n",
       "   81.7781,\n",
       "   135.29413333333335,\n",
       "   127.25869999999999,\n",
       "   129.3859666666667,\n",
       "   258.8127,\n",
       "   132.0198,\n",
       "   133.18776666666668,\n",
       "   134.2764,\n",
       "   135.00026666666668,\n",
       "   135.94163333333333,\n",
       "   258.8127],\n",
       "  'x': [1.50052e-16,\n",
       "   1.342497e-16,\n",
       "   1.184474e-16,\n",
       "   1.02645e-16,\n",
       "   8.684266e-17,\n",
       "   7.104032e-17,\n",
       "   5.523797e-17,\n",
       "   3.943562e-17,\n",
       "   2.363328e-17,\n",
       "   7.83093e-18,\n",
       "   -7.971416e-18,\n",
       "   -2.377376e-17,\n",
       "   -3.957611e-17,\n",
       "   -5.537846e-17,\n",
       "   -7.11808e-17,\n",
       "   -8.698315e-17,\n",
       "   -1.027855e-16,\n",
       "   -1.185878e-16,\n",
       "   -1.343902e-16,\n",
       "   -1.501925e-16],\n",
       "  'y': [-1.225268,\n",
       "   -1.096232,\n",
       "   -0.9671961,\n",
       "   -0.8381601,\n",
       "   -0.7091242,\n",
       "   -0.5800882,\n",
       "   -0.4510523,\n",
       "   -0.3220163,\n",
       "   -0.1929803,\n",
       "   -0.0639444,\n",
       "   0.06509155,\n",
       "   0.1941275,\n",
       "   0.3231635,\n",
       "   0.4521994,\n",
       "   0.5812354,\n",
       "   0.7102713,\n",
       "   0.8393073,\n",
       "   0.9683432,\n",
       "   1.097379,\n",
       "   1.226415],\n",
       "  'z': [3.440837,\n",
       "   3.531189,\n",
       "   3.621541,\n",
       "   3.711893,\n",
       "   3.802245,\n",
       "   3.892597,\n",
       "   3.982949,\n",
       "   4.073301,\n",
       "   4.163653,\n",
       "   4.254005,\n",
       "   4.344357,\n",
       "   4.434709,\n",
       "   4.525061,\n",
       "   4.615413,\n",
       "   4.705765,\n",
       "   4.796117,\n",
       "   4.886468,\n",
       "   4.97682,\n",
       "   5.067172,\n",
       "   5.157524],\n",
       "  'r': [258.8127,\n",
       "   130.8674,\n",
       "   130.568,\n",
       "   130.2688,\n",
       "   125.3934,\n",
       "   124.1923,\n",
       "   258.8127,\n",
       "   100.1214,\n",
       "   86.4007,\n",
       "   80.33697,\n",
       "   134.2312,\n",
       "   126.7886,\n",
       "   128.908,\n",
       "   258.8127,\n",
       "   131.8432,\n",
       "   133.0096,\n",
       "   134.1148,\n",
       "   134.8378,\n",
       "   135.8387,\n",
       "   258.8127],\n",
       "  'g': [258.8127,\n",
       "   131.0518,\n",
       "   130.752,\n",
       "   130.4523,\n",
       "   125.5993,\n",
       "   124.3962,\n",
       "   258.8127,\n",
       "   100.7859,\n",
       "   87.42799,\n",
       "   81.59953,\n",
       "   135.1632,\n",
       "   127.206,\n",
       "   129.3324,\n",
       "   258.8127,\n",
       "   132.0045,\n",
       "   133.1724,\n",
       "   134.2626,\n",
       "   134.9864,\n",
       "   135.9336,\n",
       "   258.8127],\n",
       "  'b': [258.8127,\n",
       "   131.2575,\n",
       "   130.9572,\n",
       "   130.6571,\n",
       "   125.8479,\n",
       "   124.6424,\n",
       "   258.8127,\n",
       "   101.7006,\n",
       "   88.86886,\n",
       "   83.3978,\n",
       "   136.488,\n",
       "   127.7815,\n",
       "   129.9175,\n",
       "   258.8127,\n",
       "   132.2117,\n",
       "   133.3813,\n",
       "   134.4518,\n",
       "   135.1766,\n",
       "   136.0526,\n",
       "   258.8127],\n",
       "  'mattype': ['sky',\n",
       "   'a2.1.a5.1.0.cellPVmodule.2310',\n",
       "   'a2.1.a5.2.0.cellPVmodule.2310',\n",
       "   'a2.1.a5.3.0.cellPVmodule.2310',\n",
       "   'a2.1.a5.4.0.cellPVmodule.2310',\n",
       "   'a2.1.a5.5.0.cellPVmodule.2310',\n",
       "   'sky',\n",
       "   'a2.1.a5.0.1.cellPVmodule.2310',\n",
       "   'a2.1.a5.1.1.cellPVmodule.2310',\n",
       "   'a2.1.a5.2.1.cellPVmodule.2310',\n",
       "   'a2.1.a5.3.1.cellPVmodule.2310',\n",
       "   'a2.1.a5.4.1.cellPVmodule.2310',\n",
       "   'a2.1.a5.5.1.cellPVmodule.2310',\n",
       "   'sky',\n",
       "   'a2.1.a5.0.2.cellPVmodule.2310',\n",
       "   'a2.1.a5.1.2.cellPVmodule.2310',\n",
       "   'a2.1.a5.2.2.cellPVmodule.2310',\n",
       "   'a2.1.a5.3.2.cellPVmodule.2310',\n",
       "   'a2.1.a5.4.2.cellPVmodule.2310',\n",
       "   'sky'],\n",
       "  'title': 'tutorial_11_groundscan_Back'})"
      ]
     },
     "execution_count": 11,
     "metadata": {},
     "output_type": "execute_result"
    }
   ],
   "source": [
    "analysis.analysis(octfile, simulationname+\"_groundscan\", groundscan, backscan)  # compare the back vs front irradiance  \n"
   ]
  },
  {
   "cell_type": "markdown",
   "metadata": {},
   "source": [
    "This is the result for only one 'chord' accross the ground. Let's now do a X-Y scan of the ground."
   ]
  },
  {
   "cell_type": "markdown",
   "metadata": {},
   "source": [
    "<a id='step3'></a>"
   ]
  },
  {
   "cell_type": "markdown",
   "metadata": {},
   "source": [
    "## 3. Analyse and MAP the Ground Irradiance"
   ]
  },
  {
   "cell_type": "markdown",
   "metadata": {},
   "source": [
    " We will use the same technique to find the irradiance on the ground used above, but will move it along the X-axis to map from the start of one module to the next.\n",
    " \n",
    " We will sample around the module that is placed at the center of the field."
   ]
  },
  {
   "cell_type": "markdown",
   "metadata": {},
   "source": [
    "![AgriPV modeled step 4](../images_wiki/AdvancedJournals/spacing_between_modules.PNG)"
   ]
  },
  {
   "cell_type": "code",
   "execution_count": 12,
   "metadata": {},
   "outputs": [],
   "source": [
    "import seaborn as sns"
   ]
  },
  {
   "cell_type": "code",
   "execution_count": 13,
   "metadata": {},
   "outputs": [
    {
     "name": "stdout",
     "output_type": "stream",
     "text": [
      "Linescan in process: tutorial_11_groundscan_0_Front\n",
      "Linescan in process: tutorial_11_groundscan_0_Back\n",
      "Saved: results\\irr_tutorial_11_groundscan_0.csv\n",
      "Linescan in process: tutorial_11_groundscan_1_Front\n",
      "Linescan in process: tutorial_11_groundscan_1_Back\n",
      "Saved: results\\irr_tutorial_11_groundscan_1.csv\n",
      "Linescan in process: tutorial_11_groundscan_2_Front\n",
      "Linescan in process: tutorial_11_groundscan_2_Back\n",
      "Saved: results\\irr_tutorial_11_groundscan_2.csv\n",
      "Linescan in process: tutorial_11_groundscan_3_Front\n",
      "Linescan in process: tutorial_11_groundscan_3_Back\n",
      "Saved: results\\irr_tutorial_11_groundscan_3.csv\n",
      "Linescan in process: tutorial_11_groundscan_4_Front\n",
      "Linescan in process: tutorial_11_groundscan_4_Back\n",
      "Saved: results\\irr_tutorial_11_groundscan_4.csv\n",
      "Linescan in process: tutorial_11_groundscan_5_Front\n",
      "Linescan in process: tutorial_11_groundscan_5_Back\n",
      "Saved: results\\irr_tutorial_11_groundscan_5.csv\n",
      "Linescan in process: tutorial_11_groundscan_6_Front\n",
      "Linescan in process: tutorial_11_groundscan_6_Back\n",
      "Saved: results\\irr_tutorial_11_groundscan_6.csv\n",
      "Linescan in process: tutorial_11_groundscan_7_Front\n",
      "Linescan in process: tutorial_11_groundscan_7_Back\n",
      "Saved: results\\irr_tutorial_11_groundscan_7.csv\n",
      "Linescan in process: tutorial_11_groundscan_8_Front\n",
      "Linescan in process: tutorial_11_groundscan_8_Back\n",
      "Saved: results\\irr_tutorial_11_groundscan_8.csv\n",
      "Linescan in process: tutorial_11_groundscan_9_Front\n",
      "Linescan in process: tutorial_11_groundscan_9_Back\n",
      "Saved: results\\irr_tutorial_11_groundscan_9.csv\n",
      "Linescan in process: tutorial_11_groundscan_10_Front\n",
      "Linescan in process: tutorial_11_groundscan_10_Back\n",
      "Saved: results\\irr_tutorial_11_groundscan_10.csv\n",
      "Linescan in process: tutorial_11_groundscan_11_Front\n",
      "Linescan in process: tutorial_11_groundscan_11_Back\n",
      "Saved: results\\irr_tutorial_11_groundscan_11.csv\n",
      "Linescan in process: tutorial_11_groundscan_12_Front\n",
      "Linescan in process: tutorial_11_groundscan_12_Back\n",
      "Saved: results\\irr_tutorial_11_groundscan_12.csv\n",
      "Linescan in process: tutorial_11_groundscan_13_Front\n",
      "Linescan in process: tutorial_11_groundscan_13_Back\n",
      "Saved: results\\irr_tutorial_11_groundscan_13.csv\n",
      "Linescan in process: tutorial_11_groundscan_14_Front\n",
      "Linescan in process: tutorial_11_groundscan_14_Back\n",
      "Saved: results\\irr_tutorial_11_groundscan_14.csv\n",
      "Linescan in process: tutorial_11_groundscan_15_Front\n",
      "Linescan in process: tutorial_11_groundscan_15_Back\n",
      "Saved: results\\irr_tutorial_11_groundscan_15.csv\n",
      "Linescan in process: tutorial_11_groundscan_16_Front\n",
      "Linescan in process: tutorial_11_groundscan_16_Back\n",
      "Saved: results\\irr_tutorial_11_groundscan_16.csv\n",
      "Linescan in process: tutorial_11_groundscan_17_Front\n",
      "Linescan in process: tutorial_11_groundscan_17_Back\n",
      "Saved: results\\irr_tutorial_11_groundscan_17.csv\n",
      "Linescan in process: tutorial_11_groundscan_18_Front\n",
      "Linescan in process: tutorial_11_groundscan_18_Back\n",
      "Saved: results\\irr_tutorial_11_groundscan_18.csv\n",
      "Linescan in process: tutorial_11_groundscan_19_Front\n",
      "Linescan in process: tutorial_11_groundscan_19_Back\n",
      "Saved: results\\irr_tutorial_11_groundscan_19.csv\n"
     ]
    }
   ],
   "source": [
    "sensorsx = 20\n",
    "startgroundsample=-module.scenex\n",
    "spacingbetweensamples = module.scenex/(sensorsx-1)\n",
    "\n",
    "for i in range (0, sensorsx): # Will map 20 points    \n",
    "    frontscan, backscan = analysis.moduleAnalysis(scene, sensorsy=sensorsy)\n",
    "    groundscan = frontscan\n",
    "    groundscan['zstart'] = 0.05  # setting it 5 cm from the ground.\n",
    "    groundscan['zinc'] = 0   # no tilt necessary. \n",
    "    groundscan['yinc'] = pitch/(sensorsy-1)   # increasing spacing so it covers all distance between rows\n",
    "    groundscan['xstart'] = startgroundsample + i*spacingbetweensamples   # increasing spacing so it covers all distance between rows\n",
    "    analysis.analysis(octfile, simulationname+\"_groundscan_\"+str(i), groundscan, backscan)  # compare the back vs front irradiance  \n"
   ]
  },
  {
   "cell_type": "markdown",
   "metadata": {},
   "source": [
    "Read all the files generated into one dataframe"
   ]
  },
  {
   "cell_type": "code",
   "execution_count": 14,
   "metadata": {},
   "outputs": [
    {
     "name": "stdout",
     "output_type": "stream",
     "text": [
      "21 files in the directory\n",
      "20 groundscan files in the directory\n"
     ]
    }
   ],
   "source": [
    "filestarter = \"irr_tutorial_11_groundscan_\"\n",
    "\n",
    "filelist = sorted(os.listdir(os.path.join(testfolder, 'results')))\n",
    "prefixed = [filename for filename in filelist if filename.startswith(filestarter)]\n",
    "arrayWm2Front = []\n",
    "arrayWm2Back = []\n",
    "arrayMatFront = []\n",
    "arrayMatBack = []\n",
    "filenamed = []\n",
    "faillist = []\n",
    "\n",
    "print('{} files in the directory'.format(filelist.__len__()))\n",
    "print('{} groundscan files in the directory'.format(prefixed.__len__()))\n",
    "i = 0  # counter to track # files loaded.\n",
    "\n",
    "for i in range (0, len(prefixed)):\n",
    "    ind = prefixed[i].split('_')\n",
    "\n",
    "    try:\n",
    "        resultsDF = load.read1Result(os.path.join(testfolder, 'results', prefixed[i]))\n",
    "        arrayWm2Front.append(list(resultsDF['Wm2Front']))\n",
    "        arrayWm2Back.append(list(resultsDF['Wm2Back']))\n",
    "        arrayMatFront.append(list(resultsDF['mattype']))\n",
    "        arrayMatBack.append(list(resultsDF['rearMat']))\n",
    "        filenamed.append(prefixed[i])\n",
    "    except:\n",
    "        print(\" FAILED \", i, prefixed[i])\n",
    "        faillist.append(prefixed[i])\n",
    "\n",
    "resultsdf = pd.DataFrame(list(zip(arrayWm2Front, arrayWm2Back, \n",
    "                                  arrayMatFront, arrayMatBack)),\n",
    "                         columns = ['br_Wm2Front', 'br_Wm2Back', \n",
    "                                    'br_MatFront', 'br_MatBack'])\n",
    "resultsdf['filename'] = filenamed"
   ]
  },
  {
   "cell_type": "markdown",
   "metadata": {},
   "source": [
    "Creating a new dataframe where  each element in the front irradiance list is a column. Also transpose and reverse so it looks like a top-down view of the ground."
   ]
  },
  {
   "cell_type": "code",
   "execution_count": 15,
   "metadata": {},
   "outputs": [],
   "source": [
    "df3 = pd.DataFrame(resultsdf['br_Wm2Front'].to_list())\n",
    "reversed_df = df3.T.iloc[::-1]"
   ]
  },
  {
   "cell_type": "code",
   "execution_count": 16,
   "metadata": {},
   "outputs": [
    {
     "name": "stdout",
     "output_type": "stream",
     "text": [
      "<module 'seaborn' from 'C:\\\\Users\\\\mprillim\\\\AppData\\\\Local\\\\anaconda3\\\\Lib\\\\site-packages\\\\seaborn\\\\__init__.py'>\n"
     ]
    }
   ],
   "source": [
    "sns.set(rc={'figure.figsize':(11.7,8.27)})\n",
    "print(sns)"
   ]
  },
  {
   "cell_type": "code",
   "execution_count": 17,
   "metadata": {},
   "outputs": [
    {
     "name": "stdout",
     "output_type": "stream",
     "text": [
      "            0           1           2           3           4           5   \\\n",
      "19  706.103133  708.401400  721.409200  717.619833  715.598133  714.769967   \n",
      "18  729.545700  730.459500  736.484300  733.422067  733.810267  732.349067   \n",
      "17  744.611167  744.542333  744.579000  744.724633  750.426100  744.390300   \n",
      "16  750.814333  751.606700  749.812433  750.632400  751.096500  750.848633   \n",
      "15  753.168167  753.276833  753.276567  755.596267  752.409900  752.694000   \n",
      "14  755.519533  752.961300  752.966167  755.388967  753.513033  752.432300   \n",
      "13  754.755633  752.870133  752.360067  752.922700  752.463167  753.046767   \n",
      "12  750.480900  752.070000  750.826967  751.828333  751.950300  752.030000   \n",
      "11  748.509767  747.130000  749.399867  746.466000  748.227600  746.539433   \n",
      "10  745.415200  744.417000  743.864667  744.758867  744.103900  742.821967   \n",
      "9   738.088100  739.890267  741.674200  738.149167  737.464833  736.426367   \n",
      "8   731.910667  730.627967  729.591467  731.874200  731.301133  730.675900   \n",
      "7   720.658000  718.901000  720.356467  722.543900  721.599267  720.658700   \n",
      "6   705.715100  705.710900  705.746200  707.904900  707.941067  707.607633   \n",
      "5   355.021367  680.047933  687.220900  689.482767  688.437867  690.134767   \n",
      "4   338.137467  328.818467  669.616733  665.818167  669.199033  670.765433   \n",
      "3   320.249833  319.284800  320.558033  321.297400  320.372400  322.348033   \n",
      "2   327.381400  651.769900  275.794300  291.608000  650.141667  662.958800   \n",
      "1   675.499700  677.584933  705.427933  697.571600  690.976100  691.939233   \n",
      "0   709.134933  708.707133  715.170800  716.620033  715.826767  714.051933   \n",
      "\n",
      "            6           7           8           9           10          11  \\\n",
      "19  717.691533  711.522867  712.757500  710.257500  709.220933  709.313067   \n",
      "18  733.783333  735.913067  732.007233  733.509267  730.354000  727.958400   \n",
      "17  745.029333  743.979700  744.263733  743.381600  743.023400  744.490167   \n",
      "16  749.903167  751.742567  749.769567  751.066300  753.117233  751.002000   \n",
      "15  751.250233  752.366833  753.492867  753.876900  753.367467  751.385933   \n",
      "14  753.530700  754.778467  752.997567  753.582500  753.520900  754.236267   \n",
      "13  753.227333  753.807267  751.415867  752.906700  751.486333  753.493467   \n",
      "12  750.532067  750.670900  749.872667  750.832367  750.489133  750.151933   \n",
      "11  748.346967  748.892033  748.041633  749.023133  746.868867  749.238767   \n",
      "10  745.314000  743.720400  746.012533  743.005167  743.646567  744.196700   \n",
      "9   738.304500  739.222567  738.664833  738.182167  738.772300  736.990800   \n",
      "8   729.956467  731.690267  729.075000  732.476567  732.160167  728.579133   \n",
      "7   720.596533  717.014033  720.265167  721.179033  722.140600  718.498733   \n",
      "6   702.689367  704.966000  706.626000  704.748233  704.622767  701.180133   \n",
      "5   689.890667  687.784400  686.179433  681.387233  351.740667  350.329433   \n",
      "4   666.880300  669.387933  667.090400  664.898567  330.810567  328.805800   \n",
      "3   327.578400  324.940033  325.044300  326.605767  320.433933  316.942600   \n",
      "2   668.190433  666.299400  664.494500  330.880267  327.974767  327.230867   \n",
      "1   694.239867  687.681200  681.103600  680.670400  680.848533  675.766867   \n",
      "0   714.675833  711.183500  714.889300  708.400500  707.713700  706.633333   \n",
      "\n",
      "            12          13          14          15          16          17  \\\n",
      "19  706.175833  707.180167  707.157300  712.048733  711.981600  712.040900   \n",
      "18  730.764033  731.337400  730.642267  731.579567  732.021133  734.080200   \n",
      "17  744.146933  744.611200  744.521800  750.407100  744.508967  744.732367   \n",
      "16  751.809200  752.194033  751.928133  751.819000  752.302333  750.826333   \n",
      "15  755.611933  752.418633  753.354900  753.825367  754.609733  753.545500   \n",
      "14  755.459067  753.681333  752.879167  753.613000  754.177467  754.335200   \n",
      "13  752.477633  752.804200  752.309033  752.380667  752.349700  753.632500   \n",
      "12  751.937000  751.482567  751.690500  751.212533  750.968867  751.490867   \n",
      "11  745.877267  749.956467  746.414533  748.219567  747.418833  750.582933   \n",
      "10  743.980700  744.447867  744.451467  743.770867  744.250100  743.863700   \n",
      "9   738.769033  740.103767  739.964800  740.716233  740.526967  739.124967   \n",
      "8   731.160033  732.168800  732.826267  732.408633  729.162133  728.532900   \n",
      "7   720.710100  723.232600  719.786533  722.325033  721.168400  720.971133   \n",
      "6   701.214467  701.417100  705.849133  704.621900  703.753500  707.717633   \n",
      "5   352.463567  354.728900  349.988367  351.652033  352.812367  356.005000   \n",
      "4   326.716367  332.401600  657.308800  327.399467  332.307633  332.213533   \n",
      "3   315.542133  321.294167  316.153100  317.716767  319.481167  319.000733   \n",
      "2   322.115700  326.696033  325.644433  328.398267  334.000367  333.711533   \n",
      "1   678.285333  675.390400  680.057467  683.956267  684.276000  692.499100   \n",
      "0   707.710367  708.147867  708.910233  712.326833  712.278500  711.902933   \n",
      "\n",
      "            18          19  \n",
      "19  715.376667  717.643300  \n",
      "18  732.649500  733.783533  \n",
      "17  744.968867  745.995367  \n",
      "16  752.177467  749.564300  \n",
      "15  752.481233  754.267833  \n",
      "14  753.339100  753.756800  \n",
      "13  752.515900  752.555833  \n",
      "12  750.258367  751.863267  \n",
      "11  748.909267  747.531667  \n",
      "10  743.856633  743.706133  \n",
      "9   740.541067  740.049867  \n",
      "8   730.285833  731.056367  \n",
      "7   720.315467  720.296133  \n",
      "6   704.827100  705.745667  \n",
      "5   358.585133  685.921833  \n",
      "4   335.268367  665.815167  \n",
      "3   318.638567  324.686667  \n",
      "2   648.111033  627.050300  \n",
      "1   697.486433  704.735667  \n",
      "0   715.283367  718.631267  \n",
      "\n"
     ]
    },
    {
     "data": {
      "image/png": "[encoded data removed]",
      "text/plain": [
       "<Figure size 1170x827 with 2 Axes>"
      ]
     },
     "metadata": {},
     "output_type": "display_data"
    }
   ],
   "source": [
    "# Plot\n",
    "print(reversed_df)\n",
    "ax = sns.heatmap(reversed_df)\n",
    "ax.set_yticks([])\n",
    "ax.set_xticks([])\n",
    "ax.set_ylabel('')  \n",
    "ax.set_xlabel('')  \n",
    "print('')"
   ]
  },
  {
   "cell_type": "markdown",
   "metadata": {},
   "source": [
    "<a id='step4'></a>"
   ]
  },
  {
   "cell_type": "markdown",
   "metadata": {},
   "source": [
    "## 4. Adding different Albedo Sections\n",
    "Add a surface (just like we added the pillars) with a specific reflectivity to represent different albedo sections. In the image, we can see that the albedo between the crops is different than the crop albedo. Let's assume that the abledo between the crops is higher than the crop's albedo which wa previuosly set a 0.2.\n",
    "\n"
   ]
  },
  {
   "cell_type": "code",
   "execution_count": 18,
   "metadata": {},
   "outputs": [
    {
     "name": "stdout",
     "output_type": "stream",
     "text": [
      "\n",
      "Custom Object Name objects\\Center_Grass.rad\n",
      "Created tutorial_11.oct\n"
     ]
    }
   ],
   "source": [
    "name='Center_Grass'\n",
    "carpositionx=-2\n",
    "carpositiony=-1\n",
    "text='! genbox white_EPDM CenterPatch 28 12 0.1 | xform -t -14 2 0'.format(carpositionx, carpositiony)\n",
    "customObject = demo.makeCustomObject(name,text)\n",
    "demo.appendtoScene(scene.radfiles, customObject, '!xform -rz 0')\n",
    "\n",
    "octfile = demo.makeOct(demo.getfilelist()) \n"
   ]
  },
  {
   "cell_type": "markdown",
   "metadata": {},
   "source": [
    "Viewing with rvu:\n",
    "\n",
    "![AgriPV modeled step 4](../images_wiki/AdvancedJournals/AgriPV_step4.PNG)\n",
    "\n"
   ]
  }
 ],
 "metadata": {
  "kernelspec": {
   "display_name": "Python 3 (ipykernel)",
   "language": "python",
   "name": "python3"
  },
  "language_info": {
   "codemirror_mode": {
    "name": "ipython",
    "version": 3
   },
   "file_extension": ".py",
   "mimetype": "text/x-python",
   "name": "python",
   "nbconvert_exporter": "python",
   "pygments_lexer": "ipython3",
   "version": "3.11.7"
  }
 },
 "nbformat": 4,
 "nbformat_minor": 4
}
