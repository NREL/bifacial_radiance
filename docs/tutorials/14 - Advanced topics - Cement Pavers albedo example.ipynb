{
 "cells": [
  {
   "cell_type": "markdown",
   "metadata": {},
   "source": [
    "# 14 - Advanced topics - Cement Pavers albedo example\n",
    "\n",
    "This journal creates a paver underneath the single-axis trackers, and evaluates the improvement for one day -- June 17th with and without the pavers for a location in Davis, CA.\n",
    "\n",
    "![Paver](../images_wiki/AdvancedJournals/Pavers.PNG)\n"
   ]
  },
  {
   "cell_type": "markdown",
   "metadata": {},
   "source": [
    "Measurements:\n",
    "![Paver](../images_wiki/AdvancedJournals/Pavers_Geometry.PNG)"
   ]
  },
  {
   "cell_type": "code",
   "execution_count": 1,
   "metadata": {},
   "outputs": [
    {
     "name": "stdout",
     "output_type": "stream",
     "text": [
      "Your simulation will be stored in C:\\Users\\sayala\\Documents\\GitHub\\bifacial_radiance\\bifacial_radiance\\TEMP\\Tutorial_14\n"
     ]
    }
   ],
   "source": [
    "import os\n",
    "from pathlib import Path\n",
    "import pandas as pd\n",
    "\n",
    "testfolder = str(Path().resolve().parent.parent / 'bifacial_radiance' / 'TEMP' / 'Tutorial_14')\n",
    "if not os.path.exists(testfolder):\n",
    "    os.makedirs(testfolder)\n",
    "    \n",
    "print (\"Your simulation will be stored in %s\" % testfolder)"
   ]
  },
  {
   "cell_type": "code",
   "execution_count": 2,
   "metadata": {},
   "outputs": [],
   "source": [
    "from bifacial_radiance import *   \n",
    "import numpy as np"
   ]
  },
  {
   "cell_type": "code",
   "execution_count": 3,
   "metadata": {},
   "outputs": [
    {
     "name": "stdout",
     "output_type": "stream",
     "text": [
      "path = C:\\Users\\sayala\\Documents\\GitHub\\bifacial_radiance\\bifacial_radiance\\TEMP\\Tutorial_14\n",
      "Loading albedo, 1 value(s), 0.200 avg\n",
      "1 nonzero albedo values.\n",
      "Getting weather file: USA_CA_Sacramento.Metro.AP.724839_TMY3.epw\n",
      " ... OK!\n",
      "8760 line in WeatherFile. Assuming this is a standard hourly WeatherFile for the year for purposes of saving Gencumulativesky temporary weather files in EPW folder.\n",
      "Coercing year to 2021\n",
      "Saving file EPWs\\metdata_temp.csv, # points: 8760\n",
      "Calculating Sun position for Metdata that is right-labeled  with a delta of -30 mins. i.e. 12 is 11:30 sunpos\n",
      "\n",
      "Module Name: test-module\n",
      "Module test-module updated in module.json\n",
      "Pre-existing .rad file objects\\test-module.rad will be overwritten\n",
      "\n",
      "Module was shifted by 0.078 in X to avoid sensors on air\n",
      "This is a Cell-Level detailed module with Packaging Factor of 0.85 %\n",
      "Module test-module updated in module.json\n",
      "Pre-existing .rad file objects\\test-module.rad will be overwritten\n",
      "\n"
     ]
    }
   ],
   "source": [
    "simulationname = 'tutorial_14'\n",
    "\n",
    "#Location:\n",
    "lat = 38.5449 # Davis, CA\n",
    "lon = -121.7405 # Davis, CA\n",
    "# MakeModule Parameters\n",
    "moduletype='test-module'\n",
    "numpanels = 1  # AgriPV site has 3 modules along the y direction (N-S since we are facing it to the south) .\n",
    "x = 0.95  \n",
    "y = 1.838\n",
    "xgap = 0.02# Leaving 2 centimeters between modules on x direction\n",
    "ygap = 0.0 # 1 - up \n",
    "zgap = 0.06 # gap between modules and torquetube.\n",
    "\n",
    "# Other default values:\n",
    "\n",
    "# TorqueTube Parameters\n",
    "axisofrotationTorqueTube=True\n",
    "torqueTube = False\n",
    "cellLevelModule = True\n",
    "\n",
    "numcellsx = 6\n",
    "numcellsy = 10\n",
    "xcell = 0.156\n",
    "ycell = 0.158\n",
    "xcellgap = 0.015\n",
    "ycellgap = 0.015\n",
    "\n",
    "sensorsy = numcellsy   # one sensor per cell\n",
    "\n",
    "cellLevelModuleParams = {'numcellsx': numcellsx, 'numcellsy':numcellsy, \n",
    "                         'xcell': xcell, 'ycell': ycell, 'xcellgap': xcellgap, 'ycellgap': ycellgap}\n",
    "\n",
    "# SceneDict Parameters\n",
    "gcr = 0.33 # m\n",
    "albedo = 0.2  #'grass'     # ground albedo\n",
    "hub_height = 1.237 # m  \n",
    "nMods = 20 # six modules per row.\n",
    "nRows = 3  # 3 row\n",
    "\n",
    "azimuth_ang = 90 # Facing east \n",
    "\n",
    "\n",
    "demo = RadianceObj(simulationname,path = testfolder)  # Create a RadianceObj 'object'\n",
    "demo.setGround(albedo) #\n",
    "epwfile = demo.getEPW(lat, lon) \n",
    "metdata = demo.readWeatherFile(epwfile, coerce_year=2021) # read in the EPW weather data from above\n",
    "mymodule=demo.makeModule(name=moduletype,x=x,y=y,numpanels = numpanels, xgap=xgap, ygap=ygap)\n",
    "mymodule.addCellModule(numcellsx=numcellsx, numcellsy=numcellsy,\n",
    "                       xcell=xcell, ycell=ycell, xcellgap=xcellgap, ycellgap=ycellgap)\n"
   ]
  },
  {
   "cell_type": "code",
   "execution_count": 4,
   "metadata": {},
   "outputs": [
    {
     "name": "stdout",
     "output_type": "stream",
     "text": [
      "Material exists, overwriting...\n",
      "\n",
      "Added material sw_chantillywhite to file ground.rad\n"
     ]
    }
   ],
   "source": [
    "description = 'Sherman Williams \"Chantilly White\" acrylic paint'\n",
    "materialpav = 'sw_chantillywhite'\n",
    "Rrefl = 0.5\n",
    "Grefl = 0.5 \n",
    "Brefl = 0.5\n",
    "demo.addMaterial(material=materialpav, Rrefl=Rrefl, Grefl=Grefl, Brefl=Brefl, comment=description)"
   ]
  },
  {
   "cell_type": "markdown",
   "metadata": {},
   "source": [
    "### Simulation without Pavers"
   ]
  },
  {
   "cell_type": "code",
   "execution_count": 5,
   "metadata": {},
   "outputs": [
    {
     "name": "stdout",
     "output_type": "stream",
     "text": [
      "Created tutorial_14.oct\n"
     ]
    }
   ],
   "source": [
    "timeindex = metdata.datetime.index(pd.to_datetime('2021-06-17 12:0:0 -8'))  # Davis, CA is TZ -8\n",
    "demo.gendaylit(timeindex)  \n",
    "    \n",
    "tilt = demo.getSingleTimestampTrackerAngle(metdata, timeindex=timeindex, gcr=gcr, \n",
    "                                   azimuth=180, axis_tilt=0, \n",
    "                                   limit_angle=60, backtrack=True)\n",
    "# create a scene with all the variables\n",
    "sceneDict = {'tilt':tilt,'gcr': gcr,'hub_height':hub_height,'azimuth':azimuth_ang, 'module_type':moduletype, 'nMods': nMods, 'nRows': nRows}  \n",
    "scene = demo.makeScene(module=mymodule, sceneDict=sceneDict) #makeScene creates a .rad file with 20 modules per row, 7 rows.\n",
    "octfile = demo.makeOct(demo.getfilelist())  # makeOct combines all of the ground, sky and object fil|es into a .oct file."
   ]
  },
  {
   "cell_type": "code",
   "execution_count": 6,
   "metadata": {},
   "outputs": [
    {
     "name": "stdout",
     "output_type": "stream",
     "text": [
      "Linescan in process: tutorial_14_noPavers_Front\n",
      "Linescan in process: tutorial_14_noPavers_Back\n",
      "Saved: results\\irr_tutorial_14_noPavers.csv\n",
      "Simulation without Pavers Finished\n"
     ]
    }
   ],
   "source": [
    "analysis = AnalysisObj(octfile, demo.name)  # return an analysis object including the scan dimensions for back irradiance\n",
    "frontscan, backscan = analysis.moduleAnalysis(scene, sensorsy=sensorsy)\n",
    "analysis.analysis(octfile, simulationname+\"_noPavers\", frontscan, backscan)  # compare the back vs front irradiance  \n",
    "print(\"Simulation without Pavers Finished\")"
   ]
  },
  {
   "cell_type": "markdown",
   "metadata": {},
   "source": [
    "## Looping on the day"
   ]
  },
  {
   "cell_type": "code",
   "execution_count": 7,
   "metadata": {},
   "outputs": [
    {
     "name": "stdout",
     "output_type": "stream",
     "text": [
      "Created tutorial_14.oct\n",
      "Linescan in process: tutorial_14_noPavers_1_Front\n",
      "Linescan in process: tutorial_14_noPavers_1_Back\n",
      "Saved: results\\irr_tutorial_14_noPavers_1.csv\n",
      "Created tutorial_14.oct\n",
      "Linescan in process: tutorial_14_noPavers_2_Front\n",
      "Linescan in process: tutorial_14_noPavers_2_Back\n",
      "Saved: results\\irr_tutorial_14_noPavers_2.csv\n",
      "Created tutorial_14.oct\n",
      "Linescan in process: tutorial_14_noPavers_3_Front\n",
      "Linescan in process: tutorial_14_noPavers_3_Back\n",
      "Saved: results\\irr_tutorial_14_noPavers_3.csv\n",
      "Created tutorial_14.oct\n",
      "Linescan in process: tutorial_14_noPavers_4_Front\n",
      "Linescan in process: tutorial_14_noPavers_4_Back\n",
      "Saved: results\\irr_tutorial_14_noPavers_4.csv\n",
      "Created tutorial_14.oct\n",
      "Linescan in process: tutorial_14_noPavers_5_Front\n",
      "Linescan in process: tutorial_14_noPavers_5_Back\n",
      "Saved: results\\irr_tutorial_14_noPavers_5.csv\n",
      "Created tutorial_14.oct\n",
      "Linescan in process: tutorial_14_noPavers_6_Front\n",
      "Linescan in process: tutorial_14_noPavers_6_Back\n",
      "Saved: results\\irr_tutorial_14_noPavers_6.csv\n",
      "Created tutorial_14.oct\n",
      "Linescan in process: tutorial_14_noPavers_7_Front\n",
      "Linescan in process: tutorial_14_noPavers_7_Back\n",
      "Saved: results\\irr_tutorial_14_noPavers_7.csv\n",
      "Created tutorial_14.oct\n",
      "Linescan in process: tutorial_14_noPavers_8_Front\n",
      "Linescan in process: tutorial_14_noPavers_8_Back\n",
      "Saved: results\\irr_tutorial_14_noPavers_8.csv\n",
      "Created tutorial_14.oct\n",
      "Linescan in process: tutorial_14_noPavers_9_Front\n",
      "Linescan in process: tutorial_14_noPavers_9_Back\n",
      "Saved: results\\irr_tutorial_14_noPavers_9.csv\n",
      "Created tutorial_14.oct\n",
      "Linescan in process: tutorial_14_noPavers_10_Front\n",
      "Linescan in process: tutorial_14_noPavers_10_Back\n",
      "Saved: results\\irr_tutorial_14_noPavers_10.csv\n",
      "Created tutorial_14.oct\n",
      "Linescan in process: tutorial_14_noPavers_11_Front\n",
      "Linescan in process: tutorial_14_noPavers_11_Back\n",
      "Saved: results\\irr_tutorial_14_noPavers_11.csv\n",
      "Created tutorial_14.oct\n",
      "Linescan in process: tutorial_14_noPavers_12_Front\n",
      "Linescan in process: tutorial_14_noPavers_12_Back\n",
      "Saved: results\\irr_tutorial_14_noPavers_12.csv\n"
     ]
    }
   ],
   "source": [
    "j=0\n",
    "starttimeindex = metdata.datetime.index(pd.to_datetime('2021-06-17 7:0:0 -8'))\n",
    "endtimeindex = metdata.datetime.index(pd.to_datetime('2021-06-17 19:0:0 -8'))\n",
    "for timess in range (starttimeindex, endtimeindex):\n",
    "    j+=1\n",
    "    demo.gendaylit(timess)\n",
    "    tilt = demo.getSingleTimestampTrackerAngle(metdata, timeindex=timess, gcr=gcr, \n",
    "                                       azimuth=180, axis_tilt=0, \n",
    "                                       limit_angle=60, backtrack=True)\n",
    "    # create a scene with all the variables\n",
    "    sceneDict = {'tilt':tilt,'gcr': gcr,'hub_height':hub_height,'azimuth':azimuth_ang, 'module_type':moduletype, 'nMods': nMods, 'nRows': nRows}  \n",
    "    scene = demo.makeScene(module=mymodule, sceneDict=sceneDict) #makeScene creates a .rad file with 20 modules per row, 7 rows.\n",
    "    octfile = demo.makeOct(demo.getfilelist())  # makeOct combines all of the ground, sky and object fil|es into a .oct file\n",
    "    frontscan, backscan = analysis.moduleAnalysis(scene, sensorsy=sensorsy)\n",
    "    analysis.analysis(octfile, simulationname+\"_noPavers_\"+str(j), frontscan, backscan)  # compare the back vs front irradiance  \n",
    "    "
   ]
  },
  {
   "cell_type": "markdown",
   "metadata": {},
   "source": [
    "### Simulation With Pavers"
   ]
  },
  {
   "cell_type": "code",
   "execution_count": 8,
   "metadata": {},
   "outputs": [],
   "source": [
    "demo.gendaylit(timeindex)\n",
    "tilt = demo.getSingleTimestampTrackerAngle(metdata, timeindex=timeindex, gcr=gcr, \n",
    "                                   azimuth=180, axis_tilt=0, \n",
    "                                   limit_angle=60, backtrack=True)\n",
    "# create a scene with all the variables\n",
    "sceneDict = {'tilt':tilt,'gcr': gcr,'hub_height':hub_height,'azimuth':azimuth_ang, 'module_type':moduletype, 'nMods': nMods, 'nRows': nRows}  \n",
    "scene = demo.makeScene(module=mymodule, sceneDict=sceneDict) #makeScene creates a .rad file with 20 modules per row, 7 rows."
   ]
  },
  {
   "cell_type": "code",
   "execution_count": 9,
   "metadata": {},
   "outputs": [
    {
     "name": "stdout",
     "output_type": "stream",
     "text": [
      "\n",
      "Custom Object Name objects\\PAVER0.rad\n",
      "\n",
      "Custom Object Name objects\\PAVER1.rad\n",
      "\n",
      "Custom Object Name objects\\PAVER2.rad\n"
     ]
    }
   ],
   "source": [
    "torquetubelength = demo.module.scenex*(nMods) \n",
    "pitch = demo.module.sceney/gcr\n",
    "startpitch = -pitch * (nRows-1)/2\n",
    "p_w = 0.947 # m\n",
    "p_h = 0.092 # m\n",
    "p_w2 = 0.187 # m\n",
    "p_h2 = 0.184 # m\n",
    "offset_w1y = -(p_w/2)+(p_w2/2)\n",
    "offset_w2y = (p_w/2)-(p_w2/2)\n",
    "\n",
    "customObjects = []\n",
    "for i in range (0, nRows):    \n",
    "    name='PAVER'+str(i)\n",
    "    text='! genbox {} paver{} {} {} {} | xform -t {} {} 0 | xform -t {} 0 0'.format(materialpav, i, \n",
    "                                    p_w, torquetubelength, p_h, \n",
    "                                    -p_w/2, (-torquetubelength+demo.module.sceney)/2.0,\n",
    "                                    startpitch+pitch*i)\n",
    "    text += '\\r\\n! genbox {} paverS1{} {} {} {} | xform -t {} {} 0 | xform -t {} 0 0'.format(materialpav, i,\n",
    "                                    p_w2, torquetubelength, p_h2, \n",
    "                                    -p_w2/2+offset_w1y, (-torquetubelength+demo.module.sceney)/2.0,\n",
    "                                    startpitch+pitch*i)\n",
    "    text += '\\r\\n! genbox {} paverS2{} {} {} {} | xform -t {} {} 0 | xform -t {} 0 0'.format(materialpav, i,\n",
    "                                    p_w2, torquetubelength, p_h2, \n",
    "                                    -p_w2/2+offset_w2y, (-torquetubelength+demo.module.sceney)/2.0,\n",
    "                                    startpitch+pitch*i)\n",
    "\n",
    "    customObject = demo.makeCustomObject(name,text)\n",
    "    customObjects.append(customObject)\n",
    "    demo.appendtoScene(radfile=scene.radfiles, customObject=customObject, text=\"!xform -rz 0\")"
   ]
  },
  {
   "cell_type": "code",
   "execution_count": 10,
   "metadata": {},
   "outputs": [
    {
     "name": "stdout",
     "output_type": "stream",
     "text": [
      "Created tutorial_14.oct\n"
     ]
    },
    {
     "data": {
      "text/plain": [
       "'tutorial_14.oct'"
      ]
     },
     "execution_count": 10,
     "metadata": {},
     "output_type": "execute_result"
    }
   ],
   "source": [
    "demo.makeOct()"
   ]
  },
  {
   "cell_type": "markdown",
   "metadata": {},
   "source": [
    "You can view the geometry generated in the terminal with:\n",
    "\n",
    "### rvu -vf views\\front.vp -e .01 -pe 0.01 -vp -5 -14 1 -vd 0 0.9946 -0.1040 tutorial_14.oct"
   ]
  },
  {
   "cell_type": "code",
   "execution_count": 11,
   "metadata": {},
   "outputs": [],
   "source": [
    "\n",
    "## Comment the ! line below to run rvu from the Jupyter notebook instead of your terminal.\n",
    "## Simulation will stop until you close the rvu window\n",
    "\n",
    "#!rvu -vf views\\front.vp -e .01 -pe 0.01 -vp -5 -14 1 -vd 0 0.9946 -0.1040 tutorial_14.oct\n"
   ]
  },
  {
   "cell_type": "code",
   "execution_count": 12,
   "metadata": {},
   "outputs": [
    {
     "name": "stdout",
     "output_type": "stream",
     "text": [
      "Linescan in process: tutorial_14_WITHPavers_Front\n",
      "Linescan in process: tutorial_14_WITHPavers_Back\n",
      "Saved: results\\irr_tutorial_14_WITHPavers.csv\n",
      "Simulation WITH Pavers Finished\n"
     ]
    }
   ],
   "source": [
    "analysis = AnalysisObj(octfile, demo.name)  # return an analysis object including the scan dimensions for back irradiance\n",
    "frontscan, backscan = analysis.moduleAnalysis(scene, sensorsy=sensorsy)\n",
    "analysis.analysis(octfile, simulationname+\"_WITHPavers\", frontscan, backscan)  # compare the back vs front irradiance  \n",
    "print(\"Simulation WITH Pavers Finished\")\n"
   ]
  },
  {
   "cell_type": "markdown",
   "metadata": {},
   "source": [
    "## LOOP WITH PAVERS"
   ]
  },
  {
   "cell_type": "code",
   "execution_count": 13,
   "metadata": {},
   "outputs": [
    {
     "name": "stdout",
     "output_type": "stream",
     "text": [
      "Created tutorial_14.oct\n",
      "Linescan in process: tutorial_14_WITHPavers_1_Front\n",
      "Linescan in process: tutorial_14_WITHPavers_1_Back\n",
      "Saved: results\\irr_tutorial_14_WITHPavers_1.csv\n",
      "Created tutorial_14.oct\n",
      "Linescan in process: tutorial_14_WITHPavers_2_Front\n",
      "Linescan in process: tutorial_14_WITHPavers_2_Back\n",
      "Saved: results\\irr_tutorial_14_WITHPavers_2.csv\n",
      "Created tutorial_14.oct\n",
      "Linescan in process: tutorial_14_WITHPavers_3_Front\n",
      "Linescan in process: tutorial_14_WITHPavers_3_Back\n",
      "Saved: results\\irr_tutorial_14_WITHPavers_3.csv\n",
      "Created tutorial_14.oct\n",
      "Linescan in process: tutorial_14_WITHPavers_4_Front\n",
      "Linescan in process: tutorial_14_WITHPavers_4_Back\n",
      "Saved: results\\irr_tutorial_14_WITHPavers_4.csv\n",
      "Created tutorial_14.oct\n",
      "Linescan in process: tutorial_14_WITHPavers_5_Front\n",
      "Linescan in process: tutorial_14_WITHPavers_5_Back\n",
      "Saved: results\\irr_tutorial_14_WITHPavers_5.csv\n",
      "Created tutorial_14.oct\n",
      "Linescan in process: tutorial_14_WITHPavers_6_Front\n",
      "Linescan in process: tutorial_14_WITHPavers_6_Back\n",
      "Saved: results\\irr_tutorial_14_WITHPavers_6.csv\n",
      "Created tutorial_14.oct\n",
      "Linescan in process: tutorial_14_WITHPavers_7_Front\n",
      "Linescan in process: tutorial_14_WITHPavers_7_Back\n",
      "Saved: results\\irr_tutorial_14_WITHPavers_7.csv\n",
      "Created tutorial_14.oct\n",
      "Linescan in process: tutorial_14_WITHPavers_8_Front\n",
      "Linescan in process: tutorial_14_WITHPavers_8_Back\n",
      "Saved: results\\irr_tutorial_14_WITHPavers_8.csv\n",
      "Created tutorial_14.oct\n",
      "Linescan in process: tutorial_14_WITHPavers_9_Front\n",
      "Linescan in process: tutorial_14_WITHPavers_9_Back\n",
      "Saved: results\\irr_tutorial_14_WITHPavers_9.csv\n",
      "Created tutorial_14.oct\n",
      "Linescan in process: tutorial_14_WITHPavers_10_Front\n",
      "Linescan in process: tutorial_14_WITHPavers_10_Back\n",
      "Saved: results\\irr_tutorial_14_WITHPavers_10.csv\n",
      "Created tutorial_14.oct\n",
      "Linescan in process: tutorial_14_WITHPavers_11_Front\n",
      "Linescan in process: tutorial_14_WITHPavers_11_Back\n",
      "Saved: results\\irr_tutorial_14_WITHPavers_11.csv\n",
      "Created tutorial_14.oct\n",
      "Linescan in process: tutorial_14_WITHPavers_12_Front\n",
      "Linescan in process: tutorial_14_WITHPavers_12_Back\n",
      "Saved: results\\irr_tutorial_14_WITHPavers_12.csv\n"
     ]
    }
   ],
   "source": [
    "j=0\n",
    "for timess in range (starttimeindex, endtimeindex):\n",
    "    j+=1\n",
    "    demo.gendaylit(timess)\n",
    "    tilt = demo.getSingleTimestampTrackerAngle(metdata, timeindex=timess, gcr=gcr, \n",
    "                                       azimuth=180, axis_tilt=0, \n",
    "                                       limit_angle=60, backtrack=True)\n",
    "    # create a scene with all the variables\n",
    "    sceneDict = {'tilt':tilt,'gcr': gcr,'hub_height':hub_height,'azimuth':azimuth_ang, 'module_type':moduletype, 'nMods': nMods, 'nRows': nRows}  \n",
    "    scene = demo.makeScene(mymodule, sceneDict=sceneDict) #makeScene creates a .rad file with 20 modules per row, 7 rows.\n",
    "    # Appending Pavers here\n",
    "    demo.appendtoScene(radfile=scene.radfiles, customObject=customObjects[0], text=\"!xform -rz 0\")\n",
    "    demo.appendtoScene(radfile=scene.radfiles, customObject=customObjects[1], text=\"!xform -rz 0\")\n",
    "    demo.appendtoScene(radfile=scene.radfiles, customObject=customObjects[2], text=\"!xform -rz 0\")\n",
    "    octfile = demo.makeOct(demo.getfilelist())  # makeOct combines all of the ground, sky and object fil|es into a .oct file\n",
    "    frontscan, backscan = analysis.moduleAnalysis(scene, sensorsy=sensorsy)\n",
    "    analysis.analysis(octfile, simulationname+\"_WITHPavers_\"+str(j), frontscan, backscan)  # compare the back vs front irradiance  \n",
    "    "
   ]
  },
  {
   "cell_type": "markdown",
   "metadata": {},
   "source": [
    "# RESULTS ANALYSIS NOON"
   ]
  },
  {
   "cell_type": "code",
   "execution_count": 14,
   "metadata": {},
   "outputs": [],
   "source": [
    "df_0 = load.read1Result(os.path.join(testfolder, 'results', 'irr_tutorial_14_noPavers.csv'))\n",
    "df_w = load.read1Result(os.path.join(testfolder, 'results', 'irr_tutorial_14_WITHPavers.csv'))                        "
   ]
  },
  {
   "cell_type": "code",
   "execution_count": 15,
   "metadata": {},
   "outputs": [
    {
     "data": {
      "text/html": [
       "<div>\n",
       "<style scoped>\n",
       "    .dataframe tbody tr th:only-of-type {\n",
       "        vertical-align: middle;\n",
       "    }\n",
       "\n",
       "    .dataframe tbody tr th {\n",
       "        vertical-align: top;\n",
       "    }\n",
       "\n",
       "    .dataframe thead th {\n",
       "        text-align: right;\n",
       "    }\n",
       "</style>\n",
       "<table border=\"1\" class=\"dataframe\">\n",
       "  <thead>\n",
       "    <tr style=\"text-align: right;\">\n",
       "      <th></th>\n",
       "      <th>x</th>\n",
       "      <th>y</th>\n",
       "      <th>z</th>\n",
       "      <th>rearZ</th>\n",
       "      <th>mattype</th>\n",
       "      <th>rearMat</th>\n",
       "      <th>Wm2Front</th>\n",
       "      <th>Wm2Back</th>\n",
       "      <th>Back/FrontRatio</th>\n",
       "    </tr>\n",
       "  </thead>\n",
       "  <tbody>\n",
       "    <tr>\n",
       "      <th>0</th>\n",
       "      <td>0.772445</td>\n",
       "      <td>4.729862e-17</td>\n",
       "      <td>1.137844</td>\n",
       "      <td>1.116107</td>\n",
       "      <td>a9.1.a2.0.0.cellPVmodule.6457</td>\n",
       "      <td>a9.1.a2.0.0.cellPVmodule.2310</td>\n",
       "      <td>944.8593</td>\n",
       "      <td>116.66480</td>\n",
       "      <td>0.123473</td>\n",
       "    </tr>\n",
       "    <tr>\n",
       "      <th>1</th>\n",
       "      <td>0.601509</td>\n",
       "      <td>3.683183e-17</td>\n",
       "      <td>1.164490</td>\n",
       "      <td>1.142752</td>\n",
       "      <td>a9.1.a2.1.0.cellPVmodule.6457</td>\n",
       "      <td>a9.1.a2.1.0.cellPVmodule.2310</td>\n",
       "      <td>944.9186</td>\n",
       "      <td>108.86900</td>\n",
       "      <td>0.115215</td>\n",
       "    </tr>\n",
       "    <tr>\n",
       "      <th>2</th>\n",
       "      <td>0.430574</td>\n",
       "      <td>2.636503e-17</td>\n",
       "      <td>1.191136</td>\n",
       "      <td>1.169398</td>\n",
       "      <td>a9.1.a2.2.0.cellPVmodule.6457</td>\n",
       "      <td>a9.1.a2.2.0.cellPVmodule.2310</td>\n",
       "      <td>944.9760</td>\n",
       "      <td>101.76430</td>\n",
       "      <td>0.107690</td>\n",
       "    </tr>\n",
       "    <tr>\n",
       "      <th>3</th>\n",
       "      <td>0.259638</td>\n",
       "      <td>1.589824e-17</td>\n",
       "      <td>1.217781</td>\n",
       "      <td>1.196044</td>\n",
       "      <td>a9.1.a2.3.0.cellPVmodule.6457</td>\n",
       "      <td>a9.1.a2.3.0.cellPVmodule.2310</td>\n",
       "      <td>945.0333</td>\n",
       "      <td>97.60841</td>\n",
       "      <td>0.103286</td>\n",
       "    </tr>\n",
       "    <tr>\n",
       "      <th>4</th>\n",
       "      <td>0.088702</td>\n",
       "      <td>5.431448e-18</td>\n",
       "      <td>1.244427</td>\n",
       "      <td>1.222689</td>\n",
       "      <td>a9.1.a2.4.0.cellPVmodule.6457</td>\n",
       "      <td>a9.1.a2.4.0.cellPVmodule.2310</td>\n",
       "      <td>945.0907</td>\n",
       "      <td>96.65984</td>\n",
       "      <td>0.102276</td>\n",
       "    </tr>\n",
       "    <tr>\n",
       "      <th>5</th>\n",
       "      <td>-0.082233</td>\n",
       "      <td>-5.035345e-18</td>\n",
       "      <td>1.271072</td>\n",
       "      <td>1.249335</td>\n",
       "      <td>a9.1.a2.5.0.cellPVmodule.6457</td>\n",
       "      <td>a9.1.a2.5.0.cellPVmodule.2310</td>\n",
       "      <td>945.1480</td>\n",
       "      <td>95.05819</td>\n",
       "      <td>0.100575</td>\n",
       "    </tr>\n",
       "    <tr>\n",
       "      <th>6</th>\n",
       "      <td>-0.253169</td>\n",
       "      <td>-1.550214e-17</td>\n",
       "      <td>1.297718</td>\n",
       "      <td>1.275980</td>\n",
       "      <td>a9.1.a2.6.0.cellPVmodule.6457</td>\n",
       "      <td>a9.1.a2.6.0.cellPVmodule.2310</td>\n",
       "      <td>945.2054</td>\n",
       "      <td>96.83778</td>\n",
       "      <td>0.102451</td>\n",
       "    </tr>\n",
       "    <tr>\n",
       "      <th>7</th>\n",
       "      <td>-0.424105</td>\n",
       "      <td>-2.596893e-17</td>\n",
       "      <td>1.324363</td>\n",
       "      <td>1.302626</td>\n",
       "      <td>a9.1.a2.7.0.cellPVmodule.6457</td>\n",
       "      <td>a9.1.a2.7.0.cellPVmodule.2310</td>\n",
       "      <td>945.2628</td>\n",
       "      <td>102.45900</td>\n",
       "      <td>0.108392</td>\n",
       "    </tr>\n",
       "    <tr>\n",
       "      <th>8</th>\n",
       "      <td>-0.595040</td>\n",
       "      <td>-3.643572e-17</td>\n",
       "      <td>1.351009</td>\n",
       "      <td>1.329271</td>\n",
       "      <td>a9.1.a2.8.0.cellPVmodule.6457</td>\n",
       "      <td>a9.1.a2.8.0.cellPVmodule.2310</td>\n",
       "      <td>946.0780</td>\n",
       "      <td>105.59260</td>\n",
       "      <td>0.111611</td>\n",
       "    </tr>\n",
       "    <tr>\n",
       "      <th>9</th>\n",
       "      <td>-0.765976</td>\n",
       "      <td>-4.690252e-17</td>\n",
       "      <td>1.377654</td>\n",
       "      <td>1.355917</td>\n",
       "      <td>a9.1.a2.9.0.cellPVmodule.6457</td>\n",
       "      <td>a9.1.a2.9.0.cellPVmodule.2310</td>\n",
       "      <td>946.0906</td>\n",
       "      <td>111.11640</td>\n",
       "      <td>0.117448</td>\n",
       "    </tr>\n",
       "  </tbody>\n",
       "</table>\n",
       "</div>"
      ],
      "text/plain": [
       "          x             y         z     rearZ                        mattype  \\\n",
       "0  0.772445  4.729862e-17  1.137844  1.116107  a9.1.a2.0.0.cellPVmodule.6457   \n",
       "1  0.601509  3.683183e-17  1.164490  1.142752  a9.1.a2.1.0.cellPVmodule.6457   \n",
       "2  0.430574  2.636503e-17  1.191136  1.169398  a9.1.a2.2.0.cellPVmodule.6457   \n",
       "3  0.259638  1.589824e-17  1.217781  1.196044  a9.1.a2.3.0.cellPVmodule.6457   \n",
       "4  0.088702  5.431448e-18  1.244427  1.222689  a9.1.a2.4.0.cellPVmodule.6457   \n",
       "5 -0.082233 -5.035345e-18  1.271072  1.249335  a9.1.a2.5.0.cellPVmodule.6457   \n",
       "6 -0.253169 -1.550214e-17  1.297718  1.275980  a9.1.a2.6.0.cellPVmodule.6457   \n",
       "7 -0.424105 -2.596893e-17  1.324363  1.302626  a9.1.a2.7.0.cellPVmodule.6457   \n",
       "8 -0.595040 -3.643572e-17  1.351009  1.329271  a9.1.a2.8.0.cellPVmodule.6457   \n",
       "9 -0.765976 -4.690252e-17  1.377654  1.355917  a9.1.a2.9.0.cellPVmodule.6457   \n",
       "\n",
       "                         rearMat  Wm2Front    Wm2Back  Back/FrontRatio  \n",
       "0  a9.1.a2.0.0.cellPVmodule.2310  944.8593  116.66480         0.123473  \n",
       "1  a9.1.a2.1.0.cellPVmodule.2310  944.9186  108.86900         0.115215  \n",
       "2  a9.1.a2.2.0.cellPVmodule.2310  944.9760  101.76430         0.107690  \n",
       "3  a9.1.a2.3.0.cellPVmodule.2310  945.0333   97.60841         0.103286  \n",
       "4  a9.1.a2.4.0.cellPVmodule.2310  945.0907   96.65984         0.102276  \n",
       "5  a9.1.a2.5.0.cellPVmodule.2310  945.1480   95.05819         0.100575  \n",
       "6  a9.1.a2.6.0.cellPVmodule.2310  945.2054   96.83778         0.102451  \n",
       "7  a9.1.a2.7.0.cellPVmodule.2310  945.2628  102.45900         0.108392  \n",
       "8  a9.1.a2.8.0.cellPVmodule.2310  946.0780  105.59260         0.111611  \n",
       "9  a9.1.a2.9.0.cellPVmodule.2310  946.0906  111.11640         0.117448  "
      ]
     },
     "execution_count": 15,
     "metadata": {},
     "output_type": "execute_result"
    }
   ],
   "source": [
    "df_0"
   ]
  },
  {
   "cell_type": "code",
   "execution_count": 16,
   "metadata": {},
   "outputs": [
    {
     "data": {
      "text/html": [
       "<div>\n",
       "<style scoped>\n",
       "    .dataframe tbody tr th:only-of-type {\n",
       "        vertical-align: middle;\n",
       "    }\n",
       "\n",
       "    .dataframe tbody tr th {\n",
       "        vertical-align: top;\n",
       "    }\n",
       "\n",
       "    .dataframe thead th {\n",
       "        text-align: right;\n",
       "    }\n",
       "</style>\n",
       "<table border=\"1\" class=\"dataframe\">\n",
       "  <thead>\n",
       "    <tr style=\"text-align: right;\">\n",
       "      <th></th>\n",
       "      <th>x</th>\n",
       "      <th>y</th>\n",
       "      <th>z</th>\n",
       "      <th>rearZ</th>\n",
       "      <th>mattype</th>\n",
       "      <th>rearMat</th>\n",
       "      <th>Wm2Front</th>\n",
       "      <th>Wm2Back</th>\n",
       "      <th>Back/FrontRatio</th>\n",
       "    </tr>\n",
       "  </thead>\n",
       "  <tbody>\n",
       "    <tr>\n",
       "      <th>0</th>\n",
       "      <td>0.772445</td>\n",
       "      <td>4.729862e-17</td>\n",
       "      <td>1.137844</td>\n",
       "      <td>1.116107</td>\n",
       "      <td>a9.1.a2.0.0.cellPVmodule.6457</td>\n",
       "      <td>a9.1.a2.0.0.cellPVmodule.2310</td>\n",
       "      <td>944.7910</td>\n",
       "      <td>127.7906</td>\n",
       "      <td>0.135258</td>\n",
       "    </tr>\n",
       "    <tr>\n",
       "      <th>1</th>\n",
       "      <td>0.601509</td>\n",
       "      <td>3.683183e-17</td>\n",
       "      <td>1.164490</td>\n",
       "      <td>1.142752</td>\n",
       "      <td>a9.1.a2.1.0.cellPVmodule.6457</td>\n",
       "      <td>a9.1.a2.1.0.cellPVmodule.2310</td>\n",
       "      <td>944.8566</td>\n",
       "      <td>121.8282</td>\n",
       "      <td>0.128938</td>\n",
       "    </tr>\n",
       "    <tr>\n",
       "      <th>2</th>\n",
       "      <td>0.430574</td>\n",
       "      <td>2.636503e-17</td>\n",
       "      <td>1.191136</td>\n",
       "      <td>1.169398</td>\n",
       "      <td>a9.1.a2.2.0.cellPVmodule.6457</td>\n",
       "      <td>a9.1.a2.2.0.cellPVmodule.2310</td>\n",
       "      <td>944.9208</td>\n",
       "      <td>115.7133</td>\n",
       "      <td>0.122458</td>\n",
       "    </tr>\n",
       "    <tr>\n",
       "      <th>3</th>\n",
       "      <td>0.259638</td>\n",
       "      <td>1.589824e-17</td>\n",
       "      <td>1.217781</td>\n",
       "      <td>1.196044</td>\n",
       "      <td>a9.1.a2.3.0.cellPVmodule.6457</td>\n",
       "      <td>a9.1.a2.3.0.cellPVmodule.2310</td>\n",
       "      <td>944.9850</td>\n",
       "      <td>111.3911</td>\n",
       "      <td>0.117876</td>\n",
       "    </tr>\n",
       "    <tr>\n",
       "      <th>4</th>\n",
       "      <td>0.088702</td>\n",
       "      <td>5.431448e-18</td>\n",
       "      <td>1.244427</td>\n",
       "      <td>1.222689</td>\n",
       "      <td>a9.1.a2.4.0.cellPVmodule.6457</td>\n",
       "      <td>a9.1.a2.4.0.cellPVmodule.2310</td>\n",
       "      <td>945.0492</td>\n",
       "      <td>105.4847</td>\n",
       "      <td>0.111618</td>\n",
       "    </tr>\n",
       "    <tr>\n",
       "      <th>5</th>\n",
       "      <td>-0.082233</td>\n",
       "      <td>-5.035345e-18</td>\n",
       "      <td>1.271072</td>\n",
       "      <td>1.249335</td>\n",
       "      <td>a9.1.a2.5.0.cellPVmodule.6457</td>\n",
       "      <td>a9.1.a2.5.0.cellPVmodule.2310</td>\n",
       "      <td>945.4636</td>\n",
       "      <td>109.0423</td>\n",
       "      <td>0.115332</td>\n",
       "    </tr>\n",
       "    <tr>\n",
       "      <th>6</th>\n",
       "      <td>-0.253169</td>\n",
       "      <td>-1.550214e-17</td>\n",
       "      <td>1.297718</td>\n",
       "      <td>1.275980</td>\n",
       "      <td>a9.1.a2.6.0.cellPVmodule.6457</td>\n",
       "      <td>a9.1.a2.6.0.cellPVmodule.2310</td>\n",
       "      <td>945.4807</td>\n",
       "      <td>109.1814</td>\n",
       "      <td>0.115477</td>\n",
       "    </tr>\n",
       "    <tr>\n",
       "      <th>7</th>\n",
       "      <td>-0.424105</td>\n",
       "      <td>-2.596893e-17</td>\n",
       "      <td>1.324363</td>\n",
       "      <td>1.302626</td>\n",
       "      <td>a9.1.a2.7.0.cellPVmodule.6457</td>\n",
       "      <td>a9.1.a2.7.0.cellPVmodule.2310</td>\n",
       "      <td>945.4962</td>\n",
       "      <td>110.7382</td>\n",
       "      <td>0.117122</td>\n",
       "    </tr>\n",
       "    <tr>\n",
       "      <th>8</th>\n",
       "      <td>-0.595040</td>\n",
       "      <td>-3.643572e-17</td>\n",
       "      <td>1.351009</td>\n",
       "      <td>1.329271</td>\n",
       "      <td>a9.1.a2.8.0.cellPVmodule.6457</td>\n",
       "      <td>a9.1.a2.8.0.cellPVmodule.2310</td>\n",
       "      <td>945.5118</td>\n",
       "      <td>114.4013</td>\n",
       "      <td>0.120994</td>\n",
       "    </tr>\n",
       "    <tr>\n",
       "      <th>9</th>\n",
       "      <td>-0.765976</td>\n",
       "      <td>-4.690252e-17</td>\n",
       "      <td>1.377654</td>\n",
       "      <td>1.355917</td>\n",
       "      <td>a9.1.a2.9.0.cellPVmodule.6457</td>\n",
       "      <td>a9.1.a2.9.0.cellPVmodule.2310</td>\n",
       "      <td>945.5274</td>\n",
       "      <td>118.3969</td>\n",
       "      <td>0.125218</td>\n",
       "    </tr>\n",
       "  </tbody>\n",
       "</table>\n",
       "</div>"
      ],
      "text/plain": [
       "          x             y         z     rearZ                        mattype  \\\n",
       "0  0.772445  4.729862e-17  1.137844  1.116107  a9.1.a2.0.0.cellPVmodule.6457   \n",
       "1  0.601509  3.683183e-17  1.164490  1.142752  a9.1.a2.1.0.cellPVmodule.6457   \n",
       "2  0.430574  2.636503e-17  1.191136  1.169398  a9.1.a2.2.0.cellPVmodule.6457   \n",
       "3  0.259638  1.589824e-17  1.217781  1.196044  a9.1.a2.3.0.cellPVmodule.6457   \n",
       "4  0.088702  5.431448e-18  1.244427  1.222689  a9.1.a2.4.0.cellPVmodule.6457   \n",
       "5 -0.082233 -5.035345e-18  1.271072  1.249335  a9.1.a2.5.0.cellPVmodule.6457   \n",
       "6 -0.253169 -1.550214e-17  1.297718  1.275980  a9.1.a2.6.0.cellPVmodule.6457   \n",
       "7 -0.424105 -2.596893e-17  1.324363  1.302626  a9.1.a2.7.0.cellPVmodule.6457   \n",
       "8 -0.595040 -3.643572e-17  1.351009  1.329271  a9.1.a2.8.0.cellPVmodule.6457   \n",
       "9 -0.765976 -4.690252e-17  1.377654  1.355917  a9.1.a2.9.0.cellPVmodule.6457   \n",
       "\n",
       "                         rearMat  Wm2Front   Wm2Back  Back/FrontRatio  \n",
       "0  a9.1.a2.0.0.cellPVmodule.2310  944.7910  127.7906         0.135258  \n",
       "1  a9.1.a2.1.0.cellPVmodule.2310  944.8566  121.8282         0.128938  \n",
       "2  a9.1.a2.2.0.cellPVmodule.2310  944.9208  115.7133         0.122458  \n",
       "3  a9.1.a2.3.0.cellPVmodule.2310  944.9850  111.3911         0.117876  \n",
       "4  a9.1.a2.4.0.cellPVmodule.2310  945.0492  105.4847         0.111618  \n",
       "5  a9.1.a2.5.0.cellPVmodule.2310  945.4636  109.0423         0.115332  \n",
       "6  a9.1.a2.6.0.cellPVmodule.2310  945.4807  109.1814         0.115477  \n",
       "7  a9.1.a2.7.0.cellPVmodule.2310  945.4962  110.7382         0.117122  \n",
       "8  a9.1.a2.8.0.cellPVmodule.2310  945.5118  114.4013         0.120994  \n",
       "9  a9.1.a2.9.0.cellPVmodule.2310  945.5274  118.3969         0.125218  "
      ]
     },
     "execution_count": 16,
     "metadata": {},
     "output_type": "execute_result"
    }
   ],
   "source": [
    "df_w"
   ]
  },
  {
   "cell_type": "markdown",
   "metadata": {},
   "source": [
    "## Improvement in Rear Irradiance"
   ]
  },
  {
   "cell_type": "code",
   "execution_count": 17,
   "metadata": {},
   "outputs": [
    {
     "data": {
      "text/plain": [
       "10.8"
      ]
     },
     "execution_count": 17,
     "metadata": {},
     "output_type": "execute_result"
    }
   ],
   "source": [
    "round((df_w['Wm2Back'].mean()-df_0['Wm2Back'].mean())*100/df_0['Wm2Back'].mean(),1)"
   ]
  },
  {
   "cell_type": "markdown",
   "metadata": {},
   "source": [
    "# RESULT ANALYSIS DAY"
   ]
  },
  {
   "cell_type": "code",
   "execution_count": 18,
   "metadata": {},
   "outputs": [],
   "source": [
    "df_0 = load.read1Result(os.path.join(testfolder, 'results', 'irr_tutorial_14_noPavers_1.csv'))\n",
    "df_w = load.read1Result(os.path.join(testfolder, 'results', 'irr_tutorial_14_WITHPavers_1.csv'))"
   ]
  },
  {
   "cell_type": "code",
   "execution_count": 19,
   "metadata": {
    "scrolled": true
   },
   "outputs": [
    {
     "data": {
      "text/html": [
       "<div>\n",
       "<style scoped>\n",
       "    .dataframe tbody tr th:only-of-type {\n",
       "        vertical-align: middle;\n",
       "    }\n",
       "\n",
       "    .dataframe tbody tr th {\n",
       "        vertical-align: top;\n",
       "    }\n",
       "\n",
       "    .dataframe thead th {\n",
       "        text-align: right;\n",
       "    }\n",
       "</style>\n",
       "<table border=\"1\" class=\"dataframe\">\n",
       "  <thead>\n",
       "    <tr style=\"text-align: right;\">\n",
       "      <th></th>\n",
       "      <th>x</th>\n",
       "      <th>y</th>\n",
       "      <th>z</th>\n",
       "      <th>rearZ</th>\n",
       "      <th>mattype</th>\n",
       "      <th>rearMat</th>\n",
       "      <th>Wm2Front</th>\n",
       "      <th>Wm2Back</th>\n",
       "      <th>Back/FrontRatio</th>\n",
       "    </tr>\n",
       "  </thead>\n",
       "  <tbody>\n",
       "    <tr>\n",
       "      <th>0</th>\n",
       "      <td>0.407436</td>\n",
       "      <td>2.494829e-17</td>\n",
       "      <td>0.573299</td>\n",
       "      <td>0.562299</td>\n",
       "      <td>a9.1.a2.0.0.cellPVmodule.6457</td>\n",
       "      <td>a9.1.a2.0.0.cellPVmodule.2310</td>\n",
       "      <td>579.5359</td>\n",
       "      <td>27.76016</td>\n",
       "      <td>0.047901</td>\n",
       "    </tr>\n",
       "    <tr>\n",
       "      <th>1</th>\n",
       "      <td>0.320937</td>\n",
       "      <td>1.965169e-17</td>\n",
       "      <td>0.723122</td>\n",
       "      <td>0.712122</td>\n",
       "      <td>a9.1.a2.1.0.cellPVmodule.6457</td>\n",
       "      <td>a9.1.a2.1.0.cellPVmodule.2310</td>\n",
       "      <td>583.5565</td>\n",
       "      <td>26.74639</td>\n",
       "      <td>0.045833</td>\n",
       "    </tr>\n",
       "    <tr>\n",
       "      <th>2</th>\n",
       "      <td>0.234436</td>\n",
       "      <td>1.435510e-17</td>\n",
       "      <td>0.872944</td>\n",
       "      <td>0.861944</td>\n",
       "      <td>a9.1.a2.2.0.cellPVmodule.6457</td>\n",
       "      <td>a9.1.a2.2.0.cellPVmodule.2310</td>\n",
       "      <td>591.8787</td>\n",
       "      <td>26.89933</td>\n",
       "      <td>0.045447</td>\n",
       "    </tr>\n",
       "    <tr>\n",
       "      <th>3</th>\n",
       "      <td>0.147936</td>\n",
       "      <td>9.058500e-18</td>\n",
       "      <td>1.022766</td>\n",
       "      <td>1.011766</td>\n",
       "      <td>a9.1.a2.3.0.cellPVmodule.6457</td>\n",
       "      <td>a9.1.a2.3.0.cellPVmodule.2310</td>\n",
       "      <td>596.0308</td>\n",
       "      <td>27.00327</td>\n",
       "      <td>0.045305</td>\n",
       "    </tr>\n",
       "    <tr>\n",
       "      <th>4</th>\n",
       "      <td>0.061437</td>\n",
       "      <td>3.761903e-18</td>\n",
       "      <td>1.172589</td>\n",
       "      <td>1.161589</td>\n",
       "      <td>a9.1.a2.4.0.cellPVmodule.6457</td>\n",
       "      <td>a9.1.a2.4.0.cellPVmodule.2310</td>\n",
       "      <td>601.7504</td>\n",
       "      <td>27.09849</td>\n",
       "      <td>0.045033</td>\n",
       "    </tr>\n",
       "    <tr>\n",
       "      <th>5</th>\n",
       "      <td>-0.025063</td>\n",
       "      <td>-1.534695e-18</td>\n",
       "      <td>1.322411</td>\n",
       "      <td>1.311411</td>\n",
       "      <td>a9.1.a2.5.0.cellPVmodule.6457</td>\n",
       "      <td>a9.1.a2.5.0.cellPVmodule.2310</td>\n",
       "      <td>605.6486</td>\n",
       "      <td>26.53406</td>\n",
       "      <td>0.043811</td>\n",
       "    </tr>\n",
       "    <tr>\n",
       "      <th>6</th>\n",
       "      <td>-0.111563</td>\n",
       "      <td>-6.831292e-18</td>\n",
       "      <td>1.472234</td>\n",
       "      <td>1.461234</td>\n",
       "      <td>a9.1.a2.6.0.cellPVmodule.6457</td>\n",
       "      <td>a9.1.a2.6.0.cellPVmodule.2310</td>\n",
       "      <td>612.0669</td>\n",
       "      <td>27.14638</td>\n",
       "      <td>0.044352</td>\n",
       "    </tr>\n",
       "    <tr>\n",
       "      <th>7</th>\n",
       "      <td>-0.198064</td>\n",
       "      <td>-1.212789e-17</td>\n",
       "      <td>1.622056</td>\n",
       "      <td>1.611056</td>\n",
       "      <td>a9.1.a2.7.0.cellPVmodule.6457</td>\n",
       "      <td>a9.1.a2.7.0.cellPVmodule.2310</td>\n",
       "      <td>615.5109</td>\n",
       "      <td>27.55200</td>\n",
       "      <td>0.044763</td>\n",
       "    </tr>\n",
       "    <tr>\n",
       "      <th>8</th>\n",
       "      <td>-0.284564</td>\n",
       "      <td>-1.742449e-17</td>\n",
       "      <td>1.771878</td>\n",
       "      <td>1.760878</td>\n",
       "      <td>a9.1.a2.8.0.cellPVmodule.6457</td>\n",
       "      <td>a9.1.a2.8.0.cellPVmodule.2310</td>\n",
       "      <td>619.5745</td>\n",
       "      <td>28.53212</td>\n",
       "      <td>0.046051</td>\n",
       "    </tr>\n",
       "    <tr>\n",
       "      <th>9</th>\n",
       "      <td>-0.371063</td>\n",
       "      <td>-2.272108e-17</td>\n",
       "      <td>1.921701</td>\n",
       "      <td>1.910701</td>\n",
       "      <td>a9.1.a2.9.0.cellPVmodule.6457</td>\n",
       "      <td>a9.1.a2.9.0.cellPVmodule.2310</td>\n",
       "      <td>622.4969</td>\n",
       "      <td>29.04205</td>\n",
       "      <td>0.046654</td>\n",
       "    </tr>\n",
       "  </tbody>\n",
       "</table>\n",
       "</div>"
      ],
      "text/plain": [
       "          x             y         z     rearZ                        mattype  \\\n",
       "0  0.407436  2.494829e-17  0.573299  0.562299  a9.1.a2.0.0.cellPVmodule.6457   \n",
       "1  0.320937  1.965169e-17  0.723122  0.712122  a9.1.a2.1.0.cellPVmodule.6457   \n",
       "2  0.234436  1.435510e-17  0.872944  0.861944  a9.1.a2.2.0.cellPVmodule.6457   \n",
       "3  0.147936  9.058500e-18  1.022766  1.011766  a9.1.a2.3.0.cellPVmodule.6457   \n",
       "4  0.061437  3.761903e-18  1.172589  1.161589  a9.1.a2.4.0.cellPVmodule.6457   \n",
       "5 -0.025063 -1.534695e-18  1.322411  1.311411  a9.1.a2.5.0.cellPVmodule.6457   \n",
       "6 -0.111563 -6.831292e-18  1.472234  1.461234  a9.1.a2.6.0.cellPVmodule.6457   \n",
       "7 -0.198064 -1.212789e-17  1.622056  1.611056  a9.1.a2.7.0.cellPVmodule.6457   \n",
       "8 -0.284564 -1.742449e-17  1.771878  1.760878  a9.1.a2.8.0.cellPVmodule.6457   \n",
       "9 -0.371063 -2.272108e-17  1.921701  1.910701  a9.1.a2.9.0.cellPVmodule.6457   \n",
       "\n",
       "                         rearMat  Wm2Front   Wm2Back  Back/FrontRatio  \n",
       "0  a9.1.a2.0.0.cellPVmodule.2310  579.5359  27.76016         0.047901  \n",
       "1  a9.1.a2.1.0.cellPVmodule.2310  583.5565  26.74639         0.045833  \n",
       "2  a9.1.a2.2.0.cellPVmodule.2310  591.8787  26.89933         0.045447  \n",
       "3  a9.1.a2.3.0.cellPVmodule.2310  596.0308  27.00327         0.045305  \n",
       "4  a9.1.a2.4.0.cellPVmodule.2310  601.7504  27.09849         0.045033  \n",
       "5  a9.1.a2.5.0.cellPVmodule.2310  605.6486  26.53406         0.043811  \n",
       "6  a9.1.a2.6.0.cellPVmodule.2310  612.0669  27.14638         0.044352  \n",
       "7  a9.1.a2.7.0.cellPVmodule.2310  615.5109  27.55200         0.044763  \n",
       "8  a9.1.a2.8.0.cellPVmodule.2310  619.5745  28.53212         0.046051  \n",
       "9  a9.1.a2.9.0.cellPVmodule.2310  622.4969  29.04205         0.046654  "
      ]
     },
     "execution_count": 19,
     "metadata": {},
     "output_type": "execute_result"
    }
   ],
   "source": [
    "df_w"
   ]
  },
  {
   "cell_type": "code",
   "execution_count": 20,
   "metadata": {},
   "outputs": [
    {
     "data": {
      "text/html": [
       "<div>\n",
       "<style scoped>\n",
       "    .dataframe tbody tr th:only-of-type {\n",
       "        vertical-align: middle;\n",
       "    }\n",
       "\n",
       "    .dataframe tbody tr th {\n",
       "        vertical-align: top;\n",
       "    }\n",
       "\n",
       "    .dataframe thead th {\n",
       "        text-align: right;\n",
       "    }\n",
       "</style>\n",
       "<table border=\"1\" class=\"dataframe\">\n",
       "  <thead>\n",
       "    <tr style=\"text-align: right;\">\n",
       "      <th></th>\n",
       "      <th>x</th>\n",
       "      <th>y</th>\n",
       "      <th>z</th>\n",
       "      <th>rearZ</th>\n",
       "      <th>mattype</th>\n",
       "      <th>rearMat</th>\n",
       "      <th>Wm2Front</th>\n",
       "      <th>Wm2Back</th>\n",
       "      <th>Back/FrontRatio</th>\n",
       "    </tr>\n",
       "  </thead>\n",
       "  <tbody>\n",
       "    <tr>\n",
       "      <th>0</th>\n",
       "      <td>0.407436</td>\n",
       "      <td>2.494829e-17</td>\n",
       "      <td>0.573299</td>\n",
       "      <td>0.562299</td>\n",
       "      <td>a9.1.a2.0.0.cellPVmodule.6457</td>\n",
       "      <td>a9.1.a2.0.0.cellPVmodule.2310</td>\n",
       "      <td>579.1415</td>\n",
       "      <td>20.88081</td>\n",
       "      <td>0.036055</td>\n",
       "    </tr>\n",
       "    <tr>\n",
       "      <th>1</th>\n",
       "      <td>0.320937</td>\n",
       "      <td>1.965169e-17</td>\n",
       "      <td>0.723122</td>\n",
       "      <td>0.712122</td>\n",
       "      <td>a9.1.a2.1.0.cellPVmodule.6457</td>\n",
       "      <td>a9.1.a2.1.0.cellPVmodule.2310</td>\n",
       "      <td>582.8452</td>\n",
       "      <td>21.34479</td>\n",
       "      <td>0.036622</td>\n",
       "    </tr>\n",
       "    <tr>\n",
       "      <th>2</th>\n",
       "      <td>0.234436</td>\n",
       "      <td>1.435510e-17</td>\n",
       "      <td>0.872944</td>\n",
       "      <td>0.861944</td>\n",
       "      <td>a9.1.a2.2.0.cellPVmodule.6457</td>\n",
       "      <td>a9.1.a2.2.0.cellPVmodule.2310</td>\n",
       "      <td>591.8007</td>\n",
       "      <td>20.74030</td>\n",
       "      <td>0.035046</td>\n",
       "    </tr>\n",
       "    <tr>\n",
       "      <th>3</th>\n",
       "      <td>0.147936</td>\n",
       "      <td>9.058500e-18</td>\n",
       "      <td>1.022766</td>\n",
       "      <td>1.011766</td>\n",
       "      <td>a9.1.a2.3.0.cellPVmodule.6457</td>\n",
       "      <td>a9.1.a2.3.0.cellPVmodule.2310</td>\n",
       "      <td>595.6917</td>\n",
       "      <td>21.40979</td>\n",
       "      <td>0.035941</td>\n",
       "    </tr>\n",
       "    <tr>\n",
       "      <th>4</th>\n",
       "      <td>0.061437</td>\n",
       "      <td>3.761903e-18</td>\n",
       "      <td>1.172589</td>\n",
       "      <td>1.161589</td>\n",
       "      <td>a9.1.a2.4.0.cellPVmodule.6457</td>\n",
       "      <td>a9.1.a2.4.0.cellPVmodule.2310</td>\n",
       "      <td>602.5026</td>\n",
       "      <td>22.87528</td>\n",
       "      <td>0.037967</td>\n",
       "    </tr>\n",
       "    <tr>\n",
       "      <th>5</th>\n",
       "      <td>-0.025063</td>\n",
       "      <td>-1.534695e-18</td>\n",
       "      <td>1.322411</td>\n",
       "      <td>1.311411</td>\n",
       "      <td>a9.1.a2.5.0.cellPVmodule.6457</td>\n",
       "      <td>a9.1.a2.5.0.cellPVmodule.2310</td>\n",
       "      <td>606.3221</td>\n",
       "      <td>23.75233</td>\n",
       "      <td>0.039174</td>\n",
       "    </tr>\n",
       "    <tr>\n",
       "      <th>6</th>\n",
       "      <td>-0.111563</td>\n",
       "      <td>-6.831292e-18</td>\n",
       "      <td>1.472234</td>\n",
       "      <td>1.461234</td>\n",
       "      <td>a9.1.a2.6.0.cellPVmodule.6457</td>\n",
       "      <td>a9.1.a2.6.0.cellPVmodule.2310</td>\n",
       "      <td>612.8148</td>\n",
       "      <td>24.00990</td>\n",
       "      <td>0.039180</td>\n",
       "    </tr>\n",
       "    <tr>\n",
       "      <th>7</th>\n",
       "      <td>-0.198064</td>\n",
       "      <td>-1.212789e-17</td>\n",
       "      <td>1.622056</td>\n",
       "      <td>1.611056</td>\n",
       "      <td>a9.1.a2.7.0.cellPVmodule.6457</td>\n",
       "      <td>a9.1.a2.7.0.cellPVmodule.2310</td>\n",
       "      <td>616.6312</td>\n",
       "      <td>25.03161</td>\n",
       "      <td>0.040594</td>\n",
       "    </tr>\n",
       "    <tr>\n",
       "      <th>8</th>\n",
       "      <td>-0.284564</td>\n",
       "      <td>-1.742449e-17</td>\n",
       "      <td>1.771878</td>\n",
       "      <td>1.760878</td>\n",
       "      <td>a9.1.a2.8.0.cellPVmodule.6457</td>\n",
       "      <td>a9.1.a2.8.0.cellPVmodule.2310</td>\n",
       "      <td>619.6736</td>\n",
       "      <td>26.37031</td>\n",
       "      <td>0.042555</td>\n",
       "    </tr>\n",
       "    <tr>\n",
       "      <th>9</th>\n",
       "      <td>-0.371063</td>\n",
       "      <td>-2.272108e-17</td>\n",
       "      <td>1.921701</td>\n",
       "      <td>1.910701</td>\n",
       "      <td>a9.1.a2.9.0.cellPVmodule.6457</td>\n",
       "      <td>a9.1.a2.9.0.cellPVmodule.2310</td>\n",
       "      <td>622.9435</td>\n",
       "      <td>27.44040</td>\n",
       "      <td>0.044050</td>\n",
       "    </tr>\n",
       "  </tbody>\n",
       "</table>\n",
       "</div>"
      ],
      "text/plain": [
       "          x             y         z     rearZ                        mattype  \\\n",
       "0  0.407436  2.494829e-17  0.573299  0.562299  a9.1.a2.0.0.cellPVmodule.6457   \n",
       "1  0.320937  1.965169e-17  0.723122  0.712122  a9.1.a2.1.0.cellPVmodule.6457   \n",
       "2  0.234436  1.435510e-17  0.872944  0.861944  a9.1.a2.2.0.cellPVmodule.6457   \n",
       "3  0.147936  9.058500e-18  1.022766  1.011766  a9.1.a2.3.0.cellPVmodule.6457   \n",
       "4  0.061437  3.761903e-18  1.172589  1.161589  a9.1.a2.4.0.cellPVmodule.6457   \n",
       "5 -0.025063 -1.534695e-18  1.322411  1.311411  a9.1.a2.5.0.cellPVmodule.6457   \n",
       "6 -0.111563 -6.831292e-18  1.472234  1.461234  a9.1.a2.6.0.cellPVmodule.6457   \n",
       "7 -0.198064 -1.212789e-17  1.622056  1.611056  a9.1.a2.7.0.cellPVmodule.6457   \n",
       "8 -0.284564 -1.742449e-17  1.771878  1.760878  a9.1.a2.8.0.cellPVmodule.6457   \n",
       "9 -0.371063 -2.272108e-17  1.921701  1.910701  a9.1.a2.9.0.cellPVmodule.6457   \n",
       "\n",
       "                         rearMat  Wm2Front   Wm2Back  Back/FrontRatio  \n",
       "0  a9.1.a2.0.0.cellPVmodule.2310  579.1415  20.88081         0.036055  \n",
       "1  a9.1.a2.1.0.cellPVmodule.2310  582.8452  21.34479         0.036622  \n",
       "2  a9.1.a2.2.0.cellPVmodule.2310  591.8007  20.74030         0.035046  \n",
       "3  a9.1.a2.3.0.cellPVmodule.2310  595.6917  21.40979         0.035941  \n",
       "4  a9.1.a2.4.0.cellPVmodule.2310  602.5026  22.87528         0.037967  \n",
       "5  a9.1.a2.5.0.cellPVmodule.2310  606.3221  23.75233         0.039174  \n",
       "6  a9.1.a2.6.0.cellPVmodule.2310  612.8148  24.00990         0.039180  \n",
       "7  a9.1.a2.7.0.cellPVmodule.2310  616.6312  25.03161         0.040594  \n",
       "8  a9.1.a2.8.0.cellPVmodule.2310  619.6736  26.37031         0.042555  \n",
       "9  a9.1.a2.9.0.cellPVmodule.2310  622.9435  27.44040         0.044050  "
      ]
     },
     "execution_count": 20,
     "metadata": {},
     "output_type": "execute_result"
    }
   ],
   "source": [
    "df_0"
   ]
  },
  {
   "cell_type": "code",
   "execution_count": 21,
   "metadata": {},
   "outputs": [
    {
     "data": {
      "text/plain": [
       "17.3"
      ]
     },
     "execution_count": 21,
     "metadata": {},
     "output_type": "execute_result"
    }
   ],
   "source": [
    "round((df_w['Wm2Back'].mean()-df_0['Wm2Back'].mean())*100/df_0['Wm2Back'].mean(),1)"
   ]
  },
  {
   "cell_type": "code",
   "execution_count": 22,
   "metadata": {},
   "outputs": [
    {
     "name": "stdout",
     "output_type": "stream",
     "text": [
      "17.3\n",
      "39.4\n",
      "33.5\n",
      "22.8\n",
      "8.7\n",
      "9.7\n",
      "10.0\n",
      "9.7\n",
      "17.2\n",
      "32.3\n",
      "37.8\n",
      "39.9\n"
     ]
    }
   ],
   "source": [
    "average_back_d0=[]\n",
    "average_back_dw=[]\n",
    "average_front = []\n",
    "hourly_rearirradiance_comparison = []\n",
    "\n",
    "timessimulated = endtimeindex-starttimeindex\n",
    "\n",
    "for i in range (1, timessimulated+1):\n",
    "    df_0 = load.read1Result(os.path.join(testfolder, 'results', 'irr_tutorial_14_noPavers_'+str(i)+'.csv'))\n",
    "    df_w = load.read1Result(os.path.join(testfolder, 'results', 'irr_tutorial_14_WITHPavers_'+str(i)+'.csv'))\n",
    "    print(round((df_w['Wm2Back'].mean()-df_0['Wm2Back'].mean())*100/df_0['Wm2Back'].mean(),1))\n",
    "    hourly_rearirradiance_comparison.append(round((df_w['Wm2Back'].mean()-df_0['Wm2Back'].mean())*100/df_0['Wm2Back'].mean(),1))\n",
    "    average_back_d0.append(df_0['Wm2Back'].mean())\n",
    "    average_back_dw.append(df_w['Wm2Back'].mean())\n",
    "    average_front.append(df_0['Wm2Front'].mean())\n",
    "    "
   ]
  },
  {
   "cell_type": "code",
   "execution_count": 23,
   "metadata": {},
   "outputs": [
    {
     "name": "stdout",
     "output_type": "stream",
     "text": [
      "Increase in rear irradiance:  20.1\n"
     ]
    }
   ],
   "source": [
    "print(\"Increase in rear irradiance: \", round((sum(average_back_dw)-sum(average_back_d0))*100/sum(average_back_d0),1))"
   ]
  },
  {
   "cell_type": "code",
   "execution_count": 24,
   "metadata": {},
   "outputs": [
    {
     "name": "stdout",
     "output_type": "stream",
     "text": [
      "BG no Pavers:  8.3\n",
      "BG with Pavers:  10.0\n"
     ]
    }
   ],
   "source": [
    "print(\"BG no Pavers: \", round(sum(average_back_d0)*100/sum(average_front),1))\n",
    "print(\"BG with Pavers: \", round(sum(average_back_dw)*100/sum(average_front),1))"
   ]
  },
  {
   "cell_type": "code",
   "execution_count": 27,
   "metadata": {},
   "outputs": [],
   "source": [
    "import matplotlib.pyplot as plt\n",
    "\n",
    "#metdata.datetime[starttime].hour # 7\n",
    "#metdata.datetime[endtimeindex].hour # 17\n",
    "xax= [7, 8, 9, 10, 11, 12,13,14,15,16,17,18]  # Lazy way to get the x axis...\n"
   ]
  },
  {
   "cell_type": "code",
   "execution_count": 28,
   "metadata": {},
   "outputs": [
    {
     "data": {
      "text/plain": [
       "Text(0.5, 0, 'Hour')"
      ]
     },
     "execution_count": 28,
     "metadata": {},
     "output_type": "execute_result"
    },
    {
     "data": {
      "image/png": "[encoded data removed]",
      "text/plain": [
       "<Figure size 432x288 with 1 Axes>"
      ]
     },
     "metadata": {
      "needs_background": "light"
     },
     "output_type": "display_data"
    }
   ],
   "source": [
    "plt.plot(xax,hourly_rearirradiance_comparison)\n",
    "plt.ylabel('$\\Delta$ in G$_{rear}$ [%] \\n(G$_{rear-with}$ - G$_{rear-without}$ / G$_{rear-without}$)')\n",
    "plt.xlabel('Hour')"
   ]
  }
 ],
 "metadata": {
  "celltoolbar": "Tags",
  "kernelspec": {
   "display_name": "Python 3",
   "language": "python",
   "name": "python3"
  },
  "language_info": {
   "codemirror_mode": {
    "name": "ipython",
    "version": 3
   },
   "file_extension": ".py",
   "mimetype": "text/x-python",
   "name": "python",
   "nbconvert_exporter": "python",
   "pygments_lexer": "ipython3",
   "version": "3.8.8"
  }
 },
 "nbformat": 4,
 "nbformat_minor": 4
}
