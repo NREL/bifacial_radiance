{
 "cells": [
  {
   "cell_type": "markdown",
   "metadata": {},
   "source": [
    "# 14 - Advanced topics - Cement Pavers albedo example\n",
    "\n",
    "This journal creates a paver underneath the single-axis trackers, and evaluates the improvement for one day -- June 17th with and without the pavers for a location in Davis, CA.\n",
    "\n",
    "![Paver](../images_wiki/AdvancedJournals/Pavers.PNG)\n",
    "\n",
    "Measurements:\n",
    "![Paver](../images_wiki/AdvancedJournals/Pavers_Geometry.PNG)"
   ]
  },
  {
   "cell_type": "code",
   "execution_count": 1,
   "metadata": {},
   "outputs": [
    {
     "name": "stdout",
     "output_type": "stream",
     "text": [
      "Your simulation will be stored in C:\\Users\\Silvana\\Documents\\GitHub\\bifacial_radiance\\bifacial_radiance\\TEMP\\NewMat\n"
     ]
    }
   ],
   "source": [
    "import os\n",
    "from pathlib import Path\n",
    "\n",
    "testfolder = str(Path().resolve().parent.parent / 'bifacial_radiance' / 'TEMP' / 'Pavers')\n",
    "\n",
    "# Another option using relative address; for some operative systems you might need '/' instead of '\\'\n",
    "# testfolder = os.path.abspath(r'..\\..\\bifacial_radiance\\TEMP')  \n",
    "\n",
    "try:\n",
    "    os.stat(testfolder)\n",
    "except:\n",
    "    os.mkdir(testfolder)\n",
    "    \n",
    "print (\"Your simulation will be stored in %s\" % testfolder)"
   ]
  },
  {
   "cell_type": "code",
   "execution_count": 2,
   "metadata": {},
   "outputs": [],
   "source": [
    "from bifacial_radiance import *   \n",
    "import numpy as np"
   ]
  },
  {
   "cell_type": "code",
   "execution_count": 3,
   "metadata": {},
   "outputs": [
    {
     "name": "stdout",
     "output_type": "stream",
     "text": [
      "path = C:\\Users\\Silvana\\Documents\\GitHub\\bifacial_radiance\\bifacial_radiance\\TEMP\\NewMat\n",
      "Loading albedo, 1 value(s), 0.200 avg\n",
      "1 nonzero albedo values.\n",
      "Getting weather file: USA_CA_Sacramento.Metro.AP.724839_TMY3.epw\n",
      " ... OK!\n",
      "Saving file EPWs\\epw_temp.csv, # points: 8760\n",
      "Calculating Sun position for Metdata that is right-labeled  with a delta of -30 mins. i.e. 12 is 11:30 sunpos\n",
      "\n",
      "Module Name: 60cellmod\n",
      "Pre-existing .rad file objects\\60cellmod.rad will be overwritten\n",
      "Module was shifted by 0.078 in X to avoid sensors on air\n",
      "This is a Cell-Level detailed module with Packaging Factor of 0.85 %\n",
      "Module 60cellmod updated in module.json\n"
     ]
    }
   ],
   "source": [
    "timestamp = 4020 # Noon, June 17th. \n",
    "simulationname = 'PVEL_Davis'\n",
    "\n",
    "#Location:\n",
    "lat = 38.5449 # Davis, CA\n",
    "lon = -121.7405 # Davis, CA\n",
    "# MakeModule Parameters\n",
    "moduletype='60cellmod'\n",
    "numpanels = 1  # AgriPV site has 3 modules along the y direction (N-S since we are facing it to the south) .\n",
    "x = 0.95  \n",
    "y = 1.838\n",
    "xgap = 0.02# Leaving 2 centimeters between modules on x direction\n",
    "ygap = 0.0 # 1 - up \n",
    "zgap = 0.06 # gap between modules and torquetube.\n",
    "\n",
    "# Other default values:\n",
    "\n",
    "# TorqueTube Parameters\n",
    "axisofrotationTorqueTube=True\n",
    "torqueTube = False\n",
    "cellLevelModule = True\n",
    "\n",
    "numcellsx = 6\n",
    "numcellsy = 10\n",
    "xcell = 0.156\n",
    "ycell = 0.158\n",
    "xcellgap = 0.015\n",
    "ycellgap = 0.015\n",
    "\n",
    "sensorsy = numcellsy   # one sensor per cell\n",
    "\n",
    "cellLevelModuleParams = {'numcellsx': numcellsx, 'numcellsy':numcellsy, \n",
    "                         'xcell': xcell, 'ycell': ycell, 'xcellgap': xcellgap, 'ycellgap': ycellgap}\n",
    "\n",
    "# SceneDict Parameters\n",
    "gcr = 0.33 # m\n",
    "albedo = 0.2  #'grass'     # ground albedo\n",
    "hub_height = 1.237 # m  \n",
    "nMods = 20 # six modules per row.\n",
    "nRows = 3  # 3 row\n",
    "\n",
    "azimuth_ang = 90 # Facing east \n",
    "\n",
    "\n",
    "demo = RadianceObj(simulationname,path = testfolder)  # Create a RadianceObj 'object'\n",
    "demo.setGround(albedo) # input albedo number or material name like 'concrete'.  To see options, run this without any input.\n",
    "epwfile = demo.getEPW(lat, lon) # NJ lat/lon 40.0583° N, 74.4057\n",
    "metdata = demo.readEPW(epwfile) # read in the EPW weather data from above\n",
    "moduleDict=demo.makeModule(name=moduletype,x=x,y=y,numpanels = numpanels, xgap=xgap, ygap=ygap, cellLevelModuleParams = cellLevelModuleParams)\n"
   ]
  },
  {
   "cell_type": "code",
   "execution_count": 4,
   "metadata": {},
   "outputs": [
    {
     "name": "stdout",
     "output_type": "stream",
     "text": [
      "Added material sw_chantillywhite to file ground.rad\n"
     ]
    }
   ],
   "source": [
    "description = 'Sherman Williams \"Chantilly White\" acrylic paint'\n",
    "materialpav = 'sw_chantillywhite'\n",
    "Rrefl = 0.5\n",
    "Grefl = 0.5 \n",
    "Brefl = 0.5\n",
    "demo.addMaterial(material=materialpav, Rrefl=Rrefl, Grefl=Grefl, Brefl=Brefl, comment=description)"
   ]
  },
  {
   "cell_type": "markdown",
   "metadata": {},
   "source": [
    "### Simulation without Pavers"
   ]
  },
  {
   "cell_type": "code",
   "execution_count": 5,
   "metadata": {},
   "outputs": [
    {
     "data": {
      "text/plain": [
       "Timestamp('2001-06-17 13:00:00-0800', tz='pytz.FixedOffset(-480)', freq='H')"
      ]
     },
     "execution_count": 5,
     "metadata": {},
     "output_type": "execute_result"
    }
   ],
   "source": [
    "metdata.datetime[timestamp]"
   ]
  },
  {
   "cell_type": "code",
   "execution_count": 6,
   "metadata": {},
   "outputs": [
    {
     "data": {
      "text/plain": [
       "Timestamp('2001-06-17 06:00:00-0800', tz='pytz.FixedOffset(-480)', freq='H')"
      ]
     },
     "execution_count": 6,
     "metadata": {},
     "output_type": "execute_result"
    }
   ],
   "source": [
    "metdata.datetime[timestamp-7]"
   ]
  },
  {
   "cell_type": "code",
   "execution_count": 7,
   "metadata": {},
   "outputs": [
    {
     "data": {
      "text/plain": [
       "Timestamp('2001-06-17 19:00:00-0800', tz='pytz.FixedOffset(-480)', freq='H')"
      ]
     },
     "execution_count": 7,
     "metadata": {},
     "output_type": "execute_result"
    }
   ],
   "source": [
    "metdata.datetime[timestamp+6]"
   ]
  },
  {
   "cell_type": "code",
   "execution_count": 8,
   "metadata": {},
   "outputs": [
    {
     "name": "stdout",
     "output_type": "stream",
     "text": [
      "01_06_17_13_00\n",
      "Created PVEL_Davis.oct\n"
     ]
    }
   ],
   "source": [
    "demo.gendaylit(timestamp)\n",
    "tilt = demo.getSingleTimestampTrackerAngle(metdata, timeindex=timestamp, gcr=gcr, \n",
    "                                   axis_azimuth=180, axis_tilt=0, \n",
    "                                   limit_angle=60, backtrack=True)\n",
    "# create a scene with all the variables\n",
    "sceneDict = {'tilt':tilt,'gcr': gcr,'hub_height':hub_height,'azimuth':azimuth_ang, 'module_type':moduletype, 'nMods': nMods, 'nRows': nRows}  \n",
    "scene = demo.makeScene(moduletype=moduletype, sceneDict=sceneDict) #makeScene creates a .rad file with 20 modules per row, 7 rows.\n",
    "octfile = demo.makeOct(demo.getfilelist())  # makeOct combines all of the ground, sky and object fil|es into a .oct file."
   ]
  },
  {
   "cell_type": "code",
   "execution_count": 9,
   "metadata": {},
   "outputs": [
    {
     "name": "stdout",
     "output_type": "stream",
     "text": [
      "Linescan in process: PVEL_Davis_noPavers_Front\n",
      "Linescan in process: PVEL_Davis_noPavers_Back\n",
      "Saved: results\\irr_PVEL_Davis_noPavers.csv\n",
      "Simulation without Pavers Finished\n"
     ]
    }
   ],
   "source": [
    "analysis = AnalysisObj(octfile, demo.name)  # return an analysis object including the scan dimensions for back irradiance\n",
    "frontscan, backscan = analysis.moduleAnalysis(scene, sensorsy=sensorsy)\n",
    "analysis.analysis(octfile, simulationname+\"_noPavers\", frontscan, backscan)  # compare the back vs front irradiance  \n",
    "print(\"Simulation without Pavers Finished\")"
   ]
  },
  {
   "cell_type": "markdown",
   "metadata": {},
   "source": [
    "## Looping on the day"
   ]
  },
  {
   "cell_type": "code",
   "execution_count": 10,
   "metadata": {},
   "outputs": [
    {
     "name": "stdout",
     "output_type": "stream",
     "text": [
      "01_06_17_06_00\n",
      "Created PVEL_Davis.oct\n",
      "Linescan in process: PVEL_Davis_noPavers_1_Front\n",
      "Linescan in process: PVEL_Davis_noPavers_1_Back\n",
      "Saved: results\\irr_PVEL_Davis_noPavers_1.csv\n",
      "01_06_17_07_00\n",
      "Created PVEL_Davis.oct\n",
      "Linescan in process: PVEL_Davis_noPavers_2_Front\n",
      "Linescan in process: PVEL_Davis_noPavers_2_Back\n",
      "Saved: results\\irr_PVEL_Davis_noPavers_2.csv\n",
      "01_06_17_08_00\n",
      "Created PVEL_Davis.oct\n",
      "Linescan in process: PVEL_Davis_noPavers_3_Front\n",
      "Linescan in process: PVEL_Davis_noPavers_3_Back\n",
      "Saved: results\\irr_PVEL_Davis_noPavers_3.csv\n",
      "01_06_17_09_00\n",
      "Created PVEL_Davis.oct\n",
      "Linescan in process: PVEL_Davis_noPavers_4_Front\n",
      "Linescan in process: PVEL_Davis_noPavers_4_Back\n",
      "Saved: results\\irr_PVEL_Davis_noPavers_4.csv\n",
      "01_06_17_10_00\n",
      "Created PVEL_Davis.oct\n",
      "Linescan in process: PVEL_Davis_noPavers_5_Front\n",
      "Linescan in process: PVEL_Davis_noPavers_5_Back\n",
      "Saved: results\\irr_PVEL_Davis_noPavers_5.csv\n",
      "01_06_17_11_00\n",
      "Created PVEL_Davis.oct\n",
      "Linescan in process: PVEL_Davis_noPavers_6_Front\n",
      "Linescan in process: PVEL_Davis_noPavers_6_Back\n",
      "Saved: results\\irr_PVEL_Davis_noPavers_6.csv\n",
      "01_06_17_12_00\n",
      "Created PVEL_Davis.oct\n",
      "Linescan in process: PVEL_Davis_noPavers_7_Front\n",
      "Linescan in process: PVEL_Davis_noPavers_7_Back\n",
      "Saved: results\\irr_PVEL_Davis_noPavers_7.csv\n",
      "01_06_17_13_00\n",
      "Created PVEL_Davis.oct\n",
      "Linescan in process: PVEL_Davis_noPavers_8_Front\n",
      "Linescan in process: PVEL_Davis_noPavers_8_Back\n",
      "Saved: results\\irr_PVEL_Davis_noPavers_8.csv\n",
      "01_06_17_14_00\n",
      "Created PVEL_Davis.oct\n",
      "Linescan in process: PVEL_Davis_noPavers_9_Front\n",
      "Linescan in process: PVEL_Davis_noPavers_9_Back\n",
      "Saved: results\\irr_PVEL_Davis_noPavers_9.csv\n",
      "01_06_17_15_00\n",
      "Created PVEL_Davis.oct\n",
      "Linescan in process: PVEL_Davis_noPavers_10_Front\n",
      "Linescan in process: PVEL_Davis_noPavers_10_Back\n",
      "Saved: results\\irr_PVEL_Davis_noPavers_10.csv\n",
      "01_06_17_16_00\n",
      "Created PVEL_Davis.oct\n",
      "Linescan in process: PVEL_Davis_noPavers_11_Front\n",
      "Linescan in process: PVEL_Davis_noPavers_11_Back\n",
      "Saved: results\\irr_PVEL_Davis_noPavers_11.csv\n",
      "01_06_17_17_00\n",
      "Created PVEL_Davis.oct\n",
      "Linescan in process: PVEL_Davis_noPavers_12_Front\n",
      "Linescan in process: PVEL_Davis_noPavers_12_Back\n",
      "Saved: results\\irr_PVEL_Davis_noPavers_12.csv\n",
      "01_06_17_18_00\n",
      "Created PVEL_Davis.oct\n",
      "Linescan in process: PVEL_Davis_noPavers_13_Front\n",
      "Linescan in process: PVEL_Davis_noPavers_13_Back\n",
      "Saved: results\\irr_PVEL_Davis_noPavers_13.csv\n",
      "01_06_17_19_00\n",
      "Created PVEL_Davis.oct\n",
      "Linescan in process: PVEL_Davis_noPavers_14_Front\n",
      "Linescan in process: PVEL_Davis_noPavers_14_Back\n",
      "Saved: results\\irr_PVEL_Davis_noPavers_14.csv\n"
     ]
    }
   ],
   "source": [
    "j=0\n",
    "for i in range (-7, 7):\n",
    "    j+=1\n",
    "    timess = timestamp+i\n",
    "    demo.gendaylit(timess)\n",
    "    tilt = demo.getSingleTimestampTrackerAngle(metdata, timeindex=timess, gcr=gcr, \n",
    "                                       axis_azimuth=180, axis_tilt=0, \n",
    "                                       limit_angle=60, backtrack=True)\n",
    "    # create a scene with all the variables\n",
    "    sceneDict = {'tilt':tilt,'gcr': gcr,'hub_height':hub_height,'azimuth':azimuth_ang, 'module_type':moduletype, 'nMods': nMods, 'nRows': nRows}  \n",
    "    scene = demo.makeScene(moduletype=moduletype, sceneDict=sceneDict) #makeScene creates a .rad file with 20 modules per row, 7 rows.\n",
    "    octfile = demo.makeOct(demo.getfilelist())  # makeOct combines all of the ground, sky and object fil|es into a .oct file\n",
    "    frontscan, backscan = analysis.moduleAnalysis(scene, sensorsy=sensorsy)\n",
    "    analysis.analysis(octfile, simulationname+\"_noPavers_\"+str(j), frontscan, backscan)  # compare the back vs front irradiance  \n",
    "    "
   ]
  },
  {
   "cell_type": "markdown",
   "metadata": {},
   "source": [
    "### Simulation With Pavers"
   ]
  },
  {
   "cell_type": "code",
   "execution_count": 11,
   "metadata": {},
   "outputs": [
    {
     "name": "stdout",
     "output_type": "stream",
     "text": [
      "01_06_17_13_00\n"
     ]
    }
   ],
   "source": [
    "demo.gendaylit(timestamp)\n",
    "tilt = demo.getSingleTimestampTrackerAngle(metdata, timeindex=timestamp, gcr=gcr, \n",
    "                                   axis_azimuth=180, axis_tilt=0, \n",
    "                                   limit_angle=60, backtrack=True)\n",
    "# create a scene with all the variables\n",
    "sceneDict = {'tilt':tilt,'gcr': gcr,'hub_height':hub_height,'azimuth':azimuth_ang, 'module_type':moduletype, 'nMods': nMods, 'nRows': nRows}  \n",
    "scene = demo.makeScene(moduletype=moduletype, sceneDict=sceneDict) #makeScene creates a .rad file with 20 modules per row, 7 rows."
   ]
  },
  {
   "cell_type": "code",
   "execution_count": 12,
   "metadata": {},
   "outputs": [
    {
     "name": "stdout",
     "output_type": "stream",
     "text": [
      "\n",
      "Custom Object Name objects\\PAVER0.rad\n",
      "\n",
      "Custom Object Name objects\\PAVER1.rad\n",
      "\n",
      "Custom Object Name objects\\PAVER2.rad\n"
     ]
    }
   ],
   "source": [
    "torquetubelength = moduleDict['scenex']*(nMods) \n",
    "pitch = demo.moduleDict['sceney']/gcr\n",
    "startpitch = -pitch * (nRows-1)/2\n",
    "p_w = 0.947 # m\n",
    "p_h = 0.092 # m\n",
    "p_w2 = 0.187 # m\n",
    "p_h2 = 0.184 # m\n",
    "offset_w1y = -(p_w/2)+(p_w2/2)\n",
    "offset_w2y = (p_w/2)-(p_w2/2)\n",
    "\n",
    "customObjects = []\n",
    "for i in range (0, nRows):    \n",
    "    name='PAVER'+str(i)\n",
    "    text='! genbox {} paver{} {} {} {} | xform -t {} {} 0 | xform -t {} 0 0'.format(materialpav, i, \n",
    "                                    p_w, torquetubelength, p_h, \n",
    "                                    -p_w/2, (-torquetubelength+moduleDict['sceney'])/2.0,\n",
    "                                    startpitch+pitch*i)\n",
    "    text += '\\r\\n! genbox {} paverS1{} {} {} {} | xform -t {} {} 0 | xform -t {} 0 0'.format(materialpav, i,\n",
    "                                    p_w2, torquetubelength, p_h2, \n",
    "                                    -p_w2/2+offset_w1y, (-torquetubelength+moduleDict['sceney'])/2.0,\n",
    "                                    startpitch+pitch*i)\n",
    "    text += '\\r\\n! genbox {} paverS2{} {} {} {} | xform -t {} {} 0 | xform -t {} 0 0'.format(materialpav, i,\n",
    "                                    p_w2, torquetubelength, p_h2, \n",
    "                                    -p_w2/2+offset_w2y, (-torquetubelength+moduleDict['sceney'])/2.0,\n",
    "                                    startpitch+pitch*i)\n",
    "\n",
    "    customObject = demo.makeCustomObject(name,text)\n",
    "    customObjects.append(customObject)\n",
    "    demo.appendtoScene(radfile=scene.radfiles, customObject=customObject, text=\"!xform -rz 0\")"
   ]
  },
  {
   "cell_type": "code",
   "execution_count": 13,
   "metadata": {},
   "outputs": [
    {
     "name": "stdout",
     "output_type": "stream",
     "text": [
      "Created PVEL_Davis.oct\n"
     ]
    },
    {
     "data": {
      "text/plain": [
       "'PVEL_Davis.oct'"
      ]
     },
     "execution_count": 13,
     "metadata": {},
     "output_type": "execute_result"
    }
   ],
   "source": [
    "demo.makeOct()"
   ]
  },
  {
   "cell_type": "markdown",
   "metadata": {},
   "source": [
    "### rvu -vf views\\front.vp -e .01 -pe 0.01 -vp -5 -14 1 -vd 0 0.9946 -0.1040 PVEL_Davis.oct"
   ]
  },
  {
   "cell_type": "code",
   "execution_count": 14,
   "metadata": {},
   "outputs": [
    {
     "name": "stdout",
     "output_type": "stream",
     "text": [
      "Linescan in process: PVEL_Davis_WITHPavers_Front\n",
      "Linescan in process: PVEL_Davis_WITHPavers_Back\n",
      "Saved: results\\irr_PVEL_Davis_WITHPavers.csv\n",
      "Simulation WITH Pavers Finished\n"
     ]
    }
   ],
   "source": [
    "analysis = AnalysisObj(octfile, demo.name)  # return an analysis object including the scan dimensions for back irradiance\n",
    "frontscan, backscan = analysis.moduleAnalysis(scene, sensorsy=sensorsy)\n",
    "analysis.analysis(octfile, simulationname+\"_WITHPavers\", frontscan, backscan)  # compare the back vs front irradiance  \n",
    "print(\"Simulation WITH Pavers Finished\")\n"
   ]
  },
  {
   "cell_type": "markdown",
   "metadata": {},
   "source": [
    "## LOOP WITH PAVERS"
   ]
  },
  {
   "cell_type": "code",
   "execution_count": 15,
   "metadata": {},
   "outputs": [
    {
     "data": {
      "text/plain": [
       "['objects\\\\PAVER0.rad', 'objects\\\\PAVER1.rad', 'objects\\\\PAVER2.rad']"
      ]
     },
     "execution_count": 15,
     "metadata": {},
     "output_type": "execute_result"
    }
   ],
   "source": [
    "customObjects"
   ]
  },
  {
   "cell_type": "code",
   "execution_count": 16,
   "metadata": {},
   "outputs": [
    {
     "name": "stdout",
     "output_type": "stream",
     "text": [
      "01_06_17_06_00\n",
      "Created PVEL_Davis.oct\n",
      "Linescan in process: PVEL_Davis_WITHPavers_1_Front\n",
      "Linescan in process: PVEL_Davis_WITHPavers_1_Back\n",
      "Saved: results\\irr_PVEL_Davis_WITHPavers_1.csv\n",
      "01_06_17_07_00\n",
      "Created PVEL_Davis.oct\n",
      "Linescan in process: PVEL_Davis_WITHPavers_2_Front\n",
      "Linescan in process: PVEL_Davis_WITHPavers_2_Back\n",
      "Saved: results\\irr_PVEL_Davis_WITHPavers_2.csv\n",
      "01_06_17_08_00\n",
      "Created PVEL_Davis.oct\n",
      "Linescan in process: PVEL_Davis_WITHPavers_3_Front\n",
      "Linescan in process: PVEL_Davis_WITHPavers_3_Back\n",
      "Saved: results\\irr_PVEL_Davis_WITHPavers_3.csv\n",
      "01_06_17_09_00\n",
      "Created PVEL_Davis.oct\n",
      "Linescan in process: PVEL_Davis_WITHPavers_4_Front\n",
      "Linescan in process: PVEL_Davis_WITHPavers_4_Back\n",
      "Saved: results\\irr_PVEL_Davis_WITHPavers_4.csv\n",
      "01_06_17_10_00\n",
      "Created PVEL_Davis.oct\n",
      "Linescan in process: PVEL_Davis_WITHPavers_5_Front\n",
      "Linescan in process: PVEL_Davis_WITHPavers_5_Back\n",
      "Saved: results\\irr_PVEL_Davis_WITHPavers_5.csv\n",
      "01_06_17_11_00\n",
      "Created PVEL_Davis.oct\n",
      "Linescan in process: PVEL_Davis_WITHPavers_6_Front\n",
      "Linescan in process: PVEL_Davis_WITHPavers_6_Back\n",
      "Saved: results\\irr_PVEL_Davis_WITHPavers_6.csv\n",
      "01_06_17_12_00\n",
      "Created PVEL_Davis.oct\n",
      "Linescan in process: PVEL_Davis_WITHPavers_7_Front\n",
      "Linescan in process: PVEL_Davis_WITHPavers_7_Back\n",
      "Saved: results\\irr_PVEL_Davis_WITHPavers_7.csv\n",
      "01_06_17_13_00\n",
      "Created PVEL_Davis.oct\n",
      "Linescan in process: PVEL_Davis_WITHPavers_8_Front\n",
      "Linescan in process: PVEL_Davis_WITHPavers_8_Back\n",
      "Saved: results\\irr_PVEL_Davis_WITHPavers_8.csv\n",
      "01_06_17_14_00\n",
      "Created PVEL_Davis.oct\n",
      "Linescan in process: PVEL_Davis_WITHPavers_9_Front\n",
      "Linescan in process: PVEL_Davis_WITHPavers_9_Back\n",
      "Saved: results\\irr_PVEL_Davis_WITHPavers_9.csv\n",
      "01_06_17_15_00\n",
      "Created PVEL_Davis.oct\n",
      "Linescan in process: PVEL_Davis_WITHPavers_10_Front\n",
      "Linescan in process: PVEL_Davis_WITHPavers_10_Back\n",
      "Saved: results\\irr_PVEL_Davis_WITHPavers_10.csv\n",
      "01_06_17_16_00\n",
      "Created PVEL_Davis.oct\n",
      "Linescan in process: PVEL_Davis_WITHPavers_11_Front\n",
      "Linescan in process: PVEL_Davis_WITHPavers_11_Back\n",
      "Saved: results\\irr_PVEL_Davis_WITHPavers_11.csv\n",
      "01_06_17_17_00\n",
      "Created PVEL_Davis.oct\n",
      "Linescan in process: PVEL_Davis_WITHPavers_12_Front\n",
      "Linescan in process: PVEL_Davis_WITHPavers_12_Back\n",
      "Saved: results\\irr_PVEL_Davis_WITHPavers_12.csv\n",
      "01_06_17_18_00\n",
      "Created PVEL_Davis.oct\n",
      "Linescan in process: PVEL_Davis_WITHPavers_13_Front\n",
      "Linescan in process: PVEL_Davis_WITHPavers_13_Back\n",
      "Saved: results\\irr_PVEL_Davis_WITHPavers_13.csv\n",
      "01_06_17_19_00\n",
      "Created PVEL_Davis.oct\n",
      "Linescan in process: PVEL_Davis_WITHPavers_14_Front\n",
      "Linescan in process: PVEL_Davis_WITHPavers_14_Back\n",
      "Saved: results\\irr_PVEL_Davis_WITHPavers_14.csv\n"
     ]
    }
   ],
   "source": [
    "j=0\n",
    "for i in range (-7, 7):\n",
    "    j+=1\n",
    "    timess = timestamp+i\n",
    "    demo.gendaylit(timess)\n",
    "    tilt = demo.getSingleTimestampTrackerAngle(metdata, timeindex=timess, gcr=gcr, \n",
    "                                       axis_azimuth=180, axis_tilt=0, \n",
    "                                       limit_angle=60, backtrack=True)\n",
    "    # create a scene with all the variables\n",
    "    sceneDict = {'tilt':tilt,'gcr': gcr,'hub_height':hub_height,'azimuth':azimuth_ang, 'module_type':moduletype, 'nMods': nMods, 'nRows': nRows}  \n",
    "    scene = demo.makeScene(moduletype=moduletype, sceneDict=sceneDict) #makeScene creates a .rad file with 20 modules per row, 7 rows.\n",
    "    # Appending Pavers here\n",
    "    demo.appendtoScene(radfile=scene.radfiles, customObject=customObjects[0], text=\"!xform -rz 0\")\n",
    "    demo.appendtoScene(radfile=scene.radfiles, customObject=customObjects[1], text=\"!xform -rz 0\")\n",
    "    demo.appendtoScene(radfile=scene.radfiles, customObject=customObjects[2], text=\"!xform -rz 0\")\n",
    "    octfile = demo.makeOct(demo.getfilelist())  # makeOct combines all of the ground, sky and object fil|es into a .oct file\n",
    "    frontscan, backscan = analysis.moduleAnalysis(scene, sensorsy=sensorsy)\n",
    "    analysis.analysis(octfile, simulationname+\"_WITHPavers_\"+str(j), frontscan, backscan)  # compare the back vs front irradiance  \n",
    "    "
   ]
  },
  {
   "cell_type": "markdown",
   "metadata": {},
   "source": [
    "# RESULTS ANALYSIS NOON"
   ]
  },
  {
   "cell_type": "code",
   "execution_count": 17,
   "metadata": {},
   "outputs": [],
   "source": [
    "df_0 = load.read1Result(os.path.join(testfolder, 'results', 'irr_PVEL_Davis_noPavers.csv'))\n",
    "df_w = load.read1Result(os.path.join(testfolder, 'results', 'irr_PVEL_Davis_WITHPavers.csv'))                        "
   ]
  },
  {
   "cell_type": "code",
   "execution_count": 18,
   "metadata": {},
   "outputs": [
    {
     "data": {
      "text/html": [
       "<div>\n",
       "<style scoped>\n",
       "    .dataframe tbody tr th:only-of-type {\n",
       "        vertical-align: middle;\n",
       "    }\n",
       "\n",
       "    .dataframe tbody tr th {\n",
       "        vertical-align: top;\n",
       "    }\n",
       "\n",
       "    .dataframe thead th {\n",
       "        text-align: right;\n",
       "    }\n",
       "</style>\n",
       "<table border=\"1\" class=\"dataframe\">\n",
       "  <thead>\n",
       "    <tr style=\"text-align: right;\">\n",
       "      <th></th>\n",
       "      <th>x</th>\n",
       "      <th>y</th>\n",
       "      <th>z</th>\n",
       "      <th>rearZ</th>\n",
       "      <th>mattype</th>\n",
       "      <th>rearMat</th>\n",
       "      <th>Wm2Front</th>\n",
       "      <th>Wm2Back</th>\n",
       "      <th>Back/FrontRatio</th>\n",
       "    </tr>\n",
       "  </thead>\n",
       "  <tbody>\n",
       "    <tr>\n",
       "      <th>0</th>\n",
       "      <td>0.773069</td>\n",
       "      <td>4.733681e-17</td>\n",
       "      <td>1.331170</td>\n",
       "      <td>1.309268</td>\n",
       "      <td>a9.1.a2.0.0.cellPVmodule.6457</td>\n",
       "      <td>a9.1.a2.0.0.cellPVmodule.2310</td>\n",
       "      <td>973.6276</td>\n",
       "      <td>115.69840</td>\n",
       "      <td>0.118832</td>\n",
       "    </tr>\n",
       "    <tr>\n",
       "      <th>1</th>\n",
       "      <td>0.600836</td>\n",
       "      <td>3.679062e-17</td>\n",
       "      <td>1.314889</td>\n",
       "      <td>1.292987</td>\n",
       "      <td>a9.1.a2.1.0.cellPVmodule.6457</td>\n",
       "      <td>a9.1.a2.1.0.cellPVmodule.2310</td>\n",
       "      <td>973.6365</td>\n",
       "      <td>108.69640</td>\n",
       "      <td>0.111639</td>\n",
       "    </tr>\n",
       "    <tr>\n",
       "      <th>2</th>\n",
       "      <td>0.428604</td>\n",
       "      <td>2.624444e-17</td>\n",
       "      <td>1.298609</td>\n",
       "      <td>1.276706</td>\n",
       "      <td>a9.1.a2.2.0.cellPVmodule.6457</td>\n",
       "      <td>a9.1.a2.2.0.cellPVmodule.2310</td>\n",
       "      <td>973.6442</td>\n",
       "      <td>104.20580</td>\n",
       "      <td>0.107026</td>\n",
       "    </tr>\n",
       "    <tr>\n",
       "      <th>3</th>\n",
       "      <td>0.256372</td>\n",
       "      <td>1.569826e-17</td>\n",
       "      <td>1.282328</td>\n",
       "      <td>1.260426</td>\n",
       "      <td>a9.1.a2.3.0.cellPVmodule.6457</td>\n",
       "      <td>a9.1.a2.3.0.cellPVmodule.2310</td>\n",
       "      <td>973.6519</td>\n",
       "      <td>97.80036</td>\n",
       "      <td>0.100447</td>\n",
       "    </tr>\n",
       "    <tr>\n",
       "      <th>4</th>\n",
       "      <td>0.084140</td>\n",
       "      <td>5.152079e-18</td>\n",
       "      <td>1.266047</td>\n",
       "      <td>1.244145</td>\n",
       "      <td>a9.1.a2.4.0.cellPVmodule.6457</td>\n",
       "      <td>a9.1.a2.4.0.cellPVmodule.2310</td>\n",
       "      <td>973.6595</td>\n",
       "      <td>99.12675</td>\n",
       "      <td>0.101808</td>\n",
       "    </tr>\n",
       "    <tr>\n",
       "      <th>5</th>\n",
       "      <td>-0.088092</td>\n",
       "      <td>-5.394103e-18</td>\n",
       "      <td>1.249766</td>\n",
       "      <td>1.227864</td>\n",
       "      <td>a9.1.a2.5.0.cellPVmodule.6457</td>\n",
       "      <td>a9.1.a2.5.0.cellPVmodule.2310</td>\n",
       "      <td>973.6672</td>\n",
       "      <td>97.01726</td>\n",
       "      <td>0.099641</td>\n",
       "    </tr>\n",
       "    <tr>\n",
       "      <th>6</th>\n",
       "      <td>-0.260325</td>\n",
       "      <td>-1.594028e-17</td>\n",
       "      <td>1.233486</td>\n",
       "      <td>1.211583</td>\n",
       "      <td>a9.1.a2.6.0.cellPVmodule.6457</td>\n",
       "      <td>a9.1.a2.6.0.cellPVmodule.2310</td>\n",
       "      <td>973.6749</td>\n",
       "      <td>99.89393</td>\n",
       "      <td>0.102595</td>\n",
       "    </tr>\n",
       "    <tr>\n",
       "      <th>7</th>\n",
       "      <td>-0.432557</td>\n",
       "      <td>-2.648647e-17</td>\n",
       "      <td>1.217205</td>\n",
       "      <td>1.195303</td>\n",
       "      <td>a9.1.a2.7.0.cellPVmodule.6457</td>\n",
       "      <td>a9.1.a2.7.0.cellPVmodule.2310</td>\n",
       "      <td>973.6825</td>\n",
       "      <td>103.59240</td>\n",
       "      <td>0.106392</td>\n",
       "    </tr>\n",
       "    <tr>\n",
       "      <th>8</th>\n",
       "      <td>-0.604789</td>\n",
       "      <td>-3.703265e-17</td>\n",
       "      <td>1.200924</td>\n",
       "      <td>1.179022</td>\n",
       "      <td>a9.1.a2.8.0.cellPVmodule.6457</td>\n",
       "      <td>a9.1.a2.8.0.cellPVmodule.2310</td>\n",
       "      <td>973.6902</td>\n",
       "      <td>112.79930</td>\n",
       "      <td>0.115847</td>\n",
       "    </tr>\n",
       "    <tr>\n",
       "      <th>9</th>\n",
       "      <td>-0.777021</td>\n",
       "      <td>-4.757883e-17</td>\n",
       "      <td>1.184643</td>\n",
       "      <td>1.162741</td>\n",
       "      <td>a9.1.a2.9.0.cellPVmodule.6457</td>\n",
       "      <td>a9.1.a2.9.0.cellPVmodule.2310</td>\n",
       "      <td>973.4704</td>\n",
       "      <td>119.55510</td>\n",
       "      <td>0.122813</td>\n",
       "    </tr>\n",
       "  </tbody>\n",
       "</table>\n",
       "</div>"
      ],
      "text/plain": [
       "          x             y         z     rearZ                        mattype  \\\n",
       "0  0.773069  4.733681e-17  1.331170  1.309268  a9.1.a2.0.0.cellPVmodule.6457   \n",
       "1  0.600836  3.679062e-17  1.314889  1.292987  a9.1.a2.1.0.cellPVmodule.6457   \n",
       "2  0.428604  2.624444e-17  1.298609  1.276706  a9.1.a2.2.0.cellPVmodule.6457   \n",
       "3  0.256372  1.569826e-17  1.282328  1.260426  a9.1.a2.3.0.cellPVmodule.6457   \n",
       "4  0.084140  5.152079e-18  1.266047  1.244145  a9.1.a2.4.0.cellPVmodule.6457   \n",
       "5 -0.088092 -5.394103e-18  1.249766  1.227864  a9.1.a2.5.0.cellPVmodule.6457   \n",
       "6 -0.260325 -1.594028e-17  1.233486  1.211583  a9.1.a2.6.0.cellPVmodule.6457   \n",
       "7 -0.432557 -2.648647e-17  1.217205  1.195303  a9.1.a2.7.0.cellPVmodule.6457   \n",
       "8 -0.604789 -3.703265e-17  1.200924  1.179022  a9.1.a2.8.0.cellPVmodule.6457   \n",
       "9 -0.777021 -4.757883e-17  1.184643  1.162741  a9.1.a2.9.0.cellPVmodule.6457   \n",
       "\n",
       "                         rearMat  Wm2Front    Wm2Back  Back/FrontRatio  \n",
       "0  a9.1.a2.0.0.cellPVmodule.2310  973.6276  115.69840         0.118832  \n",
       "1  a9.1.a2.1.0.cellPVmodule.2310  973.6365  108.69640         0.111639  \n",
       "2  a9.1.a2.2.0.cellPVmodule.2310  973.6442  104.20580         0.107026  \n",
       "3  a9.1.a2.3.0.cellPVmodule.2310  973.6519   97.80036         0.100447  \n",
       "4  a9.1.a2.4.0.cellPVmodule.2310  973.6595   99.12675         0.101808  \n",
       "5  a9.1.a2.5.0.cellPVmodule.2310  973.6672   97.01726         0.099641  \n",
       "6  a9.1.a2.6.0.cellPVmodule.2310  973.6749   99.89393         0.102595  \n",
       "7  a9.1.a2.7.0.cellPVmodule.2310  973.6825  103.59240         0.106392  \n",
       "8  a9.1.a2.8.0.cellPVmodule.2310  973.6902  112.79930         0.115847  \n",
       "9  a9.1.a2.9.0.cellPVmodule.2310  973.4704  119.55510         0.122813  "
      ]
     },
     "execution_count": 18,
     "metadata": {},
     "output_type": "execute_result"
    }
   ],
   "source": [
    "df_0"
   ]
  },
  {
   "cell_type": "code",
   "execution_count": 19,
   "metadata": {},
   "outputs": [
    {
     "data": {
      "text/html": [
       "<div>\n",
       "<style scoped>\n",
       "    .dataframe tbody tr th:only-of-type {\n",
       "        vertical-align: middle;\n",
       "    }\n",
       "\n",
       "    .dataframe tbody tr th {\n",
       "        vertical-align: top;\n",
       "    }\n",
       "\n",
       "    .dataframe thead th {\n",
       "        text-align: right;\n",
       "    }\n",
       "</style>\n",
       "<table border=\"1\" class=\"dataframe\">\n",
       "  <thead>\n",
       "    <tr style=\"text-align: right;\">\n",
       "      <th></th>\n",
       "      <th>x</th>\n",
       "      <th>y</th>\n",
       "      <th>z</th>\n",
       "      <th>rearZ</th>\n",
       "      <th>mattype</th>\n",
       "      <th>rearMat</th>\n",
       "      <th>Wm2Front</th>\n",
       "      <th>Wm2Back</th>\n",
       "      <th>Back/FrontRatio</th>\n",
       "    </tr>\n",
       "  </thead>\n",
       "  <tbody>\n",
       "    <tr>\n",
       "      <th>0</th>\n",
       "      <td>0.773069</td>\n",
       "      <td>4.733681e-17</td>\n",
       "      <td>1.331170</td>\n",
       "      <td>1.309268</td>\n",
       "      <td>a9.1.a2.0.0.cellPVmodule.6457</td>\n",
       "      <td>a9.1.a2.0.0.cellPVmodule.2310</td>\n",
       "      <td>973.6024</td>\n",
       "      <td>121.1126</td>\n",
       "      <td>0.124396</td>\n",
       "    </tr>\n",
       "    <tr>\n",
       "      <th>1</th>\n",
       "      <td>0.600836</td>\n",
       "      <td>3.679062e-17</td>\n",
       "      <td>1.314889</td>\n",
       "      <td>1.292987</td>\n",
       "      <td>a9.1.a2.1.0.cellPVmodule.6457</td>\n",
       "      <td>a9.1.a2.1.0.cellPVmodule.2310</td>\n",
       "      <td>973.5991</td>\n",
       "      <td>115.0477</td>\n",
       "      <td>0.118167</td>\n",
       "    </tr>\n",
       "    <tr>\n",
       "      <th>2</th>\n",
       "      <td>0.428604</td>\n",
       "      <td>2.624444e-17</td>\n",
       "      <td>1.298609</td>\n",
       "      <td>1.276706</td>\n",
       "      <td>a9.1.a2.2.0.cellPVmodule.6457</td>\n",
       "      <td>a9.1.a2.2.0.cellPVmodule.2310</td>\n",
       "      <td>973.5946</td>\n",
       "      <td>112.1692</td>\n",
       "      <td>0.115211</td>\n",
       "    </tr>\n",
       "    <tr>\n",
       "      <th>3</th>\n",
       "      <td>0.256372</td>\n",
       "      <td>1.569826e-17</td>\n",
       "      <td>1.282328</td>\n",
       "      <td>1.260426</td>\n",
       "      <td>a9.1.a2.3.0.cellPVmodule.6457</td>\n",
       "      <td>a9.1.a2.3.0.cellPVmodule.2310</td>\n",
       "      <td>973.5901</td>\n",
       "      <td>111.0934</td>\n",
       "      <td>0.114107</td>\n",
       "    </tr>\n",
       "    <tr>\n",
       "      <th>4</th>\n",
       "      <td>0.084140</td>\n",
       "      <td>5.152079e-18</td>\n",
       "      <td>1.266047</td>\n",
       "      <td>1.244145</td>\n",
       "      <td>a9.1.a2.4.0.cellPVmodule.6457</td>\n",
       "      <td>a9.1.a2.4.0.cellPVmodule.2310</td>\n",
       "      <td>973.5856</td>\n",
       "      <td>110.0541</td>\n",
       "      <td>0.113040</td>\n",
       "    </tr>\n",
       "    <tr>\n",
       "      <th>5</th>\n",
       "      <td>-0.088092</td>\n",
       "      <td>-5.394103e-18</td>\n",
       "      <td>1.249766</td>\n",
       "      <td>1.227864</td>\n",
       "      <td>a9.1.a2.5.0.cellPVmodule.6457</td>\n",
       "      <td>a9.1.a2.5.0.cellPVmodule.2310</td>\n",
       "      <td>973.5811</td>\n",
       "      <td>110.8804</td>\n",
       "      <td>0.113889</td>\n",
       "    </tr>\n",
       "    <tr>\n",
       "      <th>6</th>\n",
       "      <td>-0.260325</td>\n",
       "      <td>-1.594028e-17</td>\n",
       "      <td>1.233486</td>\n",
       "      <td>1.211583</td>\n",
       "      <td>a9.1.a2.6.0.cellPVmodule.6457</td>\n",
       "      <td>a9.1.a2.6.0.cellPVmodule.2310</td>\n",
       "      <td>973.5767</td>\n",
       "      <td>109.6127</td>\n",
       "      <td>0.112588</td>\n",
       "    </tr>\n",
       "    <tr>\n",
       "      <th>7</th>\n",
       "      <td>-0.432557</td>\n",
       "      <td>-2.648647e-17</td>\n",
       "      <td>1.217205</td>\n",
       "      <td>1.195303</td>\n",
       "      <td>a9.1.a2.7.0.cellPVmodule.6457</td>\n",
       "      <td>a9.1.a2.7.0.cellPVmodule.2310</td>\n",
       "      <td>973.5722</td>\n",
       "      <td>115.6951</td>\n",
       "      <td>0.118836</td>\n",
       "    </tr>\n",
       "    <tr>\n",
       "      <th>8</th>\n",
       "      <td>-0.604789</td>\n",
       "      <td>-3.703265e-17</td>\n",
       "      <td>1.200924</td>\n",
       "      <td>1.179022</td>\n",
       "      <td>a9.1.a2.8.0.cellPVmodule.6457</td>\n",
       "      <td>a9.1.a2.8.0.cellPVmodule.2310</td>\n",
       "      <td>973.6862</td>\n",
       "      <td>119.5977</td>\n",
       "      <td>0.122830</td>\n",
       "    </tr>\n",
       "    <tr>\n",
       "      <th>9</th>\n",
       "      <td>-0.777021</td>\n",
       "      <td>-4.757883e-17</td>\n",
       "      <td>1.184643</td>\n",
       "      <td>1.162741</td>\n",
       "      <td>a9.1.a2.9.0.cellPVmodule.6457</td>\n",
       "      <td>a9.1.a2.9.0.cellPVmodule.2310</td>\n",
       "      <td>973.6678</td>\n",
       "      <td>124.9773</td>\n",
       "      <td>0.128357</td>\n",
       "    </tr>\n",
       "  </tbody>\n",
       "</table>\n",
       "</div>"
      ],
      "text/plain": [
       "          x             y         z     rearZ                        mattype  \\\n",
       "0  0.773069  4.733681e-17  1.331170  1.309268  a9.1.a2.0.0.cellPVmodule.6457   \n",
       "1  0.600836  3.679062e-17  1.314889  1.292987  a9.1.a2.1.0.cellPVmodule.6457   \n",
       "2  0.428604  2.624444e-17  1.298609  1.276706  a9.1.a2.2.0.cellPVmodule.6457   \n",
       "3  0.256372  1.569826e-17  1.282328  1.260426  a9.1.a2.3.0.cellPVmodule.6457   \n",
       "4  0.084140  5.152079e-18  1.266047  1.244145  a9.1.a2.4.0.cellPVmodule.6457   \n",
       "5 -0.088092 -5.394103e-18  1.249766  1.227864  a9.1.a2.5.0.cellPVmodule.6457   \n",
       "6 -0.260325 -1.594028e-17  1.233486  1.211583  a9.1.a2.6.0.cellPVmodule.6457   \n",
       "7 -0.432557 -2.648647e-17  1.217205  1.195303  a9.1.a2.7.0.cellPVmodule.6457   \n",
       "8 -0.604789 -3.703265e-17  1.200924  1.179022  a9.1.a2.8.0.cellPVmodule.6457   \n",
       "9 -0.777021 -4.757883e-17  1.184643  1.162741  a9.1.a2.9.0.cellPVmodule.6457   \n",
       "\n",
       "                         rearMat  Wm2Front   Wm2Back  Back/FrontRatio  \n",
       "0  a9.1.a2.0.0.cellPVmodule.2310  973.6024  121.1126         0.124396  \n",
       "1  a9.1.a2.1.0.cellPVmodule.2310  973.5991  115.0477         0.118167  \n",
       "2  a9.1.a2.2.0.cellPVmodule.2310  973.5946  112.1692         0.115211  \n",
       "3  a9.1.a2.3.0.cellPVmodule.2310  973.5901  111.0934         0.114107  \n",
       "4  a9.1.a2.4.0.cellPVmodule.2310  973.5856  110.0541         0.113040  \n",
       "5  a9.1.a2.5.0.cellPVmodule.2310  973.5811  110.8804         0.113889  \n",
       "6  a9.1.a2.6.0.cellPVmodule.2310  973.5767  109.6127         0.112588  \n",
       "7  a9.1.a2.7.0.cellPVmodule.2310  973.5722  115.6951         0.118836  \n",
       "8  a9.1.a2.8.0.cellPVmodule.2310  973.6862  119.5977         0.122830  \n",
       "9  a9.1.a2.9.0.cellPVmodule.2310  973.6678  124.9773         0.128357  "
      ]
     },
     "execution_count": 19,
     "metadata": {},
     "output_type": "execute_result"
    }
   ],
   "source": [
    "df_w"
   ]
  },
  {
   "cell_type": "markdown",
   "metadata": {},
   "source": [
    "## Improvement in Rear Irradiance"
   ]
  },
  {
   "cell_type": "code",
   "execution_count": 20,
   "metadata": {},
   "outputs": [
    {
     "data": {
      "text/plain": [
       "8.7"
      ]
     },
     "execution_count": 20,
     "metadata": {},
     "output_type": "execute_result"
    }
   ],
   "source": [
    "round((df_w['Wm2Back'].mean()-df_0['Wm2Back'].mean())*100/df_0['Wm2Back'].mean(),1)"
   ]
  },
  {
   "cell_type": "markdown",
   "metadata": {},
   "source": [
    "# RESULT ANALYSIS DAY"
   ]
  },
  {
   "cell_type": "code",
   "execution_count": 21,
   "metadata": {},
   "outputs": [],
   "source": [
    "df_0 = load.read1Result(os.path.join(testfolder, 'results', 'irr_PVEL_Davis_noPavers_1.csv'))\n",
    "df_w = load.read1Result(os.path.join(testfolder, 'results', 'irr_PVEL_Davis_WITHPavers_1.csv'))"
   ]
  },
  {
   "cell_type": "code",
   "execution_count": 22,
   "metadata": {
    "scrolled": true
   },
   "outputs": [
    {
     "data": {
      "text/html": [
       "<div>\n",
       "<style scoped>\n",
       "    .dataframe tbody tr th:only-of-type {\n",
       "        vertical-align: middle;\n",
       "    }\n",
       "\n",
       "    .dataframe tbody tr th {\n",
       "        vertical-align: top;\n",
       "    }\n",
       "\n",
       "    .dataframe thead th {\n",
       "        text-align: right;\n",
       "    }\n",
       "</style>\n",
       "<table border=\"1\" class=\"dataframe\">\n",
       "  <thead>\n",
       "    <tr style=\"text-align: right;\">\n",
       "      <th></th>\n",
       "      <th>x</th>\n",
       "      <th>y</th>\n",
       "      <th>z</th>\n",
       "      <th>rearZ</th>\n",
       "      <th>mattype</th>\n",
       "      <th>rearMat</th>\n",
       "      <th>Wm2Front</th>\n",
       "      <th>Wm2Back</th>\n",
       "      <th>Back/FrontRatio</th>\n",
       "    </tr>\n",
       "  </thead>\n",
       "  <tbody>\n",
       "    <tr>\n",
       "      <th>0</th>\n",
       "      <td>0.747041</td>\n",
       "      <td>4.574305e-17</td>\n",
       "      <td>1.016924</td>\n",
       "      <td>0.995996</td>\n",
       "      <td>a9.1.a2.0.0.cellPVmodule.6457</td>\n",
       "      <td>a9.1.a2.0.0.cellPVmodule.2310</td>\n",
       "      <td>152.6737</td>\n",
       "      <td>13.742790</td>\n",
       "      <td>0.090014</td>\n",
       "    </tr>\n",
       "    <tr>\n",
       "      <th>1</th>\n",
       "      <td>0.582471</td>\n",
       "      <td>3.566604e-17</td>\n",
       "      <td>1.070269</td>\n",
       "      <td>1.049341</td>\n",
       "      <td>a9.1.a2.1.0.cellPVmodule.6457</td>\n",
       "      <td>a9.1.a2.1.0.cellPVmodule.2310</td>\n",
       "      <td>152.9724</td>\n",
       "      <td>10.672770</td>\n",
       "      <td>0.069769</td>\n",
       "    </tr>\n",
       "    <tr>\n",
       "      <th>2</th>\n",
       "      <td>0.417901</td>\n",
       "      <td>2.558903e-17</td>\n",
       "      <td>1.123614</td>\n",
       "      <td>1.102686</td>\n",
       "      <td>a9.1.a2.2.0.cellPVmodule.6457</td>\n",
       "      <td>a9.1.a2.2.0.cellPVmodule.2310</td>\n",
       "      <td>153.7429</td>\n",
       "      <td>9.810532</td>\n",
       "      <td>0.063811</td>\n",
       "    </tr>\n",
       "    <tr>\n",
       "      <th>3</th>\n",
       "      <td>0.253330</td>\n",
       "      <td>1.551202e-17</td>\n",
       "      <td>1.176959</td>\n",
       "      <td>1.156031</td>\n",
       "      <td>a9.1.a2.3.0.cellPVmodule.6457</td>\n",
       "      <td>a9.1.a2.3.0.cellPVmodule.2310</td>\n",
       "      <td>153.9639</td>\n",
       "      <td>8.149469</td>\n",
       "      <td>0.052931</td>\n",
       "    </tr>\n",
       "    <tr>\n",
       "      <th>4</th>\n",
       "      <td>0.088760</td>\n",
       "      <td>5.435010e-18</td>\n",
       "      <td>1.230304</td>\n",
       "      <td>1.209376</td>\n",
       "      <td>a9.1.a2.4.0.cellPVmodule.6457</td>\n",
       "      <td>a9.1.a2.4.0.cellPVmodule.2310</td>\n",
       "      <td>154.1858</td>\n",
       "      <td>7.525247</td>\n",
       "      <td>0.048806</td>\n",
       "    </tr>\n",
       "    <tr>\n",
       "      <th>5</th>\n",
       "      <td>-0.075810</td>\n",
       "      <td>-4.642000e-18</td>\n",
       "      <td>1.283649</td>\n",
       "      <td>1.262721</td>\n",
       "      <td>a9.1.a2.5.0.cellPVmodule.6457</td>\n",
       "      <td>a9.1.a2.5.0.cellPVmodule.2310</td>\n",
       "      <td>155.7005</td>\n",
       "      <td>7.037187</td>\n",
       "      <td>0.045197</td>\n",
       "    </tr>\n",
       "    <tr>\n",
       "      <th>6</th>\n",
       "      <td>-0.240380</td>\n",
       "      <td>-1.471901e-17</td>\n",
       "      <td>1.336994</td>\n",
       "      <td>1.316066</td>\n",
       "      <td>a9.1.a2.6.0.cellPVmodule.6457</td>\n",
       "      <td>a9.1.a2.6.0.cellPVmodule.2310</td>\n",
       "      <td>155.7680</td>\n",
       "      <td>6.644840</td>\n",
       "      <td>0.042658</td>\n",
       "    </tr>\n",
       "    <tr>\n",
       "      <th>7</th>\n",
       "      <td>-0.404950</td>\n",
       "      <td>-2.479602e-17</td>\n",
       "      <td>1.390339</td>\n",
       "      <td>1.369411</td>\n",
       "      <td>a9.1.a2.7.0.cellPVmodule.6457</td>\n",
       "      <td>a9.1.a2.7.0.cellPVmodule.2310</td>\n",
       "      <td>155.8365</td>\n",
       "      <td>6.340228</td>\n",
       "      <td>0.040685</td>\n",
       "    </tr>\n",
       "    <tr>\n",
       "      <th>8</th>\n",
       "      <td>-0.569520</td>\n",
       "      <td>-3.487303e-17</td>\n",
       "      <td>1.443684</td>\n",
       "      <td>1.422756</td>\n",
       "      <td>a9.1.a2.8.0.cellPVmodule.6457</td>\n",
       "      <td>a9.1.a2.8.0.cellPVmodule.2310</td>\n",
       "      <td>155.9049</td>\n",
       "      <td>6.148231</td>\n",
       "      <td>0.039436</td>\n",
       "    </tr>\n",
       "    <tr>\n",
       "      <th>9</th>\n",
       "      <td>-0.734090</td>\n",
       "      <td>-4.495004e-17</td>\n",
       "      <td>1.497029</td>\n",
       "      <td>1.476102</td>\n",
       "      <td>a9.1.a2.9.0.cellPVmodule.6457</td>\n",
       "      <td>a9.1.a2.9.0.cellPVmodule.2310</td>\n",
       "      <td>156.7924</td>\n",
       "      <td>5.913240</td>\n",
       "      <td>0.037714</td>\n",
       "    </tr>\n",
       "  </tbody>\n",
       "</table>\n",
       "</div>"
      ],
      "text/plain": [
       "          x             y         z     rearZ                        mattype  \\\n",
       "0  0.747041  4.574305e-17  1.016924  0.995996  a9.1.a2.0.0.cellPVmodule.6457   \n",
       "1  0.582471  3.566604e-17  1.070269  1.049341  a9.1.a2.1.0.cellPVmodule.6457   \n",
       "2  0.417901  2.558903e-17  1.123614  1.102686  a9.1.a2.2.0.cellPVmodule.6457   \n",
       "3  0.253330  1.551202e-17  1.176959  1.156031  a9.1.a2.3.0.cellPVmodule.6457   \n",
       "4  0.088760  5.435010e-18  1.230304  1.209376  a9.1.a2.4.0.cellPVmodule.6457   \n",
       "5 -0.075810 -4.642000e-18  1.283649  1.262721  a9.1.a2.5.0.cellPVmodule.6457   \n",
       "6 -0.240380 -1.471901e-17  1.336994  1.316066  a9.1.a2.6.0.cellPVmodule.6457   \n",
       "7 -0.404950 -2.479602e-17  1.390339  1.369411  a9.1.a2.7.0.cellPVmodule.6457   \n",
       "8 -0.569520 -3.487303e-17  1.443684  1.422756  a9.1.a2.8.0.cellPVmodule.6457   \n",
       "9 -0.734090 -4.495004e-17  1.497029  1.476102  a9.1.a2.9.0.cellPVmodule.6457   \n",
       "\n",
       "                         rearMat  Wm2Front    Wm2Back  Back/FrontRatio  \n",
       "0  a9.1.a2.0.0.cellPVmodule.2310  152.6737  13.742790         0.090014  \n",
       "1  a9.1.a2.1.0.cellPVmodule.2310  152.9724  10.672770         0.069769  \n",
       "2  a9.1.a2.2.0.cellPVmodule.2310  153.7429   9.810532         0.063811  \n",
       "3  a9.1.a2.3.0.cellPVmodule.2310  153.9639   8.149469         0.052931  \n",
       "4  a9.1.a2.4.0.cellPVmodule.2310  154.1858   7.525247         0.048806  \n",
       "5  a9.1.a2.5.0.cellPVmodule.2310  155.7005   7.037187         0.045197  \n",
       "6  a9.1.a2.6.0.cellPVmodule.2310  155.7680   6.644840         0.042658  \n",
       "7  a9.1.a2.7.0.cellPVmodule.2310  155.8365   6.340228         0.040685  \n",
       "8  a9.1.a2.8.0.cellPVmodule.2310  155.9049   6.148231         0.039436  \n",
       "9  a9.1.a2.9.0.cellPVmodule.2310  156.7924   5.913240         0.037714  "
      ]
     },
     "execution_count": 22,
     "metadata": {},
     "output_type": "execute_result"
    }
   ],
   "source": [
    "df_w"
   ]
  },
  {
   "cell_type": "code",
   "execution_count": 23,
   "metadata": {},
   "outputs": [
    {
     "data": {
      "text/html": [
       "<div>\n",
       "<style scoped>\n",
       "    .dataframe tbody tr th:only-of-type {\n",
       "        vertical-align: middle;\n",
       "    }\n",
       "\n",
       "    .dataframe tbody tr th {\n",
       "        vertical-align: top;\n",
       "    }\n",
       "\n",
       "    .dataframe thead th {\n",
       "        text-align: right;\n",
       "    }\n",
       "</style>\n",
       "<table border=\"1\" class=\"dataframe\">\n",
       "  <thead>\n",
       "    <tr style=\"text-align: right;\">\n",
       "      <th></th>\n",
       "      <th>x</th>\n",
       "      <th>y</th>\n",
       "      <th>z</th>\n",
       "      <th>rearZ</th>\n",
       "      <th>mattype</th>\n",
       "      <th>rearMat</th>\n",
       "      <th>Wm2Front</th>\n",
       "      <th>Wm2Back</th>\n",
       "      <th>Back/FrontRatio</th>\n",
       "    </tr>\n",
       "  </thead>\n",
       "  <tbody>\n",
       "    <tr>\n",
       "      <th>0</th>\n",
       "      <td>0.747041</td>\n",
       "      <td>4.574305e-17</td>\n",
       "      <td>1.016924</td>\n",
       "      <td>0.995996</td>\n",
       "      <td>a9.1.a2.0.0.cellPVmodule.6457</td>\n",
       "      <td>a9.1.a2.0.0.cellPVmodule.2310</td>\n",
       "      <td>152.3811</td>\n",
       "      <td>10.756250</td>\n",
       "      <td>0.070587</td>\n",
       "    </tr>\n",
       "    <tr>\n",
       "      <th>1</th>\n",
       "      <td>0.582471</td>\n",
       "      <td>3.566604e-17</td>\n",
       "      <td>1.070269</td>\n",
       "      <td>1.049341</td>\n",
       "      <td>a9.1.a2.1.0.cellPVmodule.6457</td>\n",
       "      <td>a9.1.a2.1.0.cellPVmodule.2310</td>\n",
       "      <td>152.6212</td>\n",
       "      <td>10.501100</td>\n",
       "      <td>0.068805</td>\n",
       "    </tr>\n",
       "    <tr>\n",
       "      <th>2</th>\n",
       "      <td>0.417901</td>\n",
       "      <td>2.558903e-17</td>\n",
       "      <td>1.123614</td>\n",
       "      <td>1.102686</td>\n",
       "      <td>a9.1.a2.2.0.cellPVmodule.6457</td>\n",
       "      <td>a9.1.a2.2.0.cellPVmodule.2310</td>\n",
       "      <td>152.8621</td>\n",
       "      <td>10.182470</td>\n",
       "      <td>0.066612</td>\n",
       "    </tr>\n",
       "    <tr>\n",
       "      <th>3</th>\n",
       "      <td>0.253330</td>\n",
       "      <td>1.551202e-17</td>\n",
       "      <td>1.176959</td>\n",
       "      <td>1.156031</td>\n",
       "      <td>a9.1.a2.3.0.cellPVmodule.6457</td>\n",
       "      <td>a9.1.a2.3.0.cellPVmodule.2310</td>\n",
       "      <td>154.5527</td>\n",
       "      <td>9.849690</td>\n",
       "      <td>0.063730</td>\n",
       "    </tr>\n",
       "    <tr>\n",
       "      <th>4</th>\n",
       "      <td>0.088760</td>\n",
       "      <td>5.435010e-18</td>\n",
       "      <td>1.230304</td>\n",
       "      <td>1.209376</td>\n",
       "      <td>a9.1.a2.4.0.cellPVmodule.6457</td>\n",
       "      <td>a9.1.a2.4.0.cellPVmodule.2310</td>\n",
       "      <td>154.8084</td>\n",
       "      <td>9.526002</td>\n",
       "      <td>0.061534</td>\n",
       "    </tr>\n",
       "    <tr>\n",
       "      <th>5</th>\n",
       "      <td>-0.075810</td>\n",
       "      <td>-4.642000e-18</td>\n",
       "      <td>1.283649</td>\n",
       "      <td>1.262721</td>\n",
       "      <td>a9.1.a2.5.0.cellPVmodule.6457</td>\n",
       "      <td>a9.1.a2.5.0.cellPVmodule.2310</td>\n",
       "      <td>155.0649</td>\n",
       "      <td>9.130387</td>\n",
       "      <td>0.058881</td>\n",
       "    </tr>\n",
       "    <tr>\n",
       "      <th>6</th>\n",
       "      <td>-0.240380</td>\n",
       "      <td>-1.471901e-17</td>\n",
       "      <td>1.336994</td>\n",
       "      <td>1.316066</td>\n",
       "      <td>a9.1.a2.6.0.cellPVmodule.6457</td>\n",
       "      <td>a9.1.a2.6.0.cellPVmodule.2310</td>\n",
       "      <td>156.0117</td>\n",
       "      <td>8.742713</td>\n",
       "      <td>0.056038</td>\n",
       "    </tr>\n",
       "    <tr>\n",
       "      <th>7</th>\n",
       "      <td>-0.404950</td>\n",
       "      <td>-2.479602e-17</td>\n",
       "      <td>1.390339</td>\n",
       "      <td>1.369411</td>\n",
       "      <td>a9.1.a2.7.0.cellPVmodule.6457</td>\n",
       "      <td>a9.1.a2.7.0.cellPVmodule.2310</td>\n",
       "      <td>156.0849</td>\n",
       "      <td>8.366432</td>\n",
       "      <td>0.053601</td>\n",
       "    </tr>\n",
       "    <tr>\n",
       "      <th>8</th>\n",
       "      <td>-0.569520</td>\n",
       "      <td>-3.487303e-17</td>\n",
       "      <td>1.443684</td>\n",
       "      <td>1.422756</td>\n",
       "      <td>a9.1.a2.8.0.cellPVmodule.6457</td>\n",
       "      <td>a9.1.a2.8.0.cellPVmodule.2310</td>\n",
       "      <td>156.1590</td>\n",
       "      <td>7.817106</td>\n",
       "      <td>0.050058</td>\n",
       "    </tr>\n",
       "    <tr>\n",
       "      <th>9</th>\n",
       "      <td>-0.734090</td>\n",
       "      <td>-4.495004e-17</td>\n",
       "      <td>1.497029</td>\n",
       "      <td>1.476102</td>\n",
       "      <td>a9.1.a2.9.0.cellPVmodule.6457</td>\n",
       "      <td>a9.1.a2.9.0.cellPVmodule.2310</td>\n",
       "      <td>156.5762</td>\n",
       "      <td>7.505202</td>\n",
       "      <td>0.047933</td>\n",
       "    </tr>\n",
       "  </tbody>\n",
       "</table>\n",
       "</div>"
      ],
      "text/plain": [
       "          x             y         z     rearZ                        mattype  \\\n",
       "0  0.747041  4.574305e-17  1.016924  0.995996  a9.1.a2.0.0.cellPVmodule.6457   \n",
       "1  0.582471  3.566604e-17  1.070269  1.049341  a9.1.a2.1.0.cellPVmodule.6457   \n",
       "2  0.417901  2.558903e-17  1.123614  1.102686  a9.1.a2.2.0.cellPVmodule.6457   \n",
       "3  0.253330  1.551202e-17  1.176959  1.156031  a9.1.a2.3.0.cellPVmodule.6457   \n",
       "4  0.088760  5.435010e-18  1.230304  1.209376  a9.1.a2.4.0.cellPVmodule.6457   \n",
       "5 -0.075810 -4.642000e-18  1.283649  1.262721  a9.1.a2.5.0.cellPVmodule.6457   \n",
       "6 -0.240380 -1.471901e-17  1.336994  1.316066  a9.1.a2.6.0.cellPVmodule.6457   \n",
       "7 -0.404950 -2.479602e-17  1.390339  1.369411  a9.1.a2.7.0.cellPVmodule.6457   \n",
       "8 -0.569520 -3.487303e-17  1.443684  1.422756  a9.1.a2.8.0.cellPVmodule.6457   \n",
       "9 -0.734090 -4.495004e-17  1.497029  1.476102  a9.1.a2.9.0.cellPVmodule.6457   \n",
       "\n",
       "                         rearMat  Wm2Front    Wm2Back  Back/FrontRatio  \n",
       "0  a9.1.a2.0.0.cellPVmodule.2310  152.3811  10.756250         0.070587  \n",
       "1  a9.1.a2.1.0.cellPVmodule.2310  152.6212  10.501100         0.068805  \n",
       "2  a9.1.a2.2.0.cellPVmodule.2310  152.8621  10.182470         0.066612  \n",
       "3  a9.1.a2.3.0.cellPVmodule.2310  154.5527   9.849690         0.063730  \n",
       "4  a9.1.a2.4.0.cellPVmodule.2310  154.8084   9.526002         0.061534  \n",
       "5  a9.1.a2.5.0.cellPVmodule.2310  155.0649   9.130387         0.058881  \n",
       "6  a9.1.a2.6.0.cellPVmodule.2310  156.0117   8.742713         0.056038  \n",
       "7  a9.1.a2.7.0.cellPVmodule.2310  156.0849   8.366432         0.053601  \n",
       "8  a9.1.a2.8.0.cellPVmodule.2310  156.1590   7.817106         0.050058  \n",
       "9  a9.1.a2.9.0.cellPVmodule.2310  156.5762   7.505202         0.047933  "
      ]
     },
     "execution_count": 23,
     "metadata": {},
     "output_type": "execute_result"
    }
   ],
   "source": [
    "df_0"
   ]
  },
  {
   "cell_type": "code",
   "execution_count": 24,
   "metadata": {},
   "outputs": [
    {
     "data": {
      "text/plain": [
       "-11.3"
      ]
     },
     "execution_count": 24,
     "metadata": {},
     "output_type": "execute_result"
    }
   ],
   "source": [
    "round((df_w['Wm2Back'].mean()-df_0['Wm2Back'].mean())*100/df_0['Wm2Back'].mean(),1)"
   ]
  },
  {
   "cell_type": "code",
   "execution_count": 25,
   "metadata": {},
   "outputs": [
    {
     "name": "stdout",
     "output_type": "stream",
     "text": [
      "-11.3\n",
      "17.7\n",
      "39.5\n",
      "33.5\n",
      "24.4\n",
      "7.2\n",
      "9.3\n",
      "9.1\n",
      "9.0\n",
      "17.7\n",
      "32.9\n",
      "37.1\n",
      "38.9\n",
      "22.4\n"
     ]
    }
   ],
   "source": [
    "average_back_d0=[]\n",
    "average_back_dw=[]\n",
    "average_front = []\n",
    "hourly_rearirradiance_comparison = []\n",
    "for i in range (1, 15):\n",
    "    df_0 = load.read1Result(os.path.join(testfolder, 'results', 'irr_PVEL_Davis_noPavers_'+str(i)+'.csv'))\n",
    "    df_w = load.read1Result(os.path.join(testfolder, 'results', 'irr_PVEL_Davis_WITHPavers_'+str(i)+'.csv'))\n",
    "    print(round((df_w['Wm2Back'].mean()-df_0['Wm2Back'].mean())*100/df_0['Wm2Back'].mean(),1))\n",
    "    hourly_rearirradiance_comparison.append(round((df_w['Wm2Back'].mean()-df_0['Wm2Back'].mean())*100/df_0['Wm2Back'].mean(),1))\n",
    "    average_back_d0.append(df_0['Wm2Back'].mean())\n",
    "    average_back_dw.append(df_w['Wm2Back'].mean())\n",
    "    average_front.append(df_0['Wm2Front'].mean())\n",
    "    "
   ]
  },
  {
   "cell_type": "code",
   "execution_count": 26,
   "metadata": {},
   "outputs": [
    {
     "name": "stdout",
     "output_type": "stream",
     "text": [
      "Increase in rear irradiance:  19.6\n"
     ]
    }
   ],
   "source": [
    "print(\"Increase in rear irradiance: \", round((sum(average_back_dw)-sum(average_back_d0))*100/sum(average_back_d0),1))"
   ]
  },
  {
   "cell_type": "code",
   "execution_count": 27,
   "metadata": {},
   "outputs": [
    {
     "name": "stdout",
     "output_type": "stream",
     "text": [
      "BG no Pavers:  8.2\n",
      "BG with Pavers:  9.8\n"
     ]
    }
   ],
   "source": [
    "print(\"BG no Pavers: \", round(sum(average_back_d0)*100/sum(average_front),1))\n",
    "print(\"BG with Pavers: \", round(sum(average_back_dw)*100/sum(average_front),1))"
   ]
  },
  {
   "cell_type": "code",
   "execution_count": 28,
   "metadata": {},
   "outputs": [],
   "source": [
    "import matplotlib.pyplot as plt\n",
    "xax= [6, 7, 8, 9, 10, 11, 12,13,14,15,16, 17, 18, 19]\n"
   ]
  },
  {
   "cell_type": "code",
   "execution_count": 29,
   "metadata": {},
   "outputs": [
    {
     "data": {
      "text/plain": [
       "Text(0.5, 0, 'Hour')"
      ]
     },
     "execution_count": 29,
     "metadata": {},
     "output_type": "execute_result"
    },
    {
     "data": {
      "image/png": "[encoded data removed]",
      "text/plain": [
       "<Figure size 432x288 with 1 Axes>"
      ]
     },
     "metadata": {
      "needs_background": "light"
     },
     "output_type": "display_data"
    }
   ],
   "source": [
    "plt.plot(xax,hourly_rearirradiance_comparison)\n",
    "plt.ylabel('$\\Delta$ in G$_{rear}$ [%] \\n(G$_{rear-with}$ - G$_{rear-without}$ / G$_{rear-without}$)')\n",
    "plt.xlabel('Hour')"
   ]
  },
  {
   "cell_type": "code",
   "execution_count": null,
   "metadata": {},
   "outputs": [],
   "source": []
  }
 ],
 "metadata": {
  "kernelspec": {
   "display_name": "Python 3",
   "language": "python",
   "name": "python3"
  },
  "language_info": {
   "codemirror_mode": {
    "name": "ipython",
    "version": 3
   },
   "file_extension": ".py",
   "mimetype": "text/x-python",
   "name": "python",
   "nbconvert_exporter": "python",
   "pygments_lexer": "ipython3",
   "version": "3.8.3"
  }
 },
 "nbformat": 4,
 "nbformat_minor": 4
}
