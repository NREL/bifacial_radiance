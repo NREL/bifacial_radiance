{
 "cells": [
  {
   "cell_type": "markdown",
   "metadata": {},
   "source": [
    "# 9 - Torquetube Shading\n",
    "## Recreating JPV 2019 / PVSC 2018 Fig. 13\n",
    "\n",
    "\n",
    "Calculating and plotting shading from torque tube on 1-axis tracking for 1 day, which is figure 13 in: \n",
    "\n",
    "            Ayala Pelaez S, Deline C, Greenberg P, Stein JS, Kostuk RK. Model and validation of single-axis tracking with bifacial PV. IEEE J Photovoltaics. 2019;9(3):715–21. https://ieeexplore.ieee.org/document/8644027 and https://www.nrel.gov/docs/fy19osti/72039.pdf (pre-print, conference version)\n",
    "\n",
    "\n",
    "This is what we will re-create:\n",
    "![Ayala JPV-2](../images_wiki/JPV_Ayala_Fig13.PNG)\n",
    "\n",
    "Use bifacial_radiance minimum v. 0.3.1 or higher. Many things have been updated since this paper, simplifying the generation of this plot:\n",
    "\n",
    "<ul>\n",
    "    <li> Sensor position is now always generated E to W on N-S tracking systems, so same sensor positions can just be added for this calculation at the end without needing to flip the sensors. </li>\n",
    "    <li> Torquetubes get automatically generated in makeModule. Following PVSC 2018 paper, rotation is around the modules and not around the torque tube axis (which is a new feature) </li>\n",
    "    <li> Simulating only 1 day on single-axis tracking easier with cumulativesky = False and gendaylit1axis(startdate='06/24', enddate='06/24' </li> \n",
    "    <li> Sensors get generated very close to surface, so all results are from the module surface and not the torquetube for this 1-UP case. </li>\n",
    "</ul>\n",
    "\n",
    "## Steps:\n",
    "\n",
    "<ol>\n",
    "    <li> <a href='#step1'> Running the simulations for all the cases: </li>\n",
    "    <ol type='A'> \n",
    "        <li> <a href='#step1a'>Baseline Case: No Torque Tube </a></li>\n",
    "        <li> <a href='#step1b'> Zgap = 0.1 </a></li>\n",
    "        <li> <a href='#step1c'> Zgap = 0.2 </a></li>\n",
    "        <li> <a href='#step1d'> Zgap = 0.3 </a></li>\n",
    "    </ol>\n",
    "    <li> <a href='#step2'> Read-back the values and tabulate average values for unshaded, 10cm gap and 30cm gap </a></li>\n",
    "    <li> <a href='#step3'> Plot spatial loss values for 10cm and 30cm data </a></li>\n",
    "    <li> <a href='#step4'> Overall Shading Factor (for 1 day) </a></li>\n",
    "</ol>\n",
    "\n"
   ]
  },
  {
   "cell_type": "markdown",
   "metadata": {},
   "source": [
    "<a id='step1'></a>"
   ]
  },
  {
   "cell_type": "markdown",
   "metadata": {},
   "source": [
    "### 1. Running the simulations for all the cases"
   ]
  },
  {
   "cell_type": "code",
   "execution_count": 1,
   "metadata": {},
   "outputs": [
    {
     "name": "stdout",
     "output_type": "stream",
     "text": [
      "Your simulation will be stored in C:\\Users\\sayala\\Documents\\GitHub\\bifacial_radiance\\bifacial_radiance\\TEMP\\Tutorial_09\n"
     ]
    }
   ],
   "source": [
    "import os\n",
    "from pathlib import Path\n",
    "\n",
    "testfolder = str(Path().resolve().parent.parent / 'bifacial_radiance' / 'TEMP' / 'Tutorial_09')\n",
    "if not os.path.exists(testfolder):\n",
    "    os.makedirs(testfolder)\n",
    "\n",
    "print (\"Your simulation will be stored in %s\" % testfolder)"
   ]
  },
  {
   "cell_type": "code",
   "execution_count": 2,
   "metadata": {},
   "outputs": [],
   "source": [
    "# VARIABLES of the simulation: \n",
    "lat = 35.1 # ABQ\n",
    "lon = -106.7 # ABQ\n",
    "x=1\n",
    "y = 2 \n",
    "numpanels=1\n",
    "limit_angle = 45 # tracker rotation limit angle\n",
    "backtrack = True\n",
    "albedo = 'concrete'     # ground albedo\n",
    "hub_height = y*0.75   # H = 0.75 \n",
    "gcr = 0.35  \n",
    "pitch = y/gcr\n",
    "#pitch = 1.0/gcr # Check from 1Axis_Shading_PVSC2018 file\n",
    "cumulativesky = False # needed for set1axis and makeScene1axis so simulation is done hourly not with gencumsky.\n",
    "limit_angle = 45 # tracker rotation limit angle\n",
    "nMods=10\n",
    "nRows=3\n",
    "sensorsy = 200\n",
    "module_type='test-module'\n",
    "datewanted='06_24' # sunny day 6/24/1972 (index 4180 - 4195). Valid formats starting version 0.4.0 for full day sim: mm_dd\n",
    "\n",
    "## Torque tube info\n",
    "tubetype='round'\n",
    "material = 'Metal_Grey'\n",
    "diameter = 0.1\n",
    "axisofrotationTorqueTube = False   # Original PVSC version rotated around the modules like most other software.\n",
    "# Variables that will get defined on each iteration below:\n",
    "zgap = 0 # 0.2, 0.3 values tested. Re-defined on each simulation.\n",
    "visible = False # baseline is no torque tube.\n"
   ]
  },
  {
   "cell_type": "code",
   "execution_count": 3,
   "metadata": {},
   "outputs": [
    {
     "name": "stdout",
     "output_type": "stream",
     "text": [
      "0.3.4+387.g07a8343.dirty\n",
      "path = C:\\Users\\sayala\\Documents\\GitHub\\bifacial_radiance\\bifacial_radiance\\TEMP\\Tutorial_09\n",
      "Loading albedo, 1 value(s), 0.281 avg\n",
      "1 nonzero albedo values.\n",
      "Getting weather file: USA_NM_Albuquerque.723650_TMY2.epw\n",
      " ... OK!\n",
      "8760 line in WeatherFile. Assuming this is a standard hourly WeatherFile for the year for purposes of saving Gencumulativesky temporary weather files in EPW folder.\n",
      "Coercing year to 2021\n",
      "Filtering dates\n",
      "Saving file EPWs\\metdata_temp.csv, # points: 8760\n",
      "Calculating Sun position for Metdata that is right-labeled  with a delta of -30 mins. i.e. 12 is 11:30 sunpos\n",
      "Creating ~14 skyfiles. \n",
      "Created 13 skyfiles in /skies/\n"
     ]
    }
   ],
   "source": [
    "# Simulation Start.\n",
    "import bifacial_radiance\n",
    "import numpy as np\n",
    "\n",
    "print(bifacial_radiance.__version__)\n",
    "\n",
    "demo = bifacial_radiance.RadianceObj(path = testfolder)  \n",
    "demo.setGround(albedo)\n",
    "epwfile = demo.getEPW(lat, lon) \n",
    "metdata = demo.readWeatherFile(epwfile, starttime=datewanted, endtime=datewanted) \n",
    "trackerdict = demo.set1axis(metdata, limit_angle = limit_angle, backtrack = backtrack, gcr = gcr, cumulativesky = cumulativesky)\n",
    "trackerdict = demo.gendaylit1axis() \n",
    "sceneDict = {'pitch':pitch,'hub_height':hub_height, 'nMods': nMods, 'nRows': nRows}  "
   ]
  },
  {
   "cell_type": "markdown",
   "metadata": {},
   "source": [
    "<a id='step1a'></a>"
   ]
  },
  {
   "cell_type": "markdown",
   "metadata": {},
   "source": [
    "### A. Baseline Case: No Torque Tube\n",
    "\n",
    "When torquetube is False, zgap is the distance from axis of torque tube to module surface, but since we are rotating from the module's axis, this Zgap doesn't matter for this baseline case."
   ]
  },
  {
   "cell_type": "code",
   "execution_count": 4,
   "metadata": {},
   "outputs": [
    {
     "name": "stdout",
     "output_type": "stream",
     "text": [
      "\n",
      "Module Name: _NoTT\n",
      "Module _NoTT updated in module.json\n",
      "Pre-existing .rad file objects\\_NoTT.rad will be overwritten\n",
      "Module _NoTT updated in module.json\n",
      "Pre-existing .rad file objects\\_NoTT.rad will be overwritten\n",
      "\n",
      "Making ~13 .rad files for gendaylit 1-axis workflow (this takes a minute..)\n",
      "13 Radfiles created in /objects/\n",
      "\n",
      "Making 13 octfiles in root directory.\n",
      "Created 1axis_2021-06-24_0600.oct\n",
      "Created 1axis_2021-06-24_0700.oct\n",
      "Created 1axis_2021-06-24_0800.oct\n",
      "Created 1axis_2021-06-24_0900.oct\n",
      "Created 1axis_2021-06-24_1000.oct\n",
      "Created 1axis_2021-06-24_1100.oct\n",
      "Created 1axis_2021-06-24_1200.oct\n",
      "Created 1axis_2021-06-24_1300.oct\n",
      "Created 1axis_2021-06-24_1400.oct\n",
      "Created 1axis_2021-06-24_1500.oct\n",
      "Created 1axis_2021-06-24_1600.oct\n",
      "Created 1axis_2021-06-24_1700.oct\n",
      "Created 1axis_2021-06-24_1800.oct\n",
      "Linescan in process: 1axis_2021-06-24_0600_NoTT_Front\n",
      "Linescan in process: 1axis_2021-06-24_0600_NoTT_Back\n",
      "Saved: results\\irr_1axis_2021-06-24_0600_NoTT.csv\n",
      "Index: 2021-06-24_0600. Wm2Front: 160.73402666666667. Wm2Back: 17.121764033333335\n",
      "Linescan in process: 1axis_2021-06-24_0700_NoTT_Front\n",
      "Linescan in process: 1axis_2021-06-24_0700_NoTT_Back\n",
      "Saved: results\\irr_1axis_2021-06-24_0700_NoTT.csv\n",
      "Index: 2021-06-24_0700. Wm2Front: 711.7897250000001. Wm2Back: 15.662987166666667\n",
      "Linescan in process: 1axis_2021-06-24_0800_NoTT_Front\n",
      "Linescan in process: 1axis_2021-06-24_0800_NoTT_Back\n",
      "Saved: results\\irr_1axis_2021-06-24_0800_NoTT.csv\n",
      "Index: 2021-06-24_0800. Wm2Front: 924.5799430000001. Wm2Back: 69.3365472\n",
      "Linescan in process: 1axis_2021-06-24_0900_NoTT_Front\n",
      "Linescan in process: 1axis_2021-06-24_0900_NoTT_Back\n",
      "Saved: results\\irr_1axis_2021-06-24_0900_NoTT.csv\n",
      "Index: 2021-06-24_0900. Wm2Front: 1039.2877216666666. Wm2Back: 84.73331776666666\n",
      "Linescan in process: 1axis_2021-06-24_1000_NoTT_Front\n",
      "Linescan in process: 1axis_2021-06-24_1000_NoTT_Back\n",
      "Saved: results\\irr_1axis_2021-06-24_1000_NoTT.csv\n",
      "Index: 2021-06-24_1000. Wm2Front: 1077.4515266666667. Wm2Back: 107.66131883333334\n",
      "Linescan in process: 1axis_2021-06-24_1100_NoTT_Front\n",
      "Linescan in process: 1axis_2021-06-24_1100_NoTT_Back\n",
      "Saved: results\\irr_1axis_2021-06-24_1100_NoTT.csv\n",
      "Index: 2021-06-24_1100. Wm2Front: 1083.8388816666668. Wm2Back: 133.7681057\n",
      "Linescan in process: 1axis_2021-06-24_1200_NoTT_Front\n",
      "Linescan in process: 1axis_2021-06-24_1200_NoTT_Back\n",
      "Saved: results\\irr_1axis_2021-06-24_1200_NoTT.csv\n",
      "Index: 2021-06-24_1200. Wm2Front: 1085.4498483333332. Wm2Back: 150.34431866666668\n",
      "Linescan in process: 1axis_2021-06-24_1300_NoTT_Front\n",
      "Linescan in process: 1axis_2021-06-24_1300_NoTT_Back\n",
      "Saved: results\\irr_1axis_2021-06-24_1300_NoTT.csv\n",
      "Index: 2021-06-24_1300. Wm2Front: 1083.580191666667. Wm2Back: 152.35295416666665\n",
      "Linescan in process: 1axis_2021-06-24_1400_NoTT_Front\n",
      "Linescan in process: 1axis_2021-06-24_1400_NoTT_Back\n",
      "Saved: results\\irr_1axis_2021-06-24_1400_NoTT.csv\n",
      "Index: 2021-06-24_1400. Wm2Front: 1090.0554633333334. Wm2Back: 139.71770083333334\n",
      "Linescan in process: 1axis_2021-06-24_1500_NoTT_Front\n",
      "Linescan in process: 1axis_2021-06-24_1500_NoTT_Back\n",
      "Saved: results\\irr_1axis_2021-06-24_1500_NoTT.csv\n",
      "Index: 2021-06-24_1500. Wm2Front: 1088.7448499999998. Wm2Back: 115.78704476666665\n",
      "Linescan in process: 1axis_2021-06-24_1600_NoTT_Front\n",
      "Linescan in process: 1axis_2021-06-24_1600_NoTT_Back\n",
      "Saved: results\\irr_1axis_2021-06-24_1600_NoTT.csv\n",
      "Index: 2021-06-24_1600. Wm2Front: 1063.6545199999998. Wm2Back: 88.75401606666667\n",
      "Linescan in process: 1axis_2021-06-24_1700_NoTT_Front\n",
      "Linescan in process: 1axis_2021-06-24_1700_NoTT_Back\n",
      "Saved: results\\irr_1axis_2021-06-24_1700_NoTT.csv\n",
      "Index: 2021-06-24_1700. Wm2Front: 973.7315478333334. Wm2Back: 74.38548493333333\n",
      "Linescan in process: 1axis_2021-06-24_1800_NoTT_Front\n",
      "Linescan in process: 1axis_2021-06-24_1800_NoTT_Back\n",
      "Saved: results\\irr_1axis_2021-06-24_1800_NoTT.csv\n",
      "Index: 2021-06-24_1800. Wm2Front: 795.1581940000001. Wm2Back: 29.155385466666665\n",
      "Saving a cumulative-results file in the main simulation folder.This adds up by sensor location the irradiance over all hours or configurations considered.\n",
      "Warning: This file saving routine does not clean results, so if your setup has ygaps, or 2+modules or torque tubes, doing a deeper cleaning and working with the individual results files in the results folder is highly suggested.\n",
      "\n",
      "Saving Cumulative results\n",
      "Saved: cumulative_results__NoTT.csv\n"
     ]
    }
   ],
   "source": [
    "#CASE 0 No torque tube\n",
    "# When torquetube is False, zgap is the distance from axis of torque tube to module surface, but since we are rotating from the module's axis, this Zgap doesn't matter.\n",
    "# zgap = 0.1 + diameter/2.0  \n",
    "torquetube = False \n",
    "customname = '_NoTT'\n",
    "module_NoTT = demo.makeModule(name=customname,x=x,y=y, numpanels=numpanels)\n",
    "module_NoTT.addTorquetube(visible=False, axisofrotation=False, diameter=0)\n",
    "trackerdict = demo.makeScene1axis(trackerdict, module_NoTT, sceneDict, cumulativesky = cumulativesky) \n",
    "trackerdict = demo.makeOct1axis(trackerdict)\n",
    "trackerdict = demo.analysis1axis(trackerdict, sensorsy = sensorsy, customname = customname)\n"
   ]
  },
  {
   "cell_type": "markdown",
   "metadata": {},
   "source": [
    "<a id='step1b'></a>"
   ]
  },
  {
   "cell_type": "markdown",
   "metadata": {},
   "source": [
    "### B. ZGAP = 0.1"
   ]
  },
  {
   "cell_type": "code",
   "execution_count": 5,
   "metadata": {},
   "outputs": [
    {
     "name": "stdout",
     "output_type": "stream",
     "text": [
      "\n",
      "Module Name: _zgap0.1\n",
      "Module _zgap0.1 updated in module.json\n",
      "\n",
      "Making ~13 .rad files for gendaylit 1-axis workflow (this takes a minute..)\n",
      "13 Radfiles created in /objects/\n",
      "\n",
      "Making 13 octfiles in root directory.\n",
      "Created 1axis_2021-06-24_0600.oct\n",
      "Created 1axis_2021-06-24_0700.oct\n",
      "Created 1axis_2021-06-24_0800.oct\n",
      "Created 1axis_2021-06-24_0900.oct\n",
      "Created 1axis_2021-06-24_1000.oct\n",
      "Created 1axis_2021-06-24_1100.oct\n",
      "Created 1axis_2021-06-24_1200.oct\n",
      "Created 1axis_2021-06-24_1300.oct\n",
      "Created 1axis_2021-06-24_1400.oct\n",
      "Created 1axis_2021-06-24_1500.oct\n",
      "Created 1axis_2021-06-24_1600.oct\n",
      "Created 1axis_2021-06-24_1700.oct\n",
      "Created 1axis_2021-06-24_1800.oct\n",
      "Linescan in process: 1axis_2021-06-24_0600_zgap0.1_Front\n",
      "Linescan in process: 1axis_2021-06-24_0600_zgap0.1_Back\n",
      "Saved: results\\irr_1axis_2021-06-24_0600_zgap0.1.csv\n",
      "Index: 2021-06-24_0600. Wm2Front: 160.58522366666668. Wm2Back: 16.314374041666664\n",
      "Linescan in process: 1axis_2021-06-24_0700_zgap0.1_Front\n",
      "Linescan in process: 1axis_2021-06-24_0700_zgap0.1_Back\n",
      "Saved: results\\irr_1axis_2021-06-24_0700_zgap0.1.csv\n",
      "Index: 2021-06-24_0700. Wm2Front: 711.8783271666666. Wm2Back: 14.72640245\n",
      "Linescan in process: 1axis_2021-06-24_0800_zgap0.1_Front\n",
      "Linescan in process: 1axis_2021-06-24_0800_zgap0.1_Back\n",
      "Saved: results\\irr_1axis_2021-06-24_0800_zgap0.1.csv\n",
      "Index: 2021-06-24_0800. Wm2Front: 924.6545375000001. Wm2Back: 65.33095958333334\n",
      "Linescan in process: 1axis_2021-06-24_0900_zgap0.1_Front\n",
      "Linescan in process: 1axis_2021-06-24_0900_zgap0.1_Back\n",
      "Saved: results\\irr_1axis_2021-06-24_0900_zgap0.1.csv\n",
      "Index: 2021-06-24_0900. Wm2Front: 1039.1562083333333. Wm2Back: 80.46069813333334\n",
      "Linescan in process: 1axis_2021-06-24_1000_zgap0.1_Front\n",
      "Linescan in process: 1axis_2021-06-24_1000_zgap0.1_Back\n",
      "Saved: results\\irr_1axis_2021-06-24_1000_zgap0.1.csv\n",
      "Index: 2021-06-24_1000. Wm2Front: 1078.4097983333334. Wm2Back: 102.5569975\n",
      "Linescan in process: 1axis_2021-06-24_1100_zgap0.1_Front\n",
      "Linescan in process: 1axis_2021-06-24_1100_zgap0.1_Back\n",
      "Saved: results\\irr_1axis_2021-06-24_1100_zgap0.1.csv\n",
      "Index: 2021-06-24_1100. Wm2Front: 1083.4543766666666. Wm2Back: 126.3588816\n",
      "Linescan in process: 1axis_2021-06-24_1200_zgap0.1_Front\n",
      "Linescan in process: 1axis_2021-06-24_1200_zgap0.1_Back\n",
      "Saved: results\\irr_1axis_2021-06-24_1200_zgap0.1.csv\n",
      "Index: 2021-06-24_1200. Wm2Front: 1085.5948533333335. Wm2Back: 143.09100388333331\n",
      "Linescan in process: 1axis_2021-06-24_1300_zgap0.1_Front\n",
      "Linescan in process: 1axis_2021-06-24_1300_zgap0.1_Back\n",
      "Saved: results\\irr_1axis_2021-06-24_1300_zgap0.1.csv\n",
      "Index: 2021-06-24_1300. Wm2Front: 1083.3561866666669. Wm2Back: 143.74302033333333\n",
      "Linescan in process: 1axis_2021-06-24_1400_zgap0.1_Front\n",
      "Linescan in process: 1axis_2021-06-24_1400_zgap0.1_Back\n",
      "Saved: results\\irr_1axis_2021-06-24_1400_zgap0.1.csv\n",
      "Index: 2021-06-24_1400. Wm2Front: 1089.9818416666667. Wm2Back: 133.16825973333334\n",
      "Linescan in process: 1axis_2021-06-24_1500_zgap0.1_Front\n",
      "Linescan in process: 1axis_2021-06-24_1500_zgap0.1_Back\n",
      "Saved: results\\irr_1axis_2021-06-24_1500_zgap0.1.csv\n",
      "Index: 2021-06-24_1500. Wm2Front: 1089.1320249999999. Wm2Back: 110.99724395000001\n",
      "Linescan in process: 1axis_2021-06-24_1600_zgap0.1_Front\n",
      "Linescan in process: 1axis_2021-06-24_1600_zgap0.1_Back\n",
      "Saved: results\\irr_1axis_2021-06-24_1600_zgap0.1.csv\n",
      "Index: 2021-06-24_1600. Wm2Front: 1063.6464533333333. Wm2Back: 84.98364443333334\n",
      "Linescan in process: 1axis_2021-06-24_1700_zgap0.1_Front\n",
      "Linescan in process: 1axis_2021-06-24_1700_zgap0.1_Back\n",
      "Saved: results\\irr_1axis_2021-06-24_1700_zgap0.1.csv\n",
      "Index: 2021-06-24_1700. Wm2Front: 974.0719039999999. Wm2Back: 71.22193366666666\n",
      "Linescan in process: 1axis_2021-06-24_1800_zgap0.1_Front\n",
      "Linescan in process: 1axis_2021-06-24_1800_zgap0.1_Back\n",
      "Saved: results\\irr_1axis_2021-06-24_1800_zgap0.1.csv\n",
      "Index: 2021-06-24_1800. Wm2Front: 795.5270095. Wm2Back: 27.774535033333333\n",
      "Saving a cumulative-results file in the main simulation folder.This adds up by sensor location the irradiance over all hours or configurations considered.\n",
      "Warning: This file saving routine does not clean results, so if your setup has ygaps, or 2+modules or torque tubes, doing a deeper cleaning and working with the individual results files in the results folder is highly suggested.\n",
      "\n",
      "Saving Cumulative results\n",
      "Saved: cumulative_results__zgap0.1.csv\n"
     ]
    }
   ],
   "source": [
    "#ZGAP 0.1 \n",
    "zgap = 0.1\n",
    "customname = '_zgap0.1'\n",
    "tubeParams = {'tubetype':tubetype,\n",
    "              'diameter':diameter,\n",
    "              'material':material,\n",
    "              'axisofrotation':False,\n",
    "              'visible':True} # either pass this into makeModule, or separately into module.addTorquetube()\n",
    "module_zgap01 = demo.makeModule(name=customname, x=x,y=y, numpanels=numpanels, zgap=zgap, tubeParams=tubeParams)\n",
    "trackerdict = demo.makeScene1axis(trackerdict, module_zgap01, sceneDict, cumulativesky = cumulativesky) \n",
    "trackerdict = demo.makeOct1axis(trackerdict)\n",
    "trackerdict = demo.analysis1axis(trackerdict, sensorsy = sensorsy, customname = customname)"
   ]
  },
  {
   "cell_type": "markdown",
   "metadata": {},
   "source": [
    "<a id='step1c'></a>"
   ]
  },
  {
   "cell_type": "markdown",
   "metadata": {},
   "source": [
    "### C. ZGAP = 0.2"
   ]
  },
  {
   "cell_type": "code",
   "execution_count": 7,
   "metadata": {},
   "outputs": [
    {
     "name": "stdout",
     "output_type": "stream",
     "text": [
      "\n",
      "Module Name: _zgap0.2\n",
      "Module _zgap0.2 updated in module.json\n",
      "Pre-existing .rad file objects\\_zgap0.2.rad will be overwritten\n",
      "\n",
      "Making ~13 .rad files for gendaylit 1-axis workflow (this takes a minute..)\n",
      "13 Radfiles created in /objects/\n",
      "\n",
      "Making 13 octfiles in root directory.\n",
      "Created 1axis_2021-06-24_0600.oct\n",
      "Created 1axis_2021-06-24_0700.oct\n",
      "Created 1axis_2021-06-24_0800.oct\n",
      "Created 1axis_2021-06-24_0900.oct\n",
      "Created 1axis_2021-06-24_1000.oct\n",
      "Created 1axis_2021-06-24_1100.oct\n",
      "Created 1axis_2021-06-24_1200.oct\n",
      "Created 1axis_2021-06-24_1300.oct\n",
      "Created 1axis_2021-06-24_1400.oct\n",
      "Created 1axis_2021-06-24_1500.oct\n",
      "Created 1axis_2021-06-24_1600.oct\n",
      "Created 1axis_2021-06-24_1700.oct\n",
      "Created 1axis_2021-06-24_1800.oct\n",
      "Linescan in process: 1axis_2021-06-24_0600_zgap0.2_Front\n",
      "Linescan in process: 1axis_2021-06-24_0600_zgap0.2_Back\n",
      "Saved: results\\irr_1axis_2021-06-24_0600_zgap0.2.csv\n",
      "Index: 2021-06-24_0600. Wm2Front: 160.6793395. Wm2Back: 16.308693233333333\n",
      "Linescan in process: 1axis_2021-06-24_0700_zgap0.2_Front\n",
      "Linescan in process: 1axis_2021-06-24_0700_zgap0.2_Back\n",
      "Saved: results\\irr_1axis_2021-06-24_0700_zgap0.2.csv\n",
      "Index: 2021-06-24_0700. Wm2Front: 711.6508748333333. Wm2Back: 14.997858851666665\n",
      "Linescan in process: 1axis_2021-06-24_0800_zgap0.2_Front\n",
      "Linescan in process: 1axis_2021-06-24_0800_zgap0.2_Back\n",
      "Saved: results\\irr_1axis_2021-06-24_0800_zgap0.2.csv\n",
      "Index: 2021-06-24_0800. Wm2Front: 924.6050766666667. Wm2Back: 65.85995245000001\n",
      "Linescan in process: 1axis_2021-06-24_0900_zgap0.2_Front\n",
      "Linescan in process: 1axis_2021-06-24_0900_zgap0.2_Back\n",
      "Saved: results\\irr_1axis_2021-06-24_0900_zgap0.2.csv\n",
      "Index: 2021-06-24_0900. Wm2Front: 1039.106215. Wm2Back: 81.24756816666667\n",
      "Linescan in process: 1axis_2021-06-24_1000_zgap0.2_Front\n",
      "Linescan in process: 1axis_2021-06-24_1000_zgap0.2_Back\n",
      "Saved: results\\irr_1axis_2021-06-24_1000_zgap0.2.csv\n",
      "Index: 2021-06-24_1000. Wm2Front: 1078.0332999999998. Wm2Back: 103.389067\n",
      "Linescan in process: 1axis_2021-06-24_1100_zgap0.2_Front\n",
      "Linescan in process: 1axis_2021-06-24_1100_zgap0.2_Back\n",
      "Saved: results\\irr_1axis_2021-06-24_1100_zgap0.2.csv\n",
      "Index: 2021-06-24_1100. Wm2Front: 1083.9385066666666. Wm2Back: 127.08079916666668\n",
      "Linescan in process: 1axis_2021-06-24_1200_zgap0.2_Front\n",
      "Linescan in process: 1axis_2021-06-24_1200_zgap0.2_Back\n",
      "Saved: results\\irr_1axis_2021-06-24_1200_zgap0.2.csv\n",
      "Index: 2021-06-24_1200. Wm2Front: 1085.1381666666668. Wm2Back: 144.71764443333333\n",
      "Linescan in process: 1axis_2021-06-24_1300_zgap0.2_Front\n",
      "Linescan in process: 1axis_2021-06-24_1300_zgap0.2_Back\n",
      "Saved: results\\irr_1axis_2021-06-24_1300_zgap0.2.csv\n",
      "Index: 2021-06-24_1300. Wm2Front: 1083.1195133333333. Wm2Back: 146.28812258333335\n",
      "Linescan in process: 1axis_2021-06-24_1400_zgap0.2_Front\n",
      "Linescan in process: 1axis_2021-06-24_1400_zgap0.2_Back\n",
      "Saved: results\\irr_1axis_2021-06-24_1400_zgap0.2.csv\n",
      "Index: 2021-06-24_1400. Wm2Front: 1089.849945. Wm2Back: 135.0038261166667\n",
      "Linescan in process: 1axis_2021-06-24_1500_zgap0.2_Front\n",
      "Linescan in process: 1axis_2021-06-24_1500_zgap0.2_Back\n",
      "Saved: results\\irr_1axis_2021-06-24_1500_zgap0.2.csv\n",
      "Index: 2021-06-24_1500. Wm2Front: 1090.1313516666667. Wm2Back: 111.87352368333333\n",
      "Linescan in process: 1axis_2021-06-24_1600_zgap0.2_Front\n",
      "Linescan in process: 1axis_2021-06-24_1600_zgap0.2_Back\n",
      "Saved: results\\irr_1axis_2021-06-24_1600_zgap0.2.csv\n",
      "Index: 2021-06-24_1600. Wm2Front: 1064.4160566666667. Wm2Back: 86.25420585\n",
      "Linescan in process: 1axis_2021-06-24_1700_zgap0.2_Front\n",
      "Linescan in process: 1axis_2021-06-24_1700_zgap0.2_Back\n",
      "Saved: results\\irr_1axis_2021-06-24_1700_zgap0.2.csv\n",
      "Index: 2021-06-24_1700. Wm2Front: 974.0041676666666. Wm2Back: 72.31188941666667\n",
      "Linescan in process: 1axis_2021-06-24_1800_zgap0.2_Front\n",
      "Linescan in process: 1axis_2021-06-24_1800_zgap0.2_Back\n",
      "Saved: results\\irr_1axis_2021-06-24_1800_zgap0.2.csv\n",
      "Index: 2021-06-24_1800. Wm2Front: 795.1022419999999. Wm2Back: 27.072133116666663\n",
      "Saving a cumulative-results file in the main simulation folder.This adds up by sensor location the irradiance over all hours or configurations considered.\n",
      "Warning: This file saving routine does not clean results, so if your setup has ygaps, or 2+modules or torque tubes, doing a deeper cleaning and working with the individual results files in the results folder is highly suggested.\n",
      "\n",
      "Saving Cumulative results\n",
      "Saved: cumulative_results__zgap0.2.csv\n"
     ]
    }
   ],
   "source": [
    "#ZGAP 0.2\n",
    "zgap = 0.2\n",
    "customname = '_zgap0.2'\n",
    "tubeParams = {'tubetype':tubetype,\n",
    "              'diameter':diameter,\n",
    "              'material':material,\n",
    "              'axisofrotation':False,\n",
    "              'visible':True} # either pass this into makeModule, or separately into module.addTorquetube()\n",
    "module_zgap02 = demo.makeModule(name=customname, x=x,y=y, numpanels=numpanels,zgap=zgap, tubeParams=tubeParams)\n",
    "trackerdict = demo.makeScene1axis(trackerdict, module_zgap02, sceneDict, cumulativesky = cumulativesky) \n",
    "trackerdict = demo.makeOct1axis(trackerdict)\n",
    "trackerdict = demo.analysis1axis(trackerdict, sensorsy = sensorsy, customname = customname)"
   ]
  },
  {
   "cell_type": "markdown",
   "metadata": {},
   "source": [
    "<a id='step1d'></a>"
   ]
  },
  {
   "cell_type": "markdown",
   "metadata": {},
   "source": [
    "### D. ZGAP = 0.3"
   ]
  },
  {
   "cell_type": "code",
   "execution_count": 8,
   "metadata": {},
   "outputs": [
    {
     "name": "stdout",
     "output_type": "stream",
     "text": [
      "\n",
      "Module Name: _zgap0.3\n",
      "Module _zgap0.3 updated in module.json\n",
      "\n",
      "Making ~13 .rad files for gendaylit 1-axis workflow (this takes a minute..)\n",
      "13 Radfiles created in /objects/\n",
      "\n",
      "Making 13 octfiles in root directory.\n",
      "Created 1axis_2021-06-24_0600.oct\n",
      "Created 1axis_2021-06-24_0700.oct\n",
      "Created 1axis_2021-06-24_0800.oct\n",
      "Created 1axis_2021-06-24_0900.oct\n",
      "Created 1axis_2021-06-24_1000.oct\n",
      "Created 1axis_2021-06-24_1100.oct\n",
      "Created 1axis_2021-06-24_1200.oct\n",
      "Created 1axis_2021-06-24_1300.oct\n",
      "Created 1axis_2021-06-24_1400.oct\n",
      "Created 1axis_2021-06-24_1500.oct\n",
      "Created 1axis_2021-06-24_1600.oct\n",
      "Created 1axis_2021-06-24_1700.oct\n",
      "Created 1axis_2021-06-24_1800.oct\n",
      "Linescan in process: 1axis_2021-06-24_0600_zgap0.3_Front\n",
      "Linescan in process: 1axis_2021-06-24_0600_zgap0.3_Back\n",
      "Saved: results\\irr_1axis_2021-06-24_0600_zgap0.3.csv\n",
      "Index: 2021-06-24_0600. Wm2Front: 160.71439716666666. Wm2Back: 16.402217866666664\n",
      "Linescan in process: 1axis_2021-06-24_0700_zgap0.3_Front\n",
      "Linescan in process: 1axis_2021-06-24_0700_zgap0.3_Back\n",
      "Saved: results\\irr_1axis_2021-06-24_0700_zgap0.3.csv\n",
      "Index: 2021-06-24_0700. Wm2Front: 711.8272646666668. Wm2Back: 14.969952549999999\n",
      "Linescan in process: 1axis_2021-06-24_0800_zgap0.3_Front\n",
      "Linescan in process: 1axis_2021-06-24_0800_zgap0.3_Back\n",
      "Saved: results\\irr_1axis_2021-06-24_0800_zgap0.3.csv\n",
      "Index: 2021-06-24_0800. Wm2Front: 924.5672013333332. Wm2Back: 70.4617007\n",
      "Linescan in process: 1axis_2021-06-24_0900_zgap0.3_Front\n",
      "Linescan in process: 1axis_2021-06-24_0900_zgap0.3_Back\n",
      "Saved: results\\irr_1axis_2021-06-24_0900_zgap0.3.csv\n",
      "Index: 2021-06-24_0900. Wm2Front: 1039.4952816666666. Wm2Back: 82.29257826666668\n",
      "Linescan in process: 1axis_2021-06-24_1000_zgap0.3_Front\n",
      "Linescan in process: 1axis_2021-06-24_1000_zgap0.3_Back\n",
      "Saved: results\\irr_1axis_2021-06-24_1000_zgap0.3.csv\n",
      "Index: 2021-06-24_1000. Wm2Front: 1077.7083666666667. Wm2Back: 104.50355728333332\n",
      "Linescan in process: 1axis_2021-06-24_1100_zgap0.3_Front\n",
      "Linescan in process: 1axis_2021-06-24_1100_zgap0.3_Back\n",
      "Saved: results\\irr_1axis_2021-06-24_1100_zgap0.3.csv\n",
      "Index: 2021-06-24_1100. Wm2Front: 1083.7942533333332. Wm2Back: 130.08286796666667\n",
      "Linescan in process: 1axis_2021-06-24_1200_zgap0.3_Front\n",
      "Linescan in process: 1axis_2021-06-24_1200_zgap0.3_Back\n",
      "Saved: results\\irr_1axis_2021-06-24_1200_zgap0.3.csv\n",
      "Index: 2021-06-24_1200. Wm2Front: 1085.1777233333335. Wm2Back: 145.488044\n",
      "Linescan in process: 1axis_2021-06-24_1300_zgap0.3_Front\n",
      "Linescan in process: 1axis_2021-06-24_1300_zgap0.3_Back\n",
      "Saved: results\\irr_1axis_2021-06-24_1300_zgap0.3.csv\n",
      "Index: 2021-06-24_1300. Wm2Front: 1083.5996499999999. Wm2Back: 147.47137110000003\n",
      "Linescan in process: 1axis_2021-06-24_1400_zgap0.3_Front\n",
      "Linescan in process: 1axis_2021-06-24_1400_zgap0.3_Back\n",
      "Saved: results\\irr_1axis_2021-06-24_1400_zgap0.3.csv\n",
      "Index: 2021-06-24_1400. Wm2Front: 1089.7519816666668. Wm2Back: 136.00649253333333\n",
      "Linescan in process: 1axis_2021-06-24_1500_zgap0.3_Front\n",
      "Linescan in process: 1axis_2021-06-24_1500_zgap0.3_Back\n",
      "Saved: results\\irr_1axis_2021-06-24_1500_zgap0.3.csv\n",
      "Index: 2021-06-24_1500. Wm2Front: 1090.3138166666668. Wm2Back: 112.7980408\n",
      "Linescan in process: 1axis_2021-06-24_1600_zgap0.3_Front\n",
      "Linescan in process: 1axis_2021-06-24_1600_zgap0.3_Back\n",
      "Saved: results\\irr_1axis_2021-06-24_1600_zgap0.3.csv\n",
      "Index: 2021-06-24_1600. Wm2Front: 1063.9477266666668. Wm2Back: 87.05726741666668\n",
      "Linescan in process: 1axis_2021-06-24_1700_zgap0.3_Front\n",
      "Linescan in process: 1axis_2021-06-24_1700_zgap0.3_Back\n",
      "Saved: results\\irr_1axis_2021-06-24_1700_zgap0.3.csv\n",
      "Index: 2021-06-24_1700. Wm2Front: 973.9965698333332. Wm2Back: 72.18619936666667\n",
      "Linescan in process: 1axis_2021-06-24_1800_zgap0.3_Front\n",
      "Linescan in process: 1axis_2021-06-24_1800_zgap0.3_Back\n",
      "Saved: results\\irr_1axis_2021-06-24_1800_zgap0.3.csv\n",
      "Index: 2021-06-24_1800. Wm2Front: 795.2513158333334. Wm2Back: 27.609950083333334\n",
      "Saving a cumulative-results file in the main simulation folder.This adds up by sensor location the irradiance over all hours or configurations considered.\n",
      "Warning: This file saving routine does not clean results, so if your setup has ygaps, or 2+modules or torque tubes, doing a deeper cleaning and working with the individual results files in the results folder is highly suggested.\n",
      "\n",
      "Saving Cumulative results\n",
      "Saved: cumulative_results__zgap0.3.csv\n"
     ]
    }
   ],
   "source": [
    "#ZGAP 0.3\n",
    "zgap = 0.3\n",
    "customname = '_zgap0.3'\n",
    "tubeParams = {'tubetype':tubetype,\n",
    "              'diameter':diameter,\n",
    "              'material':material,\n",
    "              'axisofrotation':False,\n",
    "              'visible':True} # either pass this into makeModule, or separately into module.addTorquetube()\n",
    "module_zgap03 = demo.makeModule(name=customname,x=x,y=y, numpanels=numpanels, zgap=zgap, tubeParams=tubeParams)\n",
    "trackerdict = demo.makeScene1axis(trackerdict, module_zgap03, sceneDict, cumulativesky = cumulativesky) \n",
    "trackerdict = demo.makeOct1axis(trackerdict)\n",
    "trackerdict = demo.analysis1axis(trackerdict, sensorsy = sensorsy, customname = customname)"
   ]
  },
  {
   "cell_type": "markdown",
   "metadata": {},
   "source": [
    "<a id='step2'></a>"
   ]
  },
  {
   "cell_type": "markdown",
   "metadata": {},
   "source": [
    "### 2. Read-back the values and tabulate average values for unshaded, 10cm gap and 30cm gap\n"
   ]
  },
  {
   "cell_type": "code",
   "execution_count": 9,
   "metadata": {},
   "outputs": [
    {
     "name": "stdout",
     "output_type": "stream",
     "text": [
      "C:\\Users\\sayala\\Documents\\GitHub\\bifacial_radiance\\bifacial_radiance\\TEMP\\Tutorial_09\\results\n"
     ]
    }
   ],
   "source": [
    "import glob\n",
    "import pandas as pd\n",
    "\n",
    "resultsfolder = os.path.join(testfolder, 'results')\n",
    "print (resultsfolder)\n",
    "filenames = glob.glob(os.path.join(resultsfolder,'*.csv'))\n",
    "noTTlist = [k for k in filenames if 'NoTT' in k]\n",
    "zgap10cmlist = [k for k in filenames if 'zgap0.1' in k]\n",
    "zgap20cmlist = [k for k in filenames if 'zgap0.2' in k]\n",
    "zgap30cmlist = [k for k in filenames if 'zgap0.3' in k]\n",
    "\n",
    "# sum across all hours for each case\n",
    "unsh_front = np.array([pd.read_csv(f, engine='python')['Wm2Front'] for f in noTTlist]).sum(axis = 0)\n",
    "cm10_front = np.array([pd.read_csv(f, engine='python')['Wm2Front'] for f in zgap10cmlist]).sum(axis = 0)\n",
    "cm20_front = np.array([pd.read_csv(f, engine='python')['Wm2Front'] for f in zgap20cmlist]).sum(axis = 0)\n",
    "cm30_front = np.array([pd.read_csv(f, engine='python')['Wm2Front'] for f in zgap30cmlist]).sum(axis = 0)\n",
    "unsh_back = np.array([pd.read_csv(f, engine='python')['Wm2Back'] for f in noTTlist]).sum(axis = 0)\n",
    "cm10_back = np.array([pd.read_csv(f, engine='python')['Wm2Back'] for f in zgap10cmlist]).sum(axis = 0)\n",
    "cm20_back = np.array([pd.read_csv(f, engine='python')['Wm2Back'] for f in zgap20cmlist]).sum(axis = 0)\n",
    "cm30_back = np.array([pd.read_csv(f, engine='python')['Wm2Back'] for f in zgap30cmlist]).sum(axis = 0)"
   ]
  },
  {
   "cell_type": "markdown",
   "metadata": {},
   "source": [
    "<a id='step3'></a>"
   ]
  },
  {
   "cell_type": "markdown",
   "metadata": {},
   "source": [
    "### 3. plot spatial loss values for 10cm and 30cm data"
   ]
  },
  {
   "cell_type": "code",
   "execution_count": 10,
   "metadata": {},
   "outputs": [
    {
     "name": "stderr",
     "output_type": "stream",
     "text": [
      "WARNING:matplotlib.font_manager:findfont: Font family ['sans-serif'] not found. Falling back to DejaVu Sans.\n",
      "WARNING:matplotlib.font_manager:findfont: Generic family 'sans-serif' not found because none of the following families were found: Helvetica\n",
      "WARNING:matplotlib.font_manager:findfont: Font family ['sans-serif'] not found. Falling back to DejaVu Sans.\n",
      "WARNING:matplotlib.font_manager:findfont: Generic family 'sans-serif' not found because none of the following families were found: Helvetica\n",
      "WARNING:matplotlib.font_manager:findfont: Font family ['sans-serif'] not found. Falling back to DejaVu Sans.\n",
      "WARNING:matplotlib.font_manager:findfont: Generic family 'sans-serif' not found because none of the following families were found: Helvetica\n"
     ]
    },
    {
     "data": {
      "image/png": "[encoded data removed]",
      "text/plain": [
       "<Figure size 288x180 with 1 Axes>"
      ]
     },
     "metadata": {
      "needs_background": "light"
     },
     "output_type": "display_data"
    }
   ],
   "source": [
    "import matplotlib.pyplot as plt\n",
    "plt.rcParams['font.family'] = 'sans-serif'\n",
    "plt.rcParams['font.sans-serif'] = ['Helvetica']\n",
    "plt.rcParams['axes.linewidth'] = 0.2 #set the value globally\n",
    "\n",
    "fig = plt.figure()\n",
    "fig.set_size_inches(4, 2.5)\n",
    "ax = fig.add_axes((0.15,0.15,0.78,0.75))\n",
    "#plt.rc('font', family='sans-serif')\n",
    "plt.rc('xtick',labelsize=8)\n",
    "plt.rc('ytick',labelsize=8)\n",
    "plt.rc('axes',labelsize=8)\n",
    "plt.plot(np.linspace(-1,1,unsh_back.__len__()),(cm30_back - unsh_back)/unsh_back*100, label = '30cm gap',color = 'black')  #steelblue\n",
    "plt.plot(np.linspace(-1,1,unsh_back.__len__()),(cm20_back - unsh_back)/unsh_back*100, label = '20cm gap',color = 'steelblue', linestyle = '--')  #steelblue\n",
    "plt.plot(np.linspace(-1,1,unsh_back.__len__()),(cm10_back - unsh_back)/unsh_back*100, label = '10cm gap',color = 'darkorange')  #steelblue\n",
    "#plt.ylabel('$G_{rear}$ vs unshaded [Wm-2]')#(r'$BG_E$ [%]')\n",
    "plt.ylabel('$G_{rear}$ / $G_{rear,tubeless}$ -1 [%]')\n",
    "plt.xlabel('Module X position [m]')\n",
    "plt.legend(fontsize = 8,frameon = False,loc='best')\n",
    "#plt.ylim([0, 15])\n",
    "plt.title('Torque tube shading loss',fontsize=9)\n",
    "#plt.annotate('South',xy=(-10,9.5),fontsize = 8); plt.annotate('North',xy=(8,9.5),fontsize = 8)\n",
    "plt.show()"
   ]
  },
  {
   "cell_type": "markdown",
   "metadata": {},
   "source": [
    "<a id='step4'></a>"
   ]
  },
  {
   "cell_type": "markdown",
   "metadata": {},
   "source": [
    "### 4. Overall Shading Loss Factor\n",
    "\n",
    "To calculate shading loss factor, we can use the following equation:\n",
    "\n",
    "\n",
    "\n",
    "<img src=\"../images_wiki/AdvancedJournals/Equation_ShadingFactor.PNG\">"
   ]
  },
  {
   "cell_type": "code",
   "execution_count": 11,
   "metadata": {},
   "outputs": [],
   "source": [
    "ShadingFactor = (1 - cm30_back.sum() / unsh_back.sum())*100"
   ]
  }
 ],
 "metadata": {
  "anaconda-cloud": {},
  "kernelspec": {
   "display_name": "Python 3 (ipykernel)",
   "language": "python",
   "name": "python3"
  },
  "language_info": {
   "codemirror_mode": {
    "name": "ipython",
    "version": 3
   },
   "file_extension": ".py",
   "mimetype": "text/x-python",
   "name": "python",
   "nbconvert_exporter": "python",
   "pygments_lexer": "ipython3",
   "version": "3.9.13"
  }
 },
 "nbformat": 4,
 "nbformat_minor": 1
}
