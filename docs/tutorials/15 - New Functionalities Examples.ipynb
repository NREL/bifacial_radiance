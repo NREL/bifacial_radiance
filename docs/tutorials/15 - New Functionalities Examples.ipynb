{
 "cells": [
  {
   "cell_type": "markdown",
   "id": "d44f4591",
   "metadata": {},
   "source": [
    "# 15 - NEW FUNCTIONALITIES EXAMPLES\n",
    "\n",
    "This journal includes short examples on how to use the new functionalities of version 0.4.0 of bifacial_radiance. The parts are:\n",
    "\n",
    "<ol type=\"I\">\n",
    "    <li> Simulating Modules with Frames and Omegas </li>\n",
    "    <li> Improvements to irradiance sampling:</li>\n",
    "    <ul>\n",
    "        <li> -Scanning full module (sensors on x)! </li>\n",
    "        <li> -Different points in the front and the back</li>\n",
    "    </ul>\n",
    "    <li> Full row scanning. </li>\n",
    "</ol>"
   ]
  },
  {
   "cell_type": "code",
   "execution_count": 1,
   "id": "52d5ac54",
   "metadata": {},
   "outputs": [
    {
     "name": "stdout",
     "output_type": "stream",
     "text": [
      "Your simulation will be stored in C:\\Users\\sayala\\Documents\\GitHub\\bifacial_radiance\\bifacial_radiance\\TEMP\\newFunctionalities\n"
     ]
    }
   ],
   "source": [
    "import bifacial_radiance\n",
    "\n",
    "import os\n",
    "from pathlib import Path\n",
    "\n",
    "testfolder = str(Path().resolve().parent.parent / 'bifacial_radiance' / 'TEMP' / 'newFunctionalities')\n",
    "\n",
    "if not os.path.exists(testfolder):\n",
    "    os.makedirs(testfolder)\n",
    "    \n",
    "print (\"Your simulation will be stored in %s\" % testfolder)\n"
   ]
  },
  {
   "cell_type": "markdown",
   "id": "308fd255",
   "metadata": {},
   "source": [
    "## I. Simulating Frames and Omegas\n",
    "\n",
    "The values for generating frames and omegas are described in the makeModule function, which is where they are introduced into the basic module unit. This diagram shows how they are measured. "
   ]
  },
  {
   "cell_type": "markdown",
   "id": "2c906cd6",
   "metadata": {},
   "source": [
    "\n",
    "![Folder Structure](../images_wiki/makeModule_ComplexGeometry.PNG)\n"
   ]
  },
  {
   "cell_type": "code",
   "execution_count": 2,
   "id": "6711cfc1",
   "metadata": {},
   "outputs": [
    {
     "name": "stdout",
     "output_type": "stream",
     "text": [
      "path = C:\\Users\\sayala\\Documents\\GitHub\\bifacial_radiance\\bifacial_radiance\\TEMP\\newFunctionalities\n",
      "\n",
      "Module Name: TEST\n",
      "Pre-existing .rad file objects\\TEST.rad will be overwritten\n",
      "Warning: Frame Dictionary Parameters passed, but frame_z is missing\n",
      "Setting it to default value of 0.03 m to continue\n",
      "\n",
      "Warning: Using omega-to-omega distance to definegap between modulesxgap value not being used\n",
      "Module TEST updated in module.json\n"
     ]
    }
   ],
   "source": [
    "module_type = 'TEST'\n",
    "frameParams = {'frame_material' : 'Metal_Grey', \n",
    "               'frame_thickness' : 0.05,\n",
    "               'nSides_frame' : 4,\n",
    "               'frame_width' : 0.08}\n",
    "\n",
    "\n",
    "omegaParams = {'omega_material': 'litesoil',\n",
    "                'x_omega1' : 0.4,\n",
    "                'mod_overlap' : 0.25,\n",
    "                'y_omega' : 1.5,\n",
    "                'x_omega3' : 0.25,\n",
    "                'omega_thickness' : 0.05,\n",
    "                'inverted' : False}\n",
    "\n",
    "demo = bifacial_radiance.RadianceObj('Sim1', testfolder) \n",
    "\n",
    "mymod = demo.makeModule(module_type,x=2, y=1, xgap = 0.02, ygap = 0.15, zgap = 0.3, \n",
    "                torquetube = True, diameter = 0.3, axisofrotationTorqueTube=True,\n",
    "                numpanels = 2, \n",
    "                frameParams=frameParams, omegaParams=omegaParams)"
   ]
  },
  {
   "cell_type": "markdown",
   "id": "eb69d5d6",
   "metadata": {},
   "source": [
    "Let's add the rest of the scene and go until OCT, so it can be viewed with rvu:"
   ]
  },
  {
   "cell_type": "code",
   "execution_count": 3,
   "id": "fc0fa941",
   "metadata": {},
   "outputs": [
    {
     "name": "stdout",
     "output_type": "stream",
     "text": [
      "Loading albedo, 1 value(s), 0.200 avg\n",
      "1 nonzero albedo values.\n",
      "Getting weather file: USA_VA_Richmond.724010_TMY2.epw\n",
      " ... OK!\n",
      "start: 2021-01-01 01:00:00\n",
      "end: 2021-12-31 23:00:00\n",
      "Saving file EPWs\\epw_temp.csv, # points: 8760\n",
      "Calculating Sun position for Metdata that is right-labeled  with a delta of -30 mins. i.e. 12 is 11:30 sunpos\n",
      "Created Sim1.oct\n"
     ]
    },
    {
     "data": {
      "text/plain": [
       "'Sim1.oct'"
      ]
     },
     "execution_count": 3,
     "metadata": {},
     "output_type": "execute_result"
    }
   ],
   "source": [
    "demo.setGround(0.2)\n",
    "epwfile = demo.getEPW(lat = 37.5, lon = -77.6)\n",
    "metdata = demo.readWeatherFile(epwfile, coerce_year = 2021)\n",
    "demo.gendaylit(4020)\n",
    "\n",
    "sceneDict = {'tilt':0, 'pitch':3, 'clearance_height':3,'azimuth':90, 'nMods': 1, 'nRows': 1} \n",
    "scene = demo.makeScene(module_type,sceneDict)\n",
    "demo.makeOct()"
   ]
  },
  {
   "cell_type": "markdown",
   "id": "13fdb933",
   "metadata": {},
   "source": [
    "To view the module from different angles, you can use the following rvu commands. See tutorial 1 for more on how to do rvu.\n",
    "\n",
    "    rvu -vp -7 0 3 -vd 1 0 0 Sim1.oct\n",
    "\n",
    "    rvu -vp 0 -5 3 -vd 0 1 0 Sim1.oct"
   ]
  },
  {
   "cell_type": "markdown",
   "id": "bd0a6e05",
   "metadata": {},
   "source": [
    "## II. Separating Frontscan and Backscan for different number of Sensors"
   ]
  },
  {
   "cell_type": "markdown",
   "id": "bd34faa1",
   "metadata": {},
   "source": [
    "The key ideas here are:\n",
    "\n",
    "- `moduleAnalysis()` returns two structured dictionaries that have the coordinates necessary for analysis to know where to smaple. On the new version, different values can be given for sampling accross the collector width in the rear (``sensorsy_back``) and the front (``sensorsy_front``, optional). \n",
    "\n",
    "-Furthermore, now scanning on the module's <b> x-direction </b> is supported, by setting the variables ``sensorsx_back`` and/or ``sensorsx_front`` (optional).\n",
    "\n",
    "When the sensors differ between the front and the back, instead of saving one .csv with results, two .csv files are saved, one labeled \"_Front.csv\" and the other \"_Back.csv\".\n",
    "\n",
    "To know more, read the functions documentation.\n",
    "\n",
    "\n",
    "We'll take advantage of Simulation 1 testfolder, Radiance Objects and sky, but let's make a simple module and scene and model it through from there."
   ]
  },
  {
   "cell_type": "code",
   "execution_count": 4,
   "id": "08291374",
   "metadata": {},
   "outputs": [
    {
     "name": "stdout",
     "output_type": "stream",
     "text": [
      "\n",
      "Module Name: test\n",
      "Pre-existing .rad file objects\\test.rad will be overwritten\n",
      "Module test updated in module.json\n"
     ]
    }
   ],
   "source": [
    "demo.makeModule(name='test',x=2, y=1)\n",
    "sceneDict = {'tilt':0, 'pitch':6, 'clearance_height':3,'azimuth':180, 'nMods': 1, 'nRows': 1} "
   ]
  },
  {
   "cell_type": "code",
   "execution_count": 5,
   "id": "3ec94898",
   "metadata": {},
   "outputs": [
    {
     "name": "stdout",
     "output_type": "stream",
     "text": [
      "Created Sim1.oct\n"
     ]
    }
   ],
   "source": [
    "scene = demo.makeScene(module_type,sceneDict)\n",
    "octfile = demo.makeOct()\n",
    "analysis = bifacial_radiance.AnalysisObj()  # return an analysis object including the scan dimensions for back irradiance"
   ]
  },
  {
   "cell_type": "markdown",
   "id": "0ea6414f",
   "metadata": {},
   "source": [
    "#### Same sensors front and back, two sensors accross x"
   ]
  },
  {
   "cell_type": "code",
   "execution_count": 6,
   "id": "715ddc04",
   "metadata": {},
   "outputs": [
    {
     "name": "stdout",
     "output_type": "stream",
     "text": [
      "Linescan in process: 2222_Front\n",
      "Linescan in process: 2222_Back\n",
      "Saved: results\\irr_2222.csv\n",
      "\n",
      "--> RESULTS for Front and Back are saved on the same file since the sensors match for front and back\n",
      "\n",
      "               x         y      z  rearZ            mattype            rearMat  \\\n",
      "0 -6.666667e-01 -0.358333  3.501  3.479  a0.0.a0.TEST.6457  a0.0.a0.TEST.2310   \n",
      "1 -6.666667e-01  0.358333  3.501  3.479  a0.0.a1.TEST.6457  a0.0.a1.TEST.2310   \n",
      "2 -2.220446e-16 -0.358333  3.501  3.479  a0.0.a0.TEST.6457  a0.0.a0.TEST.2310   \n",
      "3 -3.330669e-16  0.358333  3.501  3.479  a0.0.a1.TEST.6457  a0.0.a1.TEST.2310   \n",
      "\n",
      "   Wm2Front     Wm2Back  Back/FrontRatio  \n",
      "0  906.5488  144.280267         0.159153  \n",
      "1  906.5337  161.444433         0.178090  \n",
      "2  906.5463  145.083700         0.160040  \n",
      "3  906.5287  162.276233         0.179008  \n"
     ]
    }
   ],
   "source": [
    "name='2222'\n",
    "sensorsy_front = 2\n",
    "sensorsy_back = 2\n",
    "sensorsx_front = 2\n",
    "sensorsx_back = 2\n",
    "\n",
    "frontscan, backscan = analysis.moduleAnalysis(scene, \n",
    "                       sensorsy_back=sensorsy_back, sensorsx_back=sensorsx_back, \n",
    "                       sensorsy_front=sensorsy_front, sensorsx_front=sensorsx_front)\n",
    "\n",
    "frontDict, backDict = analysis.analysis(octfile = octfile, name = name, frontscan = frontscan, \n",
    "                                        backscan = backscan)\n",
    "\n",
    "print('\\n--> RESULTS for Front and Back are saved on the same file since the sensors match for front and back')\n",
    "print('\\n', bifacial_radiance.load.read1Result('results\\irr_'+name+'.csv'))\n"
   ]
  },
  {
   "cell_type": "markdown",
   "id": "687132bd",
   "metadata": {},
   "source": [
    "#### Different sensors front and back, two sensors accross x"
   ]
  },
  {
   "cell_type": "code",
   "execution_count": 7,
   "id": "771faf57",
   "metadata": {},
   "outputs": [
    {
     "name": "stdout",
     "output_type": "stream",
     "text": [
      "Linescan in process: 2412_Front\n",
      "Linescan in process: 2412_Back\n",
      "Saved: results\\irr_2412_Front.csv\n",
      "Saved: results\\irr_2412_Back.csv\n",
      "\n",
      "--> RESULTS for Front and Back are saved on SEPARATE file since the sensors do not match for front and back\n",
      "\n",
      "FRONT\n",
      "           x         y      z            mattype         Wm2\n",
      "0 -0.333333 -0.645000  3.501  a0.0.a0.TEST.6457  906.419100\n",
      "1 -0.333333  0.071667  3.501      a0.0.tube1.13  611.563833\n",
      "\n",
      "BACK\n",
      "           x      y      z            mattype         Wm2\n",
      "0 -0.333333 -0.645  3.479  a0.0.a0.TEST.2310  151.966667\n",
      "1 -0.333333 -0.215  3.479  a0.0.a0.TEST.2310  143.733467\n",
      "2 -0.333333  0.215  3.479  a0.0.a1.TEST.2310  158.757267\n",
      "3 -0.333333  0.645  3.479  a0.0.a1.TEST.2310  159.076533\n",
      "4  0.333333 -0.645  3.479  a0.0.a0.TEST.2310  150.453733\n",
      "5  0.333333 -0.215  3.479  a0.0.a0.TEST.2310  144.141633\n",
      "6  0.333333  0.215  3.479  a0.0.a1.TEST.2310  161.789967\n",
      "7  0.333333  0.645  3.479  a0.0.a1.TEST.2310  157.786700\n"
     ]
    }
   ],
   "source": [
    "name='2412'\n",
    "\n",
    "sensorsy_front = 2\n",
    "sensorsy_back = 4\n",
    "\n",
    "sensorsx_front = 1\n",
    "sensorsx_back = 2\n",
    "\n",
    "frontscan, backscan = analysis.moduleAnalysis(scene,\n",
    "                       sensorsy_back=sensorsy_back, sensorsx_back=sensorsx_back,  \n",
    "                       sensorsy_front=sensorsy_front, sensorsx_front=sensorsx_front)\n",
    "\n",
    "frontDict, backDict = analysis.analysis(octfile = octfile, name = name, frontscan = frontscan, \n",
    "                                        backscan = backscan)\n",
    "\n",
    "print('\\n--> RESULTS for Front and Back are saved on SEPARATE file since the sensors do not match for front and back')\n",
    "\n",
    "print('\\nFRONT\\n', bifacial_radiance.load.read1Result('results\\irr_'+name+'_Front.csv'))\n",
    "print('\\nBACK\\n', bifacial_radiance.load.read1Result('results\\irr_'+name+'_Back.csv'))"
   ]
  },
  {
   "cell_type": "code",
   "execution_count": null,
   "id": "669d0aee",
   "metadata": {},
   "outputs": [],
   "source": []
  },
  {
   "cell_type": "markdown",
   "id": "175a8b1d",
   "metadata": {},
   "source": [
    "## III. Making Analysis Function for Row\n",
    "\n",
    "\n",
    "Let's explore how to analyze easily a row with the new function `analyzeRow`. As before, we are not repeating functions alreayd called above, just re-running the necessary ones to show the changes. "
   ]
  },
  {
   "cell_type": "code",
   "execution_count": 8,
   "id": "d6ad80ab",
   "metadata": {},
   "outputs": [
    {
     "name": "stdout",
     "output_type": "stream",
     "text": [
      "Created Sim1.oct\n"
     ]
    }
   ],
   "source": [
    "sceneDict = {'tilt':0, 'pitch':30, 'clearance_height':3,'azimuth':90, 'nMods': 3, 'nRows': 3} \n",
    "scene = demo.makeScene(module_type,sceneDict)\n",
    "octfile = demo.makeOct()"
   ]
  },
  {
   "cell_type": "markdown",
   "id": "5b4861a7",
   "metadata": {},
   "source": [
    "The function requires to know the number of modules on the row"
   ]
  },
  {
   "cell_type": "code",
   "execution_count": 9,
   "id": "003a07c3",
   "metadata": {},
   "outputs": [
    {
     "name": "stdout",
     "output_type": "stream",
     "text": [
      "Linescan in process: 2412_Module_0_Front\n",
      "Linescan in process: 2412_Module_0_Back\n",
      "Saved: results\\irr_2412_Module_0.csv\n",
      "Linescan in process: 2412_Module_1_Front\n",
      "Linescan in process: 2412_Module_1_Back\n",
      "Saved: results\\irr_2412_Module_1.csv\n",
      "Linescan in process: 2412_Module_2_Front\n",
      "Linescan in process: 2412_Module_2_Back\n",
      "Saved: results\\irr_2412_Module_2.csv\n"
     ]
    }
   ],
   "source": [
    "rowscan = analysis.analyzeRow(name = name, scene = scene, \n",
    "                              sensorsy_back=1, sensorsx_back=1, \n",
    "                              sensorsy_front=1, sensorsx_front=1,\n",
    "                              rowWanted = 1, octfile = octfile)"
   ]
  },
  {
   "cell_type": "code",
   "execution_count": 10,
   "id": "b6f0a7d0",
   "metadata": {},
   "outputs": [
    {
     "name": "stdout",
     "output_type": "stream",
     "text": [
      "Linescan in process: 2412_Module_0_Front\n",
      "Linescan in process: 2412_Module_0_Back\n",
      "Saved: results\\irr_2412_Module_0.csv\n",
      "Linescan in process: 2412_Module_1_Front\n",
      "Linescan in process: 2412_Module_1_Back\n",
      "Saved: results\\irr_2412_Module_1.csv\n",
      "Linescan in process: 2412_Module_2_Front\n",
      "Linescan in process: 2412_Module_2_Back\n",
      "Saved: results\\irr_2412_Module_2.csv\n"
     ]
    }
   ],
   "source": [
    "rowscan = analysis.analyzeRow(name = name, scene = scene, rowWanted = 1, octfile = octfile)"
   ]
  },
  {
   "cell_type": "markdown",
   "id": "9569d5ad",
   "metadata": {},
   "source": [
    "``rowscan`` is now a dataframe containing the values of each module in the row. Check the x, y and "
   ]
  },
  {
   "cell_type": "code",
   "execution_count": null,
   "id": "d000742e",
   "metadata": {},
   "outputs": [],
   "source": []
  }
 ],
 "metadata": {
  "kernelspec": {
   "display_name": "Python 3",
   "language": "python",
   "name": "python3"
  },
  "language_info": {
   "codemirror_mode": {
    "name": "ipython",
    "version": 3
   },
   "file_extension": ".py",
   "mimetype": "text/x-python",
   "name": "python",
   "nbconvert_exporter": "python",
   "pygments_lexer": "ipython3",
   "version": "3.7.10"
  }
 },
 "nbformat": 4,
 "nbformat_minor": 5
}
