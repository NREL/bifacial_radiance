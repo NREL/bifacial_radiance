{
 "cells": [
  {
   "cell_type": "markdown",
   "metadata": {},
   "source": [
    "# 11 - Advanced Level Example - Modeling an Agriculture+PV (AGRIPV) Site \n",
    "\n",
    "This journal shows how to model an AgriPV site, calculating the irradiance not only on the modules but also the irradiance received by the ground to evaluate available solar ersource for plants. \n",
    "\n",
    "We assume that bifacia_radiacne is already installed in your computer. This works for bifacial_radiance v.3 release.\n",
    "\n",
    "These journal outlines 4 useful uses of bifacial_radiance and some tricks: \n",
    "\n",
    "<ul>\n",
    "    <li> Creating the modules in the AgriPV site </li>\n",
    "    <li> Adding extra geometry for the pillars/posts supporting the AgriPV site </li>\n",
    "    <li> Hacking the sensors to sample the ground irradiance and create irradiance map </li>\n",
    "    <li> Adding object to simulate variations in ground albedo from different crops between rows. </li>\n",
    "</ul>\n",
    "\n",
    "\n",
    "#### Steps:\n",
    "\n",
    "<ol>\n",
    "    <li> <a href='#step1'> Generate the geometry </a></li>\n",
    "    <li> <a href='#step2'> Analyse the Ground Irradiance </a></li>\n",
    "    <li> <a href='#step3'> Analyse and MAP the Ground Irradiance </a></li>\n",
    "    <li> <a href='#step4'> Adding different Albedo Section </a></li>\n",
    "</ol>\n",
    "    \n",
    "#### Preview of what we will create: \n",
    "    \n",
    "![Another view](../images_wiki/AdvancedJournals/AgriPV_2.PNG)\n",
    "![AgriPV Image We will create](../images_wiki/AdvancedJournals/AgriPV_1.PNG)\n",
    "And this is how it will look like:\n",
    "\n",
    "![AgriPV modeled step 4](../images_wiki/AdvancedJournals/AgriPV_step4.PNG)\n",
    "\n",
    "\n"
   ]
  },
  {
   "cell_type": "markdown",
   "metadata": {},
   "source": [
    "<a id='step1'></a>"
   ]
  },
  {
   "cell_type": "markdown",
   "metadata": {},
   "source": [
    "## 1. Generate the geometry \n",
    "\n",
    "This section goes from setting up variables to making the OCT axis. We are also adding some custom elements for the torquetubes and posts.\n",
    "\n",
    "We've done this before a couple times, no new stuff here. \n",
    "\n",
    "The magic is that, for doing the carport we see in the figure, we are going to do a 4-up configuration of modules (**numpanels**), and we are going to repeat that 3-UP 6 times (**nMods**)"
   ]
  },
  {
   "cell_type": "code",
   "execution_count": 1,
   "metadata": {},
   "outputs": [
    {
     "name": "stdout",
     "output_type": "stream",
     "text": [
      "Your simulation will be stored in C:\\Users\\sayala\\Documents\\GitHub\\bifacial_radiance\\bifacial_radiance\\TEMP\\Tutorial_11\n"
     ]
    }
   ],
   "source": [
    "import os\n",
    "from pathlib import Path\n",
    "\n",
    "testfolder = str(Path().resolve().parent.parent / 'bifacial_radiance' / 'TEMP' /  'Tutorial_11')\n",
    "\n",
    "if not os.path.exists(testfolder):\n",
    "    os.makedirs(testfolder)\n",
    "    \n",
    "print (\"Your simulation will be stored in %s\" % testfolder)"
   ]
  },
  {
   "cell_type": "code",
   "execution_count": 2,
   "metadata": {},
   "outputs": [],
   "source": [
    "from bifacial_radiance import *   \n",
    "import numpy as np\n",
    "import pandas as pd"
   ]
  },
  {
   "cell_type": "code",
   "execution_count": 3,
   "metadata": {},
   "outputs": [
    {
     "name": "stdout",
     "output_type": "stream",
     "text": [
      "path = C:\\Users\\sayala\\Documents\\GitHub\\bifacial_radiance\\bifacial_radiance\\TEMP\\Tutorial_11\n",
      "Making path: images\n",
      "Making path: objects\n",
      "Making path: results\n",
      "Making path: skies\n",
      "Making path: EPWs\n",
      "Making path: materials\n",
      "Loading albedo, 1 value(s), 0.200 avg\n",
      "1 nonzero albedo values.\n",
      "Getting weather file: USA_NJ_McGuire.AFB.724096_TMY3.epw\n",
      " ... OK!\n",
      "8760 line in WeatherFile. Assuming this is a standard hourly WeatherFile for the year for purposes of saving Gencumulativesky temporary weather files in EPW folder.\n",
      "Coercing year to 2001\n",
      "Saving file EPWs\\metdata_temp.csv, # points: 8760\n",
      "Calculating Sun position for Metdata that is right-labeled  with a delta of -30 mins. i.e. 12 is 11:30 sunpos\n",
      "\n",
      "Module Name: test-module\n",
      "Module was shifted by 0.078 in X to avoid sensors on air\n",
      "This is a Cell-Level detailed module with Packaging Factor of 0.81 %\n",
      "Module test-module updated in module.json\n",
      "Created tutorial_11.oct\n"
     ]
    }
   ],
   "source": [
    "simulationname = 'tutorial_11'\n",
    "\n",
    "#Location:\n",
    "lat = 40.0583  # NJ\n",
    "lon = -74.4057  # NJ\n",
    "\n",
    "# MakeModule Parameters\n",
    "moduletype='test-module'\n",
    "numpanels = 3  # AgriPV site has 3 modules along the y direction (N-S since we are facing it to the south) .\n",
    "x = 0.95  \n",
    "y = 1.95\n",
    "xgap = 2.0# Leaving 15 centimeters between modules on x direction\n",
    "ygap = 0.10 # Leaving 10 centimeters between modules on y direction\n",
    "zgap = 0 # no gap to torquetube.\n",
    "sensorsy = 6*numpanels  # this will give 6 sensors per module, 1 per cell\n",
    "\n",
    "# Other default values:\n",
    "\n",
    "# TorqueTube Parameters\n",
    "axisofrotationTorqueTube=False  # this is False by default if there is no torquetbue parameters\n",
    "torqueTube = False\n",
    "cellLevelModule = True\n",
    "\n",
    "numcellsx = 12\n",
    "numcellsy = 6\n",
    "xcell = 0.156\n",
    "ycell = 0.156\n",
    "xcellgap = 0.02\n",
    "ycellgap = 0.02\n",
    "\n",
    "cellLevelModuleParams = {'numcellsx': numcellsx, 'numcellsy':numcellsy, \n",
    "                         'xcell': xcell, 'ycell': ycell, 'xcellgap': xcellgap, 'ycellgap': ycellgap}\n",
    "\n",
    "# SceneDict Parameters\n",
    "pitch = 15 # m\n",
    "albedo = 0.2  #'grass'     # ground albedo\n",
    "hub_height = 4.3 # m  \n",
    "nMods = 6 # six modules per row.\n",
    "nRows = 3  # 3 row\n",
    "\n",
    "azimuth_ang=180 # Facing south\n",
    "tilt =35 # tilt. \n",
    "\n",
    "# Now let's run the example\n",
    "\n",
    "demo = RadianceObj(simulationname,path = testfolder)  \n",
    "demo.setGround(albedo) \n",
    "epwfile = demo.getEPW(lat, lon) # NJ lat/lon 40.0583° N, 74.4057\n",
    "metdata = demo.readWeatherFile(epwfile, coerce_year=2001) \n",
    "timestamp = metdata.datetime.index(pd.to_datetime('2001-06-17 13:0:0 -5'))  # Make this timezone aware, use -5 for EST.\n",
    "demo.gendaylit(timestamp)  \n",
    "\n",
    "\n",
    "# Making module with all the variables\n",
    "module=demo.makeModule(name=moduletype,x=x,y=y,numpanels=numpanels, \n",
    "                           xgap=xgap, ygap=ygap, cellModule=cellLevelModuleParams)\n",
    "# create a scene with all the variables\n",
    "sceneDict = {'tilt':tilt,'pitch': 15,'hub_height':hub_height,'azimuth':azimuth_ang, 'nMods': nMods, 'nRows': nRows}  \n",
    "scene = demo.makeScene(module=moduletype, sceneDict=sceneDict) \n",
    "octfile = demo.makeOct(demo.getfilelist())\n"
   ]
  },
  {
   "cell_type": "markdown",
   "metadata": {},
   "source": [
    "If desired, you can view the Oct file at this point:\n",
    "\n",
    "###    rvu -vf views\\front.vp -e .01 tutorial_11.oct\n"
   ]
  },
  {
   "cell_type": "code",
   "execution_count": 6,
   "metadata": {},
   "outputs": [],
   "source": [
    "\n",
    "## Comment the ! line below to run rvu from the Jupyter notebook instead of your terminal.\n",
    "## Simulation will stop until you close the rvu window\n",
    "\n",
    "#!rvu -vf views\\front.vp -e .01 tutorial_11.oct\n"
   ]
  },
  {
   "cell_type": "markdown",
   "metadata": {},
   "source": [
    "\n",
    "And adjust the view parameters, you should see this image.\n",
    "\n",
    "![AgriPV modeled step 1](../images_wiki/AdvancedJournals/AgriPV_step1.PNG)\n"
   ]
  },
  {
   "cell_type": "markdown",
   "metadata": {},
   "source": [
    "### Adding the structure\n",
    "\n",
    "We will add on the torquetube and pillars.\n",
    "\n",
    "Positions of the piles could be done more programatically, but they are kinda estimated at the moment. "
   ]
  },
  {
   "cell_type": "code",
   "execution_count": 12,
   "metadata": {},
   "outputs": [
    {
     "name": "stdout",
     "output_type": "stream",
     "text": [
      "\n",
      "Custom Object Name objects\\Post1.rad\n",
      "\n",
      "Custom Object Name objects\\Post2.rad\n",
      "\n",
      "Custom Object Name objects\\Post3.rad\n"
     ]
    }
   ],
   "source": [
    "torquetubelength = module.scenex*(nMods) \n",
    "\n",
    "name='Post1'\n",
    "text='! genbox Metal_Aluminum_Anodized torquetube_row1 {} 0.2 0.3 | xform -t {} -0.1 -0.3 | xform -t 0 0 4.2'.format(\n",
    "                                                    torquetubelength, (-torquetubelength+module.sceney)/2.0)\n",
    "customObject = demo.makeCustomObject(name,text)\n",
    "demo.appendtoScene(radfile=scene.radfiles, customObject=customObject, text=\"!xform -rz 0\")\n",
    "\n",
    "name='Post2'\n",
    "text='! genbox Metal_Aluminum_Anodized torquetube_row2 {} 0.2 0.3 | xform -t {} -0.1 -0.3 | xform -t 0 15 4.2'.format(\n",
    "                                            torquetubelength, (-torquetubelength+module.sceney)/2.0)\n",
    "customObject = demo.makeCustomObject(name,text)\n",
    "demo.appendtoScene(radfile=scene.radfiles, customObject=customObject, text=\"!xform -rz 0\")\n",
    "\n",
    "name='Post3'\n",
    "text='! genbox Metal_Aluminum_Anodized torquetube_row2 {} 0.2 0.3 | xform -t {} -0.1 -0.3 | xform -t 0 -15 4.2'.format(\n",
    "                                              torquetubelength, (-torquetubelength+module.sceney)/2.0)\n",
    "customObject = demo.makeCustomObject(name,text)\n",
    "demo.appendtoScene(radfile=scene.radfiles, customObject=customObject, text=\"!xform -rz 0\")\n"
   ]
  },
  {
   "cell_type": "code",
   "execution_count": 13,
   "metadata": {},
   "outputs": [
    {
     "name": "stdout",
     "output_type": "stream",
     "text": [
      "\n",
      "Custom Object Name objects\\Pile.rad\n",
      "Created tutorial_11.oct\n"
     ]
    }
   ],
   "source": [
    "name='Pile'\n",
    "pile1x = (torquetubelength+module.sceney)/2.0\n",
    "pilesep = pile1x*2.0/7.0\n",
    "\n",
    "text= '! genrev Metal_Grey tube1row1 t*4.2 0.15 32 | xform -t {} 0 0'.format(pile1x)\n",
    "text += '\\r\\n! genrev Metal_Grey tube1row2 t*4.2 0.15 32 | xform -t {} 15 0'.format(pile1x)\n",
    "text += '\\r\\n! genrev Metal_Grey tube1row3 t*4.2 0.15 32 | xform -t {} -15 0'.format(pile1x)\n",
    "\n",
    "for i in range (1, 7):\n",
    "    text += '\\r\\n! genrev Metal_Grey tube{}row1 t*4.2 0.15 32 | xform -t {} 0 0'.format(i+1, pile1x-pilesep*i)\n",
    "    text += '\\r\\n! genrev Metal_Grey tube{}row2 t*4.2 0.15 32 | xform -t {} 15 0'.format(i+1, pile1x-pilesep*i)\n",
    "    text += '\\r\\n! genrev Metal_Grey tube{}row3 t*4.2 0.15 32 | xform -t {} -15 0'.format(i+1, pile1x-pilesep*i)\n",
    "\n",
    "customObject = demo.makeCustomObject(name,text)\n",
    "demo.appendtoScene(radfile=scene.radfiles, customObject=customObject, text=\"!xform -rz 0\")\n",
    "\n",
    "octfile = demo.makeOct()  # makeOct combines all of the ground, sky and object files we just added into a .oct file."
   ]
  },
  {
   "cell_type": "markdown",
   "metadata": {},
   "source": [
    "### View the geometry with the posts on :\n",
    "\n",
    "#### rvu -vf views\\front.vp -e .01 -pe 0.4 -vp 12 -10 3.5 -vd -0.0995 0.9950 0.0 tutorial_11.oct\n",
    "\n"
   ]
  },
  {
   "cell_type": "code",
   "execution_count": 14,
   "metadata": {},
   "outputs": [],
   "source": [
    "\n",
    "## Comment the ! line below to run rvu from the Jupyter notebook instead of your terminal.\n",
    "## Simulation will stop until you close the rvu window\n",
    "\n",
    "#!rvu -vf views\\front.vp -e .01 tutorial_11.oct\n"
   ]
  },
  {
   "cell_type": "markdown",
   "metadata": {},
   "source": [
    "\n",
    "![AgriPV modeled step 2](../images_wiki/AdvancedJournals/AgriPV_step2.PNG)"
   ]
  },
  {
   "cell_type": "markdown",
   "metadata": {},
   "source": [
    "<a id='step2'></a>"
   ]
  },
  {
   "cell_type": "markdown",
   "metadata": {},
   "source": [
    "## 2. Analyse  the Ground Irradiance\n",
    "\n",
    "Now let's do some analysis along the ground, starting from the edge of the modules. We wil select to start in the center of the array.\n",
    "\n",
    "We are also increasign the number of points sampled accross the collector width, with the  variable **sensorsy** passed to **moduleanalysis**. We are also increasing the step between sampling points, to be able to sample in between the rows."
   ]
  },
  {
   "cell_type": "code",
   "execution_count": 16,
   "metadata": {},
   "outputs": [],
   "source": [
    "analysis = AnalysisObj(octfile, demo.name)  \n",
    "sensorsy = 20\n",
    "frontscan, backscan = analysis.moduleAnalysis(scene, sensorsy=sensorsy)\n"
   ]
  },
  {
   "cell_type": "code",
   "execution_count": 17,
   "metadata": {},
   "outputs": [],
   "source": [
    "groundscan = frontscan"
   ]
  },
  {
   "cell_type": "code",
   "execution_count": 18,
   "metadata": {},
   "outputs": [
    {
     "data": {
      "text/plain": [
       "{'xstart': 1.5159739062663865e-16,\n",
       " 'ystart': -1.237886635821746,\n",
       " 'zstart': 0.05,\n",
       " 'xinc': -1.5802346387185998e-17,\n",
       " 'yinc': 0.7894736842105263,\n",
       " 'zinc': 0,\n",
       " 'sx_xinc': 0.0,\n",
       " 'sx_yinc': 0.0,\n",
       " 'sx_zinc': 0.0,\n",
       " 'Nx': 1,\n",
       " 'Ny': 20,\n",
       " 'Nz': 1,\n",
       " 'orient': '-0.000 0.574 -0.819'}"
      ]
     },
     "execution_count": 18,
     "metadata": {},
     "output_type": "execute_result"
    }
   ],
   "source": [
    "groundscan['zstart'] = 0.05  # setting it 5 cm from the ground.\n",
    "groundscan['zinc'] = 0   # no tilt necessary. \n",
    "groundscan['yinc'] = pitch/(sensorsy-1)   # increasing spacing so it covers all distance between rows\n",
    "groundscan"
   ]
  },
  {
   "cell_type": "code",
   "execution_count": 19,
   "metadata": {},
   "outputs": [
    {
     "name": "stdout",
     "output_type": "stream",
     "text": [
      "Linescan in process: tutorial_11_groundscan_Front\n",
      "Linescan in process: tutorial_11_groundscan_Back\n",
      "Saved: results\\irr_tutorial_11_groundscan.csv\n"
     ]
    },
    {
     "data": {
      "text/plain": [
       "({'Wm2': [703.8038333333334,\n",
       "   673.7653666666666,\n",
       "   321.8276333333333,\n",
       "   315.0131666666667,\n",
       "   329.5354,\n",
       "   350.5611666666667,\n",
       "   699.8140666666667,\n",
       "   719.7485,\n",
       "   727.2747333333333,\n",
       "   734.5459333333333,\n",
       "   742.3828,\n",
       "   744.3802000000001,\n",
       "   746.3888333333334,\n",
       "   747.3489,\n",
       "   750.8768333333334,\n",
       "   751.2028666666665,\n",
       "   746.8307666666666,\n",
       "   741.7076999999999,\n",
       "   726.5892333333333,\n",
       "   706.5294333333335],\n",
       "  'x': [1.515974e-16,\n",
       "   1.35795e-16,\n",
       "   1.199927e-16,\n",
       "   1.041904e-16,\n",
       "   8.838801e-17,\n",
       "   7.258566e-17,\n",
       "   5.678331e-17,\n",
       "   4.098097e-17,\n",
       "   2.517862e-17,\n",
       "   9.376273e-18,\n",
       "   -6.426073e-18,\n",
       "   -2.222842e-17,\n",
       "   -3.803077e-17,\n",
       "   -5.383311e-17,\n",
       "   -6.963546e-17,\n",
       "   -8.543781e-17,\n",
       "   -1.012402e-16,\n",
       "   -1.170425e-16,\n",
       "   -1.328448e-16,\n",
       "   -1.486472e-16],\n",
       "  'y': [-1.237887,\n",
       "   -0.448413,\n",
       "   0.3410607,\n",
       "   1.130534,\n",
       "   1.920008,\n",
       "   2.709482,\n",
       "   3.498955,\n",
       "   4.288429,\n",
       "   5.077903,\n",
       "   5.867377,\n",
       "   6.65685,\n",
       "   7.446324,\n",
       "   8.235798,\n",
       "   9.025271,\n",
       "   9.814745,\n",
       "   10.60422,\n",
       "   11.39369,\n",
       "   12.18317,\n",
       "   12.97264,\n",
       "   13.76211],\n",
       "  'z': [0.05,\n",
       "   0.05,\n",
       "   0.05,\n",
       "   0.05,\n",
       "   0.05,\n",
       "   0.05,\n",
       "   0.05,\n",
       "   0.05,\n",
       "   0.05,\n",
       "   0.05,\n",
       "   0.05,\n",
       "   0.05,\n",
       "   0.05,\n",
       "   0.05,\n",
       "   0.05,\n",
       "   0.05,\n",
       "   0.05,\n",
       "   0.05,\n",
       "   0.05,\n",
       "   0.05],\n",
       "  'r': [703.6443,\n",
       "   673.6356,\n",
       "   321.7167,\n",
       "   314.8971,\n",
       "   329.4215,\n",
       "   350.4611,\n",
       "   699.7151,\n",
       "   719.6634,\n",
       "   727.1862,\n",
       "   734.4791,\n",
       "   742.3076,\n",
       "   744.3066,\n",
       "   746.3135,\n",
       "   747.2734,\n",
       "   750.7906,\n",
       "   751.1166,\n",
       "   746.7072,\n",
       "   741.5742,\n",
       "   726.4468,\n",
       "   706.3857],\n",
       "  'g': [703.7944,\n",
       "   673.7612,\n",
       "   321.823,\n",
       "   315.0055,\n",
       "   329.5266,\n",
       "   350.5535,\n",
       "   699.8057,\n",
       "   719.7408,\n",
       "   727.2673,\n",
       "   734.5402,\n",
       "   742.3761,\n",
       "   744.3735,\n",
       "   746.3822,\n",
       "   747.3423,\n",
       "   750.8698,\n",
       "   751.1958,\n",
       "   746.8198,\n",
       "   741.6976,\n",
       "   726.5797,\n",
       "   706.5216],\n",
       "  'b': [703.9728,\n",
       "   673.8993,\n",
       "   321.9432,\n",
       "   315.1369,\n",
       "   329.6581,\n",
       "   350.6689,\n",
       "   699.9214,\n",
       "   719.8413,\n",
       "   727.3707,\n",
       "   734.6185,\n",
       "   742.4647,\n",
       "   744.4605,\n",
       "   746.4708,\n",
       "   747.431,\n",
       "   750.9701,\n",
       "   751.2962,\n",
       "   746.9653,\n",
       "   741.8513,\n",
       "   726.7412,\n",
       "   706.681],\n",
       "  'mattype': ['groundplane',\n",
       "   'groundplane',\n",
       "   'groundplane',\n",
       "   'groundplane',\n",
       "   'groundplane',\n",
       "   'groundplane',\n",
       "   'groundplane',\n",
       "   'groundplane',\n",
       "   'groundplane',\n",
       "   'groundplane',\n",
       "   'groundplane',\n",
       "   'groundplane',\n",
       "   'groundplane',\n",
       "   'groundplane',\n",
       "   'groundplane',\n",
       "   'groundplane',\n",
       "   'groundplane',\n",
       "   'groundplane',\n",
       "   'groundplane',\n",
       "   'groundplane'],\n",
       "  'title': 'tutorial_11_groundscan_Front'},\n",
       " {'Wm2': [257.0037,\n",
       "   131.18226666666666,\n",
       "   130.86606666666668,\n",
       "   130.5496,\n",
       "   124.62806666666665,\n",
       "   123.07233333333333,\n",
       "   257.0037,\n",
       "   101.03026666666666,\n",
       "   83.63291,\n",
       "   92.86717666666668,\n",
       "   134.92049999999998,\n",
       "   127.07076666666667,\n",
       "   128.4723,\n",
       "   257.0037,\n",
       "   131.3560666666667,\n",
       "   132.55753333333334,\n",
       "   133.41306666666665,\n",
       "   134.14413333333334,\n",
       "   135.43213333333333,\n",
       "   257.0037],\n",
       "  'x': [1.50052e-16,\n",
       "   1.342497e-16,\n",
       "   1.184474e-16,\n",
       "   1.02645e-16,\n",
       "   8.684266e-17,\n",
       "   7.104032e-17,\n",
       "   5.523797e-17,\n",
       "   3.943562e-17,\n",
       "   2.363328e-17,\n",
       "   7.83093e-18,\n",
       "   -7.971416e-18,\n",
       "   -2.377376e-17,\n",
       "   -3.957611e-17,\n",
       "   -5.537846e-17,\n",
       "   -7.11808e-17,\n",
       "   -8.698315e-17,\n",
       "   -1.027855e-16,\n",
       "   -1.185878e-16,\n",
       "   -1.343902e-16,\n",
       "   -1.501925e-16],\n",
       "  'y': [-1.225268,\n",
       "   -1.096232,\n",
       "   -0.9671961,\n",
       "   -0.8381601,\n",
       "   -0.7091242,\n",
       "   -0.5800882,\n",
       "   -0.4510523,\n",
       "   -0.3220163,\n",
       "   -0.1929803,\n",
       "   -0.0639444,\n",
       "   0.06509155,\n",
       "   0.1941275,\n",
       "   0.3231635,\n",
       "   0.4521994,\n",
       "   0.5812354,\n",
       "   0.7102713,\n",
       "   0.8393073,\n",
       "   0.9683432,\n",
       "   1.097379,\n",
       "   1.226415],\n",
       "  'z': [3.440837,\n",
       "   3.531189,\n",
       "   3.621541,\n",
       "   3.711893,\n",
       "   3.802245,\n",
       "   3.892597,\n",
       "   3.982949,\n",
       "   4.073301,\n",
       "   4.163653,\n",
       "   4.254005,\n",
       "   4.344357,\n",
       "   4.434709,\n",
       "   4.525061,\n",
       "   4.615413,\n",
       "   4.705765,\n",
       "   4.796117,\n",
       "   4.886468,\n",
       "   4.97682,\n",
       "   5.067172,\n",
       "   5.157524],\n",
       "  'r': [257.0037,\n",
       "   130.9996,\n",
       "   130.6839,\n",
       "   130.3679,\n",
       "   124.3862,\n",
       "   122.8335,\n",
       "   257.0037,\n",
       "   100.267,\n",
       "   82.60756,\n",
       "   90.97942,\n",
       "   133.8983,\n",
       "   126.5879,\n",
       "   128.1372,\n",
       "   257.0037,\n",
       "   131.153,\n",
       "   132.3526,\n",
       "   133.2722,\n",
       "   134.0025,\n",
       "   135.3221,\n",
       "   257.0037],\n",
       "  'g': [257.0037,\n",
       "   131.1747,\n",
       "   130.8585,\n",
       "   130.542,\n",
       "   124.6125,\n",
       "   123.057,\n",
       "   257.0037,\n",
       "   100.9442,\n",
       "   83.51275,\n",
       "   92.63328,\n",
       "   134.7947,\n",
       "   127.0171,\n",
       "   128.4373,\n",
       "   257.0037,\n",
       "   131.3383,\n",
       "   132.5396,\n",
       "   133.4021,\n",
       "   134.1331,\n",
       "   135.4242,\n",
       "   257.0037],\n",
       "  'b': [257.0037,\n",
       "   131.3725,\n",
       "   131.0558,\n",
       "   130.7389,\n",
       "   124.8855,\n",
       "   123.3265,\n",
       "   257.0037,\n",
       "   101.8796,\n",
       "   84.77842,\n",
       "   94.98883,\n",
       "   136.0685,\n",
       "   127.6073,\n",
       "   128.8424,\n",
       "   257.0037,\n",
       "   131.5769,\n",
       "   132.7804,\n",
       "   133.5649,\n",
       "   134.2968,\n",
       "   135.5501,\n",
       "   257.0037],\n",
       "  'mattype': ['sky',\n",
       "   'a2.1.a5.1.0.cellPVmodule.2310',\n",
       "   'a2.1.a5.2.0.cellPVmodule.2310',\n",
       "   'a2.1.a5.3.0.cellPVmodule.2310',\n",
       "   'a2.1.a5.4.0.cellPVmodule.2310',\n",
       "   'a2.1.a5.5.0.cellPVmodule.2310',\n",
       "   'sky',\n",
       "   'a2.1.a5.0.1.cellPVmodule.2310',\n",
       "   'a2.1.a5.1.1.cellPVmodule.2310',\n",
       "   'a2.1.a5.2.1.cellPVmodule.2310',\n",
       "   'a2.1.a5.3.1.cellPVmodule.2310',\n",
       "   'a2.1.a5.4.1.cellPVmodule.2310',\n",
       "   'a2.1.a5.5.1.cellPVmodule.2310',\n",
       "   'sky',\n",
       "   'a2.1.a5.0.2.cellPVmodule.2310',\n",
       "   'a2.1.a5.1.2.cellPVmodule.2310',\n",
       "   'a2.1.a5.2.2.cellPVmodule.2310',\n",
       "   'a2.1.a5.3.2.cellPVmodule.2310',\n",
       "   'a2.1.a5.4.2.cellPVmodule.2310',\n",
       "   'sky'],\n",
       "  'title': 'tutorial_11_groundscan_Back'})"
      ]
     },
     "execution_count": 19,
     "metadata": {},
     "output_type": "execute_result"
    }
   ],
   "source": [
    "analysis.analysis(octfile, simulationname+\"_groundscan\", groundscan, backscan)  # compare the back vs front irradiance  \n"
   ]
  },
  {
   "cell_type": "markdown",
   "metadata": {},
   "source": [
    "This is the result for only one 'chord' accross the ground. Let's now do a X-Y scan of the ground."
   ]
  },
  {
   "cell_type": "markdown",
   "metadata": {},
   "source": [
    "<a id='step3'></a>"
   ]
  },
  {
   "cell_type": "markdown",
   "metadata": {},
   "source": [
    "## 3. Analyse and MAP the Ground Irradiance"
   ]
  },
  {
   "cell_type": "markdown",
   "metadata": {},
   "source": [
    " We will use the same technique to find the irradiance on the ground used above, but will move it along the X-axis to map from the start of one module to the next.\n",
    " \n",
    " We will sample around the module that is placed at the center of the field."
   ]
  },
  {
   "cell_type": "markdown",
   "metadata": {},
   "source": [
    "![AgriPV modeled step 4](../images_wiki/AdvancedJournals/spacing_between_modules.PNG)"
   ]
  },
  {
   "cell_type": "code",
   "execution_count": 20,
   "metadata": {},
   "outputs": [],
   "source": [
    "import seaborn as sns"
   ]
  },
  {
   "cell_type": "code",
   "execution_count": 22,
   "metadata": {},
   "outputs": [
    {
     "name": "stdout",
     "output_type": "stream",
     "text": [
      "Linescan in process: tutorial_11_groundscan_0_Front\n",
      "Linescan in process: tutorial_11_groundscan_0_Back\n",
      "Saved: results\\irr_tutorial_11_groundscan_0.csv\n",
      "Linescan in process: tutorial_11_groundscan_1_Front\n",
      "Linescan in process: tutorial_11_groundscan_1_Back\n",
      "Saved: results\\irr_tutorial_11_groundscan_1.csv\n",
      "Linescan in process: tutorial_11_groundscan_2_Front\n",
      "Linescan in process: tutorial_11_groundscan_2_Back\n",
      "Saved: results\\irr_tutorial_11_groundscan_2.csv\n",
      "Linescan in process: tutorial_11_groundscan_3_Front\n",
      "Linescan in process: tutorial_11_groundscan_3_Back\n",
      "Saved: results\\irr_tutorial_11_groundscan_3.csv\n",
      "Linescan in process: tutorial_11_groundscan_4_Front\n",
      "Linescan in process: tutorial_11_groundscan_4_Back\n",
      "Saved: results\\irr_tutorial_11_groundscan_4.csv\n",
      "Linescan in process: tutorial_11_groundscan_5_Front\n",
      "Linescan in process: tutorial_11_groundscan_5_Back\n",
      "Saved: results\\irr_tutorial_11_groundscan_5.csv\n",
      "Linescan in process: tutorial_11_groundscan_6_Front\n",
      "Linescan in process: tutorial_11_groundscan_6_Back\n",
      "Saved: results\\irr_tutorial_11_groundscan_6.csv\n",
      "Linescan in process: tutorial_11_groundscan_7_Front\n",
      "Linescan in process: tutorial_11_groundscan_7_Back\n",
      "Saved: results\\irr_tutorial_11_groundscan_7.csv\n",
      "Linescan in process: tutorial_11_groundscan_8_Front\n",
      "Linescan in process: tutorial_11_groundscan_8_Back\n",
      "Saved: results\\irr_tutorial_11_groundscan_8.csv\n",
      "Linescan in process: tutorial_11_groundscan_9_Front\n",
      "Linescan in process: tutorial_11_groundscan_9_Back\n",
      "Saved: results\\irr_tutorial_11_groundscan_9.csv\n",
      "Linescan in process: tutorial_11_groundscan_10_Front\n",
      "Linescan in process: tutorial_11_groundscan_10_Back\n",
      "Saved: results\\irr_tutorial_11_groundscan_10.csv\n",
      "Linescan in process: tutorial_11_groundscan_11_Front\n",
      "Linescan in process: tutorial_11_groundscan_11_Back\n",
      "Saved: results\\irr_tutorial_11_groundscan_11.csv\n",
      "Linescan in process: tutorial_11_groundscan_12_Front\n",
      "Linescan in process: tutorial_11_groundscan_12_Back\n",
      "Saved: results\\irr_tutorial_11_groundscan_12.csv\n",
      "Linescan in process: tutorial_11_groundscan_13_Front\n",
      "Linescan in process: tutorial_11_groundscan_13_Back\n",
      "Saved: results\\irr_tutorial_11_groundscan_13.csv\n",
      "Linescan in process: tutorial_11_groundscan_14_Front\n",
      "Linescan in process: tutorial_11_groundscan_14_Back\n",
      "Saved: results\\irr_tutorial_11_groundscan_14.csv\n",
      "Linescan in process: tutorial_11_groundscan_15_Front\n",
      "Linescan in process: tutorial_11_groundscan_15_Back\n",
      "Saved: results\\irr_tutorial_11_groundscan_15.csv\n",
      "Linescan in process: tutorial_11_groundscan_16_Front\n",
      "Linescan in process: tutorial_11_groundscan_16_Back\n",
      "Saved: results\\irr_tutorial_11_groundscan_16.csv\n",
      "Linescan in process: tutorial_11_groundscan_17_Front\n",
      "Linescan in process: tutorial_11_groundscan_17_Back\n",
      "Saved: results\\irr_tutorial_11_groundscan_17.csv\n",
      "Linescan in process: tutorial_11_groundscan_18_Front\n",
      "Linescan in process: tutorial_11_groundscan_18_Back\n",
      "Saved: results\\irr_tutorial_11_groundscan_18.csv\n",
      "Linescan in process: tutorial_11_groundscan_19_Front\n",
      "Linescan in process: tutorial_11_groundscan_19_Back\n",
      "Saved: results\\irr_tutorial_11_groundscan_19.csv\n"
     ]
    }
   ],
   "source": [
    "sensorsx = 20\n",
    "startgroundsample=-module.scenex\n",
    "spacingbetweensamples = module.scenex/(sensorsx-1)\n",
    "\n",
    "for i in range (0, sensorsx): # Will map 20 points    \n",
    "    frontscan, backscan = analysis.moduleAnalysis(scene, sensorsy=sensorsy)\n",
    "    groundscan = frontscan\n",
    "    groundscan['zstart'] = 0.05  # setting it 5 cm from the ground.\n",
    "    groundscan['zinc'] = 0   # no tilt necessary. \n",
    "    groundscan['yinc'] = pitch/(sensorsy-1)   # increasing spacing so it covers all distance between rows\n",
    "    groundscan['xstart'] = startgroundsample + i*spacingbetweensamples   # increasing spacing so it covers all distance between rows\n",
    "    analysis.analysis(octfile, simulationname+\"_groundscan_\"+str(i), groundscan, backscan)  # compare the back vs front irradiance  \n"
   ]
  },
  {
   "cell_type": "markdown",
   "metadata": {},
   "source": [
    "Read all the files generated into one dataframe"
   ]
  },
  {
   "cell_type": "code",
   "execution_count": 12,
   "metadata": {},
   "outputs": [
    {
     "name": "stdout",
     "output_type": "stream",
     "text": [
      "21 files in the directory\n",
      "20 groundscan files in the directory\n"
     ]
    }
   ],
   "source": [
    "filestarter = \"irr_AgriPV_groundscan_\"\n",
    "\n",
    "filelist = sorted(os.listdir(os.path.join(testfolder, 'results')))\n",
    "prefixed = [filename for filename in filelist if filename.startswith(filestarter)]\n",
    "arrayWm2Front = []\n",
    "arrayWm2Back = []\n",
    "arrayMatFront = []\n",
    "arrayMatBack = []\n",
    "filenamed = []\n",
    "faillist = []\n",
    "\n",
    "print('{} files in the directory'.format(filelist.__len__()))\n",
    "print('{} groundscan files in the directory'.format(prefixed.__len__()))\n",
    "i = 0  # counter to track # files loaded.\n",
    "\n",
    "for i in range (0, len(prefixed)):\n",
    "    ind = prefixed[i].split('_')\n",
    "\n",
    "    try:\n",
    "        resultsDF = load.read1Result(os.path.join(testfolder, 'results', prefixed[i]))\n",
    "        arrayWm2Front.append(list(resultsDF['Wm2Front']))\n",
    "        arrayWm2Back.append(list(resultsDF['Wm2Back']))\n",
    "        arrayMatFront.append(list(resultsDF['mattype']))\n",
    "        arrayMatBack.append(list(resultsDF['rearMat']))\n",
    "        filenamed.append(prefixed[i])\n",
    "    except:\n",
    "        print(\" FAILED \", i, prefixed[i])\n",
    "        faillist.append(prefixed[i])\n",
    "\n",
    "resultsdf = pd.DataFrame(list(zip(arrayWm2Front, arrayWm2Back, \n",
    "                                  arrayMatFront, arrayMatBack)),\n",
    "                         columns = ['br_Wm2Front', 'br_Wm2Back', \n",
    "                                    'br_MatFront', 'br_MatBack'])\n",
    "resultsdf['filename'] = filenamed"
   ]
  },
  {
   "cell_type": "markdown",
   "metadata": {},
   "source": [
    "Creating a new dataframe where  each element in the front irradiance list is a column. Also transpose and reverse so it looks like a top-down view of the ground."
   ]
  },
  {
   "cell_type": "code",
   "execution_count": 13,
   "metadata": {},
   "outputs": [],
   "source": [
    "df3 = pd.DataFrame(resultsdf['br_Wm2Front'].to_list())\n",
    "reversed_df = df3.T.iloc[::-1]"
   ]
  },
  {
   "cell_type": "code",
   "execution_count": 14,
   "metadata": {},
   "outputs": [],
   "source": [
    "sns.set(rc={'figure.figsize':(11.7,8.27)})"
   ]
  },
  {
   "cell_type": "code",
   "execution_count": 15,
   "metadata": {},
   "outputs": [
    {
     "name": "stdout",
     "output_type": "stream",
     "text": [
      "\n"
     ]
    },
    {
     "data": {
      "image/png": "[encoded data removed]",
      "text/plain": [
       "<Figure size 842.4x595.44 with 2 Axes>"
      ]
     },
     "metadata": {},
     "output_type": "display_data"
    }
   ],
   "source": [
    "# Plot\n",
    "ax = sns.heatmap(reversed_df)\n",
    "ax.set_yticks([])\n",
    "ax.set_xticks([])\n",
    "ax.set_ylabel('')  \n",
    "ax.set_xlabel('')  \n",
    "print('')"
   ]
  },
  {
   "cell_type": "markdown",
   "metadata": {},
   "source": [
    "<a id='step4'></a>"
   ]
  },
  {
   "cell_type": "markdown",
   "metadata": {},
   "source": [
    "## 4. Adding different Albedo Sections\n",
    "Add a surface (just like we added the pillars) with a specific reflectivity to represent different albedo sections. In the image, we can see that the albedo between the crops is different than the crop albedo. Let's assume that the abledo between the crops is higher than the crop's albedo which wa previuosly set a 0.2.\n",
    "\n"
   ]
  },
  {
   "cell_type": "code",
   "execution_count": 16,
   "metadata": {},
   "outputs": [
    {
     "name": "stdout",
     "output_type": "stream",
     "text": [
      "\n",
      "Custom Object Name objects\\Center_Grass.rad\n",
      "Created AgriPV.oct\n"
     ]
    }
   ],
   "source": [
    "name='Center_Grass'\n",
    "carpositionx=-2\n",
    "carpositiony=-1\n",
    "text='! genbox white_EPDM CenterPatch 28 12 0.1 | xform -t -14 2 0'.format(carpositionx, carpositiony)\n",
    "customObject = demo.makeCustomObject(name,text)\n",
    "demo.appendtoScene(scene.radfiles, customObject, '!xform -rz 0')\n",
    "\n",
    "octfile = demo.makeOct(demo.getfilelist()) \n"
   ]
  },
  {
   "cell_type": "markdown",
   "metadata": {},
   "source": [
    "Viewing with rvu:\n",
    "\n",
    "![AgriPV modeled step 4](../images_wiki/AdvancedJournals/AgriPV_step4.PNG)\n",
    "\n"
   ]
  }
 ],
 "metadata": {
  "celltoolbar": "Tags",
  "kernelspec": {
   "display_name": "Python 3",
   "language": "python",
   "name": "python3"
  },
  "language_info": {
   "codemirror_mode": {
    "name": "ipython",
    "version": 3
   },
   "file_extension": ".py",
   "mimetype": "text/x-python",
   "name": "python",
   "nbconvert_exporter": "python",
   "pygments_lexer": "ipython3",
   "version": "3.8.8"
  }
 },
 "nbformat": 4,
 "nbformat_minor": 2
}
