{
 "cells": [
  {
   "cell_type": "markdown",
   "metadata": {},
   "source": [
    "# 6 - Advanced topics: Understanding trackerdict structure\n",
    "\n",
    "Tutorial 3 gives a good, detailed introduction to the trackerdict structure step by step.\n",
    "Here is a condensed summary of functions you can use to explore the tracker dictionary.\n",
    "\n",
    "\n",
    "### Steps:\n",
    "\n",
    "<ol>\n",
    "    <li> <a href='#step1'> Create a short Simulation + tracker dictionary beginning to end for 1 day </a></li>\n",
    "    <li> <a href='#step2'> Explore the tracker dictionary </a></li>\n",
    "    <li> <a href='#step3'> Explore Save Options </a></li>\n",
    "</ol>"
   ]
  },
  {
   "cell_type": "markdown",
   "metadata": {},
   "source": [
    "<a id='step 1'></a>"
   ]
  },
  {
   "cell_type": "markdown",
   "metadata": {},
   "source": [
    "### 1. Create a short Simulation + tracker dictionary beginning to end for 1 day"
   ]
  },
  {
   "cell_type": "code",
   "execution_count": null,
   "metadata": {},
   "outputs": [],
   "source": [
    "import bifacial_radiance\n",
    "\n",
    "simulationName = 'Tutorial 3'\n",
    "moduletype = 'Custom Cell-Level Module'    # We will define the parameters for this below in Step 4.\n",
    "testfolder = r'C:\\Users\\sayala\\Documents\\RadianceScenes\\Tutorials\\Journal2'\n",
    "albedo = \"litesoil\"      # this is one of the options on ground.rad\n",
    "lat = 37.5   \n",
    "lon = -77.6\n",
    "\n",
    "# Scene variables\n",
    "nMods = 20\n",
    "nRows = 7\n",
    "hub_height = 2.3 # meters\n",
    "pitch = 10 # meters      # We will be using pitch instead of GCR for this example.\n",
    "\n",
    "# Traking parameters\n",
    "cumulativesky = False\n",
    "limit_angle = 45 # tracker rotation limit angle\n",
    "angledelta = 0.01 # we will be doing hourly simulation, we want the angle to be as close to real tracking as possible.\n",
    "backtrack = True \n",
    "\n",
    "#makeModule parameters\n",
    "# x and y will be defined later on Step 4 for this tutorial!!\n",
    "xgap = 0.01\n",
    "ygap = 0.10\n",
    "zgap = 0.05\n",
    "numpanels = 2\n",
    "torquetube = True\n",
    "axisofrotationTorqueTube = False\n",
    "diameter = 0.1\n",
    "tubetype = 'Oct'    # This will make an octagonal torque tube.\n",
    "material = 'black'   # Torque tube of this material (0% reflectivity)\n",
    "\n",
    "# Simulation range days\n",
    "startdate = '11/06'     \n",
    "enddate = '11/06'\n",
    "\n",
    "# Cell Parameters\n",
    "numcellsx = 6\n",
    "numcellsy = 12\n",
    "xcell = 0.156\n",
    "ycell = 0.156\n",
    "xcellgap = 0.02\n",
    "ycellgap = 0.02\n",
    "\n",
    "demo = bifacial_radiance.RadianceObj(simulationName, path=testfolder)  \n",
    "demo.setGround(albedo) \n",
    "epwfile = demo.getEPW(lat,lon) \n",
    "metdata = demo.readWeatherFile(epwfile)  \n",
    "cellLevelModuleParams = {'numcellsx': numcellsx, 'numcellsy':numcellsy, \n",
    "                         'xcell': xcell, 'ycell': ycell, 'xcellgap': xcellgap, 'ycellgap': ycellgap}\n",
    "mymodule = demo.makeModule(name=moduletype, torquetube=torquetube, diameter=diameter, tubetype=tubetype, material=material, \n",
    "                xgap=xgap, ygap=ygap, zgap=zgap, numpanels=numpanels, \n",
    "                cellLevelModuleParams=cellLevelModuleParams, \n",
    "                axisofrotationTorqueTube=axisofrotationTorqueTube)\n",
    "sceneDict = {'pitch':pitch,'hub_height':hub_height, 'nMods': nMods, 'nRows': nRows}  \n",
    "demo.set1axis(limit_angle = limit_angle, backtrack = backtrack, gcr = mymodule['sceney'] / pitch, cumulativesky = cumulativesky)\n",
    "demo.gendaylit1axis(startdate=startdate, enddate=enddate)\n",
    "demo.makeScene1axis(moduletype=moduletype,sceneDict=sceneDict) #makeScene creates a .rad file with 20 modules per row, 7 rows.\n",
    "demo.makeOct1axis()\n",
    "demo.analysis1axis()"
   ]
  },
  {
   "cell_type": "markdown",
   "metadata": {},
   "source": [
    "<a id='step2'></a>"
   ]
  },
  {
   "cell_type": "markdown",
   "metadata": {},
   "source": [
    "### 2. Explore the tracker dictionary\n",
    "\n",
    "You can use any of the below options to explore the tracking dictionary. Copy it into an empty cell to see their contents."
   ]
  },
  {
   "cell_type": "code",
   "execution_count": null,
   "metadata": {},
   "outputs": [],
   "source": [
    "demo.__dict__   # Shows all keys \n",
    "\n",
    "trackerkeys = sorted(trackerdict.keys()) # get the trackerdict keys to see a specific hour.\n",
    "\n",
    "demo.trackerdict[trackerkeys[0]] # This prints all trackerdict content\n",
    "demo.trackerdict[trackerkeys[0]]['scene']  # This just prints that scene is a Scene object\n",
    "demo.trackerdict[trackerkeys[0]]['scene'].__dict__ # This shows the Scene Object contents\n",
    "demo.trackerdict[trackerkeys[0]]['scene'].scenex  # Addressing one of the variables in the Scene object\n",
    "demo.trackerdict[trackerkeys[0]]['scene'].sceneDict # Printing the scene dictionary saved in the Scene Object\n",
    "demo.trackerdict[trackerkeys[0]]['scene'].sceneDict['tilt'] # Addressing one of the variables in the scene dictionary\n",
    "demo.trackerdict[trackerkeys[0]]['scene'].scene.__dict__ # Swhoing the scene dictionary inside the Scene Object values \n",
    "\n",
    "# Looking at the AnalysisObj results indivudally\n",
    "demo.trackerdict[trackerkeys[0]]['AnalysisObj']  # This just prints that AnalysisObj is an Analysis object\n",
    "demo.trackerdict[trackerkeys[0]]['AnalysisObj'].__dict__ # This shows the Analysis Object contents\n",
    "demo.trackerdict[trackerkeys[0]]['AnalysisObj'].mattype # Addressing one of the variables in the Analysis Object\n",
    "\n",
    "# Looking at the Analysis results Accumulated for the day:\n",
    "demo.Wm2Back  # this value is the addition of every individual irradiance result for each hour simulated.\n",
    "\n",
    "#  THREE WAYS OF CALLING THE SAME THING:\n",
    "# (this might be cleaned up/streamlined in following releases.\n",
    "demo.trackerdict[trackerkeys[0]]['scene'].scenex\n",
    "demo.trackerdict[trackerkeys[0]]['scene'].moduleDict['scenex']\n",
    "demo.trackerdict[trackerkeys[0]]['scene'].scene.scenex"
   ]
  },
  {
   "cell_type": "markdown",
   "metadata": {},
   "source": [
    "<a id='step3'></a>"
   ]
  },
  {
   "cell_type": "markdown",
   "metadata": {},
   "source": [
    "### 3. Explore Save Options\n",
    "\n",
    "The following lines offer ways to save your trackerdict or your demo object."
   ]
  },
  {
   "cell_type": "code",
   "execution_count": null,
   "metadata": {},
   "outputs": [],
   "source": [
    "demo.exportTrackerDict(trackerdict = demo.trackerdict, savefile = 'results\\\\test_reindexTrue.csv', reindex = False)\n",
    "demo.save(savefile = 'results\\\\demopickle.pickle')\n"
   ]
  }
 ],
 "metadata": {
  "kernelspec": {
   "display_name": "Python 3",
   "language": "python",
   "name": "python3"
  },
  "language_info": {
   "codemirror_mode": {
    "name": "ipython",
    "version": 3
   },
   "file_extension": ".py",
   "mimetype": "text/x-python",
   "name": "python",
   "nbconvert_exporter": "python",
   "pygments_lexer": "ipython3",
   "version": "3.7.4"
  }
 },
 "nbformat": 4,
 "nbformat_minor": 2
}
