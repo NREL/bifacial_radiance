{
 "cells": [
  {
   "attachments": {},
   "cell_type": "markdown",
   "metadata": {},
   "source": [
    "# 8 - Advanced topics - Calculating Power Output and Electrical Mismatch\n",
    "\n",
    "Nonuniform rear-irradiance on bifacial PV systems can cause additional mismatch loss, which may not be appropriately captured in PV energy production estimates and software.\n",
    "\n",
    "<img src=\"..\\images_wiki\\AdvancedJournals\\Mismatch_Definition_Example.PNG\" width=\"600\">\n",
    "\n",
    "The **analysis.py** module in bifacial_radiance comes with functions to calculate power output, electrical mismatch, and some other irradiance calculations. This is the procedure used for this proceedings and submitted journals, which have much more detail on the procedure. \n",
    "\n",
    "        •\tDeline, C., Ayala Pelaez, S., MacAlpine, S., Olalla, C. Estimating and Parameterizing Mismatch Power Loss in Bifacial Photovoltaic Systems. (submitted Progress in PV on Sept. 30, 2019)\n",
    "\n",
    "        •\tDeline C, Ayala Pelaez S, MacAlpine S, Olalla C. Bifacial PV System Mismatch Loss Estimation & Parameterization. Presented in: 36th EU PVSEC, Marseille Fr. Slides: https://www.nrel.gov/docs/fy19osti/74885.pdf. Proceedings: https://www.nrel.gov/docs/fy20osti/73541.pdf\n",
    "\n",
    "        •\tAyala Pelaez S, Deline C, MacAlpine S, Olalla C. Bifacial PV system mismatch loss estimation. Poster presented at the 6th BifiPV Workshop, Amsterdam 2019. https://www.nrel.gov/docs/fy19osti/74831.pdf and http://bifipv-workshop.com/index.php?id=amsterdam-2019-program \n",
    "\n",
    "Ideally **mismatch losses M** should be calculated for the whole year, and then the **mismatch loss factor to apply to Grear \"Lrear\"** required by due diligence softwares can be calculated:\n",
    "\n",
    "<img src=\"..\\images_wiki\\AdvancedJournals\\Lrear_solving.PNG\" width=\"400\">\n",
    "\n",
    "In this journal we will explore calculating mismatch loss M for a reduced set of hours. A procedure similar to that in Tutorial 3 will be used to generate various hourly irradiance measurements in the results folder, which the mismatch.py module will load and analyze. Analysis is done with PVMismatch, so this must be installed.\n",
    "\n",
    "## STEPS:\n",
    "    1. Run an hourly simulation\n",
    "    2. Do mismatch analysis on the results.\n",
    "\n"
   ]
  },
  {
   "cell_type": "markdown",
   "metadata": {},
   "source": [
    "<a id='step1'></a>"
   ]
  },
  {
   "cell_type": "markdown",
   "metadata": {},
   "source": [
    "### 1. Run an hourly simulation\n",
    "\n",
    "This will generate the results over which we will perform the mismatch analysis. Here we are doing only 1 day to make this 'fater'."
   ]
  },
  {
   "cell_type": "code",
   "execution_count": null,
   "metadata": {},
   "outputs": [],
   "source": [
    "import bifacial_radiance\n",
    "import os \n",
    "\n",
    "simulationName = 'Tutorial 8'\n",
    "testfolder = os.path.abspath(r'..\\..\\bifacial_radiance\\TEMP')\n",
    "moduletype = \"Canadian Solar\"\n",
    "albedo = 0.25 \n",
    "lat = 37.5   \n",
    "lon = -77.6\n",
    "\n",
    "# Scene variables\n",
    "nMods = 20\n",
    "nRows = 7\n",
    "hub_height = 1.5 # meters\n",
    "gcr = 0.33\n",
    "\n",
    "# Traking parameters\n",
    "cumulativesky = False\n",
    "limit_angle = 60 \n",
    "angledelta = 0.01 \n",
    "backtrack = True \n",
    "\n",
    "#makeModule parameters\n",
    "x = 1\n",
    "y = 2\n",
    "xgap = 0.01\n",
    "zgap = 0.05\n",
    "ygap = 0.0  # numpanels=1 anyways so it doesnt matter anyway\n",
    "numpanels = 1\n",
    "torquetube = True\n",
    "axisofrotationTorqueTube = True\n",
    "diameter = 0.1\n",
    "tubetype = 'Oct'    \n",
    "material = 'black'\n",
    "\n",
    "# Analysis parmaeters\n",
    "startdate = '11/06'     \n",
    "enddate = '11/06'\n",
    "sensorsy = 12\n",
    "\n",
    "demo = bifacial_radiance.RadianceObj(simulationName, path=testfolder)  \n",
    "demo.setGround(albedo) \n",
    "epwfile = demo.getEPW(lat,lon) \n",
    "metdata = demo.readWeatherFile(epwfile) \n",
    "mymodule = demo.makeModule(name=moduletype, torquetube=torquetube, diameter=diameter, tubetype=tubetype, material=material, \n",
    "                x=x, y=y, xgap=xgap, ygap = ygap, zgap=zgap, numpanels=numpanels, \n",
    "                axisofrotationTorqueTube=axisofrotationTorqueTube)\n",
    "pitch = mymodule['sceney']/gcr\n",
    "sceneDict = {'pitch':pitch,'hub_height':hub_height, 'nMods': nMods, 'nRows': nRows}  \n",
    "demo.set1axis(limit_angle = limit_angle, backtrack = backtrack, gcr = gcr, cumulativesky = cumulativesky)\n",
    "demo.gendaylit1axis(startdate=startdate, enddate=enddate)\n",
    "demo.makeScene1axis(moduletype=moduletype,sceneDict=sceneDict) \n",
    "demo.makeOct1axis()\n",
    "demo.analysis1axis(sensorsy = sensorsy)"
   ]
  },
  {
   "cell_type": "markdown",
   "metadata": {},
   "source": [
    "<a id='step2'></a>"
   ]
  },
  {
   "cell_type": "markdown",
   "metadata": {},
   "source": [
    "### 2. Do mismatch analysis on the results\n",
    "\n",
    "There are various things that we need to know about the module at this stage.\n",
    "\n",
    "<ul>\n",
    "    <li> Orientation: If it was simulated in portrait or landscape orientation. </li>\n",
    "    <li> Number of cells in the module: options right now are 72 or 96 </li>\n",
    "    <li> Bifaciality factor: this is how well the rear of the module performs compared to the front of the module, and is a spec usually found in the datasheet. </li>\n",
    "</ul> \n",
    "\n",
    "Also, if the number of sampling points (**sensorsy**) from the result files does not match the number of cells along the panel orientation, downsampling or upsamplinb will be peformed. For this example, the module is in portrait mode (y > x), so there will be 12 cells along the collector width (**numcellsy**), and that's why we set **sensorsy = 12** during the analysis above. \n",
    "\n",
    "These are the re-sampling options. To downsample, we suggest sensorsy >> numcellsy (for example, we've tested sensorsy = 100,120 and 200)\n",
    "    - Downsamping by Center - Find the center points of all the sensors passed \n",
    "    - Downsampling by Average - averages irradiances that fall on what would consist on the cell\n",
    "    - Upsample\n"
   ]
  },
  {
   "cell_type": "code",
   "execution_count": 1,
   "metadata": {},
   "outputs": [
    {
     "name": "stdout",
     "output_type": "stream",
     "text": [
      "2 files in the directory\n",
      "Same number of sensorsy and cellsy for your module.\n",
      "Saved Results to  Mismatch_Results.csv\n"
     ]
    }
   ],
   "source": [
    "resultfolder = os.path.join(testfolder, 'results')\n",
    "writefiletitle = \"Mismatch_Results.csv\" \n",
    "\n",
    "portraitorlandscape='portrait' # Options are 'portrait' or 'landscape'\n",
    "bififactor=0.9 # Bifaciality factor DOES matter now, as the rear irradiance values will be multiplied by this factor.\n",
    "numcells=72 # Options are 72 or 96 at the moment.\n",
    "downsamplingmethod = 'byCenter' # Options are 'byCenter' or 'byAverage'.\n",
    "bifacial_radiance.mismatch.analysisIrradianceandPowerMismatch(testfolder=resultfolder, writefiletitle=writefiletitle, portraitorlandscape=portraitorlandscape, \n",
    "                                                              bififactor=bififactor, numcells=numcells)\n",
    "\n",
    "print (\"Your hourly mismatch values are now saved in the file above! :D\")"
   ]
  },
  {
   "cell_type": "markdown",
   "metadata": {},
   "source": [
    "<div class=\"alert alert-warning\">\n",
    "We hope to add more content to this journal for next release so check back! Particularly how to use the Mad_fn to make the mismatch calculation faster, as per the proceedings and publication above!\n",
    "</div>"
   ]
  }
 ],
 "metadata": {
  "kernelspec": {
   "display_name": "Python 3",
   "language": "python",
   "name": "python3"
  },
  "language_info": {
   "codemirror_mode": {
    "name": "ipython",
    "version": 3
   },
   "file_extension": ".py",
   "mimetype": "text/x-python",
   "name": "python",
   "nbconvert_exporter": "python",
   "pygments_lexer": "ipython3",
   "version": "3.7.3"
  }
 },
 "nbformat": 4,
 "nbformat_minor": 2
}
