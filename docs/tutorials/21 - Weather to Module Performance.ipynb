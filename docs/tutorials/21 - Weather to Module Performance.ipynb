{
 "cells": [
  {
   "cell_type": "markdown",
   "id": "a54352a3",
   "metadata": {},
   "source": [
    "# 21 - Weather to Module Performance\n",
    "## Modeling Performance, an End to End Simulation\n",
    "\n",
    "This tutorial shows how to use the new function on bifacial_radiance calculatePerformanceModule performance, as well as how to find CEC Module parameters.\n"
   ]
  },
  {
   "cell_type": "code",
   "execution_count": 1,
   "id": "23074a65",
   "metadata": {},
   "outputs": [
    {
     "name": "stdout",
     "output_type": "stream",
     "text": [
      "Your simulation will be stored in C:\\Users\\mprillim\\sam_dev\\bifacial_radiance\\bifacial_radiance\\TEMP\\Tutorial_21\n"
     ]
    }
   ],
   "source": [
    "import os\n",
    "from pathlib import Path\n",
    "\n",
    "testfolder = str(Path().resolve().parent.parent / 'bifacial_radiance' / 'TEMP' / 'Tutorial_21')\n",
    "\n",
    "if not os.path.exists(testfolder): os.mkdir(testfolder)\n",
    "\n",
    "# Another option using relative address; for some operative systems you might need '/' instead of '\\'\n",
    "# testfolder = os.path.abspath(r'..\\..\\bifacial_radiance\\TEMP')  \n",
    "\n",
    "print (\"Your simulation will be stored in %s\" % testfolder)\n"
   ]
  },
  {
   "cell_type": "code",
   "execution_count": 2,
   "id": "51fe7bf3",
   "metadata": {},
   "outputs": [
    {
     "data": {
      "text/plain": [
       "'0+untagged.1552.g4b73b19.dirty'"
      ]
     },
     "execution_count": 2,
     "metadata": {},
     "output_type": "execute_result"
    }
   ],
   "source": [
    "import bifacial_radiance\n",
    "import numpy as np\n",
    "import pandas as pd\n",
    "import pvlib \n",
    "\n",
    "bifacial_radiance.__version__"
   ]
  },
  {
   "cell_type": "code",
   "execution_count": 3,
   "id": "250eb585",
   "metadata": {},
   "outputs": [
    {
     "name": "stdout",
     "output_type": "stream",
     "text": [
      "path = C:\\Users\\mprillim\\sam_dev\\bifacial_radiance\\bifacial_radiance\\TEMP\\Tutorial_21\n",
      "Getting weather file: USA_VA_Richmond.724010_TMY2.epw\n",
      " ... OK!\n",
      "8760 line in WeatherFile. Assuming this is a standard hourly WeatherFile for the year for purposes of saving Gencumulativesky temporary weather files in EPW folder.\n",
      "Coercing year to 2021\n",
      "Filtering dates\n",
      "Saving file EPWs\\metdata_temp.csv, # points: 8760\n",
      "Calculating Sun position for Metdata that is right-labeled  with a delta of -30 mins. i.e. 12 is 11:30 sunpos\n",
      "Loading albedo, 1 value(s), 0.200 avg\n",
      "1 nonzero albedo values.\n",
      "\n",
      "Module Name: test-module\n",
      "Module test-module updated in module.json\n",
      "Pre-existing .rad file objects\\test-module.rad will be overwritten\n",
      "\n",
      "Creating ~2 skyfiles. \n",
      "Created 2 skyfiles in /skies/\n",
      "Warning:  input `moduletype` is deprecated. Use kwarg `module` instead\n",
      "\n",
      "Making ~2 .rad files for gendaylit 1-axis workflow (this takes a minute..)\n",
      "2 Radfiles created in /objects/\n",
      "\n",
      "Making 2 octfiles in root directory.\n",
      "Created 1axis_2021-01-13_1100.oct\n",
      "Created 1axis_2021-01-13_1200.oct\n",
      "Linescan in process: 1axis_2021-01-13_1100_Front\n",
      "Linescan in process: 1axis_2021-01-13_1100_Back\n",
      "Saved: results\\irr_1axis_2021-01-13_1100.csv\n",
      "Index: 2021-01-13_1100. Wm2Front: 255.48119999999997. Wm2Back: 45.329730000000005\n",
      "Linescan in process: 1axis_2021-01-13_1200_Front\n",
      "Linescan in process: 1axis_2021-01-13_1200_Back\n",
      "Saved: results\\irr_1axis_2021-01-13_1200.csv\n",
      "Index: 2021-01-13_1200. Wm2Front: 254.71009999999998. Wm2Back: 44.14183\n",
      "Saving a cumulative-results file in the main simulation folder.This adds up by sensor location the irradiance over all hours or configurations considered.\n",
      "Warning: This file saving routine does not clean results, so if your setup has ygaps, or 2+modules or torque tubes, doing a deeper cleaning and working with the individual results files in the results folder is highly suggested.\n",
      "\n",
      "Saving Cumulative results\n",
      "Saved: cumulative_results_.csv\n"
     ]
    }
   ],
   "source": [
    "# Selecting only two times as examples\n",
    "starttime = '01_13_11';  endtime = '01_13_12'\n",
    "demo = bifacial_radiance.RadianceObj('tutorial_21', path = testfolder) # Create a RadianceObj 'object'\n",
    "weatherfile = demo.getEPW(lat = 37.5, lon = -77.6)  # This location corresponds to Richmond, VA.\n",
    "metdata = demo.readWeatherFile(weatherFile=weatherfile, starttime=starttime, endtime=endtime)\n",
    "demo.setGround(0.2)\n",
    "mymodule = demo.makeModule(name='test-module', x=1, y=2, bifi=0.9) \n",
    "sceneDict = {'tilt': 10, 'azimuth': 180, 'pitch': 5,'hub_height':1.5, 'nMods':3, 'nRows': 2}\n",
    "trackerdict = demo.set1axis(metdata = metdata, cumulativesky = False)\n",
    "trackerdict = demo.gendaylit1axis()\n",
    "trackerdict = demo.makeScene1axis(moduletype = mymodule, sceneDict = sceneDict)\n",
    "trackerdict = demo.makeOct1axis()\n",
    "trackerdict = demo.analysis1axis(sensorsy=3)\n"
   ]
  },
  {
   "cell_type": "markdown",
   "id": "57a30274",
   "metadata": {},
   "source": [
    "## Geting a CEC Module"
   ]
  },
  {
   "cell_type": "code",
   "execution_count": 4,
   "id": "b0d57ebe",
   "metadata": {},
   "outputs": [],
   "source": [
    "url = 'https://raw.githubusercontent.com/NREL/SAM/patch/deploy/libraries/CEC%20Modules.csv'\n",
    "db = pd.read_csv(url, index_col=0) # Reading this might take 1 min or so, the database is big.\n"
   ]
  },
  {
   "cell_type": "markdown",
   "id": "686125df",
   "metadata": {},
   "source": [
    "Find the module that you want. In this case we know it's a SunPower of model SPR-E19-310-COM. \n",
    "\n",
    "Make sure you select only 1 module from the database -- sometimes there are similar names."
   ]
  },
  {
   "cell_type": "code",
   "execution_count": 5,
   "id": "dcb5646f",
   "metadata": {},
   "outputs": [
    {
     "name": "stdout",
     "output_type": "stream",
     "text": [
      "[False False False ... False False False]\n",
      "1  modules selected. Name of 1st entry:  SunPower SPR-E19-310-COM\n"
     ]
    }
   ],
   "source": [
    "modfilter2 = db.index.str.startswith('SunPower') & db.index.str.endswith('SPR-E19-310-COM')\n",
    "print(modfilter2)\n",
    "CECMod = db[modfilter2]\n",
    "print(len(CECMod), \" modules selected. Name of 1st entry: \", CECMod.index[0])"
   ]
  },
  {
   "cell_type": "markdown",
   "id": "7ec0639a",
   "metadata": {},
   "source": [
    "## Calculating the Performance and Exporting the Results to a CSV"
   ]
  },
  {
   "cell_type": "code",
   "execution_count": 7,
   "id": "7bbf6db6",
   "metadata": {},
   "outputs": [
    {
     "ename": "AttributeError",
     "evalue": "'RadianceObj' object has no attribute 'calculatePerformance'",
     "output_type": "error",
     "traceback": [
      "\u001b[1;31m---------------------------------------------------------------------------\u001b[0m",
      "\u001b[1;31mAttributeError\u001b[0m                            Traceback (most recent call last)",
      "Cell \u001b[1;32mIn[7], line 1\u001b[0m\n\u001b[1;32m----> 1\u001b[0m demo\u001b[38;5;241m.\u001b[39mcalculatePerformance(CECMod\u001b[38;5;241m=\u001b[39mCECMod)\n",
      "\u001b[1;31mAttributeError\u001b[0m: 'RadianceObj' object has no attribute 'calculatePerformance'"
     ]
    }
   ],
   "source": [
    "demo.calculatePerformance(CECMod=CECMod)"
   ]
  },
  {
   "cell_type": "code",
   "execution_count": null,
   "id": "fe18ea62",
   "metadata": {},
   "outputs": [],
   "source": [
    "demo.exportTrackerDict(savefile=os.path.join('results','Final_Results.csv'),reindex=False)\n",
    "pd.read_csv(os.path.join('results','Final_Results.csv'))"
   ]
  }
 ],
 "metadata": {
  "kernelspec": {
   "display_name": "Python 3 (ipykernel)",
   "language": "python",
   "name": "python3"
  },
  "language_info": {
   "codemirror_mode": {
    "name": "ipython",
    "version": 3
   },
   "file_extension": ".py",
   "mimetype": "text/x-python",
   "name": "python",
   "nbconvert_exporter": "python",
   "pygments_lexer": "ipython3",
   "version": "3.11.7"
  }
 },
 "nbformat": 4,
 "nbformat_minor": 5
}
