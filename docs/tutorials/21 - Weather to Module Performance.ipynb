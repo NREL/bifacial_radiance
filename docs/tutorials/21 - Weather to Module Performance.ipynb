{
 "cells": [
  {
   "cell_type": "markdown",
   "id": "a54352a3",
   "metadata": {},
   "source": [
    "# 21 - Weather to Module Performance\n",
    "## Modeling Performance, an End to End Simulation\n",
    "\n",
    "This tutorial shows how to use the new function on bifacial_radiance calculatePerformanceModule performance, as well as how to find CEC Module parameters.\n"
   ]
  },
  {
   "cell_type": "code",
   "execution_count": 1,
   "id": "23074a65",
   "metadata": {},
   "outputs": [
    {
     "name": "stdout",
     "output_type": "stream",
     "text": [
      "Your simulation will be stored in C:\\Users\\sayala\\Documents\\GitHub\\bifacial_radiance\\bifacial_radiance\\TEMP\\Tutorial_21\n"
     ]
    }
   ],
   "source": [
    "import os\n",
    "from pathlib import Path\n",
    "\n",
    "testfolder = str(Path().resolve().parent.parent / 'bifacial_radiance' / 'TEMP' / 'Tutorial_21')\n",
    "\n",
    "if not os.path.exists(testfolder): os.mkdir(testfolder)\n",
    "\n",
    "# Another option using relative address; for some operative systems you might need '/' instead of '\\'\n",
    "# testfolder = os.path.abspath(r'..\\..\\bifacial_radiance\\TEMP')  \n",
    "\n",
    "print (\"Your simulation will be stored in %s\" % testfolder)\n"
   ]
  },
  {
   "cell_type": "code",
   "execution_count": 2,
   "id": "51fe7bf3",
   "metadata": {},
   "outputs": [
    {
     "data": {
      "text/plain": [
       "'0.4.0+3.g7bc546a.dirty'"
      ]
     },
     "execution_count": 2,
     "metadata": {},
     "output_type": "execute_result"
    }
   ],
   "source": [
    "import bifacial_radiance\n",
    "import numpy as np\n",
    "import pandas as pd\n",
    "import pvlib \n",
    "\n",
    "bifacial_radiance.__version__"
   ]
  },
  {
   "cell_type": "code",
   "execution_count": 3,
   "id": "250eb585",
   "metadata": {},
   "outputs": [
    {
     "name": "stdout",
     "output_type": "stream",
     "text": [
      "path = C:\\Users\\sayala\\Documents\\GitHub\\bifacial_radiance\\bifacial_radiance\\TEMP\\Tutorial_21\n",
      "Getting weather file: USA_VA_Richmond.724010_TMY2.epw\n",
      " ... OK!\n",
      "8760 line in WeatherFile. Assuming this is a standard hourly WeatherFile for the year for purposes of saving Gencumulativesky temporary weather files in EPW folder.\n",
      "Coercing year to 2021\n",
      "Filtering dates\n",
      "Saving file EPWs\\metdata_temp.csv, # points: 8760\n",
      "Calculating Sun position for Metdata that is right-labeled  with a delta of -30 mins. i.e. 12 is 11:30 sunpos\n",
      "Loading albedo, 1 value(s), 0.200 avg\n",
      "1 nonzero albedo values.\n",
      "\n",
      "Module Name: test-module\n",
      "Module test-module updated in module.json\n",
      "Pre-existing .rad file objects\\test-module.rad will be overwritten\n",
      "\n",
      "Creating ~2 skyfiles. \n",
      "Created 2 skyfiles in /skies/\n",
      "Warning:  input `moduletype` is deprecated. Use kwarg `module` instead\n",
      "\n",
      "Making ~2 .rad files for gendaylit 1-axis workflow (this takes a minute..)\n",
      "2 Radfiles created in /objects/\n",
      "\n",
      "Making 2 octfiles in root directory.\n",
      "Created 1axis_2021-01-13_1100.oct\n",
      "Created 1axis_2021-01-13_1200.oct\n",
      "Linescan in process: 1axis_2021-01-13_1100_Front\n",
      "Linescan in process: 1axis_2021-01-13_1100_Back\n",
      "Saved: results\\irr_1axis_2021-01-13_1100.csv\n",
      "Index: 2021-01-13_1100. Wm2Front: 254.4398. Wm2Back: 45.14002\n",
      "Linescan in process: 1axis_2021-01-13_1200_Front\n",
      "Linescan in process: 1axis_2021-01-13_1200_Back\n",
      "Saved: results\\irr_1axis_2021-01-13_1200.csv\n",
      "Index: 2021-01-13_1200. Wm2Front: 252.95416666666668. Wm2Back: 43.431149999999995\n",
      "Saving a cumulative-results file in the main simulation folder.This adds up by sensor location the irradiance over all hours or configurations considered.\n",
      "Warning: This file saving routine does not clean results, so if your setup has ygaps, or 2+modules or torque tubes, doing a deeper cleaning and working with the individual results files in the results folder is highly suggested.\n",
      "\n",
      "Saving Cumulative results\n",
      "Saved: cumulative_results_.csv\n"
     ]
    }
   ],
   "source": [
    "# Selecting only two times as examples\n",
    "starttime = '01_13_11';  endtime = '01_13_12'\n",
    "demo = bifacial_radiance.RadianceObj('tutorial_21', path = testfolder) # Create a RadianceObj 'object'\n",
    "weatherfile = demo.getEPW(lat = 37.5, lon = -77.6)  # This location corresponds to Richmond, VA.\n",
    "metdata = demo.readWeatherFile(weatherFile=weatherfile, starttime=starttime, endtime=endtime)\n",
    "demo.setGround(0.2)\n",
    "mymodule = demo.makeModule(name='test-module', x=1, y=2, bifi=0.9) \n",
    "sceneDict = {'tilt': 10, 'azimuth': 180, 'pitch': 5,'hub_height':1.5, 'nMods':3, 'nRows': 2}\n",
    "trackerdict = demo.set1axis(metdata = metdata, cumulativesky = False)\n",
    "trackerdict = demo.gendaylit1axis()\n",
    "trackerdict = demo.makeScene1axis(moduletype = mymodule, sceneDict = sceneDict)\n",
    "trackerdict = demo.makeOct1axis()\n",
    "trackerdict = demo.analysis1axis(sensorsy=3)\n"
   ]
  },
  {
   "cell_type": "markdown",
   "id": "57a30274",
   "metadata": {},
   "source": [
    "## Geting a CEC Module"
   ]
  },
  {
   "cell_type": "code",
   "execution_count": 4,
   "id": "b0d57ebe",
   "metadata": {},
   "outputs": [],
   "source": [
    "url = 'https://raw.githubusercontent.com/NREL/SAM/patch/deploy/libraries/CEC%20Modules.csv'\n",
    "db = pd.read_csv(url, index_col=0) # Reading this might take 1 min or so, the database is big.\n"
   ]
  },
  {
   "cell_type": "markdown",
   "id": "686125df",
   "metadata": {},
   "source": [
    "Find the module that you want. In this case we know it's a Canadian of model CS6K-275M. \n",
    "\n",
    "Make sure you select only 1 module from the database -- sometimes there are similar names."
   ]
  },
  {
   "cell_type": "code",
   "execution_count": 5,
   "id": "dcb5646f",
   "metadata": {},
   "outputs": [
    {
     "name": "stdout",
     "output_type": "stream",
     "text": [
      "1  modules selected. Name of 1st entry:  Canadian Solar Inc. CS6K-275M\n"
     ]
    }
   ],
   "source": [
    "modfilter2 = db.index.str.startswith('Canadian') & db.index.str.endswith('CS6K-275M')\n",
    "CECMod = db[modfilter2]\n",
    "print(len(CECMod), \" modules selected. Name of 1st entry: \", CECMod.index[0])"
   ]
  },
  {
   "cell_type": "markdown",
   "id": "7ec0639a",
   "metadata": {},
   "source": [
    "## Calculating the Performance and Exporting the Results to a CSV"
   ]
  },
  {
   "cell_type": "code",
   "execution_count": 6,
   "id": "7bbf6db6",
   "metadata": {},
   "outputs": [
    {
     "name": "stdout",
     "output_type": "stream",
     "text": [
      "Bifaciality factor of module stored is  0.9\n"
     ]
    },
    {
     "data": {
      "text/plain": [
       "{'2021-01-13_1100': {'surf_azm': 90.0,\n",
       "  'surf_tilt': 44.14,\n",
       "  'theta': -44.14,\n",
       "  'ghi': 211,\n",
       "  'dhi': 149,\n",
       "  'temp_air': 4.6,\n",
       "  'wind_speed': 3.8,\n",
       "  'skyfile': 'skies\\\\sky2_37.5_-77.33_2021-01-13_1100.rad',\n",
       "  'clearance_height': 0.8035860263044873,\n",
       "  'radfile': 'objects\\\\1axis2021-01-13_1100__C_0.80359_rtr_5.00000_tilt_44.14000_3modsx2rows_origin0,0.rad',\n",
       "  'scene': {'module': {'x': 1, 'y': 2, 'z': 0.02, 'modulematerial': 'black', 'scenex': 1.01, 'sceney': 2.0, 'scenez': 0.1, 'numpanels': 1, 'bifi': 0.9, 'text': '! genbox black test-module 1 2 0.02 | xform -t -0.5 -1.0 0 -a 1 -t 0 2.0 0', 'modulefile': 'objects\\\\test-module.rad', 'glass': False, 'offsetfromaxis': 0, 'xgap': 0.01, 'ygap': 0.0, 'zgap': 0.1}, 'modulefile': 'objects\\\\test-module.rad', 'hpc': False, 'gcr': 0.4, 'text': '!xform -rx 44.14 -t 0 0 1.5 -a 3 -t 1.01 0 0 -a 2 -t 0 5 0 -i 1 -t -1.01 -0.0 0 -rz 90.0 -t 0 0 0 objects\\\\test-module.rad', 'radfiles': 'objects\\\\1axis2021-01-13_1100__C_0.80359_rtr_5.00000_tilt_44.14000_3modsx2rows_origin0,0.rad', 'sceneDict': {'tilt': 0, 'pitch': 5, 'clearance_height': 1.5, 'azimuth': 90.0, 'nMods': 3, 'nRows': 2, 'modulez': 0.02, 'axis_tilt': 0, 'originx': 0, 'originy': 0}},\n",
       "  'octfile': '1axis_2021-01-13_1100.oct',\n",
       "  'AnalysisObj': {'octfile': '1axis_2021-01-13_1100.oct', 'name': '1axis_2021-01-13_1100', 'hpc': False, 'x': [0.3734448, 0.01462469, -0.3441954], 'y': [2.28669e-17, 8.955042e-19, -2.107589e-17], 'z': [1.166863, 1.51507, 1.863277], 'rearZ': [1.151075, 1.499282, 1.847489], 'mattype': ['a1.0.a0.test-module.6457', 'a1.0.a0.test-module.6457', 'a1.0.a0.test-module.6457'], 'rearMat': ['a1.0.a0.test-module.2310', 'a1.0.a0.test-module.2310', 'a1.0.a0.test-module.2310'], 'Wm2Front': [254.3149, 255.1848, 253.8197], 'Wm2Back': [44.73869, 44.99094, 45.69043], 'Back/FrontRatio': [0.17591778571453848, 0.17630659699716836, 0.18001065318943646], 'backRatio': [0.17591778571453848, 0.17630659699716836, 0.18001065318943646], 'rearX': [0.3581237, -0.000696414, -0.3595166], 'rearY': [2.192875e-17, -4.264306e-20, -2.201404e-17]},\n",
       "  'Wm2Front': [254.3149, 255.1848, 253.8197],\n",
       "  'Wm2Back': [44.73869, 44.99094, 45.69043],\n",
       "  'backRatio': [0.17591778571453848, 0.17630659699716836, 0.18001065318943646],\n",
       "  'effective_irradiance': 295.065818,\n",
       "  'Pout_module': 85.50856487724928},\n",
       " '2021-01-13_1200': {'surf_azm': 90.0,\n",
       "  'surf_tilt': 21.2,\n",
       "  'theta': -21.2,\n",
       "  'ghi': 249,\n",
       "  'dhi': 200,\n",
       "  'temp_air': 6.5,\n",
       "  'wind_speed': 3.9,\n",
       "  'skyfile': 'skies\\\\sky2_37.5_-77.33_2021-01-13_1200.rad',\n",
       "  'clearance_height': 1.1383754299179079,\n",
       "  'radfile': 'objects\\\\1axis2021-01-13_1200__C_1.13838_rtr_5.00000_tilt_21.20000_3modsx2rows_origin0,0.rad',\n",
       "  'scene': {'module': {'x': 1, 'y': 2, 'z': 0.02, 'modulematerial': 'black', 'scenex': 1.01, 'sceney': 2.0, 'scenez': 0.1, 'numpanels': 1, 'bifi': 0.9, 'text': '! genbox black test-module 1 2 0.02 | xform -t -0.5 -1.0 0 -a 1 -t 0 2.0 0', 'modulefile': 'objects\\\\test-module.rad', 'glass': False, 'offsetfromaxis': 0, 'xgap': 0.01, 'ygap': 0.0, 'zgap': 0.1}, 'modulefile': 'objects\\\\test-module.rad', 'hpc': False, 'gcr': 0.4, 'text': '!xform -rx 21.2 -t 0 0 1.5 -a 3 -t 1.01 0 0 -a 2 -t 0 5 0 -i 1 -t -1.01 -0.0 0 -rz 90.0 -t 0 0 0 objects\\\\test-module.rad', 'radfiles': 'objects\\\\1axis2021-01-13_1200__C_1.13838_rtr_5.00000_tilt_21.20000_3modsx2rows_origin0,0.rad', 'sceneDict': {'tilt': 21.2, 'pitch': 5, 'clearance_height': 1.1383754299179079, 'azimuth': 90.0, 'nMods': 3, 'nRows': 2, 'modulez': 0.02, 'axis_tilt': 0, 'originx': 0, 'originy': 0}},\n",
       "  'octfile': '1axis_2021-01-13_1200.oct',\n",
       "  'AnalysisObj': {'octfile': '1axis_2021-01-13_1200.oct', 'name': '1axis_2021-01-13_1200', 'hpc': False, 'x': [0.473756, 0.007594116, -0.4585678], 'y': [2.900919e-17, 4.650055e-19, -2.807918e-17], 'z': [1.338767, 1.519579, 1.700391], 'rearZ': [1.318255, 1.499068, 1.67988], 'mattype': ['a1.0.a0.test-module.6457', 'a1.0.a0.test-module.6457', 'a1.0.a0.test-module.6457'], 'rearMat': ['a1.0.a0.test-module.2310', 'a1.0.a0.test-module.2310', 'a1.0.a0.test-module.2310'], 'Wm2Front': [252.81730000000002, 252.9561, 253.0891], 'Wm2Back': [43.23021, 43.13953999999999, 43.9237], 'Back/FrontRatio': [0.17099319946380462, 0.17054093362076017, 0.17354965682181955], 'backRatio': [0.17099319946380462, 0.17054093362076017, 0.17354965682181955], 'rearX': [0.4658003, -0.0003616246, -0.4665235], 'rearY': [2.852204e-17, -2.214312e-20, -2.856633e-17]},\n",
       "  'Wm2Front': [252.81730000000002, 252.9561, 253.0891],\n",
       "  'Wm2Back': [43.23021, 43.13953999999999, 43.9237],\n",
       "  'backRatio': [0.17099319946380462, 0.17054093362076017, 0.17354965682181955],\n",
       "  'effective_irradiance': 292.0422016666667,\n",
       "  'Pout_module': 83.96747614144749}}"
      ]
     },
     "execution_count": 6,
     "metadata": {},
     "output_type": "execute_result"
    }
   ],
   "source": [
    "demo.calculatePerformanceModule(CECMod=CECMod)"
   ]
  },
  {
   "cell_type": "code",
   "execution_count": 7,
   "id": "fe18ea62",
   "metadata": {},
   "outputs": [
    {
     "name": "stdout",
     "output_type": "stream",
     "text": [
      "Exporting TrackerDict\n"
     ]
    },
    {
     "data": {
      "text/html": [
       "<div>\n",
       "<style scoped>\n",
       "    .dataframe tbody tr th:only-of-type {\n",
       "        vertical-align: middle;\n",
       "    }\n",
       "\n",
       "    .dataframe tbody tr th {\n",
       "        vertical-align: top;\n",
       "    }\n",
       "\n",
       "    .dataframe thead th {\n",
       "        text-align: right;\n",
       "    }\n",
       "</style>\n",
       "<table border=\"1\" class=\"dataframe\">\n",
       "  <thead>\n",
       "    <tr style=\"text-align: right;\">\n",
       "      <th></th>\n",
       "      <th>Unnamed: 0</th>\n",
       "      <th>dhi</th>\n",
       "      <th>ghi</th>\n",
       "      <th>Wm2Back</th>\n",
       "      <th>Wm2Front</th>\n",
       "      <th>theta</th>\n",
       "      <th>surf_tilt</th>\n",
       "      <th>surf_azm</th>\n",
       "      <th>clearance_height</th>\n",
       "      <th>effective_irradiance</th>\n",
       "      <th>Pout_module</th>\n",
       "      <th>Wm2BackAvg</th>\n",
       "      <th>Wm2FrontAvg</th>\n",
       "      <th>BifiRatio</th>\n",
       "    </tr>\n",
       "  </thead>\n",
       "  <tbody>\n",
       "    <tr>\n",
       "      <th>0</th>\n",
       "      <td>2021-01-13_1100</td>\n",
       "      <td>149</td>\n",
       "      <td>211</td>\n",
       "      <td>[44.73869, 44.99094, 45.69043]</td>\n",
       "      <td>[254.3149, 255.1848, 253.8197]</td>\n",
       "      <td>-44.14</td>\n",
       "      <td>44.14</td>\n",
       "      <td>90.0</td>\n",
       "      <td>0.803586</td>\n",
       "      <td>295.065818</td>\n",
       "      <td>85.508565</td>\n",
       "      <td>45.14002</td>\n",
       "      <td>254.439800</td>\n",
       "      <td>0.159668</td>\n",
       "    </tr>\n",
       "    <tr>\n",
       "      <th>1</th>\n",
       "      <td>2021-01-13_1200</td>\n",
       "      <td>200</td>\n",
       "      <td>249</td>\n",
       "      <td>[43.23021, 43.13953999999999, 43.9237]</td>\n",
       "      <td>[252.81730000000002, 252.9561, 253.0891]</td>\n",
       "      <td>-21.20</td>\n",
       "      <td>21.20</td>\n",
       "      <td>90.0</td>\n",
       "      <td>1.138375</td>\n",
       "      <td>292.042202</td>\n",
       "      <td>83.967476</td>\n",
       "      <td>43.43115</td>\n",
       "      <td>252.954167</td>\n",
       "      <td>0.154526</td>\n",
       "    </tr>\n",
       "  </tbody>\n",
       "</table>\n",
       "</div>"
      ],
      "text/plain": [
       "        Unnamed: 0  dhi  ghi                                 Wm2Back  \\\n",
       "0  2021-01-13_1100  149  211          [44.73869, 44.99094, 45.69043]   \n",
       "1  2021-01-13_1200  200  249  [43.23021, 43.13953999999999, 43.9237]   \n",
       "\n",
       "                                   Wm2Front  theta  surf_tilt  surf_azm  \\\n",
       "0            [254.3149, 255.1848, 253.8197] -44.14      44.14      90.0   \n",
       "1  [252.81730000000002, 252.9561, 253.0891] -21.20      21.20      90.0   \n",
       "\n",
       "   clearance_height  effective_irradiance  Pout_module  Wm2BackAvg  \\\n",
       "0          0.803586            295.065818    85.508565    45.14002   \n",
       "1          1.138375            292.042202    83.967476    43.43115   \n",
       "\n",
       "   Wm2FrontAvg  BifiRatio  \n",
       "0   254.439800   0.159668  \n",
       "1   252.954167   0.154526  "
      ]
     },
     "execution_count": 7,
     "metadata": {},
     "output_type": "execute_result"
    }
   ],
   "source": [
    "demo.exportTrackerDict(savefile=os.path.join('results','Final_Results.csv'),reindex=False)\n",
    "pd.read_csv(os.path.join('results','Final_Results.csv'))"
   ]
  }
 ],
 "metadata": {
  "kernelspec": {
   "display_name": "Python 3 (ipykernel)",
   "language": "python",
   "name": "python3"
  },
  "language_info": {
   "codemirror_mode": {
    "name": "ipython",
    "version": 3
   },
   "file_extension": ".py",
   "mimetype": "text/x-python",
   "name": "python",
   "nbconvert_exporter": "python",
   "pygments_lexer": "ipython3",
   "version": "3.9.13"
  }
 },
 "nbformat": 4,
 "nbformat_minor": 5
}
