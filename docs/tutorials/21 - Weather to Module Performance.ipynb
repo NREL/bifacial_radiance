{
 "cells": [
  {
   "cell_type": "code",
   "execution_count": 1,
   "id": "07a01d38-bfea-453c-9040-72f6cc872bf3",
   "metadata": {},
   "outputs": [
    {
     "name": "stdout",
     "output_type": "stream",
     "text": [
      "Working on a  Windows 10\n",
      "Python version  3.9.13 (main, Aug 25 2022, 23:51:50) [MSC v.1916 64 bit (AMD64)]\n",
      "Pandas version  1.5.3\n",
      "bifacial_radiance version  0.4.3.dev341+g93e0ec5.d20240830\n"
     ]
    }
   ],
   "source": [
    "# This information helps with debugging and getting support :)\n",
    "import sys, platform\n",
    "import pandas as pd\n",
    "import bifacial_radiance as br\n",
    "print(\"Working on a \", platform.system(), platform.release())\n",
    "print(\"Python version \", sys.version)\n",
    "print(\"Pandas version \", pd.__version__)\n",
    "print(\"bifacial_radiance version \", br.__version__)"
   ]
  },
  {
   "cell_type": "markdown",
   "id": "a54352a3",
   "metadata": {},
   "source": [
    "# 21 - Weather to Module Performance\n",
    "## Modeling Performance, an End to End Simulation\n",
    "\n",
    "This tutorial shows how to use the new function on bifacial_radiance calculatePerformanceModule performance, as well as how to find CEC Module parameters.\n"
   ]
  },
  {
   "cell_type": "code",
   "execution_count": 2,
   "id": "23074a65",
   "metadata": {},
   "outputs": [
    {
     "name": "stdout",
     "output_type": "stream",
     "text": [
      "Your simulation will be stored in C:\\Users\\cdeline\\Documents\\Python Scripts\\Bifacial_Radiance\\bifacial_radiance\\TEMP\\Tutorial_21\n"
     ]
    }
   ],
   "source": [
    "import os\n",
    "from pathlib import Path\n",
    "\n",
    "testfolder = str(Path().resolve().parent.parent / 'bifacial_radiance' / 'TEMP' / 'Tutorial_21')\n",
    "\n",
    "if not os.path.exists(testfolder): os.mkdir(testfolder)\n",
    "\n",
    "# Another option using relative address; for some operative systems you might need '/' instead of '\\'\n",
    "# testfolder = os.path.abspath(r'..\\..\\bifacial_radiance\\TEMP')  \n",
    "\n",
    "print (\"Your simulation will be stored in %s\" % testfolder)\n"
   ]
  },
  {
   "cell_type": "code",
   "execution_count": 3,
   "id": "51fe7bf3",
   "metadata": {},
   "outputs": [
    {
     "data": {
      "text/plain": [
       "'0.4.3.dev341+g93e0ec5.d20240830'"
      ]
     },
     "execution_count": 3,
     "metadata": {},
     "output_type": "execute_result"
    }
   ],
   "source": [
    "import bifacial_radiance\n",
    "import numpy as np\n",
    "import pandas as pd\n",
    "import pvlib \n",
    "\n",
    "bifacial_radiance.__version__"
   ]
  },
  {
   "cell_type": "markdown",
   "id": "2469642f",
   "metadata": {},
   "source": [
    "## Geting a CEC Module to pass into demo.makeModule"
   ]
  },
  {
   "cell_type": "code",
   "execution_count": 4,
   "id": "1423a9f2",
   "metadata": {},
   "outputs": [],
   "source": [
    "url = 'https://raw.githubusercontent.com/NREL/SAM/patch/deploy/libraries/CEC%20Modules.csv'\n",
    "db = pd.read_csv(url, index_col=0) # Reading this might take 1 min or so, the database is big."
   ]
  },
  {
   "cell_type": "markdown",
   "id": "d1715477",
   "metadata": {},
   "source": [
    "Find the module that you want. In this case we know it's a SunPower of model SPR-E19-310-COM. \n",
    "\n",
    "Make sure you select only 1 module from the database -- sometimes there are similar names."
   ]
  },
  {
   "cell_type": "code",
   "execution_count": 5,
   "id": "fd6a686c",
   "metadata": {},
   "outputs": [
    {
     "name": "stdout",
     "output_type": "stream",
     "text": [
      "[False False False ... False False False]\n",
      "1  modules selected. Name of 1st entry:  SunPower SPR-E19-310-COM\n"
     ]
    }
   ],
   "source": [
    "modfilter2 = db.index.str.startswith('SunPower') & db.index.str.endswith('SPR-E19-310-COM')\n",
    "print(modfilter2)\n",
    "CECMod = db[modfilter2]\n",
    "print(len(CECMod), \" modules selected. Name of 1st entry: \", CECMod.index[0])"
   ]
  },
  {
   "cell_type": "code",
   "execution_count": null,
   "id": "d2db8630",
   "metadata": {},
   "outputs": [],
   "source": []
  },
  {
   "cell_type": "code",
   "execution_count": 6,
   "id": "250eb585",
   "metadata": {},
   "outputs": [
    {
     "name": "stdout",
     "output_type": "stream",
     "text": [
      "path = C:\\Users\\cdeline\\Documents\\Python Scripts\\Bifacial_Radiance\\bifacial_radiance\\TEMP\\Tutorial_21\n",
      "Getting weather file: USA_VA_Richmond.724010_TMY2.epw\n",
      " ... OK!\n",
      "8760 line in WeatherFile. Assuming this is a standard hourly WeatherFile for the year for purposes of saving Gencumulativesky temporary weather files in EPW folder.\n",
      "Coercing year to 2021\n",
      "Filtering dates\n",
      "Saving file EPWs\\metdata_temp.csv, # points: 8760\n",
      "Calculating Sun position for Metdata that is right-labeled  with a delta of -30 mins. i.e. 12 is 11:30 sunpos\n",
      "Loading albedo, 1 value(s), 0.200 avg\n",
      "1 nonzero albedo values.\n"
     ]
    }
   ],
   "source": [
    "# Selecting only two times as examples\n",
    "starttime = '01_13_11';  endtime = '01_13_12'\n",
    "demo = bifacial_radiance.RadianceObj('tutorial_21', path = testfolder) # Create a RadianceObj 'object'\n",
    "weatherfile = demo.getEPW(lat = 37.5, lon = -77.6)  # This location corresponds to Richmond, VA.\n",
    "metdata = demo.readWeatherFile(weatherFile=weatherfile, starttime=starttime, endtime=endtime)\n",
    "demo.setGround(0.2)"
   ]
  },
  {
   "cell_type": "markdown",
   "id": "84a1a789",
   "metadata": {},
   "source": [
    "The CEC data should be passed into the ModuleObj, either at time of creation, or sometime before it is passed into makeScene."
   ]
  },
  {
   "cell_type": "code",
   "execution_count": 7,
   "id": "9370c9c2",
   "metadata": {
    "scrolled": true
   },
   "outputs": [
    {
     "name": "stdout",
     "output_type": "stream",
     "text": [
      "\n",
      "Module Name: test-module\n",
      "Module test-module updated in module.json\n",
      "Pre-existing .rad file objects\\test-module.rad will be overwritten\n",
      "\n"
     ]
    }
   ],
   "source": [
    "mymodule = demo.makeModule(name='test-module', x=1, y=2, bifi=0.9, CECMod=CECMod) "
   ]
  },
  {
   "cell_type": "markdown",
   "id": "27d8bd56",
   "metadata": {},
   "source": [
    "The same data could instead be passed after the ModuleObj's definition, or at time of performance analysis:"
   ]
  },
  {
   "cell_type": "code",
   "execution_count": 8,
   "id": "111bdbd2",
   "metadata": {},
   "outputs": [],
   "source": [
    "mymodule.addCEC(CECMod)"
   ]
  },
  {
   "cell_type": "code",
   "execution_count": 9,
   "id": "1f2e3cd4",
   "metadata": {},
   "outputs": [
    {
     "name": "stdout",
     "output_type": "stream",
     "text": [
      "\n",
      "Module Name: test\n",
      "Module test updated in module.json\n",
      "Pre-existing .rad file objects\\test.rad will be overwritten\n",
      "\n"
     ]
    }
   ],
   "source": [
    "# Let's make a second module, and set it to the default Prism Solar module type\n",
    "mymodule2 = demo.makeModule(name='test', x=1, y=2, bifi=0.8, CECMod=None) "
   ]
  },
  {
   "cell_type": "markdown",
   "id": "3ba61504",
   "metadata": {},
   "source": [
    "We're going to set up two scenes, each with a different module type!"
   ]
  },
  {
   "cell_type": "code",
   "execution_count": 10,
   "id": "10e35e7c",
   "metadata": {},
   "outputs": [
    {
     "name": "stdout",
     "output_type": "stream",
     "text": [
      "Creating ~2 skyfiles. \n",
      "Created 2 skyfiles in /skies/\n",
      "\n",
      "Making ~2 .rad files for gendaylit 1-axis workflow (this takes a minute..)\n",
      "2 Radfiles created in /objects/\n"
     ]
    }
   ],
   "source": [
    "sceneDict = {'tilt': 0, 'azimuth': 180, 'pitch': 5,'hub_height':1.5, 'nMods':5, 'nRows': 2}\n",
    "sceneDict2 = {'tilt': 0, 'azimuth': 180, 'pitch': 5,'hub_height':2.5, 'nMods':2, 'nRows': 1, 'originx': -15}\n",
    "trackerdict = demo.set1axis(metdata = metdata, cumulativesky = False)\n",
    "trackerdict = demo.gendaylit1axis()\n",
    "trackerdict = demo.makeScene1axis(trackerdict, module = mymodule, sceneDict = sceneDict)"
   ]
  },
  {
   "cell_type": "markdown",
   "id": "211eddf7",
   "metadata": {},
   "source": [
    "Make a second scene with the other module type"
   ]
  },
  {
   "cell_type": "code",
   "execution_count": 11,
   "id": "29c4a111",
   "metadata": {},
   "outputs": [
    {
     "name": "stdout",
     "output_type": "stream",
     "text": [
      "\n",
      "Making ~2 .rad files for gendaylit 1-axis workflow (this takes a minute..)\n",
      "2 Radfiles created in /objects/\n",
      "\n",
      "Making 2 octfiles in root directory.\n",
      "Created 1axis_2021-01-13_1100.oct\n",
      "Created 1axis_2021-01-13_1200.oct\n",
      "Linescan in process: 1axis_2021-01-13_1100_Scene0_Row1_Module3_Front\n",
      "Linescan in process: 1axis_2021-01-13_1100_Scene0_Row1_Module3_Back\n",
      "Saved: results\\irr_1axis_2021-01-13_1100_Scene0_Row1_Module3.csv\n",
      "Index: 2021-01-13_1100. Wm2Front: 254.07483333333334. Wm2Back: 39.88008333333333\n",
      "Linescan in process: 1axis_2021-01-13_1200_Scene0_Row1_Module3_Front\n",
      "Linescan in process: 1axis_2021-01-13_1200_Scene0_Row1_Module3_Back\n",
      "Saved: results\\irr_1axis_2021-01-13_1200_Scene0_Row1_Module3.csv\n",
      "Index: 2021-01-13_1200. Wm2Front: 253.1335. Wm2Back: 37.80824666666667\n",
      "Linescan in process: 1axis_2021-01-13_1100_Scene1_Row1_Module1_Front\n",
      "Linescan in process: 1axis_2021-01-13_1100_Scene1_Row1_Module1_Back\n",
      "Saved: results\\irr_1axis_2021-01-13_1100_Scene1_Row1_Module1.csv\n",
      "Index: 2021-01-13_1100. Wm2Front: 253.54506666666668. Wm2Back: 52.93373666666667\n",
      "Linescan in process: 1axis_2021-01-13_1200_Scene1_Row1_Module1_Front\n",
      "Linescan in process: 1axis_2021-01-13_1200_Scene1_Row1_Module1_Back\n",
      "Saved: results\\irr_1axis_2021-01-13_1200_Scene1_Row1_Module1.csv\n",
      "Index: 2021-01-13_1200. Wm2Front: 252.43426666666667. Wm2Back: 50.808596666666666\n"
     ]
    }
   ],
   "source": [
    "trackerdict = demo.makeScene1axis(trackerdict, module = mymodule2, sceneDict=sceneDict2, append=True)\n",
    "trackerdict = demo.makeOct1axis()\n",
    "trackerdict = demo.analysis1axis(sensorsy=3)\n",
    "trackerdict = demo.analysis1axis(sensorsy=3, sceneNum=1)"
   ]
  },
  {
   "cell_type": "markdown",
   "id": "7ec0639a",
   "metadata": {},
   "source": [
    "## Calculating the Performance and Exporting the Results to a CSV"
   ]
  },
  {
   "cell_type": "code",
   "execution_count": 12,
   "id": "7bbf6db6",
   "metadata": {},
   "outputs": [
    {
     "name": "stdout",
     "output_type": "stream",
     "text": [
      "No CECModule data passed; using default for Prism Solar BHC72-400\n",
      "         timestamp                          name modNum rowNum sceneNum  \\\n",
      "0  2021-01-13_1100  1axis_2021-01-13_1100_Scene0      3      1        0   \n",
      "1  2021-01-13_1100  1axis_2021-01-13_1100_Scene1      1      1        1   \n",
      "2  2021-01-13_1200  1axis_2021-01-13_1200_Scene0      3      1        0   \n",
      "3  2021-01-13_1200  1axis_2021-01-13_1200_Scene1      1      1        1   \n",
      "\n",
      "                                     x  \\\n",
      "0  [0.3734448, 0.01462469, -0.3441954]   \n",
      "1     [-14.62656, -14.98538, -15.3442]   \n",
      "2  [0.473756, 0.007594116, -0.4585678]   \n",
      "3    [-14.52624, -14.99241, -15.45857]   \n",
      "\n",
      "                                             y  \\\n",
      "0   [2.28669e-17, 8.955042e-19, -2.107589e-17]   \n",
      "1   [2.28669e-17, 8.955042e-19, -2.107589e-17]   \n",
      "2  [2.900919e-17, 4.650055e-19, -2.807918e-17]   \n",
      "3  [2.900919e-17, 4.650055e-19, -2.807918e-17]   \n",
      "\n",
      "                                z  \\\n",
      "0   [1.166863, 1.51507, 1.863277]   \n",
      "1   [2.166863, 2.51507, 2.863277]   \n",
      "2  [1.338767, 1.519579, 1.700391]   \n",
      "3  [2.338767, 2.519579, 2.700391]   \n",
      "\n",
      "                                             mattype  \\\n",
      "0  [a2.0.a0.test-module.6457, a2.0.a0.test-module...   \n",
      "1  [a0.0.a0.test.6457, a0.0.a0.test.6457, a0.0.a0...   \n",
      "2  [a2.0.a0.test-module.6457, a2.0.a0.test-module...   \n",
      "3  [a0.0.a0.test.6457, a0.0.a0.test.6457, a0.0.a0...   \n",
      "\n",
      "                                             rearMat  ...    Pout_raw  \\\n",
      "0  [a2.0.a0.test-module.2310, a2.0.a0.test-module...  ...   91.687503   \n",
      "1  [a0.0.a0.test.2310, a0.0.a0.test.2310, a0.0.a0...  ...  123.748694   \n",
      "2  [a2.0.a0.test-module.2310, a2.0.a0.test-module...  ...   90.128038   \n",
      "3  [a0.0.a0.test.2310, a0.0.a0.test.2310, a0.0.a0...  ...  121.759562   \n",
      "\n",
      "  Pout_Gfront        BGG        BGE  Mismatch        Pout  Wind Speed  DNI  \\\n",
      "0   80.249342  14.126576  14.253276  0.031298   91.658807         3.8  144   \n",
      "1  106.070184  16.701958  16.666804  0.009121  123.737407         3.8  144   \n",
      "2   79.356997  13.442481  13.572895  0.019082   90.110840         3.9   97   \n",
      "3  104.892870  16.101965  16.079922  0.006176  121.752043         3.9   97   \n",
      "\n",
      "   DHI  GHI  \n",
      "0  149  211  \n",
      "1  149  211  \n",
      "2  200  249  \n",
      "3  200  249  \n",
      "\n",
      "[4 rows x 29 columns]\n"
     ]
    }
   ],
   "source": [
    "#print(trackerdict)\n",
    "#tracker_dict_sample = {'2021-01-13_1100':trackerdict['2021-01-13_1100']}\n",
    "#eff_irr = tracker_dict_sample['Wm2Front'] + tracker_dict_sample['Wm2Back']\n",
    "Compiled_Results = demo.calculatePerformance1axis()\n",
    "print(Compiled_Results)\n"
   ]
  },
  {
   "cell_type": "code",
   "execution_count": 13,
   "id": "fe18ea62",
   "metadata": {
    "scrolled": true
   },
   "outputs": [
    {
     "name": "stdout",
     "output_type": "stream",
     "text": [
      "Exporting TrackerDict\n",
      "3\n",
      "3\n",
      "1\n",
      "1\n"
     ]
    },
    {
     "data": {
      "text/html": [
       "<div>\n",
       "<style scoped>\n",
       "    .dataframe tbody tr th:only-of-type {\n",
       "        vertical-align: middle;\n",
       "    }\n",
       "\n",
       "    .dataframe tbody tr th {\n",
       "        vertical-align: top;\n",
       "    }\n",
       "\n",
       "    .dataframe thead th {\n",
       "        text-align: right;\n",
       "    }\n",
       "</style>\n",
       "<table border=\"1\" class=\"dataframe\">\n",
       "  <thead>\n",
       "    <tr style=\"text-align: right;\">\n",
       "      <th></th>\n",
       "      <th>Unnamed: 0</th>\n",
       "      <th>timestamp</th>\n",
       "      <th>rowNum</th>\n",
       "      <th>modNum</th>\n",
       "      <th>sceneNum</th>\n",
       "      <th>name</th>\n",
       "      <th>Wm2Front</th>\n",
       "      <th>Wm2Back</th>\n",
       "      <th>DNI</th>\n",
       "      <th>DHI</th>\n",
       "      <th>...</th>\n",
       "      <th>theta</th>\n",
       "      <th>surf_tilt</th>\n",
       "      <th>surf_azm</th>\n",
       "      <th>POA_eff</th>\n",
       "      <th>Gfront_mean</th>\n",
       "      <th>Grear_mean</th>\n",
       "      <th>Pout_raw</th>\n",
       "      <th>Mismatch</th>\n",
       "      <th>Pout</th>\n",
       "      <th>Pout_Gfront</th>\n",
       "    </tr>\n",
       "  </thead>\n",
       "  <tbody>\n",
       "    <tr>\n",
       "      <th>0</th>\n",
       "      <td>0</td>\n",
       "      <td>2021-01-13_1100</td>\n",
       "      <td>1</td>\n",
       "      <td>3</td>\n",
       "      <td>0</td>\n",
       "      <td>1axis_2021-01-13_1100_Scene0</td>\n",
       "      <td>[253.4203 254.3263 254.4779]</td>\n",
       "      <td>[39.27898 39.55687 40.8044 ]</td>\n",
       "      <td>144</td>\n",
       "      <td>149</td>\n",
       "      <td>...</td>\n",
       "      <td>-44.14</td>\n",
       "      <td>44.14</td>\n",
       "      <td>90.0</td>\n",
       "      <td>289.966908</td>\n",
       "      <td>254.074833</td>\n",
       "      <td>39.880083</td>\n",
       "      <td>91.687503</td>\n",
       "      <td>0.031298</td>\n",
       "      <td>91.658807</td>\n",
       "      <td>80.249342</td>\n",
       "    </tr>\n",
       "    <tr>\n",
       "      <th>1</th>\n",
       "      <td>1</td>\n",
       "      <td>2021-01-13_1100</td>\n",
       "      <td>1</td>\n",
       "      <td>1</td>\n",
       "      <td>1</td>\n",
       "      <td>1axis_2021-01-13_1100_Scene1</td>\n",
       "      <td>[253.0821 253.8797 253.6734]</td>\n",
       "      <td>[52.66748 53.1945  52.93923]</td>\n",
       "      <td>144</td>\n",
       "      <td>149</td>\n",
       "      <td>...</td>\n",
       "      <td>-44.14</td>\n",
       "      <td>44.14</td>\n",
       "      <td>90.0</td>\n",
       "      <td>295.892056</td>\n",
       "      <td>253.545067</td>\n",
       "      <td>52.933737</td>\n",
       "      <td>123.748694</td>\n",
       "      <td>0.009121</td>\n",
       "      <td>123.737407</td>\n",
       "      <td>106.070184</td>\n",
       "    </tr>\n",
       "    <tr>\n",
       "      <th>2</th>\n",
       "      <td>2</td>\n",
       "      <td>2021-01-13_1200</td>\n",
       "      <td>1</td>\n",
       "      <td>3</td>\n",
       "      <td>0</td>\n",
       "      <td>1axis_2021-01-13_1200_Scene0</td>\n",
       "      <td>[253.0991 253.2366 253.0648]</td>\n",
       "      <td>[37.59769 37.44495 38.3821 ]</td>\n",
       "      <td>97</td>\n",
       "      <td>200</td>\n",
       "      <td>...</td>\n",
       "      <td>-21.20</td>\n",
       "      <td>21.20</td>\n",
       "      <td>90.0</td>\n",
       "      <td>287.160922</td>\n",
       "      <td>253.133500</td>\n",
       "      <td>37.808247</td>\n",
       "      <td>90.128038</td>\n",
       "      <td>0.019082</td>\n",
       "      <td>90.110840</td>\n",
       "      <td>79.356997</td>\n",
       "    </tr>\n",
       "    <tr>\n",
       "      <th>3</th>\n",
       "      <td>3</td>\n",
       "      <td>2021-01-13_1200</td>\n",
       "      <td>1</td>\n",
       "      <td>1</td>\n",
       "      <td>1</td>\n",
       "      <td>1axis_2021-01-13_1200_Scene1</td>\n",
       "      <td>[252.2994 252.4342 252.5692]</td>\n",
       "      <td>[50.62335 50.9784  50.82404]</td>\n",
       "      <td>97</td>\n",
       "      <td>200</td>\n",
       "      <td>...</td>\n",
       "      <td>-21.20</td>\n",
       "      <td>21.20</td>\n",
       "      <td>90.0</td>\n",
       "      <td>293.081144</td>\n",
       "      <td>252.434267</td>\n",
       "      <td>50.808597</td>\n",
       "      <td>121.759562</td>\n",
       "      <td>0.006176</td>\n",
       "      <td>121.752043</td>\n",
       "      <td>104.892870</td>\n",
       "    </tr>\n",
       "  </tbody>\n",
       "</table>\n",
       "<p>4 rows × 23 columns</p>\n",
       "</div>"
      ],
      "text/plain": [
       "   Unnamed: 0        timestamp  rowNum  modNum  sceneNum  \\\n",
       "0           0  2021-01-13_1100       1       3         0   \n",
       "1           1  2021-01-13_1100       1       1         1   \n",
       "2           2  2021-01-13_1200       1       3         0   \n",
       "3           3  2021-01-13_1200       1       1         1   \n",
       "\n",
       "                           name                      Wm2Front  \\\n",
       "0  1axis_2021-01-13_1100_Scene0  [253.4203 254.3263 254.4779]   \n",
       "1  1axis_2021-01-13_1100_Scene1  [253.0821 253.8797 253.6734]   \n",
       "2  1axis_2021-01-13_1200_Scene0  [253.0991 253.2366 253.0648]   \n",
       "3  1axis_2021-01-13_1200_Scene1  [252.2994 252.4342 252.5692]   \n",
       "\n",
       "                        Wm2Back  DNI  DHI  ...  theta  surf_tilt  surf_azm  \\\n",
       "0  [39.27898 39.55687 40.8044 ]  144  149  ... -44.14      44.14      90.0   \n",
       "1  [52.66748 53.1945  52.93923]  144  149  ... -44.14      44.14      90.0   \n",
       "2  [37.59769 37.44495 38.3821 ]   97  200  ... -21.20      21.20      90.0   \n",
       "3  [50.62335 50.9784  50.82404]   97  200  ... -21.20      21.20      90.0   \n",
       "\n",
       "      POA_eff  Gfront_mean  Grear_mean    Pout_raw  Mismatch        Pout  \\\n",
       "0  289.966908   254.074833   39.880083   91.687503  0.031298   91.658807   \n",
       "1  295.892056   253.545067   52.933737  123.748694  0.009121  123.737407   \n",
       "2  287.160922   253.133500   37.808247   90.128038  0.019082   90.110840   \n",
       "3  293.081144   252.434267   50.808597  121.759562  0.006176  121.752043   \n",
       "\n",
       "   Pout_Gfront  \n",
       "0    80.249342  \n",
       "1   106.070184  \n",
       "2    79.356997  \n",
       "3   104.892870  \n",
       "\n",
       "[4 rows x 23 columns]"
      ]
     },
     "execution_count": 13,
     "metadata": {},
     "output_type": "execute_result"
    }
   ],
   "source": [
    "demo.exportTrackerDict(savefile=os.path.join('results','Final_Results.csv'),reindex=False)\n",
    "pd.read_csv(os.path.join('results','Final_Results.csv'))"
   ]
  },
  {
   "cell_type": "markdown",
   "id": "eb2202f4",
   "metadata": {},
   "source": [
    "## Now look at gencumulativesky tracking workflow"
   ]
  },
  {
   "cell_type": "code",
   "execution_count": 14,
   "id": "7cd42dfc",
   "metadata": {},
   "outputs": [
    {
     "name": "stdout",
     "output_type": "stream",
     "text": [
      "path = C:\\Users\\cdeline\\Documents\\Python Scripts\\Bifacial_Radiance\\bifacial_radiance\\TEMP\\Tutorial_21\n",
      "Getting weather file: USA_VA_Richmond.724010_TMY2.epw\n",
      " ... OK!\n",
      "8760 line in WeatherFile. Assuming this is a standard hourly WeatherFile for the year for purposes of saving Gencumulativesky temporary weather files in EPW folder.\n",
      "Coercing year to 2021\n",
      "Filtering dates\n",
      "Saving file EPWs\\metdata_temp.csv, # points: 8760\n",
      "Calculating Sun position for Metdata that is right-labeled  with a delta of -30 mins. i.e. 12 is 11:30 sunpos\n",
      "Loading albedo, 1 value(s), 0.200 avg\n",
      "1 nonzero albedo values.\n",
      "\n",
      "Module Name: test-module\n",
      "Module test-module updated in module.json\n",
      "Pre-existing .rad file objects\\test-module.rad will be overwritten\n",
      "\n"
     ]
    }
   ],
   "source": [
    "starttime = '01_13_11';  endtime = '12_13_12'\n",
    "demo = bifacial_radiance.RadianceObj('tutorial_21', path = testfolder) # Create a RadianceObj 'object'\n",
    "weatherfile = demo.getEPW(lat = 37.5, lon = -77.6)  # This location corresponds to Richmond, VA.\n",
    "metdata = demo.readWeatherFile(weatherFile=weatherfile, starttime=starttime, endtime=endtime)\n",
    "#metdata = demo.readWeatherFile(weatherFile=weatherfile)\n",
    "demo.setGround(0.2)\n",
    "mymodule = demo.makeModule(name='test-module', x=1, y=2, bifi=0.9, CECMod=CECMod) "
   ]
  },
  {
   "cell_type": "code",
   "execution_count": 15,
   "id": "893d060e",
   "metadata": {},
   "outputs": [
    {
     "name": "stdout",
     "output_type": "stream",
     "text": [
      "Saving file EPWs\\1axis_-15.0.csv, # points: 1875\n",
      "Saving file EPWs\\1axis_-10.0.csv, # points: 241\n",
      "Saving file EPWs\\1axis_0.0.csv, # points: 2\n",
      "Saving file EPWs\\1axis_5.0.csv, # points: 242\n",
      "Saving file EPWs\\1axis_10.0.csv, # points: 33\n",
      "Saving file EPWs\\1axis_15.0.csv, # points: 1683\n",
      "message: There were 1833 sun up hours in this climate file\n",
      "Total Ibh/Lbh: 0.000000\n",
      "Created skyfile skies\\1axis_-15.0.rad\n",
      "message: There were 238 sun up hours in this climate file\n",
      "Total Ibh/Lbh: 0.000000\n",
      "Created skyfile skies\\1axis_-10.0.rad\n",
      "message: There were 2 sun up hours in this climate file\n",
      "Total Ibh/Lbh: 0.000000\n",
      "Created skyfile skies\\1axis_0.0.rad\n",
      "message: There were 239 sun up hours in this climate file\n",
      "Total Ibh/Lbh: 0.000000\n",
      "Created skyfile skies\\1axis_5.0.rad\n",
      "message: There were 33 sun up hours in this climate file\n",
      "Total Ibh/Lbh: 0.000000\n",
      "Created skyfile skies\\1axis_10.0.rad\n",
      "message: There were 1661 sun up hours in this climate file\n",
      "Total Ibh/Lbh: 0.000000\n",
      "Created skyfile skies\\1axis_15.0.rad\n",
      "\n",
      "Making .rad files for cumulativesky 1-axis workflow\n",
      "6 Radfiles created in /objects/\n",
      "\n",
      "Making 6 octfiles in root directory.\n",
      "Created 1axis_-15.0.oct\n",
      "Created 1axis_-10.0.oct\n",
      "Created 1axis_0.0.oct\n",
      "Created 1axis_5.0.oct\n",
      "Created 1axis_10.0.oct\n",
      "Created 1axis_15.0.oct\n",
      "Linescan in process: 1axis_-15.0_Scene0_Row1_Module2_Front\n",
      "Linescan in process: 1axis_-15.0_Scene0_Row1_Module2_Back\n",
      "Saved: results\\irr_1axis_-15.0_Scene0_Row1_Module2.csv\n",
      "Index: -15.0. Wm2Front: 632958.0333333333. Wm2Back: 80312.74333333333\n",
      "Linescan in process: 1axis_-15.0_Scene0_Row1_Module4_Front\n",
      "Linescan in process: 1axis_-15.0_Scene0_Row1_Module4_Back\n",
      "Saved: results\\irr_1axis_-15.0_Scene0_Row1_Module4.csv\n",
      "Index: -15.0. Wm2Front: 633764.8666666666. Wm2Back: 74485.24333333333\n",
      "Linescan in process: 1axis_-10.0_Scene0_Row1_Module2_Front\n",
      "Linescan in process: 1axis_-10.0_Scene0_Row1_Module2_Back\n",
      "Saved: results\\irr_1axis_-10.0_Scene0_Row1_Module2.csv\n",
      "Index: -10.0. Wm2Front: 146122.36666666667. Wm2Back: 19657.906666666666\n",
      "Linescan in process: 1axis_-10.0_Scene0_Row1_Module4_Front\n",
      "Linescan in process: 1axis_-10.0_Scene0_Row1_Module4_Back\n",
      "Saved: results\\irr_1axis_-10.0_Scene0_Row1_Module4.csv\n",
      "Index: -10.0. Wm2Front: 146927.56666666665. Wm2Back: 17443.046666666665\n",
      "Linescan in process: 1axis_0.0_Scene0_Row1_Module2_Front\n",
      "Linescan in process: 1axis_0.0_Scene0_Row1_Module2_Back\n",
      "Saved: results\\irr_1axis_0.0_Scene0_Row1_Module2.csv\n",
      "Index: 0.0. Wm2Front: 979.5599000000001. Wm2Back: 153.58323333333334\n",
      "Linescan in process: 1axis_0.0_Scene0_Row1_Module4_Front\n",
      "Linescan in process: 1axis_0.0_Scene0_Row1_Module4_Back\n",
      "Saved: results\\irr_1axis_0.0_Scene0_Row1_Module4.csv\n",
      "Index: 0.0. Wm2Front: 988.9038666666667. Wm2Back: 118.99796666666667\n",
      "Linescan in process: 1axis_5.0_Scene0_Row1_Module2_Front\n",
      "Linescan in process: 1axis_5.0_Scene0_Row1_Module2_Back\n",
      "Saved: results\\irr_1axis_5.0_Scene0_Row1_Module2.csv\n",
      "Index: 5.0. Wm2Front: 150893.19999999998. Wm2Back: 19790.783333333336\n",
      "Linescan in process: 1axis_5.0_Scene0_Row1_Module4_Front\n",
      "Linescan in process: 1axis_5.0_Scene0_Row1_Module4_Back\n",
      "Saved: results\\irr_1axis_5.0_Scene0_Row1_Module4.csv\n",
      "Index: 5.0. Wm2Front: 146440.46666666667. Wm2Back: 17374.08\n",
      "Linescan in process: 1axis_10.0_Scene0_Row1_Module2_Front\n",
      "Linescan in process: 1axis_10.0_Scene0_Row1_Module2_Back\n",
      "Saved: results\\irr_1axis_10.0_Scene0_Row1_Module2.csv\n",
      "Index: 10.0. Wm2Front: 17446.04333333333. Wm2Back: 2400.651666666666\n",
      "Linescan in process: 1axis_10.0_Scene0_Row1_Module4_Front\n",
      "Linescan in process: 1axis_10.0_Scene0_Row1_Module4_Back\n",
      "Saved: results\\irr_1axis_10.0_Scene0_Row1_Module4.csv\n",
      "Index: 10.0. Wm2Front: 17155.37. Wm2Back: 2026.875\n",
      "Linescan in process: 1axis_15.0_Scene0_Row1_Module2_Front\n",
      "Linescan in process: 1axis_15.0_Scene0_Row1_Module2_Back\n",
      "Saved: results\\irr_1axis_15.0_Scene0_Row1_Module2.csv\n",
      "Index: 15.0. Wm2Front: 721047.2000000001. Wm2Back: 86184.21\n",
      "Linescan in process: 1axis_15.0_Scene0_Row1_Module4_Front\n",
      "Linescan in process: 1axis_15.0_Scene0_Row1_Module4_Back\n",
      "Saved: results\\irr_1axis_15.0_Scene0_Row1_Module4.csv\n",
      "Index: 15.0. Wm2Front: 712218.8666666667. Wm2Back: 79258.08\n"
     ]
    }
   ],
   "source": [
    "sceneDict = {'tilt': 0, 'azimuth': 180, 'pitch': 5,'hub_height':1.5, 'nMods':5, 'nRows': 2}\n",
    "trackerdict = demo.set1axis(metdata=metdata, cumulativesky=True, limit_angle=15, backtrack=False)\n",
    "trackerdict = demo.genCumSky1axis()\n",
    "trackerdict = demo.makeScene1axis(trackerdict, module = mymodule, sceneDict = sceneDict)\n",
    "trackerdict = demo.makeOct1axis()\n",
    "trackerdict = demo.analysis1axis(modWanted = [2,4], sensorsy=3)"
   ]
  },
  {
   "cell_type": "code",
   "execution_count": 16,
   "id": "d6340420",
   "metadata": {},
   "outputs": [
    {
     "name": "stdout",
     "output_type": "stream",
     "text": [
      "   row  module        BGG   Gfront_mean     Grear_mean  \\\n",
      "0    1       2  11.240246  1.669446e+06  208499.878233   \n",
      "1    1       4  10.355119  1.657496e+06  190706.322967   \n",
      "\n",
      "                                             POA_eff  \\\n",
      "0  [1858883.9889933334, 1854803.3519133334, 18576...   \n",
      "1  [1831434.8003633332, 1826145.2824733332, 18298...   \n",
      "\n",
      "                                             Wm2Back  \n",
      "0  [210486.20640000002, 205952.16520000002, 20906...  \n",
      "1  [193265.28869999998, 187388.04659999997, 19146...  \n"
     ]
    }
   ],
   "source": [
    "demo.calculatePerformance1axis() # saves to demo.CompiledResults and results/Cumulative_Results.csv\n",
    "print(demo.CompiledResults)"
   ]
  },
  {
   "cell_type": "code",
   "execution_count": 17,
   "id": "5d891480",
   "metadata": {},
   "outputs": [
    {
     "data": {
      "text/html": [
       "<div>\n",
       "<style scoped>\n",
       "    .dataframe tbody tr th:only-of-type {\n",
       "        vertical-align: middle;\n",
       "    }\n",
       "\n",
       "    .dataframe tbody tr th {\n",
       "        vertical-align: top;\n",
       "    }\n",
       "\n",
       "    .dataframe thead th {\n",
       "        text-align: right;\n",
       "    }\n",
       "</style>\n",
       "<table border=\"1\" class=\"dataframe\">\n",
       "  <thead>\n",
       "    <tr style=\"text-align: right;\">\n",
       "      <th></th>\n",
       "      <th>Unnamed: 0</th>\n",
       "      <th>row</th>\n",
       "      <th>module</th>\n",
       "      <th>BGG</th>\n",
       "      <th>Gfront_mean</th>\n",
       "      <th>Grear_mean</th>\n",
       "      <th>POA_eff</th>\n",
       "      <th>Wm2Back</th>\n",
       "    </tr>\n",
       "  </thead>\n",
       "  <tbody>\n",
       "    <tr>\n",
       "      <th>0</th>\n",
       "      <td>0</td>\n",
       "      <td>1</td>\n",
       "      <td>2</td>\n",
       "      <td>11.240</td>\n",
       "      <td>1669446.403</td>\n",
       "      <td>208499.878</td>\n",
       "      <td>[1858883.9889933334, 1854803.3519133334, 18576...</td>\n",
       "      <td>[210486.20640000002, 205952.16520000002, 20906...</td>\n",
       "    </tr>\n",
       "    <tr>\n",
       "      <th>1</th>\n",
       "      <td>1</td>\n",
       "      <td>1</td>\n",
       "      <td>4</td>\n",
       "      <td>10.355</td>\n",
       "      <td>1657496.041</td>\n",
       "      <td>190706.323</td>\n",
       "      <td>[1831434.8003633332, 1826145.2824733332, 18298...</td>\n",
       "      <td>[193265.28869999998, 187388.04659999997, 19146...</td>\n",
       "    </tr>\n",
       "  </tbody>\n",
       "</table>\n",
       "</div>"
      ],
      "text/plain": [
       "   Unnamed: 0  row  module     BGG  Gfront_mean  Grear_mean  \\\n",
       "0           0    1       2  11.240  1669446.403  208499.878   \n",
       "1           1    1       4  10.355  1657496.041  190706.323   \n",
       "\n",
       "                                             POA_eff  \\\n",
       "0  [1858883.9889933334, 1854803.3519133334, 18576...   \n",
       "1  [1831434.8003633332, 1826145.2824733332, 18298...   \n",
       "\n",
       "                                             Wm2Back  \n",
       "0  [210486.20640000002, 205952.16520000002, 20906...  \n",
       "1  [193265.28869999998, 187388.04659999997, 19146...  "
      ]
     },
     "execution_count": 17,
     "metadata": {},
     "output_type": "execute_result"
    }
   ],
   "source": [
    "pd.read_csv(os.path.join('results','Cumulative_Results.csv'))"
   ]
  },
  {
   "cell_type": "code",
   "execution_count": null,
   "id": "e46594de",
   "metadata": {},
   "outputs": [],
   "source": []
  }
 ],
 "metadata": {
  "kernelspec": {
   "display_name": "Python 3 (ipykernel)",
   "language": "python",
   "name": "python3"
  },
  "language_info": {
   "codemirror_mode": {
    "name": "ipython",
    "version": 3
   },
   "file_extension": ".py",
   "mimetype": "text/x-python",
   "name": "python",
   "nbconvert_exporter": "python",
   "pygments_lexer": "ipython3",
   "version": "3.9.13"
  }
 },
 "nbformat": 4,
 "nbformat_minor": 5
}
