{
 "cells": [
  {
   "cell_type": "code",
   "execution_count": 1,
   "id": "07a01d38-bfea-453c-9040-72f6cc872bf3",
   "metadata": {},
   "outputs": [
    {
     "name": "stdout",
     "output_type": "stream",
     "text": [
      "Working on a  Windows 10\n",
      "Python version  3.9.13 (main, Aug 25 2022, 23:51:50) [MSC v.1916 64 bit (AMD64)]\n",
      "Pandas version  1.5.3\n",
      "bifacial_radiance version  0.4.3.dev341+g93e0ec5.d20240830\n"
     ]
    }
   ],
   "source": [
    "# This information helps with debugging and getting support :)\n",
    "import sys, platform\n",
    "import pandas as pd\n",
    "import bifacial_radiance as br\n",
    "print(\"Working on a \", platform.system(), platform.release())\n",
    "print(\"Python version \", sys.version)\n",
    "print(\"Pandas version \", pd.__version__)\n",
    "print(\"bifacial_radiance version \", br.__version__)"
   ]
  },
  {
   "cell_type": "markdown",
   "id": "a54352a3",
   "metadata": {},
   "source": [
    "# 21 - Weather to Module Performance\n",
    "## Modeling Performance, an End to End Simulation\n",
    "\n",
    "This tutorial shows how to use the new function on bifacial_radiance calculatePerformanceModule performance, as well as how to find CEC Module parameters.\n"
   ]
  },
  {
   "cell_type": "code",
   "execution_count": 2,
   "id": "23074a65",
   "metadata": {},
   "outputs": [
    {
     "name": "stdout",
     "output_type": "stream",
     "text": [
      "Your simulation will be stored in C:\\Users\\cdeline\\Documents\\Python Scripts\\Bifacial_Radiance\\bifacial_radiance\\TEMP\\Tutorial_21\n"
     ]
    }
   ],
   "source": [
    "import os\n",
    "from pathlib import Path\n",
    "\n",
    "testfolder = str(Path().resolve().parent.parent / 'bifacial_radiance' / 'TEMP' / 'Tutorial_21')\n",
    "\n",
    "if not os.path.exists(testfolder): os.mkdir(testfolder)\n",
    "\n",
    "# Another option using relative address; for some operative systems you might need '/' instead of '\\'\n",
    "# testfolder = os.path.abspath(r'..\\..\\bifacial_radiance\\TEMP')  \n",
    "\n",
    "print (\"Your simulation will be stored in %s\" % testfolder)\n"
   ]
  },
  {
   "cell_type": "code",
   "execution_count": 3,
   "id": "51fe7bf3",
   "metadata": {},
   "outputs": [
    {
     "data": {
      "text/plain": [
       "'0.4.3.dev341+g93e0ec5.d20240830'"
      ]
     },
     "execution_count": 3,
     "metadata": {},
     "output_type": "execute_result"
    }
   ],
   "source": [
    "import bifacial_radiance\n",
    "import numpy as np\n",
    "import pandas as pd\n",
    "import pvlib \n",
    "\n",
    "bifacial_radiance.__version__"
   ]
  },
  {
   "cell_type": "markdown",
   "id": "3f847fea",
   "metadata": {},
   "source": [
    "## Geting a CEC Module to pass into demo.makeModule"
   ]
  },
  {
   "cell_type": "code",
   "execution_count": 4,
   "id": "aa374016",
   "metadata": {},
   "outputs": [],
   "source": [
    "url = 'https://raw.githubusercontent.com/NREL/SAM/patch/deploy/libraries/CEC%20Modules.csv'\n",
    "db = pd.read_csv(url, index_col=0) # Reading this might take 1 min or so, the database is big."
   ]
  },
  {
   "cell_type": "markdown",
   "id": "864d0412",
   "metadata": {},
   "source": [
    "Find the module that you want. In this case we know it's a SunPower of model SPR-E19-310-COM. \n",
    "\n",
    "Make sure you select only 1 module from the database -- sometimes there are similar names."
   ]
  },
  {
   "cell_type": "code",
   "execution_count": 5,
   "id": "0ba97ef9",
   "metadata": {},
   "outputs": [
    {
     "name": "stdout",
     "output_type": "stream",
     "text": [
      "[False False False ... False False False]\n",
      "1  modules selected. Name of 1st entry:  SunPower SPR-E19-310-COM\n"
     ]
    }
   ],
   "source": [
    "modfilter2 = db.index.str.startswith('SunPower') & db.index.str.endswith('SPR-E19-310-COM')\n",
    "print(modfilter2)\n",
    "CECMod = db[modfilter2]\n",
    "print(len(CECMod), \" modules selected. Name of 1st entry: \", CECMod.index[0])"
   ]
  },
  {
   "cell_type": "code",
   "execution_count": null,
   "id": "5ee82ada",
   "metadata": {},
   "outputs": [],
   "source": []
  },
  {
   "cell_type": "code",
   "execution_count": 6,
   "id": "250eb585",
   "metadata": {},
   "outputs": [
    {
     "name": "stdout",
     "output_type": "stream",
     "text": [
      "path = C:\\Users\\cdeline\\Documents\\Python Scripts\\Bifacial_Radiance\\bifacial_radiance\\TEMP\\Tutorial_21\n",
      "Getting weather file: USA_VA_Richmond.724010_TMY2.epw\n",
      " ... OK!\n",
      "8760 line in WeatherFile. Assuming this is a standard hourly WeatherFile for the year for purposes of saving Gencumulativesky temporary weather files in EPW folder.\n",
      "Coercing year to 2021\n",
      "Filtering dates\n",
      "Saving file EPWs\\metdata_temp.csv, # points: 8760\n",
      "Calculating Sun position for Metdata that is right-labeled  with a delta of -30 mins. i.e. 12 is 11:30 sunpos\n",
      "Loading albedo, 1 value(s), 0.200 avg\n",
      "1 nonzero albedo values.\n"
     ]
    }
   ],
   "source": [
    "# Selecting only two times as examples\n",
    "starttime = '01_13_11';  endtime = '01_13_12'\n",
    "demo = bifacial_radiance.RadianceObj('tutorial_21', path = testfolder) # Create a RadianceObj 'object'\n",
    "weatherfile = demo.getEPW(lat = 37.5, lon = -77.6)  # This location corresponds to Richmond, VA.\n",
    "metdata = demo.readWeatherFile(weatherFile=weatherfile, starttime=starttime, endtime=endtime)\n",
    "demo.setGround(0.2)"
   ]
  },
  {
   "cell_type": "markdown",
   "id": "63433b04",
   "metadata": {},
   "source": [
    "The CEC data should be passed into the ModuleObj, either at time of creation, or sometime before it is passed into makeScene."
   ]
  },
  {
   "cell_type": "code",
   "execution_count": 7,
   "id": "3a123afd",
   "metadata": {
    "scrolled": true
   },
   "outputs": [
    {
     "name": "stdout",
     "output_type": "stream",
     "text": [
      "\n",
      "Module Name: test-module\n",
      "Module test-module updated in module.json\n",
      "Pre-existing .rad file objects\\test-module.rad will be overwritten\n",
      "\n"
     ]
    }
   ],
   "source": [
    "mymodule = demo.makeModule(name='test-module', x=1, y=2, bifi=0.9, CECMod=CECMod) "
   ]
  },
  {
   "cell_type": "markdown",
   "id": "6fc18e50",
   "metadata": {},
   "source": [
    "The same data can be passed after the ModuleObj's definition:"
   ]
  },
  {
   "cell_type": "code",
   "execution_count": 8,
   "id": "6aa21855",
   "metadata": {},
   "outputs": [],
   "source": [
    "mymodule.addCEC(CECMod)"
   ]
  },
  {
   "cell_type": "code",
   "execution_count": 9,
   "id": "3eca187d",
   "metadata": {},
   "outputs": [
    {
     "name": "stdout",
     "output_type": "stream",
     "text": [
      "Creating ~2 skyfiles. \n",
      "Created 2 skyfiles in /skies/\n",
      "\n",
      "Making ~2 .rad files for gendaylit 1-axis workflow (this takes a minute..)\n",
      "2 Radfiles created in /objects/\n",
      "\n",
      "Making 2 octfiles in root directory.\n",
      "Created 1axis_2021-01-13_1100.oct\n",
      "Created 1axis_2021-01-13_1200.oct\n",
      "Linescan in process: 1axis_2021-01-13_1100_Scene0_Row1_Module2_Front\n",
      "Linescan in process: 1axis_2021-01-13_1100_Scene0_Row1_Module2_Back\n",
      "Saved: results\\irr_1axis_2021-01-13_1100_Scene0_Row1_Module2.csv\n",
      "Index: 2021-01-13_1100. Wm2Front: 254.17376666666667. Wm2Back: 45.14680666666666\n",
      "Linescan in process: 1axis_2021-01-13_1200_Scene0_Row1_Module2_Front\n",
      "Linescan in process: 1axis_2021-01-13_1200_Scene0_Row1_Module2_Back\n",
      "Saved: results\\irr_1axis_2021-01-13_1200_Scene0_Row1_Module2.csv\n",
      "Index: 2021-01-13_1200. Wm2Front: 253.0892. Wm2Back: 43.43526333333333\n"
     ]
    }
   ],
   "source": [
    "sceneDict = {'tilt': 10, 'azimuth': 180, 'pitch': 5,'hub_height':1.5, 'nMods':3, 'nRows': 2}\n",
    "trackerdict = demo.set1axis(metdata = metdata, cumulativesky = False)\n",
    "trackerdict = demo.gendaylit1axis()\n",
    "trackerdict = demo.makeScene1axis(trackerdict, module = mymodule, sceneDict = sceneDict)\n",
    "trackerdict = demo.makeOct1axis()\n",
    "trackerdict = demo.analysis1axis(sensorsy=3)"
   ]
  },
  {
   "cell_type": "markdown",
   "id": "7ec0639a",
   "metadata": {},
   "source": [
    "## Calculating the Performance and Exporting the Results to a CSV"
   ]
  },
  {
   "cell_type": "code",
   "execution_count": 10,
   "id": "7bbf6db6",
   "metadata": {},
   "outputs": [
    {
     "name": "stdout",
     "output_type": "stream",
     "text": [
      "{'2021-01-13_1100': {'surf_azm': 90.0, 'surf_tilt': 44.14, 'theta': -44.14, 'dni': 144, 'ghi': 211, 'dhi': 149, 'temp_air': 4.6, 'wind_speed': 3.8, 'skyfile': 'skies\\\\sky2_37.5_-77.33_2021-01-13_1100.rad', 'scenes': [{'module': {'x': 1, 'y': 2, 'z': 0.02, 'modulematerial': 'black', 'scenex': 1.01, 'sceney': 2.0, 'scenez': 0.1, 'numpanels': 1, 'bifi': 0.9, 'text': '! genbox black test-module 1 2 0.02 | xform -t -0.5 -1.0 0 -a 1 -t 0 2.0 0', 'modulefile': 'objects\\\\test-module.rad', 'glass': False, 'offsetfromaxis': 0, 'xgap': 0.01, 'ygap': 0.0, 'zgap': 0.1}, 'modulefile': 'objects\\\\test-module.rad', 'hpc': False, 'name': 'Scene0', 'gcr': 0.4, 'text': '!xform -rx 44.14 -t 0 0 1.5 -a 3 -t 1.01 0 0 -a 2 -t 0 5 0 -i 1 -t -1.01 -0.0 0 -rz 90.0 -t 0 0 0 \"objects\\\\test-module.rad\"', 'radfiles': 'objects\\\\1axis2021-01-13_1100__C_0.80_rtr_5.00_tilt_44_3modsx2rows_origin0,0.rad', 'sceneDict': {'tilt': 44.14, 'azimuth': 90.0, 'pitch': 5, 'nMods': 3, 'nRows': 2, 'modulez': 0.02, 'axis_tilt': 0, 'originx': 0, 'originy': 0, 'hub_height': 1.5}}], 'octfile': '1axis_2021-01-13_1100.oct', 'AnalysisObj': [{'octfile': '1axis_2021-01-13_1100.oct', 'name': '1axis_2021-01-13_1100_Scene0', 'hpc': False, 'modWanted': 2, 'rowWanted': 1, 'sceneNum': 0, 'power_data': None, 'columns': ['hpc', 'modWanted', 'name', 'octfile', 'power_data', 'rowWanted', 'sceneNum'], 'methods': ['analysis', 'analyzeField', 'analyzeRow', 'calc_performance', 'getResults', 'groundAnalysis', 'makeFalseColor', 'makeImage', 'moduleAnalysis'], 'x': array([ 0.3734448 ,  0.01462469, -0.3441954 ]), 'y': array([ 2.286690e-17,  8.955042e-19, -2.107589e-17]), 'z': array([1.166863, 1.51507 , 1.863277]), 'rearZ': array([1.151075, 1.499282, 1.847489]), 'mattype': array(['a1.0.a0.test-module.6457', 'a1.0.a0.test-module.6457',\n",
      "       'a1.0.a0.test-module.6457'], dtype=object), 'rearMat': array(['a1.0.a0.test-module.2310', 'a1.0.a0.test-module.2310',\n",
      "       'a1.0.a0.test-module.2310'], dtype=object), 'Wm2Front': array([253.6018, 254.6151, 254.3044]), 'Wm2Back': array([44.61458, 44.93219, 45.89365]), 'Back/FrontRatio': array([0.17592306, 0.17647034, 0.18046668]), 'backRatio': array([0.17592306, 0.17647034, 0.18046668]), 'rearX': array([ 0.3581237 , -0.00069641, -0.3595166 ]), 'rearY': array([ 2.192875e-17, -4.264306e-20, -2.201404e-17])}]}, '2021-01-13_1200': {'surf_azm': 90.0, 'surf_tilt': 21.2, 'theta': -21.2, 'dni': 97, 'ghi': 249, 'dhi': 200, 'temp_air': 6.5, 'wind_speed': 3.9, 'skyfile': 'skies\\\\sky2_37.5_-77.33_2021-01-13_1200.rad', 'scenes': [{'module': {'x': 1, 'y': 2, 'z': 0.02, 'modulematerial': 'black', 'scenex': 1.01, 'sceney': 2.0, 'scenez': 0.1, 'numpanels': 1, 'bifi': 0.9, 'text': '! genbox black test-module 1 2 0.02 | xform -t -0.5 -1.0 0 -a 1 -t 0 2.0 0', 'modulefile': 'objects\\\\test-module.rad', 'glass': False, 'offsetfromaxis': 0, 'xgap': 0.01, 'ygap': 0.0, 'zgap': 0.1}, 'modulefile': 'objects\\\\test-module.rad', 'hpc': False, 'name': 'Scene0', 'gcr': 0.4, 'text': '!xform -rx 21.2 -t 0 0 1.5 -a 3 -t 1.01 0 0 -a 2 -t 0 5 0 -i 1 -t -1.01 -0.0 0 -rz 90.0 -t 0 0 0 \"objects\\\\test-module.rad\"', 'radfiles': 'objects\\\\1axis2021-01-13_1200__C_1.14_rtr_5.00_tilt_21_3modsx2rows_origin0,0.rad', 'sceneDict': {'tilt': 21.2, 'azimuth': 90.0, 'pitch': 5, 'nMods': 3, 'nRows': 2, 'modulez': 0.02, 'axis_tilt': 0, 'originx': 0, 'originy': 0, 'hub_height': 1.5}}], 'octfile': '1axis_2021-01-13_1200.oct', 'AnalysisObj': [{'octfile': '1axis_2021-01-13_1200.oct', 'name': '1axis_2021-01-13_1200_Scene0', 'hpc': False, 'modWanted': 2, 'rowWanted': 1, 'sceneNum': 0, 'power_data': None, 'columns': ['hpc', 'modWanted', 'name', 'octfile', 'power_data', 'rowWanted', 'sceneNum'], 'methods': ['analysis', 'analyzeField', 'analyzeRow', 'calc_performance', 'getResults', 'groundAnalysis', 'makeFalseColor', 'makeImage', 'moduleAnalysis'], 'x': array([ 0.473756  ,  0.00759412, -0.4585678 ]), 'y': array([ 2.900919e-17,  4.650055e-19, -2.807918e-17]), 'z': array([1.338767, 1.519579, 1.700391]), 'rearZ': array([1.318255, 1.499068, 1.67988 ]), 'mattype': array(['a1.0.a0.test-module.6457', 'a1.0.a0.test-module.6457',\n",
      "       'a1.0.a0.test-module.6457'], dtype=object), 'rearMat': array(['a1.0.a0.test-module.2310', 'a1.0.a0.test-module.2310',\n",
      "       'a1.0.a0.test-module.2310'], dtype=object), 'Wm2Front': array([252.9921, 253.0892, 253.1863]), 'Wm2Back': array([43.26411, 43.18745, 43.85423]), 'Back/FrontRatio': array([0.17100905, 0.17064055, 0.17320865]), 'backRatio': array([0.17100905, 0.17064055, 0.17320865]), 'rearX': array([ 4.658003e-01, -3.616246e-04, -4.665235e-01]), 'rearY': array([ 2.852204e-17, -2.214312e-20, -2.856633e-17])}]}}\n"
     ]
    }
   ],
   "source": [
    "print(trackerdict)\n",
    "#tracker_dict_sample = {'2021-01-13_1100':trackerdict['2021-01-13_1100']}\n",
    "#eff_irr = tracker_dict_sample['Wm2Front'] + tracker_dict_sample['Wm2Back']\n",
    "Compiled_Results = demo.calculateResults1axis()\n",
    "#calculatePerformanceModule -> calculcateResults()"
   ]
  },
  {
   "cell_type": "code",
   "execution_count": 11,
   "id": "fe18ea62",
   "metadata": {},
   "outputs": [
    {
     "name": "stdout",
     "output_type": "stream",
     "text": [
      "Exporting TrackerDict\n",
      "2\n"
     ]
    },
    {
     "data": {
      "text/html": [
       "<div>\n",
       "<style scoped>\n",
       "    .dataframe tbody tr th:only-of-type {\n",
       "        vertical-align: middle;\n",
       "    }\n",
       "\n",
       "    .dataframe tbody tr th {\n",
       "        vertical-align: top;\n",
       "    }\n",
       "\n",
       "    .dataframe thead th {\n",
       "        text-align: right;\n",
       "    }\n",
       "</style>\n",
       "<table border=\"1\" class=\"dataframe\">\n",
       "  <thead>\n",
       "    <tr style=\"text-align: right;\">\n",
       "      <th></th>\n",
       "      <th>Unnamed: 0</th>\n",
       "      <th>timestamp</th>\n",
       "      <th>rowNum</th>\n",
       "      <th>modNum</th>\n",
       "      <th>sceneNum</th>\n",
       "      <th>name</th>\n",
       "      <th>Wm2Front</th>\n",
       "      <th>Wm2Back</th>\n",
       "      <th>DNI</th>\n",
       "      <th>DHI</th>\n",
       "      <th>...</th>\n",
       "      <th>theta</th>\n",
       "      <th>surf_tilt</th>\n",
       "      <th>surf_azm</th>\n",
       "      <th>POA_eff</th>\n",
       "      <th>Gfront_mean</th>\n",
       "      <th>Grear_mean</th>\n",
       "      <th>Pout_raw</th>\n",
       "      <th>Mismatch</th>\n",
       "      <th>Pout</th>\n",
       "      <th>Pout_Gfront</th>\n",
       "    </tr>\n",
       "  </thead>\n",
       "  <tbody>\n",
       "    <tr>\n",
       "      <th>0</th>\n",
       "      <td>0</td>\n",
       "      <td>2021-01-13_1100</td>\n",
       "      <td>1</td>\n",
       "      <td>2</td>\n",
       "      <td>0</td>\n",
       "      <td>1axis_2021-01-13_1100_Scene0</td>\n",
       "      <td>[253.6018 254.6151 254.3044]</td>\n",
       "      <td>[44.61458 44.93219 45.89365]</td>\n",
       "      <td>144</td>\n",
       "      <td>149</td>\n",
       "      <td>...</td>\n",
       "      <td>-44.14</td>\n",
       "      <td>44.14</td>\n",
       "      <td>90.0</td>\n",
       "      <td>294.805893</td>\n",
       "      <td>254.173767</td>\n",
       "      <td>45.146807</td>\n",
       "      <td>93.226676</td>\n",
       "      <td>0.011420</td>\n",
       "      <td>93.216030</td>\n",
       "      <td>80.280919</td>\n",
       "    </tr>\n",
       "    <tr>\n",
       "      <th>1</th>\n",
       "      <td>1</td>\n",
       "      <td>2021-01-13_1200</td>\n",
       "      <td>1</td>\n",
       "      <td>2</td>\n",
       "      <td>0</td>\n",
       "      <td>1axis_2021-01-13_1200_Scene0</td>\n",
       "      <td>[252.9921 253.0892 253.1863]</td>\n",
       "      <td>[43.26411 43.18745 43.85423]</td>\n",
       "      <td>97</td>\n",
       "      <td>200</td>\n",
       "      <td>...</td>\n",
       "      <td>-21.20</td>\n",
       "      <td>21.20</td>\n",
       "      <td>90.0</td>\n",
       "      <td>292.180937</td>\n",
       "      <td>253.089200</td>\n",
       "      <td>43.435263</td>\n",
       "      <td>91.714260</td>\n",
       "      <td>0.005496</td>\n",
       "      <td>91.709219</td>\n",
       "      <td>79.342954</td>\n",
       "    </tr>\n",
       "  </tbody>\n",
       "</table>\n",
       "<p>2 rows × 23 columns</p>\n",
       "</div>"
      ],
      "text/plain": [
       "   Unnamed: 0        timestamp  rowNum  modNum  sceneNum  \\\n",
       "0           0  2021-01-13_1100       1       2         0   \n",
       "1           1  2021-01-13_1200       1       2         0   \n",
       "\n",
       "                           name                      Wm2Front  \\\n",
       "0  1axis_2021-01-13_1100_Scene0  [253.6018 254.6151 254.3044]   \n",
       "1  1axis_2021-01-13_1200_Scene0  [252.9921 253.0892 253.1863]   \n",
       "\n",
       "                        Wm2Back  DNI  DHI  ...  theta  surf_tilt  surf_azm  \\\n",
       "0  [44.61458 44.93219 45.89365]  144  149  ... -44.14      44.14      90.0   \n",
       "1  [43.26411 43.18745 43.85423]   97  200  ... -21.20      21.20      90.0   \n",
       "\n",
       "      POA_eff  Gfront_mean  Grear_mean   Pout_raw  Mismatch       Pout  \\\n",
       "0  294.805893   254.173767   45.146807  93.226676  0.011420  93.216030   \n",
       "1  292.180937   253.089200   43.435263  91.714260  0.005496  91.709219   \n",
       "\n",
       "   Pout_Gfront  \n",
       "0    80.280919  \n",
       "1    79.342954  \n",
       "\n",
       "[2 rows x 23 columns]"
      ]
     },
     "execution_count": 11,
     "metadata": {},
     "output_type": "execute_result"
    }
   ],
   "source": [
    "demo.exportTrackerDict(savefile=os.path.join('results','Final_Results.csv'),reindex=False)\n",
    "pd.read_csv(os.path.join('results','Final_Results.csv'))"
   ]
  }
 ],
 "metadata": {
  "kernelspec": {
   "display_name": "Python 3 (ipykernel)",
   "language": "python",
   "name": "python3"
  },
  "language_info": {
   "codemirror_mode": {
    "name": "ipython",
    "version": 3
   },
   "file_extension": ".py",
   "mimetype": "text/x-python",
   "name": "python",
   "nbconvert_exporter": "python",
   "pygments_lexer": "ipython3",
   "version": "3.9.13"
  }
 },
 "nbformat": 4,
 "nbformat_minor": 5
}
