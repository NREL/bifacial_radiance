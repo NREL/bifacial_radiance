{
 "cells": [
  {
   "cell_type": "markdown",
   "metadata": {
    "slideshow": {
     "slide_type": "slide"
    }
   },
   "source": [
    "# 1 - Introductory Example: Fixed-Tilt simple setup\n",
    "\n",
    "This jupyter journal will walk us through the creation of the most basic fixed-tilt simulation possible with bifacial_radiance.\n",
    "We will simulate a 1-up landscape system over a white rooftop.\n",
    "\n",
    "Steps include:\n",
    "\n",
    "<ol>\n",
    "    <li> <a href='#step1'> Create a folder for your simulation, and Load bifacial_radiance </a></li> \n",
    "    <li> <a href='#step2'> Create a Radiance Object </a></li> \n",
    "    <li> <a href='#step3'> Set the Albedo </a></li> \n",
    "    <li> <a href='#step4'> Download Weather Files </a></li> \n",
    "    <li> <a href='#step5'> Generate the Sky </a></li> \n",
    "    <li> <a href='#step6'> Define a Module type </a></li> \n",
    "    <li> <a href='#step7'> Create the scene </a></li> \n",
    "    <li> <a href='#step8'> Combine Ground, Sky and Scene Objects </a></li> \n",
    "    <li> <a href='#step9'> Analyze and get results </a></li> \n",
    "    <li> <a href='#step10'> Visualize scene options </a></li>   \n",
    "</ol>\n"
   ]
  },
  {
   "cell_type": "markdown",
   "metadata": {
    "slideshow": {
     "slide_type": "skip"
    }
   },
   "source": [
    "<a id='step1'></a>"
   ]
  },
  {
   "cell_type": "markdown",
   "metadata": {
    "slideshow": {
     "slide_type": "slide"
    }
   },
   "source": [
    "\n",
    "## 1. Create a folder for your simulation, and load bifacial_radiance \n",
    "\n"
   ]
  },
  {
   "cell_type": "code",
   "execution_count": 1,
   "metadata": {
    "slideshow": {
     "slide_type": "-"
    }
   },
   "outputs": [
    {
     "name": "stdout",
     "output_type": "stream",
     "text": [
      "Your simulation will be stored in C:\\Users\\sayala\\Documents\\GitHub\\bifacial_radiance\\bifacial_radiance\\TEMP\\Demo1\n"
     ]
    }
   ],
   "source": [
    "import os\n",
    "testfolder = os.path.abspath(r'..\\..\\bifacial_radiance\\TEMP\\Demo1')  \n",
    "\n",
    "print (\"Your simulation will be stored in %s\" % testfolder)\n"
   ]
  },
  {
   "cell_type": "markdown",
   "metadata": {
    "slideshow": {
     "slide_type": "slide"
    }
   },
   "source": [
    "Load bifacial_radiance"
   ]
  },
  {
   "cell_type": "code",
   "execution_count": 2,
   "metadata": {
    "slideshow": {
     "slide_type": "-"
    }
   },
   "outputs": [],
   "source": [
    "from bifacial_radiance import *\n",
    "\n",
    "import numpy as np"
   ]
  },
  {
   "cell_type": "markdown",
   "metadata": {
    "slideshow": {
     "slide_type": "skip"
    }
   },
   "source": [
    "<a id='step2'></a>"
   ]
  },
  {
   "cell_type": "markdown",
   "metadata": {
    "slideshow": {
     "slide_type": "slide"
    }
   },
   "source": [
    "## 2. Create a Radiance Object"
   ]
  },
  {
   "cell_type": "code",
   "execution_count": 3,
   "metadata": {
    "slideshow": {
     "slide_type": "-"
    }
   },
   "outputs": [
    {
     "name": "stdout",
     "output_type": "stream",
     "text": [
      "path = C:\\Users\\sayala\\Documents\\GitHub\\bifacial_radiance\\bifacial_radiance\\TEMP\\Demo1\n",
      "Making path: images\n",
      "Making path: objects\n",
      "Making path: results\n",
      "Making path: skies\n",
      "Making path: EPWs\n",
      "Making path: materials\n"
     ]
    }
   ],
   "source": [
    "demo = RadianceObj('bifacial_example',testfolder)  "
   ]
  },
  {
   "cell_type": "markdown",
   "metadata": {
    "slideshow": {
     "slide_type": "subslide"
    }
   },
   "source": [
    "This will create all the folder structure of the bifacial_radiance Scene in the designated testfolder in your computer, and it should look like this:\n",
    "\n",
    "\n",
    "<img src=\"..\\images_wiki\\Journal1Pics\\folderStructure.png\">"
   ]
  },
  {
   "cell_type": "markdown",
   "metadata": {
    "slideshow": {
     "slide_type": "skip"
    }
   },
   "source": [
    "<a id='step3'></a>"
   ]
  },
  {
   "cell_type": "markdown",
   "metadata": {
    "slideshow": {
     "slide_type": "slide"
    }
   },
   "source": [
    "## 3. Set the Albedo"
   ]
  },
  {
   "cell_type": "markdown",
   "metadata": {
    "slideshow": {
     "slide_type": "-"
    }
   },
   "source": [
    "If a number between 0 and 1 is passed, it assumes it's an albedo value. For this example, we want a high-reflectivity rooftop albedo surface, so we will set the albedo to 0.62"
   ]
  },
  {
   "cell_type": "code",
   "execution_count": 4,
   "metadata": {
    "slideshow": {
     "slide_type": "-"
    }
   },
   "outputs": [],
   "source": [
    "albedo = 0.62\n",
    "demo.setGround(albedo)"
   ]
  },
  {
   "cell_type": "markdown",
   "metadata": {
    "slideshow": {
     "slide_type": "-"
    }
   },
   "source": [
    "To see more options of ground materials available (located on ground.rad), run this function without any input. "
   ]
  },
  {
   "cell_type": "markdown",
   "metadata": {
    "slideshow": {
     "slide_type": "slide"
    }
   },
   "source": [
    "## 4. Download and Load Weather Files\n",
    "\n",
    "There are various options provided in bifacial_radiance to load weatherfiles. getEPW is useful because you just set the latitude and longitude of the location and it donwloads the meteorologicla data for any location. "
   ]
  },
  {
   "cell_type": "code",
   "execution_count": 5,
   "metadata": {
    "slideshow": {
     "slide_type": "-"
    }
   },
   "outputs": [
    {
     "name": "stdout",
     "output_type": "stream",
     "text": [
      "Getting weather file: USA_VA_Richmond.Intl.AP.724010_TMY.epw\n",
      " ... OK!\n"
     ]
    }
   ],
   "source": [
    "epwfile = demo.getEPW(lat = 37.5, lon = -77.6) "
   ]
  },
  {
   "cell_type": "markdown",
   "metadata": {
    "slideshow": {
     "slide_type": "slide"
    }
   },
   "source": [
    "The downloaded EPW will be in the EPWs folder.\n",
    "\n",
    "To load the data, use readWeatherFile. This reads EPWs, TMY meterological data, or even your own data as long as it follows TMY data format (With any time resoultion)."
   ]
  },
  {
   "cell_type": "code",
   "execution_count": 6,
   "metadata": {
    "slideshow": {
     "slide_type": "-"
    }
   },
   "outputs": [
    {
     "name": "stdout",
     "output_type": "stream",
     "text": [
      "Saving file EPWs\\epw_temp.csv, # points: 8760\n"
     ]
    }
   ],
   "source": [
    "# Read in the weather data pulled in above. \n",
    "metdata = demo.readWeatherFile(epwfile) "
   ]
  },
  {
   "cell_type": "markdown",
   "metadata": {
    "slideshow": {
     "slide_type": "skip"
    }
   },
   "source": [
    "<a id='step5'></a>"
   ]
  },
  {
   "cell_type": "markdown",
   "metadata": {
    "slideshow": {
     "slide_type": "slide"
    }
   },
   "source": [
    "## 5. Generate the Sky.\n",
    "\n",
    "Sky definitions can either be for a single time point with gendaylit function,\n",
    "or using gencumulativesky to generate a cumulativesky for the entire year.\n"
   ]
  },
  {
   "cell_type": "code",
   "execution_count": 7,
   "metadata": {
    "slideshow": {
     "slide_type": "-"
    }
   },
   "outputs": [
    {
     "name": "stdout",
     "output_type": "stream",
     "text": [
      "message: There were 4255 sun up hours in this climate file\r\n",
      "Total Ibh/Lbh: 0.000000\n"
     ]
    }
   ],
   "source": [
    "fullYear = True\n",
    "if fullYear:\n",
    "    demo.genCumSky(demo.epwfile) # entire year.\n",
    "else:\n",
    "    demo.gendaylit(metdata,4020)  # Noon, June 17th (timepoint # 4020)"
   ]
  },
  {
   "cell_type": "markdown",
   "metadata": {
    "slideshow": {
     "slide_type": "slide"
    }
   },
   "source": [
    "The method gencumSky calculates the hourly radiance of the sky hemisphere by dividing it into 145 patches. Then it adds those hourly values to generate one single <b> cumulative sky</b>. Here is a visualization of this patched hemisphere for Richmond, VA, US. Can you deduce from the radiance values of each patch which way is North?\n",
    "\n",
    "<img src=\"../images_wiki/Journal1Pics/cumulativesky.png\">"
   ]
  },
  {
   "cell_type": "markdown",
   "metadata": {
    "slideshow": {
     "slide_type": "subslide"
    }
   },
   "source": [
    "\n",
    "<img src=\"../images_wiki/Journal1Pics/cumulativesky.png\">\n",
    "\n",
    "Answer: Since Richmond is in the Northern Hemisphere, the modules face the south, which is where most of the radiation from the sun is coming. The north in this picture is the darker blue areas."
   ]
  },
  {
   "cell_type": "markdown",
   "metadata": {
    "slideshow": {
     "slide_type": "-"
    }
   },
   "source": [
    "<a id='step6'></a>"
   ]
  },
  {
   "cell_type": "markdown",
   "metadata": {
    "slideshow": {
     "slide_type": "slide"
    }
   },
   "source": [
    "## 6. DEFINE a Module type\n",
    "\n",
    "You can create a custom PV module type. In this case we are defining a module named \"Prism Solar Bi60\", in landscape. The x value defines the size of the module along the row, so for landscape modules x > y. This module measures y = 0.984 x = 1.695. \n",
    "\n",
    "\n",
    "<div class=\"alert alert-success\">\n",
    "You can specify a lot more variables in makeModule like cell-level modules, multiple modules along the Collector Width (CW), torque tubes, spacing between modules, etc. \n",
    "    \n",
    "Reffer to the <a href=\"https://bifacial-radiance.readthedocs.io/en/latest/generated/bifacial_radiance.RadianceObj.makeModule.html#bifacial_radiance.RadianceObj.makeModule\"> Module Documentation </a> and read the following jupyter journals to explore all your options.\n",
    "</div>\n"
   ]
  },
  {
   "cell_type": "code",
   "execution_count": 8,
   "metadata": {
    "slideshow": {
     "slide_type": "subslide"
    }
   },
   "outputs": [
    {
     "name": "stdout",
     "output_type": "stream",
     "text": [
      "\n",
      "Module Name: Prism_Solar_Bi60_landscape\n",
      "Module file did not exist before, creating new module file\n",
      "Module Prism Solar Bi60 landscape successfully created\n"
     ]
    },
    {
     "data": {
      "text/plain": [
       "{'x': 1.695,\n",
       " 'y': 0.984,\n",
       " 'scenex': 1.705,\n",
       " 'sceney': 0.984,\n",
       " 'scenez': 0.15,\n",
       " 'numpanels': 1,\n",
       " 'bifi': 1,\n",
       " 'text': '! genbox black Prism_Solar_Bi60_landscape 1.695 0.984 0.02 | xform -t -0.8475 -0.492 0 -a 1 -t 0 0.984 0',\n",
       " 'modulefile': 'objects\\\\Prism_Solar_Bi60_landscape.rad',\n",
       " 'offsetfromaxis': 0,\n",
       " 'xgap': 0.01,\n",
       " 'ygap': 0.0,\n",
       " 'zgap': 0.1,\n",
       " 'cellModule': None,\n",
       " 'torquetube': {'bool': False,\n",
       "  'diameter': 0.1,\n",
       "  'tubetype': 'Round',\n",
       "  'material': 'Metal_Grey'}}"
      ]
     },
     "execution_count": 8,
     "metadata": {},
     "output_type": "execute_result"
    }
   ],
   "source": [
    "module_type = 'Prism Solar Bi60 landscape' \n",
    "demo.makeModule(name=module_type,x=1.695, y=0.984)\n"
   ]
  },
  {
   "cell_type": "markdown",
   "metadata": {
    "slideshow": {
     "slide_type": "skip"
    }
   },
   "source": [
    "In case you want to use a pre-defined module or a module you've created previously, they are stored in a JSON format in data/module.json, and the options available can be called with printModules:"
   ]
  },
  {
   "cell_type": "code",
   "execution_count": 9,
   "metadata": {
    "slideshow": {
     "slide_type": "skip"
    }
   },
   "outputs": [
    {
     "name": "stdout",
     "output_type": "stream",
     "text": [
      "Available module names: ['Prism Solar Bi60', '2upTracker', 'test', 'Prism Solar Bi60 landscape', 'cellModule', 'Custom Tracker Module', 'SilvanaModule']\n"
     ]
    }
   ],
   "source": [
    "availableModules = demo.printModules()\n"
   ]
  },
  {
   "cell_type": "markdown",
   "metadata": {
    "slideshow": {
     "slide_type": "skip"
    }
   },
   "source": [
    "<a id='step7'></a>"
   ]
  },
  {
   "cell_type": "markdown",
   "metadata": {
    "slideshow": {
     "slide_type": "slide"
    }
   },
   "source": [
    "## 7. Make the Scene\n",
    "\n",
    " The sceneDicitonary specifies the information of the scene, such as number of rows, number of modules per row, azimuth, tilt, clearance_height (distance between the ground and lowest point of the module), pitch or gcr, and any other parameter. \n",
    " \n",
    "<img src=\"../images_wiki/Webinar/scenegoal.png\">\n",
    "\n",
    "\n",
    "Reminder: Azimuth gets measured from N = 0, so for South facing modules azimuth should equal 180 degrees"
   ]
  },
  {
   "cell_type": "code",
   "execution_count": 10,
   "metadata": {
    "slideshow": {
     "slide_type": "subslide"
    }
   },
   "outputs": [],
   "source": [
    "sceneDict = {'tilt':10,'pitch':3,'clearance_height':0.2,'azimuth':180, 'nMods': 3, 'nRows': 3} "
   ]
  },
  {
   "cell_type": "markdown",
   "metadata": {
    "slideshow": {
     "slide_type": "slide"
    }
   },
   "source": [
    "To make the scene we have to create a Scene Object through the method makeScene. This method will create a .rad file in the objects folder, with the parameters specified in sceneDict and the module created above."
   ]
  },
  {
   "cell_type": "code",
   "execution_count": 11,
   "metadata": {
    "slideshow": {
     "slide_type": "-"
    }
   },
   "outputs": [],
   "source": [
    "scene = demo.makeScene(module_type,sceneDict)"
   ]
  },
  {
   "cell_type": "markdown",
   "metadata": {
    "slideshow": {
     "slide_type": "skip"
    }
   },
   "source": [
    "<a id='step8'></a>"
   ]
  },
  {
   "cell_type": "markdown",
   "metadata": {
    "slideshow": {
     "slide_type": "slide"
    }
   },
   "source": [
    "## 8. COMBINE the Ground, Sky, and the Scene Objects\n",
    "\n",
    "Radiance requires an \"Oct\" file that combines the ground, sky and the scene object into it. \n",
    "The method makeOct does this for us."
   ]
  },
  {
   "cell_type": "code",
   "execution_count": 12,
   "metadata": {
    "slideshow": {
     "slide_type": "-"
    }
   },
   "outputs": [
    {
     "name": "stdout",
     "output_type": "stream",
     "text": [
      "Created bifacial_example.oct\n"
     ]
    }
   ],
   "source": [
    "octfile = demo.makeOct(demo.getfilelist())  "
   ]
  },
  {
   "cell_type": "code",
   "execution_count": 13,
   "metadata": {
    "slideshow": {
     "slide_type": "-"
    }
   },
   "outputs": [
    {
     "data": {
      "text/plain": [
       "['materials\\\\ground.rad',\n",
       " 'skies\\\\cumulative.rad',\n",
       " 'objects\\\\Prism_Solar_Bi60_landscape_0.2_3_10_3x3_origin0,0.rad']"
      ]
     },
     "execution_count": 13,
     "metadata": {},
     "output_type": "execute_result"
    }
   ],
   "source": [
    "demo.getfilelist()"
   ]
  },
  {
   "cell_type": "markdown",
   "metadata": {
    "slideshow": {
     "slide_type": "subslide"
    }
   },
   "source": [
    "This is how the octfile looks like (** broke the first line so it would fit in the view, it's usually super long)\n",
    "\n",
    "<img src=\"../images_wiki/Webinar/octfileexample.png\">"
   ]
  },
  {
   "cell_type": "markdown",
   "metadata": {
    "slideshow": {
     "slide_type": "skip"
    }
   },
   "source": [
    "<a id='step9'></a>"
   ]
  },
  {
   "cell_type": "markdown",
   "metadata": {
    "slideshow": {
     "slide_type": "slide"
    }
   },
   "source": [
    "## 9. ANALYZE and get Results\n",
    "\n",
    "Once the octfile tying the scene, ground and sky has been created, we create an Analysis Object. We first have to create an Analysis object, and then we have to specify where the sensors will be located with moduleAnalysis. \n",
    "\n",
    "<img src=\"../images_wiki/Webinar/analysisgoal.png\">\n",
    "\n",
    "Let's query the cente rmodule (default)\n",
    "\n"
   ]
  },
  {
   "cell_type": "markdown",
   "metadata": {
    "slideshow": {
     "slide_type": "slide"
    }
   },
   "source": [
    "First let's create the Analysis Object"
   ]
  },
  {
   "cell_type": "code",
   "execution_count": 14,
   "metadata": {
    "slideshow": {
     "slide_type": "-"
    }
   },
   "outputs": [],
   "source": [
    "analysis = AnalysisObj(octfile, demo.basename)"
   ]
  },
  {
   "cell_type": "markdown",
   "metadata": {
    "slideshow": {
     "slide_type": "-"
    }
   },
   "source": [
    "Then let's specify the sensor location. If no parameters are passed to moduleAnalysis, it will scan the center module of the center row:"
   ]
  },
  {
   "cell_type": "code",
   "execution_count": 15,
   "metadata": {
    "slideshow": {
     "slide_type": "-"
    }
   },
   "outputs": [],
   "source": [
    "frontscan, backscan = analysis.moduleAnalysis(scene)"
   ]
  },
  {
   "cell_type": "markdown",
   "metadata": {
    "slideshow": {
     "slide_type": "slide"
    }
   },
   "source": [
    "The frontscan and backscan include a linescan along a chord of the module, both on the front and back. \n",
    "\n",
    "<img src=\"../images_wiki/Journal1Pics/frontscan_backscan.png\">\n",
    "Analysis saves the measured irradiances in the front and in the back on the results folder. "
   ]
  },
  {
   "cell_type": "code",
   "execution_count": 16,
   "metadata": {
    "slideshow": {
     "slide_type": "slide"
    }
   },
   "outputs": [
    {
     "name": "stdout",
     "output_type": "stream",
     "text": [
      "Linescan in process: bifacial_example_Front\n",
      "Linescan in process: bifacial_example_Back\n",
      "Saved: results\\irr_bifacial_example.csv\n"
     ]
    }
   ],
   "source": [
    "results = analysis.analysis(octfile, demo.basename, frontscan, backscan)  "
   ]
  },
  {
   "cell_type": "markdown",
   "metadata": {
    "slideshow": {
     "slide_type": "skip"
    }
   },
   "source": [
    "The results are also automatically saved in the results folder. Some of our input/output functions can be used to read the results and work with them, for example:"
   ]
  },
  {
   "cell_type": "code",
   "execution_count": 17,
   "metadata": {
    "slideshow": {
     "slide_type": "slide"
    }
   },
   "outputs": [
    {
     "data": {
      "text/html": [
       "<div>\n",
       "<style scoped>\n",
       "    .dataframe tbody tr th:only-of-type {\n",
       "        vertical-align: middle;\n",
       "    }\n",
       "\n",
       "    .dataframe tbody tr th {\n",
       "        vertical-align: top;\n",
       "    }\n",
       "\n",
       "    .dataframe thead th {\n",
       "        text-align: right;\n",
       "    }\n",
       "</style>\n",
       "<table border=\"1\" class=\"dataframe\">\n",
       "  <thead>\n",
       "    <tr style=\"text-align: right;\">\n",
       "      <th></th>\n",
       "      <th>x</th>\n",
       "      <th>y</th>\n",
       "      <th>z</th>\n",
       "      <th>rearZ</th>\n",
       "      <th>mattype</th>\n",
       "      <th>rearMat</th>\n",
       "      <th>Wm2Front</th>\n",
       "      <th>Wm2Back</th>\n",
       "      <th>Back/FrontRatio</th>\n",
       "    </tr>\n",
       "  </thead>\n",
       "  <tbody>\n",
       "    <tr>\n",
       "      <th>0</th>\n",
       "      <td>4.746980e-17</td>\n",
       "      <td>-3.876203e-01</td>\n",
       "      <td>0.277087</td>\n",
       "      <td>0.187087</td>\n",
       "      <td>a1.1.a0.Prism_Solar_Bi60_landscape.6457</td>\n",
       "      <td>a1.1.a0.Prism_Solar_Bi60_landscape.2310</td>\n",
       "      <td>1534932.0</td>\n",
       "      <td>375901.6</td>\n",
       "      <td>0.244898</td>\n",
       "    </tr>\n",
       "    <tr>\n",
       "      <th>1</th>\n",
       "      <td>3.560235e-17</td>\n",
       "      <td>-2.907152e-01</td>\n",
       "      <td>0.294174</td>\n",
       "      <td>0.204174</td>\n",
       "      <td>a1.1.a0.Prism_Solar_Bi60_landscape.6457</td>\n",
       "      <td>a1.1.a0.Prism_Solar_Bi60_landscape.2310</td>\n",
       "      <td>1535284.0</td>\n",
       "      <td>315923.7</td>\n",
       "      <td>0.205775</td>\n",
       "    </tr>\n",
       "    <tr>\n",
       "      <th>2</th>\n",
       "      <td>2.373490e-17</td>\n",
       "      <td>-1.938102e-01</td>\n",
       "      <td>0.311261</td>\n",
       "      <td>0.221261</td>\n",
       "      <td>a1.1.a0.Prism_Solar_Bi60_landscape.6457</td>\n",
       "      <td>a1.1.a0.Prism_Solar_Bi60_landscape.2310</td>\n",
       "      <td>1535616.0</td>\n",
       "      <td>247375.7</td>\n",
       "      <td>0.161092</td>\n",
       "    </tr>\n",
       "    <tr>\n",
       "      <th>3</th>\n",
       "      <td>1.186745e-17</td>\n",
       "      <td>-9.690508e-02</td>\n",
       "      <td>0.328348</td>\n",
       "      <td>0.238348</td>\n",
       "      <td>a1.1.a0.Prism_Solar_Bi60_landscape.6457</td>\n",
       "      <td>a1.1.a0.Prism_Solar_Bi60_landscape.2310</td>\n",
       "      <td>1535949.0</td>\n",
       "      <td>204295.9</td>\n",
       "      <td>0.133010</td>\n",
       "    </tr>\n",
       "    <tr>\n",
       "      <th>4</th>\n",
       "      <td>-1.232595e-32</td>\n",
       "      <td>5.551115e-17</td>\n",
       "      <td>0.345435</td>\n",
       "      <td>0.255435</td>\n",
       "      <td>a1.1.a0.Prism_Solar_Bi60_landscape.6457</td>\n",
       "      <td>a1.1.a0.Prism_Solar_Bi60_landscape.2310</td>\n",
       "      <td>1536281.0</td>\n",
       "      <td>192051.9</td>\n",
       "      <td>0.125011</td>\n",
       "    </tr>\n",
       "    <tr>\n",
       "      <th>5</th>\n",
       "      <td>-1.186745e-17</td>\n",
       "      <td>9.690508e-02</td>\n",
       "      <td>0.362522</td>\n",
       "      <td>0.272522</td>\n",
       "      <td>a1.1.a0.Prism_Solar_Bi60_landscape.6457</td>\n",
       "      <td>a1.1.a0.Prism_Solar_Bi60_landscape.2310</td>\n",
       "      <td>1536613.0</td>\n",
       "      <td>198235.5</td>\n",
       "      <td>0.129008</td>\n",
       "    </tr>\n",
       "    <tr>\n",
       "      <th>6</th>\n",
       "      <td>-2.373490e-17</td>\n",
       "      <td>1.938102e-01</td>\n",
       "      <td>0.379609</td>\n",
       "      <td>0.289609</td>\n",
       "      <td>a1.1.a0.Prism_Solar_Bi60_landscape.6457</td>\n",
       "      <td>a1.1.a0.Prism_Solar_Bi60_landscape.2310</td>\n",
       "      <td>1536945.0</td>\n",
       "      <td>225062.7</td>\n",
       "      <td>0.146435</td>\n",
       "    </tr>\n",
       "    <tr>\n",
       "      <th>7</th>\n",
       "      <td>-3.560235e-17</td>\n",
       "      <td>2.907152e-01</td>\n",
       "      <td>0.396696</td>\n",
       "      <td>0.306696</td>\n",
       "      <td>a1.1.a0.Prism_Solar_Bi60_landscape.6457</td>\n",
       "      <td>a1.1.a0.Prism_Solar_Bi60_landscape.2310</td>\n",
       "      <td>1523884.0</td>\n",
       "      <td>264595.0</td>\n",
       "      <td>0.173632</td>\n",
       "    </tr>\n",
       "    <tr>\n",
       "      <th>8</th>\n",
       "      <td>-4.746980e-17</td>\n",
       "      <td>3.876203e-01</td>\n",
       "      <td>0.413783</td>\n",
       "      <td>0.323783</td>\n",
       "      <td>a1.1.a0.Prism_Solar_Bi60_landscape.6457</td>\n",
       "      <td>a1.1.a0.Prism_Solar_Bi60_landscape.2310</td>\n",
       "      <td>1523930.0</td>\n",
       "      <td>316402.1</td>\n",
       "      <td>0.207622</td>\n",
       "    </tr>\n",
       "  </tbody>\n",
       "</table>\n",
       "</div>"
      ],
      "text/plain": [
       "              x             y         z     rearZ  \\\n",
       "0  4.746980e-17 -3.876203e-01  0.277087  0.187087   \n",
       "1  3.560235e-17 -2.907152e-01  0.294174  0.204174   \n",
       "2  2.373490e-17 -1.938102e-01  0.311261  0.221261   \n",
       "3  1.186745e-17 -9.690508e-02  0.328348  0.238348   \n",
       "4 -1.232595e-32  5.551115e-17  0.345435  0.255435   \n",
       "5 -1.186745e-17  9.690508e-02  0.362522  0.272522   \n",
       "6 -2.373490e-17  1.938102e-01  0.379609  0.289609   \n",
       "7 -3.560235e-17  2.907152e-01  0.396696  0.306696   \n",
       "8 -4.746980e-17  3.876203e-01  0.413783  0.323783   \n",
       "\n",
       "                                   mattype  \\\n",
       "0  a1.1.a0.Prism_Solar_Bi60_landscape.6457   \n",
       "1  a1.1.a0.Prism_Solar_Bi60_landscape.6457   \n",
       "2  a1.1.a0.Prism_Solar_Bi60_landscape.6457   \n",
       "3  a1.1.a0.Prism_Solar_Bi60_landscape.6457   \n",
       "4  a1.1.a0.Prism_Solar_Bi60_landscape.6457   \n",
       "5  a1.1.a0.Prism_Solar_Bi60_landscape.6457   \n",
       "6  a1.1.a0.Prism_Solar_Bi60_landscape.6457   \n",
       "7  a1.1.a0.Prism_Solar_Bi60_landscape.6457   \n",
       "8  a1.1.a0.Prism_Solar_Bi60_landscape.6457   \n",
       "\n",
       "                                   rearMat   Wm2Front   Wm2Back  \\\n",
       "0  a1.1.a0.Prism_Solar_Bi60_landscape.2310  1534932.0  375901.6   \n",
       "1  a1.1.a0.Prism_Solar_Bi60_landscape.2310  1535284.0  315923.7   \n",
       "2  a1.1.a0.Prism_Solar_Bi60_landscape.2310  1535616.0  247375.7   \n",
       "3  a1.1.a0.Prism_Solar_Bi60_landscape.2310  1535949.0  204295.9   \n",
       "4  a1.1.a0.Prism_Solar_Bi60_landscape.2310  1536281.0  192051.9   \n",
       "5  a1.1.a0.Prism_Solar_Bi60_landscape.2310  1536613.0  198235.5   \n",
       "6  a1.1.a0.Prism_Solar_Bi60_landscape.2310  1536945.0  225062.7   \n",
       "7  a1.1.a0.Prism_Solar_Bi60_landscape.2310  1523884.0  264595.0   \n",
       "8  a1.1.a0.Prism_Solar_Bi60_landscape.2310  1523930.0  316402.1   \n",
       "\n",
       "   Back/FrontRatio  \n",
       "0         0.244898  \n",
       "1         0.205775  \n",
       "2         0.161092  \n",
       "3         0.133010  \n",
       "4         0.125011  \n",
       "5         0.129008  \n",
       "6         0.146435  \n",
       "7         0.173632  \n",
       "8         0.207622  "
      ]
     },
     "execution_count": 17,
     "metadata": {},
     "output_type": "execute_result"
    }
   ],
   "source": [
    "load.read1Result('results\\irr_bifacial_example.csv')"
   ]
  },
  {
   "cell_type": "markdown",
   "metadata": {
    "slideshow": {
     "slide_type": "slide"
    }
   },
   "source": [
    "As can be seen in the results for the *Wm2Front* and *WM2Back*, the irradiance values are quite high. This is because a cumulative sky simulation was performed on <b> step 5 </b>, so this is the total irradiance over all the hours of the year that the module at each sampling point will receive. Dividing the back irradiance average by the front irradiance average will give us the bifacial gain for the year:\n",
    "\n",
    "<img src=\"../images_wiki/Journal1Pics/BGG_Formula.png\">\n",
    "\n",
    "Assuming that our module from Prism Solar has a bifaciality factor (rear to front performance) of 90%, our <u> bifacial gain </u> is of:"
   ]
  },
  {
   "cell_type": "code",
   "execution_count": 18,
   "metadata": {
    "slideshow": {
     "slide_type": "subslide"
    }
   },
   "outputs": [
    {
     "name": "stdout",
     "output_type": "stream",
     "text": [
      "Annual bifacial ratio: 0.15 \n"
     ]
    }
   ],
   "source": [
    "bifacialityfactor = 0.9\n",
    "print('Annual bifacial ratio: %0.2f ' %( np.mean(analysis.Wm2Back) * bifacialityfactor / np.mean(analysis.Wm2Front)) )\n"
   ]
  },
  {
   "cell_type": "markdown",
   "metadata": {
    "slideshow": {
     "slide_type": "slide"
    }
   },
   "source": [
    "### ANALYZE and get Results for another module\n",
    "\n",
    "You can select what module you want to sample.\n",
    "\n",
    "<img src=\"../images_wiki/Webinar/analysisgoal2.png\">\n"
   ]
  },
  {
   "cell_type": "code",
   "execution_count": 19,
   "metadata": {
    "slideshow": {
     "slide_type": "slide"
    }
   },
   "outputs": [
    {
     "name": "stdout",
     "output_type": "stream",
     "text": [
      "Linescan in process: bifacial_example_Mod1Row1_Front\n",
      "Linescan in process: bifacial_example_Mod1Row1_Back\n",
      "Saved: results\\irr_bifacial_example_Mod1Row1.csv\n"
     ]
    }
   ],
   "source": [
    "modWanted=1\n",
    "rowWanted=1\n",
    "sensorsy=4\n",
    "resultsfilename = demo.basename+\"_Mod1Row1\"\n",
    "\n",
    "frontscan, backscan = analysis.moduleAnalysis(scene, modWanted = modWanted, rowWanted=rowWanted, sensorsy=sensorsy)\n",
    "results = analysis.analysis(octfile, resultsfilename, frontscan, backscan)  "
   ]
  },
  {
   "cell_type": "code",
   "execution_count": 20,
   "metadata": {
    "slideshow": {
     "slide_type": "slide"
    }
   },
   "outputs": [
    {
     "data": {
      "text/html": [
       "<div>\n",
       "<style scoped>\n",
       "    .dataframe tbody tr th:only-of-type {\n",
       "        vertical-align: middle;\n",
       "    }\n",
       "\n",
       "    .dataframe tbody tr th {\n",
       "        vertical-align: top;\n",
       "    }\n",
       "\n",
       "    .dataframe thead th {\n",
       "        text-align: right;\n",
       "    }\n",
       "</style>\n",
       "<table border=\"1\" class=\"dataframe\">\n",
       "  <thead>\n",
       "    <tr style=\"text-align: right;\">\n",
       "      <th></th>\n",
       "      <th>x</th>\n",
       "      <th>y</th>\n",
       "      <th>z</th>\n",
       "      <th>rearZ</th>\n",
       "      <th>mattype</th>\n",
       "      <th>rearMat</th>\n",
       "      <th>Wm2Front</th>\n",
       "      <th>Wm2Back</th>\n",
       "      <th>Back/FrontRatio</th>\n",
       "    </tr>\n",
       "  </thead>\n",
       "  <tbody>\n",
       "    <tr>\n",
       "      <th>0</th>\n",
       "      <td>-1.705</td>\n",
       "      <td>-3.290715</td>\n",
       "      <td>0.294174</td>\n",
       "      <td>0.204174</td>\n",
       "      <td>a0.0.a0.Prism_Solar_Bi60_landscape.6457</td>\n",
       "      <td>a0.0.a0.Prism_Solar_Bi60_landscape.2310</td>\n",
       "      <td>1534030.0</td>\n",
       "      <td>307095.8</td>\n",
       "      <td>0.200189</td>\n",
       "    </tr>\n",
       "    <tr>\n",
       "      <th>1</th>\n",
       "      <td>-1.705</td>\n",
       "      <td>-3.096905</td>\n",
       "      <td>0.328348</td>\n",
       "      <td>0.238348</td>\n",
       "      <td>a0.0.a0.Prism_Solar_Bi60_landscape.6457</td>\n",
       "      <td>a0.0.a0.Prism_Solar_Bi60_landscape.2310</td>\n",
       "      <td>1533973.0</td>\n",
       "      <td>282989.9</td>\n",
       "      <td>0.184482</td>\n",
       "    </tr>\n",
       "    <tr>\n",
       "      <th>2</th>\n",
       "      <td>-1.705</td>\n",
       "      <td>-2.903095</td>\n",
       "      <td>0.362522</td>\n",
       "      <td>0.272522</td>\n",
       "      <td>a0.0.a0.Prism_Solar_Bi60_landscape.6457</td>\n",
       "      <td>a0.0.a0.Prism_Solar_Bi60_landscape.2310</td>\n",
       "      <td>1533897.0</td>\n",
       "      <td>339068.1</td>\n",
       "      <td>0.221050</td>\n",
       "    </tr>\n",
       "    <tr>\n",
       "      <th>3</th>\n",
       "      <td>-1.705</td>\n",
       "      <td>-2.709285</td>\n",
       "      <td>0.396696</td>\n",
       "      <td>0.306696</td>\n",
       "      <td>a0.0.a0.Prism_Solar_Bi60_landscape.6457</td>\n",
       "      <td>a0.0.a0.Prism_Solar_Bi60_landscape.2310</td>\n",
       "      <td>1533821.0</td>\n",
       "      <td>392297.6</td>\n",
       "      <td>0.255765</td>\n",
       "    </tr>\n",
       "  </tbody>\n",
       "</table>\n",
       "</div>"
      ],
      "text/plain": [
       "       x         y         z     rearZ  \\\n",
       "0 -1.705 -3.290715  0.294174  0.204174   \n",
       "1 -1.705 -3.096905  0.328348  0.238348   \n",
       "2 -1.705 -2.903095  0.362522  0.272522   \n",
       "3 -1.705 -2.709285  0.396696  0.306696   \n",
       "\n",
       "                                   mattype  \\\n",
       "0  a0.0.a0.Prism_Solar_Bi60_landscape.6457   \n",
       "1  a0.0.a0.Prism_Solar_Bi60_landscape.6457   \n",
       "2  a0.0.a0.Prism_Solar_Bi60_landscape.6457   \n",
       "3  a0.0.a0.Prism_Solar_Bi60_landscape.6457   \n",
       "\n",
       "                                   rearMat   Wm2Front   Wm2Back  \\\n",
       "0  a0.0.a0.Prism_Solar_Bi60_landscape.2310  1534030.0  307095.8   \n",
       "1  a0.0.a0.Prism_Solar_Bi60_landscape.2310  1533973.0  282989.9   \n",
       "2  a0.0.a0.Prism_Solar_Bi60_landscape.2310  1533897.0  339068.1   \n",
       "3  a0.0.a0.Prism_Solar_Bi60_landscape.2310  1533821.0  392297.6   \n",
       "\n",
       "   Back/FrontRatio  \n",
       "0         0.200189  \n",
       "1         0.184482  \n",
       "2         0.221050  \n",
       "3         0.255765  "
      ]
     },
     "execution_count": 20,
     "metadata": {},
     "output_type": "execute_result"
    }
   ],
   "source": [
    "load.read1Result('results\\irr_bifacial_example_Mod1Row1.csv')"
   ]
  },
  {
   "cell_type": "markdown",
   "metadata": {
    "slideshow": {
     "slide_type": "skip"
    }
   },
   "source": [
    "<a id='step10'></a>"
   ]
  },
  {
   "cell_type": "markdown",
   "metadata": {
    "slideshow": {
     "slide_type": "slide"
    }
   },
   "source": [
    "## 10. View / Render the Scene\n",
    "\n",
    "If you used gencumsky or gendaylit, you can view the <b> Scene </b> by navigating on a command line to the folder and typing:\n",
    "\n",
    "##### objview materials\\ground.rad objects\\Prism_Solar_Bi60_landscape_0.2_3_10_20x7_origin0,0.rad     \n",
    "\n",
    "This <b> objview </b> has 3 different light sources of its own, so the shading is not representative.\n",
    "\n",
    "ONLY If you used <b> gendaylit </b>, you can view the scene correctly illuminated with the sky you generated after generating the oct file, with \n",
    "\n",
    "##### rvu -vf views\\front.vp -e .01 bifacial_example.oct\n",
    "\n",
    "The <b> rvu </b> manual can be found here: manual page here: http://radsite.lbl.gov/radiance/rvu.1.html\n"
   ]
  },
  {
   "cell_type": "markdown",
   "metadata": {
    "slideshow": {
     "slide_type": "slide"
    }
   },
   "source": [
    "\n",
    "Or you can also use the code below from bifacial_radiance to generate an *.HDR* rendered image of the scene. You can choose from front view or side view in the views folder:"
   ]
  },
  {
   "cell_type": "code",
   "execution_count": 21,
   "metadata": {
    "slideshow": {
     "slide_type": "-"
    }
   },
   "outputs": [
    {
     "name": "stdout",
     "output_type": "stream",
     "text": [
      "Generating visible render of scene\n",
      "Generating scene in WM-2. This may take some time.\n",
      "Saving scene in false color\n"
     ]
    }
   ],
   "source": [
    "# Make a color render and falsecolor image of the scene.\n",
    "analysis.makeImage('side.vp')\n",
    "analysis.makeFalseColor('side.vp')"
   ]
  },
  {
   "cell_type": "markdown",
   "metadata": {
    "slideshow": {
     "slide_type": "slide"
    }
   },
   "source": [
    "This is how the False Color image stored in images folder should look like:\n",
    "\n",
    "<img src=\"../images_wiki/Journal1Pics/openhdr_FalseColorExample.png\">"
   ]
  },
  {
   "cell_type": "markdown",
   "metadata": {
    "slideshow": {
     "slide_type": "-"
    }
   },
   "source": [
    "Files are saved as .hdr (high definition render) files.  Try LuminanceHDR viewer (free) to view them, or https://viewer.openhdr.org/ \n",
    "\n"
   ]
  }
 ],
 "metadata": {
  "anaconda-cloud": {},
  "celltoolbar": "Slideshow",
  "kernelspec": {
   "display_name": "Python 3",
   "language": "python",
   "name": "python3"
  },
  "language_info": {
   "codemirror_mode": {
    "name": "ipython",
    "version": 3
   },
   "file_extension": ".py",
   "mimetype": "text/x-python",
   "name": "python",
   "nbconvert_exporter": "python",
   "pygments_lexer": "ipython3",
   "version": "3.7.3"
  }
 },
 "nbformat": 4,
 "nbformat_minor": 1
}
