{
 "cells": [
  {
   "cell_type": "code",
   "execution_count": null,
   "metadata": {},
   "outputs": [],
   "source": [
    "# This information helps with debugging and getting support :)\n",
    "import sys, platform\n",
    "import pandas as pd\n",
    "import bifacial_radiance as br\n",
    "print(\"Working on a \", platform.system(), platform.release())\n",
    "print(\"Python version \", sys.version)\n",
    "print(\"Pandas version \", pd.__version__)\n",
    "print(\"bifacial_radiance version \", br.__version__)"
   ]
  },
  {
   "cell_type": "markdown",
   "metadata": {},
   "source": [
    "# 14 - Cement Racking Albedo Improvements\n",
    "\n",
    "This journal creates a paver underneath the single-axis trackers, and evaluates the improvement for one day -- June 17th with and without the pavers for a location in Davis, CA.\n",
    "\n",
    "![Paver](../images_wiki/AdvancedJournals/Pavers.PNG)\n"
   ]
  },
  {
   "cell_type": "markdown",
   "metadata": {},
   "source": [
    "Measurements:\n",
    "![Paver](../images_wiki/AdvancedJournals/Pavers_Geometry.PNG)"
   ]
  },
  {
   "cell_type": "code",
   "execution_count": 1,
   "metadata": {},
   "outputs": [
    {
     "name": "stdout",
     "output_type": "stream",
     "text": [
      "Your simulation will be stored in C:\\Users\\mprillim\\sam_dev\\bifacial_radiance\\bifacial_radiance\\TEMP\\Tutorial_14\n"
     ]
    }
   ],
   "source": [
    "import os\n",
    "from pathlib import Path\n",
    "import pandas as pd\n",
    "\n",
    "testfolder = str(Path().resolve().parent.parent / 'bifacial_radiance' / 'TEMP' / 'Tutorial_14')\n",
    "if not os.path.exists(testfolder):\n",
    "    os.makedirs(testfolder)\n",
    "    \n",
    "print (\"Your simulation will be stored in %s\" % testfolder)"
   ]
  },
  {
   "cell_type": "code",
   "execution_count": 2,
   "metadata": {},
   "outputs": [],
   "source": [
    "from bifacial_radiance import *   \n",
    "import numpy as np"
   ]
  },
  {
   "cell_type": "code",
   "execution_count": 3,
   "metadata": {},
   "outputs": [
    {
     "name": "stdout",
     "output_type": "stream",
     "text": [
      "path = C:\\Users\\mprillim\\sam_dev\\bifacial_radiance\\bifacial_radiance\\TEMP\\Tutorial_14\n",
      "Loading albedo, 1 value(s), 0.200 avg\n",
      "1 nonzero albedo values.\n",
      "Getting weather file: USA_CA_Sacramento.Metro.AP.724839_TMY3.epw\n",
      " ... OK!\n",
      "8760 line in WeatherFile. Assuming this is a standard hourly WeatherFile for the year for purposes of saving Gencumulativesky temporary weather files in EPW folder.\n",
      "Coercing year to 2021\n",
      "Saving file EPWs\\metdata_temp.csv, # points: 8760\n",
      "Calculating Sun position for Metdata that is right-labeled  with a delta of -30 mins. i.e. 12 is 11:30 sunpos\n",
      "\n",
      "Module Name: test-module\n",
      "Module test-module updated in module.json\n",
      "Pre-existing .rad file objects\\test-module.rad will be overwritten\n",
      "\n",
      "Module was shifted by 0.078 in X to avoid sensors on air\n",
      "This is a Cell-Level detailed module with Packaging Factor of 0.85 %\n",
      "Module test-module updated in module.json\n",
      "Pre-existing .rad file objects\\test-module.rad will be overwritten\n",
      "\n"
     ]
    }
   ],
   "source": [
    "simulationname = 'tutorial_14'\n",
    "\n",
    "#Location:\n",
    "lat = 38.5449 # Davis, CA\n",
    "lon = -121.7405 # Davis, CA\n",
    "# MakeModule Parameters\n",
    "moduletype='test-module'\n",
    "numpanels = 1  # AgriPV site has 3 modules along the y direction (N-S since we are facing it to the south) .\n",
    "x = 0.95  \n",
    "y = 1.838\n",
    "xgap = 0.02# Leaving 2 centimeters between modules on x direction\n",
    "ygap = 0.0 # 1 - up \n",
    "zgap = 0.06 # gap between modules and torquetube.\n",
    "\n",
    "# Other default values:\n",
    "\n",
    "# TorqueTube Parameters\n",
    "axisofrotationTorqueTube=True\n",
    "torqueTube = False\n",
    "cellLevelModule = True\n",
    "\n",
    "numcellsx = 6\n",
    "numcellsy = 10\n",
    "xcell = 0.156\n",
    "ycell = 0.158\n",
    "xcellgap = 0.015\n",
    "ycellgap = 0.015\n",
    "\n",
    "sensorsy = numcellsy   # one sensor per cell\n",
    "\n",
    "cellLevelModuleParams = {'numcellsx': numcellsx, 'numcellsy':numcellsy, \n",
    "                         'xcell': xcell, 'ycell': ycell, 'xcellgap': xcellgap, 'ycellgap': ycellgap}\n",
    "\n",
    "# SceneDict Parameters\n",
    "gcr = 0.33 # m\n",
    "albedo = 0.2  #'grass'     # ground albedo\n",
    "hub_height = 1.237 # m  \n",
    "nMods = 20 # six modules per row.\n",
    "nRows = 3  # 3 row\n",
    "\n",
    "azimuth_ang = 90 # Facing east \n",
    "\n",
    "\n",
    "demo = RadianceObj(simulationname,path = testfolder)  # Create a RadianceObj 'object'\n",
    "demo.setGround(albedo) #\n",
    "epwfile = demo.getEPW(lat, lon) \n",
    "metdata = demo.readWeatherFile(epwfile, coerce_year=2021) # read in the EPW weather data from above\n",
    "mymodule=demo.makeModule(name=moduletype,x=x,y=y,numpanels = numpanels, xgap=xgap, ygap=ygap)\n",
    "mymodule.addCellModule(numcellsx=numcellsx, numcellsy=numcellsy,\n",
    "                       xcell=xcell, ycell=ycell, xcellgap=xcellgap, ycellgap=ycellgap)\n"
   ]
  },
  {
   "cell_type": "code",
   "execution_count": 4,
   "metadata": {},
   "outputs": [
    {
     "name": "stdout",
     "output_type": "stream",
     "text": [
      "Material exists, overwriting...\n",
      "\n",
      "Added material sw_chantillywhite to file ground.rad\n"
     ]
    }
   ],
   "source": [
    "description = 'Sherman Williams \"Chantilly White\" acrylic paint'\n",
    "materialpav = 'sw_chantillywhite'\n",
    "Rrefl = 0.5\n",
    "Grefl = 0.5 \n",
    "Brefl = 0.5\n",
    "demo.addMaterial(material=materialpav, Rrefl=Rrefl, Grefl=Grefl, Brefl=Brefl, comment=description)"
   ]
  },
  {
   "cell_type": "markdown",
   "metadata": {},
   "source": [
    "## Simulation without Pavers"
   ]
  },
  {
   "cell_type": "code",
   "execution_count": 5,
   "metadata": {},
   "outputs": [
    {
     "name": "stdout",
     "output_type": "stream",
     "text": [
      "Created tutorial_14.oct\n"
     ]
    }
   ],
   "source": [
    "timeindex = metdata.datetime.index(pd.to_datetime('2021-06-17 12:0:0 -8'))  # Davis, CA is TZ -8\n",
    "demo.gendaylit(timeindex)  \n",
    "    \n",
    "tilt = demo.getSingleTimestampTrackerAngle(metdata, timeindex=timeindex, gcr=gcr, \n",
    "                                   azimuth=180, axis_tilt=0, \n",
    "                                   limit_angle=60, backtrack=True)\n",
    "# create a scene with all the variables\n",
    "sceneDict = {'tilt':tilt,'gcr': gcr,'hub_height':hub_height,'azimuth':azimuth_ang, 'module_type':moduletype, 'nMods': nMods, 'nRows': nRows}  \n",
    "scene = demo.makeScene(module=mymodule, sceneDict=sceneDict) #makeScene creates a .rad file with 20 modules per row, 7 rows.\n",
    "octfile = demo.makeOct(demo.getfilelist())  # makeOct combines all of the ground, sky and object fil|es into a .oct file."
   ]
  },
  {
   "cell_type": "code",
   "execution_count": 6,
   "metadata": {},
   "outputs": [
    {
     "name": "stdout",
     "output_type": "stream",
     "text": [
      "Linescan in process: tutorial_14_noPavers_Front\n",
      "Linescan in process: tutorial_14_noPavers_Back\n",
      "Saved: results\\irr_tutorial_14_noPavers.csv\n",
      "Simulation without Pavers Finished\n"
     ]
    }
   ],
   "source": [
    "analysis = AnalysisObj(octfile, demo.name)  # return an analysis object including the scan dimensions for back irradiance\n",
    "frontscan, backscan = analysis.moduleAnalysis(scene, sensorsy=sensorsy)\n",
    "analysis.analysis(octfile, simulationname+\"_noPavers\", frontscan, backscan)  # compare the back vs front irradiance  \n",
    "print(\"Simulation without Pavers Finished\")"
   ]
  },
  {
   "cell_type": "markdown",
   "metadata": {},
   "source": [
    "## Looping on the day"
   ]
  },
  {
   "cell_type": "code",
   "execution_count": 7,
   "metadata": {},
   "outputs": [
    {
     "name": "stdout",
     "output_type": "stream",
     "text": [
      "Created tutorial_14.oct\n",
      "Linescan in process: tutorial_14_noPavers_1_Front\n",
      "Linescan in process: tutorial_14_noPavers_1_Back\n",
      "Saved: results\\irr_tutorial_14_noPavers_1.csv\n",
      "Created tutorial_14.oct\n",
      "Linescan in process: tutorial_14_noPavers_2_Front\n",
      "Linescan in process: tutorial_14_noPavers_2_Back\n",
      "Saved: results\\irr_tutorial_14_noPavers_2.csv\n",
      "Created tutorial_14.oct\n",
      "Linescan in process: tutorial_14_noPavers_3_Front\n",
      "Linescan in process: tutorial_14_noPavers_3_Back\n",
      "Saved: results\\irr_tutorial_14_noPavers_3.csv\n",
      "Created tutorial_14.oct\n",
      "Linescan in process: tutorial_14_noPavers_4_Front\n",
      "Linescan in process: tutorial_14_noPavers_4_Back\n",
      "Saved: results\\irr_tutorial_14_noPavers_4.csv\n",
      "Created tutorial_14.oct\n",
      "Linescan in process: tutorial_14_noPavers_5_Front\n",
      "Linescan in process: tutorial_14_noPavers_5_Back\n",
      "Saved: results\\irr_tutorial_14_noPavers_5.csv\n",
      "Created tutorial_14.oct\n",
      "Linescan in process: tutorial_14_noPavers_6_Front\n",
      "Linescan in process: tutorial_14_noPavers_6_Back\n",
      "Saved: results\\irr_tutorial_14_noPavers_6.csv\n",
      "Created tutorial_14.oct\n",
      "Linescan in process: tutorial_14_noPavers_7_Front\n",
      "Linescan in process: tutorial_14_noPavers_7_Back\n",
      "Saved: results\\irr_tutorial_14_noPavers_7.csv\n",
      "Created tutorial_14.oct\n",
      "Linescan in process: tutorial_14_noPavers_8_Front\n",
      "Linescan in process: tutorial_14_noPavers_8_Back\n",
      "Saved: results\\irr_tutorial_14_noPavers_8.csv\n",
      "Created tutorial_14.oct\n",
      "Linescan in process: tutorial_14_noPavers_9_Front\n",
      "Linescan in process: tutorial_14_noPavers_9_Back\n",
      "Saved: results\\irr_tutorial_14_noPavers_9.csv\n",
      "Created tutorial_14.oct\n",
      "Linescan in process: tutorial_14_noPavers_10_Front\n",
      "Linescan in process: tutorial_14_noPavers_10_Back\n",
      "Saved: results\\irr_tutorial_14_noPavers_10.csv\n",
      "Created tutorial_14.oct\n",
      "Linescan in process: tutorial_14_noPavers_11_Front\n",
      "Linescan in process: tutorial_14_noPavers_11_Back\n",
      "Saved: results\\irr_tutorial_14_noPavers_11.csv\n",
      "Created tutorial_14.oct\n",
      "Linescan in process: tutorial_14_noPavers_12_Front\n",
      "Linescan in process: tutorial_14_noPavers_12_Back\n",
      "Saved: results\\irr_tutorial_14_noPavers_12.csv\n"
     ]
    }
   ],
   "source": [
    "j=0\n",
    "starttimeindex = metdata.datetime.index(pd.to_datetime('2021-06-17 7:0:0 -8'))\n",
    "endtimeindex = metdata.datetime.index(pd.to_datetime('2021-06-17 19:0:0 -8'))\n",
    "for timess in range (starttimeindex, endtimeindex):\n",
    "    j+=1\n",
    "    demo.gendaylit(timess)\n",
    "    tilt = demo.getSingleTimestampTrackerAngle(metdata, timeindex=timess, gcr=gcr, \n",
    "                                       azimuth=180, axis_tilt=0, \n",
    "                                       limit_angle=60, backtrack=True)\n",
    "    # create a scene with all the variables\n",
    "    sceneDict = {'tilt':tilt,'gcr': gcr,'hub_height':hub_height,'azimuth':azimuth_ang, 'module_type':moduletype, 'nMods': nMods, 'nRows': nRows}  \n",
    "    scene = demo.makeScene(module=mymodule, sceneDict=sceneDict) #makeScene creates a .rad file with 20 modules per row, 7 rows.\n",
    "    octfile = demo.makeOct(demo.getfilelist())  # makeOct combines all of the ground, sky and object fil|es into a .oct file\n",
    "    frontscan, backscan = analysis.moduleAnalysis(scene, sensorsy=sensorsy)\n",
    "    analysis.analysis(octfile, simulationname+\"_noPavers_\"+str(j), frontscan, backscan)  # compare the back vs front irradiance  \n",
    "    "
   ]
  },
  {
   "cell_type": "markdown",
   "metadata": {},
   "source": [
    "## Simulation With Pavers"
   ]
  },
  {
   "cell_type": "code",
   "execution_count": 8,
   "metadata": {},
   "outputs": [],
   "source": [
    "demo.gendaylit(timeindex)\n",
    "tilt = demo.getSingleTimestampTrackerAngle(metdata, timeindex=timeindex, gcr=gcr, \n",
    "                                   azimuth=180, axis_tilt=0, \n",
    "                                   limit_angle=60, backtrack=True)\n",
    "# create a scene with all the variables\n",
    "sceneDict = {'tilt':tilt,'gcr': gcr,'hub_height':hub_height,'azimuth':azimuth_ang, 'module_type':moduletype, 'nMods': nMods, 'nRows': nRows}  \n",
    "scene = demo.makeScene(module=mymodule, sceneDict=sceneDict) #makeScene creates a .rad file with 20 modules per row, 7 rows."
   ]
  },
  {
   "cell_type": "code",
   "execution_count": 9,
   "metadata": {},
   "outputs": [
    {
     "name": "stdout",
     "output_type": "stream",
     "text": [
      "\n",
      "Custom Object Name objects\\PAVER0.rad\n",
      "\n",
      "Custom Object Name objects\\PAVER1.rad\n",
      "\n",
      "Custom Object Name objects\\PAVER2.rad\n"
     ]
    }
   ],
   "source": [
    "torquetubelength = demo.module.scenex*(nMods) \n",
    "pitch = demo.module.sceney/gcr\n",
    "startpitch = -pitch * (nRows-1)/2\n",
    "p_w = 0.947 # m\n",
    "p_h = 0.092 # m\n",
    "p_w2 = 0.187 # m\n",
    "p_h2 = 0.184 # m\n",
    "offset_w1y = -(p_w/2)+(p_w2/2)\n",
    "offset_w2y = (p_w/2)-(p_w2/2)\n",
    "\n",
    "customObjects = []\n",
    "for i in range (0, nRows):    \n",
    "    name='PAVER'+str(i)\n",
    "    text='! genbox {} paver{} {} {} {} | xform -t {} {} 0 | xform -t {} 0 0'.format(materialpav, i, \n",
    "                                    p_w, torquetubelength, p_h, \n",
    "                                    -p_w/2, (-torquetubelength+demo.module.sceney)/2.0,\n",
    "                                    startpitch+pitch*i)\n",
    "    text += '\\r\\n! genbox {} paverS1{} {} {} {} | xform -t {} {} 0 | xform -t {} 0 0'.format(materialpav, i,\n",
    "                                    p_w2, torquetubelength, p_h2, \n",
    "                                    -p_w2/2+offset_w1y, (-torquetubelength+demo.module.sceney)/2.0,\n",
    "                                    startpitch+pitch*i)\n",
    "    text += '\\r\\n! genbox {} paverS2{} {} {} {} | xform -t {} {} 0 | xform -t {} 0 0'.format(materialpav, i,\n",
    "                                    p_w2, torquetubelength, p_h2, \n",
    "                                    -p_w2/2+offset_w2y, (-torquetubelength+demo.module.sceney)/2.0,\n",
    "                                    startpitch+pitch*i)\n",
    "\n",
    "    customObject = demo.makeCustomObject(name,text)\n",
    "    customObjects.append(customObject)\n",
    "    demo.appendtoScene(radfile=scene.radfiles, customObject=customObject, text=\"!xform -rz 0\")"
   ]
  },
  {
   "cell_type": "code",
   "execution_count": 10,
   "metadata": {},
   "outputs": [
    {
     "name": "stdout",
     "output_type": "stream",
     "text": [
      "Created tutorial_14.oct\n"
     ]
    },
    {
     "data": {
      "text/plain": [
       "'tutorial_14.oct'"
      ]
     },
     "execution_count": 10,
     "metadata": {},
     "output_type": "execute_result"
    }
   ],
   "source": [
    "demo.makeOct()"
   ]
  },
  {
   "cell_type": "markdown",
   "metadata": {},
   "source": [
    "You can view the geometry generated in the terminal with:\n",
    "\n",
    "**rvu -vf views\\front.vp -e .01 -pe 0.01 -vp -5 -14 1 -vd 0 0.9946 -0.1040 tutorial_14.oct**"
   ]
  },
  {
   "cell_type": "code",
   "execution_count": 11,
   "metadata": {},
   "outputs": [],
   "source": [
    "\n",
    "## Comment the ! line below to run rvu from the Jupyter notebook instead of your terminal.\n",
    "## Simulation will stop until you close the rvu window\n",
    "\n",
    "#!rvu -vf views\\front.vp -e .01 -pe 0.01 -vp -5 -14 1 -vd 0 0.9946 -0.1040 tutorial_14.oct\n"
   ]
  },
  {
   "cell_type": "code",
   "execution_count": 12,
   "metadata": {},
   "outputs": [
    {
     "name": "stdout",
     "output_type": "stream",
     "text": [
      "Linescan in process: tutorial_14_WITHPavers_Front\n",
      "Linescan in process: tutorial_14_WITHPavers_Back\n",
      "Saved: results\\irr_tutorial_14_WITHPavers.csv\n",
      "Simulation WITH Pavers Finished\n"
     ]
    }
   ],
   "source": [
    "analysis = AnalysisObj(octfile, demo.name)  # return an analysis object including the scan dimensions for back irradiance\n",
    "frontscan, backscan = analysis.moduleAnalysis(scene, sensorsy=sensorsy)\n",
    "analysis.analysis(octfile, simulationname+\"_WITHPavers\", frontscan, backscan)  # compare the back vs front irradiance  \n",
    "print(\"Simulation WITH Pavers Finished\")\n"
   ]
  },
  {
   "cell_type": "markdown",
   "metadata": {},
   "source": [
    "## LOOP WITH PAVERS"
   ]
  },
  {
   "cell_type": "code",
   "execution_count": 13,
   "metadata": {},
   "outputs": [
    {
     "name": "stdout",
     "output_type": "stream",
     "text": [
      "Created tutorial_14.oct\n",
      "Linescan in process: tutorial_14_WITHPavers_1_Front\n",
      "Linescan in process: tutorial_14_WITHPavers_1_Back\n",
      "Saved: results\\irr_tutorial_14_WITHPavers_1.csv\n",
      "Created tutorial_14.oct\n",
      "Linescan in process: tutorial_14_WITHPavers_2_Front\n",
      "Linescan in process: tutorial_14_WITHPavers_2_Back\n",
      "Saved: results\\irr_tutorial_14_WITHPavers_2.csv\n",
      "Created tutorial_14.oct\n",
      "Linescan in process: tutorial_14_WITHPavers_3_Front\n",
      "Linescan in process: tutorial_14_WITHPavers_3_Back\n",
      "Saved: results\\irr_tutorial_14_WITHPavers_3.csv\n",
      "Created tutorial_14.oct\n",
      "Linescan in process: tutorial_14_WITHPavers_4_Front\n",
      "Linescan in process: tutorial_14_WITHPavers_4_Back\n",
      "Saved: results\\irr_tutorial_14_WITHPavers_4.csv\n",
      "Created tutorial_14.oct\n",
      "Linescan in process: tutorial_14_WITHPavers_5_Front\n",
      "Linescan in process: tutorial_14_WITHPavers_5_Back\n",
      "Saved: results\\irr_tutorial_14_WITHPavers_5.csv\n",
      "Created tutorial_14.oct\n",
      "Linescan in process: tutorial_14_WITHPavers_6_Front\n",
      "Linescan in process: tutorial_14_WITHPavers_6_Back\n",
      "Saved: results\\irr_tutorial_14_WITHPavers_6.csv\n",
      "Created tutorial_14.oct\n",
      "Linescan in process: tutorial_14_WITHPavers_7_Front\n",
      "Linescan in process: tutorial_14_WITHPavers_7_Back\n",
      "Saved: results\\irr_tutorial_14_WITHPavers_7.csv\n",
      "Created tutorial_14.oct\n",
      "Linescan in process: tutorial_14_WITHPavers_8_Front\n",
      "Linescan in process: tutorial_14_WITHPavers_8_Back\n",
      "Saved: results\\irr_tutorial_14_WITHPavers_8.csv\n",
      "Created tutorial_14.oct\n",
      "Linescan in process: tutorial_14_WITHPavers_9_Front\n",
      "Linescan in process: tutorial_14_WITHPavers_9_Back\n",
      "Saved: results\\irr_tutorial_14_WITHPavers_9.csv\n",
      "Created tutorial_14.oct\n",
      "Linescan in process: tutorial_14_WITHPavers_10_Front\n",
      "Linescan in process: tutorial_14_WITHPavers_10_Back\n",
      "Saved: results\\irr_tutorial_14_WITHPavers_10.csv\n",
      "Created tutorial_14.oct\n",
      "Linescan in process: tutorial_14_WITHPavers_11_Front\n",
      "Linescan in process: tutorial_14_WITHPavers_11_Back\n",
      "Saved: results\\irr_tutorial_14_WITHPavers_11.csv\n",
      "Created tutorial_14.oct\n",
      "Linescan in process: tutorial_14_WITHPavers_12_Front\n",
      "Linescan in process: tutorial_14_WITHPavers_12_Back\n",
      "Saved: results\\irr_tutorial_14_WITHPavers_12.csv\n"
     ]
    }
   ],
   "source": [
    "j=0\n",
    "for timess in range (starttimeindex, endtimeindex):\n",
    "    j+=1\n",
    "    demo.gendaylit(timess)\n",
    "    tilt = demo.getSingleTimestampTrackerAngle(metdata, timeindex=timess, gcr=gcr, \n",
    "                                       azimuth=180, axis_tilt=0, \n",
    "                                       limit_angle=60, backtrack=True)\n",
    "    # create a scene with all the variables\n",
    "    sceneDict = {'tilt':tilt,'gcr': gcr,'hub_height':hub_height,'azimuth':azimuth_ang, 'module_type':moduletype, 'nMods': nMods, 'nRows': nRows}  \n",
    "    scene = demo.makeScene(mymodule, sceneDict=sceneDict) #makeScene creates a .rad file with 20 modules per row, 7 rows.\n",
    "    # Appending Pavers here\n",
    "    demo.appendtoScene(radfile=scene.radfiles, customObject=customObjects[0], text=\"!xform -rz 0\")\n",
    "    demo.appendtoScene(radfile=scene.radfiles, customObject=customObjects[1], text=\"!xform -rz 0\")\n",
    "    demo.appendtoScene(radfile=scene.radfiles, customObject=customObjects[2], text=\"!xform -rz 0\")\n",
    "    octfile = demo.makeOct(demo.getfilelist())  # makeOct combines all of the ground, sky and object fil|es into a .oct file\n",
    "    frontscan, backscan = analysis.moduleAnalysis(scene, sensorsy=sensorsy)\n",
    "    analysis.analysis(octfile, simulationname+\"_WITHPavers_\"+str(j), frontscan, backscan)  # compare the back vs front irradiance  \n",
    "    "
   ]
  },
  {
   "cell_type": "markdown",
   "metadata": {},
   "source": [
    "# RESULTS ANALYSIS NOON"
   ]
  },
  {
   "cell_type": "code",
   "execution_count": 14,
   "metadata": {},
   "outputs": [],
   "source": [
    "df_0 = load.read1Result(os.path.join(testfolder, 'results', 'irr_tutorial_14_noPavers.csv'))\n",
    "df_w = load.read1Result(os.path.join(testfolder, 'results', 'irr_tutorial_14_WITHPavers.csv'))                        "
   ]
  },
  {
   "cell_type": "code",
   "execution_count": 15,
   "metadata": {},
   "outputs": [
    {
     "data": {
      "text/html": [
       "<div>\n",
       "<style scoped>\n",
       "    .dataframe tbody tr th:only-of-type {\n",
       "        vertical-align: middle;\n",
       "    }\n",
       "\n",
       "    .dataframe tbody tr th {\n",
       "        vertical-align: top;\n",
       "    }\n",
       "\n",
       "    .dataframe thead th {\n",
       "        text-align: right;\n",
       "    }\n",
       "</style>\n",
       "<table border=\"1\" class=\"dataframe\">\n",
       "  <thead>\n",
       "    <tr style=\"text-align: right;\">\n",
       "      <th></th>\n",
       "      <th>x</th>\n",
       "      <th>y</th>\n",
       "      <th>z</th>\n",
       "      <th>rearZ</th>\n",
       "      <th>mattype</th>\n",
       "      <th>rearMat</th>\n",
       "      <th>Wm2Front</th>\n",
       "      <th>Wm2Back</th>\n",
       "      <th>Back/FrontRatio</th>\n",
       "    </tr>\n",
       "  </thead>\n",
       "  <tbody>\n",
       "    <tr>\n",
       "      <th>0</th>\n",
       "      <td>0.772445</td>\n",
       "      <td>4.729862e-17</td>\n",
       "      <td>1.137844</td>\n",
       "      <td>1.116107</td>\n",
       "      <td>a9.1.a2.0.0.cellPVmodule.6457</td>\n",
       "      <td>a9.1.a2.0.0.cellPVmodule.2310</td>\n",
       "      <td>946.8981</td>\n",
       "      <td>117.24230</td>\n",
       "      <td>0.123817</td>\n",
       "    </tr>\n",
       "    <tr>\n",
       "      <th>1</th>\n",
       "      <td>0.601509</td>\n",
       "      <td>3.683183e-17</td>\n",
       "      <td>1.164490</td>\n",
       "      <td>1.142752</td>\n",
       "      <td>a9.1.a2.1.0.cellPVmodule.6457</td>\n",
       "      <td>a9.1.a2.1.0.cellPVmodule.2310</td>\n",
       "      <td>946.8854</td>\n",
       "      <td>109.52570</td>\n",
       "      <td>0.115669</td>\n",
       "    </tr>\n",
       "    <tr>\n",
       "      <th>2</th>\n",
       "      <td>0.430574</td>\n",
       "      <td>2.636503e-17</td>\n",
       "      <td>1.191136</td>\n",
       "      <td>1.169398</td>\n",
       "      <td>a9.1.a2.2.0.cellPVmodule.6457</td>\n",
       "      <td>a9.1.a2.2.0.cellPVmodule.2310</td>\n",
       "      <td>946.8724</td>\n",
       "      <td>103.41390</td>\n",
       "      <td>0.109216</td>\n",
       "    </tr>\n",
       "    <tr>\n",
       "      <th>3</th>\n",
       "      <td>0.259638</td>\n",
       "      <td>1.589824e-17</td>\n",
       "      <td>1.217781</td>\n",
       "      <td>1.196044</td>\n",
       "      <td>a9.1.a2.3.0.cellPVmodule.6457</td>\n",
       "      <td>a9.1.a2.3.0.cellPVmodule.2310</td>\n",
       "      <td>946.8594</td>\n",
       "      <td>96.69959</td>\n",
       "      <td>0.102127</td>\n",
       "    </tr>\n",
       "    <tr>\n",
       "      <th>4</th>\n",
       "      <td>0.088702</td>\n",
       "      <td>5.431448e-18</td>\n",
       "      <td>1.244427</td>\n",
       "      <td>1.222689</td>\n",
       "      <td>a9.1.a2.4.0.cellPVmodule.6457</td>\n",
       "      <td>a9.1.a2.4.0.cellPVmodule.2310</td>\n",
       "      <td>946.8464</td>\n",
       "      <td>95.68785</td>\n",
       "      <td>0.101059</td>\n",
       "    </tr>\n",
       "    <tr>\n",
       "      <th>5</th>\n",
       "      <td>-0.082233</td>\n",
       "      <td>-5.035345e-18</td>\n",
       "      <td>1.271072</td>\n",
       "      <td>1.249335</td>\n",
       "      <td>a9.1.a2.5.0.cellPVmodule.6457</td>\n",
       "      <td>a9.1.a2.5.0.cellPVmodule.2310</td>\n",
       "      <td>946.8334</td>\n",
       "      <td>95.34497</td>\n",
       "      <td>0.100699</td>\n",
       "    </tr>\n",
       "    <tr>\n",
       "      <th>6</th>\n",
       "      <td>-0.253169</td>\n",
       "      <td>-1.550214e-17</td>\n",
       "      <td>1.297718</td>\n",
       "      <td>1.275980</td>\n",
       "      <td>a9.1.a2.6.0.cellPVmodule.6457</td>\n",
       "      <td>a9.1.a2.6.0.cellPVmodule.2310</td>\n",
       "      <td>947.6977</td>\n",
       "      <td>97.69968</td>\n",
       "      <td>0.103091</td>\n",
       "    </tr>\n",
       "    <tr>\n",
       "      <th>7</th>\n",
       "      <td>-0.424105</td>\n",
       "      <td>-2.596893e-17</td>\n",
       "      <td>1.324363</td>\n",
       "      <td>1.302626</td>\n",
       "      <td>a9.1.a2.7.0.cellPVmodule.6457</td>\n",
       "      <td>a9.1.a2.7.0.cellPVmodule.2310</td>\n",
       "      <td>947.7081</td>\n",
       "      <td>99.91356</td>\n",
       "      <td>0.105426</td>\n",
       "    </tr>\n",
       "    <tr>\n",
       "      <th>8</th>\n",
       "      <td>-0.595040</td>\n",
       "      <td>-3.643572e-17</td>\n",
       "      <td>1.351009</td>\n",
       "      <td>1.329271</td>\n",
       "      <td>a9.1.a2.8.0.cellPVmodule.6457</td>\n",
       "      <td>a9.1.a2.8.0.cellPVmodule.2310</td>\n",
       "      <td>947.7183</td>\n",
       "      <td>105.03310</td>\n",
       "      <td>0.110827</td>\n",
       "    </tr>\n",
       "    <tr>\n",
       "      <th>9</th>\n",
       "      <td>-0.765976</td>\n",
       "      <td>-4.690252e-17</td>\n",
       "      <td>1.377654</td>\n",
       "      <td>1.355917</td>\n",
       "      <td>a9.1.a2.9.0.cellPVmodule.6457</td>\n",
       "      <td>a9.1.a2.9.0.cellPVmodule.2310</td>\n",
       "      <td>947.7285</td>\n",
       "      <td>110.56770</td>\n",
       "      <td>0.116666</td>\n",
       "    </tr>\n",
       "  </tbody>\n",
       "</table>\n",
       "</div>"
      ],
      "text/plain": [
       "          x             y         z     rearZ                        mattype  \\\n",
       "0  0.772445  4.729862e-17  1.137844  1.116107  a9.1.a2.0.0.cellPVmodule.6457   \n",
       "1  0.601509  3.683183e-17  1.164490  1.142752  a9.1.a2.1.0.cellPVmodule.6457   \n",
       "2  0.430574  2.636503e-17  1.191136  1.169398  a9.1.a2.2.0.cellPVmodule.6457   \n",
       "3  0.259638  1.589824e-17  1.217781  1.196044  a9.1.a2.3.0.cellPVmodule.6457   \n",
       "4  0.088702  5.431448e-18  1.244427  1.222689  a9.1.a2.4.0.cellPVmodule.6457   \n",
       "5 -0.082233 -5.035345e-18  1.271072  1.249335  a9.1.a2.5.0.cellPVmodule.6457   \n",
       "6 -0.253169 -1.550214e-17  1.297718  1.275980  a9.1.a2.6.0.cellPVmodule.6457   \n",
       "7 -0.424105 -2.596893e-17  1.324363  1.302626  a9.1.a2.7.0.cellPVmodule.6457   \n",
       "8 -0.595040 -3.643572e-17  1.351009  1.329271  a9.1.a2.8.0.cellPVmodule.6457   \n",
       "9 -0.765976 -4.690252e-17  1.377654  1.355917  a9.1.a2.9.0.cellPVmodule.6457   \n",
       "\n",
       "                         rearMat  Wm2Front    Wm2Back  Back/FrontRatio  \n",
       "0  a9.1.a2.0.0.cellPVmodule.2310  946.8981  117.24230         0.123817  \n",
       "1  a9.1.a2.1.0.cellPVmodule.2310  946.8854  109.52570         0.115669  \n",
       "2  a9.1.a2.2.0.cellPVmodule.2310  946.8724  103.41390         0.109216  \n",
       "3  a9.1.a2.3.0.cellPVmodule.2310  946.8594   96.69959         0.102127  \n",
       "4  a9.1.a2.4.0.cellPVmodule.2310  946.8464   95.68785         0.101059  \n",
       "5  a9.1.a2.5.0.cellPVmodule.2310  946.8334   95.34497         0.100699  \n",
       "6  a9.1.a2.6.0.cellPVmodule.2310  947.6977   97.69968         0.103091  \n",
       "7  a9.1.a2.7.0.cellPVmodule.2310  947.7081   99.91356         0.105426  \n",
       "8  a9.1.a2.8.0.cellPVmodule.2310  947.7183  105.03310         0.110827  \n",
       "9  a9.1.a2.9.0.cellPVmodule.2310  947.7285  110.56770         0.116666  "
      ]
     },
     "execution_count": 15,
     "metadata": {},
     "output_type": "execute_result"
    }
   ],
   "source": [
    "df_0"
   ]
  },
  {
   "cell_type": "code",
   "execution_count": 16,
   "metadata": {},
   "outputs": [
    {
     "data": {
      "text/html": [
       "<div>\n",
       "<style scoped>\n",
       "    .dataframe tbody tr th:only-of-type {\n",
       "        vertical-align: middle;\n",
       "    }\n",
       "\n",
       "    .dataframe tbody tr th {\n",
       "        vertical-align: top;\n",
       "    }\n",
       "\n",
       "    .dataframe thead th {\n",
       "        text-align: right;\n",
       "    }\n",
       "</style>\n",
       "<table border=\"1\" class=\"dataframe\">\n",
       "  <thead>\n",
       "    <tr style=\"text-align: right;\">\n",
       "      <th></th>\n",
       "      <th>x</th>\n",
       "      <th>y</th>\n",
       "      <th>z</th>\n",
       "      <th>rearZ</th>\n",
       "      <th>mattype</th>\n",
       "      <th>rearMat</th>\n",
       "      <th>Wm2Front</th>\n",
       "      <th>Wm2Back</th>\n",
       "      <th>Back/FrontRatio</th>\n",
       "    </tr>\n",
       "  </thead>\n",
       "  <tbody>\n",
       "    <tr>\n",
       "      <th>0</th>\n",
       "      <td>0.772445</td>\n",
       "      <td>4.729862e-17</td>\n",
       "      <td>1.137844</td>\n",
       "      <td>1.116107</td>\n",
       "      <td>a9.1.a2.0.0.cellPVmodule.6457</td>\n",
       "      <td>a9.1.a2.0.0.cellPVmodule.2310</td>\n",
       "      <td>947.1658</td>\n",
       "      <td>125.5783</td>\n",
       "      <td>0.132583</td>\n",
       "    </tr>\n",
       "    <tr>\n",
       "      <th>1</th>\n",
       "      <td>0.601509</td>\n",
       "      <td>3.683183e-17</td>\n",
       "      <td>1.164490</td>\n",
       "      <td>1.142752</td>\n",
       "      <td>a9.1.a2.1.0.cellPVmodule.6457</td>\n",
       "      <td>a9.1.a2.1.0.cellPVmodule.2310</td>\n",
       "      <td>947.2082</td>\n",
       "      <td>119.3176</td>\n",
       "      <td>0.125968</td>\n",
       "    </tr>\n",
       "    <tr>\n",
       "      <th>2</th>\n",
       "      <td>0.430574</td>\n",
       "      <td>2.636503e-17</td>\n",
       "      <td>1.191136</td>\n",
       "      <td>1.169398</td>\n",
       "      <td>a9.1.a2.2.0.cellPVmodule.6457</td>\n",
       "      <td>a9.1.a2.2.0.cellPVmodule.2310</td>\n",
       "      <td>947.2504</td>\n",
       "      <td>114.9427</td>\n",
       "      <td>0.121343</td>\n",
       "    </tr>\n",
       "    <tr>\n",
       "      <th>3</th>\n",
       "      <td>0.259638</td>\n",
       "      <td>1.589824e-17</td>\n",
       "      <td>1.217781</td>\n",
       "      <td>1.196044</td>\n",
       "      <td>a9.1.a2.3.0.cellPVmodule.6457</td>\n",
       "      <td>a9.1.a2.3.0.cellPVmodule.2310</td>\n",
       "      <td>947.2926</td>\n",
       "      <td>110.5928</td>\n",
       "      <td>0.116746</td>\n",
       "    </tr>\n",
       "    <tr>\n",
       "      <th>4</th>\n",
       "      <td>0.088702</td>\n",
       "      <td>5.431448e-18</td>\n",
       "      <td>1.244427</td>\n",
       "      <td>1.222689</td>\n",
       "      <td>a9.1.a2.4.0.cellPVmodule.6457</td>\n",
       "      <td>a9.1.a2.4.0.cellPVmodule.2310</td>\n",
       "      <td>947.3348</td>\n",
       "      <td>112.6003</td>\n",
       "      <td>0.118860</td>\n",
       "    </tr>\n",
       "    <tr>\n",
       "      <th>5</th>\n",
       "      <td>-0.082233</td>\n",
       "      <td>-5.035345e-18</td>\n",
       "      <td>1.271072</td>\n",
       "      <td>1.249335</td>\n",
       "      <td>a9.1.a2.5.0.cellPVmodule.6457</td>\n",
       "      <td>a9.1.a2.5.0.cellPVmodule.2310</td>\n",
       "      <td>947.3168</td>\n",
       "      <td>111.2375</td>\n",
       "      <td>0.117424</td>\n",
       "    </tr>\n",
       "    <tr>\n",
       "      <th>6</th>\n",
       "      <td>-0.253169</td>\n",
       "      <td>-1.550214e-17</td>\n",
       "      <td>1.297718</td>\n",
       "      <td>1.275980</td>\n",
       "      <td>a9.1.a2.6.0.cellPVmodule.6457</td>\n",
       "      <td>a9.1.a2.6.0.cellPVmodule.2310</td>\n",
       "      <td>947.3401</td>\n",
       "      <td>108.4745</td>\n",
       "      <td>0.114504</td>\n",
       "    </tr>\n",
       "    <tr>\n",
       "      <th>7</th>\n",
       "      <td>-0.424105</td>\n",
       "      <td>-2.596893e-17</td>\n",
       "      <td>1.324363</td>\n",
       "      <td>1.302626</td>\n",
       "      <td>a9.1.a2.7.0.cellPVmodule.6457</td>\n",
       "      <td>a9.1.a2.7.0.cellPVmodule.2310</td>\n",
       "      <td>947.3632</td>\n",
       "      <td>109.8079</td>\n",
       "      <td>0.115909</td>\n",
       "    </tr>\n",
       "    <tr>\n",
       "      <th>8</th>\n",
       "      <td>-0.595040</td>\n",
       "      <td>-3.643572e-17</td>\n",
       "      <td>1.351009</td>\n",
       "      <td>1.329271</td>\n",
       "      <td>a9.1.a2.8.0.cellPVmodule.6457</td>\n",
       "      <td>a9.1.a2.8.0.cellPVmodule.2310</td>\n",
       "      <td>947.3864</td>\n",
       "      <td>110.1948</td>\n",
       "      <td>0.116314</td>\n",
       "    </tr>\n",
       "    <tr>\n",
       "      <th>9</th>\n",
       "      <td>-0.765976</td>\n",
       "      <td>-4.690252e-17</td>\n",
       "      <td>1.377654</td>\n",
       "      <td>1.355917</td>\n",
       "      <td>a9.1.a2.9.0.cellPVmodule.6457</td>\n",
       "      <td>a9.1.a2.9.0.cellPVmodule.2310</td>\n",
       "      <td>947.4094</td>\n",
       "      <td>114.2160</td>\n",
       "      <td>0.120556</td>\n",
       "    </tr>\n",
       "  </tbody>\n",
       "</table>\n",
       "</div>"
      ],
      "text/plain": [
       "          x             y         z     rearZ                        mattype  \\\n",
       "0  0.772445  4.729862e-17  1.137844  1.116107  a9.1.a2.0.0.cellPVmodule.6457   \n",
       "1  0.601509  3.683183e-17  1.164490  1.142752  a9.1.a2.1.0.cellPVmodule.6457   \n",
       "2  0.430574  2.636503e-17  1.191136  1.169398  a9.1.a2.2.0.cellPVmodule.6457   \n",
       "3  0.259638  1.589824e-17  1.217781  1.196044  a9.1.a2.3.0.cellPVmodule.6457   \n",
       "4  0.088702  5.431448e-18  1.244427  1.222689  a9.1.a2.4.0.cellPVmodule.6457   \n",
       "5 -0.082233 -5.035345e-18  1.271072  1.249335  a9.1.a2.5.0.cellPVmodule.6457   \n",
       "6 -0.253169 -1.550214e-17  1.297718  1.275980  a9.1.a2.6.0.cellPVmodule.6457   \n",
       "7 -0.424105 -2.596893e-17  1.324363  1.302626  a9.1.a2.7.0.cellPVmodule.6457   \n",
       "8 -0.595040 -3.643572e-17  1.351009  1.329271  a9.1.a2.8.0.cellPVmodule.6457   \n",
       "9 -0.765976 -4.690252e-17  1.377654  1.355917  a9.1.a2.9.0.cellPVmodule.6457   \n",
       "\n",
       "                         rearMat  Wm2Front   Wm2Back  Back/FrontRatio  \n",
       "0  a9.1.a2.0.0.cellPVmodule.2310  947.1658  125.5783         0.132583  \n",
       "1  a9.1.a2.1.0.cellPVmodule.2310  947.2082  119.3176         0.125968  \n",
       "2  a9.1.a2.2.0.cellPVmodule.2310  947.2504  114.9427         0.121343  \n",
       "3  a9.1.a2.3.0.cellPVmodule.2310  947.2926  110.5928         0.116746  \n",
       "4  a9.1.a2.4.0.cellPVmodule.2310  947.3348  112.6003         0.118860  \n",
       "5  a9.1.a2.5.0.cellPVmodule.2310  947.3168  111.2375         0.117424  \n",
       "6  a9.1.a2.6.0.cellPVmodule.2310  947.3401  108.4745         0.114504  \n",
       "7  a9.1.a2.7.0.cellPVmodule.2310  947.3632  109.8079         0.115909  \n",
       "8  a9.1.a2.8.0.cellPVmodule.2310  947.3864  110.1948         0.116314  \n",
       "9  a9.1.a2.9.0.cellPVmodule.2310  947.4094  114.2160         0.120556  "
      ]
     },
     "execution_count": 16,
     "metadata": {},
     "output_type": "execute_result"
    }
   ],
   "source": [
    "df_w"
   ]
  },
  {
   "cell_type": "markdown",
   "metadata": {},
   "source": [
    "## Improvement in Rear Irradiance"
   ]
  },
  {
   "cell_type": "code",
   "execution_count": 17,
   "metadata": {},
   "outputs": [
    {
     "data": {
      "text/plain": [
       "10.3"
      ]
     },
     "execution_count": 17,
     "metadata": {},
     "output_type": "execute_result"
    }
   ],
   "source": [
    "round((df_w['Wm2Back'].mean()-df_0['Wm2Back'].mean())*100/df_0['Wm2Back'].mean(),1)"
   ]
  },
  {
   "cell_type": "markdown",
   "metadata": {},
   "source": [
    "# RESULT ANALYSIS DAY"
   ]
  },
  {
   "cell_type": "code",
   "execution_count": 18,
   "metadata": {},
   "outputs": [],
   "source": [
    "df_0 = load.read1Result(os.path.join(testfolder, 'results', 'irr_tutorial_14_noPavers_1.csv'))\n",
    "df_w = load.read1Result(os.path.join(testfolder, 'results', 'irr_tutorial_14_WITHPavers_1.csv'))"
   ]
  },
  {
   "cell_type": "code",
   "execution_count": 19,
   "metadata": {
    "scrolled": true
   },
   "outputs": [
    {
     "data": {
      "text/html": [
       "<div>\n",
       "<style scoped>\n",
       "    .dataframe tbody tr th:only-of-type {\n",
       "        vertical-align: middle;\n",
       "    }\n",
       "\n",
       "    .dataframe tbody tr th {\n",
       "        vertical-align: top;\n",
       "    }\n",
       "\n",
       "    .dataframe thead th {\n",
       "        text-align: right;\n",
       "    }\n",
       "</style>\n",
       "<table border=\"1\" class=\"dataframe\">\n",
       "  <thead>\n",
       "    <tr style=\"text-align: right;\">\n",
       "      <th></th>\n",
       "      <th>x</th>\n",
       "      <th>y</th>\n",
       "      <th>z</th>\n",
       "      <th>rearZ</th>\n",
       "      <th>mattype</th>\n",
       "      <th>rearMat</th>\n",
       "      <th>Wm2Front</th>\n",
       "      <th>Wm2Back</th>\n",
       "      <th>Back/FrontRatio</th>\n",
       "    </tr>\n",
       "  </thead>\n",
       "  <tbody>\n",
       "    <tr>\n",
       "      <th>0</th>\n",
       "      <td>0.407436</td>\n",
       "      <td>2.494829e-17</td>\n",
       "      <td>0.573299</td>\n",
       "      <td>0.562299</td>\n",
       "      <td>a9.1.a2.0.0.cellPVmodule.6457</td>\n",
       "      <td>a9.1.a2.0.0.cellPVmodule.2310</td>\n",
       "      <td>579.8174</td>\n",
       "      <td>27.50550</td>\n",
       "      <td>0.047438</td>\n",
       "    </tr>\n",
       "    <tr>\n",
       "      <th>1</th>\n",
       "      <td>0.320937</td>\n",
       "      <td>1.965169e-17</td>\n",
       "      <td>0.723122</td>\n",
       "      <td>0.712122</td>\n",
       "      <td>a9.1.a2.1.0.cellPVmodule.6457</td>\n",
       "      <td>a9.1.a2.1.0.cellPVmodule.2310</td>\n",
       "      <td>584.6388</td>\n",
       "      <td>27.33312</td>\n",
       "      <td>0.046752</td>\n",
       "    </tr>\n",
       "    <tr>\n",
       "      <th>2</th>\n",
       "      <td>0.234436</td>\n",
       "      <td>1.435510e-17</td>\n",
       "      <td>0.872944</td>\n",
       "      <td>0.861944</td>\n",
       "      <td>a9.1.a2.2.0.cellPVmodule.6457</td>\n",
       "      <td>a9.1.a2.2.0.cellPVmodule.2310</td>\n",
       "      <td>590.6924</td>\n",
       "      <td>27.54174</td>\n",
       "      <td>0.046626</td>\n",
       "    </tr>\n",
       "    <tr>\n",
       "      <th>3</th>\n",
       "      <td>0.147936</td>\n",
       "      <td>9.058500e-18</td>\n",
       "      <td>1.022766</td>\n",
       "      <td>1.011766</td>\n",
       "      <td>a9.1.a2.3.0.cellPVmodule.6457</td>\n",
       "      <td>a9.1.a2.3.0.cellPVmodule.2310</td>\n",
       "      <td>595.0419</td>\n",
       "      <td>26.06395</td>\n",
       "      <td>0.043802</td>\n",
       "    </tr>\n",
       "    <tr>\n",
       "      <th>4</th>\n",
       "      <td>0.061437</td>\n",
       "      <td>3.761903e-18</td>\n",
       "      <td>1.172589</td>\n",
       "      <td>1.161589</td>\n",
       "      <td>a9.1.a2.4.0.cellPVmodule.6457</td>\n",
       "      <td>a9.1.a2.4.0.cellPVmodule.2310</td>\n",
       "      <td>602.6788</td>\n",
       "      <td>26.42415</td>\n",
       "      <td>0.043844</td>\n",
       "    </tr>\n",
       "    <tr>\n",
       "      <th>5</th>\n",
       "      <td>-0.025063</td>\n",
       "      <td>-1.534695e-18</td>\n",
       "      <td>1.322411</td>\n",
       "      <td>1.311411</td>\n",
       "      <td>a9.1.a2.5.0.cellPVmodule.6457</td>\n",
       "      <td>a9.1.a2.5.0.cellPVmodule.2310</td>\n",
       "      <td>606.5762</td>\n",
       "      <td>26.13547</td>\n",
       "      <td>0.043087</td>\n",
       "    </tr>\n",
       "    <tr>\n",
       "      <th>6</th>\n",
       "      <td>-0.111563</td>\n",
       "      <td>-6.831292e-18</td>\n",
       "      <td>1.472234</td>\n",
       "      <td>1.461234</td>\n",
       "      <td>a9.1.a2.6.0.cellPVmodule.6457</td>\n",
       "      <td>a9.1.a2.6.0.cellPVmodule.2310</td>\n",
       "      <td>611.8985</td>\n",
       "      <td>26.60694</td>\n",
       "      <td>0.043483</td>\n",
       "    </tr>\n",
       "    <tr>\n",
       "      <th>7</th>\n",
       "      <td>-0.198064</td>\n",
       "      <td>-1.212789e-17</td>\n",
       "      <td>1.622056</td>\n",
       "      <td>1.611056</td>\n",
       "      <td>a9.1.a2.7.0.cellPVmodule.6457</td>\n",
       "      <td>a9.1.a2.7.0.cellPVmodule.2310</td>\n",
       "      <td>614.5859</td>\n",
       "      <td>26.76097</td>\n",
       "      <td>0.043543</td>\n",
       "    </tr>\n",
       "    <tr>\n",
       "      <th>8</th>\n",
       "      <td>-0.284564</td>\n",
       "      <td>-1.742449e-17</td>\n",
       "      <td>1.771878</td>\n",
       "      <td>1.760878</td>\n",
       "      <td>a9.1.a2.8.0.cellPVmodule.6457</td>\n",
       "      <td>a9.1.a2.8.0.cellPVmodule.2310</td>\n",
       "      <td>620.1961</td>\n",
       "      <td>27.76613</td>\n",
       "      <td>0.044770</td>\n",
       "    </tr>\n",
       "    <tr>\n",
       "      <th>9</th>\n",
       "      <td>-0.371063</td>\n",
       "      <td>-2.272108e-17</td>\n",
       "      <td>1.921701</td>\n",
       "      <td>1.910701</td>\n",
       "      <td>a9.1.a2.9.0.cellPVmodule.6457</td>\n",
       "      <td>a9.1.a2.9.0.cellPVmodule.2310</td>\n",
       "      <td>623.0681</td>\n",
       "      <td>27.96354</td>\n",
       "      <td>0.044880</td>\n",
       "    </tr>\n",
       "  </tbody>\n",
       "</table>\n",
       "</div>"
      ],
      "text/plain": [
       "          x             y         z     rearZ                        mattype  \\\n",
       "0  0.407436  2.494829e-17  0.573299  0.562299  a9.1.a2.0.0.cellPVmodule.6457   \n",
       "1  0.320937  1.965169e-17  0.723122  0.712122  a9.1.a2.1.0.cellPVmodule.6457   \n",
       "2  0.234436  1.435510e-17  0.872944  0.861944  a9.1.a2.2.0.cellPVmodule.6457   \n",
       "3  0.147936  9.058500e-18  1.022766  1.011766  a9.1.a2.3.0.cellPVmodule.6457   \n",
       "4  0.061437  3.761903e-18  1.172589  1.161589  a9.1.a2.4.0.cellPVmodule.6457   \n",
       "5 -0.025063 -1.534695e-18  1.322411  1.311411  a9.1.a2.5.0.cellPVmodule.6457   \n",
       "6 -0.111563 -6.831292e-18  1.472234  1.461234  a9.1.a2.6.0.cellPVmodule.6457   \n",
       "7 -0.198064 -1.212789e-17  1.622056  1.611056  a9.1.a2.7.0.cellPVmodule.6457   \n",
       "8 -0.284564 -1.742449e-17  1.771878  1.760878  a9.1.a2.8.0.cellPVmodule.6457   \n",
       "9 -0.371063 -2.272108e-17  1.921701  1.910701  a9.1.a2.9.0.cellPVmodule.6457   \n",
       "\n",
       "                         rearMat  Wm2Front   Wm2Back  Back/FrontRatio  \n",
       "0  a9.1.a2.0.0.cellPVmodule.2310  579.8174  27.50550         0.047438  \n",
       "1  a9.1.a2.1.0.cellPVmodule.2310  584.6388  27.33312         0.046752  \n",
       "2  a9.1.a2.2.0.cellPVmodule.2310  590.6924  27.54174         0.046626  \n",
       "3  a9.1.a2.3.0.cellPVmodule.2310  595.0419  26.06395         0.043802  \n",
       "4  a9.1.a2.4.0.cellPVmodule.2310  602.6788  26.42415         0.043844  \n",
       "5  a9.1.a2.5.0.cellPVmodule.2310  606.5762  26.13547         0.043087  \n",
       "6  a9.1.a2.6.0.cellPVmodule.2310  611.8985  26.60694         0.043483  \n",
       "7  a9.1.a2.7.0.cellPVmodule.2310  614.5859  26.76097         0.043543  \n",
       "8  a9.1.a2.8.0.cellPVmodule.2310  620.1961  27.76613         0.044770  \n",
       "9  a9.1.a2.9.0.cellPVmodule.2310  623.0681  27.96354         0.044880  "
      ]
     },
     "execution_count": 19,
     "metadata": {},
     "output_type": "execute_result"
    }
   ],
   "source": [
    "df_w"
   ]
  },
  {
   "cell_type": "code",
   "execution_count": 20,
   "metadata": {},
   "outputs": [
    {
     "data": {
      "text/html": [
       "<div>\n",
       "<style scoped>\n",
       "    .dataframe tbody tr th:only-of-type {\n",
       "        vertical-align: middle;\n",
       "    }\n",
       "\n",
       "    .dataframe tbody tr th {\n",
       "        vertical-align: top;\n",
       "    }\n",
       "\n",
       "    .dataframe thead th {\n",
       "        text-align: right;\n",
       "    }\n",
       "</style>\n",
       "<table border=\"1\" class=\"dataframe\">\n",
       "  <thead>\n",
       "    <tr style=\"text-align: right;\">\n",
       "      <th></th>\n",
       "      <th>x</th>\n",
       "      <th>y</th>\n",
       "      <th>z</th>\n",
       "      <th>rearZ</th>\n",
       "      <th>mattype</th>\n",
       "      <th>rearMat</th>\n",
       "      <th>Wm2Front</th>\n",
       "      <th>Wm2Back</th>\n",
       "      <th>Back/FrontRatio</th>\n",
       "    </tr>\n",
       "  </thead>\n",
       "  <tbody>\n",
       "    <tr>\n",
       "      <th>0</th>\n",
       "      <td>0.407436</td>\n",
       "      <td>2.494829e-17</td>\n",
       "      <td>0.573299</td>\n",
       "      <td>0.562299</td>\n",
       "      <td>a9.1.a2.0.0.cellPVmodule.6457</td>\n",
       "      <td>a9.1.a2.0.0.cellPVmodule.2310</td>\n",
       "      <td>581.4525</td>\n",
       "      <td>20.58496</td>\n",
       "      <td>0.035403</td>\n",
       "    </tr>\n",
       "    <tr>\n",
       "      <th>1</th>\n",
       "      <td>0.320937</td>\n",
       "      <td>1.965169e-17</td>\n",
       "      <td>0.723122</td>\n",
       "      <td>0.712122</td>\n",
       "      <td>a9.1.a2.1.0.cellPVmodule.6457</td>\n",
       "      <td>a9.1.a2.1.0.cellPVmodule.2310</td>\n",
       "      <td>584.9100</td>\n",
       "      <td>21.15021</td>\n",
       "      <td>0.036160</td>\n",
       "    </tr>\n",
       "    <tr>\n",
       "      <th>2</th>\n",
       "      <td>0.234436</td>\n",
       "      <td>1.435510e-17</td>\n",
       "      <td>0.872944</td>\n",
       "      <td>0.861944</td>\n",
       "      <td>a9.1.a2.2.0.cellPVmodule.6457</td>\n",
       "      <td>a9.1.a2.2.0.cellPVmodule.2310</td>\n",
       "      <td>592.2502</td>\n",
       "      <td>20.92997</td>\n",
       "      <td>0.035340</td>\n",
       "    </tr>\n",
       "    <tr>\n",
       "      <th>3</th>\n",
       "      <td>0.147936</td>\n",
       "      <td>9.058500e-18</td>\n",
       "      <td>1.022766</td>\n",
       "      <td>1.011766</td>\n",
       "      <td>a9.1.a2.3.0.cellPVmodule.6457</td>\n",
       "      <td>a9.1.a2.3.0.cellPVmodule.2310</td>\n",
       "      <td>596.4415</td>\n",
       "      <td>21.53978</td>\n",
       "      <td>0.036114</td>\n",
       "    </tr>\n",
       "    <tr>\n",
       "      <th>4</th>\n",
       "      <td>0.061437</td>\n",
       "      <td>3.761903e-18</td>\n",
       "      <td>1.172589</td>\n",
       "      <td>1.161589</td>\n",
       "      <td>a9.1.a2.4.0.cellPVmodule.6457</td>\n",
       "      <td>a9.1.a2.4.0.cellPVmodule.2310</td>\n",
       "      <td>603.3365</td>\n",
       "      <td>22.16977</td>\n",
       "      <td>0.036745</td>\n",
       "    </tr>\n",
       "    <tr>\n",
       "      <th>5</th>\n",
       "      <td>-0.025063</td>\n",
       "      <td>-1.534695e-18</td>\n",
       "      <td>1.322411</td>\n",
       "      <td>1.311411</td>\n",
       "      <td>a9.1.a2.5.0.cellPVmodule.6457</td>\n",
       "      <td>a9.1.a2.5.0.cellPVmodule.2310</td>\n",
       "      <td>606.5955</td>\n",
       "      <td>23.02444</td>\n",
       "      <td>0.037957</td>\n",
       "    </tr>\n",
       "    <tr>\n",
       "      <th>6</th>\n",
       "      <td>-0.111563</td>\n",
       "      <td>-6.831292e-18</td>\n",
       "      <td>1.472234</td>\n",
       "      <td>1.461234</td>\n",
       "      <td>a9.1.a2.6.0.cellPVmodule.6457</td>\n",
       "      <td>a9.1.a2.6.0.cellPVmodule.2310</td>\n",
       "      <td>613.5248</td>\n",
       "      <td>23.97887</td>\n",
       "      <td>0.039084</td>\n",
       "    </tr>\n",
       "    <tr>\n",
       "      <th>7</th>\n",
       "      <td>-0.198064</td>\n",
       "      <td>-1.212789e-17</td>\n",
       "      <td>1.622056</td>\n",
       "      <td>1.611056</td>\n",
       "      <td>a9.1.a2.7.0.cellPVmodule.6457</td>\n",
       "      <td>a9.1.a2.7.0.cellPVmodule.2310</td>\n",
       "      <td>617.3268</td>\n",
       "      <td>25.00761</td>\n",
       "      <td>0.040509</td>\n",
       "    </tr>\n",
       "    <tr>\n",
       "      <th>8</th>\n",
       "      <td>-0.284564</td>\n",
       "      <td>-1.742449e-17</td>\n",
       "      <td>1.771878</td>\n",
       "      <td>1.760878</td>\n",
       "      <td>a9.1.a2.8.0.cellPVmodule.6457</td>\n",
       "      <td>a9.1.a2.8.0.cellPVmodule.2310</td>\n",
       "      <td>621.6809</td>\n",
       "      <td>25.92181</td>\n",
       "      <td>0.041696</td>\n",
       "    </tr>\n",
       "    <tr>\n",
       "      <th>9</th>\n",
       "      <td>-0.371063</td>\n",
       "      <td>-2.272108e-17</td>\n",
       "      <td>1.921701</td>\n",
       "      <td>1.910701</td>\n",
       "      <td>a9.1.a2.9.0.cellPVmodule.6457</td>\n",
       "      <td>a9.1.a2.9.0.cellPVmodule.2310</td>\n",
       "      <td>624.8511</td>\n",
       "      <td>26.90095</td>\n",
       "      <td>0.043052</td>\n",
       "    </tr>\n",
       "  </tbody>\n",
       "</table>\n",
       "</div>"
      ],
      "text/plain": [
       "          x             y         z     rearZ                        mattype  \\\n",
       "0  0.407436  2.494829e-17  0.573299  0.562299  a9.1.a2.0.0.cellPVmodule.6457   \n",
       "1  0.320937  1.965169e-17  0.723122  0.712122  a9.1.a2.1.0.cellPVmodule.6457   \n",
       "2  0.234436  1.435510e-17  0.872944  0.861944  a9.1.a2.2.0.cellPVmodule.6457   \n",
       "3  0.147936  9.058500e-18  1.022766  1.011766  a9.1.a2.3.0.cellPVmodule.6457   \n",
       "4  0.061437  3.761903e-18  1.172589  1.161589  a9.1.a2.4.0.cellPVmodule.6457   \n",
       "5 -0.025063 -1.534695e-18  1.322411  1.311411  a9.1.a2.5.0.cellPVmodule.6457   \n",
       "6 -0.111563 -6.831292e-18  1.472234  1.461234  a9.1.a2.6.0.cellPVmodule.6457   \n",
       "7 -0.198064 -1.212789e-17  1.622056  1.611056  a9.1.a2.7.0.cellPVmodule.6457   \n",
       "8 -0.284564 -1.742449e-17  1.771878  1.760878  a9.1.a2.8.0.cellPVmodule.6457   \n",
       "9 -0.371063 -2.272108e-17  1.921701  1.910701  a9.1.a2.9.0.cellPVmodule.6457   \n",
       "\n",
       "                         rearMat  Wm2Front   Wm2Back  Back/FrontRatio  \n",
       "0  a9.1.a2.0.0.cellPVmodule.2310  581.4525  20.58496         0.035403  \n",
       "1  a9.1.a2.1.0.cellPVmodule.2310  584.9100  21.15021         0.036160  \n",
       "2  a9.1.a2.2.0.cellPVmodule.2310  592.2502  20.92997         0.035340  \n",
       "3  a9.1.a2.3.0.cellPVmodule.2310  596.4415  21.53978         0.036114  \n",
       "4  a9.1.a2.4.0.cellPVmodule.2310  603.3365  22.16977         0.036745  \n",
       "5  a9.1.a2.5.0.cellPVmodule.2310  606.5955  23.02444         0.037957  \n",
       "6  a9.1.a2.6.0.cellPVmodule.2310  613.5248  23.97887         0.039084  \n",
       "7  a9.1.a2.7.0.cellPVmodule.2310  617.3268  25.00761         0.040509  \n",
       "8  a9.1.a2.8.0.cellPVmodule.2310  621.6809  25.92181         0.041696  \n",
       "9  a9.1.a2.9.0.cellPVmodule.2310  624.8511  26.90095         0.043052  "
      ]
     },
     "execution_count": 20,
     "metadata": {},
     "output_type": "execute_result"
    }
   ],
   "source": [
    "df_0"
   ]
  },
  {
   "cell_type": "code",
   "execution_count": 21,
   "metadata": {},
   "outputs": [
    {
     "data": {
      "text/plain": [
       "16.8"
      ]
     },
     "execution_count": 21,
     "metadata": {},
     "output_type": "execute_result"
    }
   ],
   "source": [
    "round((df_w['Wm2Back'].mean()-df_0['Wm2Back'].mean())*100/df_0['Wm2Back'].mean(),1)"
   ]
  },
  {
   "cell_type": "code",
   "execution_count": 22,
   "metadata": {},
   "outputs": [
    {
     "name": "stdout",
     "output_type": "stream",
     "text": [
      "16.8\n",
      "40.7\n",
      "34.7\n",
      "23.3\n",
      "9.3\n",
      "10.6\n",
      "10.3\n",
      "9.7\n",
      "18.4\n",
      "32.3\n",
      "36.5\n",
      "40.4\n"
     ]
    }
   ],
   "source": [
    "average_back_d0=[]\n",
    "average_back_dw=[]\n",
    "average_front = []\n",
    "hourly_rearirradiance_comparison = []\n",
    "\n",
    "timessimulated = endtimeindex-starttimeindex\n",
    "\n",
    "for i in range (1, timessimulated+1):\n",
    "    df_0 = load.read1Result(os.path.join(testfolder, 'results', 'irr_tutorial_14_noPavers_'+str(i)+'.csv'))\n",
    "    df_w = load.read1Result(os.path.join(testfolder, 'results', 'irr_tutorial_14_WITHPavers_'+str(i)+'.csv'))\n",
    "    print(round((df_w['Wm2Back'].mean()-df_0['Wm2Back'].mean())*100/df_0['Wm2Back'].mean(),1))\n",
    "    hourly_rearirradiance_comparison.append(round((df_w['Wm2Back'].mean()-df_0['Wm2Back'].mean())*100/df_0['Wm2Back'].mean(),1))\n",
    "    average_back_d0.append(df_0['Wm2Back'].mean())\n",
    "    average_back_dw.append(df_w['Wm2Back'].mean())\n",
    "    average_front.append(df_0['Wm2Front'].mean())\n",
    "    "
   ]
  },
  {
   "cell_type": "code",
   "execution_count": 23,
   "metadata": {},
   "outputs": [
    {
     "name": "stdout",
     "output_type": "stream",
     "text": [
      "Increase in rear irradiance:  20.5\n"
     ]
    }
   ],
   "source": [
    "print(\"Increase in rear irradiance: \", round((sum(average_back_dw)-sum(average_back_d0))*100/sum(average_back_d0),1))"
   ]
  },
  {
   "cell_type": "code",
   "execution_count": 24,
   "metadata": {},
   "outputs": [
    {
     "name": "stdout",
     "output_type": "stream",
     "text": [
      "BG no Pavers:  8.3\n",
      "BG with Pavers:  10.0\n"
     ]
    }
   ],
   "source": [
    "print(\"BG no Pavers: \", round(sum(average_back_d0)*100/sum(average_front),1))\n",
    "print(\"BG with Pavers: \", round(sum(average_back_dw)*100/sum(average_front),1))"
   ]
  },
  {
   "cell_type": "code",
   "execution_count": 25,
   "metadata": {},
   "outputs": [],
   "source": [
    "import matplotlib.pyplot as plt\n",
    "\n",
    "#metdata.datetime[starttime].hour # 7\n",
    "#metdata.datetime[endtimeindex].hour # 17\n",
    "xax= [7, 8, 9, 10, 11, 12,13,14,15,16,17,18]  # Lazy way to get the x axis...\n"
   ]
  },
  {
   "cell_type": "code",
   "execution_count": 26,
   "metadata": {},
   "outputs": [
    {
     "data": {
      "text/plain": [
       "Text(0.5, 0, 'Hour')"
      ]
     },
     "execution_count": 26,
     "metadata": {},
     "output_type": "execute_result"
    },
    {
     "data": {
      "image/png": "[encoded data removed]",
      "text/plain": [
       "<Figure size 640x480 with 1 Axes>"
      ]
     },
     "metadata": {},
     "output_type": "display_data"
    }
   ],
   "source": [
    "plt.plot(xax,hourly_rearirradiance_comparison)\n",
    "plt.ylabel('$\\Delta$ in G$_{rear}$ [%] \\n(G$_{rear-with}$ - G$_{rear-without}$ / G$_{rear-without}$)')\n",
    "plt.xlabel('Hour')"
   ]
  }
 ],
 "metadata": {
  "kernelspec": {
   "display_name": "Python 3 (ipykernel)",
   "language": "python",
   "name": "python3"
  },
  "language_info": {
   "codemirror_mode": {
    "name": "ipython",
    "version": 3
   },
   "file_extension": ".py",
   "mimetype": "text/x-python",
   "name": "python",
   "nbconvert_exporter": "python",
   "pygments_lexer": "ipython3",
   "version": "3.11.7"
  }
 },
 "nbformat": 4,
 "nbformat_minor": 4
}
