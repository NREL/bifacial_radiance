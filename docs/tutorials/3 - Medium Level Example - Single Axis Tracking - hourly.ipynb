{
 "cells": [
  {
   "cell_type": "markdown",
   "metadata": {},
   "source": [
    "## 3 - Medium Level Example - 1-Axis tracker by hour (gendaylit)\n",
    "\n",
    "Example demonstrating the use of doing hourly smiulations with Radiance gendaylit for 1-axis tracking. This is a medium level example because it also explores a couple subtopics:\n",
    "\n",
    "#### Subtopics:\n",
    "<ul>\n",
    "    <li> The structure of the tracker dictionary \"trackerDict\". </li>\n",
    "    <li> How to calculate GCR </li>\n",
    "    <li> How to make a cell-level module </li>\n",
    "    <li> Various methods to use the trackerdictionary for analysis. </li>\n",
    "</ul>\n",
    " \n",
    "#### Doing full year simulations with gendaylit: \n",
    "\n",
    "Performing the simulation hour by hour requires either a good computer or some patience, since there are ~4000 daylight-hours in the year. With a 32GB RAM, Windows 10 i7-8700 CPU @ 3.2GHz with 6 cores this takes 1 day. The code also allows for multiple cores or HPC use -- there is documentation/examples inside the software at the moment, but that is an advanced topic. The procedure can be broken into shorter steps for one day or a single timestamp simulation which is exemplified below.\n",
    "\n",
    "### Steps:\n",
    "<ol>\n",
    "    <li> <a href='#step1'> Load bifacial_radiance </a></li> \n",
    "    <li> <a href='#step2'> Define all your system variables </a></li> \n",
    "    <li> <a href='#step3'> Create Radiance Object, Set Albedo and Weather </a></li> \n",
    "    <li> <a href='#step4'> Make Module: Cell Level Module Example </a></li>    \n",
    "    <li> <a href='#step5'> Calculate GCR</a></li> \n",
    "    <li> <a href='#step6'> Set Tracking Angles </a></li> \n",
    "    <li> <a href='#step7'> Generate the Sky </a></li> \n",
    "    <li> <a href='#step8'> Make Scene 1axis </a></li> \n",
    "    <li> <ol type=\"A\"><li><a href='#step9a'> Make Oct and AnalyzE 1 HOUR </a></li> \n",
    "    <li> <a href='#step9b'> Make Oct and Analye Range of Hours </a></li> \n",
    "        <li> <a href='#step9c'>  Make Oct and Analyze All Tracking Dictionary </a></li> </ol>\n",
    "</ol>\n",
    "\n",
    "And finally:  <ul> <a href='#condensed'> Condensed Version: All Tracking Dictionary </a></ul>   "
   ]
  },
  {
   "cell_type": "markdown",
   "metadata": {},
   "source": [
    "<a id='step1'></a>"
   ]
  },
  {
   "cell_type": "markdown",
   "metadata": {},
   "source": [
    "\n",
    "## 1. Load bifacial_radiance \n",
    "\n",
    "#### Pay attention: different importing method:\n",
    "\n",
    "So far we've used \"from bifacial_radiance import *\" to import all the bifacial_radiance files into our working space in jupyter. For this journal we will do a \"import bifacial_radiance\" . This method of importing requires a different call for some functions as you'll see below. For example, instead of calling demo = RadianceObj(path = testfolder) as on Tutorial 2, in this case we will neeed to do demo = bifacial_radiance.RadianceObj(path = testfolder). "
   ]
  },
  {
   "cell_type": "code",
   "execution_count": 1,
   "metadata": {},
   "outputs": [],
   "source": [
    "import bifacial_radiance\n",
    "import numpy as np\n",
    "import os # this operative system to do teh relative-path testfolder for this example.\n",
    "import pprint    # We will be pretty-printing the trackerdictionary throughout to show its structure.\n",
    "from pathlib import Path"
   ]
  },
  {
   "cell_type": "markdown",
   "metadata": {},
   "source": [
    "<a id='step2'></a>"
   ]
  },
  {
   "cell_type": "markdown",
   "metadata": {},
   "source": [
    "## 2. Define all your system variables\n",
    "\n",
    "Just like in the condensed version show at the end of Tutorial 2, for this tutorial we will be starting all of our system variables from the beginning of the jupyter journal, instead than throughout the different cells (for the most part)"
   ]
  },
  {
   "cell_type": "code",
   "execution_count": 3,
   "metadata": {},
   "outputs": [],
   "source": [
    "testfolder = Path().resolve().parent.parent / 'bifacial_radiance' / 'TEMP'\n",
    "\n",
    "simulationName = 'Tutorial 3'    # For adding a simulation name when defning RadianceObj. This is optional.\n",
    "moduletype = 'Custom Cell-Level Module'    # We will define the parameters for this below in Step 4.\n",
    "albedo = \"litesoil\"      # this is one of the options on ground.rad\n",
    "lat = 37.5   \n",
    "lon = -77.6\n",
    "\n",
    "# Scene variables\n",
    "nMods = 20\n",
    "nRows = 7\n",
    "hub_height = 2.3 # meters\n",
    "pitch = 10 # meters      # We will be using pitch instead of GCR for this example.\n",
    "\n",
    "# Traking parameters\n",
    "cumulativesky = False\n",
    "limit_angle = 45 # tracker rotation limit angle\n",
    "angledelta = 0.01 # we will be doing hourly simulation, we want the angle to be as close to real tracking as possible.\n",
    "backtrack = True \n",
    "\n",
    "#makeModule parameters\n",
    "# x and y will be defined later on Step 4 for this tutorial!!\n",
    "xgap = 0.01\n",
    "ygap = 0.10\n",
    "zgap = 0.05\n",
    "numpanels = 2\n",
    "torquetube = True\n",
    "axisofrotationTorqueTube = True    # the scene will rotate around the torque tube, and not the bottom edge of the module\n",
    "diameter = 0.1\n",
    "tubetype = 'Oct'    # This will make an octagonal torque tube.\n",
    "material = 'black'   # Torque tube of this material (0% reflectivity)\n",
    "\n",
    "# starting in v0.4.0, some torque tube parameters are passed separately as a dictionary.\n",
    "tubeParams = {'diameter':diameter,\n",
    "              'tubetype':tubetype,\n",
    "              'material':material,\n",
    "              'axisofrotation':axisofrotationTorqueTube}\n"
   ]
  },
  {
   "cell_type": "markdown",
   "metadata": {},
   "source": [
    "<a id='step3'></a>"
   ]
  },
  {
   "cell_type": "markdown",
   "metadata": {},
   "source": [
    "## 3. Create Radiance Object, Set Albedo and Weather\n",
    "\n",
    "Same steps as previous two tutorials, so condensing it into one step. You hopefully have this down by now! :)\n",
    "\n",
    "\n",
    "<div class=\"alert alert-warning\">\n",
    "Notice that we are doing bifacial_radiance.RadianceObj because we change the import method for this example!\n",
    "</div>\n",
    "\n",
    "We now constrain the days of our analysis in the readWeatherFile import step.  For this example we are doing just two days in January. Format has to be a 'MM_DD' or 'YYYY-MM-DD_HHMM'"
   ]
  },
  {
   "cell_type": "code",
   "execution_count": 4,
   "metadata": {},
   "outputs": [
    {
     "name": "stdout",
     "output_type": "stream",
     "text": [
      "path = C:\\Users\\sayala\\Documents\\GitHub\\bifacial_radiance\\bifacial_radiance\\TEMP\n",
      "Loading albedo, 1 value(s), 0.213 avg\n",
      "1 nonzero albedo values.\n",
      "Getting weather file: USA_VA_Richmond.724010_TMY2.epw\n",
      " ... OK!\n",
      "8760 line in WeatherFile. Assuming this is a standard hourly  WeatherFile for the year for purposes of saving Gencumulativesky temporal weather files in EPW folder.\n",
      "Coercing year to 2021\n",
      "Filtering dates\n",
      "Saving file EPWs\\metdata_temp.csv, # points: 8760\n",
      "Calculating Sun position for Metdata that is right-labeled  with a delta of -30 mins. i.e. 12 is 11:30 sunpos\n"
     ]
    }
   ],
   "source": [
    "demo = bifacial_radiance.RadianceObj(simulationName, path = str(testfolder))  # Adding a simulation name. This is optional.\n",
    "demo.setGround(albedo) \n",
    "epwfile = demo.getEPW(lat=lat, lon=lon) \n",
    "\n",
    "starttime = '01_13';  endtime = '01_14'\n",
    "metdata = demo.readWeatherFile(weatherFile=epwfile, starttime=starttime, endtime=endtime) \n"
   ]
  },
  {
   "cell_type": "markdown",
   "metadata": {},
   "source": [
    "<a id='step4'></a>"
   ]
  },
  {
   "cell_type": "markdown",
   "metadata": {},
   "source": [
    "## 4. Make Module: Cell Level Module Example\n",
    "\n",
    "Instead of doing a opaque, flat single-surface module, in this tutorial we will create a module made up by cells. We can define variuos parameters to make a cell-level module, such as cell size and spacing between cells. To do this, we will pass a dicitonary with the needed parameters to makeModule, as shown below.  \n",
    "\n",
    "NOTE: in v0.4.0 some keywords were changed in makeModule - specifically the cellModule and tubeParams dictionary inputs.\n",
    "\n",
    "<div class=\"alert alert-warning\">\n",
    "Since we are passing a cell-level dictionary, the values for module's x and y of the module will be calculated by the software -- no need to pass them (and if you do, they'll just get ignored)\n",
    "    </div>"
   ]
  },
  {
   "cell_type": "code",
   "execution_count": 5,
   "metadata": {},
   "outputs": [
    {
     "name": "stdout",
     "output_type": "stream",
     "text": [
      "\n",
      "Module Name: Custom_Cell-Level_Module\n",
      "Module was shifted by 0.078 in X to avoid sensors on air\n",
      "This is a Cell-Level detailed module with Packaging Factor of 0.81 %\n",
      "Module Custom_Cell-Level_Module updated in module.json\n"
     ]
    }
   ],
   "source": [
    "numcellsx = 6\n",
    "numcellsy = 12\n",
    "xcell = 0.156\n",
    "ycell = 0.156\n",
    "xcellgap = 0.02\n",
    "ycellgap = 0.02\n",
    "\n",
    "cellModuleParams = {'numcellsx': numcellsx, 'numcellsy':numcellsy, \n",
    "              'xcell': xcell, 'ycell': ycell, 'xcellgap': xcellgap, 'ycellgap': ycellgap}\n",
    "\n",
    "mymodule = demo.makeModule(name=moduletype, torquetube=True,  \n",
    "                xgap=xgap, ygap=ygap, zgap=zgap, numpanels=numpanels, \n",
    "                cellModule=cellModuleParams, \n",
    "                tubeParams=tubeParams)"
   ]
  },
  {
   "cell_type": "markdown",
   "metadata": {},
   "source": [
    "<a id='step5'></a>"
   ]
  },
  {
   "cell_type": "markdown",
   "metadata": {},
   "source": [
    "## 5. Calculate GCR\n",
    "\n",
    "In this example we passed the parameter \"pitch\". Pitch is the spacing between rows (for example, between hub-posts) in a field.\n",
    "To calculate Ground Coverage Ratio (GCR), we must relate the pitch to the collector-width by:\n",
    "    \n",
    "![GCR = CW / pitch](../images_wiki/Journal3Pics/Equation_GCR.PNG)\n",
    "\n",
    "The collector width for our system must consider the number of panels and the y-gap:\n",
    "    \n",
    "![CW](../images_wiki/Journal3Pics/Equation_CW.PNG)\n",
    "    \n",
    "Collector Width gets saved in your module parameters (and later on your scene and trackerdict) as \"sceney\". You can calculate your collector width with the equation, or you can use this method to know your GCR:"
   ]
  },
  {
   "cell_type": "code",
   "execution_count": 6,
   "metadata": {},
   "outputs": [
    {
     "name": "stdout",
     "output_type": "stream",
     "text": [
      "The GCR is : 0.4284\n",
      "ModuleObj data keys: dict_keys(['x', 'y', 'z', 'modulematerial', 'scenex', 'sceney', 'scenez', 'numpanels', 'bifi', 'text', 'modulefile', 'offsetfromaxis', 'xgap', 'ygap', 'zgap', 'cellModule', 'torquetube'])\n"
     ]
    }
   ],
   "source": [
    "# For more options on makemodule, see the help description of the function.  \n",
    "# Details about the module are stored in the new ModuleObj \n",
    "CW = mymodule.sceney\n",
    "gcr = CW / pitch\n",
    "print (\"The GCR is :\", gcr)\n",
    "print(f\"ModuleObj data keys: {mymodule.keys}\")"
   ]
  },
  {
   "cell_type": "markdown",
   "metadata": {},
   "source": [
    "<a id='step6'></a>"
   ]
  },
  {
   "cell_type": "markdown",
   "metadata": {},
   "source": [
    "## 6. Set Tracking Angles\n",
    "\n",
    "This function will read the weather file, and based on the sun position it will calculate the angle the tracker should be at for each hour. It will create metdata files for each of the tracker angles considered.\n",
    "\n",
    "For doing hourly simulations, remember to set **cumulativesky = False** here!"
   ]
  },
  {
   "cell_type": "code",
   "execution_count": 7,
   "metadata": {},
   "outputs": [],
   "source": [
    "trackerdict = demo.set1axis(metdata=metdata, limit_angle=limit_angle, backtrack=backtrack, \n",
    "                            gcr=gcr, cumulativesky=False)"
   ]
  },
  {
   "cell_type": "code",
   "execution_count": 8,
   "metadata": {
    "scrolled": true
   },
   "outputs": [
    {
     "name": "stdout",
     "output_type": "stream",
     "text": [
      "Trackerdict created by set1axis: 20 \n"
     ]
    }
   ],
   "source": [
    "print (\"Trackerdict created by set1axis: %s \" % (len(demo.trackerdict))) \n"
   ]
  },
  {
   "cell_type": "markdown",
   "metadata": {},
   "source": [
    "set1axis initializes the trackerdictionary Trackerdict. Trackerdict contains all hours selected from the weatherfile as keys. For example: trackerdict['2021-01-13_1200']. It is a return variable on many of the 1axis functions, but it is also stored inside of your Radiance Obj (i.e. demo.trackerdict). In this journal we are storing it as a variable to mute the option (otherwise it prints the returned trackerdict contents every time)\n"
   ]
  },
  {
   "cell_type": "code",
   "execution_count": 9,
   "metadata": {},
   "outputs": [
    {
     "name": "stdout",
     "output_type": "stream",
     "text": [
      "{'dhi': 200, 'ghi': 249, 'surf_azm': 90.0, 'surf_tilt': 21.2, 'theta': -21.2}\n"
     ]
    }
   ],
   "source": [
    "pprint.pprint(trackerdict['2021-01-13_1200'])\n"
   ]
  },
  {
   "cell_type": "markdown",
   "metadata": {},
   "source": [
    "All of the following functions add up elements to trackerdictionary to keep track (ba-dum tupzz) of the Scene and simulation parameters. In advanced journals we will explore the inner structure of trackerdict. For now, just now it exists :)"
   ]
  },
  {
   "cell_type": "markdown",
   "metadata": {},
   "source": [
    "<a id='step7'></a>"
   ]
  },
  {
   "cell_type": "markdown",
   "metadata": {},
   "source": [
    "## 7. Generate the Sky\n",
    "\n",
    "\n",
    "We will create skies for each hour we want to model with the function gendaylit1axis. \n",
    "\n",
    "For this example we are doing just two days in January. The ability to limit the time using gendaylit1axis is deprecated.  Use readWeatherFile instead."
   ]
  },
  {
   "cell_type": "code",
   "execution_count": 11,
   "metadata": {},
   "outputs": [
    {
     "name": "stdout",
     "output_type": "stream",
     "text": [
      "Creating ~20 skyfiles.  Takes 1-2 minutes\n",
      "Created 19 skyfiles in /skies/\n"
     ]
    }
   ],
   "source": [
    "\n",
    "trackerdict = demo.gendaylit1axis() "
   ]
  },
  {
   "cell_type": "markdown",
   "metadata": {},
   "source": [
    "Since we passed startdate and enddate to gendaylit, it will prune our trackerdict to only the desired days.\n",
    "Let's explore our trackerdict:"
   ]
  },
  {
   "cell_type": "code",
   "execution_count": 12,
   "metadata": {},
   "outputs": [
    {
     "name": "stdout",
     "output_type": "stream",
     "text": [
      "Trackerdict option of hours are:  ['2021-01-13_0800', '2021-01-13_0900', '2021-01-13_1000', '2021-01-13_1100', '2021-01-13_1200', '2021-01-13_1300', '2021-01-13_1400', '2021-01-13_1500', '2021-01-13_1600', '2021-01-13_1700', '2021-01-14_0800', '2021-01-14_0900', '2021-01-14_1000', '2021-01-14_1100', '2021-01-14_1200', '2021-01-14_1300', '2021-01-14_1400', '2021-01-14_1500', '2021-01-14_1600']\n",
      "\n",
      "Contents of trackerdict for sample hour:\n",
      "{'dhi': 22,\n",
      " 'ghi': 23,\n",
      " 'skyfile': 'skies\\\\sky2_37.5_-77.33_2021-01-13_0800.rad',\n",
      " 'surf_azm': 90.0,\n",
      " 'surf_tilt': 3.74,\n",
      " 'theta': -3.74}\n"
     ]
    }
   ],
   "source": [
    "trackerkeys = sorted(trackerdict.keys())\n",
    "print (\"Trackerdict option of hours are: \", trackerkeys)\n",
    "print (\"\")\n",
    "print (\"Contents of trackerdict for sample hour:\")\n",
    "pprint.pprint(trackerdict[trackerkeys[0]])"
   ]
  },
  {
   "cell_type": "markdown",
   "metadata": {},
   "source": [
    "<a id='step8'></a>"
   ]
  },
  {
   "cell_type": "markdown",
   "metadata": {},
   "source": [
    "## 8. Make Scene 1axis\n",
    "\n",
    "We can use gcr or pitch fo our scene dictionary."
   ]
  },
  {
   "cell_type": "code",
   "execution_count": 13,
   "metadata": {},
   "outputs": [
    {
     "name": "stdout",
     "output_type": "stream",
     "text": [
      "\n",
      "Making ~19 .rad files for gendaylit 1-axis workflow (this takes a minute..)\n",
      "19 Radfiles created in /objects/\n"
     ]
    }
   ],
   "source": [
    "# making the different scenes for the 1-axis tracking for the dates in trackerdict2.\n",
    "\n",
    "sceneDict = {'pitch': pitch,'hub_height':hub_height, 'nMods':nMods, 'nRows': nRows}  \n",
    "\n",
    "trackerdict = demo.makeScene1axis(trackerdict=trackerdict, module=mymodule, sceneDict=sceneDict) "
   ]
  },
  {
   "cell_type": "markdown",
   "metadata": {},
   "source": [
    "The scene parameteres are now stored in the trackerdict. To view them and to access them:\n",
    "    "
   ]
  },
  {
   "cell_type": "code",
   "execution_count": 14,
   "metadata": {},
   "outputs": [
    {
     "name": "stdout",
     "output_type": "stream",
     "text": [
      "{'clearance_height': 2.160279548406131,\n",
      " 'dhi': 22,\n",
      " 'ghi': 23,\n",
      " 'radfile': 'objects\\\\1axis2021-01-13_0800__C_2.16028_rtr_10.00000_tilt_3.74000_20modsx7rows_origin0,0.rad',\n",
      " 'scene': <bifacial_radiance.main.SceneObj object at 0x00000285696E3280>,\n",
      " 'skyfile': 'skies\\\\sky2_37.5_-77.33_2021-01-13_0800.rad',\n",
      " 'surf_azm': 90.0,\n",
      " 'surf_tilt': 3.74,\n",
      " 'theta': -3.74}\n"
     ]
    }
   ],
   "source": [
    "pprint.pprint(trackerdict[trackerkeys[0]])"
   ]
  },
  {
   "cell_type": "code",
   "execution_count": 15,
   "metadata": {},
   "outputs": [
    {
     "name": "stdout",
     "output_type": "stream",
     "text": [
      "{'gcr': 0.4284,\n",
      " 'module': <bifacial_radiance.main.ModuleObj object at 0x000002856785F9D0>,\n",
      " 'moduleDict': {'bifi': 1,\n",
      "                'cellModule': {'numcellsx': 6,\n",
      "                               'numcellsy': 12,\n",
      "                               'xcell': 0.156,\n",
      "                               'xcellgap': 0.02,\n",
      "                               'ycell': 0.156,\n",
      "                               'ycellgap': 0.02},\n",
      "                'modulefile': 'objects\\\\Custom_Cell-Level_Module.rad',\n",
      "                'modulematerial': 'black',\n",
      "                'numpanels': 2,\n",
      "                'offsetfromaxis': 0,\n",
      "                'scenex': 1.046,\n",
      "                'sceney': 4.284,\n",
      "                'scenez': 0.1,\n",
      "                'text': '! genbox black cellPVmodule 0.156 0.156 0.02 | xform '\n",
      "                        '-t -0.44 -2.142 0 -a 6 -t 0.176 0 0 -a 12 -t 0 0.176 '\n",
      "                        '0 -a 2 -t 0 2.192 0\\r\\n'\n",
      "                        '! genbox black octtube1a 1.046 0.04142135623730951 '\n",
      "                        '0.1 | xform -t -0.523 -0.020710678118654756 '\n",
      "                        '-0.15000000000000002\\r\\n'\n",
      "                        '! genbox black octtube1b 1.046 0.04142135623730951 '\n",
      "                        '0.1 | xform -t -0.445 -0.020710678118654756 -0.05 -rx '\n",
      "                        '45 -t 0 0 -0.1\\r\\n'\n",
      "                        '! genbox black octtube1c 1.046 0.04142135623730951 '\n",
      "                        '0.1 | xform -t -0.445 -0.020710678118654756 -0.05 -rx '\n",
      "                        '90 -t 0 0 -0.1\\r\\n'\n",
      "                        '! genbox black octtube1d 1.046 0.04142135623730951 '\n",
      "                        '0.1 | xform -t -0.445 -0.020710678118654756 -0.05 -rx '\n",
      "                        '135 -t 0 0 -0.1 ',\n",
      "                'torquetube': {'bool': True,\n",
      "                               'diameter': 0.1,\n",
      "                               'material': 'black',\n",
      "                               'tubetype': 'Oct'},\n",
      "                'x': 1.036,\n",
      "                'xgap': 0.01,\n",
      "                'y': 2.092,\n",
      "                'ygap': 0.1,\n",
      "                'z': 0.02,\n",
      "                'zgap': 0.05},\n",
      " 'modulefile': 'objects\\\\Custom_Cell-Level_Module.rad',\n",
      " 'offsetfromaxis': 0,\n",
      " 'radfiles': 'objects\\\\1axis2021-01-13_1300__C_2.10177_rtr_10.00000_tilt_-5.31000_20modsx7rows_origin0,0.rad',\n",
      " 'sceneDict': {'axis_tilt': 0,\n",
      "               'azimuth': 90.0,\n",
      "               'clearance_height': 2.1017699534986805,\n",
      "               'modulez': 0.02,\n",
      "               'nMods': 20,\n",
      "               'nRows': 7,\n",
      "               'originx': 0,\n",
      "               'originy': 0,\n",
      "               'pitch': 10,\n",
      "               'tilt': -5.31},\n",
      " 'scenex': 1.046,\n",
      " 'sceney': 4.284,\n",
      " 'text': '!xform -rx -5.31 -t 0 0 2.3 -a 20 -t 1.046 0 0 -a 7 -t 0 10 0 -i 1 '\n",
      "         '-t -9.414 -30.0 0 -rz 90.0 -t 0 0 0 '\n",
      "         'objects\\\\Custom_Cell-Level_Module.rad'}\n"
     ]
    }
   ],
   "source": [
    "pprint.pprint(demo.trackerdict[trackerkeys[5]]['scene'].__dict__)"
   ]
  },
  {
   "cell_type": "markdown",
   "metadata": {},
   "source": [
    "<a id='step9a'></a>"
   ]
  },
  {
   "cell_type": "markdown",
   "metadata": {},
   "source": [
    "## 9. Make Oct and Analyze \n",
    "\n",
    "### A. Make Oct and Analyze 1Hour\n",
    "\n",
    "There are various options now to analyze the trackerdict hours we have defined. We will start by doing just one hour, because it's the fastest. Make sure to select an hour that exists in your trackerdict!\n",
    "\n",
    "Options of hours:"
   ]
  },
  {
   "cell_type": "code",
   "execution_count": 16,
   "metadata": {},
   "outputs": [
    {
     "name": "stdout",
     "output_type": "stream",
     "text": [
      "['2021-01-13_0800',\n",
      " '2021-01-13_0900',\n",
      " '2021-01-13_1000',\n",
      " '2021-01-13_1100',\n",
      " '2021-01-13_1200',\n",
      " '2021-01-13_1300',\n",
      " '2021-01-13_1400',\n",
      " '2021-01-13_1500',\n",
      " '2021-01-13_1600',\n",
      " '2021-01-13_1700',\n",
      " '2021-01-14_0800',\n",
      " '2021-01-14_0900',\n",
      " '2021-01-14_1000',\n",
      " '2021-01-14_1100',\n",
      " '2021-01-14_1200',\n",
      " '2021-01-14_1300',\n",
      " '2021-01-14_1400',\n",
      " '2021-01-14_1500',\n",
      " '2021-01-14_1600']\n"
     ]
    }
   ],
   "source": [
    "pprint.pprint(trackerkeys)"
   ]
  },
  {
   "cell_type": "code",
   "execution_count": 17,
   "metadata": {},
   "outputs": [
    {
     "name": "stdout",
     "output_type": "stream",
     "text": [
      "\n",
      "Making 1 octfiles in root directory.\n",
      "Created 1axis_2021-01-13_0800.oct\n",
      "Linescan in process: 1axis_2021-01-13_0800_Front\n",
      "Linescan in process: 1axis_2021-01-13_0800_Back\n",
      "Saved: results\\irr_1axis_2021-01-13_0800.csv\n",
      "Index: 2021-01-13_0800. Wm2Front: 21.997914555555557. Wm2Back: 2.7988606666666667\n",
      "\n",
      "\n",
      "Hourly bifi gain: 0.127\n"
     ]
    }
   ],
   "source": [
    "demo.makeOct1axis(singleindex='2021-01-13_0800')\n",
    "results = demo.analysis1axis(singleindex='2021-01-13_0800')\n",
    "print('\\n\\nHourly bifi gain: {:0.3}'.format(sum(demo.Wm2Back) / sum(demo.Wm2Front)))"
   ]
  },
  {
   "cell_type": "markdown",
   "metadata": {},
   "source": [
    "The trackerdict now contains information about the octfile, as well as the Analysis Object results"
   ]
  },
  {
   "cell_type": "code",
   "execution_count": 18,
   "metadata": {},
   "outputs": [
    {
     "name": "stdout",
     "output_type": "stream",
     "text": [
      "\n",
      " Contents of trackerdict for sample hour after analysis1axis: \n",
      "{'AnalysisObj': <bifacial_radiance.main.AnalysisObj object at 0x00000285696E3B80>,\n",
      " 'Wm2Back': [2.924148666666667,\n",
      "             2.8673869999999995,\n",
      "             2.812069333333333,\n",
      "             2.689787666666667,\n",
      "             2.990579,\n",
      "             2.6426313333333336,\n",
      "             2.727484666666667,\n",
      "             2.7545403333333334,\n",
      "             2.7811179999999998],\n",
      " 'Wm2Front': [23.61272,\n",
      "              23.61375333333333,\n",
      "              23.61418,\n",
      "              23.614606666666663,\n",
      "              8.734767666666665,\n",
      "              23.692423333333334,\n",
      "              23.696346666666667,\n",
      "              23.699593333333336,\n",
      "              23.70284],\n",
      " 'backRatio': [0.12383261369520206,\n",
      "               0.12142354228839426,\n",
      "               0.11907888626439997,\n",
      "               0.11389873250486052,\n",
      "               0.34233728667158164,\n",
      "               0.11153438218509862,\n",
      "               0.11509662685161376,\n",
      "               0.11622242087328895,\n",
      "               0.1173277409904893],\n",
      " 'clearance_height': 2.160279548406131,\n",
      " 'dhi': 22,\n",
      " 'ghi': 23,\n",
      " 'octfile': '1axis_2021-01-13_0800.oct',\n",
      " 'radfile': 'objects\\\\1axis2021-01-13_0800__C_2.16028_rtr_10.00000_tilt_3.74000_20modsx7rows_origin0,0.rad',\n",
      " 'scene': <bifacial_radiance.main.SceneObj object at 0x00000285696E3280>,\n",
      " 'skyfile': 'skies\\\\sky2_37.5_-77.33_2021-01-13_0800.rad',\n",
      " 'surf_azm': 90.0,\n",
      " 'surf_tilt': 3.74,\n",
      " 'theta': -3.74}\n"
     ]
    }
   ],
   "source": [
    "print (\"\\n Contents of trackerdict for sample hour after analysis1axis: \")\n",
    "pprint.pprint(trackerdict[trackerkeys[0]])\n"
   ]
  },
  {
   "cell_type": "code",
   "execution_count": 19,
   "metadata": {},
   "outputs": [
    {
     "name": "stdout",
     "output_type": "stream",
     "text": [
      "{'Wm2Back': [2.924148666666667,\n",
      "             2.8673869999999995,\n",
      "             2.812069333333333,\n",
      "             2.689787666666667,\n",
      "             2.990579,\n",
      "             2.6426313333333336,\n",
      "             2.727484666666667,\n",
      "             2.7545403333333334,\n",
      "             2.7811179999999998],\n",
      " 'Wm2Front': [23.61272,\n",
      "              23.61375333333333,\n",
      "              23.61418,\n",
      "              23.614606666666663,\n",
      "              8.734767666666665,\n",
      "              23.692423333333334,\n",
      "              23.696346666666667,\n",
      "              23.699593333333336,\n",
      "              23.70284],\n",
      " 'backRatio': [0.12383261369520206,\n",
      "               0.12142354228839426,\n",
      "               0.11907888626439997,\n",
      "               0.11389873250486052,\n",
      "               0.34233728667158164,\n",
      "               0.11153438218509862,\n",
      "               0.11509662685161376,\n",
      "               0.11622242087328895,\n",
      "               0.1173277409904893],\n",
      " 'mattype': ['a9.3.a2.2.0.cellPVmodule.6457',\n",
      "             'a9.3.a2.4.0.cellPVmodule.6457',\n",
      "             'a9.3.a2.7.0.cellPVmodule.6457',\n",
      "             'a9.3.a2.9.0.cellPVmodule.6457',\n",
      "             'a9.3.octtube1a.6457',\n",
      "             'a9.3.a2.2.1.cellPVmodule.6457',\n",
      "             'a9.3.a2.4.1.cellPVmodule.6457',\n",
      "             'a9.3.a2.7.1.cellPVmodule.6457',\n",
      "             'a9.3.a2.9.1.cellPVmodule.6457'],\n",
      " 'name': '1axis_2021-01-13_0800',\n",
      " 'octfile': '1axis_2021-01-13_0800.oct',\n",
      " 'rearMat': ['a9.3.a2.2.0.cellPVmodule.2310',\n",
      "             'a9.3.a2.4.0.cellPVmodule.2310',\n",
      "             'a9.3.a2.7.0.cellPVmodule.2310',\n",
      "             'a9.3.a2.9.0.cellPVmodule.2310',\n",
      "             'sky',\n",
      "             'a9.3.a2.2.1.cellPVmodule.2310',\n",
      "             'a9.3.a2.4.1.cellPVmodule.2310',\n",
      "             'a9.3.a2.7.1.cellPVmodule.2310',\n",
      "             'a9.3.a2.9.1.cellPVmodule.2310'],\n",
      " 'rearX': [1.709885,\n",
      "           1.282398,\n",
      "           0.8549101,\n",
      "           0.4274224,\n",
      "           -6.522897e-05,\n",
      "           -0.4275529,\n",
      "           -0.8550405,\n",
      "           -1.282528,\n",
      "           -1.710016],\n",
      " 'rearY': [1.047003e-16,\n",
      "           7.852421e-17,\n",
      "           5.234814e-17,\n",
      "           2.617207e-17,\n",
      "           -3.994122e-21,\n",
      "           -2.618006e-17,\n",
      "           -5.235613e-17,\n",
      "           -7.85322e-17,\n",
      "           -1.047083e-16],\n",
      " 'rearZ': [2.187226,\n",
      "           2.21517,\n",
      "           2.243114,\n",
      "           2.271058,\n",
      "           2.299002,\n",
      "           2.326946,\n",
      "           2.35489,\n",
      "           2.382834,\n",
      "           2.410778],\n",
      " 'x': [1.71132,\n",
      "       1.283833,\n",
      "       0.8563451,\n",
      "       0.4288575,\n",
      "       0.001369808,\n",
      "       -0.4261178,\n",
      "       -0.8536055,\n",
      "       -1.281093,\n",
      "       -1.708581],\n",
      " 'y': [1.047882e-16,\n",
      "       7.861208e-17,\n",
      "       5.243601e-17,\n",
      "       2.625995e-17,\n",
      "       8.387657e-20,\n",
      "       -2.609219e-17,\n",
      "       -5.226826e-17,\n",
      "       -7.844433e-17,\n",
      "       -1.046204e-16],\n",
      " 'z': [2.209179,\n",
      "       2.237123,\n",
      "       2.265067,\n",
      "       2.293011,\n",
      "       2.320955,\n",
      "       2.348899,\n",
      "       2.376843,\n",
      "       2.404788,\n",
      "       2.432732]}\n"
     ]
    }
   ],
   "source": [
    "pprint.pprint(trackerdict[trackerkeys[0]]['AnalysisObj'].__dict__)"
   ]
  },
  {
   "cell_type": "markdown",
   "metadata": {},
   "source": [
    "<a id='step9b'></a>"
   ]
  },
  {
   "cell_type": "markdown",
   "metadata": {},
   "source": [
    "### B. Make Oct and Analye Range of Hours"
   ]
  },
  {
   "cell_type": "markdown",
   "metadata": {},
   "source": [
    "You could do a list of indices following a similar procedure:"
   ]
  },
  {
   "cell_type": "code",
   "execution_count": 20,
   "metadata": {},
   "outputs": [
    {
     "name": "stdout",
     "output_type": "stream",
     "text": [
      "\n",
      "Making 1 octfiles in root directory.\n",
      "Created 1axis_2021-01-13_0900.oct\n",
      "Linescan in process: 1axis_2021-01-13_0900_Front\n",
      "Linescan in process: 1axis_2021-01-13_0900_Back\n",
      "Saved: results\\irr_1axis_2021-01-13_0900.csv\n",
      "Index: 2021-01-13_0900. Wm2Front: 94.37003555555556. Wm2Back: 7.1145364814814815\n",
      "\n",
      "Making 1 octfiles in root directory.\n",
      "Created 1axis_2021-01-13_1300.oct\n",
      "Linescan in process: 1axis_2021-01-13_1300_Front\n",
      "Linescan in process: 1axis_2021-01-13_1300_Back\n",
      "Saved: results\\irr_1axis_2021-01-13_1300.csv\n",
      "Index: 2021-01-13_1300. Wm2Front: 218.52505185185183. Wm2Back: 30.70506222222222\n",
      "Accumulated hourly bifi gain: 0.121\n"
     ]
    }
   ],
   "source": [
    "for time in ['2021-01-13_0900','2021-01-13_1300']:  \n",
    "    demo.makeOct1axis(singleindex=time)\n",
    "    results=demo.analysis1axis(singleindex=time)\n",
    "\n",
    "print('Accumulated hourly bifi gain: {:0.3}'.format(sum(demo.Wm2Back) / sum(demo.Wm2Front)))"
   ]
  },
  {
   "cell_type": "markdown",
   "metadata": {},
   "source": [
    "Note that the bifacial gain printed above is for the accumulated irradiance between the hours modeled so far. \n",
    "That is, demo.Wm2Back and demo.Wm2Front are for January 13, 8AM, 9AM and  1 PM. Compare demo.Wm2back below with what we had before:"
   ]
  },
  {
   "cell_type": "code",
   "execution_count": 21,
   "metadata": {},
   "outputs": [
    {
     "data": {
      "text/plain": [
       "array([37.49391533, 36.02065467, 34.77338167, 32.50565867, 84.072514  ,\n",
       "       33.24010967, 34.53906433, 35.82348067, 37.09735533])"
      ]
     },
     "execution_count": 21,
     "metadata": {},
     "output_type": "execute_result"
    }
   ],
   "source": [
    "demo.Wm2Back"
   ]
  },
  {
   "cell_type": "markdown",
   "metadata": {},
   "source": [
    "To print the specific bifacial gain for a specific hour, you can use the following:"
   ]
  },
  {
   "cell_type": "code",
   "execution_count": 22,
   "metadata": {},
   "outputs": [
    {
     "data": {
      "text/plain": [
       "0.14051049049991116"
      ]
     },
     "execution_count": 39,
     "metadata": {},
     "output_type": "execute_result"
    }
   ],
   "source": [
    "sum(trackerdict['2021-01-13_1300']['AnalysisObj'].Wm2Back) / sum(trackerdict['2021-01-13_1300']['AnalysisObj'].Wm2Front)"
   ]
  },
  {
   "cell_type": "markdown",
   "metadata": {},
   "source": [
    "<a id='step9c'></a>"
   ]
  },
  {
   "cell_type": "markdown",
   "metadata": {},
   "source": [
    "### C. Make Oct and Analyze All Tracking Dictionary\n",
    "\n",
    "This takes considerably more time, depending on the number of entries on the trackerdictionary. If no **starttime** and **endtime** were specified on STEP **readWeatherFile, this will run ALL of the hours in the year (~4000 hours).**\n"
   ]
  },
  {
   "cell_type": "code",
   "execution_count": null,
   "metadata": {},
   "outputs": [
    {
     "name": "stdout",
     "output_type": "stream",
     "text": [
      "\n",
      "Making 19 octfiles in root directory.\n",
      "Created 1axis_2021-01-13_0800.oct\n",
      "Created 1axis_2021-01-13_0900.oct\n",
      "Created 1axis_2021-01-13_1000.oct\n",
      "Created 1axis_2021-01-13_1100.oct\n",
      "Created 1axis_2021-01-13_1200.oct\n",
      "Created 1axis_2021-01-13_1300.oct\n",
      "Created 1axis_2021-01-13_1400.oct\n",
      "Created 1axis_2021-01-13_1500.oct\n",
      "Created 1axis_2021-01-13_1600.oct\n",
      "Created 1axis_2021-01-13_1700.oct\n",
      "Created 1axis_2021-01-14_0800.oct\n",
      "Created 1axis_2021-01-14_0900.oct\n",
      "Created 1axis_2021-01-14_1000.oct\n",
      "Created 1axis_2021-01-14_1100.oct\n",
      "Created 1axis_2021-01-14_1200.oct\n",
      "Created 1axis_2021-01-14_1300.oct\n",
      "Created 1axis_2021-01-14_1400.oct\n",
      "Created 1axis_2021-01-14_1500.oct\n",
      "Created 1axis_2021-01-14_1600.oct\n",
      "Linescan in process: 1axis_2021-01-13_0800_Front\n",
      "Linescan in process: 1axis_2021-01-13_0800_Back\n",
      "Saved: results\\irr_1axis_2021-01-13_0800.csv\n",
      "Index: 2021-01-13_0800. Wm2Front: 23.54898814814815. Wm2Back: 2.8068647777777773\n",
      "Linescan in process: 1axis_2021-01-13_0900_Front\n",
      "Linescan in process: 1axis_2021-01-13_0900_Back\n",
      "Saved: results\\irr_1axis_2021-01-13_0900.csv\n",
      "Index: 2021-01-13_0900. Wm2Front: 90.78037925925926. Wm2Back: 7.053525222222222\n",
      "Linescan in process: 1axis_2021-01-13_1000_Front\n",
      "Linescan in process: 1axis_2021-01-13_1000_Back\n",
      "Saved: results\\irr_1axis_2021-01-13_1000.csv\n",
      "Index: 2021-01-13_1000. Wm2Front: 310.200462962963. Wm2Back: 31.086537777777778\n",
      "Linescan in process: 1axis_2021-01-13_1100_Front\n",
      "Linescan in process: 1axis_2021-01-13_1100_Back\n",
      "Saved: results\\irr_1axis_2021-01-13_1100.csv\n",
      "Index: 2021-01-13_1100. Wm2Front: 236.7386851851852. Wm2Back: 31.276634814814813\n",
      "Linescan in process: 1axis_2021-01-13_1200_Front\n",
      "Linescan in process: 1axis_2021-01-13_1200_Back\n",
      "Saved: results\\irr_1axis_2021-01-13_1200.csv\n",
      "Index: 2021-01-13_1200. Wm2Front: 241.38896666666668. Wm2Back: 30.30286814814815\n",
      "Linescan in process: 1axis_2021-01-13_1300_Front\n",
      "Linescan in process: 1axis_2021-01-13_1300_Back\n",
      "Saved: results\\irr_1axis_2021-01-13_1300.csv\n",
      "Index: 2021-01-13_1300. Wm2Front: 218.70455555555554. Wm2Back: 30.735818148148148\n",
      "Linescan in process: 1axis_2021-01-13_1400_Front\n"
     ]
    }
   ],
   "source": [
    "demo.makeOct1axis()\n",
    "results = demo.analysis1axis()\n",
    "print('Accumulated hourly bifi gain for all the trackerdict: {:0.3}'.format(sum(demo.Wm2Back) / sum(demo.Wm2Front)))\n"
   ]
  },
  {
   "cell_type": "markdown",
   "metadata": {},
   "source": [
    "<div class=\"alert alert-warning\">\n",
    "Remember you should clean your results first! This will have torquetube and sky results if performed this way so don't trust this simplistic bifacial_gain examples.\n",
    "</div>"
   ]
  },
  {
   "cell_type": "markdown",
   "metadata": {},
   "source": [
    "<a id='condensed'></a>"
   ]
  },
  {
   "cell_type": "markdown",
   "metadata": {},
   "source": [
    "### Condensed Version: All Tracking Dictionary\n",
    "\n",
    "This is the summarized version to run gendaylit for each entry in the trackingdictionary."
   ]
  },
  {
   "cell_type": "code",
   "execution_count": null,
   "metadata": {},
   "outputs": [],
   "source": [
    "import bifacial_radiance\n",
    "import os \n",
    "\n",
    "simulationName = 'Tutorial 3'\n",
    "moduletype = 'Custom Cell-Level Module'    # We will define the parameters for this below in Step 4.\n",
    "testfolder = os.path.abspath(r'..\\..\\bifacial_radiance\\TEMP')\n",
    "albedo = \"litesoil\"      # this is one of the options on ground.rad\n",
    "lat = 37.5   \n",
    "lon = -77.6\n",
    "\n",
    "# Scene variables\n",
    "nMods = 20\n",
    "nRows = 7\n",
    "hub_height = 2.3 # meters\n",
    "pitch = 10 # meters      # We will be using pitch instead of GCR for this example.\n",
    "\n",
    "# Traking parameters\n",
    "cumulativesky = False\n",
    "limit_angle = 45 # tracker rotation limit angle\n",
    "angledelta = 0.01 # we will be doing hourly simulation, we want the angle to be as close to real tracking as possible.\n",
    "backtrack = True \n",
    "\n",
    "#makeModule parameters\n",
    "# x and y will be defined later on Step 4 for this tutorial!!\n",
    "xgap = 0.01\n",
    "ygap = 0.10\n",
    "zgap = 0.05\n",
    "numpanels = 2\n",
    "torquetube = True\n",
    "axisofrotationTorqueTube = True  # the scene will rotate around the torque tube, and not the bottom edge of the module\n",
    "diameter = 0.1\n",
    "tubetype = 'Oct'    # This will make an octagonal torque tube.\n",
    "material = 'black'   # Torque tube material (0% reflectivity)\n",
    "tubeParams = {'diameter':diameter,\n",
    "              'tubetype':tubetype,\n",
    "              'material':material,\n",
    "              'axisofrotation':axisofrotationTorqueTube}\n",
    "\n",
    "startdate = '11_06'     \n",
    "enddate = '11_06'\n",
    "demo = bifacial_radiance.RadianceObj(simulationName, path=testfolder)  \n",
    "demo.setGround(albedo) \n",
    "epwfile = demo.getEPW(lat,lon) \n",
    "metdata = demo.readWeatherFile(epwfile, starttime=startdate, endtime=enddate)  \n",
    "mymodule = bifacial_radiance.ModuleObj(name=moduletype, torquetube=torquetube, xgap=xgap, ygap=ygap,   \n",
    "                zgap=zgap, numpanels=numpanels,cellModule=cellModuleParams, tubeParams=tubeParams)\n",
    "sceneDict = {'pitch':pitch,'hub_height':hub_height, 'nMods': nMods, 'nRows': nRows}  \n",
    "demo.set1axis(limit_angle = limit_angle, backtrack = backtrack, gcr = gcr, cumulativesky = cumulativesky)\n",
    "demo.gendaylit1axis(startdate=startdate, enddate=enddate)\n",
    "demo.makeScene1axis(module=mymodule,sceneDict=sceneDict) #makeScene creates a .rad file with 20 modules per row, 7 rows.\n",
    "demo.makeOct1axis()\n",
    "demo.analysis1axis()"
   ]
  }
 ],
 "metadata": {
  "anaconda-cloud": {},
  "kernelspec": {
   "display_name": "Python 3",
   "language": "python",
   "name": "python3"
  },
  "language_info": {
   "codemirror_mode": {
    "name": "ipython",
    "version": 3
   },
   "file_extension": ".py",
   "mimetype": "text/x-python",
   "name": "python",
   "nbconvert_exporter": "python",
   "pygments_lexer": "ipython3",
   "version": "3.7.3"
  }
 },
 "nbformat": 4,
 "nbformat_minor": 1
}
