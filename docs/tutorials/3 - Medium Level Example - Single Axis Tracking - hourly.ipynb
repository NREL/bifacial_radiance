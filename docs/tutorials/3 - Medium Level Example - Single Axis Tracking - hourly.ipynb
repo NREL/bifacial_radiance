{
 "cells": [
  {
   "cell_type": "markdown",
   "metadata": {},
   "source": [
    "## 3 - Medium Level Example - 1-Axis tracker by hour (gendaylit)\n",
    "\n",
    "Example demonstrating the use of doing hourly smiulations with Radiance gendaylit for 1-axis tracking. This is a medium level example because it also explores a couple subtopics:\n",
    "\n",
    "#### Subtopics:\n",
    "<ul>\n",
    "    <li> The structure of the tracker dictionary \"trackerDict\". </li>\n",
    "    <li> How to calculate GCR </li>\n",
    "    <li> How to make a cell-level module </li>\n",
    "    <li> Various methods to use the trackerdictionary for analysis. </li>\n",
    "</ul>\n",
    " \n",
    "#### Doing full year simulations with gendaylit: \n",
    "\n",
    "Performs the simulation hour by hour requires either a good computer or some patience, since there are ~4000 daylight-hours in the year. With a 32GB RAM, Windows 10 i7-8700 CPU @ 3.2GHz with 6 cores this takes 1 day. The code also allows for multiple cores or HPC use -- there is documentation/examples inside the software at the moment, but that is an advanced topic. The procedure can be broken into shorter steps for one day or a single timestamp simulation which is exemplified below.\n",
    "\n",
    "### Steps:\n",
    "<ol>\n",
    "    <li> <a href='#step1'> Load bifacial_radiance </a></li> \n",
    "    <li> <a href='#step2'> Define all your system variables </a></li> \n",
    "    <li> <a href='#step3'> Create Radiance Object, Set Albedo and Weather </a></li> \n",
    "    <li> <a href='#step4'> Make Module: Cell Level Module Example </a></li>    \n",
    "    <li> <a href='#step5'> Calculate GCR</a></li> \n",
    "    <li> <a href='#step6'> Set Tracking Angles </a></li> \n",
    "    <li> <a href='#step7'> Generate the Sky </a></li> \n",
    "    <li> <a href='#step8'> Make Scene 1axis </a></li> \n",
    "    <li> <ol type=\"A\"><li><a href='#step9a'> Make Oct and AnalyzE 1 HOUR </a></li> \n",
    "    <li> <a href='#step9b'> Make Oct and Analye Range of Hours </a></li> \n",
    "        <li> <a href='#step9c'>  Make Oct and Analyze All Tracking Dictionary </a></li> </ol>\n",
    "</ol>\n",
    "\n",
    "And finally:  <ul> <a href='#condensed'> Condensed Version: All Tracking Dictionary </a></ul>   "
   ]
  },
  {
   "cell_type": "markdown",
   "metadata": {},
   "source": [
    "<a id='step1'></a>"
   ]
  },
  {
   "cell_type": "markdown",
   "metadata": {},
   "source": [
    "\n",
    "## 1. Load bifacial_radiance \n",
    "\n",
    "#### Pay attention: different importing method:\n",
    "\n",
    "So far we've used \"from bifacial_radiance import *\" to import all the bifacial_radiance files into our working space in jupyter. For this journal we will do a \"import bifacial_radiance\" . This method of importing requires a different call for some functions as you'll see below. For example, instead of calling demo = RadianceObj(path = testfolder) as on Tutorial 2, in this case we will neeed to do demo = bifacial_radiance.RadianceObj(path = testfolder). "
   ]
  },
  {
   "cell_type": "code",
   "execution_count": 2,
   "metadata": {},
   "outputs": [],
   "source": [
    "import bifacial_radiance\n",
    "import numpy as np\n",
    "import os # this operative system to do teh relative-path testfolder for this example.\n",
    "import pprint    # We will be pretty-printing the trackerdictionary throughout to show its structure."
   ]
  },
  {
   "cell_type": "markdown",
   "metadata": {},
   "source": [
    "<a id='step2'></a>"
   ]
  },
  {
   "cell_type": "markdown",
   "metadata": {},
   "source": [
    "## 2. Define all your system variables\n",
    "\n",
    "Just like in the condensed version show at the end of Tutorial 2, for this tutorial we will be starting all of our system variables from the beginning of the jupyter journal, instead than throughout the different cells (for the most part)"
   ]
  },
  {
   "cell_type": "code",
   "execution_count": 3,
   "metadata": {},
   "outputs": [],
   "source": [
    "simulationName = 'Tutorial 3'    # For adding a simulation name when defning RadianceObj. This is optional.\n",
    "moduletype = 'Custom Cell-Level Module'    # We will define the parameters for this below in Step 4.\n",
    "testfolder = os.path.abspath(r'..\\..\\bifacial_radiance\\TEMP')\n",
    "albedo = \"litesoil\"      # this is one of the options on ground.rad\n",
    "lat = 37.5   \n",
    "lon = -77.6\n",
    "\n",
    "# Scene variables\n",
    "nMods = 20\n",
    "nRows = 7\n",
    "hub_height = 2.3 # meters\n",
    "pitch = 10 # meters      # We will be using pitch instead of GCR for this example.\n",
    "\n",
    "# Traking parameters\n",
    "cumulativesky = False\n",
    "limit_angle = 45 # tracker rotation limit angle\n",
    "angledelta = 0.01 # we will be doing hourly simulation, we want the angle to be as close to real tracking as possible.\n",
    "backtrack = True \n",
    "\n",
    "#makeModule parameters\n",
    "# x and y will be defined later on Step 4 for this tutorial!!\n",
    "xgap = 0.01\n",
    "ygap = 0.10\n",
    "zgap = 0.05\n",
    "numpanels = 2\n",
    "torquetube = True\n",
    "axisofrotationTorqueTube = False\n",
    "diameter = 0.1\n",
    "tubetype = 'Oct'    # This will make an octagonal torque tube.\n",
    "material = 'black'   # Torque tube of this material (0% reflectivity)\n"
   ]
  },
  {
   "cell_type": "markdown",
   "metadata": {},
   "source": [
    "<a id='step3'></a>"
   ]
  },
  {
   "cell_type": "markdown",
   "metadata": {},
   "source": [
    "## 3. Create Radiance Object, Set Albedo and Weather\n",
    "\n",
    "Same steps as previous two tutorials, so condensing it into one step. You hopefully have this down by now! :)\n",
    "\n",
    "\n",
    "<div class=\"alert alert-warning\">\n",
    "Notice that we are doing bifacial_radiance.RadianceObj because we change the import method for this example!\n",
    "</div>"
   ]
  },
  {
   "cell_type": "code",
   "execution_count": 4,
   "metadata": {},
   "outputs": [
    {
     "name": "stdout",
     "output_type": "stream",
     "text": [
      "path = C:\\Users\\sayala\\Documents\\RadianceScenes\\Tutorials\\Journal2\n",
      "Getting weather file: USA_VA_Richmond.Intl.AP.724010_TMY.epw\n",
      " ... OK!\n"
     ]
    }
   ],
   "source": [
    "demo = bifacial_radiance.RadianceObj(simulationName, path = testfolder)  # Adding a simulation name. This is optional.\n",
    "demo.setGround(albedo) \n",
    "epwfile = demo.getEPW(lat = lat, lon = lon) \n",
    "metdata = demo.readWeatherFile(weatherFile = epwfile) \n"
   ]
  },
  {
   "cell_type": "markdown",
   "metadata": {},
   "source": [
    "<a id='step4'></a>"
   ]
  },
  {
   "cell_type": "markdown",
   "metadata": {},
   "source": [
    "## 4. Make Module: Cell Level Module Example\n",
    "\n",
    "Instead of doing a opaque, flat single-surface module, in this tutorial we will create a module made up by cells. We can define variuos parameters to make a cell-level module, such as cell size and spacing between cells. To do this, we will pass a dicitonary with the needed parameters to makeModule, as shown below.\n",
    "\n",
    "<div class=\"alert alert-warning\">\n",
    "Since we are passing a cell-level dictionary, the values for module's x and y of the module will be calculated by the software -- no need to pass them (and if you do, they'll just get ignored)\n",
    "    </div>"
   ]
  },
  {
   "cell_type": "code",
   "execution_count": 5,
   "metadata": {},
   "outputs": [
    {
     "name": "stdout",
     "output_type": "stream",
     "text": [
      "\n",
      "Module Name: Custom_Cell-Level_Module\n",
      "REWRITING pre-existing module file. \n",
      "Module was shifted by 0.078 in X to avoid sensors on air\n",
      "This is a Cell-Level detailed module with Packaging Factor of 0.81 %\n",
      "Module Custom Cell-Level Module successfully created\n"
     ]
    }
   ],
   "source": [
    "numcellsx = 6\n",
    "numcellsy = 12\n",
    "xcell = 0.156\n",
    "ycell = 0.156\n",
    "xcellgap = 0.02\n",
    "ycellgap = 0.02\n",
    "\n",
    "cellLevelModuleParams = {'numcellsx': numcellsx, 'numcellsy':numcellsy, \n",
    "                         'xcell': xcell, 'ycell': ycell, 'xcellgap': xcellgap, 'ycellgap': ycellgap}\n",
    "\n",
    "mymodule = demo.makeModule(name=moduletype, torquetube=torquetube, diameter=diameter, tubetype=tubetype, material=material, \n",
    "                xgap=xgap, ygap=ygap, zgap=zgap, numpanels=numpanels, \n",
    "                cellLevelModuleParams=cellLevelModuleParams, \n",
    "                axisofrotationTorqueTube=axisofrotationTorqueTube)"
   ]
  },
  {
   "cell_type": "markdown",
   "metadata": {},
   "source": [
    "<a id='step5'></a>"
   ]
  },
  {
   "cell_type": "markdown",
   "metadata": {},
   "source": [
    "## 5. Calculate GCR\n",
    "\n",
    "In this example we passed the parameter \"pitch\". Pitch is the spacing between rows (for example, between hub-posts) in a field.\n",
    "To calculate Ground Coverage Ratio (GCR), we must relate the pitch to the collector-width by:\n",
    "    \n",
    "![GCR = CW / pitch](../images_wiki/Journal3Pics/Equation_GCR.png)\n",
    "\n",
    "The collector width for our system must consider the number of panels and the y-gap:\n",
    "    \n",
    "![CW](../images_wiki/Journal3Pics/Equation_CW.png)\n",
    "    \n",
    "Collector Width gets saved in your module parameters (and later on your scene and trackerdict) as \"sceney\". You can calculate your collector width with the equation, or you can use this method to know your GCR:"
   ]
  },
  {
   "cell_type": "code",
   "execution_count": 6,
   "metadata": {},
   "outputs": [
    {
     "name": "stdout",
     "output_type": "stream",
     "text": [
      "The GCR is : 0.4284\n"
     ]
    }
   ],
   "source": [
    "# For more options on makemodule, see the help description of the function.  \n",
    "CW = mymodule['sceney']\n",
    "gcr = CW / pitch\n",
    "print (\"The GCR is :\", gcr)"
   ]
  },
  {
   "cell_type": "markdown",
   "metadata": {},
   "source": [
    "<a id='step6'></a>"
   ]
  },
  {
   "cell_type": "markdown",
   "metadata": {},
   "source": [
    "## 6. Set Tracking Angles\n",
    "\n",
    "This function will read the weather file, and based on the sun position it will calculate the angle the tracker should be at for each hour. It will create metdata files for each of the tracker angles considered.\n",
    "\n",
    "For doing hourly simulations, remember to set **cumulativesky = False** here!"
   ]
  },
  {
   "cell_type": "code",
   "execution_count": 7,
   "metadata": {},
   "outputs": [
    {
     "name": "stderr",
     "output_type": "stream",
     "text": [
      "C:\\ProgramData\\Anaconda3\\lib\\site-packages\\pvlib\\tracking.py:449: RuntimeWarning: invalid value encountered in arccos\n",
      "  wc = np.degrees(np.arccos(temp))\n",
      "C:\\ProgramData\\Anaconda3\\lib\\site-packages\\pvlib\\tracking.py:473: RuntimeWarning: invalid value encountered in arccos\n",
      "  aoi = np.degrees(np.arccos(np.abs(np.sum(sun_vec*panel_norm, axis=0))))\n",
      "C:\\ProgramData\\Anaconda3\\lib\\site-packages\\pvlib\\tracking.py:568: RuntimeWarning: invalid value encountered in remainder\n",
      "  surface_azimuth = surface_azimuth % 360\n",
      "C:\\ProgramData\\Anaconda3\\lib\\site-packages\\pvlib\\tracking.py:572: RuntimeWarning: invalid value encountered in arccos\n",
      "  surface_tilt = 90 - np.degrees(np.arccos(dotproduct))\n"
     ]
    }
   ],
   "source": [
    "trackerdict = demo.set1axis(metdata = metdata, limit_angle = limit_angle, backtrack = backtrack, \n",
    "                            gcr = gcr, cumulativesky = cumulativesky)"
   ]
  },
  {
   "cell_type": "code",
   "execution_count": 8,
   "metadata": {
    "scrolled": true
   },
   "outputs": [
    {
     "name": "stdout",
     "output_type": "stream",
     "text": [
      "Full trackerdict for all the year created by set1axis: 4245 \n"
     ]
    }
   ],
   "source": [
    "print (\"Full trackerdict for all the year created by set1axis: %s \" % (len(demo.trackerdict))) \n"
   ]
  },
  {
   "cell_type": "markdown",
   "metadata": {},
   "source": [
    "set1axis initializes the trackerdictionary Trackerdict. Trackerdict contains all hours in the year as keys. For example: trackerdict['12_16_08']. It is a return variable on many of the 1axis functions, but it is also stored inside of your Radiance Obj (i.e. demo.trackerdict). In this journal we are storing it as a variable to mute the option (otherwise it prints the returned trackerdict contents every time)\n"
   ]
  },
  {
   "cell_type": "code",
   "execution_count": 9,
   "metadata": {},
   "outputs": [
    {
     "name": "stdout",
     "output_type": "stream",
     "text": [
      "{'dhi': 18, 'ghi': 18, 'surf_azm': 90.0, 'surf_tilt': 4.61, 'theta': -4.61}\n"
     ]
    }
   ],
   "source": [
    "pprint.pprint(trackerdict['12_16_08'])\n"
   ]
  },
  {
   "cell_type": "code",
   "execution_count": 10,
   "metadata": {},
   "outputs": [
    {
     "name": "stdout",
     "output_type": "stream",
     "text": [
      "{'dhi': 18, 'ghi': 18, 'surf_azm': 90.0, 'surf_tilt': 4.61, 'theta': -4.61}\n"
     ]
    }
   ],
   "source": [
    "pprint.pprint(demo.trackerdict['12_16_08'])"
   ]
  },
  {
   "cell_type": "markdown",
   "metadata": {},
   "source": [
    "All of the following functions add up elements to trackerdictionary to keep track (ba-dum tupzz) of the Scene and simulation parameters. In advanced journals we will explore the inner structure of trackerdict. For now, just now it exists :)"
   ]
  },
  {
   "cell_type": "markdown",
   "metadata": {},
   "source": [
    "<a id='step7'></a>"
   ]
  },
  {
   "cell_type": "markdown",
   "metadata": {},
   "source": [
    "## 7. Generate the Sky\n",
    "\n",
    "\n",
    "We will create skies for each hour we want to model with the function gendaylit1axis. \n",
    "\n",
    "**If you don't specify a startdate and enddate, all the year will be created, which will take more time.**\n",
    "\n",
    "For this example we are doing just two days in January. Format has to be a 'MM_DD' or 'MM/DD'"
   ]
  },
  {
   "cell_type": "code",
   "execution_count": 11,
   "metadata": {},
   "outputs": [
    {
     "name": "stdout",
     "output_type": "stream",
     "text": [
      "Creating ~4000 skyfiles.  Takes 1-2 minutes\n",
      "Created 20 skyfiles in /skies/\n"
     ]
    }
   ],
   "source": [
    "startdate = '01/13'     \n",
    "enddate = '01/14'\n",
    "trackerdict = demo.gendaylit1axis(startdate=startdate, enddate=enddate) "
   ]
  },
  {
   "cell_type": "markdown",
   "metadata": {},
   "source": [
    "Since we passed startdate and enddate to gendaylit, it will prune our trackerdict to only the desired days.\n",
    "Let's explore our trackerdict:"
   ]
  },
  {
   "cell_type": "code",
   "execution_count": 12,
   "metadata": {},
   "outputs": [
    {
     "name": "stdout",
     "output_type": "stream",
     "text": [
      "\n",
      "Trimmed trackerdict by gendaylit1axis to start and enddate length: 20 \n",
      "\n",
      "Option of hours are:  ['01_13_08', '01_13_09', '01_13_10', '01_13_11', '01_13_12', '01_13_13', '01_13_14', '01_13_15', '01_13_16', '01_13_17', '01_14_08', '01_14_09', '01_14_10', '01_14_11', '01_14_12', '01_14_13', '01_14_14', '01_14_15', '01_14_16', '01_14_17']\n",
      "\n",
      "Contents of trackerdict for sample hour:\n",
      "{'dhi': 15,\n",
      " 'ghi': 15,\n",
      " 'skyfile': 'skies\\\\sky2_37.5_-77.33_01_13_08.rad',\n",
      " 'surf_azm': 90.0,\n",
      " 'surf_tilt': 3.62,\n",
      " 'theta': -3.62}\n"
     ]
    }
   ],
   "source": [
    "print (\"\\nTrimmed trackerdict by gendaylit1axis to start and enddate length: %s \" % (len(trackerdict)))\n",
    "print (\"\")\n",
    "trackerkeys = sorted(trackerdict.keys())\n",
    "print (\"Option of hours are: \", trackerkeys)\n",
    "print (\"\")\n",
    "print (\"Contents of trackerdict for sample hour:\")\n",
    "pprint.pprint(trackerdict[trackerkeys[0]])"
   ]
  },
  {
   "cell_type": "markdown",
   "metadata": {},
   "source": [
    "<a id='step8'></a>"
   ]
  },
  {
   "cell_type": "markdown",
   "metadata": {},
   "source": [
    "## 8. Make Scene 1axis\n",
    "\n",
    "We can use gcr or pitch fo our scene dictionary."
   ]
  },
  {
   "cell_type": "code",
   "execution_count": 13,
   "metadata": {},
   "outputs": [
    {
     "name": "stdout",
     "output_type": "stream",
     "text": [
      "\n",
      "Making ~20 .rad files for gendaylit 1-axis workflow (this takes a minute..)\n",
      "20 Radfiles created in /objects/\n"
     ]
    }
   ],
   "source": [
    "# making the different scenes for the 1-axis tracking for the dates in trackerdict2.\n",
    "\n",
    "sceneDict = {'pitch': pitch,'hub_height':hub_height, 'nMods':nMods, 'nRows': nRows}  \n",
    "\n",
    "trackerdict = demo.makeScene1axis(trackerdict = trackerdict, moduletype = moduletype, sceneDict = sceneDict) "
   ]
  },
  {
   "cell_type": "markdown",
   "metadata": {},
   "source": [
    "The scene parameteres are now stored in the trackerdict. To view them and to access them:\n",
    "    "
   ]
  },
  {
   "cell_type": "code",
   "execution_count": 14,
   "metadata": {},
   "outputs": [
    {
     "name": "stdout",
     "output_type": "stream",
     "text": [
      "{'clearance_height': 2.1647564917391366,\n",
      " 'dhi': 15,\n",
      " 'ghi': 15,\n",
      " 'radfile': 'objects\\\\1axis01_13_08_2.164_10_3.62_20x7_origin0,0.rad',\n",
      " 'scene': <bifacial_radiance.main.SceneObj object at 0x0000024A620952B0>,\n",
      " 'skyfile': 'skies\\\\sky2_37.5_-77.33_01_13_08.rad',\n",
      " 'surf_azm': 90.0,\n",
      " 'surf_tilt': 3.62,\n",
      " 'theta': -3.62}\n"
     ]
    }
   ],
   "source": [
    "pprint.pprint(trackerdict[trackerkeys[0]])"
   ]
  },
  {
   "cell_type": "code",
   "execution_count": 15,
   "metadata": {},
   "outputs": [
    {
     "name": "stdout",
     "output_type": "stream",
     "text": [
      "{'bifi': 1,\n",
      " 'gcr': 0.4284,\n",
      " 'moduleDict': {'bifi': 1,\n",
      "                'cellModule': {'numcellsx': 6,\n",
      "                               'numcellsy': 12,\n",
      "                               'xcell': 0.156,\n",
      "                               'xcellgap': 0.02,\n",
      "                               'ycell': 0.156,\n",
      "                               'ycellgap': 0.02},\n",
      "                'modulefile': 'objects\\\\Custom_Cell-Level_Module.rad',\n",
      "                'numpanels': 2,\n",
      "                'offsetfromaxis': 0,\n",
      "                'scenex': 1.046,\n",
      "                'sceney': 4.284,\n",
      "                'scenez': 0.1,\n",
      "                'text': '! genbox black cellPVmodule 0.156 0.156 0.02 | xform '\n",
      "                        '-t -0.44 -2.142 0 -a 6 -t 0.176 0 0 -a 12 -t 0 0.176 '\n",
      "                        '0 -a 2 -t 0 2.192 0\\r\\n'\n",
      "                        '! genbox black octtube1a 1.046 0.04142135623730951 '\n",
      "                        '0.1 | xform -t -0.523 -0.020710678118654756 '\n",
      "                        '-0.15000000000000002\\r\\n'\n",
      "                        '! genbox black octtube1b 1.046 0.04142135623730951 '\n",
      "                        '0.1 | xform -t -0.445 -0.020710678118654756 -0.05 -rx '\n",
      "                        '45 -t 0 0 -0.1\\r\\n'\n",
      "                        '! genbox black octtube1c 1.046 0.04142135623730951 '\n",
      "                        '0.1 | xform -t -0.445 -0.020710678118654756 -0.05 -rx '\n",
      "                        '90 -t 0 0 -0.1\\r\\n'\n",
      "                        '! genbox black octtube1d 1.046 0.04142135623730951 '\n",
      "                        '0.1 | xform -t -0.445 -0.020710678118654756 -0.05 -rx '\n",
      "                        '135 -t 0 0 -0.1 ',\n",
      "                'torquetube': {'bool': True,\n",
      "                               'diameter': 0.1,\n",
      "                               'material': 'black',\n",
      "                               'tubetype': 'Oct'},\n",
      "                'x': 1.036,\n",
      "                'xgap': 0.01,\n",
      "                'y': 2.092,\n",
      "                'ygap': 0.1,\n",
      "                'zgap': 0.05},\n",
      " 'modulefile': 'objects\\\\Custom_Cell-Level_Module.rad',\n",
      " 'moduletype': 'Custom Cell-Level Module',\n",
      " 'offsetfromaxis': 0,\n",
      " 'radfiles': 'objects\\\\1axis01_13_13_2.097_10_-5.43_20x7_origin0,0.rad',\n",
      " 'scene': <bifacial_radiance.main.SceneObj object at 0x0000024A633A4F28>,\n",
      " 'sceneDict': {'axis_tilt': 0,\n",
      "               'azimuth': 90.0,\n",
      "               'clearance_height': 2.0973034494498664,\n",
      "               'nMods': 20,\n",
      "               'nRows': 7,\n",
      "               'originx': 0,\n",
      "               'originy': 0,\n",
      "               'pitch': 10,\n",
      "               'tilt': -5.43},\n",
      " 'scenex': 1.046,\n",
      " 'sceney': 4.284,\n",
      " 'text': '!xform -rx -5.43 -t 0 0 2.3 -a 20 -t 1.046 0 0 -a 7 -t 0 10 0 -i 1 '\n",
      "         '-t -9.414 -30.0 0 -rz 90.0 -t 0 0 0 '\n",
      "         'objects\\\\Custom_Cell-Level_Module.rad',\n",
      " 'x': 1.036,\n",
      " 'y': 2.092}\n"
     ]
    }
   ],
   "source": [
    "pprint.pprint(demo.trackerdict[trackerkeys[5]]['scene'].__dict__)"
   ]
  },
  {
   "cell_type": "markdown",
   "metadata": {},
   "source": [
    "<a id='step9a'></a>"
   ]
  },
  {
   "cell_type": "markdown",
   "metadata": {},
   "source": [
    "## 9. Make Oct and Analyze \n",
    "\n",
    "### A. Make Oct and Analyze 1Hour\n",
    "\n",
    "There are various options now to analyze the trackerdict hours we have defined. We will start by doing just one hour, because it's the fastest. Make sure to select an hour that exists in your trackerdict!\n",
    "\n",
    "Options of hours:"
   ]
  },
  {
   "cell_type": "code",
   "execution_count": 16,
   "metadata": {},
   "outputs": [
    {
     "name": "stdout",
     "output_type": "stream",
     "text": [
      "['01_13_08',\n",
      " '01_13_09',\n",
      " '01_13_10',\n",
      " '01_13_11',\n",
      " '01_13_12',\n",
      " '01_13_13',\n",
      " '01_13_14',\n",
      " '01_13_15',\n",
      " '01_13_16',\n",
      " '01_13_17',\n",
      " '01_14_08',\n",
      " '01_14_09',\n",
      " '01_14_10',\n",
      " '01_14_11',\n",
      " '01_14_12',\n",
      " '01_14_13',\n",
      " '01_14_14',\n",
      " '01_14_15',\n",
      " '01_14_16',\n",
      " '01_14_17']\n"
     ]
    }
   ],
   "source": [
    "pprint.pprint(trackerkeys)"
   ]
  },
  {
   "cell_type": "code",
   "execution_count": 17,
   "metadata": {},
   "outputs": [
    {
     "name": "stdout",
     "output_type": "stream",
     "text": [
      "\n",
      "Making 1 octfiles in root directory.\n",
      "Created 1axis_01_13_08.oct\n",
      "Linescan in process: 1axis_01_13_08_Front\n",
      "Linescan in process: 1axis_01_13_08_Back\n",
      "Saved: results\\irr_1axis_01_13_08.csv\n",
      "Index: 01_13_08. Wm2Front: 14.201547962962962. Wm2Back: 2.0749953333333333\n",
      "\n",
      "Saving Cumulative results\n",
      "Saved: results\\cumulative_results_.csv\n",
      "\n",
      "\n",
      "Hourly bifi gain: 0.146\n"
     ]
    }
   ],
   "source": [
    "demo.makeOct1axis(singleindex='01_13_08')\n",
    "results = demo.analysis1axis(singleindex='01_13_08')\n",
    "print('\\n\\nHourly bifi gain: {:0.3}'.format(sum(demo.Wm2Back) / sum(demo.Wm2Front)))"
   ]
  },
  {
   "cell_type": "markdown",
   "metadata": {},
   "source": [
    "The trackerdict now contains information about the octfile, as well as the Analysis Object results"
   ]
  },
  {
   "cell_type": "code",
   "execution_count": 18,
   "metadata": {},
   "outputs": [
    {
     "name": "stdout",
     "output_type": "stream",
     "text": [
      "\n",
      " Contents of trackerdict for sample hour after analysis1axis: \n",
      "{'AnalysisObj': <bifacial_radiance.main.AnalysisObj object at 0x0000024A63358588>,\n",
      " 'Wm2Back': [1.8268360000000001,\n",
      "             1.75552,\n",
      "             1.6788656666666666,\n",
      "             1.60315,\n",
      "             4.910752,\n",
      "             1.6119296666666667,\n",
      "             1.700885666666667,\n",
      "             1.7575400000000003,\n",
      "             1.829479],\n",
      " 'Wm2Front': [14.864776666666666,\n",
      "              14.865536666666666,\n",
      "              14.866266666666666,\n",
      "              14.866996666666667,\n",
      "              8.873918333333334,\n",
      "              14.869313333333332,\n",
      "              14.869183333333334,\n",
      "              14.86904,\n",
      "              14.868900000000002],\n",
      " 'backRatio': [0.12288870208149234,\n",
      "               0.11808533751752538,\n",
      "               0.11292362640072823,\n",
      "               0.10782555551644596,\n",
      "               0.5533292606823987,\n",
      "               0.1083991729382972,\n",
      "               0.11438229297778219,\n",
      "               0.1181933606096554,\n",
      "               0.12303236739991526],\n",
      " 'clearance_height': 2.1647564917391366,\n",
      " 'dhi': 15,\n",
      " 'ghi': 15,\n",
      " 'octfile': '1axis_01_13_08.oct',\n",
      " 'radfile': 'objects\\\\1axis01_13_08_2.164_10_3.62_20x7_origin0,0.rad',\n",
      " 'scene': <bifacial_radiance.main.SceneObj object at 0x0000024A620952B0>,\n",
      " 'skyfile': 'skies\\\\sky2_37.5_-77.33_01_13_08.rad',\n",
      " 'surf_azm': 90.0,\n",
      " 'surf_tilt': 3.62,\n",
      " 'theta': -3.62}\n"
     ]
    }
   ],
   "source": [
    "print (\"\\n Contents of trackerdict for sample hour after analysis1axis: \")\n",
    "pprint.pprint(trackerdict[trackerkeys[0]])\n"
   ]
  },
  {
   "cell_type": "code",
   "execution_count": 19,
   "metadata": {},
   "outputs": [
    {
     "name": "stdout",
     "output_type": "stream",
     "text": [
      "{'Wm2Back': [1.8268360000000001,\n",
      "             1.75552,\n",
      "             1.6788656666666666,\n",
      "             1.60315,\n",
      "             4.910752,\n",
      "             1.6119296666666667,\n",
      "             1.700885666666667,\n",
      "             1.7575400000000003,\n",
      "             1.829479],\n",
      " 'Wm2Front': [14.864776666666666,\n",
      "              14.865536666666666,\n",
      "              14.866266666666666,\n",
      "              14.866996666666667,\n",
      "              8.873918333333334,\n",
      "              14.869313333333332,\n",
      "              14.869183333333334,\n",
      "              14.86904,\n",
      "              14.868900000000002],\n",
      " 'backRatio': [0.12288870208149234,\n",
      "               0.11808533751752538,\n",
      "               0.11292362640072823,\n",
      "               0.10782555551644596,\n",
      "               0.5533292606823987,\n",
      "               0.1083991729382972,\n",
      "               0.11438229297778219,\n",
      "               0.1181933606096554,\n",
      "               0.12303236739991526],\n",
      " 'mattype': ['a9.3.a2.2.0.cellPVmodule.6457',\n",
      "             'a9.3.a2.4.0.cellPVmodule.6457',\n",
      "             'a9.3.a2.7.0.cellPVmodule.6457',\n",
      "             'a9.3.a2.9.0.cellPVmodule.6457',\n",
      "             'a9.3.octtube1a.6457',\n",
      "             'a9.3.a2.2.1.cellPVmodule.6457',\n",
      "             'a9.3.a2.4.1.cellPVmodule.6457',\n",
      "             'a9.3.a2.7.1.cellPVmodule.6457',\n",
      "             'a9.3.a2.9.1.cellPVmodule.6457'],\n",
      " 'name': '1axis_01_13_08',\n",
      " 'octfile': '1axis_01_13_08.oct',\n",
      " 'rearMat': ['a9.3.a2.2.0.cellPVmodule.2310',\n",
      "             'a9.3.a2.4.0.cellPVmodule.2310',\n",
      "             'a9.3.a2.7.0.cellPVmodule.2310',\n",
      "             'a9.3.a2.9.0.cellPVmodule.2310',\n",
      "             'sky',\n",
      "             'a9.3.a2.2.1.cellPVmodule.2310',\n",
      "             'a9.3.a2.4.1.cellPVmodule.2310',\n",
      "             'a9.3.a2.7.1.cellPVmodule.2310',\n",
      "             'a9.3.a2.9.1.cellPVmodule.2310'],\n",
      " 'rearX': [1.710181,\n",
      "           1.282636,\n",
      "           0.8550905,\n",
      "           0.4275452,\n",
      "           -4.440892e-16,\n",
      "           -0.4275452,\n",
      "           -0.8550905,\n",
      "           -1.282636,\n",
      "           -1.710181],\n",
      " 'rearY': [1.047184e-16,\n",
      "           7.853879e-17,\n",
      "           5.235919e-17,\n",
      "           2.61796e-17,\n",
      "           -2.46519e-32,\n",
      "           -2.61796e-17,\n",
      "           -5.235919e-17,\n",
      "           -7.853879e-17,\n",
      "           -1.047184e-16],\n",
      " 'rearZ': [2.161805,\n",
      "           2.188854,\n",
      "           2.215903,\n",
      "           2.242951,\n",
      "           2.27,\n",
      "           2.297049,\n",
      "           2.324097,\n",
      "           2.351146,\n",
      "           2.378195],\n",
      " 'x': [1.710181,\n",
      "       1.282636,\n",
      "       0.8550905,\n",
      "       0.4275452,\n",
      "       -4.440892e-16,\n",
      "       -0.4275452,\n",
      "       -0.8550905,\n",
      "       -1.282636,\n",
      "       -1.710181],\n",
      " 'y': [1.047184e-16,\n",
      "       7.853879e-17,\n",
      "       5.235919e-17,\n",
      "       2.61796e-17,\n",
      "       -2.46519e-32,\n",
      "       -2.61796e-17,\n",
      "       -5.235919e-17,\n",
      "       -7.853879e-17,\n",
      "       -1.047184e-16],\n",
      " 'z': [2.251805,\n",
      "       2.278854,\n",
      "       2.305903,\n",
      "       2.332951,\n",
      "       2.36,\n",
      "       2.387049,\n",
      "       2.414097,\n",
      "       2.441146,\n",
      "       2.468195]}\n"
     ]
    }
   ],
   "source": [
    "pprint.pprint(trackerdict[trackerkeys[0]]['AnalysisObj'].__dict__)"
   ]
  },
  {
   "cell_type": "markdown",
   "metadata": {},
   "source": [
    "<a id='step9b'></a>"
   ]
  },
  {
   "cell_type": "markdown",
   "metadata": {},
   "source": [
    "### B. Make Oct and Analye Range of Hours"
   ]
  },
  {
   "cell_type": "markdown",
   "metadata": {},
   "source": [
    "You could do a range of indexes following a similar procedure:"
   ]
  },
  {
   "cell_type": "code",
   "execution_count": 20,
   "metadata": {},
   "outputs": [
    {
     "name": "stdout",
     "output_type": "stream",
     "text": [
      "\n",
      "Making 1 octfiles in root directory.\n",
      "Created 1axis_01_13_09.oct\n",
      "Linescan in process: 1axis_01_13_09_Front\n",
      "Linescan in process: 1axis_01_13_09_Back\n",
      "Saved: results\\irr_1axis_01_13_09.csv\n",
      "Index: 01_13_09. Wm2Front: 97.91932592592592. Wm2Back: 12.036790925925926\n",
      "\n",
      "Saving Cumulative results\n",
      "Saved: results\\cumulative_results_.csv\n",
      "\n",
      "Making 1 octfiles in root directory.\n",
      "Created 1axis_01_13_13.oct\n",
      "Linescan in process: 1axis_01_13_13_Front\n",
      "Linescan in process: 1axis_01_13_13_Back\n",
      "Saved: results\\irr_1axis_01_13_13.csv\n",
      "Index: 01_13_13. Wm2Front: 422.10729629629634. Wm2Back: 38.627922222222224\n",
      "\n",
      "Saving Cumulative results\n",
      "Saved: results\\cumulative_results_.csv\n",
      "Accumulated hourly bifi gain: 0.0987\n"
     ]
    }
   ],
   "source": [
    "for time in ['01_13_09','01_13_13']:  \n",
    "    demo.makeOct1axis(singleindex=time)\n",
    "    results=demo.analysis1axis(singleindex=time)\n",
    "\n",
    "print('Accumulated hourly bifi gain: {:0.3}'.format(sum(demo.Wm2Back) / sum(demo.Wm2Front)))"
   ]
  },
  {
   "cell_type": "markdown",
   "metadata": {},
   "source": [
    "Note that the bifacial gain printed above is for the accumulated irradiance between the hours modeled so far. \n",
    "That is, demo.Wm2Back and demo.Wm2Front are for January 13, 8AM to 1 AM. Compare demo.Wm2back below with what we had before:"
   ]
  },
  {
   "cell_type": "code",
   "execution_count": 21,
   "metadata": {},
   "outputs": [
    {
     "data": {
      "text/plain": [
       "array([61.62960867, 56.09894433, 52.26810367, 47.526593  , 37.128162  ,\n",
       "       49.24325267, 52.09034567, 56.446585  , 62.22578133])"
      ]
     },
     "execution_count": 21,
     "metadata": {},
     "output_type": "execute_result"
    }
   ],
   "source": [
    "demo.Wm2Back"
   ]
  },
  {
   "cell_type": "markdown",
   "metadata": {},
   "source": [
    "To print the specific bifacial gain for a specific hour, you can use the following:"
   ]
  },
  {
   "cell_type": "code",
   "execution_count": 22,
   "metadata": {},
   "outputs": [
    {
     "data": {
      "text/plain": [
       "0.09151209316009438"
      ]
     },
     "execution_count": 22,
     "metadata": {},
     "output_type": "execute_result"
    }
   ],
   "source": [
    "sum(trackerdict['01_13_13']['AnalysisObj'].Wm2Back) / sum(trackerdict['01_13_13']['AnalysisObj'].Wm2Front)"
   ]
  },
  {
   "cell_type": "markdown",
   "metadata": {},
   "source": [
    "<a id='step9c'></a>"
   ]
  },
  {
   "cell_type": "markdown",
   "metadata": {},
   "source": [
    "### C. Make Oct and Analyze All Tracking Dictionary\n",
    "\n",
    "This might considerably more time, depending on the number of entries on the trackerdictionary. If no **startdt** and **enddt** where specified on STEP **gendaylit1axis, this will run ALL of the hours in the year (~4000 hours).**\n"
   ]
  },
  {
   "cell_type": "code",
   "execution_count": null,
   "metadata": {},
   "outputs": [
    {
     "name": "stdout",
     "output_type": "stream",
     "text": [
      "\n",
      "Making 20 octfiles in root directory.\n",
      "Created 1axis_01_13_08.oct\n",
      "Created 1axis_01_13_09.oct\n",
      "Created 1axis_01_13_10.oct\n",
      "Created 1axis_01_13_11.oct\n",
      "Created 1axis_01_13_12.oct\n",
      "Created 1axis_01_13_13.oct\n",
      "Created 1axis_01_13_14.oct\n",
      "Created 1axis_01_13_15.oct\n",
      "Created 1axis_01_13_16.oct\n",
      "Created 1axis_01_13_17.oct\n",
      "Created 1axis_01_14_08.oct\n",
      "Created 1axis_01_14_09.oct\n",
      "Created 1axis_01_14_10.oct\n",
      "Created 1axis_01_14_11.oct\n",
      "Created 1axis_01_14_12.oct\n",
      "Created 1axis_01_14_13.oct\n",
      "Created 1axis_01_14_14.oct\n",
      "Created 1axis_01_14_15.oct\n",
      "Created 1axis_01_14_16.oct\n",
      "Created 1axis_01_14_17.oct\n",
      "Linescan in process: 1axis_01_13_08_Front\n",
      "Linescan in process: 1axis_01_13_08_Back\n",
      "Saved: results\\irr_1axis_01_13_08.csv\n",
      "Index: 01_13_08. Wm2Front: 12.447584333333333. Wm2Back: 3.138846148148149\n",
      "Linescan in process: 1axis_01_13_09_Front\n",
      "Linescan in process: 1axis_01_13_09_Back\n",
      "Saved: results\\irr_1axis_01_13_09.csv\n",
      "Index: 01_13_09. Wm2Front: 72.53930296296296. Wm2Back: 21.671116444444447\n",
      "Linescan in process: 1axis_01_13_10_Front\n",
      "Linescan in process: 1axis_01_13_10_Back\n",
      "Saved: results\\irr_1axis_01_13_10.csv\n",
      "Index: 01_13_10. Wm2Front: 37.70122962962963. Wm2Back: 9.912279814814816\n",
      "Linescan in process: 1axis_01_13_11_Front\n",
      "Linescan in process: 1axis_01_13_11_Back\n",
      "Saved: results\\irr_1axis_01_13_11.csv\n",
      "Index: 01_13_11. Wm2Front: 422.5411422222222. Wm2Back: 39.96500296296296\n",
      "Linescan in process: 1axis_01_13_12_Front\n",
      "Linescan in process: 1axis_01_13_12_Back\n"
     ]
    }
   ],
   "source": [
    "demo.makeOct1axis()\n",
    "results = demo.analysis1axis()\n",
    "print('Accumulated hourly bifi gain for all the trackerdict: {:0.3}'.format(sum(demo.Wm2Back) / sum(demo.Wm2Front)))\n"
   ]
  },
  {
   "cell_type": "markdown",
   "metadata": {},
   "source": [
    "<div class=\"alert alert-warning\">\n",
    "Remember you should clean your results first! This will have torquetube and sky results if performed this way so don't trust this simplistic bifacial_gain examples.\n",
    "</div>"
   ]
  },
  {
   "cell_type": "markdown",
   "metadata": {},
   "source": [
    "<a id='condensed'></a>"
   ]
  },
  {
   "cell_type": "markdown",
   "metadata": {},
   "source": [
    "### Condensed Version: All Tracking Dictionary\n",
    "\n",
    "This is the summarized version to run gendaylit for one entries in the trackigndictionary."
   ]
  },
  {
   "cell_type": "code",
   "execution_count": null,
   "metadata": {},
   "outputs": [],
   "source": [
    "import bifacial_radiance\n",
    "import os \n",
    "\n",
    "simulationName = 'Tutorial 3'\n",
    "moduletype = 'Custom Cell-Level Module'    # We will define the parameters for this below in Step 4.\n",
    "testfolder = os.path.abspath(r'..\\..\\bifacial_radiance\\TEMP')\n",
    "albedo = \"litesoil\"      # this is one of the options on ground.rad\n",
    "lat = 37.5   \n",
    "lon = -77.6\n",
    "\n",
    "# Scene variables\n",
    "nMods = 20\n",
    "nRows = 7\n",
    "hub_height = 2.3 # meters\n",
    "pitch = 10 # meters      # We will be using pitch instead of GCR for this example.\n",
    "\n",
    "# Traking parameters\n",
    "cumulativesky = False\n",
    "limit_angle = 45 # tracker rotation limit angle\n",
    "angledelta = 0.01 # we will be doing hourly simulation, we want the angle to be as close to real tracking as possible.\n",
    "backtrack = True \n",
    "\n",
    "#makeModule parameters\n",
    "# x and y will be defined later on Step 4 for this tutorial!!\n",
    "xgap = 0.01\n",
    "ygap = 0.10\n",
    "zgap = 0.05\n",
    "numpanels = 2\n",
    "torquetube = True\n",
    "axisofrotationTorqueTube = False\n",
    "diameter = 0.1\n",
    "tubetype = 'Oct'    # This will make an octagonal torque tube.\n",
    "material = 'black'   # Torque tube of this material (0% reflectivity)\n",
    "\n",
    "startdate = '11/06'     \n",
    "enddate = '11/06'\n",
    "demo = bifacial_radiance.RadianceObj(simulationName, path=testfolder)  \n",
    "demo.setGround(albedo) \n",
    "epwfile = demo.getEPW(lat,lon) \n",
    "metdata = demo.readWeatherFile(epwfile)  \n",
    "sceneDict = {'pitch':pitch,'hub_height':hub_height, 'nMods': nMods, 'nRows': nRows}  \n",
    "demo.set1axis(limit_angle = limit_angle, backtrack = backtrack, gcr = gcr, cumulativesky = cumulativesky)\n",
    "demo.gendaylit1axis(startdate=startdate, enddate=enddate)\n",
    "demo.makeScene1axis(moduletype=moduletype,sceneDict=sceneDict) #makeScene creates a .rad file with 20 modules per row, 7 rows.\n",
    "demo.makeOct1axis()\n",
    "demo.analysis1axis()"
   ]
  }
 ],
 "metadata": {
  "anaconda-cloud": {},
  "kernelspec": {
   "display_name": "Python 3",
   "language": "python",
   "name": "python3"
  },
  "language_info": {
   "codemirror_mode": {
    "name": "ipython",
    "version": 3
   },
   "file_extension": ".py",
   "mimetype": "text/x-python",
   "name": "python",
   "nbconvert_exporter": "python",
   "pygments_lexer": "ipython3",
   "version": "3.7.4"
  }
 },
 "nbformat": 4,
 "nbformat_minor": 1
}
