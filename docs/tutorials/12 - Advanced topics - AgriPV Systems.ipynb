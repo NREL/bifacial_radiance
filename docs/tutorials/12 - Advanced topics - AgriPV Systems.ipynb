{
 "cells": [
  {
   "cell_type": "markdown",
   "metadata": {},
   "source": [
    "# 12 - Advanced Level Example - Modeling an Agriculture+PV (AGRIPV) Site \n",
    "\n",
    "This journal shows how to model an AgriPV site, calculating the irradiance not only on the modules but also the irradiance received by the ground to evaluate available solar ersource for plants. \n",
    "\n",
    "We assume that bifacia_radiacne is already installed in your computer. This works for bifacial_radiance v.3 release.\n",
    "\n",
    "These journal outlines 4 useful uses of bifacial_radiance and some tricks: \n",
    "\n",
    "<ul>\n",
    "    <li> Creating the modules in the AgriPV site </li>\n",
    "    <li> Adding extra geometry for the pillars/posts supporting the AgriPV site </li>\n",
    "    <li> Hacking the sensors to sample the ground irradiance and create irradiance map </li>\n",
    "    <li> Adding object to simulate variations in ground albedo from different crops between rows. </li>\n",
    "</ul>\n",
    "\n",
    "\n",
    "#### Steps:\n",
    "\n",
    "<ol>\n",
    "    <li> <a href='#step1'> Generate the geometry </a></li>\n",
    "    <li> <a href='#step2'> Analyse the Ground Irradiance </a></li>\n",
    "    <li> <a href='#step3'> Analyse and MAP the Ground Irradiance </a></li>\n",
    "    <li> <a href='#step4'> Adding different Albedo Section </a></li>\n",
    "</ol>\n",
    "    \n",
    "#### Preview of what we will create: \n",
    "    \n",
    "![Another view](../images_wiki/AdvancedJournals/AgriPV_2.PNG)\n",
    "![AgriPV Image We will create](../images_wiki/AdvancedJournals/AgriPV_1.PNG)\n",
    "And this is how it will look like:\n",
    "\n",
    "![AgriPV modeled step 4](../images_wiki/AdvancedJournals/AgriPV_step4.PNG)\n",
    "\n",
    "\n"
   ]
  },
  {
   "cell_type": "markdown",
   "metadata": {},
   "source": [
    "<a id='step1'></a>"
   ]
  },
  {
   "cell_type": "markdown",
   "metadata": {},
   "source": [
    "## 1. Generate the geometry \n",
    "\n",
    "This section goes from setting up variables to making the OCT axis. We are also adding some custom elements for the torquetubes and posts.\n",
    "\n",
    "We've done this before a couple times, no new stuff here. \n",
    "\n",
    "The magic is that, for doing the carport we see in the figure, we are going to do a 4-up configuration of modules (**numpanels**), and we are going to repeat that 3-UP 6 times (**nMods**)"
   ]
  },
  {
   "cell_type": "code",
   "execution_count": 5,
   "metadata": {},
   "outputs": [
    {
     "name": "stdout",
     "output_type": "stream",
     "text": [
      "Your simulation will be stored in C:\\Users\\Silvana\\Documents\\GitHub\\bifacial_radiance\\bifacial_radiance\\TEMP\\AgriPVDemo\n"
     ]
    }
   ],
   "source": [
    "import os\n",
    "from pathlib import Path\n",
    "\n",
    "testfolder = str(Path().resolve().parent.parent / 'bifacial_radiance' / 'TEMP' / 'AgriPVDemo')\n",
    "\n",
    "# Another option using relative address; for some operative systems you might need '/' instead of '\\'\n",
    "# testfolder = os.path.abspath(r'..\\..\\bifacial_radiance\\TEMP')  \n",
    "\n",
    "try:\n",
    "    os.stat(testfolder)\n",
    "except:\n",
    "    os.mkdir(testfolder)\n",
    "    \n",
    "print (\"Your simulation will be stored in %s\" % testfolder)"
   ]
  },
  {
   "cell_type": "code",
   "execution_count": 6,
   "metadata": {},
   "outputs": [],
   "source": [
    "from bifacial_radiance import *   \n",
    "import numpy as np"
   ]
  },
  {
   "cell_type": "code",
   "execution_count": 9,
   "metadata": {},
   "outputs": [
    {
     "name": "stdout",
     "output_type": "stream",
     "text": [
      "path = C:\\Users\\Silvana\\Documents\\GitHub\\bifacial_radiance\\bifacial_radiance\\TEMP\\AgriPVDemo\n",
      "Loading albedo, 1 value(s), 0.200 avg\n",
      "1 nonzero albedo values.\n",
      "Getting weather file: USA_NJ_McGuire.AFB.724096_TMY3.epw\n",
      " ... OK!\n",
      "Saving file EPWs\\epw_temp.csv, # points: 8760\n",
      "Calculating Sun position for Metdata that is right-labeled  with a delta of -30 mins. i.e. 12 is 11:30 sunpos\n",
      "01_06_17_13_00\n",
      "\n",
      "Module Name: PrismSolar\n",
      "Module was shifted by 0.078 in X to avoid sensors on air\n",
      "This is a Cell-Level detailed module with Packaging Factor of 0.81 %\n",
      "Module PrismSolar updated in module.json\n",
      "Created AgriPV.oct\n"
     ]
    }
   ],
   "source": [
    "timestamp = 4020 # Noon, June 17th. \n",
    "simulationname = 'AgriPV'\n",
    "\n",
    "#Location:\n",
    "lat = 40.0583  # NJ\n",
    "lon = -74.4057  # NJ\n",
    "# MakeModule Parameters\n",
    "moduletype='PrismSolar'\n",
    "numpanels = 3  # AgriPV site has 3 modules along the y direction (N-S since we are facing it to the south) .\n",
    "x = 0.95  \n",
    "y = 1.95\n",
    "xgap = 2.0# Leaving 15 centimeters between modules on x direction\n",
    "ygap = 0.10 # Leaving 10 centimeters between modules on y direction\n",
    "zgap = 0 # no gap to torquetube.\n",
    "sensorsy = 6*numpanels  # this will give 6 sensors per module, 1 per cell\n",
    "\n",
    "# Other default values:\n",
    "\n",
    "# TorqueTube Parameters\n",
    "axisofrotationTorqueTube=False\n",
    "torqueTube = False\n",
    "cellLevelModule = True\n",
    "\n",
    "numcellsx = 12\n",
    "numcellsy = 6\n",
    "xcell = 0.156\n",
    "ycell = 0.156\n",
    "xcellgap = 0.02\n",
    "ycellgap = 0.02\n",
    "\n",
    "cellLevelModuleParams = {'numcellsx': numcellsx, 'numcellsy':numcellsy, \n",
    "                         'xcell': xcell, 'ycell': ycell, 'xcellgap': xcellgap, 'ycellgap': ycellgap}\n",
    "\n",
    "# SceneDict Parameters\n",
    "pitch = 15 # m\n",
    "albedo = 0.2  #'grass'     # ground albedo\n",
    "hub_height = 4.3 # m  \n",
    "nMods = 6 # six modules per row.\n",
    "nRows = 3  # 3 row\n",
    "\n",
    "azimuth_ang=180 # Facing south\n",
    "tilt =35 # tilt. \n",
    "\n",
    "# Now let's run the example\n",
    "\n",
    "demo = RadianceObj(simulationname,path = testfolder)  # Create a RadianceObj 'object'\n",
    "demo.setGround(albedo) # input albedo number or material name like 'concrete'.  To see options, run this without any input.\n",
    "epwfile = demo.getEPW(lat, lon) # NJ lat/lon 40.0583° N, 74.4057\n",
    "metdata = demo.readEPW(epwfile) # read in the EPW weather data from above\n",
    "demo.gendaylit(4020)  # Use this to simulate only one hour at a time. \n",
    "# This allows you to \"view\" the scene on RVU (see instructions below)\n",
    "# timestam 4020 : Noon, June 17th.\n",
    "#demo.genCumSky(demo.epwfile) # Use this instead of gendaylit to simulate the whole year\n",
    "\n",
    "# Making module with all the variables\n",
    "moduleDict=demo.makeModule(name=moduletype,x=x,y=y,numpanels = numpanels, xgap=xgap, ygap=ygap, cellLevelModuleParams = cellLevelModuleParams)\n",
    "# create a scene with all the variables\n",
    "sceneDict = {'tilt':tilt,'pitch': 15,'hub_height':hub_height,'azimuth':azimuth_ang, 'module_type':moduletype, 'nMods': nMods, 'nRows': nRows}  \n",
    "scene = demo.makeScene(moduletype=moduletype, sceneDict=sceneDict) #makeScene creates a .rad file with 20 modules per row, 7 rows.\n",
    "octfile = demo.makeOct(demo.getfilelist())  # makeOct combines all of the ground, sky and object fil|es into a .oct file.\n"
   ]
  },
  {
   "cell_type": "markdown",
   "metadata": {},
   "source": [
    "If you view the Oct file at this point:\n",
    "\n",
    "###    rvu -vf views\\front.vp -e .01 AgriPV.oct\n",
    "\n",
    "And adjust the view parameters, you should see this image.\n",
    "\n",
    "![AgriPV modeled step 1](../images_wiki/AdvancedJournals/AgriPV_step1.PNG)\n"
   ]
  },
  {
   "cell_type": "markdown",
   "metadata": {},
   "source": [
    "### Adding the structure\n",
    "\n",
    "We will add on the torquetube and pillars.\n",
    "\n",
    "Positions of the piles could be done more programatically, but they are kinda estimated at the moment. "
   ]
  },
  {
   "cell_type": "code",
   "execution_count": 10,
   "metadata": {},
   "outputs": [
    {
     "name": "stdout",
     "output_type": "stream",
     "text": [
      "\n",
      "Custom Object Name objects\\Post1.rad\n",
      "\n",
      "Custom Object Name objects\\Post2.rad\n",
      "\n",
      "Custom Object Name objects\\Post3.rad\n"
     ]
    }
   ],
   "source": [
    "torquetubelength = moduleDict['scenex']*(nMods) \n",
    "\n",
    "# torquetube 1\n",
    "name='Post1'\n",
    "text='! genbox Metal_Aluminum_Anodized torquetube_row1 {} 0.2 0.3 | xform -t {} -0.1 -0.3 | xform -t 0 0 4.2'.format(torquetubelength, (-torquetubelength+moduleDict['sceney'])/2.0)\n",
    "#text='! genbox black cuteBox 10 0.2 0.3 | xform -t -5 -0.1 -0.15 | xform  -t 0 15 4.2'.format(z2nd, xleft, y2nd)\n",
    "customObject = demo.makeCustomObject(name,text)\n",
    "demo.appendtoScene(radfile=scene.radfiles, customObject=customObject, text=\"!xform -rz 0\")\n",
    "\n",
    "name='Post2'\n",
    "text='! genbox Metal_Aluminum_Anodized torquetube_row2 {} 0.2 0.3 | xform -t {} -0.1 -0.3 | xform -t 0 15 4.2'.format(torquetubelength, (-torquetubelength+moduleDict['sceney'])/2.0)\n",
    "customObject = demo.makeCustomObject(name,text)\n",
    "demo.appendtoScene(radfile=scene.radfiles, customObject=customObject, text=\"!xform -rz 0\")\n",
    "\n",
    "name='Post3'\n",
    "text='! genbox Metal_Aluminum_Anodized torquetube_row2 {} 0.2 0.3 | xform -t {} -0.1 -0.3 | xform -t 0 -15 4.2'.format(torquetubelength, (-torquetubelength+moduleDict['sceney'])/2.0)\n",
    "customObject = demo.makeCustomObject(name,text)\n",
    "demo.appendtoScene(radfile=scene.radfiles, customObject=customObject, text=\"!xform -rz 0\")\n",
    "\n",
    "#octfile = demo.makeOct()  # makeOct combines all of the ground, sky and object files into a .oct file."
   ]
  },
  {
   "cell_type": "code",
   "execution_count": 11,
   "metadata": {},
   "outputs": [
    {
     "name": "stdout",
     "output_type": "stream",
     "text": [
      "\n",
      "Custom Object Name objects\\Pile.rad\n",
      "Created AgriPV.oct\n"
     ]
    }
   ],
   "source": [
    "name='Pile'\n",
    "pile1x = (torquetubelength+moduleDict['sceney'])/2.0\n",
    "pilesep = pile1x*2.0/7.0\n",
    "#! genrev Metal_Grey tube1 t*1.004 0.05 32 | xform -ry 90 -t -0.502 0 0\n",
    "text= '! genrev Metal_Grey tube1row1 t*4.2 0.15 32 | xform -t {} 0 0'.format(pile1x)\n",
    "text += '\\r\\n! genrev Metal_Grey tube1row2 t*4.2 0.15 32 | xform -t {} 15 0'.format(pile1x)\n",
    "text += '\\r\\n! genrev Metal_Grey tube1row3 t*4.2 0.15 32 | xform -t {} -15 0'.format(pile1x)\n",
    "\n",
    "for i in range (1, 7):\n",
    "    text += '\\r\\n! genrev Metal_Grey tube{}row1 t*4.2 0.15 32 | xform -t {} 0 0'.format(i+1, pile1x-pilesep*i)\n",
    "    text += '\\r\\n! genrev Metal_Grey tube{}row2 t*4.2 0.15 32 | xform -t {} 15 0'.format(i+1, pile1x-pilesep*i)\n",
    "    text += '\\r\\n! genrev Metal_Grey tube{}row3 t*4.2 0.15 32 | xform -t {} -15 0'.format(i+1, pile1x-pilesep*i)\n",
    "\n",
    "customObject = demo.makeCustomObject(name,text)\n",
    "demo.appendtoScene(radfile=scene.radfiles, customObject=customObject, text=\"!xform -rz 0\")\n",
    "\n",
    "octfile = demo.makeOct()  # makeOct combines all of the ground, sky and object files into a .oct file."
   ]
  },
  {
   "cell_type": "markdown",
   "metadata": {},
   "source": [
    "### View the geometry with the posts on :\n",
    "\n",
    "#### rvu -vf views\\front.vp -e .01 -pe 0.4 -vp 12 -10 3.5 -vd -0.0995 0.9950 0.0 AgriPV.oct\n",
    "\n",
    "![AgriPV modeled step 2](../images_wiki/AdvancedJournals/AgriPV_step2.PNG)\n"
   ]
  },
  {
   "cell_type": "markdown",
   "metadata": {},
   "source": [
    "<a id='step3'></a>\n"
   ]
  },
  {
   "cell_type": "markdown",
   "metadata": {},
   "source": [
    "<a id='step3'></a>"
   ]
  },
  {
   "cell_type": "markdown",
   "metadata": {},
   "source": [
    "<a id='step4'></a>"
   ]
  },
  {
   "cell_type": "markdown",
   "metadata": {},
   "source": [
    "<a id='step2'></a>"
   ]
  },
  {
   "cell_type": "markdown",
   "metadata": {},
   "source": [
    "## 2. Analyse  the Ground Irradiance\n",
    "\n",
    "Now let's do some analysis along the ground, starting from the edge of the modules. We wil select to start in the center of the array.\n",
    "\n",
    "We are also increasign the number of points sampled accross the collector width, with the  variable **sensorsy** passed to **moduleanalysis**. We are also increasing the step between sampling points, to be able to sample in between the rows."
   ]
  },
  {
   "cell_type": "code",
   "execution_count": 8,
   "metadata": {},
   "outputs": [],
   "source": [
    "analysis = AnalysisObj(octfile, demo.name)  # return an analysis object including the scan dimensions for back irradiance\n",
    "sensorsy = 20\n",
    "frontscan, backscan = analysis.moduleAnalysis(scene, sensorsy=sensorsy)\n"
   ]
  },
  {
   "cell_type": "code",
   "execution_count": 10,
   "metadata": {},
   "outputs": [],
   "source": [
    "groundscan = frontscan"
   ]
  },
  {
   "cell_type": "code",
   "execution_count": 13,
   "metadata": {},
   "outputs": [
    {
     "data": {
      "text/plain": [
       "{'xstart': 1.5159739062663865e-16,\n",
       " 'ystart': -1.237886635821746,\n",
       " 'zstart': 0.05,\n",
       " 'xinc': -1.5802346387185998e-17,\n",
       " 'yinc': 0.7894736842105263,\n",
       " 'zinc': 0,\n",
       " 'Nx': 1,\n",
       " 'Ny': 20.0,\n",
       " 'Nz': 1,\n",
       " 'orient': '-0.000 0.574 -0.819'}"
      ]
     },
     "execution_count": 13,
     "metadata": {},
     "output_type": "execute_result"
    }
   ],
   "source": [
    "groundscan['zstart'] = 0.05  # setting it 5 cm from the ground.\n",
    "groundscan['zinc'] = 0   # no tilt necessary. \n",
    "groundscan['yinc'] = pitch/(sensorsy-1)   # increasing spacing so it covers all distance between rows\n",
    "groundscan"
   ]
  },
  {
   "cell_type": "code",
   "execution_count": 14,
   "metadata": {},
   "outputs": [
    {
     "name": "stdout",
     "output_type": "stream",
     "text": [
      "Linescan in process: AgriPV_groundscan_Front\n",
      "Linescan in process: AgriPV_groundscan_Back\n",
      "Saved: results\\irr_AgriPV_groundscan.csv\n",
      "Annual bifacial ratio average:  0.230\n",
      "\n"
     ]
    }
   ],
   "source": [
    "analysis.analysis(octfile, simulationname+\"_groundscan\", groundscan, backscan)  # compare the back vs front irradiance  \n"
   ]
  },
  {
   "cell_type": "markdown",
   "metadata": {},
   "source": [
    "This is the result for only one 'chord' accross the ground. Let's now do a X-Y scan of the ground."
   ]
  },
  {
   "cell_type": "markdown",
   "metadata": {},
   "source": [
    "<a id='step3'></a>"
   ]
  },
  {
   "cell_type": "markdown",
   "metadata": {},
   "source": [
    "## 3. Analyse and MAP the Ground Irradiance"
   ]
  },
  {
   "cell_type": "markdown",
   "metadata": {},
   "source": [
    " We will use the same technique to find the irradiance on the ground used above, but will move it along the X-axis to map from the start of one module to the next.\n",
    " \n",
    " We will sample around the module that is placed at the center of the field."
   ]
  },
  {
   "cell_type": "markdown",
   "metadata": {},
   "source": [
    "![AgriPV modeled step 4](../images_wiki/AdvancedJournals/spacing_between_modules.PNG)"
   ]
  },
  {
   "cell_type": "code",
   "execution_count": 55,
   "metadata": {},
   "outputs": [],
   "source": [
    "import pandas as pd\n",
    "import seaborn as sns"
   ]
  },
  {
   "cell_type": "code",
   "execution_count": 16,
   "metadata": {},
   "outputs": [
    {
     "name": "stdout",
     "output_type": "stream",
     "text": [
      "Linescan in process: AgriPV_groundscan_0_Front\n",
      "Linescan in process: AgriPV_groundscan_0_Back\n",
      "Saved: results\\irr_AgriPV_groundscan_0.csv\n",
      "Linescan in process: AgriPV_groundscan_1_Front\n",
      "Linescan in process: AgriPV_groundscan_1_Back\n",
      "Saved: results\\irr_AgriPV_groundscan_1.csv\n",
      "Linescan in process: AgriPV_groundscan_2_Front\n",
      "Linescan in process: AgriPV_groundscan_2_Back\n",
      "Saved: results\\irr_AgriPV_groundscan_2.csv\n",
      "Linescan in process: AgriPV_groundscan_3_Front\n",
      "Linescan in process: AgriPV_groundscan_3_Back\n",
      "Saved: results\\irr_AgriPV_groundscan_3.csv\n",
      "Linescan in process: AgriPV_groundscan_4_Front\n",
      "Linescan in process: AgriPV_groundscan_4_Back\n",
      "Saved: results\\irr_AgriPV_groundscan_4.csv\n",
      "Linescan in process: AgriPV_groundscan_5_Front\n",
      "Linescan in process: AgriPV_groundscan_5_Back\n",
      "Saved: results\\irr_AgriPV_groundscan_5.csv\n",
      "Linescan in process: AgriPV_groundscan_6_Front\n",
      "Linescan in process: AgriPV_groundscan_6_Back\n",
      "Saved: results\\irr_AgriPV_groundscan_6.csv\n",
      "Linescan in process: AgriPV_groundscan_7_Front\n",
      "Linescan in process: AgriPV_groundscan_7_Back\n",
      "Saved: results\\irr_AgriPV_groundscan_7.csv\n",
      "Linescan in process: AgriPV_groundscan_8_Front\n",
      "Linescan in process: AgriPV_groundscan_8_Back\n",
      "Saved: results\\irr_AgriPV_groundscan_8.csv\n",
      "Linescan in process: AgriPV_groundscan_9_Front\n",
      "Linescan in process: AgriPV_groundscan_9_Back\n",
      "Saved: results\\irr_AgriPV_groundscan_9.csv\n",
      "Linescan in process: AgriPV_groundscan_10_Front\n",
      "Linescan in process: AgriPV_groundscan_10_Back\n",
      "Saved: results\\irr_AgriPV_groundscan_10.csv\n",
      "Linescan in process: AgriPV_groundscan_11_Front\n",
      "Linescan in process: AgriPV_groundscan_11_Back\n",
      "Saved: results\\irr_AgriPV_groundscan_11.csv\n",
      "Linescan in process: AgriPV_groundscan_12_Front\n",
      "Linescan in process: AgriPV_groundscan_12_Back\n",
      "Saved: results\\irr_AgriPV_groundscan_12.csv\n",
      "Linescan in process: AgriPV_groundscan_13_Front\n",
      "Linescan in process: AgriPV_groundscan_13_Back\n",
      "Saved: results\\irr_AgriPV_groundscan_13.csv\n",
      "Linescan in process: AgriPV_groundscan_14_Front\n",
      "Linescan in process: AgriPV_groundscan_14_Back\n",
      "Saved: results\\irr_AgriPV_groundscan_14.csv\n",
      "Linescan in process: AgriPV_groundscan_15_Front\n",
      "Linescan in process: AgriPV_groundscan_15_Back\n",
      "Saved: results\\irr_AgriPV_groundscan_15.csv\n",
      "Linescan in process: AgriPV_groundscan_16_Front\n",
      "Linescan in process: AgriPV_groundscan_16_Back\n",
      "Saved: results\\irr_AgriPV_groundscan_16.csv\n",
      "Linescan in process: AgriPV_groundscan_17_Front\n",
      "Linescan in process: AgriPV_groundscan_17_Back\n",
      "Saved: results\\irr_AgriPV_groundscan_17.csv\n",
      "Linescan in process: AgriPV_groundscan_18_Front\n",
      "Linescan in process: AgriPV_groundscan_18_Back\n",
      "Saved: results\\irr_AgriPV_groundscan_18.csv\n",
      "Linescan in process: AgriPV_groundscan_19_Front\n",
      "Linescan in process: AgriPV_groundscan_19_Back\n",
      "Saved: results\\irr_AgriPV_groundscan_19.csv\n"
     ]
    }
   ],
   "source": [
    "sensorsx = 20\n",
    "startgroundsample=-moduleDict['scenex']\n",
    "spacingbetweensamples = moduleDict['scenex']/(sensorsx-1)\n",
    "\n",
    "for i in range (0, sensorsx): # Will map 20 points    \n",
    "    frontscan, backscan = analysis.moduleAnalysis(scene, sensorsy=sensorsy)\n",
    "    groundscan = frontscan\n",
    "    groundscan['zstart'] = 0.05  # setting it 5 cm from the ground.\n",
    "    groundscan['zinc'] = 0   # no tilt necessary. \n",
    "    groundscan['yinc'] = pitch/(sensorsy-1)   # increasing spacing so it covers all distance between rows\n",
    "    groundscan['xstart'] = startgroundsample + i*spacingbetweensamples   # increasing spacing so it covers all distance between rows\n",
    "    analysis.analysis(octfile, simulationname+\"_groundscan_\"+str(i), groundscan, backscan)  # compare the back vs front irradiance  \n"
   ]
  },
  {
   "cell_type": "markdown",
   "metadata": {},
   "source": [
    "Read all the files generated into one dataframe"
   ]
  },
  {
   "cell_type": "code",
   "execution_count": 30,
   "metadata": {},
   "outputs": [
    {
     "name": "stdout",
     "output_type": "stream",
     "text": [
      "20 files in the directory\n",
      "20 groundscan files in the directory\n"
     ]
    }
   ],
   "source": [
    "filestarter = \"irr_AgriPV_groundscan_\"\n",
    "\n",
    "filelist = sorted(os.listdir(os.path.join(testfolder, 'results')))\n",
    "prefixed = [filename for filename in filelist if filename.startswith(filestarter)]\n",
    "arrayWm2Front = []\n",
    "arrayWm2Back = []\n",
    "arrayMatFront = []\n",
    "arrayMatBack = []\n",
    "filenamed = []\n",
    "faillist = []\n",
    "\n",
    "print('{} files in the directory'.format(filelist.__len__()))\n",
    "print('{} groundscan files in the directory'.format(prefixed.__len__()))\n",
    "i = 0  # counter to track # files loaded.\n",
    "\n",
    "for i in range (0, len(prefixed)):\n",
    "    ind = prefixed[i].split('_')\n",
    "    #print(\" Working on \", filelist[i], locs[ii], Scenario[jj])\n",
    "    try:\n",
    "        resultsDF = load.read1Result(os.path.join(testfolder, 'results', prefixed[i]))\n",
    "        arrayWm2Front.append(list(resultsDF['Wm2Front']))\n",
    "        arrayWm2Back.append(list(resultsDF['Wm2Back']))\n",
    "        arrayMatFront.append(list(resultsDF['mattype']))\n",
    "        arrayMatBack.append(list(resultsDF['rearMat']))\n",
    "        filenamed.append(prefixed[i])\n",
    "    except:\n",
    "        print(\" FAILED \", i, prefixed[i])\n",
    "        faillist.append(prefixed[i])\n",
    "\n",
    "resultsdf = pd.DataFrame(list(zip(arrayWm2Front, arrayWm2Back, \n",
    "                                  arrayMatFront, arrayMatBack)),\n",
    "                         columns = ['br_Wm2Front', 'br_Wm2Back', \n",
    "                                    'br_MatFront', 'br_MatBack'])\n",
    "resultsdf['filename'] = filenamed"
   ]
  },
  {
   "cell_type": "markdown",
   "metadata": {},
   "source": [
    "Creating a new dataframe where  each element in the front irradiance list is a column. Also transpose and reverse so it looks like a top-down view of the ground."
   ]
  },
  {
   "cell_type": "code",
   "execution_count": 54,
   "metadata": {},
   "outputs": [],
   "source": [
    "df3 = pd.DataFrame(resultsdf['br_Wm2Front'].to_list())\n",
    "reversed_df = df3.T.iloc[::-1]"
   ]
  },
  {
   "cell_type": "code",
   "execution_count": 59,
   "metadata": {},
   "outputs": [],
   "source": [
    "sns.set(rc={'figure.figsize':(11.7,8.27)})"
   ]
  },
  {
   "cell_type": "code",
   "execution_count": 60,
   "metadata": {},
   "outputs": [
    {
     "name": "stdout",
     "output_type": "stream",
     "text": [
      "\n"
     ]
    },
    {
     "data": {
      "image/png": "[encoded data removed]",
      "text/plain": [
       "<Figure size 842.4x595.44 with 2 Axes>"
      ]
     },
     "metadata": {},
     "output_type": "display_data"
    }
   ],
   "source": [
    "# Plot\n",
    "ax = sns.heatmap(reversed_df)\n",
    "ax.set_yticks([])\n",
    "ax.set_xticks([])\n",
    "ax.set_ylabel('')  \n",
    "ax.set_xlabel('')  \n",
    "#ax.tick_params(left=False, bottom=False)\n",
    "print('')"
   ]
  },
  {
   "cell_type": "markdown",
   "metadata": {},
   "source": [
    "<a id='step4'></a>"
   ]
  },
  {
   "cell_type": "markdown",
   "metadata": {},
   "source": [
    "## 4. Adding different Albedo Sections\n",
    "Add a surface (just like we added the pillars) with a specific reflectivity to represent different albedo sections. In the image, we can see that the albedo between the crops is different than the crop albedo. Let's assume that the abledo between the crops is higher than the crop's albedo which wa previuosly set a 0.2.\n",
    "\n"
   ]
  },
  {
   "cell_type": "code",
   "execution_count": 16,
   "metadata": {},
   "outputs": [
    {
     "name": "stdout",
     "output_type": "stream",
     "text": [
      "\n",
      "Custom Object Name objects\\Center_Grass.rad\n",
      "Created AgriPV.oct\n"
     ]
    }
   ],
   "source": [
    "name='Center_Grass'\n",
    "carpositionx=-2\n",
    "carpositiony=-1\n",
    "text='! genbox white_EPDM CenterPatch 28 12 0.1 | xform -t -14 2 0'.format(carpositionx, carpositiony)\n",
    "customObject = demo.makeCustomObject(name,text)\n",
    "demo.appendtoScene(scene.radfiles, customObject, '!xform -rz 0')\n",
    "\n",
    "octfile = demo.makeOct(demo.getfilelist())  # makeOct combines all of the ground, sky and object files into a .oct file.\n"
   ]
  },
  {
   "cell_type": "markdown",
   "metadata": {},
   "source": [
    "Viewing with rvu:\n",
    "\n",
    "![AgriPV modeled step 4](../images_wiki/AdvancedJournals/AgriPV_step4.PNG)\n",
    "\n"
   ]
  }
 ],
 "metadata": {
  "kernelspec": {
   "display_name": "Python 3",
   "language": "python",
   "name": "python3"
  },
  "language_info": {
   "codemirror_mode": {
    "name": "ipython",
    "version": 3
   },
   "file_extension": ".py",
   "mimetype": "text/x-python",
   "name": "python",
   "nbconvert_exporter": "python",
   "pygments_lexer": "ipython3",
   "version": "3.8.3"
  }
 },
 "nbformat": 4,
 "nbformat_minor": 2
}
