{
 "cells": [
  {
   "cell_type": "markdown",
   "metadata": {},
   "source": [
    "# 7 - Advanced topics - Multiple SceneObjects Example\n",
    "\n",
    "This journal shows how to:\n",
    "\n",
    "<ul>\n",
    "    <li> Create multiple scene objects in the same scene. </li>\n",
    "    <li> Analyze multiple scene objects in the same scene </li>\n",
    "    <li> Add a marker to find the origin (0,0) on a scene (for sanity-checks/visualization). </li>\n",
    "\n",
    "A scene Object is defined as an array of modules, with whatever parameters you want to give it. In this case, we are modeling one array of 2 rows of 5 modules in landscape, and one array of 1 row of 5 modules in 2-UP, portrait configuration, as the image below:\n",
    "\n",
    "![multiple Scene Objects Example](..\\images_wiki\\Journal_example_multiple_objects.PNG)\n",
    "\n",
    "\n",
    "### Steps:\n",
    "\n",
    "<ol>\n",
    "    <li> <a href='#step1'> Generating the setups</a></li>\n",
    "    <ol type='A'>\n",
    "        <li> <a href='#step1a'> Generating the firt scene object</a></li>\n",
    "        <li> <a href='#step1b'> Generating the second scene object.</a></li>\n",
    "    </ol>\n",
    "    <li> <a href='#step2'> Add a Marker at the Origin (coordinates 0,0) for help with visualization </a></li>   \n",
    "    <li> <a href='#step3'> Combine all scene Objects into one OCT file  & Visualize </a></li>\n",
    "    <li> <a href='#step4'> Analysis for Each sceneObject </a></li>\n",
    "</ol>"
   ]
  },
  {
   "cell_type": "markdown",
   "metadata": {},
   "source": [
    "<a id='step1'></a>"
   ]
  },
  {
   "cell_type": "markdown",
   "metadata": {},
   "source": [
    "### 1. Generating the Setups"
   ]
  },
  {
   "cell_type": "code",
   "execution_count": 3,
   "metadata": {},
   "outputs": [
    {
     "name": "stdout",
     "output_type": "stream",
     "text": [
      "Your simulation will be stored in C:\\Users\\sayala\\Documents\\GitHub\\bifacial_radiance\\bifacial_radiance\\TEMP\n"
     ]
    }
   ],
   "source": [
    "import os\n",
    "import numpy as np\n",
    "testfolder = os.path.abspath(r'..\\..\\bifacial_radiance\\TEMP')  \n",
    "\n",
    "print (\"Your simulation will be stored in %s\" % testfolder)\n",
    "    \n",
    "from bifacial_radiance import RadianceObj, AnalysisObj    "
   ]
  },
  {
   "cell_type": "markdown",
   "metadata": {},
   "source": [
    "<a id='step1a'></a>"
   ]
  },
  {
   "cell_type": "markdown",
   "metadata": {},
   "source": [
    "### A. Generating the firt scene object\n",
    "\n",
    "This is a standard fixed-tilt setup for one hour. Gencumsky could be used too for the whole year.\n",
    "\n",
    "The key here is that we are setting in sceneDict the variable **appendRadfile** to true."
   ]
  },
  {
   "cell_type": "code",
   "execution_count": 4,
   "metadata": {},
   "outputs": [
    {
     "name": "stdout",
     "output_type": "stream",
     "text": [
      "path = C:\\Users\\sayala\\Documents\\GitHub\\bifacial_radiance\\bifacial_radiance\\TEMP\n",
      "Getting weather file: USA_VA_Richmond.Intl.AP.724010_TMY.epw\n",
      " ... OK!\n",
      "\n",
      "Module Name: Prism_Solar_Bi60_landscape\n",
      "Module file did not exist before, creating new module file\n",
      "Module Prism Solar Bi60 landscape successfully created\n"
     ]
    }
   ],
   "source": [
    "demo = RadianceObj(\"MultipleObj\", path = testfolder)  # Create a RadianceObj 'object'\n",
    "demo.setGround(0.62)\n",
    "epwfile = demo.getEPW(lat = 37.5, lon = -77.6)    \n",
    "metdata = demo.readWeatherFile('EPWs\\\\USA_VA_Richmond.Intl.AP.724010_TMY.epw') \n",
    "fullYear = True\n",
    "demo.gendaylit(metdata,4020)  # Noon, June 17th  . # Gencumsky could be used too.\n",
    "module_type = 'Prism Solar Bi60 landscape' \n",
    "demo.makeModule(name=module_type,y=1,x=1.7)\n",
    "sceneDict = {'tilt':10,'pitch':1.5,'clearance_height':0.2,'azimuth':180, 'nMods': 5, 'nRows': 2, 'appendRadfile':True} \n",
    "sceneObj1 = demo.makeScene(module_type,sceneDict)  "
   ]
  },
  {
   "cell_type": "markdown",
   "metadata": {},
   "source": [
    "Checking values after Scene for the scene Object created"
   ]
  },
  {
   "cell_type": "code",
   "execution_count": 5,
   "metadata": {},
   "outputs": [
    {
     "name": "stdout",
     "output_type": "stream",
     "text": [
      "SceneObj1 modulefile: objects\\Prism_Solar_Bi60_landscape.rad\n",
      "SceneObj1 SceneFile: objects\\Prism_Solar_Bi60_landscape_0.2_1.5_10_5x2_origin0,0.rad\n",
      "SceneObj1 GCR: 0.67\n",
      "FileLists: \n",
      " ['materials\\\\ground.rad', 'skies\\\\sky2_37.5_-77.33_06_17_13.rad', 'objects\\\\Prism_Solar_Bi60_landscape_0.2_1.5_10_5x2_origin0,0.rad']\n"
     ]
    }
   ],
   "source": [
    "print (\"SceneObj1 modulefile: %s\" % sceneObj1.modulefile)\n",
    "print (\"SceneObj1 SceneFile: %s\" %sceneObj1.radfiles)\n",
    "print (\"SceneObj1 GCR: %s\" % round(sceneObj1.gcr,2))\n",
    "print (\"FileLists: \\n %s\" % demo.getfilelist())"
   ]
  },
  {
   "cell_type": "markdown",
   "metadata": {},
   "source": [
    "<a id='step1b'></a>"
   ]
  },
  {
   "cell_type": "markdown",
   "metadata": {},
   "source": [
    "### B. Generating the second scene object.\n",
    "\n",
    "Creating a different Scene. Same Module, different values.\n",
    "Notice we are passing a different **originx** and **originy** to displace the center of this new sceneObj to that location.\n"
   ]
  },
  {
   "cell_type": "code",
   "execution_count": 6,
   "metadata": {},
   "outputs": [
    {
     "name": "stdout",
     "output_type": "stream",
     "text": [
      "\n",
      "Module Name: Module2\n",
      "Module file did not exist before, creating new module file\n",
      "Module Module2 successfully created\n"
     ]
    }
   ],
   "source": [
    "sceneDict2 = {'tilt':30,'pitch':5,'clearance_height':1,'azimuth':180, \n",
    "              'nMods': 5, 'nRows': 1, 'originx': 0, 'originy': 3.5, 'appendRadfile':True} \n",
    "module_type2='Longi'\n",
    "demo.makeModule(name=module_type2,x=1,y=1.6, numpanels=2, ygap=0.15)\n",
    "sceneObj2 = demo.makeScene(module_type2,sceneDict2)  \n"
   ]
  },
  {
   "cell_type": "code",
   "execution_count": 7,
   "metadata": {},
   "outputs": [
    {
     "name": "stdout",
     "output_type": "stream",
     "text": [
      "SceneObj1 modulefile: objects\\Prism_Solar_Bi60_landscape.rad\n",
      "SceneObj1 SceneFile: objects\\Prism_Solar_Bi60_landscape_0.2_1.5_10_5x2_origin0,0.rad\n",
      "SceneObj1 GCR: 0.67\n",
      "\n",
      "SceneObj2 modulefile: objects\\Module2.rad\n",
      "SceneObj2 SceneFile: objects\\Module2_1.0_5_30_5x1_origin0,3.5.rad\n",
      "SceneObj2 GCR: 0.67\n",
      "NEW FileLists: \n",
      " ['materials\\\\ground.rad', 'skies\\\\sky2_37.5_-77.33_06_17_13.rad', 'objects\\\\Prism_Solar_Bi60_landscape_0.2_1.5_10_5x2_origin0,0.rad', 'objects\\\\Module2_1.0_5_30_5x1_origin0,3.5.rad']\n"
     ]
    }
   ],
   "source": [
    "# Checking values for both scenes after creating new SceneObj\n",
    "print (\"SceneObj1 modulefile: %s\" % sceneObj1.modulefile)\n",
    "print (\"SceneObj1 SceneFile: %s\" %sceneObj1.radfiles)\n",
    "print (\"SceneObj1 GCR: %s\" % round(sceneObj1.gcr,2))\n",
    "\n",
    "print (\"\\nSceneObj2 modulefile: %s\" % sceneObj2.modulefile)\n",
    "print (\"SceneObj2 SceneFile: %s\" %sceneObj2.radfiles)\n",
    "print (\"SceneObj2 GCR: %s\" % round(sceneObj2.gcr,2))\n",
    "\n",
    "#getfilelist should have info for the rad file created by BOTH scene objects.\n",
    "print (\"NEW FileLists: \\n %s\" % demo.getfilelist())"
   ]
  },
  {
   "cell_type": "markdown",
   "metadata": {},
   "source": [
    "<a id='step2'></a>"
   ]
  },
  {
   "cell_type": "markdown",
   "metadata": {},
   "source": [
    "### 2. Add a Marker at the Origin (coordinates 0,0) for help with visualization\n",
    "\n",
    "Creating a \"markers\" for the geometry is useful to orient one-self when doing sanity-checks (for example, marke where 0,0 is, or where 5,0 coordinate is).\n",
    "\n",
    "<div class=\"alert alert-warning\">\n",
    "Note that if you analyze the module that intersects with the marker, some of the sensors will be wrong. To perform valid analysis, do so without markers, as they are 'real' objects on your scene. \n",
    "</div>\n"
   ]
  },
  {
   "cell_type": "code",
   "execution_count": 8,
   "metadata": {
    "scrolled": true
   },
   "outputs": [
    {
     "name": "stdout",
     "output_type": "stream",
     "text": [
      "\n",
      "Custom Object Name objects\\Post1.rad\n"
     ]
    }
   ],
   "source": [
    "# NOTE: offsetting translation by 0.1 so the center of the marker (with sides of 0.2) is at the desired coordinate.\n",
    "name='Post1'\n",
    "text='! genbox black originMarker 0.2 0.2 1 | xform -t -0.1 -0.1 0'\n",
    "customObject = demo.makeCustomObject(name,text)\n",
    "demo.appendtoScene(sceneObj1.radfiles, customObject, '!xform -rz 0')"
   ]
  },
  {
   "cell_type": "markdown",
   "metadata": {},
   "source": [
    "<a id='step3'></a>"
   ]
  },
  {
   "cell_type": "markdown",
   "metadata": {},
   "source": [
    "### 3. Combine all scene Objects into one OCT file & Visualize\n",
    "Marking this as its own steps because this is the step that joins our Scene Objects 1, 2 and the appended Post.\n",
    "Run makeOCT to make the scene with both scene objects AND the marker in it, the ground and the skies."
   ]
  },
  {
   "cell_type": "code",
   "execution_count": 9,
   "metadata": {},
   "outputs": [
    {
     "name": "stdout",
     "output_type": "stream",
     "text": [
      "Created MultipleObj.oct\n"
     ]
    }
   ],
   "source": [
    "octfile = demo.makeOct(demo.getfilelist()) "
   ]
  },
  {
   "cell_type": "markdown",
   "metadata": {},
   "source": [
    "At this point you should be able to go into a command window (cmd.exe) and check the geometry. Example:\n",
    "\n",
    "##### rvu -vf views\\front.vp -e .01 -pe 0.3 -vp 1 -7.5 12 MultipleObj.oct\n",
    "\n",
    "It should look something like this:\n",
    "\n",
    "![multiple Scene Objects Example](..\\images_wiki\\Journal_example_multiple_objects.PNG)\n"
   ]
  },
  {
   "cell_type": "markdown",
   "metadata": {},
   "source": [
    "<a id='step4'></a>"
   ]
  },
  {
   "cell_type": "markdown",
   "metadata": {},
   "source": [
    "### 4. Analysis for Each sceneObject\n",
    "\n",
    "a **sceneDict** is saved for each scene. When calling the Analysis, you should reference the scene object you want."
   ]
  },
  {
   "cell_type": "code",
   "execution_count": 10,
   "metadata": {},
   "outputs": [
    {
     "data": {
      "text/plain": [
       "{'tilt': 10,\n",
       " 'pitch': 1.5,\n",
       " 'clearance_height': 0.2,\n",
       " 'azimuth': 180,\n",
       " 'nMods': 5,\n",
       " 'nRows': 2,\n",
       " 'appendRadfile': True,\n",
       " 'axis_tilt': 0,\n",
       " 'originx': 0,\n",
       " 'originy': 0}"
      ]
     },
     "execution_count": 10,
     "metadata": {},
     "output_type": "execute_result"
    }
   ],
   "source": [
    "sceneObj1.sceneDict"
   ]
  },
  {
   "cell_type": "code",
   "execution_count": 11,
   "metadata": {},
   "outputs": [
    {
     "data": {
      "text/plain": [
       "{'tilt': 30,\n",
       " 'pitch': 5,\n",
       " 'clearance_height': 1,\n",
       " 'azimuth': 180,\n",
       " 'nMods': 5,\n",
       " 'nRows': 1,\n",
       " 'originx': 0,\n",
       " 'originy': 3.5,\n",
       " 'appendRadfile': True,\n",
       " 'axis_tilt': 0}"
      ]
     },
     "execution_count": 11,
     "metadata": {},
     "output_type": "execute_result"
    }
   ],
   "source": [
    "sceneObj2.sceneDict"
   ]
  },
  {
   "cell_type": "code",
   "execution_count": 13,
   "metadata": {},
   "outputs": [
    {
     "name": "stdout",
     "output_type": "stream",
     "text": [
      "Linescan in process: FirstObj_Front\n",
      "Linescan in process: FirstObj_Back\n",
      "Saved: results\\irr_FirstObj.csv\n",
      "Annual bifacial ratio First Set of Panels: 0.162 \n"
     ]
    }
   ],
   "source": [
    "analysis = AnalysisObj(octfile, demo.basename)  \n",
    "frontscan, backscan = analysis.moduleAnalysis(sceneObj1)\n",
    "frontdict, backdict = analysis.analysis(octfile, \"FirstObj\", frontscan, backscan)  # compare the back vs front irradiance  \n",
    "print('Annual bifacial ratio First Set of Panels: %0.3f ' %( np.mean(analysis.Wm2Back) / np.mean(analysis.Wm2Front)) )"
   ]
  },
  {
   "cell_type": "markdown",
   "metadata": {},
   "source": [
    "Let's do a Sanity check for first object:\n",
    "Since we didn't pass any desired module, it should grab the center module of the center row (rounding down). For 2 rows and 5 modules, that is row 1, module 3 ~ indexed at 0, a2.0.a0.PVmodule.....\"\""
   ]
  },
  {
   "cell_type": "code",
   "execution_count": 14,
   "metadata": {},
   "outputs": [
    {
     "name": "stdout",
     "output_type": "stream",
     "text": [
      "[4.824167e-17, 3.618125e-17, 2.412083e-17, 1.206042e-17, -1.232595e-32, -1.206042e-17, -2.412083e-17, -3.618125e-17, -4.824167e-17]\n",
      "\n",
      "[-0.3939231, -0.2954423, -0.1969616, -0.09848078, 0.0, 0.09848078, 0.1969616, 0.2954423, 0.3939231]\n",
      "\n",
      "['a2.0.a0.Prism_Solar_Bi60_landscape.6457', 'a2.0.a0.Prism_Solar_Bi60_landscape.6457', 'a2.0.a0.Prism_Solar_Bi60_landscape.6457', 'a2.0.a0.Prism_Solar_Bi60_landscape.6457', 'a2.0.a0.Prism_Solar_Bi60_landscape.6457', 'a2.0.a0.Prism_Solar_Bi60_landscape.6457', 'a2.0.a0.Prism_Solar_Bi60_landscape.6457', 'a2.0.a0.Prism_Solar_Bi60_landscape.6457', 'a2.0.a0.Prism_Solar_Bi60_landscape.6457']\n"
     ]
    }
   ],
   "source": [
    "print (frontdict['x'])\n",
    "print (\"\")\n",
    "print (frontdict['y'])\n",
    "print (\"\")\n",
    "print (frontdict['mattype'])"
   ]
  },
  {
   "cell_type": "markdown",
   "metadata": {},
   "source": [
    "Let's analyze a module in sceneobject 2 now. Remember we can specify which module/row we want. We only have one row in this Object though.\n"
   ]
  },
  {
   "cell_type": "code",
   "execution_count": 19,
   "metadata": {},
   "outputs": [
    {
     "name": "stdout",
     "output_type": "stream",
     "text": [
      "Linescan in process: SecondObj_Front\n",
      "Linescan in process: SecondObj_Back\n",
      "Saved: results\\irr_SecondObj.csv\n",
      "Annual bifacial ratio Second Set of Panels: 0.322 \n"
     ]
    }
   ],
   "source": [
    "analysis = AnalysisObj(octfile, demo.basename)  \n",
    "modWanted = 4\n",
    "rowWanted = 1\n",
    "sensorsy=4\n",
    "frontscan, backscan = analysis.moduleAnalysis(sceneObj2, modWanted = modWanted, rowWanted = rowWanted, sensorsy=sensorsy)\n",
    "frontdict2, backdict2 = analysis.analysis(octfile, \"SecondObj\", frontscan, backscan)  # compare the back vs front irradiance  \n",
    "print('Annual bifacial ratio Second Set of Panels: %0.3f ' %( np.mean(analysis.Wm2Back) / np.mean(analysis.Wm2Front)) )"
   ]
  },
  {
   "cell_type": "markdown",
   "metadata": {},
   "source": [
    "Sanity check for first object. Since we didn't pass any desired module, it should grab the center module of the center row (rounding down). For 1 rows, that is row 0, module 4 ~ indexed at 0, a3.0.a0.Longi... and a3.0.a1.Longi since it is a 2-UP system.\n"
   ]
  },
  {
   "cell_type": "code",
   "execution_count": 23,
   "metadata": {},
   "outputs": [
    {
     "name": "stdout",
     "output_type": "stream",
     "text": [
      "x coordinate points: [1.01, 1.01, 1.01, 1.01]\n",
      "\n",
      "y coordinate points: [2.629644, 3.209881, 3.790119, 4.370356]\n",
      "\n",
      "Elements intersected at each point:  ['a3.0.a0.Module2.6457', 'a3.0.a0.Module2.6457', 'a3.0.a1.Module2.6457', 'a3.0.a1.Module2.6457']\n"
     ]
    }
   ],
   "source": [
    "print (\"x coordinate points:\" , frontdict2['x'])\n",
    "print (\"\")\n",
    "print (\"y coordinate points:\", frontdict2['y'])\n",
    "print (\"\")\n",
    "print (\"Elements intersected at each point: \", frontdict2['mattype'])"
   ]
  },
  {
   "cell_type": "markdown",
   "metadata": {},
   "source": [
    "Visualizing the coordinates and module analyzed with an image:\n",
    "    \n",
    "![multiple Scene Objects Example](..\\images_wiki\\AdvancedJournals\\MultipleSceneObject_AnalysingSceneObj2_Row1_Module4.PNG)\n"
   ]
  }
 ],
 "metadata": {
  "anaconda-cloud": {},
  "kernelspec": {
   "display_name": "Python 3",
   "language": "python",
   "name": "python3"
  },
  "language_info": {
   "codemirror_mode": {
    "name": "ipython",
    "version": 3
   },
   "file_extension": ".py",
   "mimetype": "text/x-python",
   "name": "python",
   "nbconvert_exporter": "python",
   "pygments_lexer": "ipython3",
   "version": "3.7.3"
  }
 },
 "nbformat": 4,
 "nbformat_minor": 1
}
