{
 "cells": [
  {
   "cell_type": "code",
   "execution_count": 1,
   "metadata": {},
   "outputs": [
    {
     "name": "stdout",
     "output_type": "stream",
     "text": [
      "Working on a  Windows 10\n",
      "Python version  3.9.12 (main, Apr  4 2022, 05:22:27) [MSC v.1916 64 bit (AMD64)]\n",
      "Pandas version  1.4.2\n",
      "bifacial_radiance version  0.4.4.dev26+ge667a7c\n"
     ]
    }
   ],
   "source": [
    "# This information helps with debugging and getting support :)\n",
    "import sys, platform\n",
    "import pandas as pd\n",
    "import bifacial_radiance as br\n",
    "print(\"Working on a \", platform.system(), platform.release())\n",
    "print(\"Python version \", sys.version)\n",
    "print(\"Pandas version \", pd.__version__)\n",
    "print(\"bifacial_radiance version \", br.__version__)"
   ]
  },
  {
   "cell_type": "markdown",
   "metadata": {},
   "source": [
    "# 8 - Electrical Mismatch Method\n",
    "\n",
    "Nonuniform rear-irradiance on bifacial PV systems can cause additional mismatch loss, which may not be appropriately captured in PV energy production estimates and software.\n",
    "\n",
    "<img src=\"../images_wiki/AdvancedJournals/Mismatch_Definition_Example.PNG\" width=\"600\">\n",
    "\n",
    "The **analysis.py** module in bifacial_radiance comes with functions to calculate power output, electrical mismatch, and some other irradiance calculations. This is the procedure used for this proceedings and submitted journals, which have much more detail on the procedure. \n",
    "\n",
    "* Deline, C., Ayala Pelaez, S., MacAlpine, S., Olalla, C. Estimating and Parameterizing Mismatch Power Loss in Bifacial Photovoltaic Systems. Progress in PV 2020, https://doi.org/10.1002/pip.3259\n",
    "\n",
    "* Deline C, Ayala Pelaez S, MacAlpine S, Olalla C. Bifacial PV System Mismatch Loss Estimation & Parameterization. Presented in: 36th EU PVSEC, Marseille Fr. Slides: https://www.nrel.gov/docs/fy19osti/74885.pdf. Proceedings: https://www.nrel.gov/docs/fy20osti/73541.pdf\n",
    "\n",
    "* Ayala Pelaez S, Deline C, MacAlpine S, Olalla C. Bifacial PV system mismatch loss estimation. Poster presented at the 6th BifiPV Workshop, Amsterdam 2019. https://www.nrel.gov/docs/fy19osti/74831.pdf and http://bifipv-workshop.com/index.php?id=amsterdam-2019-program \n",
    "\n",
    "Ideally **mismatch losses M** should be calculated for the whole year, and then the **mismatch loss factor to apply to Grear \"Lrear\"** required by due diligence softwares can be calculated:\n",
    "\n",
    "<img src=\"../images_wiki/AdvancedJournals/Lrear_solving.PNG\" width=\"400\">\n",
    "\n",
    "In this journal we will explore calculating mismatch loss M for a reduced set of hours. A procedure similar to that in Tutorial 3 will be used to generate various hourly irradiance measurements in the results folder, which the mismatch.py module will load and analyze. Analysis is done with PVMismatch, so this must be installed.\n",
    "\n",
    "## STEPS:\n",
    "    1. Run an hourly simulation\n",
    "    2. Do mismatch analysis on the results.\n",
    "\n"
   ]
  },
  {
   "cell_type": "markdown",
   "metadata": {},
   "source": [
    "<a id='step1'></a>"
   ]
  },
  {
   "cell_type": "markdown",
   "metadata": {},
   "source": [
    "### 1. Run an hourly simulation\n",
    "\n",
    "This will generate the results over which we will perform the mismatch analysis. Here we are doing only 1 day to make this faster."
   ]
  },
  {
   "cell_type": "code",
   "execution_count": 2,
   "metadata": {},
   "outputs": [
    {
     "name": "stdout",
     "output_type": "stream",
     "text": [
      "path = F:\\Documents\\Python Scripts\\bifacial_radiance\\bifacial_radiance\\TEMP\\Tutorial_08\n",
      "Loading albedo, 1 value(s), 0.250 avg\n",
      "1 nonzero albedo values.\n",
      "Getting weather file: USA_VA_Richmond.724010_TMY2.epw\n",
      " ... OK!\n",
      "8760 line in WeatherFile. Assuming this is a standard hourly WeatherFile for the year for purposes of saving Gencumulativesky temporary weather files in EPW folder.\n",
      "Coercing year to 2021\n",
      "Filtering dates\n",
      "Saving file EPWs\\metdata_temp.csv, # points: 8760\n",
      "Calculating Sun position for Metdata that is right-labeled  with a delta of -30 mins. i.e. 12 is 11:30 sunpos\n",
      "\n",
      "Module Name: PVmodule\n",
      "Module PVmodule updated in module.json\n",
      "Creating ~3 skyfiles. \n",
      "Created 3 skyfiles in /skies/\n",
      "\n",
      "Making ~3 .rad files for gendaylit 1-axis workflow (this takes a minute..)\n",
      "3 Radfiles created in /objects/\n",
      "\n",
      "Making 3 octfiles in root directory.\n",
      "Created 1axis_2021-11-06_0800.oct\n",
      "Created 1axis_2021-11-06_0900.oct\n",
      "Created 1axis_2021-11-06_1000.oct\n",
      "Linescan in process: 1axis_2021-11-06_0800_Front\n",
      "Linescan in process: 1axis_2021-11-06_0800_Back\n",
      "Saved: results\\irr_1axis_2021-11-06_0800.csv\n",
      "Index: 2021-11-06_0800. Wm2Front: 216.96855833333333. Wm2Back: 6.093165249999999\n",
      "Linescan in process: 1axis_2021-11-06_0900_Front\n",
      "Linescan in process: 1axis_2021-11-06_0900_Back\n",
      "Saved: results\\irr_1axis_2021-11-06_0900.csv\n",
      "Index: 2021-11-06_0900. Wm2Front: 371.74485000000004. Wm2Back: 34.83021\n",
      "Linescan in process: 1axis_2021-11-06_1000_Front\n",
      "Linescan in process: 1axis_2021-11-06_1000_Back\n",
      "Saved: results\\irr_1axis_2021-11-06_1000.csv\n",
      "Index: 2021-11-06_1000. Wm2Front: 335.9888916666666. Wm2Back: 40.308077499999996\n",
      "Saving a cumulative-results file in the main simulation folder.This adds up by sensor location the irradiance over all hours or configurations considered.\n",
      "Warning: This file saving routine does not clean results, so if your setup has ygaps, or 2+modules or torque tubes, doing a deeper cleaning and working with the individual results files in the results folder is highly suggested.\n",
      "\n",
      "Saving Cumulative results\n",
      "Saved: cumulative_results_.csv\n"
     ]
    }
   ],
   "source": [
    "import bifacial_radiance\n",
    "import os \n",
    "from pathlib import Path\n",
    "\n",
    "testfolder = str(Path().resolve().parent.parent / 'bifacial_radiance' / 'TEMP'/ 'Tutorial_08')\n",
    "if not os.path.exists(testfolder):\n",
    "    os.makedirs(testfolder)\n",
    "\n",
    "simulationName = 'tutorial_8'\n",
    "moduletype = \"PVmodule\"\n",
    "albedo = 0.25 \n",
    "lat = 37.5   \n",
    "lon = -77.6\n",
    "\n",
    "# Scene variables\n",
    "nMods = 20\n",
    "nRows = 7\n",
    "hub_height = 1.5 # meters\n",
    "gcr = 0.33\n",
    "\n",
    "# Traking parameters\n",
    "cumulativesky = False\n",
    "limit_angle = 60 \n",
    "angledelta = 0.01 \n",
    "backtrack = True \n",
    "\n",
    "#makeModule parameters\n",
    "x = 1\n",
    "y = 2\n",
    "xgap = 0.01\n",
    "zgap = 0.05\n",
    "ygap = 0.0  # numpanels=1 anyways so it doesnt matter anyway\n",
    "numpanels = 1\n",
    "axisofrotationTorqueTube = True\n",
    "diameter = 0.1\n",
    "tubetype = 'Oct'    \n",
    "material = 'black'\n",
    "tubeParams = {'diameter':diameter,\n",
    "              'tubetype':tubetype,\n",
    "              'material':material,\n",
    "              'axisofrotation':axisofrotationTorqueTube,\n",
    "              'visible':True}\n",
    "\n",
    "# Analysis parmaeters\n",
    "startdate = '11_06_08'       # Options: mm_dd, mm_dd_HH, mm_dd_HHMM, YYYY-mm-dd_HHMM\n",
    "enddate = '11_06_10'\n",
    "sensorsy = 12\n",
    "\n",
    "demo = bifacial_radiance.RadianceObj(simulationName, path=testfolder)  \n",
    "demo.setGround(albedo) \n",
    "epwfile = demo.getEPW(lat,lon) \n",
    "metdata = demo.readWeatherFile(epwfile, starttime=startdate, endtime=enddate) \n",
    "mymodule = demo.makeModule(name=moduletype, x=x, y=y, xgap=xgap,\n",
    "                           ygap = ygap, zgap=zgap, numpanels=numpanels, tubeParams=tubeParams)\n",
    "pitch = mymodule.sceney/gcr\n",
    "sceneDict = {'pitch':pitch,'hub_height':hub_height, 'nMods': nMods, 'nRows': nRows}  \n",
    "demo.set1axis(limit_angle = limit_angle, backtrack = backtrack, gcr = gcr, cumulativesky = cumulativesky)\n",
    "demo.gendaylit1axis()\n",
    "demo.makeScene1axis(module=mymodule, sceneDict=sceneDict) \n",
    "demo.makeOct1axis()\n",
    "demo.analysis1axis(sensorsy = sensorsy);"
   ]
  },
  {
   "cell_type": "markdown",
   "metadata": {},
   "source": [
    "<a id='step2'></a>"
   ]
  },
  {
   "cell_type": "markdown",
   "metadata": {},
   "source": [
    "### 2. Do mismatch analysis on the results\n",
    "\n",
    "There are various things that we need to know about the module at this stage.\n",
    "\n",
    "* Orientation: If it was simulated in portrait or landscape orientation. \n",
    "* Number of cells in the module: options right now are 72 or 96\n",
    "* Bifaciality factor: this is how well the rear of the module performs compared to the front of the module, and is a spec usually found in the datasheet. \n",
    "\n",
    "Also, if the number of sampling points (`sensorsy`) from the result files does not match the number of cells along the panel orientation, downsampling or upsamplinb will be peformed. For this example, the module is in portrait mode (y > x), so there will be 12 cells along the collector width (**numcellsy**), and that's why we set **sensorsy = 12** during the analysis above. \n",
    "\n",
    "These are the re-sampling options. To downsample, we suggest sensorsy >> numcellsy (for example, we've tested sensorsy = 100,120 and 200)\n",
    "    - Downsamping by Center - Find the center points of all the sensors passed \n",
    "    - Downsampling by Average - averages irradiances that fall on what would consist on the cell\n",
    "    - Upsample\n"
   ]
  },
  {
   "cell_type": "code",
   "execution_count": 3,
   "metadata": {},
   "outputs": [
    {
     "name": "stdout",
     "output_type": "stream",
     "text": [
      "3 files in the directory\n",
      "Same number of sensorsy and cellsy for your module.\n",
      "Saved Results to  Mismatch_Results.csv\n",
      "Your hourly mismatch values are now saved in the file above! :D\n"
     ]
    }
   ],
   "source": [
    "resultfolder = os.path.join(testfolder, 'results')\n",
    "writefiletitle = \"Mismatch_Results.csv\" \n",
    "\n",
    "portraitorlandscape='portrait' # Options are 'portrait' or 'landscape'\n",
    "bififactor=0.9 # Bifaciality factor DOES matter now, as the rear irradiance values will be multiplied by this factor.\n",
    "numcells= 72# Options are 72 or 96 at the moment.\n",
    "downsamplingmethod = 'byCenter' # Options are 'byCenter' or 'byAverage'.\n",
    "bifacial_radiance.mismatch.analysisIrradianceandPowerMismatch(testfolder=resultfolder, writefiletitle=writefiletitle, portraitorlandscape=portraitorlandscape, \n",
    "                                                              bififactor=bififactor, numcells=numcells)\n",
    "\n",
    "print (\"Your hourly mismatch values are now saved in the file above! :D\")"
   ]
  },
  {
   "cell_type": "markdown",
   "metadata": {},
   "source": [
    "<div class=\"alert alert-warning\">\n",
    "We hope to add more content to this journal for next release so check back! Particularly how to use the Mad_fn to make the mismatch calculation faster, as per the proceedings and publication above!\n",
    "</div>"
   ]
  }
 ],
 "metadata": {
  "kernelspec": {
   "display_name": "Python 3 (ipykernel)",
   "language": "python",
   "name": "python3"
  },
  "language_info": {
   "codemirror_mode": {
    "name": "ipython",
    "version": 3
   },
   "file_extension": ".py",
   "mimetype": "text/x-python",
   "name": "python",
   "nbconvert_exporter": "python",
   "pygments_lexer": "ipython3",
   "version": "3.9.12"
  }
 },
 "nbformat": 4,
 "nbformat_minor": 4
}
