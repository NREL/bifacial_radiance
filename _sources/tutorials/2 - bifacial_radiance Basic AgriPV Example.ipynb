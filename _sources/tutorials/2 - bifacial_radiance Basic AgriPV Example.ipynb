{
 "cells": [
  {
   "cell_type": "markdown",
   "metadata": {},
   "source": [
    "# 2 - bifacial_radiance Basic AgriPV Example\n",
    "\n",
    "\n",
    "This journal shows how to model an AgriPV site, calculating the irradiance not only on the modules but also the irradiance received by the ground to evaluate available solar ersource for plants. \n",
    "\n",
    "We assume that `bifacia_radiance` and `radiance` are properly installed.\n",
    "\n",
    "These journal outlines 4 useful uses of bifacial_radiance and some tricks: \n",
    "\n",
    "* Creating the modules in the AgriPV site\n",
    "* Adding extra geometry for the pillars/posts supporting the AgriPV site\n",
    "* Hacking the sensors to sample the ground irradiance and create irradiance map\n",
    "* Adding object to simulate variations in ground albedo from different crops between rows.\n",
    "\n",
    "\n",
    "#### Steps:\n",
    "\n",
    "1. <a href='#step1'> Generate the geometry </a>\n",
    "2. <a href='#step2'> Analyse the Ground Irradiance </a>\n",
    "3. <a href='#step3'> Analyse and Map the Ground Irradiance </a>\n",
    "4. <a href='#step4'> Adding different Albedo Section </a>\n",
    "    \n",
    "#### Preview of what we will create: \n",
    "    \n",
    "![Another view](images/AgriPV_2.PNG)\n",
    "![AgriPV Image We will create](images/AgriPV_1.PNG)\n",
    "And this is how it will look like:\n",
    "\n",
    "![AgriPV modeled step 4](images/AgriPV_step4.PNG)\n",
    "\n"
   ]
  },
  {
   "cell_type": "markdown",
   "metadata": {},
   "source": [
    "## 0. Setup "
   ]
  },
  {
   "cell_type": "code",
   "execution_count": null,
   "metadata": {},
   "outputs": [],
   "source": [
    "%%bash\n",
    "wget https://github.com/LBNL-ETA/Radiance/releases/download/012cb178/Radiance_012cb178_Linux.zip -O radiance.zip\n",
    "unzip radiance.zip\n",
    "tar -xvf radiance-5.3.012cb17835-Linux.tar.gz;"
   ]
  },
  {
   "cell_type": "code",
   "execution_count": null,
   "metadata": {},
   "outputs": [],
   "source": [
    "!pip install git+https://github.com/NREL/bifacial_radiance.git@development"
   ]
  },
  {
   "cell_type": "code",
   "execution_count": null,
   "metadata": {},
   "outputs": [],
   "source": [
    "#!cp -r radiance-5.3.012cb17835-Linux/usr/local/radiance/bin/* /usr/local/bin\n",
    "#!cp -r radiance-5.3.012cb17835-Linux/usr/local/radiance/lib/* /usr/local/lib\n",
    "#!rm -r radiance*"
   ]
  },
  {
   "cell_type": "code",
   "execution_count": null,
   "metadata": {},
   "outputs": [],
   "source": [
    "import os\n",
    "os.environ['PATH'] += \":radiance-5.3.012cb17835-Linux/usr/local/radiance/bin\"\n",
    "os.environ['LIBRARYPATH'] += \":radiance-5.3.012cb17835-Linux/usr/local/radiance/lib\"\n",
    "os.environ['RAYPATH'] = \":radiance-5.3.012cb17835-Linux/usr/local/radiance/lib\""
   ]
  },
  {
   "cell_type": "markdown",
   "metadata": {},
   "source": [
    "## 1. Create bifacial_radiance object"
   ]
  },
  {
   "cell_type": "code",
   "execution_count": 1,
   "metadata": {},
   "outputs": [],
   "source": [
    "import bifacial_radiance as br\n",
    "import numpy as np\n",
    "import pandas as pd"
   ]
  },
  {
   "cell_type": "code",
   "execution_count": 2,
   "metadata": {},
   "outputs": [
    {
     "name": "stdout",
     "output_type": "stream",
     "text": [
      "Working on a  Windows 10\n",
      "Python version  3.11.4 | packaged by Anaconda, Inc. | (main, Jul  5 2023, 13:38:37) [MSC v.1916 64 bit (AMD64)]\n",
      "Pandas version  2.1.0\n",
      "bifacial_radiance version  0.4.2+223.g58332d6.dirty\n"
     ]
    }
   ],
   "source": [
    "# This information helps with debugging and getting support :)\n",
    "import sys, platform\n",
    "print(\"Working on a \", platform.system(), platform.release())\n",
    "print(\"Python version \", sys.version)\n",
    "print(\"Pandas version \", pd.__version__)\n",
    "print(\"bifacial_radiance version \", br.__version__)"
   ]
  },
  {
   "cell_type": "code",
   "execution_count": 3,
   "metadata": {},
   "outputs": [
    {
     "name": "stdout",
     "output_type": "stream",
     "text": [
      "Your simulation will be stored in TEMP\n"
     ]
    }
   ],
   "source": [
    "import os\n",
    "from pathlib import Path\n",
    "\n",
    "testfolder = 'TEMP'\n",
    "\n",
    "if not os.path.exists(testfolder):\n",
    "    os.makedirs(testfolder)\n",
    "    \n",
    "print (\"Your simulation will be stored in %s\" % testfolder)"
   ]
  },
  {
   "cell_type": "code",
   "execution_count": 4,
   "metadata": {},
   "outputs": [
    {
     "name": "stdout",
     "output_type": "stream",
     "text": [
      "path = TEMP\n"
     ]
    }
   ],
   "source": [
    "demo = br.RadianceObj('AgriPV_example',path = testfolder)  "
   ]
  },
  {
   "cell_type": "markdown",
   "metadata": {},
   "source": [
    "### Download and read the weather data"
   ]
  },
  {
   "cell_type": "code",
   "execution_count": 5,
   "metadata": {},
   "outputs": [
    {
     "name": "stdout",
     "output_type": "stream",
     "text": [
      "Getting weather file: ARE_Abu.Dhabi.412170_IWEC.epw\n",
      " ... OK!\n",
      "8760 line in WeatherFile. Assuming this is a standard hourly WeatherFile for the year for purposes of saving Gencumulativesky temporary weather files in EPW folder.\n",
      "Coercing year to 2023\n",
      "Filtering dates\n",
      "Saving file EPWs\\metdata_temp.csv, # points: 8760\n",
      "Calculating Sun position for Metdata that is right-labeled  with a delta of -30 mins. i.e. 12 is 11:30 sunpos\n"
     ]
    }
   ],
   "source": [
    "#Valid options: mm_dd, mm_dd_HH, mm_dd_HHMM, YYYY-mm-dd_HHMM\n",
    "epwfile = demo.getEPW(25.2854, 51.5310) # Doha!\n",
    "metdata = demo.readWeatherFile(epwfile, coerce_year=2023, starttime='2023-12-04', endtime='2023-12-04')"
   ]
  },
  {
   "cell_type": "markdown",
   "metadata": {},
   "source": [
    "### Set the albedom"
   ]
  },
  {
   "cell_type": "code",
   "execution_count": 6,
   "metadata": {},
   "outputs": [
    {
     "name": "stdout",
     "output_type": "stream",
     "text": [
      " Assigned Albedo from metdata.albedo\n",
      "Loading albedo, 11 value(s), 0.000 avg\n",
      "0 nonzero albedo values.\n"
     ]
    }
   ],
   "source": [
    "demo.setGround() # You can pass a value for  fixed value, or empty it will grab the albedo column from the weatherdata "
   ]
  },
  {
   "cell_type": "markdown",
   "metadata": {},
   "source": [
    "### Make the module"
   ]
  },
  {
   "cell_type": "markdown",
   "metadata": {},
   "source": [
    "![AgriPV modeled step 4](images/spacing_between_modules.PNG)"
   ]
  },
  {
   "cell_type": "code",
   "execution_count": 7,
   "metadata": {},
   "outputs": [
    {
     "name": "stdout",
     "output_type": "stream",
     "text": [
      "\n",
      "Module Name: 3-up-collector\n",
      "Module 3-up-collector updated in module.json\n",
      "Pre-existing .rad file objects\\3-up-collector.rad will be overwritten\n",
      "\n"
     ]
    }
   ],
   "source": [
    "# MakeModule Parameters\n",
    "modulename='3-up-collector'\n",
    "numpanels = 3  # AgriPV site has 3 modules along the y direction\n",
    "module_x = 2 # m\n",
    "module_y = 1 # m. slope we will measure x>y landscape.\n",
    "ygap = 0.03 # m\n",
    "xgap = 1.5 # m\n",
    "zgap = 0.1 # m\n",
    "\n",
    "# TorqueTube Parameters\n",
    "tubetype='square' # Other options: 'square' , 'hex'\n",
    "material = 'Metal_Grey' # Other options: 'black'\n",
    "diameter = 0.1 # m\n",
    "axisofrotationTorqueTube = False\n",
    "zgap = 0.05 # m\n",
    "visible = True \n",
    "\n",
    "#Add torquetube \n",
    "tubeParams = {'tubetype':tubetype,\n",
    "              'diameter':diameter,\n",
    "              'material':material,\n",
    "              'axisofrotation':False,\n",
    "              'visible':True}\n",
    "\n",
    "module=demo.makeModule(name=modulename,x=module_x,y=module_y,numpanels=numpanels, \n",
    "                       xgap=xgap, ygap=ygap, zgap=zgap, tubeParams=tubeParams)"
   ]
  },
  {
   "cell_type": "markdown",
   "metadata": {},
   "source": [
    "### Make the Sky"
   ]
  },
  {
   "cell_type": "code",
   "execution_count": 9,
   "metadata": {},
   "outputs": [
    {
     "data": {
      "text/plain": [
       "'skies\\\\sky2_24.43_54.65_2023-12-04_1300.rad'"
      ]
     },
     "execution_count": 9,
     "metadata": {},
     "output_type": "execute_result"
    }
   ],
   "source": [
    "timeindex = metdata.datetime.index(pd.to_datetime('2023-12-04 13:00:0 +4'))  # Make this timezone aware, use -5 for EST.\n",
    "demo.gendaylit(timeindex)  "
   ]
  },
  {
   "cell_type": "markdown",
   "metadata": {},
   "source": [
    "### Make the Scene"
   ]
  },
  {
   "cell_type": "code",
   "execution_count": 10,
   "metadata": {},
   "outputs": [],
   "source": [
    "# Scene Parameters:\n",
    "azimuth_ang=90 # Facing south\n",
    "tilt = 20 # tilt.\n",
    "pitch = 7 # m\n",
    "albedo = 0.2  # 'grass'     # ground albedo\n",
    "clearance_height = 2.5 # m  \n",
    "nMods = 5 # six modules per row.\n",
    "nRows = 3  # 3 row\n",
    "\n",
    "sceneDict = {'tilt':tilt,'pitch': pitch,'clearance_height':clearance_height,'azimuth':azimuth_ang, \n",
    "             'nMods': nMods, 'nRows': nRows}  \n",
    "\n",
    "scene = demo.makeScene(module=modulename, sceneDict=sceneDict) "
   ]
  },
  {
   "cell_type": "markdown",
   "metadata": {},
   "source": [
    "### Put it all together"
   ]
  },
  {
   "cell_type": "code",
   "execution_count": 11,
   "metadata": {},
   "outputs": [
    {
     "name": "stdout",
     "output_type": "stream",
     "text": [
      "Created AgriPV_example.oct\n"
     ]
    }
   ],
   "source": [
    "octfile = demo.makeOct()"
   ]
  },
  {
   "cell_type": "markdown",
   "metadata": {},
   "source": [
    "If desired, you can view the Oct file at this point:\n",
    "\n",
    "***rvu -vf views\\front.vp -e .01 tutorial_1.oct***"
   ]
  },
  {
   "cell_type": "code",
   "execution_count": 12,
   "metadata": {},
   "outputs": [],
   "source": [
    "## Comment the ! line below to run rvu from the Jupyter notebook instead of your terminal.\n",
    "## Simulation will stop until you close the rvu window\n",
    "\n",
    "# !rvu -vf views\\front.vp -e .01 tutorial_1.oct"
   ]
  },
  {
   "cell_type": "markdown",
   "metadata": {},
   "source": [
    "And adjust the view parameters, you should see this image.\n",
    "\n",
    "![AgriPV modeled step 1](images/AgriPV_step1.PNG)\n"
   ]
  },
  {
   "cell_type": "markdown",
   "metadata": {},
   "source": [
    "### Analyze the Panel"
   ]
  },
  {
   "cell_type": "code",
   "execution_count": 13,
   "metadata": {},
   "outputs": [],
   "source": [
    "analysis = br.AnalysisObj(octfile, demo.name)  \n",
    "frontscan, backscan = analysis.moduleAnalysis(scene, sensorsy=3, modWanted=1, rowWanted=2) "
   ]
  },
  {
   "cell_type": "code",
   "execution_count": 14,
   "metadata": {},
   "outputs": [
    {
     "name": "stdout",
     "output_type": "stream",
     "text": [
      "Linescan in process: _modulescan_Row2_Module1_Front\n",
      "Linescan in process: _modulescan_Row2_Module1_Back\n",
      "Saved: results\\irr__modulescan_Row2_Module1.csv\n"
     ]
    }
   ],
   "source": [
    "moduleresultsfront, moduleresultsback = analysis.analysis(octfile, \"_modulescan\", frontscan, backscan)  # compare the back vs front irradiance"
   ]
  },
  {
   "cell_type": "markdown",
   "metadata": {},
   "source": [
    "### Analyze the Ground "
   ]
  },
  {
   "cell_type": "code",
   "execution_count": 15,
   "metadata": {},
   "outputs": [],
   "source": [
    "sensorsground = 5\n",
    "frontscan, backscan, groundscan = analysis.moduleAnalysis(scene, sensorsy=3, sensorsground = 2) "
   ]
  },
  {
   "cell_type": "code",
   "execution_count": 16,
   "metadata": {},
   "outputs": [
    {
     "name": "stdout",
     "output_type": "stream",
     "text": [
      "Linescan in process: _groundscan_Row2_Module3_Front\n",
      "Linescan in process: _groundscan_Row2_Module3_Back\n",
      "Saved: results\\irr__groundscan_Row2_Module3_Front.csv\n",
      "Saved: results\\irr__groundscan_Row2_Module3_Back.csv\n"
     ]
    }
   ],
   "source": [
    "groundresults, moduleresultsback = analysis.analysis(octfile, \"_groundscan\", groundscan, backscan)  # compare the back vs front irradiance  "
   ]
  }
 ],
 "metadata": {
  "kernelspec": {
   "display_name": "Python 3 (ipykernel)",
   "language": "python",
   "name": "python3"
  },
  "language_info": {
   "codemirror_mode": {
    "name": "ipython",
    "version": 3
   },
   "file_extension": ".py",
   "mimetype": "text/x-python",
   "name": "python",
   "nbconvert_exporter": "python",
   "pygments_lexer": "ipython3",
   "version": "3.11.4"
  },
  "vscode": {
   "interpreter": {
    "hash": "14c04630f1cd445b2532d35c77825134bfcafda47af70d0b9c2b5023b1f357a5"
   }
  }
 },
 "nbformat": 4,
 "nbformat_minor": 2
}
