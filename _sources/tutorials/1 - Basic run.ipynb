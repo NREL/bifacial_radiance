{
 "cells": [
  {
   "cell_type": "markdown",
   "metadata": {},
   "source": [
    "# 1 - Basics run\n",
    "\n",
    "**Objectives:**\n",
    "1. Create a fixed tilt system \n",
    "2. Sample the Ground\n",
    "3. Generate plots "
   ]
  },
  {
   "cell_type": "markdown",
   "metadata": {},
   "source": [
    "## 1. Setup and Create PV ICE Simulation Object"
   ]
  },
  {
   "cell_type": "code",
   "execution_count": null,
   "metadata": {},
   "outputs": [],
   "source": [
    "%%bash\n",
    "wget https://github.com/LBNL-ETA/Radiance/releases/download/012cb178/Radiance_012cb178_Linux.zip -O radiance.zip\n",
    "unzip radiance.zip\n",
    "tar -xvf radiance-5.3.012cb17835-Linux.tar.gz\n",
    "#ls -l $PWD"
   ]
  },
  {
   "cell_type": "code",
   "execution_count": null,
   "metadata": {},
   "outputs": [],
   "source": [
    "!pip install git+https://github.com/NREL/bifacial_radiance.git@development"
   ]
  },
  {
   "cell_type": "code",
   "execution_count": null,
   "metadata": {},
   "outputs": [],
   "source": [
    "cp -r radiance-5.3.012cb17835-Linux/usr/local/radiance/bin/* /usr/local/bin\n",
    "rm radiance*"
   ]
  },
  {
   "cell_type": "code",
   "execution_count": null,
   "metadata": {},
   "outputs": [],
   "source": [
    "import bifacial_radiance as br\n",
    "import numpy as np\n",
    "import pandas as pd"
   ]
  },
  {
   "cell_type": "code",
   "execution_count": null,
   "metadata": {},
   "outputs": [],
   "source": [
    "# This information helps with debugging and getting support :)\n",
    "import sys, platform\n",
    "print(\"Working on a \", platform.system(), platform.release())\n",
    "print(\"Python version \", sys.version)\n",
    "print(\"Pandas version \", pd.__version__)\n",
    "print(\"bifacial_radiance version \", br.__version__)"
   ]
  },
  {
   "cell_type": "code",
   "execution_count": null,
   "metadata": {},
   "outputs": [],
   "source": [
    "import os\n",
    "from pathlib import Path\n",
    "\n",
    "testfolder = 'TEMP'\n",
    "\n",
    "if not os.path.exists(testfolder):\n",
    "    os.makedirs(testfolder)\n",
    "    \n",
    "print (\"Your simulation will be stored in %s\" % testfolder)"
   ]
  },
  {
   "cell_type": "code",
   "execution_count": null,
   "metadata": {},
   "outputs": [],
   "source": [
    "simulationname = 'tutorial_1'\n",
    "\n",
    "# Location:\n",
    "lat = 39.7407 # ° N, \n",
    "lon = -105.1686 # ° W\n",
    "\n",
    "\n",
    "# Scene Parameters:\n",
    "azimuth_ang=90 # Facing south\n",
    "tilt = 30 # tilt.\n",
    "\n",
    "# MakeModule Parameters\n",
    "moduletype='test-module'\n",
    "numpanels = 1  # AgriPV site has 3 modules along the y direction\n",
    "module_x = 2 # m\n",
    "module_y = 1 # m. slope we will measure\n",
    "sensorsy=2\n",
    "sensorsground=5\n",
    "\n",
    "# SceneDict Parameters\n",
    "pitch = 6 # m\n",
    "albedo = 0.2  #'grass'     # ground albedo\n",
    "clearance_height = 0.5 # m  \n",
    "nMods = 4 # six modules per row.\n",
    "nRows = 3  # 3 row\n"
   ]
  },
  {
   "cell_type": "code",
   "execution_count": null,
   "metadata": {},
   "outputs": [],
   "source": [
    "demo = br.RadianceObj(simulationname,path = testfolder)  \n",
    "demo.setGround(albedo) \n",
    "epwfile = demo.getEPW(lat, lon) # NJ lat/lon 40.0583° N, 74.4057\n"
   ]
  },
  {
   "cell_type": "code",
   "execution_count": null,
   "metadata": {},
   "outputs": [],
   "source": [
    "module=demo.makeModule(name=moduletype,x=module_x,y=module_y)"
   ]
  },
  {
   "cell_type": "code",
   "execution_count": null,
   "metadata": {},
   "outputs": [],
   "source": [
    "#Valid options: mm_dd, mm_dd_HH, mm_dd_HHMM, YYYY-mm-dd_HHMM\n",
    "metdata = demo.readWeatherFile(epwfile, coerce_year=2021, starttime='2021-06-01', endtime='2021-06-30')"
   ]
  },
  {
   "cell_type": "code",
   "execution_count": null,
   "metadata": {},
   "outputs": [],
   "source": [
    "demo.genCumSky()  \n",
    "#demo.gendaylit(timeindex=0)  "
   ]
  },
  {
   "cell_type": "code",
   "execution_count": null,
   "metadata": {},
   "outputs": [],
   "source": [
    "sceneDict = {'tilt':tilt,'pitch': pitch,'clearance_height':clearance_height,'azimuth':azimuth_ang, \n",
    "             'nMods': nMods, 'nRows': nRows}  \n",
    "scene = demo.makeScene(module=moduletype, sceneDict=sceneDict) \n"
   ]
  },
  {
   "cell_type": "code",
   "execution_count": null,
   "metadata": {},
   "outputs": [],
   "source": [
    "octfile = demo.makeOct()"
   ]
  },
  {
   "cell_type": "code",
   "execution_count": null,
   "metadata": {},
   "outputs": [],
   "source": [
    "analysis = br.AnalysisObj(octfile, demo.name)  \n",
    "frontscan, backscan, groundscan = analysis.moduleAnalysis(scene, sensorsy=sensorsy, sensorsground=sensorsground)\n"
   ]
  },
  {
   "cell_type": "code",
   "execution_count": null,
   "metadata": {},
   "outputs": [],
   "source": [
    "analysis.analysis(octfile, simulationname+\"_groundscan_East\", groundscan, backscan)  # compare the back vs front irradiance  "
   ]
  }
 ],
 "metadata": {
  "kernelspec": {
   "display_name": "Python 3 (ipykernel)",
   "language": "python",
   "name": "python3"
  },
  "language_info": {
   "codemirror_mode": {
    "name": "ipython",
    "version": 3
   },
   "file_extension": ".py",
   "mimetype": "text/x-python",
   "name": "python",
   "nbconvert_exporter": "python",
   "pygments_lexer": "ipython3",
   "version": "3.11.4"
  },
  "vscode": {
   "interpreter": {
    "hash": "14c04630f1cd445b2532d35c77825134bfcafda47af70d0b9c2b5023b1f357a5"
   }
  }
 },
 "nbformat": 4,
 "nbformat_minor": 2
}
